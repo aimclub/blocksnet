{
 "cells": [
  {
   "cell_type": "code",
   "execution_count": 1,
   "metadata": {
    "collapsed": false,
    "pycharm": {
     "name": "#%%\n"
    }
   },
   "outputs": [],
   "source": [
    "from balancer import MasterPlan"
   ]
  },
  {
   "cell_type": "code",
   "execution_count": 2,
   "metadata": {
    "collapsed": false,
    "pycharm": {
     "name": "#%%\n"
    }
   },
   "outputs": [],
   "source": [
    "example_block = {'block_id': 2157,\n",
    "                 'area': 269.91357042657916,\n",
    "                 'current_living_area': 14.3349511,\n",
    "                 'current_industrial_area': 10.115001506,\n",
    "                 'current_population': 28909,\n",
    "                 'current_green_area': 24.4459,\n",
    "                 'floors': 5,\n",
    "                 'population_unprov_schools': 10,\n",
    "                 'population_unprov_kindergartens': 20,\n",
    "                 'population_unprov_recreational_areas': 30}"
   ]
  },
  {
   "cell_type": "code",
   "execution_count": 3,
   "metadata": {
    "collapsed": false,
    "pycharm": {
     "name": "#%%\n"
    }
   },
   "outputs": [],
   "source": [
    "mp = MasterPlan(area=example_block['area'],\n",
    "                current_living_area=example_block['current_living_area'],\n",
    "                current_industrial_area=example_block['current_industrial_area'],\n",
    "                current_population=example_block['current_population'],\n",
    "                current_green_area=example_block['current_green_area'],\n",
    "                current_unprov_schoolkids=example_block['population_unprov_schools'],\n",
    "                current_unprov_kids=example_block['population_unprov_kindergartens'],\n",
    "                current_unprov_green_population=example_block['population_unprov_recreational_areas'])"
   ]
  },
  {
   "cell_type": "code",
   "execution_count": 4,
   "metadata": {
    "collapsed": false,
    "pycharm": {
     "name": "#%%\n"
    }
   },
   "outputs": [
    {
     "data": {
      "text/plain": [
       "{'area': 269.91357042657916,\n",
       " 'population': 54041,\n",
       " 'b': 24.000000000000004,\n",
       " 'green_coef_G': 9.0,\n",
       " 'living_area': 74.65175110000001,\n",
       " 'school_area': 5.4,\n",
       " 'school_capacity': 3300,\n",
       " 'kindergarten_area': 5.5,\n",
       " 'kindergarten_capacity': 1400,\n",
       " 'green_area': 47.0917,\n",
       " 'G_min_capacity': 78486.16666666667,\n",
       " 'G_max_capacity': 39243.083333333336,\n",
       " 'green_coef_G_capacity': 52324.11111111112,\n",
       " 'op_area': 0.075396,\n",
       " 'parking1_area': 18.999792000000003,\n",
       " 'parking2_area': 18.47202}"
      ]
     },
     "execution_count": 4,
     "metadata": {},
     "output_type": "execute_result"
    }
   ],
   "source": [
    "mp.optimal_solution_indicators()"
   ]
  },
  {
   "cell_type": "code",
   "execution_count": 4,
   "metadata": {
    "pycharm": {
     "name": "#%%\n"
    }
   },
   "outputs": [],
   "source": []
  }
 ],
 "metadata": {
  "kernelspec": {
   "display_name": "Python 3.10.8 ('venv': venv)",
   "language": "python",
   "name": "python3"
  },
  "language_info": {
   "codemirror_mode": {
    "name": "ipython",
    "version": 3
   },
   "file_extension": ".py",
   "mimetype": "text/x-python",
   "name": "python",
   "nbconvert_exporter": "python",
   "pygments_lexer": "ipython3",
   "version": "3.10.8"
  },
  "vscode": {
   "interpreter": {
    "hash": "5511ca7be13fa0c58fa871a9f402572cdcf7009d10887ee8f011dc5b17b36305"
   }
  }
 },
 "nbformat": 4,
 "nbformat_minor": 0
}
