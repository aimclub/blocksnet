{
 "cells": [
  {
   "cell_type": "code",
   "execution_count": 1,
   "metadata": {},
   "outputs": [
    {
     "name": "stderr",
     "output_type": "stream",
     "text": [
      "/usr/local/lib/python3.8/dist-packages/geopandas/_compat.py:112: UserWarning: The Shapely GEOS version (3.10.3-CAPI-1.16.1) is incompatible with the GEOS version PyGEOS was compiled with (3.10.1-CAPI-1.16.0). Conversions between both will be slow.\n",
      "  warnings.warn(\n"
     ]
    }
   ],
   "source": [
    "import geopandas as gpd\n",
    "import pandas as pd"
   ]
  },
  {
   "cell_type": "code",
   "execution_count": 2,
   "metadata": {},
   "outputs": [],
   "source": [
    "import pandas as pd\n",
    "import geopandas as gpd\n",
    "import psycopg2 as pg\n",
    "\n",
    "engine = pg.connect(\"dbname='city_db_final' user='postgres' host='10.32.1.107' port='5432' password='postgres'\")"
   ]
  },
  {
   "cell_type": "code",
   "execution_count": 4,
   "metadata": {},
   "outputs": [
    {
     "name": "stderr",
     "output_type": "stream",
     "text": [
      "/usr/local/lib/python3.8/dist-packages/geopandas/io/sql.py:154: UserWarning: pandas only supports SQLAlchemy connectable (engine/connection) or database string URI or sqlite3 DBAPI2 connection. Other DBAPI2 objects are not tested. Please consider using SQLAlchemy.\n",
      "  df = pd.read_sql(\n"
     ]
    },
    {
     "data": {
      "text/html": [
       "<div>\n",
       "<style scoped>\n",
       "    .dataframe tbody tr th:only-of-type {\n",
       "        vertical-align: middle;\n",
       "    }\n",
       "\n",
       "    .dataframe tbody tr th {\n",
       "        vertical-align: top;\n",
       "    }\n",
       "\n",
       "    .dataframe thead th {\n",
       "        text-align: right;\n",
       "    }\n",
       "</style>\n",
       "<table border=\"1\" class=\"dataframe\">\n",
       "  <thead>\n",
       "    <tr style=\"text-align: right;\">\n",
       "      <th></th>\n",
       "      <th>id</th>\n",
       "      <th>is_living</th>\n",
       "      <th>geom</th>\n",
       "    </tr>\n",
       "  </thead>\n",
       "  <tbody>\n",
       "    <tr>\n",
       "      <th>0</th>\n",
       "      <td>139</td>\n",
       "      <td>True</td>\n",
       "      <td>POLYGON ((29.44245 60.17572, 29.44251 60.17583...</td>\n",
       "    </tr>\n",
       "    <tr>\n",
       "      <th>1</th>\n",
       "      <td>140</td>\n",
       "      <td>False</td>\n",
       "      <td>POLYGON ((29.44700 60.17441, 29.44705 60.17450...</td>\n",
       "    </tr>\n",
       "    <tr>\n",
       "      <th>2</th>\n",
       "      <td>141</td>\n",
       "      <td>False</td>\n",
       "      <td>POLYGON ((29.44877 60.17674, 29.44878 60.17686...</td>\n",
       "    </tr>\n",
       "    <tr>\n",
       "      <th>3</th>\n",
       "      <td>142</td>\n",
       "      <td>False</td>\n",
       "      <td>POLYGON ((29.44937 60.17730, 29.44961 60.17731...</td>\n",
       "    </tr>\n",
       "    <tr>\n",
       "      <th>4</th>\n",
       "      <td>143</td>\n",
       "      <td>True</td>\n",
       "      <td>POLYGON ((29.45236 60.17775, 29.45289 60.17811...</td>\n",
       "    </tr>\n",
       "    <tr>\n",
       "      <th>...</th>\n",
       "      <td>...</td>\n",
       "      <td>...</td>\n",
       "      <td>...</td>\n",
       "    </tr>\n",
       "    <tr>\n",
       "      <th>152795</th>\n",
       "      <td>254350</td>\n",
       "      <td>False</td>\n",
       "      <td>POLYGON ((30.37816 60.06418, 30.37949 60.06579...</td>\n",
       "    </tr>\n",
       "    <tr>\n",
       "      <th>152796</th>\n",
       "      <td>1152822</td>\n",
       "      <td>False</td>\n",
       "      <td>POLYGON ((30.27115 59.91783, 30.27125 59.91781...</td>\n",
       "    </tr>\n",
       "    <tr>\n",
       "      <th>152797</th>\n",
       "      <td>1152862</td>\n",
       "      <td>False</td>\n",
       "      <td>POLYGON ((30.38616 59.97335, 30.38676 59.97333...</td>\n",
       "    </tr>\n",
       "    <tr>\n",
       "      <th>152798</th>\n",
       "      <td>1152894</td>\n",
       "      <td>False</td>\n",
       "      <td>POLYGON ((30.26581 59.91725, 30.26587 59.91725...</td>\n",
       "    </tr>\n",
       "    <tr>\n",
       "      <th>152799</th>\n",
       "      <td>1152902</td>\n",
       "      <td>False</td>\n",
       "      <td>POLYGON ((30.60838 59.73964, 30.60843 59.73933...</td>\n",
       "    </tr>\n",
       "  </tbody>\n",
       "</table>\n",
       "<p>152800 rows × 3 columns</p>\n",
       "</div>"
      ],
      "text/plain": [
       "             id  is_living                                               geom\n",
       "0           139       True  POLYGON ((29.44245 60.17572, 29.44251 60.17583...\n",
       "1           140      False  POLYGON ((29.44700 60.17441, 29.44705 60.17450...\n",
       "2           141      False  POLYGON ((29.44877 60.17674, 29.44878 60.17686...\n",
       "3           142      False  POLYGON ((29.44937 60.17730, 29.44961 60.17731...\n",
       "4           143       True  POLYGON ((29.45236 60.17775, 29.45289 60.17811...\n",
       "...         ...        ...                                                ...\n",
       "152795   254350      False  POLYGON ((30.37816 60.06418, 30.37949 60.06579...\n",
       "152796  1152822      False  POLYGON ((30.27115 59.91783, 30.27125 59.91781...\n",
       "152797  1152862      False  POLYGON ((30.38616 59.97335, 30.38676 59.97333...\n",
       "152798  1152894      False  POLYGON ((30.26581 59.91725, 30.26587 59.91725...\n",
       "152799  1152902      False  POLYGON ((30.60838 59.73964, 30.60843 59.73933...\n",
       "\n",
       "[152800 rows x 3 columns]"
      ]
     },
     "execution_count": 4,
     "metadata": {},
     "output_type": "execute_result"
    }
   ],
   "source": [
    "df_buildings = gpd.read_postgis('select physical_object_id as id, is_living, geometry as geom from all_buildings where city_id=1', con=engine)\n",
    "df_buildings"
   ]
  },
  {
   "cell_type": "code",
   "execution_count": 5,
   "metadata": {},
   "outputs": [],
   "source": [
    "df_buildings.to_parquet('DF_BUILDINGS_POLY.parquet')"
   ]
  },
  {
   "cell_type": "code",
   "execution_count": 8,
   "metadata": {},
   "outputs": [],
   "source": [
    "# gdf = gpd.read_parquet('/home/gk/jupyter/DF_BUILDINGS.parquet')"
   ]
  },
  {
   "cell_type": "code",
   "execution_count": 6,
   "metadata": {},
   "outputs": [],
   "source": [
    "import numpy as np\n",
    "import geopandas as gpd\n",
    "import contextily as ctx\n",
    "import matplotlib.pyplot as plt\n",
    "from shapely.ops import cascaded_union\n",
    "from geovoronoi.plotting import subplot_for_map, plot_voronoi_polys_with_points_in_area\n",
    "from geovoronoi import voronoi_regions_from_coords, points_to_coords"
   ]
  },
  {
   "cell_type": "code",
   "execution_count": 7,
   "metadata": {},
   "outputs": [
    {
     "name": "stderr",
     "output_type": "stream",
     "text": [
      "2023-04-17 20:50:00.053 | INFO     | blocks_getter:_get_city_geometry:103 - City geometry is not provided. Getting water geometry from OSM via overpass turbo\n",
      "/home/gk/.local/lib/python3.8/site-packages/osm2geojson/main.py:514: ShapelyDeprecationWarning: Iteration over multi-part geometries is deprecated and will be removed in Shapely 2.0. Use the `geoms` property to access the constituent parts of a multi-part geometry.\n",
      "  for line in merged_line:\n",
      "2023-04-17 20:50:02.757 | INFO     | blocks_getter:_get_city_geometry:117 - Got city geometry\n"
     ]
    }
   ],
   "source": [
    "from blocks_getter import BlocksModel\n",
    "\n",
    "model = BlocksModel(city_crs=32636, city_admin_level=5, city_name='Санкт-Петербург')\n",
    "model._get_city_geometry()"
   ]
  },
  {
   "cell_type": "code",
   "execution_count": 8,
   "metadata": {},
   "outputs": [],
   "source": [
    "boundary = model.city_geometry"
   ]
  },
  {
   "cell_type": "code",
   "execution_count": 10,
   "metadata": {},
   "outputs": [],
   "source": [
    "df_buildings.dropna(subset='geom', inplace=True)"
   ]
  },
  {
   "cell_type": "code",
   "execution_count": null,
   "metadata": {},
   "outputs": [],
   "source": [
    "df_buildings = df_buildings."
   ]
  },
  {
   "cell_type": "code",
   "execution_count": 12,
   "metadata": {},
   "outputs": [],
   "source": [
    "df_buildings = df_buildings.to_crs(32636)"
   ]
  },
  {
   "cell_type": "code",
   "execution_count": 13,
   "metadata": {},
   "outputs": [],
   "source": [
    "b = gpd.sjoin(df_buildings, boundary, predicate='intersects')"
   ]
  },
  {
   "cell_type": "code",
   "execution_count": 14,
   "metadata": {},
   "outputs": [
    {
     "name": "stderr",
     "output_type": "stream",
     "text": [
      "/tmp/ipykernel_2139970/1585934383.py:1: ShapelyDeprecationWarning: The 'cascaded_union()' function is deprecated. Use 'unary_union()' instead.\n",
      "  boundary_shape = cascaded_union(boundary.geometry)\n"
     ]
    },
    {
     "ename": "NotImplementedError",
     "evalue": "Component rings have coordinate sequences, but the polygon does not",
     "output_type": "error",
     "traceback": [
      "\u001b[0;31m---------------------------------------------------------------------------\u001b[0m",
      "\u001b[0;31mNotImplementedError\u001b[0m                       Traceback (most recent call last)",
      "\u001b[1;32m/home/gk/jupyter/masterplanning/get_blocks/blocks_voron.ipynb Cell 13\u001b[0m in \u001b[0;36m<cell line: 2>\u001b[0;34m()\u001b[0m\n\u001b[1;32m      <a href='vscode-notebook-cell:/home/gk/jupyter/masterplanning/get_blocks/blocks_voron.ipynb#X10sZmlsZQ%3D%3D?line=0'>1</a>\u001b[0m boundary_shape \u001b[39m=\u001b[39m cascaded_union(boundary\u001b[39m.\u001b[39mgeometry)\n\u001b[0;32m----> <a href='vscode-notebook-cell:/home/gk/jupyter/masterplanning/get_blocks/blocks_voron.ipynb#X10sZmlsZQ%3D%3D?line=1'>2</a>\u001b[0m coords \u001b[39m=\u001b[39m points_to_coords(b\u001b[39m.\u001b[39;49mgeometry)\n",
      "File \u001b[0;32m~/.local/lib/python3.8/site-packages/geovoronoi/_voronoi.py:51\u001b[0m, in \u001b[0;36mpoints_to_coords\u001b[0;34m(pts)\u001b[0m\n\u001b[1;32m     42\u001b[0m \u001b[39mdef\u001b[39;00m \u001b[39mpoints_to_coords\u001b[39m(pts):\n\u001b[1;32m     43\u001b[0m     \u001b[39m\"\"\"\u001b[39;00m\n\u001b[1;32m     44\u001b[0m \u001b[39m    Convert a list of Shapely Point objects to a NumPy array of 2D coordinates `coords`.\u001b[39;00m\n\u001b[1;32m     45\u001b[0m \n\u001b[0;32m   (...)\u001b[0m\n\u001b[1;32m     49\u001b[0m \u001b[39m    :return: NumPy array of shape (N,2) with N coordinates in 2D space\u001b[39;00m\n\u001b[1;32m     50\u001b[0m \u001b[39m    \"\"\"\u001b[39;00m\n\u001b[0;32m---> 51\u001b[0m     \u001b[39mreturn\u001b[39;00m np\u001b[39m.\u001b[39marray([p\u001b[39m.\u001b[39mcoords[\u001b[39m0\u001b[39m] \u001b[39mfor\u001b[39;00m p \u001b[39min\u001b[39;00m pts])\n",
      "File \u001b[0;32m~/.local/lib/python3.8/site-packages/geovoronoi/_voronoi.py:51\u001b[0m, in \u001b[0;36m<listcomp>\u001b[0;34m(.0)\u001b[0m\n\u001b[1;32m     42\u001b[0m \u001b[39mdef\u001b[39;00m \u001b[39mpoints_to_coords\u001b[39m(pts):\n\u001b[1;32m     43\u001b[0m     \u001b[39m\"\"\"\u001b[39;00m\n\u001b[1;32m     44\u001b[0m \u001b[39m    Convert a list of Shapely Point objects to a NumPy array of 2D coordinates `coords`.\u001b[39;00m\n\u001b[1;32m     45\u001b[0m \n\u001b[0;32m   (...)\u001b[0m\n\u001b[1;32m     49\u001b[0m \u001b[39m    :return: NumPy array of shape (N,2) with N coordinates in 2D space\u001b[39;00m\n\u001b[1;32m     50\u001b[0m \u001b[39m    \"\"\"\u001b[39;00m\n\u001b[0;32m---> 51\u001b[0m     \u001b[39mreturn\u001b[39;00m np\u001b[39m.\u001b[39marray([p\u001b[39m.\u001b[39;49mcoords[\u001b[39m0\u001b[39m] \u001b[39mfor\u001b[39;00m p \u001b[39min\u001b[39;00m pts])\n",
      "File \u001b[0;32m~/.local/lib/python3.8/site-packages/shapely/geometry/polygon.py:333\u001b[0m, in \u001b[0;36mPolygon.coords\u001b[0;34m(self)\u001b[0m\n\u001b[1;32m    331\u001b[0m \u001b[39m@property\u001b[39m\n\u001b[1;32m    332\u001b[0m \u001b[39mdef\u001b[39;00m \u001b[39mcoords\u001b[39m(\u001b[39mself\u001b[39m):\n\u001b[0;32m--> 333\u001b[0m     \u001b[39mraise\u001b[39;00m \u001b[39mNotImplementedError\u001b[39;00m(\n\u001b[1;32m    334\u001b[0m     \u001b[39m\"\u001b[39m\u001b[39mComponent rings have coordinate sequences, but the polygon does not\u001b[39m\u001b[39m\"\u001b[39m)\n",
      "\u001b[0;31mNotImplementedError\u001b[0m: Component rings have coordinate sequences, but the polygon does not"
     ]
    }
   ],
   "source": [
    "boundary_shape = cascaded_union(boundary.geometry)\n",
    "coords = points_to_coords(b.geometry)"
   ]
  },
  {
   "cell_type": "code",
   "execution_count": null,
   "metadata": {},
   "outputs": [],
   "source": []
  },
  {
   "cell_type": "code",
   "execution_count": null,
   "metadata": {},
   "outputs": [],
   "source": [
    "poly_shapes, pts = voronoi_regions_from_coords(coords, boundary_shape)\n",
    "# poly_shapes, pts, poly_to_pt_assignments"
   ]
  },
  {
   "cell_type": "code",
   "execution_count": null,
   "metadata": {},
   "outputs": [],
   "source": [
    "gs = gpd.GeoSeries(poly_shapes)\n",
    "gdf = gpd.GeoDataFrame(gs, columns=[\"geometry\"])\n",
    "gdf.to_file(\"voronoi_2.geojson\")"
   ]
  },
  {
   "cell_type": "code",
   "execution_count": null,
   "metadata": {},
   "outputs": [],
   "source": [
    "import pickle\n",
    "\n",
    "with open('poly_shapes_2.pkl', 'wb') as f:\n",
    "    pickle.dump(poly_shapes, f)\n",
    "\n",
    "with open('pts_2.pkl', 'wb') as f:\n",
    "    pickle.dump(pts, f)"
   ]
  },
  {
   "cell_type": "code",
   "execution_count": null,
   "metadata": {},
   "outputs": [],
   "source": [
    "fig, ax = subplot_for_map()\n",
    "plot_voronoi_polys_with_points_in_area(ax, boundary_shape, poly_shapes, pts, poly_to_pt_assignments)\n",
    "ax.set_title('Voronoi regions of Schools in Uppsala')\n",
    "plt.tight_layout()\n",
    "plt.show()"
   ]
  }
 ],
 "metadata": {
  "kernelspec": {
   "display_name": "Python 3",
   "language": "python",
   "name": "python3"
  },
  "language_info": {
   "codemirror_mode": {
    "name": "ipython",
    "version": 3
   },
   "file_extension": ".py",
   "mimetype": "text/x-python",
   "name": "python",
   "nbconvert_exporter": "python",
   "pygments_lexer": "ipython3",
   "version": "3.8.10"
  },
  "orig_nbformat": 4
 },
 "nbformat": 4,
 "nbformat_minor": 2
}
