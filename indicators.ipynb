{
 "cells": [
  {
   "cell_type": "code",
   "execution_count": 7,
   "metadata": {},
   "outputs": [
    {
     "ename": "ModuleNotFoundError",
     "evalue": "No module named 'psycopg2'",
     "output_type": "error",
     "traceback": [
      "\u001b[0;31m---------------------------------------------------------------------------\u001b[0m",
      "\u001b[0;31mModuleNotFoundError\u001b[0m                       Traceback (most recent call last)",
      "Cell \u001b[0;32mIn[7], line 11\u001b[0m\n\u001b[1;32m      9\u001b[0m \u001b[39mimport\u001b[39;00m \u001b[39mjson\u001b[39;00m\n\u001b[1;32m     10\u001b[0m \u001b[39mfrom\u001b[39;00m \u001b[39mtqdm\u001b[39;00m \u001b[39mimport\u001b[39;00m tqdm\n\u001b[0;32m---> 11\u001b[0m \u001b[39mimport\u001b[39;00m \u001b[39mpsycopg2\u001b[39;00m \u001b[39mas\u001b[39;00m \u001b[39mpg\u001b[39;00m\n",
      "\u001b[0;31mModuleNotFoundError\u001b[0m: No module named 'psycopg2'"
     ]
    }
   ],
   "source": [
    "import folium\n",
    "import sys\n",
    "import os\n",
    "import pandas as pd\n",
    "import geopandas as gpd\n",
    "import numpy as np\n",
    "from geojson import Feature, Point, FeatureCollection\n",
    "import shapely\n",
    "import json\n",
    "from tqdm import tqdm\n",
    "import psycopg2 as pg\n",
    "\n",
    "\n",
    "\n",
    "\n",
    "\n",
    "\n",
    "\n",
    "\n",
    "\n"
   ]
  },
  {
   "cell_type": "code",
   "execution_count": null,
   "metadata": {},
   "outputs": [
    {
     "ename": "NameError",
     "evalue": "name 'json' is not defined",
     "output_type": "error",
     "traceback": [
      "\u001b[0;31m---------------------------------------------------------------------------\u001b[0m",
      "\u001b[0;31mNameError\u001b[0m                                 Traceback (most recent call last)",
      "Cell \u001b[0;32mIn[4], line 1\u001b[0m\n\u001b[0;32m----> 1\u001b[0m \u001b[39mdef\u001b[39;00m \u001b[39mget_masterplan\u001b[39m(schools, buildings, polygon: json, add_building: json, delet_building: \u001b[39mlist\u001b[39m[\u001b[39mint\u001b[39m]) \u001b[39m-\u001b[39m\u001b[39m>\u001b[39m json:\n\u001b[1;32m      3\u001b[0m \u001b[39m        \u001b[39m\u001b[39m\"\"\"The function calculates the indicators of the master plan for a certain territory.\u001b[39;00m\n\u001b[1;32m      4\u001b[0m \n\u001b[1;32m      5\u001b[0m \u001b[39m        :param polygon: the territory within which indicators will be calculated in GeoJSON format.\u001b[39;00m\n\u001b[0;32m   (...)\u001b[0m\n\u001b[1;32m     13\u001b[0m \u001b[39m        :return: dictionary with the name of the indicator and its value in JSON format.\u001b[39;00m\n\u001b[1;32m     14\u001b[0m \u001b[39m        \"\"\"\u001b[39;00m\n\u001b[1;32m     15\u001b[0m         buildings \u001b[39m=\u001b[39m gpd\u001b[39m.\u001b[39mGeoDataFrame\u001b[39m.\u001b[39mfrom_features(buildings)\u001b[39m.\u001b[39mset_crs(\u001b[39m4326\u001b[39m)\u001b[39m.\u001b[39mto_crs(\u001b[39m32636\u001b[39m)\n",
      "\u001b[0;31mNameError\u001b[0m: name 'json' is not defined"
     ]
    }
   ],
   "source": [
    "def get_masterplan(schools, buildings, polygon: json, add_building: json, delet_building: list[int]) -> json:\n",
    "\n",
    "        \"\"\"The function calculates the indicators of the master plan for a certain territory.\n",
    "\n",
    "        :param polygon: the territory within which indicators will be calculated in GeoJSON format.\n",
    "        :param add_building: the building that will be added to the territory in GeoJSON format.\n",
    "        :param delet_building: the building that will be deleted from the territory in List format.\n",
    "\n",
    "        city_model = CityInformationModel(city_name=\"saint-petersburg\", city_crs=32636)\n",
    "        \n",
    "        :example: Masterplan(city_model).get_masterplan(polygon, add_building, delet_building=[1, 2, 3])\n",
    "        \n",
    "        :return: dictionary with the name of the indicator and its value in JSON format.\n",
    "        \"\"\"\n",
    "        buildings = gpd.GeoDataFrame.from_features(buildings).set_crs(4326).to_crs(32636)\n",
    "        polygon = gpd.GeoDataFrame.from_features([polygon]).set_crs(4326).to_crs(32636)\n",
    "        land_with_buildings = gpd.sjoin(buildings, polygon, how='inner')\n",
    "        buffer = polygon.buffer(1600)\n",
    "        schools = schools.to_crs(32636)\n",
    "        filtered_schools = schools[schools.within(buffer)]\n",
    "\n",
    "\n",
    "\n",
    "        if add_building is not None:\n",
    "            add_building = gpd.GeoDataFrame.from_features(add_building).set_crs(4326).to_crs(32636)\n",
    "            land_with_buildings = land_with_buildings.append(add_building)\n",
    "\n",
    "        if delet_building is not None:\n",
    "            delet_building = pd.DataFrame(delet_building)\n",
    "            delet_building.columns = ['functional_object_id']\n",
    "            land_with_buildings = land_with_buildings[~land_with_buildings['functional_object_id'].isin(delet_building['functional_object_id'])]\n",
    "            \n",
    "        land_with_buildings_living = land_with_buildings[land_with_buildings['is_living'] == True]\n",
    "        \n",
    "        hectare = 10000\n",
    "        living = 80\n",
    "        commerce = 20                             \n",
    "        \n",
    "        land_area =  polygon.area / hectare\n",
    "        land_area = land_area.squeeze()\n",
    "        land_area =  np.around(land_area, decimals = 2)\n",
    "          \n",
    "        buildings_area = land_with_buildings['basement_area'].sum()\n",
    "\n",
    "        dev_land_procent = ((buildings_area / hectare) / land_area) * 100\n",
    "        dev_land_procent = np.around(dev_land_procent, decimals = 2)\n",
    "      \n",
    "        dev_land_area = land_with_buildings['basement_area'] * land_with_buildings['storeys_count']\n",
    "        dev_land_area = dev_land_area.sum() / hectare\n",
    "        dev_land_area = np.around(dev_land_area, decimals = 2)\n",
    "    \n",
    "        dev_land_density = dev_land_area / land_area\n",
    "        dev_land_density = np.around(dev_land_density, decimals = 2)\n",
    "\n",
    "        land_living_area = land_with_buildings_living['basement_area'] * land_with_buildings_living['storeys_count']\n",
    "        land_living_area = ((land_living_area.sum() / hectare) / 100 * living)\n",
    "        land_living_area = np.around(land_living_area, decimals = 2)\n",
    "   \n",
    "        dev_living_density = land_living_area / land_area\n",
    "        dev_living_density = np.around(dev_living_density, decimals = 2)\n",
    "\n",
    "        population =  land_with_buildings['population'].sum()\n",
    "        population = population.astype(int)\n",
    "            \n",
    "        population_density = population / land_area.squeeze()\n",
    "        population_density = np.around(population_density, decimals = 2)\n",
    "\n",
    "        living_area_provision = (land_living_area * hectare) / population\n",
    "        living_area_provision = np.around(living_area_provision, decimals = 2)\n",
    "        \n",
    "        land_business_area = ((land_living_area / living) * commerce) \n",
    "        land_business_area = np.around(land_business_area, decimals = 2)\n",
    "        \n",
    "        building_height_mode = land_with_buildings['storeys_count'].mode().squeeze()\n",
    "        building_height_mode = building_height_mode.astype(int)\n",
    "\n",
    "        free_seats = filtered_schools['capacity'].sum()\n",
    "\n",
    "\n",
    "            \n",
    "        data = [land_area, dev_land_procent, dev_land_area, dev_land_density, land_living_area,\n",
    "                    dev_living_density, population, population_density, living_area_provision, \n",
    "                    land_business_area, building_height_mode, free_seats]   \n",
    "        index = ['land_area', 'dev_land_procent',\n",
    "                'dev_land_area', 'dev_land_density', 'land_living_area', \n",
    "                'dev_living_density', 'population', \n",
    "                'population_density', 'living_area_provision', \n",
    "                'land_business_area', 'building_height_mode', 'free_seats']\n",
    "        df_indicators = pd.Series(data, index=index)\n",
    "\n",
    "        return json.loads(df_indicators.to_json())"
   ]
  },
  {
   "cell_type": "code",
   "execution_count": null,
   "metadata": {},
   "outputs": [],
   "source": [
    "polygon = {\n",
    "  \"type\": \"Feature\",\n",
    "  \"geometry\": {\n",
    "    \"coordinates\": [\n",
    "      [\n",
    "        [\n",
    "          30.28236360437208,\n",
    "          59.94259995775951\n",
    "        ],\n",
    "        [\n",
    "          30.274335607213317,\n",
    "          59.94683560022031\n",
    "        ],\n",
    "        [\n",
    "          30.262799655918656,\n",
    "          59.943476595267526\n",
    "        ],\n",
    "        [\n",
    "          30.261458266233234,\n",
    "          59.93769831060115\n",
    "        ],\n",
    "        [\n",
    "          30.273799051338784,\n",
    "          59.934472783622056\n",
    "        ],\n",
    "        [\n",
    "          30.28935917168954,\n",
    "          59.934472783622056\n",
    "        ],\n",
    "        [\n",
    "          30.2982123436135,\n",
    "          59.939848487642536\n",
    "        ],\n",
    "        [\n",
    "          30.294456452493648,\n",
    "          59.94307349180241\n",
    "        ],\n",
    "        [\n",
    "          30.28236360437208,\n",
    "          59.94259995775951\n",
    "        ]\n",
    "      ]\n",
    "    ],\n",
    "    \"type\": \"Polygon\"\n",
    "  },\n",
    "  \"properties\": {\n",
    "    \"name\": \"Василеостровская\",\n",
    "    \"cities_id\": 1,\n",
    "    \"description\": \"Моя любимая станция\"\n",
    "  },\n",
    "  \"id\": \"524a0867fabe66a657e220e50549e604\",\n",
    "  \n",
    "}"
   ]
  },
  {
   "cell_type": "code",
   "execution_count": null,
   "metadata": {},
   "outputs": [],
   "source": [
    "buildings = gpd.read_file('/Users/mvin/Desktop/CityGeoTools/CityGeoTools/building_spb.geojson')"
   ]
  },
  {
   "cell_type": "code",
   "execution_count": null,
   "metadata": {},
   "outputs": [
    {
     "name": "stderr",
     "output_type": "stream",
     "text": [
      "/Users/mvin/Desktop/CityGeoTools/CityGeoTools/venv/lib/python3.9/site-packages/geopandas/io/sql.py:158: UserWarning: pandas only supports SQLAlchemy connectable (engine/connection) or database string URI or sqlite3 DBAPI2 connection. Other DBAPI2 objects are not tested. Please consider using SQLAlchemy.\n",
      "  df = pd.read_sql(\n"
     ]
    }
   ],
   "source": [
    "engine = pg.connect(\"dbname='city_db_final' user='postgres' host='10.32.1.107' port='5432' password='postgres'\")\n",
    "\n",
    "schools = gpd.read_postgis(\"SELECT *, geometry as geom FROM all_services WHERE city_id = 1 AND city_service_type = 'Школа'\", con=engine)"
   ]
  },
  {
   "cell_type": "code",
   "execution_count": null,
   "metadata": {},
   "outputs": [
    {
     "name": "stderr",
     "output_type": "stream",
     "text": [
      "/Users/mvin/Desktop/CityGeoTools/CityGeoTools/venv/lib/python3.9/site-packages/geopandas/base.py:31: UserWarning: The indices of the two GeoSeries are different.\n",
      "  warn(\"The indices of the two GeoSeries are different.\")\n"
     ]
    }
   ],
   "source": [
    "polygon = gpd.GeoDataFrame.from_features([polygon]).set_crs(4326).to_crs(32636)\n",
    "buffer = polygon.buffer(1600)\n",
    "schools = schools.to_crs(32636)\n",
    "filtered_schools = schools[schools.within(buffer)]"
   ]
  },
  {
   "cell_type": "code",
   "execution_count": null,
   "metadata": {},
   "outputs": [
    {
     "ename": "KeyError",
     "evalue": "'geometry'",
     "output_type": "error",
     "traceback": [
      "\u001b[0;31m---------------------------------------------------------------------------\u001b[0m",
      "\u001b[0;31mKeyError\u001b[0m                                  Traceback (most recent call last)",
      "Cell \u001b[0;32mIn[9], line 1\u001b[0m\n\u001b[0;32m----> 1\u001b[0m indicators \u001b[39m=\u001b[39m get_masterplan(schools\u001b[39m=\u001b[39;49mschools, buildings\u001b[39m=\u001b[39;49mbuildings, polygon\u001b[39m=\u001b[39;49mpolygon, add_building\u001b[39m=\u001b[39;49m\u001b[39mNone\u001b[39;49;00m, delet_building\u001b[39m=\u001b[39;49m\u001b[39mNone\u001b[39;49;00m,)\n\u001b[1;32m      2\u001b[0m indicators\n",
      "Cell \u001b[0;32mIn[2], line 16\u001b[0m, in \u001b[0;36mget_masterplan\u001b[0;34m(schools, buildings, polygon, add_building, delet_building)\u001b[0m\n\u001b[1;32m      3\u001b[0m \u001b[39m\"\"\"The function calculates the indicators of the master plan for a certain territory.\u001b[39;00m\n\u001b[1;32m      4\u001b[0m \n\u001b[1;32m      5\u001b[0m \u001b[39m:param polygon: the territory within which indicators will be calculated in GeoJSON format.\u001b[39;00m\n\u001b[0;32m   (...)\u001b[0m\n\u001b[1;32m     13\u001b[0m \u001b[39m:return: dictionary with the name of the indicator and its value in JSON format.\u001b[39;00m\n\u001b[1;32m     14\u001b[0m \u001b[39m\"\"\"\u001b[39;00m\n\u001b[1;32m     15\u001b[0m buildings \u001b[39m=\u001b[39m gpd\u001b[39m.\u001b[39mGeoDataFrame\u001b[39m.\u001b[39mfrom_features(buildings)\u001b[39m.\u001b[39mset_crs(\u001b[39m4326\u001b[39m)\u001b[39m.\u001b[39mto_crs(\u001b[39m32636\u001b[39m)\n\u001b[0;32m---> 16\u001b[0m polygon \u001b[39m=\u001b[39m gpd\u001b[39m.\u001b[39;49mGeoDataFrame\u001b[39m.\u001b[39;49mfrom_features([polygon])\u001b[39m.\u001b[39mset_crs(\u001b[39m4326\u001b[39m)\u001b[39m.\u001b[39mto_crs(\u001b[39m32636\u001b[39m)\n\u001b[1;32m     17\u001b[0m land_with_buildings \u001b[39m=\u001b[39m gpd\u001b[39m.\u001b[39msjoin(buildings, polygon, how\u001b[39m=\u001b[39m\u001b[39m'\u001b[39m\u001b[39minner\u001b[39m\u001b[39m'\u001b[39m)\n\u001b[1;32m     18\u001b[0m buffer \u001b[39m=\u001b[39m polygon\u001b[39m.\u001b[39mbuffer(\u001b[39m1600\u001b[39m)\n",
      "File \u001b[0;32m~/Desktop/CityGeoTools/CityGeoTools/venv/lib/python3.9/site-packages/geopandas/geodataframe.py:635\u001b[0m, in \u001b[0;36mGeoDataFrame.from_features\u001b[0;34m(cls, features, crs, columns)\u001b[0m\n\u001b[1;32m    632\u001b[0m \u001b[39mif\u001b[39;00m \u001b[39mhasattr\u001b[39m(feature, \u001b[39m\"\u001b[39m\u001b[39m__geo_interface__\u001b[39m\u001b[39m\"\u001b[39m):\n\u001b[1;32m    633\u001b[0m     feature \u001b[39m=\u001b[39m feature\u001b[39m.\u001b[39m__geo_interface__\n\u001b[1;32m    634\u001b[0m row \u001b[39m=\u001b[39m {\n\u001b[0;32m--> 635\u001b[0m     \u001b[39m\"\u001b[39m\u001b[39mgeometry\u001b[39m\u001b[39m\"\u001b[39m: shape(feature[\u001b[39m\"\u001b[39m\u001b[39mgeometry\u001b[39m\u001b[39m\"\u001b[39m]) \u001b[39mif\u001b[39;00m feature[\u001b[39m\"\u001b[39;49m\u001b[39mgeometry\u001b[39;49m\u001b[39m\"\u001b[39;49m] \u001b[39melse\u001b[39;00m \u001b[39mNone\u001b[39;00m\n\u001b[1;32m    636\u001b[0m }\n\u001b[1;32m    637\u001b[0m \u001b[39m# load properties\u001b[39;00m\n\u001b[1;32m    638\u001b[0m properties \u001b[39m=\u001b[39m feature[\u001b[39m\"\u001b[39m\u001b[39mproperties\u001b[39m\u001b[39m\"\u001b[39m]\n",
      "\u001b[0;31mKeyError\u001b[0m: 'geometry'"
     ]
    }
   ],
   "source": [
    "indicators = get_masterplan(schools=schools, buildings=buildings, polygon=polygon, add_building=None, delet_building=None,)\n",
    "indicators"
   ]
  }
 ],
 "metadata": {
  "kernelspec": {
   "display_name": "Python 3.9.13 ('mp': venv)",
   "language": "python",
   "name": "python3"
  },
  "language_info": {
   "codemirror_mode": {
    "name": "ipython",
    "version": 3
   },
   "file_extension": ".py",
   "mimetype": "text/x-python",
   "name": "python",
   "nbconvert_exporter": "python",
   "pygments_lexer": "ipython3",
   "version": "3.9.13"
  },
  "orig_nbformat": 4,
  "vscode": {
   "interpreter": {
    "hash": "e5695823d24e5ded2b352128ee7389b28fec3e038734630fed717d46c6882c0c"
   }
  }
 },
 "nbformat": 4,
 "nbformat_minor": 2
}
