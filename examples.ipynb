{
 "cells": [
  {
   "attachments": {},
   "cell_type": "markdown",
   "metadata": {},
   "source": [
    "# An example of mastrplan creation"
   ]
  },
  {
   "cell_type": "code",
   "execution_count": 1,
   "metadata": {},
   "outputs": [
    {
     "name": "stderr",
     "output_type": "stream",
     "text": [
      "c:\\masterplanning\\env\\lib\\site-packages\\tqdm\\auto.py:21: TqdmWarning: IProgress not found. Please update jupyter and ipywidgets. See https://ipywidgets.readthedocs.io/en/stable/user_install.html\n",
      "  from .autonotebook import tqdm as notebook_tqdm\n"
     ]
    },
    {
     "data": {
      "text/html": [
       "\n",
       "\t\t\t<script type=\"text/javascript\">\n",
       "\t\t\t<!--\n",
       "\t\t\t\t\n",
       "\t\t\t{\n",
       "\t\t\t\tvar element = document.getElementById('NetworKit_script');\n",
       "\t\t\t\tif (element) {\n",
       "\t\t\t\t\telement.parentNode.removeChild(element);\n",
       "\t\t\t\t}\n",
       "\t\t\t\telement = document.createElement('script');\n",
       "\t\t\t\telement.type = 'text/javascript';\n",
       "\t\t\t\telement.innerHTML = 'function NetworKit_pageEmbed(id) { var i, j; var elements; elements = document.getElementById(id).getElementsByClassName(\"Plot\"); for (i=0; i<elements.length; i++) { elements[i].id = id + \"_Plot_\" + i; var data = elements[i].getAttribute(\"data-image\").split(\"|\"); elements[i].removeAttribute(\"data-image\"); var content = \"<div class=\\\\\"Image\\\\\" id=\\\\\"\" + elements[i].id + \"_Image\\\\\" />\"; elements[i].innerHTML = content; elements[i].setAttribute(\"data-image-index\", 0); elements[i].setAttribute(\"data-image-length\", data.length); for (j=0; j<data.length; j++) { elements[i].setAttribute(\"data-image-\" + j, data[j]); } NetworKit_plotUpdate(elements[i]); elements[i].onclick = function (e) { NetworKit_overlayShow((e.target) ? e.target : e.srcElement); } } elements = document.getElementById(id).getElementsByClassName(\"HeatCell\"); for (i=0; i<elements.length; i++) { var data = parseFloat(elements[i].getAttribute(\"data-heat\")); var color = \"#00FF00\"; if (data <= 1 && data > 0) { color = \"hsla(0, 100%, 75%, \" + (data) + \")\"; } else if (data <= 0 && data >= -1) { color = \"hsla(240, 100%, 75%, \" + (-data) + \")\"; } elements[i].style.backgroundColor = color; } elements = document.getElementById(id).getElementsByClassName(\"Details\"); for (i=0; i<elements.length; i++) { elements[i].setAttribute(\"data-title\", \"-\"); NetworKit_toggleDetails(elements[i]); elements[i].onclick = function (e) { NetworKit_toggleDetails((e.target) ? e.target : e.srcElement); } } elements = document.getElementById(id).getElementsByClassName(\"MathValue\"); for (i=elements.length-1; i>=0; i--) { value = elements[i].innerHTML.trim(); if (value === \"nan\") { elements[i].parentNode.innerHTML = \"\" } } elements = document.getElementById(id).getElementsByClassName(\"SubCategory\"); for (i=elements.length-1; i>=0; i--) { value = elements[i].innerHTML.trim(); if (value === \"\") { elements[i].parentNode.removeChild(elements[i]) } } elements = document.getElementById(id).getElementsByClassName(\"Category\"); for (i=elements.length-1; i>=0; i--) { value = elements[i].innerHTML.trim(); if (value === \"\") { elements[i].parentNode.removeChild(elements[i]) } } var isFirefox = false; try { isFirefox = typeof InstallTrigger !== \"undefined\"; } catch (e) {} if (!isFirefox) { alert(\"Currently the function\\'s output is only fully supported by Firefox.\"); } } function NetworKit_plotUpdate(source) { var index = source.getAttribute(\"data-image-index\"); var data = source.getAttribute(\"data-image-\" + index); var image = document.getElementById(source.id + \"_Image\"); image.style.backgroundImage = \"url(\" + data + \")\"; } function NetworKit_showElement(id, show) { var element = document.getElementById(id); element.style.display = (show) ? \"block\" : \"none\"; } function NetworKit_overlayShow(source) { NetworKit_overlayUpdate(source); NetworKit_showElement(\"NetworKit_Overlay\", true); } function NetworKit_overlayUpdate(source) { document.getElementById(\"NetworKit_Overlay_Title\").innerHTML = source.title; var index = source.getAttribute(\"data-image-index\"); var data = source.getAttribute(\"data-image-\" + index); var image = document.getElementById(\"NetworKit_Overlay_Image\"); image.setAttribute(\"data-id\", source.id); image.style.backgroundImage = \"url(\" + data + \")\"; var link = document.getElementById(\"NetworKit_Overlay_Toolbar_Bottom_Save\"); link.href = data; link.download = source.title + \".svg\"; } function NetworKit_overlayImageShift(delta) { var image = document.getElementById(\"NetworKit_Overlay_Image\"); var source = document.getElementById(image.getAttribute(\"data-id\")); var index = parseInt(source.getAttribute(\"data-image-index\")); var length = parseInt(source.getAttribute(\"data-image-length\")); var index = (index+delta) % length; if (index < 0) { index = length + index; } source.setAttribute(\"data-image-index\", index); NetworKit_overlayUpdate(source); } function NetworKit_toggleDetails(source) { var childs = source.children; var show = false; if (source.getAttribute(\"data-title\") == \"-\") { source.setAttribute(\"data-title\", \"+\"); show = false; } else { source.setAttribute(\"data-title\", \"-\"); show = true; } for (i=0; i<childs.length; i++) { if (show) { childs[i].style.display = \"block\"; } else { childs[i].style.display = \"none\"; } } }';\n",
       "\t\t\t\telement.setAttribute('id', 'NetworKit_script');\n",
       "\t\t\t\tdocument.head.appendChild(element);\n",
       "\t\t\t}\n",
       "\t\t\n",
       "\t\t\t\t\n",
       "\t\t\t{\n",
       "\t\t\t\tvar element = document.getElementById('NetworKit_style');\n",
       "\t\t\t\tif (element) {\n",
       "\t\t\t\t\telement.parentNode.removeChild(element);\n",
       "\t\t\t\t}\n",
       "\t\t\t\telement = document.createElement('style');\n",
       "\t\t\t\telement.type = 'text/css';\n",
       "\t\t\t\telement.innerHTML = '.NetworKit_Page { font-family: Arial, Helvetica, sans-serif; font-size: 14px; } .NetworKit_Page .Value:before { font-family: Arial, Helvetica, sans-serif; font-size: 1.05em; content: attr(data-title) \":\"; margin-left: -2.5em; padding-right: 0.5em; } .NetworKit_Page .Details .Value:before { display: block; } .NetworKit_Page .Value { font-family: monospace; white-space: pre; padding-left: 2.5em; white-space: -moz-pre-wrap !important; white-space: -pre-wrap; white-space: -o-pre-wrap; white-space: pre-wrap; word-wrap: break-word; tab-size: 4; -moz-tab-size: 4; } .NetworKit_Page .Category { clear: both; padding-left: 1em; margin-bottom: 1.5em; } .NetworKit_Page .Category:before { content: attr(data-title); font-size: 1.75em; display: block; margin-left: -0.8em; margin-bottom: 0.5em; } .NetworKit_Page .SubCategory { margin-bottom: 1.5em; padding-left: 1em; } .NetworKit_Page .SubCategory:before { font-size: 1.6em; display: block; margin-left: -0.8em; margin-bottom: 0.5em; } .NetworKit_Page .SubCategory[data-title]:before { content: attr(data-title); } .NetworKit_Page .Block { display: block; } .NetworKit_Page .Block:after { content: \".\"; visibility: hidden; display: block; height: 0; clear: both; } .NetworKit_Page .Block .Thumbnail_Overview, .NetworKit_Page .Block .Thumbnail_ScatterPlot { width: 260px; float: left; } .NetworKit_Page .Block .Thumbnail_Overview img, .NetworKit_Page .Block .Thumbnail_ScatterPlot img { width: 260px; } .NetworKit_Page .Block .Thumbnail_Overview:before, .NetworKit_Page .Block .Thumbnail_ScatterPlot:before { display: block; text-align: center; font-weight: bold; } .NetworKit_Page .Block .Thumbnail_Overview:before { content: attr(data-title); } .NetworKit_Page .HeatCell { font-family: \"Courier New\", Courier, monospace; cursor: pointer; } .NetworKit_Page .HeatCell, .NetworKit_Page .HeatCellName { display: inline; padding: 0.1em; margin-right: 2px; background-color: #FFFFFF } .NetworKit_Page .HeatCellName { margin-left: 0.25em; } .NetworKit_Page .HeatCell:before { content: attr(data-heat); display: inline-block; color: #000000; width: 4em; text-align: center; } .NetworKit_Page .Measure { clear: both; } .NetworKit_Page .Measure .Details { cursor: pointer; } .NetworKit_Page .Measure .Details:before { content: \"[\" attr(data-title) \"]\"; display: block; } .NetworKit_Page .Measure .Details .Value { border-left: 1px dotted black; margin-left: 0.4em; padding-left: 3.5em; pointer-events: none; } .NetworKit_Page .Measure .Details .Spacer:before { content: \".\"; opacity: 0.0; pointer-events: none; } .NetworKit_Page .Measure .Plot { width: 440px; height: 440px; cursor: pointer; float: left; margin-left: -0.9em; margin-right: 20px; } .NetworKit_Page .Measure .Plot .Image { background-repeat: no-repeat; background-position: center center; background-size: contain; height: 100%; pointer-events: none; } .NetworKit_Page .Measure .Stat { width: 500px; float: left; } .NetworKit_Page .Measure .Stat .Group { padding-left: 1.25em; margin-bottom: 0.75em; } .NetworKit_Page .Measure .Stat .Group .Title { font-size: 1.1em; display: block; margin-bottom: 0.3em; margin-left: -0.75em; border-right-style: dotted; border-right-width: 1px; border-bottom-style: dotted; border-bottom-width: 1px; background-color: #D0D0D0; padding-left: 0.2em; } .NetworKit_Page .Measure .Stat .Group .List { -webkit-column-count: 3; -moz-column-count: 3; column-count: 3; } .NetworKit_Page .Measure .Stat .Group .List .Entry { position: relative; line-height: 1.75em; } .NetworKit_Page .Measure .Stat .Group .List .Entry[data-tooltip]:before { position: absolute; left: 0; top: -40px; background-color: #808080; color: #ffffff; height: 30px; line-height: 30px; border-radius: 5px; padding: 0 15px; content: attr(data-tooltip); white-space: nowrap; display: none; } .NetworKit_Page .Measure .Stat .Group .List .Entry[data-tooltip]:after { position: absolute; left: 15px; top: -10px; border-top: 7px solid #808080; border-left: 7px solid transparent; border-right: 7px solid transparent; content: \"\"; display: none; } .NetworKit_Page .Measure .Stat .Group .List .Entry[data-tooltip]:hover:after, .NetworKit_Page .Measure .Stat .Group .List .Entry[data-tooltip]:hover:before { display: block; } .NetworKit_Page .Measure .Stat .Group .List .Entry .MathValue { font-family: \"Courier New\", Courier, monospace; } .NetworKit_Page .Measure:after { content: \".\"; visibility: hidden; display: block; height: 0; clear: both; } .NetworKit_Page .PartitionPie { clear: both; } .NetworKit_Page .PartitionPie img { width: 600px; } #NetworKit_Overlay { left: 0px; top: 0px; display: none; position: absolute; width: 100%; height: 100%; background-color: rgba(0,0,0,0.6); z-index: 1000; } #NetworKit_Overlay_Title { position: absolute; color: white; transform: rotate(-90deg); width: 32em; height: 32em; padding-right: 0.5em; padding-top: 0.5em; text-align: right; font-size: 40px; } #NetworKit_Overlay .button { background: white; cursor: pointer; } #NetworKit_Overlay .button:before { size: 13px; display: inline-block; text-align: center; margin-top: 0.5em; margin-bottom: 0.5em; width: 1.5em; height: 1.5em; } #NetworKit_Overlay .icon-close:before { content: \"X\"; } #NetworKit_Overlay .icon-previous:before { content: \"P\"; } #NetworKit_Overlay .icon-next:before { content: \"N\"; } #NetworKit_Overlay .icon-save:before { content: \"S\"; } #NetworKit_Overlay_Toolbar_Top, #NetworKit_Overlay_Toolbar_Bottom { position: absolute; width: 40px; right: 13px; text-align: right; z-index: 1100; } #NetworKit_Overlay_Toolbar_Top { top: 0.5em; } #NetworKit_Overlay_Toolbar_Bottom { Bottom: 0.5em; } #NetworKit_Overlay_ImageContainer { position: absolute; top: 5%; left: 5%; height: 90%; width: 90%; background-repeat: no-repeat; background-position: center center; background-size: contain; } #NetworKit_Overlay_Image { height: 100%; width: 100%; background-repeat: no-repeat; background-position: center center; background-size: contain; }';\n",
       "\t\t\t\telement.setAttribute('id', 'NetworKit_style');\n",
       "\t\t\t\tdocument.head.appendChild(element);\n",
       "\t\t\t}\n",
       "\t\t\n",
       "\t\t\t\t\n",
       "\t\t\t{\n",
       "\t\t\t\tvar element = document.getElementById('NetworKit_Overlay');\n",
       "\t\t\t\tif (element) {\n",
       "\t\t\t\t\telement.parentNode.removeChild(element);\n",
       "\t\t\t\t}\n",
       "\t\t\t\telement = document.createElement('div');\n",
       "\t\t\t\telement.innerHTML = '<div id=\"NetworKit_Overlay_Toolbar_Top\"><div class=\"button icon-close\" id=\"NetworKit_Overlay_Close\" /></div><div id=\"NetworKit_Overlay_Title\" /> <div id=\"NetworKit_Overlay_ImageContainer\"> <div id=\"NetworKit_Overlay_Image\" /> </div> <div id=\"NetworKit_Overlay_Toolbar_Bottom\"> <div class=\"button icon-previous\" onclick=\"NetworKit_overlayImageShift(-1)\" /> <div class=\"button icon-next\" onclick=\"NetworKit_overlayImageShift(1)\" /> <a id=\"NetworKit_Overlay_Toolbar_Bottom_Save\"><div class=\"button icon-save\" /></a> </div>';\n",
       "\t\t\t\telement.setAttribute('id', 'NetworKit_Overlay');\n",
       "\t\t\t\tdocument.body.appendChild(element);\n",
       "\t\t\t\tdocument.getElementById('NetworKit_Overlay_Close').onclick = function (e) {\n",
       "\t\t\t\t\tdocument.getElementById('NetworKit_Overlay').style.display = 'none';\n",
       "\t\t\t\t}\n",
       "\t\t\t}\n",
       "\t\t\n",
       "\t\t\t-->\n",
       "\t\t\t</script>\n",
       "\t\t"
      ]
     },
     "metadata": {},
     "output_type": "display_data"
    }
   ],
   "source": [
    "import pandas as pd\n",
    "import networkx as nx\n",
    "import geopandas as gpd\n",
    "\n",
    "from masterplan_tools.City_model.city_model import CityModel\n",
    "from masterplan_tools.Provision_getter.provision_getter import ProvisionModel\n",
    "from masterplan_tools.Balancer.balancer import MasterPlan\n",
    "from masterplan_tools.Data_getter.data_getter import DataGetter"
   ]
  },
  {
   "attachments": {},
   "cell_type": "markdown",
   "metadata": {},
   "source": [
    "#### City model creation"
   ]
  },
  {
   "cell_type": "code",
   "execution_count": 2,
   "metadata": {},
   "outputs": [],
   "source": [
    "# To assess services provision they must be specified as a list of strings\n",
    "# Service names must be the same as in your data\n",
    "\n",
    "service_types = [\"schools\", \"kindergartens\"]"
   ]
  },
  {
   "cell_type": "code",
   "execution_count": 3,
   "metadata": {},
   "outputs": [],
   "source": [
    "# path to data\n",
    "path = \"../masterplanning/mp_data/\"\n",
    "\n",
    "# load data required for blocks creation\n",
    "city_geometry = gpd.read_parquet(path + 'city_geometry.parquet')\n",
    "water_geometry = gpd.read_parquet(path + 'water_geometry.parquet')\n",
    "roads_geometry = gpd.read_parquet(path + 'roads_geometry.parquet')\n",
    "railways_geometry = gpd.read_parquet(path + 'railways_geometry.parquet')\n",
    "nature_geometry_boundaries = gpd.read_parquet(path + 'nature_geometry_boundaries.parquet')\n",
    "\n",
    "# load data required for service graphs creation\n",
    "schools = gpd.read_parquet(path + 'schools.parquet')\n",
    "kindergartens = gpd.read_parquet(path + 'kindergartens.parquet')\n",
    "# accessibility_matrix = pd.read_pickle(path + \"accessibility_matrix.pkl\")\n",
    "\n",
    "# load data required for \n",
    "buildings = gpd.read_parquet(path + 'buildings.parquet')\n",
    "greenings = gpd.read_parquet(path + 'greenings.parquet')\n",
    "parkings = gpd.read_parquet(path + 'parkings.parquet')\n",
    "transport_graph = nx.read_graphml(path + 'new_graph.graphml')"
   ]
  },
  {
   "cell_type": "code",
   "execution_count": 4,
   "metadata": {},
   "outputs": [],
   "source": [
    "# services should be specified as a dictionary\n",
    "services = {\n",
    "    'schools': schools,\n",
    "    'kindergartens': kindergartens,\n",
    "    # 'recreational_areas': добавить рекреационные зоны\n",
    "}"
   ]
  },
  {
   "cell_type": "code",
   "execution_count": 5,
   "metadata": {},
   "outputs": [
    {
     "name": "stderr",
     "output_type": "stream",
     "text": [
      "\u001b[32m2023-05-23 10:46:08.353\u001b[0m | \u001b[1mINFO    \u001b[0m | \u001b[36mmasterplan_tools.Blocks_getter.blocks_getter\u001b[0m:\u001b[36m_cut_railways\u001b[0m:\u001b[36m133\u001b[0m - \u001b[1mStarting: cutting railways geometries\u001b[0m\n",
      "\u001b[32m2023-05-23 10:46:08.378\u001b[0m | \u001b[1mINFO    \u001b[0m | \u001b[36mmasterplan_tools.Blocks_getter.blocks_getter\u001b[0m:\u001b[36m_cut_railways\u001b[0m:\u001b[36m140\u001b[0m - \u001b[1mFinished: cutting railways geometries\u001b[0m\n",
      "\u001b[32m2023-05-23 10:46:08.379\u001b[0m | \u001b[1mINFO    \u001b[0m | \u001b[36mmasterplan_tools.Blocks_getter.blocks_getter\u001b[0m:\u001b[36m_cut_roads\u001b[0m:\u001b[36m151\u001b[0m - \u001b[1mStarting: cutting roads geometries\u001b[0m\n",
      "\u001b[32m2023-05-23 10:46:08.808\u001b[0m | \u001b[1mINFO    \u001b[0m | \u001b[36mmasterplan_tools.Blocks_getter.blocks_getter\u001b[0m:\u001b[36m_cut_roads\u001b[0m:\u001b[36m158\u001b[0m - \u001b[1mFinished: cutting roads geometries\u001b[0m\n",
      "\u001b[32m2023-05-23 10:46:08.808\u001b[0m | \u001b[1mINFO    \u001b[0m | \u001b[36mmasterplan_tools.Blocks_getter.blocks_getter\u001b[0m:\u001b[36m_cut_nature\u001b[0m:\u001b[36m171\u001b[0m - \u001b[1mStarting: cutting nature geometries\u001b[0m\n",
      "\u001b[32m2023-05-23 10:46:08.931\u001b[0m | \u001b[1mINFO    \u001b[0m | \u001b[36mmasterplan_tools.Blocks_getter.blocks_getter\u001b[0m:\u001b[36m_cut_nature\u001b[0m:\u001b[36m178\u001b[0m - \u001b[1mFinished: cutting nature geometries\u001b[0m\n",
      "\u001b[32m2023-05-23 10:46:08.932\u001b[0m | \u001b[1mINFO    \u001b[0m | \u001b[36mmasterplan_tools.Blocks_getter.blocks_getter\u001b[0m:\u001b[36m_fill_deadends\u001b[0m:\u001b[36m91\u001b[0m - \u001b[1mStarting: filling deadends\u001b[0m\n",
      "\u001b[32m2023-05-23 10:46:09.032\u001b[0m | \u001b[1mINFO    \u001b[0m | \u001b[36mmasterplan_tools.Blocks_getter.blocks_getter\u001b[0m:\u001b[36m_fill_deadends\u001b[0m:\u001b[36m97\u001b[0m - \u001b[1mFinished: filling deadends\u001b[0m\n",
      "\u001b[32m2023-05-23 10:46:09.032\u001b[0m | \u001b[1mINFO    \u001b[0m | \u001b[36mmasterplan_tools.Blocks_getter.blocks_getter\u001b[0m:\u001b[36m_cut_water\u001b[0m:\u001b[36m190\u001b[0m - \u001b[1mStarting: cutting water geometries\u001b[0m\n",
      "\u001b[32m2023-05-23 10:46:09.229\u001b[0m | \u001b[1mINFO    \u001b[0m | \u001b[36mmasterplan_tools.Blocks_getter.blocks_getter\u001b[0m:\u001b[36m_cut_water\u001b[0m:\u001b[36m197\u001b[0m - \u001b[1mStarting: cutting water geometries\u001b[0m\n",
      "\u001b[32m2023-05-23 10:46:09.230\u001b[0m | \u001b[1mINFO    \u001b[0m | \u001b[36mmasterplan_tools.Blocks_getter.blocks_getter\u001b[0m:\u001b[36m_fix_blocks_geometries\u001b[0m:\u001b[36m226\u001b[0m - \u001b[1mStarting: fixing blocks' geometries\u001b[0m\n",
      "\u001b[32m2023-05-23 10:46:09.259\u001b[0m | \u001b[1mINFO    \u001b[0m | \u001b[36mmasterplan_tools.Blocks_getter.blocks_getter\u001b[0m:\u001b[36m_fix_blocks_geometries\u001b[0m:\u001b[36m232\u001b[0m - \u001b[1mFinished: fixing blocks' geometries\u001b[0m\n",
      "\u001b[32m2023-05-23 10:46:09.259\u001b[0m | \u001b[1mINFO    \u001b[0m | \u001b[36mmasterplan_tools.Blocks_getter.blocks_getter\u001b[0m:\u001b[36m_drop_overlayed_geometries\u001b[0m:\u001b[36m208\u001b[0m - \u001b[1mStarting: dropping overlayed geometries\u001b[0m\n",
      "\u001b[32m2023-05-23 10:46:09.359\u001b[0m | \u001b[1mINFO    \u001b[0m | \u001b[36mmasterplan_tools.Blocks_getter.blocks_getter\u001b[0m:\u001b[36m_drop_overlayed_geometries\u001b[0m:\u001b[36m214\u001b[0m - \u001b[1mFinished: dropping overlayed geometries\u001b[0m\n",
      "\u001b[32m2023-05-23 10:46:09.368\u001b[0m | \u001b[1mINFO    \u001b[0m | \u001b[36mmasterplan_tools.Blocks_getter.blocks_getter\u001b[0m:\u001b[36m_drop_unnecessary_geometries\u001b[0m:\u001b[36m278\u001b[0m - \u001b[1mDropping unnecessary geometries\u001b[0m\n",
      "\u001b[32m2023-05-23 10:46:09.376\u001b[0m | \u001b[1mINFO    \u001b[0m | \u001b[36mmasterplan_tools.Blocks_getter.blocks_getter\u001b[0m:\u001b[36mget_blocks\u001b[0m:\u001b[36m322\u001b[0m - \u001b[1mFinished\u001b[0m\n",
      "100%|██████████| 3748/3748 [00:00<00:00, 117098.59it/s]\n",
      "100%|██████████| 3748/3748 [00:00<00:00, 144118.04it/s]\n",
      "100%|██████████| 28/28 [00:00<00:00, 1166.39it/s]\n",
      "100%|██████████| 32/32 [00:00<00:00, 1142.60it/s]\n"
     ]
    }
   ],
   "source": [
    "# City data model creation\n",
    "city_model = CityModel(\n",
    "    services=services,\n",
    "    city_geometry=city_geometry,\n",
    "    water_geometry=water_geometry,\n",
    "    roads_geometry=roads_geometry,\n",
    "    railways_geometry=railways_geometry,\n",
    "    nature_geometry_boundaries=nature_geometry_boundaries,\n",
    "    # accessibility_matrix=accessibility_matrix,\n",
    "    transport_graph=transport_graph,\n",
    "    buildings=buildings,\n",
    "    greenings=greenings,\n",
    "    parkings=parkings\n",
    ")\n"
   ]
  },
  {
   "cell_type": "code",
   "execution_count": 6,
   "metadata": {},
   "outputs": [
    {
     "data": {
      "text/plain": [
       "NodeDataView({3: {'population': 3946.0, 'is_living': True, 'is_schools_service': 1, 'schools_capacity': 1200, 'provision_schools': 0, 'id_schools': 0, 'population_prov_schools': 0, 'population_unprov_schools': 3946.0, 'is_kindergartens_service': 0, 'provision_kindergartens': 0, 'id_kindergartens': 0, 'population_prov_kindergartens': 0, 'population_unprov_kindergartens': 3946.0}, 0: {'population': 0.0, 'is_living': False, 'is_schools_service': 0, 'provision_schools': 0, 'id_schools': 0, 'is_kindergartens_service': 0, 'provision_kindergartens': 0, 'id_kindergartens': 0}, 1: {'population': 0.0, 'is_living': False, 'is_schools_service': 0, 'provision_schools': 0, 'id_schools': 0, 'is_kindergartens_service': 0, 'provision_kindergartens': 0, 'id_kindergartens': 0}, 2: {'population': 3375.0, 'is_living': True, 'is_schools_service': 0, 'provision_schools': 0, 'id_schools': 0, 'population_prov_schools': 0, 'population_unprov_schools': 3375.0, 'is_kindergartens_service': 0, 'provision_kindergartens': 0, 'id_kindergartens': 0, 'population_prov_kindergartens': 0, 'population_unprov_kindergartens': 3375.0}, 4: {'population': 6026.0, 'is_living': True, 'is_schools_service': 1, 'provision_schools': 0, 'id_schools': 0, 'population_prov_schools': 0, 'population_unprov_schools': 6026.0, 'schools_capacity': 2444, 'is_kindergartens_service': 1, 'kindergartens_capacity': 245, 'provision_kindergartens': 0, 'id_kindergartens': 0, 'population_prov_kindergartens': 0, 'population_unprov_kindergartens': 6026.0}, 5: {'population': 0.0, 'is_living': False, 'is_schools_service': 0, 'provision_schools': 0, 'id_schools': 0, 'is_kindergartens_service': 0, 'provision_kindergartens': 0, 'id_kindergartens': 0}, 6: {'population': 4222.0, 'is_living': True, 'is_schools_service': 0, 'provision_schools': 0, 'id_schools': 0, 'population_prov_schools': 0, 'population_unprov_schools': 4222.0, 'is_kindergartens_service': 1, 'provision_kindergartens': 0, 'id_kindergartens': 0, 'population_prov_kindergartens': 0, 'population_unprov_kindergartens': 4222.0, 'kindergartens_capacity': 333}, 7: {'population': 0.0, 'is_living': False, 'is_schools_service': 0, 'provision_schools': 0, 'id_schools': 0, 'is_kindergartens_service': 0, 'provision_kindergartens': 0, 'id_kindergartens': 0}, 8: {'population': 0.0, 'is_living': False, 'is_schools_service': 0, 'provision_schools': 0, 'id_schools': 0, 'is_kindergartens_service': 0, 'provision_kindergartens': 0, 'id_kindergartens': 0}, 9: {'population': 5956.0, 'is_living': True, 'is_schools_service': 0, 'provision_schools': 0, 'id_schools': 0, 'population_prov_schools': 0, 'population_unprov_schools': 5956.0, 'is_kindergartens_service': 1, 'provision_kindergartens': 0, 'id_kindergartens': 0, 'population_prov_kindergartens': 0, 'population_unprov_kindergartens': 5956.0, 'kindergartens_capacity': 793}, 10: {'population': 20531.0, 'is_living': True, 'is_schools_service': 0, 'provision_schools': 0, 'id_schools': 0, 'population_prov_schools': 0, 'population_unprov_schools': 20531.0, 'is_kindergartens_service': 0, 'provision_kindergartens': 0, 'id_kindergartens': 0, 'population_prov_kindergartens': 0, 'population_unprov_kindergartens': 20531.0}, 11: {'population': 0.0, 'is_living': False, 'is_schools_service': 0, 'provision_schools': 0, 'id_schools': 0, 'is_kindergartens_service': 0, 'provision_kindergartens': 0, 'id_kindergartens': 0}, 12: {'population': 0.0, 'is_living': False, 'is_schools_service': 0, 'provision_schools': 0, 'id_schools': 0, 'is_kindergartens_service': 0, 'provision_kindergartens': 0, 'id_kindergartens': 0}, 13: {'population': 0.0, 'is_living': False, 'is_schools_service': 0, 'provision_schools': 0, 'id_schools': 0, 'is_kindergartens_service': 0, 'provision_kindergartens': 0, 'id_kindergartens': 0}, 14: {'population': 0.0, 'is_living': False, 'is_schools_service': 0, 'provision_schools': 0, 'id_schools': 0, 'is_kindergartens_service': 0, 'provision_kindergartens': 0, 'id_kindergartens': 0}, 15: {'population': 0.0, 'is_living': False, 'is_schools_service': 0, 'provision_schools': 0, 'id_schools': 0, 'is_kindergartens_service': 0, 'provision_kindergartens': 0, 'id_kindergartens': 0}, 16: {'population': 0.0, 'is_living': False, 'is_schools_service': 0, 'provision_schools': 0, 'id_schools': 0, 'is_kindergartens_service': 0, 'provision_kindergartens': 0, 'id_kindergartens': 0}, 17: {'population': 6341.0, 'is_living': True, 'is_schools_service': 0, 'provision_schools': 0, 'id_schools': 0, 'population_prov_schools': 0, 'population_unprov_schools': 6341.0, 'is_kindergartens_service': 1, 'provision_kindergartens': 0, 'id_kindergartens': 0, 'population_prov_kindergartens': 0, 'population_unprov_kindergartens': 6341.0, 'kindergartens_capacity': 1120}, 18: {'population': 0.0, 'is_living': False, 'is_schools_service': 0, 'provision_schools': 0, 'id_schools': 0, 'is_kindergartens_service': 0, 'provision_kindergartens': 0, 'id_kindergartens': 0}, 19: {'population': 0.0, 'is_living': False, 'is_schools_service': 0, 'provision_schools': 0, 'id_schools': 0, 'is_kindergartens_service': 0, 'provision_kindergartens': 0, 'id_kindergartens': 0}, 20: {'population': 3640.0, 'is_living': True, 'is_schools_service': 0, 'provision_schools': 0, 'id_schools': 0, 'population_prov_schools': 0, 'population_unprov_schools': 3640.0, 'is_kindergartens_service': 1, 'provision_kindergartens': 0, 'id_kindergartens': 0, 'population_prov_kindergartens': 0, 'population_unprov_kindergartens': 3640.0, 'kindergartens_capacity': 167}, 21: {'population': 0.0, 'is_living': False, 'is_schools_service': 0, 'provision_schools': 0, 'id_schools': 0, 'is_kindergartens_service': 0, 'provision_kindergartens': 0, 'id_kindergartens': 0}, 22: {'population': 0.0, 'is_living': False, 'is_schools_service': 0, 'provision_schools': 0, 'id_schools': 0, 'is_kindergartens_service': 0, 'provision_kindergartens': 0, 'id_kindergartens': 0}, 23: {'population': 5970.0, 'is_living': True, 'is_schools_service': 0, 'provision_schools': 0, 'id_schools': 0, 'population_prov_schools': 0, 'population_unprov_schools': 5970.0, 'is_kindergartens_service': 0, 'provision_kindergartens': 0, 'id_kindergartens': 0, 'population_prov_kindergartens': 0, 'population_unprov_kindergartens': 5970.0}, 24: {'population': 14424.0, 'is_living': True, 'is_schools_service': 1, 'provision_schools': 0, 'id_schools': 0, 'population_prov_schools': 0, 'population_unprov_schools': 14424.0, 'schools_capacity': 331, 'is_kindergartens_service': 1, 'provision_kindergartens': 0, 'id_kindergartens': 0, 'population_prov_kindergartens': 0, 'population_unprov_kindergartens': 14424.0, 'kindergartens_capacity': 136}, 25: {'population': 0.0, 'is_living': False, 'is_schools_service': 0, 'provision_schools': 0, 'id_schools': 0, 'is_kindergartens_service': 0, 'provision_kindergartens': 0, 'id_kindergartens': 0}, 26: {'population': 0.0, 'is_living': False, 'is_schools_service': 0, 'provision_schools': 0, 'id_schools': 0, 'is_kindergartens_service': 0, 'provision_kindergartens': 0, 'id_kindergartens': 0}, 27: {'population': 0.0, 'is_living': False, 'is_schools_service': 0, 'provision_schools': 0, 'id_schools': 0, 'is_kindergartens_service': 0, 'provision_kindergartens': 0, 'id_kindergartens': 0}, 28: {'population': 0.0, 'is_living': False, 'is_schools_service': 0, 'provision_schools': 0, 'id_schools': 0, 'is_kindergartens_service': 0, 'provision_kindergartens': 0, 'id_kindergartens': 0}, 29: {'population': 0.0, 'is_living': False, 'is_schools_service': 0, 'provision_schools': 0, 'id_schools': 0, 'is_kindergartens_service': 0, 'provision_kindergartens': 0, 'id_kindergartens': 0}, 30: {'population': 0.0, 'is_living': False, 'is_schools_service': 0, 'provision_schools': 0, 'id_schools': 0, 'is_kindergartens_service': 0, 'provision_kindergartens': 0, 'id_kindergartens': 0}, 31: {'population': 0.0, 'is_living': False, 'is_schools_service': 0, 'provision_schools': 0, 'id_schools': 0, 'is_kindergartens_service': 0, 'provision_kindergartens': 0, 'id_kindergartens': 0}, 32: {'population': 527.0, 'is_living': True, 'is_schools_service': 0, 'provision_schools': 0, 'id_schools': 0, 'population_prov_schools': 0, 'population_unprov_schools': 527.0, 'is_kindergartens_service': 0, 'provision_kindergartens': 0, 'id_kindergartens': 0, 'population_prov_kindergartens': 0, 'population_unprov_kindergartens': 527.0}, 33: {'population': 0.0, 'is_living': False, 'is_schools_service': 0, 'provision_schools': 0, 'id_schools': 0, 'is_kindergartens_service': 0, 'provision_kindergartens': 0, 'id_kindergartens': 0}, 34: {'population': 394.0, 'is_living': True, 'is_schools_service': 1, 'provision_schools': 0, 'id_schools': 0, 'population_prov_schools': 0, 'population_unprov_schools': 394.0, 'schools_capacity': 850, 'is_kindergartens_service': 0, 'provision_kindergartens': 0, 'id_kindergartens': 0, 'population_prov_kindergartens': 0, 'population_unprov_kindergartens': 394.0}, 35: {'population': 0.0, 'is_living': False, 'is_schools_service': 0, 'provision_schools': 0, 'id_schools': 0, 'is_kindergartens_service': 0, 'provision_kindergartens': 0, 'id_kindergartens': 0}, 36: {'population': 1001.0, 'is_living': True, 'is_schools_service': 0, 'provision_schools': 0, 'id_schools': 0, 'population_prov_schools': 0, 'population_unprov_schools': 1001.0, 'is_kindergartens_service': 1, 'provision_kindergartens': 0, 'id_kindergartens': 0, 'population_prov_kindergartens': 0, 'population_unprov_kindergartens': 1001.0, 'kindergartens_capacity': 713}, 37: {'population': 892.0, 'is_living': True, 'is_schools_service': 1, 'provision_schools': 0, 'id_schools': 0, 'population_prov_schools': 0, 'population_unprov_schools': 892.0, 'schools_capacity': 2161, 'is_kindergartens_service': 1, 'provision_kindergartens': 0, 'id_kindergartens': 0, 'population_prov_kindergartens': 0, 'population_unprov_kindergartens': 892.0, 'kindergartens_capacity': 296}, 38: {'population': 464.0, 'is_living': True, 'is_schools_service': 0, 'provision_schools': 0, 'id_schools': 0, 'population_prov_schools': 0, 'population_unprov_schools': 464.0, 'is_kindergartens_service': 1, 'provision_kindergartens': 0, 'id_kindergartens': 0, 'population_prov_kindergartens': 0, 'population_unprov_kindergartens': 464.0, 'kindergartens_capacity': 192}, 39: {'population': 2006.0, 'is_living': True, 'is_schools_service': 0, 'provision_schools': 0, 'id_schools': 0, 'population_prov_schools': 0, 'population_unprov_schools': 2006.0, 'is_kindergartens_service': 0, 'provision_kindergartens': 0, 'id_kindergartens': 0, 'population_prov_kindergartens': 0, 'population_unprov_kindergartens': 2006.0}, 40: {'population': 2343.0, 'is_living': True, 'is_schools_service': 0, 'provision_schools': 0, 'id_schools': 0, 'population_prov_schools': 0, 'population_unprov_schools': 2343.0, 'is_kindergartens_service': 0, 'provision_kindergartens': 0, 'id_kindergartens': 0, 'population_prov_kindergartens': 0, 'population_unprov_kindergartens': 2343.0}, 41: {'population': 3007.0, 'is_living': True, 'is_schools_service': 0, 'provision_schools': 0, 'id_schools': 0, 'population_prov_schools': 0, 'population_unprov_schools': 3007.0, 'is_kindergartens_service': 0, 'provision_kindergartens': 0, 'id_kindergartens': 0, 'population_prov_kindergartens': 0, 'population_unprov_kindergartens': 3007.0}, 42: {'population': 7429.0, 'is_living': True, 'is_schools_service': 1, 'provision_schools': 0, 'id_schools': 0, 'population_prov_schools': 0, 'population_unprov_schools': 7429.0, 'schools_capacity': 3600, 'is_kindergartens_service': 1, 'provision_kindergartens': 0, 'id_kindergartens': 0, 'population_prov_kindergartens': 0, 'population_unprov_kindergartens': 7429.0, 'kindergartens_capacity': 500}, 43: {'population': 0.0, 'is_living': False, 'is_schools_service': 0, 'provision_schools': 0, 'id_schools': 0, 'is_kindergartens_service': 0, 'provision_kindergartens': 0, 'id_kindergartens': 0}, 44: {'population': 0.0, 'is_living': False, 'is_schools_service': 0, 'provision_schools': 0, 'id_schools': 0, 'is_kindergartens_service': 0, 'provision_kindergartens': 0, 'id_kindergartens': 0}, 45: {'population': 5330.0, 'is_living': True, 'is_schools_service': 0, 'provision_schools': 0, 'id_schools': 0, 'population_prov_schools': 0, 'population_unprov_schools': 5330.0, 'is_kindergartens_service': 1, 'provision_kindergartens': 0, 'id_kindergartens': 0, 'population_prov_kindergartens': 0, 'population_unprov_kindergartens': 5330.0, 'kindergartens_capacity': 205}, 46: {'population': 0.0, 'is_living': False, 'is_schools_service': 0, 'provision_schools': 0, 'id_schools': 0, 'is_kindergartens_service': 0, 'provision_kindergartens': 0, 'id_kindergartens': 0}, 47: {'population': 0.0, 'is_living': False, 'is_schools_service': 0, 'provision_schools': 0, 'id_schools': 0, 'is_kindergartens_service': 0, 'provision_kindergartens': 0, 'id_kindergartens': 0}, 48: {'population': 0.0, 'is_living': False, 'is_schools_service': 0, 'provision_schools': 0, 'id_schools': 0, 'is_kindergartens_service': 0, 'provision_kindergartens': 0, 'id_kindergartens': 0}, 49: {'population': 306.0, 'is_living': True, 'is_schools_service': 0, 'provision_schools': 0, 'id_schools': 0, 'population_prov_schools': 0, 'population_unprov_schools': 306.0, 'is_kindergartens_service': 0, 'provision_kindergartens': 0, 'id_kindergartens': 0, 'population_prov_kindergartens': 0, 'population_unprov_kindergartens': 306.0}, 50: {'population': 0.0, 'is_living': False, 'is_schools_service': 0, 'provision_schools': 0, 'id_schools': 0, 'is_kindergartens_service': 0, 'provision_kindergartens': 0, 'id_kindergartens': 0}, 51: {'population': 0.0, 'is_living': False, 'is_schools_service': 0, 'provision_schools': 0, 'id_schools': 0, 'is_kindergartens_service': 0, 'provision_kindergartens': 0, 'id_kindergartens': 0}, 52: {'population': 0.0, 'is_living': False, 'is_schools_service': 0, 'provision_schools': 0, 'id_schools': 0, 'is_kindergartens_service': 0, 'provision_kindergartens': 0, 'id_kindergartens': 0}, 53: {'population': 1018.0, 'is_living': True, 'is_schools_service': 0, 'provision_schools': 0, 'id_schools': 0, 'population_prov_schools': 0, 'population_unprov_schools': 1018.0, 'is_kindergartens_service': 0, 'provision_kindergartens': 0, 'id_kindergartens': 0, 'population_prov_kindergartens': 0, 'population_unprov_kindergartens': 1018.0}, 54: {'population': 818.0, 'is_living': True, 'is_schools_service': 0, 'provision_schools': 0, 'id_schools': 0, 'population_prov_schools': 0, 'population_unprov_schools': 818.0, 'is_kindergartens_service': 0, 'provision_kindergartens': 0, 'id_kindergartens': 0, 'population_prov_kindergartens': 0, 'population_unprov_kindergartens': 818.0}, 55: {'population': 435.0, 'is_living': True, 'is_schools_service': 0, 'provision_schools': 0, 'id_schools': 0, 'population_prov_schools': 0, 'population_unprov_schools': 435.0, 'is_kindergartens_service': 1, 'provision_kindergartens': 0, 'id_kindergartens': 0, 'population_prov_kindergartens': 0, 'population_unprov_kindergartens': 435.0, 'kindergartens_capacity': 41}, 56: {'population': 260.0, 'is_living': True, 'is_schools_service': 1, 'provision_schools': 0, 'id_schools': 0, 'population_prov_schools': 0, 'population_unprov_schools': 260.0, 'schools_capacity': 440, 'is_kindergartens_service': 0, 'provision_kindergartens': 0, 'id_kindergartens': 0, 'population_prov_kindergartens': 0, 'population_unprov_kindergartens': 260.0}, 57: {'population': 236.0, 'is_living': True, 'is_schools_service': 0, 'provision_schools': 0, 'id_schools': 0, 'population_prov_schools': 0, 'population_unprov_schools': 236.0, 'is_kindergartens_service': 0, 'provision_kindergartens': 0, 'id_kindergartens': 0, 'population_prov_kindergartens': 0, 'population_unprov_kindergartens': 236.0}, 58: {'population': 492.0, 'is_living': True, 'is_schools_service': 0, 'provision_schools': 0, 'id_schools': 0, 'population_prov_schools': 0, 'population_unprov_schools': 492.0, 'is_kindergartens_service': 0, 'provision_kindergartens': 0, 'id_kindergartens': 0, 'population_prov_kindergartens': 0, 'population_unprov_kindergartens': 492.0}, 59: {'population': 434.0, 'is_living': True, 'is_schools_service': 0, 'provision_schools': 0, 'id_schools': 0, 'population_prov_schools': 0, 'population_unprov_schools': 434.0, 'is_kindergartens_service': 0, 'provision_kindergartens': 0, 'id_kindergartens': 0, 'population_prov_kindergartens': 0, 'population_unprov_kindergartens': 434.0}, 60: {'population': 285.0, 'is_living': True, 'is_schools_service': 0, 'provision_schools': 0, 'id_schools': 0, 'population_prov_schools': 0, 'population_unprov_schools': 285.0, 'is_kindergartens_service': 1, 'provision_kindergartens': 0, 'id_kindergartens': 0, 'population_prov_kindergartens': 0, 'population_unprov_kindergartens': 285.0, 'kindergartens_capacity': 101}, 61: {'population': 377.0, 'is_living': True, 'is_schools_service': 0, 'provision_schools': 0, 'id_schools': 0, 'population_prov_schools': 0, 'population_unprov_schools': 377.0, 'is_kindergartens_service': 1, 'provision_kindergartens': 0, 'id_kindergartens': 0, 'population_prov_kindergartens': 0, 'population_unprov_kindergartens': 377.0, 'kindergartens_capacity': 280}, 62: {'population': 536.0, 'is_living': True, 'is_schools_service': 0, 'provision_schools': 0, 'id_schools': 0, 'population_prov_schools': 0, 'population_unprov_schools': 536.0, 'is_kindergartens_service': 0, 'provision_kindergartens': 0, 'id_kindergartens': 0, 'population_prov_kindergartens': 0, 'population_unprov_kindergartens': 536.0}, 63: {'population': 286.0, 'is_living': True, 'is_schools_service': 1, 'provision_schools': 0, 'id_schools': 0, 'population_prov_schools': 0, 'population_unprov_schools': 286.0, 'schools_capacity': 120, 'is_kindergartens_service': 1, 'provision_kindergartens': 0, 'id_kindergartens': 0, 'population_prov_kindergartens': 0, 'population_unprov_kindergartens': 286.0, 'kindergartens_capacity': 291}, 64: {'population': 517.0, 'is_living': True, 'is_schools_service': 0, 'provision_schools': 0, 'id_schools': 0, 'population_prov_schools': 0, 'population_unprov_schools': 517.0, 'is_kindergartens_service': 0, 'provision_kindergartens': 0, 'id_kindergartens': 0, 'population_prov_kindergartens': 0, 'population_unprov_kindergartens': 517.0}, 65: {'population': 431.0, 'is_living': True, 'is_schools_service': 0, 'provision_schools': 0, 'id_schools': 0, 'population_prov_schools': 0, 'population_unprov_schools': 431.0, 'is_kindergartens_service': 0, 'provision_kindergartens': 0, 'id_kindergartens': 0, 'population_prov_kindergartens': 0, 'population_unprov_kindergartens': 431.0}, 66: {'population': 0.0, 'is_living': False, 'is_schools_service': 0, 'provision_schools': 0, 'id_schools': 0, 'is_kindergartens_service': 0, 'provision_kindergartens': 0, 'id_kindergartens': 0}, 67: {'population': 0.0, 'is_living': False, 'is_schools_service': 0, 'provision_schools': 0, 'id_schools': 0, 'is_kindergartens_service': 0, 'provision_kindergartens': 0, 'id_kindergartens': 0}, 68: {'population': 0.0, 'is_living': False, 'is_schools_service': 0, 'provision_schools': 0, 'id_schools': 0, 'is_kindergartens_service': 0, 'provision_kindergartens': 0, 'id_kindergartens': 0}, 69: {'population': 0.0, 'is_living': False, 'is_schools_service': 0, 'provision_schools': 0, 'id_schools': 0, 'is_kindergartens_service': 0, 'provision_kindergartens': 0, 'id_kindergartens': 0}, 70: {'population': 2285.0, 'is_living': True, 'is_schools_service': 0, 'provision_schools': 0, 'id_schools': 0, 'population_prov_schools': 0, 'population_unprov_schools': 2285.0, 'is_kindergartens_service': 1, 'provision_kindergartens': 0, 'id_kindergartens': 0, 'population_prov_kindergartens': 0, 'population_unprov_kindergartens': 2285.0, 'kindergartens_capacity': 280}, 71: {'population': 1536.0, 'is_living': True, 'is_schools_service': 1, 'provision_schools': 0, 'id_schools': 0, 'population_prov_schools': 0, 'population_unprov_schools': 1536.0, 'schools_capacity': 960, 'is_kindergartens_service': 1, 'provision_kindergartens': 0, 'id_kindergartens': 0, 'population_prov_kindergartens': 0, 'population_unprov_kindergartens': 1536.0, 'kindergartens_capacity': 201}, 72: {'population': 5027.0, 'is_living': True, 'is_schools_service': 1, 'provision_schools': 0, 'id_schools': 0, 'population_prov_schools': 0, 'population_unprov_schools': 5027.0, 'schools_capacity': 4523, 'is_kindergartens_service': 1, 'provision_kindergartens': 0, 'id_kindergartens': 0, 'population_prov_kindergartens': 0, 'population_unprov_kindergartens': 5027.0, 'kindergartens_capacity': 881}, 73: {'population': 0.0, 'is_living': False, 'is_schools_service': 0, 'provision_schools': 0, 'id_schools': 0, 'is_kindergartens_service': 0, 'provision_kindergartens': 0, 'id_kindergartens': 0}, 74: {'population': 517.0, 'is_living': True, 'is_schools_service': 0, 'provision_schools': 0, 'id_schools': 0, 'population_prov_schools': 0, 'population_unprov_schools': 517.0, 'is_kindergartens_service': 0, 'provision_kindergartens': 0, 'id_kindergartens': 0, 'population_prov_kindergartens': 0, 'population_unprov_kindergartens': 517.0}, 75: {'population': 3792.0, 'is_living': True, 'is_schools_service': 0, 'provision_schools': 0, 'id_schools': 0, 'population_prov_schools': 0, 'population_unprov_schools': 3792.0, 'is_kindergartens_service': 1, 'provision_kindergartens': 0, 'id_kindergartens': 0, 'population_prov_kindergartens': 0, 'population_unprov_kindergartens': 3792.0, 'kindergartens_capacity': 280}, 76: {'population': 1723.0, 'is_living': True, 'is_schools_service': 1, 'provision_schools': 0, 'id_schools': 0, 'population_prov_schools': 0, 'population_unprov_schools': 1723.0, 'schools_capacity': 958, 'is_kindergartens_service': 0, 'provision_kindergartens': 0, 'id_kindergartens': 0, 'population_prov_kindergartens': 0, 'population_unprov_kindergartens': 1723.0}, 77: {'population': 0.0, 'is_living': False, 'is_schools_service': 0, 'provision_schools': 0, 'id_schools': 0, 'is_kindergartens_service': 0, 'provision_kindergartens': 0, 'id_kindergartens': 0}, 78: {'population': 2172.0, 'is_living': True, 'is_schools_service': 1, 'provision_schools': 0, 'id_schools': 0, 'population_prov_schools': 0, 'population_unprov_schools': 2172.0, 'schools_capacity': 285, 'is_kindergartens_service': 1, 'provision_kindergartens': 0, 'id_kindergartens': 0, 'population_prov_kindergartens': 0, 'population_unprov_kindergartens': 2172.0, 'kindergartens_capacity': 189}, 79: {'population': 840.0, 'is_living': True, 'is_schools_service': 1, 'provision_schools': 0, 'id_schools': 0, 'population_prov_schools': 0, 'population_unprov_schools': 840.0, 'schools_capacity': 960, 'is_kindergartens_service': 0, 'provision_kindergartens': 0, 'id_kindergartens': 0, 'population_prov_kindergartens': 0, 'population_unprov_kindergartens': 840.0}, 80: {'population': 0.0, 'is_living': False, 'is_schools_service': 0, 'provision_schools': 0, 'id_schools': 0, 'is_kindergartens_service': 0, 'provision_kindergartens': 0, 'id_kindergartens': 0}, 81: {'population': 514.0, 'is_living': True, 'is_schools_service': 0, 'provision_schools': 0, 'id_schools': 0, 'population_prov_schools': 0, 'population_unprov_schools': 514.0, 'is_kindergartens_service': 0, 'provision_kindergartens': 0, 'id_kindergartens': 0, 'population_prov_kindergartens': 0, 'population_unprov_kindergartens': 514.0}, 82: {'population': 4783.0, 'is_living': True, 'is_schools_service': 0, 'provision_schools': 0, 'id_schools': 0, 'population_prov_schools': 0, 'population_unprov_schools': 4783.0, 'is_kindergartens_service': 0, 'provision_kindergartens': 0, 'id_kindergartens': 0, 'population_prov_kindergartens': 0, 'population_unprov_kindergartens': 4783.0}, 83: {'population': 1405.0, 'is_living': True, 'is_schools_service': 1, 'provision_schools': 0, 'id_schools': 0, 'population_prov_schools': 0, 'population_unprov_schools': 1405.0, 'schools_capacity': 850, 'is_kindergartens_service': 0, 'provision_kindergartens': 0, 'id_kindergartens': 0, 'population_prov_kindergartens': 0, 'population_unprov_kindergartens': 1405.0}, 84: {'population': 303.0, 'is_living': True, 'is_schools_service': 0, 'provision_schools': 0, 'id_schools': 0, 'population_prov_schools': 0, 'population_unprov_schools': 303.0, 'is_kindergartens_service': 0, 'provision_kindergartens': 0, 'id_kindergartens': 0, 'population_prov_kindergartens': 0, 'population_unprov_kindergartens': 303.0}, 85: {'population': 729.0, 'is_living': True, 'is_schools_service': 0, 'provision_schools': 0, 'id_schools': 0, 'population_prov_schools': 0, 'population_unprov_schools': 729.0, 'is_kindergartens_service': 0, 'provision_kindergartens': 0, 'id_kindergartens': 0, 'population_prov_kindergartens': 0, 'population_unprov_kindergartens': 729.0}, 86: {'population': 197.0, 'is_living': True, 'is_schools_service': 0, 'provision_schools': 0, 'id_schools': 0, 'population_prov_schools': 0, 'population_unprov_schools': 197.0, 'is_kindergartens_service': 0, 'provision_kindergartens': 0, 'id_kindergartens': 0, 'population_prov_kindergartens': 0, 'population_unprov_kindergartens': 197.0}, 87: {'population': 266.0, 'is_living': True, 'is_schools_service': 1, 'provision_schools': 0, 'id_schools': 0, 'population_prov_schools': 0, 'population_unprov_schools': 266.0, 'schools_capacity': 598, 'is_kindergartens_service': 1, 'provision_kindergartens': 0, 'id_kindergartens': 0, 'population_prov_kindergartens': 0, 'population_unprov_kindergartens': 266.0, 'kindergartens_capacity': 97}, 88: {'population': 0.0, 'is_living': False, 'is_schools_service': 0, 'provision_schools': 0, 'id_schools': 0, 'is_kindergartens_service': 0, 'provision_kindergartens': 0, 'id_kindergartens': 0}, 89: {'population': 184.0, 'is_living': True, 'is_schools_service': 1, 'provision_schools': 0, 'id_schools': 0, 'population_prov_schools': 0, 'population_unprov_schools': 184.0, 'schools_capacity': 134, 'is_kindergartens_service': 0, 'provision_kindergartens': 0, 'id_kindergartens': 0, 'population_prov_kindergartens': 0, 'population_unprov_kindergartens': 184.0}, 90: {'population': 1273.0, 'is_living': True, 'is_schools_service': 0, 'provision_schools': 0, 'id_schools': 0, 'population_prov_schools': 0, 'population_unprov_schools': 1273.0, 'is_kindergartens_service': 0, 'provision_kindergartens': 0, 'id_kindergartens': 0, 'population_prov_kindergartens': 0, 'population_unprov_kindergartens': 1273.0}, 91: {'population': 3616.0, 'is_living': True, 'is_schools_service': 0, 'provision_schools': 0, 'id_schools': 0, 'population_prov_schools': 0, 'population_unprov_schools': 3616.0, 'is_kindergartens_service': 0, 'provision_kindergartens': 0, 'id_kindergartens': 0, 'population_prov_kindergartens': 0, 'population_unprov_kindergartens': 3616.0}, 92: {'population': 336.0, 'is_living': True, 'is_schools_service': 0, 'provision_schools': 0, 'id_schools': 0, 'population_prov_schools': 0, 'population_unprov_schools': 336.0, 'is_kindergartens_service': 0, 'provision_kindergartens': 0, 'id_kindergartens': 0, 'population_prov_kindergartens': 0, 'population_unprov_kindergartens': 336.0}, 93: {'population': 2709.0, 'is_living': True, 'is_schools_service': 0, 'provision_schools': 0, 'id_schools': 0, 'population_prov_schools': 0, 'population_unprov_schools': 2709.0, 'is_kindergartens_service': 0, 'provision_kindergartens': 0, 'id_kindergartens': 0, 'population_prov_kindergartens': 0, 'population_unprov_kindergartens': 2709.0}, 94: {'population': 402.0, 'is_living': True, 'is_schools_service': 0, 'provision_schools': 0, 'id_schools': 0, 'population_prov_schools': 0, 'population_unprov_schools': 402.0, 'is_kindergartens_service': 0, 'provision_kindergartens': 0, 'id_kindergartens': 0, 'population_prov_kindergartens': 0, 'population_unprov_kindergartens': 402.0}, 95: {'population': 3056.0, 'is_living': True, 'is_schools_service': 0, 'provision_schools': 0, 'id_schools': 0, 'population_prov_schools': 0, 'population_unprov_schools': 3056.0, 'is_kindergartens_service': 0, 'provision_kindergartens': 0, 'id_kindergartens': 0, 'population_prov_kindergartens': 0, 'population_unprov_kindergartens': 3056.0}, 96: {'population': 49.0, 'is_living': True, 'is_schools_service': 0, 'provision_schools': 0, 'id_schools': 0, 'population_prov_schools': 0, 'population_unprov_schools': 49.0, 'is_kindergartens_service': 0, 'provision_kindergartens': 0, 'id_kindergartens': 0, 'population_prov_kindergartens': 0, 'population_unprov_kindergartens': 49.0}, 97: {'population': 0.0, 'is_living': False, 'is_schools_service': 0, 'provision_schools': 0, 'id_schools': 0, 'is_kindergartens_service': 0, 'provision_kindergartens': 0, 'id_kindergartens': 0}, 98: {'population': 0.0, 'is_living': False, 'is_schools_service': 0, 'provision_schools': 0, 'id_schools': 0, 'is_kindergartens_service': 0, 'provision_kindergartens': 0, 'id_kindergartens': 0}, 99: {'population': 888.0, 'is_living': True, 'is_schools_service': 1, 'provision_schools': 0, 'id_schools': 0, 'population_prov_schools': 0, 'population_unprov_schools': 888.0, 'schools_capacity': 196, 'is_kindergartens_service': 1, 'provision_kindergartens': 0, 'id_kindergartens': 0, 'population_prov_kindergartens': 0, 'population_unprov_kindergartens': 888.0, 'kindergartens_capacity': 78}, 100: {'population': 0.0, 'is_living': False, 'is_schools_service': 0, 'provision_schools': 0, 'id_schools': 0, 'is_kindergartens_service': 0, 'provision_kindergartens': 0, 'id_kindergartens': 0}, 101: {'population': 4675.0, 'is_living': True, 'is_schools_service': 0, 'provision_schools': 0, 'id_schools': 0, 'population_prov_schools': 0, 'population_unprov_schools': 4675.0, 'is_kindergartens_service': 1, 'provision_kindergartens': 0, 'id_kindergartens': 0, 'population_prov_kindergartens': 0, 'population_unprov_kindergartens': 4675.0, 'kindergartens_capacity': 280}, 102: {'population': 983.0, 'is_living': True, 'is_schools_service': 0, 'provision_schools': 0, 'id_schools': 0, 'population_prov_schools': 0, 'population_unprov_schools': 983.0, 'is_kindergartens_service': 0, 'provision_kindergartens': 0, 'id_kindergartens': 0, 'population_prov_kindergartens': 0, 'population_unprov_kindergartens': 983.0}, 103: {'population': 761.0, 'is_living': True, 'is_schools_service': 0, 'provision_schools': 0, 'id_schools': 0, 'population_prov_schools': 0, 'population_unprov_schools': 761.0, 'is_kindergartens_service': 0, 'provision_kindergartens': 0, 'id_kindergartens': 0, 'population_prov_kindergartens': 0, 'population_unprov_kindergartens': 761.0}, 104: {'population': 638.0, 'is_living': True, 'is_schools_service': 0, 'provision_schools': 0, 'id_schools': 0, 'population_prov_schools': 0, 'population_unprov_schools': 638.0, 'is_kindergartens_service': 1, 'provision_kindergartens': 0, 'id_kindergartens': 0, 'population_prov_kindergartens': 0, 'population_unprov_kindergartens': 638.0, 'kindergartens_capacity': 17}, 105: {'population': 297.0, 'is_living': True, 'is_schools_service': 0, 'provision_schools': 0, 'id_schools': 0, 'population_prov_schools': 0, 'population_unprov_schools': 297.0, 'is_kindergartens_service': 1, 'provision_kindergartens': 0, 'id_kindergartens': 0, 'population_prov_kindergartens': 0, 'population_unprov_kindergartens': 297.0, 'kindergartens_capacity': 696}, 106: {'population': 2030.0, 'is_living': True, 'is_schools_service': 0, 'provision_schools': 0, 'id_schools': 0, 'population_prov_schools': 0, 'population_unprov_schools': 2030.0, 'is_kindergartens_service': 0, 'provision_kindergartens': 0, 'id_kindergartens': 0, 'population_prov_kindergartens': 0, 'population_unprov_kindergartens': 2030.0}, 107: {'population': 0.0, 'is_living': False, 'is_schools_service': 0, 'provision_schools': 0, 'id_schools': 0, 'is_kindergartens_service': 0, 'provision_kindergartens': 0, 'id_kindergartens': 0}, 108: {'population': 792.0, 'is_living': True, 'is_schools_service': 0, 'provision_schools': 0, 'id_schools': 0, 'population_prov_schools': 0, 'population_unprov_schools': 792.0, 'is_kindergartens_service': 0, 'provision_kindergartens': 0, 'id_kindergartens': 0, 'population_prov_kindergartens': 0, 'population_unprov_kindergartens': 792.0}, 109: {'population': 2290.0, 'is_living': True, 'is_schools_service': 0, 'provision_schools': 0, 'id_schools': 0, 'population_prov_schools': 0, 'population_unprov_schools': 2290.0, 'is_kindergartens_service': 0, 'provision_kindergartens': 0, 'id_kindergartens': 0, 'population_prov_kindergartens': 0, 'population_unprov_kindergartens': 2290.0}, 110: {'population': 975.0, 'is_living': True, 'is_schools_service': 0, 'provision_schools': 0, 'id_schools': 0, 'population_prov_schools': 0, 'population_unprov_schools': 975.0, 'is_kindergartens_service': 0, 'provision_kindergartens': 0, 'id_kindergartens': 0, 'population_prov_kindergartens': 0, 'population_unprov_kindergartens': 975.0}, 111: {'population': 0.0, 'is_living': False, 'is_schools_service': 0, 'provision_schools': 0, 'id_schools': 0, 'is_kindergartens_service': 0, 'provision_kindergartens': 0, 'id_kindergartens': 0}, 112: {'population': 0.0, 'is_living': False, 'is_schools_service': 0, 'provision_schools': 0, 'id_schools': 0, 'is_kindergartens_service': 0, 'provision_kindergartens': 0, 'id_kindergartens': 0}, 113: {'population': 0.0, 'is_living': False, 'is_schools_service': 0, 'provision_schools': 0, 'id_schools': 0, 'is_kindergartens_service': 0, 'provision_kindergartens': 0, 'id_kindergartens': 0}, 114: {'population': 0.0, 'is_living': False, 'is_schools_service': 0, 'provision_schools': 0, 'id_schools': 0, 'is_kindergartens_service': 0, 'provision_kindergartens': 0, 'id_kindergartens': 0}, 115: {'population': 0.0, 'is_living': False, 'is_schools_service': 0, 'provision_schools': 0, 'id_schools': 0, 'is_kindergartens_service': 0, 'provision_kindergartens': 0, 'id_kindergartens': 0}, 116: {'population': 612.0, 'is_living': True, 'is_schools_service': 1, 'provision_schools': 0, 'id_schools': 0, 'population_prov_schools': 0, 'population_unprov_schools': 612.0, 'schools_capacity': 1146, 'is_kindergartens_service': 0, 'provision_kindergartens': 0, 'id_kindergartens': 0, 'population_prov_kindergartens': 0, 'population_unprov_kindergartens': 612.0}, 117: {'population': 2046.0, 'is_living': True, 'is_schools_service': 0, 'provision_schools': 0, 'id_schools': 0, 'population_prov_schools': 0, 'population_unprov_schools': 2046.0, 'is_kindergartens_service': 0, 'provision_kindergartens': 0, 'id_kindergartens': 0, 'population_prov_kindergartens': 0, 'population_unprov_kindergartens': 2046.0}, 118: {'population': 2102.0, 'is_living': True, 'is_schools_service': 0, 'provision_schools': 0, 'id_schools': 0, 'population_prov_schools': 0, 'population_unprov_schools': 2102.0, 'is_kindergartens_service': 0, 'provision_kindergartens': 0, 'id_kindergartens': 0, 'population_prov_kindergartens': 0, 'population_unprov_kindergartens': 2102.0}, 119: {'population': 437.0, 'is_living': True, 'is_schools_service': 0, 'provision_schools': 0, 'id_schools': 0, 'population_prov_schools': 0, 'population_unprov_schools': 437.0, 'is_kindergartens_service': 0, 'provision_kindergartens': 0, 'id_kindergartens': 0, 'population_prov_kindergartens': 0, 'population_unprov_kindergartens': 437.0}, 120: {'population': 808.0, 'is_living': True, 'is_schools_service': 1, 'provision_schools': 0, 'id_schools': 0, 'population_prov_schools': 0, 'population_unprov_schools': 808.0, 'schools_capacity': 960, 'is_kindergartens_service': 0, 'provision_kindergartens': 0, 'id_kindergartens': 0, 'population_prov_kindergartens': 0, 'population_unprov_kindergartens': 808.0}, 121: {'population': 814.0, 'is_living': True, 'is_schools_service': 0, 'provision_schools': 0, 'id_schools': 0, 'population_prov_schools': 0, 'population_unprov_schools': 814.0, 'is_kindergartens_service': 0, 'provision_kindergartens': 0, 'id_kindergartens': 0, 'population_prov_kindergartens': 0, 'population_unprov_kindergartens': 814.0}, 122: {'population': 2119.0, 'is_living': True, 'is_schools_service': 0, 'provision_schools': 0, 'id_schools': 0, 'population_prov_schools': 0, 'population_unprov_schools': 2119.0, 'is_kindergartens_service': 0, 'provision_kindergartens': 0, 'id_kindergartens': 0, 'population_prov_kindergartens': 0, 'population_unprov_kindergartens': 2119.0}, 123: {'population': 2765.0, 'is_living': True, 'is_schools_service': 1, 'provision_schools': 0, 'id_schools': 0, 'population_prov_schools': 0, 'population_unprov_schools': 2765.0, 'schools_capacity': 1056, 'is_kindergartens_service': 0, 'provision_kindergartens': 0, 'id_kindergartens': 0, 'population_prov_kindergartens': 0, 'population_unprov_kindergartens': 2765.0}, 124: {'population': 1601.0, 'is_living': True, 'is_schools_service': 1, 'provision_schools': 0, 'id_schools': 0, 'population_prov_schools': 0, 'population_unprov_schools': 1601.0, 'schools_capacity': 479, 'is_kindergartens_service': 0, 'provision_kindergartens': 0, 'id_kindergartens': 0, 'population_prov_kindergartens': 0, 'population_unprov_kindergartens': 1601.0}, 125: {'population': 1150.0, 'is_living': True, 'is_schools_service': 0, 'provision_schools': 0, 'id_schools': 0, 'population_prov_schools': 0, 'population_unprov_schools': 1150.0, 'is_kindergartens_service': 0, 'provision_kindergartens': 0, 'id_kindergartens': 0, 'population_prov_kindergartens': 0, 'population_unprov_kindergartens': 1150.0}, 126: {'population': 671.0, 'is_living': True, 'is_schools_service': 0, 'provision_schools': 0, 'id_schools': 0, 'population_prov_schools': 0, 'population_unprov_schools': 671.0, 'is_kindergartens_service': 0, 'provision_kindergartens': 0, 'id_kindergartens': 0, 'population_prov_kindergartens': 0, 'population_unprov_kindergartens': 671.0}, 127: {'population': 0.0, 'is_living': False, 'is_schools_service': 0, 'provision_schools': 0, 'id_schools': 0, 'is_kindergartens_service': 0, 'provision_kindergartens': 0, 'id_kindergartens': 0}, 128: {'population': 0.0, 'is_living': False, 'is_schools_service': 0, 'provision_schools': 0, 'id_schools': 0, 'is_kindergartens_service': 0, 'provision_kindergartens': 0, 'id_kindergartens': 0}, 129: {'population': 0.0, 'is_living': False, 'is_schools_service': 0, 'provision_schools': 0, 'id_schools': 0, 'is_kindergartens_service': 0, 'provision_kindergartens': 0, 'id_kindergartens': 0}, 130: {'population': 0.0, 'is_living': False, 'is_schools_service': 0, 'provision_schools': 0, 'id_schools': 0, 'is_kindergartens_service': 0, 'provision_kindergartens': 0, 'id_kindergartens': 0}, 131: {'population': 691.0, 'is_living': True, 'is_schools_service': 0, 'provision_schools': 0, 'id_schools': 0, 'population_prov_schools': 0, 'population_unprov_schools': 691.0, 'is_kindergartens_service': 0, 'provision_kindergartens': 0, 'id_kindergartens': 0, 'population_prov_kindergartens': 0, 'population_unprov_kindergartens': 691.0}, 132: {'population': 567.0, 'is_living': True, 'is_schools_service': 0, 'provision_schools': 0, 'id_schools': 0, 'population_prov_schools': 0, 'population_unprov_schools': 567.0, 'is_kindergartens_service': 0, 'provision_kindergartens': 0, 'id_kindergartens': 0, 'population_prov_kindergartens': 0, 'population_unprov_kindergartens': 567.0}, 133: {'population': 460.0, 'is_living': True, 'is_schools_service': 0, 'provision_schools': 0, 'id_schools': 0, 'population_prov_schools': 0, 'population_unprov_schools': 460.0, 'is_kindergartens_service': 0, 'provision_kindergartens': 0, 'id_kindergartens': 0, 'population_prov_kindergartens': 0, 'population_unprov_kindergartens': 460.0}, 134: {'population': 0.0, 'is_living': False, 'is_schools_service': 0, 'provision_schools': 0, 'id_schools': 0, 'is_kindergartens_service': 0, 'provision_kindergartens': 0, 'id_kindergartens': 0}, 135: {'population': 171.0, 'is_living': True, 'is_schools_service': 0, 'provision_schools': 0, 'id_schools': 0, 'population_prov_schools': 0, 'population_unprov_schools': 171.0, 'is_kindergartens_service': 0, 'provision_kindergartens': 0, 'id_kindergartens': 0, 'population_prov_kindergartens': 0, 'population_unprov_kindergartens': 171.0}, 136: {'population': 0.0, 'is_living': False, 'is_schools_service': 0, 'provision_schools': 0, 'id_schools': 0, 'is_kindergartens_service': 0, 'provision_kindergartens': 0, 'id_kindergartens': 0}, 137: {'population': 0.0, 'is_living': False, 'is_schools_service': 0, 'provision_schools': 0, 'id_schools': 0, 'is_kindergartens_service': 0, 'provision_kindergartens': 0, 'id_kindergartens': 0}, 138: {'population': 208.0, 'is_living': True, 'is_schools_service': 1, 'provision_schools': 0, 'id_schools': 0, 'population_prov_schools': 0, 'population_unprov_schools': 208.0, 'schools_capacity': 1463, 'is_kindergartens_service': 0, 'provision_kindergartens': 0, 'id_kindergartens': 0, 'population_prov_kindergartens': 0, 'population_unprov_kindergartens': 208.0}, 139: {'population': 0.0, 'is_living': False, 'is_schools_service': 0, 'provision_schools': 0, 'id_schools': 0, 'is_kindergartens_service': 0, 'provision_kindergartens': 0, 'id_kindergartens': 0}, 140: {'population': 0.0, 'is_living': False, 'is_schools_service': 0, 'provision_schools': 0, 'id_schools': 0, 'is_kindergartens_service': 0, 'provision_kindergartens': 0, 'id_kindergartens': 0}, 141: {'population': 0.0, 'is_living': False, 'is_schools_service': 0, 'provision_schools': 0, 'id_schools': 0, 'is_kindergartens_service': 0, 'provision_kindergartens': 0, 'id_kindergartens': 0}, 142: {'population': 566.0, 'is_living': True, 'is_schools_service': 0, 'provision_schools': 0, 'id_schools': 0, 'population_prov_schools': 0, 'population_unprov_schools': 566.0, 'is_kindergartens_service': 1, 'provision_kindergartens': 0, 'id_kindergartens': 0, 'population_prov_kindergartens': 0, 'population_unprov_kindergartens': 566.0, 'kindergartens_capacity': 421}, 143: {'population': 0.0, 'is_living': False, 'is_schools_service': 0, 'provision_schools': 0, 'id_schools': 0, 'is_kindergartens_service': 0, 'provision_kindergartens': 0, 'id_kindergartens': 0}, 144: {'population': 0.0, 'is_living': False, 'is_schools_service': 0, 'provision_schools': 0, 'id_schools': 0, 'is_kindergartens_service': 0, 'provision_kindergartens': 0, 'id_kindergartens': 0}, 145: {'population': 2057.0, 'is_living': True, 'is_schools_service': 1, 'provision_schools': 0, 'id_schools': 0, 'population_prov_schools': 0, 'population_unprov_schools': 2057.0, 'schools_capacity': 1200, 'is_kindergartens_service': 0, 'provision_kindergartens': 0, 'id_kindergartens': 0, 'population_prov_kindergartens': 0, 'population_unprov_kindergartens': 2057.0}, 146: {'population': 2502.0, 'is_living': True, 'is_schools_service': 0, 'provision_schools': 0, 'id_schools': 0, 'population_prov_schools': 0, 'population_unprov_schools': 2502.0, 'is_kindergartens_service': 1, 'provision_kindergartens': 0, 'id_kindergartens': 0, 'population_prov_kindergartens': 0, 'population_unprov_kindergartens': 2502.0, 'kindergartens_capacity': 404}, 147: {'population': 2353.0, 'is_living': True, 'is_schools_service': 0, 'provision_schools': 0, 'id_schools': 0, 'population_prov_schools': 0, 'population_unprov_schools': 2353.0, 'is_kindergartens_service': 0, 'provision_kindergartens': 0, 'id_kindergartens': 0, 'population_prov_kindergartens': 0, 'population_unprov_kindergartens': 2353.0}, 148: {'population': 3983.0, 'is_living': True, 'is_schools_service': 1, 'provision_schools': 0, 'id_schools': 0, 'population_prov_schools': 0, 'population_unprov_schools': 3983.0, 'schools_capacity': 861, 'is_kindergartens_service': 0, 'provision_kindergartens': 0, 'id_kindergartens': 0, 'population_prov_kindergartens': 0, 'population_unprov_kindergartens': 3983.0}, 149: {'population': 1999.0, 'is_living': True, 'is_schools_service': 0, 'provision_schools': 0, 'id_schools': 0, 'population_prov_schools': 0, 'population_unprov_schools': 1999.0, 'is_kindergartens_service': 0, 'provision_kindergartens': 0, 'id_kindergartens': 0, 'population_prov_kindergartens': 0, 'population_unprov_kindergartens': 1999.0}, 150: {'population': 3809.0, 'is_living': True, 'is_schools_service': 1, 'provision_schools': 0, 'id_schools': 0, 'population_prov_schools': 0, 'population_unprov_schools': 3809.0, 'schools_capacity': 1920, 'is_kindergartens_service': 1, 'provision_kindergartens': 0, 'id_kindergartens': 0, 'population_prov_kindergartens': 0, 'population_unprov_kindergartens': 3809.0, 'kindergartens_capacity': 280}, 151: {'population': 2556.0, 'is_living': True, 'is_schools_service': 0, 'provision_schools': 0, 'id_schools': 0, 'population_prov_schools': 0, 'population_unprov_schools': 2556.0, 'is_kindergartens_service': 1, 'provision_kindergartens': 0, 'id_kindergartens': 0, 'population_prov_kindergartens': 0, 'population_unprov_kindergartens': 2556.0, 'kindergartens_capacity': 280}, 152: {'population': 1105.0, 'is_living': True, 'is_schools_service': 0, 'provision_schools': 0, 'id_schools': 0, 'population_prov_schools': 0, 'population_unprov_schools': 1105.0, 'is_kindergartens_service': 0, 'provision_kindergartens': 0, 'id_kindergartens': 0, 'population_prov_kindergartens': 0, 'population_unprov_kindergartens': 1105.0}, 153: {'population': 752.0, 'is_living': True, 'is_schools_service': 0, 'provision_schools': 0, 'id_schools': 0, 'population_prov_schools': 0, 'population_unprov_schools': 752.0, 'is_kindergartens_service': 1, 'provision_kindergartens': 0, 'id_kindergartens': 0, 'population_prov_kindergartens': 0, 'population_unprov_kindergartens': 752.0, 'kindergartens_capacity': 165}, 154: {'population': 619.0, 'is_living': True, 'is_schools_service': 0, 'provision_schools': 0, 'id_schools': 0, 'population_prov_schools': 0, 'population_unprov_schools': 619.0, 'is_kindergartens_service': 0, 'provision_kindergartens': 0, 'id_kindergartens': 0, 'population_prov_kindergartens': 0, 'population_unprov_kindergartens': 619.0}, 155: {'population': 0.0, 'is_living': False, 'is_schools_service': 0, 'provision_schools': 0, 'id_schools': 0, 'is_kindergartens_service': 0, 'provision_kindergartens': 0, 'id_kindergartens': 0}, 156: {'population': 0.0, 'is_living': False, 'is_schools_service': 0, 'provision_schools': 0, 'id_schools': 0, 'is_kindergartens_service': 0, 'provision_kindergartens': 0, 'id_kindergartens': 0}, 157: {'population': 242.0, 'is_living': True, 'is_schools_service': 0, 'provision_schools': 0, 'id_schools': 0, 'population_prov_schools': 0, 'population_unprov_schools': 242.0, 'is_kindergartens_service': 0, 'provision_kindergartens': 0, 'id_kindergartens': 0, 'population_prov_kindergartens': 0, 'population_unprov_kindergartens': 242.0}, 158: {'population': 444.0, 'is_living': True, 'is_schools_service': 0, 'provision_schools': 0, 'id_schools': 0, 'population_prov_schools': 0, 'population_unprov_schools': 444.0, 'is_kindergartens_service': 0, 'provision_kindergartens': 0, 'id_kindergartens': 0, 'population_prov_kindergartens': 0, 'population_unprov_kindergartens': 444.0}, 159: {'population': 434.0, 'is_living': True, 'is_schools_service': 0, 'provision_schools': 0, 'id_schools': 0, 'population_prov_schools': 0, 'population_unprov_schools': 434.0, 'is_kindergartens_service': 0, 'provision_kindergartens': 0, 'id_kindergartens': 0, 'population_prov_kindergartens': 0, 'population_unprov_kindergartens': 434.0}, 160: {'population': 372.0, 'is_living': True, 'is_schools_service': 0, 'provision_schools': 0, 'id_schools': 0, 'population_prov_schools': 0, 'population_unprov_schools': 372.0, 'is_kindergartens_service': 0, 'provision_kindergartens': 0, 'id_kindergartens': 0, 'population_prov_kindergartens': 0, 'population_unprov_kindergartens': 372.0}, 161: {'population': 0.0, 'is_living': False, 'is_schools_service': 0, 'provision_schools': 0, 'id_schools': 0, 'is_kindergartens_service': 0, 'provision_kindergartens': 0, 'id_kindergartens': 0}, 162: {'population': 346.0, 'is_living': True, 'is_schools_service': 0, 'provision_schools': 0, 'id_schools': 0, 'population_prov_schools': 0, 'population_unprov_schools': 346.0, 'is_kindergartens_service': 0, 'provision_kindergartens': 0, 'id_kindergartens': 0, 'population_prov_kindergartens': 0, 'population_unprov_kindergartens': 346.0}, 163: {'population': 357.0, 'is_living': True, 'is_schools_service': 0, 'provision_schools': 0, 'id_schools': 0, 'population_prov_schools': 0, 'population_unprov_schools': 357.0, 'is_kindergartens_service': 1, 'provision_kindergartens': 0, 'id_kindergartens': 0, 'population_prov_kindergartens': 0, 'population_unprov_kindergartens': 357.0, 'kindergartens_capacity': 246}, 164: {'population': 0.0, 'is_living': False, 'is_schools_service': 0, 'provision_schools': 0, 'id_schools': 0, 'is_kindergartens_service': 0, 'provision_kindergartens': 0, 'id_kindergartens': 0}, 165: {'population': 637.0, 'is_living': True, 'is_schools_service': 0, 'provision_schools': 0, 'id_schools': 0, 'population_prov_schools': 0, 'population_unprov_schools': 637.0, 'is_kindergartens_service': 0, 'provision_kindergartens': 0, 'id_kindergartens': 0, 'population_prov_kindergartens': 0, 'population_unprov_kindergartens': 637.0}, 166: {'population': 0.0, 'is_living': False, 'is_schools_service': 0, 'provision_schools': 0, 'id_schools': 0, 'is_kindergartens_service': 0, 'provision_kindergartens': 0, 'id_kindergartens': 0}, 167: {'population': 471.0, 'is_living': True, 'is_schools_service': 0, 'provision_schools': 0, 'id_schools': 0, 'population_prov_schools': 0, 'population_unprov_schools': 471.0, 'is_kindergartens_service': 0, 'provision_kindergartens': 0, 'id_kindergartens': 0, 'population_prov_kindergartens': 0, 'population_unprov_kindergartens': 471.0}, 168: {'population': 0.0, 'is_living': False, 'is_schools_service': 0, 'provision_schools': 0, 'id_schools': 0, 'is_kindergartens_service': 0, 'provision_kindergartens': 0, 'id_kindergartens': 0}, 169: {'population': 0.0, 'is_living': False, 'is_schools_service': 0, 'provision_schools': 0, 'id_schools': 0, 'is_kindergartens_service': 0, 'provision_kindergartens': 0, 'id_kindergartens': 0}, 170: {'population': 0.0, 'is_living': False, 'is_schools_service': 0, 'provision_schools': 0, 'id_schools': 0, 'is_kindergartens_service': 0, 'provision_kindergartens': 0, 'id_kindergartens': 0}, 171: {'population': 0.0, 'is_living': False, 'is_schools_service': 0, 'provision_schools': 0, 'id_schools': 0, 'is_kindergartens_service': 0, 'provision_kindergartens': 0, 'id_kindergartens': 0}, 172: {'population': 0.0, 'is_living': False, 'is_schools_service': 0, 'provision_schools': 0, 'id_schools': 0, 'is_kindergartens_service': 0, 'provision_kindergartens': 0, 'id_kindergartens': 0}, 173: {'population': 0.0, 'is_living': False, 'is_schools_service': 0, 'provision_schools': 0, 'id_schools': 0, 'is_kindergartens_service': 0, 'provision_kindergartens': 0, 'id_kindergartens': 0}, 174: {'population': 0.0, 'is_living': False, 'is_schools_service': 0, 'provision_schools': 0, 'id_schools': 0, 'is_kindergartens_service': 0, 'provision_kindergartens': 0, 'id_kindergartens': 0}, 175: {'population': 1833.0, 'is_living': True, 'is_schools_service': 1, 'provision_schools': 0, 'id_schools': 0, 'population_prov_schools': 0, 'population_unprov_schools': 1833.0, 'schools_capacity': 736, 'is_kindergartens_service': 0, 'provision_kindergartens': 0, 'id_kindergartens': 0, 'population_prov_kindergartens': 0, 'population_unprov_kindergartens': 1833.0}, 176: {'population': 1245.0, 'is_living': True, 'is_schools_service': 0, 'provision_schools': 0, 'id_schools': 0, 'population_prov_schools': 0, 'population_unprov_schools': 1245.0, 'is_kindergartens_service': 0, 'provision_kindergartens': 0, 'id_kindergartens': 0, 'population_prov_kindergartens': 0, 'population_unprov_kindergartens': 1245.0}, 177: {'population': 1118.0, 'is_living': True, 'is_schools_service': 0, 'provision_schools': 0, 'id_schools': 0, 'population_prov_schools': 0, 'population_unprov_schools': 1118.0, 'is_kindergartens_service': 0, 'provision_kindergartens': 0, 'id_kindergartens': 0, 'population_prov_kindergartens': 0, 'population_unprov_kindergartens': 1118.0}, 178: {'population': 245.0, 'is_living': True, 'is_schools_service': 0, 'provision_schools': 0, 'id_schools': 0, 'population_prov_schools': 0, 'population_unprov_schools': 245.0, 'is_kindergartens_service': 0, 'provision_kindergartens': 0, 'id_kindergartens': 0, 'population_prov_kindergartens': 0, 'population_unprov_kindergartens': 245.0}, 179: {'population': 410.0, 'is_living': True, 'is_schools_service': 0, 'provision_schools': 0, 'id_schools': 0, 'population_prov_schools': 0, 'population_unprov_schools': 410.0, 'is_kindergartens_service': 0, 'provision_kindergartens': 0, 'id_kindergartens': 0, 'population_prov_kindergartens': 0, 'population_unprov_kindergartens': 410.0}, 180: {'population': 564.0, 'is_living': True, 'is_schools_service': 0, 'provision_schools': 0, 'id_schools': 0, 'population_prov_schools': 0, 'population_unprov_schools': 564.0, 'is_kindergartens_service': 0, 'provision_kindergartens': 0, 'id_kindergartens': 0, 'population_prov_kindergartens': 0, 'population_unprov_kindergartens': 564.0}, 181: {'population': 411.0, 'is_living': True, 'is_schools_service': 0, 'provision_schools': 0, 'id_schools': 0, 'population_prov_schools': 0, 'population_unprov_schools': 411.0, 'is_kindergartens_service': 0, 'provision_kindergartens': 0, 'id_kindergartens': 0, 'population_prov_kindergartens': 0, 'population_unprov_kindergartens': 411.0}, 182: {'population': 444.0, 'is_living': True, 'is_schools_service': 0, 'provision_schools': 0, 'id_schools': 0, 'population_prov_schools': 0, 'population_unprov_schools': 444.0, 'is_kindergartens_service': 0, 'provision_kindergartens': 0, 'id_kindergartens': 0, 'population_prov_kindergartens': 0, 'population_unprov_kindergartens': 444.0}, 183: {'population': 1520.0, 'is_living': True, 'is_schools_service': 1, 'provision_schools': 0, 'id_schools': 0, 'population_prov_schools': 0, 'population_unprov_schools': 1520.0, 'schools_capacity': 242, 'is_kindergartens_service': 0, 'provision_kindergartens': 0, 'id_kindergartens': 0, 'population_prov_kindergartens': 0, 'population_unprov_kindergartens': 1520.0}, 184: {'population': 0.0, 'is_living': False, 'is_schools_service': 0, 'provision_schools': 0, 'id_schools': 0, 'is_kindergartens_service': 0, 'provision_kindergartens': 0, 'id_kindergartens': 0}, 185: {'population': 0.0, 'is_living': False, 'is_schools_service': 0, 'provision_schools': 0, 'id_schools': 0, 'is_kindergartens_service': 0, 'provision_kindergartens': 0, 'id_kindergartens': 0}, 186: {'population': 0.0, 'is_living': False, 'is_schools_service': 0, 'provision_schools': 0, 'id_schools': 0, 'is_kindergartens_service': 0, 'provision_kindergartens': 0, 'id_kindergartens': 0}, 187: {'population': 1304.0, 'is_living': True, 'is_schools_service': 1, 'provision_schools': 0, 'id_schools': 0, 'population_prov_schools': 0, 'population_unprov_schools': 1304.0, 'schools_capacity': 683, 'is_kindergartens_service': 1, 'provision_kindergartens': 0, 'id_kindergartens': 0, 'population_prov_kindergartens': 0, 'population_unprov_kindergartens': 1304.0, 'kindergartens_capacity': 251}, 188: {'population': 0.0, 'is_living': False, 'is_schools_service': 0, 'provision_schools': 0, 'id_schools': 0, 'is_kindergartens_service': 0, 'provision_kindergartens': 0, 'id_kindergartens': 0}, 189: {'population': 0.0, 'is_living': False, 'is_schools_service': 0, 'provision_schools': 0, 'id_schools': 0, 'is_kindergartens_service': 0, 'provision_kindergartens': 0, 'id_kindergartens': 0}, 190: {'population': 0.0, 'is_living': False, 'is_schools_service': 0, 'provision_schools': 0, 'id_schools': 0, 'is_kindergartens_service': 0, 'provision_kindergartens': 0, 'id_kindergartens': 0}, 191: {'population': 0.0, 'is_living': False, 'is_schools_service': 0, 'provision_schools': 0, 'id_schools': 0, 'is_kindergartens_service': 0, 'provision_kindergartens': 0, 'id_kindergartens': 0}, 192: {'population': 0.0, 'is_living': False, 'is_schools_service': 0, 'provision_schools': 0, 'id_schools': 0, 'is_kindergartens_service': 0, 'provision_kindergartens': 0, 'id_kindergartens': 0}, 193: {'population': 0.0, 'is_living': False, 'is_schools_service': 0, 'provision_schools': 0, 'id_schools': 0, 'is_kindergartens_service': 0, 'provision_kindergartens': 0, 'id_kindergartens': 0}, 194: {'population': 0.0, 'is_living': False, 'is_schools_service': 0, 'provision_schools': 0, 'id_schools': 0, 'is_kindergartens_service': 0, 'provision_kindergartens': 0, 'id_kindergartens': 0}, 195: {'population': 0.0, 'is_living': False, 'is_schools_service': 0, 'provision_schools': 0, 'id_schools': 0, 'is_kindergartens_service': 0, 'provision_kindergartens': 0, 'id_kindergartens': 0}, 196: {'population': 0.0, 'is_living': False, 'is_schools_service': 0, 'provision_schools': 0, 'id_schools': 0, 'is_kindergartens_service': 0, 'provision_kindergartens': 0, 'id_kindergartens': 0}, 197: {'population': 82.0, 'is_living': True, 'is_schools_service': 0, 'provision_schools': 0, 'id_schools': 0, 'population_prov_schools': 0, 'population_unprov_schools': 82.0, 'is_kindergartens_service': 0, 'provision_kindergartens': 0, 'id_kindergartens': 0, 'population_prov_kindergartens': 0, 'population_unprov_kindergartens': 82.0}, 198: {'population': 209.0, 'is_living': True, 'is_schools_service': 0, 'provision_schools': 0, 'id_schools': 0, 'population_prov_schools': 0, 'population_unprov_schools': 209.0, 'is_kindergartens_service': 0, 'provision_kindergartens': 0, 'id_kindergartens': 0, 'population_prov_kindergartens': 0, 'population_unprov_kindergartens': 209.0}})"
      ]
     },
     "execution_count": 6,
     "metadata": {},
     "output_type": "execute_result"
    }
   ],
   "source": [
    "city_model.services_graph.nodes(data=True)"
   ]
  },
  {
   "attachments": {},
   "cell_type": "markdown",
   "metadata": {},
   "source": [
    "#### Calculating the provision of school and kindergarten services in blocks"
   ]
  },
  {
   "cell_type": "code",
   "execution_count": 7,
   "metadata": {},
   "outputs": [
    {
     "ename": "KeyError",
     "evalue": "'schools'",
     "output_type": "error",
     "traceback": [
      "\u001b[1;31m---------------------------------------------------------------------------\u001b[0m",
      "\u001b[1;31mKeyError\u001b[0m                                  Traceback (most recent call last)",
      "Cell \u001b[1;32mIn[7], line 2\u001b[0m\n\u001b[0;32m      1\u001b[0m \u001b[39mfor\u001b[39;00m service_type \u001b[39min\u001b[39;00m services\u001b[39m.\u001b[39mkeys():    \n\u001b[1;32m----> 2\u001b[0m     model \u001b[39m=\u001b[39m ProvisionModel(\n\u001b[0;32m      3\u001b[0m         city_model\u001b[39m=\u001b[39;49mcity_model,\n\u001b[0;32m      4\u001b[0m         service_name\u001b[39m=\u001b[39;49mservice_type\n\u001b[0;32m      5\u001b[0m         )\n\u001b[0;32m      7\u001b[0m     \u001b[39mif\u001b[39;00m service_type \u001b[39m==\u001b[39m \u001b[39m'\u001b[39m\u001b[39mschools\u001b[39m\u001b[39m'\u001b[39m:\n\u001b[0;32m      8\u001b[0m         school \u001b[39m=\u001b[39m model\u001b[39m.\u001b[39mrun()\n",
      "File \u001b[1;32mc:\\masterplanning\\masterplan_tools\\Provision_getter\\provision_getter.py:79\u001b[0m, in \u001b[0;36mProvisionModel.__init__\u001b[1;34m(self, city_model, service_name)\u001b[0m\n\u001b[0;32m     77\u001b[0m \u001b[39mself\u001b[39m\u001b[39m.\u001b[39maccessibility \u001b[39m=\u001b[39m \u001b[39mself\u001b[39m\u001b[39m.\u001b[39mservices_accessibility[\u001b[39mself\u001b[39m\u001b[39m.\u001b[39mservice_name]\n\u001b[0;32m     78\u001b[0m \u001b[39mself\u001b[39m\u001b[39m.\u001b[39mservices_graph \u001b[39m=\u001b[39m city_model\u001b[39m.\u001b[39mservices_graph\n\u001b[1;32m---> 79\u001b[0m \u001b[39mself\u001b[39m\u001b[39m.\u001b[39mgraph \u001b[39m=\u001b[39m city_model\u001b[39m.\u001b[39;49mservices_graphs[\u001b[39mself\u001b[39;49m\u001b[39m.\u001b[39;49mservice_name]\u001b[39m.\u001b[39mcopy()\n",
      "\u001b[1;31mKeyError\u001b[0m: 'schools'"
     ]
    }
   ],
   "source": [
    "for service_type in services.keys():    \n",
    "    model = ProvisionModel(\n",
    "        city_model=city_model,\n",
    "        service_name=service_type\n",
    "        )\n",
    "\n",
    "    if service_type == 'schools':\n",
    "        school = model.run()\n",
    "        \n",
    "    elif service_type == 'kindergartens':\n",
    "        kindergarten = model.run()\n"
   ]
  },
  {
   "attachments": {},
   "cell_type": "markdown",
   "metadata": {},
   "source": [
    "#### Results of calculating the provision of the kindergarten service for a single block"
   ]
  },
  {
   "cell_type": "code",
   "execution_count": 7,
   "metadata": {},
   "outputs": [
    {
     "data": {
      "text/plain": [
       "index                                                                             10\n",
       "id                                                                                10\n",
       "geometry                           POLYGON ((343053.994039182 6648458.059121506, ...\n",
       "provision_kindergartens                                                          100\n",
       "id_kindergartens                                                                  36\n",
       "population_prov_kindergartens                                                  20531\n",
       "population_unprov_kindergartens                                                    0\n",
       "population                                                                     20531\n",
       "Name: 10, dtype: object"
      ]
     },
     "execution_count": 7,
     "metadata": {},
     "output_type": "execute_result"
    }
   ],
   "source": [
    "kindergarten.iloc[10]"
   ]
  },
  {
   "attachments": {},
   "cell_type": "markdown",
   "metadata": {},
   "source": [
    "#### Results of calculating the provision of the school service for a single block"
   ]
  },
  {
   "cell_type": "code",
   "execution_count": 8,
   "metadata": {},
   "outputs": [
    {
     "data": {
      "text/plain": [
       "index                                                                       10\n",
       "id                                                                          10\n",
       "geometry                     POLYGON ((343053.994039182 6648458.059121506, ...\n",
       "provision_schools                                                          100\n",
       "id_schools                                                                  37\n",
       "population_prov_schools                                                  20531\n",
       "population_unprov_schools                                                    0\n",
       "population                                                               20531\n",
       "Name: 10, dtype: object"
      ]
     },
     "execution_count": 8,
     "metadata": {},
     "output_type": "execute_result"
    }
   ],
   "source": [
    "school.iloc[10]"
   ]
  },
  {
   "attachments": {},
   "cell_type": "markdown",
   "metadata": {},
   "source": [
    "#### Selected area of the city to which the new parameters will be modelled"
   ]
  },
  {
   "cell_type": "code",
   "execution_count": 9,
   "metadata": {},
   "outputs": [
    {
     "ename": "DriverError",
     "evalue": "../masterplanning/masterplan_tools/output_data/polygon.geojson: No such file or directory",
     "output_type": "error",
     "traceback": [
      "\u001b[1;31m---------------------------------------------------------------------------\u001b[0m",
      "\u001b[1;31mCPLE_OpenFailedError\u001b[0m                      Traceback (most recent call last)",
      "File \u001b[1;32mfiona\\ogrext.pyx:136\u001b[0m, in \u001b[0;36mfiona.ogrext.gdal_open_vector\u001b[1;34m()\u001b[0m\n",
      "File \u001b[1;32mfiona\\_err.pyx:291\u001b[0m, in \u001b[0;36mfiona._err.exc_wrap_pointer\u001b[1;34m()\u001b[0m\n",
      "\u001b[1;31mCPLE_OpenFailedError\u001b[0m: ../masterplanning/masterplan_tools/output_data/polygon.geojson: No such file or directory",
      "\nDuring handling of the above exception, another exception occurred:\n",
      "\u001b[1;31mDriverError\u001b[0m                               Traceback (most recent call last)",
      "Cell \u001b[1;32mIn[9], line 1\u001b[0m\n\u001b[1;32m----> 1\u001b[0m polygon \u001b[39m=\u001b[39m gpd\u001b[39m.\u001b[39;49mread_file(\u001b[39m'\u001b[39;49m\u001b[39m../masterplanning/masterplan_tools/output_data/polygon.geojson\u001b[39;49m\u001b[39m'\u001b[39;49m)\n\u001b[0;32m      2\u001b[0m polygon\u001b[39m.\u001b[39mexplore()\n",
      "File \u001b[1;32mc:\\masterplanning\\env\\lib\\site-packages\\geopandas\\io\\file.py:248\u001b[0m, in \u001b[0;36m_read_file\u001b[1;34m(filename, bbox, mask, rows, engine, **kwargs)\u001b[0m\n\u001b[0;32m    245\u001b[0m     \u001b[39melse\u001b[39;00m:\n\u001b[0;32m    246\u001b[0m         path_or_bytes \u001b[39m=\u001b[39m filename\n\u001b[1;32m--> 248\u001b[0m     \u001b[39mreturn\u001b[39;00m _read_file_fiona(\n\u001b[0;32m    249\u001b[0m         path_or_bytes, from_bytes, bbox\u001b[39m=\u001b[39mbbox, mask\u001b[39m=\u001b[39mmask, rows\u001b[39m=\u001b[39mrows, \u001b[39m*\u001b[39m\u001b[39m*\u001b[39mkwargs\n\u001b[0;32m    250\u001b[0m     )\n\u001b[0;32m    252\u001b[0m \u001b[39melse\u001b[39;00m:\n\u001b[0;32m    253\u001b[0m     \u001b[39mraise\u001b[39;00m \u001b[39mValueError\u001b[39;00m(\u001b[39mf\u001b[39m\u001b[39m\"\u001b[39m\u001b[39munknown engine \u001b[39m\u001b[39m'\u001b[39m\u001b[39m{\u001b[39;00mengine\u001b[39m}\u001b[39;00m\u001b[39m'\u001b[39m\u001b[39m\"\u001b[39m)\n",
      "File \u001b[1;32mc:\\masterplanning\\env\\lib\\site-packages\\geopandas\\io\\file.py:289\u001b[0m, in \u001b[0;36m_read_file_fiona\u001b[1;34m(path_or_bytes, from_bytes, bbox, mask, rows, where, **kwargs)\u001b[0m\n\u001b[0;32m    286\u001b[0m     reader \u001b[39m=\u001b[39m fiona\u001b[39m.\u001b[39mopen\n\u001b[0;32m    288\u001b[0m \u001b[39mwith\u001b[39;00m fiona_env():\n\u001b[1;32m--> 289\u001b[0m     \u001b[39mwith\u001b[39;00m reader(path_or_bytes, \u001b[39m*\u001b[39m\u001b[39m*\u001b[39mkwargs) \u001b[39mas\u001b[39;00m features:\n\u001b[0;32m    290\u001b[0m         crs \u001b[39m=\u001b[39m features\u001b[39m.\u001b[39mcrs_wkt\n\u001b[0;32m    291\u001b[0m         \u001b[39m# attempt to get EPSG code\u001b[39;00m\n",
      "File \u001b[1;32mc:\\masterplanning\\env\\lib\\site-packages\\fiona\\env.py:457\u001b[0m, in \u001b[0;36mensure_env_with_credentials.<locals>.wrapper\u001b[1;34m(*args, **kwds)\u001b[0m\n\u001b[0;32m    454\u001b[0m     session \u001b[39m=\u001b[39m DummySession()\n\u001b[0;32m    456\u001b[0m \u001b[39mwith\u001b[39;00m env_ctor(session\u001b[39m=\u001b[39msession):\n\u001b[1;32m--> 457\u001b[0m     \u001b[39mreturn\u001b[39;00m f(\u001b[39m*\u001b[39margs, \u001b[39m*\u001b[39m\u001b[39m*\u001b[39mkwds)\n",
      "File \u001b[1;32mc:\\masterplanning\\env\\lib\\site-packages\\fiona\\__init__.py:308\u001b[0m, in \u001b[0;36mopen\u001b[1;34m(fp, mode, driver, schema, crs, encoding, layer, vfs, enabled_drivers, crs_wkt, allow_unsupported_drivers, **kwargs)\u001b[0m\n\u001b[0;32m    305\u001b[0m     path \u001b[39m=\u001b[39m parse_path(fp)\n\u001b[0;32m    307\u001b[0m \u001b[39mif\u001b[39;00m mode \u001b[39min\u001b[39;00m (\u001b[39m\"\u001b[39m\u001b[39ma\u001b[39m\u001b[39m\"\u001b[39m, \u001b[39m\"\u001b[39m\u001b[39mr\u001b[39m\u001b[39m\"\u001b[39m):\n\u001b[1;32m--> 308\u001b[0m     colxn \u001b[39m=\u001b[39m Collection(\n\u001b[0;32m    309\u001b[0m         path,\n\u001b[0;32m    310\u001b[0m         mode,\n\u001b[0;32m    311\u001b[0m         driver\u001b[39m=\u001b[39mdriver,\n\u001b[0;32m    312\u001b[0m         encoding\u001b[39m=\u001b[39mencoding,\n\u001b[0;32m    313\u001b[0m         layer\u001b[39m=\u001b[39mlayer,\n\u001b[0;32m    314\u001b[0m         enabled_drivers\u001b[39m=\u001b[39menabled_drivers,\n\u001b[0;32m    315\u001b[0m         allow_unsupported_drivers\u001b[39m=\u001b[39mallow_unsupported_drivers,\n\u001b[0;32m    316\u001b[0m         \u001b[39m*\u001b[39m\u001b[39m*\u001b[39mkwargs\n\u001b[0;32m    317\u001b[0m     )\n\u001b[0;32m    318\u001b[0m \u001b[39melif\u001b[39;00m mode \u001b[39m==\u001b[39m \u001b[39m\"\u001b[39m\u001b[39mw\u001b[39m\u001b[39m\"\u001b[39m:\n\u001b[0;32m    319\u001b[0m     colxn \u001b[39m=\u001b[39m Collection(\n\u001b[0;32m    320\u001b[0m         path,\n\u001b[0;32m    321\u001b[0m         mode,\n\u001b[1;32m   (...)\u001b[0m\n\u001b[0;32m    330\u001b[0m         \u001b[39m*\u001b[39m\u001b[39m*\u001b[39mkwargs\n\u001b[0;32m    331\u001b[0m     )\n",
      "File \u001b[1;32mc:\\masterplanning\\env\\lib\\site-packages\\fiona\\collection.py:243\u001b[0m, in \u001b[0;36mCollection.__init__\u001b[1;34m(self, path, mode, driver, schema, crs, encoding, layer, vsi, archive, enabled_drivers, crs_wkt, ignore_fields, ignore_geometry, include_fields, wkt_version, allow_unsupported_drivers, **kwargs)\u001b[0m\n\u001b[0;32m    241\u001b[0m \u001b[39mif\u001b[39;00m \u001b[39mself\u001b[39m\u001b[39m.\u001b[39mmode \u001b[39m==\u001b[39m \u001b[39m\"\u001b[39m\u001b[39mr\u001b[39m\u001b[39m\"\u001b[39m:\n\u001b[0;32m    242\u001b[0m     \u001b[39mself\u001b[39m\u001b[39m.\u001b[39msession \u001b[39m=\u001b[39m Session()\n\u001b[1;32m--> 243\u001b[0m     \u001b[39mself\u001b[39m\u001b[39m.\u001b[39msession\u001b[39m.\u001b[39mstart(\u001b[39mself\u001b[39m, \u001b[39m*\u001b[39m\u001b[39m*\u001b[39mkwargs)\n\u001b[0;32m    244\u001b[0m \u001b[39melif\u001b[39;00m \u001b[39mself\u001b[39m\u001b[39m.\u001b[39mmode \u001b[39min\u001b[39;00m (\u001b[39m\"\u001b[39m\u001b[39ma\u001b[39m\u001b[39m\"\u001b[39m, \u001b[39m\"\u001b[39m\u001b[39mw\u001b[39m\u001b[39m\"\u001b[39m):\n\u001b[0;32m    245\u001b[0m     \u001b[39mself\u001b[39m\u001b[39m.\u001b[39msession \u001b[39m=\u001b[39m WritingSession()\n",
      "File \u001b[1;32mfiona\\ogrext.pyx:588\u001b[0m, in \u001b[0;36mfiona.ogrext.Session.start\u001b[1;34m()\u001b[0m\n",
      "File \u001b[1;32mfiona\\ogrext.pyx:143\u001b[0m, in \u001b[0;36mfiona.ogrext.gdal_open_vector\u001b[1;34m()\u001b[0m\n",
      "\u001b[1;31mDriverError\u001b[0m: ../masterplanning/masterplan_tools/output_data/polygon.geojson: No such file or directory"
     ]
    }
   ],
   "source": [
    "polygon = gpd.read_file('../masterplanning/masterplan_tools/output_data/polygon.geojson')\n",
    "polygon.explore()"
   ]
  },
  {
   "attachments": {},
   "cell_type": "markdown",
   "metadata": {},
   "source": [
    "#### Modelling of new parameters for the selected area with maximisation of the number of inhabitants"
   ]
  },
  {
   "cell_type": "code",
   "execution_count": null,
   "metadata": {},
   "outputs": [],
   "source": [
    "block = DataGetter().balance_data(gdf=city_model.blocks_aggregated_info, polygon=polygon, school=school, kindergarten=kindergarten, greening=greening)\n",
    "mp = MasterPlan(area=block['area'],\n",
    "                current_living_area=block['current_living_area'],\n",
    "                current_industrial_area=block['current_industrial_area'],\n",
    "                current_population=block['current_population'],\n",
    "                current_green_area=block['current_green_area'],\n",
    "                current_unprov_schoolkids=block['population_unprov_schools'],\n",
    "                current_unprov_kids=block['population_unprov_kindergartens'],\n",
    "                current_unprov_green_population=block['population_unprov_recreational_areas'])\n",
    "\n",
    "updated_block = mp.optimal_solution_indicators()\n"
   ]
  },
  {
   "attachments": {},
   "cell_type": "markdown",
   "metadata": {},
   "source": [
    "#### Modelled block transformation requirements"
   ]
  },
  {
   "cell_type": "code",
   "execution_count": null,
   "metadata": {},
   "outputs": [
    {
     "ename": "NameError",
     "evalue": "name 'updated_block' is not defined",
     "output_type": "error",
     "traceback": [
      "\u001b[1;31m---------------------------------------------------------------------------\u001b[0m",
      "\u001b[1;31mNameError\u001b[0m                                 Traceback (most recent call last)",
      "Cell \u001b[1;32mIn[11], line 1\u001b[0m\n\u001b[1;32m----> 1\u001b[0m updated_block[\u001b[39m'\u001b[39m\u001b[39mblock_id\u001b[39m\u001b[39m'\u001b[39m] \u001b[39m=\u001b[39m \u001b[39m15\u001b[39m\n\u001b[0;32m      2\u001b[0m updated_block\n",
      "\u001b[1;31mNameError\u001b[0m: name 'updated_block' is not defined"
     ]
    }
   ],
   "source": [
    "updated_block['block_id'] = 15\n",
    "updated_block"
   ]
  },
  {
   "attachments": {},
   "cell_type": "markdown",
   "metadata": {},
   "source": [
    "#### Making changes based on requirements in the data model"
   ]
  },
  {
   "cell_type": "code",
   "execution_count": null,
   "metadata": {},
   "outputs": [],
   "source": [
    "service_graphs = {}\n",
    "for service_type in city_model.service_types:\n",
    "   service_graphs[service_type] = DataGetter().prepare_graph(\n",
    "                    blocks=city_model.city_blocks,\n",
    "                    service_type=service_type,\n",
    "                    buildings=city_model.buildings,\n",
    "                    service_gdf=city_model.services_gdfs[service_type],\n",
    "                    updated_block_info=updated_block,\n",
    "                    accessibility_matrix=city_model.accessibility_matrix,\n",
    "                )"
   ]
  },
  {
   "cell_type": "code",
   "execution_count": null,
   "metadata": {},
   "outputs": [],
   "source": [
    "city_model.services_graphs = service_graphs"
   ]
  },
  {
   "attachments": {},
   "cell_type": "markdown",
   "metadata": {},
   "source": [
    "#### Recalculating the provision of services to blocks"
   ]
  },
  {
   "cell_type": "code",
   "execution_count": null,
   "metadata": {},
   "outputs": [
    {
     "name": "stdout",
     "output_type": "stream",
     "text": [
      "количество кварталов c сервисом schools: 29\n",
      "количество жилых кварталов: 1273\n",
      "количество кварталов всего: 1609\n",
      "количество кварталов c ошибкой: 0\n",
      "{'population': 18454.0, 'is_living': True, 'is_schools_service': 1, 'schools_capacity': 3000, 'provision_schools': 0, 'id_schools': 0, 'population_prov_schools': 0, 'population_unprov_schools': 18454.0}\n",
      "количество кварталов c сервисом kindergartens: 11\n",
      "количество жилых кварталов: 797\n",
      "количество кварталов всего: 900\n",
      "количество кварталов c ошибкой: 0\n",
      "{'population': 18454.0, 'is_living': True, 'is_kindergartens_service': 1, 'kindergartens_capacity': 743, 'provision_kindergartens': 0, 'id_kindergartens': 0, 'population_prov_kindergartens': 0, 'population_unprov_kindergartens': 18454.0}\n"
     ]
    }
   ],
   "source": [
    "for service_type in city_model.service_types:    \n",
    "    model = ProvisionModel(\n",
    "    service_name=service_type,\n",
    "    city_model=city_model\n",
    "    )\n",
    "\n",
    "    if service_type == 'schools':\n",
    "        school = model.run()\n",
    "        \n",
    "    elif service_type == 'kindergartens':\n",
    "        kindergarten = model.run()"
   ]
  },
  {
   "attachments": {},
   "cell_type": "markdown",
   "metadata": {},
   "source": [
    "#### Modified data on the availability of specified services"
   ]
  },
  {
   "cell_type": "code",
   "execution_count": null,
   "metadata": {},
   "outputs": [
    {
     "data": {
      "text/plain": [
       "index                                                                     6013\n",
       "id                                                                        6013\n",
       "geometry                     POLYGON ((365716.43716688757 6624359.046022324...\n",
       "provision_schools                                                          100\n",
       "id_schools                                                                6013\n",
       "population_prov_schools                                                  18454\n",
       "population_unprov_schools                                                    0\n",
       "population                                                               18454\n",
       "Name: 6013, dtype: object"
      ]
     },
     "execution_count": 31,
     "metadata": {},
     "output_type": "execute_result"
    }
   ],
   "source": [
    "school.iloc[15]"
   ]
  },
  {
   "cell_type": "code",
   "execution_count": null,
   "metadata": {},
   "outputs": [
    {
     "data": {
      "text/plain": [
       "index                                                                           6013\n",
       "id                                                                              6013\n",
       "geometry                           POLYGON ((365716.43716688757 6624359.046022324...\n",
       "provision_kindergartens                                                           66\n",
       "id_kindergartens                                                                6013\n",
       "population_prov_kindergartens                                                  12180\n",
       "population_unprov_kindergartens                                                 6273\n",
       "population                                                                     18454\n",
       "Name: 6013, dtype: object"
      ]
     },
     "execution_count": 28,
     "metadata": {},
     "output_type": "execute_result"
    }
   ],
   "source": [
    "kindergarten.iloc[15]"
   ]
  }
 ],
 "metadata": {
  "kernelspec": {
   "display_name": "Python 3.10.8 ('venv': venv)",
   "language": "python",
   "name": "python3"
  },
  "language_info": {
   "codemirror_mode": {
    "name": "ipython",
    "version": 3
   },
   "file_extension": ".py",
   "mimetype": "text/x-python",
   "name": "python",
   "nbconvert_exporter": "python",
   "pygments_lexer": "ipython3",
   "version": "3.10.6"
  },
  "orig_nbformat": 4,
  "vscode": {
   "interpreter": {
    "hash": "5511ca7be13fa0c58fa871a9f402572cdcf7009d10887ee8f011dc5b17b36305"
   }
  }
 },
 "nbformat": 4,
 "nbformat_minor": 2
}
