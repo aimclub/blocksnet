{
 "cells": [
  {
   "cell_type": "code",
   "execution_count": 1,
   "metadata": {},
   "outputs": [
    {
     "name": "stderr",
     "output_type": "stream",
     "text": [
      "/Users/mvin/Desktop/mp_dev/mp_dev/lib/python3.9/site-packages/geopandas/_compat.py:123: UserWarning: The Shapely GEOS version (3.11.1-CAPI-1.17.1) is incompatible with the GEOS version PyGEOS was compiled with (3.10.4-CAPI-1.16.2). Conversions between both will be slow.\n",
      "  warnings.warn(\n",
      "/var/folders/h8/0wmx2zx90bn60jw8zc1r4qjc0000gn/T/ipykernel_6342/4095684131.py:4: UserWarning: Shapely 2.0 is installed, but because PyGEOS is also installed, GeoPandas will still use PyGEOS by default for now. To force to use and test Shapely 2.0, you have to set the environment variable USE_PYGEOS=0. You can do this before starting the Python process, or in your code before importing geopandas:\n",
      "\n",
      "import os\n",
      "os.environ['USE_PYGEOS'] = '0'\n",
      "import geopandas\n",
      "\n",
      "In a future release, GeoPandas will switch to using Shapely by default. If you are using PyGEOS directly (calling PyGEOS functions on geometries from GeoPandas), this will then stop working and you are encouraged to migrate from PyGEOS to Shapely 2.0 (https://shapely.readthedocs.io/en/latest/migration_pygeos.html).\n",
      "  import geopandas as gpd\n"
     ]
    }
   ],
   "source": [
    "import pickle\n",
    "import pandas as pd\n",
    "import psycopg2 as pg\n",
    "import geopandas as gpd\n",
    "\n",
    "from Data_getter.get_data import get_buildings, get_service\n",
    "from Blocks_getter.blocks_getter import BlocksModel\n",
    "from Provision_getter.provision_getter import ProvisionModel\n",
    "from Balancer.balancer import MasterPlan\n"
   ]
  },
  {
   "cell_type": "code",
   "execution_count": 2,
   "metadata": {},
   "outputs": [
    {
     "name": "stderr",
     "output_type": "stream",
     "text": [
      "/Users/mvin/Desktop/mp_dev/mp_dev/lib/python3.9/site-packages/geopandas/io/sql.py:158: UserWarning: pandas only supports SQLAlchemy connectable (engine/connection) or database string URI or sqlite3 DBAPI2 connection. Other DBAPI2 objects are not tested. Please consider using SQLAlchemy.\n",
      "  df = pd.read_sql(\n"
     ]
    },
    {
     "data": {
      "application/vnd.jupyter.widget-view+json": {
       "model_id": "40bb5f8e049b4958bc71c05ac3190fa5",
       "version_major": 2,
       "version_minor": 0
      },
      "text/plain": [
       "  0%|          | 0/605 [00:00<?, ?it/s]"
      ]
     },
     "metadata": {},
     "output_type": "display_data"
    },
    {
     "name": "stdout",
     "output_type": "stream",
     "text": [
      "количество кварталов c сервисом schools: 51\n",
      "количество жилых кварталов: 1135\n",
      "количество кварталов всего: 1609\n",
      "количество кварталов c ошибкой: 0\n"
     ]
    },
    {
     "name": "stderr",
     "output_type": "stream",
     "text": [
      "/Users/mvin/Desktop/mp_dev/mp_dev/lib/python3.9/site-packages/geopandas/io/sql.py:158: UserWarning: pandas only supports SQLAlchemy connectable (engine/connection) or database string URI or sqlite3 DBAPI2 connection. Other DBAPI2 objects are not tested. Please consider using SQLAlchemy.\n",
      "  df = pd.read_sql(\n"
     ]
    },
    {
     "data": {
      "application/vnd.jupyter.widget-view+json": {
       "model_id": "5981254a70934836b7abd3d6b62015c1",
       "version_major": 2,
       "version_minor": 0
      },
      "text/plain": [
       "  0%|          | 0/691 [00:00<?, ?it/s]"
      ]
     },
     "metadata": {},
     "output_type": "display_data"
    },
    {
     "name": "stdout",
     "output_type": "stream",
     "text": [
      "количество кварталов c сервисом kindergartens: 29\n",
      "количество жилых кварталов: 765\n",
      "количество кварталов всего: 900\n",
      "количество кварталов c ошибкой: 0\n"
     ]
    }
   ],
   "source": [
    "GROUPS = ['schools', 'kindergartens']\n",
    "\n",
    "engine = pg.connect(\"dbname='city_db_final' user='postgres' host='10.32.1.107' port='5432' password='postgres'\")\n",
    "city_crs = 32636\n",
    "city_id = 1\n",
    "\n",
    "service_type = \"schools\"\n",
    "\n",
    "matrix = pd.read_pickle(\"/Users/mvin/Desktop/mp_dev/MASTERPLAN/Data/MMG_SPB.pkl\")\n",
    "engine = pg.connect(\"dbname='city_db_final' user='postgres' host='10.32.1.107' port='5432' password='postgres'\")\n",
    "# buildings_gdf = get_buildings(engine=engine, city_crs=city_crs, city_id=city_id)\n",
    "# service_gdf = get_service(engine=engine, city_crs=city_crs, city_id=city_id, service_type=service_type)\n",
    "# blocks_gdf = BlocksModel(city_name='Санкт-Петербург', city_admin_level=5, city_crs=city_crs).get_blocks()\n",
    "buildings_gdf = gpd.read_parquet('./output_data/buildings.parquet')\n",
    "blocks_gdf = gpd.read_parquet('./output_data/blocks.parquet')\n",
    "\n",
    "services_accessabilities = {\"kindergartens\":4,\"schools\":7,\"universities\":60,\"hospitals\":60,\"policlinics\":13,\"theaters\":60,\"cinemas\":60,\"cafes\":30,\"bakeries\":30, \n",
    "\"fastfoods\":30, \"music_school\":30, \"sportgrounds\":7,\"swimming_pools\":30,\"conveniences\":8,\"recreational_areas\":25,\"pharmacies\":7,\"playgrounds\":2,\"supermarkets\":30}\n",
    "\n",
    "standard_dict = {\"kindergartens\":61,\"schools\":120,\"universities\":13,\"hospitals\":9,\"policlinics\":27,\"theaters\":5,\"cinemas\":10,\"cafes\":72,\"bakeries\":72,\n",
    "\"fastfoods\":72, \"music_school\":8,\"sportgrounds\":15,\"swimming_pools\":50,\"conveniences\":90,\"recreational_areas\":5000,\"pharmacies\":50,\"playgrounds\":550,\n",
    "\"supermarkets\":992}\n",
    "\n",
    "\n",
    "for service_type in GROUPS:\n",
    "    service_gdf = get_service(engine=engine, city_crs=city_crs, city_id=city_id, service_type=service_type)\n",
    "    \n",
    "    model = ProvisionModel(\n",
    "    SUB_GROUP=service_type,\n",
    "    blocks=blocks_gdf,\n",
    "    matrix=matrix,\n",
    "    buildings=buildings_gdf,\n",
    "    standard = standard_dict[service_type],\n",
    "    ACCS_TIME=services_accessabilities[service_type],\n",
    "    service_gdf=service_gdf \n",
    "    )\n",
    "\n",
    "    if service_type == 'schools':\n",
    "        school = model.run()\n",
    "        \n",
    "    elif service_type == 'kindergartens':\n",
    "        kindergarten = model.run()\n",
    "\n",
    "    # elif service_type == 'recreational_areas':\n",
    "    #     greening = model.run()\n",
    "\n",
    "greening = gpd.read_parquet('./output_data/recreational_areas.parquet')\n",
    "# prov_data = blocks_gdf.merge(school[['id', 'population_unprov_schools']], left_on='id', right_on='id').merge(kindergarten[['id', 'population_unprov_kindergartens']], \n",
    "# left_on='id', right_on='id').merge(greening[['id', 'population_unprov_recreational_areas']], left_on='id', right_on='id')\n",
    "\n"
   ]
  },
  {
   "cell_type": "code",
   "execution_count": 5,
   "metadata": {},
   "outputs": [
    {
     "data": {
      "text/html": [
       "<div>\n",
       "<style scoped>\n",
       "    .dataframe tbody tr th:only-of-type {\n",
       "        vertical-align: middle;\n",
       "    }\n",
       "\n",
       "    .dataframe tbody tr th {\n",
       "        vertical-align: top;\n",
       "    }\n",
       "\n",
       "    .dataframe thead th {\n",
       "        text-align: right;\n",
       "    }\n",
       "</style>\n",
       "<table border=\"1\" class=\"dataframe\">\n",
       "  <thead>\n",
       "    <tr style=\"text-align: right;\">\n",
       "      <th></th>\n",
       "      <th>id</th>\n",
       "      <th>geometry</th>\n",
       "      <th>provision_schools</th>\n",
       "      <th>id_schools</th>\n",
       "      <th>population_prov_schools</th>\n",
       "      <th>population_unprov_schools</th>\n",
       "      <th>population</th>\n",
       "    </tr>\n",
       "  </thead>\n",
       "  <tbody>\n",
       "    <tr>\n",
       "      <th>566</th>\n",
       "      <td>566</td>\n",
       "      <td>POLYGON ((320918.941 6654703.825, 320918.860 6...</td>\n",
       "      <td>25</td>\n",
       "      <td>327</td>\n",
       "      <td>297</td>\n",
       "      <td>861</td>\n",
       "      <td>1159</td>\n",
       "    </tr>\n",
       "    <tr>\n",
       "      <th>571</th>\n",
       "      <td>571</td>\n",
       "      <td>POLYGON ((320624.168 6654912.212, 320624.085 6...</td>\n",
       "      <td>0</td>\n",
       "      <td>0</td>\n",
       "      <td>0</td>\n",
       "      <td>811</td>\n",
       "      <td>811</td>\n",
       "    </tr>\n",
       "    <tr>\n",
       "      <th>782</th>\n",
       "      <td>782</td>\n",
       "      <td>POLYGON ((324402.745 6643448.134, 325085.481 6...</td>\n",
       "      <td>81</td>\n",
       "      <td>782</td>\n",
       "      <td>6733</td>\n",
       "      <td>1566</td>\n",
       "      <td>8300</td>\n",
       "    </tr>\n",
       "    <tr>\n",
       "      <th>991</th>\n",
       "      <td>991</td>\n",
       "      <td>POLYGON ((331530.345 6664441.716, 331530.553 6...</td>\n",
       "      <td>53</td>\n",
       "      <td>985</td>\n",
       "      <td>340</td>\n",
       "      <td>300</td>\n",
       "      <td>641</td>\n",
       "    </tr>\n",
       "    <tr>\n",
       "      <th>997</th>\n",
       "      <td>997</td>\n",
       "      <td>POLYGON ((331431.154 6664712.267, 331427.433 6...</td>\n",
       "      <td>0</td>\n",
       "      <td>0</td>\n",
       "      <td>0</td>\n",
       "      <td>26</td>\n",
       "      <td>26</td>\n",
       "    </tr>\n",
       "    <tr>\n",
       "      <th>...</th>\n",
       "      <td>...</td>\n",
       "      <td>...</td>\n",
       "      <td>...</td>\n",
       "      <td>...</td>\n",
       "      <td>...</td>\n",
       "      <td>...</td>\n",
       "      <td>...</td>\n",
       "    </tr>\n",
       "    <tr>\n",
       "      <th>5916</th>\n",
       "      <td>5916</td>\n",
       "      <td>POLYGON ((364484.991 6632347.945, 364404.695 6...</td>\n",
       "      <td>29</td>\n",
       "      <td>5916</td>\n",
       "      <td>1466</td>\n",
       "      <td>3550</td>\n",
       "      <td>5017</td>\n",
       "    </tr>\n",
       "    <tr>\n",
       "      <th>5925</th>\n",
       "      <td>5925</td>\n",
       "      <td>POLYGON ((364022.684 6633357.696, 364022.750 6...</td>\n",
       "      <td>57</td>\n",
       "      <td>5925</td>\n",
       "      <td>6716</td>\n",
       "      <td>5066</td>\n",
       "      <td>11783</td>\n",
       "    </tr>\n",
       "    <tr>\n",
       "      <th>5988</th>\n",
       "      <td>5988</td>\n",
       "      <td>POLYGON ((360824.109 6651704.475, 360824.113 6...</td>\n",
       "      <td>64</td>\n",
       "      <td>5980</td>\n",
       "      <td>2363</td>\n",
       "      <td>1309</td>\n",
       "      <td>3672</td>\n",
       "    </tr>\n",
       "    <tr>\n",
       "      <th>6004</th>\n",
       "      <td>6004</td>\n",
       "      <td>POLYGON ((365734.620 6623835.369, 365726.015 6...</td>\n",
       "      <td>70</td>\n",
       "      <td>6005</td>\n",
       "      <td>5192</td>\n",
       "      <td>2212</td>\n",
       "      <td>7405</td>\n",
       "    </tr>\n",
       "    <tr>\n",
       "      <th>6096</th>\n",
       "      <td>6096</td>\n",
       "      <td>POLYGON ((365702.315 6628380.987, 365701.909 6...</td>\n",
       "      <td>5</td>\n",
       "      <td>6106</td>\n",
       "      <td>413</td>\n",
       "      <td>6491</td>\n",
       "      <td>6904</td>\n",
       "    </tr>\n",
       "  </tbody>\n",
       "</table>\n",
       "<p>233 rows × 7 columns</p>\n",
       "</div>"
      ],
      "text/plain": [
       "        id                                           geometry  \\\n",
       "566    566  POLYGON ((320918.941 6654703.825, 320918.860 6...   \n",
       "571    571  POLYGON ((320624.168 6654912.212, 320624.085 6...   \n",
       "782    782  POLYGON ((324402.745 6643448.134, 325085.481 6...   \n",
       "991    991  POLYGON ((331530.345 6664441.716, 331530.553 6...   \n",
       "997    997  POLYGON ((331431.154 6664712.267, 331427.433 6...   \n",
       "...    ...                                                ...   \n",
       "5916  5916  POLYGON ((364484.991 6632347.945, 364404.695 6...   \n",
       "5925  5925  POLYGON ((364022.684 6633357.696, 364022.750 6...   \n",
       "5988  5988  POLYGON ((360824.109 6651704.475, 360824.113 6...   \n",
       "6004  6004  POLYGON ((365734.620 6623835.369, 365726.015 6...   \n",
       "6096  6096  POLYGON ((365702.315 6628380.987, 365701.909 6...   \n",
       "\n",
       "      provision_schools  id_schools  population_prov_schools  \\\n",
       "566                  25         327                      297   \n",
       "571                   0           0                        0   \n",
       "782                  81         782                     6733   \n",
       "991                  53         985                      340   \n",
       "997                   0           0                        0   \n",
       "...                 ...         ...                      ...   \n",
       "5916                 29        5916                     1466   \n",
       "5925                 57        5925                     6716   \n",
       "5988                 64        5980                     2363   \n",
       "6004                 70        6005                     5192   \n",
       "6096                  5        6106                      413   \n",
       "\n",
       "      population_unprov_schools  population  \n",
       "566                         861        1159  \n",
       "571                         811         811  \n",
       "782                        1566        8300  \n",
       "991                         300         641  \n",
       "997                          26          26  \n",
       "...                         ...         ...  \n",
       "5916                       3550        5017  \n",
       "5925                       5066       11783  \n",
       "5988                       1309        3672  \n",
       "6004                       2212        7405  \n",
       "6096                       6491        6904  \n",
       "\n",
       "[233 rows x 7 columns]"
      ]
     },
     "execution_count": 5,
     "metadata": {},
     "output_type": "execute_result"
    }
   ],
   "source": [
    "school.loc[school[f'population_unprov_schools'] >0]"
   ]
  },
  {
   "cell_type": "code",
   "execution_count": 7,
   "metadata": {},
   "outputs": [],
   "source": [
    "# school = gpd.read_parquet('./output_data/schools.parquet')\n",
    "# kindergarten = gpd.read_parquet('./output_data/kindergartens.parquet')\n",
    "# greening = gpd.read_parquet('./output_data/recreational_areas.parquet')\n"
   ]
  },
  {
   "cell_type": "code",
   "execution_count": 8,
   "metadata": {},
   "outputs": [
    {
     "data": {
      "text/html": [
       "<div style=\"width:100%;\"><div style=\"position:relative;width:100%;height:0;padding-bottom:60%;\"><span style=\"color:#565656\">Make this Notebook Trusted to load map: File -> Trust Notebook</span><iframe srcdoc=\"&lt;!DOCTYPE html&gt;\n",
       "&lt;html&gt;\n",
       "&lt;head&gt;\n",
       "    \n",
       "    &lt;meta http-equiv=&quot;content-type&quot; content=&quot;text/html; charset=UTF-8&quot; /&gt;\n",
       "    \n",
       "        &lt;script&gt;\n",
       "            L_NO_TOUCH = false;\n",
       "            L_DISABLE_3D = false;\n",
       "        &lt;/script&gt;\n",
       "    \n",
       "    &lt;style&gt;html, body {width: 100%;height: 100%;margin: 0;padding: 0;}&lt;/style&gt;\n",
       "    &lt;style&gt;#map {position:absolute;top:0;bottom:0;right:0;left:0;}&lt;/style&gt;\n",
       "    &lt;script src=&quot;https://cdn.jsdelivr.net/npm/leaflet@1.9.3/dist/leaflet.js&quot;&gt;&lt;/script&gt;\n",
       "    &lt;script src=&quot;https://code.jquery.com/jquery-1.12.4.min.js&quot;&gt;&lt;/script&gt;\n",
       "    &lt;script src=&quot;https://cdn.jsdelivr.net/npm/bootstrap@5.2.2/dist/js/bootstrap.bundle.min.js&quot;&gt;&lt;/script&gt;\n",
       "    &lt;script src=&quot;https://cdnjs.cloudflare.com/ajax/libs/Leaflet.awesome-markers/2.0.2/leaflet.awesome-markers.js&quot;&gt;&lt;/script&gt;\n",
       "    &lt;link rel=&quot;stylesheet&quot; href=&quot;https://cdn.jsdelivr.net/npm/leaflet@1.9.3/dist/leaflet.css&quot;/&gt;\n",
       "    &lt;link rel=&quot;stylesheet&quot; href=&quot;https://cdn.jsdelivr.net/npm/bootstrap@5.2.2/dist/css/bootstrap.min.css&quot;/&gt;\n",
       "    &lt;link rel=&quot;stylesheet&quot; href=&quot;https://netdna.bootstrapcdn.com/bootstrap/3.0.0/css/bootstrap.min.css&quot;/&gt;\n",
       "    &lt;link rel=&quot;stylesheet&quot; href=&quot;https://cdn.jsdelivr.net/npm/@fortawesome/fontawesome-free@6.2.0/css/all.min.css&quot;/&gt;\n",
       "    &lt;link rel=&quot;stylesheet&quot; href=&quot;https://cdnjs.cloudflare.com/ajax/libs/Leaflet.awesome-markers/2.0.2/leaflet.awesome-markers.css&quot;/&gt;\n",
       "    &lt;link rel=&quot;stylesheet&quot; href=&quot;https://cdn.jsdelivr.net/gh/python-visualization/folium/folium/templates/leaflet.awesome.rotate.min.css&quot;/&gt;\n",
       "    \n",
       "            &lt;meta name=&quot;viewport&quot; content=&quot;width=device-width,\n",
       "                initial-scale=1.0, maximum-scale=1.0, user-scalable=no&quot; /&gt;\n",
       "            &lt;style&gt;\n",
       "                #map_2558ca4c5bbf92b1f07a67f698ae54c7 {\n",
       "                    position: relative;\n",
       "                    width: 100.0%;\n",
       "                    height: 100.0%;\n",
       "                    left: 0.0%;\n",
       "                    top: 0.0%;\n",
       "                }\n",
       "                .leaflet-container { font-size: 1rem; }\n",
       "            &lt;/style&gt;\n",
       "        \n",
       "    \n",
       "                    &lt;style&gt;\n",
       "                        .foliumtooltip {\n",
       "                            \n",
       "                        }\n",
       "                       .foliumtooltip table{\n",
       "                            margin: auto;\n",
       "                        }\n",
       "                        .foliumtooltip tr{\n",
       "                            text-align: left;\n",
       "                        }\n",
       "                        .foliumtooltip th{\n",
       "                            padding: 2px; padding-right: 8px;\n",
       "                        }\n",
       "                    &lt;/style&gt;\n",
       "            \n",
       "&lt;/head&gt;\n",
       "&lt;body&gt;\n",
       "    \n",
       "    \n",
       "            &lt;div class=&quot;folium-map&quot; id=&quot;map_2558ca4c5bbf92b1f07a67f698ae54c7&quot; &gt;&lt;/div&gt;\n",
       "        \n",
       "&lt;/body&gt;\n",
       "&lt;script&gt;\n",
       "    \n",
       "    \n",
       "            var map_2558ca4c5bbf92b1f07a67f698ae54c7 = L.map(\n",
       "                &quot;map_2558ca4c5bbf92b1f07a67f698ae54c7&quot;,\n",
       "                {\n",
       "                    center: [59.94184531861331, 30.276069390327727],\n",
       "                    crs: L.CRS.EPSG3857,\n",
       "                    zoom: 10,\n",
       "                    zoomControl: true,\n",
       "                    preferCanvas: false,\n",
       "                }\n",
       "            );\n",
       "            L.control.scale().addTo(map_2558ca4c5bbf92b1f07a67f698ae54c7);\n",
       "\n",
       "            \n",
       "\n",
       "        \n",
       "    \n",
       "            var tile_layer_217a75ae47ef8479199594edf6b8a34a = L.tileLayer(\n",
       "                &quot;https://{s}.tile.openstreetmap.org/{z}/{x}/{y}.png&quot;,\n",
       "                {&quot;attribution&quot;: &quot;Data by \\u0026copy; \\u003ca target=\\&quot;_blank\\&quot; href=\\&quot;http://openstreetmap.org\\&quot;\\u003eOpenStreetMap\\u003c/a\\u003e, under \\u003ca target=\\&quot;_blank\\&quot; href=\\&quot;http://www.openstreetmap.org/copyright\\&quot;\\u003eODbL\\u003c/a\\u003e.&quot;, &quot;detectRetina&quot;: false, &quot;maxNativeZoom&quot;: 18, &quot;maxZoom&quot;: 18, &quot;minZoom&quot;: 0, &quot;noWrap&quot;: false, &quot;opacity&quot;: 1, &quot;subdomains&quot;: &quot;abc&quot;, &quot;tms&quot;: false}\n",
       "            ).addTo(map_2558ca4c5bbf92b1f07a67f698ae54c7);\n",
       "        \n",
       "    \n",
       "            map_2558ca4c5bbf92b1f07a67f698ae54c7.fitBounds(\n",
       "                [[59.93532701967736, 30.259503447737305], [59.94836361754926, 30.29263533291815]],\n",
       "                {}\n",
       "            );\n",
       "        \n",
       "    \n",
       "        function geo_json_9dcec96e6841c41dc45380482bc401a6_styler(feature) {\n",
       "            switch(feature.id) {\n",
       "                default:\n",
       "                    return {&quot;fillOpacity&quot;: 0.5, &quot;weight&quot;: 2};\n",
       "            }\n",
       "        }\n",
       "        function geo_json_9dcec96e6841c41dc45380482bc401a6_highlighter(feature) {\n",
       "            switch(feature.id) {\n",
       "                default:\n",
       "                    return {&quot;fillOpacity&quot;: 0.75};\n",
       "            }\n",
       "        }\n",
       "        function geo_json_9dcec96e6841c41dc45380482bc401a6_pointToLayer(feature, latlng) {\n",
       "            var opts = {&quot;bubblingMouseEvents&quot;: true, &quot;color&quot;: &quot;#3388ff&quot;, &quot;dashArray&quot;: null, &quot;dashOffset&quot;: null, &quot;fill&quot;: true, &quot;fillColor&quot;: &quot;#3388ff&quot;, &quot;fillOpacity&quot;: 0.2, &quot;fillRule&quot;: &quot;evenodd&quot;, &quot;lineCap&quot;: &quot;round&quot;, &quot;lineJoin&quot;: &quot;round&quot;, &quot;opacity&quot;: 1.0, &quot;radius&quot;: 2, &quot;stroke&quot;: true, &quot;weight&quot;: 3};\n",
       "            \n",
       "            let style = geo_json_9dcec96e6841c41dc45380482bc401a6_styler(feature)\n",
       "            Object.assign(opts, style)\n",
       "            \n",
       "            return new L.CircleMarker(latlng, opts)\n",
       "        }\n",
       "\n",
       "        function geo_json_9dcec96e6841c41dc45380482bc401a6_onEachFeature(feature, layer) {\n",
       "            layer.on({\n",
       "                mouseout: function(e) {\n",
       "                    if(typeof e.target.setStyle === &quot;function&quot;){\n",
       "                        geo_json_9dcec96e6841c41dc45380482bc401a6.resetStyle(e.target);\n",
       "                    }\n",
       "                },\n",
       "                mouseover: function(e) {\n",
       "                    if(typeof e.target.setStyle === &quot;function&quot;){\n",
       "                        const highlightStyle = geo_json_9dcec96e6841c41dc45380482bc401a6_highlighter(e.target.feature)\n",
       "                        e.target.setStyle(highlightStyle);\n",
       "                    }\n",
       "                },\n",
       "            });\n",
       "        };\n",
       "        var geo_json_9dcec96e6841c41dc45380482bc401a6 = L.geoJson(null, {\n",
       "                onEachFeature: geo_json_9dcec96e6841c41dc45380482bc401a6_onEachFeature,\n",
       "            \n",
       "                style: geo_json_9dcec96e6841c41dc45380482bc401a6_styler,\n",
       "                pointToLayer: geo_json_9dcec96e6841c41dc45380482bc401a6_pointToLayer\n",
       "        });\n",
       "\n",
       "        function geo_json_9dcec96e6841c41dc45380482bc401a6_add (data) {\n",
       "            geo_json_9dcec96e6841c41dc45380482bc401a6\n",
       "                .addData(data)\n",
       "                .addTo(map_2558ca4c5bbf92b1f07a67f698ae54c7);\n",
       "        }\n",
       "            geo_json_9dcec96e6841c41dc45380482bc401a6_add({&quot;bbox&quot;: [30.259503447737305, 59.93532701967736, 30.29263533291815, 59.94836361754926], &quot;features&quot;: [{&quot;bbox&quot;: [30.259503447737305, 59.93532701967736, 30.29263533291815, 59.94836361754926], &quot;geometry&quot;: {&quot;coordinates&quot;: [[[[30.279223227093436, 59.94836361754925], [30.259503447737305, 59.94513820194232], [30.261960120586387, 59.93572617525938], [30.28041836523623, 59.93532701967736], [30.29263533291815, 59.93888598739961], [30.279289623656926, 59.94836361754926], [30.279223227093436, 59.94836361754925]]]], &quot;type&quot;: &quot;MultiPolygon&quot;}, &quot;id&quot;: &quot;0&quot;, &quot;properties&quot;: {&quot;id&quot;: 1}, &quot;type&quot;: &quot;Feature&quot;}], &quot;type&quot;: &quot;FeatureCollection&quot;});\n",
       "\n",
       "        \n",
       "    \n",
       "    geo_json_9dcec96e6841c41dc45380482bc401a6.bindTooltip(\n",
       "    function(layer){\n",
       "    let div = L.DomUtil.create(&#x27;div&#x27;);\n",
       "    \n",
       "    let handleObject = feature=&gt;typeof(feature)==&#x27;object&#x27; ? JSON.stringify(feature) : feature;\n",
       "    let fields = [&quot;id&quot;];\n",
       "    let aliases = [&quot;id&quot;];\n",
       "    let table = &#x27;&lt;table&gt;&#x27; +\n",
       "        String(\n",
       "        fields.map(\n",
       "        (v,i)=&gt;\n",
       "        `&lt;tr&gt;\n",
       "            &lt;th&gt;${aliases[i]}&lt;/th&gt;\n",
       "            \n",
       "            &lt;td&gt;${handleObject(layer.feature.properties[v])}&lt;/td&gt;\n",
       "        &lt;/tr&gt;`).join(&#x27;&#x27;))\n",
       "    +&#x27;&lt;/table&gt;&#x27;;\n",
       "    div.innerHTML=table;\n",
       "    \n",
       "    return div\n",
       "    }\n",
       "    ,{&quot;className&quot;: &quot;foliumtooltip&quot;, &quot;sticky&quot;: true});\n",
       "                     \n",
       "&lt;/script&gt;\n",
       "&lt;/html&gt;\" style=\"position:absolute;width:100%;height:100%;left:0;top:0;border:none !important;\" allowfullscreen webkitallowfullscreen mozallowfullscreen></iframe></div></div>"
      ],
      "text/plain": [
       "<folium.folium.Map at 0x16e716a30>"
      ]
     },
     "execution_count": 8,
     "metadata": {},
     "output_type": "execute_result"
    }
   ],
   "source": [
    "polygon = gpd.read_file('./output_data/polygon.geojson')\n",
    "polygon.explore()"
   ]
  },
  {
   "cell_type": "code",
   "execution_count": 9,
   "metadata": {},
   "outputs": [],
   "source": [
    "\n",
    "gdf = gpd.read_parquet('/Users/mvin/Desktop/masterplanning/output_data/BLOCKS_AND_BUILDINGS_INFO-2.parquet')\n"
   ]
  },
  {
   "cell_type": "code",
   "execution_count": 10,
   "metadata": {},
   "outputs": [
    {
     "data": {
      "text/html": [
       "<div>\n",
       "<style scoped>\n",
       "    .dataframe tbody tr th:only-of-type {\n",
       "        vertical-align: middle;\n",
       "    }\n",
       "\n",
       "    .dataframe tbody tr th {\n",
       "        vertical-align: top;\n",
       "    }\n",
       "\n",
       "    .dataframe thead th {\n",
       "        text-align: right;\n",
       "    }\n",
       "</style>\n",
       "<table border=\"1\" class=\"dataframe\">\n",
       "  <thead>\n",
       "    <tr style=\"text-align: right;\">\n",
       "      <th></th>\n",
       "      <th>geometry</th>\n",
       "      <th>block_id</th>\n",
       "      <th>current_population</th>\n",
       "      <th>floors</th>\n",
       "      <th>current_living_area</th>\n",
       "      <th>current_green_capacity</th>\n",
       "      <th>current_green_area</th>\n",
       "      <th>current_parking_capacity</th>\n",
       "      <th>current_industrial_area</th>\n",
       "      <th>area</th>\n",
       "    </tr>\n",
       "  </thead>\n",
       "  <tbody>\n",
       "    <tr>\n",
       "      <th>0</th>\n",
       "      <td>POLYGON ((316983.653 6644038.696, 316986.485 6...</td>\n",
       "      <td>0</td>\n",
       "      <td>0.0</td>\n",
       "      <td>0.0</td>\n",
       "      <td>0.0000</td>\n",
       "      <td>1091.0</td>\n",
       "      <td>219008.0</td>\n",
       "      <td>237.0</td>\n",
       "      <td>1208.07200</td>\n",
       "      <td>2.738972e+06</td>\n",
       "    </tr>\n",
       "    <tr>\n",
       "      <th>1</th>\n",
       "      <td>POLYGON ((315287.843 6646411.375, 315288.850 6...</td>\n",
       "      <td>1</td>\n",
       "      <td>671.0</td>\n",
       "      <td>1.0</td>\n",
       "      <td>14106.1824</td>\n",
       "      <td>452.0</td>\n",
       "      <td>13070.0</td>\n",
       "      <td>0.0</td>\n",
       "      <td>16625.23190</td>\n",
       "      <td>2.795374e+06</td>\n",
       "    </tr>\n",
       "    <tr>\n",
       "      <th>2</th>\n",
       "      <td>POLYGON ((315582.670 6646809.216, 315582.581 6...</td>\n",
       "      <td>2</td>\n",
       "      <td>48.0</td>\n",
       "      <td>1.0</td>\n",
       "      <td>1090.8619</td>\n",
       "      <td>0.0</td>\n",
       "      <td>0.0</td>\n",
       "      <td>0.0</td>\n",
       "      <td>319.27800</td>\n",
       "      <td>1.771556e+04</td>\n",
       "    </tr>\n",
       "    <tr>\n",
       "      <th>3</th>\n",
       "      <td>POLYGON ((315264.235 6646596.731, 315274.102 6...</td>\n",
       "      <td>3</td>\n",
       "      <td>10.0</td>\n",
       "      <td>1.5</td>\n",
       "      <td>172.0790</td>\n",
       "      <td>0.0</td>\n",
       "      <td>0.0</td>\n",
       "      <td>0.0</td>\n",
       "      <td>1029.45610</td>\n",
       "      <td>2.680521e+05</td>\n",
       "    </tr>\n",
       "    <tr>\n",
       "      <th>4</th>\n",
       "      <td>POLYGON ((313479.271 6646628.746, 313479.599 6...</td>\n",
       "      <td>4</td>\n",
       "      <td>47.0</td>\n",
       "      <td>1.0</td>\n",
       "      <td>1112.1592</td>\n",
       "      <td>0.0</td>\n",
       "      <td>0.0</td>\n",
       "      <td>145.0</td>\n",
       "      <td>73477.11422</td>\n",
       "      <td>2.380600e+06</td>\n",
       "    </tr>\n",
       "  </tbody>\n",
       "</table>\n",
       "</div>"
      ],
      "text/plain": [
       "                                            geometry  block_id  \\\n",
       "0  POLYGON ((316983.653 6644038.696, 316986.485 6...         0   \n",
       "1  POLYGON ((315287.843 6646411.375, 315288.850 6...         1   \n",
       "2  POLYGON ((315582.670 6646809.216, 315582.581 6...         2   \n",
       "3  POLYGON ((315264.235 6646596.731, 315274.102 6...         3   \n",
       "4  POLYGON ((313479.271 6646628.746, 313479.599 6...         4   \n",
       "\n",
       "   current_population  floors  current_living_area  current_green_capacity  \\\n",
       "0                 0.0     0.0               0.0000                  1091.0   \n",
       "1               671.0     1.0           14106.1824                   452.0   \n",
       "2                48.0     1.0            1090.8619                     0.0   \n",
       "3                10.0     1.5             172.0790                     0.0   \n",
       "4                47.0     1.0            1112.1592                     0.0   \n",
       "\n",
       "   current_green_area  current_parking_capacity  current_industrial_area  \\\n",
       "0            219008.0                     237.0               1208.07200   \n",
       "1             13070.0                       0.0              16625.23190   \n",
       "2                 0.0                       0.0                319.27800   \n",
       "3                 0.0                       0.0               1029.45610   \n",
       "4                 0.0                     145.0              73477.11422   \n",
       "\n",
       "           area  \n",
       "0  2.738972e+06  \n",
       "1  2.795374e+06  \n",
       "2  1.771556e+04  \n",
       "3  2.680521e+05  \n",
       "4  2.380600e+06  "
      ]
     },
     "execution_count": 10,
     "metadata": {},
     "output_type": "execute_result"
    }
   ],
   "source": [
    "gdf.head()"
   ]
  },
  {
   "cell_type": "code",
   "execution_count": 11,
   "metadata": {},
   "outputs": [],
   "source": [
    "def balanc_data(gdf, polygon, school, kindergarten, greening):\n",
    "\n",
    "    Hectare = 10000\n",
    "    intersecting_blocks = gpd.overlay(gdf, polygon, how='intersection').drop(columns=[\"id\"])\n",
    "    intersecting_blocks.rename(columns = {'id_1':'id'}, inplace = True)\n",
    "    gdf = intersecting_blocks\n",
    "\n",
    "    gdf['current_building_area'] = gdf['current_living_area'] + gdf['current_industrial_area']\n",
    "    gdf_ = gdf[['block_id', 'area', 'current_living_area', 'current_industrial_area',\n",
    "        'current_population', 'current_green_area', 'floors']]\n",
    "\n",
    "    gdf_ = gdf_.merge(school[['id', 'population_unprov_schools']], left_on='block_id', right_on='id').merge(kindergarten[['id', 'population_unprov_kindergartens']], \n",
    "    left_on='block_id', right_on='id').merge(greening[['id', 'population_unprov_recreational_areas']], left_on='block_id', right_on='id')\n",
    "    gdf_.drop(['id_x', 'id_y', 'id'], axis=1, inplace=True)\n",
    "\n",
    "    gdf_['area'] = gdf_['area']/Hectare\n",
    "    gdf_['current_living_area'] = gdf_['current_living_area']/Hectare\n",
    "    gdf_['current_industrial_area'] = gdf_['current_industrial_area']/Hectare\n",
    "    gdf_['current_green_area'] = gdf_['current_green_area']/Hectare\n",
    "\n",
    "    df_sum = gdf_.sum()\n",
    "    df_sum['floors'] = gdf_['floors'].mean()\n",
    "    df_new = pd.DataFrame(df_sum).T\n",
    "\n",
    "    sample = df_new[df_new['area']>10].sample()\n",
    "    sample = sample.to_dict('records')\n",
    "    block = sample[0].copy()\n",
    "    \n",
    "    return block"
   ]
  },
  {
   "cell_type": "code",
   "execution_count": 12,
   "metadata": {},
   "outputs": [
    {
     "data": {
      "text/plain": [
       "{'block_id': 140932.0,\n",
       " 'area': 270.7060423617665,\n",
       " 'current_living_area': 58.46889635,\n",
       " 'current_industrial_area': 50.056015810199995,\n",
       " 'current_population': 49734.0,\n",
       " 'current_green_area': 17.376400000000004,\n",
       " 'floors': 3.2708333333333335,\n",
       " 'population_unprov_schools': 1240.0,\n",
       " 'population_unprov_kindergartens': 0.0,\n",
       " 'population_unprov_recreational_areas': 14336.0}"
      ]
     },
     "execution_count": 12,
     "metadata": {},
     "output_type": "execute_result"
    }
   ],
   "source": [
    "block = balanc_data(gdf=gdf, polygon=polygon, school=school, kindergarten=kindergarten, greening=greening)\n",
    "block"
   ]
  },
  {
   "cell_type": "code",
   "execution_count": 13,
   "metadata": {},
   "outputs": [
    {
     "name": "stderr",
     "output_type": "stream",
     "text": [
      "/Users/mvin/Desktop/masterplanning/Balancer/balancer.py:162: FutureWarning: The frame.append method is deprecated and will be removed from pandas in a future version. Use pandas.concat instead.\n",
      "  self.results = self.results.append(temp_result, ignore_index=True)\n",
      "/Users/mvin/Desktop/masterplanning/Balancer/balancer.py:162: FutureWarning: The frame.append method is deprecated and will be removed from pandas in a future version. Use pandas.concat instead.\n",
      "  self.results = self.results.append(temp_result, ignore_index=True)\n",
      "/Users/mvin/Desktop/masterplanning/Balancer/balancer.py:162: FutureWarning: The frame.append method is deprecated and will be removed from pandas in a future version. Use pandas.concat instead.\n",
      "  self.results = self.results.append(temp_result, ignore_index=True)\n",
      "/Users/mvin/Desktop/masterplanning/Balancer/balancer.py:162: FutureWarning: The frame.append method is deprecated and will be removed from pandas in a future version. Use pandas.concat instead.\n",
      "  self.results = self.results.append(temp_result, ignore_index=True)\n",
      "/Users/mvin/Desktop/masterplanning/Balancer/balancer.py:162: FutureWarning: The frame.append method is deprecated and will be removed from pandas in a future version. Use pandas.concat instead.\n",
      "  self.results = self.results.append(temp_result, ignore_index=True)\n"
     ]
    },
    {
     "data": {
      "text/plain": [
       "{'area': 270.7060423617665,\n",
       " 'population': 76009.0,\n",
       " 'b': 29.99601356107917,\n",
       " 'green_coef_G': 9.030707660260864,\n",
       " 'living_area': 137.28342198173553,\n",
       " 'schools_area': 5.4,\n",
       " 'schools_capacity': 3300,\n",
       " 'kindergartens_area': 6.6,\n",
       " 'kindergartens_capacity': 1680,\n",
       " 'green_area': 54.0510068790854,\n",
       " 'G_min_capacity': 90085.01146514234,\n",
       " 'G_max_capacity': 45042.50573257117,\n",
       " 'green_coef_G_capacity': 59852.459976014834,\n",
       " 'op_area': 0.078825,\n",
       " 'parking1_area': 19.8639,\n",
       " 'parking2_area': 19.312124999999998}"
      ]
     },
     "execution_count": 13,
     "metadata": {},
     "output_type": "execute_result"
    }
   ],
   "source": [
    "mp = MasterPlan(area=block['area'],\n",
    "                current_living_area=block['current_living_area'],\n",
    "                current_industrial_area=block['current_industrial_area'],\n",
    "                current_population=block['current_population'],\n",
    "                current_green_area=block['current_green_area'],\n",
    "                current_unprov_schoolkids=block['population_unprov_schools'],\n",
    "                current_unprov_kids=block['population_unprov_kindergartens'],\n",
    "                current_unprov_green_population=block['population_unprov_recreational_areas'])\n",
    "updated_block_info = mp.optimal_solution_indicators()\n",
    "# updated_block_info[\"block_id\"] = '138'\n",
    "updated_block_info"
   ]
  },
  {
   "cell_type": "code",
   "execution_count": 15,
   "metadata": {},
   "outputs": [
    {
     "data": {
      "text/plain": [
       "id                                                                        2157\n",
       "geometry                     POLYGON ((340408.2947395761 6639979.697077261,...\n",
       "provision_schools                                                          100\n",
       "id_schools                                                                2157\n",
       "population_prov_schools                                                  30140\n",
       "population_unprov_schools                                                    0\n",
       "population                                                               30140\n",
       "Name: 2157, dtype: object"
      ]
     },
     "execution_count": 15,
     "metadata": {},
     "output_type": "execute_result"
    }
   ],
   "source": [
    "school.loc[2157, :]"
   ]
  },
  {
   "cell_type": "code",
   "execution_count": 16,
   "metadata": {},
   "outputs": [
    {
     "data": {
      "text/plain": [
       "id                                                                              2157\n",
       "geometry                           POLYGON ((340408.2947395761 6639979.697077261,...\n",
       "provision_kindergartens                                                          100\n",
       "id_kindergartens                                                                2157\n",
       "population_prov_kindergartens                                                  30140\n",
       "population_unprov_kindergartens                                                    0\n",
       "population                                                                     30140\n",
       "Name: 2157, dtype: object"
      ]
     },
     "execution_count": 16,
     "metadata": {},
     "output_type": "execute_result"
    }
   ],
   "source": [
    "kindergarten.loc[2157, :]"
   ]
  },
  {
   "cell_type": "code",
   "execution_count": 17,
   "metadata": {},
   "outputs": [],
   "source": [
    "updated_block = {'area': 269.91357042657916,\n",
    " 'population': 49547.0,\n",
    " 'b': 24.000000000000004,\n",
    " 'green_coef_G': 9.0,\n",
    " 'living_area': 63.8661511,\n",
    " 'schools_area': 4.7,\n",
    " 'schools_capacity': 2500,\n",
    " 'kindergartens_area': 4.4,\n",
    " 'kindergartens_capacity': 1120,\n",
    " 'green_area': 43.0201,\n",
    " 'G_min_capacity': 71700.16666666667,\n",
    " 'G_max_capacity': 35850.083333333336,\n",
    " 'green_coef_G_capacity': 47800.11111111111,\n",
    " 'op_area': 0.061914000000000004,\n",
    " 'parking1_area': 15.602328000000002,\n",
    " 'parking2_area': 15.16893,\n",
    " 'block_id': 2157}"
   ]
  },
  {
   "cell_type": "code",
   "execution_count": 18,
   "metadata": {},
   "outputs": [
    {
     "name": "stderr",
     "output_type": "stream",
     "text": [
      "/Users/mvin/Desktop/mp_dev/mp_dev/lib/python3.9/site-packages/geopandas/io/sql.py:158: UserWarning: pandas only supports SQLAlchemy connectable (engine/connection) or database string URI or sqlite3 DBAPI2 connection. Other DBAPI2 objects are not tested. Please consider using SQLAlchemy.\n",
      "  df = pd.read_sql(\n"
     ]
    },
    {
     "name": "stdout",
     "output_type": "stream",
     "text": [
      "3972\n",
      "6472\n"
     ]
    },
    {
     "data": {
      "application/vnd.jupyter.widget-view+json": {
       "model_id": "1ea2a6ab3fb74dc3bf34a921f2172b51",
       "version_major": 2,
       "version_minor": 0
      },
      "text/plain": [
       "  0%|          | 0/605 [00:00<?, ?it/s]"
      ]
     },
     "metadata": {},
     "output_type": "display_data"
    },
    {
     "name": "stdout",
     "output_type": "stream",
     "text": [
      "количество кварталов c сервисом schools: 51\n",
      "количество жилых кварталов: 1135\n",
      "количество кварталов всего: 1609\n",
      "количество кварталов c ошибкой: 0\n"
     ]
    },
    {
     "name": "stderr",
     "output_type": "stream",
     "text": [
      "/Users/mvin/Desktop/mp_dev/mp_dev/lib/python3.9/site-packages/geopandas/io/sql.py:158: UserWarning: pandas only supports SQLAlchemy connectable (engine/connection) or database string URI or sqlite3 DBAPI2 connection. Other DBAPI2 objects are not tested. Please consider using SQLAlchemy.\n",
      "  df = pd.read_sql(\n"
     ]
    },
    {
     "name": "stdout",
     "output_type": "stream",
     "text": [
      "2406\n",
      "3526\n"
     ]
    },
    {
     "data": {
      "application/vnd.jupyter.widget-view+json": {
       "model_id": "ff9208efd72647adbabe506622209612",
       "version_major": 2,
       "version_minor": 0
      },
      "text/plain": [
       "  0%|          | 0/691 [00:00<?, ?it/s]"
      ]
     },
     "metadata": {},
     "output_type": "display_data"
    },
    {
     "name": "stdout",
     "output_type": "stream",
     "text": [
      "количество кварталов c сервисом kindergartens: 29\n",
      "количество жилых кварталов: 765\n",
      "количество кварталов всего: 900\n",
      "количество кварталов c ошибкой: 0\n"
     ]
    }
   ],
   "source": [
    "for service_type in GROUPS:\n",
    "    service_gdf = get_service(engine=engine, city_crs=city_crs, city_id=city_id, service_type=service_type, )\n",
    "    \n",
    "    model = ProvisionModel(\n",
    "    SUB_GROUP=service_type,\n",
    "    blocks=blocks_gdf,\n",
    "    matrix=matrix,\n",
    "    buildings=buildings_gdf,\n",
    "    standard = standard_dict[service_type],\n",
    "    ACCS_TIME=services_accessabilities[service_type],\n",
    "    service_gdf=service_gdf,\n",
    "    updated_block_info=updated_block \n",
    "    )\n",
    "\n",
    "    if service_type == 'schools':\n",
    "        school = model.run()\n",
    "        \n",
    "    elif service_type == 'kindergartens':\n",
    "        kindergarten = model.run()"
   ]
  },
  {
   "cell_type": "code",
   "execution_count": 19,
   "metadata": {},
   "outputs": [
    {
     "data": {
      "text/plain": [
       "id                                                                        2157\n",
       "geometry                     POLYGON ((340408.2947395761 6639979.697077261,...\n",
       "provision_schools                                                          100\n",
       "id_schools                                                                2157\n",
       "population_prov_schools                                                  49547\n",
       "population_unprov_schools                                                    0\n",
       "population                                                               49547\n",
       "Name: 2157, dtype: object"
      ]
     },
     "execution_count": 19,
     "metadata": {},
     "output_type": "execute_result"
    }
   ],
   "source": [
    "school.loc[2157, :]"
   ]
  },
  {
   "cell_type": "code",
   "execution_count": 20,
   "metadata": {},
   "outputs": [
    {
     "data": {
      "text/plain": [
       "id                                                                              2157\n",
       "geometry                           POLYGON ((340408.2947395761 6639979.697077261,...\n",
       "provision_kindergartens                                                          100\n",
       "id_kindergartens                                                                2157\n",
       "population_prov_kindergartens                                                  49547\n",
       "population_unprov_kindergartens                                                    0\n",
       "population                                                                     49547\n",
       "Name: 2157, dtype: object"
      ]
     },
     "execution_count": 20,
     "metadata": {},
     "output_type": "execute_result"
    }
   ],
   "source": [
    "kindergarten.loc[2157, :]"
   ]
  }
 ],
 "metadata": {
  "kernelspec": {
   "display_name": "Python 3.9.13 ('mp_dev': venv)",
   "language": "python",
   "name": "python3"
  },
  "language_info": {
   "codemirror_mode": {
    "name": "ipython",
    "version": 3
   },
   "file_extension": ".py",
   "mimetype": "text/x-python",
   "name": "python",
   "nbconvert_exporter": "python",
   "pygments_lexer": "ipython3",
   "version": "3.9.13"
  },
  "orig_nbformat": 4,
  "vscode": {
   "interpreter": {
    "hash": "9b19f456e35329ef23e74f17ccb3dc4ee2354c3c25232701aa99dbc224ba8198"
   }
  }
 },
 "nbformat": 4,
 "nbformat_minor": 2
}
