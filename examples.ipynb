{
 "cells": [
  {
   "attachments": {},
   "cell_type": "markdown",
   "metadata": {},
   "source": [
    "# An example of mastrplan creation"
   ]
  },
  {
   "cell_type": "code",
   "execution_count": 1,
   "metadata": {},
   "outputs": [
    {
     "name": "stderr",
     "output_type": "stream",
     "text": [
      "c:\\masterplanning\\env\\lib\\site-packages\\tqdm\\auto.py:21: TqdmWarning: IProgress not found. Please update jupyter and ipywidgets. See https://ipywidgets.readthedocs.io/en/stable/user_install.html\n",
      "  from .autonotebook import tqdm as notebook_tqdm\n"
     ]
    },
    {
     "data": {
      "text/html": [
       "\n",
       "\t\t\t<script type=\"text/javascript\">\n",
       "\t\t\t<!--\n",
       "\t\t\t\t\n",
       "\t\t\t{\n",
       "\t\t\t\tvar element = document.getElementById('NetworKit_script');\n",
       "\t\t\t\tif (element) {\n",
       "\t\t\t\t\telement.parentNode.removeChild(element);\n",
       "\t\t\t\t}\n",
       "\t\t\t\telement = document.createElement('script');\n",
       "\t\t\t\telement.type = 'text/javascript';\n",
       "\t\t\t\telement.innerHTML = 'function NetworKit_pageEmbed(id) { var i, j; var elements; elements = document.getElementById(id).getElementsByClassName(\"Plot\"); for (i=0; i<elements.length; i++) { elements[i].id = id + \"_Plot_\" + i; var data = elements[i].getAttribute(\"data-image\").split(\"|\"); elements[i].removeAttribute(\"data-image\"); var content = \"<div class=\\\\\"Image\\\\\" id=\\\\\"\" + elements[i].id + \"_Image\\\\\" />\"; elements[i].innerHTML = content; elements[i].setAttribute(\"data-image-index\", 0); elements[i].setAttribute(\"data-image-length\", data.length); for (j=0; j<data.length; j++) { elements[i].setAttribute(\"data-image-\" + j, data[j]); } NetworKit_plotUpdate(elements[i]); elements[i].onclick = function (e) { NetworKit_overlayShow((e.target) ? e.target : e.srcElement); } } elements = document.getElementById(id).getElementsByClassName(\"HeatCell\"); for (i=0; i<elements.length; i++) { var data = parseFloat(elements[i].getAttribute(\"data-heat\")); var color = \"#00FF00\"; if (data <= 1 && data > 0) { color = \"hsla(0, 100%, 75%, \" + (data) + \")\"; } else if (data <= 0 && data >= -1) { color = \"hsla(240, 100%, 75%, \" + (-data) + \")\"; } elements[i].style.backgroundColor = color; } elements = document.getElementById(id).getElementsByClassName(\"Details\"); for (i=0; i<elements.length; i++) { elements[i].setAttribute(\"data-title\", \"-\"); NetworKit_toggleDetails(elements[i]); elements[i].onclick = function (e) { NetworKit_toggleDetails((e.target) ? e.target : e.srcElement); } } elements = document.getElementById(id).getElementsByClassName(\"MathValue\"); for (i=elements.length-1; i>=0; i--) { value = elements[i].innerHTML.trim(); if (value === \"nan\") { elements[i].parentNode.innerHTML = \"\" } } elements = document.getElementById(id).getElementsByClassName(\"SubCategory\"); for (i=elements.length-1; i>=0; i--) { value = elements[i].innerHTML.trim(); if (value === \"\") { elements[i].parentNode.removeChild(elements[i]) } } elements = document.getElementById(id).getElementsByClassName(\"Category\"); for (i=elements.length-1; i>=0; i--) { value = elements[i].innerHTML.trim(); if (value === \"\") { elements[i].parentNode.removeChild(elements[i]) } } var isFirefox = false; try { isFirefox = typeof InstallTrigger !== \"undefined\"; } catch (e) {} if (!isFirefox) { alert(\"Currently the function\\'s output is only fully supported by Firefox.\"); } } function NetworKit_plotUpdate(source) { var index = source.getAttribute(\"data-image-index\"); var data = source.getAttribute(\"data-image-\" + index); var image = document.getElementById(source.id + \"_Image\"); image.style.backgroundImage = \"url(\" + data + \")\"; } function NetworKit_showElement(id, show) { var element = document.getElementById(id); element.style.display = (show) ? \"block\" : \"none\"; } function NetworKit_overlayShow(source) { NetworKit_overlayUpdate(source); NetworKit_showElement(\"NetworKit_Overlay\", true); } function NetworKit_overlayUpdate(source) { document.getElementById(\"NetworKit_Overlay_Title\").innerHTML = source.title; var index = source.getAttribute(\"data-image-index\"); var data = source.getAttribute(\"data-image-\" + index); var image = document.getElementById(\"NetworKit_Overlay_Image\"); image.setAttribute(\"data-id\", source.id); image.style.backgroundImage = \"url(\" + data + \")\"; var link = document.getElementById(\"NetworKit_Overlay_Toolbar_Bottom_Save\"); link.href = data; link.download = source.title + \".svg\"; } function NetworKit_overlayImageShift(delta) { var image = document.getElementById(\"NetworKit_Overlay_Image\"); var source = document.getElementById(image.getAttribute(\"data-id\")); var index = parseInt(source.getAttribute(\"data-image-index\")); var length = parseInt(source.getAttribute(\"data-image-length\")); var index = (index+delta) % length; if (index < 0) { index = length + index; } source.setAttribute(\"data-image-index\", index); NetworKit_overlayUpdate(source); } function NetworKit_toggleDetails(source) { var childs = source.children; var show = false; if (source.getAttribute(\"data-title\") == \"-\") { source.setAttribute(\"data-title\", \"+\"); show = false; } else { source.setAttribute(\"data-title\", \"-\"); show = true; } for (i=0; i<childs.length; i++) { if (show) { childs[i].style.display = \"block\"; } else { childs[i].style.display = \"none\"; } } }';\n",
       "\t\t\t\telement.setAttribute('id', 'NetworKit_script');\n",
       "\t\t\t\tdocument.head.appendChild(element);\n",
       "\t\t\t}\n",
       "\t\t\n",
       "\t\t\t\t\n",
       "\t\t\t{\n",
       "\t\t\t\tvar element = document.getElementById('NetworKit_style');\n",
       "\t\t\t\tif (element) {\n",
       "\t\t\t\t\telement.parentNode.removeChild(element);\n",
       "\t\t\t\t}\n",
       "\t\t\t\telement = document.createElement('style');\n",
       "\t\t\t\telement.type = 'text/css';\n",
       "\t\t\t\telement.innerHTML = '.NetworKit_Page { font-family: Arial, Helvetica, sans-serif; font-size: 14px; } .NetworKit_Page .Value:before { font-family: Arial, Helvetica, sans-serif; font-size: 1.05em; content: attr(data-title) \":\"; margin-left: -2.5em; padding-right: 0.5em; } .NetworKit_Page .Details .Value:before { display: block; } .NetworKit_Page .Value { font-family: monospace; white-space: pre; padding-left: 2.5em; white-space: -moz-pre-wrap !important; white-space: -pre-wrap; white-space: -o-pre-wrap; white-space: pre-wrap; word-wrap: break-word; tab-size: 4; -moz-tab-size: 4; } .NetworKit_Page .Category { clear: both; padding-left: 1em; margin-bottom: 1.5em; } .NetworKit_Page .Category:before { content: attr(data-title); font-size: 1.75em; display: block; margin-left: -0.8em; margin-bottom: 0.5em; } .NetworKit_Page .SubCategory { margin-bottom: 1.5em; padding-left: 1em; } .NetworKit_Page .SubCategory:before { font-size: 1.6em; display: block; margin-left: -0.8em; margin-bottom: 0.5em; } .NetworKit_Page .SubCategory[data-title]:before { content: attr(data-title); } .NetworKit_Page .Block { display: block; } .NetworKit_Page .Block:after { content: \".\"; visibility: hidden; display: block; height: 0; clear: both; } .NetworKit_Page .Block .Thumbnail_Overview, .NetworKit_Page .Block .Thumbnail_ScatterPlot { width: 260px; float: left; } .NetworKit_Page .Block .Thumbnail_Overview img, .NetworKit_Page .Block .Thumbnail_ScatterPlot img { width: 260px; } .NetworKit_Page .Block .Thumbnail_Overview:before, .NetworKit_Page .Block .Thumbnail_ScatterPlot:before { display: block; text-align: center; font-weight: bold; } .NetworKit_Page .Block .Thumbnail_Overview:before { content: attr(data-title); } .NetworKit_Page .HeatCell { font-family: \"Courier New\", Courier, monospace; cursor: pointer; } .NetworKit_Page .HeatCell, .NetworKit_Page .HeatCellName { display: inline; padding: 0.1em; margin-right: 2px; background-color: #FFFFFF } .NetworKit_Page .HeatCellName { margin-left: 0.25em; } .NetworKit_Page .HeatCell:before { content: attr(data-heat); display: inline-block; color: #000000; width: 4em; text-align: center; } .NetworKit_Page .Measure { clear: both; } .NetworKit_Page .Measure .Details { cursor: pointer; } .NetworKit_Page .Measure .Details:before { content: \"[\" attr(data-title) \"]\"; display: block; } .NetworKit_Page .Measure .Details .Value { border-left: 1px dotted black; margin-left: 0.4em; padding-left: 3.5em; pointer-events: none; } .NetworKit_Page .Measure .Details .Spacer:before { content: \".\"; opacity: 0.0; pointer-events: none; } .NetworKit_Page .Measure .Plot { width: 440px; height: 440px; cursor: pointer; float: left; margin-left: -0.9em; margin-right: 20px; } .NetworKit_Page .Measure .Plot .Image { background-repeat: no-repeat; background-position: center center; background-size: contain; height: 100%; pointer-events: none; } .NetworKit_Page .Measure .Stat { width: 500px; float: left; } .NetworKit_Page .Measure .Stat .Group { padding-left: 1.25em; margin-bottom: 0.75em; } .NetworKit_Page .Measure .Stat .Group .Title { font-size: 1.1em; display: block; margin-bottom: 0.3em; margin-left: -0.75em; border-right-style: dotted; border-right-width: 1px; border-bottom-style: dotted; border-bottom-width: 1px; background-color: #D0D0D0; padding-left: 0.2em; } .NetworKit_Page .Measure .Stat .Group .List { -webkit-column-count: 3; -moz-column-count: 3; column-count: 3; } .NetworKit_Page .Measure .Stat .Group .List .Entry { position: relative; line-height: 1.75em; } .NetworKit_Page .Measure .Stat .Group .List .Entry[data-tooltip]:before { position: absolute; left: 0; top: -40px; background-color: #808080; color: #ffffff; height: 30px; line-height: 30px; border-radius: 5px; padding: 0 15px; content: attr(data-tooltip); white-space: nowrap; display: none; } .NetworKit_Page .Measure .Stat .Group .List .Entry[data-tooltip]:after { position: absolute; left: 15px; top: -10px; border-top: 7px solid #808080; border-left: 7px solid transparent; border-right: 7px solid transparent; content: \"\"; display: none; } .NetworKit_Page .Measure .Stat .Group .List .Entry[data-tooltip]:hover:after, .NetworKit_Page .Measure .Stat .Group .List .Entry[data-tooltip]:hover:before { display: block; } .NetworKit_Page .Measure .Stat .Group .List .Entry .MathValue { font-family: \"Courier New\", Courier, monospace; } .NetworKit_Page .Measure:after { content: \".\"; visibility: hidden; display: block; height: 0; clear: both; } .NetworKit_Page .PartitionPie { clear: both; } .NetworKit_Page .PartitionPie img { width: 600px; } #NetworKit_Overlay { left: 0px; top: 0px; display: none; position: absolute; width: 100%; height: 100%; background-color: rgba(0,0,0,0.6); z-index: 1000; } #NetworKit_Overlay_Title { position: absolute; color: white; transform: rotate(-90deg); width: 32em; height: 32em; padding-right: 0.5em; padding-top: 0.5em; text-align: right; font-size: 40px; } #NetworKit_Overlay .button { background: white; cursor: pointer; } #NetworKit_Overlay .button:before { size: 13px; display: inline-block; text-align: center; margin-top: 0.5em; margin-bottom: 0.5em; width: 1.5em; height: 1.5em; } #NetworKit_Overlay .icon-close:before { content: \"X\"; } #NetworKit_Overlay .icon-previous:before { content: \"P\"; } #NetworKit_Overlay .icon-next:before { content: \"N\"; } #NetworKit_Overlay .icon-save:before { content: \"S\"; } #NetworKit_Overlay_Toolbar_Top, #NetworKit_Overlay_Toolbar_Bottom { position: absolute; width: 40px; right: 13px; text-align: right; z-index: 1100; } #NetworKit_Overlay_Toolbar_Top { top: 0.5em; } #NetworKit_Overlay_Toolbar_Bottom { Bottom: 0.5em; } #NetworKit_Overlay_ImageContainer { position: absolute; top: 5%; left: 5%; height: 90%; width: 90%; background-repeat: no-repeat; background-position: center center; background-size: contain; } #NetworKit_Overlay_Image { height: 100%; width: 100%; background-repeat: no-repeat; background-position: center center; background-size: contain; }';\n",
       "\t\t\t\telement.setAttribute('id', 'NetworKit_style');\n",
       "\t\t\t\tdocument.head.appendChild(element);\n",
       "\t\t\t}\n",
       "\t\t\n",
       "\t\t\t\t\n",
       "\t\t\t{\n",
       "\t\t\t\tvar element = document.getElementById('NetworKit_Overlay');\n",
       "\t\t\t\tif (element) {\n",
       "\t\t\t\t\telement.parentNode.removeChild(element);\n",
       "\t\t\t\t}\n",
       "\t\t\t\telement = document.createElement('div');\n",
       "\t\t\t\telement.innerHTML = '<div id=\"NetworKit_Overlay_Toolbar_Top\"><div class=\"button icon-close\" id=\"NetworKit_Overlay_Close\" /></div><div id=\"NetworKit_Overlay_Title\" /> <div id=\"NetworKit_Overlay_ImageContainer\"> <div id=\"NetworKit_Overlay_Image\" /> </div> <div id=\"NetworKit_Overlay_Toolbar_Bottom\"> <div class=\"button icon-previous\" onclick=\"NetworKit_overlayImageShift(-1)\" /> <div class=\"button icon-next\" onclick=\"NetworKit_overlayImageShift(1)\" /> <a id=\"NetworKit_Overlay_Toolbar_Bottom_Save\"><div class=\"button icon-save\" /></a> </div>';\n",
       "\t\t\t\telement.setAttribute('id', 'NetworKit_Overlay');\n",
       "\t\t\t\tdocument.body.appendChild(element);\n",
       "\t\t\t\tdocument.getElementById('NetworKit_Overlay_Close').onclick = function (e) {\n",
       "\t\t\t\t\tdocument.getElementById('NetworKit_Overlay').style.display = 'none';\n",
       "\t\t\t\t}\n",
       "\t\t\t}\n",
       "\t\t\n",
       "\t\t\t-->\n",
       "\t\t\t</script>\n",
       "\t\t"
      ]
     },
     "metadata": {},
     "output_type": "display_data"
    }
   ],
   "source": [
    "import pandas as pd\n",
    "import networkx as nx\n",
    "import geopandas as gpd\n",
    "from IPython.display import display\n",
    "\n",
    "from masterplan_tools.City_model.city_model import CityModel\n",
    "from masterplan_tools.Provision_getter.provision_getter import ProvisionModel\n",
    "from masterplan_tools.Balancer.balancer import MasterPlan\n",
    "from masterplan_tools.Data_getter.data_getter import DataGetter"
   ]
  },
  {
   "attachments": {},
   "cell_type": "markdown",
   "metadata": {},
   "source": [
    "#### City model creation"
   ]
  },
  {
   "cell_type": "code",
   "execution_count": 2,
   "metadata": {},
   "outputs": [],
   "source": [
    "# To assess services provision they must be specified as a list of strings\n",
    "# Service names must be the same as in your data\n",
    "\n",
    "# service_types = [\"schools\", \"kindergartens\", \"recreational_areas\"]"
   ]
  },
  {
   "cell_type": "code",
   "execution_count": 3,
   "metadata": {},
   "outputs": [],
   "source": [
    "# path to data\n",
    "path = \"../masterplanning/mp_data/\"\n",
    "\n",
    "# load data required for blocks creation\n",
    "city_geometry = gpd.read_parquet(path + 'city_geometry.parquet')\n",
    "water_geometry = gpd.read_parquet(path + 'water_geometry.parquet')\n",
    "roads_geometry = gpd.read_parquet(path + 'roads_geometry.parquet')\n",
    "railways_geometry = gpd.read_parquet(path + 'railways_geometry.parquet')\n",
    "nature_geometry_boundaries = gpd.read_parquet(path + 'nature_geometry_boundaries.parquet')\n",
    "\n",
    "# load data required for service graphs creation\n",
    "schools = gpd.read_parquet(path + 'schools.parquet')\n",
    "kindergartens = gpd.read_parquet(path + 'kindergartens.parquet')\n",
    "recreational_areas = gpd.read_parquet(path + 'recreational_areas.parquet')\n",
    "# accessibility_matrix = pd.read_pickle(path + \"accessibility_matrix.pkl\")\n",
    "\n",
    "# load data required for \n",
    "buildings = gpd.read_parquet(path + 'buildings.parquet')\n",
    "greenings = gpd.read_parquet(path + 'greenings.parquet')\n",
    "parkings = gpd.read_parquet(path + 'parkings.parquet')\n",
    "transport_graph = nx.read_graphml(path + 'new_graph.graphml')"
   ]
  },
  {
   "cell_type": "code",
   "execution_count": 4,
   "metadata": {},
   "outputs": [],
   "source": [
    "# services should be specified as a dictionary\n",
    "services = {\n",
    "    'schools': schools,\n",
    "    'kindergartens': kindergartens,\n",
    "    'recreational_areas' : recreational_areas\n",
    "}"
   ]
  },
  {
   "cell_type": "code",
   "execution_count": 5,
   "metadata": {},
   "outputs": [
    {
     "name": "stderr",
     "output_type": "stream",
     "text": [
      "\u001b[32m2023-05-23 17:09:31.683\u001b[0m | \u001b[1mINFO    \u001b[0m | \u001b[36mmasterplan_tools.Blocks_getter.blocks_getter\u001b[0m:\u001b[36m_cut_railways\u001b[0m:\u001b[36m133\u001b[0m - \u001b[1mStarting: cutting railways geometries\u001b[0m\n",
      "\u001b[32m2023-05-23 17:09:31.700\u001b[0m | \u001b[1mINFO    \u001b[0m | \u001b[36mmasterplan_tools.Blocks_getter.blocks_getter\u001b[0m:\u001b[36m_cut_railways\u001b[0m:\u001b[36m140\u001b[0m - \u001b[1mFinished: cutting railways geometries\u001b[0m\n",
      "\u001b[32m2023-05-23 17:09:31.701\u001b[0m | \u001b[1mINFO    \u001b[0m | \u001b[36mmasterplan_tools.Blocks_getter.blocks_getter\u001b[0m:\u001b[36m_cut_roads\u001b[0m:\u001b[36m151\u001b[0m - \u001b[1mStarting: cutting roads geometries\u001b[0m\n",
      "\u001b[32m2023-05-23 17:09:32.112\u001b[0m | \u001b[1mINFO    \u001b[0m | \u001b[36mmasterplan_tools.Blocks_getter.blocks_getter\u001b[0m:\u001b[36m_cut_roads\u001b[0m:\u001b[36m158\u001b[0m - \u001b[1mFinished: cutting roads geometries\u001b[0m\n",
      "\u001b[32m2023-05-23 17:09:32.113\u001b[0m | \u001b[1mINFO    \u001b[0m | \u001b[36mmasterplan_tools.Blocks_getter.blocks_getter\u001b[0m:\u001b[36m_cut_nature\u001b[0m:\u001b[36m171\u001b[0m - \u001b[1mStarting: cutting nature geometries\u001b[0m\n",
      "\u001b[32m2023-05-23 17:09:32.228\u001b[0m | \u001b[1mINFO    \u001b[0m | \u001b[36mmasterplan_tools.Blocks_getter.blocks_getter\u001b[0m:\u001b[36m_cut_nature\u001b[0m:\u001b[36m178\u001b[0m - \u001b[1mFinished: cutting nature geometries\u001b[0m\n",
      "\u001b[32m2023-05-23 17:09:32.229\u001b[0m | \u001b[1mINFO    \u001b[0m | \u001b[36mmasterplan_tools.Blocks_getter.blocks_getter\u001b[0m:\u001b[36m_fill_deadends\u001b[0m:\u001b[36m91\u001b[0m - \u001b[1mStarting: filling deadends\u001b[0m\n",
      "\u001b[32m2023-05-23 17:09:32.319\u001b[0m | \u001b[1mINFO    \u001b[0m | \u001b[36mmasterplan_tools.Blocks_getter.blocks_getter\u001b[0m:\u001b[36m_fill_deadends\u001b[0m:\u001b[36m97\u001b[0m - \u001b[1mFinished: filling deadends\u001b[0m\n",
      "\u001b[32m2023-05-23 17:09:32.320\u001b[0m | \u001b[1mINFO    \u001b[0m | \u001b[36mmasterplan_tools.Blocks_getter.blocks_getter\u001b[0m:\u001b[36m_cut_water\u001b[0m:\u001b[36m190\u001b[0m - \u001b[1mStarting: cutting water geometries\u001b[0m\n",
      "\u001b[32m2023-05-23 17:09:32.514\u001b[0m | \u001b[1mINFO    \u001b[0m | \u001b[36mmasterplan_tools.Blocks_getter.blocks_getter\u001b[0m:\u001b[36m_cut_water\u001b[0m:\u001b[36m197\u001b[0m - \u001b[1mStarting: cutting water geometries\u001b[0m\n",
      "\u001b[32m2023-05-23 17:09:32.515\u001b[0m | \u001b[1mINFO    \u001b[0m | \u001b[36mmasterplan_tools.Blocks_getter.blocks_getter\u001b[0m:\u001b[36m_fix_blocks_geometries\u001b[0m:\u001b[36m226\u001b[0m - \u001b[1mStarting: fixing blocks' geometries\u001b[0m\n",
      "\u001b[32m2023-05-23 17:09:32.542\u001b[0m | \u001b[1mINFO    \u001b[0m | \u001b[36mmasterplan_tools.Blocks_getter.blocks_getter\u001b[0m:\u001b[36m_fix_blocks_geometries\u001b[0m:\u001b[36m232\u001b[0m - \u001b[1mFinished: fixing blocks' geometries\u001b[0m\n",
      "\u001b[32m2023-05-23 17:09:32.542\u001b[0m | \u001b[1mINFO    \u001b[0m | \u001b[36mmasterplan_tools.Blocks_getter.blocks_getter\u001b[0m:\u001b[36m_drop_overlayed_geometries\u001b[0m:\u001b[36m208\u001b[0m - \u001b[1mStarting: dropping overlayed geometries\u001b[0m\n",
      "\u001b[32m2023-05-23 17:09:32.640\u001b[0m | \u001b[1mINFO    \u001b[0m | \u001b[36mmasterplan_tools.Blocks_getter.blocks_getter\u001b[0m:\u001b[36m_drop_overlayed_geometries\u001b[0m:\u001b[36m214\u001b[0m - \u001b[1mFinished: dropping overlayed geometries\u001b[0m\n",
      "\u001b[32m2023-05-23 17:09:32.649\u001b[0m | \u001b[1mINFO    \u001b[0m | \u001b[36mmasterplan_tools.Blocks_getter.blocks_getter\u001b[0m:\u001b[36m_drop_unnecessary_geometries\u001b[0m:\u001b[36m278\u001b[0m - \u001b[1mDropping unnecessary geometries\u001b[0m\n",
      "\u001b[32m2023-05-23 17:09:32.657\u001b[0m | \u001b[1mINFO    \u001b[0m | \u001b[36mmasterplan_tools.Blocks_getter.blocks_getter\u001b[0m:\u001b[36mget_blocks\u001b[0m:\u001b[36m322\u001b[0m - \u001b[1mFinished\u001b[0m\n",
      "100%|██████████| 3748/3748 [00:00<00:00, 117097.72it/s]\n",
      "100%|██████████| 3748/3748 [00:00<00:00, 170320.61it/s]\n",
      "100%|██████████| 28/28 [00:00<00:00, 1166.39it/s]\n",
      "100%|██████████| 32/32 [00:00<00:00, 1162.05it/s]\n",
      "100%|██████████| 151/151 [00:00<00:00, 1237.43it/s]\n"
     ]
    }
   ],
   "source": [
    "# City data model creation\n",
    "city_model = CityModel(\n",
    "    services=services,\n",
    "    city_geometry=city_geometry,\n",
    "    water_geometry=water_geometry,\n",
    "    roads_geometry=roads_geometry,\n",
    "    railways_geometry=railways_geometry,\n",
    "    nature_geometry_boundaries=nature_geometry_boundaries,\n",
    "    # accessibility_matrix=accessibility_matrix,\n",
    "    transport_graph=transport_graph,\n",
    "    buildings=buildings,\n",
    "    greenings=greenings,\n",
    "    parkings=parkings\n",
    ")\n"
   ]
  },
  {
   "attachments": {},
   "cell_type": "markdown",
   "metadata": {},
   "source": [
    "#### Calculating the provision of services in blocks"
   ]
  },
  {
   "cell_type": "code",
   "execution_count": 6,
   "metadata": {},
   "outputs": [
    {
     "name": "stdout",
     "output_type": "stream",
     "text": [
      "schools\n",
      "Number of blocks with service: schools: 28\n",
      "Number of residential blocks: 114\n",
      "Number of blocks total: 199\n",
      "Number of blocks with an error: 0\n",
      "kindergartens\n",
      "Number of blocks with service: kindergartens: 32\n",
      "Number of residential blocks: 114\n",
      "Number of blocks total: 199\n",
      "Number of blocks with an error: 0\n",
      "recreational_areas\n",
      "Number of blocks with service: recreational_areas: 151\n",
      "Number of residential blocks: 114\n",
      "Number of blocks total: 199\n",
      "Number of blocks with an error: 0\n"
     ]
    }
   ],
   "source": [
    "services_prov = {}\n",
    "\n",
    "for service_type in services.keys():    \n",
    "    provision = ProvisionModel(\n",
    "        city_model=city_model,\n",
    "        service_name=service_type\n",
    "        )\n",
    "    print(service_type)\n",
    "    services_prov[service_type] = provision.run()"
   ]
  },
  {
   "cell_type": "code",
   "execution_count": 7,
   "metadata": {},
   "outputs": [
    {
     "data": {
      "text/html": [
       "<div>\n",
       "<style scoped>\n",
       "    .dataframe tbody tr th:only-of-type {\n",
       "        vertical-align: middle;\n",
       "    }\n",
       "\n",
       "    .dataframe tbody tr th {\n",
       "        vertical-align: top;\n",
       "    }\n",
       "\n",
       "    .dataframe thead th {\n",
       "        text-align: right;\n",
       "    }\n",
       "</style>\n",
       "<table border=\"1\" class=\"dataframe\">\n",
       "  <thead>\n",
       "    <tr style=\"text-align: right;\">\n",
       "      <th></th>\n",
       "      <th>id</th>\n",
       "      <th>geometry</th>\n",
       "      <th>provision_kindergartens</th>\n",
       "      <th>population_prov_kindergartens</th>\n",
       "      <th>population_unprov_kindergartens</th>\n",
       "      <th>population</th>\n",
       "    </tr>\n",
       "  </thead>\n",
       "  <tbody>\n",
       "    <tr>\n",
       "      <th>0</th>\n",
       "      <td>0</td>\n",
       "      <td>POLYGON ((344858.027 6647851.773, 344899.637 6...</td>\n",
       "      <td>0</td>\n",
       "      <td>0</td>\n",
       "      <td>0</td>\n",
       "      <td>0</td>\n",
       "    </tr>\n",
       "    <tr>\n",
       "      <th>1</th>\n",
       "      <td>1</td>\n",
       "      <td>POLYGON ((344480.952 6648027.784, 344480.956 6...</td>\n",
       "      <td>0</td>\n",
       "      <td>0</td>\n",
       "      <td>0</td>\n",
       "      <td>0</td>\n",
       "    </tr>\n",
       "    <tr>\n",
       "      <th>2</th>\n",
       "      <td>2</td>\n",
       "      <td>POLYGON ((345171.385 6647884.612, 345174.380 6...</td>\n",
       "      <td>0</td>\n",
       "      <td>0</td>\n",
       "      <td>3375</td>\n",
       "      <td>3375</td>\n",
       "    </tr>\n",
       "    <tr>\n",
       "      <th>3</th>\n",
       "      <td>3</td>\n",
       "      <td>POLYGON ((344382.985 6648333.241, 344453.693 6...</td>\n",
       "      <td>0</td>\n",
       "      <td>0</td>\n",
       "      <td>3946</td>\n",
       "      <td>3946</td>\n",
       "    </tr>\n",
       "    <tr>\n",
       "      <th>4</th>\n",
       "      <td>4</td>\n",
       "      <td>POLYGON ((344744.460 6648596.031, 344744.465 6...</td>\n",
       "      <td>66</td>\n",
       "      <td>4016</td>\n",
       "      <td>2009</td>\n",
       "      <td>6026</td>\n",
       "    </tr>\n",
       "    <tr>\n",
       "      <th>...</th>\n",
       "      <td>...</td>\n",
       "      <td>...</td>\n",
       "      <td>...</td>\n",
       "      <td>...</td>\n",
       "      <td>...</td>\n",
       "      <td>...</td>\n",
       "    </tr>\n",
       "    <tr>\n",
       "      <th>194</th>\n",
       "      <td>194</td>\n",
       "      <td>POLYGON ((349122.340 6648147.698, 349122.249 6...</td>\n",
       "      <td>0</td>\n",
       "      <td>0</td>\n",
       "      <td>0</td>\n",
       "      <td>0</td>\n",
       "    </tr>\n",
       "    <tr>\n",
       "      <th>195</th>\n",
       "      <td>195</td>\n",
       "      <td>POLYGON ((349311.754 6648346.962, 349311.801 6...</td>\n",
       "      <td>0</td>\n",
       "      <td>0</td>\n",
       "      <td>0</td>\n",
       "      <td>0</td>\n",
       "    </tr>\n",
       "    <tr>\n",
       "      <th>196</th>\n",
       "      <td>196</td>\n",
       "      <td>POLYGON ((348980.120 6648233.518, 348980.134 6...</td>\n",
       "      <td>0</td>\n",
       "      <td>0</td>\n",
       "      <td>0</td>\n",
       "      <td>0</td>\n",
       "    </tr>\n",
       "    <tr>\n",
       "      <th>197</th>\n",
       "      <td>197</td>\n",
       "      <td>POLYGON ((349173.846 6648299.777, 349173.819 6...</td>\n",
       "      <td>0</td>\n",
       "      <td>0</td>\n",
       "      <td>82</td>\n",
       "      <td>82</td>\n",
       "    </tr>\n",
       "    <tr>\n",
       "      <th>198</th>\n",
       "      <td>198</td>\n",
       "      <td>POLYGON ((348879.272 6648387.298, 348879.184 6...</td>\n",
       "      <td>0</td>\n",
       "      <td>0</td>\n",
       "      <td>209</td>\n",
       "      <td>209</td>\n",
       "    </tr>\n",
       "  </tbody>\n",
       "</table>\n",
       "<p>199 rows × 6 columns</p>\n",
       "</div>"
      ],
      "text/plain": [
       "      id                                           geometry  \\\n",
       "0      0  POLYGON ((344858.027 6647851.773, 344899.637 6...   \n",
       "1      1  POLYGON ((344480.952 6648027.784, 344480.956 6...   \n",
       "2      2  POLYGON ((345171.385 6647884.612, 345174.380 6...   \n",
       "3      3  POLYGON ((344382.985 6648333.241, 344453.693 6...   \n",
       "4      4  POLYGON ((344744.460 6648596.031, 344744.465 6...   \n",
       "..   ...                                                ...   \n",
       "194  194  POLYGON ((349122.340 6648147.698, 349122.249 6...   \n",
       "195  195  POLYGON ((349311.754 6648346.962, 349311.801 6...   \n",
       "196  196  POLYGON ((348980.120 6648233.518, 348980.134 6...   \n",
       "197  197  POLYGON ((349173.846 6648299.777, 349173.819 6...   \n",
       "198  198  POLYGON ((348879.272 6648387.298, 348879.184 6...   \n",
       "\n",
       "     provision_kindergartens  population_prov_kindergartens  \\\n",
       "0                          0                              0   \n",
       "1                          0                              0   \n",
       "2                          0                              0   \n",
       "3                          0                              0   \n",
       "4                         66                           4016   \n",
       "..                       ...                            ...   \n",
       "194                        0                              0   \n",
       "195                        0                              0   \n",
       "196                        0                              0   \n",
       "197                        0                              0   \n",
       "198                        0                              0   \n",
       "\n",
       "     population_unprov_kindergartens  population  \n",
       "0                                  0           0  \n",
       "1                                  0           0  \n",
       "2                               3375        3375  \n",
       "3                               3946        3946  \n",
       "4                               2009        6026  \n",
       "..                               ...         ...  \n",
       "194                                0           0  \n",
       "195                                0           0  \n",
       "196                                0           0  \n",
       "197                               82          82  \n",
       "198                              209         209  \n",
       "\n",
       "[199 rows x 6 columns]"
      ]
     },
     "execution_count": 7,
     "metadata": {},
     "output_type": "execute_result"
    }
   ],
   "source": [
    "services_prov['kindergartens']"
   ]
  },
  {
   "cell_type": "code",
   "execution_count": 8,
   "metadata": {},
   "outputs": [
    {
     "data": {
      "text/plain": [
       "'Results of calculating the provision of the kindergarten service for a single block'"
      ]
     },
     "metadata": {},
     "output_type": "display_data"
    },
    {
     "data": {
      "text/plain": [
       "id                                                                                24\n",
       "geometry                           POLYGON ((344426.35412361793 6650019.612956254...\n",
       "provision_kindergartens                                                           15\n",
       "population_prov_kindergartens                                                   2229\n",
       "population_unprov_kindergartens                                                12194\n",
       "population                                                                     14424\n",
       "Name: 24, dtype: object"
      ]
     },
     "metadata": {},
     "output_type": "display_data"
    },
    {
     "data": {
      "text/plain": [
       "'Results of calculating the provision of the school service for a single block'"
      ]
     },
     "metadata": {},
     "output_type": "display_data"
    },
    {
     "data": {
      "text/plain": [
       "id                                                                          24\n",
       "geometry                     POLYGON ((344426.35412361793 6650019.612956254...\n",
       "provision_schools                                                           19\n",
       "population_prov_schools                                                   2758\n",
       "population_unprov_schools                                                11665\n",
       "population                                                               14424\n",
       "Name: 24, dtype: object"
      ]
     },
     "metadata": {},
     "output_type": "display_data"
    },
    {
     "data": {
      "text/plain": [
       "'#### Results of calculating the provision of the recreational_area service for a single block'"
      ]
     },
     "metadata": {},
     "output_type": "display_data"
    },
    {
     "data": {
      "text/plain": [
       "id                                                                                     24\n",
       "geometry                                POLYGON ((344426.35412361793 6650019.612956254...\n",
       "provision_recreational_areas                                                          100\n",
       "population_prov_recreational_areas                                                  14424\n",
       "population_unprov_recreational_areas                                                    0\n",
       "population                                                                          14424\n",
       "Name: 24, dtype: object"
      ]
     },
     "metadata": {},
     "output_type": "display_data"
    }
   ],
   "source": [
    "display('Results of calculating the provision of the kindergarten service for a single block')\n",
    "display(services_prov['kindergartens'].iloc[24])\n",
    "display('Results of calculating the provision of the school service for a single block')\n",
    "display(services_prov['schools'].iloc[24])\n",
    "display('#### Results of calculating the provision of the recreational_area service for a single block')\n",
    "display(services_prov['recreational_areas'].iloc[24])"
   ]
  },
  {
   "cell_type": "code",
   "execution_count": 9,
   "metadata": {},
   "outputs": [
    {
     "data": {
      "text/html": [
       "<div>\n",
       "<style scoped>\n",
       "    .dataframe tbody tr th:only-of-type {\n",
       "        vertical-align: middle;\n",
       "    }\n",
       "\n",
       "    .dataframe tbody tr th {\n",
       "        vertical-align: top;\n",
       "    }\n",
       "\n",
       "    .dataframe thead th {\n",
       "        text-align: right;\n",
       "    }\n",
       "</style>\n",
       "<table border=\"1\" class=\"dataframe\">\n",
       "  <thead>\n",
       "    <tr style=\"text-align: right;\">\n",
       "      <th></th>\n",
       "      <th>id</th>\n",
       "      <th>geometry</th>\n",
       "      <th>provision_kindergartens</th>\n",
       "      <th>population_prov_kindergartens</th>\n",
       "      <th>population_unprov_kindergartens</th>\n",
       "      <th>population</th>\n",
       "    </tr>\n",
       "  </thead>\n",
       "  <tbody>\n",
       "    <tr>\n",
       "      <th>0</th>\n",
       "      <td>0</td>\n",
       "      <td>POLYGON ((344858.027 6647851.773, 344899.637 6...</td>\n",
       "      <td>0</td>\n",
       "      <td>0</td>\n",
       "      <td>0</td>\n",
       "      <td>0</td>\n",
       "    </tr>\n",
       "    <tr>\n",
       "      <th>1</th>\n",
       "      <td>1</td>\n",
       "      <td>POLYGON ((344480.952 6648027.784, 344480.956 6...</td>\n",
       "      <td>0</td>\n",
       "      <td>0</td>\n",
       "      <td>0</td>\n",
       "      <td>0</td>\n",
       "    </tr>\n",
       "    <tr>\n",
       "      <th>2</th>\n",
       "      <td>2</td>\n",
       "      <td>POLYGON ((345171.385 6647884.612, 345174.380 6...</td>\n",
       "      <td>0</td>\n",
       "      <td>0</td>\n",
       "      <td>3375</td>\n",
       "      <td>3375</td>\n",
       "    </tr>\n",
       "    <tr>\n",
       "      <th>3</th>\n",
       "      <td>3</td>\n",
       "      <td>POLYGON ((344382.985 6648333.241, 344453.693 6...</td>\n",
       "      <td>0</td>\n",
       "      <td>0</td>\n",
       "      <td>3946</td>\n",
       "      <td>3946</td>\n",
       "    </tr>\n",
       "    <tr>\n",
       "      <th>4</th>\n",
       "      <td>4</td>\n",
       "      <td>POLYGON ((344744.460 6648596.031, 344744.465 6...</td>\n",
       "      <td>66</td>\n",
       "      <td>4016</td>\n",
       "      <td>2009</td>\n",
       "      <td>6026</td>\n",
       "    </tr>\n",
       "    <tr>\n",
       "      <th>...</th>\n",
       "      <td>...</td>\n",
       "      <td>...</td>\n",
       "      <td>...</td>\n",
       "      <td>...</td>\n",
       "      <td>...</td>\n",
       "      <td>...</td>\n",
       "    </tr>\n",
       "    <tr>\n",
       "      <th>194</th>\n",
       "      <td>194</td>\n",
       "      <td>POLYGON ((349122.340 6648147.698, 349122.249 6...</td>\n",
       "      <td>0</td>\n",
       "      <td>0</td>\n",
       "      <td>0</td>\n",
       "      <td>0</td>\n",
       "    </tr>\n",
       "    <tr>\n",
       "      <th>195</th>\n",
       "      <td>195</td>\n",
       "      <td>POLYGON ((349311.754 6648346.962, 349311.801 6...</td>\n",
       "      <td>0</td>\n",
       "      <td>0</td>\n",
       "      <td>0</td>\n",
       "      <td>0</td>\n",
       "    </tr>\n",
       "    <tr>\n",
       "      <th>196</th>\n",
       "      <td>196</td>\n",
       "      <td>POLYGON ((348980.120 6648233.518, 348980.134 6...</td>\n",
       "      <td>0</td>\n",
       "      <td>0</td>\n",
       "      <td>0</td>\n",
       "      <td>0</td>\n",
       "    </tr>\n",
       "    <tr>\n",
       "      <th>197</th>\n",
       "      <td>197</td>\n",
       "      <td>POLYGON ((349173.846 6648299.777, 349173.819 6...</td>\n",
       "      <td>0</td>\n",
       "      <td>0</td>\n",
       "      <td>82</td>\n",
       "      <td>82</td>\n",
       "    </tr>\n",
       "    <tr>\n",
       "      <th>198</th>\n",
       "      <td>198</td>\n",
       "      <td>POLYGON ((348879.272 6648387.298, 348879.184 6...</td>\n",
       "      <td>0</td>\n",
       "      <td>0</td>\n",
       "      <td>209</td>\n",
       "      <td>209</td>\n",
       "    </tr>\n",
       "  </tbody>\n",
       "</table>\n",
       "<p>199 rows × 6 columns</p>\n",
       "</div>"
      ],
      "text/plain": [
       "      id                                           geometry  \\\n",
       "0      0  POLYGON ((344858.027 6647851.773, 344899.637 6...   \n",
       "1      1  POLYGON ((344480.952 6648027.784, 344480.956 6...   \n",
       "2      2  POLYGON ((345171.385 6647884.612, 345174.380 6...   \n",
       "3      3  POLYGON ((344382.985 6648333.241, 344453.693 6...   \n",
       "4      4  POLYGON ((344744.460 6648596.031, 344744.465 6...   \n",
       "..   ...                                                ...   \n",
       "194  194  POLYGON ((349122.340 6648147.698, 349122.249 6...   \n",
       "195  195  POLYGON ((349311.754 6648346.962, 349311.801 6...   \n",
       "196  196  POLYGON ((348980.120 6648233.518, 348980.134 6...   \n",
       "197  197  POLYGON ((349173.846 6648299.777, 349173.819 6...   \n",
       "198  198  POLYGON ((348879.272 6648387.298, 348879.184 6...   \n",
       "\n",
       "     provision_kindergartens  population_prov_kindergartens  \\\n",
       "0                          0                              0   \n",
       "1                          0                              0   \n",
       "2                          0                              0   \n",
       "3                          0                              0   \n",
       "4                         66                           4016   \n",
       "..                       ...                            ...   \n",
       "194                        0                              0   \n",
       "195                        0                              0   \n",
       "196                        0                              0   \n",
       "197                        0                              0   \n",
       "198                        0                              0   \n",
       "\n",
       "     population_unprov_kindergartens  population  \n",
       "0                                  0           0  \n",
       "1                                  0           0  \n",
       "2                               3375        3375  \n",
       "3                               3946        3946  \n",
       "4                               2009        6026  \n",
       "..                               ...         ...  \n",
       "194                                0           0  \n",
       "195                                0           0  \n",
       "196                                0           0  \n",
       "197                               82          82  \n",
       "198                              209         209  \n",
       "\n",
       "[199 rows x 6 columns]"
      ]
     },
     "execution_count": 9,
     "metadata": {},
     "output_type": "execute_result"
    }
   ],
   "source": [
    "services_prov['kindergartens']"
   ]
  },
  {
   "cell_type": "code",
   "execution_count": 10,
   "metadata": {},
   "outputs": [
    {
     "data": {
      "text/html": [
       "<div style=\"width:100%;\"><div style=\"position:relative;width:100%;height:0;padding-bottom:60%;\"><span style=\"color:#565656\">Make this Notebook Trusted to load map: File -> Trust Notebook</span><iframe srcdoc=\"&lt;!DOCTYPE html&gt;\n",
       "&lt;html&gt;\n",
       "&lt;head&gt;\n",
       "    \n",
       "    &lt;meta http-equiv=&quot;content-type&quot; content=&quot;text/html; charset=UTF-8&quot; /&gt;\n",
       "    \n",
       "        &lt;script&gt;\n",
       "            L_NO_TOUCH = false;\n",
       "            L_DISABLE_3D = false;\n",
       "        &lt;/script&gt;\n",
       "    \n",
       "    &lt;style&gt;html, body {width: 100%;height: 100%;margin: 0;padding: 0;}&lt;/style&gt;\n",
       "    &lt;style&gt;#map {position:absolute;top:0;bottom:0;right:0;left:0;}&lt;/style&gt;\n",
       "    &lt;script src=&quot;https://cdn.jsdelivr.net/npm/leaflet@1.9.3/dist/leaflet.js&quot;&gt;&lt;/script&gt;\n",
       "    &lt;script src=&quot;https://code.jquery.com/jquery-1.12.4.min.js&quot;&gt;&lt;/script&gt;\n",
       "    &lt;script src=&quot;https://cdn.jsdelivr.net/npm/bootstrap@5.2.2/dist/js/bootstrap.bundle.min.js&quot;&gt;&lt;/script&gt;\n",
       "    &lt;script src=&quot;https://cdnjs.cloudflare.com/ajax/libs/Leaflet.awesome-markers/2.0.2/leaflet.awesome-markers.js&quot;&gt;&lt;/script&gt;\n",
       "    &lt;link rel=&quot;stylesheet&quot; href=&quot;https://cdn.jsdelivr.net/npm/leaflet@1.9.3/dist/leaflet.css&quot;/&gt;\n",
       "    &lt;link rel=&quot;stylesheet&quot; href=&quot;https://cdn.jsdelivr.net/npm/bootstrap@5.2.2/dist/css/bootstrap.min.css&quot;/&gt;\n",
       "    &lt;link rel=&quot;stylesheet&quot; href=&quot;https://netdna.bootstrapcdn.com/bootstrap/3.0.0/css/bootstrap.min.css&quot;/&gt;\n",
       "    &lt;link rel=&quot;stylesheet&quot; href=&quot;https://cdn.jsdelivr.net/npm/@fortawesome/fontawesome-free@6.2.0/css/all.min.css&quot;/&gt;\n",
       "    &lt;link rel=&quot;stylesheet&quot; href=&quot;https://cdnjs.cloudflare.com/ajax/libs/Leaflet.awesome-markers/2.0.2/leaflet.awesome-markers.css&quot;/&gt;\n",
       "    &lt;link rel=&quot;stylesheet&quot; href=&quot;https://cdn.jsdelivr.net/gh/python-visualization/folium/folium/templates/leaflet.awesome.rotate.min.css&quot;/&gt;\n",
       "    \n",
       "            &lt;meta name=&quot;viewport&quot; content=&quot;width=device-width,\n",
       "                initial-scale=1.0, maximum-scale=1.0, user-scalable=no&quot; /&gt;\n",
       "            &lt;style&gt;\n",
       "                #map_a4029d55db3d3439da4b8c9ea1880d84 {\n",
       "                    position: relative;\n",
       "                    width: 100.0%;\n",
       "                    height: 100.0%;\n",
       "                    left: 0.0%;\n",
       "                    top: 0.0%;\n",
       "                }\n",
       "                .leaflet-container { font-size: 1rem; }\n",
       "            &lt;/style&gt;\n",
       "        \n",
       "    \n",
       "                    &lt;style&gt;\n",
       "                        .foliumtooltip {\n",
       "                            \n",
       "                        }\n",
       "                       .foliumtooltip table{\n",
       "                            margin: auto;\n",
       "                        }\n",
       "                        .foliumtooltip tr{\n",
       "                            text-align: left;\n",
       "                        }\n",
       "                        .foliumtooltip th{\n",
       "                            padding: 2px; padding-right: 8px;\n",
       "                        }\n",
       "                    &lt;/style&gt;\n",
       "            \n",
       "&lt;/head&gt;\n",
       "&lt;body&gt;\n",
       "    \n",
       "    \n",
       "            &lt;div class=&quot;folium-map&quot; id=&quot;map_a4029d55db3d3439da4b8c9ea1880d84&quot; &gt;&lt;/div&gt;\n",
       "        \n",
       "&lt;/body&gt;\n",
       "&lt;script&gt;\n",
       "    \n",
       "    \n",
       "            var map_a4029d55db3d3439da4b8c9ea1880d84 = L.map(\n",
       "                &quot;map_a4029d55db3d3439da4b8c9ea1880d84&quot;,\n",
       "                {\n",
       "                    center: [59.95774988727455, 30.221002891766528],\n",
       "                    crs: L.CRS.EPSG3857,\n",
       "                    zoom: 10,\n",
       "                    zoomControl: true,\n",
       "                    preferCanvas: false,\n",
       "                }\n",
       "            );\n",
       "            L.control.scale().addTo(map_a4029d55db3d3439da4b8c9ea1880d84);\n",
       "\n",
       "            \n",
       "\n",
       "        \n",
       "    \n",
       "            var tile_layer_f2fdbce2a065f59580f0b70edf1d2dfe = L.tileLayer(\n",
       "                &quot;https://{s}.tile.openstreetmap.org/{z}/{x}/{y}.png&quot;,\n",
       "                {&quot;attribution&quot;: &quot;Data by \\u0026copy; \\u003ca target=\\&quot;_blank\\&quot; href=\\&quot;http://openstreetmap.org\\&quot;\\u003eOpenStreetMap\\u003c/a\\u003e, under \\u003ca target=\\&quot;_blank\\&quot; href=\\&quot;http://www.openstreetmap.org/copyright\\&quot;\\u003eODbL\\u003c/a\\u003e.&quot;, &quot;detectRetina&quot;: false, &quot;maxNativeZoom&quot;: 18, &quot;maxZoom&quot;: 18, &quot;minZoom&quot;: 0, &quot;noWrap&quot;: false, &quot;opacity&quot;: 1, &quot;subdomains&quot;: &quot;abc&quot;, &quot;tms&quot;: false}\n",
       "            ).addTo(map_a4029d55db3d3439da4b8c9ea1880d84);\n",
       "        \n",
       "    \n",
       "            map_a4029d55db3d3439da4b8c9ea1880d84.fitBounds(\n",
       "                [[59.95462675829396, 30.21231139967364], [59.96087301625514, 30.229694383859414]],\n",
       "                {}\n",
       "            );\n",
       "        \n",
       "    \n",
       "        function geo_json_5f17518b2407b9fbcd60d77e52ff9199_styler(feature) {\n",
       "            switch(feature.id) {\n",
       "                default:\n",
       "                    return {&quot;fillOpacity&quot;: 0.5, &quot;weight&quot;: 2};\n",
       "            }\n",
       "        }\n",
       "        function geo_json_5f17518b2407b9fbcd60d77e52ff9199_highlighter(feature) {\n",
       "            switch(feature.id) {\n",
       "                default:\n",
       "                    return {&quot;fillOpacity&quot;: 0.75};\n",
       "            }\n",
       "        }\n",
       "        function geo_json_5f17518b2407b9fbcd60d77e52ff9199_pointToLayer(feature, latlng) {\n",
       "            var opts = {&quot;bubblingMouseEvents&quot;: true, &quot;color&quot;: &quot;#3388ff&quot;, &quot;dashArray&quot;: null, &quot;dashOffset&quot;: null, &quot;fill&quot;: true, &quot;fillColor&quot;: &quot;#3388ff&quot;, &quot;fillOpacity&quot;: 0.2, &quot;fillRule&quot;: &quot;evenodd&quot;, &quot;lineCap&quot;: &quot;round&quot;, &quot;lineJoin&quot;: &quot;round&quot;, &quot;opacity&quot;: 1.0, &quot;radius&quot;: 2, &quot;stroke&quot;: true, &quot;weight&quot;: 3};\n",
       "            \n",
       "            let style = geo_json_5f17518b2407b9fbcd60d77e52ff9199_styler(feature)\n",
       "            Object.assign(opts, style)\n",
       "            \n",
       "            return new L.CircleMarker(latlng, opts)\n",
       "        }\n",
       "\n",
       "        function geo_json_5f17518b2407b9fbcd60d77e52ff9199_onEachFeature(feature, layer) {\n",
       "            layer.on({\n",
       "                mouseout: function(e) {\n",
       "                    if(typeof e.target.setStyle === &quot;function&quot;){\n",
       "                        geo_json_5f17518b2407b9fbcd60d77e52ff9199.resetStyle(e.target);\n",
       "                    }\n",
       "                },\n",
       "                mouseover: function(e) {\n",
       "                    if(typeof e.target.setStyle === &quot;function&quot;){\n",
       "                        const highlightStyle = geo_json_5f17518b2407b9fbcd60d77e52ff9199_highlighter(e.target.feature)\n",
       "                        e.target.setStyle(highlightStyle);\n",
       "                    }\n",
       "                },\n",
       "            });\n",
       "        };\n",
       "        var geo_json_5f17518b2407b9fbcd60d77e52ff9199 = L.geoJson(null, {\n",
       "                onEachFeature: geo_json_5f17518b2407b9fbcd60d77e52ff9199_onEachFeature,\n",
       "            \n",
       "                style: geo_json_5f17518b2407b9fbcd60d77e52ff9199_styler,\n",
       "                pointToLayer: geo_json_5f17518b2407b9fbcd60d77e52ff9199_pointToLayer\n",
       "        });\n",
       "\n",
       "        function geo_json_5f17518b2407b9fbcd60d77e52ff9199_add (data) {\n",
       "            geo_json_5f17518b2407b9fbcd60d77e52ff9199\n",
       "                .addData(data)\n",
       "                .addTo(map_a4029d55db3d3439da4b8c9ea1880d84);\n",
       "        }\n",
       "            geo_json_5f17518b2407b9fbcd60d77e52ff9199_add({&quot;bbox&quot;: [30.21231139967364, 59.95462675829396, 30.229694383859414, 59.96087301625514], &quot;features&quot;: [{&quot;bbox&quot;: [30.21231139967364, 59.95462675829396, 30.229694383859414, 59.96087301625514], &quot;geometry&quot;: {&quot;coordinates&quot;: [[[[30.21231139967364, 59.95554591894251], [30.21834374850965, 59.95462675829396], [30.218799363495226, 59.955127437217016], [30.22025154466583, 59.955995287732904], [30.227458446893614, 59.95715328715527], [30.229694383859414, 59.960557238739824], [30.227099297312094, 59.96087301625514], [30.216076667511135, 59.95907099654371], [30.2140335724855, 59.95816646804775], [30.21231139967364, 59.95554591894251]]]], &quot;type&quot;: &quot;MultiPolygon&quot;}, &quot;id&quot;: &quot;0&quot;, &quot;properties&quot;: {&quot;id&quot;: 1}, &quot;type&quot;: &quot;Feature&quot;}], &quot;type&quot;: &quot;FeatureCollection&quot;});\n",
       "\n",
       "        \n",
       "    \n",
       "    geo_json_5f17518b2407b9fbcd60d77e52ff9199.bindTooltip(\n",
       "    function(layer){\n",
       "    let div = L.DomUtil.create(&#x27;div&#x27;);\n",
       "    \n",
       "    let handleObject = feature=&gt;typeof(feature)==&#x27;object&#x27; ? JSON.stringify(feature) : feature;\n",
       "    let fields = [&quot;id&quot;];\n",
       "    let aliases = [&quot;id&quot;];\n",
       "    let table = &#x27;&lt;table&gt;&#x27; +\n",
       "        String(\n",
       "        fields.map(\n",
       "        (v,i)=&gt;\n",
       "        `&lt;tr&gt;\n",
       "            &lt;th&gt;${aliases[i]}&lt;/th&gt;\n",
       "            \n",
       "            &lt;td&gt;${handleObject(layer.feature.properties[v])}&lt;/td&gt;\n",
       "        &lt;/tr&gt;`).join(&#x27;&#x27;))\n",
       "    +&#x27;&lt;/table&gt;&#x27;;\n",
       "    div.innerHTML=table;\n",
       "    \n",
       "    return div\n",
       "    }\n",
       "    ,{&quot;className&quot;: &quot;foliumtooltip&quot;, &quot;sticky&quot;: true});\n",
       "                     \n",
       "&lt;/script&gt;\n",
       "&lt;/html&gt;\" style=\"position:absolute;width:100%;height:100%;left:0;top:0;border:none !important;\" allowfullscreen webkitallowfullscreen mozallowfullscreen></iframe></div></div>"
      ],
      "text/plain": [
       "<folium.folium.Map at 0x190010b4940>"
      ]
     },
     "execution_count": 10,
     "metadata": {},
     "output_type": "execute_result"
    }
   ],
   "source": [
    "polygon = gpd.gpd.read_file(path + 'polygon.geojson')\n",
    "polygon.explore()"
   ]
  },
  {
   "attachments": {},
   "cell_type": "markdown",
   "metadata": {},
   "source": [
    "#### Selected area of the city to which the new parameters will be modelled"
   ]
  },
  {
   "attachments": {},
   "cell_type": "markdown",
   "metadata": {},
   "source": [
    "#### Modelling of new parameters for the selected area with maximisation of the number of inhabitants"
   ]
  },
  {
   "cell_type": "code",
   "execution_count": 11,
   "metadata": {},
   "outputs": [
    {
     "name": "stderr",
     "output_type": "stream",
     "text": [
      "c:\\masterplanning\\masterplan_tools\\Balancer\\balancer.py:352: FutureWarning: The frame.append method is deprecated and will be removed from pandas in a future version. Use pandas.concat instead.\n",
      "  self.results = self.results.append(temp_result, ignore_index=True)\n",
      "c:\\masterplanning\\masterplan_tools\\Balancer\\balancer.py:352: FutureWarning: The frame.append method is deprecated and will be removed from pandas in a future version. Use pandas.concat instead.\n",
      "  self.results = self.results.append(temp_result, ignore_index=True)\n",
      "c:\\masterplanning\\masterplan_tools\\Balancer\\balancer.py:352: FutureWarning: The frame.append method is deprecated and will be removed from pandas in a future version. Use pandas.concat instead.\n",
      "  self.results = self.results.append(temp_result, ignore_index=True)\n",
      "c:\\masterplanning\\masterplan_tools\\Balancer\\balancer.py:352: FutureWarning: The frame.append method is deprecated and will be removed from pandas in a future version. Use pandas.concat instead.\n",
      "  self.results = self.results.append(temp_result, ignore_index=True)\n",
      "c:\\masterplanning\\masterplan_tools\\Balancer\\balancer.py:352: FutureWarning: The frame.append method is deprecated and will be removed from pandas in a future version. Use pandas.concat instead.\n",
      "  self.results = self.results.append(temp_result, ignore_index=True)\n"
     ]
    }
   ],
   "source": [
    "block = DataGetter().balance_data(gdf=city_model.blocks_aggregated_info, polygon=polygon, school=services_prov['schools'], kindergarten=services_prov['kindergartens'], greening=services_prov['recreational_areas'])\n",
    "mp = MasterPlan(area=block['area'],\n",
    "                current_living_area=block['current_living_area'],\n",
    "                current_industrial_area=block['current_industrial_area'],\n",
    "                current_population=block['current_population'],\n",
    "                current_green_area=block['current_green_area'],\n",
    "                current_unprov_schoolkids=block['population_unprov_schools'],\n",
    "                current_unprov_kids=block['population_unprov_kindergartens'],\n",
    "                current_unprov_green_population=block['population_unprov_recreational_areas'])\n",
    "\n",
    "updated_block = mp.optimal_solution_indicators()\n",
    "updated_block['block_id'] = 24\n"
   ]
  },
  {
   "cell_type": "code",
   "execution_count": 12,
   "metadata": {},
   "outputs": [
    {
     "data": {
      "text/plain": [
       "{'block_id': 24.0,\n",
       " 'area': 39.81881724414382,\n",
       " 'current_living_area': 5.0037369,\n",
       " 'current_industrial_area': 1.3555672700000003,\n",
       " 'current_population': 14424.0,\n",
       " 'current_green_area': 1.0476,\n",
       " 'floors': 4.0,\n",
       " 'population_unprov_schools': 11665.0,\n",
       " 'population_unprov_kindergartens': 12194.0,\n",
       " 'population_unprov_recreational_areas': 0.0}"
      ]
     },
     "execution_count": 12,
     "metadata": {},
     "output_type": "execute_result"
    }
   ],
   "source": [
    "block"
   ]
  },
  {
   "attachments": {},
   "cell_type": "markdown",
   "metadata": {},
   "source": [
    "#### Modelled block transformation requirements"
   ]
  },
  {
   "cell_type": "code",
   "execution_count": 13,
   "metadata": {},
   "outputs": [
    {
     "data": {
      "text/plain": [
       "{'area': 39.81881724414382,\n",
       " 'population': 18807.0,\n",
       " 'b': 30.0,\n",
       " 'green_coef_G': 5.999999999999999,\n",
       " 'living_area': 18.1527369,\n",
       " 'schools_area': 3.6,\n",
       " 'schools_capacity': 2200.0,\n",
       " 'kindergartens_area': 0.72,\n",
       " 'kindergartens_capacity': 180.0,\n",
       " 'green_area': 3.6774,\n",
       " 'G_min_capacity': 6129.000000000001,\n",
       " 'G_max_capacity': 3064.5000000000005,\n",
       " 'green_coef_G_capacity': 6129.000000000001,\n",
       " 'op_area': 0.013149000000000001,\n",
       " 'parking1_area': 3.3135480000000004,\n",
       " 'parking2_area': 3.221505,\n",
       " 'block_id': 24}"
      ]
     },
     "execution_count": 13,
     "metadata": {},
     "output_type": "execute_result"
    }
   ],
   "source": [
    "updated_block"
   ]
  },
  {
   "attachments": {},
   "cell_type": "markdown",
   "metadata": {},
   "source": [
    "#### Making changes based on requirements in the data model"
   ]
  },
  {
   "cell_type": "code",
   "execution_count": 14,
   "metadata": {},
   "outputs": [
    {
     "name": "stderr",
     "output_type": "stream",
     "text": [
      "100%|██████████| 28/28 [00:00<00:00, 1119.76it/s]\n",
      "100%|██████████| 32/32 [00:00<00:00, 1184.95it/s]\n",
      "100%|██████████| 151/151 [00:00<00:00, 1202.40it/s]\n"
     ]
    }
   ],
   "source": [
    "services_graph = nx.Graph()\n",
    "for service_type in services.keys():\n",
    "   service_graph = DataGetter().prepare_graph(\n",
    "                    blocks=city_model.city_blocks,\n",
    "                    service_type=service_type,\n",
    "                    buildings=city_model.buildings,\n",
    "                    service_gdf=city_model.services_gdfs[service_type],\n",
    "                    updated_block_info=updated_block,\n",
    "                    accessibility_matrix=city_model.accessibility_matrix,\n",
    "                    services_graph = services_graph\n",
    "                    )\n",
    "   \n",
    "city_model.services_graph = services_graph"
   ]
  },
  {
   "cell_type": "code",
   "execution_count": null,
   "metadata": {},
   "outputs": [],
   "source": []
  },
  {
   "attachments": {},
   "cell_type": "markdown",
   "metadata": {},
   "source": [
    "#### Recalculating the provision of services to blocks"
   ]
  },
  {
   "cell_type": "code",
   "execution_count": 15,
   "metadata": {},
   "outputs": [
    {
     "name": "stdout",
     "output_type": "stream",
     "text": [
      "Number of blocks with service: schools: 28\n",
      "Number of residential blocks: 114\n",
      "Number of blocks total: 199\n",
      "Number of blocks with an error: 0\n",
      "Number of blocks with service: kindergartens: 32\n",
      "Number of residential blocks: 114\n",
      "Number of blocks total: 199\n",
      "Number of blocks with an error: 0\n",
      "Number of blocks with service: recreational_areas: 151\n",
      "Number of residential blocks: 114\n",
      "Number of blocks total: 199\n",
      "Number of blocks with an error: 0\n"
     ]
    }
   ],
   "source": [
    "services_prov_nev = {}\n",
    "\n",
    "for service_type in services.keys():    \n",
    "    provision = ProvisionModel(\n",
    "        city_model=city_model,\n",
    "        service_name=service_type\n",
    "        )\n",
    "    services_prov_nev[service_type] = provision.run()"
   ]
  },
  {
   "attachments": {},
   "cell_type": "markdown",
   "metadata": {},
   "source": [
    "#### Modified data on the availability of specified services"
   ]
  },
  {
   "cell_type": "code",
   "execution_count": 16,
   "metadata": {},
   "outputs": [
    {
     "data": {
      "text/plain": [
       "'Results of calculating the provision of the kindergarten service for a single block'"
      ]
     },
     "metadata": {},
     "output_type": "display_data"
    },
    {
     "data": {
      "text/plain": [
       "id                                                                                24\n",
       "geometry                           POLYGON ((344426.35412361793 6650019.612956254...\n",
       "provision_kindergartens                                                           15\n",
       "population_prov_kindergartens                                                   2229\n",
       "population_unprov_kindergartens                                                12194\n",
       "population                                                                     14424\n",
       "Name: 24, dtype: object"
      ]
     },
     "metadata": {},
     "output_type": "display_data"
    },
    {
     "data": {
      "text/plain": [
       "id                                                                                24\n",
       "geometry                           POLYGON ((344426.35412361793 6650019.612956254...\n",
       "provision_kindergartens                                                           27\n",
       "population_prov_kindergartens                                                   5180\n",
       "population_unprov_kindergartens                                                13626\n",
       "population                                                                     18807\n",
       "Name: 24, dtype: object"
      ]
     },
     "metadata": {},
     "output_type": "display_data"
    },
    {
     "data": {
      "text/plain": [
       "'Results of calculating the provision of the recreational_areas service for a single block'"
      ]
     },
     "metadata": {},
     "output_type": "display_data"
    },
    {
     "data": {
      "text/plain": [
       "id                                                                          24\n",
       "geometry                     POLYGON ((344426.35412361793 6650019.612956254...\n",
       "provision_schools                                                           19\n",
       "population_prov_schools                                                   2758\n",
       "population_unprov_schools                                                11665\n",
       "population                                                               14424\n",
       "Name: 24, dtype: object"
      ]
     },
     "metadata": {},
     "output_type": "display_data"
    },
    {
     "data": {
      "text/plain": [
       "id                                                                          24\n",
       "geometry                     POLYGON ((344426.35412361793 6650019.612956254...\n",
       "provision_schools                                                          100\n",
       "population_prov_schools                                                  18807\n",
       "population_unprov_schools                                                    0\n",
       "population                                                               18807\n",
       "Name: 24, dtype: object"
      ]
     },
     "metadata": {},
     "output_type": "display_data"
    },
    {
     "data": {
      "text/plain": [
       "'Results of calculating the provision of the recreational_areas service for a single block'"
      ]
     },
     "metadata": {},
     "output_type": "display_data"
    },
    {
     "data": {
      "text/plain": [
       "id                                                                                     24\n",
       "geometry                                POLYGON ((344426.35412361793 6650019.612956254...\n",
       "provision_recreational_areas                                                          100\n",
       "population_prov_recreational_areas                                                  14424\n",
       "population_unprov_recreational_areas                                                    0\n",
       "population                                                                          14424\n",
       "Name: 24, dtype: object"
      ]
     },
     "metadata": {},
     "output_type": "display_data"
    },
    {
     "data": {
      "text/plain": [
       "id                                                                                     24\n",
       "geometry                                POLYGON ((344426.35412361793 6650019.612956254...\n",
       "provision_recreational_areas                                                          100\n",
       "population_prov_recreational_areas                                                  18807\n",
       "population_unprov_recreational_areas                                                    0\n",
       "population                                                                          18807\n",
       "Name: 24, dtype: object"
      ]
     },
     "metadata": {},
     "output_type": "display_data"
    }
   ],
   "source": [
    "display('Results of calculating the provision of the kindergarten service for a single block')\n",
    "display(services_prov['kindergartens'].iloc[24])\n",
    "display(services_prov_nev['kindergartens'].iloc[24])\n",
    "display('Results of calculating the provision of the recreational_areas service for a single block')\n",
    "display(services_prov['schools'].iloc[24])\n",
    "display(services_prov_nev['schools'].iloc[24])\n",
    "display('Results of calculating the provision of the recreational_areas service for a single block')\n",
    "display(services_prov['recreational_areas'].iloc[24])\n",
    "display(services_prov_nev['recreational_areas'].iloc[24])"
   ]
  }
 ],
 "metadata": {
  "kernelspec": {
   "display_name": "Python 3.10.8 ('venv': venv)",
   "language": "python",
   "name": "python3"
  },
  "language_info": {
   "codemirror_mode": {
    "name": "ipython",
    "version": 3
   },
   "file_extension": ".py",
   "mimetype": "text/x-python",
   "name": "python",
   "nbconvert_exporter": "python",
   "pygments_lexer": "ipython3",
   "version": "3.10.6"
  },
  "orig_nbformat": 4,
  "vscode": {
   "interpreter": {
    "hash": "5511ca7be13fa0c58fa871a9f402572cdcf7009d10887ee8f011dc5b17b36305"
   }
  }
 },
 "nbformat": 4,
 "nbformat_minor": 2
}
