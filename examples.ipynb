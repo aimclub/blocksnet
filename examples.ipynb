{
 "cells": [
  {
   "cell_type": "code",
   "execution_count": 1,
   "metadata": {},
   "outputs": [
    {
     "name": "stderr",
     "output_type": "stream",
     "text": [
      "/Users/mvin/Desktop/mp_dev/mp_dev/lib/python3.9/site-packages/geopandas/_compat.py:123: UserWarning: The Shapely GEOS version (3.11.1-CAPI-1.17.1) is incompatible with the GEOS version PyGEOS was compiled with (3.10.4-CAPI-1.16.2). Conversions between both will be slow.\n",
      "  warnings.warn(\n",
      "/var/folders/h8/0wmx2zx90bn60jw8zc1r4qjc0000gn/T/ipykernel_21936/2185740430.py:4: UserWarning: Shapely 2.0 is installed, but because PyGEOS is also installed, GeoPandas will still use PyGEOS by default for now. To force to use and test Shapely 2.0, you have to set the environment variable USE_PYGEOS=0. You can do this before starting the Python process, or in your code before importing geopandas:\n",
      "\n",
      "import os\n",
      "os.environ['USE_PYGEOS'] = '0'\n",
      "import geopandas\n",
      "\n",
      "In a future release, GeoPandas will switch to using Shapely by default. If you are using PyGEOS directly (calling PyGEOS functions on geometries from GeoPandas), this will then stop working and you are encouraged to migrate from PyGEOS to Shapely 2.0 (https://shapely.readthedocs.io/en/latest/migration_pygeos.html).\n",
      "  import geopandas as gpd\n"
     ]
    }
   ],
   "source": [
    "import pickle\n",
    "import pandas as pd\n",
    "import psycopg2 as pg\n",
    "import geopandas as gpd\n",
    "\n",
    "from Data_getter.get_data import get_buildings, get_service\n",
    "from Blocks_getter.blocks_getter import BlocksModel\n",
    "from Provision_getter.provision_getter import ProvisionModel\n"
   ]
  },
  {
   "cell_type": "code",
   "execution_count": 2,
   "metadata": {},
   "outputs": [],
   "source": [
    "def filter_df(polygon, blocks,gdf_prov):\n",
    "\n",
    "    intersecting_blocks = gpd.overlay(blocks, polygon, how='intersection').drop(columns=[\"id_2\"])\n",
    "    intersecting_blocks.rename(columns = {'id_1':'id'}, inplace = True)\n",
    "\n",
    "    df_filtered = gdf_prov[gdf_prov['id'].isin(intersecting_blocks['id'])]\n",
    "    \n",
    "    return df_filtered"
   ]
  },
  {
   "cell_type": "code",
   "execution_count": 3,
   "metadata": {},
   "outputs": [
    {
     "name": "stderr",
     "output_type": "stream",
     "text": [
      "/Users/mvin/Desktop/mp_dev/mp_dev/lib/python3.9/site-packages/geopandas/io/sql.py:158: UserWarning: pandas only supports SQLAlchemy connectable (engine/connection) or database string URI or sqlite3 DBAPI2 connection. Other DBAPI2 objects are not tested. Please consider using SQLAlchemy.\n",
      "  df = pd.read_sql(\n"
     ]
    },
    {
     "data": {
      "application/vnd.jupyter.widget-view+json": {
       "model_id": "70d4c2d636144864bb03613bfc0ad002",
       "version_major": 2,
       "version_minor": 0
      },
      "text/plain": [
       "  0%|          | 0/605 [00:00<?, ?it/s]"
      ]
     },
     "metadata": {},
     "output_type": "display_data"
    },
    {
     "name": "stdout",
     "output_type": "stream",
     "text": [
      "количество кварталов c сервисом schools: 51\n",
      "количество жилых кварталов: 1135\n",
      "количество кварталов всего: 1609\n",
      "количество кварталов c ошибкой: 0\n"
     ]
    },
    {
     "name": "stderr",
     "output_type": "stream",
     "text": [
      "/Users/mvin/Desktop/mp_dev/mp_dev/lib/python3.9/site-packages/geopandas/io/sql.py:158: UserWarning: pandas only supports SQLAlchemy connectable (engine/connection) or database string URI or sqlite3 DBAPI2 connection. Other DBAPI2 objects are not tested. Please consider using SQLAlchemy.\n",
      "  df = pd.read_sql(\n"
     ]
    },
    {
     "data": {
      "application/vnd.jupyter.widget-view+json": {
       "model_id": "768471412c084b9ba9543e56787f8444",
       "version_major": 2,
       "version_minor": 0
      },
      "text/plain": [
       "  0%|          | 0/691 [00:00<?, ?it/s]"
      ]
     },
     "metadata": {},
     "output_type": "display_data"
    },
    {
     "name": "stdout",
     "output_type": "stream",
     "text": [
      "количество кварталов c сервисом kindergartens: 29\n",
      "количество жилых кварталов: 1120\n",
      "количество кварталов всего: 1518\n",
      "количество кварталов c ошибкой: 0\n"
     ]
    }
   ],
   "source": [
    "# GROUPS = ['schools', 'kindergartens', 'recreational_areas']\n",
    "GROUPS = ['schools', 'kindergartens']\n",
    "polygon = gpd.read_file('./output_data/polygon.geojson')\n",
    "\n",
    "city_crs = 32636\n",
    "city_id = 1\n",
    "service_type = \"schools\"\n",
    "matrix = pd.read_pickle(\"/Users/mvin/Desktop/mp_dev/MASTERPLAN/Data/MMG_SPB.pkl\")\n",
    "engine = pg.connect(\"dbname='city_db_final' user='postgres' host='10.32.1.107' port='5432' password='postgres'\")\n",
    "# buildings_gdf = get_buildings(engine=engine, city_crs=city_crs, city_id=city_id)\n",
    "# service_gdf = get_service(engine=engine, city_crs=city_crs, city_id=city_id, service_type=service_type)\n",
    "# blocks_gdf = BlocksModel(city_name='Санкт-Петербург', city_admin_level=5, city_crs=city_crs).get_blocks()\n",
    "buildings_gdf = gpd.read_parquet('./output_data/buildings.parquet')\n",
    "blocks_gdf = gpd.read_parquet('./output_data/blocks.parquet')\n",
    "\n",
    "services_accessabilities = {\"schools\": 7, \"kindergartens\": 6.5, \"recreational_areas\": 30}\n",
    "standard_dict = {'schools': 120, 'kindergartens': 61, 'recreational_areas': 12000}\n",
    "\n",
    "\n",
    "for n in GROUPS:\n",
    "    service_type = n\n",
    "    service_gdf = get_service(engine=engine, city_crs=city_crs, city_id=city_id, service_type=service_type)\n",
    "    \n",
    "    model = ProvisionModel(\n",
    "    SUB_GROUP=service_type,\n",
    "    blocks=blocks_gdf,\n",
    "    matrix=matrix,\n",
    "    buildings=buildings_gdf,\n",
    "    standard = standard_dict[service_type],\n",
    "    ACCS_TIME=services_accessabilities[service_type],\n",
    "    service_gdf=service_gdf \n",
    "    )\n",
    "\n",
    "    if service_type == 'schools':\n",
    "        school_prov = model.run()\n",
    "        df_filtered_school = filter_df(polygon, blocks_gdf, school_prov)\n",
    "        school = df_filtered_school\n",
    "        \n",
    "    elif service_type == 'kindergartens':\n",
    "        kindergarten_prov = model.run()\n",
    "        df_filtered_kindergarten = filter_df(polygon, blocks_gdf, kindergarten_prov)\n",
    "        kindergarten = df_filtered_kindergarten\n",
    "        \n",
    "    # elif service_type == 'recreational_areas':\n",
    "    #     greening = model.run()\n",
    "\n",
    "\n",
    "\n"
   ]
  },
  {
   "cell_type": "code",
   "execution_count": 7,
   "metadata": {},
   "outputs": [],
   "source": [
    "# school = gpd.read_parquet('./output_data/schools.parquet')\n",
    "# kindergarten = gpd.read_parquet('./output_data/kindergartens.parquet')\n",
    "greening = gpd.read_parquet('./output_data/recreational_areas.parquet')\n"
   ]
  },
  {
   "cell_type": "code",
   "execution_count": 8,
   "metadata": {},
   "outputs": [
    {
     "data": {
      "text/plain": [
       "{'block_id': 140932.0,\n",
       " 'area': 270.7060423617665,\n",
       " 'current_living_area': 162.287878887,\n",
       " 'current_industrial_area': 50.056015810199995,\n",
       " 'current_population': 49734.0,\n",
       " 'current_green_area': 17.376400000000004,\n",
       " 'floors': 3.2708333333333335,\n",
       " 'population_unprov_schools': 1240.0,\n",
       " 'population_unprov_kindergartens': 0.0,\n",
       " 'population_unprov_recreational_areas': 14336.0}"
      ]
     },
     "execution_count": 8,
     "metadata": {},
     "output_type": "execute_result"
    }
   ],
   "source": [
    "\n",
    "gdf = gpd.read_parquet('./output_data/GLEB_BLOCKS_AND_BUILDINGS_INFO_2.parquet')\n",
    "Hectare = 10000\n",
    "intersecting_blocks = gpd.overlay(gdf, polygon, how='intersection').drop(columns=[\"id\"])\n",
    "gdf = intersecting_blocks\n",
    "\n",
    "gdf['current_building_area'] = gdf['current_living_area'] + gdf['current_industrial_area']\n",
    "gdf_ = gdf[['block_id', 'area', 'current_living_area', 'current_industrial_area',\n",
    "     'current_population', 'current_green_area', 'floors']]\n",
    "\n",
    "gdf_ = gdf_.merge(school[['id', 'population_unprov_schools']], left_on='block_id', right_on='id').merge(kindergarten[['id', 'population_unprov_kindergartens']], \n",
    "left_on='block_id', right_on='id').merge(greening[['id', 'population_unprov_recreational_areas']], left_on='block_id', right_on='id')\n",
    "gdf_.drop(['id_x', 'id_y', 'id'], axis=1, inplace=True)\n",
    "\n",
    "gdf_['area'] = gdf_['area']/Hectare\n",
    "gdf_['current_living_area'] = gdf_['current_living_area']/Hectare\n",
    "gdf_['current_industrial_area'] = gdf_['current_industrial_area']/Hectare\n",
    "gdf_['current_green_area'] = gdf_['current_green_area']/Hectare\n",
    "\n",
    "df_sum = gdf_.sum()\n",
    "df_sum['floors'] = gdf_['floors'].mean()\n",
    "df_new = pd.DataFrame(df_sum).T\n",
    "gdf_ = df_new\n",
    "\n",
    "sample = gdf_[gdf_['area']>10].sample()\n",
    "sample = sample.to_dict('records')\n",
    "block = sample[0].copy()\n",
    "block"
   ]
  },
  {
   "cell_type": "code",
   "execution_count": 9,
   "metadata": {},
   "outputs": [
    {
     "name": "stderr",
     "output_type": "stream",
     "text": [
      "/Users/mvin/Desktop/masterplanning/Balancer/balancer.py:162: FutureWarning: The frame.append method is deprecated and will be removed from pandas in a future version. Use pandas.concat instead.\n",
      "  self.results = self.results.append(temp_result, ignore_index=True)\n",
      "/Users/mvin/Desktop/masterplanning/Balancer/balancer.py:162: FutureWarning: The frame.append method is deprecated and will be removed from pandas in a future version. Use pandas.concat instead.\n",
      "  self.results = self.results.append(temp_result, ignore_index=True)\n",
      "/Users/mvin/Desktop/masterplanning/Balancer/balancer.py:162: FutureWarning: The frame.append method is deprecated and will be removed from pandas in a future version. Use pandas.concat instead.\n",
      "  self.results = self.results.append(temp_result, ignore_index=True)\n",
      "/Users/mvin/Desktop/masterplanning/Balancer/balancer.py:162: FutureWarning: The frame.append method is deprecated and will be removed from pandas in a future version. Use pandas.concat instead.\n",
      "  self.results = self.results.append(temp_result, ignore_index=True)\n",
      "/Users/mvin/Desktop/masterplanning/Balancer/balancer.py:162: FutureWarning: The frame.append method is deprecated and will be removed from pandas in a future version. Use pandas.concat instead.\n",
      "  self.results = self.results.append(temp_result, ignore_index=True)\n"
     ]
    }
   ],
   "source": [
    "from Balancer.balancer import MasterPlan\n",
    "mp = MasterPlan(area=block['area'],\n",
    "                current_living_area=block['current_living_area'],\n",
    "                current_industrial_area=block['current_industrial_area'],\n",
    "                current_population=block['current_population'],\n",
    "                current_green_area=block['current_green_area'],\n",
    "                current_unprov_schoolkids=block['population_unprov_schools'],\n",
    "                current_unprov_kids=block['population_unprov_kindergartens'],\n",
    "                current_unprov_green_population=block['population_unprov_recreational_areas'])\n",
    "final = mp.optimal_solution_indicators()"
   ]
  },
  {
   "cell_type": "code",
   "execution_count": 10,
   "metadata": {},
   "outputs": [
    {
     "data": {
      "text/plain": [
       "{'area': 270.7060423617665,\n",
       " 'population': 49825.0,\n",
       " 'b': 30.0,\n",
       " 'green_coef_G': 11.999999970362396,\n",
       " 'living_area': 162.560878887,\n",
       " 'school_area': 1.2,\n",
       " 'school_capacity': 250,\n",
       " 'kindergarten_area': 0,\n",
       " 'kindergarten_capacity': 0,\n",
       " 'green_area': 34.688799957241834,\n",
       " 'G_min_capacity': 57814.66659540306,\n",
       " 'G_max_capacity': 28907.33329770153,\n",
       " 'green_coef_G_capacity': 28907.33336909687,\n",
       " 'op_area': 0.000273,\n",
       " 'parking1_area': 0.06879600000000001,\n",
       " 'parking2_area': 0.066885}"
      ]
     },
     "execution_count": 10,
     "metadata": {},
     "output_type": "execute_result"
    }
   ],
   "source": [
    "final"
   ]
  }
 ],
 "metadata": {
  "kernelspec": {
   "display_name": "Python 3.9.13 ('mp_dev': venv)",
   "language": "python",
   "name": "python3"
  },
  "language_info": {
   "codemirror_mode": {
    "name": "ipython",
    "version": 3
   },
   "file_extension": ".py",
   "mimetype": "text/x-python",
   "name": "python",
   "nbconvert_exporter": "python",
   "pygments_lexer": "ipython3",
   "version": "3.9.13"
  },
  "orig_nbformat": 4,
  "vscode": {
   "interpreter": {
    "hash": "9b19f456e35329ef23e74f17ccb3dc4ee2354c3c25232701aa99dbc224ba8198"
   }
  }
 },
 "nbformat": 4,
 "nbformat_minor": 2
}
