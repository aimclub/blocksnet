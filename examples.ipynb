{
 "cells": [
  {
   "attachments": {},
   "cell_type": "markdown",
   "metadata": {},
   "source": [
    "# Пример создания проекта мастер-плана \n",
    "# для выбранной части города"
   ]
  },
  {
   "cell_type": "code",
   "execution_count": 16,
   "metadata": {},
   "outputs": [],
   "source": [
    "import pandas as pd\n",
    "import psycopg2 as pg\n",
    "import geopandas as gpd\n",
    "\n",
    "from masterplan_tools.City_model.city_model import CityModel\n",
    "from masterplan_tools.Provision_getter.provision_getter import ProvisionModel\n",
    "from masterplan_tools.Balancer.balancer import MasterPlan\n",
    "from masterplan_tools.Data_getter.data_getter import DataGetter"
   ]
  },
  {
   "attachments": {},
   "cell_type": "markdown",
   "metadata": {},
   "source": [
    "#### Создание модели данных"
   ]
  },
  {
   "cell_type": "code",
   "execution_count": 17,
   "metadata": {},
   "outputs": [],
   "source": [
    "# Подключение к БД и чтение предрассчитанных файлов\n",
    "engine = pg.connect(\"dbname='city_db_final' user='postgres' host='10.32.1.107' port='5432' password='postgres'\")\n",
    "service_types = [\"schools\", \"kindergartens\"]\n",
    "matrix = pd.read_pickle(\"../MMG_SPB.pkl\")"
   ]
  },
  {
   "cell_type": "code",
   "execution_count": 19,
   "metadata": {},
   "outputs": [],
   "source": [
    "# Создание модели данных города\n",
    "city_model = CityModel(\n",
    "    city_name=\"Санкт-Петербург\",\n",
    "    city_crs=32636,\n",
    "    city_admin_level=5,\n",
    "    service_types=service_types,\n",
    "    accessibility_matrix=matrix,\n",
    "    city_id=1,\n",
    "    engine=engine,\n",
    "    from_device=False\n",
    ")\n"
   ]
  },
  {
   "cell_type": "code",
   "execution_count": null,
   "metadata": {},
   "outputs": [],
   "source": [
    "# Сбор необходимых данных\n",
    "city_model.collect_data()"
   ]
  },
  {
   "attachments": {},
   "cell_type": "markdown",
   "metadata": {},
   "source": [
    "##### Проверка на графов для вычисление обеспеченности сервисами\n"
   ]
  },
  {
   "cell_type": "code",
   "execution_count": 5,
   "metadata": {},
   "outputs": [
    {
     "data": {
      "text/plain": [
       "{'schools': <networkx.classes.graph.Graph at 0x7f9064197520>,\n",
       " 'kindergartens': <networkx.classes.graph.Graph at 0x7f90641972e0>}"
      ]
     },
     "execution_count": 5,
     "metadata": {},
     "output_type": "execute_result"
    }
   ],
   "source": [
    "city_model.services_graphs"
   ]
  },
  {
   "attachments": {},
   "cell_type": "markdown",
   "metadata": {},
   "source": [
    "#### Вычисление обеспеченноси кварталов сервисами школа и детский сад"
   ]
  },
  {
   "cell_type": "code",
   "execution_count": 6,
   "metadata": {},
   "outputs": [
    {
     "name": "stdout",
     "output_type": "stream",
     "text": [
      "количество кварталов c сервисом schools: 29\n",
      "количество жилых кварталов: 1273\n",
      "количество кварталов всего: 1609\n",
      "количество кварталов c ошибкой: 0\n",
      "количество кварталов c сервисом kindergartens: 11\n",
      "количество жилых кварталов: 797\n",
      "количество кварталов всего: 900\n",
      "количество кварталов c ошибкой: 0\n"
     ]
    }
   ],
   "source": [
    "for service_type in city_model.service_types:    \n",
    "    model = ProvisionModel(\n",
    "        city_model=city_model,\n",
    "        service_name=service_type\n",
    "        )\n",
    "\n",
    "    if service_type == 'schools':\n",
    "        school = model.run()\n",
    "        \n",
    "    elif service_type == 'kindergartens':\n",
    "        kindergarten = model.run()\n",
    "\n",
    "    # elif service_type == 'recreational_areas':\n",
    "    #     greening = model.run()\n",
    "\n",
    "greening = gpd.read_parquet('../masterplanning/masterplan_tools/output_data/recreational_areas.parquet')\n"
   ]
  },
  {
   "attachments": {},
   "cell_type": "markdown",
   "metadata": {},
   "source": [
    "#### Проверка результатов вычисления обеспеченности детским садом для отдельного квартала"
   ]
  },
  {
   "cell_type": "code",
   "execution_count": 7,
   "metadata": {},
   "outputs": [
    {
     "data": {
      "text/plain": [
       "index                                                                           6013\n",
       "id                                                                              6013\n",
       "geometry                           POLYGON ((365716.43716688757 6624359.046022324...\n",
       "provision_kindergartens                                                           85\n",
       "id_kindergartens                                                                6013\n",
       "population_prov_kindergartens                                                  12180\n",
       "population_unprov_kindergartens                                                 2086\n",
       "population                                                                     14267\n",
       "Name: 6013, dtype: object"
      ]
     },
     "execution_count": 7,
     "metadata": {},
     "output_type": "execute_result"
    }
   ],
   "source": [
    "kindergarten.iloc[6013]"
   ]
  },
  {
   "attachments": {},
   "cell_type": "markdown",
   "metadata": {},
   "source": [
    "Проверка результатов вычисления обеспеченности школой для отдельного квартала"
   ]
  },
  {
   "cell_type": "code",
   "execution_count": 8,
   "metadata": {},
   "outputs": [
    {
     "data": {
      "text/plain": [
       "index                                                                     6013\n",
       "id                                                                        6013\n",
       "geometry                     POLYGON ((365716.43716688757 6624359.046022324...\n",
       "provision_schools                                                          100\n",
       "id_schools                                                                6013\n",
       "population_prov_schools                                                  14267\n",
       "population_unprov_schools                                                    0\n",
       "population                                                               14267\n",
       "Name: 6013, dtype: object"
      ]
     },
     "execution_count": 8,
     "metadata": {},
     "output_type": "execute_result"
    }
   ],
   "source": [
    "school.iloc[6013]"
   ]
  },
  {
   "attachments": {},
   "cell_type": "markdown",
   "metadata": {},
   "source": [
    "#### Добавление полигона територии, к которой будет происодить генерация требований"
   ]
  },
  {
   "cell_type": "code",
   "execution_count": 9,
   "metadata": {},
   "outputs": [
    {
     "data": {
      "text/html": [
       "<div style=\"width:100%;\"><div style=\"position:relative;width:100%;height:0;padding-bottom:60%;\"><span style=\"color:#565656\">Make this Notebook Trusted to load map: File -> Trust Notebook</span><iframe srcdoc=\"&lt;!DOCTYPE html&gt;\n",
       "&lt;head&gt;    \n",
       "    &lt;meta http-equiv=&quot;content-type&quot; content=&quot;text/html; charset=UTF-8&quot; /&gt;\n",
       "    \n",
       "        &lt;script&gt;\n",
       "            L_NO_TOUCH = false;\n",
       "            L_DISABLE_3D = false;\n",
       "        &lt;/script&gt;\n",
       "    \n",
       "    &lt;style&gt;html, body {width: 100%;height: 100%;margin: 0;padding: 0;}&lt;/style&gt;\n",
       "    &lt;style&gt;#map {position:absolute;top:0;bottom:0;right:0;left:0;}&lt;/style&gt;\n",
       "    &lt;script src=&quot;https://cdn.jsdelivr.net/npm/leaflet@1.6.0/dist/leaflet.js&quot;&gt;&lt;/script&gt;\n",
       "    &lt;script src=&quot;https://code.jquery.com/jquery-1.12.4.min.js&quot;&gt;&lt;/script&gt;\n",
       "    &lt;script src=&quot;https://maxcdn.bootstrapcdn.com/bootstrap/3.2.0/js/bootstrap.min.js&quot;&gt;&lt;/script&gt;\n",
       "    &lt;script src=&quot;https://cdnjs.cloudflare.com/ajax/libs/Leaflet.awesome-markers/2.0.2/leaflet.awesome-markers.js&quot;&gt;&lt;/script&gt;\n",
       "    &lt;link rel=&quot;stylesheet&quot; href=&quot;https://cdn.jsdelivr.net/npm/leaflet@1.6.0/dist/leaflet.css&quot;/&gt;\n",
       "    &lt;link rel=&quot;stylesheet&quot; href=&quot;https://maxcdn.bootstrapcdn.com/bootstrap/3.2.0/css/bootstrap.min.css&quot;/&gt;\n",
       "    &lt;link rel=&quot;stylesheet&quot; href=&quot;https://maxcdn.bootstrapcdn.com/bootstrap/3.2.0/css/bootstrap-theme.min.css&quot;/&gt;\n",
       "    &lt;link rel=&quot;stylesheet&quot; href=&quot;https://maxcdn.bootstrapcdn.com/font-awesome/4.6.3/css/font-awesome.min.css&quot;/&gt;\n",
       "    &lt;link rel=&quot;stylesheet&quot; href=&quot;https://cdnjs.cloudflare.com/ajax/libs/Leaflet.awesome-markers/2.0.2/leaflet.awesome-markers.css&quot;/&gt;\n",
       "    &lt;link rel=&quot;stylesheet&quot; href=&quot;https://cdn.jsdelivr.net/gh/python-visualization/folium/folium/templates/leaflet.awesome.rotate.min.css&quot;/&gt;\n",
       "    \n",
       "            &lt;meta name=&quot;viewport&quot; content=&quot;width=device-width,\n",
       "                initial-scale=1.0, maximum-scale=1.0, user-scalable=no&quot; /&gt;\n",
       "            &lt;style&gt;\n",
       "                #map_20818ea94dff4714858771aed14a43e7 {\n",
       "                    position: relative;\n",
       "                    width: 100.0%;\n",
       "                    height: 100.0%;\n",
       "                    left: 0.0%;\n",
       "                    top: 0.0%;\n",
       "                }\n",
       "            &lt;/style&gt;\n",
       "        \n",
       "    \n",
       "                    &lt;style&gt;\n",
       "                        .foliumtooltip {\n",
       "                            \n",
       "                        }\n",
       "                       .foliumtooltip table{\n",
       "                            margin: auto;\n",
       "                        }\n",
       "                        .foliumtooltip tr{\n",
       "                            text-align: left;\n",
       "                        }\n",
       "                        .foliumtooltip th{\n",
       "                            padding: 2px; padding-right: 8px;\n",
       "                        }\n",
       "                    &lt;/style&gt;\n",
       "            \n",
       "&lt;/head&gt;\n",
       "&lt;body&gt;    \n",
       "    \n",
       "            &lt;div class=&quot;folium-map&quot; id=&quot;map_20818ea94dff4714858771aed14a43e7&quot; &gt;&lt;/div&gt;\n",
       "        \n",
       "&lt;/body&gt;\n",
       "&lt;script&gt;    \n",
       "    \n",
       "            var map_20818ea94dff4714858771aed14a43e7 = L.map(\n",
       "                &quot;map_20818ea94dff4714858771aed14a43e7&quot;,\n",
       "                {\n",
       "                    center: [59.738520400709675, 30.61632347388711],\n",
       "                    crs: L.CRS.EPSG3857,\n",
       "                    zoom: 10,\n",
       "                    zoomControl: true,\n",
       "                    preferCanvas: false,\n",
       "                }\n",
       "            );\n",
       "            L.control.scale().addTo(map_20818ea94dff4714858771aed14a43e7);\n",
       "\n",
       "            \n",
       "\n",
       "        \n",
       "    \n",
       "            var tile_layer_797f7029f72240d10222d00798baaecd = L.tileLayer(\n",
       "                &quot;https://{s}.tile.openstreetmap.org/{z}/{x}/{y}.png&quot;,\n",
       "                {&quot;attribution&quot;: &quot;Data by \\u0026copy; \\u003ca href=\\&quot;http://openstreetmap.org\\&quot;\\u003eOpenStreetMap\\u003c/a\\u003e, under \\u003ca href=\\&quot;http://www.openstreetmap.org/copyright\\&quot;\\u003eODbL\\u003c/a\\u003e.&quot;, &quot;detectRetina&quot;: false, &quot;maxNativeZoom&quot;: 18, &quot;maxZoom&quot;: 18, &quot;minZoom&quot;: 0, &quot;noWrap&quot;: false, &quot;opacity&quot;: 1, &quot;subdomains&quot;: &quot;abc&quot;, &quot;tms&quot;: false}\n",
       "            ).addTo(map_20818ea94dff4714858771aed14a43e7);\n",
       "        \n",
       "    \n",
       "            map_20818ea94dff4714858771aed14a43e7.fitBounds(\n",
       "                [[59.73551566710252, 30.610215611038665], [59.74152513431683, 30.622431336735556]],\n",
       "                {}\n",
       "            );\n",
       "        \n",
       "    \n",
       "        function geo_json_8a8c5bfd1451a2f0ef4a21e574bfcdef_styler(feature) {\n",
       "            switch(feature.id) {\n",
       "                default:\n",
       "                    return {&quot;fillOpacity&quot;: 0.5, &quot;weight&quot;: 2};\n",
       "            }\n",
       "        }\n",
       "        function geo_json_8a8c5bfd1451a2f0ef4a21e574bfcdef_highlighter(feature) {\n",
       "            switch(feature.id) {\n",
       "                default:\n",
       "                    return {&quot;fillOpacity&quot;: 0.75};\n",
       "            }\n",
       "        }\n",
       "        function geo_json_8a8c5bfd1451a2f0ef4a21e574bfcdef_pointToLayer(feature, latlng) {\n",
       "            var opts = {&quot;bubblingMouseEvents&quot;: true, &quot;color&quot;: &quot;#3388ff&quot;, &quot;dashArray&quot;: null, &quot;dashOffset&quot;: null, &quot;fill&quot;: true, &quot;fillColor&quot;: &quot;#3388ff&quot;, &quot;fillOpacity&quot;: 0.2, &quot;fillRule&quot;: &quot;evenodd&quot;, &quot;lineCap&quot;: &quot;round&quot;, &quot;lineJoin&quot;: &quot;round&quot;, &quot;opacity&quot;: 1.0, &quot;radius&quot;: 2, &quot;stroke&quot;: true, &quot;weight&quot;: 3};\n",
       "            \n",
       "            let style = geo_json_8a8c5bfd1451a2f0ef4a21e574bfcdef_styler(feature)\n",
       "            Object.assign(opts, style)\n",
       "            \n",
       "            return new L.CircleMarker(latlng, opts)\n",
       "        }\n",
       "\n",
       "        function geo_json_8a8c5bfd1451a2f0ef4a21e574bfcdef_onEachFeature(feature, layer) {\n",
       "            layer.on({\n",
       "                mouseout: function(e) {\n",
       "                    if(typeof e.target.setStyle === &quot;function&quot;){\n",
       "                        geo_json_8a8c5bfd1451a2f0ef4a21e574bfcdef.resetStyle(e.target);\n",
       "                    }\n",
       "                },\n",
       "                mouseover: function(e) {\n",
       "                    if(typeof e.target.setStyle === &quot;function&quot;){\n",
       "                        const highlightStyle = geo_json_8a8c5bfd1451a2f0ef4a21e574bfcdef_highlighter(e.target.feature)\n",
       "                        e.target.setStyle(highlightStyle);\n",
       "                    }\n",
       "                },\n",
       "            });\n",
       "        };\n",
       "        var geo_json_8a8c5bfd1451a2f0ef4a21e574bfcdef = L.geoJson(null, {\n",
       "                onEachFeature: geo_json_8a8c5bfd1451a2f0ef4a21e574bfcdef_onEachFeature,\n",
       "            \n",
       "                style: geo_json_8a8c5bfd1451a2f0ef4a21e574bfcdef_styler,\n",
       "                pointToLayer: geo_json_8a8c5bfd1451a2f0ef4a21e574bfcdef_pointToLayer\n",
       "        });\n",
       "\n",
       "        function geo_json_8a8c5bfd1451a2f0ef4a21e574bfcdef_add (data) {\n",
       "            geo_json_8a8c5bfd1451a2f0ef4a21e574bfcdef\n",
       "                .addData(data)\n",
       "                .addTo(map_20818ea94dff4714858771aed14a43e7);\n",
       "        }\n",
       "            geo_json_8a8c5bfd1451a2f0ef4a21e574bfcdef_add({&quot;bbox&quot;: [30.610215611038665, 59.73551566710252, 30.622431336735556, 59.74152513431683], &quot;features&quot;: [{&quot;bbox&quot;: [30.610215611038665, 59.73551566710252, 30.622431336735556, 59.74152513431683], &quot;geometry&quot;: {&quot;coordinates&quot;: [[[[30.610215611038665, 59.74097470341147], [30.61744201125687, 59.74152513431683], [30.622431336735556, 59.737528952376], [30.616547603971533, 59.73562349510512], [30.611573976771705, 59.73551566710252], [30.610215611038665, 59.74097470341147]]]], &quot;type&quot;: &quot;MultiPolygon&quot;}, &quot;id&quot;: &quot;0&quot;, &quot;properties&quot;: {&quot;id&quot;: 1}, &quot;type&quot;: &quot;Feature&quot;}], &quot;type&quot;: &quot;FeatureCollection&quot;});\n",
       "\n",
       "        \n",
       "    \n",
       "    geo_json_8a8c5bfd1451a2f0ef4a21e574bfcdef.bindTooltip(\n",
       "    function(layer){\n",
       "    let div = L.DomUtil.create(&#x27;div&#x27;);\n",
       "    \n",
       "    let handleObject = feature=&gt;typeof(feature)==&#x27;object&#x27; ? JSON.stringify(feature) : feature;\n",
       "    let fields = [&quot;id&quot;];\n",
       "    let aliases = [&quot;id&quot;];\n",
       "    let table = &#x27;&lt;table&gt;&#x27; +\n",
       "        String(\n",
       "        fields.map(\n",
       "        (v,i)=&gt;\n",
       "        `&lt;tr&gt;\n",
       "            &lt;th&gt;${aliases[i]}&lt;/th&gt;\n",
       "            \n",
       "            &lt;td&gt;${handleObject(layer.feature.properties[v])}&lt;/td&gt;\n",
       "        &lt;/tr&gt;`).join(&#x27;&#x27;))\n",
       "    +&#x27;&lt;/table&gt;&#x27;;\n",
       "    div.innerHTML=table;\n",
       "    \n",
       "    return div\n",
       "    }\n",
       "    ,{&quot;className&quot;: &quot;foliumtooltip&quot;, &quot;sticky&quot;: true});\n",
       "                     \n",
       "&lt;/script&gt;\" style=\"position:absolute;width:100%;height:100%;left:0;top:0;border:none !important;\" allowfullscreen webkitallowfullscreen mozallowfullscreen></iframe></div></div>"
      ],
      "text/plain": [
       "<folium.folium.Map at 0x7f905de4c580>"
      ]
     },
     "execution_count": 9,
     "metadata": {},
     "output_type": "execute_result"
    }
   ],
   "source": [
    "polygon = gpd.read_file('../masterplanning/masterplan_tools/output_data/polygon.geojson')\n",
    "polygon.explore()"
   ]
  },
  {
   "attachments": {},
   "cell_type": "markdown",
   "metadata": {},
   "source": [
    "#### Балансировка територии и расселение новых людей"
   ]
  },
  {
   "cell_type": "code",
   "execution_count": 10,
   "metadata": {},
   "outputs": [
    {
     "name": "stderr",
     "output_type": "stream",
     "text": [
      "/home/gk/jupyter/masterplanning/masterplan_tools/Balancer/balancer.py:203: FutureWarning: The frame.append method is deprecated and will be removed from pandas in a future version. Use pandas.concat instead.\n",
      "  self.results = self.results.append(temp_result, ignore_index=True)\n",
      "/home/gk/jupyter/masterplanning/masterplan_tools/Balancer/balancer.py:203: FutureWarning: The frame.append method is deprecated and will be removed from pandas in a future version. Use pandas.concat instead.\n",
      "  self.results = self.results.append(temp_result, ignore_index=True)\n",
      "/home/gk/jupyter/masterplanning/masterplan_tools/Balancer/balancer.py:203: FutureWarning: The frame.append method is deprecated and will be removed from pandas in a future version. Use pandas.concat instead.\n",
      "  self.results = self.results.append(temp_result, ignore_index=True)\n",
      "/home/gk/jupyter/masterplanning/masterplan_tools/Balancer/balancer.py:203: FutureWarning: The frame.append method is deprecated and will be removed from pandas in a future version. Use pandas.concat instead.\n",
      "  self.results = self.results.append(temp_result, ignore_index=True)\n",
      "/home/gk/jupyter/masterplanning/masterplan_tools/Balancer/balancer.py:203: FutureWarning: The frame.append method is deprecated and will be removed from pandas in a future version. Use pandas.concat instead.\n",
      "  self.results = self.results.append(temp_result, ignore_index=True)\n"
     ]
    }
   ],
   "source": [
    "block = DataGetter().balance_data(gdf=city_model.blocks_aggregated_info, polygon=polygon, school=school, kindergarten=kindergarten, greening=greening)\n",
    "mp = MasterPlan(area=block['area'],\n",
    "                current_living_area=block['current_living_area'],\n",
    "                current_industrial_area=block['current_industrial_area'],\n",
    "                current_population=block['current_population'],\n",
    "                current_green_area=block['current_green_area'],\n",
    "                current_unprov_schoolkids=block['population_unprov_schools'],\n",
    "                current_unprov_kids=block['population_unprov_kindergartens'],\n",
    "                current_unprov_green_population=block['population_unprov_recreational_areas'])\n",
    "\n",
    "updated_block_info = mp.optimal_solution_indicators()\n"
   ]
  },
  {
   "attachments": {},
   "cell_type": "markdown",
   "metadata": {},
   "source": [
    "#### Требования к преобразования територии"
   ]
  },
  {
   "cell_type": "code",
   "execution_count": 11,
   "metadata": {},
   "outputs": [],
   "source": [
    "updated_block = {'area': 269.91357042657916,\n",
    " 'population': 54041,\n",
    " 'b': 24.000000000000004,\n",
    " 'green_coef_G': 9.0,\n",
    " 'living_area': 74.65175110000001,\n",
    " 'school_area': 5.4,\n",
    " 'schools_capacity': 3300,\n",
    " 'kindergarten_area': 5.5,\n",
    " 'kindergartens_capacity': 1400,\n",
    " 'green_area': 47.0917,\n",
    " 'G_min_capacity': 78486.16666666667,\n",
    " 'G_max_capacity': 39243.083333333336,\n",
    " 'green_coef_G_capacity': 52324.11111111112,\n",
    " 'op_area': 0.075396,\n",
    " 'parking1_area': 18.999792000000003,\n",
    " 'parking2_area': 18.47202,\n",
    " \"block_id\": 6013\n",
    " }"
   ]
  },
  {
   "attachments": {},
   "cell_type": "markdown",
   "metadata": {},
   "source": [
    "#### Внесение изменения на основе требований в модель данных "
   ]
  },
  {
   "cell_type": "code",
   "execution_count": 12,
   "metadata": {},
   "outputs": [
    {
     "name": "stdout",
     "output_type": "stream",
     "text": [
      "2400\n",
      "5700\n"
     ]
    },
    {
     "name": "stderr",
     "output_type": "stream",
     "text": [
      "100%|██████████| 605/605 [00:08<00:00, 67.65it/s]\n"
     ]
    },
    {
     "name": "stdout",
     "output_type": "stream",
     "text": [
      "743\n",
      "2143\n"
     ]
    },
    {
     "name": "stderr",
     "output_type": "stream",
     "text": [
      "100%|██████████| 691/691 [00:10<00:00, 68.49it/s]\n"
     ]
    }
   ],
   "source": [
    "service_graphs = {}\n",
    "for service_type in city_model.service_types:\n",
    "   service_graphs[service_type] = DataGetter().prepare_graph(\n",
    "                    blocks=city_model.city_blocks,\n",
    "                    city_crs=city_model.city_crs,\n",
    "                    service_type=service_type,\n",
    "                    buildings=city_model.buildings,\n",
    "                    service_gdf=city_model.services_gdfs[service_type],\n",
    "                    updated_block_info=updated_block,\n",
    "                    accessibility_matrix=city_model.accessibility_matrix,\n",
    "                )"
   ]
  },
  {
   "attachments": {},
   "cell_type": "markdown",
   "metadata": {},
   "source": [
    "#### Повторное вычисление обеспеченности кварталов сервисами"
   ]
  },
  {
   "cell_type": "code",
   "execution_count": 13,
   "metadata": {},
   "outputs": [
    {
     "name": "stdout",
     "output_type": "stream",
     "text": [
      "количество кварталов c сервисом schools: 29\n",
      "количество жилых кварталов: 1273\n",
      "количество кварталов всего: 1609\n",
      "количество кварталов c ошибкой: 0\n",
      "количество кварталов c сервисом kindergartens: 11\n",
      "количество жилых кварталов: 797\n",
      "количество кварталов всего: 900\n",
      "количество кварталов c ошибкой: 0\n"
     ]
    }
   ],
   "source": [
    "for service_type in city_model.service_types:    \n",
    "    model = ProvisionModel(\n",
    "    service_name=service_type,\n",
    "    city_model=city_model\n",
    "    )\n",
    "\n",
    "    if service_type == 'schools':\n",
    "        school = model.run()\n",
    "        \n",
    "    elif service_type == 'kindergartens':\n",
    "        kindergarten = model.run()"
   ]
  },
  {
   "attachments": {},
   "cell_type": "markdown",
   "metadata": {},
   "source": [
    "#### Измененные данные по обеспеченности"
   ]
  },
  {
   "cell_type": "code",
   "execution_count": 14,
   "metadata": {},
   "outputs": [
    {
     "data": {
      "text/plain": [
       "index                                                                     6013\n",
       "id                                                                        6013\n",
       "geometry                     POLYGON ((365716.43716688757 6624359.046022324...\n",
       "provision_schools                                                          100\n",
       "id_schools                                                                6013\n",
       "population_prov_schools                                                  14267\n",
       "population_unprov_schools                                                    0\n",
       "population                                                               14267\n",
       "Name: 6013, dtype: object"
      ]
     },
     "execution_count": 14,
     "metadata": {},
     "output_type": "execute_result"
    }
   ],
   "source": [
    "school.iloc[6013]"
   ]
  },
  {
   "cell_type": "code",
   "execution_count": 15,
   "metadata": {},
   "outputs": [
    {
     "data": {
      "text/plain": [
       "index                                                                           6013\n",
       "id                                                                              6013\n",
       "geometry                           POLYGON ((365716.43716688757 6624359.046022324...\n",
       "provision_kindergartens                                                          100\n",
       "id_kindergartens                                                                6013\n",
       "population_prov_kindergartens                                                  14267\n",
       "population_unprov_kindergartens                                                    0\n",
       "population                                                                     14267\n",
       "Name: 6013, dtype: object"
      ]
     },
     "execution_count": 15,
     "metadata": {},
     "output_type": "execute_result"
    }
   ],
   "source": [
    "kindergarten.iloc[6013]"
   ]
  }
 ],
 "metadata": {
  "kernelspec": {
   "display_name": "Python 3.10.8 ('venv': venv)",
   "language": "python",
   "name": "python3"
  },
  "language_info": {
   "codemirror_mode": {
    "name": "ipython",
    "version": 3
   },
   "file_extension": ".py",
   "mimetype": "text/x-python",
   "name": "python",
   "nbconvert_exporter": "python",
   "pygments_lexer": "ipython3",
   "version": "3.8.10"
  },
  "orig_nbformat": 4,
  "vscode": {
   "interpreter": {
    "hash": "5511ca7be13fa0c58fa871a9f402572cdcf7009d10887ee8f011dc5b17b36305"
   }
  }
 },
 "nbformat": 4,
 "nbformat_minor": 2
}
