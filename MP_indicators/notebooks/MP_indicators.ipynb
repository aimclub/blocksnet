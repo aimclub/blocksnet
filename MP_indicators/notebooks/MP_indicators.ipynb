{
 "cells": [
  {
   "cell_type": "code",
   "execution_count": 2,
   "metadata": {},
   "outputs": [
    {
     "data": {
      "text/plain": [
       "'import psycopg2 as pg\\n'"
      ]
     },
     "execution_count": 2,
     "metadata": {},
     "output_type": "execute_result"
    }
   ],
   "source": [
    "import folium\n",
    "import sys\n",
    "import os\n",
    "import pandas as pd\n",
    "import geopandas as gpd\n",
    "import numpy as np\n",
    "from geojson import Feature, Point, FeatureCollection\n",
    "import shapely\n",
    "import json\n",
    "from tqdm import tqdm\n",
    "import psycopg2 as pg\n",
    "\n",
    "\n",
    "\n",
    "\n",
    "\n",
    "\n",
    "\n",
    "\n",
    "\n"
   ]
  },
  {
   "cell_type": "code",
   "execution_count": 3,
   "metadata": {},
   "outputs": [],
   "source": [
    "def get_masterplan(schools, buildings, polygon: json, add_building: json, delet_building: list[int]) -> json:\n",
    "\n",
    "        \"\"\"The function calculates the indicators of the master plan for a certain territory.\n",
    "\n",
    "        :param polygon: the territory within which indicators will be calculated in GeoJSON format.\n",
    "        :param add_building: the building that will be added to the territory in GeoJSON format.\n",
    "        :param delet_building: the building that will be deleted from the territory in List format.\n",
    "\n",
    "        city_model = CityInformationModel(city_name=\"saint-petersburg\", city_crs=32636)\n",
    "        \n",
    "        :example: Masterplan(city_model).get_masterplan(polygon, add_building, delet_building=[1, 2, 3])\n",
    "        \n",
    "        :return: dictionary with the name of the indicator and its value in JSON format.\n",
    "        \"\"\"\n",
    "        buildings = gpd.GeoDataFrame.from_features(buildings).set_crs(4326).to_crs(32636)\n",
    "        polygon = gpd.GeoDataFrame.from_features([polygon]).set_crs(4326).to_crs(32636)\n",
    "        land_with_buildings = gpd.sjoin(buildings, polygon, how='inner')\n",
    "        buffer = polygon.buffer(1600)\n",
    "        schools = schools.to_crs(32636)\n",
    "        filtered_schools = schools[schools.within(buffer)]\n",
    "\n",
    "\n",
    "\n",
    "        if add_building is not None:\n",
    "            add_building = gpd.GeoDataFrame.from_features(add_building).set_crs(4326).to_crs(32636)\n",
    "            land_with_buildings = land_with_buildings.append(add_building)\n",
    "\n",
    "        if delet_building is not None:\n",
    "            delet_building = pd.DataFrame(delet_building)\n",
    "            delet_building.columns = ['functional_object_id']\n",
    "            land_with_buildings = land_with_buildings[~land_with_buildings['functional_object_id'].isin(delet_building['functional_object_id'])]\n",
    "            \n",
    "        land_with_buildings_living = land_with_buildings[land_with_buildings['is_living'] == True]\n",
    "        \n",
    "        hectare = 10000\n",
    "        living = 80\n",
    "        commerce = 20                             \n",
    "        \n",
    "        land_area =  polygon.area / hectare\n",
    "        land_area = land_area.squeeze()\n",
    "        land_area =  np.around(land_area, decimals = 2)\n",
    "          \n",
    "        buildings_area = land_with_buildings['basement_area'].sum()\n",
    "\n",
    "        dev_land_procent = ((buildings_area / hectare) / land_area) * 100\n",
    "        dev_land_procent = np.around(dev_land_procent, decimals = 2)\n",
    "      \n",
    "        dev_land_area = land_with_buildings['basement_area'] * land_with_buildings['storeys_count']\n",
    "        dev_land_area = dev_land_area.sum() / hectare\n",
    "        dev_land_area = np.around(dev_land_area, decimals = 2)\n",
    "    \n",
    "        dev_land_density = dev_land_area / land_area\n",
    "        dev_land_density = np.around(dev_land_density, decimals = 2)\n",
    "\n",
    "        land_living_area = land_with_buildings_living['basement_area'] * land_with_buildings_living['storeys_count']\n",
    "        land_living_area = ((land_living_area.sum() / hectare) / 100 * living)\n",
    "        land_living_area = np.around(land_living_area, decimals = 2)\n",
    "   \n",
    "        dev_living_density = land_living_area / land_area\n",
    "        dev_living_density = np.around(dev_living_density, decimals = 2)\n",
    "\n",
    "        population =  land_with_buildings['population'].sum()\n",
    "        population = population.astype(int)\n",
    "            \n",
    "        population_density = population / land_area.squeeze()\n",
    "        population_density = np.around(population_density, decimals = 2)\n",
    "\n",
    "        living_area_provision = (land_living_area * hectare) / population\n",
    "        living_area_provision = np.around(living_area_provision, decimals = 2)\n",
    "        \n",
    "        land_business_area = ((land_living_area / living) * commerce) \n",
    "        land_business_area = np.around(land_business_area, decimals = 2)\n",
    "        \n",
    "        building_height_mode = land_with_buildings['storeys_count'].mode().squeeze()\n",
    "        building_height_mode = building_height_mode.astype(int)\n",
    "\n",
    "        free_seats = filtered_schools['capacity'].sum()\n",
    "\n",
    "\n",
    "            \n",
    "        data = [land_area, dev_land_procent, dev_land_area, dev_land_density, land_living_area,\n",
    "                    dev_living_density, population, population_density, living_area_provision, \n",
    "                    land_business_area, building_height_mode, free_seats]   \n",
    "        index = ['land_area', 'dev_land_procent',\n",
    "                'dev_land_area', 'dev_land_density', 'land_living_area', \n",
    "                'dev_living_density', 'population', \n",
    "                'population_density', 'living_area_provision', \n",
    "                'land_business_area', 'building_height_mode', 'free_seats']\n",
    "        df_indicators = pd.Series(data, index=index)\n",
    "\n",
    "        return json.loads(df_indicators.to_json())"
   ]
  },
  {
   "cell_type": "code",
   "execution_count": 4,
   "metadata": {},
   "outputs": [],
   "source": [
    "polygon = {\n",
    "  \"type\": \"Feature\",\n",
    "  \"geometry\": {\n",
    "    \"coordinates\": [\n",
    "      [\n",
    "        [\n",
    "          30.28236360437208,\n",
    "          59.94259995775951\n",
    "        ],\n",
    "        [\n",
    "          30.274335607213317,\n",
    "          59.94683560022031\n",
    "        ],\n",
    "        [\n",
    "          30.262799655918656,\n",
    "          59.943476595267526\n",
    "        ],\n",
    "        [\n",
    "          30.261458266233234,\n",
    "          59.93769831060115\n",
    "        ],\n",
    "        [\n",
    "          30.273799051338784,\n",
    "          59.934472783622056\n",
    "        ],\n",
    "        [\n",
    "          30.28935917168954,\n",
    "          59.934472783622056\n",
    "        ],\n",
    "        [\n",
    "          30.2982123436135,\n",
    "          59.939848487642536\n",
    "        ],\n",
    "        [\n",
    "          30.294456452493648,\n",
    "          59.94307349180241\n",
    "        ],\n",
    "        [\n",
    "          30.28236360437208,\n",
    "          59.94259995775951\n",
    "        ]\n",
    "      ]\n",
    "    ],\n",
    "    \"type\": \"Polygon\"\n",
    "  },\n",
    "  \"properties\": {\n",
    "    \"name\": \"Василеостровская\",\n",
    "    \"cities_id\": 1,\n",
    "    \"description\": \"Моя любимая станция\"\n",
    "  },\n",
    "  \"id\": \"524a0867fabe66a657e220e50549e604\",\n",
    "  \n",
    "}"
   ]
  },
  {
   "cell_type": "code",
   "execution_count": 5,
   "metadata": {},
   "outputs": [],
   "source": [
    "buildings = gpd.read_file('building_spb.geojson')\n",
    "schools = gpd.read_file('schools_spb.geojson')"
   ]
  },
  {
   "cell_type": "code",
   "execution_count": null,
   "metadata": {},
   "outputs": [
    {
     "name": "stderr",
     "output_type": "stream",
     "text": [
      "/Users/mvin/Desktop/CityGeoTools/CityGeoTools/venv/lib/python3.9/site-packages/geopandas/base.py:31: UserWarning: The indices of the two GeoSeries are different.\n",
      "  warn(\"The indices of the two GeoSeries are different.\")\n"
     ]
    }
   ],
   "source": [
    "polygon = gpd.GeoDataFrame.from_features([polygon]).set_crs(4326).to_crs(32636)\n",
    "buffer = polygon.buffer(1600)\n",
    "schools = schools.to_crs(32636)\n",
    "filtered_schools = schools[schools.within(buffer)]"
   ]
  },
  {
   "cell_type": "code",
   "execution_count": null,
   "metadata": {},
   "outputs": [],
   "source": [
    "indicators = get_masterplan(schools=schools, buildings=buildings, polygon=polygon, add_building=None, delet_building=None,)\n",
    "indicators"
   ]
  }
 ],
 "metadata": {
  "kernelspec": {
   "display_name": "Python 3.9.13 ('mp': venv)",
   "language": "python",
   "name": "python3"
  },
  "language_info": {
   "codemirror_mode": {
    "name": "ipython",
    "version": 3
   },
   "file_extension": ".py",
   "mimetype": "text/x-python",
   "name": "python",
   "nbconvert_exporter": "python",
   "pygments_lexer": "ipython3",
   "version": "3.9.13"
  },
  "orig_nbformat": 4,
  "vscode": {
   "interpreter": {
    "hash": "e5695823d24e5ded2b352128ee7389b28fec3e038734630fed717d46c6882c0c"
   }
  }
 },
 "nbformat": 4,
 "nbformat_minor": 2
}
