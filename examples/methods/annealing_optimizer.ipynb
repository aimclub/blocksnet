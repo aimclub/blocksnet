{
 "cells": [
  {
   "cell_type": "markdown",
   "metadata": {},
   "source": [
    "# Annealing optimizer\n",
    "\n",
    "The optimizer is used to optimize city blocks of certain land uses by building services of predefined capacity and area.\n",
    "\n",
    "## Prepare city\n",
    "\n",
    "The method is time consuming and aimed to work with smaller territories, so we make a smaller model."
   ]
  },
  {
   "cell_type": "code",
   "execution_count": 1,
   "metadata": {},
   "outputs": [
    {
     "data": {
      "text/html": [
       "\n",
       "\t\t\t<script type=\"text/javascript\">\n",
       "\t\t\t<!--\n",
       "\t\t\t\t\n",
       "\t\t\t{\n",
       "\t\t\t\tvar element = document.getElementById('NetworKit_script');\n",
       "\t\t\t\tif (element) {\n",
       "\t\t\t\t\telement.parentNode.removeChild(element);\n",
       "\t\t\t\t}\n",
       "\t\t\t\telement = document.createElement('script');\n",
       "\t\t\t\telement.type = 'text/javascript';\n",
       "\t\t\t\telement.innerHTML = 'function NetworKit_pageEmbed(id) { var i, j; var elements; elements = document.getElementById(id).getElementsByClassName(\"Plot\"); for (i=0; i<elements.length; i++) { elements[i].id = id + \"_Plot_\" + i; var data = elements[i].getAttribute(\"data-image\").split(\"|\"); elements[i].removeAttribute(\"data-image\"); var content = \"<div class=\\\\\"Image\\\\\" id=\\\\\"\" + elements[i].id + \"_Image\\\\\" />\"; elements[i].innerHTML = content; elements[i].setAttribute(\"data-image-index\", 0); elements[i].setAttribute(\"data-image-length\", data.length); for (j=0; j<data.length; j++) { elements[i].setAttribute(\"data-image-\" + j, data[j]); } NetworKit_plotUpdate(elements[i]); elements[i].onclick = function (e) { NetworKit_overlayShow((e.target) ? e.target : e.srcElement); } } elements = document.getElementById(id).getElementsByClassName(\"HeatCell\"); for (i=0; i<elements.length; i++) { var data = parseFloat(elements[i].getAttribute(\"data-heat\")); var color = \"#00FF00\"; if (data <= 1 && data > 0) { color = \"hsla(0, 100%, 75%, \" + (data) + \")\"; } else if (data <= 0 && data >= -1) { color = \"hsla(240, 100%, 75%, \" + (-data) + \")\"; } elements[i].style.backgroundColor = color; } elements = document.getElementById(id).getElementsByClassName(\"Details\"); for (i=0; i<elements.length; i++) { elements[i].setAttribute(\"data-title\", \"-\"); NetworKit_toggleDetails(elements[i]); elements[i].onclick = function (e) { NetworKit_toggleDetails((e.target) ? e.target : e.srcElement); } } elements = document.getElementById(id).getElementsByClassName(\"MathValue\"); for (i=elements.length-1; i>=0; i--) { value = elements[i].innerHTML.trim(); if (value === \"nan\") { elements[i].parentNode.innerHTML = \"\" } } elements = document.getElementById(id).getElementsByClassName(\"SubCategory\"); for (i=elements.length-1; i>=0; i--) { value = elements[i].innerHTML.trim(); if (value === \"\") { elements[i].parentNode.removeChild(elements[i]) } } elements = document.getElementById(id).getElementsByClassName(\"Category\"); for (i=elements.length-1; i>=0; i--) { value = elements[i].innerHTML.trim(); if (value === \"\") { elements[i].parentNode.removeChild(elements[i]) } } var isFirefox = false; try { isFirefox = typeof InstallTrigger !== \"undefined\"; } catch (e) {} if (!isFirefox) { alert(\"Currently the function\\'s output is only fully supported by Firefox.\"); } } function NetworKit_plotUpdate(source) { var index = source.getAttribute(\"data-image-index\"); var data = source.getAttribute(\"data-image-\" + index); var image = document.getElementById(source.id + \"_Image\"); image.style.backgroundImage = \"url(\" + data + \")\"; } function NetworKit_showElement(id, show) { var element = document.getElementById(id); element.style.display = (show) ? \"block\" : \"none\"; } function NetworKit_overlayShow(source) { NetworKit_overlayUpdate(source); NetworKit_showElement(\"NetworKit_Overlay\", true); } function NetworKit_overlayUpdate(source) { document.getElementById(\"NetworKit_Overlay_Title\").innerHTML = source.title; var index = source.getAttribute(\"data-image-index\"); var data = source.getAttribute(\"data-image-\" + index); var image = document.getElementById(\"NetworKit_Overlay_Image\"); image.setAttribute(\"data-id\", source.id); image.style.backgroundImage = \"url(\" + data + \")\"; var link = document.getElementById(\"NetworKit_Overlay_Toolbar_Bottom_Save\"); link.href = data; link.download = source.title + \".svg\"; } function NetworKit_overlayImageShift(delta) { var image = document.getElementById(\"NetworKit_Overlay_Image\"); var source = document.getElementById(image.getAttribute(\"data-id\")); var index = parseInt(source.getAttribute(\"data-image-index\")); var length = parseInt(source.getAttribute(\"data-image-length\")); var index = (index+delta) % length; if (index < 0) { index = length + index; } source.setAttribute(\"data-image-index\", index); NetworKit_overlayUpdate(source); } function NetworKit_toggleDetails(source) { var childs = source.children; var show = false; if (source.getAttribute(\"data-title\") == \"-\") { source.setAttribute(\"data-title\", \"+\"); show = false; } else { source.setAttribute(\"data-title\", \"-\"); show = true; } for (i=0; i<childs.length; i++) { if (show) { childs[i].style.display = \"block\"; } else { childs[i].style.display = \"none\"; } } }';\n",
       "\t\t\t\telement.setAttribute('id', 'NetworKit_script');\n",
       "\t\t\t\tdocument.head.appendChild(element);\n",
       "\t\t\t}\n",
       "\t\t\n",
       "\t\t\t\t\n",
       "\t\t\t{\n",
       "\t\t\t\tvar element = document.getElementById('NetworKit_style');\n",
       "\t\t\t\tif (element) {\n",
       "\t\t\t\t\telement.parentNode.removeChild(element);\n",
       "\t\t\t\t}\n",
       "\t\t\t\telement = document.createElement('style');\n",
       "\t\t\t\telement.type = 'text/css';\n",
       "\t\t\t\telement.innerHTML = '.NetworKit_Page { font-family: Arial, Helvetica, sans-serif; font-size: 14px; } .NetworKit_Page .Value:before { font-family: Arial, Helvetica, sans-serif; font-size: 1.05em; content: attr(data-title) \":\"; margin-left: -2.5em; padding-right: 0.5em; } .NetworKit_Page .Details .Value:before { display: block; } .NetworKit_Page .Value { font-family: monospace; white-space: pre; padding-left: 2.5em; white-space: -moz-pre-wrap !important; white-space: -pre-wrap; white-space: -o-pre-wrap; white-space: pre-wrap; word-wrap: break-word; tab-size: 4; -moz-tab-size: 4; } .NetworKit_Page .Category { clear: both; padding-left: 1em; margin-bottom: 1.5em; } .NetworKit_Page .Category:before { content: attr(data-title); font-size: 1.75em; display: block; margin-left: -0.8em; margin-bottom: 0.5em; } .NetworKit_Page .SubCategory { margin-bottom: 1.5em; padding-left: 1em; } .NetworKit_Page .SubCategory:before { font-size: 1.6em; display: block; margin-left: -0.8em; margin-bottom: 0.5em; } .NetworKit_Page .SubCategory[data-title]:before { content: attr(data-title); } .NetworKit_Page .Block { display: block; } .NetworKit_Page .Block:after { content: \".\"; visibility: hidden; display: block; height: 0; clear: both; } .NetworKit_Page .Block .Thumbnail_Overview, .NetworKit_Page .Block .Thumbnail_ScatterPlot { width: 260px; float: left; } .NetworKit_Page .Block .Thumbnail_Overview img, .NetworKit_Page .Block .Thumbnail_ScatterPlot img { width: 260px; } .NetworKit_Page .Block .Thumbnail_Overview:before, .NetworKit_Page .Block .Thumbnail_ScatterPlot:before { display: block; text-align: center; font-weight: bold; } .NetworKit_Page .Block .Thumbnail_Overview:before { content: attr(data-title); } .NetworKit_Page .HeatCell { font-family: \"Courier New\", Courier, monospace; cursor: pointer; } .NetworKit_Page .HeatCell, .NetworKit_Page .HeatCellName { display: inline; padding: 0.1em; margin-right: 2px; background-color: #FFFFFF } .NetworKit_Page .HeatCellName { margin-left: 0.25em; } .NetworKit_Page .HeatCell:before { content: attr(data-heat); display: inline-block; color: #000000; width: 4em; text-align: center; } .NetworKit_Page .Measure { clear: both; } .NetworKit_Page .Measure .Details { cursor: pointer; } .NetworKit_Page .Measure .Details:before { content: \"[\" attr(data-title) \"]\"; display: block; } .NetworKit_Page .Measure .Details .Value { border-left: 1px dotted black; margin-left: 0.4em; padding-left: 3.5em; pointer-events: none; } .NetworKit_Page .Measure .Details .Spacer:before { content: \".\"; opacity: 0.0; pointer-events: none; } .NetworKit_Page .Measure .Plot { width: 440px; height: 440px; cursor: pointer; float: left; margin-left: -0.9em; margin-right: 20px; } .NetworKit_Page .Measure .Plot .Image { background-repeat: no-repeat; background-position: center center; background-size: contain; height: 100%; pointer-events: none; } .NetworKit_Page .Measure .Stat { width: 500px; float: left; } .NetworKit_Page .Measure .Stat .Group { padding-left: 1.25em; margin-bottom: 0.75em; } .NetworKit_Page .Measure .Stat .Group .Title { font-size: 1.1em; display: block; margin-bottom: 0.3em; margin-left: -0.75em; border-right-style: dotted; border-right-width: 1px; border-bottom-style: dotted; border-bottom-width: 1px; background-color: #D0D0D0; padding-left: 0.2em; } .NetworKit_Page .Measure .Stat .Group .List { -webkit-column-count: 3; -moz-column-count: 3; column-count: 3; } .NetworKit_Page .Measure .Stat .Group .List .Entry { position: relative; line-height: 1.75em; } .NetworKit_Page .Measure .Stat .Group .List .Entry[data-tooltip]:before { position: absolute; left: 0; top: -40px; background-color: #808080; color: #ffffff; height: 30px; line-height: 30px; border-radius: 5px; padding: 0 15px; content: attr(data-tooltip); white-space: nowrap; display: none; } .NetworKit_Page .Measure .Stat .Group .List .Entry[data-tooltip]:after { position: absolute; left: 15px; top: -10px; border-top: 7px solid #808080; border-left: 7px solid transparent; border-right: 7px solid transparent; content: \"\"; display: none; } .NetworKit_Page .Measure .Stat .Group .List .Entry[data-tooltip]:hover:after, .NetworKit_Page .Measure .Stat .Group .List .Entry[data-tooltip]:hover:before { display: block; } .NetworKit_Page .Measure .Stat .Group .List .Entry .MathValue { font-family: \"Courier New\", Courier, monospace; } .NetworKit_Page .Measure:after { content: \".\"; visibility: hidden; display: block; height: 0; clear: both; } .NetworKit_Page .PartitionPie { clear: both; } .NetworKit_Page .PartitionPie img { width: 600px; } #NetworKit_Overlay { left: 0px; top: 0px; display: none; position: absolute; width: 100%; height: 100%; background-color: rgba(0,0,0,0.6); z-index: 1000; } #NetworKit_Overlay_Title { position: absolute; color: white; transform: rotate(-90deg); width: 32em; height: 32em; padding-right: 0.5em; padding-top: 0.5em; text-align: right; font-size: 40px; } #NetworKit_Overlay .button { background: white; cursor: pointer; } #NetworKit_Overlay .button:before { size: 13px; display: inline-block; text-align: center; margin-top: 0.5em; margin-bottom: 0.5em; width: 1.5em; height: 1.5em; } #NetworKit_Overlay .icon-close:before { content: \"X\"; } #NetworKit_Overlay .icon-previous:before { content: \"P\"; } #NetworKit_Overlay .icon-next:before { content: \"N\"; } #NetworKit_Overlay .icon-save:before { content: \"S\"; } #NetworKit_Overlay_Toolbar_Top, #NetworKit_Overlay_Toolbar_Bottom { position: absolute; width: 40px; right: 13px; text-align: right; z-index: 1100; } #NetworKit_Overlay_Toolbar_Top { top: 0.5em; } #NetworKit_Overlay_Toolbar_Bottom { Bottom: 0.5em; } #NetworKit_Overlay_ImageContainer { position: absolute; top: 5%; left: 5%; height: 90%; width: 90%; background-repeat: no-repeat; background-position: center center; background-size: contain; } #NetworKit_Overlay_Image { height: 100%; width: 100%; background-repeat: no-repeat; background-position: center center; background-size: contain; }';\n",
       "\t\t\t\telement.setAttribute('id', 'NetworKit_style');\n",
       "\t\t\t\tdocument.head.appendChild(element);\n",
       "\t\t\t}\n",
       "\t\t\n",
       "\t\t\t\t\n",
       "\t\t\t{\n",
       "\t\t\t\tvar element = document.getElementById('NetworKit_Overlay');\n",
       "\t\t\t\tif (element) {\n",
       "\t\t\t\t\telement.parentNode.removeChild(element);\n",
       "\t\t\t\t}\n",
       "\t\t\t\telement = document.createElement('div');\n",
       "\t\t\t\telement.innerHTML = '<div id=\"NetworKit_Overlay_Toolbar_Top\"><div class=\"button icon-close\" id=\"NetworKit_Overlay_Close\" /></div><div id=\"NetworKit_Overlay_Title\" /> <div id=\"NetworKit_Overlay_ImageContainer\"> <div id=\"NetworKit_Overlay_Image\" /> </div> <div id=\"NetworKit_Overlay_Toolbar_Bottom\"> <div class=\"button icon-previous\" onclick=\"NetworKit_overlayImageShift(-1)\" /> <div class=\"button icon-next\" onclick=\"NetworKit_overlayImageShift(1)\" /> <a id=\"NetworKit_Overlay_Toolbar_Bottom_Save\"><div class=\"button icon-save\" /></a> </div>';\n",
       "\t\t\t\telement.setAttribute('id', 'NetworKit_Overlay');\n",
       "\t\t\t\tdocument.body.appendChild(element);\n",
       "\t\t\t\tdocument.getElementById('NetworKit_Overlay_Close').onclick = function (e) {\n",
       "\t\t\t\t\tdocument.getElementById('NetworKit_Overlay').style.display = 'none';\n",
       "\t\t\t\t}\n",
       "\t\t\t}\n",
       "\t\t\n",
       "\t\t\t-->\n",
       "\t\t\t</script>\n",
       "\t\t"
      ]
     },
     "metadata": {},
     "output_type": "display_data"
    }
   ],
   "source": [
    "from blocksnet import City, AnnealingOptimizer\n",
    "from blocksnet import AccessibilityProcessor\n",
    "\n",
    "city = City.from_pickle('model.pickle')\n",
    "\n"
   ]
  },
  {
   "cell_type": "code",
   "execution_count": 2,
   "metadata": {},
   "outputs": [
    {
     "data": {
      "application/vnd.jupyter.widget-view+json": {
       "model_id": "732faf51aa9c4c54b1b1e72a90dbbae3",
       "version_major": 2,
       "version_minor": 0
      },
      "text/plain": [
       "Downloading pt routes:   0%|          | 0/4 [00:00<?, ?it/s]"
      ]
     },
     "metadata": {},
     "output_type": "display_data"
    },
    {
     "data": {
      "application/vnd.jupyter.widget-view+json": {
       "model_id": "a114dfa8733f467bae288cfffb233ba0",
       "version_major": 2,
       "version_minor": 0
      },
      "text/plain": [
       "Calculating the weights of the walk graph:   0%|          | 0/1170638 [00:00<?, ?it/s]"
      ]
     },
     "metadata": {},
     "output_type": "display_data"
    }
   ],
   "source": [
    "ap = AccessibilityProcessor(blocks=city.get_blocks_gdf())\n",
    "intermodal_graph = ap.get_intermodal_graph()"
   ]
  },
  {
   "cell_type": "code",
   "execution_count": null,
   "metadata": {},
   "outputs": [],
   "source": [
    "ap.plot(blocks, intermodal_graph)"
   ]
  },
  {
   "cell_type": "code",
   "execution_count": 3,
   "metadata": {},
   "outputs": [
    {
     "data": {
      "image/png": "[encoded data removed]",
      "text/plain": [
       "<Figure size 640x480 with 1 Axes>"
      ]
     },
     "metadata": {},
     "output_type": "display_data"
    }
   ],
   "source": [
    "blocks = city.get_blocks_gdf(True)\n",
    "nearest_blocks = blocks.sjoin_nearest(blocks[blocks.index == 1445], distance_col='distance')\n",
    "nearest_blocks = nearest_blocks[nearest_blocks['distance']<=1000]\n",
    "nearest_blocks.plot().set_axis_off()\n",
    "\n",
    "\n",
    "\n",
    "blocks = gpd.read_parquet(os.path.join(example_data_path, 'blocks.parquet')).to_crs(local_crs)\n",
    "intermodal_graph = GraphGenerator(territory=blocks).get_graph('intermodal')"
   ]
  },
  {
   "cell_type": "code",
   "execution_count": 4,
   "metadata": {},
   "outputs": [],
   "source": [
    "city._blocks = {i:city[i] for i in nearest_blocks.index}"
   ]
  },
  {
   "cell_type": "markdown",
   "metadata": {},
   "source": [
    "## Method"
   ]
  },
  {
   "cell_type": "code",
   "execution_count": 5,
   "metadata": {},
   "outputs": [
    {
     "name": "stderr",
     "output_type": "stream",
     "text": [
      "Value : 0.002:   0%|          | 19/10000 [00:01<14:41, 11.33it/s]"
     ]
    },
    {
     "ename": "AttributeError",
     "evalue": "'City' object has no attribute 'accessibility_matrix'",
     "output_type": "error",
     "traceback": [
      "\u001b[0;31m---------------------------------------------------------------------------\u001b[0m",
      "\u001b[0;31mAttributeError\u001b[0m                            Traceback (most recent call last)",
      "Cell \u001b[0;32mIn[5], line 10\u001b[0m\n\u001b[1;32m      8\u001b[0m blocks_gsi \u001b[38;5;241m=\u001b[39m {b_id : LU_GSIS[lu][\u001b[38;5;241m0\u001b[39m] \u001b[38;5;28;01mfor\u001b[39;00m b_id, lu \u001b[38;5;129;01min\u001b[39;00m blocks_lu\u001b[38;5;241m.\u001b[39mitems()}\n\u001b[1;32m      9\u001b[0m service_types \u001b[38;5;241m=\u001b[39m {st\u001b[38;5;241m.\u001b[39mname : \u001b[38;5;241m1\u001b[39m\u001b[38;5;241m/\u001b[39m\u001b[38;5;28mlen\u001b[39m(city\u001b[38;5;241m.\u001b[39mservice_types) \u001b[38;5;28;01mfor\u001b[39;00m st \u001b[38;5;129;01min\u001b[39;00m city\u001b[38;5;241m.\u001b[39mservice_types}\n\u001b[0;32m---> 10\u001b[0m X, indicators, value, provisions \u001b[38;5;241m=\u001b[39m \u001b[43mao\u001b[49m\u001b[38;5;241;43m.\u001b[39;49m\u001b[43mcalculate\u001b[49m\u001b[43m(\u001b[49m\u001b[43mblocks_lu\u001b[49m\u001b[43m,\u001b[49m\u001b[43m \u001b[49m\u001b[43mblocks_fsi\u001b[49m\u001b[43m,\u001b[49m\u001b[43m \u001b[49m\u001b[43mblocks_gsi\u001b[49m\u001b[43m,\u001b[49m\u001b[43m \u001b[49m\u001b[43mservice_types\u001b[49m\u001b[43m,\u001b[49m\u001b[43m \u001b[49m\u001b[43mrate\u001b[49m\u001b[38;5;241;43m=\u001b[39;49m\u001b[38;5;241;43m0.95\u001b[39;49m\u001b[43m,\u001b[49m\u001b[43m \u001b[49m\u001b[43mmax_iter\u001b[49m\u001b[38;5;241;43m=\u001b[39;49m\u001b[38;5;241;43m10_000\u001b[39;49m\u001b[43m)\u001b[49m\n",
      "File \u001b[0;32m~/Documents/Job/City_Optimizer/general/blocksnet/method/annealing_optimizer.py:572\u001b[0m, in \u001b[0;36mAnnealingOptimizer.calculate\u001b[0;34m(self, blocks_lu, blocks_fsi, blocks_gsi, service_types, t_max, t_min, rate, max_iter)\u001b[0m\n\u001b[1;32m    569\u001b[0m     \u001b[38;5;28;01mcontinue\u001b[39;00m\n\u001b[1;32m    571\u001b[0m \u001b[38;5;66;03m# recalculate changed provision\u001b[39;00m\n\u001b[0;32m--> 572\u001b[0m provisions[st\u001b[38;5;241m.\u001b[39mname] \u001b[38;5;241m=\u001b[39m \u001b[43mcalculate_provision\u001b[49m\u001b[43m(\u001b[49m\u001b[43mX\u001b[49m\u001b[43m,\u001b[49m\u001b[43m \u001b[49m\u001b[43mst\u001b[49m\u001b[43m)\u001b[49m\n\u001b[1;32m    574\u001b[0m \u001b[38;5;66;03m# Вычисляем значение целевой функции\u001b[39;00m\n\u001b[1;32m    575\u001b[0m value \u001b[38;5;241m=\u001b[39m objective()\n",
      "File \u001b[0;32m~/Documents/Job/City_Optimizer/general/blocksnet/method/annealing_optimizer.py:541\u001b[0m, in \u001b[0;36mAnnealingOptimizer.calculate.<locals>.calculate_provision\u001b[0;34m(X, service_type)\u001b[0m\n\u001b[1;32m    539\u001b[0m \u001b[38;5;28;01mif\u001b[39;00m update_df[service_type\u001b[38;5;241m.\u001b[39mname]\u001b[38;5;241m.\u001b[39msum() \u001b[38;5;241m==\u001b[39m \u001b[38;5;241m0\u001b[39m:\n\u001b[1;32m    540\u001b[0m     \u001b[38;5;28;01mreturn\u001b[39;00m \u001b[38;5;241m0\u001b[39m\n\u001b[0;32m--> 541\u001b[0m gdf \u001b[38;5;241m=\u001b[39m \u001b[43mprov\u001b[49m\u001b[38;5;241;43m.\u001b[39;49m\u001b[43mcalculate\u001b[49m\u001b[43m(\u001b[49m\u001b[43mservice_type\u001b[49m\u001b[43m,\u001b[49m\u001b[43m \u001b[49m\u001b[43mupdate_df\u001b[49m\u001b[43m,\u001b[49m\u001b[43m \u001b[49m\u001b[43mself_supply\u001b[49m\u001b[38;5;241;43m=\u001b[39;49m\u001b[38;5;28;43;01mTrue\u001b[39;49;00m\u001b[43m)\u001b[49m\n\u001b[1;32m    542\u001b[0m \u001b[38;5;28;01mreturn\u001b[39;00m prov\u001b[38;5;241m.\u001b[39mtotal(gdf)\n",
      "File \u001b[0;32m~/Documents/Job/City_Optimizer/general/blocksnet/method/provision.py:264\u001b[0m, in \u001b[0;36mProvision.calculate\u001b[0;34m(self, service_type, update_df, method, self_supply)\u001b[0m\n\u001b[1;32m    262\u001b[0m     gdf \u001b[38;5;241m=\u001b[39m \u001b[38;5;28mself\u001b[39m\u001b[38;5;241m.\u001b[39m_greedy_provision(gdf, service_type)\n\u001b[1;32m    263\u001b[0m \u001b[38;5;28;01melse\u001b[39;00m:\n\u001b[0;32m--> 264\u001b[0m     gdf \u001b[38;5;241m=\u001b[39m \u001b[38;5;28;43mself\u001b[39;49m\u001b[38;5;241;43m.\u001b[39;49m\u001b[43m_lp_provision\u001b[49m\u001b[43m(\u001b[49m\u001b[43mgdf\u001b[49m\u001b[43m,\u001b[49m\u001b[43m \u001b[49m\u001b[43mservice_type\u001b[49m\u001b[43m,\u001b[49m\u001b[43m \u001b[49m\u001b[43mmethod\u001b[49m\u001b[43m)\u001b[49m\n\u001b[1;32m    266\u001b[0m gdf[\u001b[38;5;124m\"\u001b[39m\u001b[38;5;124mprovision\u001b[39m\u001b[38;5;124m\"\u001b[39m] \u001b[38;5;241m=\u001b[39m gdf[\u001b[38;5;124m\"\u001b[39m\u001b[38;5;124mdemand_within\u001b[39m\u001b[38;5;124m\"\u001b[39m] \u001b[38;5;241m/\u001b[39m gdf[\u001b[38;5;124m\"\u001b[39m\u001b[38;5;124mdemand\u001b[39m\u001b[38;5;124m\"\u001b[39m]\n\u001b[1;32m    268\u001b[0m \u001b[38;5;28;01mif\u001b[39;00m \u001b[38;5;28mself\u001b[39m\u001b[38;5;241m.\u001b[39mverbose:\n",
      "File \u001b[0;32m~/Documents/Job/City_Optimizer/general/blocksnet/method/provision.py:324\u001b[0m, in \u001b[0;36mProvision._lp_provision\u001b[0;34m(self, gdf, service_type, method, selection_range)\u001b[0m\n\u001b[1;32m    322\u001b[0m prob \u001b[38;5;241m=\u001b[39m LpProblem(\u001b[38;5;124m\"\u001b[39m\u001b[38;5;124mProvision\u001b[39m\u001b[38;5;124m\"\u001b[39m, LpMaximize)\n\u001b[1;32m    323\u001b[0m \u001b[38;5;66;03m# Precompute distance and filter products\u001b[39;00m\n\u001b[0;32m--> 324\u001b[0m products \u001b[38;5;241m=\u001b[39m [\n\u001b[1;32m    325\u001b[0m     (i, j)\n\u001b[1;32m    326\u001b[0m     \u001b[38;5;28;01mfor\u001b[39;00m i \u001b[38;5;129;01min\u001b[39;00m demand\u001b[38;5;241m.\u001b[39mindex\n\u001b[1;32m    327\u001b[0m     \u001b[38;5;28;01mfor\u001b[39;00m j \u001b[38;5;129;01min\u001b[39;00m capacity\u001b[38;5;241m.\u001b[39mindex\n\u001b[1;32m    328\u001b[0m     \u001b[38;5;28;01mif\u001b[39;00m _get_distance(i, j) \u001b[38;5;241m<\u001b[39m\u001b[38;5;241m=\u001b[39m selection_range  \u001b[38;5;66;03m# service_type.accessibility * 2\u001b[39;00m\n\u001b[1;32m    329\u001b[0m ]\n\u001b[1;32m    331\u001b[0m \u001b[38;5;66;03m# Create the decision variable dictionary\u001b[39;00m\n\u001b[1;32m    332\u001b[0m x \u001b[38;5;241m=\u001b[39m LpVariable\u001b[38;5;241m.\u001b[39mdicts(\u001b[38;5;124m\"\u001b[39m\u001b[38;5;124mRoute\u001b[39m\u001b[38;5;124m\"\u001b[39m, products, \u001b[38;5;241m0\u001b[39m, \u001b[38;5;28;01mNone\u001b[39;00m, cat\u001b[38;5;241m=\u001b[39mLpInteger)\n",
      "File \u001b[0;32m~/Documents/Job/City_Optimizer/general/blocksnet/method/provision.py:328\u001b[0m, in \u001b[0;36m<listcomp>\u001b[0;34m(.0)\u001b[0m\n\u001b[1;32m    322\u001b[0m prob \u001b[38;5;241m=\u001b[39m LpProblem(\u001b[38;5;124m\"\u001b[39m\u001b[38;5;124mProvision\u001b[39m\u001b[38;5;124m\"\u001b[39m, LpMaximize)\n\u001b[1;32m    323\u001b[0m \u001b[38;5;66;03m# Precompute distance and filter products\u001b[39;00m\n\u001b[1;32m    324\u001b[0m products \u001b[38;5;241m=\u001b[39m [\n\u001b[1;32m    325\u001b[0m     (i, j)\n\u001b[1;32m    326\u001b[0m     \u001b[38;5;28;01mfor\u001b[39;00m i \u001b[38;5;129;01min\u001b[39;00m demand\u001b[38;5;241m.\u001b[39mindex\n\u001b[1;32m    327\u001b[0m     \u001b[38;5;28;01mfor\u001b[39;00m j \u001b[38;5;129;01min\u001b[39;00m capacity\u001b[38;5;241m.\u001b[39mindex\n\u001b[0;32m--> 328\u001b[0m     \u001b[38;5;28;01mif\u001b[39;00m \u001b[43m_get_distance\u001b[49m\u001b[43m(\u001b[49m\u001b[43mi\u001b[49m\u001b[43m,\u001b[49m\u001b[43m \u001b[49m\u001b[43mj\u001b[49m\u001b[43m)\u001b[49m \u001b[38;5;241m<\u001b[39m\u001b[38;5;241m=\u001b[39m selection_range  \u001b[38;5;66;03m# service_type.accessibility * 2\u001b[39;00m\n\u001b[1;32m    329\u001b[0m ]\n\u001b[1;32m    331\u001b[0m \u001b[38;5;66;03m# Create the decision variable dictionary\u001b[39;00m\n\u001b[1;32m    332\u001b[0m x \u001b[38;5;241m=\u001b[39m LpVariable\u001b[38;5;241m.\u001b[39mdicts(\u001b[38;5;124m\"\u001b[39m\u001b[38;5;124mRoute\u001b[39m\u001b[38;5;124m\"\u001b[39m, products, \u001b[38;5;241m0\u001b[39m, \u001b[38;5;28;01mNone\u001b[39;00m, cat\u001b[38;5;241m=\u001b[39mLpInteger)\n",
      "File \u001b[0;32m~/Documents/Job/City_Optimizer/general/blocksnet/method/provision.py:307\u001b[0m, in \u001b[0;36mProvision._lp_provision.<locals>._get_distance\u001b[0;34m(id1, id2)\u001b[0m\n\u001b[1;32m    306\u001b[0m \u001b[38;5;28;01mdef\u001b[39;00m \u001b[38;5;21m_get_distance\u001b[39m(id1: \u001b[38;5;28mint\u001b[39m, id2: \u001b[38;5;28mint\u001b[39m):\n\u001b[0;32m--> 307\u001b[0m     distance \u001b[38;5;241m=\u001b[39m \u001b[38;5;28;43mself\u001b[39;49m\u001b[38;5;241;43m.\u001b[39;49m\u001b[43mcity_model\u001b[49m\u001b[38;5;241;43m.\u001b[39;49m\u001b[43maccessibility_matrix\u001b[49m\u001b[38;5;241m.\u001b[39mloc[id1, id2]\n\u001b[1;32m    308\u001b[0m     \u001b[38;5;28;01mreturn\u001b[39;00m distance \u001b[38;5;28;01mif\u001b[39;00m distance \u001b[38;5;241m>\u001b[39m \u001b[38;5;241m1\u001b[39m \u001b[38;5;28;01melse\u001b[39;00m \u001b[38;5;241m1\u001b[39m\n",
      "\u001b[0;31mAttributeError\u001b[0m: 'City' object has no attribute 'accessibility_matrix'"
     ]
    },
    {
     "name": "stderr",
     "output_type": "stream",
     "text": [
      "Value : 0.002:   0%|          | 19/10000 [00:19<14:41, 11.33it/s]"
     ]
    }
   ],
   "source": [
    "import random\n",
    "from blocksnet import LandUse\n",
    "from blocksnet.method.annealing_optimizer import LU_FSIS, LU_GSIS\n",
    "\n",
    "ao = AnnealingOptimizer(city_model=city)\n",
    "blocks_lu = {block.id : random.choice(list(LandUse)) for block in city.blocks}\n",
    "blocks_fsi = {b_id : LU_FSIS[lu][0] for b_id, lu in blocks_lu.items()}\n",
    "blocks_gsi = {b_id : LU_GSIS[lu][0] for b_id, lu in blocks_lu.items()}\n",
    "service_types = {st.name : 1/len(city.service_types) for st in city.service_types}\n",
    "X, indicators, value, provisions = ao.calculate(blocks_lu, blocks_fsi, blocks_gsi, service_types, rate=0.95, max_iter=10_000)"
   ]
  },
  {
   "cell_type": "code",
   "execution_count": 15,
   "metadata": {},
   "outputs": [
    {
     "name": "stdout",
     "output_type": "stream",
     "text": [
      "Best objective value: 0.46475854673870937\n"
     ]
    }
   ],
   "source": [
    "print('Best objective value:', value)"
   ]
  },
  {
   "cell_type": "code",
   "execution_count": 16,
   "metadata": {},
   "outputs": [
    {
     "data": {
      "text/plain": [
       "{'school': 0.68,\n",
       " 'kindergarten': 0.22,\n",
       " 'hospital': 1.0,\n",
       " 'polyclinic': 0.34,\n",
       " 'pitch': 0.0,\n",
       " 'swimming_pool': 0.95,\n",
       " 'stadium': 1.0,\n",
       " 'theatre': 1.0,\n",
       " 'museum': 1.0,\n",
       " 'cinema': 1.0,\n",
       " 'mall': 0.88,\n",
       " 'convenience': 0.18,\n",
       " 'supermarket': 0.5,\n",
       " 'cemetery': 0.0,\n",
       " 'religion': 1.0,\n",
       " 'market': 0.84,\n",
       " 'bowling_alley': 1.0,\n",
       " 'university': 1.0,\n",
       " 'playground': 0.09,\n",
       " 'pharmacy': 0.79,\n",
       " 'fuel': 0.5,\n",
       " 'beach': 0.0,\n",
       " 'train_building': 1.0,\n",
       " 'bank': 0.51,\n",
       " 'lawyer': 0.88,\n",
       " 'cafe': 0.34,\n",
       " 'subway_entrance': 0.45,\n",
       " 'multifunctional_center': 0.03,\n",
       " 'hairdresser': 0.47,\n",
       " 'restaurant': 0.69,\n",
       " 'bar': 0.46,\n",
       " 'park': 0.0,\n",
       " 'government': 1.0,\n",
       " 'recruitment': 1.0,\n",
       " 'hotel': 1.0,\n",
       " 'zoo': 0.0,\n",
       " 'circus': 0.0,\n",
       " 'post': 0.13,\n",
       " 'police': 0.0,\n",
       " 'dog_park': 0.65,\n",
       " 'hostel': 0.34,\n",
       " 'bakery': 0.5,\n",
       " 'parking': 0.02,\n",
       " 'guest_house': 0.0,\n",
       " 'reserve': 0.0,\n",
       " 'sanatorium': 1.0,\n",
       " 'embankment': 0.0,\n",
       " 'machine-building_plant': 1.0,\n",
       " 'brewery': 0.29,\n",
       " 'woodworking_plant': 1.0,\n",
       " 'oil_refinery': 0.0,\n",
       " 'plant_of_building_materials': 0.79,\n",
       " 'wastewater_plant': 0.0,\n",
       " 'water_works': 0.0,\n",
       " 'substation': 0,\n",
       " 'train_station': 0.24,\n",
       " 'bus_station': 0.26,\n",
       " 'bus_stop': 0.07,\n",
       " 'pier': 1.0,\n",
       " 'animal_shelter': 0.07,\n",
       " 'military_kom': 1.0,\n",
       " 'prison': 0.0,\n",
       " 'landfill': 0.0,\n",
       " 'plant_nursery': 0.0,\n",
       " 'greenhouse_complex': 0.0,\n",
       " 'warehouse': 0.5}"
      ]
     },
     "execution_count": 16,
     "metadata": {},
     "output_type": "execute_result"
    }
   ],
   "source": [
    "{st : round(value,2)  for st,value in provisions.items()}"
   ]
  },
  {
   "cell_type": "code",
   "execution_count": 17,
   "metadata": {},
   "outputs": [
    {
     "data": {
      "text/html": [
       "<div>\n",
       "<style scoped>\n",
       "    .dataframe tbody tr th:only-of-type {\n",
       "        vertical-align: middle;\n",
       "    }\n",
       "\n",
       "    .dataframe tbody tr th {\n",
       "        vertical-align: top;\n",
       "    }\n",
       "\n",
       "    .dataframe thead th {\n",
       "        text-align: right;\n",
       "    }\n",
       "</style>\n",
       "<table border=\"1\" class=\"dataframe\">\n",
       "  <thead>\n",
       "    <tr style=\"text-align: right;\">\n",
       "      <th></th>\n",
       "      <th>block_id</th>\n",
       "      <th>service_type</th>\n",
       "      <th>is_integrated</th>\n",
       "      <th>area</th>\n",
       "      <th>capacity</th>\n",
       "      <th>count</th>\n",
       "    </tr>\n",
       "  </thead>\n",
       "  <tbody>\n",
       "    <tr>\n",
       "      <th>4</th>\n",
       "      <td>39</td>\n",
       "      <td>polyclinic</td>\n",
       "      <td>False</td>\n",
       "      <td>1400.0</td>\n",
       "      <td>150</td>\n",
       "      <td>1</td>\n",
       "    </tr>\n",
       "    <tr>\n",
       "      <th>28</th>\n",
       "      <td>39</td>\n",
       "      <td>parking</td>\n",
       "      <td>False</td>\n",
       "      <td>4750.0</td>\n",
       "      <td>190</td>\n",
       "      <td>1</td>\n",
       "    </tr>\n",
       "    <tr>\n",
       "      <th>58</th>\n",
       "      <td>39</td>\n",
       "      <td>market</td>\n",
       "      <td>False</td>\n",
       "      <td>6000.0</td>\n",
       "      <td>8000</td>\n",
       "      <td>1</td>\n",
       "    </tr>\n",
       "    <tr>\n",
       "      <th>82</th>\n",
       "      <td>39</td>\n",
       "      <td>school</td>\n",
       "      <td>False</td>\n",
       "      <td>4000.0</td>\n",
       "      <td>300</td>\n",
       "      <td>1</td>\n",
       "    </tr>\n",
       "    <tr>\n",
       "      <th>96</th>\n",
       "      <td>39</td>\n",
       "      <td>museum</td>\n",
       "      <td>True</td>\n",
       "      <td>1300.0</td>\n",
       "      <td>1000</td>\n",
       "      <td>1</td>\n",
       "    </tr>\n",
       "  </tbody>\n",
       "</table>\n",
       "</div>"
      ],
      "text/plain": [
       "    block_id service_type  is_integrated    area  capacity  count\n",
       "4         39   polyclinic          False  1400.0       150      1\n",
       "28        39      parking          False  4750.0       190      1\n",
       "58        39       market          False  6000.0      8000      1\n",
       "82        39       school          False  4000.0       300      1\n",
       "96        39       museum           True  1300.0      1000      1"
      ]
     },
     "execution_count": 17,
     "metadata": {},
     "output_type": "execute_result"
    }
   ],
   "source": [
    "ao.to_bricks_df(X).head()"
   ]
  },
  {
   "cell_type": "code",
   "execution_count": 18,
   "metadata": {},
   "outputs": [
    {
     "data": {
      "text/html": [
       "<div>\n",
       "<style scoped>\n",
       "    .dataframe tbody tr th:only-of-type {\n",
       "        vertical-align: middle;\n",
       "    }\n",
       "\n",
       "    .dataframe tbody tr th {\n",
       "        vertical-align: top;\n",
       "    }\n",
       "\n",
       "    .dataframe thead th {\n",
       "        text-align: right;\n",
       "    }\n",
       "</style>\n",
       "<table border=\"1\" class=\"dataframe\">\n",
       "  <thead>\n",
       "    <tr style=\"text-align: right;\">\n",
       "      <th></th>\n",
       "      <th>population</th>\n",
       "      <th>mall</th>\n",
       "      <th>plant_of_building_materials</th>\n",
       "      <th>polyclinic</th>\n",
       "      <th>playground</th>\n",
       "      <th>post</th>\n",
       "      <th>pier</th>\n",
       "      <th>landfill</th>\n",
       "      <th>kindergarten</th>\n",
       "      <th>animal_shelter</th>\n",
       "      <th>...</th>\n",
       "      <th>greenhouse_complex</th>\n",
       "      <th>reserve</th>\n",
       "      <th>bar</th>\n",
       "      <th>oil_refinery</th>\n",
       "      <th>bakery</th>\n",
       "      <th>multifunctional_center</th>\n",
       "      <th>embankment</th>\n",
       "      <th>hostel</th>\n",
       "      <th>geometry</th>\n",
       "      <th>land_use</th>\n",
       "    </tr>\n",
       "    <tr>\n",
       "      <th>block_id</th>\n",
       "      <th></th>\n",
       "      <th></th>\n",
       "      <th></th>\n",
       "      <th></th>\n",
       "      <th></th>\n",
       "      <th></th>\n",
       "      <th></th>\n",
       "      <th></th>\n",
       "      <th></th>\n",
       "      <th></th>\n",
       "      <th></th>\n",
       "      <th></th>\n",
       "      <th></th>\n",
       "      <th></th>\n",
       "      <th></th>\n",
       "      <th></th>\n",
       "      <th></th>\n",
       "      <th></th>\n",
       "      <th></th>\n",
       "      <th></th>\n",
       "      <th></th>\n",
       "    </tr>\n",
       "  </thead>\n",
       "  <tbody>\n",
       "    <tr>\n",
       "      <th>39</th>\n",
       "      <td>1472</td>\n",
       "      <td>0.0</td>\n",
       "      <td>0.0</td>\n",
       "      <td>150.0</td>\n",
       "      <td>0.0</td>\n",
       "      <td>0.0</td>\n",
       "      <td>0.0</td>\n",
       "      <td>0.0</td>\n",
       "      <td>0.0</td>\n",
       "      <td>0.0</td>\n",
       "      <td>...</td>\n",
       "      <td>0.0</td>\n",
       "      <td>0.0</td>\n",
       "      <td>0.0</td>\n",
       "      <td>0.0</td>\n",
       "      <td>0.0</td>\n",
       "      <td>0.0</td>\n",
       "      <td>0.0</td>\n",
       "      <td>0.0</td>\n",
       "      <td>POLYGON ((352493.392 6644174.577, 352480.316 6...</td>\n",
       "      <td>residential</td>\n",
       "    </tr>\n",
       "    <tr>\n",
       "      <th>40</th>\n",
       "      <td>0</td>\n",
       "      <td>0.0</td>\n",
       "      <td>0.0</td>\n",
       "      <td>0.0</td>\n",
       "      <td>0.0</td>\n",
       "      <td>0.0</td>\n",
       "      <td>0.0</td>\n",
       "      <td>0.0</td>\n",
       "      <td>0.0</td>\n",
       "      <td>0.0</td>\n",
       "      <td>...</td>\n",
       "      <td>0.0</td>\n",
       "      <td>0.0</td>\n",
       "      <td>0.0</td>\n",
       "      <td>0.0</td>\n",
       "      <td>0.0</td>\n",
       "      <td>0.0</td>\n",
       "      <td>0.0</td>\n",
       "      <td>0.0</td>\n",
       "      <td>POLYGON ((352846.893 6643739.658, 352854.917 6...</td>\n",
       "      <td>transport</td>\n",
       "    </tr>\n",
       "    <tr>\n",
       "      <th>41</th>\n",
       "      <td>0</td>\n",
       "      <td>0.0</td>\n",
       "      <td>0.0</td>\n",
       "      <td>0.0</td>\n",
       "      <td>0.0</td>\n",
       "      <td>0.0</td>\n",
       "      <td>0.0</td>\n",
       "      <td>0.0</td>\n",
       "      <td>0.0</td>\n",
       "      <td>0.0</td>\n",
       "      <td>...</td>\n",
       "      <td>0.0</td>\n",
       "      <td>0.0</td>\n",
       "      <td>0.0</td>\n",
       "      <td>0.0</td>\n",
       "      <td>0.0</td>\n",
       "      <td>0.0</td>\n",
       "      <td>0.0</td>\n",
       "      <td>0.0</td>\n",
       "      <td>POLYGON ((352713.398 6643353.609, 352656.125 6...</td>\n",
       "      <td>business</td>\n",
       "    </tr>\n",
       "    <tr>\n",
       "      <th>42</th>\n",
       "      <td>0</td>\n",
       "      <td>0.0</td>\n",
       "      <td>0.0</td>\n",
       "      <td>0.0</td>\n",
       "      <td>0.0</td>\n",
       "      <td>0.0</td>\n",
       "      <td>0.0</td>\n",
       "      <td>0.0</td>\n",
       "      <td>0.0</td>\n",
       "      <td>0.0</td>\n",
       "      <td>...</td>\n",
       "      <td>0.0</td>\n",
       "      <td>0.0</td>\n",
       "      <td>0.0</td>\n",
       "      <td>0.0</td>\n",
       "      <td>0.0</td>\n",
       "      <td>0.0</td>\n",
       "      <td>0.0</td>\n",
       "      <td>0.0</td>\n",
       "      <td>POLYGON ((352661.968 6643879.720, 352637.303 6...</td>\n",
       "      <td>transport</td>\n",
       "    </tr>\n",
       "    <tr>\n",
       "      <th>43</th>\n",
       "      <td>0</td>\n",
       "      <td>0.0</td>\n",
       "      <td>0.0</td>\n",
       "      <td>0.0</td>\n",
       "      <td>0.0</td>\n",
       "      <td>800.0</td>\n",
       "      <td>0.0</td>\n",
       "      <td>0.0</td>\n",
       "      <td>0.0</td>\n",
       "      <td>0.0</td>\n",
       "      <td>...</td>\n",
       "      <td>0.0</td>\n",
       "      <td>0.0</td>\n",
       "      <td>0.0</td>\n",
       "      <td>0.0</td>\n",
       "      <td>0.0</td>\n",
       "      <td>0.0</td>\n",
       "      <td>0.0</td>\n",
       "      <td>0.0</td>\n",
       "      <td>POLYGON ((353921.529 6644728.862, 353829.106 6...</td>\n",
       "      <td>recreation</td>\n",
       "    </tr>\n",
       "  </tbody>\n",
       "</table>\n",
       "<p>5 rows × 69 columns</p>\n",
       "</div>"
      ],
      "text/plain": [
       "          population  mall  plant_of_building_materials  polyclinic  \\\n",
       "block_id                                                              \n",
       "39              1472   0.0                          0.0       150.0   \n",
       "40                 0   0.0                          0.0         0.0   \n",
       "41                 0   0.0                          0.0         0.0   \n",
       "42                 0   0.0                          0.0         0.0   \n",
       "43                 0   0.0                          0.0         0.0   \n",
       "\n",
       "          playground   post  pier  landfill  kindergarten  animal_shelter  \\\n",
       "block_id                                                                    \n",
       "39               0.0    0.0   0.0       0.0           0.0             0.0   \n",
       "40               0.0    0.0   0.0       0.0           0.0             0.0   \n",
       "41               0.0    0.0   0.0       0.0           0.0             0.0   \n",
       "42               0.0    0.0   0.0       0.0           0.0             0.0   \n",
       "43               0.0  800.0   0.0       0.0           0.0             0.0   \n",
       "\n",
       "          ...  greenhouse_complex  reserve  bar  oil_refinery  bakery  \\\n",
       "block_id  ...                                                           \n",
       "39        ...                 0.0      0.0  0.0           0.0     0.0   \n",
       "40        ...                 0.0      0.0  0.0           0.0     0.0   \n",
       "41        ...                 0.0      0.0  0.0           0.0     0.0   \n",
       "42        ...                 0.0      0.0  0.0           0.0     0.0   \n",
       "43        ...                 0.0      0.0  0.0           0.0     0.0   \n",
       "\n",
       "          multifunctional_center  embankment  hostel  \\\n",
       "block_id                                               \n",
       "39                           0.0         0.0     0.0   \n",
       "40                           0.0         0.0     0.0   \n",
       "41                           0.0         0.0     0.0   \n",
       "42                           0.0         0.0     0.0   \n",
       "43                           0.0         0.0     0.0   \n",
       "\n",
       "                                                   geometry     land_use  \n",
       "block_id                                                                  \n",
       "39        POLYGON ((352493.392 6644174.577, 352480.316 6...  residential  \n",
       "40        POLYGON ((352846.893 6643739.658, 352854.917 6...    transport  \n",
       "41        POLYGON ((352713.398 6643353.609, 352656.125 6...     business  \n",
       "42        POLYGON ((352661.968 6643879.720, 352637.303 6...    transport  \n",
       "43        POLYGON ((353921.529 6644728.862, 353829.106 6...   recreation  \n",
       "\n",
       "[5 rows x 69 columns]"
      ]
     },
     "execution_count": 18,
     "metadata": {},
     "output_type": "execute_result"
    }
   ],
   "source": [
    "ao.to_gdf(X, indicators).head()"
   ]
  }
 ],
 "metadata": {
  "kernelspec": {
   "display_name": "Python 3.10.12 ('.venv': venv)",
   "language": "python",
   "name": "python3"
  },
  "language_info": {
   "codemirror_mode": {
    "name": "ipython",
    "version": 3
   },
   "file_extension": ".py",
   "mimetype": "text/x-python",
   "name": "python",
   "nbconvert_exporter": "python",
   "pygments_lexer": "ipython3",
   "version": "3.10.16"
  },
  "vscode": {
   "interpreter": {
    "hash": "10a17c1b6daec4f71e1a6be0c0f3dce45cab57590679db625cc1c5fc73cbfc9f"
   }
  }
 },
 "nbformat": 4,
 "nbformat_minor": 2
}
