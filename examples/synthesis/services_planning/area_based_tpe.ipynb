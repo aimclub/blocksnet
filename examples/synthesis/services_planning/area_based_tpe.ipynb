{
 "cells": [
  {
   "cell_type": "markdown",
   "metadata": {},
   "source": [
    "# Services planning"
   ]
  },
  {
   "cell_type": "code",
   "execution_count": 1,
   "metadata": {},
   "outputs": [
    {
     "data": {
      "text/html": [
       "<div>\n",
       "<style scoped>\n",
       "    .dataframe tbody tr th:only-of-type {\n",
       "        vertical-align: middle;\n",
       "    }\n",
       "\n",
       "    .dataframe tbody tr th {\n",
       "        vertical-align: top;\n",
       "    }\n",
       "\n",
       "    .dataframe thead th {\n",
       "        text-align: right;\n",
       "    }\n",
       "</style>\n",
       "<table border=\"1\" class=\"dataframe\">\n",
       "  <thead>\n",
       "    <tr style=\"text-align: right;\">\n",
       "      <th></th>\n",
       "      <th>geometry</th>\n",
       "      <th>population</th>\n",
       "      <th>site_area</th>\n",
       "      <th>land_use</th>\n",
       "      <th>is_project</th>\n",
       "      <th>capacity_bakery</th>\n",
       "      <th>capacity_bank</th>\n",
       "      <th>capacity_bar</th>\n",
       "      <th>capacity_cafe</th>\n",
       "      <th>capacity_dog_park</th>\n",
       "      <th>...</th>\n",
       "      <th>capacity_polyclinic</th>\n",
       "      <th>capacity_religion</th>\n",
       "      <th>capacity_restaurant</th>\n",
       "      <th>capacity_school</th>\n",
       "      <th>capacity_stadium</th>\n",
       "      <th>capacity_supermarket</th>\n",
       "      <th>capacity_swimming_pool</th>\n",
       "      <th>capacity_train_station</th>\n",
       "      <th>capacity_university</th>\n",
       "      <th>capacity_veterinary</th>\n",
       "    </tr>\n",
       "  </thead>\n",
       "  <tbody>\n",
       "    <tr>\n",
       "      <th>0</th>\n",
       "      <td>POLYGON ((388726.347 6637020.627, 388713.674 6...</td>\n",
       "      <td>2.0</td>\n",
       "      <td>2.127981e+07</td>\n",
       "      <td>None</td>\n",
       "      <td>NaN</td>\n",
       "      <td>0.0</td>\n",
       "      <td>0.0</td>\n",
       "      <td>0.0</td>\n",
       "      <td>0.0</td>\n",
       "      <td>0.0</td>\n",
       "      <td>...</td>\n",
       "      <td>0</td>\n",
       "      <td>0.0</td>\n",
       "      <td>0.0</td>\n",
       "      <td>0</td>\n",
       "      <td>0.0</td>\n",
       "      <td>0.0</td>\n",
       "      <td>0.0</td>\n",
       "      <td>0.0</td>\n",
       "      <td>0.0</td>\n",
       "      <td>0.0</td>\n",
       "    </tr>\n",
       "    <tr>\n",
       "      <th>1</th>\n",
       "      <td>POLYGON ((388713.674 6637030.346, 388726.347 6...</td>\n",
       "      <td>0.0</td>\n",
       "      <td>5.171425e+01</td>\n",
       "      <td>None</td>\n",
       "      <td>NaN</td>\n",
       "      <td>0.0</td>\n",
       "      <td>0.0</td>\n",
       "      <td>0.0</td>\n",
       "      <td>0.0</td>\n",
       "      <td>0.0</td>\n",
       "      <td>...</td>\n",
       "      <td>0</td>\n",
       "      <td>0.0</td>\n",
       "      <td>0.0</td>\n",
       "      <td>0</td>\n",
       "      <td>0.0</td>\n",
       "      <td>0.0</td>\n",
       "      <td>0.0</td>\n",
       "      <td>0.0</td>\n",
       "      <td>0.0</td>\n",
       "      <td>0.0</td>\n",
       "    </tr>\n",
       "    <tr>\n",
       "      <th>2</th>\n",
       "      <td>POLYGON ((374726.595 6642638.322, 374534.487 6...</td>\n",
       "      <td>491.0</td>\n",
       "      <td>7.593088e+07</td>\n",
       "      <td>None</td>\n",
       "      <td>NaN</td>\n",
       "      <td>0.0</td>\n",
       "      <td>0.0</td>\n",
       "      <td>0.0</td>\n",
       "      <td>500.0</td>\n",
       "      <td>0.0</td>\n",
       "      <td>...</td>\n",
       "      <td>0</td>\n",
       "      <td>0.0</td>\n",
       "      <td>0.0</td>\n",
       "      <td>0</td>\n",
       "      <td>0.0</td>\n",
       "      <td>0.0</td>\n",
       "      <td>0.0</td>\n",
       "      <td>0.0</td>\n",
       "      <td>120.0</td>\n",
       "      <td>0.0</td>\n",
       "    </tr>\n",
       "  </tbody>\n",
       "</table>\n",
       "<p>3 rows × 33 columns</p>\n",
       "</div>"
      ],
      "text/plain": [
       "                                            geometry  population  \\\n",
       "0  POLYGON ((388726.347 6637020.627, 388713.674 6...         2.0   \n",
       "1  POLYGON ((388713.674 6637030.346, 388726.347 6...         0.0   \n",
       "2  POLYGON ((374726.595 6642638.322, 374534.487 6...       491.0   \n",
       "\n",
       "      site_area land_use is_project  capacity_bakery  capacity_bank  \\\n",
       "0  2.127981e+07     None        NaN              0.0            0.0   \n",
       "1  5.171425e+01     None        NaN              0.0            0.0   \n",
       "2  7.593088e+07     None        NaN              0.0            0.0   \n",
       "\n",
       "   capacity_bar  capacity_cafe  capacity_dog_park  ...  capacity_polyclinic  \\\n",
       "0           0.0            0.0                0.0  ...                    0   \n",
       "1           0.0            0.0                0.0  ...                    0   \n",
       "2           0.0          500.0                0.0  ...                    0   \n",
       "\n",
       "   capacity_religion  capacity_restaurant  capacity_school  capacity_stadium  \\\n",
       "0                0.0                  0.0                0               0.0   \n",
       "1                0.0                  0.0                0               0.0   \n",
       "2                0.0                  0.0                0               0.0   \n",
       "\n",
       "   capacity_supermarket  capacity_swimming_pool  capacity_train_station  \\\n",
       "0                   0.0                     0.0                     0.0   \n",
       "1                   0.0                     0.0                     0.0   \n",
       "2                   0.0                     0.0                     0.0   \n",
       "\n",
       "   capacity_university  capacity_veterinary  \n",
       "0                  0.0                  0.0  \n",
       "1                  0.0                  0.0  \n",
       "2                120.0                  0.0  \n",
       "\n",
       "[3 rows x 33 columns]"
      ]
     },
     "execution_count": 1,
     "metadata": {},
     "output_type": "execute_result"
    }
   ],
   "source": [
    "import pandas as pd\n",
    "\n",
    "blocks = pd.read_pickle('./blocks.pickle')\n",
    "columns = [c for c in blocks.columns if 'capacity_' in c]\n",
    "blocks = blocks[['geometry', 'population', 'site_area', 'land_use', 'is_project', *columns]].copy()\n",
    "blocks.head(3)"
   ]
  },
  {
   "cell_type": "code",
   "execution_count": 2,
   "metadata": {},
   "outputs": [
    {
     "name": "stderr",
     "output_type": "stream",
     "text": [
      "/home/vasilstar/masterplanning/.venv/lib/python3.10/site-packages/pandas/io/formats/format.py:1458: RuntimeWarning: overflow encountered in cast\n",
      "  has_large_values = (abs_vals > 1e6).any()\n"
     ]
    },
    {
     "data": {
      "application/vnd.microsoft.datawrangler.viewer.v0+json": {
       "columns": [
        {
         "name": "index",
         "rawType": "int64",
         "type": "integer"
        },
        {
         "name": "0",
         "rawType": "float16",
         "type": "float"
        },
        {
         "name": "1",
         "rawType": "float16",
         "type": "float"
        },
        {
         "name": "2",
         "rawType": "float16",
         "type": "float"
        },
        {
         "name": "3",
         "rawType": "float16",
         "type": "float"
        },
        {
         "name": "4",
         "rawType": "float16",
         "type": "float"
        },
        {
         "name": "5",
         "rawType": "float16",
         "type": "float"
        },
        {
         "name": "6",
         "rawType": "float16",
         "type": "float"
        },
        {
         "name": "7",
         "rawType": "float16",
         "type": "float"
        },
        {
         "name": "8",
         "rawType": "float16",
         "type": "float"
        },
        {
         "name": "9",
         "rawType": "float16",
         "type": "float"
        },
        {
         "name": "10",
         "rawType": "float16",
         "type": "float"
        },
        {
         "name": "11",
         "rawType": "float16",
         "type": "float"
        },
        {
         "name": "12",
         "rawType": "float16",
         "type": "float"
        },
        {
         "name": "13",
         "rawType": "float16",
         "type": "float"
        },
        {
         "name": "14",
         "rawType": "float16",
         "type": "float"
        },
        {
         "name": "15",
         "rawType": "float16",
         "type": "float"
        },
        {
         "name": "16",
         "rawType": "float16",
         "type": "float"
        },
        {
         "name": "17",
         "rawType": "float16",
         "type": "float"
        },
        {
         "name": "18",
         "rawType": "float16",
         "type": "float"
        },
        {
         "name": "19",
         "rawType": "float16",
         "type": "float"
        },
        {
         "name": "20",
         "rawType": "float16",
         "type": "float"
        },
        {
         "name": "21",
         "rawType": "float16",
         "type": "float"
        },
        {
         "name": "22",
         "rawType": "float16",
         "type": "float"
        },
        {
         "name": "23",
         "rawType": "float16",
         "type": "float"
        },
        {
         "name": "24",
         "rawType": "float16",
         "type": "float"
        },
        {
         "name": "25",
         "rawType": "float16",
         "type": "float"
        },
        {
         "name": "26",
         "rawType": "float16",
         "type": "float"
        },
        {
         "name": "27",
         "rawType": "float16",
         "type": "float"
        },
        {
         "name": "28",
         "rawType": "float16",
         "type": "float"
        },
        {
         "name": "29",
         "rawType": "float16",
         "type": "float"
        },
        {
         "name": "30",
         "rawType": "float16",
         "type": "float"
        },
        {
         "name": "31",
         "rawType": "float16",
         "type": "float"
        },
        {
         "name": "32",
         "rawType": "float16",
         "type": "float"
        },
        {
         "name": "33",
         "rawType": "float16",
         "type": "float"
        },
        {
         "name": "34",
         "rawType": "float16",
         "type": "float"
        },
        {
         "name": "35",
         "rawType": "float16",
         "type": "float"
        },
        {
         "name": "36",
         "rawType": "float16",
         "type": "float"
        },
        {
         "name": "37",
         "rawType": "float16",
         "type": "float"
        },
        {
         "name": "38",
         "rawType": "float16",
         "type": "float"
        },
        {
         "name": "39",
         "rawType": "float16",
         "type": "float"
        },
        {
         "name": "40",
         "rawType": "float16",
         "type": "float"
        },
        {
         "name": "41",
         "rawType": "float16",
         "type": "float"
        },
        {
         "name": "42",
         "rawType": "float16",
         "type": "float"
        },
        {
         "name": "43",
         "rawType": "float16",
         "type": "float"
        },
        {
         "name": "44",
         "rawType": "float16",
         "type": "float"
        },
        {
         "name": "45",
         "rawType": "float16",
         "type": "float"
        },
        {
         "name": "46",
         "rawType": "float16",
         "type": "float"
        },
        {
         "name": "47",
         "rawType": "float16",
         "type": "float"
        },
        {
         "name": "48",
         "rawType": "float16",
         "type": "float"
        },
        {
         "name": "49",
         "rawType": "float16",
         "type": "float"
        },
        {
         "name": "50",
         "rawType": "float16",
         "type": "float"
        },
        {
         "name": "51",
         "rawType": "float16",
         "type": "float"
        },
        {
         "name": "52",
         "rawType": "float16",
         "type": "float"
        },
        {
         "name": "53",
         "rawType": "float16",
         "type": "float"
        },
        {
         "name": "54",
         "rawType": "float16",
         "type": "float"
        },
        {
         "name": "55",
         "rawType": "float16",
         "type": "float"
        },
        {
         "name": "56",
         "rawType": "float16",
         "type": "float"
        },
        {
         "name": "57",
         "rawType": "float16",
         "type": "float"
        },
        {
         "name": "58",
         "rawType": "float16",
         "type": "float"
        },
        {
         "name": "59",
         "rawType": "float16",
         "type": "float"
        },
        {
         "name": "60",
         "rawType": "float16",
         "type": "float"
        },
        {
         "name": "61",
         "rawType": "float16",
         "type": "float"
        },
        {
         "name": "62",
         "rawType": "float16",
         "type": "float"
        },
        {
         "name": "63",
         "rawType": "float16",
         "type": "float"
        },
        {
         "name": "64",
         "rawType": "float16",
         "type": "float"
        },
        {
         "name": "65",
         "rawType": "float16",
         "type": "float"
        },
        {
         "name": "66",
         "rawType": "float16",
         "type": "float"
        },
        {
         "name": "67",
         "rawType": "float16",
         "type": "float"
        },
        {
         "name": "68",
         "rawType": "float16",
         "type": "float"
        },
        {
         "name": "69",
         "rawType": "float16",
         "type": "float"
        },
        {
         "name": "70",
         "rawType": "float16",
         "type": "float"
        },
        {
         "name": "71",
         "rawType": "float16",
         "type": "float"
        },
        {
         "name": "72",
         "rawType": "float16",
         "type": "float"
        },
        {
         "name": "73",
         "rawType": "float16",
         "type": "float"
        },
        {
         "name": "74",
         "rawType": "float16",
         "type": "float"
        },
        {
         "name": "75",
         "rawType": "float16",
         "type": "float"
        },
        {
         "name": "76",
         "rawType": "float16",
         "type": "float"
        },
        {
         "name": "77",
         "rawType": "float16",
         "type": "float"
        },
        {
         "name": "78",
         "rawType": "float16",
         "type": "float"
        },
        {
         "name": "79",
         "rawType": "float16",
         "type": "float"
        },
        {
         "name": "80",
         "rawType": "float16",
         "type": "float"
        },
        {
         "name": "81",
         "rawType": "float16",
         "type": "float"
        },
        {
         "name": "82",
         "rawType": "float16",
         "type": "float"
        },
        {
         "name": "83",
         "rawType": "float16",
         "type": "float"
        },
        {
         "name": "84",
         "rawType": "float16",
         "type": "float"
        },
        {
         "name": "85",
         "rawType": "float16",
         "type": "float"
        },
        {
         "name": "86",
         "rawType": "float16",
         "type": "float"
        },
        {
         "name": "87",
         "rawType": "float16",
         "type": "float"
        },
        {
         "name": "88",
         "rawType": "float16",
         "type": "float"
        },
        {
         "name": "89",
         "rawType": "float16",
         "type": "float"
        },
        {
         "name": "90",
         "rawType": "float16",
         "type": "float"
        },
        {
         "name": "91",
         "rawType": "float16",
         "type": "float"
        },
        {
         "name": "92",
         "rawType": "float16",
         "type": "float"
        },
        {
         "name": "93",
         "rawType": "float16",
         "type": "float"
        },
        {
         "name": "94",
         "rawType": "float16",
         "type": "float"
        },
        {
         "name": "95",
         "rawType": "float16",
         "type": "float"
        },
        {
         "name": "96",
         "rawType": "float16",
         "type": "float"
        },
        {
         "name": "97",
         "rawType": "float16",
         "type": "float"
        },
        {
         "name": "98",
         "rawType": "float16",
         "type": "float"
        },
        {
         "name": "99",
         "rawType": "float16",
         "type": "float"
        },
        {
         "name": "100",
         "rawType": "float16",
         "type": "float"
        },
        {
         "name": "101",
         "rawType": "float16",
         "type": "float"
        },
        {
         "name": "102",
         "rawType": "float16",
         "type": "float"
        },
        {
         "name": "103",
         "rawType": "float16",
         "type": "float"
        },
        {
         "name": "104",
         "rawType": "float16",
         "type": "float"
        },
        {
         "name": "105",
         "rawType": "float16",
         "type": "float"
        },
        {
         "name": "106",
         "rawType": "float16",
         "type": "float"
        },
        {
         "name": "107",
         "rawType": "float16",
         "type": "float"
        },
        {
         "name": "108",
         "rawType": "float16",
         "type": "float"
        },
        {
         "name": "109",
         "rawType": "float16",
         "type": "float"
        },
        {
         "name": "110",
         "rawType": "float16",
         "type": "float"
        },
        {
         "name": "111",
         "rawType": "float16",
         "type": "float"
        },
        {
         "name": "112",
         "rawType": "float16",
         "type": "float"
        },
        {
         "name": "113",
         "rawType": "float16",
         "type": "float"
        },
        {
         "name": "114",
         "rawType": "float16",
         "type": "float"
        },
        {
         "name": "115",
         "rawType": "float16",
         "type": "float"
        },
        {
         "name": "116",
         "rawType": "float16",
         "type": "float"
        },
        {
         "name": "117",
         "rawType": "float16",
         "type": "float"
        },
        {
         "name": "118",
         "rawType": "float16",
         "type": "float"
        },
        {
         "name": "119",
         "rawType": "float16",
         "type": "float"
        },
        {
         "name": "120",
         "rawType": "float16",
         "type": "float"
        },
        {
         "name": "121",
         "rawType": "float16",
         "type": "float"
        },
        {
         "name": "122",
         "rawType": "float16",
         "type": "float"
        },
        {
         "name": "123",
         "rawType": "float16",
         "type": "float"
        },
        {
         "name": "124",
         "rawType": "float16",
         "type": "float"
        },
        {
         "name": "125",
         "rawType": "float16",
         "type": "float"
        },
        {
         "name": "126",
         "rawType": "float16",
         "type": "float"
        },
        {
         "name": "127",
         "rawType": "float16",
         "type": "float"
        },
        {
         "name": "128",
         "rawType": "float16",
         "type": "float"
        },
        {
         "name": "129",
         "rawType": "float16",
         "type": "float"
        },
        {
         "name": "130",
         "rawType": "float16",
         "type": "float"
        },
        {
         "name": "131",
         "rawType": "float16",
         "type": "float"
        },
        {
         "name": "132",
         "rawType": "float16",
         "type": "float"
        },
        {
         "name": "133",
         "rawType": "float16",
         "type": "float"
        },
        {
         "name": "134",
         "rawType": "float16",
         "type": "float"
        },
        {
         "name": "135",
         "rawType": "float16",
         "type": "float"
        },
        {
         "name": "136",
         "rawType": "float16",
         "type": "float"
        },
        {
         "name": "137",
         "rawType": "float16",
         "type": "float"
        },
        {
         "name": "138",
         "rawType": "float16",
         "type": "float"
        },
        {
         "name": "139",
         "rawType": "float16",
         "type": "float"
        },
        {
         "name": "140",
         "rawType": "float16",
         "type": "float"
        },
        {
         "name": "141",
         "rawType": "float16",
         "type": "float"
        },
        {
         "name": "142",
         "rawType": "float16",
         "type": "float"
        },
        {
         "name": "143",
         "rawType": "float16",
         "type": "float"
        },
        {
         "name": "144",
         "rawType": "float16",
         "type": "float"
        },
        {
         "name": "145",
         "rawType": "float16",
         "type": "float"
        },
        {
         "name": "146",
         "rawType": "float16",
         "type": "float"
        },
        {
         "name": "147",
         "rawType": "float16",
         "type": "float"
        },
        {
         "name": "148",
         "rawType": "float16",
         "type": "float"
        },
        {
         "name": "149",
         "rawType": "float16",
         "type": "float"
        },
        {
         "name": "150",
         "rawType": "float16",
         "type": "float"
        },
        {
         "name": "151",
         "rawType": "float16",
         "type": "float"
        },
        {
         "name": "152",
         "rawType": "float16",
         "type": "float"
        },
        {
         "name": "153",
         "rawType": "float16",
         "type": "float"
        },
        {
         "name": "154",
         "rawType": "float16",
         "type": "float"
        },
        {
         "name": "155",
         "rawType": "float16",
         "type": "float"
        },
        {
         "name": "156",
         "rawType": "float16",
         "type": "float"
        },
        {
         "name": "157",
         "rawType": "float16",
         "type": "float"
        },
        {
         "name": "158",
         "rawType": "float16",
         "type": "float"
        },
        {
         "name": "159",
         "rawType": "float16",
         "type": "float"
        },
        {
         "name": "160",
         "rawType": "float16",
         "type": "float"
        },
        {
         "name": "161",
         "rawType": "float16",
         "type": "float"
        },
        {
         "name": "162",
         "rawType": "float16",
         "type": "float"
        },
        {
         "name": "163",
         "rawType": "float16",
         "type": "float"
        },
        {
         "name": "164",
         "rawType": "float16",
         "type": "float"
        },
        {
         "name": "165",
         "rawType": "float16",
         "type": "float"
        },
        {
         "name": "166",
         "rawType": "float16",
         "type": "float"
        },
        {
         "name": "167",
         "rawType": "float16",
         "type": "float"
        },
        {
         "name": "168",
         "rawType": "float16",
         "type": "float"
        },
        {
         "name": "169",
         "rawType": "float16",
         "type": "float"
        },
        {
         "name": "170",
         "rawType": "float16",
         "type": "float"
        },
        {
         "name": "171",
         "rawType": "float16",
         "type": "float"
        },
        {
         "name": "172",
         "rawType": "float16",
         "type": "float"
        },
        {
         "name": "173",
         "rawType": "float16",
         "type": "float"
        },
        {
         "name": "174",
         "rawType": "float16",
         "type": "float"
        },
        {
         "name": "175",
         "rawType": "float16",
         "type": "float"
        },
        {
         "name": "176",
         "rawType": "float16",
         "type": "float"
        },
        {
         "name": "177",
         "rawType": "float16",
         "type": "float"
        },
        {
         "name": "178",
         "rawType": "float16",
         "type": "float"
        },
        {
         "name": "179",
         "rawType": "float16",
         "type": "float"
        },
        {
         "name": "180",
         "rawType": "float16",
         "type": "float"
        },
        {
         "name": "181",
         "rawType": "float16",
         "type": "float"
        },
        {
         "name": "182",
         "rawType": "float16",
         "type": "float"
        },
        {
         "name": "183",
         "rawType": "float16",
         "type": "float"
        },
        {
         "name": "184",
         "rawType": "float16",
         "type": "float"
        },
        {
         "name": "185",
         "rawType": "float16",
         "type": "float"
        },
        {
         "name": "186",
         "rawType": "float16",
         "type": "float"
        },
        {
         "name": "187",
         "rawType": "float16",
         "type": "float"
        },
        {
         "name": "188",
         "rawType": "float16",
         "type": "float"
        },
        {
         "name": "189",
         "rawType": "float16",
         "type": "float"
        },
        {
         "name": "190",
         "rawType": "float16",
         "type": "float"
        },
        {
         "name": "191",
         "rawType": "float16",
         "type": "float"
        },
        {
         "name": "192",
         "rawType": "float16",
         "type": "float"
        },
        {
         "name": "193",
         "rawType": "float16",
         "type": "float"
        },
        {
         "name": "194",
         "rawType": "float16",
         "type": "float"
        },
        {
         "name": "195",
         "rawType": "float16",
         "type": "float"
        },
        {
         "name": "196",
         "rawType": "float16",
         "type": "float"
        },
        {
         "name": "197",
         "rawType": "float16",
         "type": "float"
        },
        {
         "name": "198",
         "rawType": "float16",
         "type": "float"
        },
        {
         "name": "199",
         "rawType": "float16",
         "type": "float"
        },
        {
         "name": "200",
         "rawType": "float16",
         "type": "float"
        },
        {
         "name": "201",
         "rawType": "float16",
         "type": "float"
        },
        {
         "name": "202",
         "rawType": "float16",
         "type": "float"
        },
        {
         "name": "203",
         "rawType": "float16",
         "type": "float"
        },
        {
         "name": "204",
         "rawType": "float16",
         "type": "float"
        },
        {
         "name": "205",
         "rawType": "float16",
         "type": "float"
        },
        {
         "name": "206",
         "rawType": "float16",
         "type": "float"
        },
        {
         "name": "207",
         "rawType": "float16",
         "type": "float"
        },
        {
         "name": "208",
         "rawType": "float16",
         "type": "float"
        },
        {
         "name": "209",
         "rawType": "float16",
         "type": "float"
        },
        {
         "name": "210",
         "rawType": "float16",
         "type": "float"
        },
        {
         "name": "211",
         "rawType": "float16",
         "type": "float"
        },
        {
         "name": "212",
         "rawType": "float16",
         "type": "float"
        },
        {
         "name": "213",
         "rawType": "float16",
         "type": "float"
        },
        {
         "name": "214",
         "rawType": "float16",
         "type": "float"
        },
        {
         "name": "215",
         "rawType": "float16",
         "type": "float"
        },
        {
         "name": "216",
         "rawType": "float16",
         "type": "float"
        },
        {
         "name": "217",
         "rawType": "float16",
         "type": "float"
        },
        {
         "name": "218",
         "rawType": "float16",
         "type": "float"
        },
        {
         "name": "219",
         "rawType": "float16",
         "type": "float"
        },
        {
         "name": "220",
         "rawType": "float16",
         "type": "float"
        },
        {
         "name": "221",
         "rawType": "float16",
         "type": "float"
        },
        {
         "name": "222",
         "rawType": "float16",
         "type": "float"
        },
        {
         "name": "223",
         "rawType": "float16",
         "type": "float"
        },
        {
         "name": "224",
         "rawType": "float16",
         "type": "float"
        },
        {
         "name": "225",
         "rawType": "float16",
         "type": "float"
        },
        {
         "name": "226",
         "rawType": "float16",
         "type": "float"
        },
        {
         "name": "227",
         "rawType": "float16",
         "type": "float"
        },
        {
         "name": "228",
         "rawType": "float16",
         "type": "float"
        },
        {
         "name": "229",
         "rawType": "float16",
         "type": "float"
        },
        {
         "name": "230",
         "rawType": "float16",
         "type": "float"
        },
        {
         "name": "231",
         "rawType": "float16",
         "type": "float"
        },
        {
         "name": "232",
         "rawType": "float16",
         "type": "float"
        },
        {
         "name": "233",
         "rawType": "float16",
         "type": "float"
        },
        {
         "name": "234",
         "rawType": "float16",
         "type": "float"
        },
        {
         "name": "235",
         "rawType": "float16",
         "type": "float"
        },
        {
         "name": "236",
         "rawType": "float16",
         "type": "float"
        },
        {
         "name": "237",
         "rawType": "float16",
         "type": "float"
        },
        {
         "name": "238",
         "rawType": "float16",
         "type": "float"
        },
        {
         "name": "239",
         "rawType": "float16",
         "type": "float"
        },
        {
         "name": "240",
         "rawType": "float16",
         "type": "float"
        },
        {
         "name": "241",
         "rawType": "float16",
         "type": "float"
        },
        {
         "name": "242",
         "rawType": "float16",
         "type": "float"
        },
        {
         "name": "243",
         "rawType": "float16",
         "type": "float"
        },
        {
         "name": "244",
         "rawType": "float16",
         "type": "float"
        },
        {
         "name": "245",
         "rawType": "float16",
         "type": "float"
        },
        {
         "name": "246",
         "rawType": "float16",
         "type": "float"
        },
        {
         "name": "247",
         "rawType": "float16",
         "type": "float"
        },
        {
         "name": "248",
         "rawType": "float16",
         "type": "float"
        },
        {
         "name": "249",
         "rawType": "float16",
         "type": "float"
        },
        {
         "name": "250",
         "rawType": "float16",
         "type": "float"
        },
        {
         "name": "251",
         "rawType": "float16",
         "type": "float"
        },
        {
         "name": "252",
         "rawType": "float16",
         "type": "float"
        },
        {
         "name": "253",
         "rawType": "float16",
         "type": "float"
        },
        {
         "name": "254",
         "rawType": "float16",
         "type": "float"
        },
        {
         "name": "255",
         "rawType": "float16",
         "type": "float"
        },
        {
         "name": "256",
         "rawType": "float16",
         "type": "float"
        },
        {
         "name": "257",
         "rawType": "float16",
         "type": "float"
        },
        {
         "name": "258",
         "rawType": "float16",
         "type": "float"
        },
        {
         "name": "259",
         "rawType": "float16",
         "type": "float"
        },
        {
         "name": "260",
         "rawType": "float16",
         "type": "float"
        },
        {
         "name": "261",
         "rawType": "float16",
         "type": "float"
        },
        {
         "name": "262",
         "rawType": "float16",
         "type": "float"
        },
        {
         "name": "263",
         "rawType": "float16",
         "type": "float"
        },
        {
         "name": "264",
         "rawType": "float16",
         "type": "float"
        },
        {
         "name": "265",
         "rawType": "float16",
         "type": "float"
        },
        {
         "name": "266",
         "rawType": "float16",
         "type": "float"
        },
        {
         "name": "267",
         "rawType": "float16",
         "type": "float"
        },
        {
         "name": "268",
         "rawType": "float16",
         "type": "float"
        },
        {
         "name": "269",
         "rawType": "float16",
         "type": "float"
        },
        {
         "name": "270",
         "rawType": "float16",
         "type": "float"
        },
        {
         "name": "271",
         "rawType": "float16",
         "type": "float"
        },
        {
         "name": "272",
         "rawType": "float16",
         "type": "float"
        },
        {
         "name": "273",
         "rawType": "float16",
         "type": "float"
        },
        {
         "name": "274",
         "rawType": "float16",
         "type": "float"
        },
        {
         "name": "275",
         "rawType": "float16",
         "type": "float"
        },
        {
         "name": "276",
         "rawType": "float16",
         "type": "float"
        },
        {
         "name": "277",
         "rawType": "float16",
         "type": "float"
        },
        {
         "name": "278",
         "rawType": "float16",
         "type": "float"
        },
        {
         "name": "279",
         "rawType": "float16",
         "type": "float"
        },
        {
         "name": "280",
         "rawType": "float16",
         "type": "float"
        },
        {
         "name": "281",
         "rawType": "float16",
         "type": "float"
        },
        {
         "name": "282",
         "rawType": "float16",
         "type": "float"
        },
        {
         "name": "283",
         "rawType": "float16",
         "type": "float"
        },
        {
         "name": "284",
         "rawType": "float16",
         "type": "float"
        },
        {
         "name": "285",
         "rawType": "float16",
         "type": "float"
        },
        {
         "name": "286",
         "rawType": "float16",
         "type": "float"
        },
        {
         "name": "287",
         "rawType": "float16",
         "type": "float"
        },
        {
         "name": "288",
         "rawType": "float16",
         "type": "float"
        },
        {
         "name": "289",
         "rawType": "float16",
         "type": "float"
        },
        {
         "name": "290",
         "rawType": "float16",
         "type": "float"
        },
        {
         "name": "291",
         "rawType": "float16",
         "type": "float"
        },
        {
         "name": "292",
         "rawType": "float16",
         "type": "float"
        },
        {
         "name": "293",
         "rawType": "float16",
         "type": "float"
        },
        {
         "name": "294",
         "rawType": "float16",
         "type": "float"
        },
        {
         "name": "295",
         "rawType": "float16",
         "type": "float"
        },
        {
         "name": "296",
         "rawType": "float16",
         "type": "float"
        },
        {
         "name": "297",
         "rawType": "float16",
         "type": "float"
        },
        {
         "name": "298",
         "rawType": "float16",
         "type": "float"
        },
        {
         "name": "299",
         "rawType": "float16",
         "type": "float"
        },
        {
         "name": "300",
         "rawType": "float16",
         "type": "float"
        },
        {
         "name": "301",
         "rawType": "float16",
         "type": "float"
        },
        {
         "name": "302",
         "rawType": "float16",
         "type": "float"
        },
        {
         "name": "303",
         "rawType": "float16",
         "type": "float"
        },
        {
         "name": "304",
         "rawType": "float16",
         "type": "float"
        },
        {
         "name": "305",
         "rawType": "float16",
         "type": "float"
        },
        {
         "name": "306",
         "rawType": "float16",
         "type": "float"
        },
        {
         "name": "307",
         "rawType": "float16",
         "type": "float"
        },
        {
         "name": "308",
         "rawType": "float16",
         "type": "float"
        },
        {
         "name": "309",
         "rawType": "float16",
         "type": "float"
        },
        {
         "name": "310",
         "rawType": "float16",
         "type": "float"
        },
        {
         "name": "311",
         "rawType": "float16",
         "type": "float"
        },
        {
         "name": "312",
         "rawType": "float16",
         "type": "float"
        },
        {
         "name": "313",
         "rawType": "float16",
         "type": "float"
        },
        {
         "name": "314",
         "rawType": "float16",
         "type": "float"
        },
        {
         "name": "315",
         "rawType": "float16",
         "type": "float"
        },
        {
         "name": "316",
         "rawType": "float16",
         "type": "float"
        },
        {
         "name": "317",
         "rawType": "float16",
         "type": "float"
        },
        {
         "name": "318",
         "rawType": "float16",
         "type": "float"
        },
        {
         "name": "319",
         "rawType": "float16",
         "type": "float"
        },
        {
         "name": "320",
         "rawType": "float16",
         "type": "float"
        },
        {
         "name": "321",
         "rawType": "float16",
         "type": "float"
        },
        {
         "name": "322",
         "rawType": "float16",
         "type": "float"
        },
        {
         "name": "323",
         "rawType": "float16",
         "type": "float"
        },
        {
         "name": "324",
         "rawType": "float16",
         "type": "float"
        },
        {
         "name": "325",
         "rawType": "float16",
         "type": "float"
        },
        {
         "name": "326",
         "rawType": "float16",
         "type": "float"
        },
        {
         "name": "327",
         "rawType": "float16",
         "type": "float"
        },
        {
         "name": "328",
         "rawType": "float16",
         "type": "float"
        },
        {
         "name": "329",
         "rawType": "float16",
         "type": "float"
        },
        {
         "name": "330",
         "rawType": "float16",
         "type": "float"
        },
        {
         "name": "331",
         "rawType": "float16",
         "type": "float"
        },
        {
         "name": "332",
         "rawType": "float16",
         "type": "float"
        },
        {
         "name": "333",
         "rawType": "float16",
         "type": "float"
        },
        {
         "name": "334",
         "rawType": "float16",
         "type": "float"
        },
        {
         "name": "335",
         "rawType": "float16",
         "type": "float"
        },
        {
         "name": "336",
         "rawType": "float16",
         "type": "float"
        },
        {
         "name": "337",
         "rawType": "float16",
         "type": "float"
        },
        {
         "name": "338",
         "rawType": "float16",
         "type": "float"
        },
        {
         "name": "339",
         "rawType": "float16",
         "type": "float"
        },
        {
         "name": "340",
         "rawType": "float16",
         "type": "float"
        },
        {
         "name": "341",
         "rawType": "float16",
         "type": "float"
        },
        {
         "name": "342",
         "rawType": "float16",
         "type": "float"
        },
        {
         "name": "343",
         "rawType": "float16",
         "type": "float"
        },
        {
         "name": "344",
         "rawType": "float16",
         "type": "float"
        },
        {
         "name": "345",
         "rawType": "float16",
         "type": "float"
        },
        {
         "name": "346",
         "rawType": "float16",
         "type": "float"
        },
        {
         "name": "347",
         "rawType": "float16",
         "type": "float"
        },
        {
         "name": "348",
         "rawType": "float16",
         "type": "float"
        },
        {
         "name": "349",
         "rawType": "float16",
         "type": "float"
        },
        {
         "name": "350",
         "rawType": "float16",
         "type": "float"
        },
        {
         "name": "351",
         "rawType": "float16",
         "type": "float"
        },
        {
         "name": "352",
         "rawType": "float16",
         "type": "float"
        },
        {
         "name": "353",
         "rawType": "float16",
         "type": "float"
        },
        {
         "name": "354",
         "rawType": "float16",
         "type": "float"
        },
        {
         "name": "355",
         "rawType": "float16",
         "type": "float"
        },
        {
         "name": "356",
         "rawType": "float16",
         "type": "float"
        },
        {
         "name": "357",
         "rawType": "float16",
         "type": "float"
        },
        {
         "name": "358",
         "rawType": "float16",
         "type": "float"
        },
        {
         "name": "359",
         "rawType": "float16",
         "type": "float"
        },
        {
         "name": "360",
         "rawType": "float16",
         "type": "float"
        },
        {
         "name": "361",
         "rawType": "float16",
         "type": "float"
        },
        {
         "name": "362",
         "rawType": "float16",
         "type": "float"
        },
        {
         "name": "363",
         "rawType": "float16",
         "type": "float"
        },
        {
         "name": "364",
         "rawType": "float16",
         "type": "float"
        },
        {
         "name": "365",
         "rawType": "float16",
         "type": "float"
        },
        {
         "name": "366",
         "rawType": "float16",
         "type": "float"
        },
        {
         "name": "367",
         "rawType": "float16",
         "type": "float"
        },
        {
         "name": "368",
         "rawType": "float16",
         "type": "float"
        },
        {
         "name": "369",
         "rawType": "float16",
         "type": "float"
        },
        {
         "name": "370",
         "rawType": "float16",
         "type": "float"
        },
        {
         "name": "371",
         "rawType": "float16",
         "type": "float"
        },
        {
         "name": "372",
         "rawType": "float16",
         "type": "float"
        },
        {
         "name": "373",
         "rawType": "float16",
         "type": "float"
        },
        {
         "name": "374",
         "rawType": "float16",
         "type": "float"
        },
        {
         "name": "375",
         "rawType": "float16",
         "type": "float"
        },
        {
         "name": "376",
         "rawType": "float16",
         "type": "float"
        },
        {
         "name": "377",
         "rawType": "float16",
         "type": "float"
        },
        {
         "name": "378",
         "rawType": "float16",
         "type": "float"
        },
        {
         "name": "379",
         "rawType": "float16",
         "type": "float"
        },
        {
         "name": "380",
         "rawType": "float16",
         "type": "float"
        },
        {
         "name": "381",
         "rawType": "float16",
         "type": "float"
        },
        {
         "name": "382",
         "rawType": "float16",
         "type": "float"
        },
        {
         "name": "383",
         "rawType": "float16",
         "type": "float"
        },
        {
         "name": "384",
         "rawType": "float16",
         "type": "float"
        },
        {
         "name": "385",
         "rawType": "float16",
         "type": "float"
        },
        {
         "name": "386",
         "rawType": "float16",
         "type": "float"
        },
        {
         "name": "387",
         "rawType": "float16",
         "type": "float"
        },
        {
         "name": "388",
         "rawType": "float16",
         "type": "float"
        },
        {
         "name": "389",
         "rawType": "float16",
         "type": "float"
        },
        {
         "name": "390",
         "rawType": "float16",
         "type": "float"
        },
        {
         "name": "391",
         "rawType": "float16",
         "type": "float"
        },
        {
         "name": "392",
         "rawType": "float16",
         "type": "float"
        },
        {
         "name": "393",
         "rawType": "float16",
         "type": "float"
        },
        {
         "name": "394",
         "rawType": "float16",
         "type": "float"
        },
        {
         "name": "395",
         "rawType": "float16",
         "type": "float"
        },
        {
         "name": "396",
         "rawType": "float16",
         "type": "float"
        },
        {
         "name": "397",
         "rawType": "float16",
         "type": "float"
        },
        {
         "name": "398",
         "rawType": "float16",
         "type": "float"
        },
        {
         "name": "399",
         "rawType": "float16",
         "type": "float"
        },
        {
         "name": "400",
         "rawType": "float16",
         "type": "float"
        },
        {
         "name": "401",
         "rawType": "float16",
         "type": "float"
        },
        {
         "name": "402",
         "rawType": "float16",
         "type": "float"
        },
        {
         "name": "403",
         "rawType": "float16",
         "type": "float"
        },
        {
         "name": "404",
         "rawType": "float16",
         "type": "float"
        },
        {
         "name": "405",
         "rawType": "float16",
         "type": "float"
        },
        {
         "name": "406",
         "rawType": "float16",
         "type": "float"
        },
        {
         "name": "407",
         "rawType": "float16",
         "type": "float"
        },
        {
         "name": "408",
         "rawType": "float16",
         "type": "float"
        },
        {
         "name": "409",
         "rawType": "float16",
         "type": "float"
        },
        {
         "name": "410",
         "rawType": "float16",
         "type": "float"
        },
        {
         "name": "411",
         "rawType": "float16",
         "type": "float"
        },
        {
         "name": "412",
         "rawType": "float16",
         "type": "float"
        },
        {
         "name": "413",
         "rawType": "float16",
         "type": "float"
        },
        {
         "name": "414",
         "rawType": "float16",
         "type": "float"
        },
        {
         "name": "415",
         "rawType": "float16",
         "type": "float"
        },
        {
         "name": "416",
         "rawType": "float16",
         "type": "float"
        },
        {
         "name": "417",
         "rawType": "float16",
         "type": "float"
        },
        {
         "name": "418",
         "rawType": "float16",
         "type": "float"
        },
        {
         "name": "419",
         "rawType": "float16",
         "type": "float"
        },
        {
         "name": "420",
         "rawType": "float16",
         "type": "float"
        },
        {
         "name": "421",
         "rawType": "float16",
         "type": "float"
        },
        {
         "name": "422",
         "rawType": "float16",
         "type": "float"
        },
        {
         "name": "423",
         "rawType": "float16",
         "type": "float"
        },
        {
         "name": "424",
         "rawType": "float16",
         "type": "float"
        },
        {
         "name": "425",
         "rawType": "float16",
         "type": "float"
        },
        {
         "name": "426",
         "rawType": "float16",
         "type": "float"
        },
        {
         "name": "427",
         "rawType": "float16",
         "type": "float"
        },
        {
         "name": "428",
         "rawType": "float16",
         "type": "float"
        },
        {
         "name": "429",
         "rawType": "float16",
         "type": "float"
        },
        {
         "name": "430",
         "rawType": "float16",
         "type": "float"
        },
        {
         "name": "431",
         "rawType": "float16",
         "type": "float"
        },
        {
         "name": "432",
         "rawType": "float16",
         "type": "float"
        },
        {
         "name": "433",
         "rawType": "float16",
         "type": "float"
        },
        {
         "name": "434",
         "rawType": "float16",
         "type": "float"
        },
        {
         "name": "435",
         "rawType": "float16",
         "type": "float"
        },
        {
         "name": "436",
         "rawType": "float16",
         "type": "float"
        },
        {
         "name": "437",
         "rawType": "float16",
         "type": "float"
        },
        {
         "name": "438",
         "rawType": "float16",
         "type": "float"
        },
        {
         "name": "439",
         "rawType": "float16",
         "type": "float"
        },
        {
         "name": "440",
         "rawType": "float16",
         "type": "float"
        },
        {
         "name": "441",
         "rawType": "float16",
         "type": "float"
        },
        {
         "name": "442",
         "rawType": "float16",
         "type": "float"
        },
        {
         "name": "443",
         "rawType": "float16",
         "type": "float"
        },
        {
         "name": "444",
         "rawType": "float16",
         "type": "float"
        },
        {
         "name": "445",
         "rawType": "float16",
         "type": "float"
        },
        {
         "name": "446",
         "rawType": "float16",
         "type": "float"
        },
        {
         "name": "447",
         "rawType": "float16",
         "type": "float"
        },
        {
         "name": "448",
         "rawType": "float16",
         "type": "float"
        },
        {
         "name": "449",
         "rawType": "float16",
         "type": "float"
        },
        {
         "name": "450",
         "rawType": "float16",
         "type": "float"
        },
        {
         "name": "451",
         "rawType": "float16",
         "type": "float"
        },
        {
         "name": "452",
         "rawType": "float16",
         "type": "float"
        },
        {
         "name": "453",
         "rawType": "float16",
         "type": "float"
        },
        {
         "name": "454",
         "rawType": "float16",
         "type": "float"
        },
        {
         "name": "455",
         "rawType": "float16",
         "type": "float"
        },
        {
         "name": "456",
         "rawType": "float16",
         "type": "float"
        },
        {
         "name": "457",
         "rawType": "float16",
         "type": "float"
        },
        {
         "name": "458",
         "rawType": "float16",
         "type": "float"
        },
        {
         "name": "459",
         "rawType": "float16",
         "type": "float"
        },
        {
         "name": "460",
         "rawType": "float16",
         "type": "float"
        },
        {
         "name": "461",
         "rawType": "float16",
         "type": "float"
        },
        {
         "name": "462",
         "rawType": "float16",
         "type": "float"
        },
        {
         "name": "463",
         "rawType": "float16",
         "type": "float"
        },
        {
         "name": "464",
         "rawType": "float16",
         "type": "float"
        },
        {
         "name": "465",
         "rawType": "float16",
         "type": "float"
        },
        {
         "name": "466",
         "rawType": "float16",
         "type": "float"
        },
        {
         "name": "467",
         "rawType": "float16",
         "type": "float"
        },
        {
         "name": "468",
         "rawType": "float16",
         "type": "float"
        },
        {
         "name": "469",
         "rawType": "float16",
         "type": "float"
        },
        {
         "name": "470",
         "rawType": "float16",
         "type": "float"
        },
        {
         "name": "471",
         "rawType": "float16",
         "type": "float"
        },
        {
         "name": "472",
         "rawType": "float16",
         "type": "float"
        },
        {
         "name": "473",
         "rawType": "float16",
         "type": "float"
        },
        {
         "name": "474",
         "rawType": "float16",
         "type": "float"
        },
        {
         "name": "475",
         "rawType": "float16",
         "type": "float"
        },
        {
         "name": "476",
         "rawType": "float16",
         "type": "float"
        },
        {
         "name": "477",
         "rawType": "float16",
         "type": "float"
        },
        {
         "name": "478",
         "rawType": "float16",
         "type": "float"
        },
        {
         "name": "479",
         "rawType": "float16",
         "type": "float"
        },
        {
         "name": "480",
         "rawType": "float16",
         "type": "float"
        },
        {
         "name": "481",
         "rawType": "float16",
         "type": "float"
        },
        {
         "name": "482",
         "rawType": "float16",
         "type": "float"
        },
        {
         "name": "483",
         "rawType": "float16",
         "type": "float"
        },
        {
         "name": "484",
         "rawType": "float16",
         "type": "float"
        },
        {
         "name": "485",
         "rawType": "float16",
         "type": "float"
        },
        {
         "name": "486",
         "rawType": "float16",
         "type": "float"
        },
        {
         "name": "487",
         "rawType": "float16",
         "type": "float"
        },
        {
         "name": "488",
         "rawType": "float16",
         "type": "float"
        },
        {
         "name": "489",
         "rawType": "float16",
         "type": "float"
        },
        {
         "name": "490",
         "rawType": "float16",
         "type": "float"
        },
        {
         "name": "491",
         "rawType": "float16",
         "type": "float"
        },
        {
         "name": "492",
         "rawType": "float16",
         "type": "float"
        },
        {
         "name": "493",
         "rawType": "float16",
         "type": "float"
        },
        {
         "name": "494",
         "rawType": "float16",
         "type": "float"
        },
        {
         "name": "495",
         "rawType": "float16",
         "type": "float"
        },
        {
         "name": "496",
         "rawType": "float16",
         "type": "float"
        },
        {
         "name": "497",
         "rawType": "float16",
         "type": "float"
        },
        {
         "name": "498",
         "rawType": "float16",
         "type": "float"
        },
        {
         "name": "499",
         "rawType": "float16",
         "type": "float"
        },
        {
         "name": "500",
         "rawType": "float16",
         "type": "float"
        },
        {
         "name": "501",
         "rawType": "float16",
         "type": "float"
        },
        {
         "name": "502",
         "rawType": "float16",
         "type": "float"
        },
        {
         "name": "503",
         "rawType": "float16",
         "type": "float"
        },
        {
         "name": "504",
         "rawType": "float16",
         "type": "float"
        },
        {
         "name": "505",
         "rawType": "float16",
         "type": "float"
        },
        {
         "name": "506",
         "rawType": "float16",
         "type": "float"
        },
        {
         "name": "507",
         "rawType": "float16",
         "type": "float"
        },
        {
         "name": "508",
         "rawType": "float16",
         "type": "float"
        },
        {
         "name": "509",
         "rawType": "float16",
         "type": "float"
        },
        {
         "name": "510",
         "rawType": "float16",
         "type": "float"
        },
        {
         "name": "511",
         "rawType": "float16",
         "type": "float"
        },
        {
         "name": "512",
         "rawType": "float16",
         "type": "float"
        },
        {
         "name": "513",
         "rawType": "float16",
         "type": "float"
        },
        {
         "name": "514",
         "rawType": "float16",
         "type": "float"
        },
        {
         "name": "515",
         "rawType": "float16",
         "type": "float"
        },
        {
         "name": "516",
         "rawType": "float16",
         "type": "float"
        },
        {
         "name": "517",
         "rawType": "float16",
         "type": "float"
        },
        {
         "name": "518",
         "rawType": "float16",
         "type": "float"
        },
        {
         "name": "519",
         "rawType": "float16",
         "type": "float"
        },
        {
         "name": "520",
         "rawType": "float16",
         "type": "float"
        },
        {
         "name": "521",
         "rawType": "float16",
         "type": "float"
        },
        {
         "name": "522",
         "rawType": "float16",
         "type": "float"
        },
        {
         "name": "523",
         "rawType": "float16",
         "type": "float"
        },
        {
         "name": "524",
         "rawType": "float16",
         "type": "float"
        },
        {
         "name": "525",
         "rawType": "float16",
         "type": "float"
        },
        {
         "name": "526",
         "rawType": "float16",
         "type": "float"
        },
        {
         "name": "527",
         "rawType": "float16",
         "type": "float"
        },
        {
         "name": "528",
         "rawType": "float16",
         "type": "float"
        },
        {
         "name": "529",
         "rawType": "float16",
         "type": "float"
        },
        {
         "name": "530",
         "rawType": "float16",
         "type": "float"
        },
        {
         "name": "531",
         "rawType": "float16",
         "type": "float"
        },
        {
         "name": "532",
         "rawType": "float16",
         "type": "float"
        },
        {
         "name": "533",
         "rawType": "float16",
         "type": "float"
        },
        {
         "name": "534",
         "rawType": "float16",
         "type": "float"
        },
        {
         "name": "535",
         "rawType": "float16",
         "type": "float"
        },
        {
         "name": "536",
         "rawType": "float16",
         "type": "float"
        },
        {
         "name": "537",
         "rawType": "float16",
         "type": "float"
        },
        {
         "name": "538",
         "rawType": "float16",
         "type": "float"
        },
        {
         "name": "539",
         "rawType": "float16",
         "type": "float"
        },
        {
         "name": "540",
         "rawType": "float16",
         "type": "float"
        },
        {
         "name": "541",
         "rawType": "float16",
         "type": "float"
        },
        {
         "name": "542",
         "rawType": "float16",
         "type": "float"
        },
        {
         "name": "543",
         "rawType": "float16",
         "type": "float"
        },
        {
         "name": "544",
         "rawType": "float16",
         "type": "float"
        },
        {
         "name": "545",
         "rawType": "float16",
         "type": "float"
        },
        {
         "name": "546",
         "rawType": "float16",
         "type": "float"
        },
        {
         "name": "547",
         "rawType": "float16",
         "type": "float"
        },
        {
         "name": "548",
         "rawType": "float16",
         "type": "float"
        },
        {
         "name": "549",
         "rawType": "float16",
         "type": "float"
        },
        {
         "name": "550",
         "rawType": "float16",
         "type": "float"
        },
        {
         "name": "551",
         "rawType": "float16",
         "type": "float"
        },
        {
         "name": "552",
         "rawType": "float16",
         "type": "float"
        },
        {
         "name": "553",
         "rawType": "float16",
         "type": "float"
        },
        {
         "name": "554",
         "rawType": "float16",
         "type": "float"
        },
        {
         "name": "555",
         "rawType": "float16",
         "type": "float"
        },
        {
         "name": "556",
         "rawType": "float16",
         "type": "float"
        },
        {
         "name": "557",
         "rawType": "float16",
         "type": "float"
        },
        {
         "name": "558",
         "rawType": "float16",
         "type": "float"
        },
        {
         "name": "559",
         "rawType": "float16",
         "type": "float"
        },
        {
         "name": "560",
         "rawType": "float16",
         "type": "float"
        },
        {
         "name": "561",
         "rawType": "float16",
         "type": "float"
        },
        {
         "name": "562",
         "rawType": "float16",
         "type": "float"
        },
        {
         "name": "563",
         "rawType": "float16",
         "type": "float"
        },
        {
         "name": "564",
         "rawType": "float16",
         "type": "float"
        },
        {
         "name": "565",
         "rawType": "float16",
         "type": "float"
        },
        {
         "name": "566",
         "rawType": "float16",
         "type": "float"
        },
        {
         "name": "567",
         "rawType": "float16",
         "type": "float"
        },
        {
         "name": "568",
         "rawType": "float16",
         "type": "float"
        },
        {
         "name": "569",
         "rawType": "float16",
         "type": "float"
        },
        {
         "name": "570",
         "rawType": "float16",
         "type": "float"
        },
        {
         "name": "571",
         "rawType": "float16",
         "type": "float"
        },
        {
         "name": "572",
         "rawType": "float16",
         "type": "float"
        },
        {
         "name": "573",
         "rawType": "float16",
         "type": "float"
        },
        {
         "name": "574",
         "rawType": "float16",
         "type": "float"
        },
        {
         "name": "575",
         "rawType": "float16",
         "type": "float"
        },
        {
         "name": "576",
         "rawType": "float16",
         "type": "float"
        },
        {
         "name": "577",
         "rawType": "float16",
         "type": "float"
        },
        {
         "name": "578",
         "rawType": "float16",
         "type": "float"
        },
        {
         "name": "579",
         "rawType": "float16",
         "type": "float"
        },
        {
         "name": "580",
         "rawType": "float16",
         "type": "float"
        },
        {
         "name": "581",
         "rawType": "float16",
         "type": "float"
        },
        {
         "name": "582",
         "rawType": "float16",
         "type": "float"
        },
        {
         "name": "583",
         "rawType": "float16",
         "type": "float"
        },
        {
         "name": "584",
         "rawType": "float16",
         "type": "float"
        },
        {
         "name": "585",
         "rawType": "float16",
         "type": "float"
        },
        {
         "name": "586",
         "rawType": "float16",
         "type": "float"
        },
        {
         "name": "587",
         "rawType": "float16",
         "type": "float"
        },
        {
         "name": "588",
         "rawType": "float16",
         "type": "float"
        },
        {
         "name": "589",
         "rawType": "float16",
         "type": "float"
        },
        {
         "name": "590",
         "rawType": "float16",
         "type": "float"
        },
        {
         "name": "591",
         "rawType": "float16",
         "type": "float"
        },
        {
         "name": "592",
         "rawType": "float16",
         "type": "float"
        },
        {
         "name": "593",
         "rawType": "float16",
         "type": "float"
        },
        {
         "name": "594",
         "rawType": "float16",
         "type": "float"
        },
        {
         "name": "595",
         "rawType": "float16",
         "type": "float"
        },
        {
         "name": "596",
         "rawType": "float16",
         "type": "float"
        },
        {
         "name": "597",
         "rawType": "float16",
         "type": "float"
        },
        {
         "name": "598",
         "rawType": "float16",
         "type": "float"
        },
        {
         "name": "599",
         "rawType": "float16",
         "type": "float"
        },
        {
         "name": "600",
         "rawType": "float16",
         "type": "float"
        },
        {
         "name": "601",
         "rawType": "float16",
         "type": "float"
        },
        {
         "name": "602",
         "rawType": "float16",
         "type": "float"
        },
        {
         "name": "603",
         "rawType": "float16",
         "type": "float"
        },
        {
         "name": "604",
         "rawType": "float16",
         "type": "float"
        },
        {
         "name": "605",
         "rawType": "float16",
         "type": "float"
        },
        {
         "name": "606",
         "rawType": "float16",
         "type": "float"
        },
        {
         "name": "607",
         "rawType": "float16",
         "type": "float"
        },
        {
         "name": "608",
         "rawType": "float16",
         "type": "float"
        },
        {
         "name": "609",
         "rawType": "float16",
         "type": "float"
        },
        {
         "name": "610",
         "rawType": "float16",
         "type": "float"
        },
        {
         "name": "611",
         "rawType": "float16",
         "type": "float"
        },
        {
         "name": "612",
         "rawType": "float16",
         "type": "float"
        },
        {
         "name": "613",
         "rawType": "float16",
         "type": "float"
        },
        {
         "name": "614",
         "rawType": "float16",
         "type": "float"
        },
        {
         "name": "615",
         "rawType": "float16",
         "type": "float"
        },
        {
         "name": "616",
         "rawType": "float16",
         "type": "float"
        },
        {
         "name": "617",
         "rawType": "float16",
         "type": "float"
        },
        {
         "name": "618",
         "rawType": "float16",
         "type": "float"
        },
        {
         "name": "619",
         "rawType": "float16",
         "type": "float"
        },
        {
         "name": "620",
         "rawType": "float16",
         "type": "float"
        },
        {
         "name": "621",
         "rawType": "float16",
         "type": "float"
        },
        {
         "name": "622",
         "rawType": "float16",
         "type": "float"
        },
        {
         "name": "623",
         "rawType": "float16",
         "type": "float"
        },
        {
         "name": "624",
         "rawType": "float16",
         "type": "float"
        },
        {
         "name": "625",
         "rawType": "float16",
         "type": "float"
        },
        {
         "name": "626",
         "rawType": "float16",
         "type": "float"
        },
        {
         "name": "627",
         "rawType": "float16",
         "type": "float"
        },
        {
         "name": "628",
         "rawType": "float16",
         "type": "float"
        },
        {
         "name": "629",
         "rawType": "float16",
         "type": "float"
        },
        {
         "name": "630",
         "rawType": "float16",
         "type": "float"
        },
        {
         "name": "631",
         "rawType": "float16",
         "type": "float"
        },
        {
         "name": "632",
         "rawType": "float16",
         "type": "float"
        },
        {
         "name": "633",
         "rawType": "float16",
         "type": "float"
        },
        {
         "name": "634",
         "rawType": "float16",
         "type": "float"
        },
        {
         "name": "635",
         "rawType": "float16",
         "type": "float"
        },
        {
         "name": "636",
         "rawType": "float16",
         "type": "float"
        },
        {
         "name": "637",
         "rawType": "float16",
         "type": "float"
        },
        {
         "name": "638",
         "rawType": "float16",
         "type": "float"
        },
        {
         "name": "639",
         "rawType": "float16",
         "type": "float"
        },
        {
         "name": "640",
         "rawType": "float16",
         "type": "float"
        },
        {
         "name": "641",
         "rawType": "float16",
         "type": "float"
        },
        {
         "name": "642",
         "rawType": "float16",
         "type": "float"
        },
        {
         "name": "643",
         "rawType": "float16",
         "type": "float"
        },
        {
         "name": "644",
         "rawType": "float16",
         "type": "float"
        },
        {
         "name": "645",
         "rawType": "float16",
         "type": "float"
        },
        {
         "name": "646",
         "rawType": "float16",
         "type": "float"
        },
        {
         "name": "647",
         "rawType": "float16",
         "type": "float"
        },
        {
         "name": "648",
         "rawType": "float16",
         "type": "float"
        },
        {
         "name": "649",
         "rawType": "float16",
         "type": "float"
        },
        {
         "name": "650",
         "rawType": "float16",
         "type": "float"
        },
        {
         "name": "651",
         "rawType": "float16",
         "type": "float"
        },
        {
         "name": "652",
         "rawType": "float16",
         "type": "float"
        },
        {
         "name": "653",
         "rawType": "float16",
         "type": "float"
        },
        {
         "name": "654",
         "rawType": "float16",
         "type": "float"
        },
        {
         "name": "655",
         "rawType": "float16",
         "type": "float"
        },
        {
         "name": "656",
         "rawType": "float16",
         "type": "float"
        },
        {
         "name": "657",
         "rawType": "float16",
         "type": "float"
        },
        {
         "name": "658",
         "rawType": "float16",
         "type": "float"
        },
        {
         "name": "659",
         "rawType": "float16",
         "type": "float"
        },
        {
         "name": "660",
         "rawType": "float16",
         "type": "float"
        },
        {
         "name": "661",
         "rawType": "float16",
         "type": "float"
        },
        {
         "name": "662",
         "rawType": "float16",
         "type": "float"
        },
        {
         "name": "663",
         "rawType": "float16",
         "type": "float"
        },
        {
         "name": "664",
         "rawType": "float16",
         "type": "float"
        },
        {
         "name": "665",
         "rawType": "float16",
         "type": "float"
        },
        {
         "name": "666",
         "rawType": "float16",
         "type": "float"
        },
        {
         "name": "667",
         "rawType": "float16",
         "type": "float"
        },
        {
         "name": "668",
         "rawType": "float16",
         "type": "float"
        },
        {
         "name": "669",
         "rawType": "float16",
         "type": "float"
        },
        {
         "name": "670",
         "rawType": "float16",
         "type": "float"
        },
        {
         "name": "671",
         "rawType": "float16",
         "type": "float"
        },
        {
         "name": "672",
         "rawType": "float16",
         "type": "float"
        },
        {
         "name": "673",
         "rawType": "float16",
         "type": "float"
        },
        {
         "name": "674",
         "rawType": "float16",
         "type": "float"
        },
        {
         "name": "675",
         "rawType": "float16",
         "type": "float"
        },
        {
         "name": "676",
         "rawType": "float16",
         "type": "float"
        },
        {
         "name": "677",
         "rawType": "float16",
         "type": "float"
        },
        {
         "name": "678",
         "rawType": "float16",
         "type": "float"
        },
        {
         "name": "679",
         "rawType": "float16",
         "type": "float"
        },
        {
         "name": "680",
         "rawType": "float16",
         "type": "float"
        },
        {
         "name": "681",
         "rawType": "float16",
         "type": "float"
        },
        {
         "name": "682",
         "rawType": "float16",
         "type": "float"
        },
        {
         "name": "683",
         "rawType": "float16",
         "type": "float"
        },
        {
         "name": "684",
         "rawType": "float16",
         "type": "float"
        },
        {
         "name": "685",
         "rawType": "float16",
         "type": "float"
        },
        {
         "name": "686",
         "rawType": "float16",
         "type": "float"
        },
        {
         "name": "687",
         "rawType": "float16",
         "type": "float"
        },
        {
         "name": "688",
         "rawType": "float16",
         "type": "float"
        },
        {
         "name": "689",
         "rawType": "float16",
         "type": "float"
        },
        {
         "name": "690",
         "rawType": "float16",
         "type": "float"
        },
        {
         "name": "691",
         "rawType": "float16",
         "type": "float"
        },
        {
         "name": "692",
         "rawType": "float16",
         "type": "float"
        },
        {
         "name": "693",
         "rawType": "float16",
         "type": "float"
        },
        {
         "name": "694",
         "rawType": "float16",
         "type": "float"
        },
        {
         "name": "695",
         "rawType": "float16",
         "type": "float"
        },
        {
         "name": "696",
         "rawType": "float16",
         "type": "float"
        },
        {
         "name": "697",
         "rawType": "float16",
         "type": "float"
        },
        {
         "name": "698",
         "rawType": "float16",
         "type": "float"
        },
        {
         "name": "699",
         "rawType": "float16",
         "type": "float"
        },
        {
         "name": "700",
         "rawType": "float16",
         "type": "float"
        },
        {
         "name": "701",
         "rawType": "float16",
         "type": "float"
        },
        {
         "name": "702",
         "rawType": "float16",
         "type": "float"
        },
        {
         "name": "703",
         "rawType": "float16",
         "type": "float"
        },
        {
         "name": "704",
         "rawType": "float16",
         "type": "float"
        },
        {
         "name": "705",
         "rawType": "float16",
         "type": "float"
        },
        {
         "name": "706",
         "rawType": "float16",
         "type": "float"
        },
        {
         "name": "707",
         "rawType": "float16",
         "type": "float"
        },
        {
         "name": "708",
         "rawType": "float16",
         "type": "float"
        },
        {
         "name": "709",
         "rawType": "float16",
         "type": "float"
        },
        {
         "name": "710",
         "rawType": "float16",
         "type": "float"
        },
        {
         "name": "711",
         "rawType": "float16",
         "type": "float"
        },
        {
         "name": "712",
         "rawType": "float16",
         "type": "float"
        },
        {
         "name": "713",
         "rawType": "float16",
         "type": "float"
        },
        {
         "name": "714",
         "rawType": "float16",
         "type": "float"
        },
        {
         "name": "715",
         "rawType": "float16",
         "type": "float"
        },
        {
         "name": "716",
         "rawType": "float16",
         "type": "float"
        },
        {
         "name": "717",
         "rawType": "float16",
         "type": "float"
        },
        {
         "name": "718",
         "rawType": "float16",
         "type": "float"
        },
        {
         "name": "719",
         "rawType": "float16",
         "type": "float"
        },
        {
         "name": "720",
         "rawType": "float16",
         "type": "float"
        },
        {
         "name": "721",
         "rawType": "float16",
         "type": "float"
        },
        {
         "name": "722",
         "rawType": "float16",
         "type": "float"
        },
        {
         "name": "723",
         "rawType": "float16",
         "type": "float"
        },
        {
         "name": "724",
         "rawType": "float16",
         "type": "float"
        },
        {
         "name": "725",
         "rawType": "float16",
         "type": "float"
        },
        {
         "name": "726",
         "rawType": "float16",
         "type": "float"
        },
        {
         "name": "727",
         "rawType": "float16",
         "type": "float"
        },
        {
         "name": "728",
         "rawType": "float16",
         "type": "float"
        },
        {
         "name": "729",
         "rawType": "float16",
         "type": "float"
        },
        {
         "name": "730",
         "rawType": "float16",
         "type": "float"
        },
        {
         "name": "731",
         "rawType": "float16",
         "type": "float"
        },
        {
         "name": "732",
         "rawType": "float16",
         "type": "float"
        },
        {
         "name": "733",
         "rawType": "float16",
         "type": "float"
        },
        {
         "name": "734",
         "rawType": "float16",
         "type": "float"
        },
        {
         "name": "735",
         "rawType": "float16",
         "type": "float"
        },
        {
         "name": "736",
         "rawType": "float16",
         "type": "float"
        },
        {
         "name": "737",
         "rawType": "float16",
         "type": "float"
        },
        {
         "name": "738",
         "rawType": "float16",
         "type": "float"
        },
        {
         "name": "739",
         "rawType": "float16",
         "type": "float"
        },
        {
         "name": "740",
         "rawType": "float16",
         "type": "float"
        },
        {
         "name": "741",
         "rawType": "float16",
         "type": "float"
        },
        {
         "name": "742",
         "rawType": "float16",
         "type": "float"
        },
        {
         "name": "743",
         "rawType": "float16",
         "type": "float"
        },
        {
         "name": "744",
         "rawType": "float16",
         "type": "float"
        },
        {
         "name": "745",
         "rawType": "float16",
         "type": "float"
        },
        {
         "name": "746",
         "rawType": "float16",
         "type": "float"
        },
        {
         "name": "747",
         "rawType": "float16",
         "type": "float"
        },
        {
         "name": "748",
         "rawType": "float16",
         "type": "float"
        },
        {
         "name": "749",
         "rawType": "float16",
         "type": "float"
        },
        {
         "name": "750",
         "rawType": "float16",
         "type": "float"
        },
        {
         "name": "751",
         "rawType": "float16",
         "type": "float"
        },
        {
         "name": "752",
         "rawType": "float16",
         "type": "float"
        },
        {
         "name": "753",
         "rawType": "float16",
         "type": "float"
        },
        {
         "name": "754",
         "rawType": "float16",
         "type": "float"
        },
        {
         "name": "755",
         "rawType": "float16",
         "type": "float"
        },
        {
         "name": "756",
         "rawType": "float16",
         "type": "float"
        },
        {
         "name": "757",
         "rawType": "float16",
         "type": "float"
        },
        {
         "name": "758",
         "rawType": "float16",
         "type": "float"
        },
        {
         "name": "759",
         "rawType": "float16",
         "type": "float"
        },
        {
         "name": "760",
         "rawType": "float16",
         "type": "float"
        },
        {
         "name": "761",
         "rawType": "float16",
         "type": "float"
        },
        {
         "name": "762",
         "rawType": "float16",
         "type": "float"
        },
        {
         "name": "763",
         "rawType": "float16",
         "type": "float"
        },
        {
         "name": "764",
         "rawType": "float16",
         "type": "float"
        },
        {
         "name": "765",
         "rawType": "float16",
         "type": "float"
        },
        {
         "name": "766",
         "rawType": "float16",
         "type": "float"
        },
        {
         "name": "767",
         "rawType": "float16",
         "type": "float"
        },
        {
         "name": "768",
         "rawType": "float16",
         "type": "float"
        },
        {
         "name": "769",
         "rawType": "float16",
         "type": "float"
        },
        {
         "name": "770",
         "rawType": "float16",
         "type": "float"
        },
        {
         "name": "771",
         "rawType": "float16",
         "type": "float"
        },
        {
         "name": "772",
         "rawType": "float16",
         "type": "float"
        },
        {
         "name": "773",
         "rawType": "float16",
         "type": "float"
        },
        {
         "name": "774",
         "rawType": "float16",
         "type": "float"
        },
        {
         "name": "775",
         "rawType": "float16",
         "type": "float"
        },
        {
         "name": "776",
         "rawType": "float16",
         "type": "float"
        },
        {
         "name": "777",
         "rawType": "float16",
         "type": "float"
        },
        {
         "name": "778",
         "rawType": "float16",
         "type": "float"
        },
        {
         "name": "779",
         "rawType": "float16",
         "type": "float"
        },
        {
         "name": "780",
         "rawType": "float16",
         "type": "float"
        },
        {
         "name": "781",
         "rawType": "float16",
         "type": "float"
        },
        {
         "name": "782",
         "rawType": "float16",
         "type": "float"
        },
        {
         "name": "783",
         "rawType": "float16",
         "type": "float"
        },
        {
         "name": "784",
         "rawType": "float16",
         "type": "float"
        },
        {
         "name": "785",
         "rawType": "float16",
         "type": "float"
        },
        {
         "name": "786",
         "rawType": "float16",
         "type": "float"
        },
        {
         "name": "787",
         "rawType": "float16",
         "type": "float"
        },
        {
         "name": "788",
         "rawType": "float16",
         "type": "float"
        },
        {
         "name": "789",
         "rawType": "float16",
         "type": "float"
        },
        {
         "name": "790",
         "rawType": "float16",
         "type": "float"
        },
        {
         "name": "791",
         "rawType": "float16",
         "type": "float"
        },
        {
         "name": "792",
         "rawType": "float16",
         "type": "float"
        },
        {
         "name": "793",
         "rawType": "float16",
         "type": "float"
        },
        {
         "name": "794",
         "rawType": "float16",
         "type": "float"
        },
        {
         "name": "795",
         "rawType": "float16",
         "type": "float"
        },
        {
         "name": "796",
         "rawType": "float16",
         "type": "float"
        },
        {
         "name": "797",
         "rawType": "float16",
         "type": "float"
        },
        {
         "name": "798",
         "rawType": "float16",
         "type": "float"
        },
        {
         "name": "799",
         "rawType": "float16",
         "type": "float"
        },
        {
         "name": "800",
         "rawType": "float16",
         "type": "float"
        },
        {
         "name": "801",
         "rawType": "float16",
         "type": "float"
        },
        {
         "name": "802",
         "rawType": "float16",
         "type": "float"
        },
        {
         "name": "803",
         "rawType": "float16",
         "type": "float"
        },
        {
         "name": "804",
         "rawType": "float16",
         "type": "float"
        },
        {
         "name": "805",
         "rawType": "float16",
         "type": "float"
        },
        {
         "name": "806",
         "rawType": "float16",
         "type": "float"
        },
        {
         "name": "807",
         "rawType": "float16",
         "type": "float"
        },
        {
         "name": "808",
         "rawType": "float16",
         "type": "float"
        },
        {
         "name": "809",
         "rawType": "float16",
         "type": "float"
        },
        {
         "name": "810",
         "rawType": "float16",
         "type": "float"
        },
        {
         "name": "811",
         "rawType": "float16",
         "type": "float"
        },
        {
         "name": "812",
         "rawType": "float16",
         "type": "float"
        },
        {
         "name": "813",
         "rawType": "float16",
         "type": "float"
        },
        {
         "name": "814",
         "rawType": "float16",
         "type": "float"
        },
        {
         "name": "815",
         "rawType": "float16",
         "type": "float"
        },
        {
         "name": "816",
         "rawType": "float16",
         "type": "float"
        },
        {
         "name": "817",
         "rawType": "float16",
         "type": "float"
        },
        {
         "name": "818",
         "rawType": "float16",
         "type": "float"
        },
        {
         "name": "819",
         "rawType": "float16",
         "type": "float"
        },
        {
         "name": "820",
         "rawType": "float16",
         "type": "float"
        },
        {
         "name": "821",
         "rawType": "float16",
         "type": "float"
        },
        {
         "name": "822",
         "rawType": "float16",
         "type": "float"
        },
        {
         "name": "823",
         "rawType": "float16",
         "type": "float"
        },
        {
         "name": "824",
         "rawType": "float16",
         "type": "float"
        },
        {
         "name": "825",
         "rawType": "float16",
         "type": "float"
        },
        {
         "name": "826",
         "rawType": "float16",
         "type": "float"
        },
        {
         "name": "827",
         "rawType": "float16",
         "type": "float"
        },
        {
         "name": "828",
         "rawType": "float16",
         "type": "float"
        },
        {
         "name": "829",
         "rawType": "float16",
         "type": "float"
        },
        {
         "name": "830",
         "rawType": "float16",
         "type": "float"
        },
        {
         "name": "831",
         "rawType": "float16",
         "type": "float"
        },
        {
         "name": "832",
         "rawType": "float16",
         "type": "float"
        },
        {
         "name": "833",
         "rawType": "float16",
         "type": "float"
        },
        {
         "name": "834",
         "rawType": "float16",
         "type": "float"
        },
        {
         "name": "835",
         "rawType": "float16",
         "type": "float"
        },
        {
         "name": "836",
         "rawType": "float16",
         "type": "float"
        },
        {
         "name": "837",
         "rawType": "float16",
         "type": "float"
        },
        {
         "name": "838",
         "rawType": "float16",
         "type": "float"
        },
        {
         "name": "839",
         "rawType": "float16",
         "type": "float"
        },
        {
         "name": "840",
         "rawType": "float16",
         "type": "float"
        },
        {
         "name": "841",
         "rawType": "float16",
         "type": "float"
        },
        {
         "name": "842",
         "rawType": "float16",
         "type": "float"
        },
        {
         "name": "843",
         "rawType": "float16",
         "type": "float"
        },
        {
         "name": "844",
         "rawType": "float16",
         "type": "float"
        },
        {
         "name": "845",
         "rawType": "float16",
         "type": "float"
        },
        {
         "name": "846",
         "rawType": "float16",
         "type": "float"
        },
        {
         "name": "847",
         "rawType": "float16",
         "type": "float"
        },
        {
         "name": "848",
         "rawType": "float16",
         "type": "float"
        },
        {
         "name": "849",
         "rawType": "float16",
         "type": "float"
        },
        {
         "name": "850",
         "rawType": "float16",
         "type": "float"
        },
        {
         "name": "851",
         "rawType": "float16",
         "type": "float"
        },
        {
         "name": "852",
         "rawType": "float16",
         "type": "float"
        },
        {
         "name": "853",
         "rawType": "float16",
         "type": "float"
        },
        {
         "name": "854",
         "rawType": "float16",
         "type": "float"
        },
        {
         "name": "855",
         "rawType": "float16",
         "type": "float"
        },
        {
         "name": "856",
         "rawType": "float16",
         "type": "float"
        },
        {
         "name": "857",
         "rawType": "float16",
         "type": "float"
        },
        {
         "name": "858",
         "rawType": "float16",
         "type": "float"
        },
        {
         "name": "859",
         "rawType": "float16",
         "type": "float"
        },
        {
         "name": "860",
         "rawType": "float16",
         "type": "float"
        },
        {
         "name": "861",
         "rawType": "float16",
         "type": "float"
        },
        {
         "name": "862",
         "rawType": "float16",
         "type": "float"
        },
        {
         "name": "863",
         "rawType": "float16",
         "type": "float"
        },
        {
         "name": "864",
         "rawType": "float16",
         "type": "float"
        },
        {
         "name": "865",
         "rawType": "float16",
         "type": "float"
        },
        {
         "name": "866",
         "rawType": "float16",
         "type": "float"
        },
        {
         "name": "867",
         "rawType": "float16",
         "type": "float"
        },
        {
         "name": "868",
         "rawType": "float16",
         "type": "float"
        },
        {
         "name": "869",
         "rawType": "float16",
         "type": "float"
        },
        {
         "name": "870",
         "rawType": "float16",
         "type": "float"
        },
        {
         "name": "871",
         "rawType": "float16",
         "type": "float"
        },
        {
         "name": "872",
         "rawType": "float16",
         "type": "float"
        },
        {
         "name": "873",
         "rawType": "float16",
         "type": "float"
        },
        {
         "name": "874",
         "rawType": "float16",
         "type": "float"
        },
        {
         "name": "875",
         "rawType": "float16",
         "type": "float"
        },
        {
         "name": "876",
         "rawType": "float16",
         "type": "float"
        },
        {
         "name": "877",
         "rawType": "float16",
         "type": "float"
        },
        {
         "name": "878",
         "rawType": "float16",
         "type": "float"
        },
        {
         "name": "879",
         "rawType": "float16",
         "type": "float"
        },
        {
         "name": "880",
         "rawType": "float16",
         "type": "float"
        },
        {
         "name": "881",
         "rawType": "float16",
         "type": "float"
        },
        {
         "name": "882",
         "rawType": "float16",
         "type": "float"
        },
        {
         "name": "883",
         "rawType": "float16",
         "type": "float"
        },
        {
         "name": "884",
         "rawType": "float16",
         "type": "float"
        },
        {
         "name": "885",
         "rawType": "float16",
         "type": "float"
        },
        {
         "name": "886",
         "rawType": "float16",
         "type": "float"
        },
        {
         "name": "887",
         "rawType": "float16",
         "type": "float"
        },
        {
         "name": "888",
         "rawType": "float16",
         "type": "float"
        },
        {
         "name": "889",
         "rawType": "float16",
         "type": "float"
        },
        {
         "name": "890",
         "rawType": "float16",
         "type": "float"
        },
        {
         "name": "891",
         "rawType": "float16",
         "type": "float"
        },
        {
         "name": "892",
         "rawType": "float16",
         "type": "float"
        },
        {
         "name": "893",
         "rawType": "float16",
         "type": "float"
        },
        {
         "name": "894",
         "rawType": "float16",
         "type": "float"
        },
        {
         "name": "895",
         "rawType": "float16",
         "type": "float"
        },
        {
         "name": "896",
         "rawType": "float16",
         "type": "float"
        },
        {
         "name": "897",
         "rawType": "float16",
         "type": "float"
        },
        {
         "name": "898",
         "rawType": "float16",
         "type": "float"
        },
        {
         "name": "899",
         "rawType": "float16",
         "type": "float"
        },
        {
         "name": "900",
         "rawType": "float16",
         "type": "float"
        },
        {
         "name": "901",
         "rawType": "float16",
         "type": "float"
        },
        {
         "name": "902",
         "rawType": "float16",
         "type": "float"
        },
        {
         "name": "903",
         "rawType": "float16",
         "type": "float"
        },
        {
         "name": "904",
         "rawType": "float16",
         "type": "float"
        },
        {
         "name": "905",
         "rawType": "float16",
         "type": "float"
        },
        {
         "name": "906",
         "rawType": "float16",
         "type": "float"
        },
        {
         "name": "907",
         "rawType": "float16",
         "type": "float"
        },
        {
         "name": "908",
         "rawType": "float16",
         "type": "float"
        },
        {
         "name": "909",
         "rawType": "float16",
         "type": "float"
        },
        {
         "name": "910",
         "rawType": "float16",
         "type": "float"
        },
        {
         "name": "911",
         "rawType": "float16",
         "type": "float"
        },
        {
         "name": "912",
         "rawType": "float16",
         "type": "float"
        },
        {
         "name": "913",
         "rawType": "float16",
         "type": "float"
        },
        {
         "name": "914",
         "rawType": "float16",
         "type": "float"
        },
        {
         "name": "915",
         "rawType": "float16",
         "type": "float"
        },
        {
         "name": "916",
         "rawType": "float16",
         "type": "float"
        },
        {
         "name": "917",
         "rawType": "float16",
         "type": "float"
        },
        {
         "name": "918",
         "rawType": "float16",
         "type": "float"
        },
        {
         "name": "919",
         "rawType": "float16",
         "type": "float"
        },
        {
         "name": "920",
         "rawType": "float16",
         "type": "float"
        },
        {
         "name": "921",
         "rawType": "float16",
         "type": "float"
        },
        {
         "name": "922",
         "rawType": "float16",
         "type": "float"
        },
        {
         "name": "923",
         "rawType": "float16",
         "type": "float"
        },
        {
         "name": "924",
         "rawType": "float16",
         "type": "float"
        },
        {
         "name": "925",
         "rawType": "float16",
         "type": "float"
        },
        {
         "name": "926",
         "rawType": "float16",
         "type": "float"
        },
        {
         "name": "927",
         "rawType": "float16",
         "type": "float"
        },
        {
         "name": "928",
         "rawType": "float16",
         "type": "float"
        },
        {
         "name": "929",
         "rawType": "float16",
         "type": "float"
        },
        {
         "name": "930",
         "rawType": "float16",
         "type": "float"
        },
        {
         "name": "931",
         "rawType": "float16",
         "type": "float"
        },
        {
         "name": "932",
         "rawType": "float16",
         "type": "float"
        },
        {
         "name": "933",
         "rawType": "float16",
         "type": "float"
        },
        {
         "name": "934",
         "rawType": "float16",
         "type": "float"
        },
        {
         "name": "935",
         "rawType": "float16",
         "type": "float"
        },
        {
         "name": "936",
         "rawType": "float16",
         "type": "float"
        },
        {
         "name": "937",
         "rawType": "float16",
         "type": "float"
        },
        {
         "name": "938",
         "rawType": "float16",
         "type": "float"
        },
        {
         "name": "939",
         "rawType": "float16",
         "type": "float"
        },
        {
         "name": "940",
         "rawType": "float16",
         "type": "float"
        },
        {
         "name": "941",
         "rawType": "float16",
         "type": "float"
        },
        {
         "name": "942",
         "rawType": "float16",
         "type": "float"
        },
        {
         "name": "943",
         "rawType": "float16",
         "type": "float"
        },
        {
         "name": "944",
         "rawType": "float16",
         "type": "float"
        },
        {
         "name": "945",
         "rawType": "float16",
         "type": "float"
        },
        {
         "name": "946",
         "rawType": "float16",
         "type": "float"
        },
        {
         "name": "947",
         "rawType": "float16",
         "type": "float"
        },
        {
         "name": "948",
         "rawType": "float16",
         "type": "float"
        },
        {
         "name": "949",
         "rawType": "float16",
         "type": "float"
        },
        {
         "name": "950",
         "rawType": "float16",
         "type": "float"
        },
        {
         "name": "951",
         "rawType": "float16",
         "type": "float"
        },
        {
         "name": "952",
         "rawType": "float16",
         "type": "float"
        },
        {
         "name": "953",
         "rawType": "float16",
         "type": "float"
        },
        {
         "name": "954",
         "rawType": "float16",
         "type": "float"
        },
        {
         "name": "955",
         "rawType": "float16",
         "type": "float"
        },
        {
         "name": "956",
         "rawType": "float16",
         "type": "float"
        },
        {
         "name": "957",
         "rawType": "float16",
         "type": "float"
        },
        {
         "name": "958",
         "rawType": "float16",
         "type": "float"
        },
        {
         "name": "959",
         "rawType": "float16",
         "type": "float"
        },
        {
         "name": "960",
         "rawType": "float16",
         "type": "float"
        },
        {
         "name": "961",
         "rawType": "float16",
         "type": "float"
        },
        {
         "name": "962",
         "rawType": "float16",
         "type": "float"
        },
        {
         "name": "963",
         "rawType": "float16",
         "type": "float"
        },
        {
         "name": "964",
         "rawType": "float16",
         "type": "float"
        },
        {
         "name": "965",
         "rawType": "float16",
         "type": "float"
        },
        {
         "name": "966",
         "rawType": "float16",
         "type": "float"
        },
        {
         "name": "967",
         "rawType": "float16",
         "type": "float"
        },
        {
         "name": "968",
         "rawType": "float16",
         "type": "float"
        },
        {
         "name": "969",
         "rawType": "float16",
         "type": "float"
        },
        {
         "name": "970",
         "rawType": "float16",
         "type": "float"
        },
        {
         "name": "971",
         "rawType": "float16",
         "type": "float"
        },
        {
         "name": "972",
         "rawType": "float16",
         "type": "float"
        },
        {
         "name": "973",
         "rawType": "float16",
         "type": "float"
        },
        {
         "name": "974",
         "rawType": "float16",
         "type": "float"
        },
        {
         "name": "975",
         "rawType": "float16",
         "type": "float"
        },
        {
         "name": "976",
         "rawType": "float16",
         "type": "float"
        },
        {
         "name": "977",
         "rawType": "float16",
         "type": "float"
        },
        {
         "name": "978",
         "rawType": "float16",
         "type": "float"
        },
        {
         "name": "979",
         "rawType": "float16",
         "type": "float"
        },
        {
         "name": "980",
         "rawType": "float16",
         "type": "float"
        },
        {
         "name": "981",
         "rawType": "float16",
         "type": "float"
        },
        {
         "name": "982",
         "rawType": "float16",
         "type": "float"
        },
        {
         "name": "983",
         "rawType": "float16",
         "type": "float"
        },
        {
         "name": "984",
         "rawType": "float16",
         "type": "float"
        },
        {
         "name": "985",
         "rawType": "float16",
         "type": "float"
        },
        {
         "name": "986",
         "rawType": "float16",
         "type": "float"
        },
        {
         "name": "987",
         "rawType": "float16",
         "type": "float"
        },
        {
         "name": "988",
         "rawType": "float16",
         "type": "float"
        },
        {
         "name": "989",
         "rawType": "float16",
         "type": "float"
        },
        {
         "name": "990",
         "rawType": "float16",
         "type": "float"
        },
        {
         "name": "991",
         "rawType": "float16",
         "type": "float"
        },
        {
         "name": "992",
         "rawType": "float16",
         "type": "float"
        },
        {
         "name": "993",
         "rawType": "float16",
         "type": "float"
        },
        {
         "name": "994",
         "rawType": "float16",
         "type": "float"
        },
        {
         "name": "995",
         "rawType": "float16",
         "type": "float"
        },
        {
         "name": "996",
         "rawType": "float16",
         "type": "float"
        },
        {
         "name": "997",
         "rawType": "float16",
         "type": "float"
        },
        {
         "name": "998",
         "rawType": "float16",
         "type": "float"
        },
        {
         "name": "999",
         "rawType": "float16",
         "type": "float"
        },
        {
         "name": "1000",
         "rawType": "float16",
         "type": "float"
        },
        {
         "name": "1001",
         "rawType": "float16",
         "type": "float"
        },
        {
         "name": "1002",
         "rawType": "float16",
         "type": "float"
        },
        {
         "name": "1003",
         "rawType": "float16",
         "type": "float"
        },
        {
         "name": "1004",
         "rawType": "float16",
         "type": "float"
        },
        {
         "name": "1005",
         "rawType": "float16",
         "type": "float"
        },
        {
         "name": "1006",
         "rawType": "float16",
         "type": "float"
        },
        {
         "name": "1007",
         "rawType": "float16",
         "type": "float"
        },
        {
         "name": "1008",
         "rawType": "float16",
         "type": "float"
        },
        {
         "name": "1009",
         "rawType": "float16",
         "type": "float"
        },
        {
         "name": "1010",
         "rawType": "float16",
         "type": "float"
        },
        {
         "name": "1011",
         "rawType": "float16",
         "type": "float"
        },
        {
         "name": "1012",
         "rawType": "float16",
         "type": "float"
        },
        {
         "name": "1013",
         "rawType": "float16",
         "type": "float"
        },
        {
         "name": "1014",
         "rawType": "float16",
         "type": "float"
        },
        {
         "name": "1015",
         "rawType": "float16",
         "type": "float"
        },
        {
         "name": "1016",
         "rawType": "float16",
         "type": "float"
        },
        {
         "name": "1017",
         "rawType": "float16",
         "type": "float"
        },
        {
         "name": "1018",
         "rawType": "float16",
         "type": "float"
        },
        {
         "name": "1019",
         "rawType": "float16",
         "type": "float"
        },
        {
         "name": "1020",
         "rawType": "float16",
         "type": "float"
        },
        {
         "name": "1021",
         "rawType": "float16",
         "type": "float"
        },
        {
         "name": "1022",
         "rawType": "float16",
         "type": "float"
        },
        {
         "name": "1023",
         "rawType": "float16",
         "type": "float"
        },
        {
         "name": "1024",
         "rawType": "float16",
         "type": "float"
        },
        {
         "name": "1025",
         "rawType": "float16",
         "type": "float"
        },
        {
         "name": "1026",
         "rawType": "float16",
         "type": "float"
        },
        {
         "name": "1027",
         "rawType": "float16",
         "type": "float"
        },
        {
         "name": "1028",
         "rawType": "float16",
         "type": "float"
        },
        {
         "name": "1029",
         "rawType": "float16",
         "type": "float"
        },
        {
         "name": "1030",
         "rawType": "float16",
         "type": "float"
        },
        {
         "name": "1031",
         "rawType": "float16",
         "type": "float"
        },
        {
         "name": "1032",
         "rawType": "float16",
         "type": "float"
        },
        {
         "name": "1033",
         "rawType": "float16",
         "type": "float"
        },
        {
         "name": "1034",
         "rawType": "float16",
         "type": "float"
        },
        {
         "name": "1035",
         "rawType": "float16",
         "type": "float"
        },
        {
         "name": "1036",
         "rawType": "float16",
         "type": "float"
        },
        {
         "name": "1037",
         "rawType": "float16",
         "type": "float"
        },
        {
         "name": "1038",
         "rawType": "float16",
         "type": "float"
        },
        {
         "name": "1039",
         "rawType": "float16",
         "type": "float"
        },
        {
         "name": "1040",
         "rawType": "float16",
         "type": "float"
        },
        {
         "name": "1041",
         "rawType": "float16",
         "type": "float"
        },
        {
         "name": "1042",
         "rawType": "float16",
         "type": "float"
        },
        {
         "name": "1043",
         "rawType": "float16",
         "type": "float"
        },
        {
         "name": "1044",
         "rawType": "float16",
         "type": "float"
        },
        {
         "name": "1045",
         "rawType": "float16",
         "type": "float"
        },
        {
         "name": "1046",
         "rawType": "float16",
         "type": "float"
        },
        {
         "name": "1047",
         "rawType": "float16",
         "type": "float"
        },
        {
         "name": "1048",
         "rawType": "float16",
         "type": "float"
        },
        {
         "name": "1049",
         "rawType": "float16",
         "type": "float"
        },
        {
         "name": "1050",
         "rawType": "float16",
         "type": "float"
        },
        {
         "name": "1051",
         "rawType": "float16",
         "type": "float"
        },
        {
         "name": "1052",
         "rawType": "float16",
         "type": "float"
        },
        {
         "name": "1053",
         "rawType": "float16",
         "type": "float"
        },
        {
         "name": "1054",
         "rawType": "float16",
         "type": "float"
        },
        {
         "name": "1055",
         "rawType": "float16",
         "type": "float"
        },
        {
         "name": "1056",
         "rawType": "float16",
         "type": "float"
        },
        {
         "name": "1057",
         "rawType": "float16",
         "type": "float"
        },
        {
         "name": "1058",
         "rawType": "float16",
         "type": "float"
        },
        {
         "name": "1059",
         "rawType": "float16",
         "type": "float"
        },
        {
         "name": "1060",
         "rawType": "float16",
         "type": "float"
        },
        {
         "name": "1061",
         "rawType": "float16",
         "type": "float"
        },
        {
         "name": "1062",
         "rawType": "float16",
         "type": "float"
        },
        {
         "name": "1063",
         "rawType": "float16",
         "type": "float"
        },
        {
         "name": "1064",
         "rawType": "float16",
         "type": "float"
        },
        {
         "name": "1065",
         "rawType": "float16",
         "type": "float"
        },
        {
         "name": "1066",
         "rawType": "float16",
         "type": "float"
        },
        {
         "name": "1067",
         "rawType": "float16",
         "type": "float"
        },
        {
         "name": "1068",
         "rawType": "float16",
         "type": "float"
        },
        {
         "name": "1069",
         "rawType": "float16",
         "type": "float"
        },
        {
         "name": "1070",
         "rawType": "float16",
         "type": "float"
        },
        {
         "name": "1071",
         "rawType": "float16",
         "type": "float"
        },
        {
         "name": "1072",
         "rawType": "float16",
         "type": "float"
        },
        {
         "name": "1073",
         "rawType": "float16",
         "type": "float"
        },
        {
         "name": "1074",
         "rawType": "float16",
         "type": "float"
        },
        {
         "name": "1075",
         "rawType": "float16",
         "type": "float"
        },
        {
         "name": "1076",
         "rawType": "float16",
         "type": "float"
        },
        {
         "name": "1077",
         "rawType": "float16",
         "type": "float"
        },
        {
         "name": "1078",
         "rawType": "float16",
         "type": "float"
        },
        {
         "name": "1079",
         "rawType": "float16",
         "type": "float"
        },
        {
         "name": "1080",
         "rawType": "float16",
         "type": "float"
        },
        {
         "name": "1081",
         "rawType": "float16",
         "type": "float"
        },
        {
         "name": "1082",
         "rawType": "float16",
         "type": "float"
        },
        {
         "name": "1083",
         "rawType": "float16",
         "type": "float"
        },
        {
         "name": "1084",
         "rawType": "float16",
         "type": "float"
        },
        {
         "name": "1085",
         "rawType": "float16",
         "type": "float"
        },
        {
         "name": "1086",
         "rawType": "float16",
         "type": "float"
        },
        {
         "name": "1087",
         "rawType": "float16",
         "type": "float"
        },
        {
         "name": "1088",
         "rawType": "float16",
         "type": "float"
        },
        {
         "name": "1089",
         "rawType": "float16",
         "type": "float"
        },
        {
         "name": "1090",
         "rawType": "float16",
         "type": "float"
        },
        {
         "name": "1091",
         "rawType": "float16",
         "type": "float"
        },
        {
         "name": "1092",
         "rawType": "float16",
         "type": "float"
        },
        {
         "name": "1093",
         "rawType": "float16",
         "type": "float"
        },
        {
         "name": "1094",
         "rawType": "float16",
         "type": "float"
        },
        {
         "name": "1095",
         "rawType": "float16",
         "type": "float"
        },
        {
         "name": "1096",
         "rawType": "float16",
         "type": "float"
        },
        {
         "name": "1097",
         "rawType": "float16",
         "type": "float"
        },
        {
         "name": "1098",
         "rawType": "float16",
         "type": "float"
        },
        {
         "name": "1099",
         "rawType": "float16",
         "type": "float"
        },
        {
         "name": "1100",
         "rawType": "float16",
         "type": "float"
        },
        {
         "name": "1101",
         "rawType": "float16",
         "type": "float"
        },
        {
         "name": "1102",
         "rawType": "float16",
         "type": "float"
        },
        {
         "name": "1103",
         "rawType": "float16",
         "type": "float"
        },
        {
         "name": "1104",
         "rawType": "float16",
         "type": "float"
        },
        {
         "name": "1105",
         "rawType": "float16",
         "type": "float"
        },
        {
         "name": "1106",
         "rawType": "float16",
         "type": "float"
        },
        {
         "name": "1107",
         "rawType": "float16",
         "type": "float"
        },
        {
         "name": "1108",
         "rawType": "float16",
         "type": "float"
        },
        {
         "name": "1109",
         "rawType": "float16",
         "type": "float"
        },
        {
         "name": "1110",
         "rawType": "float16",
         "type": "float"
        },
        {
         "name": "1111",
         "rawType": "float16",
         "type": "float"
        },
        {
         "name": "1112",
         "rawType": "float16",
         "type": "float"
        },
        {
         "name": "1113",
         "rawType": "float16",
         "type": "float"
        },
        {
         "name": "1114",
         "rawType": "float16",
         "type": "float"
        },
        {
         "name": "1115",
         "rawType": "float16",
         "type": "float"
        },
        {
         "name": "1116",
         "rawType": "float16",
         "type": "float"
        },
        {
         "name": "1117",
         "rawType": "float16",
         "type": "float"
        },
        {
         "name": "1118",
         "rawType": "float16",
         "type": "float"
        },
        {
         "name": "1119",
         "rawType": "float16",
         "type": "float"
        },
        {
         "name": "1120",
         "rawType": "float16",
         "type": "float"
        },
        {
         "name": "1121",
         "rawType": "float16",
         "type": "float"
        },
        {
         "name": "1122",
         "rawType": "float16",
         "type": "float"
        },
        {
         "name": "1123",
         "rawType": "float16",
         "type": "float"
        },
        {
         "name": "1124",
         "rawType": "float16",
         "type": "float"
        },
        {
         "name": "1125",
         "rawType": "float16",
         "type": "float"
        },
        {
         "name": "1126",
         "rawType": "float16",
         "type": "float"
        },
        {
         "name": "1127",
         "rawType": "float16",
         "type": "float"
        },
        {
         "name": "1128",
         "rawType": "float16",
         "type": "float"
        },
        {
         "name": "1129",
         "rawType": "float16",
         "type": "float"
        },
        {
         "name": "1130",
         "rawType": "float16",
         "type": "float"
        },
        {
         "name": "1131",
         "rawType": "float16",
         "type": "float"
        },
        {
         "name": "1132",
         "rawType": "float16",
         "type": "float"
        },
        {
         "name": "1133",
         "rawType": "float16",
         "type": "float"
        },
        {
         "name": "1134",
         "rawType": "float16",
         "type": "float"
        },
        {
         "name": "1135",
         "rawType": "float16",
         "type": "float"
        },
        {
         "name": "1136",
         "rawType": "float16",
         "type": "float"
        },
        {
         "name": "1137",
         "rawType": "float16",
         "type": "float"
        },
        {
         "name": "1138",
         "rawType": "float16",
         "type": "float"
        },
        {
         "name": "1139",
         "rawType": "float16",
         "type": "float"
        },
        {
         "name": "1140",
         "rawType": "float16",
         "type": "float"
        },
        {
         "name": "1141",
         "rawType": "float16",
         "type": "float"
        },
        {
         "name": "1142",
         "rawType": "float16",
         "type": "float"
        },
        {
         "name": "1143",
         "rawType": "float16",
         "type": "float"
        },
        {
         "name": "1144",
         "rawType": "float16",
         "type": "float"
        },
        {
         "name": "1145",
         "rawType": "float16",
         "type": "float"
        },
        {
         "name": "1146",
         "rawType": "float16",
         "type": "float"
        },
        {
         "name": "1147",
         "rawType": "float16",
         "type": "float"
        },
        {
         "name": "1148",
         "rawType": "float16",
         "type": "float"
        },
        {
         "name": "1149",
         "rawType": "float16",
         "type": "float"
        },
        {
         "name": "1150",
         "rawType": "float16",
         "type": "float"
        },
        {
         "name": "1151",
         "rawType": "float16",
         "type": "float"
        },
        {
         "name": "1152",
         "rawType": "float16",
         "type": "float"
        },
        {
         "name": "1153",
         "rawType": "float16",
         "type": "float"
        },
        {
         "name": "1154",
         "rawType": "float16",
         "type": "float"
        },
        {
         "name": "1155",
         "rawType": "float16",
         "type": "float"
        },
        {
         "name": "1156",
         "rawType": "float16",
         "type": "float"
        },
        {
         "name": "1157",
         "rawType": "float16",
         "type": "float"
        },
        {
         "name": "1158",
         "rawType": "float16",
         "type": "float"
        },
        {
         "name": "1159",
         "rawType": "float16",
         "type": "float"
        },
        {
         "name": "1160",
         "rawType": "float16",
         "type": "float"
        },
        {
         "name": "1161",
         "rawType": "float16",
         "type": "float"
        },
        {
         "name": "1162",
         "rawType": "float16",
         "type": "float"
        },
        {
         "name": "1163",
         "rawType": "float16",
         "type": "float"
        },
        {
         "name": "1164",
         "rawType": "float16",
         "type": "float"
        },
        {
         "name": "1165",
         "rawType": "float16",
         "type": "float"
        },
        {
         "name": "1166",
         "rawType": "float16",
         "type": "float"
        },
        {
         "name": "1167",
         "rawType": "float16",
         "type": "float"
        },
        {
         "name": "1168",
         "rawType": "float16",
         "type": "float"
        },
        {
         "name": "1169",
         "rawType": "float16",
         "type": "float"
        },
        {
         "name": "1170",
         "rawType": "float16",
         "type": "float"
        },
        {
         "name": "1171",
         "rawType": "float16",
         "type": "float"
        },
        {
         "name": "1172",
         "rawType": "float16",
         "type": "float"
        },
        {
         "name": "1173",
         "rawType": "float16",
         "type": "float"
        },
        {
         "name": "1174",
         "rawType": "float16",
         "type": "float"
        },
        {
         "name": "1175",
         "rawType": "float16",
         "type": "float"
        },
        {
         "name": "1176",
         "rawType": "float16",
         "type": "float"
        },
        {
         "name": "1177",
         "rawType": "float16",
         "type": "float"
        },
        {
         "name": "1178",
         "rawType": "float16",
         "type": "float"
        },
        {
         "name": "1179",
         "rawType": "float16",
         "type": "float"
        },
        {
         "name": "1180",
         "rawType": "float16",
         "type": "float"
        },
        {
         "name": "1181",
         "rawType": "float16",
         "type": "float"
        },
        {
         "name": "1182",
         "rawType": "float16",
         "type": "float"
        },
        {
         "name": "1183",
         "rawType": "float16",
         "type": "float"
        },
        {
         "name": "1184",
         "rawType": "float16",
         "type": "float"
        },
        {
         "name": "1185",
         "rawType": "float16",
         "type": "float"
        },
        {
         "name": "1186",
         "rawType": "float16",
         "type": "float"
        },
        {
         "name": "1187",
         "rawType": "float16",
         "type": "float"
        },
        {
         "name": "1188",
         "rawType": "float16",
         "type": "float"
        },
        {
         "name": "1189",
         "rawType": "float16",
         "type": "float"
        },
        {
         "name": "1190",
         "rawType": "float16",
         "type": "float"
        },
        {
         "name": "1191",
         "rawType": "float16",
         "type": "float"
        },
        {
         "name": "1192",
         "rawType": "float16",
         "type": "float"
        },
        {
         "name": "1193",
         "rawType": "float16",
         "type": "float"
        },
        {
         "name": "1194",
         "rawType": "float16",
         "type": "float"
        },
        {
         "name": "1195",
         "rawType": "float16",
         "type": "float"
        },
        {
         "name": "1196",
         "rawType": "float16",
         "type": "float"
        },
        {
         "name": "1197",
         "rawType": "float16",
         "type": "float"
        },
        {
         "name": "1198",
         "rawType": "float16",
         "type": "float"
        },
        {
         "name": "1199",
         "rawType": "float16",
         "type": "float"
        },
        {
         "name": "1200",
         "rawType": "float16",
         "type": "float"
        },
        {
         "name": "1201",
         "rawType": "float16",
         "type": "float"
        },
        {
         "name": "1202",
         "rawType": "float16",
         "type": "float"
        },
        {
         "name": "1203",
         "rawType": "float16",
         "type": "float"
        },
        {
         "name": "1204",
         "rawType": "float16",
         "type": "float"
        },
        {
         "name": "1205",
         "rawType": "float16",
         "type": "float"
        },
        {
         "name": "1206",
         "rawType": "float16",
         "type": "float"
        },
        {
         "name": "1207",
         "rawType": "float16",
         "type": "float"
        },
        {
         "name": "1208",
         "rawType": "float16",
         "type": "float"
        },
        {
         "name": "1209",
         "rawType": "float16",
         "type": "float"
        },
        {
         "name": "1210",
         "rawType": "float16",
         "type": "float"
        },
        {
         "name": "1211",
         "rawType": "float16",
         "type": "float"
        },
        {
         "name": "1212",
         "rawType": "float16",
         "type": "float"
        },
        {
         "name": "1213",
         "rawType": "float16",
         "type": "float"
        },
        {
         "name": "1214",
         "rawType": "float16",
         "type": "float"
        },
        {
         "name": "1215",
         "rawType": "float16",
         "type": "float"
        },
        {
         "name": "1216",
         "rawType": "float16",
         "type": "float"
        },
        {
         "name": "1217",
         "rawType": "float16",
         "type": "float"
        },
        {
         "name": "1218",
         "rawType": "float16",
         "type": "float"
        },
        {
         "name": "1219",
         "rawType": "float16",
         "type": "float"
        },
        {
         "name": "1220",
         "rawType": "float16",
         "type": "float"
        },
        {
         "name": "1221",
         "rawType": "float16",
         "type": "float"
        },
        {
         "name": "1222",
         "rawType": "float16",
         "type": "float"
        },
        {
         "name": "1223",
         "rawType": "float16",
         "type": "float"
        },
        {
         "name": "1224",
         "rawType": "float16",
         "type": "float"
        },
        {
         "name": "1225",
         "rawType": "float16",
         "type": "float"
        },
        {
         "name": "1226",
         "rawType": "float16",
         "type": "float"
        },
        {
         "name": "1227",
         "rawType": "float16",
         "type": "float"
        },
        {
         "name": "1228",
         "rawType": "float16",
         "type": "float"
        },
        {
         "name": "1229",
         "rawType": "float16",
         "type": "float"
        },
        {
         "name": "1230",
         "rawType": "float16",
         "type": "float"
        },
        {
         "name": "1231",
         "rawType": "float16",
         "type": "float"
        },
        {
         "name": "1232",
         "rawType": "float16",
         "type": "float"
        },
        {
         "name": "1233",
         "rawType": "float16",
         "type": "float"
        },
        {
         "name": "1234",
         "rawType": "float16",
         "type": "float"
        },
        {
         "name": "1235",
         "rawType": "float16",
         "type": "float"
        },
        {
         "name": "1236",
         "rawType": "float16",
         "type": "float"
        },
        {
         "name": "1237",
         "rawType": "float16",
         "type": "float"
        },
        {
         "name": "1238",
         "rawType": "float16",
         "type": "float"
        },
        {
         "name": "1239",
         "rawType": "float16",
         "type": "float"
        },
        {
         "name": "1240",
         "rawType": "float16",
         "type": "float"
        },
        {
         "name": "1241",
         "rawType": "float16",
         "type": "float"
        },
        {
         "name": "1242",
         "rawType": "float16",
         "type": "float"
        },
        {
         "name": "1243",
         "rawType": "float16",
         "type": "float"
        },
        {
         "name": "1244",
         "rawType": "float16",
         "type": "float"
        },
        {
         "name": "1245",
         "rawType": "float16",
         "type": "float"
        },
        {
         "name": "1246",
         "rawType": "float16",
         "type": "float"
        },
        {
         "name": "1247",
         "rawType": "float16",
         "type": "float"
        },
        {
         "name": "1248",
         "rawType": "float16",
         "type": "float"
        },
        {
         "name": "1249",
         "rawType": "float16",
         "type": "float"
        },
        {
         "name": "1250",
         "rawType": "float16",
         "type": "float"
        },
        {
         "name": "1251",
         "rawType": "float16",
         "type": "float"
        },
        {
         "name": "1252",
         "rawType": "float16",
         "type": "float"
        },
        {
         "name": "1253",
         "rawType": "float16",
         "type": "float"
        },
        {
         "name": "1254",
         "rawType": "float16",
         "type": "float"
        },
        {
         "name": "1255",
         "rawType": "float16",
         "type": "float"
        },
        {
         "name": "1256",
         "rawType": "float16",
         "type": "float"
        },
        {
         "name": "1257",
         "rawType": "float16",
         "type": "float"
        },
        {
         "name": "1258",
         "rawType": "float16",
         "type": "float"
        },
        {
         "name": "1259",
         "rawType": "float16",
         "type": "float"
        },
        {
         "name": "1260",
         "rawType": "float16",
         "type": "float"
        },
        {
         "name": "1261",
         "rawType": "float16",
         "type": "float"
        },
        {
         "name": "1262",
         "rawType": "float16",
         "type": "float"
        },
        {
         "name": "1263",
         "rawType": "float16",
         "type": "float"
        },
        {
         "name": "1264",
         "rawType": "float16",
         "type": "float"
        },
        {
         "name": "1265",
         "rawType": "float16",
         "type": "float"
        },
        {
         "name": "1266",
         "rawType": "float16",
         "type": "float"
        },
        {
         "name": "1267",
         "rawType": "float16",
         "type": "float"
        },
        {
         "name": "1268",
         "rawType": "float16",
         "type": "float"
        },
        {
         "name": "1269",
         "rawType": "float16",
         "type": "float"
        },
        {
         "name": "1270",
         "rawType": "float16",
         "type": "float"
        },
        {
         "name": "1271",
         "rawType": "float16",
         "type": "float"
        },
        {
         "name": "1272",
         "rawType": "float16",
         "type": "float"
        },
        {
         "name": "1273",
         "rawType": "float16",
         "type": "float"
        },
        {
         "name": "1274",
         "rawType": "float16",
         "type": "float"
        },
        {
         "name": "1275",
         "rawType": "float16",
         "type": "float"
        },
        {
         "name": "1276",
         "rawType": "float16",
         "type": "float"
        },
        {
         "name": "1277",
         "rawType": "float16",
         "type": "float"
        },
        {
         "name": "1278",
         "rawType": "float16",
         "type": "float"
        },
        {
         "name": "1279",
         "rawType": "float16",
         "type": "float"
        },
        {
         "name": "1280",
         "rawType": "float16",
         "type": "float"
        },
        {
         "name": "1281",
         "rawType": "float16",
         "type": "float"
        },
        {
         "name": "1282",
         "rawType": "float16",
         "type": "float"
        },
        {
         "name": "1283",
         "rawType": "float16",
         "type": "float"
        },
        {
         "name": "1284",
         "rawType": "float16",
         "type": "float"
        },
        {
         "name": "1285",
         "rawType": "float16",
         "type": "float"
        },
        {
         "name": "1286",
         "rawType": "float16",
         "type": "float"
        },
        {
         "name": "1287",
         "rawType": "float16",
         "type": "float"
        },
        {
         "name": "1288",
         "rawType": "float16",
         "type": "float"
        },
        {
         "name": "1289",
         "rawType": "float16",
         "type": "float"
        },
        {
         "name": "1290",
         "rawType": "float16",
         "type": "float"
        },
        {
         "name": "1291",
         "rawType": "float16",
         "type": "float"
        },
        {
         "name": "1292",
         "rawType": "float16",
         "type": "float"
        },
        {
         "name": "1293",
         "rawType": "float16",
         "type": "float"
        },
        {
         "name": "1294",
         "rawType": "float16",
         "type": "float"
        },
        {
         "name": "1295",
         "rawType": "float16",
         "type": "float"
        },
        {
         "name": "1296",
         "rawType": "float16",
         "type": "float"
        },
        {
         "name": "1297",
         "rawType": "float16",
         "type": "float"
        },
        {
         "name": "1298",
         "rawType": "float16",
         "type": "float"
        },
        {
         "name": "1299",
         "rawType": "float16",
         "type": "float"
        },
        {
         "name": "1300",
         "rawType": "float16",
         "type": "float"
        },
        {
         "name": "1301",
         "rawType": "float16",
         "type": "float"
        },
        {
         "name": "1302",
         "rawType": "float16",
         "type": "float"
        },
        {
         "name": "1303",
         "rawType": "float16",
         "type": "float"
        },
        {
         "name": "1304",
         "rawType": "float16",
         "type": "float"
        },
        {
         "name": "1305",
         "rawType": "float16",
         "type": "float"
        },
        {
         "name": "1306",
         "rawType": "float16",
         "type": "float"
        },
        {
         "name": "1307",
         "rawType": "float16",
         "type": "float"
        },
        {
         "name": "1308",
         "rawType": "float16",
         "type": "float"
        },
        {
         "name": "1309",
         "rawType": "float16",
         "type": "float"
        },
        {
         "name": "1310",
         "rawType": "float16",
         "type": "float"
        },
        {
         "name": "1311",
         "rawType": "float16",
         "type": "float"
        },
        {
         "name": "1312",
         "rawType": "float16",
         "type": "float"
        },
        {
         "name": "1313",
         "rawType": "float16",
         "type": "float"
        },
        {
         "name": "1314",
         "rawType": "float16",
         "type": "float"
        },
        {
         "name": "1315",
         "rawType": "float16",
         "type": "float"
        },
        {
         "name": "1316",
         "rawType": "float16",
         "type": "float"
        },
        {
         "name": "1317",
         "rawType": "float16",
         "type": "float"
        },
        {
         "name": "1318",
         "rawType": "float16",
         "type": "float"
        },
        {
         "name": "1319",
         "rawType": "float16",
         "type": "float"
        },
        {
         "name": "1320",
         "rawType": "float16",
         "type": "float"
        },
        {
         "name": "1321",
         "rawType": "float16",
         "type": "float"
        },
        {
         "name": "1322",
         "rawType": "float16",
         "type": "float"
        },
        {
         "name": "1323",
         "rawType": "float16",
         "type": "float"
        },
        {
         "name": "1324",
         "rawType": "float16",
         "type": "float"
        },
        {
         "name": "1325",
         "rawType": "float16",
         "type": "float"
        },
        {
         "name": "1326",
         "rawType": "float16",
         "type": "float"
        },
        {
         "name": "1327",
         "rawType": "float16",
         "type": "float"
        },
        {
         "name": "1328",
         "rawType": "float16",
         "type": "float"
        },
        {
         "name": "1329",
         "rawType": "float16",
         "type": "float"
        },
        {
         "name": "1330",
         "rawType": "float16",
         "type": "float"
        },
        {
         "name": "1331",
         "rawType": "float16",
         "type": "float"
        },
        {
         "name": "1332",
         "rawType": "float16",
         "type": "float"
        },
        {
         "name": "1333",
         "rawType": "float16",
         "type": "float"
        },
        {
         "name": "1334",
         "rawType": "float16",
         "type": "float"
        },
        {
         "name": "1335",
         "rawType": "float16",
         "type": "float"
        },
        {
         "name": "1336",
         "rawType": "float16",
         "type": "float"
        },
        {
         "name": "1337",
         "rawType": "float16",
         "type": "float"
        },
        {
         "name": "1338",
         "rawType": "float16",
         "type": "float"
        },
        {
         "name": "1339",
         "rawType": "float16",
         "type": "float"
        },
        {
         "name": "1340",
         "rawType": "float16",
         "type": "float"
        },
        {
         "name": "1341",
         "rawType": "float16",
         "type": "float"
        },
        {
         "name": "1342",
         "rawType": "float16",
         "type": "float"
        },
        {
         "name": "1343",
         "rawType": "float16",
         "type": "float"
        },
        {
         "name": "1344",
         "rawType": "float16",
         "type": "float"
        },
        {
         "name": "1345",
         "rawType": "float16",
         "type": "float"
        },
        {
         "name": "1346",
         "rawType": "float16",
         "type": "float"
        },
        {
         "name": "1347",
         "rawType": "float16",
         "type": "float"
        },
        {
         "name": "1348",
         "rawType": "float16",
         "type": "float"
        },
        {
         "name": "1349",
         "rawType": "float16",
         "type": "float"
        },
        {
         "name": "1350",
         "rawType": "float16",
         "type": "float"
        },
        {
         "name": "1351",
         "rawType": "float16",
         "type": "float"
        },
        {
         "name": "1352",
         "rawType": "float16",
         "type": "float"
        },
        {
         "name": "1353",
         "rawType": "float16",
         "type": "float"
        },
        {
         "name": "1354",
         "rawType": "float16",
         "type": "float"
        },
        {
         "name": "1355",
         "rawType": "float16",
         "type": "float"
        },
        {
         "name": "1356",
         "rawType": "float16",
         "type": "float"
        },
        {
         "name": "1357",
         "rawType": "float16",
         "type": "float"
        },
        {
         "name": "1358",
         "rawType": "float16",
         "type": "float"
        },
        {
         "name": "1359",
         "rawType": "float16",
         "type": "float"
        },
        {
         "name": "1360",
         "rawType": "float16",
         "type": "float"
        },
        {
         "name": "1361",
         "rawType": "float16",
         "type": "float"
        },
        {
         "name": "1362",
         "rawType": "float16",
         "type": "float"
        },
        {
         "name": "1363",
         "rawType": "float16",
         "type": "float"
        },
        {
         "name": "1364",
         "rawType": "float16",
         "type": "float"
        },
        {
         "name": "1365",
         "rawType": "float16",
         "type": "float"
        },
        {
         "name": "1366",
         "rawType": "float16",
         "type": "float"
        },
        {
         "name": "1367",
         "rawType": "float16",
         "type": "float"
        },
        {
         "name": "1368",
         "rawType": "float16",
         "type": "float"
        },
        {
         "name": "1369",
         "rawType": "float16",
         "type": "float"
        },
        {
         "name": "1370",
         "rawType": "float16",
         "type": "float"
        },
        {
         "name": "1371",
         "rawType": "float16",
         "type": "float"
        },
        {
         "name": "1372",
         "rawType": "float16",
         "type": "float"
        },
        {
         "name": "1373",
         "rawType": "float16",
         "type": "float"
        },
        {
         "name": "1374",
         "rawType": "float16",
         "type": "float"
        },
        {
         "name": "1375",
         "rawType": "float16",
         "type": "float"
        },
        {
         "name": "1376",
         "rawType": "float16",
         "type": "float"
        },
        {
         "name": "1377",
         "rawType": "float16",
         "type": "float"
        },
        {
         "name": "1378",
         "rawType": "float16",
         "type": "float"
        },
        {
         "name": "1379",
         "rawType": "float16",
         "type": "float"
        },
        {
         "name": "1380",
         "rawType": "float16",
         "type": "float"
        },
        {
         "name": "1381",
         "rawType": "float16",
         "type": "float"
        },
        {
         "name": "1382",
         "rawType": "float16",
         "type": "float"
        },
        {
         "name": "1383",
         "rawType": "float16",
         "type": "float"
        },
        {
         "name": "1384",
         "rawType": "float16",
         "type": "float"
        },
        {
         "name": "1385",
         "rawType": "float16",
         "type": "float"
        },
        {
         "name": "1386",
         "rawType": "float16",
         "type": "float"
        },
        {
         "name": "1387",
         "rawType": "float16",
         "type": "float"
        },
        {
         "name": "1388",
         "rawType": "float16",
         "type": "float"
        },
        {
         "name": "1389",
         "rawType": "float16",
         "type": "float"
        },
        {
         "name": "1390",
         "rawType": "float16",
         "type": "float"
        },
        {
         "name": "1391",
         "rawType": "float16",
         "type": "float"
        },
        {
         "name": "1392",
         "rawType": "float16",
         "type": "float"
        },
        {
         "name": "1393",
         "rawType": "float16",
         "type": "float"
        },
        {
         "name": "1394",
         "rawType": "float16",
         "type": "float"
        },
        {
         "name": "1395",
         "rawType": "float16",
         "type": "float"
        },
        {
         "name": "1396",
         "rawType": "float16",
         "type": "float"
        },
        {
         "name": "1397",
         "rawType": "float16",
         "type": "float"
        },
        {
         "name": "1398",
         "rawType": "float16",
         "type": "float"
        },
        {
         "name": "1399",
         "rawType": "float16",
         "type": "float"
        },
        {
         "name": "1400",
         "rawType": "float16",
         "type": "float"
        },
        {
         "name": "1401",
         "rawType": "float16",
         "type": "float"
        },
        {
         "name": "1402",
         "rawType": "float16",
         "type": "float"
        },
        {
         "name": "1403",
         "rawType": "float16",
         "type": "float"
        },
        {
         "name": "1404",
         "rawType": "float16",
         "type": "float"
        },
        {
         "name": "1405",
         "rawType": "float16",
         "type": "float"
        },
        {
         "name": "1406",
         "rawType": "float16",
         "type": "float"
        },
        {
         "name": "1407",
         "rawType": "float16",
         "type": "float"
        },
        {
         "name": "1408",
         "rawType": "float16",
         "type": "float"
        },
        {
         "name": "1409",
         "rawType": "float16",
         "type": "float"
        },
        {
         "name": "1410",
         "rawType": "float16",
         "type": "float"
        },
        {
         "name": "1411",
         "rawType": "float16",
         "type": "float"
        },
        {
         "name": "1412",
         "rawType": "float16",
         "type": "float"
        },
        {
         "name": "1413",
         "rawType": "float16",
         "type": "float"
        },
        {
         "name": "1414",
         "rawType": "float16",
         "type": "float"
        },
        {
         "name": "1415",
         "rawType": "float16",
         "type": "float"
        },
        {
         "name": "1416",
         "rawType": "float16",
         "type": "float"
        },
        {
         "name": "1417",
         "rawType": "float16",
         "type": "float"
        },
        {
         "name": "1418",
         "rawType": "float16",
         "type": "float"
        },
        {
         "name": "1419",
         "rawType": "float16",
         "type": "float"
        },
        {
         "name": "1420",
         "rawType": "float16",
         "type": "float"
        },
        {
         "name": "1421",
         "rawType": "float16",
         "type": "float"
        },
        {
         "name": "1422",
         "rawType": "float16",
         "type": "float"
        },
        {
         "name": "1423",
         "rawType": "float16",
         "type": "float"
        },
        {
         "name": "1424",
         "rawType": "float16",
         "type": "float"
        },
        {
         "name": "1425",
         "rawType": "float16",
         "type": "float"
        },
        {
         "name": "1426",
         "rawType": "float16",
         "type": "float"
        },
        {
         "name": "1427",
         "rawType": "float16",
         "type": "float"
        },
        {
         "name": "1428",
         "rawType": "float16",
         "type": "float"
        },
        {
         "name": "1429",
         "rawType": "float16",
         "type": "float"
        },
        {
         "name": "1430",
         "rawType": "float16",
         "type": "float"
        },
        {
         "name": "1431",
         "rawType": "float16",
         "type": "float"
        },
        {
         "name": "1432",
         "rawType": "float16",
         "type": "float"
        },
        {
         "name": "1433",
         "rawType": "float16",
         "type": "float"
        },
        {
         "name": "1434",
         "rawType": "float16",
         "type": "float"
        },
        {
         "name": "1435",
         "rawType": "float16",
         "type": "float"
        },
        {
         "name": "1436",
         "rawType": "float16",
         "type": "float"
        },
        {
         "name": "1437",
         "rawType": "float16",
         "type": "float"
        },
        {
         "name": "1438",
         "rawType": "float16",
         "type": "float"
        },
        {
         "name": "1439",
         "rawType": "float16",
         "type": "float"
        },
        {
         "name": "1440",
         "rawType": "float16",
         "type": "float"
        },
        {
         "name": "1441",
         "rawType": "float16",
         "type": "float"
        },
        {
         "name": "1442",
         "rawType": "float16",
         "type": "float"
        },
        {
         "name": "1443",
         "rawType": "float16",
         "type": "float"
        },
        {
         "name": "1444",
         "rawType": "float16",
         "type": "float"
        },
        {
         "name": "1445",
         "rawType": "float16",
         "type": "float"
        },
        {
         "name": "1446",
         "rawType": "float16",
         "type": "float"
        },
        {
         "name": "1447",
         "rawType": "float16",
         "type": "float"
        },
        {
         "name": "1448",
         "rawType": "float16",
         "type": "float"
        },
        {
         "name": "1449",
         "rawType": "float16",
         "type": "float"
        },
        {
         "name": "1450",
         "rawType": "float16",
         "type": "float"
        },
        {
         "name": "1451",
         "rawType": "float16",
         "type": "float"
        },
        {
         "name": "1452",
         "rawType": "float16",
         "type": "float"
        },
        {
         "name": "1453",
         "rawType": "float16",
         "type": "float"
        },
        {
         "name": "1454",
         "rawType": "float16",
         "type": "float"
        },
        {
         "name": "1455",
         "rawType": "float16",
         "type": "float"
        },
        {
         "name": "1456",
         "rawType": "float16",
         "type": "float"
        },
        {
         "name": "1457",
         "rawType": "float16",
         "type": "float"
        },
        {
         "name": "1458",
         "rawType": "float16",
         "type": "float"
        },
        {
         "name": "1459",
         "rawType": "float16",
         "type": "float"
        },
        {
         "name": "1460",
         "rawType": "float16",
         "type": "float"
        },
        {
         "name": "1461",
         "rawType": "float16",
         "type": "float"
        },
        {
         "name": "1462",
         "rawType": "float16",
         "type": "float"
        },
        {
         "name": "1463",
         "rawType": "float16",
         "type": "float"
        },
        {
         "name": "1464",
         "rawType": "float16",
         "type": "float"
        },
        {
         "name": "1465",
         "rawType": "float16",
         "type": "float"
        },
        {
         "name": "1466",
         "rawType": "float16",
         "type": "float"
        },
        {
         "name": "1467",
         "rawType": "float16",
         "type": "float"
        },
        {
         "name": "1468",
         "rawType": "float16",
         "type": "float"
        },
        {
         "name": "1469",
         "rawType": "float16",
         "type": "float"
        },
        {
         "name": "1470",
         "rawType": "float16",
         "type": "float"
        },
        {
         "name": "1471",
         "rawType": "float16",
         "type": "float"
        },
        {
         "name": "1472",
         "rawType": "float16",
         "type": "float"
        },
        {
         "name": "1473",
         "rawType": "float16",
         "type": "float"
        },
        {
         "name": "1474",
         "rawType": "float16",
         "type": "float"
        },
        {
         "name": "1475",
         "rawType": "float16",
         "type": "float"
        },
        {
         "name": "1476",
         "rawType": "float16",
         "type": "float"
        },
        {
         "name": "1477",
         "rawType": "float16",
         "type": "float"
        },
        {
         "name": "1478",
         "rawType": "float16",
         "type": "float"
        },
        {
         "name": "1479",
         "rawType": "float16",
         "type": "float"
        },
        {
         "name": "1480",
         "rawType": "float16",
         "type": "float"
        },
        {
         "name": "1481",
         "rawType": "float16",
         "type": "float"
        },
        {
         "name": "1482",
         "rawType": "float16",
         "type": "float"
        },
        {
         "name": "1483",
         "rawType": "float16",
         "type": "float"
        },
        {
         "name": "1484",
         "rawType": "float16",
         "type": "float"
        },
        {
         "name": "1485",
         "rawType": "float16",
         "type": "float"
        },
        {
         "name": "1486",
         "rawType": "float16",
         "type": "float"
        },
        {
         "name": "1487",
         "rawType": "float16",
         "type": "float"
        },
        {
         "name": "1488",
         "rawType": "float16",
         "type": "float"
        },
        {
         "name": "1489",
         "rawType": "float16",
         "type": "float"
        },
        {
         "name": "1490",
         "rawType": "float16",
         "type": "float"
        },
        {
         "name": "1491",
         "rawType": "float16",
         "type": "float"
        },
        {
         "name": "1492",
         "rawType": "float16",
         "type": "float"
        },
        {
         "name": "1493",
         "rawType": "float16",
         "type": "float"
        },
        {
         "name": "1494",
         "rawType": "float16",
         "type": "float"
        },
        {
         "name": "1495",
         "rawType": "float16",
         "type": "float"
        },
        {
         "name": "1496",
         "rawType": "float16",
         "type": "float"
        },
        {
         "name": "1497",
         "rawType": "float16",
         "type": "float"
        },
        {
         "name": "1498",
         "rawType": "float16",
         "type": "float"
        },
        {
         "name": "1499",
         "rawType": "float16",
         "type": "float"
        },
        {
         "name": "1500",
         "rawType": "float16",
         "type": "float"
        },
        {
         "name": "1501",
         "rawType": "float16",
         "type": "float"
        },
        {
         "name": "1502",
         "rawType": "float16",
         "type": "float"
        },
        {
         "name": "1503",
         "rawType": "float16",
         "type": "float"
        },
        {
         "name": "1504",
         "rawType": "float16",
         "type": "float"
        },
        {
         "name": "1505",
         "rawType": "float16",
         "type": "float"
        },
        {
         "name": "1506",
         "rawType": "float16",
         "type": "float"
        },
        {
         "name": "1507",
         "rawType": "float16",
         "type": "float"
        },
        {
         "name": "1508",
         "rawType": "float16",
         "type": "float"
        },
        {
         "name": "1509",
         "rawType": "float16",
         "type": "float"
        },
        {
         "name": "1510",
         "rawType": "float16",
         "type": "float"
        },
        {
         "name": "1511",
         "rawType": "float16",
         "type": "float"
        },
        {
         "name": "1512",
         "rawType": "float16",
         "type": "float"
        },
        {
         "name": "1513",
         "rawType": "float16",
         "type": "float"
        },
        {
         "name": "1514",
         "rawType": "float16",
         "type": "float"
        },
        {
         "name": "1515",
         "rawType": "float16",
         "type": "float"
        },
        {
         "name": "1516",
         "rawType": "float16",
         "type": "float"
        },
        {
         "name": "1517",
         "rawType": "float16",
         "type": "float"
        },
        {
         "name": "1518",
         "rawType": "float16",
         "type": "float"
        },
        {
         "name": "1519",
         "rawType": "float16",
         "type": "float"
        },
        {
         "name": "1520",
         "rawType": "float16",
         "type": "float"
        },
        {
         "name": "1521",
         "rawType": "float16",
         "type": "float"
        },
        {
         "name": "1522",
         "rawType": "float16",
         "type": "float"
        },
        {
         "name": "1523",
         "rawType": "float16",
         "type": "float"
        },
        {
         "name": "1524",
         "rawType": "float16",
         "type": "float"
        },
        {
         "name": "1525",
         "rawType": "float16",
         "type": "float"
        },
        {
         "name": "1526",
         "rawType": "float16",
         "type": "float"
        },
        {
         "name": "1527",
         "rawType": "float16",
         "type": "float"
        },
        {
         "name": "1528",
         "rawType": "float16",
         "type": "float"
        },
        {
         "name": "1529",
         "rawType": "float16",
         "type": "float"
        },
        {
         "name": "1530",
         "rawType": "float16",
         "type": "float"
        },
        {
         "name": "1531",
         "rawType": "float16",
         "type": "float"
        },
        {
         "name": "1532",
         "rawType": "float16",
         "type": "float"
        },
        {
         "name": "1533",
         "rawType": "float16",
         "type": "float"
        },
        {
         "name": "1534",
         "rawType": "float16",
         "type": "float"
        },
        {
         "name": "1535",
         "rawType": "float16",
         "type": "float"
        },
        {
         "name": "1536",
         "rawType": "float16",
         "type": "float"
        },
        {
         "name": "1537",
         "rawType": "float16",
         "type": "float"
        },
        {
         "name": "1538",
         "rawType": "float16",
         "type": "float"
        },
        {
         "name": "1539",
         "rawType": "float16",
         "type": "float"
        },
        {
         "name": "1540",
         "rawType": "float16",
         "type": "float"
        },
        {
         "name": "1541",
         "rawType": "float16",
         "type": "float"
        },
        {
         "name": "1542",
         "rawType": "float16",
         "type": "float"
        },
        {
         "name": "1543",
         "rawType": "float16",
         "type": "float"
        },
        {
         "name": "1544",
         "rawType": "float16",
         "type": "float"
        },
        {
         "name": "1545",
         "rawType": "float16",
         "type": "float"
        },
        {
         "name": "1546",
         "rawType": "float16",
         "type": "float"
        },
        {
         "name": "1547",
         "rawType": "float16",
         "type": "float"
        },
        {
         "name": "1548",
         "rawType": "float16",
         "type": "float"
        },
        {
         "name": "1549",
         "rawType": "float16",
         "type": "float"
        },
        {
         "name": "1550",
         "rawType": "float16",
         "type": "float"
        },
        {
         "name": "1551",
         "rawType": "float16",
         "type": "float"
        },
        {
         "name": "1552",
         "rawType": "float16",
         "type": "float"
        },
        {
         "name": "1553",
         "rawType": "float16",
         "type": "float"
        },
        {
         "name": "1554",
         "rawType": "float16",
         "type": "float"
        },
        {
         "name": "1555",
         "rawType": "float16",
         "type": "float"
        },
        {
         "name": "1556",
         "rawType": "float16",
         "type": "float"
        },
        {
         "name": "1557",
         "rawType": "float16",
         "type": "float"
        },
        {
         "name": "1558",
         "rawType": "float16",
         "type": "float"
        },
        {
         "name": "1559",
         "rawType": "float16",
         "type": "float"
        },
        {
         "name": "1560",
         "rawType": "float16",
         "type": "float"
        },
        {
         "name": "1561",
         "rawType": "float16",
         "type": "float"
        },
        {
         "name": "1562",
         "rawType": "float16",
         "type": "float"
        },
        {
         "name": "1563",
         "rawType": "float16",
         "type": "float"
        },
        {
         "name": "1564",
         "rawType": "float16",
         "type": "float"
        },
        {
         "name": "1565",
         "rawType": "float16",
         "type": "float"
        },
        {
         "name": "1566",
         "rawType": "float16",
         "type": "float"
        },
        {
         "name": "1567",
         "rawType": "float16",
         "type": "float"
        },
        {
         "name": "1568",
         "rawType": "float16",
         "type": "float"
        },
        {
         "name": "1569",
         "rawType": "float16",
         "type": "float"
        },
        {
         "name": "1570",
         "rawType": "float16",
         "type": "float"
        },
        {
         "name": "1571",
         "rawType": "float16",
         "type": "float"
        },
        {
         "name": "1572",
         "rawType": "float16",
         "type": "float"
        },
        {
         "name": "1573",
         "rawType": "float16",
         "type": "float"
        },
        {
         "name": "1574",
         "rawType": "float16",
         "type": "float"
        },
        {
         "name": "1575",
         "rawType": "float16",
         "type": "float"
        },
        {
         "name": "1576",
         "rawType": "float16",
         "type": "float"
        },
        {
         "name": "1577",
         "rawType": "float16",
         "type": "float"
        },
        {
         "name": "1578",
         "rawType": "float16",
         "type": "float"
        },
        {
         "name": "1579",
         "rawType": "float16",
         "type": "float"
        },
        {
         "name": "1580",
         "rawType": "float16",
         "type": "float"
        },
        {
         "name": "1581",
         "rawType": "float16",
         "type": "float"
        },
        {
         "name": "1582",
         "rawType": "float16",
         "type": "float"
        },
        {
         "name": "1583",
         "rawType": "float16",
         "type": "float"
        },
        {
         "name": "1584",
         "rawType": "float16",
         "type": "float"
        },
        {
         "name": "1585",
         "rawType": "float16",
         "type": "float"
        },
        {
         "name": "1586",
         "rawType": "float16",
         "type": "float"
        },
        {
         "name": "1587",
         "rawType": "float16",
         "type": "float"
        },
        {
         "name": "1588",
         "rawType": "float16",
         "type": "float"
        },
        {
         "name": "1589",
         "rawType": "float16",
         "type": "float"
        },
        {
         "name": "1590",
         "rawType": "float16",
         "type": "float"
        },
        {
         "name": "1591",
         "rawType": "float16",
         "type": "float"
        },
        {
         "name": "1592",
         "rawType": "float16",
         "type": "float"
        },
        {
         "name": "1593",
         "rawType": "float16",
         "type": "float"
        },
        {
         "name": "1594",
         "rawType": "float16",
         "type": "float"
        },
        {
         "name": "1595",
         "rawType": "float16",
         "type": "float"
        },
        {
         "name": "1596",
         "rawType": "float16",
         "type": "float"
        },
        {
         "name": "1597",
         "rawType": "float16",
         "type": "float"
        },
        {
         "name": "1598",
         "rawType": "float16",
         "type": "float"
        },
        {
         "name": "1599",
         "rawType": "float16",
         "type": "float"
        },
        {
         "name": "1600",
         "rawType": "float16",
         "type": "float"
        },
        {
         "name": "1601",
         "rawType": "float16",
         "type": "float"
        },
        {
         "name": "1602",
         "rawType": "float16",
         "type": "float"
        },
        {
         "name": "1603",
         "rawType": "float16",
         "type": "float"
        },
        {
         "name": "1604",
         "rawType": "float16",
         "type": "float"
        },
        {
         "name": "1605",
         "rawType": "float16",
         "type": "float"
        },
        {
         "name": "1606",
         "rawType": "float16",
         "type": "float"
        },
        {
         "name": "1607",
         "rawType": "float16",
         "type": "float"
        },
        {
         "name": "1608",
         "rawType": "float16",
         "type": "float"
        },
        {
         "name": "1609",
         "rawType": "float16",
         "type": "float"
        },
        {
         "name": "1610",
         "rawType": "float16",
         "type": "float"
        },
        {
         "name": "1611",
         "rawType": "float16",
         "type": "float"
        },
        {
         "name": "1612",
         "rawType": "float16",
         "type": "float"
        },
        {
         "name": "1613",
         "rawType": "float16",
         "type": "float"
        },
        {
         "name": "1614",
         "rawType": "float16",
         "type": "float"
        },
        {
         "name": "1615",
         "rawType": "float16",
         "type": "float"
        },
        {
         "name": "1616",
         "rawType": "float16",
         "type": "float"
        },
        {
         "name": "1617",
         "rawType": "float16",
         "type": "float"
        },
        {
         "name": "1618",
         "rawType": "float16",
         "type": "float"
        },
        {
         "name": "1619",
         "rawType": "float16",
         "type": "float"
        },
        {
         "name": "1620",
         "rawType": "float16",
         "type": "float"
        },
        {
         "name": "1621",
         "rawType": "float16",
         "type": "float"
        },
        {
         "name": "1622",
         "rawType": "float16",
         "type": "float"
        },
        {
         "name": "1623",
         "rawType": "float16",
         "type": "float"
        },
        {
         "name": "1624",
         "rawType": "float16",
         "type": "float"
        },
        {
         "name": "1625",
         "rawType": "float16",
         "type": "float"
        },
        {
         "name": "1626",
         "rawType": "float16",
         "type": "float"
        },
        {
         "name": "1627",
         "rawType": "float16",
         "type": "float"
        },
        {
         "name": "1628",
         "rawType": "float16",
         "type": "float"
        },
        {
         "name": "1629",
         "rawType": "float16",
         "type": "float"
        },
        {
         "name": "1630",
         "rawType": "float16",
         "type": "float"
        },
        {
         "name": "1631",
         "rawType": "float16",
         "type": "float"
        },
        {
         "name": "1632",
         "rawType": "float16",
         "type": "float"
        },
        {
         "name": "1633",
         "rawType": "float16",
         "type": "float"
        },
        {
         "name": "1634",
         "rawType": "float16",
         "type": "float"
        },
        {
         "name": "1635",
         "rawType": "float16",
         "type": "float"
        },
        {
         "name": "1636",
         "rawType": "float16",
         "type": "float"
        },
        {
         "name": "1637",
         "rawType": "float16",
         "type": "float"
        },
        {
         "name": "1638",
         "rawType": "float16",
         "type": "float"
        },
        {
         "name": "1639",
         "rawType": "float16",
         "type": "float"
        },
        {
         "name": "1640",
         "rawType": "float16",
         "type": "float"
        },
        {
         "name": "1641",
         "rawType": "float16",
         "type": "float"
        },
        {
         "name": "1642",
         "rawType": "float16",
         "type": "float"
        },
        {
         "name": "1643",
         "rawType": "float16",
         "type": "float"
        },
        {
         "name": "1644",
         "rawType": "float16",
         "type": "float"
        },
        {
         "name": "1645",
         "rawType": "float16",
         "type": "float"
        },
        {
         "name": "1646",
         "rawType": "float16",
         "type": "float"
        },
        {
         "name": "1647",
         "rawType": "float16",
         "type": "float"
        },
        {
         "name": "1648",
         "rawType": "float16",
         "type": "float"
        },
        {
         "name": "1649",
         "rawType": "float16",
         "type": "float"
        },
        {
         "name": "1650",
         "rawType": "float16",
         "type": "float"
        },
        {
         "name": "1651",
         "rawType": "float16",
         "type": "float"
        },
        {
         "name": "1652",
         "rawType": "float16",
         "type": "float"
        },
        {
         "name": "1653",
         "rawType": "float16",
         "type": "float"
        },
        {
         "name": "1654",
         "rawType": "float16",
         "type": "float"
        },
        {
         "name": "1655",
         "rawType": "float16",
         "type": "float"
        },
        {
         "name": "1656",
         "rawType": "float16",
         "type": "float"
        },
        {
         "name": "1657",
         "rawType": "float16",
         "type": "float"
        },
        {
         "name": "1658",
         "rawType": "float16",
         "type": "float"
        },
        {
         "name": "1659",
         "rawType": "float16",
         "type": "float"
        },
        {
         "name": "1660",
         "rawType": "float16",
         "type": "float"
        },
        {
         "name": "1661",
         "rawType": "float16",
         "type": "float"
        },
        {
         "name": "1662",
         "rawType": "float16",
         "type": "float"
        },
        {
         "name": "1663",
         "rawType": "float16",
         "type": "float"
        },
        {
         "name": "1664",
         "rawType": "float16",
         "type": "float"
        },
        {
         "name": "1665",
         "rawType": "float16",
         "type": "float"
        },
        {
         "name": "1666",
         "rawType": "float16",
         "type": "float"
        },
        {
         "name": "1667",
         "rawType": "float16",
         "type": "float"
        },
        {
         "name": "1668",
         "rawType": "float16",
         "type": "float"
        },
        {
         "name": "1669",
         "rawType": "float16",
         "type": "float"
        },
        {
         "name": "1670",
         "rawType": "float16",
         "type": "float"
        },
        {
         "name": "1671",
         "rawType": "float16",
         "type": "float"
        },
        {
         "name": "1672",
         "rawType": "float16",
         "type": "float"
        },
        {
         "name": "1673",
         "rawType": "float16",
         "type": "float"
        },
        {
         "name": "1674",
         "rawType": "float16",
         "type": "float"
        },
        {
         "name": "1675",
         "rawType": "float16",
         "type": "float"
        },
        {
         "name": "1676",
         "rawType": "float16",
         "type": "float"
        },
        {
         "name": "1677",
         "rawType": "float16",
         "type": "float"
        },
        {
         "name": "1678",
         "rawType": "float16",
         "type": "float"
        },
        {
         "name": "1679",
         "rawType": "float16",
         "type": "float"
        },
        {
         "name": "1680",
         "rawType": "float16",
         "type": "float"
        },
        {
         "name": "1681",
         "rawType": "float16",
         "type": "float"
        },
        {
         "name": "1682",
         "rawType": "float16",
         "type": "float"
        },
        {
         "name": "1683",
         "rawType": "float16",
         "type": "float"
        },
        {
         "name": "1684",
         "rawType": "float16",
         "type": "float"
        },
        {
         "name": "1685",
         "rawType": "float16",
         "type": "float"
        },
        {
         "name": "1686",
         "rawType": "float16",
         "type": "float"
        },
        {
         "name": "1687",
         "rawType": "float16",
         "type": "float"
        },
        {
         "name": "1688",
         "rawType": "float16",
         "type": "float"
        },
        {
         "name": "1689",
         "rawType": "float16",
         "type": "float"
        },
        {
         "name": "1690",
         "rawType": "float16",
         "type": "float"
        },
        {
         "name": "1691",
         "rawType": "float16",
         "type": "float"
        },
        {
         "name": "1692",
         "rawType": "float16",
         "type": "float"
        },
        {
         "name": "1693",
         "rawType": "float16",
         "type": "float"
        },
        {
         "name": "1694",
         "rawType": "float16",
         "type": "float"
        },
        {
         "name": "1695",
         "rawType": "float16",
         "type": "float"
        },
        {
         "name": "1696",
         "rawType": "float16",
         "type": "float"
        },
        {
         "name": "1697",
         "rawType": "float16",
         "type": "float"
        },
        {
         "name": "1698",
         "rawType": "float16",
         "type": "float"
        },
        {
         "name": "1699",
         "rawType": "float16",
         "type": "float"
        },
        {
         "name": "1700",
         "rawType": "float16",
         "type": "float"
        },
        {
         "name": "1701",
         "rawType": "float16",
         "type": "float"
        },
        {
         "name": "1702",
         "rawType": "float16",
         "type": "float"
        },
        {
         "name": "1703",
         "rawType": "float16",
         "type": "float"
        },
        {
         "name": "1704",
         "rawType": "float16",
         "type": "float"
        },
        {
         "name": "1705",
         "rawType": "float16",
         "type": "float"
        },
        {
         "name": "1706",
         "rawType": "float16",
         "type": "float"
        },
        {
         "name": "1707",
         "rawType": "float16",
         "type": "float"
        },
        {
         "name": "1708",
         "rawType": "float16",
         "type": "float"
        },
        {
         "name": "1709",
         "rawType": "float16",
         "type": "float"
        },
        {
         "name": "1710",
         "rawType": "float16",
         "type": "float"
        },
        {
         "name": "1711",
         "rawType": "float16",
         "type": "float"
        },
        {
         "name": "1712",
         "rawType": "float16",
         "type": "float"
        },
        {
         "name": "1713",
         "rawType": "float16",
         "type": "float"
        },
        {
         "name": "1714",
         "rawType": "float16",
         "type": "float"
        },
        {
         "name": "1715",
         "rawType": "float16",
         "type": "float"
        },
        {
         "name": "1716",
         "rawType": "float16",
         "type": "float"
        },
        {
         "name": "1717",
         "rawType": "float16",
         "type": "float"
        },
        {
         "name": "1718",
         "rawType": "float16",
         "type": "float"
        },
        {
         "name": "1719",
         "rawType": "float16",
         "type": "float"
        },
        {
         "name": "1720",
         "rawType": "float16",
         "type": "float"
        },
        {
         "name": "1721",
         "rawType": "float16",
         "type": "float"
        },
        {
         "name": "1722",
         "rawType": "float16",
         "type": "float"
        },
        {
         "name": "1723",
         "rawType": "float16",
         "type": "float"
        },
        {
         "name": "1724",
         "rawType": "float16",
         "type": "float"
        },
        {
         "name": "1725",
         "rawType": "float16",
         "type": "float"
        },
        {
         "name": "1726",
         "rawType": "float16",
         "type": "float"
        },
        {
         "name": "1727",
         "rawType": "float16",
         "type": "float"
        },
        {
         "name": "1728",
         "rawType": "float16",
         "type": "float"
        },
        {
         "name": "1729",
         "rawType": "float16",
         "type": "float"
        },
        {
         "name": "1730",
         "rawType": "float16",
         "type": "float"
        },
        {
         "name": "1731",
         "rawType": "float16",
         "type": "float"
        },
        {
         "name": "1732",
         "rawType": "float16",
         "type": "float"
        },
        {
         "name": "1733",
         "rawType": "float16",
         "type": "float"
        },
        {
         "name": "1734",
         "rawType": "float16",
         "type": "float"
        },
        {
         "name": "1735",
         "rawType": "float16",
         "type": "float"
        },
        {
         "name": "1736",
         "rawType": "float16",
         "type": "float"
        },
        {
         "name": "1737",
         "rawType": "float16",
         "type": "float"
        },
        {
         "name": "1738",
         "rawType": "float16",
         "type": "float"
        },
        {
         "name": "1739",
         "rawType": "float16",
         "type": "float"
        },
        {
         "name": "1740",
         "rawType": "float16",
         "type": "float"
        },
        {
         "name": "1741",
         "rawType": "float16",
         "type": "float"
        },
        {
         "name": "1742",
         "rawType": "float16",
         "type": "float"
        },
        {
         "name": "1743",
         "rawType": "float16",
         "type": "float"
        },
        {
         "name": "1744",
         "rawType": "float16",
         "type": "float"
        },
        {
         "name": "1745",
         "rawType": "float16",
         "type": "float"
        },
        {
         "name": "1746",
         "rawType": "float16",
         "type": "float"
        },
        {
         "name": "1747",
         "rawType": "float16",
         "type": "float"
        },
        {
         "name": "1748",
         "rawType": "float16",
         "type": "float"
        },
        {
         "name": "1749",
         "rawType": "float16",
         "type": "float"
        },
        {
         "name": "1750",
         "rawType": "float16",
         "type": "float"
        },
        {
         "name": "1751",
         "rawType": "float16",
         "type": "float"
        },
        {
         "name": "1752",
         "rawType": "float16",
         "type": "float"
        },
        {
         "name": "1753",
         "rawType": "float16",
         "type": "float"
        },
        {
         "name": "1754",
         "rawType": "float16",
         "type": "float"
        },
        {
         "name": "1755",
         "rawType": "float16",
         "type": "float"
        },
        {
         "name": "1756",
         "rawType": "float16",
         "type": "float"
        },
        {
         "name": "1757",
         "rawType": "float16",
         "type": "float"
        },
        {
         "name": "1758",
         "rawType": "float16",
         "type": "float"
        },
        {
         "name": "1759",
         "rawType": "float16",
         "type": "float"
        },
        {
         "name": "1760",
         "rawType": "float16",
         "type": "float"
        },
        {
         "name": "1761",
         "rawType": "float16",
         "type": "float"
        },
        {
         "name": "1762",
         "rawType": "float16",
         "type": "float"
        },
        {
         "name": "1763",
         "rawType": "float16",
         "type": "float"
        },
        {
         "name": "1764",
         "rawType": "float16",
         "type": "float"
        },
        {
         "name": "1765",
         "rawType": "float16",
         "type": "float"
        },
        {
         "name": "1766",
         "rawType": "float16",
         "type": "float"
        },
        {
         "name": "1767",
         "rawType": "float16",
         "type": "float"
        },
        {
         "name": "1768",
         "rawType": "float16",
         "type": "float"
        },
        {
         "name": "1769",
         "rawType": "float16",
         "type": "float"
        },
        {
         "name": "1770",
         "rawType": "float16",
         "type": "float"
        },
        {
         "name": "1771",
         "rawType": "float16",
         "type": "float"
        },
        {
         "name": "1772",
         "rawType": "float16",
         "type": "float"
        },
        {
         "name": "1773",
         "rawType": "float16",
         "type": "float"
        },
        {
         "name": "1774",
         "rawType": "float16",
         "type": "float"
        },
        {
         "name": "1775",
         "rawType": "float16",
         "type": "float"
        },
        {
         "name": "1776",
         "rawType": "float16",
         "type": "float"
        },
        {
         "name": "1777",
         "rawType": "float16",
         "type": "float"
        },
        {
         "name": "1778",
         "rawType": "float16",
         "type": "float"
        },
        {
         "name": "1779",
         "rawType": "float16",
         "type": "float"
        },
        {
         "name": "1780",
         "rawType": "float16",
         "type": "float"
        },
        {
         "name": "1781",
         "rawType": "float16",
         "type": "float"
        },
        {
         "name": "1782",
         "rawType": "float16",
         "type": "float"
        },
        {
         "name": "1783",
         "rawType": "float16",
         "type": "float"
        },
        {
         "name": "1784",
         "rawType": "float16",
         "type": "float"
        },
        {
         "name": "1785",
         "rawType": "float16",
         "type": "float"
        },
        {
         "name": "1786",
         "rawType": "float16",
         "type": "float"
        },
        {
         "name": "1787",
         "rawType": "float16",
         "type": "float"
        },
        {
         "name": "1788",
         "rawType": "float16",
         "type": "float"
        },
        {
         "name": "1789",
         "rawType": "float16",
         "type": "float"
        },
        {
         "name": "1790",
         "rawType": "float16",
         "type": "float"
        },
        {
         "name": "1791",
         "rawType": "float16",
         "type": "float"
        },
        {
         "name": "1792",
         "rawType": "float16",
         "type": "float"
        },
        {
         "name": "1793",
         "rawType": "float16",
         "type": "float"
        },
        {
         "name": "1794",
         "rawType": "float16",
         "type": "float"
        },
        {
         "name": "1795",
         "rawType": "float16",
         "type": "float"
        },
        {
         "name": "1796",
         "rawType": "float16",
         "type": "float"
        },
        {
         "name": "1797",
         "rawType": "float16",
         "type": "float"
        },
        {
         "name": "1798",
         "rawType": "float16",
         "type": "float"
        },
        {
         "name": "1799",
         "rawType": "float16",
         "type": "float"
        },
        {
         "name": "1800",
         "rawType": "float16",
         "type": "float"
        },
        {
         "name": "1801",
         "rawType": "float16",
         "type": "float"
        },
        {
         "name": "1802",
         "rawType": "float16",
         "type": "float"
        },
        {
         "name": "1803",
         "rawType": "float16",
         "type": "float"
        },
        {
         "name": "1804",
         "rawType": "float16",
         "type": "float"
        },
        {
         "name": "1805",
         "rawType": "float16",
         "type": "float"
        },
        {
         "name": "1806",
         "rawType": "float16",
         "type": "float"
        },
        {
         "name": "1807",
         "rawType": "float16",
         "type": "float"
        },
        {
         "name": "1808",
         "rawType": "float16",
         "type": "float"
        },
        {
         "name": "1809",
         "rawType": "float16",
         "type": "float"
        },
        {
         "name": "1810",
         "rawType": "float16",
         "type": "float"
        },
        {
         "name": "1811",
         "rawType": "float16",
         "type": "float"
        },
        {
         "name": "1812",
         "rawType": "float16",
         "type": "float"
        },
        {
         "name": "1813",
         "rawType": "float16",
         "type": "float"
        },
        {
         "name": "1814",
         "rawType": "float16",
         "type": "float"
        },
        {
         "name": "1815",
         "rawType": "float16",
         "type": "float"
        },
        {
         "name": "1816",
         "rawType": "float16",
         "type": "float"
        },
        {
         "name": "1817",
         "rawType": "float16",
         "type": "float"
        },
        {
         "name": "1818",
         "rawType": "float16",
         "type": "float"
        },
        {
         "name": "1819",
         "rawType": "float16",
         "type": "float"
        },
        {
         "name": "1820",
         "rawType": "float16",
         "type": "float"
        },
        {
         "name": "1821",
         "rawType": "float16",
         "type": "float"
        },
        {
         "name": "1822",
         "rawType": "float16",
         "type": "float"
        },
        {
         "name": "1823",
         "rawType": "float16",
         "type": "float"
        },
        {
         "name": "1824",
         "rawType": "float16",
         "type": "float"
        },
        {
         "name": "1825",
         "rawType": "float16",
         "type": "float"
        },
        {
         "name": "1826",
         "rawType": "float16",
         "type": "float"
        },
        {
         "name": "1827",
         "rawType": "float16",
         "type": "float"
        },
        {
         "name": "1828",
         "rawType": "float16",
         "type": "float"
        },
        {
         "name": "1829",
         "rawType": "float16",
         "type": "float"
        },
        {
         "name": "1830",
         "rawType": "float16",
         "type": "float"
        },
        {
         "name": "1831",
         "rawType": "float16",
         "type": "float"
        },
        {
         "name": "1832",
         "rawType": "float16",
         "type": "float"
        },
        {
         "name": "1833",
         "rawType": "float16",
         "type": "float"
        },
        {
         "name": "1834",
         "rawType": "float16",
         "type": "float"
        },
        {
         "name": "1835",
         "rawType": "float16",
         "type": "float"
        },
        {
         "name": "1836",
         "rawType": "float16",
         "type": "float"
        },
        {
         "name": "1837",
         "rawType": "float16",
         "type": "float"
        },
        {
         "name": "1838",
         "rawType": "float16",
         "type": "float"
        },
        {
         "name": "1839",
         "rawType": "float16",
         "type": "float"
        },
        {
         "name": "1840",
         "rawType": "float16",
         "type": "float"
        },
        {
         "name": "1841",
         "rawType": "float16",
         "type": "float"
        },
        {
         "name": "1842",
         "rawType": "float16",
         "type": "float"
        },
        {
         "name": "1843",
         "rawType": "float16",
         "type": "float"
        },
        {
         "name": "1844",
         "rawType": "float16",
         "type": "float"
        },
        {
         "name": "1845",
         "rawType": "float16",
         "type": "float"
        },
        {
         "name": "1846",
         "rawType": "float16",
         "type": "float"
        },
        {
         "name": "1847",
         "rawType": "float16",
         "type": "float"
        },
        {
         "name": "1848",
         "rawType": "float16",
         "type": "float"
        },
        {
         "name": "1849",
         "rawType": "float16",
         "type": "float"
        },
        {
         "name": "1850",
         "rawType": "float16",
         "type": "float"
        },
        {
         "name": "1851",
         "rawType": "float16",
         "type": "float"
        },
        {
         "name": "1852",
         "rawType": "float16",
         "type": "float"
        },
        {
         "name": "1853",
         "rawType": "float16",
         "type": "float"
        },
        {
         "name": "1854",
         "rawType": "float16",
         "type": "float"
        },
        {
         "name": "1855",
         "rawType": "float16",
         "type": "float"
        },
        {
         "name": "1856",
         "rawType": "float16",
         "type": "float"
        },
        {
         "name": "1857",
         "rawType": "float16",
         "type": "float"
        },
        {
         "name": "1858",
         "rawType": "float16",
         "type": "float"
        },
        {
         "name": "1859",
         "rawType": "float16",
         "type": "float"
        },
        {
         "name": "1860",
         "rawType": "float16",
         "type": "float"
        },
        {
         "name": "1861",
         "rawType": "float16",
         "type": "float"
        },
        {
         "name": "1862",
         "rawType": "float16",
         "type": "float"
        },
        {
         "name": "1863",
         "rawType": "float16",
         "type": "float"
        },
        {
         "name": "1864",
         "rawType": "float16",
         "type": "float"
        },
        {
         "name": "1865",
         "rawType": "float16",
         "type": "float"
        },
        {
         "name": "1866",
         "rawType": "float16",
         "type": "float"
        },
        {
         "name": "1867",
         "rawType": "float16",
         "type": "float"
        },
        {
         "name": "1868",
         "rawType": "float16",
         "type": "float"
        },
        {
         "name": "1869",
         "rawType": "float16",
         "type": "float"
        },
        {
         "name": "1870",
         "rawType": "float16",
         "type": "float"
        },
        {
         "name": "1871",
         "rawType": "float16",
         "type": "float"
        },
        {
         "name": "1872",
         "rawType": "float16",
         "type": "float"
        },
        {
         "name": "1873",
         "rawType": "float16",
         "type": "float"
        },
        {
         "name": "1874",
         "rawType": "float16",
         "type": "float"
        },
        {
         "name": "1875",
         "rawType": "float16",
         "type": "float"
        },
        {
         "name": "1876",
         "rawType": "float16",
         "type": "float"
        },
        {
         "name": "1877",
         "rawType": "float16",
         "type": "float"
        },
        {
         "name": "1878",
         "rawType": "float16",
         "type": "float"
        },
        {
         "name": "1879",
         "rawType": "float16",
         "type": "float"
        },
        {
         "name": "1880",
         "rawType": "float16",
         "type": "float"
        },
        {
         "name": "1881",
         "rawType": "float16",
         "type": "float"
        },
        {
         "name": "1882",
         "rawType": "float16",
         "type": "float"
        },
        {
         "name": "1883",
         "rawType": "float16",
         "type": "float"
        },
        {
         "name": "1884",
         "rawType": "float16",
         "type": "float"
        },
        {
         "name": "1885",
         "rawType": "float16",
         "type": "float"
        },
        {
         "name": "1886",
         "rawType": "float16",
         "type": "float"
        },
        {
         "name": "1887",
         "rawType": "float16",
         "type": "float"
        },
        {
         "name": "1888",
         "rawType": "float16",
         "type": "float"
        },
        {
         "name": "1889",
         "rawType": "float16",
         "type": "float"
        },
        {
         "name": "1890",
         "rawType": "float16",
         "type": "float"
        },
        {
         "name": "1891",
         "rawType": "float16",
         "type": "float"
        },
        {
         "name": "1892",
         "rawType": "float16",
         "type": "float"
        },
        {
         "name": "1893",
         "rawType": "float16",
         "type": "float"
        },
        {
         "name": "1894",
         "rawType": "float16",
         "type": "float"
        },
        {
         "name": "1895",
         "rawType": "float16",
         "type": "float"
        },
        {
         "name": "1896",
         "rawType": "float16",
         "type": "float"
        },
        {
         "name": "1897",
         "rawType": "float16",
         "type": "float"
        },
        {
         "name": "1898",
         "rawType": "float16",
         "type": "float"
        },
        {
         "name": "1899",
         "rawType": "float16",
         "type": "float"
        },
        {
         "name": "1900",
         "rawType": "float16",
         "type": "float"
        },
        {
         "name": "1901",
         "rawType": "float16",
         "type": "float"
        },
        {
         "name": "1902",
         "rawType": "float16",
         "type": "float"
        },
        {
         "name": "1903",
         "rawType": "float16",
         "type": "float"
        },
        {
         "name": "1904",
         "rawType": "float16",
         "type": "float"
        },
        {
         "name": "1905",
         "rawType": "float16",
         "type": "float"
        },
        {
         "name": "1906",
         "rawType": "float16",
         "type": "float"
        },
        {
         "name": "1907",
         "rawType": "float16",
         "type": "float"
        },
        {
         "name": "1908",
         "rawType": "float16",
         "type": "float"
        },
        {
         "name": "1909",
         "rawType": "float16",
         "type": "float"
        },
        {
         "name": "1910",
         "rawType": "float16",
         "type": "float"
        },
        {
         "name": "1911",
         "rawType": "float16",
         "type": "float"
        },
        {
         "name": "1912",
         "rawType": "float16",
         "type": "float"
        },
        {
         "name": "1913",
         "rawType": "float16",
         "type": "float"
        },
        {
         "name": "1914",
         "rawType": "float16",
         "type": "float"
        },
        {
         "name": "1915",
         "rawType": "float16",
         "type": "float"
        },
        {
         "name": "1916",
         "rawType": "float16",
         "type": "float"
        },
        {
         "name": "1917",
         "rawType": "float16",
         "type": "float"
        },
        {
         "name": "1918",
         "rawType": "float16",
         "type": "float"
        },
        {
         "name": "1919",
         "rawType": "float16",
         "type": "float"
        },
        {
         "name": "1920",
         "rawType": "float16",
         "type": "float"
        },
        {
         "name": "1921",
         "rawType": "float16",
         "type": "float"
        },
        {
         "name": "1922",
         "rawType": "float16",
         "type": "float"
        },
        {
         "name": "1923",
         "rawType": "float16",
         "type": "float"
        },
        {
         "name": "1924",
         "rawType": "float16",
         "type": "float"
        },
        {
         "name": "1925",
         "rawType": "float16",
         "type": "float"
        },
        {
         "name": "1926",
         "rawType": "float16",
         "type": "float"
        },
        {
         "name": "1927",
         "rawType": "float16",
         "type": "float"
        },
        {
         "name": "1928",
         "rawType": "float16",
         "type": "float"
        },
        {
         "name": "1929",
         "rawType": "float16",
         "type": "float"
        },
        {
         "name": "1930",
         "rawType": "float16",
         "type": "float"
        },
        {
         "name": "1931",
         "rawType": "float16",
         "type": "float"
        },
        {
         "name": "1932",
         "rawType": "float16",
         "type": "float"
        },
        {
         "name": "1933",
         "rawType": "float16",
         "type": "float"
        },
        {
         "name": "1934",
         "rawType": "float16",
         "type": "float"
        },
        {
         "name": "1935",
         "rawType": "float16",
         "type": "float"
        },
        {
         "name": "1936",
         "rawType": "float16",
         "type": "float"
        },
        {
         "name": "1937",
         "rawType": "float16",
         "type": "float"
        },
        {
         "name": "1938",
         "rawType": "float16",
         "type": "float"
        },
        {
         "name": "1939",
         "rawType": "float16",
         "type": "float"
        },
        {
         "name": "1940",
         "rawType": "float16",
         "type": "float"
        },
        {
         "name": "1941",
         "rawType": "float16",
         "type": "float"
        },
        {
         "name": "1942",
         "rawType": "float16",
         "type": "float"
        },
        {
         "name": "1943",
         "rawType": "float16",
         "type": "float"
        },
        {
         "name": "1944",
         "rawType": "float16",
         "type": "float"
        },
        {
         "name": "1945",
         "rawType": "float16",
         "type": "float"
        },
        {
         "name": "1946",
         "rawType": "float16",
         "type": "float"
        },
        {
         "name": "1947",
         "rawType": "float16",
         "type": "float"
        },
        {
         "name": "1948",
         "rawType": "float16",
         "type": "float"
        },
        {
         "name": "1949",
         "rawType": "float16",
         "type": "float"
        },
        {
         "name": "1950",
         "rawType": "float16",
         "type": "float"
        },
        {
         "name": "1951",
         "rawType": "float16",
         "type": "float"
        },
        {
         "name": "1952",
         "rawType": "float16",
         "type": "float"
        },
        {
         "name": "1953",
         "rawType": "float16",
         "type": "float"
        },
        {
         "name": "1954",
         "rawType": "float16",
         "type": "float"
        },
        {
         "name": "1955",
         "rawType": "float16",
         "type": "float"
        },
        {
         "name": "1956",
         "rawType": "float16",
         "type": "float"
        },
        {
         "name": "1957",
         "rawType": "float16",
         "type": "float"
        },
        {
         "name": "1958",
         "rawType": "float16",
         "type": "float"
        },
        {
         "name": "1959",
         "rawType": "float16",
         "type": "float"
        },
        {
         "name": "1960",
         "rawType": "float16",
         "type": "float"
        },
        {
         "name": "1961",
         "rawType": "float16",
         "type": "float"
        },
        {
         "name": "1962",
         "rawType": "float16",
         "type": "float"
        },
        {
         "name": "1963",
         "rawType": "float16",
         "type": "float"
        },
        {
         "name": "1964",
         "rawType": "float16",
         "type": "float"
        },
        {
         "name": "1965",
         "rawType": "float16",
         "type": "float"
        },
        {
         "name": "1966",
         "rawType": "float16",
         "type": "float"
        },
        {
         "name": "1967",
         "rawType": "float16",
         "type": "float"
        },
        {
         "name": "1968",
         "rawType": "float16",
         "type": "float"
        },
        {
         "name": "1969",
         "rawType": "float16",
         "type": "float"
        },
        {
         "name": "1970",
         "rawType": "float16",
         "type": "float"
        },
        {
         "name": "1971",
         "rawType": "float16",
         "type": "float"
        },
        {
         "name": "1972",
         "rawType": "float16",
         "type": "float"
        },
        {
         "name": "1973",
         "rawType": "float16",
         "type": "float"
        },
        {
         "name": "1974",
         "rawType": "float16",
         "type": "float"
        },
        {
         "name": "1975",
         "rawType": "float16",
         "type": "float"
        },
        {
         "name": "1976",
         "rawType": "float16",
         "type": "float"
        },
        {
         "name": "1977",
         "rawType": "float16",
         "type": "float"
        },
        {
         "name": "1978",
         "rawType": "float16",
         "type": "float"
        },
        {
         "name": "1979",
         "rawType": "float16",
         "type": "float"
        },
        {
         "name": "1980",
         "rawType": "float16",
         "type": "float"
        },
        {
         "name": "1981",
         "rawType": "float16",
         "type": "float"
        },
        {
         "name": "1982",
         "rawType": "float16",
         "type": "float"
        },
        {
         "name": "1983",
         "rawType": "float16",
         "type": "float"
        },
        {
         "name": "1984",
         "rawType": "float16",
         "type": "float"
        },
        {
         "name": "1985",
         "rawType": "float16",
         "type": "float"
        },
        {
         "name": "1986",
         "rawType": "float16",
         "type": "float"
        },
        {
         "name": "1987",
         "rawType": "float16",
         "type": "float"
        },
        {
         "name": "1988",
         "rawType": "float16",
         "type": "float"
        },
        {
         "name": "1989",
         "rawType": "float16",
         "type": "float"
        },
        {
         "name": "1990",
         "rawType": "float16",
         "type": "float"
        },
        {
         "name": "1991",
         "rawType": "float16",
         "type": "float"
        },
        {
         "name": "1992",
         "rawType": "float16",
         "type": "float"
        },
        {
         "name": "1993",
         "rawType": "float16",
         "type": "float"
        },
        {
         "name": "1994",
         "rawType": "float16",
         "type": "float"
        },
        {
         "name": "1995",
         "rawType": "float16",
         "type": "float"
        },
        {
         "name": "1996",
         "rawType": "float16",
         "type": "float"
        },
        {
         "name": "1997",
         "rawType": "float16",
         "type": "float"
        },
        {
         "name": "1998",
         "rawType": "float16",
         "type": "float"
        },
        {
         "name": "1999",
         "rawType": "float16",
         "type": "float"
        },
        {
         "name": "2000",
         "rawType": "float16",
         "type": "float"
        },
        {
         "name": "2001",
         "rawType": "float16",
         "type": "float"
        },
        {
         "name": "2002",
         "rawType": "float16",
         "type": "float"
        },
        {
         "name": "2003",
         "rawType": "float16",
         "type": "float"
        },
        {
         "name": "2004",
         "rawType": "float16",
         "type": "float"
        },
        {
         "name": "2005",
         "rawType": "float16",
         "type": "float"
        },
        {
         "name": "2006",
         "rawType": "float16",
         "type": "float"
        },
        {
         "name": "2007",
         "rawType": "float16",
         "type": "float"
        },
        {
         "name": "2008",
         "rawType": "float16",
         "type": "float"
        },
        {
         "name": "2009",
         "rawType": "float16",
         "type": "float"
        },
        {
         "name": "2010",
         "rawType": "float16",
         "type": "float"
        },
        {
         "name": "2011",
         "rawType": "float16",
         "type": "float"
        },
        {
         "name": "2012",
         "rawType": "float16",
         "type": "float"
        },
        {
         "name": "2013",
         "rawType": "float16",
         "type": "float"
        },
        {
         "name": "2014",
         "rawType": "float16",
         "type": "float"
        },
        {
         "name": "2015",
         "rawType": "float16",
         "type": "float"
        },
        {
         "name": "2016",
         "rawType": "float16",
         "type": "float"
        },
        {
         "name": "2017",
         "rawType": "float16",
         "type": "float"
        },
        {
         "name": "2018",
         "rawType": "float16",
         "type": "float"
        },
        {
         "name": "2019",
         "rawType": "float16",
         "type": "float"
        },
        {
         "name": "2020",
         "rawType": "float16",
         "type": "float"
        },
        {
         "name": "2021",
         "rawType": "float16",
         "type": "float"
        },
        {
         "name": "2022",
         "rawType": "float16",
         "type": "float"
        },
        {
         "name": "2023",
         "rawType": "float16",
         "type": "float"
        },
        {
         "name": "2024",
         "rawType": "float16",
         "type": "float"
        },
        {
         "name": "2025",
         "rawType": "float16",
         "type": "float"
        },
        {
         "name": "2026",
         "rawType": "float16",
         "type": "float"
        },
        {
         "name": "2027",
         "rawType": "float16",
         "type": "float"
        },
        {
         "name": "2028",
         "rawType": "float16",
         "type": "float"
        },
        {
         "name": "2029",
         "rawType": "float16",
         "type": "float"
        },
        {
         "name": "2030",
         "rawType": "float16",
         "type": "float"
        },
        {
         "name": "2031",
         "rawType": "float16",
         "type": "float"
        },
        {
         "name": "2032",
         "rawType": "float16",
         "type": "float"
        },
        {
         "name": "2033",
         "rawType": "float16",
         "type": "float"
        },
        {
         "name": "2034",
         "rawType": "float16",
         "type": "float"
        },
        {
         "name": "2035",
         "rawType": "float16",
         "type": "float"
        },
        {
         "name": "2036",
         "rawType": "float16",
         "type": "float"
        },
        {
         "name": "2037",
         "rawType": "float16",
         "type": "float"
        },
        {
         "name": "2038",
         "rawType": "float16",
         "type": "float"
        },
        {
         "name": "2039",
         "rawType": "float16",
         "type": "float"
        },
        {
         "name": "2040",
         "rawType": "float16",
         "type": "float"
        },
        {
         "name": "2041",
         "rawType": "float16",
         "type": "float"
        },
        {
         "name": "2042",
         "rawType": "float16",
         "type": "float"
        },
        {
         "name": "2043",
         "rawType": "float16",
         "type": "float"
        },
        {
         "name": "2044",
         "rawType": "float16",
         "type": "float"
        },
        {
         "name": "2045",
         "rawType": "float16",
         "type": "float"
        },
        {
         "name": "2046",
         "rawType": "float16",
         "type": "float"
        },
        {
         "name": "2047",
         "rawType": "float16",
         "type": "float"
        },
        {
         "name": "2048",
         "rawType": "float16",
         "type": "float"
        },
        {
         "name": "2049",
         "rawType": "float16",
         "type": "float"
        },
        {
         "name": "2050",
         "rawType": "float16",
         "type": "float"
        },
        {
         "name": "2051",
         "rawType": "float16",
         "type": "float"
        },
        {
         "name": "2052",
         "rawType": "float16",
         "type": "float"
        },
        {
         "name": "2053",
         "rawType": "float16",
         "type": "float"
        },
        {
         "name": "2054",
         "rawType": "float16",
         "type": "float"
        },
        {
         "name": "2055",
         "rawType": "float16",
         "type": "float"
        },
        {
         "name": "2056",
         "rawType": "float16",
         "type": "float"
        },
        {
         "name": "2057",
         "rawType": "float16",
         "type": "float"
        },
        {
         "name": "2058",
         "rawType": "float16",
         "type": "float"
        },
        {
         "name": "2059",
         "rawType": "float16",
         "type": "float"
        },
        {
         "name": "2060",
         "rawType": "float16",
         "type": "float"
        },
        {
         "name": "2061",
         "rawType": "float16",
         "type": "float"
        },
        {
         "name": "2062",
         "rawType": "float16",
         "type": "float"
        },
        {
         "name": "2063",
         "rawType": "float16",
         "type": "float"
        },
        {
         "name": "2064",
         "rawType": "float16",
         "type": "float"
        },
        {
         "name": "2065",
         "rawType": "float16",
         "type": "float"
        },
        {
         "name": "2066",
         "rawType": "float16",
         "type": "float"
        },
        {
         "name": "2067",
         "rawType": "float16",
         "type": "float"
        },
        {
         "name": "2068",
         "rawType": "float16",
         "type": "float"
        },
        {
         "name": "2069",
         "rawType": "float16",
         "type": "float"
        },
        {
         "name": "2070",
         "rawType": "float16",
         "type": "float"
        },
        {
         "name": "2071",
         "rawType": "float16",
         "type": "float"
        },
        {
         "name": "2072",
         "rawType": "float16",
         "type": "float"
        },
        {
         "name": "2073",
         "rawType": "float16",
         "type": "float"
        },
        {
         "name": "2074",
         "rawType": "float16",
         "type": "float"
        },
        {
         "name": "2075",
         "rawType": "float16",
         "type": "float"
        },
        {
         "name": "2076",
         "rawType": "float16",
         "type": "float"
        },
        {
         "name": "2077",
         "rawType": "float16",
         "type": "float"
        },
        {
         "name": "2078",
         "rawType": "float16",
         "type": "float"
        },
        {
         "name": "2079",
         "rawType": "float16",
         "type": "float"
        },
        {
         "name": "2080",
         "rawType": "float16",
         "type": "float"
        },
        {
         "name": "2081",
         "rawType": "float16",
         "type": "float"
        },
        {
         "name": "2082",
         "rawType": "float16",
         "type": "float"
        },
        {
         "name": "2083",
         "rawType": "float16",
         "type": "float"
        },
        {
         "name": "2084",
         "rawType": "float16",
         "type": "float"
        },
        {
         "name": "2085",
         "rawType": "float16",
         "type": "float"
        },
        {
         "name": "2086",
         "rawType": "float16",
         "type": "float"
        },
        {
         "name": "2087",
         "rawType": "float16",
         "type": "float"
        },
        {
         "name": "2088",
         "rawType": "float16",
         "type": "float"
        },
        {
         "name": "2089",
         "rawType": "float16",
         "type": "float"
        },
        {
         "name": "2090",
         "rawType": "float16",
         "type": "float"
        },
        {
         "name": "2091",
         "rawType": "float16",
         "type": "float"
        },
        {
         "name": "2092",
         "rawType": "float16",
         "type": "float"
        },
        {
         "name": "2093",
         "rawType": "float16",
         "type": "float"
        },
        {
         "name": "2094",
         "rawType": "float16",
         "type": "float"
        },
        {
         "name": "2095",
         "rawType": "float16",
         "type": "float"
        },
        {
         "name": "2096",
         "rawType": "float16",
         "type": "float"
        },
        {
         "name": "2097",
         "rawType": "float16",
         "type": "float"
        },
        {
         "name": "2098",
         "rawType": "float16",
         "type": "float"
        },
        {
         "name": "2099",
         "rawType": "float16",
         "type": "float"
        },
        {
         "name": "2100",
         "rawType": "float16",
         "type": "float"
        },
        {
         "name": "2101",
         "rawType": "float16",
         "type": "float"
        },
        {
         "name": "2102",
         "rawType": "float16",
         "type": "float"
        },
        {
         "name": "2103",
         "rawType": "float16",
         "type": "float"
        },
        {
         "name": "2104",
         "rawType": "float16",
         "type": "float"
        },
        {
         "name": "2105",
         "rawType": "float16",
         "type": "float"
        },
        {
         "name": "2106",
         "rawType": "float16",
         "type": "float"
        },
        {
         "name": "2107",
         "rawType": "float16",
         "type": "float"
        },
        {
         "name": "2108",
         "rawType": "float16",
         "type": "float"
        },
        {
         "name": "2109",
         "rawType": "float16",
         "type": "float"
        },
        {
         "name": "2110",
         "rawType": "float16",
         "type": "float"
        },
        {
         "name": "2111",
         "rawType": "float16",
         "type": "float"
        },
        {
         "name": "2112",
         "rawType": "float16",
         "type": "float"
        },
        {
         "name": "2113",
         "rawType": "float16",
         "type": "float"
        },
        {
         "name": "2114",
         "rawType": "float16",
         "type": "float"
        },
        {
         "name": "2115",
         "rawType": "float16",
         "type": "float"
        },
        {
         "name": "2116",
         "rawType": "float16",
         "type": "float"
        },
        {
         "name": "2117",
         "rawType": "float16",
         "type": "float"
        },
        {
         "name": "2118",
         "rawType": "float16",
         "type": "float"
        },
        {
         "name": "2119",
         "rawType": "float16",
         "type": "float"
        },
        {
         "name": "2120",
         "rawType": "float16",
         "type": "float"
        },
        {
         "name": "2121",
         "rawType": "float16",
         "type": "float"
        },
        {
         "name": "2122",
         "rawType": "float16",
         "type": "float"
        },
        {
         "name": "2123",
         "rawType": "float16",
         "type": "float"
        },
        {
         "name": "2124",
         "rawType": "float16",
         "type": "float"
        },
        {
         "name": "2125",
         "rawType": "float16",
         "type": "float"
        },
        {
         "name": "2126",
         "rawType": "float16",
         "type": "float"
        },
        {
         "name": "2127",
         "rawType": "float16",
         "type": "float"
        },
        {
         "name": "2128",
         "rawType": "float16",
         "type": "float"
        },
        {
         "name": "2129",
         "rawType": "float16",
         "type": "float"
        },
        {
         "name": "2130",
         "rawType": "float16",
         "type": "float"
        },
        {
         "name": "2131",
         "rawType": "float16",
         "type": "float"
        },
        {
         "name": "2132",
         "rawType": "float16",
         "type": "float"
        },
        {
         "name": "2133",
         "rawType": "float16",
         "type": "float"
        },
        {
         "name": "2134",
         "rawType": "float16",
         "type": "float"
        },
        {
         "name": "2135",
         "rawType": "float16",
         "type": "float"
        },
        {
         "name": "2136",
         "rawType": "float16",
         "type": "float"
        },
        {
         "name": "2137",
         "rawType": "float16",
         "type": "float"
        },
        {
         "name": "2138",
         "rawType": "float16",
         "type": "float"
        },
        {
         "name": "2139",
         "rawType": "float16",
         "type": "float"
        },
        {
         "name": "2140",
         "rawType": "float16",
         "type": "float"
        },
        {
         "name": "2141",
         "rawType": "float16",
         "type": "float"
        },
        {
         "name": "2142",
         "rawType": "float16",
         "type": "float"
        },
        {
         "name": "2143",
         "rawType": "float16",
         "type": "float"
        },
        {
         "name": "2144",
         "rawType": "float16",
         "type": "float"
        },
        {
         "name": "2145",
         "rawType": "float16",
         "type": "float"
        },
        {
         "name": "2146",
         "rawType": "float16",
         "type": "float"
        },
        {
         "name": "2147",
         "rawType": "float16",
         "type": "float"
        },
        {
         "name": "2148",
         "rawType": "float16",
         "type": "float"
        },
        {
         "name": "2149",
         "rawType": "float16",
         "type": "float"
        },
        {
         "name": "2150",
         "rawType": "float16",
         "type": "float"
        },
        {
         "name": "2151",
         "rawType": "float16",
         "type": "float"
        },
        {
         "name": "2152",
         "rawType": "float16",
         "type": "float"
        },
        {
         "name": "2153",
         "rawType": "float16",
         "type": "float"
        },
        {
         "name": "2154",
         "rawType": "float16",
         "type": "float"
        },
        {
         "name": "2155",
         "rawType": "float16",
         "type": "float"
        },
        {
         "name": "2156",
         "rawType": "float16",
         "type": "float"
        },
        {
         "name": "2157",
         "rawType": "float16",
         "type": "float"
        },
        {
         "name": "2158",
         "rawType": "float16",
         "type": "float"
        },
        {
         "name": "2159",
         "rawType": "float16",
         "type": "float"
        },
        {
         "name": "2160",
         "rawType": "float16",
         "type": "float"
        },
        {
         "name": "2161",
         "rawType": "float16",
         "type": "float"
        },
        {
         "name": "2162",
         "rawType": "float16",
         "type": "float"
        },
        {
         "name": "2163",
         "rawType": "float16",
         "type": "float"
        },
        {
         "name": "2164",
         "rawType": "float16",
         "type": "float"
        },
        {
         "name": "2165",
         "rawType": "float16",
         "type": "float"
        },
        {
         "name": "2166",
         "rawType": "float16",
         "type": "float"
        },
        {
         "name": "2167",
         "rawType": "float16",
         "type": "float"
        },
        {
         "name": "2168",
         "rawType": "float16",
         "type": "float"
        },
        {
         "name": "2169",
         "rawType": "float16",
         "type": "float"
        },
        {
         "name": "2170",
         "rawType": "float16",
         "type": "float"
        },
        {
         "name": "2171",
         "rawType": "float16",
         "type": "float"
        },
        {
         "name": "2172",
         "rawType": "float16",
         "type": "float"
        },
        {
         "name": "2173",
         "rawType": "float16",
         "type": "float"
        },
        {
         "name": "2174",
         "rawType": "float16",
         "type": "float"
        },
        {
         "name": "2175",
         "rawType": "float16",
         "type": "float"
        },
        {
         "name": "2176",
         "rawType": "float16",
         "type": "float"
        },
        {
         "name": "2177",
         "rawType": "float16",
         "type": "float"
        },
        {
         "name": "2178",
         "rawType": "float16",
         "type": "float"
        },
        {
         "name": "2179",
         "rawType": "float16",
         "type": "float"
        },
        {
         "name": "2180",
         "rawType": "float16",
         "type": "float"
        },
        {
         "name": "2181",
         "rawType": "float16",
         "type": "float"
        },
        {
         "name": "2182",
         "rawType": "float16",
         "type": "float"
        },
        {
         "name": "2183",
         "rawType": "float16",
         "type": "float"
        },
        {
         "name": "2184",
         "rawType": "float16",
         "type": "float"
        },
        {
         "name": "2185",
         "rawType": "float16",
         "type": "float"
        },
        {
         "name": "2186",
         "rawType": "float16",
         "type": "float"
        },
        {
         "name": "2187",
         "rawType": "float16",
         "type": "float"
        },
        {
         "name": "2188",
         "rawType": "float16",
         "type": "float"
        },
        {
         "name": "2189",
         "rawType": "float16",
         "type": "float"
        },
        {
         "name": "2190",
         "rawType": "float16",
         "type": "float"
        },
        {
         "name": "2191",
         "rawType": "float16",
         "type": "float"
        },
        {
         "name": "2192",
         "rawType": "float16",
         "type": "float"
        },
        {
         "name": "2193",
         "rawType": "float16",
         "type": "float"
        },
        {
         "name": "2194",
         "rawType": "float16",
         "type": "float"
        },
        {
         "name": "2195",
         "rawType": "float16",
         "type": "float"
        },
        {
         "name": "2196",
         "rawType": "float16",
         "type": "float"
        },
        {
         "name": "2197",
         "rawType": "float16",
         "type": "float"
        },
        {
         "name": "2198",
         "rawType": "float16",
         "type": "float"
        },
        {
         "name": "2199",
         "rawType": "float16",
         "type": "float"
        },
        {
         "name": "2200",
         "rawType": "float16",
         "type": "float"
        },
        {
         "name": "2201",
         "rawType": "float16",
         "type": "float"
        },
        {
         "name": "2202",
         "rawType": "float16",
         "type": "float"
        },
        {
         "name": "2203",
         "rawType": "float16",
         "type": "float"
        },
        {
         "name": "2204",
         "rawType": "float16",
         "type": "float"
        },
        {
         "name": "2205",
         "rawType": "float16",
         "type": "float"
        },
        {
         "name": "2206",
         "rawType": "float16",
         "type": "float"
        },
        {
         "name": "2207",
         "rawType": "float16",
         "type": "float"
        },
        {
         "name": "2208",
         "rawType": "float16",
         "type": "float"
        },
        {
         "name": "2209",
         "rawType": "float16",
         "type": "float"
        },
        {
         "name": "2210",
         "rawType": "float16",
         "type": "float"
        },
        {
         "name": "2211",
         "rawType": "float16",
         "type": "float"
        },
        {
         "name": "2212",
         "rawType": "float16",
         "type": "float"
        },
        {
         "name": "2213",
         "rawType": "float16",
         "type": "float"
        },
        {
         "name": "2214",
         "rawType": "float16",
         "type": "float"
        },
        {
         "name": "2215",
         "rawType": "float16",
         "type": "float"
        },
        {
         "name": "2216",
         "rawType": "float16",
         "type": "float"
        },
        {
         "name": "2217",
         "rawType": "float16",
         "type": "float"
        },
        {
         "name": "2218",
         "rawType": "float16",
         "type": "float"
        },
        {
         "name": "2219",
         "rawType": "float16",
         "type": "float"
        },
        {
         "name": "2220",
         "rawType": "float16",
         "type": "float"
        },
        {
         "name": "2221",
         "rawType": "float16",
         "type": "float"
        },
        {
         "name": "2222",
         "rawType": "float16",
         "type": "float"
        },
        {
         "name": "2223",
         "rawType": "float16",
         "type": "float"
        },
        {
         "name": "2224",
         "rawType": "float16",
         "type": "float"
        },
        {
         "name": "2225",
         "rawType": "float16",
         "type": "float"
        },
        {
         "name": "2226",
         "rawType": "float16",
         "type": "float"
        },
        {
         "name": "2227",
         "rawType": "float16",
         "type": "float"
        },
        {
         "name": "2228",
         "rawType": "float16",
         "type": "float"
        },
        {
         "name": "2229",
         "rawType": "float16",
         "type": "float"
        },
        {
         "name": "2230",
         "rawType": "float16",
         "type": "float"
        },
        {
         "name": "2231",
         "rawType": "float16",
         "type": "float"
        },
        {
         "name": "2232",
         "rawType": "float16",
         "type": "float"
        },
        {
         "name": "2233",
         "rawType": "float16",
         "type": "float"
        },
        {
         "name": "2234",
         "rawType": "float16",
         "type": "float"
        },
        {
         "name": "2235",
         "rawType": "float16",
         "type": "float"
        },
        {
         "name": "2236",
         "rawType": "float16",
         "type": "float"
        },
        {
         "name": "2237",
         "rawType": "float16",
         "type": "float"
        },
        {
         "name": "2238",
         "rawType": "float16",
         "type": "float"
        },
        {
         "name": "2239",
         "rawType": "float16",
         "type": "float"
        },
        {
         "name": "2240",
         "rawType": "float16",
         "type": "float"
        },
        {
         "name": "2241",
         "rawType": "float16",
         "type": "float"
        },
        {
         "name": "2242",
         "rawType": "float16",
         "type": "float"
        },
        {
         "name": "2243",
         "rawType": "float16",
         "type": "float"
        },
        {
         "name": "2244",
         "rawType": "float16",
         "type": "float"
        },
        {
         "name": "2245",
         "rawType": "float16",
         "type": "float"
        },
        {
         "name": "2246",
         "rawType": "float16",
         "type": "float"
        },
        {
         "name": "2247",
         "rawType": "float16",
         "type": "float"
        },
        {
         "name": "2248",
         "rawType": "float16",
         "type": "float"
        },
        {
         "name": "2249",
         "rawType": "float16",
         "type": "float"
        },
        {
         "name": "2250",
         "rawType": "float16",
         "type": "float"
        },
        {
         "name": "2251",
         "rawType": "float16",
         "type": "float"
        },
        {
         "name": "2252",
         "rawType": "float16",
         "type": "float"
        },
        {
         "name": "2253",
         "rawType": "float16",
         "type": "float"
        },
        {
         "name": "2254",
         "rawType": "float16",
         "type": "float"
        },
        {
         "name": "2255",
         "rawType": "float16",
         "type": "float"
        },
        {
         "name": "2256",
         "rawType": "float16",
         "type": "float"
        },
        {
         "name": "2257",
         "rawType": "float16",
         "type": "float"
        },
        {
         "name": "2258",
         "rawType": "float16",
         "type": "float"
        },
        {
         "name": "2259",
         "rawType": "float16",
         "type": "float"
        },
        {
         "name": "2260",
         "rawType": "float16",
         "type": "float"
        },
        {
         "name": "2261",
         "rawType": "float16",
         "type": "float"
        },
        {
         "name": "2262",
         "rawType": "float16",
         "type": "float"
        },
        {
         "name": "2263",
         "rawType": "float16",
         "type": "float"
        },
        {
         "name": "2264",
         "rawType": "float16",
         "type": "float"
        },
        {
         "name": "2265",
         "rawType": "float16",
         "type": "float"
        },
        {
         "name": "2266",
         "rawType": "float16",
         "type": "float"
        },
        {
         "name": "2267",
         "rawType": "float16",
         "type": "float"
        },
        {
         "name": "2268",
         "rawType": "float16",
         "type": "float"
        },
        {
         "name": "2269",
         "rawType": "float16",
         "type": "float"
        },
        {
         "name": "2270",
         "rawType": "float16",
         "type": "float"
        },
        {
         "name": "2271",
         "rawType": "float16",
         "type": "float"
        },
        {
         "name": "2272",
         "rawType": "float16",
         "type": "float"
        },
        {
         "name": "2273",
         "rawType": "float16",
         "type": "float"
        },
        {
         "name": "2274",
         "rawType": "float16",
         "type": "float"
        },
        {
         "name": "2275",
         "rawType": "float16",
         "type": "float"
        },
        {
         "name": "2276",
         "rawType": "float16",
         "type": "float"
        },
        {
         "name": "2277",
         "rawType": "float16",
         "type": "float"
        },
        {
         "name": "2278",
         "rawType": "float16",
         "type": "float"
        },
        {
         "name": "2279",
         "rawType": "float16",
         "type": "float"
        },
        {
         "name": "2280",
         "rawType": "float16",
         "type": "float"
        },
        {
         "name": "2281",
         "rawType": "float16",
         "type": "float"
        },
        {
         "name": "2282",
         "rawType": "float16",
         "type": "float"
        },
        {
         "name": "2283",
         "rawType": "float16",
         "type": "float"
        },
        {
         "name": "2284",
         "rawType": "float16",
         "type": "float"
        },
        {
         "name": "2285",
         "rawType": "float16",
         "type": "float"
        },
        {
         "name": "2286",
         "rawType": "float16",
         "type": "float"
        },
        {
         "name": "2287",
         "rawType": "float16",
         "type": "float"
        },
        {
         "name": "2288",
         "rawType": "float16",
         "type": "float"
        },
        {
         "name": "2289",
         "rawType": "float16",
         "type": "float"
        },
        {
         "name": "2290",
         "rawType": "float16",
         "type": "float"
        },
        {
         "name": "2291",
         "rawType": "float16",
         "type": "float"
        },
        {
         "name": "2292",
         "rawType": "float16",
         "type": "float"
        },
        {
         "name": "2293",
         "rawType": "float16",
         "type": "float"
        },
        {
         "name": "2294",
         "rawType": "float16",
         "type": "float"
        },
        {
         "name": "2295",
         "rawType": "float16",
         "type": "float"
        },
        {
         "name": "2296",
         "rawType": "float16",
         "type": "float"
        },
        {
         "name": "2297",
         "rawType": "float16",
         "type": "float"
        },
        {
         "name": "2298",
         "rawType": "float16",
         "type": "float"
        },
        {
         "name": "2299",
         "rawType": "float16",
         "type": "float"
        },
        {
         "name": "2300",
         "rawType": "float16",
         "type": "float"
        },
        {
         "name": "2301",
         "rawType": "float16",
         "type": "float"
        },
        {
         "name": "2302",
         "rawType": "float16",
         "type": "float"
        },
        {
         "name": "2303",
         "rawType": "float16",
         "type": "float"
        },
        {
         "name": "2304",
         "rawType": "float16",
         "type": "float"
        },
        {
         "name": "2305",
         "rawType": "float16",
         "type": "float"
        },
        {
         "name": "2306",
         "rawType": "float16",
         "type": "float"
        },
        {
         "name": "2307",
         "rawType": "float16",
         "type": "float"
        },
        {
         "name": "2308",
         "rawType": "float16",
         "type": "float"
        },
        {
         "name": "2309",
         "rawType": "float16",
         "type": "float"
        },
        {
         "name": "2310",
         "rawType": "float16",
         "type": "float"
        },
        {
         "name": "2311",
         "rawType": "float16",
         "type": "float"
        },
        {
         "name": "2312",
         "rawType": "float16",
         "type": "float"
        },
        {
         "name": "2313",
         "rawType": "float16",
         "type": "float"
        },
        {
         "name": "2314",
         "rawType": "float16",
         "type": "float"
        },
        {
         "name": "2315",
         "rawType": "float16",
         "type": "float"
        },
        {
         "name": "2316",
         "rawType": "float16",
         "type": "float"
        },
        {
         "name": "2317",
         "rawType": "float16",
         "type": "float"
        },
        {
         "name": "2318",
         "rawType": "float16",
         "type": "float"
        },
        {
         "name": "2319",
         "rawType": "float16",
         "type": "float"
        },
        {
         "name": "2320",
         "rawType": "float16",
         "type": "float"
        },
        {
         "name": "2321",
         "rawType": "float16",
         "type": "float"
        },
        {
         "name": "2322",
         "rawType": "float16",
         "type": "float"
        },
        {
         "name": "2323",
         "rawType": "float16",
         "type": "float"
        },
        {
         "name": "2324",
         "rawType": "float16",
         "type": "float"
        },
        {
         "name": "2325",
         "rawType": "float16",
         "type": "float"
        },
        {
         "name": "2326",
         "rawType": "float16",
         "type": "float"
        },
        {
         "name": "2327",
         "rawType": "float16",
         "type": "float"
        },
        {
         "name": "2328",
         "rawType": "float16",
         "type": "float"
        },
        {
         "name": "2329",
         "rawType": "float16",
         "type": "float"
        },
        {
         "name": "2330",
         "rawType": "float16",
         "type": "float"
        },
        {
         "name": "2331",
         "rawType": "float16",
         "type": "float"
        },
        {
         "name": "2332",
         "rawType": "float16",
         "type": "float"
        },
        {
         "name": "2333",
         "rawType": "float16",
         "type": "float"
        },
        {
         "name": "2334",
         "rawType": "float16",
         "type": "float"
        },
        {
         "name": "2335",
         "rawType": "float16",
         "type": "float"
        },
        {
         "name": "2336",
         "rawType": "float16",
         "type": "float"
        },
        {
         "name": "2337",
         "rawType": "float16",
         "type": "float"
        },
        {
         "name": "2338",
         "rawType": "float16",
         "type": "float"
        },
        {
         "name": "2339",
         "rawType": "float16",
         "type": "float"
        },
        {
         "name": "2340",
         "rawType": "float16",
         "type": "float"
        },
        {
         "name": "2341",
         "rawType": "float16",
         "type": "float"
        },
        {
         "name": "2342",
         "rawType": "float16",
         "type": "float"
        },
        {
         "name": "2343",
         "rawType": "float16",
         "type": "float"
        },
        {
         "name": "2344",
         "rawType": "float16",
         "type": "float"
        },
        {
         "name": "2345",
         "rawType": "float16",
         "type": "float"
        },
        {
         "name": "2346",
         "rawType": "float16",
         "type": "float"
        },
        {
         "name": "2347",
         "rawType": "float16",
         "type": "float"
        },
        {
         "name": "2348",
         "rawType": "float16",
         "type": "float"
        },
        {
         "name": "2349",
         "rawType": "float16",
         "type": "float"
        },
        {
         "name": "2350",
         "rawType": "float16",
         "type": "float"
        },
        {
         "name": "2351",
         "rawType": "float16",
         "type": "float"
        },
        {
         "name": "2352",
         "rawType": "float16",
         "type": "float"
        },
        {
         "name": "2353",
         "rawType": "float16",
         "type": "float"
        },
        {
         "name": "2354",
         "rawType": "float16",
         "type": "float"
        },
        {
         "name": "2355",
         "rawType": "float16",
         "type": "float"
        },
        {
         "name": "2356",
         "rawType": "float16",
         "type": "float"
        },
        {
         "name": "2357",
         "rawType": "float16",
         "type": "float"
        },
        {
         "name": "2358",
         "rawType": "float16",
         "type": "float"
        },
        {
         "name": "2359",
         "rawType": "float16",
         "type": "float"
        },
        {
         "name": "2360",
         "rawType": "float16",
         "type": "float"
        },
        {
         "name": "2361",
         "rawType": "float16",
         "type": "float"
        },
        {
         "name": "2362",
         "rawType": "float16",
         "type": "float"
        },
        {
         "name": "2363",
         "rawType": "float16",
         "type": "float"
        },
        {
         "name": "2364",
         "rawType": "float16",
         "type": "float"
        },
        {
         "name": "2365",
         "rawType": "float16",
         "type": "float"
        },
        {
         "name": "2366",
         "rawType": "float16",
         "type": "float"
        },
        {
         "name": "2367",
         "rawType": "float16",
         "type": "float"
        },
        {
         "name": "2368",
         "rawType": "float16",
         "type": "float"
        },
        {
         "name": "2369",
         "rawType": "float16",
         "type": "float"
        },
        {
         "name": "2370",
         "rawType": "float16",
         "type": "float"
        },
        {
         "name": "2371",
         "rawType": "float16",
         "type": "float"
        },
        {
         "name": "2372",
         "rawType": "float16",
         "type": "float"
        },
        {
         "name": "2373",
         "rawType": "float16",
         "type": "float"
        },
        {
         "name": "2374",
         "rawType": "float16",
         "type": "float"
        },
        {
         "name": "2375",
         "rawType": "float16",
         "type": "float"
        },
        {
         "name": "2376",
         "rawType": "float16",
         "type": "float"
        },
        {
         "name": "2377",
         "rawType": "float16",
         "type": "float"
        },
        {
         "name": "2378",
         "rawType": "float16",
         "type": "float"
        },
        {
         "name": "2379",
         "rawType": "float16",
         "type": "float"
        },
        {
         "name": "2380",
         "rawType": "float16",
         "type": "float"
        },
        {
         "name": "2381",
         "rawType": "float16",
         "type": "float"
        },
        {
         "name": "2382",
         "rawType": "float16",
         "type": "float"
        },
        {
         "name": "2383",
         "rawType": "float16",
         "type": "float"
        },
        {
         "name": "2384",
         "rawType": "float16",
         "type": "float"
        },
        {
         "name": "2385",
         "rawType": "float16",
         "type": "float"
        },
        {
         "name": "2386",
         "rawType": "float16",
         "type": "float"
        },
        {
         "name": "2387",
         "rawType": "float16",
         "type": "float"
        },
        {
         "name": "2388",
         "rawType": "float16",
         "type": "float"
        },
        {
         "name": "2389",
         "rawType": "float16",
         "type": "float"
        },
        {
         "name": "2390",
         "rawType": "float16",
         "type": "float"
        },
        {
         "name": "2391",
         "rawType": "float16",
         "type": "float"
        },
        {
         "name": "2392",
         "rawType": "float16",
         "type": "float"
        },
        {
         "name": "2393",
         "rawType": "float16",
         "type": "float"
        },
        {
         "name": "2394",
         "rawType": "float16",
         "type": "float"
        },
        {
         "name": "2395",
         "rawType": "float16",
         "type": "float"
        },
        {
         "name": "2396",
         "rawType": "float16",
         "type": "float"
        },
        {
         "name": "2397",
         "rawType": "float16",
         "type": "float"
        },
        {
         "name": "2398",
         "rawType": "float16",
         "type": "float"
        },
        {
         "name": "2399",
         "rawType": "float16",
         "type": "float"
        },
        {
         "name": "2400",
         "rawType": "float16",
         "type": "float"
        },
        {
         "name": "2401",
         "rawType": "float16",
         "type": "float"
        },
        {
         "name": "2402",
         "rawType": "float16",
         "type": "float"
        },
        {
         "name": "2403",
         "rawType": "float16",
         "type": "float"
        },
        {
         "name": "2404",
         "rawType": "float16",
         "type": "float"
        },
        {
         "name": "2405",
         "rawType": "float16",
         "type": "float"
        },
        {
         "name": "2406",
         "rawType": "float16",
         "type": "float"
        },
        {
         "name": "2407",
         "rawType": "float16",
         "type": "float"
        },
        {
         "name": "2408",
         "rawType": "float16",
         "type": "float"
        },
        {
         "name": "2409",
         "rawType": "float16",
         "type": "float"
        },
        {
         "name": "2410",
         "rawType": "float16",
         "type": "float"
        },
        {
         "name": "2411",
         "rawType": "float16",
         "type": "float"
        },
        {
         "name": "2412",
         "rawType": "float16",
         "type": "float"
        },
        {
         "name": "2413",
         "rawType": "float16",
         "type": "float"
        },
        {
         "name": "2414",
         "rawType": "float16",
         "type": "float"
        },
        {
         "name": "2415",
         "rawType": "float16",
         "type": "float"
        },
        {
         "name": "2416",
         "rawType": "float16",
         "type": "float"
        },
        {
         "name": "2417",
         "rawType": "float16",
         "type": "float"
        },
        {
         "name": "2418",
         "rawType": "float16",
         "type": "float"
        },
        {
         "name": "2419",
         "rawType": "float16",
         "type": "float"
        },
        {
         "name": "2420",
         "rawType": "float16",
         "type": "float"
        },
        {
         "name": "2421",
         "rawType": "float16",
         "type": "float"
        },
        {
         "name": "2422",
         "rawType": "float16",
         "type": "float"
        },
        {
         "name": "2423",
         "rawType": "float16",
         "type": "float"
        },
        {
         "name": "2424",
         "rawType": "float16",
         "type": "float"
        },
        {
         "name": "2425",
         "rawType": "float16",
         "type": "float"
        },
        {
         "name": "2426",
         "rawType": "float16",
         "type": "float"
        },
        {
         "name": "2427",
         "rawType": "float16",
         "type": "float"
        },
        {
         "name": "2428",
         "rawType": "float16",
         "type": "float"
        },
        {
         "name": "2429",
         "rawType": "float16",
         "type": "float"
        },
        {
         "name": "2430",
         "rawType": "float16",
         "type": "float"
        },
        {
         "name": "2431",
         "rawType": "float16",
         "type": "float"
        },
        {
         "name": "2432",
         "rawType": "float16",
         "type": "float"
        },
        {
         "name": "2433",
         "rawType": "float16",
         "type": "float"
        },
        {
         "name": "2434",
         "rawType": "float16",
         "type": "float"
        },
        {
         "name": "2435",
         "rawType": "float16",
         "type": "float"
        },
        {
         "name": "2436",
         "rawType": "float16",
         "type": "float"
        },
        {
         "name": "2437",
         "rawType": "float16",
         "type": "float"
        },
        {
         "name": "2438",
         "rawType": "float16",
         "type": "float"
        },
        {
         "name": "2439",
         "rawType": "float16",
         "type": "float"
        },
        {
         "name": "2440",
         "rawType": "float16",
         "type": "float"
        },
        {
         "name": "2441",
         "rawType": "float16",
         "type": "float"
        },
        {
         "name": "2442",
         "rawType": "float16",
         "type": "float"
        },
        {
         "name": "2443",
         "rawType": "float16",
         "type": "float"
        },
        {
         "name": "2444",
         "rawType": "float16",
         "type": "float"
        },
        {
         "name": "2445",
         "rawType": "float16",
         "type": "float"
        },
        {
         "name": "2446",
         "rawType": "float16",
         "type": "float"
        },
        {
         "name": "2447",
         "rawType": "float16",
         "type": "float"
        },
        {
         "name": "2448",
         "rawType": "float16",
         "type": "float"
        },
        {
         "name": "2449",
         "rawType": "float16",
         "type": "float"
        },
        {
         "name": "2450",
         "rawType": "float16",
         "type": "float"
        },
        {
         "name": "2451",
         "rawType": "float16",
         "type": "float"
        },
        {
         "name": "2452",
         "rawType": "float16",
         "type": "float"
        },
        {
         "name": "2453",
         "rawType": "float16",
         "type": "float"
        },
        {
         "name": "2454",
         "rawType": "float16",
         "type": "float"
        },
        {
         "name": "2455",
         "rawType": "float16",
         "type": "float"
        },
        {
         "name": "2456",
         "rawType": "float16",
         "type": "float"
        },
        {
         "name": "2457",
         "rawType": "float16",
         "type": "float"
        },
        {
         "name": "2458",
         "rawType": "float16",
         "type": "float"
        },
        {
         "name": "2459",
         "rawType": "float16",
         "type": "float"
        },
        {
         "name": "2460",
         "rawType": "float16",
         "type": "float"
        },
        {
         "name": "2461",
         "rawType": "float16",
         "type": "float"
        },
        {
         "name": "2462",
         "rawType": "float16",
         "type": "float"
        },
        {
         "name": "2463",
         "rawType": "float16",
         "type": "float"
        },
        {
         "name": "2464",
         "rawType": "float16",
         "type": "float"
        },
        {
         "name": "2465",
         "rawType": "float16",
         "type": "float"
        },
        {
         "name": "2466",
         "rawType": "float16",
         "type": "float"
        },
        {
         "name": "2467",
         "rawType": "float16",
         "type": "float"
        },
        {
         "name": "2468",
         "rawType": "float16",
         "type": "float"
        },
        {
         "name": "2469",
         "rawType": "float16",
         "type": "float"
        },
        {
         "name": "2470",
         "rawType": "float16",
         "type": "float"
        },
        {
         "name": "2471",
         "rawType": "float16",
         "type": "float"
        },
        {
         "name": "2472",
         "rawType": "float16",
         "type": "float"
        },
        {
         "name": "2473",
         "rawType": "float16",
         "type": "float"
        },
        {
         "name": "2474",
         "rawType": "float16",
         "type": "float"
        },
        {
         "name": "2475",
         "rawType": "float16",
         "type": "float"
        },
        {
         "name": "2476",
         "rawType": "float16",
         "type": "float"
        },
        {
         "name": "2477",
         "rawType": "float16",
         "type": "float"
        },
        {
         "name": "2478",
         "rawType": "float16",
         "type": "float"
        },
        {
         "name": "2479",
         "rawType": "float16",
         "type": "float"
        },
        {
         "name": "2480",
         "rawType": "float16",
         "type": "float"
        },
        {
         "name": "2481",
         "rawType": "float16",
         "type": "float"
        },
        {
         "name": "2482",
         "rawType": "float16",
         "type": "float"
        },
        {
         "name": "2483",
         "rawType": "float16",
         "type": "float"
        },
        {
         "name": "2484",
         "rawType": "float16",
         "type": "float"
        },
        {
         "name": "2485",
         "rawType": "float16",
         "type": "float"
        },
        {
         "name": "2486",
         "rawType": "float16",
         "type": "float"
        },
        {
         "name": "2487",
         "rawType": "float16",
         "type": "float"
        },
        {
         "name": "2488",
         "rawType": "float16",
         "type": "float"
        },
        {
         "name": "2489",
         "rawType": "float16",
         "type": "float"
        },
        {
         "name": "2490",
         "rawType": "float16",
         "type": "float"
        },
        {
         "name": "2491",
         "rawType": "float16",
         "type": "float"
        },
        {
         "name": "2492",
         "rawType": "float16",
         "type": "float"
        },
        {
         "name": "2493",
         "rawType": "float16",
         "type": "float"
        },
        {
         "name": "2494",
         "rawType": "float16",
         "type": "float"
        },
        {
         "name": "2495",
         "rawType": "float16",
         "type": "float"
        },
        {
         "name": "2496",
         "rawType": "float16",
         "type": "float"
        },
        {
         "name": "2497",
         "rawType": "float16",
         "type": "float"
        },
        {
         "name": "2498",
         "rawType": "float16",
         "type": "float"
        },
        {
         "name": "2499",
         "rawType": "float16",
         "type": "float"
        },
        {
         "name": "2500",
         "rawType": "float16",
         "type": "float"
        },
        {
         "name": "2501",
         "rawType": "float16",
         "type": "float"
        },
        {
         "name": "2502",
         "rawType": "float16",
         "type": "float"
        },
        {
         "name": "2503",
         "rawType": "float16",
         "type": "float"
        },
        {
         "name": "2504",
         "rawType": "float16",
         "type": "float"
        },
        {
         "name": "2505",
         "rawType": "float16",
         "type": "float"
        },
        {
         "name": "2506",
         "rawType": "float16",
         "type": "float"
        },
        {
         "name": "2507",
         "rawType": "float16",
         "type": "float"
        },
        {
         "name": "2508",
         "rawType": "float16",
         "type": "float"
        },
        {
         "name": "2509",
         "rawType": "float16",
         "type": "float"
        },
        {
         "name": "2510",
         "rawType": "float16",
         "type": "float"
        },
        {
         "name": "2511",
         "rawType": "float16",
         "type": "float"
        },
        {
         "name": "2512",
         "rawType": "float16",
         "type": "float"
        },
        {
         "name": "2513",
         "rawType": "float16",
         "type": "float"
        },
        {
         "name": "2514",
         "rawType": "float16",
         "type": "float"
        },
        {
         "name": "2515",
         "rawType": "float16",
         "type": "float"
        },
        {
         "name": "2516",
         "rawType": "float16",
         "type": "float"
        },
        {
         "name": "2517",
         "rawType": "float16",
         "type": "float"
        },
        {
         "name": "2518",
         "rawType": "float16",
         "type": "float"
        },
        {
         "name": "2519",
         "rawType": "float16",
         "type": "float"
        },
        {
         "name": "2520",
         "rawType": "float16",
         "type": "float"
        },
        {
         "name": "2521",
         "rawType": "float16",
         "type": "float"
        },
        {
         "name": "2522",
         "rawType": "float16",
         "type": "float"
        },
        {
         "name": "2523",
         "rawType": "float16",
         "type": "float"
        },
        {
         "name": "2524",
         "rawType": "float16",
         "type": "float"
        },
        {
         "name": "2525",
         "rawType": "float16",
         "type": "float"
        },
        {
         "name": "2526",
         "rawType": "float16",
         "type": "float"
        },
        {
         "name": "2527",
         "rawType": "float16",
         "type": "float"
        },
        {
         "name": "2528",
         "rawType": "float16",
         "type": "float"
        },
        {
         "name": "2529",
         "rawType": "float16",
         "type": "float"
        },
        {
         "name": "2530",
         "rawType": "float16",
         "type": "float"
        },
        {
         "name": "2531",
         "rawType": "float16",
         "type": "float"
        },
        {
         "name": "2532",
         "rawType": "float16",
         "type": "float"
        },
        {
         "name": "2533",
         "rawType": "float16",
         "type": "float"
        },
        {
         "name": "2534",
         "rawType": "float16",
         "type": "float"
        },
        {
         "name": "2535",
         "rawType": "float16",
         "type": "float"
        },
        {
         "name": "2536",
         "rawType": "float16",
         "type": "float"
        },
        {
         "name": "2537",
         "rawType": "float16",
         "type": "float"
        },
        {
         "name": "2538",
         "rawType": "float16",
         "type": "float"
        },
        {
         "name": "2539",
         "rawType": "float16",
         "type": "float"
        },
        {
         "name": "2540",
         "rawType": "float16",
         "type": "float"
        },
        {
         "name": "2541",
         "rawType": "float16",
         "type": "float"
        },
        {
         "name": "2542",
         "rawType": "float16",
         "type": "float"
        },
        {
         "name": "2543",
         "rawType": "float16",
         "type": "float"
        },
        {
         "name": "2544",
         "rawType": "float16",
         "type": "float"
        },
        {
         "name": "2545",
         "rawType": "float16",
         "type": "float"
        },
        {
         "name": "2546",
         "rawType": "float16",
         "type": "float"
        },
        {
         "name": "2547",
         "rawType": "float16",
         "type": "float"
        },
        {
         "name": "2548",
         "rawType": "float16",
         "type": "float"
        },
        {
         "name": "2549",
         "rawType": "float16",
         "type": "float"
        },
        {
         "name": "2550",
         "rawType": "float16",
         "type": "float"
        },
        {
         "name": "2551",
         "rawType": "float16",
         "type": "float"
        },
        {
         "name": "2552",
         "rawType": "float16",
         "type": "float"
        },
        {
         "name": "2553",
         "rawType": "float16",
         "type": "float"
        },
        {
         "name": "2554",
         "rawType": "float16",
         "type": "float"
        },
        {
         "name": "2555",
         "rawType": "float16",
         "type": "float"
        },
        {
         "name": "2556",
         "rawType": "float16",
         "type": "float"
        },
        {
         "name": "2557",
         "rawType": "float16",
         "type": "float"
        },
        {
         "name": "2558",
         "rawType": "float16",
         "type": "float"
        },
        {
         "name": "2559",
         "rawType": "float16",
         "type": "float"
        },
        {
         "name": "2560",
         "rawType": "float16",
         "type": "float"
        },
        {
         "name": "2561",
         "rawType": "float16",
         "type": "float"
        },
        {
         "name": "2562",
         "rawType": "float16",
         "type": "float"
        },
        {
         "name": "2563",
         "rawType": "float16",
         "type": "float"
        },
        {
         "name": "2564",
         "rawType": "float16",
         "type": "float"
        },
        {
         "name": "2565",
         "rawType": "float16",
         "type": "float"
        },
        {
         "name": "2566",
         "rawType": "float16",
         "type": "float"
        },
        {
         "name": "2567",
         "rawType": "float16",
         "type": "float"
        },
        {
         "name": "2568",
         "rawType": "float16",
         "type": "float"
        },
        {
         "name": "2569",
         "rawType": "float16",
         "type": "float"
        },
        {
         "name": "2570",
         "rawType": "float16",
         "type": "float"
        },
        {
         "name": "2571",
         "rawType": "float16",
         "type": "float"
        },
        {
         "name": "2572",
         "rawType": "float16",
         "type": "float"
        },
        {
         "name": "2573",
         "rawType": "float16",
         "type": "float"
        },
        {
         "name": "2574",
         "rawType": "float16",
         "type": "float"
        },
        {
         "name": "2575",
         "rawType": "float16",
         "type": "float"
        },
        {
         "name": "2576",
         "rawType": "float16",
         "type": "float"
        },
        {
         "name": "2577",
         "rawType": "float16",
         "type": "float"
        },
        {
         "name": "2578",
         "rawType": "float16",
         "type": "float"
        },
        {
         "name": "2579",
         "rawType": "float16",
         "type": "float"
        },
        {
         "name": "2580",
         "rawType": "float16",
         "type": "float"
        },
        {
         "name": "2581",
         "rawType": "float16",
         "type": "float"
        },
        {
         "name": "2582",
         "rawType": "float16",
         "type": "float"
        },
        {
         "name": "2583",
         "rawType": "float16",
         "type": "float"
        },
        {
         "name": "2584",
         "rawType": "float16",
         "type": "float"
        },
        {
         "name": "2585",
         "rawType": "float16",
         "type": "float"
        },
        {
         "name": "2586",
         "rawType": "float16",
         "type": "float"
        },
        {
         "name": "2587",
         "rawType": "float16",
         "type": "float"
        },
        {
         "name": "2588",
         "rawType": "float16",
         "type": "float"
        },
        {
         "name": "2589",
         "rawType": "float16",
         "type": "float"
        },
        {
         "name": "2590",
         "rawType": "float16",
         "type": "float"
        },
        {
         "name": "2591",
         "rawType": "float16",
         "type": "float"
        },
        {
         "name": "2592",
         "rawType": "float16",
         "type": "float"
        },
        {
         "name": "2593",
         "rawType": "float16",
         "type": "float"
        },
        {
         "name": "2594",
         "rawType": "float16",
         "type": "float"
        },
        {
         "name": "2595",
         "rawType": "float16",
         "type": "float"
        },
        {
         "name": "2596",
         "rawType": "float16",
         "type": "float"
        },
        {
         "name": "2597",
         "rawType": "float16",
         "type": "float"
        },
        {
         "name": "2598",
         "rawType": "float16",
         "type": "float"
        },
        {
         "name": "2599",
         "rawType": "float16",
         "type": "float"
        },
        {
         "name": "2600",
         "rawType": "float16",
         "type": "float"
        },
        {
         "name": "2601",
         "rawType": "float16",
         "type": "float"
        },
        {
         "name": "2602",
         "rawType": "float16",
         "type": "float"
        },
        {
         "name": "2603",
         "rawType": "float16",
         "type": "float"
        },
        {
         "name": "2604",
         "rawType": "float16",
         "type": "float"
        },
        {
         "name": "2605",
         "rawType": "float16",
         "type": "float"
        },
        {
         "name": "2606",
         "rawType": "float16",
         "type": "float"
        },
        {
         "name": "2607",
         "rawType": "float16",
         "type": "float"
        },
        {
         "name": "2608",
         "rawType": "float16",
         "type": "float"
        },
        {
         "name": "2609",
         "rawType": "float16",
         "type": "float"
        },
        {
         "name": "2610",
         "rawType": "float16",
         "type": "float"
        },
        {
         "name": "2611",
         "rawType": "float16",
         "type": "float"
        },
        {
         "name": "2612",
         "rawType": "float16",
         "type": "float"
        },
        {
         "name": "2613",
         "rawType": "float16",
         "type": "float"
        },
        {
         "name": "2614",
         "rawType": "float16",
         "type": "float"
        },
        {
         "name": "2615",
         "rawType": "float16",
         "type": "float"
        },
        {
         "name": "2616",
         "rawType": "float16",
         "type": "float"
        },
        {
         "name": "2617",
         "rawType": "float16",
         "type": "float"
        },
        {
         "name": "2618",
         "rawType": "float16",
         "type": "float"
        },
        {
         "name": "2619",
         "rawType": "float16",
         "type": "float"
        },
        {
         "name": "2620",
         "rawType": "float16",
         "type": "float"
        },
        {
         "name": "2621",
         "rawType": "float16",
         "type": "float"
        },
        {
         "name": "2622",
         "rawType": "float16",
         "type": "float"
        },
        {
         "name": "2623",
         "rawType": "float16",
         "type": "float"
        },
        {
         "name": "2624",
         "rawType": "float16",
         "type": "float"
        },
        {
         "name": "2625",
         "rawType": "float16",
         "type": "float"
        },
        {
         "name": "2626",
         "rawType": "float16",
         "type": "float"
        },
        {
         "name": "2627",
         "rawType": "float16",
         "type": "float"
        },
        {
         "name": "2628",
         "rawType": "float16",
         "type": "float"
        },
        {
         "name": "2629",
         "rawType": "float16",
         "type": "float"
        },
        {
         "name": "2630",
         "rawType": "float16",
         "type": "float"
        },
        {
         "name": "2631",
         "rawType": "float16",
         "type": "float"
        },
        {
         "name": "2632",
         "rawType": "float16",
         "type": "float"
        },
        {
         "name": "2633",
         "rawType": "float16",
         "type": "float"
        },
        {
         "name": "2634",
         "rawType": "float16",
         "type": "float"
        },
        {
         "name": "2635",
         "rawType": "float16",
         "type": "float"
        },
        {
         "name": "2636",
         "rawType": "float16",
         "type": "float"
        },
        {
         "name": "2637",
         "rawType": "float16",
         "type": "float"
        },
        {
         "name": "2638",
         "rawType": "float16",
         "type": "float"
        },
        {
         "name": "2639",
         "rawType": "float16",
         "type": "float"
        },
        {
         "name": "2640",
         "rawType": "float16",
         "type": "float"
        },
        {
         "name": "2641",
         "rawType": "float16",
         "type": "float"
        },
        {
         "name": "2642",
         "rawType": "float16",
         "type": "float"
        },
        {
         "name": "2643",
         "rawType": "float16",
         "type": "float"
        },
        {
         "name": "2644",
         "rawType": "float16",
         "type": "float"
        },
        {
         "name": "2645",
         "rawType": "float16",
         "type": "float"
        },
        {
         "name": "2646",
         "rawType": "float16",
         "type": "float"
        },
        {
         "name": "2647",
         "rawType": "float16",
         "type": "float"
        },
        {
         "name": "2648",
         "rawType": "float16",
         "type": "float"
        },
        {
         "name": "2649",
         "rawType": "float16",
         "type": "float"
        },
        {
         "name": "2650",
         "rawType": "float16",
         "type": "float"
        },
        {
         "name": "2651",
         "rawType": "float16",
         "type": "float"
        },
        {
         "name": "2652",
         "rawType": "float16",
         "type": "float"
        }
       ],
       "ref": "f3d33c89-ec9c-47aa-96d5-fe39a239356d",
       "rows": [
        [
         "0",
         "0.0",
         "35.38",
         "188.0",
         "168.5",
         "116.6",
         "140.5",
         "114.25",
         "162.1",
         "107.75",
         "110.7",
         "78.5",
         "48.25",
         "157.1",
         "127.3",
         "140.2",
         "131.0",
         "76.25",
         "75.1",
         "190.9",
         "138.4",
         "106.9",
         "79.44",
         "98.8",
         "94.3",
         "56.03",
         "199.9",
         "149.0",
         "141.5",
         "135.0",
         "132.9",
         "127.0",
         "128.6",
         "130.5",
         "82.1",
         "109.9",
         "109.06",
         "110.0",
         "103.4",
         "105.4",
         "69.7",
         "78.8",
         "105.8",
         "106.06",
         "143.5",
         "91.44",
         "79.44",
         "97.25",
         "100.6",
         "104.06",
         "108.9",
         "99.06",
         "109.3",
         "105.75",
         "97.1",
         "71.6",
         "99.9",
         "93.25",
         "90.25",
         "66.3",
         "66.6",
         "65.9",
         "66.06",
         "64.5",
         "103.75",
         "86.5",
         "135.6",
         "139.4",
         "119.7",
         "163.5",
         "162.6",
         "160.2",
         "84.8",
         "56.62",
         "61.22",
         "63.75",
         "59.0",
         "70.9",
         "47.03",
         "102.4",
         "42.16",
         "141.8",
         "109.2",
         "84.5",
         "149.5",
         "109.94",
         "107.7",
         "52.6",
         "52.1",
         "35.75",
         "174.8",
         "133.4",
         "151.0",
         "148.1",
         "168.9",
         "116.4",
         "104.5",
         "132.8",
         "118.9",
         "118.56",
         "137.5",
         "160.1",
         "65.6",
         "65.56",
         "128.8",
         "127.3",
         "110.2",
         "76.8",
         "97.75",
         "121.25",
         "96.8",
         "67.3",
         "66.8",
         "79.7",
         "142.6",
         "156.6",
         "93.75",
         "49.78",
         "65.75",
         "84.25",
         "120.9",
         "104.7",
         "97.6",
         "94.75",
         "71.56",
         "43.47",
         "127.06",
         "61.06",
         "81.56",
         "81.5",
         "65.6",
         "60.03",
         "56.4",
         "60.56",
         "58.7",
         "54.78",
         "59.47",
         "61.0",
         "54.72",
         "48.4",
         "48.06",
         "171.9",
         "170.9",
         "162.9",
         "162.1",
         "164.8",
         "179.6",
         "157.9",
         "154.0",
         "161.2",
         "178.4",
         "151.0",
         "168.0",
         "166.2",
         "155.6",
         "159.0",
         "122.1",
         "120.7",
         "124.7",
         "119.25",
         "125.4",
         "162.2",
         "171.1",
         "146.5",
         "152.5",
         "198.6",
         "219.4",
         "146.5",
         "150.8",
         "162.0",
         "147.5",
         "143.6",
         "150.5",
         "148.9",
         "148.2",
         "146.8",
         "219.4",
         "155.8",
         "153.1",
         "170.1",
         "153.9",
         "182.1",
         "178.4",
         "184.6",
         "169.1",
         "160.6",
         "161.6",
         "151.4",
         "156.4",
         "165.2",
         "156.4",
         "102.0",
         "101.3",
         "93.94",
         "94.25",
         "846.0",
         "115.9",
         "92.56",
         "117.1",
         "94.44",
         "123.25",
         "120.56",
         "77.25",
         "86.8",
         "87.75",
         "122.75",
         "120.9",
         "122.6",
         "138.6",
         "130.1",
         "139.6",
         "130.9",
         "158.5",
         "151.1",
         "153.1",
         "151.1",
         "151.1",
         "162.8",
         "158.1",
         "158.6",
         "150.2",
         "63.72",
         "167.4",
         "160.2",
         "154.9",
         "81.2",
         "86.2",
         "91.25",
         "72.9",
         "77.56",
         "73.7",
         "77.0",
         "61.94",
         "62.0",
         "50.06",
         "53.72",
         "49.16",
         "48.44",
         "76.56",
         "79.6",
         "78.3",
         "94.06",
         "98.25",
         "80.9",
         "69.1",
         "50.84",
         "101.06",
         "137.9",
         "167.9",
         "179.2",
         "165.6",
         "154.2",
         "152.8",
         "148.9",
         "147.4",
         "157.1",
         "154.5",
         "155.9",
         "89.4",
         "84.1",
         "239.0",
         "109.9",
         "139.1",
         "145.5",
         "161.5",
         "159.5",
         "153.4",
         "158.6",
         "153.9",
         "142.0",
         "175.8",
         "168.0",
         "148.1",
         "156.4",
         "148.2",
         "149.6",
         "147.9",
         "142.9",
         "156.0",
         "152.5",
         "151.6",
         "150.1",
         "153.4",
         "128.1",
         "123.3",
         "122.1",
         "140.8",
         "125.75",
         "134.6",
         "137.2",
         "147.8",
         "134.5",
         "138.1",
         "110.2",
         "130.4",
         "131.6",
         "125.1",
         "180.5",
         "142.2",
         "164.2",
         "172.0",
         "167.8",
         "157.1",
         "152.2",
         "156.8",
         "157.1",
         "56.75",
         "55.97",
         "162.8",
         "152.8",
         "155.1",
         "130.0",
         "146.0",
         "147.2",
         "135.4",
         "170.9",
         "169.9",
         "167.9",
         "97.25",
         "147.0",
         "154.0",
         "151.5",
         "152.0",
         "154.8",
         "127.1",
         "124.6",
         "128.6",
         "129.4",
         "126.94",
         "132.0",
         "152.6",
         "142.4",
         "150.9",
         "67.7",
         "68.2",
         "57.3",
         "155.8",
         "153.0",
         "170.6",
         "176.4",
         "148.0",
         "147.8",
         "60.22",
         "74.0",
         "147.1",
         "149.6",
         "150.4",
         "150.5",
         "149.6",
         "148.0",
         "148.2",
         "147.6",
         "147.0",
         "154.4",
         "153.4",
         "162.6",
         "130.0",
         "130.2",
         "149.4",
         "139.5",
         "141.2",
         "139.9",
         "123.8",
         "131.4",
         "126.25",
         "126.1",
         "129.8",
         "125.1",
         "127.2",
         "126.56",
         "127.75",
         "126.75",
         "159.9",
         "126.0",
         "122.75",
         "167.4",
         "169.2",
         "168.5",
         "168.0",
         "168.8",
         "169.0",
         "150.1",
         "142.1",
         "133.9",
         "137.4",
         "89.2",
         "83.44",
         "89.4",
         "179.6",
         "149.8",
         "61.88",
         "69.8",
         "146.8",
         "149.5",
         "147.6",
         "145.0",
         "145.5",
         "77.2",
         "150.2",
         "151.9",
         "152.0",
         "154.9",
         "73.8",
         "74.7",
         "83.06",
         "76.56",
         "76.4",
         "75.8",
         "78.6",
         "83.3",
         "79.2",
         "86.2",
         "87.4",
         "88.3",
         "61.97",
         "61.53",
         "59.1",
         "161.8",
         "161.2",
         "163.0",
         "134.9",
         "140.9",
         "163.1",
         "164.8",
         "148.0",
         "152.8",
         "149.4",
         "149.9",
         "150.1",
         "128.6",
         "153.2",
         "157.2",
         "153.2",
         "161.8",
         "156.5",
         "158.4",
         "179.8",
         "165.4",
         "175.1",
         "177.0",
         "62.94",
         "64.9",
         "66.25",
         "63.44",
         "63.34",
         "68.9",
         "70.7",
         "71.75",
         "68.75",
         "68.75",
         "72.5",
         "55.6",
         "53.84",
         "53.62",
         "51.06",
         "55.03",
         "86.9",
         "86.8",
         "86.9",
         "86.0",
         "91.44",
         "92.0",
         "84.1",
         "85.06",
         "88.06",
         "87.5",
         "92.75",
         "93.06",
         "93.9",
         "90.2",
         "90.75",
         "87.9",
         "88.9",
         "83.3",
         "83.4",
         "90.4",
         "91.2",
         "88.6",
         "89.6",
         "90.56",
         "87.7",
         "92.56",
         "93.75",
         "92.56",
         "90.56",
         "89.75",
         "89.56",
         "92.44",
         "167.9",
         "155.6",
         "155.6",
         "158.4",
         "158.5",
         "158.6",
         "159.0",
         "157.8",
         "156.9",
         "159.2",
         "156.1",
         "160.5",
         "160.5",
         "150.9",
         "162.0",
         "149.0",
         "150.2",
         "150.9",
         "151.8",
         "148.2",
         "147.2",
         "150.5",
         "148.2",
         "148.5",
         "105.7",
         "101.56",
         "105.94",
         "109.5",
         "104.94",
         "111.6",
         "104.9",
         "109.25",
         "106.75",
         "112.2",
         "109.94",
         "112.7",
         "111.56",
         "112.06",
         "116.94",
         "125.44",
         "125.56",
         "120.75",
         "124.7",
         "129.2",
         "129.1",
         "128.6",
         "124.7",
         "132.4",
         "133.4",
         "128.2",
         "130.5",
         "131.1",
         "125.3",
         "134.4",
         "131.8",
         "129.6",
         "108.0",
         "108.7",
         "108.6",
         "107.4",
         "110.1",
         "108.6",
         "109.9",
         "110.94",
         "109.5",
         "106.1",
         "111.56",
         "110.9",
         "110.8",
         "106.7",
         "113.9",
         "112.25",
         "112.4",
         "107.8",
         "109.75",
         "109.25",
         "108.5",
         "114.4",
         "113.06",
         "109.25",
         "108.5",
         "109.6",
         "110.25",
         "108.25",
         "114.1",
         "114.06",
         "114.5",
         "113.1",
         "111.9",
         "114.75",
         "113.94",
         "113.8",
         "112.56",
         "112.5",
         "114.6",
         "113.7",
         "115.2",
         "111.44",
         "113.25",
         "112.1",
         "111.44",
         "116.2",
         "119.1",
         "116.75",
         "115.5",
         "114.0",
         "115.5",
         "114.7",
         "117.5",
         "113.6",
         "118.3",
         "115.8",
         "117.75",
         "119.1",
         "119.7",
         "115.1",
         "120.6",
         "116.56",
         "119.2",
         "121.3",
         "118.0",
         "117.25",
         "121.1",
         "120.06",
         "124.94",
         "113.9",
         "115.4",
         "115.3",
         "121.25",
         "117.5",
         "122.0",
         "119.06",
         "123.6",
         "120.75",
         "117.5",
         "119.6",
         "119.44",
         "120.4",
         "121.56",
         "122.7",
         "120.44",
         "121.25",
         "122.7",
         "123.2",
         "118.25",
         "117.56",
         "122.0",
         "118.0",
         "122.9",
         "117.5",
         "123.9",
         "121.06",
         "122.6",
         "121.7",
         "121.06",
         "122.2",
         "123.7",
         "122.5",
         "119.7",
         "118.94",
         "127.56",
         "120.2",
         "126.8",
         "128.4",
         "128.4",
         "127.0",
         "130.8",
         "129.6",
         "130.0",
         "126.56",
         "130.4",
         "130.0",
         "130.6",
         "127.1",
         "125.56",
         "130.5",
         "130.2",
         "126.3",
         "129.6",
         "126.3",
         "129.1",
         "125.5",
         "129.5",
         "129.9",
         "126.56",
         "129.2",
         "127.06",
         "127.8",
         "129.8",
         "130.6",
         "128.0",
         "130.6",
         "131.0",
         "129.9",
         "129.1",
         "127.75",
         "130.2",
         "121.4",
         "123.2",
         "127.25",
         "126.06",
         "121.94",
         "128.1",
         "129.6",
         "126.6",
         "124.75",
         "127.5",
         "120.5",
         "123.4",
         "119.1",
         "136.4",
         "133.8",
         "136.2",
         "131.6",
         "134.8",
         "129.6",
         "130.9",
         "130.2",
         "132.1",
         "131.4",
         "128.1",
         "130.0",
         "126.75",
         "126.8",
         "122.1",
         "122.9",
         "126.06",
         "125.4",
         "136.2",
         "136.1",
         "134.9",
         "137.9",
         "134.1",
         "134.1",
         "133.5",
         "132.8",
         "135.2",
         "133.9",
         "130.6",
         "135.8",
         "143.0",
         "141.9",
         "142.1",
         "137.5",
         "136.8",
         "138.0",
         "137.4",
         "137.4",
         "141.2",
         "143.0",
         "140.6",
         "141.1",
         "139.5",
         "136.2",
         "139.0",
         "135.6",
         "139.5",
         "139.0",
         "138.8",
         "141.8",
         "143.2",
         "146.6",
         "145.6",
         "142.5",
         "142.5",
         "140.8",
         "140.6",
         "139.9",
         "141.9",
         "142.4",
         "144.0",
         "144.0",
         "145.9",
         "143.2",
         "138.1",
         "137.9",
         "142.2",
         "139.5",
         "143.2",
         "140.6",
         "139.8",
         "143.2",
         "145.1",
         "144.4",
         "142.4",
         "145.1",
         "141.6",
         "142.8",
         "150.0",
         "138.1",
         "140.8",
         "146.6",
         "146.8",
         "143.4",
         "149.0",
         "138.4",
         "136.6",
         "145.0",
         "145.0",
         "139.1",
         "139.9",
         "141.1",
         "147.5",
         "144.2",
         "144.2",
         "140.6",
         "141.0",
         "147.4",
         "142.8",
         "143.5",
         "142.8",
         "144.2",
         "145.1",
         "142.1",
         "142.9",
         "148.4",
         "141.4",
         "149.1",
         "147.4",
         "139.4",
         "147.8",
         "143.6",
         "143.6",
         "151.4",
         "154.4",
         "148.1",
         "149.8",
         "149.0",
         "151.8",
         "153.0",
         "157.0",
         "153.0",
         "152.2",
         "159.2",
         "157.6",
         "157.0",
         "159.8",
         "157.2",
         "143.1",
         "146.0",
         "146.6",
         "146.1",
         "146.9",
         "145.4",
         "155.2",
         "150.1",
         "157.1",
         "153.0",
         "152.6",
         "157.5",
         "153.9",
         "155.8",
         "154.5",
         "161.9",
         "167.2",
         "161.2",
         "166.5",
         "164.1",
         "167.0",
         "164.1",
         "162.8",
         "166.0",
         "165.4",
         "162.8",
         "165.8",
         "165.9",
         "166.8",
         "165.4",
         "164.9",
         "167.8",
         "163.4",
         "163.4",
         "163.2",
         "162.6",
         "161.8",
         "163.8",
         "158.2",
         "160.6",
         "163.5",
         "162.1",
         "157.2",
         "158.6",
         "162.1",
         "161.5",
         "92.75",
         "157.0",
         "157.0",
         "157.8",
         "51.5",
         "55.4",
         "55.53",
         "50.22",
         "51.9",
         "49.34",
         "48.44",
         "52.66",
         "58.97",
         "59.53",
         "56.56",
         "55.9",
         "58.88",
         "59.34",
         "60.0",
         "59.62",
         "57.3",
         "57.88",
         "60.7",
         "61.0",
         "56.7",
         "60.44",
         "55.88",
         "58.34",
         "58.7",
         "57.7",
         "48.75",
         "58.94",
         "61.28",
         "67.56",
         "70.0",
         "60.56",
         "61.34",
         "60.94",
         "61.16",
         "62.75",
         "172.8",
         "171.1",
         "172.1",
         "171.0",
         "168.1",
         "168.0",
         "172.4",
         "172.4",
         "171.5",
         "169.1",
         "160.8",
         "161.4",
         "158.5",
         "160.0",
         "164.5",
         "162.5",
         "164.4",
         "163.8",
         "162.2",
         "162.5",
         "165.2",
         "160.5",
         "162.1",
         "158.5",
         "163.9",
         "156.8",
         "159.2",
         "159.8",
         "159.8",
         "155.9",
         "154.2",
         "155.0",
         "158.5",
         "150.9",
         "152.5",
         "153.0",
         "151.5",
         "150.0",
         "153.9",
         "149.1",
         "151.4",
         "150.5",
         "148.2",
         "164.6",
         "162.9",
         "165.4",
         "166.8",
         "163.6",
         "164.4",
         "162.9",
         "162.8",
         "165.4",
         "147.0",
         "145.2",
         "152.0",
         "155.6",
         "151.9",
         "153.2",
         "154.0",
         "154.2",
         "155.5",
         "153.6",
         "153.8",
         "147.0",
         "147.4",
         "148.2",
         "145.9",
         "149.4",
         "141.5",
         "140.2",
         "135.1",
         "145.6",
         "149.0",
         "146.0",
         "139.8",
         "132.4",
         "81.7",
         "80.75",
         "77.56",
         "74.0",
         "73.44",
         "75.06",
         "73.06",
         "73.25",
         "59.75",
         "57.84",
         "61.6",
         "62.6",
         "59.97",
         "58.7",
         "57.06",
         "57.7",
         "54.66",
         "58.22",
         "57.06",
         "53.06",
         "55.5",
         "55.94",
         "71.56",
         "70.0",
         "70.06",
         "72.25",
         "73.44",
         "70.4",
         "50.38",
         "52.94",
         "69.2",
         "63.47",
         "69.9",
         "70.25",
         "49.66",
         "51.66",
         "68.7",
         "67.5",
         "69.2",
         "70.75",
         "69.9",
         "72.9",
         "75.0",
         "72.5",
         "66.06",
         "64.2",
         "70.4",
         "67.75",
         "65.7",
         "51.22",
         "58.94",
         "58.47",
         "56.72",
         "55.12",
         "56.56",
         "58.78",
         "54.44",
         "58.56",
         "66.0",
         "54.16",
         "53.28",
         "59.2",
         "53.62",
         "53.8",
         "58.97",
         "63.6",
         "57.16",
         "70.0",
         "61.06",
         "61.34",
         "65.06",
         "62.0",
         "69.6",
         "61.28",
         "55.16",
         "72.8",
         "73.7",
         "54.5",
         "55.75",
         "175.6",
         "175.6",
         "173.6",
         "172.5",
         "174.8",
         "174.8",
         "174.5",
         "122.25",
         "123.94",
         "123.8",
         "120.2",
         "132.8",
         "130.5",
         "134.8",
         "135.5",
         "141.5",
         "121.2",
         "122.0",
         "128.8",
         "133.2",
         "131.1",
         "129.2",
         "135.2",
         "132.8",
         "133.6",
         "134.6",
         "142.4",
         "141.5",
         "132.5",
         "135.5",
         "138.1",
         "139.0",
         "140.8",
         "147.9",
         "142.5",
         "136.2",
         "131.4",
         "142.2",
         "141.6",
         "140.5",
         "142.4",
         "133.5",
         "139.9",
         "148.8",
         "156.1",
         "150.4",
         "161.8",
         "161.4",
         "159.4",
         "158.9",
         "161.4",
         "167.9",
         "170.4",
         "171.9",
         "167.0",
         "171.4",
         "172.2",
         "171.9",
         "173.1",
         "171.2",
         "170.5",
         "171.9",
         "165.0",
         "169.9",
         "169.0",
         "167.9",
         "173.4",
         "168.0",
         "166.0",
         "164.2",
         "164.6",
         "165.4",
         "164.9",
         "166.2",
         "167.1",
         "154.4",
         "146.6",
         "152.9",
         "154.1",
         "155.9",
         "153.1",
         "152.5",
         "149.9",
         "148.1",
         "154.8",
         "154.0",
         "155.2",
         "154.9",
         "153.8",
         "152.9",
         "142.6",
         "148.0",
         "156.5",
         "145.2",
         "143.4",
         "158.8",
         "154.9",
         "154.8",
         "159.4",
         "152.5",
         "147.8",
         "142.5",
         "143.4",
         "139.4",
         "153.5",
         "120.2",
         "64.4",
         "68.25",
         "61.53",
         "65.0",
         "71.06",
         "65.8",
         "71.8",
         "109.06",
         "141.2",
         "141.9",
         "142.8",
         "145.5",
         "144.8",
         "145.4",
         "176.6",
         "176.1",
         "176.1",
         "177.6",
         "174.6",
         "175.4",
         "159.0",
         "159.2",
         "160.8",
         "168.9",
         "171.8",
         "161.5",
         "171.2",
         "173.1",
         "172.0",
         "173.5",
         "164.1",
         "163.4",
         "176.9",
         "162.1",
         "155.6",
         "156.9",
         "161.5",
         "159.8",
         "180.5",
         "183.1",
         "178.5",
         "155.6",
         "155.2",
         "156.6",
         "157.4",
         "153.6",
         "168.8",
         "159.5",
         "156.2",
         "155.2",
         "154.4",
         "166.1",
         "158.8",
         "158.5",
         "162.4",
         "167.0",
         "160.6",
         "176.0",
         "175.9",
         "176.2",
         "170.4",
         "170.4",
         "178.2",
         "169.2",
         "179.0",
         "179.9",
         "180.6",
         "182.2",
         "182.9",
         "182.9",
         "171.8",
         "170.2",
         "175.1",
         "172.6",
         "175.9",
         "174.6",
         "176.8",
         "174.8",
         "177.0",
         "174.5",
         "175.6",
         "76.7",
         "74.5",
         "75.9",
         "71.2",
         "72.5",
         "72.06",
         "76.0",
         "75.25",
         "76.06",
         "66.75",
         "58.88",
         "68.3",
         "65.75",
         "65.3",
         "49.84",
         "57.06",
         "56.3",
         "58.75",
         "56.4",
         "59.12",
         "56.44",
         "68.9",
         "69.56",
         "66.0",
         "67.56",
         "68.0",
         "67.3",
         "63.56",
         "66.75",
         "72.6",
         "70.4",
         "69.1",
         "62.6",
         "62.66",
         "72.3",
         "72.8",
         "68.4",
         "68.9",
         "78.25",
         "80.56",
         "76.9",
         "79.44",
         "74.06",
         "74.94",
         "80.5",
         "76.9",
         "74.6",
         "75.7",
         "76.0",
         "73.9",
         "73.44",
         "73.3",
         "71.94",
         "67.1",
         "73.3",
         "73.56",
         "72.0",
         "145.9",
         "71.4",
         "71.7",
         "168.1",
         "72.7",
         "69.2",
         "70.0",
         "70.75",
         "62.8",
         "58.66",
         "61.94",
         "65.44",
         "65.6",
         "65.25",
         "60.22",
         "62.84",
         "59.66",
         "64.4",
         "130.0",
         "136.0",
         "137.2",
         "67.5",
         "69.56",
         "49.0",
         "45.06",
         "160.8",
         "163.1",
         "153.1",
         "148.2",
         "174.6",
         "174.5",
         "98.56",
         "155.8",
         "58.8",
         "58.7",
         "48.5",
         "165.6",
         "165.5",
         "158.9",
         "114.75",
         "119.44",
         "152.4",
         "145.9",
         "146.9",
         "152.5",
         "150.8",
         "150.1",
         "141.4",
         "142.9",
         "150.8",
         "151.0",
         "151.8",
         "155.0",
         "148.5",
         "149.0",
         "144.5",
         "155.5",
         "156.9",
         "158.2",
         "152.9",
         "53.12",
         "154.4",
         "155.2",
         "152.0",
         "57.38",
         "148.1",
         "153.8",
         "55.5",
         "56.1",
         "45.66",
         "44.66",
         "44.84",
         "46.9",
         "47.44",
         "51.16",
         "47.97",
         "62.75",
         "56.84",
         "58.3",
         "57.94",
         "60.2",
         "66.5",
         "67.0",
         "62.66",
         "59.66",
         "59.78",
         "72.56",
         "72.6",
         "71.3",
         "72.06",
         "72.0",
         "72.56",
         "74.06",
         "69.1",
         "73.7",
         "73.06",
         "74.3",
         "74.06",
         "130.1",
         "129.9",
         "59.97",
         "62.8",
         "62.28",
         "59.47",
         "62.8",
         "61.75",
         "58.94",
         "65.9",
         "66.0",
         "66.75",
         "66.7",
         "66.1",
         "62.7",
         "66.8",
         "66.6",
         "64.8",
         "65.44",
         "64.3",
         "63.4",
         "64.9",
         "66.4",
         "64.06",
         "67.1",
         "60.06",
         "70.2",
         "69.7",
         "70.56",
         "67.06",
         "68.7",
         "71.8",
         "68.2",
         "69.8",
         "70.1",
         "70.25",
         "46.3",
         "46.38",
         "45.47",
         "57.97",
         "90.6",
         "63.2",
         "61.3",
         "81.7",
         "166.5",
         "61.25",
         "167.2",
         "58.38",
         "166.8",
         "173.2",
         "166.8",
         "141.2",
         "144.2",
         "143.0",
         "142.6",
         "143.0",
         "168.4",
         "142.5",
         "167.2",
         "145.2",
         "78.6",
         "156.0",
         "154.1",
         "91.1",
         "154.6",
         "152.8",
         "146.1",
         "151.4",
         "147.5",
         "152.5",
         "142.4",
         "144.1",
         "142.6",
         "146.2",
         "109.75",
         "103.6",
         "102.9",
         "109.9",
         "149.8",
         "111.44",
         "110.7",
         "147.4",
         "146.0",
         "101.7",
         "109.1",
         "137.0",
         "137.8",
         "108.25",
         "138.9",
         "141.1",
         "138.8",
         "136.8",
         "136.8",
         "146.4",
         "144.8",
         "145.2",
         "147.1",
         "124.56",
         "142.1",
         "125.9",
         "141.4",
         "136.0",
         "135.0",
         "138.0",
         "138.4",
         "138.4",
         "143.1",
         "163.9",
         "163.4",
         "166.8",
         "165.9",
         "169.5",
         "165.1",
         "166.4",
         "168.6",
         "170.1",
         "166.6",
         "158.0",
         "158.5",
         "158.4",
         "158.0",
         "158.1",
         "153.4",
         "111.3",
         "113.8",
         "111.4",
         "155.2",
         "155.5",
         "110.94",
         "154.1",
         "156.1",
         "135.2",
         "127.8",
         "165.6",
         "164.6",
         "166.0",
         "51.25",
         "167.5",
         "54.16",
         "164.5",
         "51.16",
         "162.0",
         "60.0",
         "55.7",
         "164.2",
         "165.2",
         "160.9",
         "162.0",
         "161.2",
         "49.94",
         "48.25",
         "48.78",
         "48.28",
         "161.0",
         "47.4",
         "51.84",
         "160.4",
         "161.4",
         "46.78",
         "160.4",
         "44.56",
         "55.3",
         "161.0",
         "161.6",
         "161.0",
         "162.2",
         "160.1",
         "162.2",
         "166.0",
         "160.5",
         "160.1",
         "161.0",
         "159.6",
         "47.75",
         "162.4",
         "49.9",
         "160.9",
         "158.4",
         "159.0",
         "46.7",
         "157.5",
         "156.2",
         "155.4",
         "156.9",
         "157.2",
         "154.1",
         "156.5",
         "48.06",
         "158.2",
         "159.4",
         "166.1",
         "165.2",
         "156.4",
         "159.1",
         "154.4",
         "170.0",
         "168.4",
         "168.4",
         "54.0",
         "168.5",
         "168.0",
         "61.97",
         "167.5",
         "168.2",
         "167.9",
         "167.9",
         "165.2",
         "157.4",
         "168.1",
         "167.0",
         "167.4",
         "167.6",
         "95.75",
         "166.9",
         "97.44",
         "166.5",
         "96.56",
         "164.5",
         "154.4",
         "151.1",
         "151.4",
         "165.0",
         "160.1",
         "156.9",
         "157.6",
         "143.1",
         "141.5",
         "143.4",
         "143.2",
         "142.1",
         "149.4",
         "147.4",
         "144.0",
         "143.6",
         "144.4",
         "142.6",
         "100.4",
         "107.5",
         "144.1",
         "99.56",
         "139.8",
         "107.5",
         "107.44",
         "140.0",
         "106.6",
         "106.7",
         "138.6",
         "104.7",
         "98.8",
         "106.3",
         "103.94",
         "150.8",
         "105.6",
         "103.2",
         "104.0",
         "149.4",
         "147.5",
         "104.9",
         "148.5",
         "148.8",
         "143.9",
         "143.9",
         "142.2",
         "137.0",
         "137.5",
         "139.1",
         "136.2",
         "138.2",
         "137.2",
         "136.2",
         "150.0",
         "144.2",
         "162.2",
         "161.2",
         "159.6",
         "154.8",
         "161.0",
         "160.4",
         "158.5",
         "156.8",
         "59.0",
         "60.28",
         "155.1",
         "154.4",
         "158.9",
         "158.1",
         "158.1",
         "154.2",
         "151.8",
         "157.5",
         "89.4",
         "90.56",
         "91.4",
         "151.2",
         "93.25",
         "91.9",
         "88.0",
         "89.8",
         "91.0",
         "93.5",
         "94.1",
         "103.6",
         "102.9",
         "106.1",
         "107.0",
         "100.6",
         "99.94",
         "104.5",
         "103.44",
         "103.75",
         "102.06",
         "160.9",
         "160.0",
         "161.2",
         "164.0",
         "157.8",
         "159.2",
         "157.9",
         "160.9",
         "166.2",
         "156.8",
         "158.1",
         "158.1",
         "157.4",
         "162.4",
         "159.4",
         "156.9",
         "153.8",
         "154.1",
         "156.1",
         "150.8",
         "154.0",
         "155.9",
         "156.8",
         "155.9",
         "154.1",
         "153.5",
         "153.6",
         "158.2",
         "161.9",
         "150.8",
         "162.9",
         "161.0",
         "159.2",
         "151.0",
         "160.0",
         "163.2",
         "158.9",
         "162.5",
         "161.4",
         "159.9",
         "161.0",
         "163.0",
         "152.0",
         "150.9",
         "147.4",
         "148.2",
         "151.5",
         "154.2",
         "148.0",
         "155.2",
         "156.8",
         "164.1",
         "160.4",
         "164.6",
         "157.1",
         "161.8",
         "155.2",
         "157.1",
         "160.4",
         "160.8",
         "156.1",
         "156.6",
         "158.5",
         "154.9",
         "157.6",
         "162.0",
         "158.1",
         "162.6",
         "68.1",
         "138.6",
         "137.9",
         "139.2",
         "57.4",
         "139.8",
         "142.8",
         "136.4",
         "136.4",
         "135.5",
         "59.44",
         "133.6",
         "137.9",
         "135.4",
         "136.0",
         "136.2",
         "136.6",
         "137.2",
         "129.6",
         "126.75",
         "129.5",
         "125.06",
         "125.56",
         "130.1",
         "126.94",
         "132.0",
         "133.2",
         "131.6",
         "130.5",
         "131.2",
         "131.0",
         "132.6",
         "129.8",
         "130.6",
         "132.8",
         "131.5",
         "107.8",
         "132.4",
         "130.9",
         "128.6",
         "131.1",
         "110.8",
         "113.3",
         "132.6",
         "132.0",
         "112.5",
         "130.6",
         "130.9",
         "114.1",
         "112.56",
         "108.44",
         "136.4",
         "134.9",
         "135.8",
         "118.75",
         "133.8",
         "136.1",
         "111.2",
         "134.1",
         "134.9",
         "136.4",
         "133.2",
         "132.6",
         "135.5",
         "111.1",
         "134.9",
         "132.4",
         "133.1",
         "111.5",
         "142.0",
         "141.1",
         "155.6",
         "146.0",
         "144.0",
         "137.5",
         "136.8",
         "140.2",
         "135.4",
         "128.5",
         "135.5",
         "129.5",
         "136.1",
         "123.3",
         "122.7",
         "130.0",
         "130.5",
         "122.6",
         "124.0",
         "119.25",
         "134.5",
         "122.0",
         "119.56",
         "137.5",
         "118.3",
         "117.0",
         "117.94",
         "136.1",
         "117.2",
         "117.44",
         "136.8",
         "118.75",
         "141.5",
         "120.94",
         "138.5",
         "139.4",
         "140.2",
         "118.9",
         "117.1",
         "118.1",
         "119.56",
         "120.6",
         "142.9",
         "139.5",
         "132.6",
         "141.9",
         "160.1",
         "160.4",
         "161.8",
         "163.8",
         "147.8",
         "161.4",
         "161.5",
         "145.1",
         "172.6",
         "173.4",
         "134.2",
         "134.5",
         "135.4",
         "144.0",
         "147.4",
         "133.9",
         "133.6",
         "147.6",
         "136.9",
         "147.6",
         "143.6",
         "133.2",
         "143.2",
         "134.6",
         "145.1",
         "134.6",
         "143.0",
         "132.9",
         "131.4",
         "135.8",
         "133.5",
         "132.2",
         "134.5",
         "130.8",
         "132.2",
         "131.5",
         "133.5",
         "138.1",
         "129.1",
         "132.0",
         "132.0",
         "131.8",
         "131.2",
         "132.9",
         "129.1",
         "130.1",
         "128.1",
         "127.25",
         "129.0",
         "145.5",
         "146.4",
         "157.5",
         "158.9",
         "157.5",
         "162.6",
         "141.1",
         "139.2",
         "143.1",
         "138.8",
         "142.4",
         "144.2",
         "144.8",
         "143.5",
         "141.2",
         "135.8",
         "137.5",
         "136.6",
         "136.6",
         "136.4",
         "137.1",
         "148.1",
         "137.9",
         "138.8",
         "138.0",
         "142.0",
         "137.2",
         "140.6",
         "140.2",
         "134.0",
         "135.4",
         "142.6",
         "141.9",
         "142.6",
         "143.5",
         "145.9",
         "121.0",
         "139.6",
         "141.9",
         "141.8",
         "141.0",
         "139.5",
         "138.5",
         "137.1",
         "139.5",
         "138.0",
         "136.1",
         "135.5",
         "137.1",
         "136.4",
         "135.2",
         "134.0",
         "134.5",
         "132.4",
         "134.0",
         "135.2",
         "132.0",
         "133.8",
         "130.4",
         "129.5",
         "129.8",
         "130.8",
         "128.1",
         "129.2",
         "148.0",
         "148.8",
         "136.6",
         "150.6",
         "149.6",
         "150.0",
         "146.1",
         "143.0",
         "163.0",
         "163.9",
         "164.0",
         "162.2",
         "166.1",
         "61.6",
         "155.1",
         "152.6",
         "152.8",
         "151.9",
         "144.0",
         "144.1",
         "143.2",
         "144.4",
         "146.2",
         "144.8",
         "145.5",
         "158.0",
         "168.1",
         "171.2",
         "167.1",
         "154.5",
         "153.8",
         "152.0",
         "154.6",
         "153.0",
         "155.4",
         "132.4",
         "130.1",
         "131.9",
         "130.6",
         "153.9",
         "134.1",
         "129.1",
         "153.9",
         "151.2",
         "147.1",
         "148.0",
         "150.5",
         "129.4",
         "167.4",
         "168.9",
         "146.5",
         "143.4",
         "181.8",
         "165.6",
         "163.2",
         "145.8",
         "170.9",
         "148.0",
         "145.1",
         "136.9",
         "137.5",
         "171.2",
         "142.1",
         "142.4",
         "164.8",
         "169.9",
         "137.6",
         "176.4",
         "180.5",
         "173.5",
         "147.9",
         "150.4",
         "173.8",
         "168.5",
         "177.2",
         "174.5",
         "170.6",
         "113.1",
         "112.0",
         "113.44",
         "114.3",
         "112.9",
         "114.8",
         "114.2",
         "115.7",
         "118.5",
         "118.44",
         "118.06",
         "116.4",
         "114.0",
         "116.5",
         "118.06",
         "114.2",
         "115.75",
         "115.9",
         "115.0",
         "113.7",
         "121.9",
         "122.5",
         "106.6",
         "112.5",
         "120.1",
         "117.06",
         "114.8",
         "115.7",
         "66.06",
         "68.44",
         "107.6",
         "111.94",
         "109.2",
         "109.6",
         "122.1",
         "121.3",
         "122.4",
         "124.5",
         "127.7",
         "121.6",
         "121.44",
         "129.0",
         "165.8",
         "161.5",
         "155.6",
         "162.1",
         "145.9",
         "146.9",
         "147.1",
         "149.6",
         "145.5",
         "148.4",
         "143.9",
         "144.4",
         "141.9",
         "148.2",
         "143.0",
         "147.6",
         "160.9",
         "146.5",
         "147.9",
         "141.9",
         "146.9",
         "147.0",
         "147.6",
         "140.8",
         "148.5",
         "144.0",
         "148.5",
         "150.5",
         "145.2",
         "195.8",
         "158.4",
         "145.5",
         "157.5",
         "159.4",
         "145.8",
         "148.1",
         "159.0",
         "155.0",
         "150.9",
         "156.5",
         "149.9",
         "154.5",
         "153.1",
         "153.2",
         "151.9",
         "162.8",
         "163.2",
         "160.0",
         "165.4",
         "168.4",
         "160.0",
         "164.2",
         "167.8",
         "166.9",
         "164.5",
         "163.4",
         "158.5",
         "159.0",
         "157.5",
         "155.9",
         "159.9",
         "169.0",
         "171.9",
         "171.9",
         "170.4",
         "171.0",
         "168.1",
         "170.5",
         "157.9",
         "157.6",
         "160.1",
         "162.2",
         "168.0",
         "168.6",
         "165.4",
         "163.8",
         "162.0",
         "165.0",
         "169.5",
         "163.1",
         "160.1",
         "159.2",
         "165.1",
         "161.1",
         "164.6",
         "162.6",
         "160.6",
         "162.1",
         "158.2",
         "158.2",
         "161.2",
         "156.0",
         "162.1",
         "163.0",
         "160.6",
         "163.6",
         "173.6",
         "135.4",
         "135.0",
         "171.0",
         "180.8",
         "179.4",
         "170.0",
         "164.5",
         "169.6",
         "162.5",
         "162.4",
         "164.0",
         "167.9",
         "164.6",
         "171.0",
         "166.5",
         "184.9",
         "182.4",
         "184.0",
         "180.9",
         "163.5",
         "178.5",
         "179.1",
         "183.2",
         "182.1",
         "169.2",
         "166.8",
         "165.5",
         "142.5",
         "133.4",
         "121.94",
         "140.8",
         "182.2",
         "159.4",
         "154.0",
         "157.2",
         "163.0",
         "163.1",
         "155.5",
         "159.5",
         "157.6",
         "160.6",
         "99.5",
         "98.06",
         "97.75",
         "98.75",
         "97.9",
         "90.8",
         "92.0",
         "97.7",
         "92.7",
         "91.75",
         "93.4",
         "98.6",
         "101.4",
         "97.56",
         "100.6",
         "97.94",
         "94.7",
         "95.4",
         "103.1",
         "94.06",
         "94.94",
         "96.25",
         "95.44",
         "95.3",
         "96.44",
         "97.1",
         "94.6",
         "93.2",
         "92.3",
         "90.2",
         "178.2",
         "174.0",
         "100.8",
         "96.7",
         "96.06",
         "97.75",
         "94.4",
         "88.56",
         "89.9",
         "91.4",
         "92.0",
         "88.8",
         "92.7",
         "89.7",
         "94.06",
         "86.5",
         "75.8",
         "165.8",
         "165.5",
         "164.9",
         "96.3",
         "94.06",
         "94.4",
         "76.3",
         "84.5",
         "87.5",
         "88.1",
         "87.7",
         "94.9",
         "93.7",
         "161.2",
         "162.0",
         "94.56",
         "197.8",
         "193.0",
         "188.8",
         "102.44",
         "87.1",
         "95.7",
         "141.2",
         "104.0",
         "99.06",
         "96.5",
         "101.2",
         "97.3",
         "97.5",
         "99.44",
         "98.6",
         "100.5",
         "101.9",
         "105.2",
         "107.9",
         "109.94",
         "102.56",
         "103.06",
         "104.56",
         "111.0",
         "108.3",
         "108.75",
         "106.8",
         "176.4",
         "103.0",
         "99.0",
         "103.06",
         "111.4",
         "111.25",
         "169.6",
         "171.9",
         "114.8",
         "169.2",
         "104.1",
         "103.44",
         "103.75",
         "106.0",
         "103.9",
         "105.0",
         "103.1",
         "105.9",
         "106.1",
         "103.5",
         "102.94",
         "101.5",
         "102.25",
         "103.8",
         "176.6",
         "166.6",
         "168.5",
         "169.1",
         "168.0",
         "166.4",
         "101.9",
         "102.2",
         "101.06",
         "105.06",
         "104.9",
         "105.5",
         "104.7",
         "108.75",
         "105.94",
         "106.8",
         "102.6",
         "105.3",
         "105.06",
         "111.9",
         "108.25",
         "175.1",
         "171.6",
         "108.9",
         "104.25",
         "110.94",
         "168.1",
         "107.25",
         "109.8",
         "170.5",
         "110.6",
         "158.1",
         "162.4",
         "168.0",
         "160.2",
         "163.2",
         "157.4",
         "157.9",
         "151.2",
         "123.6",
         "130.5",
         "128.4",
         "128.1",
         "130.6",
         "127.8",
         "126.9",
         "128.5",
         "129.0",
         "129.6",
         "128.5",
         "125.3",
         "127.0",
         "126.7",
         "110.7",
         "110.3",
         "111.5",
         "113.0",
         "109.9",
         "104.2",
         "107.0",
         "114.0",
         "168.9",
         "181.8",
         "112.75",
         "113.44",
         "111.0",
         "111.75",
         "114.25",
         "114.56",
         "163.1",
         "170.4",
         "150.5",
         "158.0",
         "149.8",
         "150.4",
         "158.9",
         "55.25",
         "53.3",
         "63.28",
         "74.0",
         "158.4",
         "164.1",
         "176.5",
         "175.5",
         "176.4",
         "176.1",
         "176.5",
         "173.0",
         "173.1",
         "156.0",
         "168.1",
         "90.2",
         "70.75",
         "79.25",
         "77.44",
         "79.1",
         "78.1",
         "78.0",
         "76.75",
         "73.56",
         "74.06",
         "72.7",
         "77.06",
         "66.5",
         "69.44",
         "77.94",
         "77.3",
         "68.56",
         "72.25",
         "80.25",
         "79.8",
         "78.75",
         "74.1",
         "67.6",
         "73.25",
         "87.7",
         "81.75",
         "86.5",
         "85.2",
         "95.56",
         "96.44",
         "92.2",
         "93.6",
         "90.4",
         "81.7",
         "94.1",
         "85.7",
         "89.44",
         "89.6",
         "91.2",
         "80.75",
         "85.56",
         "84.8",
         "85.0",
         "84.7",
         "88.4",
         "89.56",
         "89.0",
         "88.3",
         "87.4",
         "90.06",
         "90.4",
         "93.3",
         "79.9",
         "80.75",
         "82.75",
         "85.4",
         "88.8",
         "89.7",
         "88.25",
         "89.25",
         "88.5",
         "80.8",
         "79.7",
         "82.3",
         "83.0",
         "91.25",
         "90.56",
         "85.9",
         "90.94",
         "88.6",
         "85.44",
         "85.94",
         "87.94",
         "91.1",
         "91.8",
         "92.3",
         "92.8",
         "89.8",
         "89.7",
         "80.3",
         "79.8",
         "87.5",
         "84.56",
         "81.1",
         "81.6",
         "93.8",
         "94.25",
         "85.94",
         "85.0",
         "86.06",
         "86.1",
         "84.8",
         "90.2",
         "90.0",
         "90.44",
         "89.7",
         "87.75",
         "87.75",
         "88.9",
         "87.6",
         "88.2",
         "88.1",
         "88.4",
         "84.25",
         "87.6",
         "88.94",
         "88.56",
         "88.25",
         "80.25",
         "80.25",
         "89.5",
         "94.75",
         "95.5",
         "88.0",
         "88.3",
         "80.06",
         "89.5",
         "72.25",
         "74.3",
         "71.1",
         "70.9",
         "72.56",
         "74.25",
         "67.8",
         "69.5",
         "73.7",
         "78.44",
         "80.8",
         "83.06",
         "62.0",
         "76.1",
         "74.94",
         "80.5",
         "81.1",
         "75.7",
         "85.3",
         "85.2",
         "87.9",
         "87.3",
         "87.3",
         "87.0",
         "87.25",
         "87.25",
         "86.25",
         "86.06",
         "86.25",
         "86.25",
         "85.3",
         "85.25",
         "86.0",
         "86.94",
         "86.5",
         "86.94",
         "86.5",
         "88.06",
         "87.94",
         "88.3",
         "87.75",
         "88.0",
         "88.9",
         "90.25",
         "91.0",
         "90.7",
         "88.06",
         "88.2",
         "88.44",
         "91.75",
         "91.5",
         "91.3",
         "91.25",
         "90.8",
         "90.44",
         "90.94",
         "91.75",
         "68.1",
         "86.56"
        ],
        [
         "1",
         "34.66",
         "0.0",
         "155.9",
         "136.4",
         "84.56",
         "108.5",
         "82.2",
         "130.0",
         "75.6",
         "78.56",
         "48.28",
         "16.16",
         "125.0",
         "95.2",
         "108.2",
         "98.94",
         "44.16",
         "43.1",
         "158.6",
         "106.4",
         "74.75",
         "47.38",
         "66.75",
         "62.28",
         "21.12",
         "167.9",
         "116.94",
         "109.4",
         "102.9",
         "100.8",
         "94.94",
         "96.56",
         "98.44",
         "50.0",
         "77.8",
         "77.0",
         "77.9",
         "71.4",
         "73.3",
         "37.6",
         "46.72",
         "73.8",
         "74.0",
         "111.44",
         "59.38",
         "47.38",
         "98.6",
         "68.5",
         "72.0",
         "76.75",
         "66.94",
         "77.3",
         "73.7",
         "65.06",
         "39.56",
         "69.94",
         "61.2",
         "58.2",
         "34.2",
         "34.6",
         "33.8",
         "34.0",
         "32.44",
         "71.7",
         "54.47",
         "103.56",
         "107.3",
         "87.6",
         "131.5",
         "130.5",
         "128.1",
         "52.75",
         "24.53",
         "29.12",
         "31.69",
         "32.34",
         "36.7",
         "14.97",
         "70.3",
         "10.08",
         "109.75",
         "75.06",
         "50.3",
         "117.44",
         "77.8",
         "75.56",
         "20.52",
         "30.81",
         "0.572",
         "142.8",
         "101.3",
         "118.9",
         "116.06",
         "136.9",
         "84.25",
         "72.44",
         "100.56",
         "86.75",
         "86.5",
         "105.4",
         "128.0",
         "33.5",
         "33.47",
         "96.7",
         "95.3",
         "78.06",
         "44.72",
         "65.7",
         "89.1",
         "64.75",
         "35.2",
         "34.75",
         "47.62",
         "110.6",
         "124.5",
         "61.62",
         "15.57",
         "33.66",
         "52.2",
         "94.25",
         "72.7",
         "65.56",
         "74.6",
         "39.47",
         "11.4",
         "95.0",
         "32.0",
         "47.3",
         "47.28",
         "31.38",
         "27.97",
         "24.33",
         "28.5",
         "26.62",
         "22.7",
         "27.4",
         "28.95",
         "22.64",
         "16.36",
         "15.984",
         "139.8",
         "138.8",
         "130.8",
         "130.1",
         "132.8",
         "147.5",
         "125.9",
         "121.9",
         "129.2",
         "146.4",
         "119.0",
         "135.9",
         "134.2",
         "123.56",
         "126.8",
         "90.1",
         "88.6",
         "92.7",
         "87.1",
         "93.4",
         "130.1",
         "139.0",
         "114.4",
         "120.5",
         "166.5",
         "187.4",
         "114.3",
         "118.7",
         "130.0",
         "115.3",
         "111.6",
         "118.4",
         "116.9",
         "116.25",
         "114.7",
         "187.4",
         "123.6",
         "121.1",
         "138.0",
         "121.8",
         "150.1",
         "146.4",
         "152.6",
         "137.0",
         "128.5",
         "129.6",
         "119.3",
         "124.4",
         "133.0",
         "124.3",
         "75.5",
         "75.3",
         "74.0",
         "74.06",
         "814.0",
         "83.75",
         "60.5",
         "85.0",
         "62.34",
         "91.2",
         "88.44",
         "105.06",
         "61.94",
         "53.53",
         "90.6",
         "88.9",
         "90.6",
         "106.5",
         "98.1",
         "107.56",
         "98.9",
         "126.44",
         "119.06",
         "121.06",
         "119.0",
         "119.0",
         "130.6",
         "126.06",
         "126.5",
         "118.2",
         "31.66",
         "135.2",
         "128.1",
         "122.75",
         "49.1",
         "54.12",
         "59.2",
         "40.84",
         "45.5",
         "41.62",
         "44.94",
         "29.88",
         "29.92",
         "17.98",
         "21.64",
         "17.1",
         "16.38",
         "44.44",
         "47.6",
         "46.25",
         "61.97",
         "66.1",
         "48.78",
         "37.06",
         "18.78",
         "69.0",
         "105.75",
         "135.9",
         "147.2",
         "133.5",
         "122.1",
         "120.7",
         "116.8",
         "115.25",
         "125.1",
         "122.4",
         "123.9",
         "55.12",
         "49.9",
         "206.9",
         "77.8",
         "107.06",
         "113.44",
         "129.5",
         "127.44",
         "121.4",
         "126.56",
         "121.75",
         "109.94",
         "143.6",
         "135.9",
         "116.06",
         "124.3",
         "116.2",
         "117.56",
         "115.8",
         "110.75",
         "123.94",
         "120.5",
         "119.5",
         "118.0",
         "121.25",
         "96.06",
         "91.25",
         "90.0",
         "108.75",
         "93.6",
         "102.6",
         "105.2",
         "115.56",
         "102.5",
         "106.06",
         "78.1",
         "98.4",
         "99.56",
         "93.1",
         "148.5",
         "110.1",
         "132.2",
         "139.8",
         "135.8",
         "125.1",
         "120.25",
         "124.7",
         "125.06",
         "22.53",
         "21.77",
         "130.8",
         "120.6",
         "123.06",
         "97.9",
         "114.0",
         "115.2",
         "103.4",
         "138.8",
         "137.8",
         "135.8",
         "65.1",
         "115.0",
         "122.0",
         "119.4",
         "119.94",
         "122.75",
         "95.0",
         "92.56",
         "96.5",
         "97.4",
         "94.94",
         "100.0",
         "120.6",
         "110.4",
         "118.8",
         "35.62",
         "36.12",
         "25.23",
         "123.6",
         "121.0",
         "138.6",
         "144.2",
         "115.8",
         "115.75",
         "28.14",
         "41.97",
         "115.06",
         "117.6",
         "118.3",
         "118.4",
         "117.56",
         "115.9",
         "116.25",
         "115.5",
         "114.9",
         "122.3",
         "121.3",
         "130.6",
         "98.0",
         "98.2",
         "117.25",
         "107.5",
         "109.1",
         "107.9",
         "91.8",
         "99.25",
         "94.2",
         "94.06",
         "97.75",
         "93.06",
         "95.06",
         "94.5",
         "95.7",
         "94.6",
         "127.9",
         "93.9",
         "90.7",
         "135.4",
         "137.2",
         "136.4",
         "136.0",
         "136.8",
         "137.0",
         "118.0",
         "110.06",
         "101.8",
         "105.4",
         "57.12",
         "51.38",
         "57.28",
         "147.5",
         "117.6",
         "29.8",
         "37.78",
         "114.6",
         "117.4",
         "115.56",
         "112.9",
         "113.44",
         "45.12",
         "118.1",
         "119.7",
         "119.94",
         "122.9",
         "41.75",
         "42.66",
         "51.0",
         "44.5",
         "44.34",
         "43.75",
         "46.5",
         "51.22",
         "47.12",
         "54.16",
         "55.25",
         "56.22",
         "29.9",
         "29.45",
         "27.03",
         "129.8",
         "129.2",
         "130.8",
         "102.75",
         "108.8",
         "131.0",
         "132.8",
         "115.94",
         "120.75",
         "117.4",
         "117.9",
         "118.06",
         "96.56",
         "121.2",
         "125.25",
         "121.2",
         "129.8",
         "124.5",
         "126.4",
         "147.6",
         "133.4",
         "143.1",
         "144.9",
         "55.88",
         "53.7",
         "52.0",
         "55.56",
         "55.44",
         "51.03",
         "48.2",
         "47.06",
         "50.66",
         "50.9",
         "46.56",
         "63.6",
         "66.25",
         "66.0",
         "63.56",
         "63.16",
         "54.75",
         "54.72",
         "54.75",
         "53.9",
         "59.34",
         "59.88",
         "52.06",
         "52.94",
         "56.03",
         "55.47",
         "60.7",
         "60.97",
         "61.78",
         "58.1",
         "58.7",
         "55.75",
         "56.84",
         "51.22",
         "51.28",
         "58.28",
         "59.1",
         "56.56",
         "57.56",
         "58.47",
         "55.66",
         "60.47",
         "61.72",
         "60.5",
         "58.47",
         "57.62",
         "57.47",
         "60.34",
         "135.8",
         "123.56",
         "123.6",
         "126.3",
         "126.4",
         "126.56",
         "126.94",
         "125.7",
         "124.9",
         "127.25",
         "124.1",
         "128.4",
         "128.4",
         "118.9",
         "130.0",
         "116.9",
         "118.1",
         "118.8",
         "119.7",
         "116.1",
         "115.25",
         "118.5",
         "116.2",
         "116.5",
         "73.56",
         "69.5",
         "73.9",
         "77.4",
         "72.9",
         "79.5",
         "72.8",
         "77.2",
         "74.6",
         "80.06",
         "77.9",
         "80.56",
         "79.44",
         "79.94",
         "84.9",
         "93.44",
         "93.44",
         "88.6",
         "92.6",
         "97.2",
         "97.1",
         "96.5",
         "92.56",
         "100.3",
         "101.3",
         "96.25",
         "98.5",
         "99.1",
         "93.25",
         "102.4",
         "99.7",
         "97.6",
         "75.94",
         "76.6",
         "76.6",
         "75.3",
         "78.0",
         "76.6",
         "77.9",
         "78.8",
         "77.44",
         "74.0",
         "79.5",
         "78.8",
         "78.7",
         "74.56",
         "81.8",
         "80.25",
         "80.3",
         "75.7",
         "77.6",
         "77.1",
         "76.4",
         "82.3",
         "80.94",
         "77.1",
         "76.4",
         "77.5",
         "78.2",
         "76.25",
         "82.0",
         "82.0",
         "82.4",
         "81.06",
         "79.8",
         "82.6",
         "81.8",
         "81.8",
         "80.5",
         "80.44",
         "82.56",
         "81.56",
         "83.2",
         "79.3",
         "81.1",
         "80.06",
         "79.3",
         "84.1",
         "87.0",
         "84.6",
         "83.4",
         "81.9",
         "83.4",
         "82.6",
         "85.44",
         "81.5",
         "86.2",
         "83.75",
         "85.7",
         "87.0",
         "87.7",
         "83.0",
         "88.5",
         "84.5",
         "87.1",
         "89.25",
         "85.9",
         "85.2",
         "89.06",
         "88.0",
         "92.8",
         "81.8",
         "83.3",
         "83.3",
         "89.1",
         "85.5",
         "89.94",
         "86.94",
         "91.6",
         "88.7",
         "85.44",
         "87.5",
         "87.44",
         "88.3",
         "89.56",
         "90.6",
         "88.3",
         "89.2",
         "90.6",
         "91.1",
         "86.2",
         "85.5",
         "89.94",
         "85.9",
         "90.8",
         "85.4",
         "91.75",
         "89.0",
         "90.5",
         "89.6",
         "89.0",
         "90.2",
         "91.6",
         "90.44",
         "87.7",
         "86.8",
         "95.5",
         "88.1",
         "94.75",
         "96.3",
         "96.4",
         "95.0",
         "98.7",
         "97.5",
         "98.0",
         "94.5",
         "98.25",
         "97.94",
         "98.6",
         "95.06",
         "93.5",
         "98.44",
         "98.25",
         "94.25",
         "97.6",
         "94.2",
         "97.06",
         "93.4",
         "97.3",
         "97.75",
         "94.44",
         "97.2",
         "94.94",
         "95.8",
         "97.6",
         "98.5",
         "96.0",
         "98.56",
         "98.94",
         "97.75",
         "97.06",
         "95.7",
         "98.25",
         "89.4",
         "91.06",
         "95.25",
         "94.0",
         "89.8",
         "96.1",
         "97.5",
         "94.6",
         "92.7",
         "95.4",
         "88.44",
         "91.3",
         "87.06",
         "104.4",
         "101.7",
         "104.2",
         "99.56",
         "102.7",
         "97.5",
         "98.8",
         "98.25",
         "99.94",
         "99.25",
         "96.06",
         "97.9",
         "94.75",
         "94.7",
         "90.1",
         "90.75",
         "94.0",
         "93.25",
         "104.2",
         "104.1",
         "102.8",
         "105.75",
         "102.0",
         "102.06",
         "101.4",
         "100.6",
         "103.1",
         "101.8",
         "98.6",
         "103.7",
         "110.9",
         "109.9",
         "110.06",
         "105.44",
         "104.7",
         "105.94",
         "105.3",
         "105.3",
         "109.2",
         "110.9",
         "108.56",
         "109.06",
         "107.44",
         "104.2",
         "106.94",
         "103.56",
         "107.5",
         "106.94",
         "106.56",
         "109.7",
         "111.2",
         "114.6",
         "113.44",
         "110.44",
         "110.4",
         "108.75",
         "108.56",
         "107.75",
         "109.75",
         "110.3",
         "111.94",
         "111.9",
         "113.75",
         "111.2",
         "106.06",
         "105.75",
         "110.2",
         "107.44",
         "111.1",
         "108.6",
         "107.6",
         "111.1",
         "113.1",
         "112.3",
         "110.25",
         "113.1",
         "109.44",
         "110.75",
         "118.0",
         "106.0",
         "108.6",
         "114.5",
         "114.75",
         "111.3",
         "117.0",
         "106.25",
         "104.56",
         "113.0",
         "112.94",
         "107.0",
         "107.75",
         "109.0",
         "115.4",
         "112.2",
         "112.1",
         "108.56",
         "108.9",
         "115.3",
         "110.7",
         "111.4",
         "110.7",
         "112.25",
         "113.06",
         "110.06",
         "110.8",
         "116.3",
         "109.3",
         "117.06",
         "115.3",
         "107.25",
         "115.7",
         "111.56",
         "111.44",
         "119.25",
         "122.25",
         "116.06",
         "117.7",
         "116.9",
         "119.75",
         "120.94",
         "125.0",
         "121.0",
         "120.2",
         "127.2",
         "125.6",
         "125.0",
         "127.56",
         "125.2",
         "111.1",
         "113.9",
         "114.56",
         "114.1",
         "114.75",
         "113.3",
         "123.25",
         "118.0",
         "125.1",
         "120.9",
         "120.5",
         "125.4",
         "121.7",
         "123.7",
         "122.44",
         "129.6",
         "135.0",
         "129.1",
         "134.4",
         "132.0",
         "134.9",
         "132.1",
         "130.5",
         "133.9",
         "133.4",
         "130.6",
         "133.6",
         "133.9",
         "134.6",
         "133.4",
         "132.9",
         "135.8",
         "131.4",
         "131.1",
         "131.1",
         "130.6",
         "129.5",
         "131.5",
         "126.25",
         "128.5",
         "131.2",
         "130.0",
         "125.1",
         "126.56",
         "130.0",
         "129.4",
         "60.7",
         "124.94",
         "124.94",
         "125.6",
         "62.8",
         "66.06",
         "61.22",
         "62.62",
         "64.25",
         "61.7",
         "60.8",
         "65.0",
         "63.34",
         "62.47",
         "62.25",
         "50.16",
         "53.1",
         "53.6",
         "62.03",
         "53.84",
         "57.84",
         "58.4",
         "54.94",
         "55.25",
         "62.22",
         "61.72",
         "61.53",
         "65.56",
         "64.5",
         "65.7",
         "61.12",
         "60.25",
         "60.88",
         "35.47",
         "37.94",
         "57.6",
         "58.4",
         "57.2",
         "29.08",
         "30.67",
         "140.6",
         "139.1",
         "140.1",
         "139.0",
         "136.0",
         "135.9",
         "140.4",
         "140.4",
         "139.5",
         "137.0",
         "128.6",
         "129.2",
         "126.44",
         "127.94",
         "132.5",
         "130.2",
         "132.4",
         "131.8",
         "130.1",
         "130.2",
         "133.2",
         "128.4",
         "130.1",
         "126.4",
         "131.9",
         "124.7",
         "127.2",
         "127.75",
         "127.7",
         "123.9",
         "122.2",
         "122.94",
         "126.5",
         "118.8",
         "120.44",
         "120.94",
         "119.4",
         "118.0",
         "121.7",
         "117.06",
         "119.3",
         "118.4",
         "116.1",
         "132.6",
         "130.9",
         "133.4",
         "134.6",
         "131.5",
         "132.1",
         "130.9",
         "130.8",
         "133.4",
         "114.9",
         "113.2",
         "119.9",
         "123.6",
         "119.9",
         "121.2",
         "121.9",
         "122.25",
         "123.44",
         "121.5",
         "121.7",
         "114.9",
         "115.3",
         "116.06",
         "113.75",
         "117.25",
         "109.4",
         "108.2",
         "103.1",
         "113.56",
         "117.0",
         "113.9",
         "107.75",
         "100.25",
         "46.8",
         "45.84",
         "42.66",
         "39.06",
         "38.53",
         "40.12",
         "38.16",
         "38.38",
         "34.53",
         "33.62",
         "34.94",
         "37.94",
         "36.3",
         "34.47",
         "35.12",
         "34.1",
         "31.02",
         "34.56",
         "31.73",
         "29.42",
         "30.19",
         "30.6",
         "36.62",
         "35.1",
         "35.12",
         "37.3",
         "38.53",
         "35.44",
         "28.45",
         "28.56",
         "34.28",
         "28.58",
         "35.0",
         "35.4",
         "27.73",
         "27.62",
         "33.78",
         "32.56",
         "34.3",
         "35.84",
         "36.78",
         "40.97",
         "40.06",
         "41.72",
         "35.25",
         "33.38",
         "40.47",
         "36.97",
         "34.84",
         "27.2",
         "29.81",
         "29.34",
         "31.38",
         "28.23",
         "26.77",
         "29.66",
         "28.27",
         "27.1",
         "31.1",
         "28.84",
         "28.9",
         "27.72",
         "28.28",
         "23.23",
         "27.52",
         "28.69",
         "22.27",
         "40.44",
         "31.7",
         "31.95",
         "35.66",
         "32.62",
         "36.62",
         "31.89",
         "21.33",
         "43.22",
         "43.97",
         "19.56",
         "23.67",
         "143.5",
         "143.6",
         "141.5",
         "140.5",
         "142.8",
         "142.8",
         "142.4",
         "90.1",
         "91.9",
         "91.75",
         "88.2",
         "100.7",
         "98.5",
         "102.6",
         "103.44",
         "109.3",
         "89.2",
         "90.0",
         "96.6",
         "101.1",
         "99.06",
         "97.1",
         "103.1",
         "100.7",
         "101.56",
         "102.56",
         "110.4",
         "109.4",
         "100.5",
         "103.44",
         "106.0",
         "106.9",
         "108.7",
         "115.8",
         "110.5",
         "104.1",
         "99.4",
         "110.1",
         "109.56",
         "108.44",
         "110.4",
         "101.44",
         "107.8",
         "116.7",
         "124.0",
         "118.4",
         "129.8",
         "129.2",
         "127.25",
         "126.75",
         "129.4",
         "135.9",
         "138.2",
         "139.9",
         "134.9",
         "139.4",
         "140.1",
         "139.9",
         "141.1",
         "139.2",
         "138.4",
         "139.9",
         "133.0",
         "137.9",
         "137.0",
         "135.8",
         "141.2",
         "136.0",
         "133.9",
         "132.2",
         "132.5",
         "133.4",
         "132.9",
         "134.2",
         "135.1",
         "122.3",
         "114.5",
         "120.8",
         "122.06",
         "123.8",
         "121.06",
         "120.4",
         "117.8",
         "116.06",
         "122.7",
         "122.0",
         "123.1",
         "122.8",
         "121.6",
         "120.8",
         "110.56",
         "115.9",
         "124.44",
         "113.1",
         "111.3",
         "126.6",
         "122.7",
         "122.6",
         "127.25",
         "120.5",
         "115.7",
         "110.4",
         "111.3",
         "107.3",
         "121.3",
         "88.06",
         "29.47",
         "33.38",
         "26.61",
         "30.12",
         "36.12",
         "30.9",
         "36.9",
         "77.0",
         "109.25",
         "109.75",
         "110.75",
         "113.4",
         "112.7",
         "113.4",
         "144.5",
         "144.1",
         "144.1",
         "145.5",
         "142.4",
         "143.2",
         "126.9",
         "127.1",
         "128.6",
         "136.9",
         "139.5",
         "129.5",
         "139.0",
         "141.1",
         "139.9",
         "141.5",
         "132.1",
         "131.2",
         "144.9",
         "130.0",
         "123.5",
         "124.9",
         "129.5",
         "127.75",
         "148.4",
         "151.0",
         "146.4",
         "123.56",
         "123.2",
         "124.56",
         "125.25",
         "121.56",
         "136.8",
         "127.44",
         "124.1",
         "123.06",
         "122.3",
         "134.1",
         "126.75",
         "126.44",
         "130.2",
         "135.0",
         "128.5",
         "143.8",
         "143.6",
         "144.0",
         "138.2",
         "138.2",
         "146.1",
         "137.0",
         "146.9",
         "147.6",
         "148.5",
         "150.1",
         "150.9",
         "150.9",
         "139.8",
         "138.0",
         "143.0",
         "140.6",
         "143.9",
         "142.6",
         "144.6",
         "142.5",
         "145.0",
         "142.5",
         "143.5",
         "41.8",
         "44.53",
         "41.0",
         "41.06",
         "41.72",
         "41.38",
         "45.22",
         "40.38",
         "41.16",
         "35.97",
         "33.66",
         "33.4",
         "30.81",
         "30.4",
         "27.9",
         "22.12",
         "21.42",
         "23.83",
         "22.1",
         "24.83",
         "21.52",
         "39.47",
         "40.25",
         "36.62",
         "38.2",
         "38.62",
         "37.9",
         "34.56",
         "32.16",
         "38.12",
         "35.88",
         "36.16",
         "27.69",
         "27.73",
         "37.84",
         "37.9",
         "36.9",
         "39.34",
         "43.75",
         "46.7",
         "44.94",
         "47.47",
         "39.53",
         "43.12",
         "46.66",
         "44.97",
         "42.84",
         "43.9",
         "44.22",
         "42.1",
         "41.66",
         "39.66",
         "38.88",
         "35.03",
         "41.5",
         "43.53",
         "41.94",
         "113.8",
         "41.3",
         "42.16",
         "136.1",
         "38.22",
         "39.62",
         "38.56",
         "41.25",
         "27.9",
         "27.67",
         "32.53",
         "36.06",
         "36.25",
         "35.9",
         "31.25",
         "33.47",
         "30.28",
         "34.97",
         "97.8",
         "103.94",
         "105.2",
         "35.4",
         "37.44",
         "61.38",
         "13.0",
         "128.6",
         "131.0",
         "121.1",
         "116.25",
         "142.5",
         "142.5",
         "66.5",
         "123.6",
         "26.75",
         "26.61",
         "20.27",
         "133.4",
         "133.2",
         "126.8",
         "82.6",
         "87.3",
         "120.4",
         "113.9",
         "114.75",
         "120.44",
         "118.7",
         "118.0",
         "109.3",
         "110.75",
         "118.7",
         "118.94",
         "119.6",
         "123.0",
         "116.44",
         "116.9",
         "112.44",
         "123.44",
         "124.8",
         "126.1",
         "120.8",
         "22.55",
         "122.4",
         "123.2",
         "119.94",
         "22.47",
         "116.06",
         "121.75",
         "20.58",
         "21.19",
         "58.0",
         "57.06",
         "57.25",
         "59.4",
         "59.84",
         "63.7",
         "60.34",
         "57.0",
         "61.1",
         "60.25",
         "60.53",
         "60.06",
         "60.78",
         "61.25",
         "56.94",
         "58.5",
         "58.44",
         "46.03",
         "45.53",
         "46.47",
         "46.12",
         "45.47",
         "46.06",
         "41.97",
         "37.0",
         "45.97",
         "46.0",
         "47.5",
         "41.94",
         "98.0",
         "97.9",
         "60.5",
         "57.1",
         "56.56",
         "60.0",
         "57.1",
         "56.03",
         "59.47",
         "60.38",
         "60.28",
         "60.94",
         "61.22",
         "56.88",
         "56.94",
         "60.97",
         "60.3",
         "59.06",
         "59.66",
         "58.6",
         "57.66",
         "59.12",
         "57.12",
         "58.3",
         "57.88",
         "27.97",
         "38.16",
         "37.6",
         "38.47",
         "50.62",
         "53.0",
         "39.75",
         "52.47",
         "52.97",
         "49.4",
         "53.4",
         "14.234",
         "14.29",
         "13.4",
         "34.38",
         "61.66",
         "37.84",
         "37.66",
         "48.16",
         "134.4",
         "55.5",
         "135.0",
         "58.9",
         "134.5",
         "141.2",
         "134.6",
         "109.2",
         "112.1",
         "110.9",
         "110.44",
         "110.94",
         "136.2",
         "110.44",
         "135.1",
         "113.25",
         "46.6",
         "123.9",
         "122.0",
         "59.1",
         "122.5",
         "120.7",
         "114.1",
         "119.3",
         "115.44",
         "120.4",
         "110.25",
         "112.06",
         "110.56",
         "114.2",
         "77.7",
         "71.56",
         "70.75",
         "77.75",
         "117.7",
         "79.4",
         "78.56",
         "115.3",
         "113.9",
         "69.56",
         "77.0",
         "104.94",
         "105.75",
         "76.2",
         "106.75",
         "109.1",
         "106.7",
         "104.75",
         "104.7",
         "114.4",
         "112.75",
         "113.25",
         "115.1",
         "92.44",
         "110.0",
         "93.75",
         "109.25",
         "103.9",
         "102.9",
         "105.9",
         "106.3",
         "106.3",
         "111.06",
         "131.9",
         "131.4",
         "134.6",
         "133.8",
         "137.2",
         "133.0",
         "134.2",
         "136.6",
         "138.0",
         "134.5",
         "125.8",
         "126.5",
         "126.25",
         "125.9",
         "126.1",
         "121.25",
         "79.2",
         "81.75",
         "79.3",
         "123.2",
         "123.4",
         "78.9",
         "122.06",
         "124.06",
         "103.1",
         "95.7",
         "133.5",
         "132.5",
         "133.9",
         "19.17",
         "135.4",
         "22.08",
         "132.5",
         "19.08",
         "130.0",
         "27.94",
         "23.61",
         "132.2",
         "133.2",
         "128.9",
         "129.9",
         "129.2",
         "17.88",
         "16.17",
         "16.7",
         "16.22",
         "129.0",
         "15.34",
         "19.75",
         "128.2",
         "129.4",
         "14.71",
         "128.2",
         "12.5",
         "23.23",
         "128.9",
         "129.5",
         "128.9",
         "130.0",
         "128.1",
         "130.0",
         "134.0",
         "128.4",
         "128.0",
         "129.0",
         "127.56",
         "15.69",
         "130.1",
         "17.83",
         "128.8",
         "126.25",
         "126.9",
         "14.586",
         "125.5",
         "124.1",
         "123.4",
         "124.8",
         "125.25",
         "122.0",
         "124.4",
         "15.99",
         "126.25",
         "127.25",
         "134.1",
         "133.2",
         "124.2",
         "127.0",
         "122.3",
         "137.9",
         "136.4",
         "136.2",
         "21.95",
         "136.5",
         "135.9",
         "29.89",
         "135.5",
         "136.1",
         "135.9",
         "135.9",
         "133.1",
         "125.3",
         "136.1",
         "135.0",
         "135.4",
         "135.6",
         "63.66",
         "134.8",
         "65.4",
         "134.5",
         "64.44",
         "132.4",
         "122.2",
         "119.06",
         "119.4",
         "132.9",
         "128.0",
         "124.75",
         "125.56",
         "111.0",
         "109.5",
         "111.25",
         "111.1",
         "110.0",
         "117.3",
         "115.25",
         "112.0",
         "111.56",
         "112.3",
         "110.56",
         "68.25",
         "75.4",
         "112.1",
         "67.44",
         "107.7",
         "75.5",
         "75.3",
         "107.94",
         "74.6",
         "74.56",
         "106.6",
         "72.6",
         "66.75",
         "74.25",
         "71.8",
         "118.75",
         "73.5",
         "71.06",
         "71.9",
         "117.3",
         "115.4",
         "72.8",
         "116.44",
         "116.75",
         "111.8",
         "111.7",
         "110.2",
         "104.94",
         "105.44",
         "107.1",
         "104.2",
         "106.1",
         "105.1",
         "104.1",
         "117.94",
         "112.1",
         "130.1",
         "129.1",
         "127.6",
         "122.7",
         "128.9",
         "128.2",
         "126.5",
         "124.75",
         "29.61",
         "28.92",
         "123.06",
         "122.25",
         "126.75",
         "126.06",
         "125.9",
         "122.25",
         "119.75",
         "125.4",
         "57.28",
         "58.47",
         "59.3",
         "119.06",
         "61.16",
         "59.75",
         "55.9",
         "57.75",
         "58.9",
         "61.38",
         "62.06",
         "71.6",
         "70.75",
         "74.0",
         "74.9",
         "68.56",
         "67.8",
         "72.4",
         "71.4",
         "71.7",
         "70.06",
         "128.9",
         "127.9",
         "129.1",
         "131.9",
         "125.6",
         "127.1",
         "125.8",
         "128.8",
         "134.2",
         "124.7",
         "126.0",
         "126.06",
         "125.4",
         "130.4",
         "127.3",
         "124.8",
         "121.6",
         "122.1",
         "124.0",
         "118.75",
         "121.94",
         "123.9",
         "124.7",
         "123.9",
         "122.06",
         "121.4",
         "121.5",
         "126.2",
         "129.8",
         "118.6",
         "130.9",
         "128.9",
         "127.06",
         "119.0",
         "127.9",
         "131.1",
         "126.8",
         "130.2",
         "129.4",
         "127.8",
         "128.9",
         "131.0",
         "119.94",
         "118.75",
         "115.25",
         "116.1",
         "119.44",
         "122.2",
         "115.9",
         "123.2",
         "124.6",
         "132.1",
         "128.4",
         "132.5",
         "125.06",
         "129.6",
         "123.2",
         "125.06",
         "128.4",
         "128.6",
         "124.06",
         "124.56",
         "126.5",
         "122.75",
         "125.5",
         "129.9",
         "126.0",
         "130.6",
         "38.6",
         "106.56",
         "105.8",
         "107.2",
         "33.75",
         "107.7",
         "110.75",
         "104.3",
         "104.3",
         "103.3",
         "34.16",
         "101.5",
         "105.9",
         "103.4",
         "103.9",
         "104.2",
         "104.56",
         "105.25",
         "97.5",
         "94.7",
         "97.4",
         "92.94",
         "93.56",
         "98.0",
         "94.9",
         "99.9",
         "101.1",
         "99.5",
         "98.44",
         "99.1",
         "98.94",
         "100.5",
         "97.75",
         "98.6",
         "100.75",
         "99.4",
         "75.7",
         "100.3",
         "98.9",
         "96.5",
         "99.1",
         "78.75",
         "81.25",
         "100.5",
         "99.9",
         "80.5",
         "98.56",
         "98.75",
         "82.06",
         "80.44",
         "76.3",
         "104.4",
         "102.75",
         "103.7",
         "86.7",
         "101.6",
         "104.1",
         "79.1",
         "102.06",
         "102.8",
         "104.3",
         "101.25",
         "100.6",
         "103.5",
         "79.06",
         "102.75",
         "100.25",
         "100.9",
         "79.44",
         "109.94",
         "109.06",
         "123.6",
         "113.8",
         "111.9",
         "105.44",
         "104.6",
         "108.06",
         "103.4",
         "96.4",
         "103.44",
         "97.44",
         "104.0",
         "91.2",
         "90.6",
         "98.0",
         "98.44",
         "90.6",
         "91.9",
         "87.1",
         "102.4",
         "89.94",
         "87.44",
         "105.44",
         "86.25",
         "84.9",
         "85.8",
         "104.06",
         "85.1",
         "85.44",
         "104.6",
         "86.6",
         "109.44",
         "88.94",
         "106.5",
         "107.4",
         "108.25",
         "86.75",
         "85.06",
         "86.06",
         "87.44",
         "88.5",
         "110.8",
         "107.44",
         "100.5",
         "109.8",
         "128.0",
         "128.2",
         "129.6",
         "131.8",
         "115.7",
         "129.4",
         "129.5",
         "113.06",
         "140.6",
         "141.2",
         "102.25",
         "102.5",
         "103.4",
         "111.94",
         "115.3",
         "101.75",
         "101.56",
         "115.56",
         "104.9",
         "115.5",
         "111.56",
         "101.2",
         "111.2",
         "102.6",
         "113.0",
         "102.56",
         "110.94",
         "100.8",
         "99.4",
         "103.7",
         "101.5",
         "100.1",
         "102.4",
         "98.75",
         "100.25",
         "99.44",
         "101.5",
         "106.1",
         "97.06",
         "99.8",
         "99.8",
         "99.7",
         "99.06",
         "100.8",
         "97.06",
         "98.0",
         "96.1",
         "95.1",
         "97.0",
         "113.44",
         "114.25",
         "125.5",
         "126.8",
         "125.44",
         "130.5",
         "109.0",
         "107.25",
         "111.06",
         "106.7",
         "110.3",
         "112.2",
         "112.6",
         "111.4",
         "109.2",
         "103.6",
         "105.44",
         "104.56",
         "104.56",
         "104.3",
         "105.06",
         "116.06",
         "105.8",
         "106.6",
         "105.9",
         "109.8",
         "105.06",
         "108.6",
         "108.1",
         "101.8",
         "103.3",
         "110.56",
         "109.8",
         "110.56",
         "111.4",
         "113.75",
         "88.9",
         "107.56",
         "109.75",
         "109.56",
         "108.94",
         "107.5",
         "106.4",
         "105.06",
         "107.4",
         "105.9",
         "104.0",
         "103.5",
         "105.0",
         "104.25",
         "103.2",
         "101.8",
         "102.44",
         "100.25",
         "101.9",
         "103.2",
         "99.8",
         "101.56",
         "98.25",
         "97.5",
         "97.6",
         "98.75",
         "96.06",
         "97.2",
         "115.94",
         "116.75",
         "104.6",
         "118.56",
         "117.56",
         "117.94",
         "114.1",
         "110.94",
         "131.0",
         "131.8",
         "131.8",
         "130.2",
         "134.1",
         "35.44",
         "123.06",
         "120.6",
         "120.6",
         "119.8",
         "112.0",
         "112.0",
         "111.06",
         "112.3",
         "114.1",
         "112.7",
         "113.5",
         "125.94",
         "136.0",
         "139.1",
         "135.0",
         "122.5",
         "121.7",
         "119.94",
         "122.56",
         "120.94",
         "123.3",
         "100.3",
         "98.0",
         "99.75",
         "98.5",
         "121.75",
         "102.06",
         "97.1",
         "121.75",
         "119.1",
         "115.06",
         "115.94",
         "118.3",
         "97.25",
         "135.2",
         "136.9",
         "114.44",
         "111.25",
         "149.8",
         "133.5",
         "131.2",
         "113.6",
         "138.8",
         "116.0",
         "113.06",
         "104.9",
         "105.4",
         "139.2",
         "110.06",
         "110.25",
         "132.6",
         "137.6",
         "105.5",
         "144.2",
         "148.5",
         "141.4",
         "115.8",
         "118.3",
         "141.6",
         "136.5",
         "145.1",
         "142.4",
         "138.5",
         "81.06",
         "79.9",
         "81.3",
         "82.25",
         "80.75",
         "82.75",
         "82.1",
         "83.56",
         "86.5",
         "86.4",
         "86.0",
         "84.3",
         "82.0",
         "84.5",
         "86.0",
         "82.06",
         "83.7",
         "83.8",
         "82.94",
         "81.6",
         "89.75",
         "90.44",
         "74.56",
         "80.4",
         "88.06",
         "84.94",
         "82.7",
         "83.6",
         "31.17",
         "38.88",
         "75.6",
         "79.9",
         "77.06",
         "77.56",
         "90.06",
         "89.3",
         "90.25",
         "92.4",
         "95.7",
         "89.6",
         "89.44",
         "96.94",
         "133.8",
         "129.4",
         "123.5",
         "130.1",
         "113.75",
         "114.75",
         "115.0",
         "117.6",
         "113.4",
         "116.3",
         "111.9",
         "112.3",
         "109.8",
         "116.06",
         "110.94",
         "115.56",
         "128.8",
         "114.5",
         "115.8",
         "109.75",
         "114.8",
         "114.9",
         "115.56",
         "108.6",
         "116.44",
         "111.9",
         "116.44",
         "118.5",
         "113.25",
         "163.8",
         "126.3",
         "113.44",
         "125.5",
         "127.25",
         "113.6",
         "116.1",
         "126.9",
         "123.0",
         "118.75",
         "124.4",
         "117.75",
         "122.4",
         "121.1",
         "121.2",
         "119.75",
         "130.8",
         "131.2",
         "127.9",
         "133.4",
         "136.4",
         "127.94",
         "132.1",
         "135.8",
         "134.9",
         "132.4",
         "131.4",
         "126.4",
         "127.0",
         "125.4",
         "123.8",
         "127.8",
         "136.9",
         "139.9",
         "139.9",
         "138.1",
         "139.0",
         "136.1",
         "138.5",
         "125.8",
         "125.44",
         "127.94",
         "130.1",
         "135.9",
         "136.5",
         "133.2",
         "131.6",
         "130.0",
         "132.8",
         "137.5",
         "130.9",
         "128.1",
         "127.2",
         "133.0",
         "129.0",
         "132.4",
         "130.6",
         "128.6",
         "130.0",
         "126.1",
         "126.2",
         "129.2",
         "123.94",
         "130.1",
         "130.9",
         "128.5",
         "131.6",
         "141.5",
         "103.3",
         "102.9",
         "139.0",
         "148.6",
         "147.4",
         "138.0",
         "132.5",
         "137.5",
         "130.5",
         "130.4",
         "131.9",
         "135.9",
         "132.6",
         "139.0",
         "134.5",
         "152.8",
         "150.4",
         "152.0",
         "148.9",
         "131.5",
         "146.2",
         "147.0",
         "151.1",
         "150.1",
         "137.2",
         "134.5",
         "133.4",
         "110.4",
         "101.3",
         "89.94",
         "108.6",
         "150.1",
         "127.25",
         "121.9",
         "125.2",
         "131.0",
         "131.1",
         "123.4",
         "127.4",
         "125.5",
         "128.5",
         "67.4",
         "66.06",
         "65.6",
         "66.7",
         "65.8",
         "58.78",
         "59.97",
         "65.6",
         "60.6",
         "59.62",
         "61.3",
         "66.5",
         "69.25",
         "65.5",
         "68.56",
         "65.8",
         "62.62",
         "63.28",
         "71.06",
         "62.0",
         "62.88",
         "64.2",
         "63.34",
         "63.28",
         "64.4",
         "65.06",
         "62.56",
         "61.1",
         "60.2",
         "58.12",
         "146.1",
         "142.0",
         "68.75",
         "64.56",
         "63.97",
         "65.75",
         "62.25",
         "56.56",
         "57.8",
         "59.25",
         "59.97",
         "56.78",
         "60.62",
         "57.6",
         "61.97",
         "54.44",
         "43.7",
         "133.8",
         "133.5",
         "132.9",
         "64.25",
         "61.94",
         "62.34",
         "44.25",
         "52.38",
         "55.47",
         "56.06",
         "55.56",
         "62.8",
         "61.62",
         "129.1",
         "129.8",
         "62.47",
         "165.8",
         "161.0",
         "156.6",
         "70.4",
         "55.03",
         "63.6",
         "109.1",
         "71.9",
         "66.94",
         "64.4",
         "69.06",
         "65.25",
         "65.44",
         "67.4",
         "66.56",
         "68.44",
         "69.75",
         "73.06",
         "75.9",
         "77.9",
         "70.5",
         "71.06",
         "72.56",
         "78.94",
         "76.2",
         "76.7",
         "74.8",
         "144.1",
         "71.0",
         "66.94",
         "70.94",
         "79.25",
         "79.25",
         "137.6",
         "139.6",
         "82.7",
         "137.1",
         "72.06",
         "71.4",
         "71.6",
         "74.0",
         "71.8",
         "72.94",
         "71.06",
         "73.8",
         "74.06",
         "71.44",
         "70.9",
         "69.44",
         "70.1",
         "71.7",
         "144.4",
         "134.6",
         "136.4",
         "137.0",
         "136.0",
         "134.2",
         "69.8",
         "70.06",
         "69.0",
         "73.06",
         "72.8",
         "73.44",
         "72.6",
         "76.6",
         "73.9",
         "74.7",
         "70.6",
         "73.25",
         "73.0",
         "79.75",
         "76.2",
         "143.0",
         "139.4",
         "76.75",
         "72.25",
         "78.94",
         "136.0",
         "75.1",
         "77.75",
         "138.5",
         "78.5",
         "126.1",
         "130.4",
         "135.9",
         "128.1",
         "131.1",
         "125.4",
         "125.75",
         "119.1",
         "91.56",
         "98.5",
         "96.3",
         "96.06",
         "98.56",
         "95.7",
         "94.8",
         "96.44",
         "96.8",
         "97.56",
         "96.4",
         "93.25",
         "94.9",
         "94.7",
         "78.6",
         "78.25",
         "79.44",
         "80.94",
         "77.75",
         "72.06",
         "74.9",
         "81.9",
         "136.8",
         "149.8",
         "80.7",
         "81.44",
         "78.9",
         "79.7",
         "82.1",
         "82.44",
         "131.1",
         "138.4",
         "118.4",
         "125.9",
         "117.56",
         "118.3",
         "126.8",
         "23.16",
         "69.8",
         "79.75",
         "41.9",
         "126.25",
         "132.1",
         "144.2",
         "143.5",
         "144.1",
         "143.9",
         "144.4",
         "141.0",
         "140.9",
         "123.9",
         "136.1",
         "58.12",
         "38.72",
         "47.2",
         "45.34",
         "47.03",
         "46.03",
         "45.9",
         "44.7",
         "41.5",
         "41.97",
         "40.62",
         "44.97",
         "34.4",
         "37.3",
         "45.84",
         "45.22",
         "36.47",
         "40.16",
         "48.2",
         "47.72",
         "46.66",
         "42.03",
         "35.53",
         "41.16",
         "55.7",
         "49.7",
         "54.4",
         "53.06",
         "63.5",
         "64.44",
         "60.12",
         "61.56",
         "58.25",
         "49.62",
         "62.06",
         "53.62",
         "57.3",
         "57.53",
         "59.12",
         "48.7",
         "53.53",
         "52.75",
         "53.0",
         "52.6",
         "56.25",
         "57.5",
         "56.94",
         "56.25",
         "55.25",
         "58.0",
         "58.34",
         "61.3",
         "47.84",
         "48.7",
         "50.66",
         "53.28",
         "56.75",
         "57.66",
         "56.25",
         "57.25",
         "56.44",
         "48.72",
         "47.62",
         "50.25",
         "50.94",
         "59.16",
         "58.5",
         "53.78",
         "58.88",
         "56.5",
         "53.34",
         "53.8",
         "55.9",
         "59.1",
         "59.75",
         "60.28",
         "60.78",
         "57.78",
         "57.66",
         "48.25",
         "47.75",
         "55.4",
         "52.47",
         "49.06",
         "49.6",
         "61.78",
         "62.25",
         "53.84",
         "52.94",
         "54.06",
         "54.1",
         "52.8",
         "58.12",
         "57.94",
         "58.4",
         "57.66",
         "55.66",
         "55.66",
         "56.84",
         "55.53",
         "56.1",
         "56.03",
         "56.25",
         "52.2",
         "55.5",
         "56.88",
         "56.47",
         "56.16",
         "48.2",
         "48.16",
         "57.44",
         "62.7",
         "63.47",
         "55.9",
         "56.22",
         "48.0",
         "57.5",
         "40.2",
         "42.22",
         "39.06",
         "38.78",
         "40.5",
         "42.2",
         "35.75",
         "37.38",
         "41.56",
         "46.38",
         "48.72",
         "51.0",
         "29.92",
         "44.06",
         "42.9",
         "48.44",
         "49.03",
         "43.62",
         "53.22",
         "53.16",
         "55.78",
         "55.2",
         "55.2",
         "54.9",
         "55.12",
         "55.12",
         "54.22",
         "54.03",
         "54.25",
         "54.25",
         "53.25",
         "53.2",
         "53.88",
         "54.9",
         "54.44",
         "54.88",
         "54.44",
         "55.97",
         "55.88",
         "56.28",
         "55.72",
         "55.97",
         "56.84",
         "58.2",
         "58.9",
         "58.62",
         "55.94",
         "56.16",
         "56.4",
         "59.72",
         "59.44",
         "59.28",
         "59.22",
         "58.8",
         "58.4",
         "58.9",
         "59.72",
         "36.1",
         "54.5"
        ],
        [
         "2",
         "191.9",
         "159.1",
         "0.0",
         "105.9",
         "113.94",
         "154.5",
         "128.2",
         "176.2",
         "121.8",
         "124.75",
         "193.0",
         "156.9",
         "126.7",
         "141.2",
         "134.1",
         "130.8",
         "142.6",
         "141.5",
         "219.8",
         "85.25",
         "135.9",
         "109.9",
         "165.1",
         "160.8",
         "178.4",
         "188.1",
         "137.2",
         "155.5",
         "149.0",
         "146.9",
         "141.0",
         "124.1",
         "119.7",
         "109.4",
         "176.2",
         "175.5",
         "176.4",
         "169.8",
         "132.5",
         "136.0",
         "145.2",
         "172.1",
         "172.4",
         "121.4",
         "157.8",
         "145.9",
         "240.4",
         "167.0",
         "170.5",
         "175.2",
         "165.5",
         "175.8",
         "128.5",
         "163.4",
         "156.8",
         "168.4",
         "159.6",
         "156.6",
         "138.0",
         "138.1",
         "137.4",
         "134.0",
         "140.0",
         "125.25",
         "117.0",
         "126.1",
         "125.4",
         "133.8",
         "88.9",
         "152.2",
         "148.4",
         "115.3",
         "154.9",
         "140.5",
         "140.5",
         "189.6",
         "194.0",
         "156.2",
         "168.6",
         "152.1",
         "138.5",
         "232.4",
         "207.6",
         "110.3",
         "121.94",
         "121.75",
         "162.5",
         "188.1",
         "158.6",
         "99.1",
         "123.06",
         "112.1",
         "137.9",
         "154.8",
         "182.6",
         "130.5",
         "79.44",
         "185.2",
         "130.0",
         "122.6",
         "79.1",
         "131.9",
         "131.9",
         "122.3",
         "193.8",
         "176.5",
         "148.4",
         "164.0",
         "68.0",
         "163.1",
         "133.6",
         "133.1",
         "108.44",
         "108.75",
         "144.9",
         "115.25",
         "173.0",
         "150.6",
         "114.75",
         "192.8",
         "171.1",
         "164.0",
         "173.0",
         "148.2",
         "153.4",
         "130.9",
         "189.4",
         "204.6",
         "204.6",
         "188.6",
         "140.0",
         "141.5",
         "149.2",
         "146.9",
         "142.5",
         "150.0",
         "142.9",
         "140.9",
         "150.9",
         "151.4",
         "130.8",
         "128.8",
         "121.75",
         "121.1",
         "122.6",
         "165.2",
         "143.8",
         "135.2",
         "119.56",
         "136.6",
         "109.3",
         "118.9",
         "117.2",
         "113.9",
         "117.06",
         "109.1",
         "107.7",
         "111.75",
         "107.44",
         "112.4",
         "147.9",
         "156.8",
         "132.1",
         "138.4",
         "184.4",
         "205.1",
         "121.6",
         "112.8",
         "107.6",
         "120.8",
         "121.56",
         "128.4",
         "134.8",
         "134.1",
         "132.5",
         "205.1",
         "113.94",
         "112.2",
         "129.1",
         "112.8",
         "98.1",
         "100.3",
         "99.25",
         "106.75",
         "121.06",
         "110.44",
         "102.4",
         "107.5",
         "116.2",
         "105.1",
         "173.9",
         "173.6",
         "172.4",
         "172.5",
         "841.0",
         "182.1",
         "159.0",
         "185.0",
         "160.8",
         "189.6",
         "186.9",
         "229.4",
         "219.2",
         "210.8",
         "189.1",
         "187.2",
         "189.0",
         "204.9",
         "196.6",
         "206.0",
         "197.2",
         "224.9",
         "217.5",
         "219.5",
         "217.4",
         "217.4",
         "229.0",
         "224.5",
         "225.0",
         "216.6",
         "131.8",
         "112.5",
         "102.2",
         "94.1",
         "149.1",
         "154.1",
         "159.2",
         "140.9",
         "145.6",
         "141.8",
         "145.0",
         "129.9",
         "130.0",
         "151.8",
         "151.4",
         "149.8",
         "149.1",
         "144.4",
         "147.6",
         "146.2",
         "160.4",
         "164.6",
         "148.8",
         "137.1",
         "144.8",
         "167.5",
         "126.7",
         "153.6",
         "165.0",
         "151.4",
         "126.25",
         "133.9",
         "128.5",
         "133.1",
         "101.1",
         "101.6",
         "104.44",
         "212.5",
         "207.2",
         "224.8",
         "123.94",
         "124.9",
         "131.2",
         "135.6",
         "225.9",
         "219.8",
         "225.0",
         "220.1",
         "127.75",
         "130.4",
         "123.7",
         "125.5",
         "121.75",
         "125.7",
         "126.94",
         "122.4",
         "126.0",
         "125.44",
         "123.0",
         "125.06",
         "127.4",
         "121.4",
         "108.8",
         "103.6",
         "102.56",
         "107.75",
         "106.2",
         "113.25",
         "108.7",
         "121.5",
         "113.1",
         "109.56",
         "124.2",
         "111.06",
         "112.2",
         "105.44",
         "166.2",
         "123.8",
         "150.0",
         "157.6",
         "125.94",
         "115.4",
         "110.8",
         "115.0",
         "115.4",
         "179.9",
         "179.0",
         "148.6",
         "138.4",
         "140.9",
         "196.4",
         "212.4",
         "213.6",
         "93.94",
         "119.56",
         "105.0",
         "107.8",
         "163.6",
         "132.9",
         "123.4",
         "120.8",
         "100.5",
         "103.56",
         "193.5",
         "191.0",
         "194.9",
         "195.8",
         "193.2",
         "198.4",
         "117.0",
         "112.3",
         "111.44",
         "135.6",
         "136.1",
         "138.4",
         "222.0",
         "219.4",
         "103.5",
         "109.6",
         "214.2",
         "214.2",
         "158.5",
         "172.4",
         "213.5",
         "216.0",
         "216.8",
         "216.8",
         "216.0",
         "214.2",
         "214.6",
         "213.9",
         "213.2",
         "220.8",
         "219.6",
         "229.0",
         "120.25",
         "119.5",
         "107.56",
         "113.56",
         "111.7",
         "114.0",
         "110.8",
         "104.3",
         "99.25",
         "99.7",
         "103.44",
         "112.1",
         "110.5",
         "107.0",
         "108.2",
         "107.2",
         "118.06",
         "111.5",
         "109.75",
         "153.1",
         "121.9",
         "122.44",
         "122.56",
         "122.25",
         "121.6",
         "110.6",
         "111.44",
         "119.6",
         "125.25",
         "157.1",
         "151.4",
         "157.4",
         "137.8",
         "129.4",
         "145.6",
         "157.5",
         "129.1",
         "132.0",
         "130.1",
         "127.4",
         "127.94",
         "148.2",
         "132.6",
         "137.5",
         "137.8",
         "134.5",
         "140.1",
         "141.1",
         "149.4",
         "144.5",
         "144.4",
         "143.9",
         "146.6",
         "151.2",
         "147.2",
         "154.1",
         "155.4",
         "156.2",
         "129.9",
         "142.8",
         "140.9",
         "147.6",
         "147.0",
         "148.6",
         "148.9",
         "154.9",
         "148.9",
         "150.6",
         "133.6",
         "138.6",
         "135.2",
         "135.8",
         "135.9",
         "142.6",
         "219.6",
         "105.8",
         "102.0",
         "117.5",
         "93.94",
         "96.7",
         "101.6",
         "113.9",
         "135.8",
         "98.9",
         "154.2",
         "152.1",
         "150.4",
         "154.0",
         "153.9",
         "149.5",
         "146.6",
         "145.5",
         "149.1",
         "149.4",
         "145.0",
         "162.0",
         "166.0",
         "165.8",
         "164.9",
         "161.6",
         "153.1",
         "153.1",
         "153.1",
         "152.2",
         "157.9",
         "158.4",
         "150.5",
         "151.4",
         "154.5",
         "153.8",
         "159.1",
         "159.4",
         "160.2",
         "156.5",
         "157.1",
         "154.1",
         "155.2",
         "149.6",
         "149.6",
         "156.8",
         "157.5",
         "155.0",
         "156.0",
         "156.9",
         "154.0",
         "158.9",
         "160.1",
         "158.9",
         "156.9",
         "156.0",
         "155.9",
         "158.8",
         "125.7",
         "138.5",
         "135.5",
         "135.4",
         "134.9",
         "134.4",
         "133.9",
         "132.9",
         "114.3",
         "116.56",
         "117.06",
         "95.7",
         "95.7",
         "129.1",
         "130.1",
         "133.6",
         "145.1",
         "135.5",
         "135.6",
         "133.9",
         "134.8",
         "138.0",
         "137.4",
         "142.4",
         "172.0",
         "168.0",
         "172.4",
         "175.9",
         "171.4",
         "177.9",
         "171.2",
         "175.5",
         "173.0",
         "178.5",
         "176.2",
         "179.0",
         "177.9",
         "178.4",
         "183.2",
         "191.8",
         "191.9",
         "187.0",
         "191.0",
         "195.6",
         "195.6",
         "195.0",
         "191.0",
         "198.8",
         "199.8",
         "194.6",
         "197.0",
         "197.6",
         "191.6",
         "200.8",
         "198.1",
         "196.1",
         "174.4",
         "175.1",
         "175.1",
         "173.8",
         "176.5",
         "175.0",
         "176.2",
         "177.2",
         "175.9",
         "172.5",
         "177.9",
         "177.1",
         "177.1",
         "173.0",
         "180.2",
         "178.6",
         "178.8",
         "174.1",
         "176.0",
         "175.5",
         "174.8",
         "180.8",
         "179.4",
         "175.6",
         "174.8",
         "175.9",
         "176.6",
         "174.6",
         "180.5",
         "180.4",
         "180.9",
         "179.5",
         "178.1",
         "181.1",
         "180.2",
         "180.2",
         "178.9",
         "178.9",
         "181.0",
         "180.0",
         "181.6",
         "177.9",
         "179.6",
         "178.5",
         "177.9",
         "182.6",
         "185.5",
         "183.0",
         "181.8",
         "180.4",
         "181.8",
         "181.0",
         "183.9",
         "179.9",
         "184.8",
         "182.2",
         "184.1",
         "185.5",
         "186.1",
         "181.4",
         "187.0",
         "183.0",
         "185.6",
         "187.6",
         "184.2",
         "183.5",
         "187.5",
         "186.4",
         "191.2",
         "180.2",
         "181.8",
         "181.8",
         "187.6",
         "183.9",
         "188.4",
         "185.4",
         "190.0",
         "187.1",
         "183.9",
         "185.9",
         "185.9",
         "186.8",
         "187.9",
         "189.1",
         "186.8",
         "187.6",
         "189.1",
         "189.5",
         "184.6",
         "184.0",
         "188.4",
         "184.2",
         "189.1",
         "183.9",
         "190.1",
         "187.5",
         "188.9",
         "188.1",
         "187.4",
         "188.6",
         "190.1",
         "188.9",
         "186.1",
         "185.2",
         "193.9",
         "186.5",
         "193.1",
         "194.8",
         "194.8",
         "193.4",
         "197.1",
         "196.0",
         "196.4",
         "192.9",
         "196.8",
         "196.4",
         "197.0",
         "193.5",
         "192.0",
         "196.9",
         "196.8",
         "192.8",
         "196.1",
         "192.8",
         "195.4",
         "191.9",
         "195.9",
         "196.2",
         "193.0",
         "195.6",
         "193.4",
         "194.2",
         "196.1",
         "197.0",
         "194.4",
         "197.0",
         "197.4",
         "196.2",
         "195.5",
         "194.1",
         "196.6",
         "187.9",
         "189.5",
         "193.6",
         "192.4",
         "188.2",
         "194.5",
         "196.0",
         "193.0",
         "191.1",
         "193.9",
         "186.9",
         "189.8",
         "185.5",
         "202.9",
         "200.1",
         "202.6",
         "198.0",
         "201.2",
         "196.0",
         "197.2",
         "196.6",
         "198.5",
         "197.8",
         "194.4",
         "196.4",
         "193.1",
         "193.1",
         "188.5",
         "189.2",
         "192.5",
         "191.8",
         "202.6",
         "202.6",
         "201.1",
         "204.2",
         "200.5",
         "200.5",
         "199.8",
         "199.0",
         "201.5",
         "200.2",
         "197.0",
         "202.0",
         "209.2",
         "208.4",
         "208.5",
         "203.9",
         "203.1",
         "204.4",
         "203.6",
         "203.6",
         "207.6",
         "209.2",
         "207.0",
         "207.5",
         "205.9",
         "202.6",
         "205.4",
         "202.0",
         "205.9",
         "205.4",
         "205.0",
         "208.1",
         "209.6",
         "213.1",
         "211.9",
         "208.9",
         "208.8",
         "207.2",
         "207.0",
         "206.1",
         "208.1",
         "208.6",
         "210.4",
         "210.4",
         "212.1",
         "209.6",
         "204.6",
         "204.1",
         "208.6",
         "205.9",
         "209.5",
         "207.1",
         "206.0",
         "209.5",
         "211.6",
         "210.8",
         "208.8",
         "211.6",
         "208.0",
         "209.1",
         "216.5",
         "204.4",
         "207.0",
         "212.9",
         "213.2",
         "209.8",
         "215.5",
         "204.8",
         "202.9",
         "211.5",
         "211.5",
         "205.4",
         "206.2",
         "207.5",
         "213.9",
         "210.6",
         "210.6",
         "206.9",
         "207.2",
         "213.6",
         "209.1",
         "209.8",
         "209.1",
         "210.8",
         "211.5",
         "208.6",
         "209.1",
         "214.8",
         "207.8",
         "215.5",
         "213.9",
         "205.6",
         "214.1",
         "210.1",
         "209.9",
         "217.6",
         "220.6",
         "214.5",
         "216.2",
         "215.4",
         "218.2",
         "219.4",
         "223.5",
         "219.4",
         "218.6",
         "225.6",
         "224.1",
         "223.5",
         "226.1",
         "223.5",
         "209.6",
         "212.4",
         "213.0",
         "212.6",
         "213.2",
         "211.8",
         "221.6",
         "216.4",
         "223.6",
         "111.6",
         "121.5",
         "122.3",
         "122.4",
         "124.7",
         "123.44",
         "120.4",
         "114.56",
         "119.75",
         "114.06",
         "116.6",
         "114.4",
         "111.7",
         "110.25",
         "111.25",
         "113.0",
         "115.25",
         "113.3",
         "109.4",
         "111.0",
         "110.6",
         "112.5",
         "114.5",
         "109.9",
         "110.9",
         "110.75",
         "110.25",
         "109.3",
         "111.2",
         "116.94",
         "113.1",
         "115.94",
         "114.56",
         "120.75",
         "122.06",
         "114.56",
         "113.94",
         "159.1",
         "115.6",
         "115.56",
         "116.25",
         "166.8",
         "169.9",
         "163.2",
         "167.5",
         "165.5",
         "166.9",
         "167.9",
         "166.2",
         "161.8",
         "160.9",
         "161.9",
         "162.1",
         "165.1",
         "165.9",
         "160.5",
         "165.5",
         "164.4",
         "163.8",
         "164.5",
         "169.5",
         "160.8",
         "160.2",
         "161.1",
         "164.0",
         "163.0",
         "164.1",
         "168.5",
         "158.8",
         "159.4",
         "152.6",
         "155.1",
         "156.0",
         "156.9",
         "155.6",
         "145.0",
         "147.6",
         "98.06",
         "96.56",
         "97.56",
         "96.5",
         "93.5",
         "93.4",
         "97.75",
         "97.9",
         "98.5",
         "99.4",
         "124.7",
         "125.44",
         "123.3",
         "124.06",
         "128.6",
         "128.6",
         "126.6",
         "130.4",
         "126.3",
         "126.44",
         "127.56",
         "134.2",
         "132.0",
         "136.0",
         "130.4",
         "132.6",
         "136.9",
         "132.6",
         "137.4",
         "135.0",
         "133.2",
         "135.9",
         "139.2",
         "127.0",
         "126.3",
         "127.0",
         "127.5",
         "123.0",
         "127.75",
         "128.5",
         "128.6",
         "131.4",
         "129.2",
         "99.8",
         "96.94",
         "100.5",
         "102.3",
         "97.7",
         "98.4",
         "95.0",
         "94.9",
         "100.44",
         "115.94",
         "114.25",
         "118.06",
         "94.4",
         "95.56",
         "91.7",
         "95.8",
         "94.2",
         "92.9",
         "95.06",
         "93.6",
         "99.75",
         "101.2",
         "100.5",
         "100.9",
         "100.06",
         "103.8",
         "104.9",
         "113.75",
         "103.0",
         "98.3",
         "101.56",
         "106.75",
         "112.94",
         "204.1",
         "203.2",
         "199.9",
         "196.4",
         "195.9",
         "197.5",
         "195.5",
         "195.6",
         "191.9",
         "190.9",
         "192.2",
         "195.2",
         "193.6",
         "191.8",
         "192.4",
         "191.4",
         "188.2",
         "191.9",
         "189.0",
         "186.6",
         "187.5",
         "187.9",
         "194.0",
         "192.5",
         "192.5",
         "194.6",
         "195.9",
         "192.8",
         "185.9",
         "185.9",
         "191.6",
         "185.9",
         "192.2",
         "192.6",
         "185.1",
         "184.9",
         "191.1",
         "189.9",
         "191.6",
         "193.1",
         "194.0",
         "198.4",
         "197.4",
         "199.0",
         "192.5",
         "190.8",
         "197.9",
         "194.4",
         "192.1",
         "184.5",
         "187.1",
         "186.6",
         "188.6",
         "185.5",
         "184.1",
         "187.0",
         "185.6",
         "184.5",
         "188.4",
         "186.2",
         "186.2",
         "185.1",
         "185.6",
         "180.5",
         "184.9",
         "186.0",
         "179.6",
         "197.8",
         "189.0",
         "189.2",
         "193.0",
         "190.0",
         "193.9",
         "189.2",
         "178.6",
         "200.5",
         "201.4",
         "176.9",
         "145.5",
         "105.8",
         "106.3",
         "109.44",
         "102.9",
         "106.2",
         "105.0",
         "104.06",
         "136.2",
         "138.0",
         "137.9",
         "134.2",
         "146.8",
         "144.5",
         "148.8",
         "149.5",
         "155.4",
         "135.2",
         "136.1",
         "142.8",
         "147.2",
         "197.5",
         "195.6",
         "201.6",
         "199.1",
         "199.9",
         "201.0",
         "208.8",
         "207.8",
         "198.9",
         "201.9",
         "204.5",
         "205.2",
         "207.1",
         "214.1",
         "208.9",
         "202.6",
         "197.9",
         "208.6",
         "208.0",
         "206.9",
         "208.8",
         "199.8",
         "206.2",
         "126.6",
         "120.06",
         "131.9",
         "139.5",
         "139.0",
         "137.0",
         "136.5",
         "139.1",
         "107.9",
         "110.1",
         "109.7",
         "111.6",
         "110.75",
         "107.9",
         "111.75",
         "110.9",
         "104.56",
         "111.7",
         "111.7",
         "109.6",
         "112.2",
         "113.0",
         "112.56",
         "103.7",
         "115.56",
         "112.1",
         "110.3",
         "119.06",
         "118.1",
         "114.94",
         "116.1",
         "116.44",
         "99.56",
         "105.1",
         "98.25",
         "100.25",
         "98.5",
         "96.5",
         "97.06",
         "97.6",
         "100.25",
         "97.3",
         "98.94",
         "98.94",
         "97.4",
         "118.2",
         "117.3",
         "113.4",
         "113.0",
         "117.0",
         "115.0",
         "113.06",
         "111.25",
         "100.3",
         "100.25",
         "95.9",
         "101.94",
         "116.8",
         "112.1",
         "115.94",
         "113.2",
         "101.2",
         "128.8",
         "186.8",
         "190.8",
         "183.9",
         "187.5",
         "193.4",
         "188.2",
         "194.2",
         "175.4",
         "114.9",
         "111.44",
         "115.4",
         "119.3",
         "119.1",
         "119.8",
         "162.2",
         "161.9",
         "161.9",
         "163.4",
         "160.2",
         "161.0",
         "144.6",
         "144.9",
         "146.5",
         "154.5",
         "157.4",
         "147.2",
         "156.9",
         "159.0",
         "157.8",
         "159.1",
         "150.0",
         "149.0",
         "162.8",
         "147.9",
         "141.2",
         "142.6",
         "147.4",
         "145.6",
         "166.2",
         "168.8",
         "164.2",
         "141.4",
         "141.0",
         "142.2",
         "143.0",
         "139.5",
         "154.5",
         "145.2",
         "142.0",
         "140.9",
         "140.1",
         "151.9",
         "144.6",
         "144.2",
         "148.0",
         "152.8",
         "146.2",
         "161.6",
         "161.5",
         "161.9",
         "156.1",
         "156.1",
         "163.9",
         "154.9",
         "164.8",
         "165.5",
         "166.4",
         "167.9",
         "168.8",
         "168.8",
         "157.5",
         "155.9",
         "160.8",
         "158.2",
         "161.6",
         "160.5",
         "162.5",
         "160.4",
         "162.6",
         "160.4",
         "161.2",
         "199.1",
         "201.9",
         "198.2",
         "198.4",
         "199.0",
         "198.8",
         "202.5",
         "197.6",
         "198.5",
         "193.2",
         "190.9",
         "190.8",
         "188.1",
         "187.8",
         "185.2",
         "179.5",
         "178.8",
         "181.1",
         "179.4",
         "182.1",
         "178.9",
         "196.8",
         "197.5",
         "194.0",
         "195.5",
         "196.0",
         "195.1",
         "191.9",
         "189.5",
         "195.5",
         "193.1",
         "193.4",
         "185.0",
         "185.1",
         "195.2",
         "195.2",
         "194.1",
         "196.6",
         "201.0",
         "204.0",
         "202.2",
         "204.8",
         "196.8",
         "200.5",
         "204.0",
         "202.4",
         "200.2",
         "201.2",
         "201.5",
         "199.5",
         "199.0",
         "197.0",
         "196.1",
         "133.5",
         "198.9",
         "200.9",
         "199.2",
         "115.7",
         "198.6",
         "199.5",
         "122.7",
         "195.5",
         "197.0",
         "195.9",
         "198.5",
         "185.2",
         "184.9",
         "189.9",
         "193.4",
         "193.5",
         "193.2",
         "188.6",
         "190.8",
         "187.6",
         "192.2",
         "144.0",
         "121.75",
         "127.94",
         "133.9",
         "135.9",
         "168.0",
         "153.2",
         "119.75",
         "122.06",
         "115.44",
         "118.2",
         "119.0",
         "118.3",
         "165.0",
         "117.5",
         "143.8",
         "165.9",
         "163.6",
         "151.2",
         "151.1",
         "117.75",
         "181.0",
         "185.8",
         "218.9",
         "212.4",
         "213.2",
         "219.0",
         "217.1",
         "216.4",
         "207.8",
         "209.1",
         "217.2",
         "217.4",
         "218.0",
         "221.4",
         "214.9",
         "215.2",
         "211.0",
         "221.9",
         "223.2",
         "224.5",
         "219.2",
         "179.9",
         "220.9",
         "221.8",
         "218.5",
         "179.9",
         "214.5",
         "220.2",
         "178.0",
         "178.5",
         "170.8",
         "170.8",
         "171.0",
         "169.2",
         "170.6",
         "166.8",
         "170.5",
         "155.5",
         "159.6",
         "158.6",
         "158.9",
         "158.5",
         "160.6",
         "161.0",
         "155.4",
         "156.9",
         "156.9",
         "144.4",
         "143.9",
         "144.9",
         "144.6",
         "143.9",
         "144.4",
         "140.4",
         "135.5",
         "144.4",
         "144.4",
         "146.0",
         "140.4",
         "144.2",
         "144.0",
         "161.6",
         "162.2",
         "162.8",
         "162.1",
         "162.4",
         "163.4",
         "162.6",
         "158.9",
         "160.1",
         "159.4",
         "159.6",
         "155.2",
         "155.4",
         "159.4",
         "158.6",
         "160.6",
         "158.1",
         "157.2",
         "156.2",
         "157.8",
         "155.5",
         "159.9",
         "156.2",
         "149.9",
         "155.4",
         "154.6",
         "155.5",
         "149.0",
         "151.5",
         "156.8",
         "151.0",
         "151.5",
         "147.9",
         "151.9",
         "153.5",
         "153.5",
         "152.5",
         "191.8",
         "219.0",
         "195.1",
         "195.0",
         "205.5",
         "125.44",
         "163.9",
         "123.25",
         "163.2",
         "125.6",
         "109.2",
         "125.7",
         "139.9",
         "140.1",
         "141.2",
         "138.5",
         "141.4",
         "126.5",
         "138.5",
         "126.2",
         "138.8",
         "146.6",
         "131.9",
         "134.9",
         "157.5",
         "135.5",
         "133.6",
         "126.0",
         "121.75",
         "120.9",
         "125.44",
         "130.1",
         "128.5",
         "126.4",
         "130.2",
         "176.1",
         "170.0",
         "169.1",
         "176.2",
         "118.8",
         "177.8",
         "177.0",
         "122.4",
         "121.2",
         "168.0",
         "175.5",
         "131.0",
         "131.8",
         "174.6",
         "132.8",
         "134.8",
         "132.4",
         "130.8",
         "128.9",
         "122.56",
         "123.4",
         "123.94",
         "120.0",
         "190.9",
         "123.06",
         "192.1",
         "127.2",
         "116.5",
         "115.44",
         "117.1",
         "117.8",
         "117.8",
         "136.0",
         "113.94",
         "116.5",
         "101.9",
         "99.94",
         "105.0",
         "97.25",
         "100.3",
         "104.3",
         "105.7",
         "100.6",
         "93.06",
         "93.7",
         "94.94",
         "93.06",
         "92.25",
         "96.75",
         "177.6",
         "180.2",
         "177.8",
         "90.7",
         "90.06",
         "177.2",
         "91.06",
         "88.25",
         "113.25",
         "114.8",
         "104.2",
         "103.25",
         "101.6",
         "155.8",
         "107.6",
         "154.4",
         "100.2",
         "158.4",
         "102.25",
         "155.8",
         "150.6",
         "99.7",
         "101.0",
         "101.8",
         "102.8",
         "96.5",
         "156.8",
         "155.2",
         "156.6",
         "155.5",
         "101.9",
         "156.1",
         "160.5",
         "101.25",
         "96.7",
         "155.5",
         "95.44",
         "153.2",
         "163.5",
         "95.06",
         "95.6",
         "93.06",
         "96.2",
         "94.3",
         "96.25",
         "101.75",
         "95.56",
         "95.2",
         "96.25",
         "91.75",
         "155.0",
         "94.4",
         "153.9",
         "94.9",
         "90.44",
         "91.06",
         "153.9",
         "89.6",
         "92.6",
         "90.8",
         "92.1",
         "92.44",
         "97.44",
         "125.06",
         "151.2",
         "121.8",
         "122.8",
         "109.0",
         "108.7",
         "114.9",
         "117.6",
         "123.06",
         "108.06",
         "111.25",
         "107.56",
         "162.8",
         "107.2",
         "106.7",
         "152.6",
         "107.4",
         "107.44",
         "106.6",
         "107.75",
         "105.06",
         "118.0",
         "103.25",
         "101.1",
         "103.0",
         "101.7",
         "162.1",
         "105.56",
         "163.9",
         "98.56",
         "162.9",
         "98.56",
         "112.94",
         "112.6",
         "112.94",
         "99.0",
         "94.25",
         "88.9",
         "92.8",
         "108.56",
         "109.94",
         "108.8",
         "106.8",
         "105.6",
         "100.1",
         "102.75",
         "102.75",
         "103.1",
         "103.0",
         "104.1",
         "166.8",
         "173.9",
         "104.4",
         "165.9",
         "108.6",
         "174.0",
         "173.8",
         "105.5",
         "173.0",
         "173.0",
         "109.7",
         "171.0",
         "165.1",
         "172.6",
         "170.2",
         "94.06",
         "171.9",
         "169.5",
         "170.4",
         "94.75",
         "96.25",
         "171.2",
         "99.0",
         "99.3",
         "101.1",
         "102.44",
         "106.4",
         "108.44",
         "110.9",
         "109.6",
         "112.1",
         "110.56",
         "111.56",
         "112.56",
         "119.06",
         "120.56",
         "109.75",
         "108.75",
         "107.25",
         "122.2",
         "108.5",
         "107.9",
         "106.1",
         "98.06",
         "186.9",
         "186.2",
         "123.6",
         "140.0",
         "111.3",
         "110.56",
         "117.44",
         "119.2",
         "113.25",
         "109.94",
         "155.6",
         "156.9",
         "157.8",
         "114.06",
         "159.6",
         "158.1",
         "154.4",
         "156.1",
         "157.4",
         "159.9",
         "160.5",
         "170.0",
         "169.1",
         "172.4",
         "173.2",
         "167.0",
         "166.2",
         "170.8",
         "169.8",
         "170.1",
         "168.4",
         "88.8",
         "89.75",
         "89.56",
         "86.7",
         "93.4",
         "92.2",
         "116.9",
         "119.75",
         "125.2",
         "125.1",
         "120.25",
         "120.3",
         "125.9",
         "124.7",
         "117.75",
         "128.8",
         "129.9",
         "132.9",
         "128.0",
         "129.0",
         "130.2",
         "132.2",
         "131.4",
         "132.2",
         "132.9",
         "133.8",
         "133.1",
         "126.6",
         "124.06",
         "133.5",
         "130.9",
         "123.2",
         "117.5",
         "138.5",
         "132.5",
         "131.9",
         "135.1",
         "126.44",
         "125.44",
         "126.06",
         "134.1",
         "129.6",
         "139.5",
         "143.8",
         "145.2",
         "144.1",
         "142.4",
         "140.9",
         "143.9",
         "124.2",
         "137.6",
         "130.6",
         "129.4",
         "131.1",
         "126.06",
         "131.5",
         "124.2",
         "126.1",
         "129.8",
         "130.0",
         "125.1",
         "125.56",
         "127.5",
         "123.75",
         "126.5",
         "131.4",
         "127.0",
         "132.0",
         "195.9",
         "119.2",
         "118.44",
         "119.75",
         "191.0",
         "119.4",
         "123.9",
         "116.94",
         "110.5",
         "114.06",
         "191.5",
         "114.1",
         "112.06",
         "116.06",
         "118.25",
         "122.4",
         "122.9",
         "123.56",
         "111.56",
         "110.6",
         "111.4",
         "105.7",
         "106.0",
         "112.0",
         "107.6",
         "112.3",
         "113.8",
         "112.0",
         "112.44",
         "111.56",
         "111.4",
         "113.25",
         "110.5",
         "111.2",
         "113.3",
         "104.4",
         "121.9",
         "109.6",
         "104.0",
         "109.3",
         "109.6",
         "124.9",
         "127.4",
         "109.8",
         "108.7",
         "126.56",
         "104.25",
         "104.44",
         "128.1",
         "126.6",
         "122.5",
         "110.1",
         "108.4",
         "109.4",
         "132.9",
         "107.3",
         "109.9",
         "125.25",
         "107.7",
         "108.5",
         "110.0",
         "106.94",
         "106.25",
         "109.2",
         "125.2",
         "108.44",
         "105.4",
         "106.0",
         "125.56",
         "115.6",
         "114.75",
         "119.6",
         "119.5",
         "117.56",
         "118.06",
         "115.25",
         "114.6",
         "109.06",
         "102.06",
         "109.1",
         "103.1",
         "109.7",
         "137.4",
         "136.8",
         "103.7",
         "104.1",
         "136.8",
         "138.0",
         "133.4",
         "111.4",
         "136.1",
         "133.5",
         "113.0",
         "132.4",
         "131.0",
         "132.0",
         "109.75",
         "131.2",
         "131.5",
         "110.3",
         "132.8",
         "115.1",
         "135.0",
         "112.1",
         "113.06",
         "113.94",
         "133.0",
         "131.1",
         "132.2",
         "133.6",
         "134.6",
         "122.6",
         "121.2",
         "113.2",
         "123.6",
         "124.1",
         "124.4",
         "114.7",
         "118.6",
         "121.4",
         "113.0",
         "113.1",
         "118.75",
         "103.0",
         "103.6",
         "119.6",
         "119.9",
         "118.06",
         "107.0",
         "111.06",
         "120.06",
         "119.75",
         "109.44",
         "123.0",
         "114.8",
         "107.9",
         "119.5",
         "125.1",
         "115.25",
         "127.0",
         "117.5",
         "124.75",
         "119.06",
         "117.56",
         "122.0",
         "119.8",
         "118.44",
         "120.7",
         "117.06",
         "118.56",
         "116.56",
         "114.1",
         "124.4",
         "115.4",
         "114.8",
         "114.8",
         "112.3",
         "111.7",
         "113.75",
         "115.4",
         "116.25",
         "114.44",
         "113.44",
         "115.25",
         "122.94",
         "126.9",
         "118.44",
         "124.3",
         "117.1",
         "121.06",
         "126.2",
         "126.8",
         "125.56",
         "126.2",
         "126.0",
         "124.9",
         "124.56",
         "124.5",
         "123.6",
         "123.9",
         "123.7",
         "122.9",
         "126.2",
         "122.5",
         "123.3",
         "125.56",
         "124.1",
         "124.94",
         "125.75",
         "129.8",
         "126.56",
         "131.4",
         "129.8",
         "127.9",
         "127.0",
         "128.4",
         "115.7",
         "116.5",
         "117.3",
         "119.7",
         "135.0",
         "153.5",
         "155.8",
         "155.6",
         "155.0",
         "153.6",
         "152.4",
         "151.1",
         "153.4",
         "152.0",
         "150.0",
         "149.5",
         "151.0",
         "150.4",
         "149.2",
         "148.0",
         "148.4",
         "146.4",
         "148.0",
         "149.1",
         "145.9",
         "147.6",
         "144.2",
         "143.5",
         "143.8",
         "144.9",
         "142.1",
         "143.2",
         "108.7",
         "107.94",
         "129.6",
         "103.94",
         "107.25",
         "103.25",
         "121.3",
         "141.5",
         "111.3",
         "110.5",
         "110.6",
         "112.3",
         "115.0",
         "192.8",
         "133.0",
         "134.8",
         "134.0",
         "134.9",
         "140.0",
         "140.0",
         "142.0",
         "140.8",
         "140.2",
         "140.6",
         "141.5",
         "138.9",
         "153.8",
         "157.0",
         "152.8",
         "131.8",
         "131.0",
         "132.9",
         "135.4",
         "130.2",
         "129.2",
         "112.94",
         "110.6",
         "112.3",
         "111.1",
         "134.6",
         "114.7",
         "109.7",
         "127.75",
         "132.1",
         "129.6",
         "129.0",
         "131.4",
         "109.9",
         "145.1",
         "146.6",
         "123.1",
         "127.9",
         "159.5",
         "143.4",
         "140.9",
         "123.9",
         "148.6",
         "119.1",
         "117.8",
         "130.9",
         "131.4",
         "157.0",
         "127.94",
         "128.8",
         "150.5",
         "155.5",
         "129.8",
         "154.1",
         "158.4",
         "151.2",
         "130.4",
         "132.9",
         "161.9",
         "158.2",
         "165.4",
         "162.8",
         "158.8",
         "179.5",
         "178.4",
         "179.9",
         "180.6",
         "179.1",
         "181.2",
         "180.6",
         "182.0",
         "184.9",
         "184.8",
         "184.5",
         "182.8",
         "180.4",
         "182.9",
         "184.4",
         "180.5",
         "182.0",
         "182.1",
         "181.4",
         "180.1",
         "188.1",
         "188.9",
         "173.0",
         "178.8",
         "186.5",
         "183.5",
         "181.1",
         "182.0",
         "188.5",
         "196.1",
         "174.0",
         "178.4",
         "175.5",
         "175.9",
         "188.5",
         "187.8",
         "188.8",
         "190.9",
         "194.0",
         "188.0",
         "187.8",
         "195.4",
         "120.8",
         "127.0",
         "124.94",
         "140.0",
         "114.56",
         "115.6",
         "115.8",
         "115.4",
         "113.7",
         "119.5",
         "116.56",
         "117.1",
         "114.8",
         "120.9",
         "115.94",
         "120.4",
         "119.8",
         "111.9",
         "119.0",
         "117.1",
         "122.0",
         "124.56",
         "123.75",
         "118.25",
         "119.56",
         "116.6",
         "121.25",
         "123.4",
         "127.0",
         "202.2",
         "116.56",
         "127.5",
         "115.8",
         "117.56",
         "128.0",
         "129.9",
         "117.2",
         "123.1",
         "123.6",
         "124.6",
         "125.94",
         "116.94",
         "119.5",
         "119.56",
         "121.75",
         "89.2",
         "89.7",
         "86.25",
         "90.75",
         "93.75",
         "85.4",
         "92.4",
         "94.7",
         "95.5",
         "91.0",
         "93.2",
         "95.56",
         "94.75",
         "94.25",
         "96.75",
         "93.8",
         "94.3",
         "97.3",
         "97.3",
         "95.6",
         "96.4",
         "93.56",
         "95.94",
         "96.7",
         "97.44",
         "85.44",
         "87.56",
         "93.3",
         "93.94",
         "96.4",
         "91.8",
         "93.44",
         "97.1",
         "94.9",
         "88.4",
         "91.56",
         "92.44",
         "97.4",
         "99.94",
         "107.75",
         "99.94",
         "92.94",
         "91.75",
         "87.94",
         "93.5",
         "95.3",
         "125.4",
         "120.4",
         "119.5",
         "138.2",
         "141.2",
         "103.1",
         "115.9",
         "115.5",
         "159.2",
         "158.5",
         "157.2",
         "147.8",
         "142.4",
         "147.4",
         "140.4",
         "140.1",
         "141.6",
         "145.6",
         "142.4",
         "148.8",
         "144.2",
         "170.6",
         "160.0",
         "161.8",
         "158.8",
         "141.4",
         "164.1",
         "164.9",
         "168.9",
         "167.8",
         "155.0",
         "152.4",
         "151.2",
         "208.8",
         "199.9",
         "188.2",
         "126.5",
         "127.4",
         "92.3",
         "123.3",
         "119.4",
         "121.4",
         "109.75",
         "124.2",
         "145.1",
         "121.4",
         "115.44",
         "165.9",
         "164.5",
         "164.1",
         "165.1",
         "164.2",
         "157.2",
         "158.5",
         "164.1",
         "159.0",
         "158.1",
         "159.8",
         "165.0",
         "167.8",
         "164.0",
         "167.0",
         "164.2",
         "161.1",
         "161.6",
         "169.4",
         "160.4",
         "161.4",
         "162.6",
         "161.8",
         "161.8",
         "162.9",
         "163.5",
         "161.0",
         "159.6",
         "158.6",
         "156.5",
         "106.2",
         "106.4",
         "167.2",
         "163.0",
         "162.4",
         "164.1",
         "160.8",
         "154.9",
         "156.2",
         "157.8",
         "158.4",
         "155.2",
         "159.0",
         "156.1",
         "160.5",
         "152.8",
         "142.1",
         "85.94",
         "85.75",
         "86.7",
         "162.6",
         "160.4",
         "160.8",
         "142.6",
         "150.9",
         "154.0",
         "154.5",
         "154.0",
         "161.1",
         "160.0",
         "90.56",
         "89.9",
         "160.9",
         "100.25",
         "119.9",
         "115.7",
         "168.9",
         "153.5",
         "162.0",
         "124.3",
         "170.4",
         "165.4",
         "162.9",
         "167.5",
         "163.8",
         "163.9",
         "165.8",
         "165.0",
         "166.9",
         "168.1",
         "171.5",
         "174.4",
         "176.4",
         "168.9",
         "169.5",
         "170.9",
         "177.4",
         "174.6",
         "175.1",
         "173.1",
         "164.5",
         "169.5",
         "165.4",
         "169.4",
         "177.6",
         "177.6",
         "157.9",
         "160.0",
         "181.1",
         "158.9",
         "170.5",
         "169.8",
         "170.0",
         "172.5",
         "170.2",
         "171.2",
         "169.5",
         "172.2",
         "172.5",
         "169.8",
         "169.2",
         "167.9",
         "168.6",
         "170.1",
         "106.0",
         "107.7",
         "111.44",
         "84.56",
         "82.1",
         "85.56",
         "168.2",
         "168.5",
         "167.4",
         "171.5",
         "171.1",
         "171.9",
         "171.0",
         "175.1",
         "172.2",
         "173.1",
         "169.0",
         "171.6",
         "171.4",
         "178.2",
         "174.6",
         "160.9",
         "157.2",
         "175.1",
         "170.6",
         "177.4",
         "153.9",
         "173.6",
         "176.1",
         "156.4",
         "177.0",
         "132.4",
         "91.75",
         "82.0",
         "128.2",
         "121.7",
         "126.75",
         "126.44",
         "121.06",
         "190.0",
         "196.9",
         "194.8",
         "194.5",
         "196.9",
         "194.1",
         "193.2",
         "194.9",
         "195.2",
         "196.0",
         "194.8",
         "191.6",
         "193.2",
         "193.0",
         "177.1",
         "176.6",
         "177.9",
         "179.2",
         "176.1",
         "170.5",
         "173.4",
         "180.2",
         "146.6",
         "167.5",
         "179.1",
         "179.9",
         "177.4",
         "178.1",
         "180.5",
         "180.9",
         "111.6",
         "101.44",
         "127.8",
         "100.8",
         "119.56",
         "120.2",
         "96.8",
         "162.2",
         "177.0",
         "180.9",
         "140.4",
         "126.94",
         "142.0",
         "162.1",
         "161.2",
         "162.0",
         "161.8",
         "162.1",
         "158.8",
         "158.8",
         "115.0",
         "111.2",
         "158.1",
         "138.8",
         "147.2",
         "145.4",
         "147.1",
         "146.1",
         "146.0",
         "144.8",
         "141.6",
         "142.0",
         "140.8",
         "145.0",
         "134.5",
         "137.4",
         "145.9",
         "145.4",
         "136.6",
         "140.1",
         "148.2",
         "147.8",
         "146.8",
         "142.1",
         "135.6",
         "141.1",
         "155.6",
         "149.8",
         "154.5",
         "153.1",
         "163.5",
         "164.4",
         "160.1",
         "161.5",
         "156.6",
         "148.1",
         "162.0",
         "152.0",
         "155.8",
         "155.9",
         "157.5",
         "147.1",
         "151.9",
         "151.1",
         "151.4",
         "151.0",
         "154.6",
         "155.9",
         "155.4",
         "154.6",
         "153.6",
         "156.4",
         "156.8",
         "159.6",
         "146.2",
         "147.1",
         "149.0",
         "151.8",
         "155.1",
         "156.0",
         "154.6",
         "155.6",
         "154.8",
         "147.1",
         "146.0",
         "148.6",
         "149.4",
         "157.6",
         "157.0",
         "152.2",
         "157.4",
         "155.0",
         "151.8",
         "152.2",
         "154.4",
         "159.1",
         "158.1",
         "160.4",
         "160.9",
         "156.1",
         "156.0",
         "146.8",
         "146.2",
         "153.9",
         "152.5",
         "147.5",
         "148.0",
         "161.8",
         "162.2",
         "152.2",
         "151.4",
         "152.4",
         "152.5",
         "151.1",
         "156.5",
         "156.2",
         "156.8",
         "156.0",
         "154.0",
         "154.0",
         "155.1",
         "154.0",
         "154.5",
         "154.5",
         "154.6",
         "150.5",
         "153.9",
         "155.2",
         "154.9",
         "154.6",
         "146.6",
         "146.6",
         "155.8",
         "162.6",
         "163.5",
         "154.4",
         "154.6",
         "146.5",
         "155.9",
         "140.2",
         "142.2",
         "139.0",
         "138.9",
         "140.5",
         "142.2",
         "135.9",
         "137.4",
         "141.5",
         "146.5",
         "148.8",
         "151.0",
         "130.0",
         "142.5",
         "141.4",
         "146.9",
         "147.5",
         "142.0",
         "151.6",
         "151.6",
         "154.2",
         "153.6",
         "153.6",
         "153.4",
         "153.5",
         "153.5",
         "152.6",
         "152.4",
         "152.6",
         "152.6",
         "151.6",
         "151.6",
         "152.4",
         "153.4",
         "152.8",
         "153.2",
         "152.8",
         "156.0",
         "156.0",
         "156.2",
         "155.8",
         "156.0",
         "156.9",
         "158.1",
         "157.2",
         "157.0",
         "154.4",
         "156.1",
         "156.4",
         "159.8",
         "159.5",
         "159.2",
         "159.2",
         "158.9",
         "158.5",
         "159.0",
         "158.1",
         "136.1",
         "152.9"
        ],
        [
         "3",
         "171.1",
         "138.2",
         "105.9",
         "0.0",
         "171.6",
         "209.5",
         "186.0",
         "233.8",
         "179.4",
         "182.4",
         "172.1",
         "136.1",
         "41.66",
         "199.0",
         "185.4",
         "153.2",
         "121.75",
         "120.7",
         "155.2",
         "61.78",
         "116.94",
         "89.94",
         "144.4",
         "139.9",
         "157.6",
         "119.4",
         "68.44",
         "213.1",
         "206.8",
         "204.5",
         "198.8",
         "56.03",
         "51.62",
         "93.8",
         "155.5",
         "154.6",
         "155.5",
         "148.9",
         "144.5",
         "115.2",
         "124.3",
         "151.4",
         "151.5",
         "43.94",
         "137.0",
         "125.0",
         "219.6",
         "146.2",
         "149.6",
         "154.5",
         "144.6",
         "154.9",
         "140.5",
         "142.6",
         "136.0",
         "147.6",
         "138.8",
         "135.8",
         "117.25",
         "117.25",
         "116.44",
         "113.25",
         "119.2",
         "114.7",
         "96.44",
         "54.66",
         "50.22",
         "191.4",
         "165.4",
         "84.2",
         "79.6",
         "94.75",
         "134.1",
         "119.7",
         "119.7",
         "168.8",
         "173.1",
         "135.4",
         "147.9",
         "131.2",
         "46.53",
         "211.5",
         "186.8",
         "19.66",
         "179.6",
         "179.4",
         "141.8",
         "167.2",
         "137.9",
         "50.03",
         "55.0",
         "20.14",
         "69.7",
         "85.94",
         "161.9",
         "142.5",
         "58.1",
         "164.4",
         "55.25",
         "31.75",
         "30.05",
         "111.1",
         "111.1",
         "54.22",
         "172.9",
         "155.8",
         "127.6",
         "143.2",
         "69.6",
         "142.4",
         "112.8",
         "112.4",
         "91.44",
         "156.6",
         "76.06",
         "104.6",
         "152.1",
         "129.9",
         "94.2",
         "171.9",
         "150.2",
         "143.2",
         "152.2",
         "127.5",
         "132.6",
         "49.94",
         "168.5",
         "183.9",
         "183.9",
         "167.9",
         "119.25",
         "120.7",
         "128.4",
         "126.1",
         "121.75",
         "129.2",
         "122.0",
         "120.1",
         "130.1",
         "130.6",
         "88.5",
         "87.5",
         "79.5",
         "78.9",
         "81.5",
         "77.3",
         "55.66",
         "43.2",
         "78.06",
         "95.06",
         "67.75",
         "84.75",
         "82.94",
         "72.3",
         "75.56",
         "166.9",
         "165.4",
         "169.4",
         "165.0",
         "170.1",
         "74.3",
         "83.25",
         "58.56",
         "64.7",
         "96.4",
         "124.2",
         "56.84",
         "55.94",
         "50.75",
         "56.03",
         "55.53",
         "65.7",
         "61.06",
         "60.4",
         "58.88",
         "124.2",
         "72.4",
         "69.94",
         "86.8",
         "70.56",
         "67.0",
         "69.25",
         "68.2",
         "75.7",
         "77.25",
         "78.3",
         "68.0",
         "73.2",
         "81.8",
         "73.06",
         "153.1",
         "152.9",
         "151.6",
         "151.8",
         "810.0",
         "161.4",
         "138.1",
         "164.2",
         "140.0",
         "168.8",
         "166.1",
         "208.5",
         "198.4",
         "190.0",
         "168.4",
         "166.5",
         "168.2",
         "184.1",
         "175.8",
         "185.2",
         "176.4",
         "204.1",
         "196.6",
         "198.6",
         "196.6",
         "196.6",
         "208.2",
         "203.6",
         "204.1",
         "195.8",
         "110.9",
         "84.0",
         "76.9",
         "71.44",
         "128.4",
         "133.4",
         "138.5",
         "120.06",
         "124.75",
         "120.9",
         "124.2",
         "109.06",
         "109.1",
         "130.9",
         "130.5",
         "129.0",
         "128.4",
         "123.7",
         "126.8",
         "125.5",
         "139.6",
         "143.8",
         "128.0",
         "116.3",
         "123.94",
         "146.6",
         "52.22",
         "80.06",
         "91.4",
         "77.75",
         "34.3",
         "41.94",
         "37.56",
         "59.47",
         "73.9",
         "71.2",
         "72.6",
         "191.6",
         "186.5",
         "144.5",
         "181.5",
         "49.0",
         "55.4",
         "51.2",
         "205.0",
         "199.0",
         "204.1",
         "199.4",
         "44.88",
         "92.44",
         "84.6",
         "64.8",
         "67.9",
         "64.94",
         "66.25",
         "64.56",
         "60.6",
         "70.56",
         "64.8",
         "66.9",
         "66.75",
         "64.9",
         "166.5",
         "161.2",
         "160.1",
         "179.0",
         "163.8",
         "172.8",
         "175.5",
         "185.9",
         "172.6",
         "176.2",
         "181.9",
         "168.6",
         "169.8",
         "163.1",
         "78.3",
         "58.88",
         "76.4",
         "84.0",
         "84.44",
         "73.94",
         "69.06",
         "73.5",
         "73.8",
         "159.0",
         "158.2",
         "75.0",
         "64.9",
         "67.3",
         "175.5",
         "191.5",
         "192.8",
         "151.9",
         "87.5",
         "74.0",
         "76.75",
         "142.9",
         "59.22",
         "70.06",
         "68.1",
         "68.7",
         "71.5",
         "172.8",
         "170.2",
         "174.1",
         "175.0",
         "172.5",
         "177.5",
         "69.4",
         "59.12",
         "67.56",
         "114.9",
         "115.3",
         "117.56",
         "201.2",
         "198.5",
         "72.4",
         "78.56",
         "193.5",
         "193.4",
         "137.6",
         "151.5",
         "192.6",
         "195.1",
         "196.0",
         "196.0",
         "195.2",
         "193.5",
         "193.8",
         "193.1",
         "192.5",
         "200.0",
         "198.9",
         "208.2",
         "52.22",
         "51.38",
         "66.0",
         "177.6",
         "179.4",
         "178.0",
         "168.5",
         "162.0",
         "156.9",
         "157.4",
         "161.1",
         "169.9",
         "168.1",
         "164.6",
         "165.8",
         "164.9",
         "76.6",
         "169.1",
         "167.4",
         "65.1",
         "85.94",
         "85.1",
         "84.8",
         "85.44",
         "85.7",
         "66.8",
         "58.78",
         "50.8",
         "51.47",
         "136.4",
         "130.6",
         "136.6",
         "96.25",
         "38.4",
         "124.9",
         "136.8",
         "63.38",
         "66.2",
         "64.3",
         "61.6",
         "62.16",
         "127.5",
         "66.9",
         "63.88",
         "64.1",
         "43.66",
         "119.4",
         "120.3",
         "128.6",
         "123.75",
         "123.6",
         "122.94",
         "125.75",
         "130.5",
         "126.4",
         "133.4",
         "134.5",
         "135.5",
         "109.1",
         "121.8",
         "120.1",
         "73.94",
         "73.4",
         "75.06",
         "206.5",
         "212.6",
         "75.2",
         "76.94",
         "60.1",
         "64.94",
         "61.53",
         "62.06",
         "62.25",
         "200.2",
         "198.9",
         "74.0",
         "69.94",
         "78.44",
         "73.25",
         "75.1",
         "70.56",
         "82.0",
         "91.9",
         "67.8",
         "133.4",
         "131.4",
         "129.6",
         "133.1",
         "133.0",
         "128.6",
         "125.75",
         "124.7",
         "128.2",
         "128.5",
         "124.2",
         "141.2",
         "145.2",
         "145.0",
         "144.1",
         "140.8",
         "132.4",
         "132.4",
         "132.4",
         "131.5",
         "137.0",
         "137.5",
         "129.6",
         "130.5",
         "133.6",
         "133.0",
         "138.4",
         "138.6",
         "139.4",
         "135.8",
         "136.4",
         "133.4",
         "134.4",
         "128.9",
         "128.9",
         "136.0",
         "136.8",
         "134.1",
         "135.1",
         "136.1",
         "133.2",
         "138.0",
         "139.4",
         "138.1",
         "136.0",
         "135.2",
         "135.1",
         "137.9",
         "84.56",
         "46.5",
         "48.12",
         "47.16",
         "47.78",
         "48.25",
         "48.72",
         "49.28",
         "65.56",
         "67.94",
         "65.0",
         "77.1",
         "77.1",
         "166.4",
         "181.8",
         "166.8",
         "167.9",
         "168.6",
         "169.6",
         "167.1",
         "167.5",
         "170.8",
         "168.4",
         "169.1",
         "151.2",
         "147.1",
         "151.5",
         "155.0",
         "150.6",
         "157.1",
         "150.5",
         "154.8",
         "152.2",
         "157.8",
         "155.4",
         "158.2",
         "157.1",
         "157.6",
         "162.5",
         "171.0",
         "171.0",
         "166.2",
         "170.2",
         "174.9",
         "174.9",
         "174.1",
         "170.2",
         "178.0",
         "178.9",
         "173.9",
         "176.1",
         "176.8",
         "170.9",
         "179.9",
         "177.2",
         "175.2",
         "153.5",
         "154.2",
         "154.2",
         "152.9",
         "155.8",
         "154.1",
         "155.5",
         "156.4",
         "155.1",
         "151.6",
         "157.1",
         "156.4",
         "156.2",
         "152.2",
         "159.4",
         "157.9",
         "157.9",
         "153.4",
         "155.2",
         "154.8",
         "154.0",
         "159.9",
         "158.6",
         "154.8",
         "154.0",
         "155.1",
         "155.8",
         "153.8",
         "159.6",
         "159.6",
         "160.0",
         "158.6",
         "157.4",
         "160.4",
         "159.5",
         "159.4",
         "158.1",
         "158.1",
         "160.1",
         "159.2",
         "160.8",
         "157.0",
         "158.9",
         "157.6",
         "157.0",
         "161.8",
         "164.8",
         "162.2",
         "161.0",
         "159.6",
         "161.0",
         "160.1",
         "163.0",
         "159.1",
         "163.9",
         "161.4",
         "163.2",
         "164.6",
         "165.2",
         "160.6",
         "166.2",
         "162.1",
         "164.8",
         "166.8",
         "163.5",
         "162.8",
         "166.8",
         "165.6",
         "170.5",
         "159.5",
         "161.0",
         "161.0",
         "166.8",
         "163.1",
         "167.5",
         "164.5",
         "169.1",
         "166.2",
         "163.0",
         "165.1",
         "165.0",
         "165.9",
         "167.1",
         "168.2",
         "166.0",
         "166.8",
         "168.2",
         "168.8",
         "163.8",
         "163.1",
         "167.6",
         "163.5",
         "168.4",
         "163.0",
         "169.4",
         "166.6",
         "168.1",
         "167.2",
         "166.6",
         "167.8",
         "169.2",
         "168.0",
         "165.4",
         "164.4",
         "173.1",
         "165.8",
         "172.2",
         "174.0",
         "174.0",
         "172.5",
         "176.4",
         "175.1",
         "175.6",
         "172.1",
         "175.9",
         "175.5",
         "176.2",
         "172.6",
         "171.1",
         "176.1",
         "175.9",
         "171.9",
         "175.2",
         "171.9",
         "174.6",
         "171.0",
         "175.0",
         "175.4",
         "172.1",
         "174.8",
         "172.6",
         "173.4",
         "175.4",
         "176.1",
         "173.5",
         "176.2",
         "176.6",
         "175.4",
         "174.6",
         "173.2",
         "175.8",
         "167.0",
         "168.6",
         "172.8",
         "171.6",
         "167.5",
         "173.6",
         "175.1",
         "172.1",
         "170.4",
         "173.0",
         "166.1",
         "169.0",
         "164.8",
         "182.0",
         "179.2",
         "181.8",
         "177.1",
         "180.4",
         "175.1",
         "176.5",
         "175.8",
         "177.6",
         "176.9",
         "173.6",
         "175.5",
         "172.2",
         "172.4",
         "167.6",
         "168.4",
         "171.6",
         "170.9",
         "181.9",
         "181.8",
         "180.4",
         "183.4",
         "179.8",
         "179.8",
         "179.0",
         "178.2",
         "180.8",
         "179.5",
         "176.2",
         "181.2",
         "188.5",
         "187.5",
         "187.8",
         "183.1",
         "182.4",
         "183.6",
         "182.9",
         "182.9",
         "186.9",
         "188.5",
         "186.2",
         "186.8",
         "185.0",
         "181.8",
         "184.5",
         "181.2",
         "185.0",
         "184.5",
         "184.2",
         "187.4",
         "188.9",
         "192.4",
         "191.1",
         "188.0",
         "188.0",
         "186.4",
         "186.2",
         "185.4",
         "187.4",
         "187.9",
         "189.6",
         "189.6",
         "191.4",
         "188.8",
         "183.8",
         "183.4",
         "187.8",
         "185.1",
         "188.8",
         "186.2",
         "185.2",
         "188.8",
         "190.8",
         "189.9",
         "187.9",
         "190.8",
         "187.1",
         "188.2",
         "195.6",
         "183.6",
         "186.2",
         "192.1",
         "192.4",
         "189.0",
         "194.6",
         "183.9",
         "182.1",
         "190.6",
         "190.6",
         "184.6",
         "185.4",
         "186.6",
         "193.0",
         "189.8",
         "189.8",
         "186.1",
         "186.5",
         "192.9",
         "188.4",
         "189.0",
         "188.4",
         "189.9",
         "190.6",
         "187.8",
         "188.4",
         "193.9",
         "187.0",
         "194.6",
         "193.0",
         "184.9",
         "193.2",
         "189.2",
         "189.1",
         "196.9",
         "199.9",
         "193.8",
         "195.4",
         "194.5",
         "197.4",
         "198.5",
         "202.6",
         "198.5",
         "197.8",
         "204.8",
         "203.2",
         "202.6",
         "205.2",
         "202.8",
         "188.8",
         "191.5",
         "192.1",
         "191.8",
         "192.4",
         "190.9",
         "200.8",
         "195.6",
         "202.8",
         "191.1",
         "186.2",
         "188.2",
         "184.6",
         "183.1",
         "188.1",
         "193.9",
         "191.1",
         "193.2",
         "191.4",
         "194.2",
         "190.9",
         "189.8",
         "190.9",
         "188.5",
         "189.8",
         "194.9",
         "192.0",
         "190.2",
         "187.6",
         "189.0",
         "189.2",
         "191.0",
         "191.8",
         "193.0",
         "192.9",
         "195.1",
         "193.6",
         "193.4",
         "190.5",
         "193.0",
         "194.6",
         "194.2",
         "188.0",
         "189.4",
         "194.2",
         "193.6",
         "138.4",
         "190.5",
         "190.5",
         "189.9",
         "145.9",
         "149.1",
         "142.5",
         "146.6",
         "144.8",
         "146.1",
         "147.1",
         "145.5",
         "141.0",
         "140.0",
         "141.0",
         "141.4",
         "144.2",
         "145.1",
         "139.8",
         "144.6",
         "143.6",
         "143.0",
         "143.6",
         "148.8",
         "139.9",
         "139.4",
         "140.2",
         "143.1",
         "142.2",
         "143.4",
         "147.8",
         "137.9",
         "138.5",
         "131.9",
         "134.4",
         "135.2",
         "136.0",
         "134.8",
         "124.1",
         "126.9",
         "174.6",
         "173.0",
         "174.0",
         "172.9",
         "170.1",
         "169.9",
         "174.2",
         "174.4",
         "175.0",
         "175.9",
         "176.5",
         "177.1",
         "176.5",
         "175.8",
         "180.2",
         "180.6",
         "178.2",
         "183.4",
         "178.0",
         "178.2",
         "179.1",
         "184.0",
         "184.2",
         "181.0",
         "183.5",
         "186.8",
         "181.8",
         "185.1",
         "182.2",
         "186.0",
         "184.4",
         "185.0",
         "180.4",
         "190.9",
         "192.4",
         "191.8",
         "191.5",
         "190.0",
         "191.0",
         "189.2",
         "191.4",
         "187.8",
         "190.5",
         "186.1",
         "183.2",
         "186.9",
         "188.8",
         "184.1",
         "184.8",
         "181.4",
         "181.2",
         "186.9",
         "185.1",
         "183.5",
         "190.1",
         "180.6",
         "182.0",
         "178.0",
         "182.1",
         "180.5",
         "179.2",
         "181.5",
         "180.0",
         "185.1",
         "185.5",
         "186.4",
         "184.0",
         "186.5",
         "179.6",
         "178.5",
         "173.2",
         "183.8",
         "184.8",
         "184.1",
         "178.0",
         "170.5",
         "183.4",
         "182.4",
         "179.1",
         "175.6",
         "175.1",
         "176.6",
         "174.6",
         "174.9",
         "171.0",
         "170.1",
         "171.5",
         "174.4",
         "172.9",
         "171.0",
         "171.6",
         "170.5",
         "167.5",
         "171.0",
         "168.1",
         "165.9",
         "166.6",
         "167.0",
         "173.1",
         "171.6",
         "171.6",
         "173.9",
         "175.0",
         "171.9",
         "165.0",
         "165.1",
         "170.8",
         "165.0",
         "171.5",
         "171.9",
         "164.2",
         "164.1",
         "170.2",
         "169.0",
         "170.8",
         "172.2",
         "173.2",
         "177.5",
         "176.5",
         "178.1",
         "171.8",
         "169.9",
         "177.0",
         "173.5",
         "171.2",
         "163.6",
         "166.2",
         "165.9",
         "167.8",
         "164.8",
         "163.2",
         "166.1",
         "164.8",
         "163.6",
         "167.5",
         "165.4",
         "165.4",
         "164.2",
         "164.8",
         "159.8",
         "164.1",
         "165.1",
         "158.8",
         "177.0",
         "168.2",
         "168.5",
         "172.2",
         "169.1",
         "173.1",
         "168.5",
         "157.9",
         "179.8",
         "180.5",
         "156.0",
         "124.75",
         "182.4",
         "182.9",
         "186.0",
         "179.4",
         "182.8",
         "181.5",
         "180.6",
         "193.9",
         "195.6",
         "195.5",
         "192.0",
         "201.8",
         "199.5",
         "199.6",
         "202.2",
         "195.1",
         "192.9",
         "193.8",
         "200.2",
         "201.5",
         "176.6",
         "174.8",
         "180.8",
         "178.2",
         "179.1",
         "180.1",
         "187.9",
         "187.0",
         "178.0",
         "181.0",
         "183.6",
         "184.5",
         "186.4",
         "193.4",
         "188.0",
         "181.9",
         "177.0",
         "187.8",
         "187.1",
         "186.0",
         "187.9",
         "179.0",
         "185.5",
         "34.66",
         "28.14",
         "39.94",
         "51.7",
         "51.25",
         "49.28",
         "48.75",
         "51.34",
         "181.9",
         "184.2",
         "185.8",
         "180.9",
         "185.2",
         "184.4",
         "188.2",
         "187.4",
         "181.1",
         "184.4",
         "188.2",
         "178.9",
         "183.8",
         "183.0",
         "181.9",
         "180.1",
         "185.6",
         "179.9",
         "178.2",
         "182.4",
         "183.1",
         "178.8",
         "180.2",
         "184.8",
         "186.0",
         "184.9",
         "184.5",
         "186.6",
         "184.9",
         "182.9",
         "183.4",
         "184.0",
         "186.2",
         "183.8",
         "185.2",
         "185.2",
         "183.8",
         "191.9",
         "191.0",
         "180.8",
         "186.1",
         "194.8",
         "183.4",
         "181.5",
         "196.9",
         "186.8",
         "186.6",
         "182.4",
         "188.2",
         "185.9",
         "180.6",
         "181.6",
         "177.6",
         "187.6",
         "48.8",
         "166.0",
         "169.9",
         "163.1",
         "166.6",
         "172.6",
         "167.4",
         "173.5",
         "154.6",
         "179.5",
         "180.0",
         "181.0",
         "183.6",
         "183.5",
         "184.1",
         "88.7",
         "88.25",
         "88.3",
         "89.75",
         "86.6",
         "87.4",
         "71.0",
         "71.4",
         "72.8",
         "81.0",
         "83.8",
         "73.6",
         "83.25",
         "85.3",
         "84.1",
         "85.56",
         "76.3",
         "75.44",
         "89.06",
         "74.25",
         "67.7",
         "69.06",
         "73.6",
         "71.94",
         "92.56",
         "95.25",
         "90.6",
         "67.7",
         "67.3",
         "68.75",
         "69.44",
         "65.75",
         "80.9",
         "71.56",
         "68.3",
         "67.3",
         "66.44",
         "78.2",
         "70.9",
         "70.6",
         "74.5",
         "79.1",
         "72.7",
         "88.06",
         "87.9",
         "88.25",
         "82.5",
         "82.44",
         "90.25",
         "81.3",
         "91.06",
         "91.9",
         "92.75",
         "94.25",
         "95.06",
         "95.0",
         "83.9",
         "82.25",
         "87.2",
         "84.75",
         "88.0",
         "86.75",
         "88.9",
         "86.75",
         "89.1",
         "86.6",
         "87.75",
         "178.2",
         "181.0",
         "177.5",
         "177.5",
         "178.1",
         "177.9",
         "181.6",
         "176.9",
         "177.6",
         "172.5",
         "170.1",
         "169.9",
         "167.2",
         "166.9",
         "164.5",
         "158.6",
         "157.9",
         "160.4",
         "158.5",
         "161.2",
         "158.0",
         "175.9",
         "176.8",
         "173.1",
         "174.6",
         "175.1",
         "174.4",
         "171.0",
         "168.6",
         "174.6",
         "172.4",
         "172.6",
         "164.2",
         "164.2",
         "174.4",
         "174.4",
         "173.4",
         "175.9",
         "180.2",
         "183.1",
         "181.4",
         "184.0",
         "176.0",
         "179.6",
         "183.1",
         "181.5",
         "179.4",
         "180.5",
         "180.6",
         "178.6",
         "178.2",
         "176.1",
         "175.4",
         "112.6",
         "178.0",
         "180.0",
         "178.5",
         "62.56",
         "177.9",
         "178.6",
         "84.8",
         "174.8",
         "176.1",
         "175.1",
         "177.8",
         "164.5",
         "164.1",
         "169.0",
         "172.5",
         "172.8",
         "172.4",
         "167.8",
         "170.0",
         "166.8",
         "171.4",
         "201.6",
         "46.62",
         "53.16",
         "113.0",
         "115.06",
         "147.2",
         "132.4",
         "77.44",
         "79.8",
         "69.8",
         "65.0",
         "91.3",
         "91.25",
         "144.1",
         "64.3",
         "123.0",
         "145.0",
         "142.9",
         "77.7",
         "77.56",
         "75.5",
         "160.2",
         "165.0",
         "198.0",
         "191.5",
         "192.4",
         "198.1",
         "196.4",
         "195.6",
         "187.0",
         "188.4",
         "196.4",
         "196.5",
         "197.2",
         "200.5",
         "194.1",
         "194.5",
         "190.1",
         "201.0",
         "202.4",
         "203.8",
         "198.4",
         "159.0",
         "200.0",
         "200.9",
         "197.6",
         "159.0",
         "193.8",
         "199.4",
         "157.1",
         "157.6",
         "149.9",
         "150.0",
         "150.2",
         "148.4",
         "149.9",
         "145.9",
         "149.8",
         "134.6",
         "138.8",
         "137.9",
         "138.1",
         "137.6",
         "139.8",
         "140.2",
         "134.6",
         "136.1",
         "136.0",
         "123.6",
         "123.2",
         "124.06",
         "123.75",
         "123.1",
         "123.7",
         "119.56",
         "114.6",
         "123.56",
         "123.6",
         "125.06",
         "119.56",
         "201.8",
         "201.6",
         "140.9",
         "141.5",
         "142.0",
         "141.4",
         "141.5",
         "142.5",
         "141.9",
         "138.0",
         "139.2",
         "138.6",
         "138.9",
         "134.5",
         "134.6",
         "138.6",
         "137.9",
         "139.8",
         "137.2",
         "136.5",
         "135.5",
         "137.0",
         "134.8",
         "139.0",
         "135.5",
         "129.0",
         "134.5",
         "133.8",
         "134.8",
         "128.2",
         "130.6",
         "136.0",
         "130.1",
         "130.6",
         "127.0",
         "131.1",
         "132.8",
         "132.8",
         "131.6",
         "170.9",
         "198.2",
         "174.2",
         "174.1",
         "184.6",
         "83.2",
         "143.0",
         "83.8",
         "142.5",
         "83.4",
         "78.1",
         "83.44",
         "166.5",
         "167.0",
         "168.0",
         "165.2",
         "168.0",
         "85.0",
         "165.1",
         "83.94",
         "165.5",
         "125.8",
         "186.0",
         "182.9",
         "136.8",
         "183.4",
         "185.2",
         "188.2",
         "190.9",
         "187.5",
         "192.5",
         "188.9",
         "187.5",
         "184.9",
         "189.6",
         "155.2",
         "149.1",
         "148.4",
         "155.5",
         "187.9",
         "157.0",
         "156.2",
         "187.6",
         "186.0",
         "147.1",
         "154.6",
         "188.6",
         "189.2",
         "153.9",
         "190.4",
         "192.5",
         "190.0",
         "188.4",
         "186.4",
         "186.5",
         "185.6",
         "186.2",
         "185.4",
         "170.1",
         "182.1",
         "171.4",
         "184.8",
         "174.1",
         "173.1",
         "176.1",
         "176.6",
         "176.6",
         "158.6",
         "177.8",
         "177.4",
         "188.2",
         "186.4",
         "191.4",
         "183.6",
         "186.8",
         "190.6",
         "192.1",
         "187.0",
         "179.4",
         "180.0",
         "181.4",
         "179.4",
         "178.6",
         "183.1",
         "156.9",
         "159.4",
         "157.0",
         "177.0",
         "176.4",
         "156.5",
         "177.4",
         "174.5",
         "173.4",
         "172.4",
         "190.5",
         "189.5",
         "188.0",
         "135.0",
         "193.1",
         "133.5",
         "186.5",
         "137.5",
         "188.5",
         "135.0",
         "129.9",
         "186.0",
         "187.4",
         "188.1",
         "189.2",
         "182.8",
         "136.0",
         "134.4",
         "135.9",
         "134.8",
         "188.2",
         "135.2",
         "139.8",
         "187.6",
         "183.1",
         "134.6",
         "181.8",
         "132.5",
         "142.8",
         "181.4",
         "182.0",
         "179.5",
         "182.6",
         "180.6",
         "182.6",
         "188.0",
         "181.9",
         "181.6",
         "182.5",
         "178.1",
         "134.2",
         "180.8",
         "133.0",
         "181.2",
         "176.8",
         "177.5",
         "133.0",
         "176.0",
         "179.0",
         "177.1",
         "178.5",
         "178.8",
         "183.9",
         "187.2",
         "130.4",
         "189.0",
         "190.1",
         "190.5",
         "189.6",
         "191.2",
         "191.2",
         "185.2",
         "193.8",
         "190.1",
         "193.4",
         "142.0",
         "193.2",
         "193.0",
         "131.8",
         "192.0",
         "193.2",
         "192.9",
         "192.4",
         "191.5",
         "188.1",
         "189.6",
         "187.5",
         "189.4",
         "188.0",
         "141.2",
         "191.9",
         "143.0",
         "185.0",
         "142.0",
         "184.9",
         "192.5",
         "189.2",
         "189.6",
         "185.4",
         "180.6",
         "175.2",
         "179.1",
         "181.2",
         "179.8",
         "181.5",
         "181.4",
         "180.2",
         "186.5",
         "185.5",
         "182.2",
         "181.9",
         "182.6",
         "180.8",
         "145.9",
         "153.0",
         "182.4",
         "145.0",
         "177.9",
         "153.1",
         "153.0",
         "178.2",
         "152.2",
         "152.1",
         "176.9",
         "150.2",
         "144.4",
         "151.9",
         "149.4",
         "180.5",
         "151.1",
         "148.8",
         "149.6",
         "181.0",
         "182.6",
         "150.4",
         "185.4",
         "185.6",
         "182.1",
         "182.0",
         "180.5",
         "175.2",
         "175.6",
         "177.4",
         "174.5",
         "176.4",
         "175.4",
         "174.4",
         "57.16",
         "52.78",
         "195.5",
         "195.2",
         "193.6",
         "30.17",
         "194.9",
         "194.2",
         "192.4",
         "184.4",
         "166.1",
         "165.4",
         "185.9",
         "66.44",
         "194.8",
         "195.5",
         "188.9",
         "185.1",
         "189.9",
         "195.6",
         "134.9",
         "136.1",
         "137.0",
         "189.4",
         "138.8",
         "137.4",
         "133.5",
         "135.4",
         "136.5",
         "139.0",
         "139.6",
         "149.1",
         "148.4",
         "151.6",
         "152.5",
         "146.2",
         "145.5",
         "150.0",
         "149.0",
         "149.2",
         "147.6",
         "77.6",
         "76.56",
         "77.94",
         "80.6",
         "74.44",
         "75.94",
         "74.6",
         "77.5",
         "83.0",
         "172.2",
         "172.0",
         "172.0",
         "173.0",
         "176.4",
         "173.2",
         "172.4",
         "169.2",
         "170.4",
         "171.5",
         "166.2",
         "169.5",
         "171.4",
         "172.2",
         "171.4",
         "170.4",
         "171.2",
         "170.6",
         "173.8",
         "175.8",
         "168.5",
         "182.6",
         "174.9",
         "173.1",
         "171.2",
         "180.4",
         "183.6",
         "174.4",
         "178.2",
         "177.1",
         "179.2",
         "182.0",
         "182.6",
         "172.8",
         "174.5",
         "175.1",
         "176.0",
         "175.1",
         "176.0",
         "175.8",
         "180.0",
         "183.2",
         "183.8",
         "182.6",
         "184.2",
         "181.8",
         "187.0",
         "180.0",
         "181.8",
         "187.1",
         "186.0",
         "182.1",
         "184.2",
         "184.8",
         "182.2",
         "185.2",
         "188.1",
         "185.8",
         "188.8",
         "175.1",
         "176.8",
         "176.0",
         "177.4",
         "170.2",
         "177.9",
         "182.8",
         "174.5",
         "174.5",
         "173.6",
         "170.6",
         "171.8",
         "176.0",
         "173.6",
         "175.9",
         "180.1",
         "180.4",
         "181.1",
         "169.2",
         "168.2",
         "169.0",
         "163.4",
         "163.6",
         "169.6",
         "165.2",
         "170.0",
         "171.4",
         "169.6",
         "170.1",
         "169.2",
         "169.0",
         "170.9",
         "168.1",
         "168.9",
         "170.9",
         "162.1",
         "179.4",
         "167.2",
         "161.5",
         "166.9",
         "167.1",
         "182.5",
         "185.0",
         "167.5",
         "166.4",
         "184.2",
         "161.9",
         "162.1",
         "185.8",
         "184.2",
         "180.0",
         "167.8",
         "166.1",
         "167.0",
         "190.5",
         "165.0",
         "167.5",
         "182.9",
         "165.4",
         "166.2",
         "167.6",
         "164.5",
         "163.9",
         "166.8",
         "182.8",
         "166.1",
         "163.0",
         "163.8",
         "183.1",
         "173.1",
         "172.4",
         "27.69",
         "177.1",
         "175.1",
         "175.6",
         "174.9",
         "178.4",
         "166.8",
         "159.6",
         "166.8",
         "160.8",
         "167.4",
         "194.9",
         "194.4",
         "161.4",
         "161.8",
         "194.4",
         "195.8",
         "190.9",
         "169.0",
         "193.6",
         "191.2",
         "170.6",
         "190.0",
         "188.8",
         "189.6",
         "167.5",
         "188.9",
         "189.1",
         "168.0",
         "190.4",
         "172.8",
         "192.6",
         "169.8",
         "170.6",
         "171.5",
         "190.5",
         "188.9",
         "189.8",
         "191.2",
         "192.2",
         "158.4",
         "155.0",
         "170.8",
         "157.4",
         "175.9",
         "176.1",
         "175.6",
         "177.8",
         "179.0",
         "175.2",
         "175.4",
         "176.4",
         "179.5",
         "180.1",
         "177.2",
         "177.5",
         "175.6",
         "158.0",
         "161.2",
         "177.8",
         "177.5",
         "161.5",
         "180.6",
         "161.5",
         "157.6",
         "177.1",
         "158.8",
         "173.0",
         "160.6",
         "175.1",
         "158.5",
         "176.6",
         "175.2",
         "179.5",
         "177.5",
         "176.1",
         "178.2",
         "174.6",
         "176.1",
         "174.2",
         "171.9",
         "182.0",
         "173.0",
         "172.5",
         "172.5",
         "170.0",
         "169.4",
         "171.4",
         "172.9",
         "173.9",
         "172.0",
         "171.1",
         "172.9",
         "62.22",
         "62.1",
         "66.4",
         "68.94",
         "66.3",
         "74.1",
         "62.5",
         "60.75",
         "60.66",
         "58.34",
         "59.94",
         "60.06",
         "63.62",
         "183.5",
         "181.2",
         "58.84",
         "181.2",
         "180.5",
         "58.3",
         "180.1",
         "181.0",
         "64.8",
         "181.8",
         "182.5",
         "183.4",
         "47.22",
         "184.1",
         "49.2",
         "47.25",
         "185.5",
         "184.6",
         "46.22",
         "180.0",
         "180.9",
         "181.6",
         "184.0",
         "192.6",
         "193.4",
         "195.9",
         "195.5",
         "196.8",
         "195.1",
         "195.8",
         "192.8",
         "198.2",
         "196.8",
         "198.0",
         "194.4",
         "200.6",
         "198.2",
         "198.9",
         "195.9",
         "199.6",
         "197.5",
         "200.6",
         "194.1",
         "197.4",
         "195.6",
         "199.0",
         "199.8",
         "199.1",
         "198.0",
         "199.6",
         "199.4",
         "162.0",
         "162.8",
         "152.1",
         "164.6",
         "163.5",
         "164.0",
         "161.6",
         "168.2",
         "176.9",
         "177.8",
         "177.9",
         "176.2",
         "180.0",
         "172.0",
         "170.6",
         "170.4",
         "170.5",
         "169.6",
         "166.9",
         "166.9",
         "168.9",
         "167.6",
         "167.1",
         "167.5",
         "168.2",
         "182.0",
         "80.1",
         "83.3",
         "79.2",
         "187.0",
         "187.9",
         "186.1",
         "183.6",
         "188.8",
         "189.5",
         "170.5",
         "168.2",
         "170.0",
         "168.8",
         "184.4",
         "172.2",
         "167.2",
         "191.0",
         "187.0",
         "190.5",
         "190.2",
         "187.8",
         "167.5",
         "57.3",
         "58.84",
         "187.9",
         "185.5",
         "71.7",
         "55.56",
         "53.16",
         "187.0",
         "60.8",
         "186.4",
         "183.2",
         "188.5",
         "189.1",
         "69.06",
         "185.5",
         "186.4",
         "62.47",
         "67.5",
         "187.2",
         "66.3",
         "70.5",
         "63.38",
         "64.6",
         "67.06",
         "93.2",
         "89.8",
         "96.6",
         "93.9",
         "90.0",
         "158.8",
         "157.6",
         "159.0",
         "159.8",
         "158.4",
         "160.4",
         "159.8",
         "161.2",
         "164.1",
         "164.0",
         "163.6",
         "162.0",
         "159.6",
         "162.1",
         "163.6",
         "159.8",
         "161.2",
         "161.4",
         "160.6",
         "159.2",
         "167.4",
         "168.0",
         "152.1",
         "158.0",
         "165.8",
         "162.6",
         "160.4",
         "161.1",
         "167.6",
         "175.4",
         "153.2",
         "157.5",
         "154.8",
         "155.1",
         "167.8",
         "166.9",
         "167.9",
         "170.1",
         "173.2",
         "167.2",
         "167.0",
         "174.5",
         "75.8",
         "78.2",
         "72.25",
         "52.16",
         "159.8",
         "160.8",
         "161.0",
         "163.6",
         "159.5",
         "162.2",
         "157.9",
         "158.4",
         "155.8",
         "162.1",
         "157.0",
         "161.6",
         "77.56",
         "160.5",
         "161.9",
         "157.4",
         "162.4",
         "162.5",
         "163.2",
         "156.1",
         "162.4",
         "157.9",
         "162.4",
         "164.5",
         "160.8",
         "114.25",
         "75.06",
         "161.0",
         "74.25",
         "76.0",
         "161.2",
         "163.6",
         "75.6",
         "170.5",
         "164.9",
         "171.9",
         "165.4",
         "71.1",
         "69.9",
         "69.94",
         "68.56",
         "165.8",
         "166.2",
         "162.9",
         "167.2",
         "170.2",
         "161.9",
         "168.9",
         "171.1",
         "172.0",
         "167.5",
         "169.6",
         "169.6",
         "170.2",
         "168.6",
         "167.1",
         "170.4",
         "170.9",
         "173.8",
         "173.8",
         "172.2",
         "172.9",
         "170.0",
         "172.5",
         "169.1",
         "168.8",
         "162.0",
         "164.1",
         "169.9",
         "170.5",
         "173.0",
         "168.4",
         "170.0",
         "173.8",
         "171.4",
         "165.0",
         "168.0",
         "168.9",
         "173.9",
         "172.4",
         "178.5",
         "173.8",
         "169.5",
         "168.4",
         "164.5",
         "169.4",
         "171.8",
         "72.7",
         "176.1",
         "176.9",
         "50.5",
         "53.56",
         "179.6",
         "173.5",
         "173.1",
         "90.44",
         "70.7",
         "69.3",
         "59.97",
         "54.53",
         "59.53",
         "52.5",
         "52.34",
         "53.88",
         "57.84",
         "54.6",
         "60.97",
         "56.44",
         "82.7",
         "72.3",
         "74.0",
         "70.94",
         "53.5",
         "90.56",
         "91.2",
         "95.3",
         "94.25",
         "81.4",
         "78.8",
         "77.56",
         "188.0",
         "179.0",
         "167.5",
         "44.3",
         "98.9",
         "76.0",
         "70.0",
         "68.75",
         "74.44",
         "71.8",
         "68.7",
         "71.5",
         "69.06",
         "69.4",
         "145.0",
         "143.6",
         "143.2",
         "144.2",
         "143.5",
         "136.5",
         "137.6",
         "143.2",
         "138.2",
         "137.2",
         "139.0",
         "144.1",
         "147.0",
         "143.2",
         "146.1",
         "143.4",
         "140.2",
         "140.9",
         "148.6",
         "139.6",
         "140.5",
         "141.9",
         "141.0",
         "141.0",
         "142.0",
         "142.6",
         "140.2",
         "138.8",
         "137.9",
         "135.8",
         "75.1",
         "75.25",
         "146.4",
         "142.2",
         "141.6",
         "143.2",
         "139.9",
         "134.1",
         "135.5",
         "136.9",
         "137.6",
         "134.5",
         "138.2",
         "135.2",
         "139.6",
         "132.0",
         "121.3",
         "82.5",
         "82.25",
         "81.56",
         "141.9",
         "139.6",
         "139.9",
         "121.8",
         "130.0",
         "133.1",
         "133.8",
         "133.1",
         "140.4",
         "139.2",
         "77.9",
         "78.6",
         "140.0",
         "114.44",
         "109.7",
         "105.44",
         "148.0",
         "132.6",
         "141.2",
         "56.5",
         "149.5",
         "144.5",
         "142.0",
         "146.6",
         "142.9",
         "143.1",
         "145.0",
         "144.2",
         "146.1",
         "147.4",
         "150.6",
         "153.5",
         "155.5",
         "148.1",
         "148.6",
         "150.1",
         "156.6",
         "153.9",
         "154.2",
         "152.4",
         "95.7",
         "148.6",
         "144.6",
         "148.6",
         "156.9",
         "156.9",
         "89.1",
         "91.25",
         "160.4",
         "90.5",
         "149.8",
         "149.0",
         "149.2",
         "151.6",
         "149.5",
         "150.5",
         "148.6",
         "151.4",
         "151.6",
         "149.0",
         "148.5",
         "147.0",
         "147.8",
         "149.2",
         "75.0",
         "75.3",
         "77.06",
         "85.75",
         "84.75",
         "82.94",
         "147.5",
         "147.6",
         "146.5",
         "150.6",
         "150.4",
         "151.0",
         "150.1",
         "154.4",
         "151.5",
         "152.4",
         "148.2",
         "150.9",
         "150.5",
         "157.5",
         "153.8",
         "72.94",
         "69.25",
         "154.4",
         "149.8",
         "156.5",
         "65.9",
         "152.8",
         "155.4",
         "68.3",
         "156.2",
         "48.9",
         "79.06",
         "84.6",
         "76.6",
         "74.75",
         "74.06",
         "73.9",
         "67.9",
         "169.2",
         "176.0",
         "173.9",
         "173.6",
         "176.1",
         "173.4",
         "172.4",
         "174.1",
         "174.5",
         "175.2",
         "174.0",
         "170.9",
         "172.5",
         "172.2",
         "156.2",
         "155.9",
         "157.0",
         "158.5",
         "155.4",
         "149.8",
         "152.5",
         "159.5",
         "58.8",
         "93.8",
         "158.4",
         "159.1",
         "156.6",
         "157.4",
         "159.8",
         "160.0",
         "79.8",
         "44.53",
         "67.1",
         "74.56",
         "66.4",
         "67.0",
         "75.5",
         "141.5",
         "156.1",
         "160.0",
         "119.56",
         "74.4",
         "54.1",
         "74.1",
         "73.25",
         "74.06",
         "73.8",
         "74.2",
         "70.8",
         "70.75",
         "58.1",
         "76.8",
         "137.2",
         "117.94",
         "126.44",
         "124.6",
         "126.3",
         "125.3",
         "125.2",
         "123.94",
         "120.7",
         "121.2",
         "119.8",
         "124.2",
         "113.6",
         "116.56",
         "125.06",
         "124.44",
         "115.7",
         "119.4",
         "127.44",
         "127.0",
         "125.9",
         "121.25",
         "114.75",
         "120.4",
         "134.9",
         "128.9",
         "133.8",
         "132.4",
         "142.6",
         "143.6",
         "139.2",
         "140.8",
         "135.9",
         "127.2",
         "141.2",
         "131.1",
         "134.9",
         "135.1",
         "136.8",
         "126.25",
         "131.1",
         "130.2",
         "130.5",
         "130.2",
         "133.9",
         "135.1",
         "134.5",
         "133.9",
         "132.9",
         "135.5",
         "135.9",
         "138.9",
         "125.44",
         "126.25",
         "128.2",
         "131.0",
         "134.2",
         "135.2",
         "133.8",
         "134.8",
         "134.0",
         "126.3",
         "125.25",
         "127.9",
         "128.6",
         "136.8",
         "136.1",
         "131.5",
         "136.5",
         "134.1",
         "131.0",
         "131.5",
         "133.5",
         "138.4",
         "137.2",
         "139.5",
         "140.0",
         "135.2",
         "135.2",
         "125.8",
         "125.3",
         "133.0",
         "131.8",
         "126.7",
         "127.25",
         "141.0",
         "141.4",
         "131.5",
         "130.6",
         "131.6",
         "131.6",
         "130.4",
         "135.6",
         "135.5",
         "136.0",
         "135.2",
         "133.2",
         "133.2",
         "134.4",
         "133.1",
         "133.8",
         "133.6",
         "133.9",
         "129.8",
         "133.1",
         "134.5",
         "134.1",
         "133.8",
         "125.75",
         "125.75",
         "135.0",
         "141.9",
         "142.6",
         "133.5",
         "133.9",
         "125.56",
         "135.0",
         "119.4",
         "121.5",
         "118.3",
         "118.0",
         "119.7",
         "121.44",
         "114.94",
         "116.6",
         "120.8",
         "125.6",
         "127.94",
         "130.2",
         "109.1",
         "121.7",
         "120.56",
         "126.06",
         "126.6",
         "121.25",
         "130.9",
         "130.8",
         "133.4",
         "132.8",
         "132.8",
         "132.5",
         "132.8",
         "132.8",
         "131.8",
         "131.6",
         "131.8",
         "131.8",
         "130.9",
         "130.9",
         "131.5",
         "132.5",
         "132.0",
         "132.5",
         "132.0",
         "135.2",
         "135.1",
         "135.5",
         "134.9",
         "135.1",
         "136.0",
         "137.4",
         "136.5",
         "136.2",
         "133.5",
         "135.4",
         "135.6",
         "139.0",
         "138.6",
         "138.5",
         "138.5",
         "138.0",
         "137.6",
         "138.1",
         "137.2",
         "115.3",
         "132.1"
        ],
        [
         "4",
         "118.75",
         "85.9",
         "113.3",
         "175.2",
         "0.0",
         "47.9",
         "21.69",
         "69.56",
         "15.15",
         "18.11",
         "119.8",
         "83.75",
         "149.2",
         "34.72",
         "30.47",
         "71.3",
         "101.4",
         "100.25",
         "216.4",
         "164.1",
         "132.5",
         "105.0",
         "123.9",
         "119.44",
         "105.25",
         "194.5",
         "143.6",
         "48.88",
         "42.44",
         "40.28",
         "34.44",
         "130.5",
         "126.1",
         "107.7",
         "135.0",
         "134.1",
         "135.1",
         "128.5",
         "78.8",
         "94.75",
         "103.9",
         "130.9",
         "131.0",
         "153.9",
         "116.5",
         "104.56",
         "182.8",
         "125.7",
         "129.1",
         "134.0",
         "124.06",
         "134.4",
         "81.9",
         "122.2",
         "97.25",
         "127.06",
         "118.3",
         "115.3",
         "91.9",
         "92.25",
         "91.44",
         "91.6",
         "90.06",
         "117.25",
         "112.1",
         "132.6",
         "131.8",
         "27.16",
         "86.44",
         "158.8",
         "154.9",
         "110.4",
         "81.7",
         "86.75",
         "89.4",
         "116.44",
         "120.75",
         "83.0",
         "127.44",
         "78.9",
         "149.2",
         "159.1",
         "134.4",
         "157.4",
         "15.32",
         "15.11",
         "89.3",
         "114.9",
         "85.5",
         "167.0",
         "129.5",
         "155.5",
         "144.1",
         "161.1",
         "141.4",
         "80.4",
         "158.2",
         "144.0",
         "136.4",
         "151.9",
         "170.1",
         "90.7",
         "90.6",
         "128.8",
         "152.4",
         "135.2",
         "102.4",
         "122.8",
         "146.9",
         "121.9",
         "92.3",
         "91.9",
         "105.25",
         "70.4",
         "151.2",
         "107.2",
         "99.6",
         "91.3",
         "109.9",
         "151.4",
         "129.8",
         "122.7",
         "131.8",
         "97.1",
         "80.1",
         "137.2",
         "116.1",
         "131.4",
         "131.4",
         "115.5",
         "85.6",
         "82.0",
         "86.2",
         "84.3",
         "80.4",
         "85.06",
         "86.6",
         "80.3",
         "77.75",
         "78.2",
         "108.56",
         "105.5",
         "104.44",
         "103.8",
         "99.5",
         "171.8",
         "150.1",
         "146.1",
         "126.7",
         "143.8",
         "116.44",
         "95.44",
         "93.8",
         "121.0",
         "124.25",
         "12.39",
         "10.93",
         "14.96",
         "9.47",
         "15.62",
         "154.4",
         "163.2",
         "138.6",
         "144.8",
         "190.9",
         "211.5",
         "138.8",
         "152.1",
         "158.8",
         "139.1",
         "138.5",
         "136.5",
         "141.1",
         "140.4",
         "138.9",
         "211.5",
         "118.75",
         "112.06",
         "120.4",
         "112.7",
         "147.5",
         "143.8",
         "150.9",
         "134.5",
         "127.44",
         "127.0",
         "116.75",
         "121.8",
         "130.5",
         "121.75",
         "132.6",
         "132.4",
         "131.1",
         "131.2",
         "753.5",
         "140.9",
         "117.6",
         "142.8",
         "119.5",
         "148.4",
         "145.6",
         "188.1",
         "146.0",
         "137.6",
         "147.9",
         "146.0",
         "147.8",
         "163.6",
         "155.2",
         "164.8",
         "155.9",
         "183.6",
         "176.1",
         "178.1",
         "176.1",
         "176.1",
         "187.8",
         "183.2",
         "183.6",
         "175.2",
         "89.4",
         "132.6",
         "125.56",
         "120.2",
         "106.75",
         "111.8",
         "116.9",
         "98.44",
         "103.2",
         "99.25",
         "102.6",
         "87.5",
         "87.56",
         "78.5",
         "78.75",
         "76.6",
         "76.0",
         "102.1",
         "105.2",
         "103.9",
         "119.2",
         "123.3",
         "106.44",
         "94.75",
         "76.44",
         "126.1",
         "133.1",
         "160.1",
         "171.4",
         "157.8",
         "146.4",
         "144.9",
         "141.0",
         "139.5",
         "122.56",
         "119.8",
         "121.3",
         "139.1",
         "134.0",
         "231.1",
         "17.31",
         "131.4",
         "137.6",
         "153.8",
         "184.5",
         "178.5",
         "183.6",
         "179.0",
         "134.1",
         "110.44",
         "100.25",
         "131.9",
         "134.6",
         "132.1",
         "133.4",
         "128.9",
         "132.5",
         "131.8",
         "129.4",
         "131.5",
         "133.9",
         "135.2",
         "18.36",
         "13.55",
         "12.33",
         "31.03",
         "15.95",
         "24.88",
         "27.5",
         "37.88",
         "24.77",
         "28.34",
         "17.61",
         "20.7",
         "21.84",
         "15.375",
         "172.6",
         "130.2",
         "156.4",
         "164.0",
         "133.1",
         "122.56",
         "113.94",
         "122.1",
         "122.5",
         "106.6",
         "105.8",
         "155.0",
         "144.9",
         "147.2",
         "155.0",
         "171.0",
         "172.2",
         "25.69",
         "136.2",
         "135.1",
         "133.2",
         "122.3",
         "139.2",
         "129.8",
         "127.25",
         "117.4",
         "120.2",
         "152.2",
         "149.8",
         "153.6",
         "154.5",
         "152.1",
         "157.1",
         "124.1",
         "118.75",
         "117.8",
         "93.25",
         "93.75",
         "82.9",
         "180.8",
         "178.0",
         "136.1",
         "141.8",
         "173.0",
         "173.0",
         "85.25",
         "99.1",
         "172.2",
         "174.9",
         "175.5",
         "175.5",
         "174.8",
         "173.0",
         "173.5",
         "172.6",
         "172.0",
         "179.5",
         "178.4",
         "187.8",
         "126.7",
         "125.9",
         "114.7",
         "29.75",
         "31.39",
         "30.14",
         "14.08",
         "21.53",
         "16.45",
         "16.34",
         "20.06",
         "15.37",
         "17.4",
         "16.81",
         "17.98",
         "16.97",
         "125.3",
         "16.2",
         "12.984",
         "159.5",
         "98.5",
         "99.06",
         "99.2",
         "99.1",
         "98.25",
         "117.0",
         "117.94",
         "126.06",
         "131.6",
         "114.75",
         "109.06",
         "114.94",
         "144.9",
         "141.9",
         "87.5",
         "95.4",
         "135.6",
         "138.4",
         "136.5",
         "133.9",
         "134.4",
         "102.75",
         "139.1",
         "144.0",
         "144.1",
         "147.1",
         "98.9",
         "99.8",
         "108.1",
         "102.2",
         "102.0",
         "101.4",
         "104.2",
         "108.9",
         "104.8",
         "111.8",
         "112.94",
         "113.9",
         "87.56",
         "87.1",
         "84.7",
         "154.0",
         "153.4",
         "155.1",
         "42.28",
         "48.3",
         "155.2",
         "157.0",
         "140.1",
         "145.0",
         "141.5",
         "142.0",
         "142.4",
         "36.0",
         "178.4",
         "122.7",
         "118.6",
         "120.56",
         "121.94",
         "123.8",
         "148.0",
         "130.8",
         "142.1",
         "145.2",
         "113.0",
         "110.8",
         "109.2",
         "112.7",
         "112.56",
         "108.1",
         "105.4",
         "104.25",
         "107.8",
         "108.06",
         "103.7",
         "120.75",
         "124.7",
         "124.5",
         "123.6",
         "120.4",
         "111.94",
         "111.94",
         "111.9",
         "111.06",
         "116.56",
         "117.06",
         "109.2",
         "110.06",
         "113.2",
         "112.56",
         "117.9",
         "118.1",
         "118.94",
         "115.25",
         "115.8",
         "112.9",
         "114.0",
         "108.4",
         "108.44",
         "115.44",
         "116.25",
         "113.7",
         "114.75",
         "115.56",
         "112.75",
         "117.6",
         "118.9",
         "117.6",
         "115.6",
         "114.75",
         "114.6",
         "117.5",
         "102.56",
         "147.8",
         "147.8",
         "150.6",
         "150.6",
         "150.8",
         "151.1",
         "149.9",
         "141.8",
         "143.1",
         "140.5",
         "125.8",
         "125.8",
         "59.06",
         "57.0",
         "53.88",
         "55.12",
         "55.8",
         "56.72",
         "53.12",
         "52.25",
         "53.72",
         "53.16",
         "49.47",
         "130.8",
         "126.6",
         "131.0",
         "134.6",
         "130.0",
         "136.6",
         "129.9",
         "134.4",
         "131.8",
         "137.2",
         "135.1",
         "137.8",
         "136.6",
         "137.1",
         "142.0",
         "150.6",
         "150.6",
         "145.8",
         "149.8",
         "154.4",
         "154.4",
         "153.6",
         "149.8",
         "157.5",
         "158.4",
         "153.4",
         "155.8",
         "156.2",
         "150.4",
         "159.6",
         "156.9",
         "154.8",
         "133.0",
         "133.8",
         "133.8",
         "132.5",
         "135.2",
         "133.8",
         "135.0",
         "136.0",
         "134.6",
         "131.2",
         "136.6",
         "136.0",
         "135.9",
         "131.8",
         "138.9",
         "137.4",
         "137.5",
         "132.9",
         "134.8",
         "134.2",
         "133.5",
         "139.4",
         "138.1",
         "134.2",
         "133.5",
         "134.6",
         "135.2",
         "133.2",
         "139.1",
         "139.1",
         "139.6",
         "138.1",
         "136.9",
         "139.9",
         "139.0",
         "138.9",
         "137.6",
         "137.6",
         "139.6",
         "138.8",
         "140.2",
         "136.5",
         "138.4",
         "137.1",
         "136.5",
         "141.4",
         "144.2",
         "141.8",
         "140.5",
         "139.1",
         "140.5",
         "139.8",
         "142.5",
         "138.6",
         "143.4",
         "140.9",
         "142.8",
         "144.2",
         "144.8",
         "140.1",
         "145.8",
         "141.6",
         "144.2",
         "146.4",
         "143.0",
         "142.4",
         "146.2",
         "145.1",
         "150.0",
         "139.0",
         "140.5",
         "140.5",
         "146.4",
         "142.6",
         "147.0",
         "144.0",
         "148.8",
         "145.8",
         "142.6",
         "144.6",
         "144.5",
         "145.4",
         "146.8",
         "147.8",
         "145.5",
         "146.2",
         "147.8",
         "148.2",
         "143.2",
         "142.6",
         "147.1",
         "143.0",
         "148.0",
         "142.5",
         "148.9",
         "146.1",
         "147.6",
         "146.8",
         "146.1",
         "147.2",
         "148.8",
         "147.6",
         "144.9",
         "144.0",
         "152.8",
         "145.2",
         "152.0",
         "153.5",
         "153.5",
         "152.0",
         "155.9",
         "154.6",
         "155.1",
         "151.6",
         "155.4",
         "155.1",
         "155.8",
         "152.1",
         "150.6",
         "155.6",
         "155.4",
         "151.4",
         "154.8",
         "151.4",
         "154.1",
         "150.5",
         "154.5",
         "155.0",
         "151.6",
         "154.2",
         "152.1",
         "152.9",
         "154.9",
         "155.6",
         "153.1",
         "155.8",
         "156.1",
         "154.9",
         "154.1",
         "152.8",
         "155.2",
         "146.5",
         "148.1",
         "152.2",
         "151.1",
         "147.0",
         "153.2",
         "154.6",
         "151.8",
         "149.9",
         "152.5",
         "145.6",
         "148.5",
         "144.2",
         "161.5",
         "158.8",
         "161.2",
         "156.6",
         "159.9",
         "154.6",
         "156.0",
         "155.2",
         "157.1",
         "156.4",
         "153.2",
         "155.0",
         "151.9",
         "151.9",
         "147.2",
         "147.9",
         "151.1",
         "150.4",
         "161.4",
         "161.2",
         "159.9",
         "162.9",
         "159.2",
         "159.2",
         "158.5",
         "157.8",
         "160.2",
         "159.0",
         "155.8",
         "160.8",
         "168.0",
         "167.1",
         "167.2",
         "162.6",
         "161.9",
         "163.1",
         "162.4",
         "162.4",
         "166.4",
         "168.0",
         "165.8",
         "166.2",
         "164.5",
         "161.2",
         "164.0",
         "160.8",
         "164.6",
         "164.0",
         "163.8",
         "166.9",
         "168.4",
         "171.9",
         "170.6",
         "167.5",
         "167.5",
         "165.9",
         "165.8",
         "165.0",
         "166.9",
         "167.5",
         "169.1",
         "169.1",
         "170.9",
         "168.2",
         "163.2",
         "162.9",
         "167.2",
         "164.6",
         "168.2",
         "165.8",
         "164.8",
         "168.2",
         "170.2",
         "169.4",
         "167.4",
         "170.4",
         "166.6",
         "167.8",
         "175.1",
         "163.1",
         "165.8",
         "171.6",
         "172.0",
         "168.5",
         "174.1",
         "163.4",
         "161.8",
         "170.1",
         "170.1",
         "164.1",
         "164.9",
         "166.1",
         "172.5",
         "169.2",
         "169.2",
         "165.6",
         "166.0",
         "172.5",
         "167.9",
         "168.5",
         "167.9",
         "169.4",
         "170.1",
         "167.2",
         "168.0",
         "173.4",
         "166.5",
         "174.1",
         "172.5",
         "164.4",
         "172.9",
         "168.8",
         "168.6",
         "176.4",
         "179.4",
         "173.2",
         "174.9",
         "174.0",
         "177.0",
         "178.1",
         "182.1",
         "178.1",
         "177.2",
         "184.2",
         "182.8",
         "182.1",
         "184.8",
         "182.4",
         "168.4",
         "171.1",
         "171.6",
         "171.2",
         "171.9",
         "170.4",
         "180.5",
         "175.1",
         "182.2",
         "43.12",
         "42.78",
         "47.72",
         "44.0",
         "45.97",
         "44.7",
         "52.0",
         "57.4",
         "51.38",
         "56.7",
         "54.3",
         "57.2",
         "54.34",
         "52.88",
         "56.22",
         "55.62",
         "52.97",
         "56.0",
         "56.16",
         "56.94",
         "55.62",
         "55.12",
         "57.97",
         "53.66",
         "53.53",
         "53.47",
         "52.88",
         "51.9",
         "53.88",
         "48.6",
         "50.84",
         "53.62",
         "52.28",
         "47.47",
         "48.84",
         "52.28",
         "51.62",
         "117.9",
         "47.22",
         "47.2",
         "47.88",
         "121.06",
         "124.4",
         "119.5",
         "121.75",
         "124.25",
         "124.44",
         "125.56",
         "125.0",
         "120.5",
         "119.6",
         "120.5",
         "108.4",
         "111.4",
         "111.9",
         "119.2",
         "112.1",
         "116.1",
         "116.7",
         "113.25",
         "113.5",
         "119.4",
         "118.94",
         "119.8",
         "122.75",
         "121.6",
         "122.9",
         "123.2",
         "117.44",
         "118.06",
         "93.1",
         "95.56",
         "114.75",
         "115.56",
         "114.3",
         "86.75",
         "88.3",
         "75.06",
         "71.9",
         "72.9",
         "72.0",
         "75.9",
         "76.0",
         "70.1",
         "70.0",
         "69.7",
         "68.6",
         "50.94",
         "51.62",
         "48.72",
         "50.25",
         "54.8",
         "52.62",
         "54.97",
         "54.03",
         "52.47",
         "52.62",
         "55.84",
         "50.7",
         "52.47",
         "48.66",
         "54.1",
         "47.0",
         "49.47",
         "50.1",
         "49.97",
         "46.2",
         "44.53",
         "45.25",
         "49.88",
         "41.1",
         "42.7",
         "43.25",
         "41.62",
         "40.25",
         "44.03",
         "39.38",
         "41.6",
         "40.7",
         "38.47",
         "54.9",
         "53.12",
         "55.66",
         "56.9",
         "53.88",
         "54.53",
         "53.12",
         "53.03",
         "55.6",
         "37.2",
         "35.5",
         "42.16",
         "45.9",
         "42.2",
         "43.53",
         "44.2",
         "44.53",
         "45.75",
         "43.78",
         "43.94",
         "37.12",
         "37.6",
         "38.38",
         "36.03",
         "39.53",
         "31.69",
         "30.5",
         "25.38",
         "35.88",
         "39.3",
         "36.22",
         "30.03",
         "22.56",
         "130.9",
         "130.0",
         "126.75",
         "123.2",
         "122.7",
         "124.25",
         "122.25",
         "122.5",
         "118.6",
         "117.75",
         "119.06",
         "122.06",
         "120.44",
         "118.56",
         "119.25",
         "118.2",
         "115.1",
         "118.7",
         "115.8",
         "113.5",
         "114.25",
         "114.7",
         "120.75",
         "119.25",
         "119.25",
         "121.44",
         "122.6",
         "119.56",
         "112.5",
         "112.7",
         "118.44",
         "112.7",
         "119.06",
         "119.5",
         "111.8",
         "111.75",
         "117.9",
         "116.7",
         "118.44",
         "119.94",
         "120.9",
         "125.1",
         "124.2",
         "125.8",
         "119.3",
         "117.5",
         "124.6",
         "121.1",
         "118.94",
         "111.3",
         "113.9",
         "113.44",
         "115.44",
         "112.4",
         "110.9",
         "113.75",
         "112.4",
         "111.2",
         "115.2",
         "113.0",
         "113.0",
         "111.8",
         "112.4",
         "107.4",
         "111.6",
         "112.8",
         "106.4",
         "124.56",
         "115.8",
         "116.06",
         "119.75",
         "116.75",
         "120.75",
         "116.0",
         "105.44",
         "127.3",
         "128.0",
         "103.7",
         "81.3",
         "67.1",
         "66.6",
         "63.84",
         "69.5",
         "66.5",
         "67.0",
         "65.1",
         "29.69",
         "31.38",
         "31.23",
         "27.67",
         "40.12",
         "37.9",
         "42.1",
         "42.84",
         "48.75",
         "28.66",
         "29.5",
         "36.1",
         "40.56",
         "156.2",
         "154.4",
         "160.2",
         "157.9",
         "158.6",
         "159.6",
         "167.4",
         "166.5",
         "157.6",
         "160.5",
         "163.1",
         "164.0",
         "165.9",
         "173.0",
         "167.5",
         "161.4",
         "156.6",
         "167.2",
         "166.6",
         "165.6",
         "167.6",
         "158.6",
         "165.0",
         "140.9",
         "151.9",
         "142.6",
         "153.9",
         "153.5",
         "151.5",
         "151.0",
         "153.5",
         "67.4",
         "63.44",
         "65.2",
         "63.34",
         "64.44",
         "65.56",
         "62.12",
         "63.44",
         "70.25",
         "63.44",
         "62.1",
         "64.56",
         "62.94",
         "62.06",
         "60.84",
         "66.8",
         "58.22",
         "62.3",
         "63.84",
         "54.84",
         "55.66",
         "58.06",
         "58.62",
         "57.38",
         "44.56",
         "36.84",
         "43.1",
         "44.34",
         "46.12",
         "43.3",
         "42.66",
         "40.1",
         "38.34",
         "45.03",
         "44.25",
         "45.44",
         "45.1",
         "43.94",
         "43.06",
         "32.88",
         "38.12",
         "46.78",
         "35.4",
         "33.56",
         "48.97",
         "44.97",
         "44.9",
         "49.53",
         "42.75",
         "38.0",
         "32.66",
         "33.62",
         "29.61",
         "43.62",
         "135.1",
         "113.56",
         "117.5",
         "110.7",
         "114.25",
         "120.25",
         "115.0",
         "121.0",
         "134.1",
         "31.56",
         "32.0",
         "33.06",
         "35.66",
         "34.94",
         "35.62",
         "168.8",
         "168.2",
         "168.2",
         "169.8",
         "166.8",
         "167.5",
         "151.1",
         "151.4",
         "152.9",
         "161.0",
         "163.9",
         "153.6",
         "163.4",
         "165.4",
         "164.2",
         "165.6",
         "156.4",
         "155.5",
         "169.1",
         "154.2",
         "147.8",
         "149.1",
         "153.6",
         "152.0",
         "172.6",
         "175.2",
         "170.6",
         "147.8",
         "147.4",
         "148.8",
         "149.5",
         "145.8",
         "160.9",
         "151.6",
         "148.4",
         "147.2",
         "146.5",
         "158.2",
         "150.9",
         "150.6",
         "154.5",
         "159.1",
         "152.8",
         "168.1",
         "168.0",
         "168.4",
         "162.5",
         "162.5",
         "170.4",
         "161.4",
         "171.1",
         "172.0",
         "172.8",
         "174.4",
         "175.0",
         "175.0",
         "163.9",
         "162.2",
         "167.1",
         "164.8",
         "168.0",
         "166.8",
         "169.0",
         "166.9",
         "169.1",
         "166.6",
         "167.8",
         "125.94",
         "128.6",
         "125.1",
         "125.2",
         "125.8",
         "125.5",
         "129.2",
         "124.5",
         "125.3",
         "120.06",
         "117.75",
         "117.5",
         "114.94",
         "114.5",
         "112.0",
         "106.25",
         "105.5",
         "107.94",
         "106.2",
         "108.94",
         "105.6",
         "123.56",
         "124.4",
         "120.75",
         "122.3",
         "122.75",
         "122.0",
         "118.7",
         "116.25",
         "122.25",
         "120.0",
         "120.25",
         "111.8",
         "111.9",
         "122.0",
         "122.06",
         "121.0",
         "123.44",
         "127.8",
         "130.9",
         "129.1",
         "131.6",
         "123.6",
         "127.25",
         "130.8",
         "129.1",
         "127.0",
         "128.0",
         "128.2",
         "126.25",
         "125.8",
         "123.8",
         "123.0",
         "92.2",
         "125.6",
         "127.6",
         "126.06",
         "122.2",
         "125.44",
         "126.3",
         "109.75",
         "122.3",
         "123.75",
         "122.6",
         "125.4",
         "112.06",
         "111.75",
         "116.6",
         "120.2",
         "120.4",
         "120.0",
         "115.4",
         "117.56",
         "114.44",
         "119.06",
         "37.34",
         "128.1",
         "134.4",
         "92.56",
         "94.56",
         "123.75",
         "80.06",
         "102.4",
         "104.75",
         "122.6",
         "124.6",
         "97.4",
         "97.0",
         "123.6",
         "147.4",
         "84.44",
         "92.6",
         "90.44",
         "157.8",
         "157.6",
         "117.7",
         "139.8",
         "144.5",
         "177.6",
         "171.0",
         "171.9",
         "177.6",
         "175.9",
         "175.1",
         "166.5",
         "167.9",
         "175.9",
         "176.0",
         "176.8",
         "180.1",
         "173.6",
         "174.0",
         "169.6",
         "180.5",
         "181.9",
         "183.2",
         "177.9",
         "106.7",
         "179.5",
         "180.4",
         "177.1",
         "106.56",
         "173.2",
         "178.9",
         "104.7",
         "105.3",
         "124.0",
         "123.0",
         "123.25",
         "125.44",
         "125.8",
         "125.5",
         "126.3",
         "114.2",
         "118.25",
         "117.4",
         "117.6",
         "117.2",
         "119.0",
         "119.5",
         "114.1",
         "115.6",
         "115.56",
         "103.2",
         "102.7",
         "103.6",
         "103.3",
         "102.6",
         "103.2",
         "99.1",
         "94.1",
         "103.1",
         "103.2",
         "104.7",
         "99.06",
         "37.53",
         "37.38",
         "118.8",
         "115.3",
         "114.8",
         "118.3",
         "115.4",
         "114.25",
         "117.75",
         "117.5",
         "118.56",
         "118.06",
         "118.4",
         "114.0",
         "114.1",
         "118.1",
         "117.44",
         "117.3",
         "116.8",
         "115.94",
         "115.06",
         "116.5",
         "114.3",
         "116.56",
         "115.06",
         "85.6",
         "95.8",
         "95.25",
         "96.1",
         "107.75",
         "110.2",
         "97.44",
         "109.7",
         "110.1",
         "106.56",
         "110.56",
         "80.3",
         "80.4",
         "79.25",
         "118.44",
         "145.8",
         "121.94",
         "121.8",
         "132.2",
         "108.1",
         "113.8",
         "108.8",
         "117.2",
         "108.3",
         "145.5",
         "108.44",
         "46.22",
         "49.12",
         "44.84",
         "47.44",
         "44.94",
         "133.8",
         "47.44",
         "126.06",
         "47.22",
         "104.25",
         "46.22",
         "44.28",
         "116.2",
         "44.84",
         "43.0",
         "36.44",
         "41.6",
         "37.72",
         "42.7",
         "32.53",
         "34.38",
         "32.88",
         "36.47",
         "134.8",
         "128.8",
         "127.94",
         "135.0",
         "39.97",
         "136.5",
         "135.8",
         "37.6",
         "36.16",
         "126.7",
         "134.2",
         "27.23",
         "27.98",
         "133.4",
         "29.06",
         "31.42",
         "28.95",
         "27.05",
         "26.94",
         "36.66",
         "35.03",
         "35.56",
         "37.44",
         "149.6",
         "32.28",
         "150.9",
         "31.6",
         "26.16",
         "25.12",
         "28.17",
         "28.61",
         "28.61",
         "59.66",
         "60.25",
         "56.75",
         "57.0",
         "56.1",
         "59.62",
         "55.3",
         "56.56",
         "58.94",
         "60.3",
         "56.8",
         "48.12",
         "48.78",
         "48.56",
         "48.16",
         "48.44",
         "43.56",
         "136.4",
         "138.9",
         "136.5",
         "45.47",
         "45.66",
         "136.1",
         "44.34",
         "46.34",
         "25.42",
         "18.0",
         "55.8",
         "54.84",
         "56.2",
         "82.56",
         "57.7",
         "82.1",
         "54.75",
         "85.2",
         "52.3",
         "86.5",
         "81.3",
         "54.56",
         "55.56",
         "51.16",
         "52.2",
         "51.56",
         "83.56",
         "81.94",
         "83.44",
         "82.3",
         "51.28",
         "82.94",
         "87.4",
         "50.53",
         "51.6",
         "82.3",
         "50.53",
         "80.06",
         "90.25",
         "51.2",
         "51.8",
         "51.2",
         "52.38",
         "50.44",
         "52.4",
         "56.28",
         "50.7",
         "50.38",
         "51.3",
         "49.88",
         "81.9",
         "52.5",
         "80.7",
         "51.06",
         "48.56",
         "49.22",
         "80.7",
         "47.78",
         "46.4",
         "45.62",
         "47.16",
         "47.5",
         "44.28",
         "46.72",
         "78.0",
         "48.56",
         "49.53",
         "56.4",
         "55.5",
         "46.47",
         "49.3",
         "44.62",
         "60.2",
         "58.7",
         "58.56",
         "89.56",
         "58.78",
         "58.25",
         "87.56",
         "57.75",
         "58.4",
         "58.2",
         "58.12",
         "55.4",
         "47.6",
         "58.38",
         "57.3",
         "57.62",
         "57.88",
         "120.75",
         "57.06",
         "122.56",
         "56.7",
         "121.56",
         "54.72",
         "44.5",
         "41.34",
         "41.66",
         "55.2",
         "50.38",
         "47.03",
         "47.88",
         "33.3",
         "31.78",
         "33.6",
         "33.44",
         "32.28",
         "39.62",
         "37.56",
         "34.3",
         "33.88",
         "34.6",
         "32.88",
         "125.44",
         "132.5",
         "34.4",
         "124.6",
         "30.02",
         "132.6",
         "132.5",
         "30.27",
         "131.8",
         "131.8",
         "28.92",
         "129.8",
         "123.9",
         "131.4",
         "129.0",
         "41.06",
         "130.8",
         "128.2",
         "129.1",
         "39.6",
         "37.72",
         "130.0",
         "38.75",
         "39.06",
         "34.12",
         "34.03",
         "32.5",
         "27.23",
         "27.73",
         "29.4",
         "26.5",
         "28.44",
         "27.45",
         "26.44",
         "151.4",
         "142.2",
         "52.44",
         "51.44",
         "49.94",
         "147.0",
         "51.16",
         "50.56",
         "48.8",
         "47.06",
         "113.75",
         "113.06",
         "45.34",
         "146.5",
         "49.0",
         "48.3",
         "48.22",
         "44.6",
         "42.0",
         "47.66",
         "114.4",
         "115.56",
         "116.44",
         "41.4",
         "118.3",
         "116.9",
         "113.06",
         "114.9",
         "116.06",
         "118.5",
         "119.25",
         "128.8",
         "127.9",
         "131.1",
         "132.0",
         "125.75",
         "125.0",
         "129.5",
         "128.5",
         "128.8",
         "127.2",
         "126.3",
         "125.3",
         "126.6",
         "129.4",
         "123.06",
         "124.56",
         "116.75",
         "119.6",
         "125.1",
         "63.4",
         "63.97",
         "64.0",
         "64.1",
         "55.7",
         "56.7",
         "62.53",
         "59.34",
         "59.1",
         "61.7",
         "60.62",
         "59.66",
         "61.6",
         "62.38",
         "61.62",
         "59.03",
         "58.38",
         "58.5",
         "64.94",
         "55.06",
         "55.6",
         "57.8",
         "54.2",
         "56.47",
         "54.25",
         "54.88",
         "55.5",
         "64.5",
         "52.62",
         "51.66",
         "50.1",
         "53.25",
         "53.3",
         "52.94",
         "49.0",
         "47.47",
         "46.3",
         "49.7",
         "51.44",
         "46.1",
         "45.44",
         "46.97",
         "54.34",
         "50.62",
         "54.8",
         "47.34",
         "51.97",
         "45.47",
         "47.38",
         "50.7",
         "50.9",
         "46.38",
         "46.84",
         "48.8",
         "45.06",
         "47.75",
         "52.22",
         "48.25",
         "52.9",
         "122.7",
         "28.86",
         "28.12",
         "29.45",
         "117.9",
         "29.97",
         "33.03",
         "26.6",
         "26.55",
         "25.66",
         "118.25",
         "23.8",
         "28.11",
         "25.69",
         "26.19",
         "26.44",
         "26.88",
         "27.56",
         "19.84",
         "16.98",
         "19.69",
         "15.266",
         "15.836",
         "20.31",
         "17.19",
         "22.16",
         "23.45",
         "21.81",
         "20.75",
         "21.4",
         "21.2",
         "22.81",
         "20.0",
         "20.95",
         "23.08",
         "21.62",
         "15.22",
         "22.58",
         "21.19",
         "18.83",
         "21.39",
         "18.23",
         "20.77",
         "22.77",
         "22.22",
         "19.95",
         "20.83",
         "21.08",
         "21.56",
         "19.97",
         "15.85",
         "26.66",
         "25.05",
         "26.03",
         "26.2",
         "23.94",
         "26.4",
         "18.62",
         "24.36",
         "25.14",
         "26.64",
         "23.55",
         "22.92",
         "25.8",
         "18.55",
         "25.06",
         "22.58",
         "23.23",
         "18.94",
         "32.25",
         "31.38",
         "147.8",
         "36.1",
         "34.2",
         "27.75",
         "26.92",
         "30.38",
         "25.66",
         "18.7",
         "25.8",
         "19.77",
         "26.31",
         "30.7",
         "30.12",
         "20.28",
         "20.78",
         "30.1",
         "31.42",
         "26.69",
         "24.69",
         "29.45",
         "26.95",
         "27.77",
         "25.75",
         "24.4",
         "25.36",
         "26.4",
         "24.62",
         "24.9",
         "26.98",
         "26.12",
         "31.75",
         "28.4",
         "28.78",
         "29.66",
         "30.52",
         "26.28",
         "24.58",
         "25.56",
         "26.98",
         "28.05",
         "65.7",
         "67.2",
         "22.83",
         "64.56",
         "50.38",
         "50.62",
         "58.84",
         "57.06",
         "38.0",
         "60.94",
         "61.03",
         "35.38",
         "66.5",
         "72.0",
         "24.53",
         "24.78",
         "25.69",
         "68.7",
         "66.2",
         "24.06",
         "23.81",
         "65.6",
         "27.19",
         "63.38",
         "69.56",
         "23.5",
         "62.78",
         "24.94",
         "60.56",
         "24.89",
         "64.06",
         "23.11",
         "21.64",
         "26.0",
         "23.84",
         "22.44",
         "24.66",
         "21.05",
         "22.53",
         "21.72",
         "23.83",
         "28.39",
         "19.36",
         "22.14",
         "22.14",
         "22.02",
         "21.4",
         "23.11",
         "19.38",
         "20.3",
         "18.4",
         "17.47",
         "19.28",
         "129.4",
         "136.9",
         "140.2",
         "140.8",
         "140.4",
         "140.2",
         "132.6",
         "133.2",
         "134.6",
         "136.2",
         "135.4",
         "134.8",
         "131.0",
         "33.7",
         "31.47",
         "130.2",
         "27.72",
         "26.86",
         "135.8",
         "26.55",
         "27.38",
         "132.0",
         "28.12",
         "28.94",
         "28.17",
         "136.1",
         "27.39",
         "137.8",
         "136.1",
         "24.16",
         "25.58",
         "134.8",
         "32.06",
         "32.88",
         "33.72",
         "36.06",
         "28.4",
         "46.94",
         "49.16",
         "49.03",
         "48.38",
         "46.9",
         "45.75",
         "44.47",
         "46.78",
         "45.28",
         "43.44",
         "42.88",
         "44.4",
         "43.72",
         "42.62",
         "41.28",
         "41.8",
         "39.72",
         "41.34",
         "42.56",
         "39.28",
         "40.97",
         "37.66",
         "36.84",
         "37.1",
         "38.22",
         "35.47",
         "36.56",
         "66.0",
         "66.8",
         "63.47",
         "71.44",
         "67.56",
         "70.8",
         "67.5",
         "47.94",
         "62.53",
         "63.38",
         "63.47",
         "61.84",
         "59.25",
         "119.56",
         "60.78",
         "57.62",
         "57.62",
         "56.75",
         "46.0",
         "46.0",
         "44.03",
         "45.25",
         "47.1",
         "45.66",
         "46.47",
         "48.22",
         "160.2",
         "163.4",
         "159.2",
         "44.75",
         "43.97",
         "42.22",
         "44.8",
         "43.2",
         "45.6",
         "22.6",
         "20.31",
         "22.05",
         "20.8",
         "44.03",
         "24.34",
         "19.38",
         "44.06",
         "41.4",
         "37.3",
         "38.25",
         "40.66",
         "19.56",
         "159.5",
         "161.0",
         "36.75",
         "33.53",
         "173.9",
         "157.8",
         "155.4",
         "35.88",
         "163.0",
         "38.34",
         "35.38",
         "27.17",
         "27.7",
         "163.4",
         "32.38",
         "32.53",
         "156.9",
         "162.0",
         "27.78",
         "168.5",
         "172.8",
         "165.6",
         "136.9",
         "139.2",
         "168.4",
         "164.6",
         "171.8",
         "169.0",
         "165.2",
         "138.2",
         "137.1",
         "138.5",
         "139.2",
         "137.9",
         "139.9",
         "139.2",
         "140.8",
         "143.6",
         "143.5",
         "143.1",
         "141.5",
         "139.1",
         "141.6",
         "143.1",
         "139.2",
         "140.9",
         "140.9",
         "140.1",
         "138.8",
         "146.9",
         "147.5",
         "131.6",
         "137.5",
         "145.2",
         "142.1",
         "139.9",
         "140.8",
         "115.25",
         "123.0",
         "132.8",
         "137.0",
         "134.2",
         "134.8",
         "147.2",
         "146.4",
         "147.4",
         "149.6",
         "152.8",
         "146.8",
         "146.6",
         "154.1",
         "143.4",
         "137.4",
         "131.4",
         "154.4",
         "69.75",
         "70.75",
         "71.0",
         "63.9",
         "68.75",
         "68.06",
         "71.75",
         "71.6",
         "73.25",
         "69.94",
         "72.25",
         "69.44",
         "119.75",
         "67.0",
         "67.56",
         "71.1",
         "68.2",
         "64.3",
         "65.1",
         "69.94",
         "68.2",
         "71.75",
         "70.3",
         "72.44",
         "62.5",
         "208.6",
         "123.7",
         "61.25",
         "122.94",
         "124.7",
         "60.03",
         "61.7",
         "124.3",
         "64.94",
         "72.7",
         "64.8",
         "67.25",
         "124.06",
         "126.6",
         "126.7",
         "128.1",
         "79.4",
         "79.94",
         "84.25",
         "78.6",
         "75.6",
         "84.9",
         "77.5",
         "75.25",
         "74.6",
         "77.56",
         "76.7",
         "82.2",
         "81.3",
         "80.75",
         "84.8",
         "80.44",
         "80.7",
         "77.75",
         "74.25",
         "82.06",
         "81.94",
         "80.0",
         "76.4",
         "79.94",
         "80.75",
         "84.9",
         "86.9",
         "75.7",
         "76.25",
         "73.8",
         "76.94",
         "76.7",
         "74.6",
         "76.75",
         "86.6",
         "78.44",
         "79.1",
         "74.8",
         "77.5",
         "82.5",
         "77.4",
         "79.6",
         "78.9",
         "82.7",
         "80.06",
         "78.25",
         "131.8",
         "55.3",
         "56.16",
         "152.8",
         "155.8",
         "64.6",
         "25.6",
         "25.14",
         "165.6",
         "172.9",
         "171.5",
         "162.1",
         "156.8",
         "161.8",
         "154.6",
         "154.5",
         "156.1",
         "160.1",
         "156.9",
         "163.2",
         "158.6",
         "177.0",
         "174.5",
         "176.2",
         "173.1",
         "155.6",
         "170.6",
         "171.2",
         "175.4",
         "174.2",
         "161.4",
         "158.9",
         "157.6",
         "167.5",
         "158.5",
         "147.1",
         "132.9",
         "123.8",
         "124.7",
         "129.8",
         "134.9",
         "140.5",
         "150.6",
         "131.2",
         "151.6",
         "134.0",
         "140.4",
         "124.56",
         "123.2",
         "122.8",
         "123.8",
         "123.0",
         "115.9",
         "117.1",
         "122.8",
         "117.75",
         "116.8",
         "118.5",
         "123.7",
         "126.44",
         "122.6",
         "125.7",
         "123.0",
         "119.75",
         "120.4",
         "128.2",
         "119.2",
         "120.0",
         "121.3",
         "120.5",
         "120.4",
         "121.5",
         "122.2",
         "119.75",
         "118.3",
         "117.4",
         "115.25",
         "143.6",
         "139.5",
         "125.9",
         "121.75",
         "121.06",
         "122.9",
         "119.4",
         "113.7",
         "115.0",
         "116.4",
         "117.06",
         "113.94",
         "117.8",
         "114.75",
         "119.1",
         "111.56",
         "100.8",
         "131.1",
         "130.9",
         "130.2",
         "121.4",
         "119.06",
         "119.5",
         "101.4",
         "109.5",
         "112.6",
         "113.25",
         "112.7",
         "119.94",
         "118.8",
         "126.5",
         "127.25",
         "119.6",
         "134.5",
         "134.6",
         "130.4",
         "127.56",
         "112.2",
         "120.8",
         "138.8",
         "129.0",
         "124.1",
         "121.5",
         "126.25",
         "122.4",
         "122.56",
         "124.56",
         "123.75",
         "125.6",
         "126.94",
         "130.2",
         "133.0",
         "135.0",
         "127.6",
         "128.1",
         "129.6",
         "136.1",
         "133.4",
         "133.8",
         "131.9",
         "170.9",
         "128.1",
         "124.06",
         "128.0",
         "136.4",
         "136.4",
         "164.2",
         "166.4",
         "139.9",
         "165.2",
         "129.2",
         "128.5",
         "128.8",
         "131.1",
         "129.0",
         "130.1",
         "128.1",
         "131.0",
         "131.2",
         "128.6",
         "128.0",
         "126.56",
         "127.25",
         "128.9",
         "141.9",
         "143.8",
         "147.8",
         "134.4",
         "133.5",
         "131.8",
         "126.94",
         "127.25",
         "126.1",
         "130.1",
         "130.0",
         "130.5",
         "129.8",
         "133.9",
         "131.0",
         "131.9",
         "127.75",
         "130.4",
         "130.1",
         "137.0",
         "133.2",
         "167.2",
         "163.8",
         "133.9",
         "129.4",
         "136.0",
         "160.2",
         "132.2",
         "134.9",
         "162.6",
         "135.8",
         "150.2",
         "127.7",
         "133.4",
         "136.0",
         "140.8",
         "133.1",
         "133.6",
         "127.44",
         "148.8",
         "155.6",
         "153.4",
         "153.1",
         "155.6",
         "152.9",
         "151.9",
         "153.6",
         "154.0",
         "154.8",
         "153.5",
         "150.4",
         "152.0",
         "151.8",
         "135.8",
         "135.4",
         "136.5",
         "138.0",
         "134.9",
         "129.2",
         "132.1",
         "139.0",
         "161.1",
         "173.9",
         "137.9",
         "138.6",
         "136.1",
         "136.9",
         "139.2",
         "139.6",
         "122.75",
         "169.4",
         "134.2",
         "123.3",
         "125.94",
         "126.6",
         "124.2",
         "89.1",
         "135.6",
         "139.6",
         "99.06",
         "134.1",
         "156.2",
         "168.6",
         "167.6",
         "168.5",
         "168.2",
         "168.6",
         "165.1",
         "165.2",
         "147.6",
         "147.5",
         "115.8",
         "96.4",
         "104.9",
         "103.0",
         "104.7",
         "103.7",
         "103.56",
         "102.4",
         "99.2",
         "99.6",
         "98.25",
         "102.6",
         "92.1",
         "95.0",
         "103.5",
         "102.9",
         "94.1",
         "97.9",
         "105.9",
         "105.4",
         "104.3",
         "99.7",
         "93.2",
         "98.9",
         "113.3",
         "107.3",
         "112.06",
         "110.75",
         "121.1",
         "122.06",
         "117.75",
         "119.2",
         "115.4",
         "106.8",
         "119.7",
         "110.75",
         "114.44",
         "114.7",
         "116.3",
         "105.8",
         "110.7",
         "109.9",
         "110.1",
         "109.75",
         "113.4",
         "114.7",
         "114.1",
         "113.4",
         "112.4",
         "115.1",
         "115.44",
         "118.44",
         "105.0",
         "105.8",
         "107.8",
         "110.44",
         "113.9",
         "114.75",
         "113.4",
         "114.4",
         "113.56",
         "105.9",
         "104.75",
         "107.44",
         "108.06",
         "116.3",
         "115.6",
         "110.9",
         "116.06",
         "113.7",
         "110.5",
         "110.94",
         "113.06",
         "116.75",
         "116.9",
         "117.94",
         "118.44",
         "114.9",
         "114.8",
         "105.44",
         "104.94",
         "112.56",
         "110.1",
         "106.25",
         "106.75",
         "119.44",
         "119.9",
         "111.0",
         "110.1",
         "111.2",
         "111.2",
         "109.94",
         "115.25",
         "115.06",
         "115.56",
         "114.75",
         "112.75",
         "112.75",
         "113.94",
         "112.7",
         "113.25",
         "113.2",
         "113.4",
         "109.3",
         "112.6",
         "114.0",
         "113.56",
         "113.3",
         "105.3",
         "105.3",
         "114.56",
         "120.3",
         "121.1",
         "113.06",
         "113.3",
         "105.1",
         "114.6",
         "97.9",
         "99.9",
         "96.7",
         "96.4",
         "98.1",
         "99.8",
         "93.4",
         "95.06",
         "99.25",
         "104.06",
         "106.4",
         "108.6",
         "87.56",
         "101.25",
         "100.06",
         "105.56",
         "106.2",
         "100.75",
         "110.4",
         "110.3",
         "112.94",
         "112.3",
         "112.3",
         "112.0",
         "112.25",
         "112.25",
         "111.3",
         "111.2",
         "111.4",
         "111.4",
         "110.4",
         "110.4",
         "111.0",
         "112.06",
         "111.56",
         "112.0",
         "111.56",
         "113.6",
         "113.56",
         "113.94",
         "113.3",
         "113.56",
         "114.5",
         "115.8",
         "116.06",
         "115.75",
         "113.06",
         "113.8",
         "114.06",
         "117.3",
         "117.06",
         "116.9",
         "116.9",
         "116.44",
         "116.06",
         "116.5",
         "116.9",
         "93.75",
         "111.7"
        ]
       ],
       "shape": {
        "columns": 2653,
        "rows": 5
       }
      },
      "text/html": [
       "<div>\n",
       "<style scoped>\n",
       "    .dataframe tbody tr th:only-of-type {\n",
       "        vertical-align: middle;\n",
       "    }\n",
       "\n",
       "    .dataframe tbody tr th {\n",
       "        vertical-align: top;\n",
       "    }\n",
       "\n",
       "    .dataframe thead th {\n",
       "        text-align: right;\n",
       "    }\n",
       "</style>\n",
       "<table border=\"1\" class=\"dataframe\">\n",
       "  <thead>\n",
       "    <tr style=\"text-align: right;\">\n",
       "      <th></th>\n",
       "      <th>0</th>\n",
       "      <th>1</th>\n",
       "      <th>2</th>\n",
       "      <th>3</th>\n",
       "      <th>4</th>\n",
       "      <th>5</th>\n",
       "      <th>6</th>\n",
       "      <th>7</th>\n",
       "      <th>8</th>\n",
       "      <th>9</th>\n",
       "      <th>...</th>\n",
       "      <th>2643</th>\n",
       "      <th>2644</th>\n",
       "      <th>2645</th>\n",
       "      <th>2646</th>\n",
       "      <th>2647</th>\n",
       "      <th>2648</th>\n",
       "      <th>2649</th>\n",
       "      <th>2650</th>\n",
       "      <th>2651</th>\n",
       "      <th>2652</th>\n",
       "    </tr>\n",
       "  </thead>\n",
       "  <tbody>\n",
       "    <tr>\n",
       "      <th>0</th>\n",
       "      <td>0.00000</td>\n",
       "      <td>35.375</td>\n",
       "      <td>188.0000</td>\n",
       "      <td>168.500</td>\n",
       "      <td>116.6250</td>\n",
       "      <td>140.50000</td>\n",
       "      <td>114.2500</td>\n",
       "      <td>162.1250</td>\n",
       "      <td>107.750000</td>\n",
       "      <td>110.687500</td>\n",
       "      <td>...</td>\n",
       "      <td>91.75000</td>\n",
       "      <td>91.5000</td>\n",
       "      <td>91.31250</td>\n",
       "      <td>91.25000</td>\n",
       "      <td>90.8125</td>\n",
       "      <td>90.43750</td>\n",
       "      <td>90.93750</td>\n",
       "      <td>91.75000</td>\n",
       "      <td>68.12500</td>\n",
       "      <td>86.5625</td>\n",
       "    </tr>\n",
       "    <tr>\n",
       "      <th>1</th>\n",
       "      <td>34.65625</td>\n",
       "      <td>0.000</td>\n",
       "      <td>155.8750</td>\n",
       "      <td>136.375</td>\n",
       "      <td>84.5625</td>\n",
       "      <td>108.50000</td>\n",
       "      <td>82.1875</td>\n",
       "      <td>130.0000</td>\n",
       "      <td>75.625000</td>\n",
       "      <td>78.562500</td>\n",
       "      <td>...</td>\n",
       "      <td>59.71875</td>\n",
       "      <td>59.4375</td>\n",
       "      <td>59.28125</td>\n",
       "      <td>59.21875</td>\n",
       "      <td>58.8125</td>\n",
       "      <td>58.40625</td>\n",
       "      <td>58.90625</td>\n",
       "      <td>59.71875</td>\n",
       "      <td>36.09375</td>\n",
       "      <td>54.5000</td>\n",
       "    </tr>\n",
       "    <tr>\n",
       "      <th>2</th>\n",
       "      <td>191.87500</td>\n",
       "      <td>159.125</td>\n",
       "      <td>0.0000</td>\n",
       "      <td>105.875</td>\n",
       "      <td>113.9375</td>\n",
       "      <td>154.50000</td>\n",
       "      <td>128.2500</td>\n",
       "      <td>176.2500</td>\n",
       "      <td>121.812500</td>\n",
       "      <td>124.750000</td>\n",
       "      <td>...</td>\n",
       "      <td>159.75000</td>\n",
       "      <td>159.5000</td>\n",
       "      <td>159.25000</td>\n",
       "      <td>159.25000</td>\n",
       "      <td>158.8750</td>\n",
       "      <td>158.50000</td>\n",
       "      <td>159.00000</td>\n",
       "      <td>158.12500</td>\n",
       "      <td>136.12500</td>\n",
       "      <td>152.8750</td>\n",
       "    </tr>\n",
       "    <tr>\n",
       "      <th>3</th>\n",
       "      <td>171.12500</td>\n",
       "      <td>138.250</td>\n",
       "      <td>105.8750</td>\n",
       "      <td>0.000</td>\n",
       "      <td>171.6250</td>\n",
       "      <td>209.50000</td>\n",
       "      <td>186.0000</td>\n",
       "      <td>233.7500</td>\n",
       "      <td>179.375000</td>\n",
       "      <td>182.375000</td>\n",
       "      <td>...</td>\n",
       "      <td>139.00000</td>\n",
       "      <td>138.6250</td>\n",
       "      <td>138.50000</td>\n",
       "      <td>138.50000</td>\n",
       "      <td>138.0000</td>\n",
       "      <td>137.62500</td>\n",
       "      <td>138.12500</td>\n",
       "      <td>137.25000</td>\n",
       "      <td>115.31250</td>\n",
       "      <td>132.1250</td>\n",
       "    </tr>\n",
       "    <tr>\n",
       "      <th>4</th>\n",
       "      <td>118.75000</td>\n",
       "      <td>85.875</td>\n",
       "      <td>113.3125</td>\n",
       "      <td>175.250</td>\n",
       "      <td>0.0000</td>\n",
       "      <td>47.90625</td>\n",
       "      <td>21.6875</td>\n",
       "      <td>69.5625</td>\n",
       "      <td>15.148438</td>\n",
       "      <td>18.109375</td>\n",
       "      <td>...</td>\n",
       "      <td>117.31250</td>\n",
       "      <td>117.0625</td>\n",
       "      <td>116.87500</td>\n",
       "      <td>116.87500</td>\n",
       "      <td>116.4375</td>\n",
       "      <td>116.06250</td>\n",
       "      <td>116.50000</td>\n",
       "      <td>116.87500</td>\n",
       "      <td>93.75000</td>\n",
       "      <td>111.6875</td>\n",
       "    </tr>\n",
       "  </tbody>\n",
       "</table>\n",
       "<p>5 rows × 2653 columns</p>\n",
       "</div>"
      ],
      "text/plain": [
       "        0        1         2        3         4          5         6     \\\n",
       "0    0.00000   35.375  188.0000  168.500  116.6250  140.50000  114.2500   \n",
       "1   34.65625    0.000  155.8750  136.375   84.5625  108.50000   82.1875   \n",
       "2  191.87500  159.125    0.0000  105.875  113.9375  154.50000  128.2500   \n",
       "3  171.12500  138.250  105.8750    0.000  171.6250  209.50000  186.0000   \n",
       "4  118.75000   85.875  113.3125  175.250    0.0000   47.90625   21.6875   \n",
       "\n",
       "       7           8           9     ...       2643      2644       2645  \\\n",
       "0  162.1250  107.750000  110.687500  ...   91.75000   91.5000   91.31250   \n",
       "1  130.0000   75.625000   78.562500  ...   59.71875   59.4375   59.28125   \n",
       "2  176.2500  121.812500  124.750000  ...  159.75000  159.5000  159.25000   \n",
       "3  233.7500  179.375000  182.375000  ...  139.00000  138.6250  138.50000   \n",
       "4   69.5625   15.148438   18.109375  ...  117.31250  117.0625  116.87500   \n",
       "\n",
       "        2646      2647       2648       2649       2650       2651      2652  \n",
       "0   91.25000   90.8125   90.43750   90.93750   91.75000   68.12500   86.5625  \n",
       "1   59.21875   58.8125   58.40625   58.90625   59.71875   36.09375   54.5000  \n",
       "2  159.25000  158.8750  158.50000  159.00000  158.12500  136.12500  152.8750  \n",
       "3  138.50000  138.0000  137.62500  138.12500  137.25000  115.31250  132.1250  \n",
       "4  116.87500  116.4375  116.06250  116.50000  116.87500   93.75000  111.6875  \n",
       "\n",
       "[5 rows x 2653 columns]"
      ]
     },
     "execution_count": 2,
     "metadata": {},
     "output_type": "execute_result"
    }
   ],
   "source": [
    "accessibility_matrix = pd.read_pickle('./accessibility_matrix.pickle')\n",
    "accessibility_matrix.head()"
   ]
  },
  {
   "cell_type": "code",
   "execution_count": 3,
   "metadata": {},
   "outputs": [
    {
     "data": {
      "text/plain": [
       "176"
      ]
     },
     "execution_count": 3,
     "metadata": {},
     "output_type": "execute_result"
    },
    {
     "data": {
      "image/png": "[encoded data removed]",
      "text/plain": [
       "<Figure size 640x480 with 1 Axes>"
      ]
     },
     "metadata": {},
     "output_type": "display_data"
    }
   ],
   "source": [
    "blocks[blocks.is_project == True].plot('land_use', legend=True, edgecolor='black')\n",
    "len(blocks[blocks.is_project == True])"
   ]
  },
  {
   "cell_type": "markdown",
   "metadata": {},
   "source": [
    "### Service distribution"
   ]
  },
  {
   "cell_type": "code",
   "execution_count": 4,
   "metadata": {},
   "outputs": [],
   "source": [
    "basic_services = {\n",
    "    \"kindergarten\": 0.2,\n",
    "    \"school\": 0.2,\n",
    "    \"pharmacy\": 0.2,\n",
    "    \"polyclinics\": 0.3,\n",
    "    \"convenience\": 0.2,   \n",
    "    \"cafe\": 0.15,\n",
    "    \"playground\": 0.2,\n",
    "    \"post\": 0.1,\n",
    "    \"hairdresser\": 0.1\n",
    "}\n",
    "advanced_services = {\n",
    "    \"hospital\": 0.5,\n",
    "    \"supermarket\": 0.4,\n",
    "    \"restaurant\": 0.3,\n",
    "    \"park\": 0.8,\n",
    "    \"bank\": 0.3,\n",
    "    \"fuel\": 0.25,\n",
    "    \"police\": 0.2,\n",
    "    \"cinema\": 0.2,\n",
    "    \"market\": 0.2,\n",
    "    \"religion\": 0.5,\n",
    "    \"multifunctional_center\": 0.1,\n",
    "    \"train_building\": 0.1,\n",
    "    \"cemetery\": 0.1,\n",
    "    \"notary\": 0.1,\n",
    "    \"pitch\": 0.2\n",
    "}\n",
    "comfort_services = {\n",
    "    \"mall\": 0.3,\n",
    "    \"swimming_pool\": 0.4,\n",
    "    \"theatre\": 0.2,\n",
    "    \"museum\": 0.2,\n",
    "    \"university\": 0.2,\n",
    "    \"sanatorium\": 0.2,\n",
    "    \"zoo\": 0.1,\n",
    "    \"reserve\": 0.1,\n",
    "    \"animal_shelter\": 0.1,\n",
    "    \"aeroway_terminal\": 0.2,\n",
    "    \"crematorium\": 0.1,\n",
    "    \"prison\": 0.1,\n",
    "    \"landfill\": 0.1,\n",
    "    \"bar\": 0.3,\n",
    "    \"hotel\": 0.3,\n",
    "}\n",
    "\n",
    "\n",
    "def get_service_weight(service_name):\n",
    "    if service_name in basic_services:\n",
    "        return 0.5714 * basic_services[service_name]\n",
    "    elif service_name in advanced_services:\n",
    "        return 0.2857 * advanced_services[service_name]\n",
    "    elif service_name in comfort_services:\n",
    "        return 0.1429 * comfort_services[service_name]\n",
    "    return 0"
   ]
  },
  {
   "cell_type": "markdown",
   "metadata": {},
   "source": [
    "### Service types and weights"
   ]
  },
  {
   "cell_type": "code",
   "execution_count": 5,
   "metadata": {},
   "outputs": [],
   "source": [
    "chosen_service_types = set(basic_services) | set(advanced_services) | set(comfort_services)\n",
    "service_weights = {service_type: get_service_weight(service_type) for service_type in chosen_service_types if f'capacity_{service_type}' in blocks.columns}"
   ]
  },
  {
   "cell_type": "markdown",
   "metadata": {},
   "source": [
    "### Select ID of optimized blocks"
   ]
  },
  {
   "cell_type": "code",
   "execution_count": 6,
   "metadata": {},
   "outputs": [
    {
     "data": {
      "text/plain": [
       "130"
      ]
     },
     "execution_count": 6,
     "metadata": {},
     "output_type": "execute_result"
    }
   ],
   "source": [
    "from blocksnet.enums import LandUse\n",
    "from blocksnet.config import service_types_config\n",
    "\n",
    "\n",
    "def get_land_use_min_site_area(lu : LandUse):\n",
    "    land_use_df = service_types_config.land_use\n",
    "    units_df = service_types_config.units\n",
    "\n",
    "    land_use_s = land_use_df[lu]\n",
    "    lu_service_types = land_use_s[land_use_s].index.to_list()\n",
    "\n",
    "    lu_units = units_df[units_df.service_type.isin(lu_service_types) & units_df.service_type.isin(chosen_service_types)]\n",
    "    return lu_units[lu_units.site_area > 0].site_area.min()\n",
    "\n",
    "min_site_areas = {lu:get_land_use_min_site_area(lu) for lu in LandUse}\n",
    "\n",
    "blocks_lu = {}\n",
    "for block_id,row in blocks.iterrows():\n",
    "    if row.is_project == True and row.land_use is not None:\n",
    "        min_site_area = min_site_areas[row.land_use]\n",
    "        if min_site_area>row.site_area*0.8:\n",
    "            continue\n",
    "        blocks_lu[block_id] = row.land_use\n",
    "len(blocks_lu)"
   ]
  },
  {
   "cell_type": "markdown",
   "metadata": {},
   "source": [
    "### Initialize and run optimizer"
   ]
  },
  {
   "cell_type": "code",
   "execution_count": 7,
   "metadata": {},
   "outputs": [],
   "source": [
    "from blocksnet.optimization.services import (\n",
    "    TPEOptimizer,\n",
    "    WeightedObjective,\n",
    "    WeightedConstraints,\n",
    "    Facade,\n",
    "    GradientChooser,\n",
    "    RandomOrder,\n",
    "    AreaSolution\n",
    ")\n",
    "\n",
    "MAX_TIME_SEC = 60*5\n",
    "MAX_PROV_EVALS = 100\n",
    "MAX_OPT_RUNS = 1000"
   ]
  },
  {
   "cell_type": "code",
   "execution_count": 11,
   "metadata": {},
   "outputs": [
    {
     "name": "stderr",
     "output_type": "stream",
     "text": [
      "100%|██████████| 21/21 [00:07<00:00,  2.89it/s]\n"
     ]
    }
   ],
   "source": [
    "var_adapter = AreaSolution(blocks_lu)\n",
    "\n",
    "facade = Facade(\n",
    "    blocks_lu=blocks_lu,\n",
    "    blocks_df=blocks,\n",
    "    accessibility_matrix=accessibility_matrix,\n",
    "    var_adapter=var_adapter,\n",
    ")\n",
    "\n",
    "from tqdm import tqdm\n",
    "\n",
    "for service_type, weight in tqdm(service_weights.items()):\n",
    "    facade.add_service_type(service_type, weight, blocks.rename(columns={f'capacity_{service_type}': 'capacity'})[['capacity']].fillna(0))\n",
    "\n",
    "objective = WeightedObjective(num_params=facade.num_params, facade=facade, weights=service_weights, max_evals=MAX_PROV_EVALS)\n",
    "\n",
    "constraints = WeightedConstraints(num_params=facade.num_params, facade=facade, priority=service_weights)"
   ]
  },
  {
   "cell_type": "code",
   "execution_count": 12,
   "metadata": {},
   "outputs": [
    {
     "name": "stderr",
     "output_type": "stream",
     "text": [
      "[I 2025-09-25 19:49:21,212] A new study created in memory with name: no-name-adea122e-ad09-4c4c-b258-587d9cbc3883\n"
     ]
    },
    {
     "data": {
      "application/vnd.jupyter.widget-view+json": {
       "model_id": "82c2f46b22844f0ba9532c3207760722",
       "version_major": 2,
       "version_minor": 0
      },
      "text/plain": [
       "  0%|          | 0/1000 [00:00<?, ?it/s]"
      ]
     },
     "metadata": {},
     "output_type": "display_data"
    },
    {
     "name": "stdout",
     "output_type": "stream",
     "text": [
      "[I 2025-09-25 19:50:04,439] Trial 0 finished with value: 1.70666108849601 and parameters: {'x_499': 0, 'x_999': 0, 'x_95': 60, 'x_1771': 0, 'x_2140': 0, 'x_1057': 150, 'x_641': 270, 'x_433': 0, 'x_928': 450, 'x_1697': 0, 'x_1173': 0, 'x_1540': 0, 'x_1995': 0, 'x_966': 450, 'x_673': 200, 'x_701': 0, 'x_603': 270, 'x_596': 200, 'x_2249': 0, 'x_2171': 0, 'x_2228': 0, 'x_1026': 150, 'x_18': 60, 'x_765': 0, 'x_412': 0, 'x_690': 0, 'x_1876': 0, 'x_1909': 0, 'x_1474': 0, 'x_2033': 0, 'x_1793': 0, 'x_1213': 0, 'x_1836': 700, 'x_1565': 0, 'x_1361': 0, 'x_134': 100, 'x_1000': 0, 'x_2057': 0, 'x_576': 200, 'x_1624': 0, 'x_511': 0, 'x_944': 450, 'x_456': 0, 'x_526': 0, 'x_1638': 0, 'x_1597': 0, 'x_496': 0, 'x_1904': 700, 'x_1612': 0, 'x_141': 100, 'x_1905': 700, 'x_1206': 0, 'x_1014': 0, 'x_70': 0, 'x_1469': 0, 'x_489': 30000, 'x_1585': 0, 'x_275': 0, 'x_894': 0, 'x_372': 0, 'x_572': 270, 'x_2191': 0, 'x_785': 0, 'x_135': 100, 'x_1606': 0, 'x_1754': 0, 'x_235': 2000, 'x_442': 0, 'x_1023': 150, 'x_1947': 0, 'x_1684': 0, 'x_7': 60, 'x_164': 100, 'x_2061': 0, 'x_728': 0, 'x_2154': 0, 'x_127': 100, 'x_729': 0, 'x_2222': 0, 'x_1940': 0, 'x_2094': 0, 'x_230': 6000, 'x_1733': 0, 'x_2207': 9100, 'x_388': 0, 'x_1951': 0, 'x_359': 0, 'x_1260': 50, 'x_1208': 0, 'x_1918': 0, 'x_495': 0, 'x_1362': 10000, 'x_948': 450, 'x_1221': 0, 'x_1886': 0, 'x_949': 450, 'x_382': 0, 'x_2051': 0, 'x_1493': 3500, 'x_1144': 0, 'x_571': 0, 'x_993': 450, 'x_1804': 0, 'x_750': 0, 'x_863': 0, 'x_588': 0, 'x_1669': 0, 'x_1403': 0, 'x_2106': 0, 'x_1022': 150, 'x_29': 60, 'x_1521': 0, 'x_1103': 150, 'x_955': 450, 'x_318': 0, 'x_449': 0, 'x_2059': 0, 'x_69': 60, 'x_568': 0, 'x_1369': 10000, 'x_2069': 0, 'x_1046': 150, 'x_924': 0, 'x_977': 0, 'x_731': 0, 'x_1636': 0, 'x_1003': 0, 'x_1664': 0, 'x_240': 2000, 'x_193': 0, 'x_1001': 0, 'x_1019': 0, 'x_346': 0, 'x_1699': 0, 'x_424': 0, 'x_807': 0, 'x_578': 200, 'x_118': 100, 'x_552': 0, 'x_710': 0, 'x_401': 0, 'x_2148': 0, 'x_1692': 0, 'x_1285': 50, 'x_1185': 0, 'x_962': 450, 'x_1913': 0, 'x_561': 0, 'x_532': 0, 'x_586': 200, 'x_1725': 0, 'x_665': 0, 'x_348': 0, 'x_1701': 0, 'x_1211': 0, 'x_1747': 18500, 'x_1738': 0, 'x_1603': 0, 'x_791': 0, 'x_1778': 0, 'x_1029': 150, 'x_1518': 0, 'x_47': 60, 'x_872': 0, 'x_263': 0, 'x_2013': 0, 'x_923': 450, 'x_279': 0, 'x_97': 60, 'x_234': 2000, 'x_1270': 50, 'x_952': 450, 'x_1450': 0, 'x_601': 270, 'x_2221': 0, 'x_1576': 0, 'x_1186': 3000, 'x_637': 270, 'x_45': 60, 'x_1049': 150, 'x_719': 0, 'x_1012': 0, 'x_811': 3520, 'x_1955': 0, 'x_774': 0, 'x_198': 0, 'x_838': 0, 'x_575': 200, 'x_1219': 0, 'x_1926': 700, 'x_2096': 0, 'x_2099': 0, 'x_1460': 0, 'x_1462': 12000, 'x_919': 450, 'x_1209': 0, 'x_23': 60, 'x_2233': 0, 'x_1094': 150, 'x_1009': 450, 'x_76': 60, 'x_13': 60, 'x_242': 2000, 'x_1912': 0, 'x_1472': 0, 'x_243': 2000, 'x_1111': 150, 'x_286': 0, 'x_116': 100, 'x_1180': 0, 'x_31': 60, 'x_2104': 0, 'x_1674': 0, 'x_500': 0, 'x_874': 0, 'x_998': 0, 'x_1183': 0, 'x_920': 0, 'x_1340': 50, 'x_1205': 0, 'x_46': 60, 'x_360': 0, 'x_83': 60, 'x_269': 0, 'x_345': 0, 'x_485': 0, 'x_849': 0, 'x_591': 270, 'x_2176': 0, 'x_1878': 0, 'x_284': 0, 'x_1135': 0, 'x_2174': 9100, 'x_1281': 50, 'x_621': 270, 'x_2175': 9100, 'x_663': 0, 'x_1857': 700, 'x_283': 0, 'x_1113': 150, 'x_484': 0, 'x_903': 0, 'x_1036': 150, 'x_459': 0, 'x_1320': 50, 'x_927': 450, 'x_302': 0, 'x_865': 0, 'x_1099': 150, 'x_1427': 0, 'x_1558': 0, 'x_1248': 0, 'x_104': 0, 'x_1855': 700, 'x_1732': 0, 'x_1255': 50, 'x_529': 0, 'x_1813': 0, 'x_1395': 10000, 'x_1311': 50, 'x_974': 0, 'x_140': 100, 'x_1702': 0, 'x_1863': 0, 'x_1805': 700, 'x_1596': 0, 'x_446': 0, 'x_1677': 0, 'x_2208': 0, 'x_859': 0, 'x_254': 2000, 'x_513': 0, 'x_1240': 0, 'x_1134': 0, 'x_399': 0, 'x_961': 450, 'x_1354': 0, 'x_827': 3520, 'x_327': 0, 'x_452': 0, 'x_842': 3520, 'x_2137': 0, 'x_662': 0, 'x_1749': 0, 'x_738': 0, 'x_2076': 0, 'x_1942': 0, 'x_12': 60, 'x_1010': 0, 'x_81': 60, 'x_1810': 0, 'x_579': 200, 'x_581': 200, 'x_1843': 700, 'x_404': 0, 'x_1115': 0, 'x_1520': 0, 'x_570': 0, 'x_685': 0, 'x_1165': 3000, 'x_248': 2000, 'x_604': 270, 'x_175': 100, 'x_753': 0, 'x_291': 0, 'x_1149': 3000, 'x_1372': 0, 'x_1420': 0, 'x_1436': 0, 'x_1198': 0, 'x_2198': 9100, 'x_173': 0, 'x_334': 0, 'x_981': 0, 'x_316': 0, 'x_26': 60, 'x_1421': 0, 'x_2110': 0, 'x_20': 60, 'x_177': 100, 'x_85': 0, 'x_1544': 0, 'x_136': 0, 'x_1831': 0, 'x_921': 0, 'x_902': 0, 'x_1430': 0, 'x_890': 0, 'x_1933': 0, 'x_522': 0, 'x_1879': 700, 'x_514': 0, 'x_1758': 0, 'x_616': 270, 'x_684': 0, 'x_2251': 0, 'x_766': 0, 'x_1077': 150, 'x_451': 0, 'x_1070': 0, 'x_2219': 0, 'x_132': 0, 'x_1064': 150, 'x_1189': 3000, 'x_333': 0, 'x_2121': 0, 'x_98': 0, 'x_2218': 9100, 'x_2019': 0, 'x_1554': 0, 'x_943': 450, 'x_856': 0, 'x_2274': 0, 'x_1901': 0, 'x_620': 0, 'x_1570': 0, 'x_725': 0, 'x_730': 0, 'x_384': 0, 'x_898': 0, 'x_990': 450, 'x_1481': 0, 'x_439': 0, 'x_11': 60, 'x_469': 0, 'x_1413': 0, 'x_27': 0, 'x_911': 450, 'x_1125': 0, 'x_1440': 0, 'x_843': 3520, 'x_1252': 50, 'x_2077': 0, 'x_1964': 0, 'x_1824': 700, 'x_1090': 150, 'x_1059': 150, 'x_1828': 700, 'x_1314': 50, 'x_846': 3520, 'x_941': 450, 'x_1931': 0, 'x_1751': 0, 'x_1074': 150, 'x_880': 0, 'x_965': 450, 'x_205': 0, 'x_1105': 150, 'x_1025': 0, 'x_1161': 3000, 'x_460': 0, 'x_2254': 0, 'x_609': 270, 'x_305': 0, 'x_297': 0, 'x_2043': 0, 'x_1167': 3000, 'x_1447': 0, 'x_92': 0, 'x_2016': 0, 'x_1508': 0, 'x_1966': 0, 'x_1216': 3000, 'x_1516': 0, 'x_2271': 0, 'x_677': 0, 'x_1566': 0, 'x_737': 0, 'x_308': 0, 'x_805': 3520, 'x_1739': 0, 'x_802': 3520, 'x_1513': 0, 'x_398': 0, 'x_1238': 0, 'x_702': 0, 'x_1686': 0, 'x_1330': 50, 'x_1321': 50, 'x_1848': 0, 'x_128': 0, 'x_1356': 0, 'x_782': 0, 'x_789': 0, 'x_256': 2000, 'x_1452': 0, 'x_592': 200, 'x_1201': 0, 'x_574': 0, 'x_274': 2000, 'x_1415': 0, 'x_1013': 0, 'x_1948': 0, 'x_1477': 0, 'x_1323': 50, 'x_540': 0, 'x_819': 3520, 'x_1731': 0, 'x_298': 0, 'x_40': 60, 'x_2185': 9100, 'x_1193': 0, 'x_477': 0, 'x_1617': 0, 'x_1181': 0, 'x_832': 0, 'x_2203': 0, 'x_409': 0, 'x_22': 60, 'x_143': 100, 'x_1510': 12000, 'x_1657': 0, 'x_895': 0, 'x_1781': 0, 'x_528': 0, 'x_391': 0, 'x_896': 0, 'x_2215': 0, 'x_310': 0, 'x_1342': 0, 'x_1457': 12000, 'x_288': 0, 'x_375': 0, 'x_1915': 0, 'x_88': 60, 'x_324': 0, 'x_146': 100, 'x_817': 0, 'x_1145': 0, 'x_801': 0, 'x_82': 60, 'x_773': 0, 'x_2227': 0, 'x_2056': 0, 'x_2220': 0, 'x_1124': 150, 'x_883': 0, 'x_590': 200, 'x_329': 0, 'x_2095': 0, 'x_1300': 50, 'x_1368': 10000, 'x_1423': 0, 'x_1587': 0, 'x_231': 2000, 'x_762': 0, 'x_1827': 0, 'x_2119': 0, 'x_1833': 700, 'x_377': 0, 'x_1335': 50, 'x_854': 0, 'x_163': 100, 'x_1107': 150, 'x_455': 0, 'x_208': 100, 'x_707': 0, 'x_1635': 0, 'x_1454': 0, 'x_314': 0, 'x_905': 0, 'x_1988': 0, 'x_1380': 0, 'x_2243': 0, 'x_1961': 0, 'x_538': 0, 'x_736': 0, 'x_161': 100, 'x_837': 3520, 'x_389': 0, 'x_145': 100, 'x_273': 0, 'x_2040': 0, 'x_1978': 0, 'x_304': 2000, 'x_915': 450, 'x_625': 270, 'x_1222': 3000, 'x_1785': 0, 'x_793': 0, 'x_824': 3520, 'x_1184': 0, 'x_1268': 0, 'x_2044': 0, 'x_289': 0, 'x_2017': 0, 'x_453': 0, 'x_780': 0, 'x_881': 0, 'x_1176': 0, 'x_1114': 150, 'x_1075': 150, 'x_1243': 0, 'x_1840': 700, 'x_1140': 3000, 'x_1723': 0, 'x_67': 60, 'x_813': 3520, 'x_1893': 0, 'x_2265': 0, 'x_457': 0, 'x_1655': 0, 'x_1658': 0, 'x_255': 2000, 'x_845': 0, 'x_355': 0, 'x_2264': 0, 'x_443': 0, 'x_1375': 0, 'x_438': 0, 'x_1654': 0, 'x_2239': 0, 'x_214': 0, 'x_1822': 700, 'x_506': 0, 'x_1522': 0, 'x_1963': 0, 'x_1649': 0, 'x_1117': 0, 'x_1716': 0, 'x_1953': 0, 'x_1916': 0, 'x_2032': 0, 'x_1212': 0, 'x_1283': 50, 'x_285': 0, 'x_909': 450, 'x_972': 0, 'x_2162': 9100, 'x_1775': 0, 'x_1957': 0, 'x_2006': 0, 'x_2085': 0, 'x_1363': 0, 'x_180': 100, 'x_1166': 0, 'x_599': 200, 'x_221': 0, 'x_2255': 0, 'x_569': 0, 'x_1887': 700, 'x_1744': 0, 'x_1718': 0, 'x_201': 0, 'x_2195': 9100, 'x_301': 0, 'x_416': 0, 'x_265': 2000, 'x_1975': 0, 'x_358': 0, 'x_354': 0, 'x_696': 0, 'x_2054': 0, 'x_1797': 0, 'x_2242': 0, 'x_87': 0, 'x_1389': 0, 'x_2258': 0, 'x_715': 0, 'x_1479': 0, 'x_1309': 0, 'x_1954': 0, 'x_1056': 150, 'x_589': 200, 'x_2101': 0, 'x_593': 200, 'x_1750': 0, 'x_632': 270, 'x_151': 100, 'x_1790': 0, 'x_1121': 150, 'x_946': 450, 'x_1818': 700, 'x_518': 0, 'x_1903': 0, 'x_1047': 150, 'x_524': 0, 'x_995': 450, 'x_1708': 0, 'x_1018': 150, 'x_1095': 150, 'x_2210': 0, 'x_192': 0, 'x_770': 0, 'x_363': 0, 'x_1496': 0, 'x_295': 0, 'x_839': 0, 'x_2151': 0, 'x_189': 0, 'x_2261': 0, 'x_797': 0, 'x_1035': 150, 'x_42': 60, 'x_1595': 0, 'x_709': 0, 'x_1560': 0, 'x_1629': 0, 'x_467': 0, 'x_441': 0, 'x_2060': 0, 'x_1614': 0, 'x_2125': 0, 'x_75': 60, 'x_686': 0, 'x_516': 20000, 'x_1086': 0, 'x_39': 60, 'x_744': 0, 'x_1846': 700, 'x_470': 0, 'x_708': 0, 'x_1949': 0, 'x_426': 0, 'x_2200': 0, 'x_312': 0, 'x_1803': 0, 'x_368': 0, 'x_33': 60, 'x_321': 0, 'x_1835': 700, 'x_1226': 0, 'x_1773': 0, 'x_1538': 0, 'x_2189': 9100, 'x_38': 60, 'x_1299': 50, 'x_1647': 0, 'x_828': 3520, 'x_185': 100, 'x_1076': 150, 'x_2166': 9100, 'x_1008': 450, 'x_803': 0, 'x_1969': 0, 'x_711': 0, 'x_156': 100, 'x_852': 0, 'x_931': 0, 'x_1207': 0, 'x_1394': 0, 'x_147': 100, 'x_798': 0, 'x_1779': 0, 'x_954': 450, 'x_2244': 0, 'x_2007': 0, 'x_1825': 700, 'x_1757': 0, 'x_1178': 3000, 'x_937': 450, 'x_1318': 0, 'x_1360': 0, 'x_59': 60, 'x_1795': 0, 'x_2050': 0, 'x_617': 270, 'x_49': 60, 'x_760': 0, 'x_2179': 0, 'x_2201': 0, 'x_190': 100, 'x_2072': 0, 'x_229': 6000, 'x_1547': 0, 'x_1884': 0, 'x_435': 0, 'x_746': 0, 'x_534': 0, 'x_1239': 0, 'x_945': 450, 'x_2048': 0, 'x_564': 0, 'x_113': 0, 'x_2118': 0, 'x_611': 270, 'x_1690': 0, 'x_1742': 0, 'x_1997': 0, 'x_1534': 0, 'x_628': 270, 'x_280': 0, 'x_2193': 9100, 'x_2065': 0, 'x_959': 450, 'x_1083': 150, 'x_232': 2000, 'x_1131': 0, 'x_468': 0, 'x_508': 0, 'x_2156': 0, 'x_1911': 700, 'x_479': 0, 'x_1571': 0, 'x_1535': 0, 'x_929': 450, 'x_1217': 0, 'x_309': 0, 'x_1371': 0, 'x_1132': 0, 'x_1819': 700, 'x_1393': 0, 'x_2184': 9100, 'x_2107': 0, 'x_876': 0, 'x_650': 0, 'x_1567': 0, 'x_1191': 3000, 'x_1251': 0, 'x_19': 60, 'x_1549': 3500, 'x_1935': 0, 'x_1958': 0, 'x_1261': 0, 'x_669': 0, 'x_72': 60, 'x_1246': 0, 'x_2266': 0, 'x_211': 0, 'x_394': 0, 'x_2240': 0, 'x_577': 0, 'x_1257': 50, 'x_1378': 0, 'x_1433': 0, 'x_2149': 0, 'x_466': 0, 'x_1313': 50, 'x_292': 0, 'x_2005': 0, 'x_1058': 150, 'x_606': 270, 'x_942': 450, 'x_953': 450, 'x_481': 20000, 'x_1782': 0, 'x_1528': 0, 'x_1622': 0, 'x_1859': 700, 'x_176': 100, 'x_1787': 0, 'x_912': 0, 'x_1414': 0, 'x_553': 0, 'x_1328': 0, 'x_2064': 0, 'x_1643': 0, 'x_2161': 0, 'x_1096': 150, 'x_2214': 0, 'x_1838': 700, 'x_2211': 0, 'x_1623': 0, 'x_668': 0, 'x_1883': 700, 'x_718': 0, 'x_1545': 0, 'x_1923': 0, 'x_1902': 0, 'x_1634': 0, 'x_1980': 0, 'x_2192': 0, 'x_244': 2000, 'x_1319': 50, 'x_853': 3520, 'x_2000': 0, 'x_2155': 0, 'x_430': 0, 'x_1227': 0, 'x_2182': 0, 'x_612': 270, 'x_1509': 0, 'x_1569': 0, 'x_720': 0, 'x_366': 0, 'x_1172': 0, 'x_41': 60, 'x_1755': 0, 'x_1322': 50, 'x_1470': 12000, 'x_1346': 0, 'x_1959': 0, 'x_741': 0, 'x_2268': 0, 'x_1365': 0, 'x_1515': 0, 'x_1724': 18500, 'x_1258': 50, 'x_1920': 0, 'x_1856': 700, 'x_1939': 0, 'x_1602': 0, 'x_726': 0, 'x_1307': 50, 'x_537': 0, 'x_1109': 150, 'x_1698': 18500, 'x_228': 2000, 'x_703': 0, 'x_381': 0, 'x_1670': 0, 'x_10': 60, 'x_71': 60, 'x_447': 0, 'x_1377': 10000, 'x_1129': 0, 'x_1084': 150, 'x_224': 2000, 'x_904': 0, 'x_735': 0, 'x_1347': 0, 'x_1769': 0, 'x_1993': 0, 'x_2144': 0, 'x_1122': 0, 'x_64': 0, 'x_160': 100, 'x_2068': 0, 'x_877': 0, 'x_1505': 0, 'x_1880': 0, 'x_1425': 0, 'x_1355': 0, 'x_1366': 0, 'x_1482': 0, 'x_1944': 0, 'x_1501': 0, 'x_1792': 0, 'x_215': 0, 'x_437': 0, 'x_2187': 0, 'x_925': 450, 'x_982': 450, 'x_795': 0, 'x_629': 270, 'x_1852': 700, 'x_683': 0, 'x_454': 0, 'x_187': 0, 'x_1741': 18500, 'x_1442': 0, 'x_1263': 50, 'x_1228': 0, 'x_1632': 0, 'x_356': 0, 'x_1073': 150, 'x_2126': 0, 'x_100': 0, 'x_1673': 0, 'x_850': 3520, 'x_1494': 0, 'x_1637': 0, 'x_994': 0, 'x_610': 270, 'x_2024': 0, 'x_2039': 0, 'x_1225': 3000, 'x_769': 0, 'x_1350': 0, 'x_1921': 0, 'x_2134': 0, 'x_1719': 0, 'x_169': 100, 'x_1065': 150, 'x_716': 0, 'x_1826': 700, 'x_293': 2000, 'x_1849': 0, 'x_1118': 150, 'x_395': 0, 'x_462': 20000, 'x_2018': 0, 'x_2037': 0, 'x_2090': 0, 'x_112': 100, 'x_1736': 0, 'x_1801': 0, 'x_101': 60, 'x_1937': 0, 'x_155': 0, 'x_320': 0, 'x_199': 0, 'x_1376': 0, 'x_1265': 50, 'x_1006': 0, 'x_1986': 0, 'x_536': 0, 'x_1409': 0, 'x_502': 0, 'x_916': 0, 'x_1341': 50, 'x_1598': 0, 'x_556': 0, 'x_2168': 0, 'x_527': 0, 'x_996': 0, 'x_988': 0, 'x_748': 0, 'x_517': 0, 'x_482': 20000, 'x_2142': 0, 'x_162': 100, 'x_1137': 0, 'x_504': 0, 'x_1081': 150, 'x_2029': 0, 'x_1160': 3000, 'x_1373': 0, 'x_52': 60, 'x_1253': 50, 'x_1326': 50, 'x_1676': 0, 'x_1907': 700, 'x_1768': 0, 'x_732': 0, 'x_1561': 0, 'x_1066': 150, 'x_918': 450, 'x_2133': 0, 'x_1499': 0, 'x_2010': 0, 'x_2259': 0, 'x_374': 0, 'x_1582': 0, 'x_2132': 0, 'x_1112': 150, 'x_1325': 50, 'x_631': 270, 'x_0': 60, 'x_99': 60, 'x_1024': 150, 'x_233': 0, 'x_126': 100, 'x_830': 3520, 'x_1495': 0, 'x_68': 60, 'x_1645': 0, 'x_800': 0, 'x_419': 0, 'x_428': 0, 'x_1210': 0, 'x_864': 0, 'x_2232': 0, 'x_296': 0, 'x_914': 450, 'x_691': 0, 'x_559': 0, 'x_1088': 0, 'x_475': 0, 'x_1525': 12000, 'x_2014': 0, 'x_1864': 700, 'x_1656': 0, 'x_1336': 50, 'x_450': 0, 'x_2186': 0, 'x_1646': 0, 'x_619': 270, 'x_1514': 0, 'x_661': 0, 'x_1139': 0, 'x_1451': 0, 'x_759': 0, 'x_1809': 700, 'x_1930': 0, 'x_985': 0, 'x_1101': 0, 'x_973': 450, 'x_28': 60, 'x_1865': 0, 'x_1416': 0, 'x_565': 0, 'x_860': 0, 'x_1406': 0, 'x_1098': 150, 'x_2181': 0, 'x_1929': 0, 'x_1735': 0, 'x_613': 270, 'x_1504': 0, 'x_122': 0, 'x_1550': 0, 'x_2206': 0, 'x_1943': 0, 'x_771': 0, 'x_1280': 50, 'x_107': 60, 'x_306': 2000, 'x_580': 200, 'x_566': 0, 'x_1044': 150, 'x_1721': 0, 'x_573': 0, 'x_109': 100, 'x_1592': 0, 'x_1175': 0, 'x_777': 0, 'x_1453': 0, 'x_2256': 0, 'x_1600': 0, 'x_80': 0, 'x_1287': 50, 'x_1419': 0, 'x_2002': 0, 'x_1039': 150, 'x_1041': 150, 'x_2272': 0, 'x_1332': 0, 'x_1854': 700, 'x_640': 0, 'x_432': 0, 'x_851': 0, 'x_1203': 0, 'x_656': 0, 'x_857': 0, 'x_1277': 50, 'x_1449': 0, 'x_980': 450, 'x_1628': 0, 'x_1204': 0, 'x_649': 0, 'x_1304': 50, 'x_2084': 0, 'x_407': 0, 'x_405': 0, 'x_2269': 0, 'x_1542': 0, 'x_1455': 0, 'x_236': 2000, 'x_414': 0, 'x_1052': 150, 'x_1851': 700, 'x_1908': 700, 'x_1483': 0, 'x_1512': 12000, 'x_1668': 0, 'x_1872': 700, 'x_2138': 0, 'x_812': 0, 'x_174': 100, 'x_644': 270, 'x_1110': 0, 'x_1821': 700, 'x_282': 2000, 'x_1352': 0, 'x_600': 270, 'x_987': 0, 'x_510': 20000, 'x_1667': 0, 'x_816': 0, 'x_1343': 50, 'x_264': 0, 'x_567': 0, 'x_1748': 0, 'x_840': 0, 'x_2273': 0, 'x_1588': 0, 'x_862': 0, 'x_2081': 0, 'x_1713': 0, 'x_743': 0, 'x_1972': 0, 'x_1490': 0, 'x_722': 0, 'x_94': 60, 'x_1991': 0, 'x_96': 0, 'x_1745': 0, 'x_557': 0, 'x_1429': 0, 'x_1976': 0, 'x_1317': 50, 'x_657': 0, 'x_1609': 0, 'x_1269': 50, 'x_836': 0, 'x_2216': 9100, 'x_157': 0, 'x_2079': 0, 'x_2224': 9100, 'x_103': 60, 'x_51': 60, 'x_1399': 10000, 'x_713': 0, 'x_1038': 150, 'x_1020': 150, 'x_1': 0, 'x_2102': 0, 'x_721': 0, 'x_1353': 0, 'x_2103': 0, 'x_2226': 0, 'x_133': 100, 'x_1446': 0, 'x_218': 2000, 'x_582': 200, 'x_1092': 150, 'x_651': 270, 'x_1106': 0, 'x_562': 0, 'x_544': 0, 'x_1072': 150, 'x_1162': 0, 'x_1536': 0, 'x_512': 30000, 'x_2082': 0, 'x_1737': 0, 'x_1383': 10000, 'x_1766': 0, 'x_823': 0, 'x_2129': 0, 'x_2223': 0, 'x_1990': 0, 'x_225': 0, 'x_251': 2000, 'x_1152': 0, 'x_781': 0, 'x_471': 0, 'x_936': 450, 'x_1345': 0, 'x_1711': 0, 'x_1196': 0, 'x_1291': 50, 'x_984': 0, 'x_105': 0, 'x_1671': 0, 'x_970': 0, 'x_670': 270, 'x_311': 0, 'x_2231': 0, 'x_799': 0, 'x_1665': 0, 'x_486': 0, 'x_1040': 150, 'x_1466': 12000, 'x_65': 60, 'x_2028': 0, 'x_2089': 0, 'x_1982': 0, 'x_1435': 0, 'x_1563': 0, 'x_550': 0, 'x_1666': 0, 'x_2250': 0, 'x_1562': 0, 'x_2199': 0, 'x_1820': 700, 'x_1163': 0, 'x_153': 100, 'x_1232': 0, 'x_1895': 700, 'x_2152': 0, 'x_653': 270, 'x_806': 3520, 'x_2141': 0, 'x_967': 450, 'x_1594': 0, 'x_1127': 150, 'x_487': 0, 'x_1461': 0, 'x_1079': 150, 'x_60': 60, 'x_688': 0, 'x_385': 0, 'x_492': 0, 'x_1618': 0, 'x_74': 60, 'x_1464': 0, 'x_754': 0, 'x_1983': 0, 'x_1272': 50, 'x_362': 0, 'x_411': 0, 'x_913': 0, 'x_1298': 50, 'x_1772': 0, 'x_1424': 0, 'x_991': 0, 'x_714': 0, 'x_2113': 0, 'x_241': 2000, 'x_2021': 0, 'x_168': 100, 'x_458': 0, 'x_129': 100, 'x_1051': 150, 'x_614': 200, 'x_521': 0, 'x_1760': 0, 'x_89': 0, 'x_415': 0, 'x_223': 2000, 'x_1839': 700, 'x_692': 0, 'x_183': 100, 'x_624': 270, 'x_53': 60, 'x_689': 0, 'x_870': 0, 'x_968': 450, 'x_697': 0, 'x_2217': 9100, 'x_1027': 150, 'x_2035': 0, 'x_78': 0, 'x_90': 0, 'x_2275': 0, 'x_422': 0, 'x_347': 0, 'x_1370': 10000, 'x_1067': 150, 'x_1484': 0, 'x_1089': 150, 'x_2205': 0, 'x_361': 0, 'x_1123': 150, 'x_335': 0, 'x_117': 100, 'x_1784': 0, 'x_922': 450, 'x_1037': 150, 'x_1799': 0, 'x_2027': 0, 'x_509': 0, 'x_1815': 0, 'x_1080': 150, 'x_958': 450, 'x_1580': 0, 'x_152': 100, 'x_1985': 0, 'x_2163': 0, 'x_326': 0, 'x_879': 0, 'x_1578': 0, 'x_1028': 150, 'x_1230': 0, 'x_888': 0, 'x_1392': 0, 'x_1054': 150, 'x_1519': 0, 'x_1608': 0, 'x_1338': 50, 'x_535': 0, 'x_1492': 0, 'x_2128': 0, 'x_784': 0, 'x_775': 0, 'x_1788': 0, 'x_2073': 0, 'x_1431': 0, 'x_1174': 0, 'x_1215': 0, 'x_1730': 18500, 'x_1881': 0, 'x_1627': 0, 'x_463': 0, 'x_1104': 0, 'x_2257': 0, 'x_267': 2000, 'x_858': 0, 'x_473': 0, 'x_1834': 0, 'x_1467': 0, 'x_869': 0, 'x_695': 0, 'x_598': 200, 'x_682': 0, 'x_887': 0, 'x_1575': 0, 'x_317': 0, 'x_776': 0, 'x_910': 0, 'x_124': 100, 'x_294': 0, 'x_111': 100, 'x_1445': 0, 'x_1158': 0, 'x_1680': 0, 'x_917': 450, 'x_2160': 0, 'x_1032': 150, 'x_2153': 0, 'x_1223': 3000, 'x_1384': 0, 'x_643': 270, 'x_390': 0, 'x_1882': 700, 'x_478': 0, 'x_2071': 0, 'x_1710': 0, 'x_1259': 50, 'x_1712': 0, 'x_1068': 0, 'x_1043': 150, 'x_778': 0, 'x_1465': 0, 'x_1610': 0, 'x_503': 0, 'x_2190': 0, 'x_956': 0, 'x_299': 0, 'x_1390': 0, 'x_1564': 0, 'x_50': 60, 'x_403': 0, 'x_387': 0, 'x_2234': 0, 'x_1703': 0, 'x_679': 0, 'x_287': 0, 'x_674': 0, 'x_764': 0, 'x_1922': 0, 'x_1556': 0, 'x_37': 60, 'x_1996': 0, 'x_465': 30000, 'x_2116': 0, 'x_768': 0, 'x_555': 0, 'x_2260': 0, 'x_1615': 0, 'x_2229': 0, 'x_2146': 0, 'x_322': 0, 'x_2157': 0, 'x_1625': 0, 'x_960': 450, 'x_926': 450, 'x_259': 0, 'x_897': 0, 'x_154': 0, 'x_1611': 0, 'x_1633': 0, 'x_541': 0, 'x_108': 0, 'x_1405': 0, 'x_1899': 700, 'x_930': 450, 'x_1411': 0, 'x_1170': 3000, 'x_123': 100, 'x_1267': 50, 'x_1063': 150, 'x_9': 60, 'x_2109': 0, 'x_139': 100, 'x_110': 100, 'x_1195': 0, 'x_790': 0, 'x_494': 0, 'x_779': 0, 'x_1917': 0, 'x_166': 100, 'x_2067': 0, 'x_1289': 50, 'x_1498': 0, 'x_1102': 0, 'x_584': 0, 'x_1045': 0, 'x_2049': 0, 'x_1919': 0, 'x_1577': 0, 'x_542': 0, 'x_1398': 0, 'x_671': 0, 'x_1679': 0, 'x_1444': 0, 'x_2127': 0, 'x_423': 0, 'x_1960': 0, 'x_1331': 50, 'x_2062': 0, 'x_323': 0, 'x_1841': 0, 'x_1329': 50, 'x_1294': 50, 'x_1722': 0, 'x_809': 3520, 'x_1506': 0, 'x_1761': 0, 'x_331': 0, 'x_79': 60, 'x_2108': 0, 'x_1662': 0, 'x_2105': 0, 'x_182': 100, 'x_195': 0, 'x_1660': 0, 'x_1559': 0, 'x_1746': 0, 'x_989': 450, 'x_420': 0, 'x_868': 0, 'x_1224': 0, 'x_216': 100, 'x_2169': 9100, 'x_1143': 3000, 'x_130': 100, 'x_1245': 0, 'x_1337': 0, 'x_1968': 0, 'x_1936': 0, 'x_515': 0, 'x_1774': 0, 'x_1119': 0, 'x_886': 0, 'x_1780': 0, 'x_14': 60, 'x_1478': 12000, 'x_1434': 0, 'x_464': 0, 'x_2025': 0, 'x_672': 0, 'x_2124': 0, 'x_787': 0, 'x_1344': 0, 'x_1091': 0, 'x_2238': 0, 'x_1126': 0, 'x_1443': 0, 'x_618': 270, 'x_1422': 0, 'x_1382': 0, 'x_549': 0, 'x_483': 0, 'x_131': 100, 'x_1108': 150, 'x_1791': 0, 'x_1458': 0, 'x_150': 100, 'x_705': 0, 'x_1159': 3000, 'x_1497': 0, 'x_277': 0, 'x_810': 3520, 'x_1407': 0, 'x_1133': 0, 'x_337': 0, 'x_976': 0, 'x_249': 2000, 'x_237': 0, 'x_520': 0, 'x_1359': 10000, 'x_1244': 0, 'x_1860': 700, 'x_1156': 0, 'x_605': 270, 'x_694': 0, 'x_1485': 0, 'x_889': 0, 'x_595': 200, 'x_1557': 0, 'x_219': 0, 'x_1694': 0, 'x_144': 100, 'x_634': 0, 'x_1823': 700, 'x_250': 2000, 'x_1187': 3000, 'x_1507': 3500, 'x_474': 0, 'x_77': 0, 'x_2026': 0, 'x_1397': 0, 'x_1061': 150, 'x_1642': 0, 'x_1438': 0, 'x_1417': 0, 'x_1700': 0, 'x_866': 0, 'x_1591': 0, 'x_1619': 0, 'x_1989': 0, 'x_17': 60, 'x_1866': 700, 'x_1231': 0, 'x_548': 0, 'x_1284': 50, 'x_115': 100, 'x_1786': 0, 'x_226': 2000, 'x_875': 0, 'x_1910': 0, 'x_2114': 0, 'x_1333': 0, 'x_1120': 0, 'x_1589': 0, 'x_1847': 700, 'x_2070': 0, 'x_1743': 0, 'x_1275': 0, 'x_488': 20000, 'x_258': 0, 'x_339': 0, 'x_2042': 0, 'x_1164': 0, 'x_1808': 0, 'x_493': 0, 'x_1607': 0, 'x_1296': 50, 'x_623': 270, 'x_392': 0, 'x_2270': 0, 'x_1599': 0, 'x_1367': 0, 'x_2111': 0, 'x_257': 0, 'x_554': 0, 'x_583': 270, 'x_2165': 9100, 'x_1432': 0, 'x_2012': 0, 'x_1652': 0, 'x_2178': 0, 'x_125': 0, 'x_957': 450, 'x_1932': 0, 'x_900': 0, 'x_386': 0, 'x_2120': 0, 'x_675': 0, 'x_2078': 0, 'x_2015': 0, 'x_434': 0, 'x_755': 0, 'x_633': 200, 'x_1387': 0, 'x_138': 100, 'x_2170': 0, 'x_271': 0, 'x_1488': 0, 'x_328': 2000, 'x_202': 100, 'x_1087': 0, 'x_1601': 0, 'x_2098': 0, 'x_417': 0, 'x_63': 0, 'x_44': 60, 'x_6': 60, 'x_1526': 0, 'x_831': 0, 'x_622': 270, 'x_884': 0, 'x_1214': 0, 'x_2020': 0, 'x_1017': 150, 'x_1641': 0, 'x_1672': 0, 'x_1928': 0, 'x_1004': 0, 'x_808': 0, 'x_844': 3520, 'x_2263': 0, 'x_397': 0, 'x_587': 270, 'x_1412': 0, 'x_336': 0, 'x_560': 0, 'x_373': 0, 'x_742': 0, 'x_206': 100, 'x_655': 270, 'x_543': 0, 'x_1685': 0, 'x_1273': 50, 'x_278': 0, 'x_1364': 0, 'x_1992': 0, 'x_1965': 0, 'x_1715': 0, 'x_57': 60, 'x_1241': 3000, 'x_645': 270, 'x_1850': 700, 'x_1197': 0, 'x_357': 0, 'x_1179': 0, 'x_2046': 0, 'x_281': 2000, 'x_1274': 50, 'x_1242': 0, 'x_1830': 700, 'x_681': 0, 'x_847': 0, 'x_1870': 700, 'x_1021': 150, 'x_1093': 150, 'x_1974': 0, 'x_1776': 0, 'x_188': 100, 'x_1182': 3000, 'x_1502': 12000, 'x_1869': 700, 'x_2245': 0, 'x_2063': 0, 'x_2055': 0, 'x_1308': 50, 'x_1898': 0, 'x_2139': 0, 'x_1889': 700, 'x_402': 0, 'x_1987': 0, 'x_594': 200, 'x_1408': 0, 'x_1616': 0, 'x_1062': 150, 'x_1082': 150, 'x_833': 3520, 'x_519': 0, 'x_1765': 0, 'x_523': 0, 'x_2115': 0, 'x_1555': 0, 'x_1386': 0, 'x_184': 100, 'x_413': 0, 'x_1586': 0, 'x_636': 0, 'x_1016': 450, 'x_1489': 12000, 'x_638': 270, 'x_983': 450, 'x_1200': 0, 'x_1546': 0, 'x_951': 450, 'x_1034': 150, 'x_1727': 0, 'x_700': 0, 'x_1486': 0, 'x_209': 0, 'x_615': 270, 'x_826': 3520, 'x_1977': 0, 'x_1491': 0, 'x_1391': 0, 'x_55': 60, 'x_1767': 0, 'x_1527': 0, 'x_654': 0, 'x_148': 100, 'x_114': 100, 'x_1297': 50, 'x_1644': 0, 'x_379': 0, 'x_533': 0, 'x_2147': 0, 'x_1783': 0, 'x_1858': 700, 'x_1042': 150, 'x_2183': 0, 'x_1543': 0, 'x_933': 450, 'x_969': 0, 'x_848': 0, 'x_1441': 0, 'x_200': 0, 'x_2123': 0, 'x_2262': 0, 'x_2075': 0, 'x_1011': 0, 'x_247': 2000, 'x_2135': 0, 'x_829': 0, 'x_639': 270, 'x_61': 60, 'x_1351': 0, 'x_792': 0, 'x_2212': 0, 'x_1357': 0, 'x_1279': 50, 'x_2237': 0, 'x_1639': 0, 'x_1927': 0, 'x_892': 0, 'x_841': 3520, 'x_1796': 0, 'x_2045': 0, 'x_376': 0, 'x_1832': 700, 'x_34': 60, 'x_448': 0, 'x_1069': 150, 'x_212': 0, 'x_1806': 700, 'x_498': 0, 'x_4': 0, 'x_1696': 0, 'x_2130': 0, 'x_1007': 0, 'x_1402': 0, 'x_178': 100, 'x_2158': 0, 'x_1837': 700, 'x_1154': 0, 'x_2247': 0, 'x_378': 0, 'x_1410': 0, 'x_642': 0, 'x_43': 60, 'x_2122': 0, 'x_1861': 0, 'x_436': 0, 'x_2248': 0, 'x_1867': 700, 'x_62': 60, 'x_149': 100, 'x_1302': 50, 'x_1055': 150, 'x_2197': 0, 'x_159': 100, 'x_1150': 0, 'x_1811': 0, 'x_1605': 0, 'x_1529': 0, 'x_558': 0, 'x_1705': 0, 'x_338': 0, 'x_393': 0, 'x_1979': 0, 'x_2177': 0, 'x_1315': 50, 'x_315': 0, 'x_2145': 0, 'x_1532': 0, 'x_1817': 700, 'x_1428': 0, 'x_1691': 0, 'x_58': 60, 'x_380': 0, 'x_1048': 150, 'x_2131': 0, 'x_712': 0, 'x_1728': 0, 'x_1829': 700, 'x_1192': 0, 'x_1659': 0, 'x_167': 100, 'x_364': 0, 'x_1798': 0, 'x_893': 0, 'x_1085': 150, 'x_1339': 0, 'x_2003': 0, 'x_1202': 0, 'x_2241': 0, 'x_2117': 0, 'x_1374': 0, 'x_1426': 0, 'x_1962': 0, 'x_818': 0, 'x_396': 0, 'x_476': 0, 'x_1385': 0, 'x_2011': 0, 'x_3': 60, 'x_203': 0, 'x_181': 100, 'x_1199': 0, 'x_86': 60, 'x_1998': 0, 'x_1235': 0, 'x_1584': 0, 'x_1050': 150, 'x_1539': 0, 'x_1762': 0, 'x_1648': 0, 'x_2209': 9100, 'x_1188': 3000, 'x_2023': 0, 'x_207': 100, 'x_2058': 0, 'x_757': 0, 'x_170': 100, 'x_1249': 0, 'x_2086': 0, 'x_2030': 0, 'x_2150': 0, 'x_106': 60, 'x_332': 0, 'x_1247': 0, 'x_1593': 0, 'x_120': 100, 'x_882': 0, 'x_907': 0, 'x_1706': 18500, 'x_1473': 0, 'x_2180': 0, 'x_300': 2000, 'x_1729': 0, 'x_1396': 0, 'x_1153': 0, 'x_1752': 0, 'x_1404': 0, 'x_1456': 0, 'x_102': 60, 'x_607': 270, 'x_1146': 6000, 'x_820': 3520, 'x_1511': 12000, 'x_429': 0, 'x_1548': 0, 'x_325': 0, 'x_1845': 700, 'x_1693': 0, 'x_1789': 0, 'x_2246': 0, 'x_783': 0, 'x_2004': 0, 'x_986': 0, 'x_30': 60, 'x_1704': 0, 'x_733': 0, 'x_1324': 50, 'x_935': 0, 'x_2194': 0, 'x_1626': 0, 'x_461': 0, 'x_835': 0, 'x_1945': 0, 'x_1033': 150, 'x_1071': 150, 'x_1770': 0, 'x_899': 0, 'x_717': 0, 'x_871': 0, 'x_1891': 700, 'x_1950': 0, 'x_1100': 150, 'x_501': 0, 'x_1468': 3500, 'x_1303': 50, 'x_758': 0, 'x_1621': 0, 'x_1148': 0, 'x_734': 0, 'x_1568': 0, 'x_319': 0, 'x_54': 60, 'x_142': 100, 'x_1888': 700, 'x_1631': 0, 'x_1381': 0, 'x_767': 0, 'x_266': 2000, 'x_658': 270, 'x_646': 270, 'x_2038': 0, 'x_186': 0, 'x_2164': 0, 'x_680': 0, 'x_1816': 700, 'x_2196': 0, 'x_1897': 700, 'x_749': 0, 'x_1138': 3000, 'x_260': 0, 'x_24': 60, 'x_1900': 0, 'x_370': 0, 'x_659': 0, 'x_227': 0, 'x_752': 0, 'x_1005': 0, 'x_1282': 50, 'x_723': 0, 'x_1777': 0, 'x_963': 450, 'x_1579': 0, 'x_313': 0, 'x_2252': 0, 'x_1141': 3000, 'x_1533': 0, 'x_1305': 50, 'x_1234': 0, 'x_1256': 50, 'x_885': 0, 'x_786': 0, 'x_1906': 0, 'x_1689': 0, 'x_2253': 0, 'x_1894': 0, 'x_1807': 700, 'x_627': 270, 'x_1271': 50, 'x_878': 0, 'x_1814': 700, 'x_2167': 0, 'x_1590': 0, 'x_932': 450, 'x_1581': 0, 'x_246': 2000, 'x_1640': 0, 'x_2136': 0, 'x_406': 0, 'x_1524': 0, 'x_1553': 0, 'x_2092': 0, 'x_1740': 0, 'x_950': 450, 'x_2213': 0, 'x_222': 0, 'x_350': 0, 'x_678': 0, 'x_747': 0, 'x_2053': 0, 'x_585': 0, 'x_272': 2000, 'x_2083': 0, 'x_1530': 0, 'x_530': 0, 'x_371': 0, 'x_507': 0, 'x_2188': 9100, 'x_119': 100, 'x_891': 0, 'x_855': 3520, 'x_1572': 3500, 'x_1877': 0, 'x_1379': 0, 'x_213': 0, 'x_1218': 0, 'x_340': 0, 'x_1651': 0, 'x_1973': 0, 'x_270': 2000, 'x_1030': 0, 'x_1155': 0, 'x_1613': 0, 'x_491': 0, 'x_238': 0, 'x_1312': 0, 'x_1890': 700, 'x_1873': 0, 'x_1229': 0, 'x_15': 60, 'x_740': 0, 'x_121': 100, 'x_666': 0, 'x_739': 0, 'x_1844': 0, 'x_418': 0, 'x_794': 0, 'x_1800': 0, 'x_1714': 0, 'x_1278': 50, 'x_525': 0, 'x_268': 2000, 'x_1842': 700, 'x_172': 0, 'x_5': 60, 'x_1994': 0, 'x_1266': 50, 'x_1053': 150, 'x_1695': 0, 'x_2066': 0, 'x_2143': 0, 'x_505': 0, 'x_1853': 700, 'x_1802': 0, 'x_1574': 0, 'x_2202': 0, 'x_1707': 18500, 'x_1316': 0, 'x_1682': 0, 'x_901': 0, 'x_344': 0, 'x_1116': 0, 'x_1237': 0, 'x_1292': 50, 'x_56': 60, 'x_1956': 0, 'x_2036': 0, 'x_383': 0, 'x_431': 0, 'x_1128': 0, 'x_1661': 0, 'x_261': 2000, 'x_2034': 0, 'x_197': 100, 'x_706': 0, 'x_1500': 3500, 'x_1276': 50, 'x_1459': 12000, 'x_531': 0, 'x_1970': 0, 'x_1759': 0, 'x_472': 0, 'x_563': 0, 'x_2100': 0, 'x_204': 0, 'x_1896': 700, 'x_307': 0, 'x_2052': 0, 'x_1286': 50, 'x_815': 0, 'x_727': 0, 'x_772': 0, 'x_349': 0, 'x_1675': 0, 'x_191': 100, 'x_21': 60, 'x_597': 200, 'x_217': 0, 'x_2225': 0, 'x_1764': 0, 'x_1885': 0, 'x_1171': 3000, 'x_2087': 0, 'x_1925': 700, 'x_761': 0, 'x_1687': 0, 'x_539': 0, 'x_2080': 0, 'x_1147': 6000, 'x_1630': 0, 'x_1177': 3000, 'x_1262': 50, 'x_545': 0, 'x_2022': 0, 'x_2031': 0, 'x_547': 0, 'x_165': 100, 'x_2159': 0, 'x_1812': 700, 'x_724': 0, 'x_938': 450, 'x_196': 0, 'x_1763': 0, 'x_1503': 0, 'x_421': 0, 'x_1002': 0, 'x_1136': 0, 'x_1475': 0, 'x_66': 60, 'x_704': 0, 'x_342': 0, 'x_814': 0, 'x_1620': 0, 'x_2041': 0, 'x_1734': 0, 'x_699': 0, 'x_1078': 150, 'x_1794': 0, 'x_1142': 3000, 'x_1862': 700, 'x_630': 0, 'x_239': 0, 'x_1726': 18500, 'x_1334': 50, 'x_992': 0, 'x_1190': 3000, 'x_1015': 0, 'x_253': 2000, 'x_546': 0, 'x_1753': 0, 'x_1946': 24000, 'x_1874': 700, 'x_1290': 50, 'x_1984': 0, 'x_353': 0, 'x_997': 0, 'x_2074': 0, 'x_490': 0, 'x_660': 200, 'x_676': 0, 'x_2088': 0, 'x_1097': 150, 'x_2204': 0, 'x_602': 200, 'x_425': 0, 'x_158': 100, 'x_2172': 0, 'x_1250': 0, 'x_84': 0, 'x_2236': 0, 'x_834': 0, 'x_1418': 0, 'x_1264': 50, 'x_330': 0, 'x_48': 0, 'x_1934': 0, 'x_2': 60, 'x_440': 0, 'x_427': 0, 'x_822': 0, 'x_861': 0, 'x_664': 0, 'x_290': 0, 'x_1301': 50, 'x_647': 0, 'x_1537': 0, 'x_1868': 700, 'x_1288': 50, 'x_367': 0, 'x_1552': 0, 'x_2008': 0, 'x_1541': 0, 'x_445': 0, 'x_1583': 0, 'x_8': 60, 'x_1388': 0, 'x_947': 450, 'x_1653': 0, 'x_1349': 0, 'x_1448': 0, 'x_1924': 0, 'x_979': 450, 'x_1678': 0, 'x_1717': 0, 'x_1941': 0, 'x_1060': 150, 'x_2093': 0, 'x_2097': 0, 'x_93': 0, 'x_352': 0, 'x_964': 450, 'x_908': 450, 'x_497': 0, 'x_1756': 0, 'x_137': 100, 'x_2267': 0, 'x_210': 100, 'x_1709': 0, 'x_1688': 0, 'x_171': 0, 'x_262': 0, 'x_667': 0, 'x_1327': 50, 'x_1981': 0, 'x_2173': 0, 'x_1348': 10000, 'x_763': 0, 'x_1517': 0, 'x_934': 450, 'x_32': 60, 'x_2047': 0, 'x_940': 450, 'x_343': 0, 'x_1952': 0, 'x_698': 0, 'x_1400': 10000, 'x_1523': 12000, 'x_400': 0, 'x_1130': 0, 'x_1914': 0, 'x_369': 0, 'x_36': 60, 'x_245': 2000, 'x_1480': 0, 'x_1439': 0, 'x_1604': 0, 'x_971': 0, 'x_975': 450, 'x_1892': 0, 'x_821': 3520, 'x_365': 0, 'x_978': 450, 'x_825': 0, 'x_652': 0, 'x_480': 0, 'x_1531': 0, 'x_1401': 10000, 'x_1551': 0, 'x_1220': 0, 'x_1169': 3000, 'x_2112': 0, 'x_1650': 0, 'x_220': 0, 'x_1875': 700, 'x_2091': 0, 'x_1967': 0, 'x_25': 60, 'x_35': 60, 'x_1236': 0, 'x_252': 0, 'x_1031': 150, 'x_408': 0, 'x_2235': 0, 'x_626': 270, 'x_804': 0, 'x_410': 0, 'x_1471': 0, 'x_179': 100, 'x_1295': 50, 'x_1871': 700, 'x_648': 270, 'x_1999': 24000, 'x_1157': 3000, 'x_873': 0, 'x_351': 0, 'x_1310': 50, 'x_341': 0, 'x_1437': 0, 'x_1254': 50, 'x_1358': 0, 'x_91': 0, 'x_16': 0, 'x_1681': 0, 'x_444': 0, 'x_551': 0, 'x_608': 270, 'x_1720': 0, 'x_687': 0, 'x_756': 0, 'x_73': 60, 'x_1663': 0, 'x_1293': 0, 'x_1971': 0, 'x_745': 0, 'x_1306': 50, 'x_194': 100, 'x_693': 0, 'x_1233': 0, 'x_751': 0, 'x_2001': 0, 'x_939': 450, 'x_2230': 0, 'x_1476': 0, 'x_2009': 0, 'x_1463': 0, 'x_1938': 24000, 'x_788': 0, 'x_1151': 0, 'x_867': 0, 'x_1194': 0, 'x_303': 0, 'x_635': 0, 'x_1573': 0, 'x_276': 2000, 'x_1168': 0, 'x_796': 0, 'x_906': 0, 'x_1683': 0, 'x_1487': 0}. Best is trial 0 with value: 1.70666108849601.\n",
      "[I 2025-09-25 19:50:59,149] Trial 1 finished with value: 1.7066610884960103 and parameters: {'x_1776': 1, 'x_1294': 50, 'x_127': 100, 'x_915': 450, 'x_507': 0, 'x_1614': 0, 'x_279': 2, 'x_357': 1, 'x_326': 0, 'x_1764': 1, 'x_144': 100, 'x_766': 0, 'x_716': 80, 'x_2148': 0, 'x_1528': 1, 'x_825': 0, 'x_397': 0, 'x_1711': 2, 'x_928': 450, 'x_1635': 1, 'x_380': 9, 'x_2080': 0, 'x_875': 0, 'x_1455': 0, 'x_426': 5, 'x_282': 2001, 'x_463': 3, 'x_292': 13, 'x_241': 2000, 'x_548': 0, 'x_81': 60, 'x_2071': 10, 'x_18': 60, 'x_56': 61, 'x_322': 0, 'x_1212': 0, 'x_1698': 18500, 'x_264': 0, 'x_1127': 150, 'x_1729': 1, 'x_677': 0, 'x_1898': 2, 'x_251': 2000, 'x_570': 0, 'x_383': 0, 'x_1536': 2, 'x_968': 450, 'x_1131': 0, 'x_771': 1, 'x_1352': 1, 'x_443': 1, 'x_38': 60, 'x_1545': 9, 'x_860': 1, 'x_557': 0, 'x_286': 1, 'x_1646': 0, 'x_482': 20000, 'x_2082': 0, 'x_472': 0, 'x_1897': 700, 'x_445': 6, 'x_177': 100, 'x_138': 100, 'x_1495': 0, 'x_2034': 0, 'x_294': 0, 'x_836': 0, 'x_1405': 14, 'x_2063': 0, 'x_1490': 12, 'x_702': 0, 'x_2182': 3, 'x_1186': 3000, 'x_1644': 6, 'x_2090': 1, 'x_1770': 0, 'x_605': 271, 'x_1246': 0, 'x_1882': 726, 'x_157': 0, 'x_57': 60, 'x_924': 10, 'x_949': 450, 'x_2226': 0, 'x_1178': 3004, 'x_782': 0, 'x_1168': 2, 'x_587': 274, 'x_1033': 150, 'x_342': 2, 'x_1688': 0, 'x_2235': 1, 'x_2076': 0, 'x_195': 0, 'x_47': 60, 'x_1320': 50, 'x_770': 0, 'x_2132': 3, 'x_1258': 50, 'x_1595': 1, 'x_176': 100, 'x_914': 450, 'x_1203': 6, 'x_1800': 0, 'x_520': 2, 'x_1971': 32, 'x_1773': 0, 'x_1709': 2, 'x_1253': 50, 'x_1761': 2, 'x_1508': 0, 'x_332': 0, 'x_791': 6, 'x_728': 2, 'x_867': 9, 'x_1779': 0, 'x_821': 3523, 'x_478': 0, 'x_2002': 2, 'x_1381': 0, 'x_1028': 150, 'x_311': 2, 'x_1951': 48, 'x_1969': 0, 'x_483': 8, 'x_534': 15, 'x_126': 100, 'x_2024': 0, 'x_2223': 0, 'x_46': 60, 'x_1507': 3503, 'x_1774': 0, 'x_1527': 3, 'x_132': 0, 'x_1337': 0, 'x_385': 1, 'x_2175': 9100, 'x_1798': 0, 'x_1616': 1, 'x_92': 0, 'x_128': 0, 'x_1062': 150, 'x_240': 2000, 'x_452': 0, 'x_820': 3520, 'x_73': 60, 'x_1585': 4, 'x_2197': 0, 'x_1429': 0, 'x_2204': 0, 'x_1955': 2, 'x_1399': 10001, 'x_676': 0, 'x_83': 60, 'x_1727': 0, 'x_2202': 0, 'x_2017': 5, 'x_1875': 733, 'x_1968': 0, 'x_2147': 0, 'x_652': 11, 'x_827': 3523, 'x_2162': 9100, 'x_58': 60, 'x_780': 0, 'x_2122': 0, 'x_1134': 0, 'x_1088': 0, 'x_1587': 0, 'x_300': 2001, 'x_1020': 159, 'x_929': 450, 'x_1205': 2, 'x_207': 100, 'x_1237': 1, 'x_1937': 0, 'x_962': 450, 'x_187': 0, 'x_2163': 0, 'x_2065': 0, 'x_1540': 1, 'x_1907': 700, 'x_672': 2, 'x_621': 270, 'x_2245': 1, 'x_140': 101, 'x_1136': 0, 'x_20': 60, 'x_1014': 0, 'x_1712': 1, 'x_926': 450, 'x_204': 0, 'x_283': 8, 'x_527': 0, 'x_457': 0, 'x_1427': 0, 'x_1926': 700, 'x_2161': 3, 'x_1307': 50, 'x_353': 10, 'x_503': 4, 'x_845': 0, 'x_1517': 0, 'x_267': 2001, 'x_1837': 700, 'x_794': 0, 'x_1432': 0, 'x_1796': 1, 'x_1401': 10000, 'x_142': 100, 'x_1167': 3000, 'x_869': 0, 'x_1541': 0, 'x_1279': 50, 'x_156': 100, 'x_76': 60, 'x_2190': 0, 'x_1946': 24000, 'x_623': 274, 'x_1908': 733, 'x_1582': 0, 'x_2173': 2, 'x_555': 0, 'x_958': 450, 'x_669': 0, 'x_335': 0, 'x_34': 62, 'x_1222': 3000, 'x_1321': 50, 'x_1906': 0, 'x_1932': 0, 'x_2001': 1, 'x_1447': 0, 'x_2059': 1, 'x_394': 14, 'x_381': 0, 'x_805': 3533, 'x_193': 0, 'x_1434': 1, 'x_899': 0, 'x_466': 0, 'x_2060': 0, 'x_1654': 0, 'x_2106': 7, 'x_1375': 0, 'x_562': 0, 'x_681': 2, 'x_2265': 0, 'x_2178': 2, 'x_1623': 22, 'x_122': 0, 'x_1848': 0, 'x_1747': 18501, 'x_2005': 0, 'x_1667': 1, 'x_1891': 733, 'x_1135': 1, 'x_1412': 0, 'x_709': 0, 'x_580': 200, 'x_2119': 0, 'x_1995': 15, 'x_163': 101, 'x_2096': 3, 'x_1363': 0, 'x_119': 100, 'x_1769': 0, 'x_841': 3523, 'x_432': 0, 'x_388': 0, 'x_978': 450, 'x_974': 0, 'x_859': 0, 'x_756': 15, 'x_1362': 10001, 'x_1561': 0, 'x_911': 450, 'x_186': 0, 'x_1037': 150, 'x_1121': 150, 'x_696': 11, 'x_1377': 10000, 'x_1899': 720, 'x_1485': 2, 'x_1259': 50, 'x_1733': 1, 'x_692': 9, 'x_349': 2, 'x_2250': 0, 'x_665': 0, 'x_2028': 1, 'x_1731': 8, 'x_1050': 150, 'x_173': 0, 'x_2174': 9109, 'x_519': 0, 'x_1562': 0, 'x_1149': 3000, 'x_2267': 1, 'x_572': 270, 'x_1423': 2, 'x_30': 61, 'x_2022': 0, 'x_671': 0, 'x_1234': 0, 'x_1266': 50, 'x_544': 0, 'x_88': 60, 'x_963': 450, 'x_679': 0, 'x_205': 0, 'x_2043': 0, 'x_975': 448, 'x_909': 450, 'x_1298': 50, 'x_1288': 50, 'x_1559': 24, 'x_626': 272, 'x_1260': 50, 'x_1385': 4, 'x_2019': 0, 'x_1306': 50, 'x_2086': 1, 'x_706': 0, 'x_476': 0, 'x_1370': 10007, 'x_90': 0, 'x_714': 1, 'x_1496': 3, 'x_231': 2000, 'x_573': 0, 'x_1327': 50, 'x_78': 0, 'x_1153': 2, 'x_1115': 0, 'x_2100': 0, 'x_713': 1, 'x_141': 100, 'x_1643': 0, 'x_175': 100, 'x_1172': 0, 'x_2234': 0, 'x_1691': 0, 'x_1977': 1, 'x_351': 1, 'x_94': 60, 'x_1535': 0, 'x_574': 0, 'x_48': 0, 'x_1962': 0, 'x_1247': 0, 'x_1956': 0, 'x_1586': 4, 'x_1873': 0, 'x_2165': 9100, 'x_155': 1, 'x_1965': 0, 'x_1742': 2, 'x_1534': 13, 'x_1950': 34, 'x_1751': 1, 'x_620': 0, 'x_117': 100, 'x_70': 0, 'x_951': 450, 'x_325': 1, 'x_1618': 2, 'x_1604': 1, 'x_1581': 0, 'x_518': 3, 'x_1795': 1, 'x_224': 2008, 'x_191': 100, 'x_697': 7, 'x_1354': 5, 'x_1739': 2, 'x_1052': 150, 'x_902': 0, 'x_1925': 700, 'x_2056': 2, 'x_1896': 708, 'x_737': 1, 'x_1603': 0, 'x_2052': 0, 'x_1674': 0, 'x_2031': 0, 'x_1353': 6, 'x_1173': 9, 'x_1261': 0, 'x_1090': 150, 'x_651': 270, 'x_1915': 0, 'x_1271': 50, 'x_1746': 0, 'x_1744': 0, 'x_1269': 50, 'x_59': 60, 'x_1775': 3, 'x_1810': 0, 'x_288': 0, 'x_1954': 5, 'x_239': 0, 'x_1983': 8, 'x_2051': 0, 'x_550': 0, 'x_1683': 0, 'x_217': 0, 'x_270': 2000, 'x_1303': 50, 'x_2009': 0, 'x_424': 3, 'x_1043': 151, 'x_560': 0, 'x_2134': 19, 'x_1290': 50, 'x_563': 1, 'x_106': 60, 'x_2167': 0, 'x_1116': 0, 'x_1151': 0, 'x_447': 0, 'x_1622': 6, 'x_698': 1, 'x_1216': 3085, 'x_1734': 5, 'x_408': 9, 'x_1813': 4, 'x_2020': 0, 'x_2103': 4, 'x_1737': 0, 'x_2171': 0, 'x_1847': 700, 'x_1648': 5, 'x_442': 0, 'x_643': 270, 'x_411': 1, 'x_7': 60, 'x_2195': 9100, 'x_2209': 9100, 'x_760': 5, 'x_1845': 700, 'x_1296': 50, 'x_1637': 14, 'x_2149': 0, 'x_433': 0, 'x_1366': 1, 'x_498': 14, 'x_1914': 0, 'x_1589': 3, 'x_682': 0, 'x_1070': 0, 'x_1082': 150, 'x_1963': 0, 'x_1576': 0, 'x_801': 0, 'x_957': 450, 'x_873': 0, 'x_927': 449, 'x_2145': 0, 'x_2040': 0, 'x_2154': 10, 'x_2253': 0, 'x_1499': 0, 'x_2136': 0, 'x_460': 130, 'x_2256': 0, 'x_2192': 6, 'x_616': 271, 'x_1820': 700, 'x_1612': 0, 'x_418': 0, 'x_901': 0, 'x_1263': 50, 'x_493': 1, 'x_604': 270, 'x_344': 0, 'x_1426': 0, 'x_840': 0, 'x_1860': 700, 'x_52': 61, 'x_2027': 10, 'x_627': 273, 'x_1001': 0, 'x_2254': 0, 'x_979': 450, 'x_438': 0, 'x_437': 0, 'x_75': 60, 'x_1491': 0, 'x_1694': 2, 'x_569': 0, 'x_879': 0, 'x_129': 100, 'x_598': 200, 'x_1833': 700, 'x_3': 60, 'x_530': 0, 'x_2206': 0, 'x_1609': 0, 'x_2050': 0, 'x_2212': 0, 'x_174': 100, 'x_1894': 0, 'x_1888': 732, 'x_1291': 50, 'x_448': 0, 'x_245': 2000, 'x_1202': 0, 'x_1274': 50, 'x_535': 16, 'x_1360': 0, 'x_2131': 0, 'x_1626': 4, 'x_1046': 156, 'x_1689': 0, 'x_533': 0, 'x_491': 12, 'x_1811': 1, 'x_745': 0, 'x_1934': 7, 'x_1445': 0, 'x_276': 2001, 'x_649': 0, 'x_1483': 1, 'x_662': 0, 'x_1217': 6, 'x_172': 0, 'x_308': 0, 'x_1583': 4, 'x_1864': 700, 'x_210': 100, 'x_1080': 151, 'x_1748': 15, 'x_1228': 0, 'x_1642': 0, 'x_1947': 0, 'x_1297': 50, 'x_1677': 0, 'x_2128': 3, 'x_213': 0, 'x_1420': 13, 'x_407': 2, 'x_1755': 1, 'x_1920': 0, 'x_1240': 2, 'x_1531': 0, 'x_1809': 700, 'x_1416': 0, 'x_123': 101, 'x_634': 0, 'x_1254': 50, 'x_1323': 50, 'x_420': 0, 'x_1435': 0, 'x_529': 8, 'x_1400': 10004, 'x_382': 1, 'x_1': 0, 'x_1029': 150, 'x_882': 0, 'x_1060': 150, 'x_1084': 150, 'x_981': 0, 'x_1319': 50, 'x_1572': 3504, 'x_492': 3, 'x_2055': 0, 'x_1598': 0, 'x_842': 3520, 'x_2273': 0, 'x_1215': 0, 'x_93': 0, 'x_1909': 0, 'x_1397': 1, 'x_1361': 4, 'x_1015': 0, 'x_799': 6, 'x_148': 100, 'x_234': 2004, 'x_703': 0, 'x_1108': 150, 'x_1571': 0, 'x_2272': 0, 'x_1503': 6, 'x_124': 100, 'x_494': 0, 'x_2036': 0, 'x_1556': 1, 'x_71': 60, 'x_406': 0, 'x_1720': 26, 'x_1227': 0, 'x_1059': 150, 'x_1655': 1, 'x_390': 3, 'x_1336': 50, 'x_2030': 0, 'x_1040': 150, 'x_1981': 7, 'x_1438': 0, 'x_1765': 0, 'x_271': 0, 'x_577': 2, 'x_826': 3520, 'x_1393': 0, 'x_1991': 0, 'x_1856': 701, 'x_1195': 0, 'x_2101': 0, 'x_1851': 698, 'x_1340': 50, 'x_1079': 150, 'x_1780': 0, 'x_1707': 18513, 'x_1414': 0, 'x_945': 449, 'x_693': 0, 'x_1624': 6, 'x_323': 0, 'x_1208': 0, 'x_1703': 3, 'x_284': 0, 'x_796': 0, 'x_1451': 1, 'x_788': 0, 'x_376': 0, 'x_296': 2, 'x_384': 1, 'x_931': 0, 'x_655': 270, 'x_1424': 0, 'x_1066': 157, 'x_1305': 50, 'x_1378': 3, 'x_1132': 0, 'x_1105': 150, 'x_1830': 700, 'x_281': 2002, 'x_2262': 0, 'x_2179': 1, 'x_1067': 150, 'x_28': 60, 'x_632': 270, 'x_876': 0, 'x_474': 2, 'x_1075': 155, 'x_523': 0, 'x_603': 272, 'x_1883': 672, 'x_556': 0, 'x_169': 100, 'x_1801': 0, 'x_1272': 50, 'x_1695': 6, 'x_1721': 1, 'x_1213': 0, 'x_2085': 0, 'x_1684': 0, 'x_722': 0, 'x_1816': 700, 'x_1177': 3000, 'x_1723': 0, 'x_1077': 150, 'x_1574': 0, 'x_526': 2, 'x_1831': 0, 'x_1777': 0, 'x_387': 8, 'x_730': 3, 'x_1097': 150, 'x_1807': 700, 'x_952': 450, 'x_2247': 0, 'x_549': 0, 'x_700': 10, 'x_1862': 700, 'x_470': 35, 'x_1056': 150, 'x_956': 0, 'x_1791': 0, 'x_2114': 0, 'x_229': 6022, 'x_1101': 0, 'x_2207': 9104, 'x_2032': 0, 'x_1497': 1, 'x_67': 60, 'x_1055': 150, 'x_863': 9, 'x_1818': 700, 'x_130': 102, 'x_1225': 3000, 'x_1315': 50, 'x_1030': 0, 'x_45': 60, 'x_1690': 0, 'x_851': 3, 'x_1506': 0, 'x_948': 450, 'x_743': 11, 'x_1137': 0, 'x_1757': 1, 'x_62': 60, 'x_1295': 50, 'x_757': 0, 'x_2004': 0, 'x_1422': 1, 'x_2221': 5, 'x_1241': 3000, 'x_151': 100, 'x_852': 1, 'x_1805': 700, 'x_729': 26, 'x_1880': 2, 'x_1389': 0, 'x_1513': 2, 'x_1250': 1, 'x_609': 270, 'x_468': 46, 'x_2025': 0, 'x_1025': 0, 'x_536': 3, 'x_497': 0, 'x_1365': 0, 'x_1344': 0, 'x_1714': 0, 'x_307': 4, 'x_1010': 0, 'x_2006': 5, 'x_1945': 5, 'x_16': 0, 'x_1098': 150, 'x_1072': 150, 'x_967': 450, 'x_2098': 0, 'x_1782': 0, 'x_1631': 7, 'x_1073': 150, 'x_749': 0, 'x_425': 2, 'x_453': 1, 'x_1171': 3093, 'x_862': 0, 'x_1123': 150, 'x_197': 100, 'x_517': 12, 'x_1140': 2997, 'x_316': 0, 'x_1826': 705, 'x_1403': 1, 'x_2015': 6, 'x_1158': 0, 'x_1958': 8, 'x_982': 450, 'x_1680': 0, 'x_1112': 150, 'x_1209': 3, 'x_687': 12, 'x_2191': 0, 'x_1722': 0, 'x_849': 3, 'x_1889': 723, 'x_1065': 150, 'x_1463': 0, 'x_1838': 700, 'x_1599': 0, 'x_731': 0, 'x_475': 0, 'x_762': 1, 'x_734': 0, 'x_1551': 0, 'x_1621': 0, 'x_386': 0, 'x_2194': 3, 'x_1074': 150, 'x_1081': 152, 'x_458': 1, 'x_263': 0, 'x_653': 270, 'x_2248': 3, 'x_542': 0, 'x_802': 3527, 'x_2112': 2, 'x_1879': 684, 'x_600': 273, 'x_1198': 0, 'x_434': 0, 'x_152': 100, 'x_80': 0, 'x_2156': 0, 'x_2084': 2, 'x_846': 3521, 'x_1708': 0, 'x_1917': 0, 'x_297': 1, 'x_1394': 9, 'x_1482': 15, 'x_1235': 0, 'x_1325': 50, 'x_1002': 0, 'x_1243': 0, 'x_724': 0, 'x_232': 2011, 'x_2123': 0, 'x_1019': 0, 'x_209': 1, 'x_403': 2, 'x_1554': 0, 'x_2007': 0, 'x_64': 0, 'x_1268': 0, 'x_1051': 151, 'x_97': 60, 'x_1546': 0, 'x_355': 12, 'x_1371': 0, 'x_878': 0, 'x_707': 35, 'x_1442': 0, 'x_512': 30023, 'x_287': 0, 'x_1085': 150, 'x_236': 2001, 'x_1194': 2, 'x_606': 274, 'x_1928': 0, 'x_202': 100, 'x_1651': 0, 'x_1453': 0, 'x_1715': 0, 'x_663': 0, 'x_1431': 0, 'x_1728': 0, 'x_1617': 0, 'x_42': 60, 'x_992': 0, 'x_1006': 2, 'x_812': 1, 'x_1606': 0, 'x_208': 100, 'x_489': 30102, 'x_2018': 0, 'x_37': 60, 'x_2064': 28, 'x_1106': 0, 'x_329': 0, 'x_23': 60, 'x_2180': 0, 'x_2210': 0, 'x_352': 3, 'x_1854': 700, 'x_1665': 2, 'x_576': 200, 'x_1544': 0, 'x_1338': 50, 'x_1980': 0, 'x_1457': 12094, 'x_773': 2, 'x_1716': 0, 'x_2158': 0, 'x_881': 0, 'x_82': 60, 'x_1627': 0, 'x_819': 3520, 'x_374': 1, 'x_430': 1, 'x_1333': 0, 'x_615': 275, 'x_1732': 2, 'x_2016': 2, 'x_1286': 50, 'x_1812': 700, 'x_691': 5, 'x_1601': 0, 'x_888': 0, 'x_776': 4, 'x_1111': 150, 'x_1448': 0, 'x_1685': 0, 'x_647': 5, 'x_389': 0, 'x_1141': 3001, 'x_1532': 0, 'x_789': 0, 'x_211': 0, 'x_465': 30329, 'x_1000': 0, 'x_1799': 0, 'x_2176': 1, 'x_1318': 0, 'x_1814': 700, 'x_1329': 50, 'x_552': 0, 'x_354': 8, 'x_755': 0, 'x_1244': 0, 'x_1988': 0, 'x_1175': 1, 'x_198': 0, 'x_484': 0, 'x_708': 0, 'x_1771': 0, 'x_1219': 0, 'x_1214': 11, 'x_192': 0, 'x_401': 0, 'x_1156': 0, 'x_1069': 150, 'x_1803': 0, 'x_628': 271, 'x_2062': 0, 'x_822': 0, 'x_367': 9, 'x_104': 0, 'x_2021': 2, 'x_1174': 0, 'x_2244': 0, 'x_1960': 2, 'x_1003': 0, 'x_252': 3, 'x_1439': 0, 'x_1931': 0, 'x_521': 0, 'x_590': 200, 'x_996': 0, 'x_607': 272, 'x_378': 17, 'x_1982': 44, 'x_1705': 2, 'x_1128': 0, 'x_247': 2000, 'x_2205': 10, 'x_1133': 0, 'x_1986': 0, 'x_392': 0, 'x_1726': 18500, 'x_1342': 0, 'x_1100': 150, 'x_1096': 150, 'x_1550': 0, 'x_583': 285, 'x_1061': 150, 'x_699': 1, 'x_1311': 50, 'x_2102': 0, 'x_1287': 50, 'x_96': 0, 'x_305': 0, 'x_1736': 2, 'x_2127': 7, 'x_1220': 3, 'x_751': 0, 'x_813': 3527, 'x_1964': 0, 'x_1341': 50, 'x_1591': 3, 'x_170': 100, 'x_2125': 1, 'x_785': 0, 'x_2229': 0, 'x_1504': 0, 'x_318': 0, 'x_1486': 0, 'x_1027': 152, 'x_1169': 3006, 'x_1117': 0, 'x_2224': 9101, 'x_990': 449, 'x_1663': 0, 'x_2218': 9100, 'x_1226': 0, 'x_206': 100, 'x_784': 0, 'x_178': 100, 'x_1827': 0, 'x_999': 0, 'x_63': 0, 'x_473': 0, 'x_24': 60, 'x_2241': 4, 'x_988': 0, 'x_2138': 3, 'x_2124': 1, 'x_2049': 0, 'x_2069': 2, 'x_738': 0, 'x_1031': 154, 'x_955': 450, 'x_1372': 4, 'x_393': 0, 'x_1895': 700, 'x_1919': 0, 'x_182': 100, 'x_884': 1, 'x_485': 0, 'x_656': 0, 'x_1086': 0, 'x_31': 60, 'x_11': 60, 'x_2264': 0, 'x_1091': 0, 'x_1824': 700, 'x_293': 2000, 'x_1275': 0, 'x_345': 3, 'x_1120': 0, 'x_668': 0, 'x_1501': 0, 'x_1948': 0, 'x_221': 1, 'x_487': 1, 'x_532': 0, 'x_1516': 0, 'x_1049': 150, 'x_1267': 50, 'x_1936': 1, 'x_495': 0, 'x_358': 6, 'x_1301': 50, 'x_1973': 15, 'x_971': 0, 'x_2198': 9106, 'x_646': 270, 'x_689': 0, 'x_1470': 12001, 'x_1230': 0, 'x_889': 0, 'x_857': 5, 'x_1304': 50, 'x_2095': 8, 'x_1560': 0, 'x_2177': 12, 'x_746': 2, 'x_2121': 0, 'x_1034': 150, 'x_1317': 50, 'x_54': 60, 'x_190': 100, 'x_1911': 700, 'x_1921': 1, 'x_1191': 3000, 'x_101': 60, 'x_269': 4, 'x_1841': 1, 'x_810': 3520, 'x_1095': 150, 'x_1492': 9, 'x_1600': 0, 'x_450': 0, 'x_1752': 2, 'x_1245': 0, 'x_1421': 0, 'x_481': 20000, 'x_14': 60, 'x_1607': 0, 'x_216': 100, 'x_1678': 0, 'x_1520': 0, 'x_1276': 50, 'x_347': 6, 'x_421': 0, 'x_720': 8, 'x_139': 100, 'x_1392': 3, 'x_9': 60, 'x_640': 0, 'x_538': 0, 'x_1641': 0, 'x_25': 60, 'x_1577': 0, 'x_327': 1, 'x_581': 200, 'x_1719': 0, 'x_1300': 50, 'x_1702': 139, 'x_1166': 1, 'x_1458': 2, 'x_2137': 0, 'x_153': 100, 'x_575': 203, 'x_1331': 50, 'x_1358': 6, 'x_1498': 5, 'x_1252': 50, 'x_2': 60, 'x_2074': 1, 'x_1639': 2, 'x_1959': 0, 'x_742': 12, 'x_373': 9, 'x_1910': 0, 'x_1699': 1, 'x_2184': 9100, 'x_235': 2002, 'x_1548': 0, 'x_1273': 50, 'x_368': 0, 'x_1465': 2, 'x_1763': 0, 'x_1339': 0, 'x_1756': 2, 'x_1741': 18500, 'x_331': 0, 'x_741': 25, 'x_255': 2000, 'x_317': 0, 'x_2130': 0, 'x_2216': 9100, 'x_680': 0, 'x_1255': 50, 'x_1669': 0, 'x_554': 0, 'x_1890': 700, 'x_359': 5, 'x_2170': 0, 'x_1044': 150, 'x_454': 2, 'x_1993': 1, 'x_1355': 0, 'x_2104': 1, 'x_1673': 0, 'x_1160': 3000, 'x_2208': 1, 'x_1916': 0, 'x_508': 2, 'x_1045': 0, 'x_1661': 0, 'x_304': 2000, 'x_309': 0, 'x_164': 100, 'x_462': 20000, 'x_1619': 0, 'x_733': 0, 'x_43': 60, 'x_584': 0, 'x_1567': 0, 'x_1653': 0, 'x_1597': 3, 'x_1568': 0, 'x_2092': 0, 'x_1462': 12001, 'x_2075': 35, 'x_1398': 0, 'x_2238': 6, 'x_53': 60, 'x_937': 450, 'x_2111': 5, 'x_1048': 151, 'x_547': 3, 'x_1762': 0, 'x_1107': 150, 'x_1679': 0, 'x_1863': 2, 'x_185': 100, 'x_1829': 700, 'x_1479': 0, 'x_1359': 10008, 'x_941': 450, 'x_1310': 50, 'x_218': 2003, 'x_1145': 1, 'x_1611': 26, 'x_1664': 0, 'x_1409': 2, 'x_1349': 0, 'x_1415': 0, 'x_740': 6, 'x_1588': 0, 'x_1356': 0, 'x_1450': 0, 'x_835': 0, 'x_451': 0, 'x_337': 0, 'x_1264': 50, 'x_1547': 0, 'x_886': 0, 'x_2266': 0, 'x_2261': 0, 'x_1670': 1, 'x_787': 0, 'x_804': 0, 'x_100': 0, 'x_2039': 0, 'x_98': 0, 'x_1668': 1, 'x_1942': 0, 'x_2058': 0, 'x_2269': 0, 'x_1842': 700, 'x_1011': 0, 'x_1102': 0, 'x_832': 1, 'x_1681': 0, 'x_456': 0, 'x_1285': 50, 'x_1035': 151, 'x_1924': 0, 'x_695': 16, 'x_1687': 1, 'x_1521': 6, 'x_2157': 0, 'x_918': 450, 'x_350': 0, 'x_1233': 0, 'x_256': 2000, 'x_970': 0, 'x_1404': 2, 'x_1638': 0, 'x_449': 0, 'x_786': 0, 'x_871': 4, 'x_1021': 150, 'x_166': 100, 'x_1224': 0, 'x_854': 0, 'x_1057': 150, 'x_1881': 0, 'x_222': 0, 'x_2142': 0, 'x_910': 0, 'x_356': 0, 'x_973': 448, 'x_683': 0, 'x_277': 16, 'x_1857': 700, 'x_1099': 150, 'x_319': 0, 'x_1103': 150, 'x_1594': 11, 'x_2258': 0, 'x_599': 200, 'x_1155': 0, 'x_759': 1, 'x_1740': 0, 'x_1592': 0, 'x_806': 3520, 'x_477': 26, 'x_1143': 3000, 'x_112': 100, 'x_870': 1, 'x_137': 102, 'x_215': 0, 'x_1976': 0, 'x_1992': 0, 'x_505': 7, 'x_168': 100, 'x_1861': 0, 'x_923': 450, 'x_2243': 0, 'x_1692': 0, 'x_0': 60, 'x_688': 1, 'x_1064': 150, 'x_1231': 0, 'x_608': 270, 'x_1836': 700, 'x_954': 445, 'x_637': 270, 'x_950': 450, 'x_1998': 0, 'x_830': 3525, 'x_1018': 150, 'x_1768': 4, 'x_1758': 0, 'x_230': 6000, 'x_758': 0, 'x_1666': 1, 'x_1032': 150, 'x_1284': 50, 'x_1984': 4, 'x_289': 0, 'x_767': 1, 'x_1238': 0, 'x_2201': 1, 'x_1147': 6000, 'x_1163': 7, 'x_107': 60, 'x_1794': 0, 'x_976': 0, 'x_1443': 0, 'x_1793': 0, 'x_2193': 9100, 'x_189': 0, 'x_348': 0, 'x_510': 20000, 'x_861': 0, 'x_1444': 0, 'x_1109': 150, 'x_906': 0, 'x_829': 2, 'x_986': 0, 'x_371': 4, 'x_105': 0, 'x_154': 0, 'x_2099': 2, 'x_1411': 0, 'x_1832': 700, 'x_725': 18, 'x_2116': 0, 'x_1834': 0, 'x_1887': 700, 'x_1433': 0, 'x_2150': 0, 'x_1257': 50, 'x_815': 1, 'x_1569': 0, 'x_2061': 0, 'x_257': 0, 'x_559': 0, 'x_1999': 24012, 'x_402': 2, 'x_1656': 0, 'x_1985': 0, 'x_1440': 0, 'x_312': 0, 'x_1299': 50, 'x_1204': 0, 'x_488': 20002, 'x_32': 60, 'x_1104': 0, 'x_639': 270, 'x_824': 3524, 'x_614': 200, 'x_10': 60, 'x_225': 0, 'x_1369': 10001, 'x_2129': 0, 'x_165': 100, 'x_1933': 2, 'x_1146': 6040, 'x_564': 9, 'x_333': 0, 'x_586': 201, 'x_274': 2000, 'x_1489': 12053, 'x_2159': 0, 'x_1221': 0, 'x_595': 200, 'x_718': 3, 'x_969': 0, 'x_1047': 150, 'x_984': 0, 'x_1738': 2, 'x_747': 0, 'x_748': 0, 'x_89': 0, 'x_1469': 0, 'x_110': 100, 'x_1487': 0, 'x_338': 0, 'x_2029': 2, 'x_188': 100, 'x_321': 0, 'x_582': 201, 'x_2053': 0, 'x_1384': 1, 'x_212': 0, 'x_1251': 0, 'x_1207': 0, 'x_1884': 0, 'x_330': 0, 'x_121': 100, 'x_636': 0, 'x_1042': 150, 'x_1316': 0, 'x_961': 450, 'x_2038': 0, 'x_1672': 0, 'x_1165': 3001, 'x_2113': 0, 'x_1425': 0, 'x_1302': 50, 'x_904': 0, 'x_959': 452, 'x_444': 0, 'x_2120': 0, 'x_2000': 2, 'x_528': 0, 'x_1461': 9, 'x_1379': 1, 'x_184': 100, 'x_853': 3536, 'x_372': 0, 'x_1283': 50, 'x_2033': 0, 'x_160': 103, 'x_306': 2000, 'x_1293': 0, 'x_1844': 5, 'x_1869': 700, 'x_546': 5, 'x_1787': 0, 'x_1903': 0, 'x_2083': 0, 'x_26': 60, 'x_2222': 0, 'x_592': 200, 'x_919': 450, 'x_22': 61, 'x_678': 0, 'x_1853': 700, 'x_1053': 150, 'x_1114': 150, 'x_823': 1, 'x_2010': 0, 'x_1210': 0, 'x_1797': 1, 'x_87': 0, 'x_912': 0, 'x_248': 2000, 'x_1874': 700, 'x_591': 270, 'x_2087': 1, 'x_2097': 8, 'x_1374': 0, 'x_1187': 3000, 'x_1553': 0, 'x_79': 60, 'x_1256': 50, 'x_500': 3, 'x_940': 450, 'x_2227': 0, 'x_1454': 0, 'x_55': 60, 'x_998': 0, 'x_664': 0, 'x_736': 0, 'x_1660': 0, 'x_617': 270, 'x_933': 450, 'x_925': 450, 'x_1868': 701, 'x_1408': 1, 'x_1364': 2, 'x_792': 0, 'x_280': 0, 'x_2141': 1, 'x_1662': 0, 'x_1345': 0, 'x_887': 0, 'x_985': 0, 'x_1138': 3000, 'x_1472': 1, 'x_501': 25, 'x_2236': 1, 'x_113': 0, 'x_2153': 2, 'x_109': 100, 'x_2246': 0, 'x_1632': 5, 'x_1289': 50, 'x_885': 0, 'x_1605': 16, 'x_1380': 0, 'x_395': 0, 'x_1563': 0, 'x_1180': 0, 'x_86': 60, 'x_685': 0, 'x_1745': 0, 'x_1013': 0, 'x_1608': 13, 'x_667': 0, 'x_27': 0, 'x_891': 0, 'x_1628': 0, 'x_1367': 0, 'x_1511': 12001, 'x_2045': 5, 'x_917': 449, 'x_2066': 8, 'x_1538': 0, 'x_1144': 0, 'x_1944': 0, 'x_1328': 0, 'x_567': 0, 'x_133': 100, 'x_1524': 22, 'x_1994': 1, 'x_589': 200, 'x_2035': 0, 'x_1476': 0, 'x_366': 1, 'x_2072': 0, 'x_509': 0, 'x_934': 450, 'x_1542': 4, 'x_2003': 4, 'x_994': 2, 'x_1183': 0, 'x_479': 9, 'x_2257': 0, 'x_1634': 20, 'x_1710': 10, 'x_896': 0, 'x_704': 53, 'x_622': 270, 'x_686': 0, 'x_997': 0, 'x_797': 0, 'x_2189': 9100, 'x_545': 0, 'x_226': 2000, 'x_701': 0, 'x_674': 0, 'x_930': 450, 'x_1026': 150, 'x_880': 0, 'x_146': 100, 'x_540': 1, 'x_339': 2, 'x_1162': 0, 'x_1041': 150, 'x_422': 1, 'x_844': 3520, 'x_2012': 0, 'x_1164': 0, 'x_414': 0, 'x_40': 60, 'x_814': 12, 'x_2144': 0, 'x_2041': 0, 'x_320': 0, 'x_1181': 2, 'x_811': 3520, 'x_51': 60, 'x_4': 0, 'x_631': 272, 'x_412': 0, 'x_136': 0, 'x_839': 2, 'x_1094': 150, 'x_1876': 0, 'x_2070': 0, 'x_1885': 0, 'x_1717': 0, 'x_625': 270, 'x_895': 0, 'x_1636': 6, 'x_2023': 1, 'x_763': 1, 'x_1625': 0, 'x_816': 0, 'x_1054': 150, 'x_436': 0, 'x_2054': 0, 'x_543': 0, 'x_1849': 0, 'x_761': 0, 'x_41': 60, 'x_739': 0, 'x_1970': 6, 'x_2260': 0, 'x_1078': 150, 'x_525': 0, 'x_1058': 150, 'x_131': 100, 'x_1940': 0, 'x_1346': 0, 'x_892': 0, 'x_253': 2005, 'x_278': 1, 'x_1629': 1, 'x_644': 270, 'x_313': 0, 'x_2026': 0, 'x_1188': 3000, 'x_1989': 3, 'x_723': 5, 'x_659': 0, 'x_220': 0, 'x_250': 2000, 'x_612': 270, 'x_1185': 0, 'x_455': 0, 'x_1822': 700, 'x_2091': 7, 'x_1348': 10002, 'x_2014': 9, 'x_1825': 732, 'x_719': 1, 'x_199': 0, 'x_1815': 0, 'x_2233': 0, 'x_181': 100, 'x_795': 0, 'x_641': 270, 'x_2008': 0, 'x_893': 0, 'x_85': 0, 'x_837': 3528, 'x_913': 0, 'x_1129': 0, 'x_1749': 5, 'x_1526': 5, 'x_966': 436, 'x_939': 450, 'x_1236': 0, 'x_1872': 700, 'x_65': 60, 'x_1671': 0, 'x_1543': 0, 'x_1686': 2, 'x_84': 0, 'x_2220': 7, 'x_1900': 0, 'x_1347': 0, 'x_1388': 5, 'x_1475': 0, 'x_324': 0, 'x_1967': 1, 'x_905': 0, 'x_916': 0, 'x_1743': 0, 'x_441': 0, 'x_551': 0, 'x_1570': 0, 'x_2225': 1, 'x_1410': 0, 'x_568': 0, 'x_619': 270, 'x_809': 3524, 'x_499': 0, 'x_1957': 2, 'x_1855': 731, 'x_1905': 700, 'x_629': 274, 'x_265': 2000, 'x_705': 0, 'x_377': 0, 'x_2068': 3, 'x_601': 270, 'x_1778': 0, 'x_1343': 50, 'x_214': 0, 'x_266': 2000, 'x_942': 450, 'x_1858': 700, 'x_2168': 0, 'x_715': 4, 'x_328': 2009, 'x_938': 450, 'x_1068': 0, 'x_1407': 4, 'x_1229': 0, 'x_1071': 150, 'x_1886': 3, 'x_613': 270, 'x_843': 3551, 'x_1249': 2, 'x_60': 60, 'x_1157': 3000, 'x_2067': 7, 'x_818': 0, 'x_391': 0, 'x_2196': 1, 'x_336': 1, 'x_1441': 0, 'x_1509': 6, 'x_115': 100, 'x_2275': 0, 'x_36': 60, 'x_537': 0, 'x_721': 0, 'x_19': 60, 'x_657': 0, 'x_777': 0, 'x_1859': 726, 'x_531': 0, 'x_2186': 11, 'x_2077': 3, 'x_346': 0, 'x_419': 0, 'x_1902': 3, 'x_1007': 0, 'x_610': 270, 'x_2183': 0, 'x_1418': 0, 'x_1938': 24000, 'x_565': 0, 'x_727': 8, 'x_1239': 0, 'x_1281': 50, 'x_1865': 0, 'x_921': 0, 'x_1518': 0, 'x_2270': 0, 'x_1975': 0, 'x_673': 200, 'x_850': 3525, 'x_379': 0, 'x_416': 0, 'x_807': 0, 'x_566': 0, 'x_2217': 9100, 'x_1351': 9, 'x_989': 450, 'x_2042': 2, 'x_134': 101, 'x_370': 0, 'x_1314': 50, 'x_415': 5, 'x_285': 0, 'x_774': 0, 'x_995': 450, 'x_2093': 4, 'x_461': 2, 'x_1525': 12009, 'x_1292': 50, 'x_290': 0, 'x_666': 0, 'x_1767': 1, 'x_1312': 0, 'x_2046': 0, 'x_1004': 0, 'x_1718': 9, 'x_68': 60, 'x_1990': 1, 'x_585': 0, 'x_171': 0, 'x_922': 450, 'x_2231': 0, 'x_1557': 0, 'x_744': 7, 'x_1467': 1, 'x_897': 1, 'x_1754': 0, 'x_2109': 6, 'x_1759': 0, 'x_1730': 18607, 'x_464': 0, 'x_1593': 0, 'x_1119': 0, 'x_1326': 50, 'x_2268': 0, 'x_1645': 3, 'x_790': 0, 'x_310': 0, 'x_1322': 50, 'x_2263': 0, 'x_772': 0, 'x_431': 0, 'x_874': 2, 'x_2228': 0, 'x_1785': 0, 'x_675': 0, 'x_735': 0, 'x_877': 0, 'x_72': 60, 'x_74': 60, 'x_1330': 50, 'x_1575': 0, 'x_965': 450, 'x_66': 60, 'x_1701': 0, 'x_504': 0, 'x_49': 60, 'x_2181': 0, 'x_363': 0, 'x_1806': 700, 'x_1494': 0, 'x_2230': 1, 'x_69': 60, 'x_1590': 1, 'x_2108': 4, 'x_1996': 15, 'x_410': 0, 'x_1152': 10, 'x_541': 0, 'x_1282': 50, 'x_2203': 11, 'x_1552': 0, 'x_233': 7, 'x_268': 2000, 'x_1789': 0, 'x_602': 201, 'x_752': 0, 'x_1396': 0, 'x_579': 200, 'x_1182': 3000, 'x_1808': 0, 'x_396': 5, 'x_364': 0, 'x_866': 0, 'x_694': 8, 'x_343': 0, 'x_717': 7, 'x_2126': 0, 'x_1514': 0, 'x_684': 2, 'x_200': 0, 'x_1170': 3000, 'x_1696': 4, 'x_116': 100, 'x_2151': 1, 'x_1150': 10, 'x_1390': 7, 'x_1913': 0, 'x_1139': 0, 'x_1846': 700, 'x_1122': 0, 'x_2187': 0, 'x_467': 9, 'x_1376': 2, 'x_1248': 0, 'x_1584': 0, 'x_275': 0, 'x_710': 12, 'x_1189': 3000, 'x_12': 60, 'x_1912': 0, 'x_150': 100, 'x_1118': 150, 'x_514': 13, 'x_1456': 0, 'x_1870': 700, 'x_732': 0, 'x_1878': 0, 'x_2215': 1, 'x_5': 60, 'x_1620': 0, 'x_2211': 0, 'x_44': 60, 'x_1839': 700, 'x_1630': 0, 'x_561': 1, 'x_1649': 0, 'x_272': 2001, 'x_1658': 0, 'x_361': 2, 'x_2089': 7, 'x_1693': 0, 'x_1939': 0, 'x_2274': 0, 'x_1382': 14, 'x_302': 0, 'x_427': 0, 'x_1368': 10000, 'x_299': 0, 'x_1819': 718, 'x_227': 0, 'x_1142': 3001, 'x_594': 204, 'x_39': 60, 'x_340': 0, 'x_1413': 1, 'x_1076': 150, 'x_1473': 23, 'x_1852': 700, 'x_2199': 6, 'x_630': 0, 'x_35': 60, 'x_238': 0, 'x_1313': 50, 'x_1615': 0, 'x_2146': 0, 'x_513': 9, 'x_593': 207, 'x_486': 0, 'x_1579': 0, 'x_1124': 150, 'x_246': 2000, 'x_2242': 0, 'x_596': 200, 'x_2200': 9, 'x_29': 60, 'x_960': 450, 'x_2088': 0, 'x_898': 0, 'x_1242': 3, 'x_1196': 1, 'x_1452': 0, 'x_1464': 1, 'x_1332': 0, 'x_91': 0, 'x_1395': 10000, 'x_1022': 150, 'x_1781': 1, 'x_750': 0, 'x_1961': 8, 'x_1200': 1, 'x_1633': 4, 'x_964': 450, 'x_1159': 3000, 'x_1386': 4, 'x_2107': 0, 'x_360': 0, 'x_769': 0, 'x_1650': 0, 'x_435': 0, 'x_2073': 0, 'x_417': 5, 'x_1446': 0, 'x_1110': 0, 'x_1529': 0, 'x_648': 270, 'x_903': 0, 'x_1949': 28, 'x_237': 1, 'x_1772': 0, 'x_223': 2000, 'x_1901': 0, 'x_1515': 0, 'x_858': 1, 'x_1023': 153, 'x_1488': 3, 'x_1038': 150, 'x_1468': 3500, 'x_1083': 151, 'x_1063': 152, 'x_848': 1, 'x_864': 0, 'x_711': 0, 'x_2172': 0, 'x_1802': 0, 'x_490': 47, 'x_1647': 0, 'x_506': 0, 'x_249': 2000, 'x_2213': 0, 'x_1262': 50, 'x_196': 0, 'x_1523': 12001, 'x_597': 202, 'x_1005': 0, 'x_2044': 2, 'x_1334': 50, 'x_920': 0, 'x_95': 60, 'x_726': 0, 'x_571': 3, 'x_1449': 2, 'x_162': 100, 'x_1640': 1, 'x_690': 0, 'x_781': 0, 'x_1519': 0, 'x_2078': 3, 'x_1161': 3000, 'x_404': 1, 'x_1024': 150, 'x_440': 0, 'x_1493': 3500, 'x_145': 100, 'x_765': 0, 'x_1197': 0, 'x_553': 0, 'x_1922': 0, 'x_661': 0, 'x_936': 450, 'x_1713': 4, 'x_1406': 0, 'x_1602': 0, 'x_1566': 0, 'x_1935': 2, 'x_429': 2, 'x_1823': 669, 'x_1484': 1, 'x_1270': 50, 'x_1309': 0, 'x_1154': 0, 'x_369': 0, 'x_428': 1, 'x_1373': 7, 'x_1682': 0, 'x_295': 0, 'x_1481': 7, 'x_399': 5, 'x_1580': 0, 'x_868': 0, 'x_61': 60, 'x_1277': 50, 'x_783': 0, 'x_469': 8, 'x_2169': 9101, 'x_1840': 700, 'x_1821': 700, 'x_1428': 0, 'x_273': 0, 'x_1130': 0, 'x_315': 0, 'x_159': 100, 'x_658': 292, 'x_147': 100, 'x_2037': 0, 'x_624': 271, 'x_1436': 0, 'x_650': 0, 'x_1008': 448, 'x_15': 60, 'x_1223': 3002, 'x_775': 2, 'x_670': 286, 'x_1966': 2, 'x_980': 449, 'x_2094': 0, 'x_161': 100, 'x_2047': 0, 'x_261': 2000, 'x_1522': 0, 'x_2140': 0, 'x_635': 0, 'x_258': 0, 'x_1657': 0, 'x_413': 0, 'x_405': 0, 'x_50': 60, 'x_522': 0, 'x_1012': 0, 'x_1835': 700, 'x_1974': 1, 'x_13': 60, 'x_2185': 9100, 'x_341': 0, 'x_1417': 0, 'x_2079': 0, 'x_2115': 0, 'x_1335': 50, 'x_409': 0, 'x_991': 0, 'x_611': 270, 'x_1089': 150, 'x_834': 1, 'x_1505': 9, 'x_1923': 0, 'x_1610': 2, 'x_502': 1, 'x_158': 100, 'x_244': 2000, 'x_2239': 0, 'x_118': 100, 'x_2135': 0, 'x_1817': 700, 'x_1308': 50, 'x_1941': 83, 'x_1530': 0, 'x_872': 0, 'x_201': 0, 'x_1278': 50, 'x_524': 0, 'x_135': 100, 'x_865': 0, 'x_108': 0, 'x_180': 100, 'x_1760': 0, 'x_1466': 12014, 'x_645': 270, 'x_1892': 0, 'x_1480': 0, 'x_1735': 0, 'x_831': 2, 'x_1706': 18500, 'x_143': 102, 'x_375': 3, 'x_1753': 7, 'x_1555': 0, 'x_977': 0, 'x_459': 0, 'x_1126': 0, 'x_1613': 1, 'x_1232': 0, 'x_1387': 0, 'x_1724': 18500, 'x_314': 0, 'x_1704': 0, 'x_2011': 0, 'x_1324': 50, 'x_1502': 12003, 'x_935': 0, 'x_1750': 2, 'x_1460': 1, 'x_167': 100, 'x_764': 0, 'x_2057': 0, 'x_2160': 0, 'x_1471': 0, 'x_203': 0, 'x_642': 0, 'x_2259': 0, 'x_2152': 0, 'x_471': 0, 'x_1265': 50, 'x_798': 0, 'x_1828': 700, 'x_1866': 701, 'x_242': 2000, 'x_754': 0, 'x_947': 450, 'x_1192': 9, 'x_2155': 0, 'x_362': 3, 'x_1850': 700, 'x_243': 2000, 'x_618': 270, 'x_558': 0, 'x_1537': 0, 'x_1193': 0, 'x_480': 7, 'x_194': 100, 'x_254': 2000, 'x_1952': 0, 'x_120': 100, 'x_1893': 0, 'x_260': 6, 'x_1675': 0, 'x_654': 0, 'x_219': 0, 'x_33': 60, 'x_1978': 0, 'x_8': 60, 'x_2133': 0, 'x_1478': 12010, 'x_1016': 449, 'x_1017': 150, 'x_21': 60, 'x_1211': 0, 'x_2143': 0, 'x_2081': 0, 'x_1564': 0, 'x_638': 270, 'x_1190': 3003, 'x_833': 3575, 'x_1786': 0, 'x_400': 3, 'x_2013': 0, 'x_439': 0, 'x_993': 450, 'x_334': 0, 'x_1784': 0, 'x_1804': 0, 'x_1512': 12002, 'x_803': 0, 'x_1549': 3500, 'x_1125': 0, 'x_1652': 2, 'x_1350': 0, 'x_6': 61, 'x_77': 0, 'x_539': 0, 'x_516': 20001, 'x_2139': 0, 'x_578': 204, 'x_99': 60, 'x_1430': 0, 'x_1093': 150, 'x_1987': 0, 'x_1533': 0, 'x_779': 0, 'x_2164': 0, 'x_183': 100, 'x_1565': 0, 'x_2117': 0, 'x_768': 0, 'x_1871': 700, 'x_2237': 0, 'x_838': 0, 'x_1788': 0, 'x_1700': 0, 'x_1843': 700, 'x_2252': 0, 'x_932': 450, 'x_1972': 40, 'x_1009': 450, 'x_2271': 0, 'x_2240': 7, 'x_890': 0, 'x_515': 2, 'x_712': 2, 'x_2110': 2, 'x_398': 0, 'x_1930': 0, 'x_856': 6, 'x_102': 60, 'x_1176': 0, 'x_2166': 9103, 'x_793': 0, 'x_894': 0, 'x_778': 0, 'x_1419': 2, 'x_2249': 0, 'x_1578': 0, 'x_907': 0, 'x_365': 2, 'x_262': 4, 'x_1867': 700, 'x_1280': 50, 'x_496': 10, 'x_103': 60, 'x_1877': 0, 'x_1792': 0, 'x_228': 2000, 'x_908': 450, 'x_1500': 3501, 'x_1790': 0, 'x_1558': 0, 'x_1383': 10000, 'x_1087': 0, 'x_1904': 700, 'x_1918': 0, 'x_972': 0, 'x_883': 0, 'x_828': 3520, 'x_446': 10, 'x_1596': 0, 'x_1039': 152, 'x_2188': 9100, 'x_633': 198, 'x_1179': 3, 'x_301': 0, 'x_1953': 1, 'x_291': 0, 'x_944': 450, 'x_1659': 1, 'x_2105': 37, 'x_1184': 0, 'x_1676': 0, 'x_900': 10, 'x_1697': 0, 'x_1113': 150, 'x_423': 0, 'x_1357': 0, 'x_259': 0, 'x_1201': 0, 'x_855': 3520, 'x_588': 0, 'x_1573': 0, 'x_1943': 0, 'x_660': 200, 'x_2048': 0, 'x_125': 0, 'x_1437': 0, 'x_1036': 150, 'x_800': 0, 'x_1510': 12000, 'x_1783': 1, 'x_1148': 0, 'x_1477': 0, 'x_2118': 0, 'x_2214': 3, 'x_1402': 0, 'x_179': 100, 'x_1218': 0, 'x_1725': 0, 'x_946': 450, 'x_303': 0, 'x_2255': 1, 'x_2232': 0, 'x_1997': 2, 'x_1927': 0, 'x_2219': 5, 'x_987': 3, 'x_1459': 12011, 'x_943': 450, 'x_808': 0, 'x_983': 450, 'x_817': 3, 'x_511': 0, 'x_1206': 1, 'x_1929': 0, 'x_1539': 0, 'x_149': 100, 'x_1474': 0, 'x_17': 60, 'x_1199': 0, 'x_753': 2, 'x_1092': 150, 'x_2251': 0, 'x_847': 0, 'x_1391': 2, 'x_953': 450, 'x_1979': 7, 'x_298': 0, 'x_111': 100, 'x_114': 100, 'x_1766': 0}. Best is trial 1 with value: 1.7066610884960103.\n",
      "[I 2025-09-25 19:52:38,362] Trial 2 finished with value: 1.6922742800520252 and parameters: {'x_2247': 400, 'x_963': 290, 'x_431': 114, 'x_382': 225, 'x_41': 24, 'x_940': 255, 'x_1956': 3396, 'x_1407': 0, 'x_2034': 22, 'x_1201': 0, 'x_1014': 2, 'x_275': 0, 'x_1581': 0, 'x_869': 0, 'x_227': 0, 'x_992': 117, 'x_1610': 0, 'x_108': 29, 'x_1275': 0, 'x_567': 0, 'x_1296': 50, 'x_257': 0, 'x_1994': 5388, 'x_2090': 0, 'x_1290': 50, 'x_1159': 3000, 'x_1567': 0, 'x_1297': 50, 'x_1375': 0, 'x_588': 0, 'x_2156': 0, 'x_90': 43, 'x_1509': 0, 'x_35': 58, 'x_1512': 12000, 'x_1831': 0, 'x_705': 0, 'x_1982': 2296, 'x_481': 20000, 'x_141': 0, 'x_170': 0, 'x_491': 0, 'x_535': 0, 'x_908': 225, 'x_391': 180, 'x_1566': 0, 'x_136': 0, 'x_1148': 0, 'x_985': 54, 'x_1178': 3000, 'x_1036': 0, 'x_1272': 50, 'x_1700': 0, 'x_1619': 0, 'x_75': 72, 'x_2186': 2069, 'x_898': 0, 'x_463': 0, 'x_1759': 0, 'x_1758': 0, 'x_2203': 2171, 'x_1062': 0, 'x_613': 270, 'x_2122': 0, 'x_27': 28, 'x_248': 2000, 'x_541': 0, 'x_1946': 13088, 'x_1442': 0, 'x_1552': 0, 'x_973': 348, 'x_2106': 0, 'x_852': 0, 'x_755': 0, 'x_368': 486, 'x_1456': 0, 'x_1944': 742, 'x_1605': 0, 'x_2163': 7247, 'x_2219': 2063, 'x_371': 226, 'x_1995': 5436, 'x_360': 424, 'x_1788': 0, 'x_1352': 0, 'x_1486': 0, 'x_231': 2000, 'x_1266': 50, 'x_6': 80, 'x_1339': 0, 'x_1355': 0, 'x_523': 0, 'x_34': 80, 'x_1137': 0, 'x_1540': 0, 'x_1822': 700, 'x_1781': 0, 'x_1317': 50, 'x_77': 6, 'x_2057': 0, 'x_1780': 0, 'x_1618': 0, 'x_1698': 0, 'x_1064': 0, 'x_817': 0, 'x_1340': 50, 'x_1140': 0, 'x_171': 0, 'x_1395': 10000, 'x_502': 0, 'x_424': 226, 'x_1061': 0, 'x_295': 0, 'x_1426': 0, 'x_367': 226, 'x_1672': 0, 'x_2220': 2108, 'x_809': 3520, 'x_519': 0, 'x_252': 0, 'x_538': 0, 'x_1258': 50, 'x_1118': 0, 'x_2140': 0, 'x_1436': 0, 'x_553': 0, 'x_1219': 0, 'x_556': 0, 'x_154': 0, 'x_673': 200, 'x_110': 0, 'x_872': 0, 'x_1887': 700, 'x_1392': 0, 'x_255': 2000, 'x_1978': 3519, 'x_1390': 0, 'x_1441': 0, 'x_971': 49, 'x_258': 0, 'x_1834': 0, 'x_921': 291, 'x_1485': 0, 'x_4': 80, 'x_2192': 2064, 'x_1794': 0, 'x_2261': 46, 'x_442': 451, 'x_931': 50, 'x_243': 2000, 'x_596': 200, 'x_2149': 0, 'x_1766': 0, 'x_322': 0, 'x_1228': 0, 'x_438': 90, 'x_522': 0, 'x_1588': 0, 'x_1448': 0, 'x_1640': 0, 'x_1980': 621, 'x_238': 0, 'x_762': 0, 'x_1473': 0, 'x_450': 10, 'x_2013': 1221, 'x_2039': 240, 'x_621': 270, 'x_1892': 0, 'x_1539': 0, 'x_1073': 0, 'x_448': 7, 'x_488': 20000, 'x_7': 24, 'x_298': 0, 'x_10': 81, 'x_362': 226, 'x_1179': 0, 'x_501': 0, 'x_536': 0, 'x_1113': 0, 'x_738': 0, 'x_1034': 0, 'x_1287': 50, 'x_195': 0, 'x_707': 0, 'x_2180': 2611, 'x_1675': 0, 'x_507': 0, 'x_790': 0, 'x_1948': 388, 'x_1575': 0, 'x_285': 0, 'x_1602': 0, 'x_1481': 0, 'x_654': 0, 'x_1260': 50, 'x_1229': 0, 'x_743': 0, 'x_1958': 5154, 'x_300': 2000, 'x_1038': 0, 'x_50': 77, 'x_478': 0, 'x_892': 0, 'x_2177': 2219, 'x_1632': 0, 'x_1970': 5558, 'x_1142': 3000, 'x_2004': 176, 'x_193': 0, 'x_2110': 0, 'x_1771': 0, 'x_610': 270, 'x_628': 270, 'x_2001': 2548, 'x_899': 0, 'x_1251': 0, 'x_941': 355, 'x_12': 22, 'x_855': 3520, 'x_1732': 0, 'x_583': 270, 'x_779': 0, 'x_148': 0, 'x_845': 0, 'x_702': 0, 'x_886': 0, 'x_271': 0, 'x_801': 0, 'x_783': 0, 'x_1612': 0, 'x_934': 209, 'x_164': 0, 'x_1021': 0, 'x_1022': 0, 'x_233': 0, 'x_838': 0, 'x_2006': 165, 'x_644': 270, 'x_896': 0, 'x_15': 37, 'x_1281': 50, 'x_876': 0, 'x_2067': 0, 'x_711': 0, 'x_1681': 0, 'x_951': 383, 'x_2228': 7, 'x_37': 88, 'x_2007': 537, 'x_568': 0, 'x_966': 345, 'x_2098': 0, 'x_1042': 0, 'x_2159': 0, 'x_0': 21, 'x_327': 0, 'x_668': 0, 'x_1199': 0, 'x_580': 200, 'x_1470': 12000, 'x_429': 93, 'x_754': 0, 'x_1467': 0, 'x_1859': 0, 'x_296': 0, 'x_1628': 0, 'x_2002': 471, 'x_2109': 0, 'x_1231': 0, 'x_1292': 50, 'x_579': 200, 'x_1524': 0, 'x_564': 0, 'x_1534': 0, 'x_835': 0, 'x_400': 228, 'x_281': 2000, 'x_127': 0, 'x_1734': 0, 'x_209': 0, 'x_1457': 0, 'x_968': 342, 'x_1694': 0, 'x_2176': 42, 'x_1066': 0, 'x_1615': 0, 'x_508': 0, 'x_1423': 0, 'x_263': 0, 'x_1460': 0, 'x_380': 227, 'x_454': 0, 'x_1949': 5240, 'x_93': 2, 'x_1191': 3000, 'x_2069': 0, 'x_1055': 0, 'x_24': 6, 'x_828': 3520, 'x_256': 2000, 'x_1903': 0, 'x_1680': 0, 'x_1305': 50, 'x_607': 270, 'x_1959': 688, 'x_1878': 0, 'x_1047': 0, 'x_1153': 0, 'x_1402': 0, 'x_602': 200, 'x_316': 0, 'x_823': 0, 'x_1006': 102, 'x_524': 0, 'x_761': 0, 'x_133': 0, 'x_774': 0, 'x_144': 0, 'x_1496': 0, 'x_717': 0, 'x_225': 0, 'x_780': 0, 'x_1636': 0, 'x_627': 270, 'x_1302': 50, 'x_341': 745, 'x_1438': 0, 'x_2199': 212, 'x_487': 0, 'x_1346': 0, 'x_2234': 599, 'x_958': 336, 'x_1295': 50, 'x_165': 0, 'x_830': 3520, 'x_126': 0, 'x_470': 0, 'x_2029': 140, 'x_266': 2000, 'x_1235': 0, 'x_1703': 0, 'x_1336': 50, 'x_1738': 0, 'x_1077': 0, 'x_571': 0, 'x_1335': 50, 'x_770': 0, 'x_576': 0, 'x_562': 0, 'x_1696': 0, 'x_1943': 2073, 'x_1983': 1445, 'x_1294': 50, 'x_791': 0, 'x_215': 0, 'x_18': 70, 'x_47': 4, 'x_1608': 0, 'x_680': 0, 'x_1716': 0, 'x_476': 0, 'x_1499': 0, 'x_226': 2000, 'x_1498': 0, 'x_2244': 31, 'x_393': 50, 'x_1131': 0, 'x_1603': 0, 'x_51': 99, 'x_1475': 0, 'x_994': 74, 'x_284': 0, 'x_1406': 0, 'x_1942': 2962, 'x_1718': 0, 'x_547': 0, 'x_2113': 0, 'x_539': 0, 'x_1234': 0, 'x_1009': 182, 'x_512': 30000, 'x_1776': 0, 'x_1962': 1799, 'x_879': 0, 'x_723': 0, 'x_638': 270, 'x_495': 0, 'x_959': 1, 'x_1112': 0, 'x_317': 0, 'x_1307': 50, 'x_1801': 0, 'x_461': 0, 'x_1107': 0, 'x_549': 0, 'x_659': 0, 'x_1497': 0, 'x_86': 66, 'x_354': 226, 'x_2267': 105, 'x_1174': 0, 'x_1546': 0, 'x_2115': 0, 'x_425': 161, 'x_694': 0, 'x_544': 0, 'x_594': 200, 'x_1455': 0, 'x_1559': 0, 'x_669': 0, 'x_529': 0, 'x_1876': 0, 'x_2266': 49, 'x_1858': 700, 'x_563': 0, 'x_1595': 0, 'x_1845': 700, 'x_1410': 0, 'x_304': 2000, 'x_2263': 21, 'x_1720': 0, 'x_719': 0, 'x_1037': 0, 'x_320': 0, 'x_2210': 4912, 'x_1217': 0, 'x_1202': 0, 'x_1663': 0, 'x_2117': 0, 'x_949': 407, 'x_595': 200, 'x_196': 0, 'x_518': 0, 'x_1790': 0, 'x_833': 3520, 'x_1839': 700, 'x_1182': 3000, 'x_1799': 0, 'x_2194': 2014, 'x_1484': 0, 'x_1016': 348, 'x_624': 270, 'x_1587': 0, 'x_1538': 0, 'x_891': 0, 'x_364': 96, 'x_177': 0, 'x_396': 227, 'x_1635': 0, 'x_1677': 0, 'x_2030': 110, 'x_935': 117, 'x_1536': 0, 'x_1207': 0, 'x_1067': 0, 'x_1058': 0, 'x_1289': 50, 'x_128': 0, 'x_731': 0, 'x_2189': 4406, 'x_2144': 0, 'x_1224': 0, 'x_2274': 4, 'x_492': 0, 'x_1122': 0, 'x_426': 223, 'x_1683': 0, 'x_1111': 0, 'x_919': 437, 'x_1176': 0, 'x_151': 0, 'x_394': 228, 'x_834': 0, 'x_142': 0, 'x_631': 270, 'x_1802': 0, 'x_2206': 1423, 'x_1803': 0, 'x_802': 3520, 'x_1633': 0, 'x_682': 0, 'x_1237': 0, 'x_1200': 0, 'x_1652': 0, 'x_805': 3520, 'x_2167': 142, 'x_1465': 0, 'x_2233': 1634, 'x_2264': 3, 'x_2077': 0, 'x_1900': 0, 'x_1028': 0, 'x_94': 30, 'x_2232': 1413, 'x_2103': 0, 'x_11': 0, 'x_623': 270, 'x_1351': 0, 'x_1369': 10000, 'x_1479': 0, 'x_1585': 0, 'x_29': 36, 'x_63': 2, 'x_1274': 50, 'x_559': 0, 'x_1749': 0, 'x_1483': 0, 'x_1643': 0, 'x_1558': 0, 'x_2190': 961, 'x_122': 0, 'x_546': 0, 'x_1447': 0, 'x_1682': 0, 'x_2043': 72, 'x_560': 0, 'x_2066': 0, 'x_1244': 0, 'x_1674': 0, 'x_449': 7, 'x_954': 350, 'x_2048': 16, 'x_2142': 0, 'x_1787': 0, 'x_1551': 0, 'x_1606': 0, 'x_405': 1, 'x_398': 247, 'x_353': 230, 'x_1184': 0, 'x_666': 0, 'x_1477': 0, 'x_1121': 0, 'x_2223': 127, 'x_1733': 0, 'x_1025': 0, 'x_811': 3520, 'x_1268': 0, 'x_2082': 0, 'x_939': 318, 'x_1707': 0, 'x_922': 228, 'x_2205': 685, 'x_1433': 0, 'x_1580': 0, 'x_1883': 0, 'x_403': 224, 'x_608': 270, 'x_1829': 700, 'x_1890': 700, 'x_186': 0, 'x_759': 0, 'x_1354': 0, 'x_1507': 3500, 'x_1893': 0, 'x_335': 0, 'x_2253': 225, 'x_61': 94, 'x_1736': 0, 'x_1033': 0, 'x_1548': 0, 'x_156': 0, 'x_831': 0, 'x_1782': 0, 'x_1501': 0, 'x_1974': 1428, 'x_446': 224, 'x_1701': 0, 'x_145': 0, 'x_1932': 0, 'x_753': 0, 'x_236': 2000, 'x_2033': 34, 'x_2091': 0, 'x_1812': 700, 'x_578': 200, 'x_1594': 0, 'x_1434': 0, 'x_1221': 0, 'x_267': 2000, 'x_2045': 1913, 'x_121': 0, 'x_1011': 92, 'x_150': 0, 'x_1655': 0, 'x_467': 0, 'x_447': 45, 'x_751': 0, 'x_744': 0, 'x_1029': 0, 'x_2235': 158, 'x_760': 0, 'x_1180': 0, 'x_2257': 0, 'x_187': 0, 'x_901': 0, 'x_2051': 166, 'x_2118': 0, 'x_786': 0, 'x_388': 223, 'x_1325': 50, 'x_2068': 0, 'x_1901': 0, 'x_1092': 0, 'x_2179': 583, 'x_1356': 0, 'x_2188': 5518, 'x_1007': 27, 'x_1368': 10000, 'x_1323': 50, 'x_301': 0, 'x_1403': 0, 'x_748': 0, 'x_250': 2000, 'x_840': 0, 'x_2035': 14, 'x_3': 30, 'x_2227': 0, 'x_194': 0, 'x_452': 8, 'x_551': 0, 'x_1003': 2, 'x_1825': 0, 'x_822': 0, 'x_1158': 0, 'x_1519': 0, 'x_229': 6000, 'x_330': 0, 'x_1526': 0, 'x_58': 83, 'x_1427': 0, 'x_152': 0, 'x_191': 0, 'x_885': 0, 'x_264': 0, 'x_736': 0, 'x_1243': 0, 'x_709': 0, 'x_626': 270, 'x_925': 0, 'x_1043': 0, 'x_960': 313, 'x_1222': 3000, 'x_1493': 3500, 'x_123': 0, 'x_1138': 3000, 'x_2260': 2, 'x_993': 351, 'x_1416': 0, 'x_2016': 491, 'x_2240': 387, 'x_767': 0, 'x_455': 0, 'x_1699': 0, 'x_88': 20, 'x_479': 0, 'x_1478': 12000, 'x_1650': 0, 'x_149': 0, 'x_603': 270, 'x_1894': 0, 'x_346': 480, 'x_111': 0, 'x_923': 216, 'x_1163': 0, 'x_1495': 0, 'x_2046': 12, 'x_920': 203, 'x_1687': 0, 'x_336': 227, 'x_1361': 0, 'x_2074': 0, 'x_1730': 0, 'x_878': 0, 'x_1981': 5391, 'x_1770': 0, 'x_1668': 0, 'x_381': 865, 'x_837': 3520, 'x_2193': 428, 'x_1503': 0, 'x_2254': 428, 'x_1075': 0, 'x_1053': 0, 'x_1572': 3500, 'x_1568': 0, 'x_634': 0, 'x_279': 0, 'x_1015': 2, 'x_2056': 0, 'x_355': 230, 'x_220': 0, 'x_278': 0, 'x_1300': 50, 'x_2226': 172, 'x_1440': 0, 'x_218': 2000, 'x_655': 270, 'x_1312': 0, 'x_765': 0, 'x_956': 11, 'x_131': 0, 'x_223': 2000, 'x_200': 0, 'x_1691': 0, 'x_453': 23, 'x_1562': 0, 'x_1469': 0, 'x_224': 2000, 'x_294': 0, 'x_825': 0, 'x_52': 80, 'x_1930': 0, 'x_254': 2000, 'x_1657': 0, 'x_1474': 0, 'x_374': 222, 'x_1508': 0, 'x_65': 3, 'x_1108': 0, 'x_1334': 50, 'x_359': 227, 'x_622': 270, 'x_781': 0, 'x_1984': 3581, 'x_1090': 0, 'x_1989': 931, 'x_2258': 16, 'x_1413': 0, 'x_114': 0, 'x_1313': 50, 'x_672': 0, 'x_864': 0, 'x_856': 0, 'x_534': 0, 'x_875': 0, 'x_1669': 0, 'x_340': 180, 'x_1012': 30, 'x_139': 0, 'x_1955': 364, 'x_1755': 0, 'x_778': 0, 'x_1673': 0, 'x_1563': 0, 'x_548': 0, 'x_212': 0, 'x_504': 0, 'x_1714': 0, 'x_1451': 0, 'x_2181': 182, 'x_1459': 0, 'x_1719': 0, 'x_1630': 0, 'x_836': 0, 'x_1252': 50, 'x_861': 0, 'x_964': 420, 'x_1654': 0, 'x_2': 105, 'x_437': 152, 'x_2164': 4019, 'x_365': 226, 'x_1685': 0, 'x_597': 200, 'x_674': 0, 'x_1917': 0, 'x_332': 0, 'x_1987': 5932, 'x_503': 0, 'x_641': 270, 'x_1690': 0, 'x_1183': 0, 'x_1218': 0, 'x_1904': 700, 'x_1348': 10000, 'x_938': 368, 'x_482': 20000, 'x_795': 0, 'x_1458': 0, 'x_777': 0, 'x_1637': 0, 'x_1527': 0, 'x_1626': 0, 'x_929': 385, 'x_1417': 0, 'x_598': 200, 'x_2124': 0, 'x_1220': 0, 'x_26': 43, 'x_633': 0, 'x_1446': 0, 'x_991': 326, 'x_510': 20000, 'x_1973': 3583, 'x_1810': 0, 'x_1171': 0, 'x_2107': 0, 'x_1195': 0, 'x_1838': 700, 'x_961': 298, 'x_520': 0, 'x_216': 0, 'x_2061': 0, 'x_366': 223, 'x_1531': 0, 'x_1740': 0, 'x_57': 36, 'x_2132': 0, 'x_1765': 0, 'x_1103': 0, 'x_1656': 0, 'x_269': 0, 'x_315': 0, 'x_566': 0, 'x_1383': 10000, 'x_661': 0, 'x_1400': 10000, 'x_1868': 700, 'x_2198': 190, 'x_804': 0, 'x_2038': 3, 'x_2080': 0, 'x_637': 270, 'x_496': 0, 'x_401': 49, 'x_794': 0, 'x_948': 273, 'x_1604': 0, 'x_2214': 715, 'x_857': 0, 'x_2248': 126, 'x_333': 0, 'x_1697': 0, 'x_1692': 0, 'x_1710': 0, 'x_485': 0, 'x_2116': 0, 'x_2128': 0, 'x_1960': 1740, 'x_1013': 24, 'x_1145': 0, 'x_1938': 5399, 'x_807': 0, 'x_832': 0, 'x_2049': 1, 'x_2028': 30, 'x_662': 0, 'x_514': 0, 'x_498': 0, 'x_1398': 0, 'x_1385': 0, 'x_615': 270, 'x_515': 0, 'x_703': 0, 'x_924': 105, 'x_2212': 944, 'x_213': 0, 'x_561': 0, 'x_249': 2000, 'x_2174': 11557, 'x_125': 0, 'x_1143': 3000, 'x_1115': 0, 'x_1646': 0, 'x_1752': 0, 'x_1617': 0, 'x_1379': 0, 'x_1993': 5433, 'x_459': 0, 'x_1384': 0, 'x_87': 65, 'x_1584': 0, 'x_2094': 0, 'x_1488': 0, 'x_305': 0, 'x_1817': 700, 'x_1644': 0, 'x_1135': 0, 'x_1076': 0, 'x_827': 3520, 'x_1837': 700, 'x_1607': 0, 'x_323': 0, 'x_1192': 0, 'x_2064': 0, 'x_182': 0, 'x_407': 122, 'x_2224': 57, 'x_379': 84, 'x_1027': 0, 'x_1489': 12000, 'x_930': 75, 'x_416': 184, 'x_914': 293, 'x_84': 2, 'x_456': 0, 'x_692': 0, 'x_1318': 0, 'x_358': 225, 'x_616': 270, 'x_408': 80, 'x_1746': 0, 'x_486': 0, 'x_1521': 0, 'x_69': 0, 'x_2217': 5338, 'x_2052': 16, 'x_1358': 0, 'x_933': 143, 'x_1370': 10000, 'x_976': 222, 'x_750': 0, 'x_1444': 0, 'x_1094': 0, 'x_1529': 0, 'x_614': 200, 'x_1916': 0, 'x_1288': 50, 'x_2044': 86, 'x_82': 52, 'x_1902': 0, 'x_1376': 0, 'x_291': 0, 'x_657': 0, 'x_1377': 10000, 'x_180': 0, 'x_155': 0, 'x_103': 26, 'x_826': 3520, 'x_752': 0, 'x_537': 0, 'x_1286': 50, 'x_2075': 0, 'x_1779': 0, 'x_293': 2000, 'x_210': 0, 'x_483': 0, 'x_955': 60, 'x_1753': 0, 'x_2213': 1, 'x_1230': 0, 'x_1147': 6000, 'x_867': 0, 'x_1504': 0, 'x_550': 0, 'x_1537': 0, 'x_286': 0, 'x_1747': 0, 'x_912': 25, 'x_1502': 12000, 'x_321': 0, 'x_2196': 2077, 'x_411': 0, 'x_2079': 0, 'x_1306': 50, 'x_1461': 0, 'x_1705': 0, 'x_1070': 0, 'x_952': 262, 'x_585': 0, 'x_484': 0, 'x_642': 0, 'x_1933': 0, 'x_942': 159, 'x_1250': 0, 'x_927': 349, 'x_1826': 0, 'x_54': 43, 'x_1030': 0, 'x_272': 2000, 'x_1924': 0, 'x_1373': 0, 'x_1728': 0, 'x_1795': 0, 'x_1246': 0, 'x_96': 16, 'x_677': 0, 'x_1579': 0, 'x_1449': 0, 'x_1992': 26, 'x_299': 0, 'x_768': 0, 'x_1828': 700, 'x_2023': 1416, 'x_998': 0, 'x_1198': 0, 'x_468': 0, 'x_1001': 6, 'x_772': 0, 'x_2270': 0, 'x_945': 348, 'x_506': 0, 'x_1598': 0, 'x_1310': 50, 'x_1897': 700, 'x_1543': 0, 'x_369': 638, 'x_130': 0, 'x_2060': 0, 'x_699': 0, 'x_1975': 172, 'x_475': 0, 'x_1320': 50, 'x_1549': 3500, 'x_617': 270, 'x_1239': 0, 'x_489': 30000, 'x_787': 0, 'x_1767': 0, 'x_1248': 0, 'x_903': 0, 'x_587': 270, 'x_38': 80, 'x_1039': 0, 'x_1769': 0, 'x_1188': 3000, 'x_915': 258, 'x_247': 2000, 'x_1338': 50, 'x_1253': 50, 'x_632': 270, 'x_1041': 0, 'x_2252': 17, 'x_124': 0, 'x_174': 0, 'x_319': 0, 'x_1824': 700, 'x_1166': 0, 'x_1374': 0, 'x_600': 270, 'x_2041': 5, 'x_986': 23, 'x_1203': 0, 'x_865': 0, 'x_198': 0, 'x_1991': 7380, 'x_888': 0, 'x_1565': 0, 'x_720': 0, 'x_1582': 0, 'x_1686': 0, 'x_2208': 1036, 'x_1365': 0, 'x_287': 0, 'x_338': 256, 'x_784': 0, 'x_2183': 710, 'x_2111': 0, 'x_1445': 0, 'x_2078': 0, 'x_1715': 0, 'x_1520': 0, 'x_911': 282, 'x_1412': 0, 'x_1651': 0, 'x_676': 0, 'x_735': 0, 'x_277': 0, 'x_1189': 3000, 'x_1639': 0, 'x_1741': 0, 'x_253': 2000, 'x_342': 224, 'x_1349': 0, 'x_120': 0, 'x_905': 0, 'x_1971': 1482, 'x_153': 0, 'x_1095': 0, 'x_582': 200, 'x_2055': 0, 'x_689': 0, 'x_1977': 114, 'x_246': 2000, 'x_1742': 0, 'x_1844': 0, 'x_1277': 50, 'x_1996': 3651, 'x_2018': 520, 'x_1057': 0, 'x_1704': 0, 'x_466': 0, 'x_1874': 700, 'x_775': 0, 'x_1389': 0, 'x_357': 115, 'x_280': 0, 'x_1545': 0, 'x_1888': 0, 'x_1920': 0, 'x_1000': 24, 'x_2231': 205, 'x_2251': 16, 'x_1380': 0, 'x_1181': 0, 'x_713': 0, 'x_2114': 0, 'x_217': 0, 'x_1849': 0, 'x_1023': 0, 'x_274': 2000, 'x_158': 0, 'x_681': 0, 'x_688': 0, 'x_2204': 62, 'x_1236': 0, 'x_2014': 455, 'x_540': 0, 'x_530': 0, 'x_740': 0, 'x_2126': 0, 'x_73': 61, 'x_1430': 0, 'x_2011': 0, 'x_2000': 39, 'x_1905': 700, 'x_1309': 0, 'x_604': 270, 'x_1261': 0, 'x_376': 3, 'x_1709': 0, 'x_337': 165, 'x_1468': 3500, 'x_282': 2000, 'x_1421': 0, 'x_1907': 700, 'x_1035': 0, 'x_1241': 3000, 'x_1590': 0, 'x_656': 0, 'x_1480': 0, 'x_950': 412, 'x_609': 270, 'x_8': 76, 'x_1109': 0, 'x_1146': 6000, 'x_1671': 0, 'x_667': 0, 'x_1397': 0, 'x_1046': 0, 'x_1550': 0, 'x_480': 0, 'x_16': 86, 'x_1116': 0, 'x_813': 3520, 'x_1931': 0, 'x_404': 66, 'x_1750': 0, 'x_222': 0, 'x_1491': 0, 'x_1308': 50, 'x_348': 715, 'x_147': 0, 'x_999': 4, 'x_80': 62, 'x_1283': 50, 'x_1425': 0, 'x_334': 0, 'x_880': 0, 'x_1059': 0, 'x_245': 2000, 'x_1523': 12000, 'x_313': 0, 'x_1194': 0, 'x_2027': 83, 'x_1547': 0, 'x_2161': 0, 'x_1627': 0, 'x_1926': 700, 'x_261': 2000, 'x_1725': 0, 'x_1886': 0, 'x_331': 0, 'x_605': 270, 'x_241': 2000, 'x_324': 0, 'x_1972': 4841, 'x_1414': 0, 'x_975': 0, 'x_1160': 3000, 'x_2076': 0, 'x_1443': 0, 'x_1939': 5, 'x_2171': 6002, 'x_443': 100, 'x_1743': 0, 'x_302': 0, 'x_611': 270, 'x_112': 0, 'x_874': 0, 'x_1785': 0, 'x_1409': 0, 'x_1872': 700, 'x_372': 421, 'x_1761': 0, 'x_909': 0, 'x_28': 3, 'x_2216': 5596, 'x_1102': 0, 'x_445': 64, 'x_2184': 1025, 'x_132': 0, 'x_1857': 700, 'x_2059': 0, 'x_1514': 0, 'x_686': 0, 'x_1879': 0, 'x_1877': 0, 'x_477': 0, 'x_1726': 0, 'x_2230': 59, 'x_53': 55, 'x_1344': 0, 'x_1708': 0, 'x_1197': 0, 'x_2119': 0, 'x_1210': 0, 'x_866': 0, 'x_1670': 0, 'x_1921': 0, 'x_1415': 0, 'x_647': 0, 'x_22': 80, 'x_2015': 262, 'x_1257': 50, 'x_1800': 0, 'x_1291': 50, 'x_1869': 700, 'x_1611': 0, 'x_871': 0, 'x_1128': 0, 'x_1299': 50, 'x_1998': 2276, 'x_926': 180, 'x_1723': 0, 'x_1947': 2364, 'x_2262': 80, 'x_1089': 0, 'x_850': 3520, 'x_2237': 7, 'x_873': 0, 'x_1196': 0, 'x_848': 0, 'x_1515': 0, 'x_663': 0, 'x_670': 0, 'x_2071': 0, 'x_1048': 0, 'x_2238': 353, 'x_5': 25, 'x_648': 270, 'x_384': 221, 'x_2182': 210, 'x_1914': 0, 'x_1522': 0, 'x_2271': 0, 'x_242': 2000, 'x_2087': 0, 'x_268': 2000, 'x_1419': 0, 'x_66': 94, 'x_1576': 0, 'x_1510': 12000, 'x_199': 0, 'x_1049': 0, 'x_1928': 0, 'x_1601': 0, 'x_1793': 0, 'x_1110': 0, 'x_978': 279, 'x_1063': 0, 'x_1081': 0, 'x_2131': 0, 'x_2063': 0, 'x_569': 0, 'x_695': 0, 'x_472': 0, 'x_685': 0, 'x_2019': 0, 'x_509': 0, 'x_684': 0, 'x_789': 0, 'x_693': 0, 'x_816': 0, 'x_1225': 3000, 'x_1658': 0, 'x_906': 0, 'x_423': 331, 'x_2169': 678, 'x_1186': 3000, 'x_1065': 0, 'x_1814': 700, 'x_228': 2000, 'x_2154': 0, 'x_700': 0, 'x_1208': 0, 'x_206': 0, 'x_1165': 3000, 'x_1316': 0, 'x_1117': 0, 'x_1517': 0, 'x_1144': 0, 'x_1762': 0, 'x_64': 5, 'x_469': 0, 'x_134': 0, 'x_814': 0, 'x_1833': 700, 'x_1541': 0, 'x_211': 0, 'x_1010': 17, 'x_683': 0, 'x_1763': 0, 'x_2073': 0, 'x_1464': 0, 'x_2160': 0, 'x_79': 91, 'x_746': 0, 'x_732': 0, 'x_1597': 0, 'x_1401': 10000, 'x_839': 0, 'x_2173': 2166, 'x_118': 0, 'x_1891': 0, 'x_219': 0, 'x_645': 270, 'x_1342': 0, 'x_70': 5, 'x_60': 84, 'x_1256': 50, 'x_981': 103, 'x_1561': 0, 'x_440': 17, 'x_2062': 0, 'x_1242': 0, 'x_1453': 0, 'x_2138': 0, 'x_516': 20000, 'x_1961': 3509, 'x_106': 27, 'x_1999': 158, 'x_1986': 469, 'x_89': 14, 'x_1269': 50, 'x_1593': 0, 'x_169': 0, 'x_928': 95, 'x_1357': 0, 'x_533': 0, 'x_345': 80, 'x_1941': 4261, 'x_129': 0, 'x_554': 0, 'x_734': 0, 'x_2083': 0, 'x_1364': 0, 'x_1589': 0, 'x_542': 0, 'x_418': 487, 'x_532': 0, 'x_2065': 0, 'x_251': 2000, 'x_40': 14, 'x_584': 0, 'x_1083': 0, 'x_2037': 1, 'x_782': 0, 'x_2058': 0, 'x_863': 0, 'x_352': 223, 'x_1273': 50, 'x_1101': 0, 'x_2120': 0, 'x_45': 49, 'x_2146': 0, 'x_1314': 50, 'x_640': 0, 'x_1744': 0, 'x_946': 223, 'x_715': 0, 'x_17': 0, 'x_1997': 706, 'x_1676': 0, 'x_586': 200, 'x_821': 3520, 'x_377': 363, 'x_1862': 700, 'x_116': 0, 'x_232': 2000, 'x_1623': 0, 'x_1079': 0, 'x_397': 0, 'x_1068': 0, 'x_43': 55, 'x_1889': 0, 'x_1482': 0, 'x_135': 0, 'x_2218': 1698, 'x_2032': 73, 'x_1830': 700, 'x_1332': 0, 'x_1912': 0, 'x_712': 0, 'x_725': 0, 'x_378': 46, 'x_726': 0, 'x_2250': 22, 'x_531': 0, 'x_176': 0, 'x_179': 0, 'x_1940': 1779, 'x_1126': 0, 'x_722': 0, 'x_860': 0, 'x_618': 270, 'x_1816': 700, 'x_1964': 4267, 'x_451': 5, 'x_78': 6, 'x_649': 0, 'x_138': 0, 'x_312': 0, 'x_102': 7, 'x_862': 0, 'x_797': 0, 'x_2242': 0, 'x_2225': 145, 'x_890': 0, 'x_1679': 0, 'x_175': 0, 'x_2207': 707, 'x_44': 58, 'x_1583': 0, 'x_146': 0, 'x_283': 0, 'x_841': 3520, 'x_1880': 0, 'x_1324': 50, 'x_1360': 0, 'x_74': 58, 'x_1968': 3205, 'x_1205': 0, 'x_577': 0, 'x_2010': 0, 'x_1528': 0, 'x_1032': 0, 'x_1533': 0, 'x_500': 0, 'x_2040': 2, 'x_23': 0, 'x_1026': 0, 'x_309': 0, 'x_1487': 0, 'x_289': 0, 'x_1843': 700, 'x_235': 2000, 'x_819': 3520, 'x_918': 245, 'x_168': 0, 'x_1616': 0, 'x_1206': 0, 'x_160': 0, 'x_314': 0, 'x_1783': 0, 'x_972': 109, 'x_1276': 50, 'x_1301': 50, 'x_1861': 0, 'x_1271': 50, 'x_339': 228, 'x_708': 0, 'x_385': 225, 'x_1963': 3, 'x_1870': 700, 'x_1748': 0, 'x_1232': 0, 'x_1331': 50, 'x_1665': 0, 'x_1105': 0, 'x_854': 0, 'x_270': 2000, 'x_290': 0, 'x_1429': 0, 'x_329': 0, 'x_386': 598, 'x_1846': 700, 'x_1530': 0, 'x_1002': 0, 'x_552': 0, 'x_1127': 0, 'x_2222': 4157, 'x_1806': 700, 'x_1965': 7949, 'x_1311': 50, 'x_1418': 0, 'x_311': 0, 'x_1114': 0, 'x_2003': 52, 'x_1394': 0, 'x_1953': 0, 'x_1343': 50, 'x_20': 0, 'x_39': 0, 'x_439': 0, 'x_1084': 0, 'x_910': 419, 'x_1411': 0, 'x_1190': 3000, 'x_2005': 0, 'x_1642': 0, 'x_1739': 0, 'x_842': 3520, 'x_1187': 3000, 'x_1811': 0, 'x_796': 0, 'x_1721': 0, 'x_436': 2, 'x_1435': 0, 'x_1091': 0, 'x_665': 0, 'x_230': 6000, 'x_410': 223, 'x_653': 270, 'x_1119': 0, 'x_843': 3520, 'x_776': 0, 'x_612': 270, 'x_1569': 0, 'x_1098': 0, 'x_2255': 534, 'x_868': 0, 'x_2134': 0, 'x_276': 2000, 'x_1': 0, 'x_389': 29, 'x_1918': 0, 'x_1571': 0, 'x_2102': 0, 'x_91': 2, 'x_2215': 113, 'x_1808': 0, 'x_2141': 0, 'x_1018': 0, 'x_1060': 0, 'x_1952': 0, 'x_1476': 0, 'x_1044': 0, 'x_444': 58, 'x_2093': 0, 'x_724': 0, 'x_2259': 6, 'x_1990': 88, 'x_2275': 0, 'x_881': 0, 'x_1249': 0, 'x_2162': 5078, 'x_1898': 0, 'x_204': 0, 'x_107': 0, 'x_1072': 0, 'x_1327': 50, 'x_1134': 0, 'x_1353': 0, 'x_1560': 0, 'x_2125': 0, 'x_932': 150, 'x_30': 80, 'x_1388': 0, 'x_1910': 0, 'x_1454': 0, 'x_815': 0, 'x_1647': 0, 'x_1139': 0, 'x_643': 270, 'x_1157': 3000, 'x_1161': 3000, 'x_572': 270, 'x_59': 7, 'x_907': 0, 'x_1555': 0, 'x_1613': 0, 'x_2143': 0, 'x_1731': 0, 'x_2178': 643, 'x_742': 0, 'x_893': 0, 'x_109': 0, 'x_769': 0, 'x_308': 0, 'x_2166': 512, 'x_1424': 0, 'x_1966': 3973, 'x_1850': 700, 'x_356': 621, 'x_1915': 0, 'x_1172': 0, 'x_1170': 3000, 'x_913': 34, 'x_2047': 0, 'x_1506': 0, 'x_1005': 0, 'x_1472': 0, 'x_1688': 0, 'x_197': 0, 'x_525': 0, 'x_202': 0, 'x_2104': 0, 'x_474': 0, 'x_1909': 0, 'x_1882': 0, 'x_1255': 50, 'x_521': 0, 'x_1330': 50, 'x_1156': 0, 'x_1106': 0, 'x_1574': 0, 'x_1919': 0, 'x_32': 50, 'x_1303': 50, 'x_140': 0, 'x_497': 0, 'x_944': 19, 'x_161': 0, 'x_2168': 706, 'x_904': 0, 'x_1913': 0, 'x_1768': 0, 'x_417': 237, 'x_347': 226, 'x_1085': 0, 'x_1854': 700, 'x_2012': 91, 'x_1125': 0, 'x_205': 0, 'x_2085': 0, 'x_900': 0, 'x_2246': 67, 'x_1279': 50, 'x_728': 0, 'x_1173': 0, 'x_1345': 0, 'x_1386': 0, 'x_427': 7, 'x_741': 0, 'x_1263': 50, 'x_1570': 0, 'x_178': 0, 'x_2121': 0, 'x_1634': 0, 'x_799': 0, 'x_1556': 0, 'x_414': 5, 'x_162': 0, 'x_1168': 0, 'x_2273': 15, 'x_1786': 0, 'x_188': 0, 'x_1329': 50, 'x_1557': 0, 'x_697': 0, 'x_1979': 383, 'x_1004': 2, 'x_771': 0, 'x_471': 0, 'x_402': 228, 'x_889': 0, 'x_570': 0, 'x_1866': 700, 'x_1262': 50, 'x_1372': 0, 'x_387': 107, 'x_458': 0, 'x_990': 323, 'x_1120': 0, 'x_1856': 700, 'x_1638': 0, 'x_328': 2000, 'x_936': 330, 'x_1885': 0, 'x_1578': 0, 'x_292': 0, 'x_2185': 8784, 'x_25': 53, 'x_943': 0, 'x_1925': 700, 'x_370': 468, 'x_1591': 0, 'x_36': 30, 'x_1600': 0, 'x_421': 12, 'x_757': 0, 'x_1359': 10000, 'x_2145': 0, 'x_409': 16, 'x_2084': 0, 'x_727': 0, 'x_573': 0, 'x_1791': 0, 'x_1087': 0, 'x_1492': 0, 'x_1945': 3780, 'x_630': 0, 'x_2239': 330, 'x_1840': 700, 'x_1775': 0, 'x_1264': 50, 'x_812': 0, 'x_375': 222, 'x_1884': 0, 'x_46': 100, 'x_1573': 0, 'x_157': 0, 'x_1133': 0, 'x_433': 17, 'x_1462': 0, 'x_947': 0, 'x_1667': 0, 'x_239': 0, 'x_1104': 0, 'x_318': 0, 'x_601': 270, 'x_798': 0, 'x_1851': 0, 'x_105': 1, 'x_2236': 121, 'x_870': 0, 'x_2024': 4, 'x_758': 0, 'x_1936': 0, 'x_163': 0, 'x_749': 0, 'x_635': 0, 'x_1764': 0, 'x_2031': 206, 'x_67': 34, 'x_716': 0, 'x_1363': 0, 'x_1873': 0, 'x_237': 0, 'x_558': 0, 'x_473': 0, 'x_1333': 0, 'x_1923': 0, 'x_2130': 0, 'x_1684': 0, 'x_1751': 0, 'x_383': 100, 'x_1270': 50, 'x_207': 0, 'x_2025': 220, 'x_619': 270, 'x_1864': 700, 'x_1093': 0, 'x_1935': 0, 'x_1240': 0, 'x_457': 0, 'x_646': 270, 'x_72': 40, 'x_21': 12, 'x_984': 0, 'x_2095': 0, 'x_696': 0, 'x_303': 0, 'x_119': 0, 'x_76': 0, 'x_71': 3, 'x_636': 0, 'x_244': 2000, 'x_1097': 0, 'x_1645': 0, 'x_2097': 0, 'x_1050': 0, 'x_1756': 0, 'x_137': 0, 'x_1796': 0, 'x_1151': 0, 'x_671': 0, 'x_800': 0, 'x_97': 0, 'x_1226': 0, 'x_1564': 0, 'x_1211': 0, 'x_1304': 50, 'x_262': 0, 'x_2269': 0, 'x_902': 0, 'x_625': 270, 'x_1124': 0, 'x_310': 0, 'x_49': 0, 'x_820': 3520, 'x_1008': 1, 'x_1717': 0, 'x_1659': 0, 'x_2136': 0, 'x_159': 0, 'x_1141': 3000, 'x_115': 0, 'x_1729': 0, 'x_895': 0, 'x_1516': 0, 'x_1017': 0, 'x_173': 0, 'x_413': 32, 'x_33': 94, 'x_1620': 0, 'x_1841': 0, 'x_441': 0, 'x_2197': 125, 'x_240': 2000, 'x_95': 4, 'x_1661': 0, 'x_31': 59, 'x_1760': 0, 'x_1321': 50, 'x_2151': 0, 'x_1976': 15, 'x_104': 0, 'x_2243': 0, 'x_351': 226, 'x_399': 231, 'x_2157': 0, 'x_793': 0, 'x_1382': 0, 'x_1096': 0, 'x_808': 0, 'x_679': 0, 'x_1737': 0, 'x_847': 0, 'x_1609': 0, 'x_1586': 0, 'x_1366': 0, 'x_989': 349, 'x_937': 327, 'x_1735': 0, 'x_2092': 0, 'x_2086': 0, 'x_591': 270, 'x_56': 80, 'x_465': 30000, 'x_1927': 0, 'x_1702': 0, 'x_2135': 0, 'x_690': 0, 'x_1848': 0, 'x_1265': 50, 'x_1815': 0, 'x_1238': 0, 'x_419': 0, 'x_1820': 700, 'x_203': 0, 'x_1648': 0, 'x_1929': 0, 'x_650': 0, 'x_982': 398, 'x_2221': 2124, 'x_2211': 223, 'x_2008': 15, 'x_2249': 14, 'x_415': 227, 'x_979': 0, 'x_101': 18, 'x_714': 0, 'x_691': 0, 'x_967': 334, 'x_1500': 3500, 'x_1328': 0, 'x_1631': 0, 'x_884': 0, 'x_1922': 0, 'x_494': 0, 'x_172': 0, 'x_462': 20000, 'x_113': 0, 'x_916': 0, 'x_788': 0, 'x_1805': 700, 'x_1906': 0, 'x_2112': 0, 'x_1204': 0, 'x_1853': 700, 'x_499': 0, 'x_2053': 0, 'x_810': 3520, 'x_14': 56, 'x_894': 0, 'x_729': 0, 'x_490': 0, 'x_1136': 0, 'x_2096': 0, 'x_98': 98, 'x_55': 0, 'x_344': 0, 'x_464': 0, 'x_1100': 0, 'x_428': 63, 'x_1074': 0, 'x_1624': 0, 'x_785': 0, 'x_1695': 0, 'x_1437': 0, 'x_1653': 0, 'x_2245': 353, 'x_1969': 234, 'x_1542': 0, 'x_897': 0, 'x_1649': 0, 'x_1957': 2010, 'x_2009': 4, 'x_859': 0, 'x_1024': 0, 'x_1792': 0, 'x_2021': 275, 'x_2100': 0, 'x_1167': 3000, 'x_1347': 0, 'x_1757': 0, 'x_980': 348, 'x_593': 200, 'x_2200': 0, 'x_581': 200, 'x_349': 21, 'x_434': 1, 'x_1875': 0, 'x_1855': 0, 'x_1227': 0, 'x_2129': 0, 'x_307': 0, 'x_1088': 0, 'x_803': 0, 'x_1215': 0, 'x_1099': 0, 'x_970': 0, 'x_1391': 0, 'x_853': 3520, 'x_1428': 0, 'x_1322': 50, 'x_1337': 0, 'x_373': 223, 'x_1152': 0, 'x_1396': 0, 'x_1130': 0, 'x_92': 0, 'x_1078': 0, 'x_392': 778, 'x_2158': 0, 'x_2133': 0, 'x_1951': 5374, 'x_201': 0, 'x_792': 0, 'x_9': 13, 'x_259': 0, 'x_81': 75, 'x_2088': 0, 'x_987': 104, 'x_1280': 50, 'x_1045': 0, 'x_2195': 5743, 'x_83': 8, 'x_2170': 748, 'x_1054': 0, 'x_1777': 0, 'x_2072': 0, 'x_849': 0, 'x_675': 0, 'x_829': 0, 'x_511': 0, 'x_1293': 0, 'x_1950': 444, 'x_730': 0, 'x_363': 0, 'x_2152': 0, 'x_1778': 0, 'x_739': 0, 'x_493': 0, 'x_192': 0, 'x_1169': 3000, 'x_660': 200, 'x_297': 0, 'x_555': 0, 'x_1233': 0, 'x_747': 0, 'x_1774': 0, 'x_1164': 0, 'x_1319': 50, 'x_882': 0, 'x_2268': 179, 'x_1341': 50, 'x_214': 0, 'x_1080': 0, 'x_167': 0, 'x_1086': 0, 'x_1985': 7496, 'x_858': 0, 'x_1149': 3000, 'x_1899': 0, 'x_1544': 0, 'x_988': 46, 'x_1678': 0, 'x_1842': 700, 'x_1123': 0, 'x_1381': 0, 'x_545': 0, 'x_1399': 10000, 'x_962': 0, 'x_1937': 22875, 'x_718': 0, 'x_527': 0, 'x_1835': 700, 'x_99': 3, 'x_2101': 0, 'x_639': 270, 'x_435': 0, 'x_1254': 50, 'x_737': 0, 'x_420': 0, 'x_2042': 54, 'x_1664': 0, 'x_1804': 0, 'x_1797': 0, 'x_1754': 0, 'x_1439': 0, 'x_505': 0, 'x_2272': 2, 'x_460': 0, 'x_1040': 0, 'x_1596': 0, 'x_1511': 12000, 'x_1867': 700, 'x_883': 0, 'x_117': 0, 'x_2153': 0, 'x_1773': 0, 'x_1216': 0, 'x_1807': 700, 'x_1185': 0, 'x_2050': 25, 'x_2105': 0, 'x_1908': 0, 'x_620': 0, 'x_1155': 0, 'x_851': 0, 'x_704': 0, 'x_2256': 1, 'x_390': 0, 'x_543': 0, 'x_995': 71, 'x_1599': 0, 'x_1592': 0, 'x_687': 0, 'x_2209': 3760, 'x_701': 0, 'x_1847': 700, 'x_273': 0, 'x_2187': 0, 'x_1711': 0, 'x_953': 308, 'x_1666': 0, 'x_1772': 0, 'x_1129': 0, 'x_62': 0, 'x_181': 0, 'x_1267': 50, 'x_1819': 0, 'x_590': 200, 'x_412': 0, 'x_265': 2000, 'x_1535': 0, 'x_1660': 0, 'x_773': 0, 'x_2147': 0, 'x_1031': 0, 'x_1865': 0, 'x_2108': 0, 'x_977': 0, 'x_1789': 0, 'x_343': 332, 'x_658': 0, 'x_1069': 0, 'x_1954': 257, 'x_565': 0, 'x_698': 0, 'x_887': 0, 'x_1818': 700, 'x_1809': 700, 'x_1259': 50, 'x_1450': 0, 'x_1625': 0, 'x_2175': 818, 'x_983': 235, 'x_574': 0, 'x_185': 0, 'x_2017': 173, 'x_969': 13, 'x_2089': 0, 'x_2201': 870, 'x_733': 0, 'x_2099': 0, 'x_957': 0, 'x_350': 125, 'x_1378': 0, 'x_1154': 0, 'x_1712': 0, 'x_422': 190, 'x_234': 2000, 'x_1621': 0, 'x_1175': 0, 'x_1463': 0, 'x_190': 0, 'x_1490': 0, 'x_592': 200, 'x_1298': 50, 'x_1863': 0, 'x_1193': 0, 'x_1052': 0, 'x_1706': 0, 'x_1693': 0, 'x_606': 270, 'x_764': 0, 'x_2123': 0, 'x_1727': 0, 'x_846': 3520, 'x_326': 0, 'x_260': 0, 'x_1713': 0, 'x_526': 0, 'x_2139': 0, 'x_1019': 0, 'x_1051': 0, 'x_528': 0, 'x_1405': 0, 'x_2022': 121, 'x_1745': 0, 'x_1532': 0, 'x_2165': 3006, 'x_513': 0, 'x_430': 108, 'x_1629': 0, 'x_42': 66, 'x_2229': 271, 'x_1622': 0, 'x_678': 0, 'x_2241': 133, 'x_68': 0, 'x_2070': 0, 'x_1860': 700, 'x_1223': 3000, 'x_143': 0, 'x_917': 6, 'x_1722': 0, 'x_395': 173, 'x_325': 0, 'x_1967': 968, 'x_766': 0, 'x_1852': 700, 'x_1466': 12000, 'x_1505': 0, 'x_1784': 0, 'x_824': 3520, 'x_1071': 0, 'x_1432': 0, 'x_2137': 0, 'x_1315': 50, 'x_1162': 0, 'x_2265': 192, 'x_1393': 0, 'x_1988': 2, 'x_1285': 50, 'x_1245': 0, 'x_589': 200, 'x_651': 270, 'x_706': 0, 'x_1326': 50, 'x_2020': 0, 'x_1214': 0, 'x_2148': 0, 'x_1836': 700, 'x_1420': 0, 'x_2127': 0, 'x_1577': 0, 'x_1282': 50, 'x_996': 0, 'x_1895': 700, 'x_745': 0, 'x_406': 0, 'x_1724': 0, 'x_557': 0, 'x_1827': 0, 'x_13': 5, 'x_1362': 10000, 'x_2155': 0, 'x_1132': 0, 'x_1284': 50, 'x_652': 0, 'x_2036': 0, 'x_1798': 0, 'x_2172': 0, 'x_1247': 0, 'x_1367': 0, 'x_166': 0, 'x_664': 0, 'x_1662': 0, 'x_575': 200, 'x_1689': 0, 'x_2054': 0, 'x_997': 0, 'x_1554': 0, 'x_1821': 700, 'x_1177': 3000, 'x_1056': 0, 'x_721': 0, 'x_756': 0, 'x_189': 0, 'x_361': 225, 'x_1020': 0, 'x_1881': 0, 'x_48': 2, 'x_1404': 0, 'x_1431': 0, 'x_1387': 0, 'x_432': 55, 'x_1518': 0, 'x_1641': 0, 'x_1150': 0, 'x_19': 0, 'x_1525': 12000, 'x_100': 68, 'x_2026': 1, 'x_2081': 0, 'x_2202': 0, 'x_1408': 0, 'x_1213': 0, 'x_1813': 0, 'x_1934': 0, 'x_1471': 0, 'x_2150': 0, 'x_1553': 0, 'x_844': 3520, 'x_629': 270, 'x_221': 0, 'x_306': 2000, 'x_517': 0, 'x_1494': 0, 'x_710': 0, 'x_1212': 0, 'x_806': 3520, 'x_2191': 0, 'x_877': 0, 'x_1823': 0, 'x_85': 12, 'x_1278': 50, 'x_288': 0, 'x_1832': 700, 'x_1371': 0, 'x_1082': 0, 'x_763': 0, 'x_1350': 0, 'x_184': 0, 'x_1422': 0, 'x_965': 165, 'x_1911': 700, 'x_1452': 0, 'x_974': 34, 'x_1513': 0, 'x_183': 0, 'x_1614': 0, 'x_208': 0, 'x_818': 0, 'x_1871': 700, 'x_1896': 0, 'x_599': 200, 'x_1209': 0}. Best is trial 1 with value: 1.7066610884960103.\n",
      "[I 2025-09-25 19:53:15,218] Trial 3 finished with value: 1.692274280052025 and parameters: {'x_136': 16, 'x_825': 803, 'x_1182': 3165, 'x_424': 873, 'x_1205': 720, 'x_1578': 200, 'x_657': 200, 'x_2232': 5, 'x_353': 787, 'x_175': 99, 'x_889': 35, 'x_93': 100, 'x_1065': 394, 'x_376': 272, 'x_2002': 1589, 'x_105': 38, 'x_980': 57, 'x_1013': 0, 'x_582': 902, 'x_735': 1454, 'x_357': 828, 'x_1288': 50, 'x_1947': 8084, 'x_1340': 50, 'x_2117': 706, 'x_1623': 1812, 'x_51': 603, 'x_1795': 237, 'x_1529': 112, 'x_545': 150, 'x_130': 288, 'x_2256': 50, 'x_86': 102, 'x_602': 718, 'x_2196': 1, 'x_241': 2211, 'x_34': 688, 'x_519': 710, 'x_1977': 2008, 'x_1218': 936, 'x_1316': 50, 'x_553': 0, 'x_1513': 11222, 'x_1796': 403, 'x_836': 704, 'x_1357': 839, 'x_276': 2758, 'x_285': 0, 'x_240': 2306, 'x_363': 9, 'x_1818': 769, 'x_1723': 0, 'x_1276': 60, 'x_710': 20162, 'x_1616': 895, 'x_1759': 8, 'x_560': 417, 'x_246': 2000, 'x_2': 305, 'x_1206': 1186, 'x_1267': 50, 'x_613': 595, 'x_79': 60, 'x_1178': 3030, 'x_2004': 0, 'x_1146': 8502, 'x_921': 3, 'x_1280': 50, 'x_1448': 2, 'x_1811': 732, 'x_671': 0, 'x_1114': 200, 'x_558': 286, 'x_1044': 0, 'x_2201': 4207, 'x_1797': 2568, 'x_1000': 172, 'x_371': 976, 'x_1651': 0, 'x_1552': 669, 'x_388': 666, 'x_492': 2141, 'x_1107': 0, 'x_1931': 92, 'x_2229': 0, 'x_700': 1723, 'x_1440': 11, 'x_1115': 0, 'x_1396': 46, 'x_1041': 198, 'x_1841': 802, 'x_1359': 11033, 'x_874': 1503, 'x_1785': 0, 'x_1104': 199, 'x_1833': 831, 'x_2212': 0, 'x_489': 61702, 'x_911': 610, 'x_1078': 399, 'x_416': 903, 'x_913': 443, 'x_2035': 39, 'x_1699': 34531, 'x_467': 807, 'x_1473': 17300, 'x_1914': 0, 'x_100': 60, 'x_900': 34, 'x_705': 56, 'x_1244': 125, 'x_355': 2, 'x_2016': 1680, 'x_1416': 971, 'x_1675': 0, 'x_71': 0, 'x_772': 0, 'x_1256': 57, 'x_2230': 1225, 'x_2268': 0, 'x_861': 127, 'x_655': 270, 'x_953': 3, 'x_1261': 52, 'x_2092': 1442, 'x_1148': 3, 'x_930': 489, 'x_1339': 1, 'x_1283': 50, 'x_1551': 2972, 'x_675': 0, 'x_730': 119, 'x_580': 357, 'x_482': 20000, 'x_1024': 199, 'x_1801': 0, 'x_180': 0, 'x_1813': 702, 'x_2121': 6, 'x_340': 1, 'x_1259': 50, 'x_763': 2, 'x_468': 5775, 'x_717': 5784, 'x_334': 0, 'x_477': 4435, 'x_614': 817, 'x_962': 487, 'x_92': 0, 'x_154': 299, 'x_50': 105, 'x_1667': 498, 'x_31': 206, 'x_788': 484, 'x_1315': 50, 'x_198': 0, 'x_2095': 10087, 'x_342': 5, 'x_1122': 42, 'x_1544': 201, 'x_506': 0, 'x_30': 240, 'x_1504': 23, 'x_1110': 200, 'x_1602': 21, 'x_1591': 496, 'x_543': 0, 'x_401': 0, 'x_1220': 528, 'x_310': 1, 'x_1247': 0, 'x_2070': 1412, 'x_1780': 0, 'x_1881': 207, 'x_1394': 1220, 'x_793': 0, 'x_584': 1218, 'x_1991': 50, 'x_2220': 12, 'x_1174': 19, 'x_2252': 58, 'x_1538': 373, 'x_2013': 0, 'x_1277': 57, 'x_981': 0, 'x_487': 967, 'x_187': 22, 'x_8': 60, 'x_110': 104, 'x_435': 0, 'x_1326': 50, 'x_67': 105, 'x_1142': 3143, 'x_1867': 806, 'x_642': 3, 'x_2261': 0, 'x_594': 201, 'x_1644': 4, 'x_1469': 19099, 'x_1391': 0, 'x_1676': 0, 'x_1087': 0, 'x_2171': 0, 'x_1446': 3, 'x_249': 2280, 'x_1179': 0, 'x_294': 8, 'x_2012': 0, 'x_382': 0, 'x_480': 14562, 'x_42': 110, 'x_69': 0, 'x_2018': 0, 'x_137': 321, 'x_1548': 0, 'x_1208': 135, 'x_1629': 1, 'x_1180': 3619, 'x_719': 0, 'x_1379': 10599, 'x_1733': 1, 'x_620': 0, 'x_508': 0, 'x_2051': 0, 'x_1747': 28273, 'x_1680': 0, 'x_1898': 0, 'x_230': 6017, 'x_1137': 3378, 'x_1460': 3, 'x_229': 10936, 'x_274': 2112, 'x_1186': 3072, 'x_1639': 1504, 'x_2228': 0, 'x_1145': 3327, 'x_958': 59, 'x_517': 2503, 'x_1477': 15581, 'x_1240': 661, 'x_1411': 0, 'x_1975': 0, 'x_1342': 0, 'x_7': 0, 'x_126': 9, 'x_1895': 733, 'x_1961': 9, 'x_1638': 3, 'x_434': 0, 'x_1706': 200, 'x_1844': 733, 'x_1109': 0, 'x_271': 0, 'x_528': 1241, 'x_1332': 0, 'x_1464': 619, 'x_1088': 0, 'x_660': 200, 'x_2041': 0, 'x_1433': 0, 'x_1451': 0, 'x_251': 2001, 'x_2194': 8090, 'x_1537': 0, 'x_1860': 700, 'x_1716': 54, 'x_1628': 0, 'x_1624': 0, 'x_2140': 597, 'x_588': 6, 'x_1995': 26, 'x_918': 0, 'x_1310': 50, 'x_1653': 0, 'x_1809': 706, 'x_1355': 0, 'x_364': 0, 'x_1124': 0, 'x_269': 4, 'x_2231': 0, 'x_840': 435, 'x_969': 447, 'x_556': 0, 'x_1377': 10935, 'x_190': 5, 'x_1304': 55, 'x_1414': 0, 'x_2253': 0, 'x_1589': 3, 'x_2110': 25663, 'x_404': 0, 'x_1873': 0, 'x_1170': 3000, 'x_448': 0, 'x_2163': 11, 'x_1518': 0, 'x_1258': 51, 'x_882': 0, 'x_440': 0, 'x_1004': 0, 'x_2116': 0, 'x_1984': 0, 'x_1437': 0, 'x_802': 3520, 'x_1889': 0, 'x_1353': 2145, 'x_1600': 0, 'x_1588': 0, 'x_442': 0, 'x_615': 270, 'x_1632': 2286, 'x_400': 0, 'x_1508': 0, 'x_1755': 8800, 'x_2250': 0, 'x_1911': 733, 'x_1804': 473, 'x_336': 878, 'x_750': 0, 'x_350': 0, 'x_1696': 639, 'x_1358': 0, 'x_1750': 1248, 'x_992': 0, 'x_1090': 0, 'x_845': 0, 'x_2242': 324, 'x_1420': 1932, 'x_2209': 0, 'x_988': 433, 'x_1067': 470, 'x_1408': 0, 'x_1014': 0, 'x_123': 0, 'x_252': 447, 'x_316': 0, 'x_1545': 0, 'x_809': 3520, 'x_1454': 0, 'x_320': 0, 'x_2255': 1615, 'x_343': 0, 'x_1794': 0, 'x_2003': 0, 'x_1361': 0, 'x_797': 0, 'x_1997': 1993, 'x_2156': 0, 'x_1468': 4131, 'x_64': 0, 'x_438': 0, 'x_629': 484, 'x_625': 760, 'x_698': 0, 'x_1383': 10000, 'x_348': 0, 'x_518': 0, 'x_312': 0, 'x_1175': 2153, 'x_510': 31992, 'x_481': 20000, 'x_108': 0, 'x_1951': 21029, 'x_753': 7, 'x_940': 0, 'x_1245': 53, 'x_1784': 211, 'x_366': 905, 'x_235': 2000, 'x_891': 0, 'x_884': 0, 'x_493': 463, 'x_2224': 44, 'x_795': 0, 'x_1221': 8, 'x_379': 0, 'x_1102': 0, 'x_1594': 0, 'x_725': 15, 'x_2039': 0, 'x_1857': 700, 'x_49': 0, 'x_1494': 0, 'x_1444': 0, 'x_2188': 65, 'x_902': 0, 'x_1092': 0, 'x_2033': 0, 'x_1751': 11, 'x_1018': 2, 'x_365': 0, 'x_13': 0, 'x_195': 0, 'x_1368': 10000, 'x_330': 0, 'x_1470': 12000, 'x_1298': 50, 'x_279': 8, 'x_1792': 0, 'x_1718': 0, 'x_115': 14, 'x_1292': 50, 'x_2177': 0, 'x_1563': 0, 'x_476': 9641, 'x_1926': 715, 'x_1742': 0, 'x_1050': 0, 'x_333': 0, 'x_2262': 0, 'x_2273': 0, 'x_104': 0, 'x_206': 1, 'x_1019': 689, 'x_1012': 0, 'x_1714': 1, 'x_1140': 66, 'x_111': 316, 'x_475': 0, 'x_723': 2, 'x_1541': 0, 'x_1257': 50, 'x_2088': 0, 'x_2103': 864, 'x_2157': 0, 'x_1974': 1, 'x_885': 0, 'x_564': 0, 'x_1488': 145, 'x_1272': 52, 'x_397': 2, 'x_61': 60, 'x_1601': 1, 'x_455': 0, 'x_1234': 7, 'x_1893': 18, 'x_1988': 0, 'x_760': 38, 'x_76': 4, 'x_934': 0, 'x_1111': 0, 'x_634': 0, 'x_2049': 0, 'x_194': 0, 'x_714': 0, 'x_221': 0, 'x_1815': 0, 'x_385': 0, 'x_1485': 0, 'x_38': 60, 'x_232': 2000, 'x_1525': 12023, 'x_1463': 175, 'x_975': 10, 'x_842': 3520, 'x_944': 0, 'x_632': 270, 'x_1679': 0, 'x_1481': 0, 'x_91': 0, 'x_2133': 29, 'x_1457': 3829, 'x_1475': 0, 'x_1143': 3000, 'x_1731': 0, 'x_1869': 700, 'x_40': 0, 'x_2059': 0, 'x_853': 3520, 'x_936': 1, 'x_1374': 0, 'x_1077': 459, 'x_1820': 700, 'x_2047': 0, 'x_182': 0, 'x_1535': 0, 'x_1282': 82, 'x_1705': 0, 'x_486': 82, 'x_1745': 0, 'x_1879': 0, 'x_415': 0, 'x_52': 200, 'x_706': 12443, 'x_1960': 14, 'x_866': 0, 'x_1351': 0, 'x_1225': 3000, 'x_2205': 0, 'x_2036': 0, 'x_2155': 83, 'x_1040': 0, 'x_742': 0, 'x_169': 0, 'x_208': 0, 'x_1665': 0, 'x_1946': 23971, 'x_389': 0, 'x_638': 270, 'x_6': 60, 'x_201': 0, 'x_280': 0, 'x_74': 0, 'x_1996': 0, 'x_122': 0, 'x_1192': 0, 'x_1949': 0, 'x_1900': 0, 'x_1562': 0, 'x_554': 0, 'x_1835': 700, 'x_483': 81, 'x_1134': 5, 'x_305': 0, 'x_651': 865, 'x_488': 20000, 'x_349': 0, 'x_1229': 0, 'x_686': 0, 'x_2187': 0, 'x_2154': 0, 'x_119': 0, 'x_1219': 0, 'x_1994': 39, 'x_540': 0, 'x_1053': 33, 'x_19': 103, 'x_1344': 0, 'x_622': 286, 'x_664': 0, 'x_1760': 0, 'x_218': 2000, 'x_359': 0, 'x_756': 0, 'x_1752': 7, 'x_1430': 0, 'x_1882': 0, 'x_1223': 3714, 'x_1519': 0, 'x_196': 1, 'x_1418': 0, 'x_1812': 700, 'x_2275': 0, 'x_2175': 0, 'x_1060': 0, 'x_820': 3520, 'x_521': 0, 'x_1939': 332, 'x_2084': 0, 'x_1439': 0, 'x_1888': 0, 'x_173': 0, 'x_1370': 10000, 'x_847': 0, 'x_1884': 0, 'x_1428': 0, 'x_1901': 0, 'x_1246': 0, 'x_347': 872, 'x_127': 0, 'x_1642': 0, 'x_1431': 0, 'x_1442': 79, 'x_1826': 728, 'x_117': 0, 'x_1561': 0, 'x_908': 0, 'x_2109': 2, 'x_685': 0, 'x_1657': 0, 'x_870': 0, 'x_1478': 18673, 'x_1207': 0, 'x_429': 0, 'x_1382': 260, 'x_682': 0, 'x_1814': 700, 'x_1333': 0, 'x_2193': 8082, 'x_609': 270, 'x_2118': 2, 'x_507': 0, 'x_1047': 38, 'x_335': 0, 'x_881': 0, 'x_1592': 0, 'x_1648': 0, 'x_451': 0, 'x_186': 0, 'x_1987': 0, 'x_2037': 0, 'x_2044': 0, 'x_563': 0, 'x_538': 0, 'x_1786': 0, 'x_1489': 17968, 'x_402': 0, 'x_1998': 0, 'x_144': 0, 'x_159': 0, 'x_1190': 3000, 'x_447': 0, 'x_504': 14620, 'x_1582': 3924, 'x_204': 0, 'x_1834': 0, 'x_309': 0, 'x_1865': 1, 'x_965': 0, 'x_995': 0, 'x_2216': 0, 'x_65': 0, 'x_1597': 0, 'x_1171': 1, 'x_1188': 3269, 'x_323': 0, 'x_693': 0, 'x_1711': 2324, 'x_1372': 46, 'x_33': 60, 'x_868': 0, 'x_1388': 0, 'x_268': 2152, 'x_667': 0, 'x_713': 0, 'x_114': 0, 'x_869': 0, 'x_1863': 0, 'x_860': 52, 'x_672': 0, 'x_1436': 1, 'x_1095': 0, 'x_858': 0, 'x_1499': 0, 'x_392': 0, 'x_210': 0, 'x_1736': 0, 'x_1480': 0, 'x_234': 2014, 'x_789': 0, 'x_2098': 0, 'x_265': 2113, 'x_1790': 0, 'x_1973': 0, 'x_387': 0, 'x_293': 2000, 'x_989': 0, 'x_1011': 0, 'x_1622': 2, 'x_1069': 0, 'x_1400': 10924, 'x_1126': 0, 'x_191': 0, 'x_446': 0, 'x_1356': 0, 'x_1169': 3001, 'x_1505': 0, 'x_1799': 0, 'x_1920': 0, 'x_1722': 0, 'x_927': 55, 'x_2026': 0, 'x_758': 0, 'x_87': 60, 'x_2011': 0, 'x_1445': 0, 'x_2093': 0, 'x_373': 878, 'x_946': 0, 'x_2184': 0, 'x_1135': 0, 'x_116': 0, 'x_410': 0, 'x_1133': 0, 'x_1721': 1, 'x_1553': 0, 'x_1360': 0, 'x_1345': 0, 'x_1130': 0, 'x_197': 0, 'x_960': 1, 'x_1970': 0, 'x_2102': 0, 'x_1341': 50, 'x_939': 0, 'x_1837': 700, 'x_1585': 0, 'x_762': 0, 'x_369': 0, 'x_589': 200, 'x_824': 3520, 'x_1046': 0, 'x_1417': 0, 'x_299': 0, 'x_2199': 1, 'x_2072': 483, 'x_1557': 0, 'x_192': 0, 'x_1105': 0, 'x_899': 0, 'x_1273': 50, 'x_1389': 3, 'x_1836': 700, 'x_444': 0, 'x_329': 0, 'x_1066': 0, 'x_1878': 0, 'x_275': 0, 'x_1371': 0, 'x_1565': 0, 'x_804': 0, 'x_288': 0, 'x_193': 0, 'x_113': 0, 'x_2078': 0, 'x_948': 0, 'x_743': 0, 'x_215': 0, 'x_791': 0, 'x_1645': 0, 'x_2152': 0, 'x_1099': 0, 'x_851': 6756, 'x_1924': 0, 'x_2009': 0, 'x_1891': 0, 'x_679': 0, 'x_1346': 0, 'x_579': 200, 'x_1913': 0, 'x_633': 0, 'x_142': 0, 'x_1762': 0, 'x_1390': 0, 'x_35': 0, 'x_272': 2000, 'x_1249': 472, 'x_1425': 0, 'x_470': 5, 'x_1654': 0, 'x_1704': 0, 'x_1773': 0, 'x_888': 0, 'x_2130': 0, 'x_539': 0, 'x_968': 0, 'x_90': 0, 'x_1732': 0, 'x_733': 0, 'x_457': 0, 'x_524': 0, 'x_2270': 0, 'x_754': 0, 'x_662': 0, 'x_236': 2000, 'x_1096': 0, 'x_574': 71, 'x_928': 0, 'x_2064': 25136, 'x_624': 1604, 'x_1910': 0, 'x_821': 3520, 'x_1020': 0, 'x_1120': 0, 'x_291': 0, 'x_1427': 0, 'x_153': 0, 'x_1789': 0, 'x_1159': 3000, 'x_1409': 0, 'x_1294': 50, 'x_2167': 0, 'x_57': 0, 'x_2219': 0, 'x_1309': 0, 'x_530': 0, 'x_149': 0, 'x_1423': 0, 'x_1807': 700, 'x_184': 0, 'x_1123': 0, 'x_2186': 0, 'x_1149': 3000, 'x_327': 0, 'x_378': 0, 'x_1200': 0, 'x_2233': 0, 'x_1966': 11035, 'x_597': 200, 'x_84': 0, 'x_1217': 0, 'x_1057': 0, 'x_1074': 0, 'x_1805': 733, 'x_2071': 0, 'x_460': 0, 'x_227': 0, 'x_495': 0, 'x_1424': 0, 'x_1579': 0, 'x_375': 0, 'x_1649': 0, 'x_1748': 6, 'x_949': 0, 'x_1566': 0, 'x_1749': 10241, 'x_358': 0, 'x_166': 0, 'x_612': 270, 'x_1614': 0, 'x_214': 0, 'x_697': 0, 'x_1533': 0, 'x_1932': 0, 'x_925': 0, 'x_1536': 0, 'x_1201': 0, 'x_1986': 0, 'x_224': 2000, 'x_559': 0, 'x_24': 0, 'x_163': 0, 'x_374': 0, 'x_2248': 0, 'x_987': 0, 'x_1962': 0, 'x_428': 0, 'x_1138': 3000, 'x_1270': 50, 'x_1033': 0, 'x_1232': 0, 'x_1840': 700, 'x_264': 0, 'x_621': 270, 'x_1521': 0, 'x_1009': 0, 'x_1100': 0, 'x_2160': 0, 'x_1664': 0, 'x_2122': 0, 'x_1668': 9, 'x_1550': 0, 'x_2222': 0, 'x_471': 0, 'x_871': 0, 'x_2101': 0, 'x_1735': 0, 'x_273': 0, 'x_590': 200, 'x_623': 270, 'x_1003': 0, 'x_1453': 0, 'x_1052': 0, 'x_2265': 0, 'x_1894': 0, 'x_1906': 104, 'x_2081': 0, 'x_813': 3520, 'x_1301': 55, 'x_583': 319, 'x_1264': 50, 'x_407': 0, 'x_587': 297, 'x_692': 19, 'x_1073': 105, 'x_1564': 0, 'x_1619': 0, 'x_1985': 0, 'x_1765': 0, 'x_2058': 0, 'x_974': 0, 'x_2166': 0, 'x_576': 0, 'x_202': 0, 'x_1156': 0, 'x_937': 0, 'x_164': 0, 'x_1778': 0, 'x_171': 0, 'x_1091': 0, 'x_433': 0, 'x_1300': 50, 'x_2014': 0, 'x_1413': 0, 'x_1492': 0, 'x_1112': 200, 'x_724': 0, 'x_1062': 0, 'x_1': 0, 'x_418': 0, 'x_160': 0, 'x_2008': 0, 'x_757': 0, 'x_1441': 0, 'x_421': 0, 'x_2022': 0, 'x_1682': 0, 'x_380': 0, 'x_1523': 12000, 'x_2052': 0, 'x_1686': 500, 'x_225': 0, 'x_777': 0, 'x_819': 3520, 'x_566': 0, 'x_1048': 65, 'x_2027': 0, 'x_1874': 700, 'x_1517': 0, 'x_1415': 0, 'x_1621': 0, 'x_458': 0, 'x_1395': 10000, 'x_1744': 0, 'x_1412': 0, 'x_1068': 0, 'x_520': 0, 'x_605': 270, 'x_1189': 3000, 'x_1237': 0, 'x_2183': 0, 'x_1575': 0, 'x_2015': 0, 'x_217': 0, 'x_88': 0, 'x_459': 0, 'x_1193': 0, 'x_2083': 0, 'x_901': 0, 'x_1725': 0, 'x_1313': 50, 'x_1756': 0, 'x_408': 0, 'x_2180': 0, 'x_2198': 0, 'x_816': 0, 'x_48': 0, 'x_1702': 0, 'x_1410': 0, 'x_1917': 0, 'x_1715': 2, 'x_2174': 9103, 'x_432': 0, 'x_1580': 0, 'x_465': 30001, 'x_776': 1613, 'x_370': 0, 'x_351': 0, 'x_872': 0, 'x_1927': 0, 'x_1650': 0, 'x_231': 2000, 'x_325': 0, 'x_1929': 0, 'x_1167': 3000, 'x_63': 0, 'x_2238': 0, 'x_1202': 0, 'x_2142': 0, 'x_1720': 0, 'x_60': 60, 'x_1604': 0, 'x_694': 0, 'x_2221': 0, 'x_1843': 700, 'x_1883': 0, 'x_145': 0, 'x_139': 0, 'x_702': 0, 'x_1254': 50, 'x_1685': 0, 'x_1022': 0, 'x_15': 0, 'x_1656': 0, 'x_1655': 0, 'x_567': 0, 'x_947': 0, 'x_2165': 0, 'x_1719': 0, 'x_1595': 0, 'x_1262': 50, 'x_141': 0, 'x_2185': 15, 'x_2170': 0, 'x_721': 0, 'x_765': 0, 'x_2076': 0, 'x_1678': 0, 'x_2113': 0, 'x_55': 0, 'x_2132': 0, 'x_21': 0, 'x_1768': 0, 'x_298': 0, 'x_734': 0, 'x_2128': 0, 'x_829': 0, 'x_1285': 50, 'x_681': 0, 'x_431': 0, 'x_2032': 0, 'x_2090': 0, 'x_140': 0, 'x_1380': 0, 'x_646': 270, 'x_812': 0, 'x_129': 0, 'x_396': 7, 'x_1224': 0, 'x_1392': 0, 'x_903': 0, 'x_741': 33, 'x_1670': 499, 'x_774': 0, 'x_1404': 0, 'x_1054': 199, 'x_1871': 700, 'x_1369': 10000, 'x_1031': 0, 'x_403': 0, 'x_1658': 0, 'x_1618': 0, 'x_443': 0, 'x_1902': 0, 'x_568': 0, 'x_1323': 50, 'x_1184': 0, 'x_1817': 700, 'x_573': 0, 'x_2237': 0, 'x_1322': 50, 'x_1782': 0, 'x_75': 60, 'x_955': 0, 'x_751': 0, 'x_120': 0, 'x_2091': 0, 'x_2207': 0, 'x_1802': 0, 'x_303': 0, 'x_82': 0, 'x_544': 0, 'x_796': 0, 'x_1516': 0, 'x_865': 0, 'x_1101': 0, 'x_1038': 0, 'x_769': 0, 'x_259': 0, 'x_1027': 0, 'x_2074': 0, 'x_1532': 0, 'x_436': 0, 'x_1583': 0, 'x_781': 0, 'x_2204': 0, 'x_258': 0, 'x_2215': 0, 'x_800': 0, 'x_1776': 0, 'x_161': 0, 'x_880': 0, 'x_979': 0, 'x_1484': 0, 'x_2234': 0, 'x_479': 0, 'x_1549': 3500, 'x_1497': 0, 'x_257': 0, 'x_919': 0, 'x_894': 0, 'x_541': 0, 'x_1954': 0, 'x_752': 0, 'x_673': 200, 'x_1754': 0, 'x_1327': 50, 'x_644': 270, 'x_44': 0, 'x_286': 0, 'x_598': 200, 'x_1117': 0, 'x_1641': 0, 'x_626': 270, 'x_2208': 0, 'x_683': 1, 'x_1056': 0, 'x_326': 0, 'x_755': 0, 'x_2089': 0, 'x_96': 0, 'x_1948': 0, 'x_1165': 3000, 'x_1897': 700, 'x_317': 0, 'x_78': 0, 'x_1689': 0, 'x_2028': 0, 'x_2080': 0, 'x_2067': 0, 'x_592': 200, 'x_412': 0, 'x_239': 0, 'x_938': 0, 'x_942': 0, 'x_1890': 700, 'x_1039': 0, 'x_1211': 0, 'x_1688': 0, 'x_377': 0, 'x_663': 0, 'x_1934': 0, 'x_1971': 0, 'x_1781': 0, 'x_522': 0, 'x_1308': 50, 'x_2055': 0, 'x_112': 0, 'x_2097': 0, 'x_1305': 50, 'x_1830': 700, 'x_1151': 0, 'x_1401': 10004, 'x_395': 0, 'x_1363': 0, 'x_2146': 0, 'x_2210': 0, 'x_46': 60, 'x_1350': 0, 'x_778': 0, 'x_619': 270, 'x_1684': 0, 'x_1524': 0, 'x_219': 0, 'x_1983': 0, 'x_645': 270, 'x_639': 270, 'x_1788': 0, 'x_586': 200, 'x_1076': 0, 'x_277': 0, 'x_1227': 0, 'x_2202': 0, 'x_601': 270, 'x_1647': 0, 'x_1166': 0, 'x_1434': 0, 'x_2150': 0, 'x_1252': 50, 'x_1803': 0, 'x_2223': 0, 'x_1593': 0, 'x_2127': 0, 'x_216': 0, 'x_2225': 0, 'x_2178': 0, 'x_1842': 700, 'x_1034': 0, 'x_1317': 50, 'x_746': 0, 'x_818': 0, 'x_652': 0, 'x_1343': 50, 'x_226': 2000, 'x_1271': 50, 'x_1530': 0, 'x_801': 0, 'x_1672': 0, 'x_2073': 0, 'x_1284': 50, 'x_841': 3520, 'x_393': 0, 'x_302': 0, 'x_905': 0, 'x_296': 0, 'x_54': 0, 'x_630': 0, 'x_915': 0, 'x_289': 0, 'x_1964': 0, 'x_11': 0, 'x_773': 0, 'x_1990': 0, 'x_109': 0, 'x_1555': 0, 'x_610': 270, 'x_505': 0, 'x_474': 0, 'x_855': 3520, 'x_1660': 0, 'x_346': 0, 'x_383': 961, 'x_1381': 0, 'x_1876': 0, 'x_2151': 0, 'x_1866': 700, 'x_516': 20000, 'x_1231': 0, 'x_1610': 0, 'x_1354': 0, 'x_2123': 0, 'x_2176': 0, 'x_220': 0, 'x_1596': 0, 'x_1806': 700, 'x_695': 0, 'x_307': 0, 'x_62': 0, 'x_2271': 0, 'x_650': 0, 'x_2240': 0, 'x_1993': 0, 'x_1495': 0, 'x_676': 0, 'x_290': 0, 'x_107': 0, 'x_1287': 50, 'x_2145': 0, 'x_1847': 700, 'x_2153': 0, 'x_1242': 0, 'x_83': 0, 'x_1097': 0, 'x_177': 0, 'x_708': 0, 'x_391': 0, 'x_1659': 0, 'x_1734': 0, 'x_1903': 0, 'x_22': 60, 'x_1698': 0, 'x_786': 0, 'x_952': 0, 'x_1213': 0, 'x_1399': 10000, 'x_1461': 7014, 'x_1466': 18563, 'x_967': 0, 'x_1015': 0, 'x_771': 0, 'x_990': 0, 'x_1467': 0, 'x_1849': 0, 'x_950': 0, 'x_1197': 0, 'x_1808': 0, 'x_1042': 0, 'x_1956': 0, 'x_1297': 50, 'x_1496': 0, 'x_2108': 0, 'x_409': 0, 'x_835': 0, 'x_466': 0, 'x_25': 0, 'x_165': 0, 'x_856': 0, 'x_244': 2000, 'x_1243': 0, 'x_2162': 1, 'x_188': 0, 'x_1230': 0, 'x_1539': 0, 'x_1312': 0, 'x_151': 0, 'x_1980': 0, 'x_959': 0, 'x_1673': 0, 'x_843': 3520, 'x_1669': 0, 'x_572': 270, 'x_2192': 0, 'x_513': 0, 'x_1636': 0, 'x_478': 0, 'x_1210': 0, 'x_1185': 0, 'x_1162': 0, 'x_1587': 0, 'x_1918': 0, 'x_1573': 0, 'x_1029': 0, 'x_99': 0, 'x_665': 0, 'x_2246': 0, 'x_1482': 0, 'x_688': 0, 'x_2099': 0, 'x_1318': 0, 'x_1274': 50, 'x_386': 0, 'x_1266': 50, 'x_23': 0, 'x_996': 0, 'x_301': 0, 'x_618': 270, 'x_420': 0, 'x_728': 40, 'x_970': 0, 'x_1286': 50, 'x_2020': 0, 'x_270': 2000, 'x_1868': 700, 'x_1393': 0, 'x_792': 0, 'x_2226': 0, 'x_1577': 0, 'x_1055': 0, 'x_718': 20947, 'x_1904': 733, 'x_2094': 0, 'x_1118': 0, 'x_595': 200, 'x_338': 0, 'x_604': 270, 'x_514': 0, 'x_77': 0, 'x_282': 2000, 'x_262': 0, 'x_1816': 700, 'x_1008': 0, 'x_994': 0, 'x_1278': 50, 'x_914': 0, 'x_2075': 0, 'x_2077': 0, 'x_726': 0, 'x_344': 0, 'x_300': 2000, 'x_439': 0, 'x_931': 0, 'x_2181': 0, 'x_1507': 3500, 'x_1222': 3000, 'x_1615': 0, 'x_1543': 0, 'x_570': 0, 'x_2259': 0, 'x_1933': 1, 'x_877': 0, 'x_951': 0, 'x_73': 60, 'x_2189': 0, 'x_1770': 0, 'x_2182': 0, 'x_1479': 0, 'x_1373': 0, 'x_1500': 3500, 'x_2217': 0, 'x_972': 0, 'x_1387': 0, 'x_1916': 0, 'x_699': 0, 'x_2267': 0, 'x_1769': 0, 'x_1080': 0, 'x_162': 0, 'x_2195': 0, 'x_1687': 0, 'x_502': 0, 'x_1942': 0, 'x_1233': 0, 'x_1337': 0, 'x_1992': 0, 'x_2125': 0, 'x_732': 0, 'x_1829': 733, 'x_828': 3520, 'x_892': 0, 'x_1338': 50, 'x_893': 0, 'x_2214': 0, 'x_1290': 50, 'x_875': 0, 'x_58': 60, 'x_1827': 0, 'x_497': 0, 'x_1005': 0, 'x_318': 0, 'x_399': 0, 'x_146': 0, 'x_814': 0, 'x_1674': 0, 'x_982': 0, 'x_887': 0, 'x_297': 0, 'x_1155': 0, 'x_1291': 50, 'x_498': 0, 'x_1253': 50, 'x_690': 0, 'x_2045': 0, 'x_1640': 0, 'x_912': 0, 'x_354': 0, 'x_1950': 0, 'x_1739': 0, 'x_1032': 0, 'x_803': 0, 'x_311': 0, 'x_767': 0, 'x_907': 0, 'x_321': 0, 'x_550': 0, 'x_806': 3520, 'x_500': 0, 'x_1700': 0, 'x_1293': 0, 'x_255': 2106, 'x_1511': 12000, 'x_1364': 0, 'x_1299': 50, 'x_131': 0, 'x_1025': 0, 'x_1810': 0, 'x_1930': 0, 'x_575': 200, 'x_102': 0, 'x_1335': 50, 'x_720': 0, 'x_135': 0, 'x_242': 2000, 'x_1289': 50, 'x_1969': 0, 'x_1972': 0, 'x_656': 0, 'x_1729': 0, 'x_680': 0, 'x_1161': 3000, 'x_909': 0, 'x_779': 0, 'x_1187': 3000, 'x_691': 0, 'x_414': 0, 'x_1572': 3500, 'x_785': 0, 'x_1663': 0, 'x_1607': 0, 'x_1085': 0, 'x_56': 60, 'x_637': 270, 'x_1683': 0, 'x_696': 0, 'x_1163': 0, 'x_653': 270, 'x_1635': 0, 'x_2227': 0, 'x_857': 0, 'x_770': 0, 'x_991': 0, 'x_1306': 50, 'x_426': 0, 'x_1922': 0, 'x_1576': 0, 'x_1574': 0, 'x_2104': 0, 'x_472': 0, 'x_729': 0, 'x_1547': 0, 'x_1512': 12000, 'x_2137': 0, 'x_1546': 0, 'x_848': 0, 'x_80': 60, 'x_1127': 0, 'x_233': 0, 'x_1082': 0, 'x_1132': 0, 'x_1449': 0, 'x_976': 0, 'x_2213': 0, 'x_2112': 0, 'x_1158': 0, 'x_1928': 0, 'x_1598': 0, 'x_1070': 0, 'x_933': 0, 'x_1239': 0, 'x_744': 0, 'x_2023': 0, 'x_503': 0, 'x_158': 0, 'x_1885': 0, 'x_490': 0, 'x_916': 0, 'x_599': 200, 'x_209': 0, 'x_1071': 0, 'x_213': 0, 'x_687': 0, 'x_1824': 700, 'x_2010': 0, 'x_2134': 0, 'x_1452': 0, 'x_608': 270, 'x_703': 0, 'x_596': 200, 'x_1793': 0, 'x_704': 0, 'x_423': 0, 'x_547': 0, 'x_1049': 0, 'x_1471': 0, 'x_1713': 0, 'x_138': 0, 'x_1560': 0, 'x_1631': 0, 'x_546': 0, 'x_2251': 0, 'x_2169': 0, 'x_1059': 0, 'x_1154': 0, 'x_895': 0, 'x_1853': 700, 'x_1103': 0, 'x_837': 3520, 'x_1172': 0, 'x_1086': 0, 'x_807': 0, 'x_45': 0, 'x_222': 0, 'x_2056': 0, 'x_494': 0, 'x_876': 0, 'x_2048': 0, 'x_1791': 0, 'x_684': 0, 'x_1852': 700, 'x_1268': 0, 'x_527': 0, 'x_454': 0, 'x_1627': 0, 'x_1447': 0, 'x_53': 0, 'x_562': 0, 'x_2245': 0, 'x_1459': 0, 'x_2079': 0, 'x_485': 0, 'x_1147': 6000, 'x_2211': 0, 'x_1701': 0, 'x_1238': 0, 'x_2141': 0, 'x_1307': 50, 'x_295': 0, 'x_1766': 0, 'x_85': 0, 'x_413': 0, 'x_2239': 0, 'x_863': 0, 'x_745': 0, 'x_1850': 700, 'x_2001': 0, 'x_2264': 0, 'x_1981': 0, 'x_1153': 0, 'x_491': 0, 'x_1839': 700, 'x_509': 0, 'x_1215': 0, 'x_1030': 0, 'x_1191': 3000, 'x_238': 0, 'x_2061': 0, 'x_2031': 0, 'x_1362': 10000, 'x_256': 2000, 'x_1823': 0, 'x_253': 2000, 'x_1690': 0, 'x_2057': 0, 'x_1937': 0, 'x_787': 0, 'x_759': 0, 'x_722': 0, 'x_1915': 0, 'x_223': 2000, 'x_2000': 0, 'x_1779': 0, 'x_648': 270, 'x_1265': 50, 'x_1691': 0, 'x_1923': 0, 'x_47': 0, 'x_552': 0, 'x_1554': 0, 'x_133': 0, 'x_1235': 0, 'x_661': 0, 'x_1136': 0, 'x_790': 0, 'x_581': 200, 'x_1522': 0, 'x_1386': 0, 'x_1605': 0, 'x_1177': 3000, 'x_1819': 0, 'x_904': 0, 'x_1263': 50, 'x_2197': 0, 'x_617': 270, 'x_362': 0, 'x_1958': 0, 'x_805': 3520, 'x_2030': 0, 'x_1037': 0, 'x_81': 60, 'x_674': 0, 'x_1311': 50, 'x_263': 0, 'x_2131': 0, 'x_1081': 0, 'x_727': 0, 'x_174': 0, 'x_176': 0, 'x_2029': 0, 'x_1302': 50, 'x_16': 60, 'x_749': 0, 'x_1831': 0, 'x_2148': 0, 'x_1023': 0, 'x_328': 2000, 'x_1255': 50, 'x_2120': 0, 'x_118': 0, 'x_2143': 0, 'x_1556': 0, 'x_331': 0, 'x_464': 0, 'x_1367': 0, 'x_1919': 0, 'x_125': 0, 'x_2235': 0, 'x_1296': 50, 'x_2164': 0, 'x_1336': 50, 'x_449': 0, 'x_2066': 0, 'x_419': 0, 'x_315': 0, 'x_511': 0, 'x_1609': 0, 'x_2106': 0, 'x_1061': 0, 'x_1212': 0, 'x_1384': 0, 'x_849': 0, 'x_2161': 0, 'x_1509': 0, 'x_1026': 0, 'x_405': 0, 'x_1695': 0, 'x_2203': 0, 'x_2257': 0, 'x_1329': 50, 'x_1352': 0, 'x_1017': 0, 'x_983': 0, 'x_1321': 50, 'x_134': 0, 'x_306': 2000, 'x_2034': 0, 'x_2096': 0, 'x_1260': 50, 'x_1764': 0, 'x_1943': 0, 'x_2241': 0, 'x_782': 0, 'x_1957': 0, 'x_1707': 0, 'x_1365': 0, 'x_2274': 0, 'x_1952': 0, 'x_2040': 0, 'x_1045': 0, 'x_811': 3520, 'x_228': 2000, 'x_339': 0, 'x_833': 3520, 'x_1214': 0, 'x_740': 0, 'x_2247': 0, 'x_1385': 0, 'x_1429': 0, 'x_945': 0, 'x_473': 0, 'x_1905': 700, 'x_852': 0, 'x_1251': 0, 'x_1520': 0, 'x_1753': 0, 'x_1940': 0, 'x_873': 0, 'x_28': 0, 'x_2168': 0, 'x_1139': 0, 'x_1438': 0, 'x_2244': 0, 'x_1328': 0, 'x_1542': 0, 'x_98': 60, 'x_2206': 0, 'x_1999': 0, 'x_179': 0, 'x_97': 0, 'x_917': 0, 'x_199': 0, 'x_557': 0, 'x_731': 0, 'x_1912': 0, 'x_2263': 0, 'x_1493': 3500, 'x_941': 0, 'x_1968': 0, 'x_381': 0, 'x_2218': 0, 'x_839': 0, 'x_2086': 0, 'x_1652': 0, 'x_2190': 0, 'x_1979': 0, 'x_854': 0, 'x_2249': 0, 'x_1503': 178, 'x_923': 0, 'x_2054': 0, 'x_878': 0, 'x_978': 0, 'x_152': 0, 'x_341': 0, 'x_441': 0, 'x_103': 0, 'x_445': 0, 'x_1196': 0, 'x_1925': 733, 'x_635': 0, 'x_411': 0, 'x_2111': 0, 'x_1737': 0, 'x_2006': 0, 'x_867': 0, 'x_1348': 10000, 'x_1432': 0, 'x_815': 0, 'x_1194': 0, 'x_2172': 0, 'x_2258': 0, 'x_1692': 0, 'x_834': 0, 'x_838': 0, 'x_984': 0, 'x_205': 0, 'x_1630': 0, 'x_1216': 0, 'x_830': 3520, 'x_993': 0, 'x_737': 0, 'x_250': 2000, 'x_1010': 0, 'x_18': 60, 'x_1570': 0, 'x_121': 0, 'x_997': 0, 'x_2085': 0, 'x_2042': 0, 'x_1150': 0, 'x_2159': 0, 'x_1709': 0, 'x_1838': 700, 'x_647': 0, 'x_1279': 50, 'x_1611': 0, 'x_1422': 0, 'x_669': 0, 'x_278': 0, 'x_1643': 0, 'x_322': 0, 'x_1198': 0, 'x_1347': 0, 'x_2144': 0, 'x_1800': 0, 'x_417': 0, 'x_1398': 0, 'x_1320': 50, 'x_636': 0, 'x_463': 0, 'x_72': 0, 'x_2100': 0, 'x_658': 0, 'x_484': 0, 'x_666': 0, 'x_2272': 0, 'x_799': 0, 'x_1617': 0, 'x_1613': 0, 'x_1828': 700, 'x_2062': 0, 'x_1821': 700, 'x_715': 0, 'x_1458': 0, 'x_823': 0, 'x_155': 0, 'x_406': 0, 'x_1303': 50, 'x_1083': 0, 'x_1043': 0, 'x_1498': 0, 'x_1982': 0, 'x_2019': 0, 'x_1899': 0, 'x_1783': 0, 'x_677': 0, 'x_542': 0, 'x_128': 0, 'x_1677': 0, 'x_973': 0, 'x_2136': 0, 'x_659': 0, 'x_1798': 0, 'x_314': 0, 'x_1405': 0, 'x_32': 0, 'x_798': 0, 'x_668': 0, 'x_9': 0, 'x_147': 0, 'x_898': 0, 'x_1160': 3000, 'x_924': 0, 'x_569': 0, 'x_248': 2000, 'x_1001': 0, 'x_1861': 0, 'x_640': 0, 'x_368': 0, 'x_1173': 0, 'x_577': 0, 'x_1058': 0, 'x_254': 2000, 'x_526': 0, 'x_1625': 0, 'x_879': 0, 'x_964': 0, 'x_600': 270, 'x_1590': 0, 'x_701': 0, 'x_1295': 50, 'x_678': 0, 'x_643': 270, 'x_1740': 0, 'x_150': 0, 'x_1851': 0, 'x_999': 0, 'x_2266': 0, 'x_1892': 0, 'x_437': 0, 'x_1877': 0, 'x_1936': 0, 'x_1502': 12000, 'x_747': 0, 'x_616': 270, 'x_738': 0, 'x_707': 0, 'x_935': 0, 'x_1334': 50, 'x_2046': 0, 'x_1501': 0, 'x_986': 0, 'x_1612': 0, 'x_332': 0, 'x_1599': 0, 'x_181': 0, 'x_70': 0, 'x_2138': 0, 'x_897': 0, 'x_356': 0, 'x_1510': 12000, 'x_425': 0, 'x_1859': 0, 'x_1730': 0, 'x_2068': 0, 'x_1176': 0, 'x_1079': 0, 'x_910': 0, 'x_649': 0, 'x_12': 0, 'x_384': 0, 'x_846': 3520, 'x_1634': 0, 'x_826': 3520, 'x_26': 0, 'x_10': 60, 'x_606': 270, 'x_17': 0, 'x_292': 0, 'x_1662': 0, 'x_711': 0, 'x_394': 0, 'x_922': 0, 'x_515': 0, 'x_203': 0, 'x_784': 0, 'x_1856': 700, 'x_783': 0, 'x_247': 2000, 'x_1708': 0, 'x_716': 0, 'x_1226': 0, 'x_1569': 0, 'x_2114': 0, 'x_266': 2000, 'x_1456': 0, 'x_1330': 50, 'x_352': 0, 'x_1366': 0, 'x_1528': 0, 'x_1712': 0, 'x_1331': 50, 'x_971': 0, 'x_3': 0, 'x_1275': 0, 'x_1157': 3000, 'x_1051': 0, 'x_886': 0, 'x_862': 0, 'x_1035': 0, 'x_1016': 0, 'x_1862': 700, 'x_1403': 0, 'x_1435': 0, 'x_287': 0, 'x_1375': 0, 'x_1774': 0, 'x_1116': 0, 'x_555': 0, 'x_1967': 0, 'x_2243': 0, 'x_670': 0, 'x_766': 0, 'x_827': 3520, 'x_1195': 0, 'x_456': 0, 'x_1241': 3000, 'x_148': 0, 'x_1421': 0, 'x_452': 0, 'x_1378': 0, 'x_360': 0, 'x_591': 270, 'x_531': 0, 'x_1281': 50, 'x_41': 0, 'x_2087': 0, 'x_2005': 0, 'x_2124': 0, 'x_422': 0, 'x_1094': 0, 'x_1376': 0, 'x_304': 2000, 'x_1568': 0, 'x_571': 0, 'x_1959': 0, 'x_808': 0, 'x_372': 0, 'x_1758': 0, 'x_1119': 0, 'x_2069': 0, 'x_143': 0, 'x_709': 0, 'x_1608': 0, 'x_627': 270, 'x_2043': 0, 'x_29': 0, 'x_1724': 0, 'x_1741': 0, 'x_1064': 0, 'x_1965': 0, 'x_2107': 0, 'x_1945': 0, 'x_534': 0, 'x_324': 0, 'x_2007': 0, 'x_101': 0, 'x_0': 0, 'x_261': 2000, 'x_1144': 0, 'x_1845': 700, 'x_167': 0, 'x_345': 0, 'x_398': 0, 'x_1325': 50, 'x_525': 0, 'x_1491': 0, 'x_1349': 0, 'x_1486': 0, 'x_2126': 0, 'x_20': 0, 'x_1761': 0, 'x_822': 0, 'x_2105': 0, 'x_1128': 0, 'x_1131': 0, 'x_1036': 0, 'x_1141': 3000, 'x_1534': 0, 'x_1864': 700, 'x_1757': 0, 'x_59': 0, 'x_2082': 0, 'x_864': 0, 'x_966': 0, 'x_172': 0, 'x_1738': 0, 'x_780': 0, 'x_1787': 0, 'x_551': 0, 'x_4': 60, 'x_535': 0, 'x_1515': 0, 'x_1506': 0, 'x_450': 0, 'x_5': 0, 'x_183': 0, 'x_390': 0, 'x_628': 270, 'x_178': 0, 'x_523': 0, 'x_1093': 0, 'x_1775': 0, 'x_831': 0, 'x_1098': 0, 'x_1886': 534, 'x_957': 0, 'x_1880': 0, 'x_2236': 0, 'x_2053': 0, 'x_1228': 0, 'x_284': 0, 'x_189': 0, 'x_501': 0, 'x_1603': 0, 'x_1571': 0, 'x_462': 20000, 'x_2158': 0, 'x_1887': 700, 'x_2200': 0, 'x_906': 0, 'x_469': 0, 'x_68': 0, 'x_2129': 0, 'x_1526': 0, 'x_956': 0, 'x_1909': 0, 'x_1743': 0, 'x_1540': 0, 'x_1637': 0, 'x_810': 3520, 'x_920': 0, 'x_1527': 0, 'x_1976': 0, 'x_283': 0, 'x_1953': 0, 'x_1199': 0, 'x_883': 0, 'x_739': 0, 'x_1989': 0, 'x_1121': 0, 'x_611': 270, 'x_561': 0, 'x_1697': 0, 'x_954': 0, 'x_2269': 0, 'x_1567': 0, 'x_1846': 700, 'x_1450': 0, 'x_124': 0, 'x_1908': 4, 'x_1443': 0, 'x_1896': 0, 'x_1465': 0, 'x_985': 0, 'x_1483': 0, 'x_607': 270, 'x_1203': 0, 'x_537': 0, 'x_764': 0, 'x_1152': 0, 'x_1028': 0, 'x_1407': 0, 'x_1671': 0, 'x_1875': 0, 'x_2063': 0, 'x_1822': 700, 'x_794': 0, 'x_1006': 0, 'x_237': 0, 'x_1728': 0, 'x_1084': 0, 'x_963': 0, 'x_337': 0, 'x_1584': 0, 'x_1402': 0, 'x_106': 0, 'x_2260': 0, 'x_243': 2000, 'x_998': 0, 'x_2115': 0, 'x_932': 0, 'x_1129': 0, 'x_961': 0, 'x_1681': 0, 'x_1848': 0, 'x_1717': 0, 'x_1694': 0, 'x_1870': 700, 'x_1089': 0, 'x_211': 0, 'x_39': 0, 'x_533': 0, 'x_2050': 0, 'x_207': 0, 'x_1955': 0, 'x_943': 0, 'x_2135': 0, 'x_631': 270, 'x_536': 0, 'x_430': 0, 'x_1710': 0, 'x_1586': 0, 'x_1854': 700, 'x_1472': 0, 'x_1978': 0, 'x_1075': 0, 'x_2147': 0, 'x_1606': 0, 'x_2025': 0, 'x_977': 0, 'x_1269': 50, 'x_1872': 700, 'x_565': 0, 'x_2173': 0, 'x_2060': 0, 'x_461': 0, 'x_593': 200, 'x_603': 270, 'x_245': 2000, 'x_157': 0, 'x_1072': 0, 'x_1746': 0, 'x_1209': 0, 'x_1921': 0, 'x_578': 200, 'x_1777': 0, 'x_1487': 0, 'x_1419': 0, 'x_890': 0, 'x_1248': 0, 'x_1693': 0, 'x_1002': 0, 'x_2038': 0, 'x_14': 0, 'x_1832': 700, 'x_532': 0, 'x_2024': 0, 'x_260': 0, 'x_2149': 0, 'x_1771': 0, 'x_1319': 50, 'x_689': 0, 'x_361': 0, 'x_1581': 0, 'x_66': 60, 'x_1559': 20, 'x_1944': 0, 'x_768': 0, 'x_89': 0, 'x_512': 30000, 'x_1204': 0, 'x_1703': 0, 'x_654': 0, 'x_896': 0, 'x_95': 0, 'x_850': 3520, 'x_1113': 0, 'x_859': 0, 'x_1661': 0, 'x_499': 0, 'x_36': 0, 'x_156': 0, 'x_1620': 0, 'x_2021': 0, 'x_1531': 0, 'x_832': 0, 'x_2017': 0, 'x_548': 0, 'x_1406': 0, 'x_1397': 0, 'x_267': 2000, 'x_748': 0, 'x_1726': 0, 'x_1250': 0, 'x_427': 0, 'x_641': 270, 'x_1941': 0, 'x_1181': 0, 'x_1106': 0, 'x_2139': 0, 'x_1558': 0, 'x_170': 0, 'x_1963': 0, 'x_1633': 0, 'x_1727': 0, 'x_1763': 0, 'x_453': 0, 'x_529': 0, 'x_2065': 0, 'x_926': 0, 'x_1476': 0, 'x_1626': 0, 'x_1183': 0, 'x_2254': 0, 'x_1021': 0, 'x_736': 0, 'x_1772': 0, 'x_817': 0, 'x_775': 0, 'x_1324': 50, 'x_94': 0, 'x_1767': 0, 'x_1935': 0, 'x_27': 0, 'x_1474': 0, 'x_1855': 0, 'x_1426': 0, 'x_1825': 0, 'x_1666': 0, 'x_1938': 0, 'x_929': 0, 'x_1168': 0, 'x_496': 0, 'x_2179': 0, 'x_844': 3520, 'x_2191': 0, 'x_761': 0, 'x_37': 60, 'x_281': 2000, 'x_585': 0, 'x_313': 0, 'x_712': 0, 'x_549': 0, 'x_1490': 0, 'x_1514': 0, 'x_1236': 0, 'x_43': 0, 'x_1007': 0, 'x_1164': 0, 'x_1858': 700, 'x_212': 0, 'x_132': 0, 'x_1907': 730, 'x_367': 0, 'x_308': 0, 'x_1314': 50, 'x_2119': 0, 'x_1063': 0, 'x_319': 0, 'x_1455': 0, 'x_200': 0, 'x_1646': 0, 'x_1108': 0, 'x_168': 0, 'x_1462': 0, 'x_185': 0, 'x_1125': 0}. Best is trial 1 with value: 1.7066610884960103.\n",
      "[I 2025-09-25 19:55:06,370] Trial 4 pruned. \n"
     ]
    }
   ],
   "source": [
    "tpe_optimizer = TPEOptimizer(\n",
    "    objective=objective, constraints=constraints, vars_order=RandomOrder(), vars_chooser=GradientChooser(facade, num_params=facade.num_params, num_top=5)\n",
    ")\n",
    "\n",
    "best_x, best_val, perc, func_evals = tpe_optimizer.run(max_runs=MAX_OPT_RUNS, timeout=MAX_TIME_SEC, initial_runs_num=1)"
   ]
  },
  {
   "cell_type": "markdown",
   "metadata": {},
   "source": [
    "Convert to services dataframe"
   ]
  },
  {
   "cell_type": "code",
   "execution_count": 36,
   "metadata": {},
   "outputs": [
    {
     "data": {
      "application/vnd.microsoft.datawrangler.viewer.v0+json": {
       "columns": [
        {
         "name": "index",
         "rawType": "int64",
         "type": "integer"
        },
        {
         "name": "block_id",
         "rawType": "int64",
         "type": "integer"
        },
        {
         "name": "service_type",
         "rawType": "object",
         "type": "string"
        },
        {
         "name": "site_area",
         "rawType": "float64",
         "type": "float"
        },
        {
         "name": "build_floor_area",
         "rawType": "float64",
         "type": "float"
        },
        {
         "name": "capacity",
         "rawType": "int64",
         "type": "integer"
        },
        {
         "name": "count",
         "rawType": "int64",
         "type": "integer"
        }
       ],
       "ref": "a85c80c3-0c8c-4f35-9a76-29acb7829978",
       "rows": [
        [
         "12",
         "2481",
         "market",
         "3000.0",
         "6000.0",
         "3000",
         "1"
        ],
        [
         "28",
         "2485",
         "market",
         "3000.0",
         "6000.0",
         "3000",
         "1"
        ],
        [
         "40",
         "2488",
         "market",
         "3000.0",
         "6000.0",
         "3000",
         "1"
        ],
        [
         "46",
         "2489",
         "market",
         "6000.0",
         "12000.0",
         "8000",
         "1"
        ],
        [
         "80",
         "2500",
         "market",
         "3000.0",
         "6000.0",
         "3000",
         "1"
        ],
        [
         "88",
         "2503",
         "market",
         "3000.0",
         "6000.0",
         "3000",
         "1"
        ],
        [
         "96",
         "2505",
         "market",
         "3000.0",
         "6000.0",
         "3000",
         "1"
        ],
        [
         "100",
         "2506",
         "market",
         "3000.0",
         "6000.0",
         "3000",
         "1"
        ],
        [
         "104",
         "2507",
         "market",
         "3000.0",
         "6000.0",
         "3000",
         "1"
        ],
        [
         "116",
         "2510",
         "market",
         "3000.0",
         "6000.0",
         "3000",
         "1"
        ],
        [
         "120",
         "2511",
         "market",
         "3000.0",
         "6000.0",
         "3000",
         "1"
        ],
        [
         "124",
         "2512",
         "market",
         "3000.0",
         "6000.0",
         "3000",
         "1"
        ],
        [
         "136",
         "2515",
         "market",
         "3000.0",
         "6000.0",
         "3000",
         "1"
        ],
        [
         "140",
         "2520",
         "market",
         "3000.0",
         "6000.0",
         "3000",
         "1"
        ],
        [
         "164",
         "2527",
         "market",
         "3000.0",
         "6000.0",
         "3000",
         "1"
        ],
        [
         "168",
         "2528",
         "market",
         "3000.0",
         "6000.0",
         "3000",
         "1"
        ],
        [
         "172",
         "2530",
         "market",
         "3000.0",
         "6000.0",
         "3000",
         "1"
        ],
        [
         "176",
         "2531",
         "market",
         "3000.0",
         "6000.0",
         "3000",
         "1"
        ],
        [
         "180",
         "2532",
         "market",
         "3000.0",
         "6000.0",
         "3000",
         "1"
        ],
        [
         "188",
         "2534",
         "market",
         "3000.0",
         "6000.0",
         "3000",
         "1"
        ],
        [
         "204",
         "2540",
         "market",
         "3000.0",
         "6000.0",
         "3000",
         "1"
        ],
        [
         "208",
         "2541",
         "market",
         "3000.0",
         "6000.0",
         "3000",
         "1"
        ],
        [
         "220",
         "2544",
         "market",
         "3000.0",
         "6000.0",
         "3000",
         "1"
        ],
        [
         "236",
         "2548",
         "market",
         "3000.0",
         "6000.0",
         "3000",
         "1"
        ],
        [
         "316",
         "2580",
         "market",
         "3000.0",
         "6000.0",
         "3000",
         "1"
        ],
        [
         "348",
         "2595",
         "market",
         "3000.0",
         "6000.0",
         "3000",
         "1"
        ],
        [
         "352",
         "2596",
         "market",
         "3000.0",
         "6000.0",
         "3000",
         "1"
        ],
        [
         "360",
         "2599",
         "market",
         "3000.0",
         "6000.0",
         "3000",
         "1"
        ],
        [
         "424",
         "2632",
         "market",
         "3000.0",
         "6000.0",
         "3000",
         "1"
        ],
        [
         "474",
         "2480",
         "hotel",
         "24000.0",
         "9000.0",
         "300",
         "1"
        ],
        [
         "479",
         "2481",
         "hotel",
         "24000.0",
         "9000.0",
         "300",
         "1"
        ],
        [
         "494",
         "2484",
         "hotel",
         "24000.0",
         "9000.0",
         "300",
         "1"
        ],
        [
         "504",
         "2486",
         "hotel",
         "24000.0",
         "9000.0",
         "300",
         "1"
        ],
        [
         "519",
         "2489",
         "hotel",
         "24000.0",
         "9000.0",
         "300",
         "1"
        ],
        [
         "524",
         "2490",
         "hotel",
         "24000.0",
         "9000.0",
         "300",
         "1"
        ],
        [
         "609",
         "2509",
         "hotel",
         "24000.0",
         "9000.0",
         "300",
         "1"
        ],
        [
         "754",
         "2540",
         "hotel",
         "24000.0",
         "9000.0",
         "300",
         "1"
        ],
        [
         "784",
         "2546",
         "hotel",
         "24000.0",
         "9000.0",
         "300",
         "1"
        ],
        [
         "1054",
         "2478",
         "bar",
         "60.0",
         "45.0",
         "30",
         "1"
        ],
        [
         "1060",
         "2479",
         "bar",
         "60.0",
         "45.0",
         "30",
         "1"
        ],
        [
         "1066",
         "2480",
         "bar",
         "60.0",
         "45.0",
         "30",
         "1"
        ],
        [
         "1072",
         "2481",
         "bar",
         "60.0",
         "45.0",
         "30",
         "1"
        ],
        [
         "1081",
         "2482",
         "bar",
         "0.0",
         "40.0",
         "30",
         "1"
        ],
        [
         "1084",
         "2483",
         "bar",
         "60.0",
         "45.0",
         "30",
         "1"
        ],
        [
         "1093",
         "2484",
         "bar",
         "0.0",
         "40.0",
         "30",
         "1"
        ],
        [
         "1096",
         "2485",
         "bar",
         "60.0",
         "45.0",
         "30",
         "1"
        ],
        [
         "1102",
         "2486",
         "bar",
         "60.0",
         "45.0",
         "30",
         "1"
        ],
        [
         "1108",
         "2487",
         "bar",
         "60.0",
         "45.0",
         "30",
         "1"
        ],
        [
         "1114",
         "2488",
         "bar",
         "60.0",
         "45.0",
         "30",
         "1"
        ],
        [
         "1120",
         "2489",
         "bar",
         "60.0",
         "45.0",
         "30",
         "1"
        ]
       ],
       "shape": {
        "columns": 6,
        "rows": 1149
       }
      },
      "text/html": [
       "<div>\n",
       "<style scoped>\n",
       "    .dataframe tbody tr th:only-of-type {\n",
       "        vertical-align: middle;\n",
       "    }\n",
       "\n",
       "    .dataframe tbody tr th {\n",
       "        vertical-align: top;\n",
       "    }\n",
       "\n",
       "    .dataframe thead th {\n",
       "        text-align: right;\n",
       "    }\n",
       "</style>\n",
       "<table border=\"1\" class=\"dataframe\">\n",
       "  <thead>\n",
       "    <tr style=\"text-align: right;\">\n",
       "      <th></th>\n",
       "      <th>block_id</th>\n",
       "      <th>service_type</th>\n",
       "      <th>site_area</th>\n",
       "      <th>build_floor_area</th>\n",
       "      <th>capacity</th>\n",
       "      <th>count</th>\n",
       "    </tr>\n",
       "  </thead>\n",
       "  <tbody>\n",
       "    <tr>\n",
       "      <th>12</th>\n",
       "      <td>2481</td>\n",
       "      <td>market</td>\n",
       "      <td>3000.0</td>\n",
       "      <td>6000.0</td>\n",
       "      <td>3000</td>\n",
       "      <td>1</td>\n",
       "    </tr>\n",
       "    <tr>\n",
       "      <th>28</th>\n",
       "      <td>2485</td>\n",
       "      <td>market</td>\n",
       "      <td>3000.0</td>\n",
       "      <td>6000.0</td>\n",
       "      <td>3000</td>\n",
       "      <td>1</td>\n",
       "    </tr>\n",
       "    <tr>\n",
       "      <th>40</th>\n",
       "      <td>2488</td>\n",
       "      <td>market</td>\n",
       "      <td>3000.0</td>\n",
       "      <td>6000.0</td>\n",
       "      <td>3000</td>\n",
       "      <td>1</td>\n",
       "    </tr>\n",
       "    <tr>\n",
       "      <th>46</th>\n",
       "      <td>2489</td>\n",
       "      <td>market</td>\n",
       "      <td>6000.0</td>\n",
       "      <td>12000.0</td>\n",
       "      <td>8000</td>\n",
       "      <td>1</td>\n",
       "    </tr>\n",
       "    <tr>\n",
       "      <th>80</th>\n",
       "      <td>2500</td>\n",
       "      <td>market</td>\n",
       "      <td>3000.0</td>\n",
       "      <td>6000.0</td>\n",
       "      <td>3000</td>\n",
       "      <td>1</td>\n",
       "    </tr>\n",
       "    <tr>\n",
       "      <th>...</th>\n",
       "      <td>...</td>\n",
       "      <td>...</td>\n",
       "      <td>...</td>\n",
       "      <td>...</td>\n",
       "      <td>...</td>\n",
       "      <td>...</td>\n",
       "    </tr>\n",
       "    <tr>\n",
       "      <th>10739</th>\n",
       "      <td>2619</td>\n",
       "      <td>playground</td>\n",
       "      <td>50.0</td>\n",
       "      <td>0.0</td>\n",
       "      <td>20</td>\n",
       "      <td>1</td>\n",
       "    </tr>\n",
       "    <tr>\n",
       "      <th>10742</th>\n",
       "      <td>2620</td>\n",
       "      <td>playground</td>\n",
       "      <td>50.0</td>\n",
       "      <td>0.0</td>\n",
       "      <td>20</td>\n",
       "      <td>1</td>\n",
       "    </tr>\n",
       "    <tr>\n",
       "      <th>10745</th>\n",
       "      <td>2622</td>\n",
       "      <td>playground</td>\n",
       "      <td>50.0</td>\n",
       "      <td>0.0</td>\n",
       "      <td>20</td>\n",
       "      <td>1</td>\n",
       "    </tr>\n",
       "    <tr>\n",
       "      <th>10748</th>\n",
       "      <td>2623</td>\n",
       "      <td>playground</td>\n",
       "      <td>50.0</td>\n",
       "      <td>0.0</td>\n",
       "      <td>20</td>\n",
       "      <td>1</td>\n",
       "    </tr>\n",
       "    <tr>\n",
       "      <th>10754</th>\n",
       "      <td>2625</td>\n",
       "      <td>playground</td>\n",
       "      <td>50.0</td>\n",
       "      <td>0.0</td>\n",
       "      <td>20</td>\n",
       "      <td>1</td>\n",
       "    </tr>\n",
       "  </tbody>\n",
       "</table>\n",
       "<p>1149 rows × 6 columns</p>\n",
       "</div>"
      ],
      "text/plain": [
       "       block_id service_type  site_area  build_floor_area  capacity  count\n",
       "12         2481       market     3000.0            6000.0      3000      1\n",
       "28         2485       market     3000.0            6000.0      3000      1\n",
       "40         2488       market     3000.0            6000.0      3000      1\n",
       "46         2489       market     6000.0           12000.0      8000      1\n",
       "80         2500       market     3000.0            6000.0      3000      1\n",
       "...         ...          ...        ...               ...       ...    ...\n",
       "10739      2619   playground       50.0               0.0        20      1\n",
       "10742      2620   playground       50.0               0.0        20      1\n",
       "10745      2622   playground       50.0               0.0        20      1\n",
       "10748      2623   playground       50.0               0.0        20      1\n",
       "10754      2625   playground       50.0               0.0        20      1\n",
       "\n",
       "[1149 rows x 6 columns]"
      ]
     },
     "execution_count": 36,
     "metadata": {},
     "output_type": "execute_result"
    }
   ],
   "source": [
    "solution_df = facade.solution_to_services_df(best_x)\n",
    "solution_df"
   ]
  },
  {
   "cell_type": "markdown",
   "metadata": {},
   "source": [
    "Extract area dataframe from solution"
   ]
  },
  {
   "cell_type": "code",
   "execution_count": 9,
   "metadata": {},
   "outputs": [
    {
     "data": {
      "application/vnd.microsoft.datawrangler.viewer.v0+json": {
       "columns": [
        {
         "name": "index",
         "rawType": "int64",
         "type": "integer"
        },
        {
         "name": "population",
         "rawType": "float64",
         "type": "float"
        },
        {
         "name": "build_floor_area",
         "rawType": "float64",
         "type": "float"
        },
        {
         "name": "living_area",
         "rawType": "float64",
         "type": "float"
        },
        {
         "name": "footprint_area",
         "rawType": "float64",
         "type": "float"
        }
       ],
       "ref": "b9581dff-8a40-49bf-98f6-2e2d145d20e8",
       "rows": [
        [
         "2477",
         "0.0",
         "515564.85967429244",
         "0.0",
         "103112.97193485849"
        ],
        [
         "2478",
         "0.0",
         "54367.67573455846",
         "0.0",
         "0.0"
        ],
        [
         "2479",
         "27.0",
         "5554.606209664169",
         "294.606209664169",
         "987.4855483847414"
        ],
        [
         "2480",
         "1541.0",
         "31312.721131054936",
         "16512.721131054936",
         "5566.705978854212"
        ],
        [
         "2481",
         "3759.0",
         "61444.753533306335",
         "40284.753533306335",
         "10923.511739254463"
        ],
        [
         "2482",
         "3.0",
         "498.94285323180736",
         "33.94285323180736",
         "88.70095168565467"
        ],
        [
         "2483",
         "79.0",
         "6116.039493314019",
         "856.0394933140187",
         "1087.2959099224925"
        ],
        [
         "2484",
         "1451.0",
         "30213.65147979442",
         "15553.651479794418",
         "5371.31581863012"
        ],
        [
         "2485",
         "12.0",
         "8791.794196483406",
         "131.79419648340627",
         "1562.9856349303836"
        ],
        [
         "2486",
         "1478.0",
         "29439.500991946392",
         "15839.500991946392",
         "5233.689065234916"
        ],
        [
         "2487",
         "5.0",
         "1229.4218747315467",
         "59.42187473154672",
         "218.56388884116393"
        ],
        [
         "2488",
         "1434.0",
         "29633.372574601945",
         "15373.372574601945",
         "5268.155124373679"
        ],
        [
         "2489",
         "0.0",
         "537306.510131448",
         "0.0",
         "0.0"
        ],
        [
         "2490",
         "1366.0",
         "28868.459505263847",
         "14643.459505263847",
         "5132.170578713573"
        ],
        [
         "2491",
         "99.0",
         "3221.1512083453094",
         "1061.1512083453094",
         "572.6491037058329"
        ],
        [
         "2492",
         "1605.0",
         "28400.923947288942",
         "17200.923947288942",
         "5049.053146184702"
        ],
        [
         "2493",
         "24.0",
         "3792.475603583701",
         "257.47560358370083",
         "674.2178850815469"
        ],
        [
         "2494",
         "0.0",
         "6894.380868443426",
         "0.0",
         "0.0"
        ],
        [
         "2495",
         "80.0",
         "3266.56822317427",
         "866.5682231742699",
         "580.7232396754258"
        ],
        [
         "2496",
         "29.0",
         "4918.064563594802",
         "318.06456359480217",
         "874.3225890835206"
        ],
        [
         "2497",
         "12.0",
         "2290.680338547553",
         "130.68033854755322",
         "407.2320601862317"
        ],
        [
         "2499",
         "0.0",
         "1846.856898735525",
         "1.8568987355249646",
         "328.33011533076007"
        ],
        [
         "2500",
         "0.0",
         "54759.19163255862",
         "0.0",
         "0.0"
        ],
        [
         "2501",
         "1867.0",
         "30207.906939596643",
         "20007.906939596643",
         "5370.294567039405"
        ],
        [
         "2502",
         "0.0",
         "275779.2769016523",
         "0.0",
         "55155.85538033046"
        ],
        [
         "2503",
         "1574.0",
         "27773.478910525537",
         "16873.478910525537",
         "4937.507361871209"
        ],
        [
         "2504",
         "38.0",
         "2817.763770728468",
         "417.763770728468",
         "500.9357814628388"
        ],
        [
         "2505",
         "656.0",
         "20835.06026785947",
         "7035.06026785947",
         "3704.010714286129"
        ],
        [
         "2506",
         "1225.0",
         "31133.082051334673",
         "13133.082051334673",
         "5534.770142459499"
        ],
        [
         "2507",
         "1237.0",
         "29320.83522272699",
         "13260.83522272699",
         "5212.592928484799"
        ],
        [
         "2508",
         "2200.0",
         "29740.884865392803",
         "23580.884865392803",
         "5287.268420514278"
        ],
        [
         "2509",
         "1453.0",
         "30504.989684151707",
         "15569.989684151707",
         "5423.109277182527"
        ],
        [
         "2510",
         "1383.0",
         "29821.243688467926",
         "14826.243688467926",
         "5301.55443350541"
        ],
        [
         "2511",
         "1417.0",
         "29451.196004788395",
         "15191.196004788395",
         "5235.768178629049"
        ],
        [
         "2512",
         "237.0",
         "19606.456474652234",
         "2541.4564746522337",
         "3485.5922621603977"
        ],
        [
         "2513",
         "479.0",
         "11800.49958227066",
         "5135.4995822706605",
         "2097.8665924036736"
        ],
        [
         "2514",
         "1447.0",
         "24332.828172066245",
         "15512.828172066245",
         "4325.836119478444"
        ],
        [
         "2515",
         "6255.0",
         "95849.5382822041",
         "67024.5382822041",
         "17039.917916836286"
        ],
        [
         "2516",
         "0.0",
         "2129.410497064023",
         "0.0",
         "0.0"
        ],
        [
         "2517",
         "0.0",
         "228.2662039746757",
         "0.0",
         "45.653240794935144"
        ],
        [
         "2518",
         "0.0",
         "6207.641234936066",
         "0.0",
         "0.0"
        ],
        [
         "2520",
         "521.0",
         "20457.128651397943",
         "5592.128651397943",
         "3636.822871359635"
        ],
        [
         "2521",
         "250.0",
         "7410.683785272375",
         "2685.6837852723747",
         "1317.4548951595336"
        ],
        [
         "2522",
         "0.0",
         "68.81309242342168",
         "0.0",
         "0.0"
        ],
        [
         "2523",
         "4.0",
         "1221.577596716554",
         "51.5775967165539",
         "217.16935052738742"
        ],
        [
         "2524",
         "558.0",
         "11373.804214626365",
         "5988.804214626365",
         "2022.0096381557987"
        ],
        [
         "2525",
         "73.0",
         "4253.917549425478",
         "788.9175494254778",
         "756.2520087867517"
        ],
        [
         "2526",
         "1.0",
         "3587.5069709183663",
         "17.506970918366278",
         "637.7790170521541"
        ],
        [
         "2527",
         "272.0",
         "15506.543883860946",
         "2916.543883860946",
         "2756.718912686391"
        ],
        [
         "2528",
         "1462.0",
         "34072.61455442981",
         "15672.614554429812",
         "6057.353698565302"
        ]
       ],
       "shape": {
        "columns": 4,
        "rows": 130
       }
      },
      "text/html": [
       "<div>\n",
       "<style scoped>\n",
       "    .dataframe tbody tr th:only-of-type {\n",
       "        vertical-align: middle;\n",
       "    }\n",
       "\n",
       "    .dataframe tbody tr th {\n",
       "        vertical-align: top;\n",
       "    }\n",
       "\n",
       "    .dataframe thead th {\n",
       "        text-align: right;\n",
       "    }\n",
       "</style>\n",
       "<table border=\"1\" class=\"dataframe\">\n",
       "  <thead>\n",
       "    <tr style=\"text-align: right;\">\n",
       "      <th></th>\n",
       "      <th>population</th>\n",
       "      <th>build_floor_area</th>\n",
       "      <th>living_area</th>\n",
       "      <th>footprint_area</th>\n",
       "    </tr>\n",
       "  </thead>\n",
       "  <tbody>\n",
       "    <tr>\n",
       "      <th>2477</th>\n",
       "      <td>0.0</td>\n",
       "      <td>515564.859674</td>\n",
       "      <td>0.000000</td>\n",
       "      <td>103112.971935</td>\n",
       "    </tr>\n",
       "    <tr>\n",
       "      <th>2478</th>\n",
       "      <td>0.0</td>\n",
       "      <td>54367.675735</td>\n",
       "      <td>0.000000</td>\n",
       "      <td>0.000000</td>\n",
       "    </tr>\n",
       "    <tr>\n",
       "      <th>2479</th>\n",
       "      <td>27.0</td>\n",
       "      <td>5554.606210</td>\n",
       "      <td>294.606210</td>\n",
       "      <td>987.485548</td>\n",
       "    </tr>\n",
       "    <tr>\n",
       "      <th>2480</th>\n",
       "      <td>1541.0</td>\n",
       "      <td>31312.721131</td>\n",
       "      <td>16512.721131</td>\n",
       "      <td>5566.705979</td>\n",
       "    </tr>\n",
       "    <tr>\n",
       "      <th>2481</th>\n",
       "      <td>3759.0</td>\n",
       "      <td>61444.753533</td>\n",
       "      <td>40284.753533</td>\n",
       "      <td>10923.511739</td>\n",
       "    </tr>\n",
       "    <tr>\n",
       "      <th>...</th>\n",
       "      <td>...</td>\n",
       "      <td>...</td>\n",
       "      <td>...</td>\n",
       "      <td>...</td>\n",
       "    </tr>\n",
       "    <tr>\n",
       "      <th>2648</th>\n",
       "      <td>0.0</td>\n",
       "      <td>43.745961</td>\n",
       "      <td>3.745961</td>\n",
       "      <td>7.777060</td>\n",
       "    </tr>\n",
       "    <tr>\n",
       "      <th>2649</th>\n",
       "      <td>3.0</td>\n",
       "      <td>104.006643</td>\n",
       "      <td>34.006643</td>\n",
       "      <td>18.490070</td>\n",
       "    </tr>\n",
       "    <tr>\n",
       "      <th>2650</th>\n",
       "      <td>7.0</td>\n",
       "      <td>225.528632</td>\n",
       "      <td>80.528632</td>\n",
       "      <td>40.093979</td>\n",
       "    </tr>\n",
       "    <tr>\n",
       "      <th>2651</th>\n",
       "      <td>0.0</td>\n",
       "      <td>888.350229</td>\n",
       "      <td>0.000000</td>\n",
       "      <td>94.757358</td>\n",
       "    </tr>\n",
       "    <tr>\n",
       "      <th>2652</th>\n",
       "      <td>0.0</td>\n",
       "      <td>1792.659911</td>\n",
       "      <td>0.000000</td>\n",
       "      <td>0.000000</td>\n",
       "    </tr>\n",
       "  </tbody>\n",
       "</table>\n",
       "<p>130 rows × 4 columns</p>\n",
       "</div>"
      ],
      "text/plain": [
       "      population  build_floor_area   living_area  footprint_area\n",
       "2477         0.0     515564.859674      0.000000   103112.971935\n",
       "2478         0.0      54367.675735      0.000000        0.000000\n",
       "2479        27.0       5554.606210    294.606210      987.485548\n",
       "2480      1541.0      31312.721131  16512.721131     5566.705979\n",
       "2481      3759.0      61444.753533  40284.753533    10923.511739\n",
       "...          ...               ...           ...             ...\n",
       "2648         0.0         43.745961      3.745961        7.777060\n",
       "2649         3.0        104.006643     34.006643       18.490070\n",
       "2650         7.0        225.528632     80.528632       40.093979\n",
       "2651         0.0        888.350229      0.000000       94.757358\n",
       "2652         0.0       1792.659911      0.000000        0.000000\n",
       "\n",
       "[130 rows x 4 columns]"
      ]
     },
     "execution_count": 9,
     "metadata": {},
     "output_type": "execute_result"
    }
   ],
   "source": [
    "solution_area_df = facade.get_solution_area_df(best_x)\n",
    "solution_area_df.to_csv(f'solution_area.csv')\n",
    "solution_area_df.loc[blocks_lu.keys()]"
   ]
  },
  {
   "cell_type": "code",
   "execution_count": 37,
   "metadata": {},
   "outputs": [
    {
     "data": {
      "text/plain": [
       "np.float64(57202.0)"
      ]
     },
     "execution_count": 37,
     "metadata": {},
     "output_type": "execute_result"
    }
   ],
   "source": [
    "solution_area_df.population.sum()"
   ]
  },
  {
   "cell_type": "markdown",
   "metadata": {},
   "source": [
    "### Visualization"
   ]
  },
  {
   "cell_type": "code",
   "execution_count": 10,
   "metadata": {},
   "outputs": [],
   "source": [
    "import matplotlib.pyplot as plt\n",
    "\n",
    "\n",
    "def plot_df(df):\n",
    "    df_called_obj = df.loc[df[\"called_obj\"] == True]\n",
    "\n",
    "    plt.scatter(df_called_obj[\"func_evals\"], df_called_obj[\"best_val\"], c=\"red\", s=5)\n",
    "\n",
    "    df_called_obj = pd.concat(\n",
    "        [pd.DataFrame([[-1, None, 0, 0, None, 0, False, 0]], columns=df_called_obj.columns), df_called_obj]\n",
    "    )\n",
    "    plt.plot(\n",
    "        df_called_obj[\"func_evals\"], df_called_obj[\"best_val\"], label=\"Best Value (TPE)\", color=\"blue\", linewidth=1\n",
    "    )\n",
    "    # Добавление точек с цветом в зависимости от 'called_obj'\n",
    "    # Настройка осей и заголовка\n",
    "    plt.xlabel(\"Number of objective evaluation\")\n",
    "    plt.ylabel(\"Best Value\")\n",
    "    plt.title(\"Best Value Across Trials\")\n",
    "    plt.legend()\n",
    "    plt.grid(True)\n",
    "\n",
    "    # Отображение графика\n",
    "    plt.show()"
   ]
  },
  {
   "cell_type": "code",
   "execution_count": 17,
   "metadata": {},
   "outputs": [
    {
     "data": {
      "application/vnd.microsoft.datawrangler.viewer.v0+json": {
       "columns": [
        {
         "name": "index",
         "rawType": "int64",
         "type": "integer"
        },
        {
         "name": "best_val",
         "rawType": "float64",
         "type": "float"
        },
        {
         "name": "provisions",
         "rawType": "object",
         "type": "string"
        }
       ],
       "ref": "e0b18d91-5432-4713-84eb-9c3713388aab",
       "rows": [
        [
         "0",
         "1.7090009380310238",
         "{'market': 1.0, 'hotel': 1.0, 'bar': 1.0, 'pitch': 1.0, 'museum': 1.0, 'multifunctional_center': 1.0, 'restaurant': 0.9527794381350867, 'school': 1.0, 'pharmacy': 1.0, 'hospital': 1.0, 'park': 1.0, 'supermarket': 0.422331224241017, 'mall': 1.0, 'kindergarten': 0.9727851766068326, 'cafe': 0.9587482219061166, 'bank': 1.0, 'police': 1.0, 'swimming_pool': 1.0, 'religion': 1.0, 'university': 1.0, 'playground': 1.0}"
        ],
        [
         "1",
         "1.7090009380310238",
         "{'bar': 1.0, 'hotel': 1.0, 'park': 1.0, 'supermarket': 0.422331224241017, 'pitch': 1.0, 'bank': 1.0, 'police': 1.0, 'museum': 1.0, 'pharmacy': 1.0, 'market': 1.0, 'multifunctional_center': 1.0, 'mall': 1.0, 'kindergarten': 0.9727851766068326, 'religion': 1.0, 'university': 1.0, 'cafe': 0.9587482219061166, 'restaurant': 0.9527794381350867, 'school': 1.0, 'playground': 1.0, 'swimming_pool': 1.0, 'hospital': 1.0}"
        ]
       ],
       "shape": {
        "columns": 2,
        "rows": 2
       }
      },
      "text/html": [
       "<div>\n",
       "<style scoped>\n",
       "    .dataframe tbody tr th:only-of-type {\n",
       "        vertical-align: middle;\n",
       "    }\n",
       "\n",
       "    .dataframe tbody tr th {\n",
       "        vertical-align: top;\n",
       "    }\n",
       "\n",
       "    .dataframe thead th {\n",
       "        text-align: right;\n",
       "    }\n",
       "</style>\n",
       "<table border=\"1\" class=\"dataframe\">\n",
       "  <thead>\n",
       "    <tr style=\"text-align: right;\">\n",
       "      <th></th>\n",
       "      <th>best_val</th>\n",
       "      <th>provisions</th>\n",
       "    </tr>\n",
       "  </thead>\n",
       "  <tbody>\n",
       "    <tr>\n",
       "      <th>0</th>\n",
       "      <td>1.709001</td>\n",
       "      <td>{'market': 1.0, 'hotel': 1.0, 'bar': 1.0, 'pit...</td>\n",
       "    </tr>\n",
       "    <tr>\n",
       "      <th>1</th>\n",
       "      <td>1.709001</td>\n",
       "      <td>{'bar': 1.0, 'hotel': 1.0, 'park': 1.0, 'super...</td>\n",
       "    </tr>\n",
       "  </tbody>\n",
       "</table>\n",
       "</div>"
      ],
      "text/plain": [
       "   best_val                                         provisions\n",
       "0  1.709001  {'market': 1.0, 'hotel': 1.0, 'bar': 1.0, 'pit...\n",
       "1  1.709001  {'bar': 1.0, 'hotel': 1.0, 'park': 1.0, 'super..."
      ]
     },
     "execution_count": 17,
     "metadata": {},
     "output_type": "execute_result"
    }
   ],
   "source": [
    "tpe_df"
   ]
  },
  {
   "cell_type": "code",
   "execution_count": 22,
   "metadata": {},
   "outputs": [
    {
     "data": {
      "application/vnd.microsoft.datawrangler.viewer.v0+json": {
       "columns": [
        {
         "name": "index",
         "rawType": "int64",
         "type": "integer"
        },
        {
         "name": "best_val",
         "rawType": "float64",
         "type": "float"
        },
        {
         "name": "provisions",
         "rawType": "object",
         "type": "string"
        }
       ],
       "ref": "91a6cd1f-2a94-459c-815f-4f09e438d215",
       "rows": [
        [
         "0",
         "1.7090009380310238",
         "{'market': 1.0, 'hotel': 1.0, 'bar': 1.0, 'pitch': 1.0, 'museum': 1.0, 'multifunctional_center': 1.0, 'restaurant': 0.9527794381350867, 'school': 1.0, 'pharmacy': 1.0, 'hospital': 1.0, 'park': 1.0, 'supermarket': 0.422331224241017, 'mall': 1.0, 'kindergarten': 0.9727851766068326, 'cafe': 0.9587482219061166, 'bank': 1.0, 'police': 1.0, 'swimming_pool': 1.0, 'religion': 1.0, 'university': 1.0, 'playground': 1.0}"
        ],
        [
         "1",
         "1.7090009380310238",
         "{'bar': 1.0, 'hotel': 1.0, 'park': 1.0, 'supermarket': 0.422331224241017, 'pitch': 1.0, 'bank': 1.0, 'police': 1.0, 'museum': 1.0, 'pharmacy': 1.0, 'market': 1.0, 'multifunctional_center': 1.0, 'mall': 1.0, 'kindergarten': 0.9727851766068326, 'religion': 1.0, 'university': 1.0, 'cafe': 0.9587482219061166, 'restaurant': 0.9527794381350867, 'school': 1.0, 'playground': 1.0, 'swimming_pool': 1.0, 'hospital': 1.0}"
        ]
       ],
       "shape": {
        "columns": 2,
        "rows": 2
       }
      },
      "text/html": [
       "<div>\n",
       "<style scoped>\n",
       "    .dataframe tbody tr th:only-of-type {\n",
       "        vertical-align: middle;\n",
       "    }\n",
       "\n",
       "    .dataframe tbody tr th {\n",
       "        vertical-align: top;\n",
       "    }\n",
       "\n",
       "    .dataframe thead th {\n",
       "        text-align: right;\n",
       "    }\n",
       "</style>\n",
       "<table border=\"1\" class=\"dataframe\">\n",
       "  <thead>\n",
       "    <tr style=\"text-align: right;\">\n",
       "      <th></th>\n",
       "      <th>best_val</th>\n",
       "      <th>provisions</th>\n",
       "    </tr>\n",
       "  </thead>\n",
       "  <tbody>\n",
       "    <tr>\n",
       "      <th>0</th>\n",
       "      <td>1.709001</td>\n",
       "      <td>{'market': 1.0, 'hotel': 1.0, 'bar': 1.0, 'pit...</td>\n",
       "    </tr>\n",
       "    <tr>\n",
       "      <th>1</th>\n",
       "      <td>1.709001</td>\n",
       "      <td>{'bar': 1.0, 'hotel': 1.0, 'park': 1.0, 'super...</td>\n",
       "    </tr>\n",
       "  </tbody>\n",
       "</table>\n",
       "</div>"
      ],
      "text/plain": [
       "   best_val                                         provisions\n",
       "0  1.709001  {'market': 1.0, 'hotel': 1.0, 'bar': 1.0, 'pit...\n",
       "1  1.709001  {'bar': 1.0, 'hotel': 1.0, 'park': 1.0, 'super..."
      ]
     },
     "execution_count": 22,
     "metadata": {},
     "output_type": "execute_result"
    }
   ],
   "source": [
    "tpe_df"
   ]
  },
  {
   "cell_type": "code",
   "execution_count": 21,
   "metadata": {},
   "outputs": [
    {
     "ename": "KeyError",
     "evalue": "'called_obj'",
     "output_type": "error",
     "traceback": [
      "\u001b[0;31m---------------------------------------------------------------------------\u001b[0m",
      "\u001b[0;31mKeyError\u001b[0m                                  Traceback (most recent call last)",
      "File \u001b[0;32m~/masterplanning/.venv/lib/python3.10/site-packages/pandas/core/indexes/base.py:3805\u001b[0m, in \u001b[0;36mIndex.get_loc\u001b[0;34m(self, key)\u001b[0m\n\u001b[1;32m   3804\u001b[0m \u001b[38;5;28;01mtry\u001b[39;00m:\n\u001b[0;32m-> 3805\u001b[0m     \u001b[38;5;28;01mreturn\u001b[39;00m \u001b[38;5;28;43mself\u001b[39;49m\u001b[38;5;241;43m.\u001b[39;49m\u001b[43m_engine\u001b[49m\u001b[38;5;241;43m.\u001b[39;49m\u001b[43mget_loc\u001b[49m\u001b[43m(\u001b[49m\u001b[43mcasted_key\u001b[49m\u001b[43m)\u001b[49m\n\u001b[1;32m   3806\u001b[0m \u001b[38;5;28;01mexcept\u001b[39;00m \u001b[38;5;167;01mKeyError\u001b[39;00m \u001b[38;5;28;01mas\u001b[39;00m err:\n",
      "File \u001b[0;32mindex.pyx:167\u001b[0m, in \u001b[0;36mpandas._libs.index.IndexEngine.get_loc\u001b[0;34m()\u001b[0m\n",
      "File \u001b[0;32mindex.pyx:196\u001b[0m, in \u001b[0;36mpandas._libs.index.IndexEngine.get_loc\u001b[0;34m()\u001b[0m\n",
      "File \u001b[0;32mpandas/_libs/hashtable_class_helper.pxi:7081\u001b[0m, in \u001b[0;36mpandas._libs.hashtable.PyObjectHashTable.get_item\u001b[0;34m()\u001b[0m\n",
      "File \u001b[0;32mpandas/_libs/hashtable_class_helper.pxi:7089\u001b[0m, in \u001b[0;36mpandas._libs.hashtable.PyObjectHashTable.get_item\u001b[0;34m()\u001b[0m\n",
      "\u001b[0;31mKeyError\u001b[0m: 'called_obj'",
      "\nThe above exception was the direct cause of the following exception:\n",
      "\u001b[0;31mKeyError\u001b[0m                                  Traceback (most recent call last)",
      "Cell \u001b[0;32mIn[21], line 4\u001b[0m\n\u001b[1;32m      1\u001b[0m \u001b[38;5;28;01mimport\u001b[39;00m\u001b[38;5;250m \u001b[39m\u001b[38;5;21;01mpandas\u001b[39;00m\u001b[38;5;250m \u001b[39m\u001b[38;5;28;01mas\u001b[39;00m\u001b[38;5;250m \u001b[39m\u001b[38;5;21;01mpd\u001b[39;00m\n\u001b[1;32m      3\u001b[0m tpe_df \u001b[38;5;241m=\u001b[39m pd\u001b[38;5;241m.\u001b[39mread_csv(\u001b[38;5;124m\"\u001b[39m\u001b[38;5;124mprovisions.csv\u001b[39m\u001b[38;5;124m\"\u001b[39m)\n\u001b[0;32m----> 4\u001b[0m \u001b[43mplot_df\u001b[49m\u001b[43m(\u001b[49m\u001b[43mtpe_df\u001b[49m\u001b[43m)\u001b[49m\n",
      "Cell \u001b[0;32mIn[10], line 5\u001b[0m, in \u001b[0;36mplot_df\u001b[0;34m(df)\u001b[0m\n\u001b[1;32m      4\u001b[0m \u001b[38;5;28;01mdef\u001b[39;00m\u001b[38;5;250m \u001b[39m\u001b[38;5;21mplot_df\u001b[39m(df):\n\u001b[0;32m----> 5\u001b[0m     df_called_obj \u001b[38;5;241m=\u001b[39m df\u001b[38;5;241m.\u001b[39mloc[\u001b[43mdf\u001b[49m\u001b[43m[\u001b[49m\u001b[38;5;124;43m\"\u001b[39;49m\u001b[38;5;124;43mcalled_obj\u001b[39;49m\u001b[38;5;124;43m\"\u001b[39;49m\u001b[43m]\u001b[49m \u001b[38;5;241m==\u001b[39m \u001b[38;5;28;01mTrue\u001b[39;00m]\n\u001b[1;32m      7\u001b[0m     plt\u001b[38;5;241m.\u001b[39mscatter(df_called_obj[\u001b[38;5;124m\"\u001b[39m\u001b[38;5;124mfunc_evals\u001b[39m\u001b[38;5;124m\"\u001b[39m], df_called_obj[\u001b[38;5;124m\"\u001b[39m\u001b[38;5;124mbest_val\u001b[39m\u001b[38;5;124m\"\u001b[39m], c\u001b[38;5;241m=\u001b[39m\u001b[38;5;124m\"\u001b[39m\u001b[38;5;124mred\u001b[39m\u001b[38;5;124m\"\u001b[39m, s\u001b[38;5;241m=\u001b[39m\u001b[38;5;241m5\u001b[39m)\n\u001b[1;32m      9\u001b[0m     df_called_obj \u001b[38;5;241m=\u001b[39m pd\u001b[38;5;241m.\u001b[39mconcat(\n\u001b[1;32m     10\u001b[0m         [pd\u001b[38;5;241m.\u001b[39mDataFrame([[\u001b[38;5;241m-\u001b[39m\u001b[38;5;241m1\u001b[39m, \u001b[38;5;28;01mNone\u001b[39;00m, \u001b[38;5;241m0\u001b[39m, \u001b[38;5;241m0\u001b[39m, \u001b[38;5;28;01mNone\u001b[39;00m, \u001b[38;5;241m0\u001b[39m, \u001b[38;5;28;01mFalse\u001b[39;00m, \u001b[38;5;241m0\u001b[39m]], columns\u001b[38;5;241m=\u001b[39mdf_called_obj\u001b[38;5;241m.\u001b[39mcolumns), df_called_obj]\n\u001b[1;32m     11\u001b[0m     )\n",
      "File \u001b[0;32m~/masterplanning/.venv/lib/python3.10/site-packages/pandas/core/frame.py:4102\u001b[0m, in \u001b[0;36mDataFrame.__getitem__\u001b[0;34m(self, key)\u001b[0m\n\u001b[1;32m   4100\u001b[0m \u001b[38;5;28;01mif\u001b[39;00m \u001b[38;5;28mself\u001b[39m\u001b[38;5;241m.\u001b[39mcolumns\u001b[38;5;241m.\u001b[39mnlevels \u001b[38;5;241m>\u001b[39m \u001b[38;5;241m1\u001b[39m:\n\u001b[1;32m   4101\u001b[0m     \u001b[38;5;28;01mreturn\u001b[39;00m \u001b[38;5;28mself\u001b[39m\u001b[38;5;241m.\u001b[39m_getitem_multilevel(key)\n\u001b[0;32m-> 4102\u001b[0m indexer \u001b[38;5;241m=\u001b[39m \u001b[38;5;28;43mself\u001b[39;49m\u001b[38;5;241;43m.\u001b[39;49m\u001b[43mcolumns\u001b[49m\u001b[38;5;241;43m.\u001b[39;49m\u001b[43mget_loc\u001b[49m\u001b[43m(\u001b[49m\u001b[43mkey\u001b[49m\u001b[43m)\u001b[49m\n\u001b[1;32m   4103\u001b[0m \u001b[38;5;28;01mif\u001b[39;00m is_integer(indexer):\n\u001b[1;32m   4104\u001b[0m     indexer \u001b[38;5;241m=\u001b[39m [indexer]\n",
      "File \u001b[0;32m~/masterplanning/.venv/lib/python3.10/site-packages/pandas/core/indexes/base.py:3812\u001b[0m, in \u001b[0;36mIndex.get_loc\u001b[0;34m(self, key)\u001b[0m\n\u001b[1;32m   3807\u001b[0m     \u001b[38;5;28;01mif\u001b[39;00m \u001b[38;5;28misinstance\u001b[39m(casted_key, \u001b[38;5;28mslice\u001b[39m) \u001b[38;5;129;01mor\u001b[39;00m (\n\u001b[1;32m   3808\u001b[0m         \u001b[38;5;28misinstance\u001b[39m(casted_key, abc\u001b[38;5;241m.\u001b[39mIterable)\n\u001b[1;32m   3809\u001b[0m         \u001b[38;5;129;01mand\u001b[39;00m \u001b[38;5;28many\u001b[39m(\u001b[38;5;28misinstance\u001b[39m(x, \u001b[38;5;28mslice\u001b[39m) \u001b[38;5;28;01mfor\u001b[39;00m x \u001b[38;5;129;01min\u001b[39;00m casted_key)\n\u001b[1;32m   3810\u001b[0m     ):\n\u001b[1;32m   3811\u001b[0m         \u001b[38;5;28;01mraise\u001b[39;00m InvalidIndexError(key)\n\u001b[0;32m-> 3812\u001b[0m     \u001b[38;5;28;01mraise\u001b[39;00m \u001b[38;5;167;01mKeyError\u001b[39;00m(key) \u001b[38;5;28;01mfrom\u001b[39;00m\u001b[38;5;250m \u001b[39m\u001b[38;5;21;01merr\u001b[39;00m\n\u001b[1;32m   3813\u001b[0m \u001b[38;5;28;01mexcept\u001b[39;00m \u001b[38;5;167;01mTypeError\u001b[39;00m:\n\u001b[1;32m   3814\u001b[0m     \u001b[38;5;66;03m# If we have a listlike key, _check_indexing_error will raise\u001b[39;00m\n\u001b[1;32m   3815\u001b[0m     \u001b[38;5;66;03m#  InvalidIndexError. Otherwise we fall through and re-raise\u001b[39;00m\n\u001b[1;32m   3816\u001b[0m     \u001b[38;5;66;03m#  the TypeError.\u001b[39;00m\n\u001b[1;32m   3817\u001b[0m     \u001b[38;5;28mself\u001b[39m\u001b[38;5;241m.\u001b[39m_check_indexing_error(key)\n",
      "\u001b[0;31mKeyError\u001b[0m: 'called_obj'"
     ]
    }
   ],
   "source": [
    "import pandas as pd\n",
    "\n",
    "tpe_df = pd.read_csv(\"provisions.csv\")\n",
    "plot_df(tpe_df)"
   ]
  },
  {
   "cell_type": "code",
   "execution_count": 24,
   "metadata": {},
   "outputs": [
    {
     "data": {
      "application/vnd.microsoft.datawrangler.viewer.v0+json": {
       "columns": [
        {
         "name": "index",
         "rawType": "int64",
         "type": "integer"
        },
        {
         "name": "Block id",
         "rawType": "int64",
         "type": "integer"
        },
        {
         "name": "Service type",
         "rawType": "object",
         "type": "string"
        },
        {
         "name": "Demand",
         "rawType": "int64",
         "type": "integer"
        }
       ],
       "ref": "5d2c9c6b-e2a4-4c51-8989-5c3517818ffd",
       "rows": [
        [
         "0",
         "39",
         "swimming_pool",
         "0"
        ],
        [
         "1",
         "39",
         "park",
         "0"
        ],
        [
         "2",
         "39",
         "university",
         "0"
        ],
        [
         "3",
         "39",
         "police",
         "0"
        ],
        [
         "4",
         "39",
         "multifunctional_center",
         "0"
        ],
        [
         "5",
         "39",
         "museum",
         "0"
        ],
        [
         "6",
         "39",
         "hotel",
         "0"
        ],
        [
         "7",
         "39",
         "pitch",
         "0"
        ],
        [
         "8",
         "61",
         "swimming_pool",
         "0"
        ],
        [
         "9",
         "61",
         "park",
         "0"
        ],
        [
         "10",
         "61",
         "university",
         "0"
        ],
        [
         "11",
         "61",
         "police",
         "0"
        ],
        [
         "12",
         "61",
         "multifunctional_center",
         "0"
        ],
        [
         "13",
         "61",
         "museum",
         "0"
        ],
        [
         "14",
         "61",
         "hotel",
         "0"
        ],
        [
         "15",
         "61",
         "pitch",
         "0"
        ],
        [
         "16",
         "194",
         "mall",
         "262145"
        ],
        [
         "17",
         "194",
         "police",
         "163840"
        ],
        [
         "18",
         "194",
         "museum",
         "98304"
        ],
        [
         "19",
         "194",
         "cafe",
         "819203"
        ]
       ],
       "shape": {
        "columns": 3,
        "rows": 20
       }
      },
      "text/html": [
       "<div>\n",
       "<style scoped>\n",
       "    .dataframe tbody tr th:only-of-type {\n",
       "        vertical-align: middle;\n",
       "    }\n",
       "\n",
       "    .dataframe tbody tr th {\n",
       "        vertical-align: top;\n",
       "    }\n",
       "\n",
       "    .dataframe thead th {\n",
       "        text-align: right;\n",
       "    }\n",
       "</style>\n",
       "<table border=\"1\" class=\"dataframe\">\n",
       "  <thead>\n",
       "    <tr style=\"text-align: right;\">\n",
       "      <th></th>\n",
       "      <th>Block id</th>\n",
       "      <th>Service type</th>\n",
       "      <th>Demand</th>\n",
       "    </tr>\n",
       "  </thead>\n",
       "  <tbody>\n",
       "    <tr>\n",
       "      <th>0</th>\n",
       "      <td>39</td>\n",
       "      <td>swimming_pool</td>\n",
       "      <td>0</td>\n",
       "    </tr>\n",
       "    <tr>\n",
       "      <th>1</th>\n",
       "      <td>39</td>\n",
       "      <td>park</td>\n",
       "      <td>0</td>\n",
       "    </tr>\n",
       "    <tr>\n",
       "      <th>2</th>\n",
       "      <td>39</td>\n",
       "      <td>university</td>\n",
       "      <td>0</td>\n",
       "    </tr>\n",
       "    <tr>\n",
       "      <th>3</th>\n",
       "      <td>39</td>\n",
       "      <td>police</td>\n",
       "      <td>0</td>\n",
       "    </tr>\n",
       "    <tr>\n",
       "      <th>4</th>\n",
       "      <td>39</td>\n",
       "      <td>multifunctional_center</td>\n",
       "      <td>0</td>\n",
       "    </tr>\n",
       "    <tr>\n",
       "      <th>5</th>\n",
       "      <td>39</td>\n",
       "      <td>museum</td>\n",
       "      <td>0</td>\n",
       "    </tr>\n",
       "    <tr>\n",
       "      <th>6</th>\n",
       "      <td>39</td>\n",
       "      <td>hotel</td>\n",
       "      <td>0</td>\n",
       "    </tr>\n",
       "    <tr>\n",
       "      <th>7</th>\n",
       "      <td>39</td>\n",
       "      <td>pitch</td>\n",
       "      <td>0</td>\n",
       "    </tr>\n",
       "    <tr>\n",
       "      <th>8</th>\n",
       "      <td>61</td>\n",
       "      <td>swimming_pool</td>\n",
       "      <td>0</td>\n",
       "    </tr>\n",
       "    <tr>\n",
       "      <th>9</th>\n",
       "      <td>61</td>\n",
       "      <td>park</td>\n",
       "      <td>0</td>\n",
       "    </tr>\n",
       "    <tr>\n",
       "      <th>10</th>\n",
       "      <td>61</td>\n",
       "      <td>university</td>\n",
       "      <td>0</td>\n",
       "    </tr>\n",
       "    <tr>\n",
       "      <th>11</th>\n",
       "      <td>61</td>\n",
       "      <td>police</td>\n",
       "      <td>0</td>\n",
       "    </tr>\n",
       "    <tr>\n",
       "      <th>12</th>\n",
       "      <td>61</td>\n",
       "      <td>multifunctional_center</td>\n",
       "      <td>0</td>\n",
       "    </tr>\n",
       "    <tr>\n",
       "      <th>13</th>\n",
       "      <td>61</td>\n",
       "      <td>museum</td>\n",
       "      <td>0</td>\n",
       "    </tr>\n",
       "    <tr>\n",
       "      <th>14</th>\n",
       "      <td>61</td>\n",
       "      <td>hotel</td>\n",
       "      <td>0</td>\n",
       "    </tr>\n",
       "    <tr>\n",
       "      <th>15</th>\n",
       "      <td>61</td>\n",
       "      <td>pitch</td>\n",
       "      <td>0</td>\n",
       "    </tr>\n",
       "    <tr>\n",
       "      <th>16</th>\n",
       "      <td>194</td>\n",
       "      <td>mall</td>\n",
       "      <td>262145</td>\n",
       "    </tr>\n",
       "    <tr>\n",
       "      <th>17</th>\n",
       "      <td>194</td>\n",
       "      <td>police</td>\n",
       "      <td>163840</td>\n",
       "    </tr>\n",
       "    <tr>\n",
       "      <th>18</th>\n",
       "      <td>194</td>\n",
       "      <td>museum</td>\n",
       "      <td>98304</td>\n",
       "    </tr>\n",
       "    <tr>\n",
       "      <th>19</th>\n",
       "      <td>194</td>\n",
       "      <td>cafe</td>\n",
       "      <td>819203</td>\n",
       "    </tr>\n",
       "  </tbody>\n",
       "</table>\n",
       "</div>"
      ],
      "text/plain": [
       "    Block id            Service type  Demand\n",
       "0         39           swimming_pool       0\n",
       "1         39                    park       0\n",
       "2         39              university       0\n",
       "3         39                  police       0\n",
       "4         39  multifunctional_center       0\n",
       "5         39                  museum       0\n",
       "6         39                   hotel       0\n",
       "7         39                   pitch       0\n",
       "8         61           swimming_pool       0\n",
       "9         61                    park       0\n",
       "10        61              university       0\n",
       "11        61                  police       0\n",
       "12        61  multifunctional_center       0\n",
       "13        61                  museum       0\n",
       "14        61                   hotel       0\n",
       "15        61                   pitch       0\n",
       "16       194                    mall  262145\n",
       "17       194                  police  163840\n",
       "18       194                  museum   98304\n",
       "19       194                    cafe  819203"
      ]
     },
     "execution_count": 24,
     "metadata": {},
     "output_type": "execute_result"
    }
   ],
   "source": [
    "facade.save_delta_demand(best_x)\n",
    "population_df = pd.read_csv(\"demand_services.csv\")\n",
    "population_df.head(20)"
   ]
  }
 ],
 "metadata": {
  "kernelspec": {
   "display_name": ".venv",
   "language": "python",
   "name": "python3"
  },
  "language_info": {
   "codemirror_mode": {
    "name": "ipython",
    "version": 3
   },
   "file_extension": ".py",
   "mimetype": "text/x-python",
   "name": "python",
   "nbconvert_exporter": "python",
   "pygments_lexer": "ipython3",
   "version": "3.10.12"
  }
 },
 "nbformat": 4,
 "nbformat_minor": 2
}
