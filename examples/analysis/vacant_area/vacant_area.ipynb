{
 "cells": [
  {
   "cell_type": "markdown",
   "metadata": {},
   "source": [
    "# Vacant areas\n",
    "\n",
    "Get blocks vacant areas using data from OpenStreetMap service."
   ]
  },
  {
   "cell_type": "code",
   "execution_count": 1,
   "metadata": {},
   "outputs": [],
   "source": [
    "import pandas as pd\n",
    "\n",
    "blocks_gdf = pd.read_pickle('./../../data/saint_petersburg/blocks.pickle')"
   ]
  },
  {
   "cell_type": "code",
   "execution_count": 16,
   "metadata": {},
   "outputs": [],
   "source": [
    "block_id = 1\n",
    "block_gdf = blocks_gdf.loc[[block_id]]"
   ]
  },
  {
   "cell_type": "code",
   "execution_count": 17,
   "metadata": {},
   "outputs": [
    {
     "name": "stderr",
     "output_type": "stream",
     "text": [
      "\u001b[32m2025-09-19 19:16:13.094\u001b[0m | \u001b[1mINFO    \u001b[0m | \u001b[36mblocksnet.analysis.vacant_area.core\u001b[0m:\u001b[36m_fetch_occupied_areas\u001b[0m:\u001b[36m36\u001b[0m - \u001b[1mFetching OSM geometries\u001b[0m\n"
     ]
    },
    {
     "name": "stderr",
     "output_type": "stream",
     "text": [
      "100%|██████████| 10/10 [01:08<00:00,  6.81s/it]\n",
      "\u001b[32m2025-09-19 19:17:21.956\u001b[0m | \u001b[1mINFO    \u001b[0m | \u001b[36mblocksnet.analysis.vacant_area.core\u001b[0m:\u001b[36m_generate_features\u001b[0m:\u001b[36m52\u001b[0m - \u001b[1mGenerating geometries features\u001b[0m\n",
      "\u001b[32m2025-09-19 19:17:21.959\u001b[0m | \u001b[1mINFO    \u001b[0m | \u001b[36mblocksnet.analysis.vacant_area.core\u001b[0m:\u001b[36m_filter_vacant_areas\u001b[0m:\u001b[36m65\u001b[0m - \u001b[1mFiltering geometries\u001b[0m\n"
     ]
    }
   ],
   "source": [
    "from blocksnet.analysis.vacant_area import get_vacant_areas\n",
    "\n",
    "vacant_areas_gdf = get_vacant_areas(block_gdf)"
   ]
  },
  {
   "cell_type": "code",
   "execution_count": 18,
   "metadata": {},
   "outputs": [
    {
     "data": {
      "text/html": [
       "<div>\n",
       "<style scoped>\n",
       "    .dataframe tbody tr th:only-of-type {\n",
       "        vertical-align: middle;\n",
       "    }\n",
       "\n",
       "    .dataframe tbody tr th {\n",
       "        vertical-align: top;\n",
       "    }\n",
       "\n",
       "    .dataframe thead th {\n",
       "        text-align: right;\n",
       "    }\n",
       "</style>\n",
       "<table border=\"1\" class=\"dataframe\">\n",
       "  <thead>\n",
       "    <tr style=\"text-align: right;\">\n",
       "      <th></th>\n",
       "      <th>geometry</th>\n",
       "      <th>area</th>\n",
       "      <th>mrr_area</th>\n",
       "      <th>length</th>\n",
       "      <th>area_to_length</th>\n",
       "      <th>area_to_mrr_area</th>\n",
       "      <th>block_id</th>\n",
       "    </tr>\n",
       "  </thead>\n",
       "  <tbody>\n",
       "    <tr>\n",
       "      <th>0</th>\n",
       "      <td>POLYGON ((351726.195 6633821.381, 351724.599 6...</td>\n",
       "      <td>2218.640904</td>\n",
       "      <td>2502.115570</td>\n",
       "      <td>254.891573</td>\n",
       "      <td>8.704254</td>\n",
       "      <td>0.886706</td>\n",
       "      <td>1</td>\n",
       "    </tr>\n",
       "    <tr>\n",
       "      <th>1</th>\n",
       "      <td>POLYGON ((351961.157 6633866.017, 351954.355 6...</td>\n",
       "      <td>1446.784544</td>\n",
       "      <td>1864.244116</td>\n",
       "      <td>182.976961</td>\n",
       "      <td>7.906922</td>\n",
       "      <td>0.776070</td>\n",
       "      <td>1</td>\n",
       "    </tr>\n",
       "    <tr>\n",
       "      <th>2</th>\n",
       "      <td>POLYGON ((351794.179 6633895.371, 351800.337 6...</td>\n",
       "      <td>1026.502040</td>\n",
       "      <td>1318.355779</td>\n",
       "      <td>125.806252</td>\n",
       "      <td>8.159388</td>\n",
       "      <td>0.778623</td>\n",
       "      <td>1</td>\n",
       "    </tr>\n",
       "  </tbody>\n",
       "</table>\n",
       "</div>"
      ],
      "text/plain": [
       "                                            geometry         area  \\\n",
       "0  POLYGON ((351726.195 6633821.381, 351724.599 6...  2218.640904   \n",
       "1  POLYGON ((351961.157 6633866.017, 351954.355 6...  1446.784544   \n",
       "2  POLYGON ((351794.179 6633895.371, 351800.337 6...  1026.502040   \n",
       "\n",
       "      mrr_area      length  area_to_length  area_to_mrr_area  block_id  \n",
       "0  2502.115570  254.891573        8.704254          0.886706         1  \n",
       "1  1864.244116  182.976961        7.906922          0.776070         1  \n",
       "2  1318.355779  125.806252        8.159388          0.778623         1  "
      ]
     },
     "execution_count": 18,
     "metadata": {},
     "output_type": "execute_result"
    }
   ],
   "source": [
    "vacant_areas_gdf.head()"
   ]
  },
  {
   "cell_type": "code",
   "execution_count": 22,
   "metadata": {},
   "outputs": [
    {
     "data": {
      "text/plain": [
       "Text(0.5, 1.0, 'Block with vacant areas')"
      ]
     },
     "execution_count": 22,
     "metadata": {},
     "output_type": "execute_result"
    },
    {
     "data": {
      "image/png": "[encoded data removed]",
      "text/plain": [
       "<Figure size 1000x800 with 1 Axes>"
      ]
     },
     "metadata": {},
     "output_type": "display_data"
    }
   ],
   "source": [
    "ax = block_gdf.plot(color='#ddd', figsize=(10,8))\n",
    "vacant_areas_gdf.plot(ax=ax, color='blue')\n",
    "ax.set_axis_off()\n",
    "ax.set_title('Block with vacant areas')"
   ]
  }
 ],
 "metadata": {
  "kernelspec": {
   "display_name": ".venv",
   "language": "python",
   "name": "python3"
  },
  "language_info": {
   "codemirror_mode": {
    "name": "ipython",
    "version": 3
   },
   "file_extension": ".py",
   "mimetype": "text/x-python",
   "name": "python",
   "nbconvert_exporter": "python",
   "pygments_lexer": "ipython3",
   "version": "3.10.12"
  }
 },
 "nbformat": 4,
 "nbformat_minor": 2
}
