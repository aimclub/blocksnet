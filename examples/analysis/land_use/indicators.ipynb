{
 "cells": [
  {
   "cell_type": "markdown",
   "id": "965479da",
   "metadata": {},
   "source": [
    "# Land use indicators"
   ]
  },
  {
   "cell_type": "code",
   "execution_count": 2,
   "id": "39b46ed7",
   "metadata": {},
   "outputs": [],
   "source": [
    "import pandas as pd\n",
    "\n",
    "blocks_gdf = pd.read_pickle('./../../data/saint_petersburg/blocks.pickle')"
   ]
  },
  {
   "cell_type": "code",
   "execution_count": 4,
   "id": "4f677b2a",
   "metadata": {},
   "outputs": [
    {
     "data": {
      "text/plain": [
       "{<LandUse.RESIDENTIAL: 'residential'>: 0.34010052615024466,\n",
       " <LandUse.BUSINESS: 'business'>: 0.023913501244647768,\n",
       " <LandUse.RECREATION: 'recreation'>: 0.33809719535789357,\n",
       " <LandUse.INDUSTRIAL: 'industrial'>: 0.1097708471465708,\n",
       " <LandUse.TRANSPORT: 'transport'>: 0.10303989875606999,\n",
       " <LandUse.SPECIAL: 'special'>: 0.027192309702219076,\n",
       " <LandUse.AGRICULTURE: 'agriculture'>: 0.05770759144106809}"
      ]
     },
     "execution_count": 4,
     "metadata": {},
     "output_type": "execute_result"
    }
   ],
   "source": [
    "from blocksnet.analysis.land_use import calculate_land_use_shares\n",
    "\n",
    "shares = calculate_land_use_shares(blocks_gdf)\n",
    "shares"
   ]
  },
  {
   "cell_type": "code",
   "execution_count": 6,
   "id": "22393010",
   "metadata": {},
   "outputs": [
    {
     "data": {
      "text/plain": [
       "{'site_area': 1392035129.8417625,\n",
       " 'build_floor_area': 1194492543.3084064,\n",
       " 'footprint_area': 482374779.73374605,\n",
       " 'living_area': 745788058.5010996,\n",
       " 'non_living_area': 448704484.80730665,\n",
       " 'population': 24859601.0}"
      ]
     },
     "execution_count": 6,
     "metadata": {},
     "output_type": "execute_result"
    }
   ],
   "source": [
    "from blocksnet.analysis.land_use import calculate_land_use_indicators\n",
    "\n",
    "indicators = calculate_land_use_indicators(shares, blocks_gdf.area.sum())\n",
    "indicators"
   ]
  }
 ],
 "metadata": {
  "kernelspec": {
   "display_name": ".venv",
   "language": "python",
   "name": "python3"
  },
  "language_info": {
   "codemirror_mode": {
    "name": "ipython",
    "version": 3
   },
   "file_extension": ".py",
   "mimetype": "text/x-python",
   "name": "python",
   "nbconvert_exporter": "python",
   "pygments_lexer": "ipython3",
   "version": "3.10.12"
  }
 },
 "nbformat": 4,
 "nbformat_minor": 5
}
