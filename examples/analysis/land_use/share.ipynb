{
 "cells": [
  {
   "cell_type": "markdown",
   "id": "2e8e4f32",
   "metadata": {},
   "source": [
    "# Land use share"
   ]
  },
  {
   "cell_type": "code",
   "execution_count": 1,
   "id": "9ee6b6c1",
   "metadata": {},
   "outputs": [],
   "source": [
    "import pandas as pd\n",
    "\n",
    "blocks_gdf = pd.read_pickle('./../../data/saint_petersburg/blocks.pickle')"
   ]
  },
  {
   "cell_type": "code",
   "execution_count": 3,
   "id": "0e1aa7fc",
   "metadata": {},
   "outputs": [
    {
     "data": {
      "text/plain": [
       "{<LandUse.RESIDENTIAL: 'residential'>: 0.34010052615024466,\n",
       " <LandUse.BUSINESS: 'business'>: 0.023913501244647768,\n",
       " <LandUse.RECREATION: 'recreation'>: 0.33809719535789357,\n",
       " <LandUse.INDUSTRIAL: 'industrial'>: 0.1097708471465708,\n",
       " <LandUse.TRANSPORT: 'transport'>: 0.10303989875606999,\n",
       " <LandUse.SPECIAL: 'special'>: 0.027192309702219076,\n",
       " <LandUse.AGRICULTURE: 'agriculture'>: 0.05770759144106809}"
      ]
     },
     "execution_count": 3,
     "metadata": {},
     "output_type": "execute_result"
    }
   ],
   "source": [
    "from blocksnet.analysis.land_use import calculate_land_use_shares\n",
    "\n",
    "shares = calculate_land_use_shares(blocks_gdf)\n",
    "shares"
   ]
  }
 ],
 "metadata": {
  "kernelspec": {
   "display_name": ".venv",
   "language": "python",
   "name": "python3"
  },
  "language_info": {
   "codemirror_mode": {
    "name": "ipython",
    "version": 3
   },
   "file_extension": ".py",
   "mimetype": "text/x-python",
   "name": "python",
   "nbconvert_exporter": "python",
   "pygments_lexer": "ipython3",
   "version": "3.10.12"
  }
 },
 "nbformat": 4,
 "nbformat_minor": 5
}
