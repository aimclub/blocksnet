{
 "cells": [
  {
   "cell_type": "code",
   "execution_count": null,
   "id": "4ca319ec",
   "metadata": {},
   "outputs": [],
   "source": [
    "import pickle\n",
    "import pandas as pd\n",
    "from sklearn.model_selection import train_test_split\n",
    "from blocksnet.analysis.land_use.prediction import SpatialClassifier\n",
    "from sklearn.ensemble import RandomForestClassifier, HistGradientBoostingClassifier\n",
    "from xgboost import XGBClassifier\n",
    "from lightgbm import LGBMClassifier\n",
    "\n",
    "import warnings\n",
    "warnings.filterwarnings(\"ignore\")\n",
    "pd.set_option('display.max_columns', None)"
   ]
  },
  {
   "cell_type": "code",
   "execution_count": null,
   "id": "d9e0df4a",
   "metadata": {},
   "outputs": [],
   "source": [
    "# Загрузка данных\n",
    "with open('data/cleaned_blocks.pkl', 'rb') as f:\n",
    "    gdf = pickle.load(f)\n",
    "gdf.groupby('land_use').size().sort_values(ascending=False)\n",
    "\n",
    "gdf = gdf[gdf.city == 'Saint Petersburg'] # Опционально для тестового запуска\n",
    "train_gdf, test_gdf = train_test_split(gdf, test_size=0.15, random_state=42, stratify=gdf['land_use'])\n",
    "\n",
    "print(train_gdf.land_use.unique(), train_gdf.shape)\n",
    "print(test_gdf.land_use.unique(), test_gdf.shape)"
   ]
  },
  {
   "cell_type": "code",
   "execution_count": null,
   "id": "a07fc85d",
   "metadata": {},
   "outputs": [],
   "source": [
    "# 1. Инициализация и обучение\n",
    "BASE_PARAMS = {\"random_state\": 42, \"n_jobs\": -1}\n",
    "MODEL_PARAMS = {\n",
    "    \"rf\": {\"n_estimators\": 200, \"max_depth\": 7, \"class_weight\": \"balanced\", **BASE_PARAMS},\n",
    "    \"xgb\": {\"n_estimators\": 200, \"max_depth\": 7, \"learning_rate\": 0.05,\n",
    "            \"scale_pos_weight\": 1, **BASE_PARAMS},\n",
    "    \"lgb\": {\"n_estimators\": 200, \"max_depth\": 7, \"learning_rate\": 0.05,\n",
    "            \"class_weight\": \"balanced\", **BASE_PARAMS},\n",
    "    \"cb\": {\"iterations\": 200, \"depth\": 7, \"learning_rate\": 0.05,\n",
    "           \"thread_count\": -1, \"auto_class_weights\": \"Balanced\", \"random_seed\": 42},\n",
    "    \"hgb\": {\"max_iter\": 200, \"max_depth\": 7, \"learning_rate\": 0.05, \"random_state\": 42},\n",
    "}\n",
    "estimators = [\n",
    "    (\"rf\",  RandomForestClassifier(**MODEL_PARAMS[\"rf\"])),\n",
    "    (\"xgb\", XGBClassifier(**MODEL_PARAMS[\"xgb\"])),\n",
    "    (\"lgb\", LGBMClassifier(**MODEL_PARAMS[\"lgb\"])),\n",
    "    (\"hgb\", HistGradientBoostingClassifier(**MODEL_PARAMS[\"hgb\"])),\n",
    "]\n",
    "voting_params = {\"voting\": \"soft\", \"n_jobs\": -1}\n",
    "classifier = SpatialClassifier(estimators, voting_params, 1000, 5)\n",
    "classifier.train(train_gdf, target_col='land_use_code')"
   ]
  },
  {
   "cell_type": "code",
   "execution_count": null,
   "id": "60c58ea9",
   "metadata": {},
   "outputs": [],
   "source": [
    "# 2. Предсказание на тестовых данных\n",
    "test_predictions = classifier.predict(test_gdf)\n",
    "test_probabilities = classifier.predict_proba(test_gdf)"
   ]
  },
  {
   "cell_type": "code",
   "execution_count": null,
   "id": "e1a2b70a",
   "metadata": {},
   "outputs": [],
   "source": [
    "# 3. Сохранение обучающих данных\n",
    "classifier.save_train_data('data/results/train_data.geojson')\n",
    "\n",
    "# 4. Сохранение тестовых данных с предсказаниями\n",
    "classifier.save_predictions_to_geojson(\n",
    "    test_gdf, \n",
    "    test_predictions, \n",
    "    test_probabilities,\n",
    "    'data/results/test_predictions.geojson'\n",
    ")\n",
    "\n",
    "# 5. Сохранение ошибок\n",
    "classifier.save_mistakes(test_gdf, test_predictions, 'data/results/mistakes.geojson')"
   ]
  }
 ],
 "metadata": {
  "kernelspec": {
   "display_name": ".venv",
   "language": "python",
   "name": "python3"
  },
  "language_info": {
   "codemirror_mode": {
    "name": "ipython",
    "version": 3
   },
   "file_extension": ".py",
   "mimetype": "text/x-python",
   "name": "python",
   "nbconvert_exporter": "python",
   "pygments_lexer": "ipython3",
   "version": "3.10.11"
  }
 },
 "nbformat": 4,
 "nbformat_minor": 5
}
