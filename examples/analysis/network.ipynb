{
 "cells": [
  {
   "cell_type": "markdown",
   "metadata": {},
   "source": [
    "# Network"
   ]
  },
  {
   "cell_type": "code",
   "execution_count": 1,
   "metadata": {},
   "outputs": [
    {
     "data": {
      "text/html": [
       "<div>\n",
       "<style scoped>\n",
       "    .dataframe tbody tr th:only-of-type {\n",
       "        vertical-align: middle;\n",
       "    }\n",
       "\n",
       "    .dataframe tbody tr th {\n",
       "        vertical-align: top;\n",
       "    }\n",
       "\n",
       "    .dataframe thead th {\n",
       "        text-align: right;\n",
       "    }\n",
       "</style>\n",
       "<table border=\"1\" class=\"dataframe\">\n",
       "  <thead>\n",
       "    <tr style=\"text-align: right;\">\n",
       "      <th></th>\n",
       "      <th>geometry</th>\n",
       "      <th>land_use</th>\n",
       "      <th>is_living</th>\n",
       "      <th>build_floor_area</th>\n",
       "      <th>living_demand</th>\n",
       "      <th>living_area</th>\n",
       "      <th>share_living</th>\n",
       "      <th>business_area</th>\n",
       "      <th>share_business</th>\n",
       "      <th>site_area</th>\n",
       "      <th>...</th>\n",
       "      <th>capacity_bus_station</th>\n",
       "      <th>capacity_bus_stop</th>\n",
       "      <th>capacity_pier</th>\n",
       "      <th>capacity_animal_shelter</th>\n",
       "      <th>capacity_military_kom</th>\n",
       "      <th>capacity_prison</th>\n",
       "      <th>capacity_landfill</th>\n",
       "      <th>capacity_plant_nursery</th>\n",
       "      <th>capacity_greenhouse_complex</th>\n",
       "      <th>capacity_warehouse</th>\n",
       "    </tr>\n",
       "    <tr>\n",
       "      <th>id</th>\n",
       "      <th></th>\n",
       "      <th></th>\n",
       "      <th></th>\n",
       "      <th></th>\n",
       "      <th></th>\n",
       "      <th></th>\n",
       "      <th></th>\n",
       "      <th></th>\n",
       "      <th></th>\n",
       "      <th></th>\n",
       "      <th></th>\n",
       "      <th></th>\n",
       "      <th></th>\n",
       "      <th></th>\n",
       "      <th></th>\n",
       "      <th></th>\n",
       "      <th></th>\n",
       "      <th></th>\n",
       "      <th></th>\n",
       "      <th></th>\n",
       "      <th></th>\n",
       "    </tr>\n",
       "  </thead>\n",
       "  <tbody>\n",
       "    <tr>\n",
       "      <th>0</th>\n",
       "      <td>POLYGON ((354918.622 6625258.829, 354901.464 6...</td>\n",
       "      <td>None</td>\n",
       "      <td>True</td>\n",
       "      <td>43840.686518</td>\n",
       "      <td>50.641057</td>\n",
       "      <td>30688.480678</td>\n",
       "      <td>2.199357</td>\n",
       "      <td>13152.205840</td>\n",
       "      <td>0.942581</td>\n",
       "      <td>804466.712114</td>\n",
       "      <td>...</td>\n",
       "      <td>0</td>\n",
       "      <td>0</td>\n",
       "      <td>0</td>\n",
       "      <td>0</td>\n",
       "      <td>0</td>\n",
       "      <td>0</td>\n",
       "      <td>0</td>\n",
       "      <td>0</td>\n",
       "      <td>0</td>\n",
       "      <td>0</td>\n",
       "    </tr>\n",
       "    <tr>\n",
       "      <th>1</th>\n",
       "      <td>POLYGON ((355412.142 6623378.149, 355411.7 662...</td>\n",
       "      <td>transport</td>\n",
       "      <td>True</td>\n",
       "      <td>10294.395525</td>\n",
       "      <td>53.114392</td>\n",
       "      <td>2177.690063</td>\n",
       "      <td>0.431105</td>\n",
       "      <td>8116.705462</td>\n",
       "      <td>1.606820</td>\n",
       "      <td>23173.129862</td>\n",
       "      <td>...</td>\n",
       "      <td>0</td>\n",
       "      <td>0</td>\n",
       "      <td>0</td>\n",
       "      <td>0</td>\n",
       "      <td>0</td>\n",
       "      <td>0</td>\n",
       "      <td>0</td>\n",
       "      <td>0</td>\n",
       "      <td>0</td>\n",
       "      <td>0</td>\n",
       "    </tr>\n",
       "  </tbody>\n",
       "</table>\n",
       "<p>2 rows × 83 columns</p>\n",
       "</div>"
      ],
      "text/plain": [
       "                                             geometry   land_use  is_living  \\\n",
       "id                                                                            \n",
       "0   POLYGON ((354918.622 6625258.829, 354901.464 6...       None       True   \n",
       "1   POLYGON ((355412.142 6623378.149, 355411.7 662...  transport       True   \n",
       "\n",
       "    build_floor_area  living_demand   living_area  share_living  \\\n",
       "id                                                                \n",
       "0       43840.686518      50.641057  30688.480678      2.199357   \n",
       "1       10294.395525      53.114392   2177.690063      0.431105   \n",
       "\n",
       "    business_area  share_business      site_area  ...  capacity_bus_station  \\\n",
       "id                                                ...                         \n",
       "0    13152.205840        0.942581  804466.712114  ...                     0   \n",
       "1     8116.705462        1.606820   23173.129862  ...                     0   \n",
       "\n",
       "    capacity_bus_stop  capacity_pier  capacity_animal_shelter  \\\n",
       "id                                                              \n",
       "0                   0              0                        0   \n",
       "1                   0              0                        0   \n",
       "\n",
       "    capacity_military_kom  capacity_prison  capacity_landfill  \\\n",
       "id                                                              \n",
       "0                       0                0                  0   \n",
       "1                       0                0                  0   \n",
       "\n",
       "    capacity_plant_nursery  capacity_greenhouse_complex  capacity_warehouse  \n",
       "id                                                                           \n",
       "0                        0                            0                   0  \n",
       "1                        0                            0                   0  \n",
       "\n",
       "[2 rows x 83 columns]"
      ]
     },
     "execution_count": 1,
     "metadata": {},
     "output_type": "execute_result"
    }
   ],
   "source": [
    "import geopandas as gpd\n",
    "\n",
    "blocks_gdf = gpd.read_parquet('./../data/blocks.parquet')\n",
    "blocks_gdf.head(2)"
   ]
  },
  {
   "cell_type": "markdown",
   "metadata": {},
   "source": [
    "Filter blocks getting only local ones for the example"
   ]
  },
  {
   "cell_type": "code",
   "execution_count": 2,
   "metadata": {},
   "outputs": [
    {
     "data": {
      "image/png": "[encoded data removed]",
      "text/plain": [
       "<Figure size 640x480 with 1 Axes>"
      ]
     },
     "metadata": {},
     "output_type": "display_data"
    }
   ],
   "source": [
    "import osmnx as ox\n",
    "\n",
    "local_crs = blocks_gdf.crs\n",
    "polygon = ox.geocode_to_gdf('R1114252', by_osmid=True).to_crs(local_crs)\n",
    "blocks_gdf = blocks_gdf[blocks_gdf.intersects(polygon.union_all())]\n",
    "blocks_gdf.plot().set_axis_off()"
   ]
  },
  {
   "cell_type": "markdown",
   "metadata": {},
   "source": [
    "## Calculating accessibility matrices"
   ]
  },
  {
   "cell_type": "code",
   "execution_count": 3,
   "metadata": {},
   "outputs": [],
   "source": [
    "from blocksnet.relations import get_accessibility_graph "
   ]
  },
  {
   "cell_type": "markdown",
   "metadata": {},
   "source": [
    "### Getting graphs"
   ]
  },
  {
   "cell_type": "code",
   "execution_count": 4,
   "metadata": {},
   "outputs": [
    {
     "name": "stderr",
     "output_type": "stream",
     "text": [
      "\u001b[32m2025-06-05 20:14:36.538\u001b[0m | \u001b[33m\u001b[1mWARNING \u001b[0m | \u001b[36mblocksnet.relations.accessibility.graph.core\u001b[0m:\u001b[36mget_accessibility_graph\u001b[0m:\u001b[36m15\u001b[0m - \u001b[33m\u001b[1mCRS do not match IDUEDU required crs. Reprojecting\u001b[0m\n",
      "\u001b[32m2025-06-05 20:14:36.638\u001b[0m | \u001b[1mINFO    \u001b[0m | \u001b[36miduedu.modules.drive_walk_builder\u001b[0m:\u001b[36mget_drive_graph_by_poly\u001b[0m:\u001b[36m91\u001b[0m - \u001b[1mDownloading drive graph from OSM, it may take a while for large territory ...\u001b[0m\n",
      "\u001b[32m2025-06-05 20:14:38.643\u001b[0m | \u001b[33m\u001b[1mWARNING \u001b[0m | \u001b[36miduedu.utils.utils\u001b[0m:\u001b[36mremove_weakly_connected_nodes\u001b[0m:\u001b[36m37\u001b[0m - \u001b[33m\u001b[1mRemoving 24 nodes that form 23 trap components. These are groups where you can enter but can't exit (or vice versa). Keeping the largest strongly connected component (663 nodes).\u001b[0m\n"
     ]
    }
   ],
   "source": [
    "graph_drive = get_accessibility_graph(blocks_gdf, 'drive')"
   ]
  },
  {
   "cell_type": "code",
   "execution_count": 5,
   "metadata": {},
   "outputs": [
    {
     "name": "stderr",
     "output_type": "stream",
     "text": [
      "\u001b[32m2025-06-05 20:14:38.691\u001b[0m | \u001b[33m\u001b[1mWARNING \u001b[0m | \u001b[36mblocksnet.relations.accessibility.graph.core\u001b[0m:\u001b[36mget_accessibility_graph\u001b[0m:\u001b[36m15\u001b[0m - \u001b[33m\u001b[1mCRS do not match IDUEDU required crs. Reprojecting\u001b[0m\n"
     ]
    },
    {
     "name": "stderr",
     "output_type": "stream",
     "text": [
      "\u001b[32m2025-06-05 20:14:38.756\u001b[0m | \u001b[1mINFO    \u001b[0m | \u001b[36miduedu.modules.drive_walk_builder\u001b[0m:\u001b[36mget_walk_graph\u001b[0m:\u001b[36m217\u001b[0m - \u001b[1mDownloading walk graph from OSM, it may take a while for large territory ...\u001b[0m\n"
     ]
    },
    {
     "data": {
      "application/vnd.jupyter.widget-view+json": {
       "model_id": "9143e351ff9f454ab5c8678c84c9e82f",
       "version_major": 2,
       "version_minor": 0
      },
      "text/plain": [
       "Calculating the weights of the walk graph:   0%|          | 0/48938 [00:00<?, ?it/s]"
      ]
     },
     "metadata": {},
     "output_type": "display_data"
    }
   ],
   "source": [
    "graph_walk = get_accessibility_graph(blocks_gdf, 'walk')"
   ]
  },
  {
   "cell_type": "markdown",
   "metadata": {},
   "source": [
    "### Calculating distances from `blocks` to `nodes`"
   ]
  },
  {
   "cell_type": "code",
   "execution_count": 6,
   "metadata": {},
   "outputs": [
    {
     "data": {
      "image/png": "[encoded data removed]",
      "text/plain": [
       "<Figure size 640x480 with 1 Axes>"
      ]
     },
     "metadata": {},
     "output_type": "display_data"
    }
   ],
   "source": [
    "from blocksnet.relations import accessibility_graph_to_gdfs\n",
    "\n",
    "nodes_gdf, _ = accessibility_graph_to_gdfs(graph_drive)\n",
    "nodes_gdf.plot().set_axis_off()"
   ]
  },
  {
   "cell_type": "code",
   "execution_count": 7,
   "metadata": {},
   "outputs": [],
   "source": [
    "from iduedu import get_adj_matrix_gdf_to_gdf\n",
    "\n",
    "blocks_to_nodes = get_adj_matrix_gdf_to_gdf(blocks_gdf, nodes_gdf, graph_walk)"
   ]
  },
  {
   "cell_type": "code",
   "execution_count": 8,
   "metadata": {},
   "outputs": [
    {
     "name": "stderr",
     "output_type": "stream",
     "text": [
      "/home/vasilstar/masterplanning/.venv/lib/python3.10/site-packages/pandas/io/formats/format.py:1458: RuntimeWarning: overflow encountered in cast\n",
      "  has_large_values = (abs_vals > 1e6).any()\n"
     ]
    },
    {
     "data": {
      "application/vnd.microsoft.datawrangler.viewer.v0+json": {
       "columns": [
        {
         "name": "id",
         "rawType": "int64",
         "type": "integer"
        },
        {
         "name": "0",
         "rawType": "float16",
         "type": "float"
        },
        {
         "name": "1",
         "rawType": "float16",
         "type": "float"
        },
        {
         "name": "2",
         "rawType": "float16",
         "type": "float"
        },
        {
         "name": "3",
         "rawType": "float16",
         "type": "float"
        },
        {
         "name": "4",
         "rawType": "float16",
         "type": "float"
        },
        {
         "name": "5",
         "rawType": "float16",
         "type": "float"
        },
        {
         "name": "6",
         "rawType": "float16",
         "type": "float"
        },
        {
         "name": "7",
         "rawType": "float16",
         "type": "float"
        },
        {
         "name": "8",
         "rawType": "float16",
         "type": "float"
        },
        {
         "name": "9",
         "rawType": "float16",
         "type": "float"
        },
        {
         "name": "10",
         "rawType": "float16",
         "type": "float"
        },
        {
         "name": "11",
         "rawType": "float16",
         "type": "float"
        },
        {
         "name": "12",
         "rawType": "float16",
         "type": "float"
        },
        {
         "name": "13",
         "rawType": "float16",
         "type": "float"
        },
        {
         "name": "14",
         "rawType": "float16",
         "type": "float"
        },
        {
         "name": "15",
         "rawType": "float16",
         "type": "float"
        },
        {
         "name": "16",
         "rawType": "float16",
         "type": "float"
        },
        {
         "name": "17",
         "rawType": "float16",
         "type": "float"
        },
        {
         "name": "18",
         "rawType": "float16",
         "type": "float"
        },
        {
         "name": "19",
         "rawType": "float16",
         "type": "float"
        },
        {
         "name": "20",
         "rawType": "float16",
         "type": "float"
        },
        {
         "name": "21",
         "rawType": "float16",
         "type": "float"
        },
        {
         "name": "22",
         "rawType": "float16",
         "type": "float"
        },
        {
         "name": "23",
         "rawType": "float16",
         "type": "float"
        },
        {
         "name": "24",
         "rawType": "float16",
         "type": "float"
        },
        {
         "name": "25",
         "rawType": "float16",
         "type": "float"
        },
        {
         "name": "26",
         "rawType": "float16",
         "type": "float"
        },
        {
         "name": "27",
         "rawType": "float16",
         "type": "float"
        },
        {
         "name": "28",
         "rawType": "float16",
         "type": "float"
        },
        {
         "name": "29",
         "rawType": "float16",
         "type": "float"
        },
        {
         "name": "30",
         "rawType": "float16",
         "type": "float"
        },
        {
         "name": "31",
         "rawType": "float16",
         "type": "float"
        },
        {
         "name": "32",
         "rawType": "float16",
         "type": "float"
        },
        {
         "name": "33",
         "rawType": "float16",
         "type": "float"
        },
        {
         "name": "34",
         "rawType": "float16",
         "type": "float"
        },
        {
         "name": "35",
         "rawType": "float16",
         "type": "float"
        },
        {
         "name": "36",
         "rawType": "float16",
         "type": "float"
        },
        {
         "name": "37",
         "rawType": "float16",
         "type": "float"
        },
        {
         "name": "38",
         "rawType": "float16",
         "type": "float"
        },
        {
         "name": "39",
         "rawType": "float16",
         "type": "float"
        },
        {
         "name": "40",
         "rawType": "float16",
         "type": "float"
        },
        {
         "name": "41",
         "rawType": "float16",
         "type": "float"
        },
        {
         "name": "42",
         "rawType": "float16",
         "type": "float"
        },
        {
         "name": "43",
         "rawType": "float16",
         "type": "float"
        },
        {
         "name": "44",
         "rawType": "float16",
         "type": "float"
        },
        {
         "name": "45",
         "rawType": "float16",
         "type": "float"
        },
        {
         "name": "46",
         "rawType": "float16",
         "type": "float"
        },
        {
         "name": "47",
         "rawType": "float16",
         "type": "float"
        },
        {
         "name": "48",
         "rawType": "float16",
         "type": "float"
        },
        {
         "name": "49",
         "rawType": "float16",
         "type": "float"
        },
        {
         "name": "50",
         "rawType": "float16",
         "type": "float"
        },
        {
         "name": "51",
         "rawType": "float16",
         "type": "float"
        },
        {
         "name": "52",
         "rawType": "float16",
         "type": "float"
        },
        {
         "name": "53",
         "rawType": "float16",
         "type": "float"
        },
        {
         "name": "54",
         "rawType": "float16",
         "type": "float"
        },
        {
         "name": "55",
         "rawType": "float16",
         "type": "float"
        },
        {
         "name": "56",
         "rawType": "float16",
         "type": "float"
        },
        {
         "name": "57",
         "rawType": "float16",
         "type": "float"
        },
        {
         "name": "58",
         "rawType": "float16",
         "type": "float"
        },
        {
         "name": "59",
         "rawType": "float16",
         "type": "float"
        },
        {
         "name": "60",
         "rawType": "float16",
         "type": "float"
        },
        {
         "name": "61",
         "rawType": "float16",
         "type": "float"
        },
        {
         "name": "62",
         "rawType": "float16",
         "type": "float"
        },
        {
         "name": "63",
         "rawType": "float16",
         "type": "float"
        },
        {
         "name": "64",
         "rawType": "float16",
         "type": "float"
        },
        {
         "name": "65",
         "rawType": "float16",
         "type": "float"
        },
        {
         "name": "66",
         "rawType": "float16",
         "type": "float"
        },
        {
         "name": "67",
         "rawType": "float16",
         "type": "float"
        },
        {
         "name": "68",
         "rawType": "float16",
         "type": "float"
        },
        {
         "name": "69",
         "rawType": "float16",
         "type": "float"
        },
        {
         "name": "70",
         "rawType": "float16",
         "type": "float"
        },
        {
         "name": "71",
         "rawType": "float16",
         "type": "float"
        },
        {
         "name": "72",
         "rawType": "float16",
         "type": "float"
        },
        {
         "name": "73",
         "rawType": "float16",
         "type": "float"
        },
        {
         "name": "74",
         "rawType": "float16",
         "type": "float"
        },
        {
         "name": "75",
         "rawType": "float16",
         "type": "float"
        },
        {
         "name": "76",
         "rawType": "float16",
         "type": "float"
        },
        {
         "name": "77",
         "rawType": "float16",
         "type": "float"
        },
        {
         "name": "78",
         "rawType": "float16",
         "type": "float"
        },
        {
         "name": "79",
         "rawType": "float16",
         "type": "float"
        },
        {
         "name": "80",
         "rawType": "float16",
         "type": "float"
        },
        {
         "name": "81",
         "rawType": "float16",
         "type": "float"
        },
        {
         "name": "82",
         "rawType": "float16",
         "type": "float"
        },
        {
         "name": "83",
         "rawType": "float16",
         "type": "float"
        },
        {
         "name": "84",
         "rawType": "float16",
         "type": "float"
        },
        {
         "name": "85",
         "rawType": "float16",
         "type": "float"
        },
        {
         "name": "86",
         "rawType": "float16",
         "type": "float"
        },
        {
         "name": "87",
         "rawType": "float16",
         "type": "float"
        },
        {
         "name": "88",
         "rawType": "float16",
         "type": "float"
        },
        {
         "name": "89",
         "rawType": "float16",
         "type": "float"
        },
        {
         "name": "90",
         "rawType": "float16",
         "type": "float"
        },
        {
         "name": "91",
         "rawType": "float16",
         "type": "float"
        },
        {
         "name": "92",
         "rawType": "float16",
         "type": "float"
        },
        {
         "name": "93",
         "rawType": "float16",
         "type": "float"
        },
        {
         "name": "94",
         "rawType": "float16",
         "type": "float"
        },
        {
         "name": "95",
         "rawType": "float16",
         "type": "float"
        },
        {
         "name": "96",
         "rawType": "float16",
         "type": "float"
        },
        {
         "name": "97",
         "rawType": "float16",
         "type": "float"
        },
        {
         "name": "98",
         "rawType": "float16",
         "type": "float"
        },
        {
         "name": "99",
         "rawType": "float16",
         "type": "float"
        },
        {
         "name": "100",
         "rawType": "float16",
         "type": "float"
        },
        {
         "name": "101",
         "rawType": "float16",
         "type": "float"
        },
        {
         "name": "102",
         "rawType": "float16",
         "type": "float"
        },
        {
         "name": "103",
         "rawType": "float16",
         "type": "float"
        },
        {
         "name": "104",
         "rawType": "float16",
         "type": "float"
        },
        {
         "name": "105",
         "rawType": "float16",
         "type": "float"
        },
        {
         "name": "106",
         "rawType": "float16",
         "type": "float"
        },
        {
         "name": "107",
         "rawType": "float16",
         "type": "float"
        },
        {
         "name": "108",
         "rawType": "float16",
         "type": "float"
        },
        {
         "name": "109",
         "rawType": "float16",
         "type": "float"
        },
        {
         "name": "110",
         "rawType": "float16",
         "type": "float"
        },
        {
         "name": "111",
         "rawType": "float16",
         "type": "float"
        },
        {
         "name": "112",
         "rawType": "float16",
         "type": "float"
        },
        {
         "name": "113",
         "rawType": "float16",
         "type": "float"
        },
        {
         "name": "114",
         "rawType": "float16",
         "type": "float"
        },
        {
         "name": "115",
         "rawType": "float16",
         "type": "float"
        },
        {
         "name": "116",
         "rawType": "float16",
         "type": "float"
        },
        {
         "name": "117",
         "rawType": "float16",
         "type": "float"
        },
        {
         "name": "118",
         "rawType": "float16",
         "type": "float"
        },
        {
         "name": "119",
         "rawType": "float16",
         "type": "float"
        },
        {
         "name": "120",
         "rawType": "float16",
         "type": "float"
        },
        {
         "name": "121",
         "rawType": "float16",
         "type": "float"
        },
        {
         "name": "122",
         "rawType": "float16",
         "type": "float"
        },
        {
         "name": "123",
         "rawType": "float16",
         "type": "float"
        },
        {
         "name": "124",
         "rawType": "float16",
         "type": "float"
        },
        {
         "name": "125",
         "rawType": "float16",
         "type": "float"
        },
        {
         "name": "126",
         "rawType": "float16",
         "type": "float"
        },
        {
         "name": "127",
         "rawType": "float16",
         "type": "float"
        },
        {
         "name": "128",
         "rawType": "float16",
         "type": "float"
        },
        {
         "name": "129",
         "rawType": "float16",
         "type": "float"
        },
        {
         "name": "130",
         "rawType": "float16",
         "type": "float"
        },
        {
         "name": "131",
         "rawType": "float16",
         "type": "float"
        },
        {
         "name": "132",
         "rawType": "float16",
         "type": "float"
        },
        {
         "name": "133",
         "rawType": "float16",
         "type": "float"
        },
        {
         "name": "134",
         "rawType": "float16",
         "type": "float"
        },
        {
         "name": "135",
         "rawType": "float16",
         "type": "float"
        },
        {
         "name": "136",
         "rawType": "float16",
         "type": "float"
        },
        {
         "name": "137",
         "rawType": "float16",
         "type": "float"
        },
        {
         "name": "138",
         "rawType": "float16",
         "type": "float"
        },
        {
         "name": "139",
         "rawType": "float16",
         "type": "float"
        },
        {
         "name": "140",
         "rawType": "float16",
         "type": "float"
        },
        {
         "name": "141",
         "rawType": "float16",
         "type": "float"
        },
        {
         "name": "142",
         "rawType": "float16",
         "type": "float"
        },
        {
         "name": "143",
         "rawType": "float16",
         "type": "float"
        },
        {
         "name": "144",
         "rawType": "float16",
         "type": "float"
        },
        {
         "name": "145",
         "rawType": "float16",
         "type": "float"
        },
        {
         "name": "146",
         "rawType": "float16",
         "type": "float"
        },
        {
         "name": "147",
         "rawType": "float16",
         "type": "float"
        },
        {
         "name": "148",
         "rawType": "float16",
         "type": "float"
        },
        {
         "name": "149",
         "rawType": "float16",
         "type": "float"
        },
        {
         "name": "150",
         "rawType": "float16",
         "type": "float"
        },
        {
         "name": "151",
         "rawType": "float16",
         "type": "float"
        },
        {
         "name": "152",
         "rawType": "float16",
         "type": "float"
        },
        {
         "name": "153",
         "rawType": "float16",
         "type": "float"
        },
        {
         "name": "154",
         "rawType": "float16",
         "type": "float"
        },
        {
         "name": "155",
         "rawType": "float16",
         "type": "float"
        },
        {
         "name": "156",
         "rawType": "float16",
         "type": "float"
        },
        {
         "name": "157",
         "rawType": "float16",
         "type": "float"
        },
        {
         "name": "158",
         "rawType": "float16",
         "type": "float"
        },
        {
         "name": "159",
         "rawType": "float16",
         "type": "float"
        },
        {
         "name": "160",
         "rawType": "float16",
         "type": "float"
        },
        {
         "name": "161",
         "rawType": "float16",
         "type": "float"
        },
        {
         "name": "162",
         "rawType": "float16",
         "type": "float"
        },
        {
         "name": "163",
         "rawType": "float16",
         "type": "float"
        },
        {
         "name": "164",
         "rawType": "float16",
         "type": "float"
        },
        {
         "name": "165",
         "rawType": "float16",
         "type": "float"
        },
        {
         "name": "166",
         "rawType": "float16",
         "type": "float"
        },
        {
         "name": "167",
         "rawType": "float16",
         "type": "float"
        },
        {
         "name": "168",
         "rawType": "float16",
         "type": "float"
        },
        {
         "name": "169",
         "rawType": "float16",
         "type": "float"
        },
        {
         "name": "170",
         "rawType": "float16",
         "type": "float"
        },
        {
         "name": "171",
         "rawType": "float16",
         "type": "float"
        },
        {
         "name": "172",
         "rawType": "float16",
         "type": "float"
        },
        {
         "name": "173",
         "rawType": "float16",
         "type": "float"
        },
        {
         "name": "174",
         "rawType": "float16",
         "type": "float"
        },
        {
         "name": "175",
         "rawType": "float16",
         "type": "float"
        },
        {
         "name": "176",
         "rawType": "float16",
         "type": "float"
        },
        {
         "name": "177",
         "rawType": "float16",
         "type": "float"
        },
        {
         "name": "178",
         "rawType": "float16",
         "type": "float"
        },
        {
         "name": "179",
         "rawType": "float16",
         "type": "float"
        },
        {
         "name": "180",
         "rawType": "float16",
         "type": "float"
        },
        {
         "name": "181",
         "rawType": "float16",
         "type": "float"
        },
        {
         "name": "182",
         "rawType": "float16",
         "type": "float"
        },
        {
         "name": "183",
         "rawType": "float16",
         "type": "float"
        },
        {
         "name": "184",
         "rawType": "float16",
         "type": "float"
        },
        {
         "name": "185",
         "rawType": "float16",
         "type": "float"
        },
        {
         "name": "186",
         "rawType": "float16",
         "type": "float"
        },
        {
         "name": "187",
         "rawType": "float16",
         "type": "float"
        },
        {
         "name": "188",
         "rawType": "float16",
         "type": "float"
        },
        {
         "name": "189",
         "rawType": "float16",
         "type": "float"
        },
        {
         "name": "190",
         "rawType": "float16",
         "type": "float"
        },
        {
         "name": "191",
         "rawType": "float16",
         "type": "float"
        },
        {
         "name": "192",
         "rawType": "float16",
         "type": "float"
        },
        {
         "name": "193",
         "rawType": "float16",
         "type": "float"
        },
        {
         "name": "194",
         "rawType": "float16",
         "type": "float"
        },
        {
         "name": "195",
         "rawType": "float16",
         "type": "float"
        },
        {
         "name": "196",
         "rawType": "float16",
         "type": "float"
        },
        {
         "name": "197",
         "rawType": "float16",
         "type": "float"
        },
        {
         "name": "198",
         "rawType": "float16",
         "type": "float"
        },
        {
         "name": "199",
         "rawType": "float16",
         "type": "float"
        },
        {
         "name": "200",
         "rawType": "float16",
         "type": "float"
        },
        {
         "name": "201",
         "rawType": "float16",
         "type": "float"
        },
        {
         "name": "202",
         "rawType": "float16",
         "type": "float"
        },
        {
         "name": "203",
         "rawType": "float16",
         "type": "float"
        },
        {
         "name": "204",
         "rawType": "float16",
         "type": "float"
        },
        {
         "name": "205",
         "rawType": "float16",
         "type": "float"
        },
        {
         "name": "206",
         "rawType": "float16",
         "type": "float"
        },
        {
         "name": "207",
         "rawType": "float16",
         "type": "float"
        },
        {
         "name": "208",
         "rawType": "float16",
         "type": "float"
        },
        {
         "name": "209",
         "rawType": "float16",
         "type": "float"
        },
        {
         "name": "210",
         "rawType": "float16",
         "type": "float"
        },
        {
         "name": "211",
         "rawType": "float16",
         "type": "float"
        },
        {
         "name": "212",
         "rawType": "float16",
         "type": "float"
        },
        {
         "name": "213",
         "rawType": "float16",
         "type": "float"
        },
        {
         "name": "214",
         "rawType": "float16",
         "type": "float"
        },
        {
         "name": "215",
         "rawType": "float16",
         "type": "float"
        },
        {
         "name": "216",
         "rawType": "float16",
         "type": "float"
        },
        {
         "name": "217",
         "rawType": "float16",
         "type": "float"
        },
        {
         "name": "218",
         "rawType": "float16",
         "type": "float"
        },
        {
         "name": "219",
         "rawType": "float16",
         "type": "float"
        },
        {
         "name": "220",
         "rawType": "float16",
         "type": "float"
        },
        {
         "name": "221",
         "rawType": "float16",
         "type": "float"
        },
        {
         "name": "222",
         "rawType": "float16",
         "type": "float"
        },
        {
         "name": "223",
         "rawType": "float16",
         "type": "float"
        },
        {
         "name": "224",
         "rawType": "float16",
         "type": "float"
        },
        {
         "name": "225",
         "rawType": "float16",
         "type": "float"
        },
        {
         "name": "226",
         "rawType": "float16",
         "type": "float"
        },
        {
         "name": "227",
         "rawType": "float16",
         "type": "float"
        },
        {
         "name": "228",
         "rawType": "float16",
         "type": "float"
        },
        {
         "name": "229",
         "rawType": "float16",
         "type": "float"
        },
        {
         "name": "230",
         "rawType": "float16",
         "type": "float"
        },
        {
         "name": "231",
         "rawType": "float16",
         "type": "float"
        },
        {
         "name": "232",
         "rawType": "float16",
         "type": "float"
        },
        {
         "name": "233",
         "rawType": "float16",
         "type": "float"
        },
        {
         "name": "234",
         "rawType": "float16",
         "type": "float"
        },
        {
         "name": "235",
         "rawType": "float16",
         "type": "float"
        },
        {
         "name": "236",
         "rawType": "float16",
         "type": "float"
        },
        {
         "name": "237",
         "rawType": "float16",
         "type": "float"
        },
        {
         "name": "238",
         "rawType": "float16",
         "type": "float"
        },
        {
         "name": "239",
         "rawType": "float16",
         "type": "float"
        },
        {
         "name": "240",
         "rawType": "float16",
         "type": "float"
        },
        {
         "name": "241",
         "rawType": "float16",
         "type": "float"
        },
        {
         "name": "242",
         "rawType": "float16",
         "type": "float"
        },
        {
         "name": "243",
         "rawType": "float16",
         "type": "float"
        },
        {
         "name": "244",
         "rawType": "float16",
         "type": "float"
        },
        {
         "name": "245",
         "rawType": "float16",
         "type": "float"
        },
        {
         "name": "246",
         "rawType": "float16",
         "type": "float"
        },
        {
         "name": "247",
         "rawType": "float16",
         "type": "float"
        },
        {
         "name": "248",
         "rawType": "float16",
         "type": "float"
        },
        {
         "name": "249",
         "rawType": "float16",
         "type": "float"
        },
        {
         "name": "250",
         "rawType": "float16",
         "type": "float"
        },
        {
         "name": "251",
         "rawType": "float16",
         "type": "float"
        },
        {
         "name": "252",
         "rawType": "float16",
         "type": "float"
        },
        {
         "name": "253",
         "rawType": "float16",
         "type": "float"
        },
        {
         "name": "254",
         "rawType": "float16",
         "type": "float"
        },
        {
         "name": "255",
         "rawType": "float16",
         "type": "float"
        },
        {
         "name": "256",
         "rawType": "float16",
         "type": "float"
        },
        {
         "name": "257",
         "rawType": "float16",
         "type": "float"
        },
        {
         "name": "258",
         "rawType": "float16",
         "type": "float"
        },
        {
         "name": "259",
         "rawType": "float16",
         "type": "float"
        },
        {
         "name": "260",
         "rawType": "float16",
         "type": "float"
        },
        {
         "name": "261",
         "rawType": "float16",
         "type": "float"
        },
        {
         "name": "262",
         "rawType": "float16",
         "type": "float"
        },
        {
         "name": "263",
         "rawType": "float16",
         "type": "float"
        },
        {
         "name": "264",
         "rawType": "float16",
         "type": "float"
        },
        {
         "name": "265",
         "rawType": "float16",
         "type": "float"
        },
        {
         "name": "266",
         "rawType": "float16",
         "type": "float"
        },
        {
         "name": "267",
         "rawType": "float16",
         "type": "float"
        },
        {
         "name": "268",
         "rawType": "float16",
         "type": "float"
        },
        {
         "name": "269",
         "rawType": "float16",
         "type": "float"
        },
        {
         "name": "270",
         "rawType": "float16",
         "type": "float"
        },
        {
         "name": "271",
         "rawType": "float16",
         "type": "float"
        },
        {
         "name": "272",
         "rawType": "float16",
         "type": "float"
        },
        {
         "name": "273",
         "rawType": "float16",
         "type": "float"
        },
        {
         "name": "274",
         "rawType": "float16",
         "type": "float"
        },
        {
         "name": "275",
         "rawType": "float16",
         "type": "float"
        },
        {
         "name": "276",
         "rawType": "float16",
         "type": "float"
        },
        {
         "name": "277",
         "rawType": "float16",
         "type": "float"
        },
        {
         "name": "278",
         "rawType": "float16",
         "type": "float"
        },
        {
         "name": "279",
         "rawType": "float16",
         "type": "float"
        },
        {
         "name": "280",
         "rawType": "float16",
         "type": "float"
        },
        {
         "name": "281",
         "rawType": "float16",
         "type": "float"
        },
        {
         "name": "282",
         "rawType": "float16",
         "type": "float"
        },
        {
         "name": "283",
         "rawType": "float16",
         "type": "float"
        },
        {
         "name": "284",
         "rawType": "float16",
         "type": "float"
        },
        {
         "name": "285",
         "rawType": "float16",
         "type": "float"
        },
        {
         "name": "286",
         "rawType": "float16",
         "type": "float"
        },
        {
         "name": "287",
         "rawType": "float16",
         "type": "float"
        },
        {
         "name": "288",
         "rawType": "float16",
         "type": "float"
        },
        {
         "name": "289",
         "rawType": "float16",
         "type": "float"
        },
        {
         "name": "290",
         "rawType": "float16",
         "type": "float"
        },
        {
         "name": "291",
         "rawType": "float16",
         "type": "float"
        },
        {
         "name": "292",
         "rawType": "float16",
         "type": "float"
        },
        {
         "name": "293",
         "rawType": "float16",
         "type": "float"
        },
        {
         "name": "294",
         "rawType": "float16",
         "type": "float"
        },
        {
         "name": "295",
         "rawType": "float16",
         "type": "float"
        },
        {
         "name": "296",
         "rawType": "float16",
         "type": "float"
        },
        {
         "name": "297",
         "rawType": "float16",
         "type": "float"
        },
        {
         "name": "298",
         "rawType": "float16",
         "type": "float"
        },
        {
         "name": "299",
         "rawType": "float16",
         "type": "float"
        },
        {
         "name": "300",
         "rawType": "float16",
         "type": "float"
        },
        {
         "name": "301",
         "rawType": "float16",
         "type": "float"
        },
        {
         "name": "302",
         "rawType": "float16",
         "type": "float"
        },
        {
         "name": "303",
         "rawType": "float16",
         "type": "float"
        },
        {
         "name": "304",
         "rawType": "float16",
         "type": "float"
        },
        {
         "name": "305",
         "rawType": "float16",
         "type": "float"
        },
        {
         "name": "306",
         "rawType": "float16",
         "type": "float"
        },
        {
         "name": "307",
         "rawType": "float16",
         "type": "float"
        },
        {
         "name": "308",
         "rawType": "float16",
         "type": "float"
        },
        {
         "name": "309",
         "rawType": "float16",
         "type": "float"
        },
        {
         "name": "310",
         "rawType": "float16",
         "type": "float"
        },
        {
         "name": "311",
         "rawType": "float16",
         "type": "float"
        },
        {
         "name": "312",
         "rawType": "float16",
         "type": "float"
        },
        {
         "name": "313",
         "rawType": "float16",
         "type": "float"
        },
        {
         "name": "314",
         "rawType": "float16",
         "type": "float"
        },
        {
         "name": "315",
         "rawType": "float16",
         "type": "float"
        },
        {
         "name": "316",
         "rawType": "float16",
         "type": "float"
        },
        {
         "name": "317",
         "rawType": "float16",
         "type": "float"
        },
        {
         "name": "318",
         "rawType": "float16",
         "type": "float"
        },
        {
         "name": "319",
         "rawType": "float16",
         "type": "float"
        },
        {
         "name": "320",
         "rawType": "float16",
         "type": "float"
        },
        {
         "name": "321",
         "rawType": "float16",
         "type": "float"
        },
        {
         "name": "322",
         "rawType": "float16",
         "type": "float"
        },
        {
         "name": "323",
         "rawType": "float16",
         "type": "float"
        },
        {
         "name": "324",
         "rawType": "float16",
         "type": "float"
        },
        {
         "name": "325",
         "rawType": "float16",
         "type": "float"
        },
        {
         "name": "326",
         "rawType": "float16",
         "type": "float"
        },
        {
         "name": "327",
         "rawType": "float16",
         "type": "float"
        },
        {
         "name": "328",
         "rawType": "float16",
         "type": "float"
        },
        {
         "name": "329",
         "rawType": "float16",
         "type": "float"
        },
        {
         "name": "330",
         "rawType": "float16",
         "type": "float"
        },
        {
         "name": "331",
         "rawType": "float16",
         "type": "float"
        },
        {
         "name": "332",
         "rawType": "float16",
         "type": "float"
        },
        {
         "name": "333",
         "rawType": "float16",
         "type": "float"
        },
        {
         "name": "334",
         "rawType": "float16",
         "type": "float"
        },
        {
         "name": "335",
         "rawType": "float16",
         "type": "float"
        },
        {
         "name": "336",
         "rawType": "float16",
         "type": "float"
        },
        {
         "name": "337",
         "rawType": "float16",
         "type": "float"
        },
        {
         "name": "338",
         "rawType": "float16",
         "type": "float"
        },
        {
         "name": "339",
         "rawType": "float16",
         "type": "float"
        },
        {
         "name": "340",
         "rawType": "float16",
         "type": "float"
        },
        {
         "name": "341",
         "rawType": "float16",
         "type": "float"
        },
        {
         "name": "342",
         "rawType": "float16",
         "type": "float"
        },
        {
         "name": "343",
         "rawType": "float16",
         "type": "float"
        },
        {
         "name": "344",
         "rawType": "float16",
         "type": "float"
        },
        {
         "name": "345",
         "rawType": "float16",
         "type": "float"
        },
        {
         "name": "346",
         "rawType": "float16",
         "type": "float"
        },
        {
         "name": "347",
         "rawType": "float16",
         "type": "float"
        },
        {
         "name": "348",
         "rawType": "float16",
         "type": "float"
        },
        {
         "name": "349",
         "rawType": "float16",
         "type": "float"
        },
        {
         "name": "350",
         "rawType": "float16",
         "type": "float"
        },
        {
         "name": "351",
         "rawType": "float16",
         "type": "float"
        },
        {
         "name": "352",
         "rawType": "float16",
         "type": "float"
        },
        {
         "name": "353",
         "rawType": "float16",
         "type": "float"
        },
        {
         "name": "354",
         "rawType": "float16",
         "type": "float"
        },
        {
         "name": "355",
         "rawType": "float16",
         "type": "float"
        },
        {
         "name": "356",
         "rawType": "float16",
         "type": "float"
        },
        {
         "name": "357",
         "rawType": "float16",
         "type": "float"
        },
        {
         "name": "358",
         "rawType": "float16",
         "type": "float"
        },
        {
         "name": "359",
         "rawType": "float16",
         "type": "float"
        },
        {
         "name": "360",
         "rawType": "float16",
         "type": "float"
        },
        {
         "name": "361",
         "rawType": "float16",
         "type": "float"
        },
        {
         "name": "362",
         "rawType": "float16",
         "type": "float"
        },
        {
         "name": "363",
         "rawType": "float16",
         "type": "float"
        },
        {
         "name": "364",
         "rawType": "float16",
         "type": "float"
        },
        {
         "name": "365",
         "rawType": "float16",
         "type": "float"
        },
        {
         "name": "366",
         "rawType": "float16",
         "type": "float"
        },
        {
         "name": "367",
         "rawType": "float16",
         "type": "float"
        },
        {
         "name": "368",
         "rawType": "float16",
         "type": "float"
        },
        {
         "name": "369",
         "rawType": "float16",
         "type": "float"
        },
        {
         "name": "370",
         "rawType": "float16",
         "type": "float"
        },
        {
         "name": "371",
         "rawType": "float16",
         "type": "float"
        },
        {
         "name": "372",
         "rawType": "float16",
         "type": "float"
        },
        {
         "name": "373",
         "rawType": "float16",
         "type": "float"
        },
        {
         "name": "374",
         "rawType": "float16",
         "type": "float"
        },
        {
         "name": "375",
         "rawType": "float16",
         "type": "float"
        },
        {
         "name": "376",
         "rawType": "float16",
         "type": "float"
        },
        {
         "name": "377",
         "rawType": "float16",
         "type": "float"
        },
        {
         "name": "378",
         "rawType": "float16",
         "type": "float"
        },
        {
         "name": "379",
         "rawType": "float16",
         "type": "float"
        },
        {
         "name": "380",
         "rawType": "float16",
         "type": "float"
        },
        {
         "name": "381",
         "rawType": "float16",
         "type": "float"
        },
        {
         "name": "382",
         "rawType": "float16",
         "type": "float"
        },
        {
         "name": "383",
         "rawType": "float16",
         "type": "float"
        },
        {
         "name": "384",
         "rawType": "float16",
         "type": "float"
        },
        {
         "name": "385",
         "rawType": "float16",
         "type": "float"
        },
        {
         "name": "386",
         "rawType": "float16",
         "type": "float"
        },
        {
         "name": "387",
         "rawType": "float16",
         "type": "float"
        },
        {
         "name": "388",
         "rawType": "float16",
         "type": "float"
        },
        {
         "name": "389",
         "rawType": "float16",
         "type": "float"
        },
        {
         "name": "390",
         "rawType": "float16",
         "type": "float"
        },
        {
         "name": "391",
         "rawType": "float16",
         "type": "float"
        },
        {
         "name": "392",
         "rawType": "float16",
         "type": "float"
        },
        {
         "name": "393",
         "rawType": "float16",
         "type": "float"
        },
        {
         "name": "394",
         "rawType": "float16",
         "type": "float"
        },
        {
         "name": "395",
         "rawType": "float16",
         "type": "float"
        },
        {
         "name": "396",
         "rawType": "float16",
         "type": "float"
        },
        {
         "name": "397",
         "rawType": "float16",
         "type": "float"
        },
        {
         "name": "398",
         "rawType": "float16",
         "type": "float"
        },
        {
         "name": "399",
         "rawType": "float16",
         "type": "float"
        },
        {
         "name": "400",
         "rawType": "float16",
         "type": "float"
        },
        {
         "name": "401",
         "rawType": "float16",
         "type": "float"
        },
        {
         "name": "402",
         "rawType": "float16",
         "type": "float"
        },
        {
         "name": "403",
         "rawType": "float16",
         "type": "float"
        },
        {
         "name": "404",
         "rawType": "float16",
         "type": "float"
        },
        {
         "name": "405",
         "rawType": "float16",
         "type": "float"
        },
        {
         "name": "406",
         "rawType": "float16",
         "type": "float"
        },
        {
         "name": "407",
         "rawType": "float16",
         "type": "float"
        },
        {
         "name": "408",
         "rawType": "float16",
         "type": "float"
        },
        {
         "name": "409",
         "rawType": "float16",
         "type": "float"
        },
        {
         "name": "410",
         "rawType": "float16",
         "type": "float"
        },
        {
         "name": "411",
         "rawType": "float16",
         "type": "float"
        },
        {
         "name": "412",
         "rawType": "float16",
         "type": "float"
        },
        {
         "name": "413",
         "rawType": "float16",
         "type": "float"
        },
        {
         "name": "414",
         "rawType": "float16",
         "type": "float"
        },
        {
         "name": "415",
         "rawType": "float16",
         "type": "float"
        },
        {
         "name": "416",
         "rawType": "float16",
         "type": "float"
        },
        {
         "name": "417",
         "rawType": "float16",
         "type": "float"
        },
        {
         "name": "418",
         "rawType": "float16",
         "type": "float"
        },
        {
         "name": "419",
         "rawType": "float16",
         "type": "float"
        },
        {
         "name": "420",
         "rawType": "float16",
         "type": "float"
        },
        {
         "name": "421",
         "rawType": "float16",
         "type": "float"
        },
        {
         "name": "422",
         "rawType": "float16",
         "type": "float"
        },
        {
         "name": "423",
         "rawType": "float16",
         "type": "float"
        },
        {
         "name": "424",
         "rawType": "float16",
         "type": "float"
        },
        {
         "name": "425",
         "rawType": "float16",
         "type": "float"
        },
        {
         "name": "426",
         "rawType": "float16",
         "type": "float"
        },
        {
         "name": "427",
         "rawType": "float16",
         "type": "float"
        },
        {
         "name": "428",
         "rawType": "float16",
         "type": "float"
        },
        {
         "name": "429",
         "rawType": "float16",
         "type": "float"
        },
        {
         "name": "430",
         "rawType": "float16",
         "type": "float"
        },
        {
         "name": "431",
         "rawType": "float16",
         "type": "float"
        },
        {
         "name": "432",
         "rawType": "float16",
         "type": "float"
        },
        {
         "name": "433",
         "rawType": "float16",
         "type": "float"
        },
        {
         "name": "434",
         "rawType": "float16",
         "type": "float"
        },
        {
         "name": "435",
         "rawType": "float16",
         "type": "float"
        },
        {
         "name": "436",
         "rawType": "float16",
         "type": "float"
        },
        {
         "name": "437",
         "rawType": "float16",
         "type": "float"
        },
        {
         "name": "438",
         "rawType": "float16",
         "type": "float"
        },
        {
         "name": "439",
         "rawType": "float16",
         "type": "float"
        },
        {
         "name": "440",
         "rawType": "float16",
         "type": "float"
        },
        {
         "name": "441",
         "rawType": "float16",
         "type": "float"
        },
        {
         "name": "442",
         "rawType": "float16",
         "type": "float"
        },
        {
         "name": "443",
         "rawType": "float16",
         "type": "float"
        },
        {
         "name": "444",
         "rawType": "float16",
         "type": "float"
        },
        {
         "name": "445",
         "rawType": "float16",
         "type": "float"
        },
        {
         "name": "446",
         "rawType": "float16",
         "type": "float"
        },
        {
         "name": "447",
         "rawType": "float16",
         "type": "float"
        },
        {
         "name": "448",
         "rawType": "float16",
         "type": "float"
        },
        {
         "name": "449",
         "rawType": "float16",
         "type": "float"
        },
        {
         "name": "450",
         "rawType": "float16",
         "type": "float"
        },
        {
         "name": "451",
         "rawType": "float16",
         "type": "float"
        },
        {
         "name": "452",
         "rawType": "float16",
         "type": "float"
        },
        {
         "name": "453",
         "rawType": "float16",
         "type": "float"
        },
        {
         "name": "454",
         "rawType": "float16",
         "type": "float"
        },
        {
         "name": "455",
         "rawType": "float16",
         "type": "float"
        },
        {
         "name": "456",
         "rawType": "float16",
         "type": "float"
        },
        {
         "name": "457",
         "rawType": "float16",
         "type": "float"
        },
        {
         "name": "458",
         "rawType": "float16",
         "type": "float"
        },
        {
         "name": "459",
         "rawType": "float16",
         "type": "float"
        },
        {
         "name": "460",
         "rawType": "float16",
         "type": "float"
        },
        {
         "name": "461",
         "rawType": "float16",
         "type": "float"
        },
        {
         "name": "462",
         "rawType": "float16",
         "type": "float"
        },
        {
         "name": "463",
         "rawType": "float16",
         "type": "float"
        },
        {
         "name": "464",
         "rawType": "float16",
         "type": "float"
        },
        {
         "name": "465",
         "rawType": "float16",
         "type": "float"
        },
        {
         "name": "466",
         "rawType": "float16",
         "type": "float"
        },
        {
         "name": "467",
         "rawType": "float16",
         "type": "float"
        },
        {
         "name": "468",
         "rawType": "float16",
         "type": "float"
        },
        {
         "name": "469",
         "rawType": "float16",
         "type": "float"
        },
        {
         "name": "470",
         "rawType": "float16",
         "type": "float"
        },
        {
         "name": "471",
         "rawType": "float16",
         "type": "float"
        },
        {
         "name": "472",
         "rawType": "float16",
         "type": "float"
        },
        {
         "name": "473",
         "rawType": "float16",
         "type": "float"
        },
        {
         "name": "474",
         "rawType": "float16",
         "type": "float"
        },
        {
         "name": "475",
         "rawType": "float16",
         "type": "float"
        },
        {
         "name": "476",
         "rawType": "float16",
         "type": "float"
        },
        {
         "name": "477",
         "rawType": "float16",
         "type": "float"
        },
        {
         "name": "478",
         "rawType": "float16",
         "type": "float"
        },
        {
         "name": "479",
         "rawType": "float16",
         "type": "float"
        },
        {
         "name": "480",
         "rawType": "float16",
         "type": "float"
        },
        {
         "name": "481",
         "rawType": "float16",
         "type": "float"
        },
        {
         "name": "482",
         "rawType": "float16",
         "type": "float"
        },
        {
         "name": "483",
         "rawType": "float16",
         "type": "float"
        },
        {
         "name": "484",
         "rawType": "float16",
         "type": "float"
        },
        {
         "name": "485",
         "rawType": "float16",
         "type": "float"
        },
        {
         "name": "486",
         "rawType": "float16",
         "type": "float"
        },
        {
         "name": "487",
         "rawType": "float16",
         "type": "float"
        },
        {
         "name": "488",
         "rawType": "float16",
         "type": "float"
        },
        {
         "name": "489",
         "rawType": "float16",
         "type": "float"
        },
        {
         "name": "490",
         "rawType": "float16",
         "type": "float"
        },
        {
         "name": "491",
         "rawType": "float16",
         "type": "float"
        },
        {
         "name": "492",
         "rawType": "float16",
         "type": "float"
        },
        {
         "name": "493",
         "rawType": "float16",
         "type": "float"
        },
        {
         "name": "494",
         "rawType": "float16",
         "type": "float"
        },
        {
         "name": "495",
         "rawType": "float16",
         "type": "float"
        },
        {
         "name": "496",
         "rawType": "float16",
         "type": "float"
        },
        {
         "name": "497",
         "rawType": "float16",
         "type": "float"
        },
        {
         "name": "498",
         "rawType": "float16",
         "type": "float"
        },
        {
         "name": "499",
         "rawType": "float16",
         "type": "float"
        },
        {
         "name": "500",
         "rawType": "float16",
         "type": "float"
        },
        {
         "name": "501",
         "rawType": "float16",
         "type": "float"
        },
        {
         "name": "502",
         "rawType": "float16",
         "type": "float"
        },
        {
         "name": "503",
         "rawType": "float16",
         "type": "float"
        },
        {
         "name": "504",
         "rawType": "float16",
         "type": "float"
        },
        {
         "name": "505",
         "rawType": "float16",
         "type": "float"
        },
        {
         "name": "506",
         "rawType": "float16",
         "type": "float"
        },
        {
         "name": "507",
         "rawType": "float16",
         "type": "float"
        },
        {
         "name": "508",
         "rawType": "float16",
         "type": "float"
        },
        {
         "name": "509",
         "rawType": "float16",
         "type": "float"
        },
        {
         "name": "510",
         "rawType": "float16",
         "type": "float"
        },
        {
         "name": "511",
         "rawType": "float16",
         "type": "float"
        },
        {
         "name": "512",
         "rawType": "float16",
         "type": "float"
        },
        {
         "name": "513",
         "rawType": "float16",
         "type": "float"
        },
        {
         "name": "514",
         "rawType": "float16",
         "type": "float"
        },
        {
         "name": "515",
         "rawType": "float16",
         "type": "float"
        },
        {
         "name": "516",
         "rawType": "float16",
         "type": "float"
        },
        {
         "name": "517",
         "rawType": "float16",
         "type": "float"
        },
        {
         "name": "518",
         "rawType": "float16",
         "type": "float"
        },
        {
         "name": "519",
         "rawType": "float16",
         "type": "float"
        },
        {
         "name": "520",
         "rawType": "float16",
         "type": "float"
        },
        {
         "name": "521",
         "rawType": "float16",
         "type": "float"
        },
        {
         "name": "522",
         "rawType": "float16",
         "type": "float"
        },
        {
         "name": "523",
         "rawType": "float16",
         "type": "float"
        },
        {
         "name": "524",
         "rawType": "float16",
         "type": "float"
        },
        {
         "name": "525",
         "rawType": "float16",
         "type": "float"
        },
        {
         "name": "526",
         "rawType": "float16",
         "type": "float"
        },
        {
         "name": "527",
         "rawType": "float16",
         "type": "float"
        },
        {
         "name": "528",
         "rawType": "float16",
         "type": "float"
        },
        {
         "name": "529",
         "rawType": "float16",
         "type": "float"
        },
        {
         "name": "530",
         "rawType": "float16",
         "type": "float"
        },
        {
         "name": "531",
         "rawType": "float16",
         "type": "float"
        },
        {
         "name": "532",
         "rawType": "float16",
         "type": "float"
        },
        {
         "name": "533",
         "rawType": "float16",
         "type": "float"
        },
        {
         "name": "534",
         "rawType": "float16",
         "type": "float"
        },
        {
         "name": "535",
         "rawType": "float16",
         "type": "float"
        },
        {
         "name": "536",
         "rawType": "float16",
         "type": "float"
        },
        {
         "name": "537",
         "rawType": "float16",
         "type": "float"
        },
        {
         "name": "538",
         "rawType": "float16",
         "type": "float"
        },
        {
         "name": "539",
         "rawType": "float16",
         "type": "float"
        },
        {
         "name": "540",
         "rawType": "float16",
         "type": "float"
        },
        {
         "name": "541",
         "rawType": "float16",
         "type": "float"
        },
        {
         "name": "542",
         "rawType": "float16",
         "type": "float"
        },
        {
         "name": "543",
         "rawType": "float16",
         "type": "float"
        },
        {
         "name": "544",
         "rawType": "float16",
         "type": "float"
        },
        {
         "name": "545",
         "rawType": "float16",
         "type": "float"
        },
        {
         "name": "546",
         "rawType": "float16",
         "type": "float"
        },
        {
         "name": "547",
         "rawType": "float16",
         "type": "float"
        },
        {
         "name": "548",
         "rawType": "float16",
         "type": "float"
        },
        {
         "name": "549",
         "rawType": "float16",
         "type": "float"
        },
        {
         "name": "550",
         "rawType": "float16",
         "type": "float"
        },
        {
         "name": "551",
         "rawType": "float16",
         "type": "float"
        },
        {
         "name": "552",
         "rawType": "float16",
         "type": "float"
        },
        {
         "name": "553",
         "rawType": "float16",
         "type": "float"
        },
        {
         "name": "554",
         "rawType": "float16",
         "type": "float"
        },
        {
         "name": "555",
         "rawType": "float16",
         "type": "float"
        },
        {
         "name": "556",
         "rawType": "float16",
         "type": "float"
        },
        {
         "name": "557",
         "rawType": "float16",
         "type": "float"
        },
        {
         "name": "558",
         "rawType": "float16",
         "type": "float"
        },
        {
         "name": "559",
         "rawType": "float16",
         "type": "float"
        },
        {
         "name": "560",
         "rawType": "float16",
         "type": "float"
        },
        {
         "name": "561",
         "rawType": "float16",
         "type": "float"
        },
        {
         "name": "562",
         "rawType": "float16",
         "type": "float"
        },
        {
         "name": "563",
         "rawType": "float16",
         "type": "float"
        },
        {
         "name": "564",
         "rawType": "float16",
         "type": "float"
        },
        {
         "name": "565",
         "rawType": "float16",
         "type": "float"
        },
        {
         "name": "566",
         "rawType": "float16",
         "type": "float"
        },
        {
         "name": "567",
         "rawType": "float16",
         "type": "float"
        },
        {
         "name": "568",
         "rawType": "float16",
         "type": "float"
        },
        {
         "name": "569",
         "rawType": "float16",
         "type": "float"
        },
        {
         "name": "570",
         "rawType": "float16",
         "type": "float"
        },
        {
         "name": "571",
         "rawType": "float16",
         "type": "float"
        },
        {
         "name": "572",
         "rawType": "float16",
         "type": "float"
        },
        {
         "name": "573",
         "rawType": "float16",
         "type": "float"
        },
        {
         "name": "574",
         "rawType": "float16",
         "type": "float"
        },
        {
         "name": "575",
         "rawType": "float16",
         "type": "float"
        },
        {
         "name": "576",
         "rawType": "float16",
         "type": "float"
        },
        {
         "name": "577",
         "rawType": "float16",
         "type": "float"
        },
        {
         "name": "578",
         "rawType": "float16",
         "type": "float"
        },
        {
         "name": "579",
         "rawType": "float16",
         "type": "float"
        },
        {
         "name": "580",
         "rawType": "float16",
         "type": "float"
        },
        {
         "name": "581",
         "rawType": "float16",
         "type": "float"
        },
        {
         "name": "582",
         "rawType": "float16",
         "type": "float"
        },
        {
         "name": "583",
         "rawType": "float16",
         "type": "float"
        },
        {
         "name": "584",
         "rawType": "float16",
         "type": "float"
        },
        {
         "name": "585",
         "rawType": "float16",
         "type": "float"
        },
        {
         "name": "586",
         "rawType": "float16",
         "type": "float"
        },
        {
         "name": "587",
         "rawType": "float16",
         "type": "float"
        },
        {
         "name": "588",
         "rawType": "float16",
         "type": "float"
        },
        {
         "name": "589",
         "rawType": "float16",
         "type": "float"
        },
        {
         "name": "590",
         "rawType": "float16",
         "type": "float"
        },
        {
         "name": "591",
         "rawType": "float16",
         "type": "float"
        },
        {
         "name": "592",
         "rawType": "float16",
         "type": "float"
        },
        {
         "name": "593",
         "rawType": "float16",
         "type": "float"
        },
        {
         "name": "594",
         "rawType": "float16",
         "type": "float"
        },
        {
         "name": "595",
         "rawType": "float16",
         "type": "float"
        },
        {
         "name": "596",
         "rawType": "float16",
         "type": "float"
        },
        {
         "name": "597",
         "rawType": "float16",
         "type": "float"
        },
        {
         "name": "598",
         "rawType": "float16",
         "type": "float"
        },
        {
         "name": "599",
         "rawType": "float16",
         "type": "float"
        },
        {
         "name": "600",
         "rawType": "float16",
         "type": "float"
        },
        {
         "name": "601",
         "rawType": "float16",
         "type": "float"
        },
        {
         "name": "602",
         "rawType": "float16",
         "type": "float"
        },
        {
         "name": "603",
         "rawType": "float16",
         "type": "float"
        },
        {
         "name": "604",
         "rawType": "float16",
         "type": "float"
        },
        {
         "name": "605",
         "rawType": "float16",
         "type": "float"
        },
        {
         "name": "606",
         "rawType": "float16",
         "type": "float"
        },
        {
         "name": "607",
         "rawType": "float16",
         "type": "float"
        },
        {
         "name": "608",
         "rawType": "float16",
         "type": "float"
        },
        {
         "name": "609",
         "rawType": "float16",
         "type": "float"
        },
        {
         "name": "610",
         "rawType": "float16",
         "type": "float"
        },
        {
         "name": "611",
         "rawType": "float16",
         "type": "float"
        },
        {
         "name": "612",
         "rawType": "float16",
         "type": "float"
        },
        {
         "name": "613",
         "rawType": "float16",
         "type": "float"
        },
        {
         "name": "614",
         "rawType": "float16",
         "type": "float"
        },
        {
         "name": "615",
         "rawType": "float16",
         "type": "float"
        },
        {
         "name": "616",
         "rawType": "float16",
         "type": "float"
        },
        {
         "name": "617",
         "rawType": "float16",
         "type": "float"
        },
        {
         "name": "618",
         "rawType": "float16",
         "type": "float"
        },
        {
         "name": "619",
         "rawType": "float16",
         "type": "float"
        },
        {
         "name": "620",
         "rawType": "float16",
         "type": "float"
        },
        {
         "name": "621",
         "rawType": "float16",
         "type": "float"
        },
        {
         "name": "622",
         "rawType": "float16",
         "type": "float"
        },
        {
         "name": "623",
         "rawType": "float16",
         "type": "float"
        },
        {
         "name": "624",
         "rawType": "float16",
         "type": "float"
        },
        {
         "name": "625",
         "rawType": "float16",
         "type": "float"
        },
        {
         "name": "626",
         "rawType": "float16",
         "type": "float"
        },
        {
         "name": "627",
         "rawType": "float16",
         "type": "float"
        },
        {
         "name": "628",
         "rawType": "float16",
         "type": "float"
        },
        {
         "name": "629",
         "rawType": "float16",
         "type": "float"
        },
        {
         "name": "630",
         "rawType": "float16",
         "type": "float"
        },
        {
         "name": "631",
         "rawType": "float16",
         "type": "float"
        },
        {
         "name": "632",
         "rawType": "float16",
         "type": "float"
        },
        {
         "name": "633",
         "rawType": "float16",
         "type": "float"
        },
        {
         "name": "634",
         "rawType": "float16",
         "type": "float"
        },
        {
         "name": "635",
         "rawType": "float16",
         "type": "float"
        },
        {
         "name": "636",
         "rawType": "float16",
         "type": "float"
        },
        {
         "name": "637",
         "rawType": "float16",
         "type": "float"
        },
        {
         "name": "638",
         "rawType": "float16",
         "type": "float"
        },
        {
         "name": "639",
         "rawType": "float16",
         "type": "float"
        },
        {
         "name": "640",
         "rawType": "float16",
         "type": "float"
        },
        {
         "name": "641",
         "rawType": "float16",
         "type": "float"
        },
        {
         "name": "642",
         "rawType": "float16",
         "type": "float"
        },
        {
         "name": "643",
         "rawType": "float16",
         "type": "float"
        },
        {
         "name": "644",
         "rawType": "float16",
         "type": "float"
        },
        {
         "name": "645",
         "rawType": "float16",
         "type": "float"
        },
        {
         "name": "646",
         "rawType": "float16",
         "type": "float"
        },
        {
         "name": "647",
         "rawType": "float16",
         "type": "float"
        },
        {
         "name": "648",
         "rawType": "float16",
         "type": "float"
        },
        {
         "name": "649",
         "rawType": "float16",
         "type": "float"
        },
        {
         "name": "650",
         "rawType": "float16",
         "type": "float"
        },
        {
         "name": "651",
         "rawType": "float16",
         "type": "float"
        },
        {
         "name": "652",
         "rawType": "float16",
         "type": "float"
        },
        {
         "name": "653",
         "rawType": "float16",
         "type": "float"
        },
        {
         "name": "654",
         "rawType": "float16",
         "type": "float"
        },
        {
         "name": "655",
         "rawType": "float16",
         "type": "float"
        },
        {
         "name": "656",
         "rawType": "float16",
         "type": "float"
        },
        {
         "name": "657",
         "rawType": "float16",
         "type": "float"
        },
        {
         "name": "658",
         "rawType": "float16",
         "type": "float"
        },
        {
         "name": "659",
         "rawType": "float16",
         "type": "float"
        },
        {
         "name": "660",
         "rawType": "float16",
         "type": "float"
        },
        {
         "name": "661",
         "rawType": "float16",
         "type": "float"
        },
        {
         "name": "662",
         "rawType": "float16",
         "type": "float"
        }
       ],
       "ref": "28d443a9-9917-468f-a604-df0504036bc2",
       "rows": [
        [
         "112",
         "3410.0",
         "3602.0",
         "3526.0",
         "3528.0",
         "3408.0",
         "3850.0",
         "3856.0",
         "3586.0",
         "2840.0",
         "3434.0",
         "2600.0",
         "2852.0",
         "4384.0",
         "3710.0",
         "3928.0",
         "4100.0",
         "3806.0",
         "3770.0",
         "3660.0",
         "3632.0",
         "3538.0",
         "3574.0",
         "1242.0",
         "1261.0",
         "1214.0",
         "1101.0",
         "1421.0",
         "1441.0",
         "1381.0",
         "1588.0",
         "1606.0",
         "1703.0",
         "1769.0",
         "1788.0",
         "1826.0",
         "1935.0",
         "1942.0",
         "2130.0",
         "2106.0",
         "2154.0",
         "4010.0",
         "4010.0",
         "3930.0",
         "3924.0",
         "3982.0",
         "2748.0",
         "2650.0",
         "2810.0",
         "2876.0",
         "2632.0",
         "3542.0",
         "3548.0",
         "3352.0",
         "3472.0",
         "3170.0",
         "3306.0",
         "3562.0",
         "3166.0",
         "3014.0",
         "3342.0",
         "3540.0",
         "3484.0",
         "3470.0",
         "3072.0",
         "2914.0",
         "3316.0",
         "3362.0",
         "3458.0",
         "3670.0",
         "3424.0",
         "3496.0",
         "3842.0",
         "3002.0",
         "2980.0",
         "3454.0",
         "3604.0",
         "3044.0",
         "3710.0",
         "3300.0",
         "3370.0",
         "3342.0",
         "4120.0",
         "4212.0",
         "3568.0",
         "3818.0",
         "3696.0",
         "2288.0",
         "2036.0",
         "2384.0",
         "2272.0",
         "3532.0",
         "1718.0",
         "1550.0",
         "1645.0",
         "1994.0",
         "1895.0",
         "1880.0",
         "1834.0",
         "2003.0",
         "2014.0",
         "1921.0",
         "2234.0",
         "2082.0",
         "3162.0",
         "2864.0",
         "2936.0",
         "3342.0",
         "2870.0",
         "2654.0",
         "3062.0",
         "2248.0",
         "2200.0",
         "2250.0",
         "2192.0",
         "2320.0",
         "2098.0",
         "1062.0",
         "1046.0",
         "1352.0",
         "919.0",
         "716.5",
         "1008.5",
         "417.0",
         "819.0",
         "746.0",
         "648.0",
         "866.0",
         "1273.0",
         "1379.0",
         "1752.0",
         "974.0",
         "1771.0",
         "1735.0",
         "890.5",
         "1048.0",
         "834.5",
         "1090.0",
         "3858.0",
         "3826.0",
         "3750.0",
         "3378.0",
         "3412.0",
         "3276.0",
         "3528.0",
         "3644.0",
         "3742.0",
         "3616.0",
         "3724.0",
         "3666.0",
         "3672.0",
         "2484.0",
         "2456.0",
         "2582.0",
         "2538.0",
         "2452.0",
         "2384.0",
         "2396.0",
         "2312.0",
         "2270.0",
         "2218.0",
         "2304.0",
         "2250.0",
         "2544.0",
         "2390.0",
         "2704.0",
         "2628.0",
         "2344.0",
         "2608.0",
         "1270.0",
         "1105.0",
         "1743.0",
         "1436.0",
         "1625.0",
         "1418.0",
         "1756.0",
         "1616.0",
         "2184.0",
         "1703.0",
         "1717.0",
         "1886.0",
         "1919.0",
         "1908.0",
         "1745.0",
         "1741.0",
         "1983.0",
         "1916.0",
         "1863.0",
         "1824.0",
         "2072.0",
         "4096.0",
         "4048.0",
         "4144.0",
         "4324.0",
         "4300.0",
         "4630.0",
         "4964.0",
         "4456.0",
         "1450.0",
         "1885.0",
         "2116.0",
         "1287.0",
         "1070.0",
         "1429.0",
         "1339.0",
         "2352.0",
         "3994.0",
         "3804.0",
         "4348.0",
         "3688.0",
         "4256.0",
         "4170.0",
         "3018.0",
         "2710.0",
         "3064.0",
         "2868.0",
         "3108.0",
         "2328.0",
         "2298.0",
         "2400.0",
         "2842.0",
         "3660.0",
         "2568.0",
         "2534.0",
         "2110.0",
         "4600.0",
         "4770.0",
         "1540.0",
         "1392.0",
         "1554.0",
         "3602.0",
         "4200.0",
         "4124.0",
         "4244.0",
         "4116.0",
         "4200.0",
         "3946.0",
         "4164.0",
         "3050.0",
         "3180.0",
         "3788.0",
         "4066.0",
         "1229.0",
         "1736.0",
         "1615.0",
         "1574.0",
         "1800.0",
         "1525.0",
         "1375.0",
         "1446.0",
         "1616.0",
         "1288.0",
         "1690.0",
         "2002.0",
         "4300.0",
         "4570.0",
         "4760.0",
         "4668.0",
         "4610.0",
         "4292.0",
         "4860.0",
         "4628.0",
         "4170.0",
         "3570.0",
         "3582.0",
         "798.0",
         "1091.0",
         "2310.0",
         "2650.0",
         "3090.0",
         "3762.0",
         "3264.0",
         "3402.0",
         "3138.0",
         "1799.0",
         "2248.0",
         "1837.0",
         "1344.0",
         "1810.0",
         "2042.0",
         "1737.0",
         "3746.0",
         "3858.0",
         "3844.0",
         "3574.0",
         "3574.0",
         "3144.0",
         "4070.0",
         "2000.0",
         "1160.0",
         "1514.0",
         "4788.0",
         "4120.0",
         "4172.0",
         "4348.0",
         "4396.0",
         "4204.0",
         "4650.0",
         "2844.0",
         "2792.0",
         "2856.0",
         "3644.0",
         "3428.0",
         "3652.0",
         "4082.0",
         "2344.0",
         "895.5",
         "1049.0",
         "934.5",
         "2746.0",
         "2150.0",
         "2250.0",
         "3060.0",
         "3024.0",
         "3630.0",
         "4084.0",
         "4090.0",
         "3912.0",
         "2090.0",
         "2076.0",
         "3374.0",
         "3356.0",
         "3378.0",
         "3280.0",
         "2240.0",
         "1974.0",
         "2068.0",
         "2043.0",
         "2110.0",
         "2060.0",
         "2110.0",
         "2456.0",
         "3392.0",
         "3420.0",
         "2950.0",
         "2734.0",
         "2950.0",
         "3914.0",
         "4784.0",
         "4610.0",
         "3414.0",
         "3510.0",
         "3292.0",
         "3216.0",
         "2234.0",
         "2110.0",
         "2246.0",
         "2168.0",
         "3408.0",
         "4044.0",
         "3188.0",
         "3304.0",
         "3286.0",
         "3420.0",
         "3262.0",
         "4624.0",
         "3048.0",
         "3556.0",
         "3330.0",
         "3494.0",
         "3496.0",
         "3512.0",
         "3480.0",
         "4324.0",
         "4316.0",
         "3862.0",
         "3938.0",
         "3538.0",
         "3614.0",
         "4264.0",
         "4108.0",
         "4212.0",
         "4470.0",
         "4228.0",
         "4132.0",
         "4190.0",
         "4548.0",
         "4532.0",
         "2568.0",
         "2290.0",
         "4970.0",
         "4640.0",
         "3598.0",
         "3606.0",
         "3342.0",
         "2254.0",
         "2378.0",
         "2248.0",
         "3766.0",
         "3866.0",
         "3392.0",
         "4416.0",
         "4584.0",
         "2376.0",
         "2526.0",
         "2280.0",
         "2042.0",
         "2290.0",
         "1891.0",
         "1636.0",
         "1799.0",
         "1742.0",
         "5300.0",
         "5884.0",
         "5480.0",
         "2550.0",
         "2716.0",
         "3464.0",
         "5684.0",
         "4670.0",
         "5456.0",
         "5370.0",
         "5710.0",
         "5464.0",
         "4828.0",
         "1603.0",
         "2026.0",
         "2050.0",
         "5256.0",
         "3128.0",
         "2870.0",
         "3300.0",
         "2884.0",
         "3650.0",
         "3700.0",
         "3700.0",
         "3684.0",
         "3514.0",
         "1090.0",
         "2698.0",
         "814.0",
         "3916.0",
         "3998.0",
         "3696.0",
         "4956.0",
         "4736.0",
         "3992.0",
         "4788.0",
         "4652.0",
         "5240.0",
         "4936.0",
         "4960.0",
         "6104.0",
         "5576.0",
         "5204.0",
         "5610.0",
         "3562.0",
         "3758.0",
         "3578.0",
         "3216.0",
         "2948.0",
         "2084.0",
         "1957.0",
         "2280.0",
         "2486.0",
         "2480.0",
         "3994.0",
         "3572.0",
         "3564.0",
         "3792.0",
         "3524.0",
         "3484.0",
         "3486.0",
         "3382.0",
         "3192.0",
         "3312.0",
         "2786.0",
         "2702.0",
         "2694.0",
         "2734.0",
         "2876.0",
         "3016.0",
         "2994.0",
         "3208.0",
         "4018.0",
         "2662.0",
         "2388.0",
         "1762.0",
         "1719.0",
         "1682.0",
         "1579.0",
         "1382.0",
         "1273.0",
         "1047.0",
         "1001.0",
         "708.5",
         "773.5",
         "803.0",
         "1287.0",
         "855.5",
         "957.0",
         "1064.0",
         "1473.0",
         "1253.0",
         "1745.0",
         "1879.0",
         "2039.0",
         "2092.0",
         "5244.0",
         "5264.0",
         "5456.0",
         "3810.0",
         "4014.0",
         "4008.0",
         "3970.0",
         "2146.0",
         "2178.0",
         "2090.0",
         "2060.0",
         "2068.0",
         "2068.0",
         "2074.0",
         "2540.0",
         "2998.0",
         "3722.0",
         "3782.0",
         "3756.0",
         "3852.0",
         "3864.0",
         "3878.0",
         "4244.0",
         "4260.0",
         "4260.0",
         "3866.0",
         "4340.0",
         "4230.0",
         "3808.0",
         "3904.0",
         "2986.0",
         "2464.0",
         "2500.0",
         "2414.0",
         "2548.0",
         "2688.0",
         "2706.0",
         "2832.0",
         "2404.0",
         "2966.0",
         "2540.0",
         "2242.0",
         "2362.0",
         "2590.0",
         "2862.0",
         "2496.0",
         "4330.0",
         "4556.0",
         "5330.0",
         "5332.0",
         "5270.0",
         "5280.0",
         "5230.0",
         "5204.0",
         "5220.0",
         "2888.0",
         "2640.0",
         "3796.0",
         "4940.0",
         "4972.0",
         "4830.0",
         "4908.0",
         "4870.0",
         "4868.0",
         "4372.0",
         "4692.0",
         "4190.0",
         "4650.0",
         "4970.0",
         "5696.0",
         "5690.0",
         "6060.0",
         "5476.0",
         "5564.0",
         "5576.0",
         "5576.0",
         "5468.0",
         "4972.0",
         "4890.0",
         "5212.0",
         "4548.0",
         "5756.0",
         "5770.0",
         "5644.0",
         "5476.0",
         "5490.0",
         "5308.0",
         "5464.0",
         "5330.0",
         "5670.0",
         "2682.0",
         "2840.0",
         "2670.0",
         "2986.0",
         "3170.0",
         "2482.0",
         "2606.0",
         "2578.0",
         "2848.0",
         "2360.0",
         "4110.0",
         "980.5",
         "3770.0",
         "2384.0",
         "3598.0",
         "3866.0",
         "3772.0",
         "3938.0",
         "1524.0",
         "3164.0",
         "3138.0",
         "3030.0",
         "2866.0",
         "2564.0",
         "2516.0",
         "2378.0",
         "2206.0",
         "2066.0",
         "1909.0",
         "1884.0",
         "1855.0",
         "1546.0",
         "1460.0",
         "1335.0",
         "1724.0",
         "1736.0",
         "1556.0",
         "5584.0",
         "5296.0",
         "5124.0",
         "5340.0",
         "5452.0",
         "5004.0",
         "5236.0",
         "4836.0",
         "4790.0",
         "4948.0",
         "5108.0",
         "5080.0",
         "5064.0",
         "4936.0",
         "5476.0",
         "5690.0",
         "5970.0",
         "5236.0",
         "5210.0",
         "4908.0",
         "5224.0",
         "5980.0",
         "5940.0",
         "5948.0",
         "4820.0",
         "4830.0",
         "5252.0",
         "1929.0",
         "2634.0",
         "2690.0",
         "3186.0",
         "4052.0",
         "3222.0",
         "4356.0",
         "4544.0",
         "4156.0",
         "4572.0",
         "4950.0",
         "4972.0"
        ],
        [
         "113",
         "2096.0",
         "2288.0",
         "2212.0",
         "2212.0",
         "2094.0",
         "2348.0",
         "2354.0",
         "2270.0",
         "1179.0",
         "1774.0",
         "939.0",
         "1191.0",
         "5236.0",
         "4570.0",
         "4790.0",
         "4956.0",
         "4660.0",
         "4624.0",
         "4516.0",
         "4490.0",
         "4396.0",
         "4428.0",
         "525.0",
         "499.5",
         "821.5",
         "662.5",
         "352.2",
         "316.2",
         "659.0",
         "184.0",
         "146.5",
         "299.0",
         "183.5",
         "91.75",
         "240.2",
         "273.8",
         "244.8",
         "468.8",
         "445.5",
         "493.8",
         "2348.0",
         "2348.0",
         "2268.0",
         "2262.0",
         "2322.0",
         "1088.0",
         "988.5",
         "1148.0",
         "1215.0",
         "1291.0",
         "2824.0",
         "2830.0",
         "2634.0",
         "2216.0",
         "1914.0",
         "2050.0",
         "2298.0",
         "1894.0",
         "1757.0",
         "2062.0",
         "2274.0",
         "2192.0",
         "2168.0",
         "1757.0",
         "1599.0",
         "2000.0",
         "2047.0",
         "2144.0",
         "2356.0",
         "2110.0",
         "2780.0",
         "3124.0",
         "2284.0",
         "2218.0",
         "2690.0",
         "2842.0",
         "2282.0",
         "2454.0",
         "3708.0",
         "3776.0",
         "3218.0",
         "4564.0",
         "4650.0",
         "3758.0",
         "3100.0",
         "3754.0",
         "3134.0",
         "2888.0",
         "3234.0",
         "3126.0",
         "4388.0",
         "2578.0",
         "2412.0",
         "2508.0",
         "2850.0",
         "2758.0",
         "2742.0",
         "2710.0",
         "2864.0",
         "2876.0",
         "2818.0",
         "3090.0",
         "2942.0",
         "4024.0",
         "3722.0",
         "3798.0",
         "4196.0",
         "3732.0",
         "3514.0",
         "3924.0",
         "3110.0",
         "3062.0",
         "3112.0",
         "3054.0",
         "3220.0",
         "2958.0",
         "1924.0",
         "1926.0",
         "2214.0",
         "1780.0",
         "1610.0",
         "1643.0",
         "1618.0",
         "2080.0",
         "1328.0",
         "1098.0",
         "1277.0",
         "2534.0",
         "2640.0",
         "2690.0",
         "2236.0",
         "2712.0",
         "2674.0",
         "921.0",
         "759.0",
         "911.0",
         "652.0",
         "2196.0",
         "2164.0",
         "2090.0",
         "1716.0",
         "1751.0",
         "1614.0",
         "1868.0",
         "1983.0",
         "2082.0",
         "1954.0",
         "2062.0",
         "2005.0",
         "2012.0",
         "823.5",
         "794.0",
         "921.0",
         "877.0",
         "814.5",
         "1039.0",
         "753.0",
         "651.5",
         "832.0",
         "882.5",
         "965.5",
         "937.0",
         "1205.0",
         "1076.0",
         "1366.0",
         "1312.0",
         "682.5",
         "947.5",
         "892.0",
         "1040.0",
         "1312.0",
         "712.5",
         "867.0",
         "697.5",
         "530.0",
         "594.5",
         "978.0",
         "446.8",
         "473.5",
         "568.5",
         "630.5",
         "606.5",
         "1314.0",
         "1360.0",
         "2920.0",
         "2852.0",
         "2804.0",
         "2760.0",
         "2974.0",
         "4750.0",
         "4704.0",
         "4804.0",
         "4756.0",
         "4732.0",
         "4836.0",
         "5190.0",
         "4892.0",
         "2312.0",
         "2662.0",
         "2980.0",
         "2218.0",
         "2000.0",
         "2290.0",
         "2268.0",
         "3208.0",
         "4852.0",
         "4660.0",
         "5204.0",
         "2972.0",
         "4692.0",
         "4676.0",
         "2042.0",
         "1736.0",
         "2090.0",
         "2104.0",
         "1924.0",
         "1013.0",
         "984.5",
         "1087.0",
         "1527.0",
         "2000.0",
         "1254.0",
         "1220.0",
         "413.2",
         "4400.0",
         "4680.0",
         "494.5",
         "671.5",
         "520.0",
         "4010.0",
         "4996.0",
         "4916.0",
         "4900.0",
         "4910.0",
         "5036.0",
         "4740.0",
         "4824.0",
         "3846.0",
         "4038.0",
         "4644.0",
         "4860.0",
         "836.0",
         "2670.0",
         "2550.0",
         "2512.0",
         "2674.0",
         "2460.0",
         "2314.0",
         "2382.0",
         "2478.0",
         "2226.0",
         "2628.0",
         "2902.0",
         "4034.0",
         "4372.0",
         "4676.0",
         "4650.0",
         "4588.0",
         "4026.0",
         "4772.0",
         "4730.0",
         "3912.0",
         "2928.0",
         "2940.0",
         "1461.0",
         "1722.0",
         "648.5",
         "1335.0",
         "1774.0",
         "2114.0",
         "1952.0",
         "2088.0",
         "1823.0",
         "2290.0",
         "1820.0",
         "2288.0",
         "1807.0",
         "2748.0",
         "2980.0",
         "2678.0",
         "3532.0",
         "3632.0",
         "3128.0",
         "2312.0",
         "2308.0",
         "3998.0",
         "4864.0",
         "2856.0",
         "2096.0",
         "2374.0",
         "5224.0",
         "3842.0",
         "3894.0",
         "3632.0",
         "4124.0",
         "3928.0",
         "4630.0",
         "2126.0",
         "1130.0",
         "1195.0",
         "1983.0",
         "1768.0",
         "1991.0",
         "2422.0",
         "682.0",
         "1172.0",
         "983.5",
         "1137.0",
         "1451.0",
         "3072.0",
         "3112.0",
         "3854.0",
         "3820.0",
         "1969.0",
         "2424.0",
         "2430.0",
         "2250.0",
         "2952.0",
         "2932.0",
         "3854.0",
         "3870.0",
         "3786.0",
         "3936.0",
         "578.5",
         "1236.0",
         "1330.0",
         "1165.0",
         "1131.0",
         "1064.0",
         "1131.0",
         "1563.0",
         "2078.0",
         "2106.0",
         "3746.0",
         "3394.0",
         "3744.0",
         "2254.0",
         "5216.0",
         "4410.0",
         "2100.0",
         "2196.0",
         "1977.0",
         "1902.0",
         "919.5",
         "802.0",
         "584.5",
         "508.0",
         "3814.0",
         "3864.0",
         "3810.0",
         "3712.0",
         "3942.0",
         "3828.0",
         "3918.0",
         "4610.0",
         "1735.0",
         "2242.0",
         "2042.0",
         "2180.0",
         "2182.0",
         "2198.0",
         "2166.0",
         "3606.0",
         "3600.0",
         "3144.0",
         "2682.0",
         "2224.0",
         "2300.0",
         "4676.0",
         "4900.0",
         "5004.0",
         "5270.0",
         "5020.0",
         "4924.0",
         "4984.0",
         "5348.0",
         "5332.0",
         "3428.0",
         "3152.0",
         "4692.0",
         "4440.0",
         "2342.0",
         "2350.0",
         "2086.0",
         "1274.0",
         "1403.0",
         "1269.0",
         "3048.0",
         "3146.0",
         "3224.0",
         "4140.0",
         "4304.0",
         "1402.0",
         "1551.0",
         "1593.0",
         "1354.0",
         "1524.0",
         "1199.0",
         "878.5",
         "1041.0",
         "1063.0",
         "5530.0",
         "5610.0",
         "5710.0",
         "1574.0",
         "1743.0",
         "2150.0",
         "6544.0",
         "5532.0",
         "6310.0",
         "6228.0",
         "6572.0",
         "6320.0",
         "5684.0",
         "566.5",
         "1031.0",
         "736.5",
         "4980.0",
         "1877.0",
         "1621.0",
         "2044.0",
         "1222.0",
         "1989.0",
         "2104.0",
         "2038.0",
         "2030.0",
         "2198.0",
         "1021.5",
         "3324.0",
         "934.5",
         "2254.0",
         "2444.0",
         "2034.0",
         "4680.0",
         "4018.0",
         "2736.0",
         "4510.0",
         "4380.0",
         "4964.0",
         "4656.0",
         "4680.0",
         "5828.0",
         "6372.0",
         "5996.0",
         "6400.0",
         "2846.0",
         "3038.0",
         "4430.0",
         "4072.0",
         "3764.0",
         "2940.0",
         "2716.0",
         "3140.0",
         "3348.0",
         "3336.0",
         "2332.0",
         "2280.0",
         "2272.0",
         "2506.0",
         "2210.0",
         "2170.0",
         "2172.0",
         "2068.0",
         "1879.0",
         "1652.0",
         "1125.0",
         "1387.0",
         "1380.0",
         "1419.0",
         "1562.0",
         "1702.0",
         "1680.0",
         "1894.0",
         "2464.0",
         "2328.0",
         "1625.0",
         "2702.0",
         "2658.0",
         "2622.0",
         "2518.0",
         "2322.0",
         "2246.0",
         "2022.0",
         "2260.0",
         "1602.0",
         "1361.0",
         "1346.0",
         "1796.0",
         "1267.0",
         "1167.0",
         "997.5",
         "1659.0",
         "861.0",
         "503.5",
         "577.0",
         "725.0",
         "780.5",
         "6104.0",
         "6120.0",
         "6316.0",
         "2552.0",
         "2758.0",
         "2752.0",
         "2400.0",
         "485.5",
         "516.0",
         "739.0",
         "714.0",
         "753.5",
         "756.5",
         "772.5",
         "1245.0",
         "1741.0",
         "2464.0",
         "2526.0",
         "2500.0",
         "2596.0",
         "2606.0",
         "2620.0",
         "3528.0",
         "3540.0",
         "3544.0",
         "3148.0",
         "3624.0",
         "3518.0",
         "2550.0",
         "2648.0",
         "1730.0",
         "1570.0",
         "1526.0",
         "1650.0",
         "1574.0",
         "1457.0",
         "1484.0",
         "1582.0",
         "1129.0",
         "1708.0",
         "1262.0",
         "1814.0",
         "1646.0",
         "3446.0",
         "3718.0",
         "3352.0",
         "3614.0",
         "3838.0",
         "6124.0",
         "6130.0",
         "6064.0",
         "6070.0",
         "6024.0",
         "6000.0",
         "6012.0",
         "3518.0",
         "3268.0",
         "2510.0",
         "5796.0",
         "5828.0",
         "5692.0",
         "5764.0",
         "5732.0",
         "5730.0",
         "5228.0",
         "5550.0",
         "5052.0",
         "5504.0",
         "4692.0",
         "6556.0",
         "6544.0",
         "6920.0",
         "6332.0",
         "6420.0",
         "6430.0",
         "6430.0",
         "6330.0",
         "5830.0",
         "5744.0",
         "6010.0",
         "5344.0",
         "6616.0",
         "6624.0",
         "6500.0",
         "6336.0",
         "6344.0",
         "6164.0",
         "6324.0",
         "6188.0",
         "6532.0",
         "3538.0",
         "3690.0",
         "3526.0",
         "3788.0",
         "3826.0",
         "3338.0",
         "3462.0",
         "3432.0",
         "3698.0",
         "3216.0",
         "3976.0",
         "2242.0",
         "3052.0",
         "1667.0",
         "2836.0",
         "2606.0",
         "3054.0",
         "2680.0",
         "2386.0",
         "1849.0",
         "1823.0",
         "1714.0",
         "1551.0",
         "1280.0",
         "1223.0",
         "1103.0",
         "1001.5",
         "1070.0",
         "1169.0",
         "1145.0",
         "1171.0",
         "1470.0",
         "1646.0",
         "2196.0",
         "2586.0",
         "2596.0",
         "1480.0",
         "6444.0",
         "6156.0",
         "5980.0",
         "6196.0",
         "6310.0",
         "5864.0",
         "6092.0",
         "5696.0",
         "5652.0",
         "5804.0",
         "5970.0",
         "5936.0",
         "5924.0",
         "5796.0",
         "6336.0",
         "6548.0",
         "6824.0",
         "6092.0",
         "6068.0",
         "5770.0",
         "6084.0",
         "6840.0",
         "6796.0",
         "6810.0",
         "5676.0",
         "5692.0",
         "6110.0",
         "2718.0",
         "3262.0",
         "3318.0",
         "3806.0",
         "4708.0",
         "3880.0",
         "5212.0",
         "5340.0",
         "5012.0",
         "5364.0",
         "4676.0",
         "5200.0"
        ],
        [
         "114",
         "3920.0",
         "4116.0",
         "4036.0",
         "4038.0",
         "3918.0",
         "4364.0",
         "4370.0",
         "4096.0",
         "3352.0",
         "3944.0",
         "3110.0",
         "3362.0",
         "4892.0",
         "4220.0",
         "4436.0",
         "4610.0",
         "4316.0",
         "4280.0",
         "4172.0",
         "4144.0",
         "4048.0",
         "4084.0",
         "1753.0",
         "1772.0",
         "1725.0",
         "1611.0",
         "1933.0",
         "1952.0",
         "1892.0",
         "2098.0",
         "2116.0",
         "2214.0",
         "2280.0",
         "2300.0",
         "2336.0",
         "2446.0",
         "2452.0",
         "2640.0",
         "2616.0",
         "2666.0",
         "4520.0",
         "4520.0",
         "4440.0",
         "4436.0",
         "4492.0",
         "3260.0",
         "3160.0",
         "3320.0",
         "3386.0",
         "3142.0",
         "4052.0",
         "4058.0",
         "3862.0",
         "3982.0",
         "3682.0",
         "3820.0",
         "4072.0",
         "3678.0",
         "3524.0",
         "3852.0",
         "4050.0",
         "3994.0",
         "3980.0",
         "3582.0",
         "3424.0",
         "3826.0",
         "3872.0",
         "3968.0",
         "4180.0",
         "3934.0",
         "4006.0",
         "4350.0",
         "3512.0",
         "3490.0",
         "3964.0",
         "4116.0",
         "3554.0",
         "4220.0",
         "3810.0",
         "3880.0",
         "3854.0",
         "4628.0",
         "4724.0",
         "4078.0",
         "4330.0",
         "4210.0",
         "2798.0",
         "2548.0",
         "2896.0",
         "2782.0",
         "4044.0",
         "2228.0",
         "2060.0",
         "2156.0",
         "2504.0",
         "2406.0",
         "2390.0",
         "2344.0",
         "2512.0",
         "2524.0",
         "2432.0",
         "2746.0",
         "2592.0",
         "3672.0",
         "3376.0",
         "3446.0",
         "3852.0",
         "3382.0",
         "3164.0",
         "3574.0",
         "2760.0",
         "2712.0",
         "2764.0",
         "2702.0",
         "2830.0",
         "2608.0",
         "1573.0",
         "1558.0",
         "1864.0",
         "1430.0",
         "1227.0",
         "1519.0",
         "928.0",
         "1330.0",
         "1257.0",
         "1159.0",
         "1377.0",
         "1784.0",
         "1889.0",
         "2264.0",
         "1485.0",
         "2282.0",
         "2246.0",
         "1402.0",
         "1558.0",
         "1345.0",
         "1601.0",
         "4370.0",
         "4336.0",
         "4264.0",
         "3888.0",
         "3922.0",
         "3786.0",
         "4038.0",
         "4150.0",
         "4252.0",
         "4130.0",
         "4230.0",
         "4176.0",
         "4184.0",
         "2996.0",
         "2966.0",
         "3094.0",
         "3048.0",
         "2962.0",
         "2894.0",
         "2906.0",
         "2822.0",
         "2780.0",
         "2730.0",
         "2814.0",
         "2762.0",
         "3056.0",
         "2902.0",
         "3216.0",
         "3138.0",
         "2854.0",
         "3120.0",
         "1781.0",
         "1616.0",
         "2254.0",
         "1948.0",
         "2136.0",
         "1929.0",
         "2266.0",
         "2128.0",
         "2694.0",
         "2214.0",
         "2228.0",
         "2398.0",
         "2428.0",
         "2420.0",
         "2256.0",
         "2252.0",
         "2494.0",
         "2426.0",
         "2374.0",
         "2334.0",
         "2584.0",
         "4610.0",
         "4560.0",
         "4652.0",
         "4830.0",
         "4810.0",
         "5144.0",
         "5476.0",
         "4970.0",
         "1961.0",
         "2396.0",
         "2628.0",
         "1799.0",
         "1581.0",
         "1939.0",
         "1849.0",
         "2862.0",
         "4504.0",
         "4316.0",
         "4856.0",
         "4200.0",
         "4770.0",
         "4680.0",
         "3528.0",
         "3222.0",
         "3574.0",
         "3378.0",
         "3618.0",
         "2838.0",
         "2808.0",
         "2912.0",
         "3352.0",
         "4172.0",
         "3080.0",
         "3044.0",
         "2622.0",
         "5108.0",
         "5276.0",
         "2052.0",
         "1903.0",
         "2066.0",
         "4110.0",
         "4710.0",
         "4636.0",
         "4756.0",
         "4624.0",
         "4710.0",
         "4456.0",
         "4670.0",
         "3560.0",
         "3692.0",
         "4300.0",
         "4580.0",
         "1739.0",
         "2248.0",
         "2126.0",
         "2084.0",
         "2312.0",
         "2037.0",
         "1885.0",
         "1957.0",
         "2126.0",
         "1798.0",
         "2202.0",
         "2512.0",
         "4810.0",
         "5080.0",
         "5268.0",
         "5176.0",
         "5116.0",
         "4800.0",
         "5370.0",
         "5140.0",
         "4680.0",
         "4082.0",
         "4092.0",
         "1309.0",
         "1602.0",
         "2820.0",
         "3160.0",
         "3600.0",
         "4270.0",
         "3778.0",
         "3912.0",
         "3648.0",
         "2308.0",
         "2758.0",
         "2348.0",
         "1856.0",
         "2320.0",
         "2554.0",
         "2248.0",
         "4256.0",
         "4364.0",
         "4356.0",
         "4084.0",
         "4086.0",
         "3654.0",
         "4580.0",
         "2510.0",
         "1671.0",
         "2025.0",
         "5300.0",
         "4628.0",
         "4684.0",
         "4860.0",
         "4908.0",
         "4716.0",
         "5156.0",
         "3354.0",
         "3302.0",
         "3368.0",
         "4156.0",
         "3938.0",
         "4164.0",
         "4596.0",
         "2854.0",
         "1406.0",
         "1560.0",
         "1446.0",
         "3256.0",
         "2660.0",
         "2760.0",
         "3570.0",
         "3534.0",
         "4140.0",
         "4596.0",
         "4600.0",
         "4420.0",
         "2602.0",
         "2588.0",
         "3884.0",
         "3866.0",
         "3888.0",
         "3792.0",
         "2750.0",
         "2486.0",
         "2578.0",
         "2554.0",
         "2622.0",
         "2570.0",
         "2622.0",
         "2968.0",
         "3902.0",
         "3930.0",
         "3462.0",
         "3246.0",
         "3460.0",
         "4424.0",
         "5296.0",
         "5116.0",
         "3924.0",
         "4024.0",
         "3802.0",
         "3726.0",
         "2744.0",
         "2620.0",
         "2756.0",
         "2680.0",
         "3918.0",
         "4550.0",
         "3700.0",
         "3816.0",
         "3796.0",
         "3930.0",
         "3772.0",
         "5132.0",
         "3560.0",
         "4068.0",
         "3842.0",
         "4004.0",
         "4006.0",
         "4024.0",
         "3992.0",
         "4836.0",
         "4828.0",
         "4372.0",
         "4450.0",
         "4048.0",
         "4124.0",
         "4780.0",
         "4620.0",
         "4724.0",
         "4984.0",
         "4736.0",
         "4644.0",
         "4704.0",
         "5060.0",
         "5050.0",
         "3078.0",
         "2800.0",
         "5480.0",
         "5148.0",
         "4108.0",
         "4120.0",
         "3854.0",
         "2764.0",
         "2888.0",
         "2758.0",
         "4276.0",
         "4376.0",
         "3904.0",
         "4930.0",
         "5092.0",
         "2886.0",
         "3038.0",
         "2790.0",
         "2554.0",
         "2802.0",
         "2402.0",
         "2148.0",
         "2308.0",
         "2254.0",
         "5812.0",
         "6396.0",
         "5988.0",
         "3060.0",
         "3228.0",
         "3976.0",
         "6196.0",
         "5184.0",
         "5970.0",
         "5880.0",
         "6224.0",
         "5976.0",
         "5340.0",
         "2114.0",
         "2536.0",
         "2562.0",
         "5770.0",
         "3638.0",
         "3382.0",
         "3812.0",
         "3394.0",
         "4160.0",
         "4212.0",
         "4210.0",
         "4190.0",
         "4026.0",
         "1601.0",
         "3208.0",
         "1325.0",
         "4424.0",
         "4508.0",
         "4204.0",
         "5468.0",
         "5250.0",
         "4500.0",
         "5300.0",
         "5170.0",
         "5750.0",
         "5450.0",
         "5470.0",
         "6616.0",
         "6090.0",
         "5716.0",
         "6116.0",
         "4076.0",
         "4268.0",
         "4088.0",
         "3726.0",
         "3460.0",
         "2596.0",
         "2468.0",
         "2790.0",
         "2998.0",
         "2990.0",
         "4504.0",
         "4084.0",
         "4074.0",
         "4300.0",
         "4034.0",
         "3996.0",
         "3998.0",
         "3892.0",
         "3706.0",
         "3824.0",
         "3296.0",
         "3212.0",
         "3204.0",
         "3244.0",
         "3386.0",
         "3528.0",
         "3504.0",
         "3718.0",
         "4532.0",
         "3172.0",
         "2898.0",
         "2272.0",
         "2230.0",
         "2194.0",
         "2090.0",
         "1893.0",
         "1785.0",
         "1558.0",
         "1512.0",
         "1219.0",
         "1285.0",
         "1314.0",
         "1798.0",
         "1367.0",
         "1468.0",
         "1574.0",
         "1984.0",
         "1764.0",
         "2256.0",
         "2390.0",
         "2550.0",
         "2602.0",
         "5756.0",
         "5772.0",
         "5970.0",
         "4320.0",
         "4530.0",
         "4516.0",
         "4480.0",
         "2658.0",
         "2688.0",
         "2600.0",
         "2572.0",
         "2580.0",
         "2578.0",
         "2586.0",
         "3050.0",
         "3508.0",
         "4230.0",
         "4292.0",
         "4268.0",
         "4364.0",
         "4376.0",
         "4388.0",
         "4750.0",
         "4770.0",
         "4772.0",
         "4380.0",
         "4852.0",
         "4744.0",
         "4320.0",
         "4412.0",
         "3496.0",
         "2974.0",
         "3010.0",
         "2924.0",
         "3060.0",
         "3200.0",
         "3218.0",
         "3344.0",
         "2914.0",
         "3476.0",
         "3052.0",
         "2752.0",
         "2872.0",
         "3102.0",
         "3372.0",
         "3008.0",
         "4840.0",
         "5064.0",
         "5836.0",
         "5844.0",
         "5784.0",
         "5788.0",
         "5740.0",
         "5716.0",
         "5732.0",
         "3398.0",
         "3152.0",
         "4304.0",
         "5450.0",
         "5480.0",
         "5344.0",
         "5416.0",
         "5384.0",
         "5380.0",
         "4880.0",
         "5204.0",
         "4704.0",
         "5160.0",
         "5480.0",
         "6210.0",
         "6196.0",
         "6572.0",
         "5984.0",
         "6070.0",
         "6084.0",
         "6084.0",
         "5980.0",
         "5484.0",
         "5396.0",
         "5724.0",
         "5060.0",
         "6268.0",
         "6276.0",
         "6150.0",
         "5988.0",
         "5996.0",
         "5816.0",
         "5976.0",
         "5840.0",
         "6184.0",
         "3192.0",
         "3352.0",
         "3180.0",
         "3498.0",
         "3680.0",
         "2992.0",
         "3116.0",
         "3088.0",
         "3360.0",
         "2872.0",
         "4624.0",
         "1491.0",
         "4280.0",
         "2894.0",
         "4108.0",
         "4376.0",
         "4284.0",
         "4450.0",
         "2035.0",
         "3674.0",
         "3648.0",
         "3540.0",
         "3376.0",
         "3074.0",
         "3026.0",
         "2888.0",
         "2718.0",
         "2578.0",
         "2418.0",
         "2396.0",
         "2366.0",
         "2058.0",
         "1971.0",
         "1846.0",
         "2234.0",
         "2246.0",
         "2068.0",
         "6096.0",
         "5810.0",
         "5630.0",
         "5850.0",
         "5964.0",
         "5516.0",
         "5744.0",
         "5348.0",
         "5304.0",
         "5456.0",
         "5620.0",
         "5588.0",
         "5576.0",
         "5450.0",
         "5988.0",
         "6200.0",
         "6476.0",
         "5744.0",
         "5720.0",
         "5420.0",
         "5736.0",
         "6492.0",
         "6452.0",
         "6460.0",
         "5330.0",
         "5344.0",
         "5764.0",
         "2440.0",
         "3144.0",
         "3200.0",
         "3698.0",
         "4564.0",
         "3734.0",
         "4864.0",
         "5056.0",
         "4668.0",
         "5080.0",
         "5464.0",
         "5484.0"
        ],
        [
         "115",
         "3046.0",
         "3238.0",
         "3160.0",
         "3160.0",
         "3040.0",
         "3298.0",
         "3302.0",
         "3218.0",
         "2128.0",
         "2724.0",
         "1888.0",
         "2140.0",
         "4756.0",
         "4084.0",
         "4304.0",
         "4476.0",
         "4180.0",
         "4148.0",
         "4036.0",
         "4008.0",
         "3914.0",
         "3948.0",
         "558.0",
         "528.5",
         "968.5",
         "370.5",
         "738.0",
         "708.5",
         "1089.0",
         "896.5",
         "873.5",
         "1012.5",
         "1078.0",
         "1041.0",
         "1134.0",
         "1223.0",
         "1193.0",
         "1418.0",
         "1395.0",
         "1443.0",
         "3298.0",
         "3296.0",
         "3218.0",
         "3212.0",
         "3270.0",
         "2037.0",
         "1937.0",
         "2096.0",
         "2164.0",
         "2240.0",
         "3308.0",
         "3314.0",
         "3116.0",
         "3158.0",
         "2856.0",
         "2992.0",
         "3242.0",
         "2836.0",
         "2698.0",
         "3012.0",
         "3222.0",
         "3140.0",
         "3116.0",
         "2706.0",
         "2546.0",
         "2948.0",
         "2996.0",
         "3094.0",
         "3306.0",
         "3060.0",
         "3260.0",
         "3606.0",
         "2766.0",
         "2734.0",
         "3206.0",
         "3360.0",
         "2798.0",
         "3396.0",
         "3586.0",
         "3654.0",
         "3628.0",
         "4436.0",
         "4524.0",
         "3852.0",
         "3582.0",
         "3980.0",
         "2662.0",
         "2412.0",
         "2762.0",
         "2646.0",
         "3908.0",
         "2094.0",
         "1925.0",
         "2021.0",
         "2370.0",
         "2270.0",
         "2256.0",
         "2224.0",
         "2380.0",
         "2388.0",
         "2332.0",
         "2612.0",
         "2458.0",
         "3536.0",
         "3242.0",
         "3310.0",
         "3716.0",
         "3246.0",
         "3028.0",
         "3438.0",
         "2626.0",
         "2576.0",
         "2628.0",
         "2568.0",
         "2734.0",
         "2472.0",
         "1439.0",
         "1441.0",
         "1729.0",
         "1295.0",
         "1125.0",
         "1158.0",
         "925.5",
         "1377.0",
         "771.0",
         "319.8",
         "778.0",
         "1831.0",
         "1936.0",
         "2198.0",
         "1532.0",
         "2216.0",
         "2180.0",
         "92.56",
         "249.9",
         "183.6",
         "360.0",
         "3144.0",
         "3114.0",
         "3040.0",
         "2664.0",
         "2700.0",
         "2564.0",
         "2816.0",
         "2932.0",
         "3032.0",
         "2904.0",
         "3010.0",
         "2954.0",
         "2962.0",
         "1772.0",
         "1743.0",
         "1870.0",
         "1826.0",
         "1764.0",
         "1989.0",
         "1702.0",
         "1600.0",
         "1781.0",
         "1831.0",
         "1915.0",
         "1885.0",
         "2156.0",
         "2025.0",
         "2314.0",
         "2262.0",
         "1632.0",
         "1896.0",
         "1036.0",
         "870.5",
         "1517.0",
         "1173.0",
         "1356.0",
         "1137.0",
         "1427.0",
         "1307.0",
         "1878.0",
         "1344.0",
         "1371.0",
         "1518.0",
         "1573.0",
         "1549.0",
         "1519.0",
         "1514.0",
         "2428.0",
         "2362.0",
         "2308.0",
         "2270.0",
         "2488.0",
         "4412.0",
         "4364.0",
         "4464.0",
         "4636.0",
         "4612.0",
         "4920.0",
         "5276.0",
         "4770.0",
         "1826.0",
         "2202.0",
         "2492.0",
         "1729.0",
         "1511.0",
         "1805.0",
         "1780.0",
         "2726.0",
         "4372.0",
         "4180.0",
         "4730.0",
         "3454.0",
         "4570.0",
         "4484.0",
         "2756.0",
         "2448.0",
         "2802.0",
         "2622.0",
         "2824.0",
         "1962.0",
         "1933.0",
         "2035.0",
         "2476.0",
         "2948.0",
         "2202.0",
         "2170.0",
         "1362.0",
         "4880.0",
         "5052.0",
         "1208.0",
         "1111.0",
         "1233.0",
         "3886.0",
         "4576.0",
         "4500.0",
         "4560.0",
         "4492.0",
         "4580.0",
         "4324.0",
         "4484.0",
         "3426.0",
         "3558.0",
         "4164.0",
         "4444.0",
         "992.5",
         "2182.0",
         "2060.0",
         "2019.0",
         "2188.0",
         "1972.0",
         "1820.0",
         "1892.0",
         "1992.0",
         "1733.0",
         "2136.0",
         "2416.0",
         "4516.0",
         "4856.0",
         "5050.0",
         "4950.0",
         "4890.0",
         "4508.0",
         "5144.0",
         "4916.0",
         "4396.0",
         "3412.0",
         "3422.0",
         "976.5",
         "1236.0",
         "1597.0",
         "2284.0",
         "2724.0",
         "3064.0",
         "2900.0",
         "3038.0",
         "2772.0",
         "1830.0",
         "2022.0",
         "1839.0",
         "1346.0",
         "2254.0",
         "2488.0",
         "2182.0",
         "4014.0",
         "4110.0",
         "3608.0",
         "3254.0",
         "3256.0",
         "3518.0",
         "4444.0",
         "2374.0",
         "1606.0",
         "1891.0",
         "5100.0",
         "4324.0",
         "4376.0",
         "4110.0",
         "4604.0",
         "4410.0",
         "4936.0",
         "2608.0",
         "2078.0",
         "2144.0",
         "2934.0",
         "2718.0",
         "2940.0",
         "3372.0",
         "1631.0",
         "673.0",
         "814.5",
         "700.5",
         "2392.0",
         "2584.0",
         "2626.0",
         "3436.0",
         "3400.0",
         "2918.0",
         "3374.0",
         "3378.0",
         "3198.0",
         "2466.0",
         "2452.0",
         "3690.0",
         "3670.0",
         "3664.0",
         "3596.0",
         "1528.0",
         "1726.0",
         "1819.0",
         "1795.0",
         "1845.0",
         "1777.0",
         "1845.0",
         "2206.0",
         "3026.0",
         "3054.0",
         "3326.0",
         "3052.0",
         "3326.0",
         "3202.0",
         "5096.0",
         "4892.0",
         "3046.0",
         "3146.0",
         "2926.0",
         "2852.0",
         "1868.0",
         "1749.0",
         "1534.0",
         "1457.0",
         "3692.0",
         "4330.0",
         "3474.0",
         "3590.0",
         "3602.0",
         "3706.0",
         "3578.0",
         "4910.0",
         "2684.0",
         "3192.0",
         "2992.0",
         "3130.0",
         "3130.0",
         "3148.0",
         "3114.0",
         "4090.0",
         "4084.0",
         "3626.0",
         "3622.0",
         "3172.0",
         "3248.0",
         "4550.0",
         "4484.0",
         "4588.0",
         "4852.0",
         "4600.0",
         "4508.0",
         "4570.0",
         "4924.0",
         "4910.0",
         "2942.0",
         "2666.0",
         "5172.0",
         "4924.0",
         "3282.0",
         "3292.0",
         "3026.0",
         "1987.0",
         "2116.0",
         "1982.0",
         "3530.0",
         "3630.0",
         "3678.0",
         "4620.0",
         "4788.0",
         "2116.0",
         "2264.0",
         "2045.0",
         "1805.0",
         "2042.0",
         "1651.0",
         "1368.0",
         "1529.0",
         "1502.0",
         "5610.0",
         "6092.0",
         "5784.0",
         "2288.0",
         "2456.0",
         "3100.0",
         "6064.0",
         "5050.0",
         "5830.0",
         "5748.0",
         "6092.0",
         "5844.0",
         "5204.0",
         "1280.0",
         "1744.0",
         "1685.0",
         "5464.0",
         "2820.0",
         "2564.0",
         "2986.0",
         "2170.0",
         "2938.0",
         "3052.0",
         "2986.0",
         "2978.0",
         "3148.0",
         "855.5",
         "2982.0",
         "163.2",
         "3204.0",
         "3392.0",
         "2982.0",
         "5164.0",
         "4500.0",
         "3678.0",
         "4990.0",
         "4860.0",
         "5450.0",
         "5140.0",
         "5164.0",
         "6310.0",
         "5956.0",
         "5580.0",
         "5984.0",
         "3328.0",
         "3522.0",
         "3956.0",
         "3592.0",
         "3326.0",
         "2460.0",
         "2264.0",
         "2654.0",
         "2864.0",
         "2854.0",
         "3282.0",
         "3228.0",
         "3218.0",
         "3454.0",
         "3158.0",
         "3120.0",
         "3122.0",
         "3018.0",
         "2828.0",
         "2602.0",
         "2074.0",
         "2336.0",
         "2330.0",
         "2368.0",
         "2510.0",
         "2652.0",
         "2630.0",
         "2842.0",
         "3414.0",
         "2664.0",
         "2142.0",
         "2208.0",
         "2164.0",
         "2128.0",
         "2025.0",
         "1828.0",
         "1720.0",
         "1493.0",
         "1559.0",
         "1117.0",
         "831.5",
         "860.5",
         "1335.0",
         "768.0",
         "731.0",
         "829.5",
         "1250.0",
         "1017.0",
         "1400.0",
         "1520.0",
         "1674.0",
         "1729.0",
         "5624.0",
         "5640.0",
         "5836.0",
         "3496.0",
         "3698.0",
         "3692.0",
         "3350.0",
         "1435.0",
         "1465.0",
         "1688.0",
         "1663.0",
         "1703.0",
         "1706.0",
         "1716.0",
         "2188.0",
         "2684.0",
         "3406.0",
         "3468.0",
         "3442.0",
         "3538.0",
         "3550.0",
         "3564.0",
         "4010.0",
         "4024.0",
         "4028.0",
         "3632.0",
         "4104.0",
         "4000.0",
         "3494.0",
         "3588.0",
         "2672.0",
         "2214.0",
         "2240.0",
         "2168.0",
         "2288.0",
         "2394.0",
         "2420.0",
         "2524.0",
         "2072.0",
         "2650.0",
         "2204.0",
         "2016.0",
         "2128.0",
         "2966.0",
         "3236.0",
         "2872.0",
         "4096.0",
         "4324.0",
         "5708.0",
         "5710.0",
         "5650.0",
         "5652.0",
         "5604.0",
         "5580.0",
         "5596.0",
         "3174.0",
         "2926.0",
         "3458.0",
         "5316.0",
         "5348.0",
         "5212.0",
         "5284.0",
         "5252.0",
         "5250.0",
         "4748.0",
         "5070.0",
         "4572.0",
         "5024.0",
         "5176.0",
         "6076.0",
         "6068.0",
         "6440.0",
         "5852.0",
         "5940.0",
         "5950.0",
         "5950.0",
         "5850.0",
         "5350.0",
         "5268.0",
         "5590.0",
         "4930.0",
         "6136.0",
         "6148.0",
         "6020.0",
         "5856.0",
         "5864.0",
         "5684.0",
         "5844.0",
         "5708.0",
         "6052.0",
         "3058.0",
         "3218.0",
         "3048.0",
         "3362.0",
         "3486.0",
         "2856.0",
         "2980.0",
         "2952.0",
         "3224.0",
         "2736.0",
         "4396.0",
         "1538.0",
         "3534.0",
         "2148.0",
         "3352.0",
         "3550.0",
         "3536.0",
         "3622.0",
         "1901.0",
         "2798.0",
         "2772.0",
         "2662.0",
         "2500.0",
         "2222.0",
         "2166.0",
         "2046.0",
         "1902.0",
         "1784.0",
         "1659.0",
         "1635.0",
         "1615.0",
         "1320.0",
         "1237.0",
         "1712.0",
         "2100.0",
         "2112.0",
         "1330.0",
         "5964.0",
         "5676.0",
         "5500.0",
         "5720.0",
         "5830.0",
         "5384.0",
         "5612.0",
         "5216.0",
         "5172.0",
         "5330.0",
         "5490.0",
         "5460.0",
         "5444.0",
         "5316.0",
         "5856.0",
         "6068.0",
         "6348.0",
         "5612.0",
         "5588.0",
         "5290.0",
         "5604.0",
         "6360.0",
         "6320.0",
         "6330.0",
         "5196.0",
         "5212.0",
         "5630.0",
         "2256.0",
         "2918.0",
         "2974.0",
         "3470.0",
         "4370.0",
         "3540.0",
         "4732.0",
         "4920.0",
         "4532.0",
         "4944.0",
         "5160.0",
         "5284.0"
        ],
        [
         "215",
         "4116.0",
         "4310.0",
         "4230.0",
         "4230.0",
         "4110.0",
         "4556.0",
         "4560.0",
         "4292.0",
         "3758.0",
         "4350.0",
         "3518.0",
         "3770.0",
         "4372.0",
         "3670.0",
         "3874.0",
         "4092.0",
         "3796.0",
         "3760.0",
         "3684.0",
         "3624.0",
         "3530.0",
         "3532.0",
         "2316.0",
         "2334.0",
         "1920.0",
         "2176.0",
         "2396.0",
         "2450.0",
         "2086.0",
         "2560.0",
         "2592.0",
         "2454.0",
         "2690.0",
         "2774.0",
         "2622.0",
         "2854.0",
         "2886.0",
         "3048.0",
         "3026.0",
         "3004.0",
         "4930.0",
         "4930.0",
         "4850.0",
         "4844.0",
         "4824.0",
         "3520.0",
         "3568.0",
         "3580.0",
         "3642.0",
         "3336.0",
         "4120.0",
         "4164.0",
         "4056.0",
         "4176.0",
         "3878.0",
         "4014.0",
         "4268.0",
         "3872.0",
         "3720.0",
         "4046.0",
         "4250.0",
         "4190.0",
         "4176.0",
         "3778.0",
         "3618.0",
         "4020.0",
         "4068.0",
         "4164.0",
         "4380.0",
         "4130.0",
         "4204.0",
         "4456.0",
         "3706.0",
         "3684.0",
         "4160.0",
         "4308.0",
         "3748.0",
         "4416.0",
         "3736.0",
         "3802.0",
         "3778.0",
         "4556.0",
         "4620.0",
         "4002.0",
         "4264.0",
         "4132.0",
         "2684.0",
         "2434.0",
         "2778.0",
         "2556.0",
         "3492.0",
         "1974.0",
         "1821.0",
         "1831.0",
         "2392.0",
         "2142.0",
         "2082.0",
         "1923.0",
         "2027.0",
         "2080.0",
         "1846.0",
         "2532.0",
         "2050.0",
         "3108.0",
         "2896.0",
         "2882.0",
         "3382.0",
         "2816.0",
         "2600.0",
         "3010.0",
         "2196.0",
         "2154.0",
         "2110.0",
         "2080.0",
         "2035.0",
         "2010.0",
         "1689.0",
         "1648.0",
         "1858.0",
         "1614.0",
         "1412.0",
         "1713.0",
         "1123.0",
         "703.5",
         "1452.0",
         "1721.0",
         "1572.0",
         "313.5",
         "419.2",
         "1127.0",
         "859.0",
         "1362.0",
         "1163.0",
         "1965.0",
         "2122.0",
         "1908.0",
         "2164.0",
         "4610.0",
         "4612.0",
         "4480.0",
         "4296.0",
         "4330.0",
         "4190.0",
         "4444.0",
         "4560.0",
         "4664.0",
         "4532.0",
         "4508.0",
         "4508.0",
         "4410.0",
         "3402.0",
         "3372.0",
         "3346.0",
         "3246.0",
         "3156.0",
         "3090.0",
         "3102.0",
         "3158.0",
         "2974.0",
         "2924.0",
         "3010.0",
         "2958.0",
         "3252.0",
         "3098.0",
         "3412.0",
         "3334.0",
         "3260.0",
         "3526.0",
         "1976.0",
         "1811.0",
         "2450.0",
         "2142.0",
         "2332.0",
         "2124.0",
         "2462.0",
         "2322.0",
         "2892.0",
         "2410.0",
         "2424.0",
         "2592.0",
         "2626.0",
         "2614.0",
         "2452.0",
         "2446.0",
         "1656.0",
         "1636.0",
         "1293.0",
         "1592.0",
         "1821.0",
         "4496.0",
         "4450.0",
         "4544.0",
         "4730.0",
         "4704.0",
         "5070.0",
         "5372.0",
         "4864.0",
         "1722.0",
         "2320.0",
         "2372.0",
         "1406.0",
         "1223.0",
         "1695.0",
         "1457.0",
         "2468.0",
         "4034.0",
         "3794.0",
         "4364.0",
         "4268.0",
         "4664.0",
         "4572.0",
         "3724.0",
         "3418.0",
         "3770.0",
         "3574.0",
         "3814.0",
         "3032.0",
         "3006.0",
         "3108.0",
         "3548.0",
         "4580.0",
         "3276.0",
         "3240.0",
         "3052.0",
         "5030.0",
         "5200.0",
         "2246.0",
         "2098.0",
         "2260.0",
         "4036.0",
         "4384.0",
         "4304.0",
         "4644.0",
         "4296.0",
         "4244.0",
         "4188.0",
         "4564.0",
         "3296.0",
         "3222.0",
         "3850.0",
         "4250.0",
         "1934.0",
         "1634.0",
         "1692.0",
         "1325.0",
         "1912.0",
         "1637.0",
         "1463.0",
         "1557.0",
         "1783.0",
         "1376.0",
         "1211.0",
         "1795.0",
         "4732.0",
         "5004.0",
         "5196.0",
         "5100.0",
         "5040.0",
         "4730.0",
         "5292.0",
         "5064.0",
         "4604.0",
         "4006.0",
         "4016.0",
         "1503.0",
         "1796.0",
         "3228.0",
         "3356.0",
         "3796.0",
         "4468.0",
         "3972.0",
         "4110.0",
         "3842.0",
         "2506.0",
         "2956.0",
         "2542.0",
         "2050.0",
         "1355.0",
         "1494.0",
         "1328.0",
         "4180.0",
         "4292.0",
         "4316.0",
         "4280.0",
         "4280.0",
         "3214.0",
         "4252.0",
         "2396.0",
         "1272.0",
         "1727.0",
         "5196.0",
         "4550.0",
         "4610.0",
         "4804.0",
         "4836.0",
         "4636.0",
         "5084.0",
         "3548.0",
         "3708.0",
         "3774.0",
         "4560.0",
         "4348.0",
         "4570.0",
         "5000.0",
         "3260.0",
         "1602.0",
         "1756.0",
         "1641.0",
         "3450.0",
         "1846.0",
         "2000.0",
         "3306.0",
         "3272.0",
         "4548.0",
         "5000.0",
         "5010.0",
         "4830.0",
         "2346.0",
         "2474.0",
         "3810.0",
         "3790.0",
         "3814.0",
         "3714.0",
         "3086.0",
         "2680.0",
         "2774.0",
         "2748.0",
         "2816.0",
         "2764.0",
         "2816.0",
         "3162.0",
         "4100.0",
         "4124.0",
         "3204.0",
         "3170.0",
         "3204.0",
         "4830.0",
         "5190.0",
         "5040.0",
         "4120.0",
         "4216.0",
         "3998.0",
         "3924.0",
         "2940.0",
         "2814.0",
         "3048.0",
         "2972.0",
         "3842.0",
         "4480.0",
         "3624.0",
         "3740.0",
         "3660.0",
         "3854.0",
         "3698.0",
         "5060.0",
         "3756.0",
         "4264.0",
         "4038.0",
         "4200.0",
         "4204.0",
         "4220.0",
         "4188.0",
         "4940.0",
         "4932.0",
         "4476.0",
         "4644.0",
         "4244.0",
         "4320.0",
         "4690.0",
         "4290.0",
         "4390.0",
         "4660.0",
         "4410.0",
         "4310.0",
         "4372.0",
         "4736.0",
         "4720.0",
         "2512.0",
         "2246.0",
         "5404.0",
         "5070.0",
         "4304.0",
         "4310.0",
         "4048.0",
         "2960.0",
         "3084.0",
         "2954.0",
         "4332.0",
         "4340.0",
         "3828.0",
         "4852.0",
         "5016.0",
         "3082.0",
         "3232.0",
         "2986.0",
         "2748.0",
         "2996.0",
         "2596.0",
         "2344.0",
         "2506.0",
         "2448.0",
         "5704.0",
         "6320.0",
         "5880.0",
         "3256.0",
         "3424.0",
         "4172.0",
         "5680.0",
         "4660.0",
         "5450.0",
         "5364.0",
         "5708.0",
         "5456.0",
         "4816.0",
         "2310.0",
         "2732.0",
         "2756.0",
         "5692.0",
         "3834.0",
         "3578.0",
         "4008.0",
         "3648.0",
         "4430.0",
         "4410.0",
         "4484.0",
         "4388.0",
         "4220.0",
         "1796.0",
         "3132.0",
         "1887.0",
         "4836.0",
         "4704.0",
         "4616.0",
         "5390.0",
         "5224.0",
         "4700.0",
         "5224.0",
         "5092.0",
         "5676.0",
         "5370.0",
         "5396.0",
         "6540.0",
         "5760.0",
         "5384.0",
         "5788.0",
         "4140.0",
         "4332.0",
         "3570.0",
         "3258.0",
         "3178.0",
         "2482.0",
         "2392.0",
         "2234.0",
         "2486.0",
         "2572.0",
         "4910.0",
         "4280.0",
         "4270.0",
         "4496.0",
         "4228.0",
         "4188.0",
         "4196.0",
         "4090.0",
         "3900.0",
         "4230.0",
         "3704.0",
         "3408.0",
         "3400.0",
         "3440.0",
         "3582.0",
         "3722.0",
         "3702.0",
         "3914.0",
         "4724.0",
         "3368.0",
         "3094.0",
         "1353.0",
         "1309.0",
         "1204.0",
         "1331.0",
         "1471.0",
         "1362.0",
         "1200.0",
         "885.0",
         "1404.0",
         "1480.0",
         "1510.0",
         "1993.0",
         "1562.0",
         "1663.0",
         "1770.0",
         "2180.0",
         "1959.0",
         "2450.0",
         "2584.0",
         "2746.0",
         "2800.0",
         "5240.0",
         "5256.0",
         "5452.0",
         "4516.0",
         "4720.0",
         "4710.0",
         "4676.0",
         "2994.0",
         "2978.0",
         "2796.0",
         "2766.0",
         "2774.0",
         "2776.0",
         "2780.0",
         "3246.0",
         "3704.0",
         "4428.0",
         "4490.0",
         "4460.0",
         "4560.0",
         "4570.0",
         "4580.0",
         "4736.0",
         "4748.0",
         "4750.0",
         "4376.0",
         "4796.0",
         "4724.0",
         "4510.0",
         "4612.0",
         "3692.0",
         "3168.0",
         "3208.0",
         "3120.0",
         "3254.0",
         "3394.0",
         "3412.0",
         "3540.0",
         "3110.0",
         "3670.0",
         "3246.0",
         "2950.0",
         "3068.0",
         "2664.0",
         "2936.0",
         "2590.0",
         "4820.0",
         "5044.0",
         "5510.0",
         "5516.0",
         "5452.0",
         "5460.0",
         "5412.0",
         "5384.0",
         "5400.0",
         "3324.0",
         "3076.0",
         "4500.0",
         "4932.0",
         "4964.0",
         "4828.0",
         "4900.0",
         "4868.0",
         "4864.0",
         "4364.0",
         "4690.0",
         "4184.0",
         "4636.0",
         "5410.0",
         "5692.0",
         "5680.0",
         "6056.0",
         "5468.0",
         "5556.0",
         "5570.0",
         "5570.0",
         "5464.0",
         "4970.0",
         "4880.0",
         "5396.0",
         "4732.0",
         "5750.0",
         "5760.0",
         "5636.0",
         "5468.0",
         "5480.0",
         "5300.0",
         "5460.0",
         "5324.0",
         "5668.0",
         "2764.0",
         "3070.0",
         "2754.0",
         "3216.0",
         "3606.0",
         "2574.0",
         "2696.0",
         "2668.0",
         "3076.0",
         "2478.0",
         "4544.0",
         "865.5",
         "4340.0",
         "3088.0",
         "4304.0",
         "4570.0",
         "4340.0",
         "4640.0",
         "1737.0",
         "3870.0",
         "3844.0",
         "3734.0",
         "3572.0",
         "3268.0",
         "3222.0",
         "3086.0",
         "2914.0",
         "2772.0",
         "2616.0",
         "2590.0",
         "2562.0",
         "2252.0",
         "2166.0",
         "1841.0",
         "1836.0",
         "1847.0",
         "2260.0",
         "5580.0",
         "5292.0",
         "5116.0",
         "5332.0",
         "5450.0",
         "5000.0",
         "5228.0",
         "4830.0",
         "4788.0",
         "4940.0",
         "5100.0",
         "5070.0",
         "5060.0",
         "4932.0",
         "5470.0",
         "5680.0",
         "5960.0",
         "5228.0",
         "5204.0",
         "4904.0",
         "5216.0",
         "5976.0",
         "5932.0",
         "5944.0",
         "4812.0",
         "4828.0",
         "5250.0",
         "2364.0",
         "3068.0",
         "3124.0",
         "3620.0",
         "4452.0",
         "3658.0",
         "4372.0",
         "4730.0",
         "4148.0",
         "4750.0",
         "5390.0",
         "5380.0"
        ]
       ],
       "shape": {
        "columns": 663,
        "rows": 5
       }
      },
      "text/html": [
       "<div>\n",
       "<style scoped>\n",
       "    .dataframe tbody tr th:only-of-type {\n",
       "        vertical-align: middle;\n",
       "    }\n",
       "\n",
       "    .dataframe tbody tr th {\n",
       "        vertical-align: top;\n",
       "    }\n",
       "\n",
       "    .dataframe thead th {\n",
       "        text-align: right;\n",
       "    }\n",
       "</style>\n",
       "<table border=\"1\" class=\"dataframe\">\n",
       "  <thead>\n",
       "    <tr style=\"text-align: right;\">\n",
       "      <th></th>\n",
       "      <th>0</th>\n",
       "      <th>1</th>\n",
       "      <th>2</th>\n",
       "      <th>3</th>\n",
       "      <th>4</th>\n",
       "      <th>5</th>\n",
       "      <th>6</th>\n",
       "      <th>7</th>\n",
       "      <th>8</th>\n",
       "      <th>9</th>\n",
       "      <th>...</th>\n",
       "      <th>653</th>\n",
       "      <th>654</th>\n",
       "      <th>655</th>\n",
       "      <th>656</th>\n",
       "      <th>657</th>\n",
       "      <th>658</th>\n",
       "      <th>659</th>\n",
       "      <th>660</th>\n",
       "      <th>661</th>\n",
       "      <th>662</th>\n",
       "    </tr>\n",
       "    <tr>\n",
       "      <th>id</th>\n",
       "      <th></th>\n",
       "      <th></th>\n",
       "      <th></th>\n",
       "      <th></th>\n",
       "      <th></th>\n",
       "      <th></th>\n",
       "      <th></th>\n",
       "      <th></th>\n",
       "      <th></th>\n",
       "      <th></th>\n",
       "      <th></th>\n",
       "      <th></th>\n",
       "      <th></th>\n",
       "      <th></th>\n",
       "      <th></th>\n",
       "      <th></th>\n",
       "      <th></th>\n",
       "      <th></th>\n",
       "      <th></th>\n",
       "      <th></th>\n",
       "      <th></th>\n",
       "    </tr>\n",
       "  </thead>\n",
       "  <tbody>\n",
       "    <tr>\n",
       "      <th>112</th>\n",
       "      <td>3410.0</td>\n",
       "      <td>3602.0</td>\n",
       "      <td>3526.0</td>\n",
       "      <td>3528.0</td>\n",
       "      <td>3408.0</td>\n",
       "      <td>3850.0</td>\n",
       "      <td>3856.0</td>\n",
       "      <td>3586.0</td>\n",
       "      <td>2840.0</td>\n",
       "      <td>3434.0</td>\n",
       "      <td>...</td>\n",
       "      <td>2690.0</td>\n",
       "      <td>3186.0</td>\n",
       "      <td>4052.0</td>\n",
       "      <td>3222.0</td>\n",
       "      <td>4356.0</td>\n",
       "      <td>4544.0</td>\n",
       "      <td>4156.0</td>\n",
       "      <td>4572.0</td>\n",
       "      <td>4952.0</td>\n",
       "      <td>4972.0</td>\n",
       "    </tr>\n",
       "    <tr>\n",
       "      <th>113</th>\n",
       "      <td>2096.0</td>\n",
       "      <td>2288.0</td>\n",
       "      <td>2212.0</td>\n",
       "      <td>2212.0</td>\n",
       "      <td>2094.0</td>\n",
       "      <td>2348.0</td>\n",
       "      <td>2354.0</td>\n",
       "      <td>2270.0</td>\n",
       "      <td>1179.0</td>\n",
       "      <td>1774.0</td>\n",
       "      <td>...</td>\n",
       "      <td>3318.0</td>\n",
       "      <td>3806.0</td>\n",
       "      <td>4708.0</td>\n",
       "      <td>3880.0</td>\n",
       "      <td>5212.0</td>\n",
       "      <td>5340.0</td>\n",
       "      <td>5012.0</td>\n",
       "      <td>5364.0</td>\n",
       "      <td>4676.0</td>\n",
       "      <td>5200.0</td>\n",
       "    </tr>\n",
       "    <tr>\n",
       "      <th>114</th>\n",
       "      <td>3920.0</td>\n",
       "      <td>4116.0</td>\n",
       "      <td>4036.0</td>\n",
       "      <td>4038.0</td>\n",
       "      <td>3918.0</td>\n",
       "      <td>4364.0</td>\n",
       "      <td>4368.0</td>\n",
       "      <td>4096.0</td>\n",
       "      <td>3352.0</td>\n",
       "      <td>3944.0</td>\n",
       "      <td>...</td>\n",
       "      <td>3200.0</td>\n",
       "      <td>3698.0</td>\n",
       "      <td>4564.0</td>\n",
       "      <td>3734.0</td>\n",
       "      <td>4864.0</td>\n",
       "      <td>5056.0</td>\n",
       "      <td>4668.0</td>\n",
       "      <td>5080.0</td>\n",
       "      <td>5464.0</td>\n",
       "      <td>5484.0</td>\n",
       "    </tr>\n",
       "    <tr>\n",
       "      <th>115</th>\n",
       "      <td>3046.0</td>\n",
       "      <td>3238.0</td>\n",
       "      <td>3160.0</td>\n",
       "      <td>3160.0</td>\n",
       "      <td>3040.0</td>\n",
       "      <td>3298.0</td>\n",
       "      <td>3302.0</td>\n",
       "      <td>3218.0</td>\n",
       "      <td>2128.0</td>\n",
       "      <td>2724.0</td>\n",
       "      <td>...</td>\n",
       "      <td>2974.0</td>\n",
       "      <td>3470.0</td>\n",
       "      <td>4368.0</td>\n",
       "      <td>3540.0</td>\n",
       "      <td>4732.0</td>\n",
       "      <td>4920.0</td>\n",
       "      <td>4532.0</td>\n",
       "      <td>4944.0</td>\n",
       "      <td>5160.0</td>\n",
       "      <td>5284.0</td>\n",
       "    </tr>\n",
       "    <tr>\n",
       "      <th>215</th>\n",
       "      <td>4116.0</td>\n",
       "      <td>4312.0</td>\n",
       "      <td>4232.0</td>\n",
       "      <td>4232.0</td>\n",
       "      <td>4112.0</td>\n",
       "      <td>4556.0</td>\n",
       "      <td>4560.0</td>\n",
       "      <td>4292.0</td>\n",
       "      <td>3758.0</td>\n",
       "      <td>4352.0</td>\n",
       "      <td>...</td>\n",
       "      <td>3124.0</td>\n",
       "      <td>3620.0</td>\n",
       "      <td>4452.0</td>\n",
       "      <td>3658.0</td>\n",
       "      <td>4372.0</td>\n",
       "      <td>4728.0</td>\n",
       "      <td>4148.0</td>\n",
       "      <td>4752.0</td>\n",
       "      <td>5392.0</td>\n",
       "      <td>5380.0</td>\n",
       "    </tr>\n",
       "  </tbody>\n",
       "</table>\n",
       "<p>5 rows × 663 columns</p>\n",
       "</div>"
      ],
      "text/plain": [
       "        0       1       2       3       4       5       6       7       8    \\\n",
       "id                                                                            \n",
       "112  3410.0  3602.0  3526.0  3528.0  3408.0  3850.0  3856.0  3586.0  2840.0   \n",
       "113  2096.0  2288.0  2212.0  2212.0  2094.0  2348.0  2354.0  2270.0  1179.0   \n",
       "114  3920.0  4116.0  4036.0  4038.0  3918.0  4364.0  4368.0  4096.0  3352.0   \n",
       "115  3046.0  3238.0  3160.0  3160.0  3040.0  3298.0  3302.0  3218.0  2128.0   \n",
       "215  4116.0  4312.0  4232.0  4232.0  4112.0  4556.0  4560.0  4292.0  3758.0   \n",
       "\n",
       "        9    ...     653     654     655     656     657     658     659  \\\n",
       "id           ...                                                           \n",
       "112  3434.0  ...  2690.0  3186.0  4052.0  3222.0  4356.0  4544.0  4156.0   \n",
       "113  1774.0  ...  3318.0  3806.0  4708.0  3880.0  5212.0  5340.0  5012.0   \n",
       "114  3944.0  ...  3200.0  3698.0  4564.0  3734.0  4864.0  5056.0  4668.0   \n",
       "115  2724.0  ...  2974.0  3470.0  4368.0  3540.0  4732.0  4920.0  4532.0   \n",
       "215  4352.0  ...  3124.0  3620.0  4452.0  3658.0  4372.0  4728.0  4148.0   \n",
       "\n",
       "        660     661     662  \n",
       "id                           \n",
       "112  4572.0  4952.0  4972.0  \n",
       "113  5364.0  4676.0  5200.0  \n",
       "114  5080.0  5464.0  5484.0  \n",
       "115  4944.0  5160.0  5284.0  \n",
       "215  4752.0  5392.0  5380.0  \n",
       "\n",
       "[5 rows x 663 columns]"
      ]
     },
     "execution_count": 8,
     "metadata": {},
     "output_type": "execute_result"
    }
   ],
   "source": [
    "blocks_to_nodes.head()"
   ]
  },
  {
   "cell_type": "markdown",
   "metadata": {},
   "source": [
    "### Calculating distances from nodes to nodes"
   ]
  },
  {
   "cell_type": "code",
   "execution_count": 9,
   "metadata": {},
   "outputs": [],
   "source": [
    "nodes_to_nodes = get_adj_matrix_gdf_to_gdf(nodes_gdf, nodes_gdf, graph_drive)"
   ]
  },
  {
   "cell_type": "code",
   "execution_count": 10,
   "metadata": {},
   "outputs": [
    {
     "name": "stderr",
     "output_type": "stream",
     "text": [
      "/home/vasilstar/masterplanning/.venv/lib/python3.10/site-packages/pandas/io/formats/format.py:1458: RuntimeWarning: overflow encountered in cast\n",
      "  has_large_values = (abs_vals > 1e6).any()\n"
     ]
    },
    {
     "data": {
      "application/vnd.microsoft.datawrangler.viewer.v0+json": {
       "columns": [
        {
         "name": "index",
         "rawType": "int64",
         "type": "integer"
        },
        {
         "name": "0",
         "rawType": "float16",
         "type": "float"
        },
        {
         "name": "1",
         "rawType": "float16",
         "type": "float"
        },
        {
         "name": "2",
         "rawType": "float16",
         "type": "float"
        },
        {
         "name": "3",
         "rawType": "float16",
         "type": "float"
        },
        {
         "name": "4",
         "rawType": "float16",
         "type": "float"
        },
        {
         "name": "5",
         "rawType": "float16",
         "type": "float"
        },
        {
         "name": "6",
         "rawType": "float16",
         "type": "float"
        },
        {
         "name": "7",
         "rawType": "float16",
         "type": "float"
        },
        {
         "name": "8",
         "rawType": "float16",
         "type": "float"
        },
        {
         "name": "9",
         "rawType": "float16",
         "type": "float"
        },
        {
         "name": "10",
         "rawType": "float16",
         "type": "float"
        },
        {
         "name": "11",
         "rawType": "float16",
         "type": "float"
        },
        {
         "name": "12",
         "rawType": "float16",
         "type": "float"
        },
        {
         "name": "13",
         "rawType": "float16",
         "type": "float"
        },
        {
         "name": "14",
         "rawType": "float16",
         "type": "float"
        },
        {
         "name": "15",
         "rawType": "float16",
         "type": "float"
        },
        {
         "name": "16",
         "rawType": "float16",
         "type": "float"
        },
        {
         "name": "17",
         "rawType": "float16",
         "type": "float"
        },
        {
         "name": "18",
         "rawType": "float16",
         "type": "float"
        },
        {
         "name": "19",
         "rawType": "float16",
         "type": "float"
        },
        {
         "name": "20",
         "rawType": "float16",
         "type": "float"
        },
        {
         "name": "21",
         "rawType": "float16",
         "type": "float"
        },
        {
         "name": "22",
         "rawType": "float16",
         "type": "float"
        },
        {
         "name": "23",
         "rawType": "float16",
         "type": "float"
        },
        {
         "name": "24",
         "rawType": "float16",
         "type": "float"
        },
        {
         "name": "25",
         "rawType": "float16",
         "type": "float"
        },
        {
         "name": "26",
         "rawType": "float16",
         "type": "float"
        },
        {
         "name": "27",
         "rawType": "float16",
         "type": "float"
        },
        {
         "name": "28",
         "rawType": "float16",
         "type": "float"
        },
        {
         "name": "29",
         "rawType": "float16",
         "type": "float"
        },
        {
         "name": "30",
         "rawType": "float16",
         "type": "float"
        },
        {
         "name": "31",
         "rawType": "float16",
         "type": "float"
        },
        {
         "name": "32",
         "rawType": "float16",
         "type": "float"
        },
        {
         "name": "33",
         "rawType": "float16",
         "type": "float"
        },
        {
         "name": "34",
         "rawType": "float16",
         "type": "float"
        },
        {
         "name": "35",
         "rawType": "float16",
         "type": "float"
        },
        {
         "name": "36",
         "rawType": "float16",
         "type": "float"
        },
        {
         "name": "37",
         "rawType": "float16",
         "type": "float"
        },
        {
         "name": "38",
         "rawType": "float16",
         "type": "float"
        },
        {
         "name": "39",
         "rawType": "float16",
         "type": "float"
        },
        {
         "name": "40",
         "rawType": "float16",
         "type": "float"
        },
        {
         "name": "41",
         "rawType": "float16",
         "type": "float"
        },
        {
         "name": "42",
         "rawType": "float16",
         "type": "float"
        },
        {
         "name": "43",
         "rawType": "float16",
         "type": "float"
        },
        {
         "name": "44",
         "rawType": "float16",
         "type": "float"
        },
        {
         "name": "45",
         "rawType": "float16",
         "type": "float"
        },
        {
         "name": "46",
         "rawType": "float16",
         "type": "float"
        },
        {
         "name": "47",
         "rawType": "float16",
         "type": "float"
        },
        {
         "name": "48",
         "rawType": "float16",
         "type": "float"
        },
        {
         "name": "49",
         "rawType": "float16",
         "type": "float"
        },
        {
         "name": "50",
         "rawType": "float16",
         "type": "float"
        },
        {
         "name": "51",
         "rawType": "float16",
         "type": "float"
        },
        {
         "name": "52",
         "rawType": "float16",
         "type": "float"
        },
        {
         "name": "53",
         "rawType": "float16",
         "type": "float"
        },
        {
         "name": "54",
         "rawType": "float16",
         "type": "float"
        },
        {
         "name": "55",
         "rawType": "float16",
         "type": "float"
        },
        {
         "name": "56",
         "rawType": "float16",
         "type": "float"
        },
        {
         "name": "57",
         "rawType": "float16",
         "type": "float"
        },
        {
         "name": "58",
         "rawType": "float16",
         "type": "float"
        },
        {
         "name": "59",
         "rawType": "float16",
         "type": "float"
        },
        {
         "name": "60",
         "rawType": "float16",
         "type": "float"
        },
        {
         "name": "61",
         "rawType": "float16",
         "type": "float"
        },
        {
         "name": "62",
         "rawType": "float16",
         "type": "float"
        },
        {
         "name": "63",
         "rawType": "float16",
         "type": "float"
        },
        {
         "name": "64",
         "rawType": "float16",
         "type": "float"
        },
        {
         "name": "65",
         "rawType": "float16",
         "type": "float"
        },
        {
         "name": "66",
         "rawType": "float16",
         "type": "float"
        },
        {
         "name": "67",
         "rawType": "float16",
         "type": "float"
        },
        {
         "name": "68",
         "rawType": "float16",
         "type": "float"
        },
        {
         "name": "69",
         "rawType": "float16",
         "type": "float"
        },
        {
         "name": "70",
         "rawType": "float16",
         "type": "float"
        },
        {
         "name": "71",
         "rawType": "float16",
         "type": "float"
        },
        {
         "name": "72",
         "rawType": "float16",
         "type": "float"
        },
        {
         "name": "73",
         "rawType": "float16",
         "type": "float"
        },
        {
         "name": "74",
         "rawType": "float16",
         "type": "float"
        },
        {
         "name": "75",
         "rawType": "float16",
         "type": "float"
        },
        {
         "name": "76",
         "rawType": "float16",
         "type": "float"
        },
        {
         "name": "77",
         "rawType": "float16",
         "type": "float"
        },
        {
         "name": "78",
         "rawType": "float16",
         "type": "float"
        },
        {
         "name": "79",
         "rawType": "float16",
         "type": "float"
        },
        {
         "name": "80",
         "rawType": "float16",
         "type": "float"
        },
        {
         "name": "81",
         "rawType": "float16",
         "type": "float"
        },
        {
         "name": "82",
         "rawType": "float16",
         "type": "float"
        },
        {
         "name": "83",
         "rawType": "float16",
         "type": "float"
        },
        {
         "name": "84",
         "rawType": "float16",
         "type": "float"
        },
        {
         "name": "85",
         "rawType": "float16",
         "type": "float"
        },
        {
         "name": "86",
         "rawType": "float16",
         "type": "float"
        },
        {
         "name": "87",
         "rawType": "float16",
         "type": "float"
        },
        {
         "name": "88",
         "rawType": "float16",
         "type": "float"
        },
        {
         "name": "89",
         "rawType": "float16",
         "type": "float"
        },
        {
         "name": "90",
         "rawType": "float16",
         "type": "float"
        },
        {
         "name": "91",
         "rawType": "float16",
         "type": "float"
        },
        {
         "name": "92",
         "rawType": "float16",
         "type": "float"
        },
        {
         "name": "93",
         "rawType": "float16",
         "type": "float"
        },
        {
         "name": "94",
         "rawType": "float16",
         "type": "float"
        },
        {
         "name": "95",
         "rawType": "float16",
         "type": "float"
        },
        {
         "name": "96",
         "rawType": "float16",
         "type": "float"
        },
        {
         "name": "97",
         "rawType": "float16",
         "type": "float"
        },
        {
         "name": "98",
         "rawType": "float16",
         "type": "float"
        },
        {
         "name": "99",
         "rawType": "float16",
         "type": "float"
        },
        {
         "name": "100",
         "rawType": "float16",
         "type": "float"
        },
        {
         "name": "101",
         "rawType": "float16",
         "type": "float"
        },
        {
         "name": "102",
         "rawType": "float16",
         "type": "float"
        },
        {
         "name": "103",
         "rawType": "float16",
         "type": "float"
        },
        {
         "name": "104",
         "rawType": "float16",
         "type": "float"
        },
        {
         "name": "105",
         "rawType": "float16",
         "type": "float"
        },
        {
         "name": "106",
         "rawType": "float16",
         "type": "float"
        },
        {
         "name": "107",
         "rawType": "float16",
         "type": "float"
        },
        {
         "name": "108",
         "rawType": "float16",
         "type": "float"
        },
        {
         "name": "109",
         "rawType": "float16",
         "type": "float"
        },
        {
         "name": "110",
         "rawType": "float16",
         "type": "float"
        },
        {
         "name": "111",
         "rawType": "float16",
         "type": "float"
        },
        {
         "name": "112",
         "rawType": "float16",
         "type": "float"
        },
        {
         "name": "113",
         "rawType": "float16",
         "type": "float"
        },
        {
         "name": "114",
         "rawType": "float16",
         "type": "float"
        },
        {
         "name": "115",
         "rawType": "float16",
         "type": "float"
        },
        {
         "name": "116",
         "rawType": "float16",
         "type": "float"
        },
        {
         "name": "117",
         "rawType": "float16",
         "type": "float"
        },
        {
         "name": "118",
         "rawType": "float16",
         "type": "float"
        },
        {
         "name": "119",
         "rawType": "float16",
         "type": "float"
        },
        {
         "name": "120",
         "rawType": "float16",
         "type": "float"
        },
        {
         "name": "121",
         "rawType": "float16",
         "type": "float"
        },
        {
         "name": "122",
         "rawType": "float16",
         "type": "float"
        },
        {
         "name": "123",
         "rawType": "float16",
         "type": "float"
        },
        {
         "name": "124",
         "rawType": "float16",
         "type": "float"
        },
        {
         "name": "125",
         "rawType": "float16",
         "type": "float"
        },
        {
         "name": "126",
         "rawType": "float16",
         "type": "float"
        },
        {
         "name": "127",
         "rawType": "float16",
         "type": "float"
        },
        {
         "name": "128",
         "rawType": "float16",
         "type": "float"
        },
        {
         "name": "129",
         "rawType": "float16",
         "type": "float"
        },
        {
         "name": "130",
         "rawType": "float16",
         "type": "float"
        },
        {
         "name": "131",
         "rawType": "float16",
         "type": "float"
        },
        {
         "name": "132",
         "rawType": "float16",
         "type": "float"
        },
        {
         "name": "133",
         "rawType": "float16",
         "type": "float"
        },
        {
         "name": "134",
         "rawType": "float16",
         "type": "float"
        },
        {
         "name": "135",
         "rawType": "float16",
         "type": "float"
        },
        {
         "name": "136",
         "rawType": "float16",
         "type": "float"
        },
        {
         "name": "137",
         "rawType": "float16",
         "type": "float"
        },
        {
         "name": "138",
         "rawType": "float16",
         "type": "float"
        },
        {
         "name": "139",
         "rawType": "float16",
         "type": "float"
        },
        {
         "name": "140",
         "rawType": "float16",
         "type": "float"
        },
        {
         "name": "141",
         "rawType": "float16",
         "type": "float"
        },
        {
         "name": "142",
         "rawType": "float16",
         "type": "float"
        },
        {
         "name": "143",
         "rawType": "float16",
         "type": "float"
        },
        {
         "name": "144",
         "rawType": "float16",
         "type": "float"
        },
        {
         "name": "145",
         "rawType": "float16",
         "type": "float"
        },
        {
         "name": "146",
         "rawType": "float16",
         "type": "float"
        },
        {
         "name": "147",
         "rawType": "float16",
         "type": "float"
        },
        {
         "name": "148",
         "rawType": "float16",
         "type": "float"
        },
        {
         "name": "149",
         "rawType": "float16",
         "type": "float"
        },
        {
         "name": "150",
         "rawType": "float16",
         "type": "float"
        },
        {
         "name": "151",
         "rawType": "float16",
         "type": "float"
        },
        {
         "name": "152",
         "rawType": "float16",
         "type": "float"
        },
        {
         "name": "153",
         "rawType": "float16",
         "type": "float"
        },
        {
         "name": "154",
         "rawType": "float16",
         "type": "float"
        },
        {
         "name": "155",
         "rawType": "float16",
         "type": "float"
        },
        {
         "name": "156",
         "rawType": "float16",
         "type": "float"
        },
        {
         "name": "157",
         "rawType": "float16",
         "type": "float"
        },
        {
         "name": "158",
         "rawType": "float16",
         "type": "float"
        },
        {
         "name": "159",
         "rawType": "float16",
         "type": "float"
        },
        {
         "name": "160",
         "rawType": "float16",
         "type": "float"
        },
        {
         "name": "161",
         "rawType": "float16",
         "type": "float"
        },
        {
         "name": "162",
         "rawType": "float16",
         "type": "float"
        },
        {
         "name": "163",
         "rawType": "float16",
         "type": "float"
        },
        {
         "name": "164",
         "rawType": "float16",
         "type": "float"
        },
        {
         "name": "165",
         "rawType": "float16",
         "type": "float"
        },
        {
         "name": "166",
         "rawType": "float16",
         "type": "float"
        },
        {
         "name": "167",
         "rawType": "float16",
         "type": "float"
        },
        {
         "name": "168",
         "rawType": "float16",
         "type": "float"
        },
        {
         "name": "169",
         "rawType": "float16",
         "type": "float"
        },
        {
         "name": "170",
         "rawType": "float16",
         "type": "float"
        },
        {
         "name": "171",
         "rawType": "float16",
         "type": "float"
        },
        {
         "name": "172",
         "rawType": "float16",
         "type": "float"
        },
        {
         "name": "173",
         "rawType": "float16",
         "type": "float"
        },
        {
         "name": "174",
         "rawType": "float16",
         "type": "float"
        },
        {
         "name": "175",
         "rawType": "float16",
         "type": "float"
        },
        {
         "name": "176",
         "rawType": "float16",
         "type": "float"
        },
        {
         "name": "177",
         "rawType": "float16",
         "type": "float"
        },
        {
         "name": "178",
         "rawType": "float16",
         "type": "float"
        },
        {
         "name": "179",
         "rawType": "float16",
         "type": "float"
        },
        {
         "name": "180",
         "rawType": "float16",
         "type": "float"
        },
        {
         "name": "181",
         "rawType": "float16",
         "type": "float"
        },
        {
         "name": "182",
         "rawType": "float16",
         "type": "float"
        },
        {
         "name": "183",
         "rawType": "float16",
         "type": "float"
        },
        {
         "name": "184",
         "rawType": "float16",
         "type": "float"
        },
        {
         "name": "185",
         "rawType": "float16",
         "type": "float"
        },
        {
         "name": "186",
         "rawType": "float16",
         "type": "float"
        },
        {
         "name": "187",
         "rawType": "float16",
         "type": "float"
        },
        {
         "name": "188",
         "rawType": "float16",
         "type": "float"
        },
        {
         "name": "189",
         "rawType": "float16",
         "type": "float"
        },
        {
         "name": "190",
         "rawType": "float16",
         "type": "float"
        },
        {
         "name": "191",
         "rawType": "float16",
         "type": "float"
        },
        {
         "name": "192",
         "rawType": "float16",
         "type": "float"
        },
        {
         "name": "193",
         "rawType": "float16",
         "type": "float"
        },
        {
         "name": "194",
         "rawType": "float16",
         "type": "float"
        },
        {
         "name": "195",
         "rawType": "float16",
         "type": "float"
        },
        {
         "name": "196",
         "rawType": "float16",
         "type": "float"
        },
        {
         "name": "197",
         "rawType": "float16",
         "type": "float"
        },
        {
         "name": "198",
         "rawType": "float16",
         "type": "float"
        },
        {
         "name": "199",
         "rawType": "float16",
         "type": "float"
        },
        {
         "name": "200",
         "rawType": "float16",
         "type": "float"
        },
        {
         "name": "201",
         "rawType": "float16",
         "type": "float"
        },
        {
         "name": "202",
         "rawType": "float16",
         "type": "float"
        },
        {
         "name": "203",
         "rawType": "float16",
         "type": "float"
        },
        {
         "name": "204",
         "rawType": "float16",
         "type": "float"
        },
        {
         "name": "205",
         "rawType": "float16",
         "type": "float"
        },
        {
         "name": "206",
         "rawType": "float16",
         "type": "float"
        },
        {
         "name": "207",
         "rawType": "float16",
         "type": "float"
        },
        {
         "name": "208",
         "rawType": "float16",
         "type": "float"
        },
        {
         "name": "209",
         "rawType": "float16",
         "type": "float"
        },
        {
         "name": "210",
         "rawType": "float16",
         "type": "float"
        },
        {
         "name": "211",
         "rawType": "float16",
         "type": "float"
        },
        {
         "name": "212",
         "rawType": "float16",
         "type": "float"
        },
        {
         "name": "213",
         "rawType": "float16",
         "type": "float"
        },
        {
         "name": "214",
         "rawType": "float16",
         "type": "float"
        },
        {
         "name": "215",
         "rawType": "float16",
         "type": "float"
        },
        {
         "name": "216",
         "rawType": "float16",
         "type": "float"
        },
        {
         "name": "217",
         "rawType": "float16",
         "type": "float"
        },
        {
         "name": "218",
         "rawType": "float16",
         "type": "float"
        },
        {
         "name": "219",
         "rawType": "float16",
         "type": "float"
        },
        {
         "name": "220",
         "rawType": "float16",
         "type": "float"
        },
        {
         "name": "221",
         "rawType": "float16",
         "type": "float"
        },
        {
         "name": "222",
         "rawType": "float16",
         "type": "float"
        },
        {
         "name": "223",
         "rawType": "float16",
         "type": "float"
        },
        {
         "name": "224",
         "rawType": "float16",
         "type": "float"
        },
        {
         "name": "225",
         "rawType": "float16",
         "type": "float"
        },
        {
         "name": "226",
         "rawType": "float16",
         "type": "float"
        },
        {
         "name": "227",
         "rawType": "float16",
         "type": "float"
        },
        {
         "name": "228",
         "rawType": "float16",
         "type": "float"
        },
        {
         "name": "229",
         "rawType": "float16",
         "type": "float"
        },
        {
         "name": "230",
         "rawType": "float16",
         "type": "float"
        },
        {
         "name": "231",
         "rawType": "float16",
         "type": "float"
        },
        {
         "name": "232",
         "rawType": "float16",
         "type": "float"
        },
        {
         "name": "233",
         "rawType": "float16",
         "type": "float"
        },
        {
         "name": "234",
         "rawType": "float16",
         "type": "float"
        },
        {
         "name": "235",
         "rawType": "float16",
         "type": "float"
        },
        {
         "name": "236",
         "rawType": "float16",
         "type": "float"
        },
        {
         "name": "237",
         "rawType": "float16",
         "type": "float"
        },
        {
         "name": "238",
         "rawType": "float16",
         "type": "float"
        },
        {
         "name": "239",
         "rawType": "float16",
         "type": "float"
        },
        {
         "name": "240",
         "rawType": "float16",
         "type": "float"
        },
        {
         "name": "241",
         "rawType": "float16",
         "type": "float"
        },
        {
         "name": "242",
         "rawType": "float16",
         "type": "float"
        },
        {
         "name": "243",
         "rawType": "float16",
         "type": "float"
        },
        {
         "name": "244",
         "rawType": "float16",
         "type": "float"
        },
        {
         "name": "245",
         "rawType": "float16",
         "type": "float"
        },
        {
         "name": "246",
         "rawType": "float16",
         "type": "float"
        },
        {
         "name": "247",
         "rawType": "float16",
         "type": "float"
        },
        {
         "name": "248",
         "rawType": "float16",
         "type": "float"
        },
        {
         "name": "249",
         "rawType": "float16",
         "type": "float"
        },
        {
         "name": "250",
         "rawType": "float16",
         "type": "float"
        },
        {
         "name": "251",
         "rawType": "float16",
         "type": "float"
        },
        {
         "name": "252",
         "rawType": "float16",
         "type": "float"
        },
        {
         "name": "253",
         "rawType": "float16",
         "type": "float"
        },
        {
         "name": "254",
         "rawType": "float16",
         "type": "float"
        },
        {
         "name": "255",
         "rawType": "float16",
         "type": "float"
        },
        {
         "name": "256",
         "rawType": "float16",
         "type": "float"
        },
        {
         "name": "257",
         "rawType": "float16",
         "type": "float"
        },
        {
         "name": "258",
         "rawType": "float16",
         "type": "float"
        },
        {
         "name": "259",
         "rawType": "float16",
         "type": "float"
        },
        {
         "name": "260",
         "rawType": "float16",
         "type": "float"
        },
        {
         "name": "261",
         "rawType": "float16",
         "type": "float"
        },
        {
         "name": "262",
         "rawType": "float16",
         "type": "float"
        },
        {
         "name": "263",
         "rawType": "float16",
         "type": "float"
        },
        {
         "name": "264",
         "rawType": "float16",
         "type": "float"
        },
        {
         "name": "265",
         "rawType": "float16",
         "type": "float"
        },
        {
         "name": "266",
         "rawType": "float16",
         "type": "float"
        },
        {
         "name": "267",
         "rawType": "float16",
         "type": "float"
        },
        {
         "name": "268",
         "rawType": "float16",
         "type": "float"
        },
        {
         "name": "269",
         "rawType": "float16",
         "type": "float"
        },
        {
         "name": "270",
         "rawType": "float16",
         "type": "float"
        },
        {
         "name": "271",
         "rawType": "float16",
         "type": "float"
        },
        {
         "name": "272",
         "rawType": "float16",
         "type": "float"
        },
        {
         "name": "273",
         "rawType": "float16",
         "type": "float"
        },
        {
         "name": "274",
         "rawType": "float16",
         "type": "float"
        },
        {
         "name": "275",
         "rawType": "float16",
         "type": "float"
        },
        {
         "name": "276",
         "rawType": "float16",
         "type": "float"
        },
        {
         "name": "277",
         "rawType": "float16",
         "type": "float"
        },
        {
         "name": "278",
         "rawType": "float16",
         "type": "float"
        },
        {
         "name": "279",
         "rawType": "float16",
         "type": "float"
        },
        {
         "name": "280",
         "rawType": "float16",
         "type": "float"
        },
        {
         "name": "281",
         "rawType": "float16",
         "type": "float"
        },
        {
         "name": "282",
         "rawType": "float16",
         "type": "float"
        },
        {
         "name": "283",
         "rawType": "float16",
         "type": "float"
        },
        {
         "name": "284",
         "rawType": "float16",
         "type": "float"
        },
        {
         "name": "285",
         "rawType": "float16",
         "type": "float"
        },
        {
         "name": "286",
         "rawType": "float16",
         "type": "float"
        },
        {
         "name": "287",
         "rawType": "float16",
         "type": "float"
        },
        {
         "name": "288",
         "rawType": "float16",
         "type": "float"
        },
        {
         "name": "289",
         "rawType": "float16",
         "type": "float"
        },
        {
         "name": "290",
         "rawType": "float16",
         "type": "float"
        },
        {
         "name": "291",
         "rawType": "float16",
         "type": "float"
        },
        {
         "name": "292",
         "rawType": "float16",
         "type": "float"
        },
        {
         "name": "293",
         "rawType": "float16",
         "type": "float"
        },
        {
         "name": "294",
         "rawType": "float16",
         "type": "float"
        },
        {
         "name": "295",
         "rawType": "float16",
         "type": "float"
        },
        {
         "name": "296",
         "rawType": "float16",
         "type": "float"
        },
        {
         "name": "297",
         "rawType": "float16",
         "type": "float"
        },
        {
         "name": "298",
         "rawType": "float16",
         "type": "float"
        },
        {
         "name": "299",
         "rawType": "float16",
         "type": "float"
        },
        {
         "name": "300",
         "rawType": "float16",
         "type": "float"
        },
        {
         "name": "301",
         "rawType": "float16",
         "type": "float"
        },
        {
         "name": "302",
         "rawType": "float16",
         "type": "float"
        },
        {
         "name": "303",
         "rawType": "float16",
         "type": "float"
        },
        {
         "name": "304",
         "rawType": "float16",
         "type": "float"
        },
        {
         "name": "305",
         "rawType": "float16",
         "type": "float"
        },
        {
         "name": "306",
         "rawType": "float16",
         "type": "float"
        },
        {
         "name": "307",
         "rawType": "float16",
         "type": "float"
        },
        {
         "name": "308",
         "rawType": "float16",
         "type": "float"
        },
        {
         "name": "309",
         "rawType": "float16",
         "type": "float"
        },
        {
         "name": "310",
         "rawType": "float16",
         "type": "float"
        },
        {
         "name": "311",
         "rawType": "float16",
         "type": "float"
        },
        {
         "name": "312",
         "rawType": "float16",
         "type": "float"
        },
        {
         "name": "313",
         "rawType": "float16",
         "type": "float"
        },
        {
         "name": "314",
         "rawType": "float16",
         "type": "float"
        },
        {
         "name": "315",
         "rawType": "float16",
         "type": "float"
        },
        {
         "name": "316",
         "rawType": "float16",
         "type": "float"
        },
        {
         "name": "317",
         "rawType": "float16",
         "type": "float"
        },
        {
         "name": "318",
         "rawType": "float16",
         "type": "float"
        },
        {
         "name": "319",
         "rawType": "float16",
         "type": "float"
        },
        {
         "name": "320",
         "rawType": "float16",
         "type": "float"
        },
        {
         "name": "321",
         "rawType": "float16",
         "type": "float"
        },
        {
         "name": "322",
         "rawType": "float16",
         "type": "float"
        },
        {
         "name": "323",
         "rawType": "float16",
         "type": "float"
        },
        {
         "name": "324",
         "rawType": "float16",
         "type": "float"
        },
        {
         "name": "325",
         "rawType": "float16",
         "type": "float"
        },
        {
         "name": "326",
         "rawType": "float16",
         "type": "float"
        },
        {
         "name": "327",
         "rawType": "float16",
         "type": "float"
        },
        {
         "name": "328",
         "rawType": "float16",
         "type": "float"
        },
        {
         "name": "329",
         "rawType": "float16",
         "type": "float"
        },
        {
         "name": "330",
         "rawType": "float16",
         "type": "float"
        },
        {
         "name": "331",
         "rawType": "float16",
         "type": "float"
        },
        {
         "name": "332",
         "rawType": "float16",
         "type": "float"
        },
        {
         "name": "333",
         "rawType": "float16",
         "type": "float"
        },
        {
         "name": "334",
         "rawType": "float16",
         "type": "float"
        },
        {
         "name": "335",
         "rawType": "float16",
         "type": "float"
        },
        {
         "name": "336",
         "rawType": "float16",
         "type": "float"
        },
        {
         "name": "337",
         "rawType": "float16",
         "type": "float"
        },
        {
         "name": "338",
         "rawType": "float16",
         "type": "float"
        },
        {
         "name": "339",
         "rawType": "float16",
         "type": "float"
        },
        {
         "name": "340",
         "rawType": "float16",
         "type": "float"
        },
        {
         "name": "341",
         "rawType": "float16",
         "type": "float"
        },
        {
         "name": "342",
         "rawType": "float16",
         "type": "float"
        },
        {
         "name": "343",
         "rawType": "float16",
         "type": "float"
        },
        {
         "name": "344",
         "rawType": "float16",
         "type": "float"
        },
        {
         "name": "345",
         "rawType": "float16",
         "type": "float"
        },
        {
         "name": "346",
         "rawType": "float16",
         "type": "float"
        },
        {
         "name": "347",
         "rawType": "float16",
         "type": "float"
        },
        {
         "name": "348",
         "rawType": "float16",
         "type": "float"
        },
        {
         "name": "349",
         "rawType": "float16",
         "type": "float"
        },
        {
         "name": "350",
         "rawType": "float16",
         "type": "float"
        },
        {
         "name": "351",
         "rawType": "float16",
         "type": "float"
        },
        {
         "name": "352",
         "rawType": "float16",
         "type": "float"
        },
        {
         "name": "353",
         "rawType": "float16",
         "type": "float"
        },
        {
         "name": "354",
         "rawType": "float16",
         "type": "float"
        },
        {
         "name": "355",
         "rawType": "float16",
         "type": "float"
        },
        {
         "name": "356",
         "rawType": "float16",
         "type": "float"
        },
        {
         "name": "357",
         "rawType": "float16",
         "type": "float"
        },
        {
         "name": "358",
         "rawType": "float16",
         "type": "float"
        },
        {
         "name": "359",
         "rawType": "float16",
         "type": "float"
        },
        {
         "name": "360",
         "rawType": "float16",
         "type": "float"
        },
        {
         "name": "361",
         "rawType": "float16",
         "type": "float"
        },
        {
         "name": "362",
         "rawType": "float16",
         "type": "float"
        },
        {
         "name": "363",
         "rawType": "float16",
         "type": "float"
        },
        {
         "name": "364",
         "rawType": "float16",
         "type": "float"
        },
        {
         "name": "365",
         "rawType": "float16",
         "type": "float"
        },
        {
         "name": "366",
         "rawType": "float16",
         "type": "float"
        },
        {
         "name": "367",
         "rawType": "float16",
         "type": "float"
        },
        {
         "name": "368",
         "rawType": "float16",
         "type": "float"
        },
        {
         "name": "369",
         "rawType": "float16",
         "type": "float"
        },
        {
         "name": "370",
         "rawType": "float16",
         "type": "float"
        },
        {
         "name": "371",
         "rawType": "float16",
         "type": "float"
        },
        {
         "name": "372",
         "rawType": "float16",
         "type": "float"
        },
        {
         "name": "373",
         "rawType": "float16",
         "type": "float"
        },
        {
         "name": "374",
         "rawType": "float16",
         "type": "float"
        },
        {
         "name": "375",
         "rawType": "float16",
         "type": "float"
        },
        {
         "name": "376",
         "rawType": "float16",
         "type": "float"
        },
        {
         "name": "377",
         "rawType": "float16",
         "type": "float"
        },
        {
         "name": "378",
         "rawType": "float16",
         "type": "float"
        },
        {
         "name": "379",
         "rawType": "float16",
         "type": "float"
        },
        {
         "name": "380",
         "rawType": "float16",
         "type": "float"
        },
        {
         "name": "381",
         "rawType": "float16",
         "type": "float"
        },
        {
         "name": "382",
         "rawType": "float16",
         "type": "float"
        },
        {
         "name": "383",
         "rawType": "float16",
         "type": "float"
        },
        {
         "name": "384",
         "rawType": "float16",
         "type": "float"
        },
        {
         "name": "385",
         "rawType": "float16",
         "type": "float"
        },
        {
         "name": "386",
         "rawType": "float16",
         "type": "float"
        },
        {
         "name": "387",
         "rawType": "float16",
         "type": "float"
        },
        {
         "name": "388",
         "rawType": "float16",
         "type": "float"
        },
        {
         "name": "389",
         "rawType": "float16",
         "type": "float"
        },
        {
         "name": "390",
         "rawType": "float16",
         "type": "float"
        },
        {
         "name": "391",
         "rawType": "float16",
         "type": "float"
        },
        {
         "name": "392",
         "rawType": "float16",
         "type": "float"
        },
        {
         "name": "393",
         "rawType": "float16",
         "type": "float"
        },
        {
         "name": "394",
         "rawType": "float16",
         "type": "float"
        },
        {
         "name": "395",
         "rawType": "float16",
         "type": "float"
        },
        {
         "name": "396",
         "rawType": "float16",
         "type": "float"
        },
        {
         "name": "397",
         "rawType": "float16",
         "type": "float"
        },
        {
         "name": "398",
         "rawType": "float16",
         "type": "float"
        },
        {
         "name": "399",
         "rawType": "float16",
         "type": "float"
        },
        {
         "name": "400",
         "rawType": "float16",
         "type": "float"
        },
        {
         "name": "401",
         "rawType": "float16",
         "type": "float"
        },
        {
         "name": "402",
         "rawType": "float16",
         "type": "float"
        },
        {
         "name": "403",
         "rawType": "float16",
         "type": "float"
        },
        {
         "name": "404",
         "rawType": "float16",
         "type": "float"
        },
        {
         "name": "405",
         "rawType": "float16",
         "type": "float"
        },
        {
         "name": "406",
         "rawType": "float16",
         "type": "float"
        },
        {
         "name": "407",
         "rawType": "float16",
         "type": "float"
        },
        {
         "name": "408",
         "rawType": "float16",
         "type": "float"
        },
        {
         "name": "409",
         "rawType": "float16",
         "type": "float"
        },
        {
         "name": "410",
         "rawType": "float16",
         "type": "float"
        },
        {
         "name": "411",
         "rawType": "float16",
         "type": "float"
        },
        {
         "name": "412",
         "rawType": "float16",
         "type": "float"
        },
        {
         "name": "413",
         "rawType": "float16",
         "type": "float"
        },
        {
         "name": "414",
         "rawType": "float16",
         "type": "float"
        },
        {
         "name": "415",
         "rawType": "float16",
         "type": "float"
        },
        {
         "name": "416",
         "rawType": "float16",
         "type": "float"
        },
        {
         "name": "417",
         "rawType": "float16",
         "type": "float"
        },
        {
         "name": "418",
         "rawType": "float16",
         "type": "float"
        },
        {
         "name": "419",
         "rawType": "float16",
         "type": "float"
        },
        {
         "name": "420",
         "rawType": "float16",
         "type": "float"
        },
        {
         "name": "421",
         "rawType": "float16",
         "type": "float"
        },
        {
         "name": "422",
         "rawType": "float16",
         "type": "float"
        },
        {
         "name": "423",
         "rawType": "float16",
         "type": "float"
        },
        {
         "name": "424",
         "rawType": "float16",
         "type": "float"
        },
        {
         "name": "425",
         "rawType": "float16",
         "type": "float"
        },
        {
         "name": "426",
         "rawType": "float16",
         "type": "float"
        },
        {
         "name": "427",
         "rawType": "float16",
         "type": "float"
        },
        {
         "name": "428",
         "rawType": "float16",
         "type": "float"
        },
        {
         "name": "429",
         "rawType": "float16",
         "type": "float"
        },
        {
         "name": "430",
         "rawType": "float16",
         "type": "float"
        },
        {
         "name": "431",
         "rawType": "float16",
         "type": "float"
        },
        {
         "name": "432",
         "rawType": "float16",
         "type": "float"
        },
        {
         "name": "433",
         "rawType": "float16",
         "type": "float"
        },
        {
         "name": "434",
         "rawType": "float16",
         "type": "float"
        },
        {
         "name": "435",
         "rawType": "float16",
         "type": "float"
        },
        {
         "name": "436",
         "rawType": "float16",
         "type": "float"
        },
        {
         "name": "437",
         "rawType": "float16",
         "type": "float"
        },
        {
         "name": "438",
         "rawType": "float16",
         "type": "float"
        },
        {
         "name": "439",
         "rawType": "float16",
         "type": "float"
        },
        {
         "name": "440",
         "rawType": "float16",
         "type": "float"
        },
        {
         "name": "441",
         "rawType": "float16",
         "type": "float"
        },
        {
         "name": "442",
         "rawType": "float16",
         "type": "float"
        },
        {
         "name": "443",
         "rawType": "float16",
         "type": "float"
        },
        {
         "name": "444",
         "rawType": "float16",
         "type": "float"
        },
        {
         "name": "445",
         "rawType": "float16",
         "type": "float"
        },
        {
         "name": "446",
         "rawType": "float16",
         "type": "float"
        },
        {
         "name": "447",
         "rawType": "float16",
         "type": "float"
        },
        {
         "name": "448",
         "rawType": "float16",
         "type": "float"
        },
        {
         "name": "449",
         "rawType": "float16",
         "type": "float"
        },
        {
         "name": "450",
         "rawType": "float16",
         "type": "float"
        },
        {
         "name": "451",
         "rawType": "float16",
         "type": "float"
        },
        {
         "name": "452",
         "rawType": "float16",
         "type": "float"
        },
        {
         "name": "453",
         "rawType": "float16",
         "type": "float"
        },
        {
         "name": "454",
         "rawType": "float16",
         "type": "float"
        },
        {
         "name": "455",
         "rawType": "float16",
         "type": "float"
        },
        {
         "name": "456",
         "rawType": "float16",
         "type": "float"
        },
        {
         "name": "457",
         "rawType": "float16",
         "type": "float"
        },
        {
         "name": "458",
         "rawType": "float16",
         "type": "float"
        },
        {
         "name": "459",
         "rawType": "float16",
         "type": "float"
        },
        {
         "name": "460",
         "rawType": "float16",
         "type": "float"
        },
        {
         "name": "461",
         "rawType": "float16",
         "type": "float"
        },
        {
         "name": "462",
         "rawType": "float16",
         "type": "float"
        },
        {
         "name": "463",
         "rawType": "float16",
         "type": "float"
        },
        {
         "name": "464",
         "rawType": "float16",
         "type": "float"
        },
        {
         "name": "465",
         "rawType": "float16",
         "type": "float"
        },
        {
         "name": "466",
         "rawType": "float16",
         "type": "float"
        },
        {
         "name": "467",
         "rawType": "float16",
         "type": "float"
        },
        {
         "name": "468",
         "rawType": "float16",
         "type": "float"
        },
        {
         "name": "469",
         "rawType": "float16",
         "type": "float"
        },
        {
         "name": "470",
         "rawType": "float16",
         "type": "float"
        },
        {
         "name": "471",
         "rawType": "float16",
         "type": "float"
        },
        {
         "name": "472",
         "rawType": "float16",
         "type": "float"
        },
        {
         "name": "473",
         "rawType": "float16",
         "type": "float"
        },
        {
         "name": "474",
         "rawType": "float16",
         "type": "float"
        },
        {
         "name": "475",
         "rawType": "float16",
         "type": "float"
        },
        {
         "name": "476",
         "rawType": "float16",
         "type": "float"
        },
        {
         "name": "477",
         "rawType": "float16",
         "type": "float"
        },
        {
         "name": "478",
         "rawType": "float16",
         "type": "float"
        },
        {
         "name": "479",
         "rawType": "float16",
         "type": "float"
        },
        {
         "name": "480",
         "rawType": "float16",
         "type": "float"
        },
        {
         "name": "481",
         "rawType": "float16",
         "type": "float"
        },
        {
         "name": "482",
         "rawType": "float16",
         "type": "float"
        },
        {
         "name": "483",
         "rawType": "float16",
         "type": "float"
        },
        {
         "name": "484",
         "rawType": "float16",
         "type": "float"
        },
        {
         "name": "485",
         "rawType": "float16",
         "type": "float"
        },
        {
         "name": "486",
         "rawType": "float16",
         "type": "float"
        },
        {
         "name": "487",
         "rawType": "float16",
         "type": "float"
        },
        {
         "name": "488",
         "rawType": "float16",
         "type": "float"
        },
        {
         "name": "489",
         "rawType": "float16",
         "type": "float"
        },
        {
         "name": "490",
         "rawType": "float16",
         "type": "float"
        },
        {
         "name": "491",
         "rawType": "float16",
         "type": "float"
        },
        {
         "name": "492",
         "rawType": "float16",
         "type": "float"
        },
        {
         "name": "493",
         "rawType": "float16",
         "type": "float"
        },
        {
         "name": "494",
         "rawType": "float16",
         "type": "float"
        },
        {
         "name": "495",
         "rawType": "float16",
         "type": "float"
        },
        {
         "name": "496",
         "rawType": "float16",
         "type": "float"
        },
        {
         "name": "497",
         "rawType": "float16",
         "type": "float"
        },
        {
         "name": "498",
         "rawType": "float16",
         "type": "float"
        },
        {
         "name": "499",
         "rawType": "float16",
         "type": "float"
        },
        {
         "name": "500",
         "rawType": "float16",
         "type": "float"
        },
        {
         "name": "501",
         "rawType": "float16",
         "type": "float"
        },
        {
         "name": "502",
         "rawType": "float16",
         "type": "float"
        },
        {
         "name": "503",
         "rawType": "float16",
         "type": "float"
        },
        {
         "name": "504",
         "rawType": "float16",
         "type": "float"
        },
        {
         "name": "505",
         "rawType": "float16",
         "type": "float"
        },
        {
         "name": "506",
         "rawType": "float16",
         "type": "float"
        },
        {
         "name": "507",
         "rawType": "float16",
         "type": "float"
        },
        {
         "name": "508",
         "rawType": "float16",
         "type": "float"
        },
        {
         "name": "509",
         "rawType": "float16",
         "type": "float"
        },
        {
         "name": "510",
         "rawType": "float16",
         "type": "float"
        },
        {
         "name": "511",
         "rawType": "float16",
         "type": "float"
        },
        {
         "name": "512",
         "rawType": "float16",
         "type": "float"
        },
        {
         "name": "513",
         "rawType": "float16",
         "type": "float"
        },
        {
         "name": "514",
         "rawType": "float16",
         "type": "float"
        },
        {
         "name": "515",
         "rawType": "float16",
         "type": "float"
        },
        {
         "name": "516",
         "rawType": "float16",
         "type": "float"
        },
        {
         "name": "517",
         "rawType": "float16",
         "type": "float"
        },
        {
         "name": "518",
         "rawType": "float16",
         "type": "float"
        },
        {
         "name": "519",
         "rawType": "float16",
         "type": "float"
        },
        {
         "name": "520",
         "rawType": "float16",
         "type": "float"
        },
        {
         "name": "521",
         "rawType": "float16",
         "type": "float"
        },
        {
         "name": "522",
         "rawType": "float16",
         "type": "float"
        },
        {
         "name": "523",
         "rawType": "float16",
         "type": "float"
        },
        {
         "name": "524",
         "rawType": "float16",
         "type": "float"
        },
        {
         "name": "525",
         "rawType": "float16",
         "type": "float"
        },
        {
         "name": "526",
         "rawType": "float16",
         "type": "float"
        },
        {
         "name": "527",
         "rawType": "float16",
         "type": "float"
        },
        {
         "name": "528",
         "rawType": "float16",
         "type": "float"
        },
        {
         "name": "529",
         "rawType": "float16",
         "type": "float"
        },
        {
         "name": "530",
         "rawType": "float16",
         "type": "float"
        },
        {
         "name": "531",
         "rawType": "float16",
         "type": "float"
        },
        {
         "name": "532",
         "rawType": "float16",
         "type": "float"
        },
        {
         "name": "533",
         "rawType": "float16",
         "type": "float"
        },
        {
         "name": "534",
         "rawType": "float16",
         "type": "float"
        },
        {
         "name": "535",
         "rawType": "float16",
         "type": "float"
        },
        {
         "name": "536",
         "rawType": "float16",
         "type": "float"
        },
        {
         "name": "537",
         "rawType": "float16",
         "type": "float"
        },
        {
         "name": "538",
         "rawType": "float16",
         "type": "float"
        },
        {
         "name": "539",
         "rawType": "float16",
         "type": "float"
        },
        {
         "name": "540",
         "rawType": "float16",
         "type": "float"
        },
        {
         "name": "541",
         "rawType": "float16",
         "type": "float"
        },
        {
         "name": "542",
         "rawType": "float16",
         "type": "float"
        },
        {
         "name": "543",
         "rawType": "float16",
         "type": "float"
        },
        {
         "name": "544",
         "rawType": "float16",
         "type": "float"
        },
        {
         "name": "545",
         "rawType": "float16",
         "type": "float"
        },
        {
         "name": "546",
         "rawType": "float16",
         "type": "float"
        },
        {
         "name": "547",
         "rawType": "float16",
         "type": "float"
        },
        {
         "name": "548",
         "rawType": "float16",
         "type": "float"
        },
        {
         "name": "549",
         "rawType": "float16",
         "type": "float"
        },
        {
         "name": "550",
         "rawType": "float16",
         "type": "float"
        },
        {
         "name": "551",
         "rawType": "float16",
         "type": "float"
        },
        {
         "name": "552",
         "rawType": "float16",
         "type": "float"
        },
        {
         "name": "553",
         "rawType": "float16",
         "type": "float"
        },
        {
         "name": "554",
         "rawType": "float16",
         "type": "float"
        },
        {
         "name": "555",
         "rawType": "float16",
         "type": "float"
        },
        {
         "name": "556",
         "rawType": "float16",
         "type": "float"
        },
        {
         "name": "557",
         "rawType": "float16",
         "type": "float"
        },
        {
         "name": "558",
         "rawType": "float16",
         "type": "float"
        },
        {
         "name": "559",
         "rawType": "float16",
         "type": "float"
        },
        {
         "name": "560",
         "rawType": "float16",
         "type": "float"
        },
        {
         "name": "561",
         "rawType": "float16",
         "type": "float"
        },
        {
         "name": "562",
         "rawType": "float16",
         "type": "float"
        },
        {
         "name": "563",
         "rawType": "float16",
         "type": "float"
        },
        {
         "name": "564",
         "rawType": "float16",
         "type": "float"
        },
        {
         "name": "565",
         "rawType": "float16",
         "type": "float"
        },
        {
         "name": "566",
         "rawType": "float16",
         "type": "float"
        },
        {
         "name": "567",
         "rawType": "float16",
         "type": "float"
        },
        {
         "name": "568",
         "rawType": "float16",
         "type": "float"
        },
        {
         "name": "569",
         "rawType": "float16",
         "type": "float"
        },
        {
         "name": "570",
         "rawType": "float16",
         "type": "float"
        },
        {
         "name": "571",
         "rawType": "float16",
         "type": "float"
        },
        {
         "name": "572",
         "rawType": "float16",
         "type": "float"
        },
        {
         "name": "573",
         "rawType": "float16",
         "type": "float"
        },
        {
         "name": "574",
         "rawType": "float16",
         "type": "float"
        },
        {
         "name": "575",
         "rawType": "float16",
         "type": "float"
        },
        {
         "name": "576",
         "rawType": "float16",
         "type": "float"
        },
        {
         "name": "577",
         "rawType": "float16",
         "type": "float"
        },
        {
         "name": "578",
         "rawType": "float16",
         "type": "float"
        },
        {
         "name": "579",
         "rawType": "float16",
         "type": "float"
        },
        {
         "name": "580",
         "rawType": "float16",
         "type": "float"
        },
        {
         "name": "581",
         "rawType": "float16",
         "type": "float"
        },
        {
         "name": "582",
         "rawType": "float16",
         "type": "float"
        },
        {
         "name": "583",
         "rawType": "float16",
         "type": "float"
        },
        {
         "name": "584",
         "rawType": "float16",
         "type": "float"
        },
        {
         "name": "585",
         "rawType": "float16",
         "type": "float"
        },
        {
         "name": "586",
         "rawType": "float16",
         "type": "float"
        },
        {
         "name": "587",
         "rawType": "float16",
         "type": "float"
        },
        {
         "name": "588",
         "rawType": "float16",
         "type": "float"
        },
        {
         "name": "589",
         "rawType": "float16",
         "type": "float"
        },
        {
         "name": "590",
         "rawType": "float16",
         "type": "float"
        },
        {
         "name": "591",
         "rawType": "float16",
         "type": "float"
        },
        {
         "name": "592",
         "rawType": "float16",
         "type": "float"
        },
        {
         "name": "593",
         "rawType": "float16",
         "type": "float"
        },
        {
         "name": "594",
         "rawType": "float16",
         "type": "float"
        },
        {
         "name": "595",
         "rawType": "float16",
         "type": "float"
        },
        {
         "name": "596",
         "rawType": "float16",
         "type": "float"
        },
        {
         "name": "597",
         "rawType": "float16",
         "type": "float"
        },
        {
         "name": "598",
         "rawType": "float16",
         "type": "float"
        },
        {
         "name": "599",
         "rawType": "float16",
         "type": "float"
        },
        {
         "name": "600",
         "rawType": "float16",
         "type": "float"
        },
        {
         "name": "601",
         "rawType": "float16",
         "type": "float"
        },
        {
         "name": "602",
         "rawType": "float16",
         "type": "float"
        },
        {
         "name": "603",
         "rawType": "float16",
         "type": "float"
        },
        {
         "name": "604",
         "rawType": "float16",
         "type": "float"
        },
        {
         "name": "605",
         "rawType": "float16",
         "type": "float"
        },
        {
         "name": "606",
         "rawType": "float16",
         "type": "float"
        },
        {
         "name": "607",
         "rawType": "float16",
         "type": "float"
        },
        {
         "name": "608",
         "rawType": "float16",
         "type": "float"
        },
        {
         "name": "609",
         "rawType": "float16",
         "type": "float"
        },
        {
         "name": "610",
         "rawType": "float16",
         "type": "float"
        },
        {
         "name": "611",
         "rawType": "float16",
         "type": "float"
        },
        {
         "name": "612",
         "rawType": "float16",
         "type": "float"
        },
        {
         "name": "613",
         "rawType": "float16",
         "type": "float"
        },
        {
         "name": "614",
         "rawType": "float16",
         "type": "float"
        },
        {
         "name": "615",
         "rawType": "float16",
         "type": "float"
        },
        {
         "name": "616",
         "rawType": "float16",
         "type": "float"
        },
        {
         "name": "617",
         "rawType": "float16",
         "type": "float"
        },
        {
         "name": "618",
         "rawType": "float16",
         "type": "float"
        },
        {
         "name": "619",
         "rawType": "float16",
         "type": "float"
        },
        {
         "name": "620",
         "rawType": "float16",
         "type": "float"
        },
        {
         "name": "621",
         "rawType": "float16",
         "type": "float"
        },
        {
         "name": "622",
         "rawType": "float16",
         "type": "float"
        },
        {
         "name": "623",
         "rawType": "float16",
         "type": "float"
        },
        {
         "name": "624",
         "rawType": "float16",
         "type": "float"
        },
        {
         "name": "625",
         "rawType": "float16",
         "type": "float"
        },
        {
         "name": "626",
         "rawType": "float16",
         "type": "float"
        },
        {
         "name": "627",
         "rawType": "float16",
         "type": "float"
        },
        {
         "name": "628",
         "rawType": "float16",
         "type": "float"
        },
        {
         "name": "629",
         "rawType": "float16",
         "type": "float"
        },
        {
         "name": "630",
         "rawType": "float16",
         "type": "float"
        },
        {
         "name": "631",
         "rawType": "float16",
         "type": "float"
        },
        {
         "name": "632",
         "rawType": "float16",
         "type": "float"
        },
        {
         "name": "633",
         "rawType": "float16",
         "type": "float"
        },
        {
         "name": "634",
         "rawType": "float16",
         "type": "float"
        },
        {
         "name": "635",
         "rawType": "float16",
         "type": "float"
        },
        {
         "name": "636",
         "rawType": "float16",
         "type": "float"
        },
        {
         "name": "637",
         "rawType": "float16",
         "type": "float"
        },
        {
         "name": "638",
         "rawType": "float16",
         "type": "float"
        },
        {
         "name": "639",
         "rawType": "float16",
         "type": "float"
        },
        {
         "name": "640",
         "rawType": "float16",
         "type": "float"
        },
        {
         "name": "641",
         "rawType": "float16",
         "type": "float"
        },
        {
         "name": "642",
         "rawType": "float16",
         "type": "float"
        },
        {
         "name": "643",
         "rawType": "float16",
         "type": "float"
        },
        {
         "name": "644",
         "rawType": "float16",
         "type": "float"
        },
        {
         "name": "645",
         "rawType": "float16",
         "type": "float"
        },
        {
         "name": "646",
         "rawType": "float16",
         "type": "float"
        },
        {
         "name": "647",
         "rawType": "float16",
         "type": "float"
        },
        {
         "name": "648",
         "rawType": "float16",
         "type": "float"
        },
        {
         "name": "649",
         "rawType": "float16",
         "type": "float"
        },
        {
         "name": "650",
         "rawType": "float16",
         "type": "float"
        },
        {
         "name": "651",
         "rawType": "float16",
         "type": "float"
        },
        {
         "name": "652",
         "rawType": "float16",
         "type": "float"
        },
        {
         "name": "653",
         "rawType": "float16",
         "type": "float"
        },
        {
         "name": "654",
         "rawType": "float16",
         "type": "float"
        },
        {
         "name": "655",
         "rawType": "float16",
         "type": "float"
        },
        {
         "name": "656",
         "rawType": "float16",
         "type": "float"
        },
        {
         "name": "657",
         "rawType": "float16",
         "type": "float"
        },
        {
         "name": "658",
         "rawType": "float16",
         "type": "float"
        },
        {
         "name": "659",
         "rawType": "float16",
         "type": "float"
        },
        {
         "name": "660",
         "rawType": "float16",
         "type": "float"
        },
        {
         "name": "661",
         "rawType": "float16",
         "type": "float"
        },
        {
         "name": "662",
         "rawType": "float16",
         "type": "float"
        }
       ],
       "ref": "12200eea-2290-4eb8-8355-d42f0942ffec",
       "rows": [
        [
         "0",
         "0.0",
         "17.38",
         "371.5",
         "315.2",
         "215.0",
         "664.0",
         "659.5",
         "349.0",
         "1181.0",
         "1254.0",
         "1601.0",
         "1930.0",
         "5296.0",
         "4804.0",
         "5316.0",
         "5070.0",
         "4772.0",
         "4668.0",
         "4650.0",
         "4564.0",
         "4584.0",
         "4664.0",
         "2562.0",
         "2572.0",
         "2578.0",
         "2744.0",
         "2388.0",
         "2398.0",
         "2088.0",
         "2220.0",
         "2230.0",
         "2138.0",
         "2054.0",
         "2064.0",
         "2134.0",
         "1891.0",
         "1900.0",
         "1759.0",
         "1747.0",
         "1682.0",
         "865.5",
         "868.0",
         "926.0",
         "1072.0",
         "949.0",
         "1189.0",
         "1308.0",
         "1109.0",
         "1031.0",
         "865.0",
         "2742.0",
         "2724.0",
         "2520.0",
         "1145.0",
         "991.0",
         "1311.0",
         "958.5",
         "1001.5",
         "1153.0",
         "826.0",
         "1046.0",
         "664.5",
         "672.5",
         "371.5",
         "553.0",
         "489.2",
         "532.0",
         "502.5",
         "549.5",
         "546.5",
         "2692.0",
         "2682.0",
         "2186.0",
         "2124.0",
         "2260.0",
         "2312.0",
         "2420.0",
         "1748.0",
         "3752.0",
         "3686.0",
         "3102.0",
         "4456.0",
         "4550.0",
         "3664.0",
         "2972.0",
         "3534.0",
         "3332.0",
         "3046.0",
         "3502.0",
         "3282.0",
         "4684.0",
         "3000.0",
         "2846.0",
         "2934.0",
         "3034.0",
         "3188.0",
         "3224.0",
         "3130.0",
         "3330.0",
         "3280.0",
         "3220.0",
         "3288.0",
         "3374.0",
         "4148.0",
         "3840.0",
         "4268.0",
         "4452.0",
         "4164.0",
         "3940.0",
         "4356.0",
         "3508.0",
         "3488.0",
         "3578.0",
         "3608.0",
         "3624.0",
         "3416.0",
         "2880.0",
         "2960.0",
         "2626.0",
         "3022.0",
         "2956.0",
         "3076.0",
         "3028.0",
         "3446.0",
         "2742.0",
         "3152.0",
         "2598.0",
         "3924.0",
         "4058.0",
         "3924.0",
         "3598.0",
         "3932.0",
         "3886.0",
         "2930.0",
         "2816.0",
         "2982.0",
         "2756.0",
         "752.0",
         "772.5",
         "707.5",
         "995.0",
         "1021.0",
         "1108.0",
         "1135.0",
         "787.0",
         "870.5",
         "765.5",
         "689.0",
         "696.5",
         "592.5",
         "1477.0",
         "1486.0",
         "1607.0",
         "1434.0",
         "1352.0",
         "1273.0",
         "1431.0",
         "1501.0",
         "1324.0",
         "1270.0",
         "1190.0",
         "1233.0",
         "944.0",
         "1072.0",
         "787.5",
         "828.0",
         "1951.0",
         "1555.0",
         "2178.0",
         "2342.0",
         "2048.0",
         "2014.0",
         "1861.0",
         "2050.0",
         "1687.0",
         "1851.0",
         "1561.0",
         "2088.0",
         "2060.0",
         "1599.0",
         "1524.0",
         "1561.0",
         "1717.0",
         "1710.0",
         "3630.0",
         "3610.0",
         "3954.0",
         "3504.0",
         "3416.0",
         "4708.0",
         "4730.0",
         "4770.0",
         "4924.0",
         "4948.0",
         "4640.0",
         "5010.0",
         "4870.0",
         "2738.0",
         "2892.0",
         "3440.0",
         "3066.0",
         "3252.0",
         "2750.0",
         "3146.0",
         "3402.0",
         "5456.0",
         "5710.0",
         "5384.0",
         "2926.0",
         "4572.0",
         "4590.0",
         "1850.0",
         "1831.0",
         "1906.0",
         "2025.0",
         "1647.0",
         "1116.0",
         "1153.0",
         "1035.0",
         "1244.0",
         "1122.0",
         "870.0",
         "907.0",
         "1764.0",
         "4012.0",
         "4292.0",
         "1926.0",
         "2058.0",
         "1897.0",
         "3768.0",
         "4988.0",
         "5052.0",
         "4916.0",
         "5148.0",
         "5256.0",
         "5284.0",
         "5464.0",
         "4300.0",
         "4170.0",
         "4690.0",
         "5130.0",
         "2552.0",
         "3412.0",
         "3336.0",
         "3718.0",
         "3142.0",
         "3270.0",
         "3536.0",
         "3194.0",
         "2946.0",
         "3432.0",
         "3820.0",
         "3314.0",
         "3640.0",
         "3994.0",
         "4216.0",
         "4264.0",
         "4464.0",
         "5036.0",
         "4332.0",
         "4348.0",
         "3550.0",
         "2870.0",
         "2856.0",
         "2830.0",
         "3158.0",
         "1597.0",
         "790.5",
         "332.0",
         "687.0",
         "167.6",
         "47.7",
         "307.0",
         "2470.0",
         "1988.0",
         "2460.0",
         "2196.0",
         "3974.0",
         "4160.0",
         "4024.0",
         "3312.0",
         "3424.0",
         "2922.0",
         "945.5",
         "978.5",
         "4140.0",
         "5100.0",
         "3026.0",
         "3342.0",
         "2848.0",
         "5236.0",
         "3566.0",
         "3516.0",
         "3286.0",
         "3704.0",
         "3532.0",
         "4420.0",
         "2033.0",
         "1168.0",
         "1165.0",
         "1198.0",
         "1246.0",
         "1132.0",
         "1176.0",
         "1585.0",
         "2574.0",
         "2414.0",
         "2550.0",
         "1462.0",
         "3444.0",
         "3592.0",
         "4292.0",
         "4292.0",
         "1424.0",
         "1193.0",
         "1205.0",
         "1292.0",
         "3298.0",
         "3132.0",
         "3726.0",
         "3750.0",
         "3712.0",
         "3832.0",
         "1583.0",
         "1613.0",
         "1706.0",
         "1540.0",
         "1464.0",
         "1385.0",
         "1452.0",
         "1734.0",
         "481.0",
         "441.5",
         "3960.0",
         "3696.0",
         "4028.0",
         "1049.0",
         "5264.0",
         "4050.0",
         "25.4",
         "263.2",
         "151.4",
         "230.9",
         "1580.0",
         "1430.0",
         "1743.0",
         "1652.0",
         "3760.0",
         "3850.0",
         "3908.0",
         "3992.0",
         "3926.0",
         "4276.0",
         "3852.0",
         "4450.0",
         "399.2",
         "597.5",
         "1047.0",
         "381.8",
         "401.5",
         "347.2",
         "418.5",
         "2864.0",
         "2854.0",
         "2678.0",
         "3796.0",
         "367.5",
         "444.2",
         "4656.0",
         "5108.0",
         "5164.0",
         "5650.0",
         "5904.0",
         "5932.0",
         "5140.0",
         "5400.0",
         "5450.0",
         "3650.0",
         "3934.0",
         "4292.0",
         "4650.0",
         "1580.0",
         "1571.0",
         "1797.0",
         "1581.0",
         "1724.0",
         "1593.0",
         "2860.0",
         "2912.0",
         "3086.0",
         "3720.0",
         "3916.0",
         "1737.0",
         "1672.0",
         "1927.0",
         "1722.0",
         "1928.0",
         "1553.0",
         "1845.0",
         "1697.0",
         "1681.0",
         "12136.0",
         "12980.0",
         "5690.0",
         "1652.0",
         "1820.0",
         "500.5",
         "8390.0",
         "9540.0",
         "8980.0",
         "9064.0",
         "8830.0",
         "8190.0",
         "8370.0",
         "1888.0",
         "1399.0",
         "1534.0",
         "13416.0",
         "1481.0",
         "1317.0",
         "1319.0",
         "1041.0",
         "613.0",
         "631.0",
         "669.0",
         "574.5",
         "834.5",
         "2380.0",
         "3634.0",
         "2990.0",
         "1437.0",
         "860.5",
         "1103.0",
         "4820.0",
         "3312.0",
         "2112.0",
         "4150.0",
         "4012.0",
         "4410.0",
         "4350.0",
         "4268.0",
         "4628.0",
         "7148.0",
         "6216.0",
         "7210.0",
         "2732.0",
         "2866.0",
         "4540.0",
         "4150.0",
         "4052.0",
         "3124.0",
         "2862.0",
         "3550.0",
         "3832.0",
         "3572.0",
         "1498.0",
         "579.0",
         "590.5",
         "754.5",
         "342.0",
         "370.5",
         "234.8",
         "207.9",
         "242.1",
         "1374.0",
         "1150.0",
         "759.0",
         "750.5",
         "713.0",
         "563.0",
         "467.2",
         "457.5",
         "266.5",
         "831.0",
         "2270.0",
         "1839.0",
         "3922.0",
         "3878.0",
         "3828.0",
         "3726.0",
         "3544.0",
         "3440.0",
         "3262.0",
         "3576.0",
         "2964.0",
         "2714.0",
         "2706.0",
         "2210.0",
         "2588.0",
         "2542.0",
         "2388.0",
         "2052.0",
         "2214.0",
         "1725.0",
         "1569.0",
         "1411.0",
         "1394.0",
         "7236.0",
         "7252.0",
         "7064.0",
         "2298.0",
         "2118.0",
         "2096.0",
         "794.5",
         "1674.0",
         "1660.0",
         "1868.0",
         "1443.0",
         "1420.0",
         "1403.0",
         "1367.0",
         "920.5",
         "1161.0",
         "1712.0",
         "1779.0",
         "1733.0",
         "1784.0",
         "1877.0",
         "1893.0",
         "3138.0",
         "3150.0",
         "3162.0",
         "3496.0",
         "3272.0",
         "3176.0",
         "2302.0",
         "1906.0",
         "1176.0",
         "1727.0",
         "1659.0",
         "1813.0",
         "1639.0",
         "1706.0",
         "1482.0",
         "1325.0",
         "1054.0",
         "1168.0",
         "897.5",
         "1980.0",
         "1828.0",
         "3576.0",
         "3834.0",
         "3552.0",
         "3286.0",
         "3512.0",
         "6350.0",
         "6344.0",
         "6252.0",
         "6250.0",
         "6230.0",
         "6228.0",
         "6200.0",
         "3826.0",
         "3564.0",
         "762.5",
         "7996.0",
         "8028.0",
         "8260.0",
         "8330.0",
         "8300.0",
         "8200.0",
         "5296.0",
         "5692.0",
         "5116.0",
         "5564.0",
         "4256.0",
         "8410.0",
         "8390.0",
         "8776.0",
         "8180.0",
         "6910.0",
         "6924.0",
         "6900.0",
         "7004.0",
         "7964.0",
         "8056.0",
         "6184.0",
         "5584.0",
         "7090.0",
         "7076.0",
         "7176.0",
         "7040.0",
         "7030.0",
         "7776.0",
         "8172.0",
         "7850.0",
         "7210.0",
         "3622.0",
         "4024.0",
         "3636.0",
         "4042.0",
         "3882.0",
         "3516.0",
         "3538.0",
         "3690.0",
         "4120.0",
         "3394.0",
         "3652.0",
         "3592.0",
         "2850.0",
         "1821.0",
         "2306.0",
         "1906.0",
         "2842.0",
         "1915.0",
         "2838.0",
         "255.5",
         "320.0",
         "411.2",
         "563.5",
         "887.5",
         "910.5",
         "1066.0",
         "1218.0",
         "1375.0",
         "1537.0",
         "1582.0",
         "1566.0",
         "1885.0",
         "2039.0",
         "2614.0",
         "3056.0",
         "3044.0",
         "1873.0",
         "6890.0",
         "7908.0",
         "8052.0",
         "7836.0",
         "7920.0",
         "7510.0",
         "7292.0",
         "8340.0",
         "8390.0",
         "8376.0",
         "8068.0",
         "8144.0",
         "8130.0",
         "8240.0",
         "8172.0",
         "7240.0",
         "7500.0",
         "8680.0",
         "8700.0",
         "8420.0",
         "8800.0",
         "7516.0",
         "7268.0",
         "7256.0",
         "8456.0",
         "8108.0",
         "7264.0",
         "2874.0",
         "3570.0",
         "3626.0",
         "3888.0",
         "4696.0",
         "3860.0",
         "5390.0",
         "5590.0",
         "5080.0",
         "5576.0",
         "4276.0",
         "5016.0"
        ],
        [
         "1",
         "37.75",
         "0.0",
         "354.0",
         "297.8",
         "197.6",
         "647.0",
         "642.0",
         "331.8",
         "1163.0",
         "1237.0",
         "1584.0",
         "1913.0",
         "5276.0",
         "4788.0",
         "5300.0",
         "5052.0",
         "4750.0",
         "4650.0",
         "4630.0",
         "4544.0",
         "4570.0",
         "4650.0",
         "2544.0",
         "2556.0",
         "2562.0",
         "2728.0",
         "2370.0",
         "2382.0",
         "2070.0",
         "2202.0",
         "2212.0",
         "2120.0",
         "2037.0",
         "2047.0",
         "2118.0",
         "1873.0",
         "1883.0",
         "1741.0",
         "1730.0",
         "1665.0",
         "848.0",
         "850.5",
         "908.5",
         "1055.0",
         "931.5",
         "1171.0",
         "1291.0",
         "1091.0",
         "1014.0",
         "847.5",
         "2726.0",
         "2706.0",
         "2504.0",
         "1128.0",
         "974.0",
         "1293.0",
         "941.0",
         "984.5",
         "1135.0",
         "808.5",
         "1028.0",
         "647.0",
         "655.5",
         "354.2",
         "535.5",
         "472.0",
         "515.0",
         "485.2",
         "532.0",
         "529.0",
         "2674.0",
         "2666.0",
         "2170.0",
         "2106.0",
         "2244.0",
         "2296.0",
         "2402.0",
         "1731.0",
         "3734.0",
         "3668.0",
         "3084.0",
         "4440.0",
         "4536.0",
         "3646.0",
         "2954.0",
         "3518.0",
         "3314.0",
         "3030.0",
         "3486.0",
         "3264.0",
         "4668.0",
         "2984.0",
         "2830.0",
         "2918.0",
         "3018.0",
         "3172.0",
         "3206.0",
         "3112.0",
         "3312.0",
         "3264.0",
         "3204.0",
         "3270.0",
         "3356.0",
         "4132.0",
         "3822.0",
         "4252.0",
         "4430.0",
         "4148.0",
         "3922.0",
         "4336.0",
         "3490.0",
         "3470.0",
         "3562.0",
         "3590.0",
         "3606.0",
         "3400.0",
         "2862.0",
         "2942.0",
         "2610.0",
         "3006.0",
         "2940.0",
         "3058.0",
         "3010.0",
         "3428.0",
         "2726.0",
         "3134.0",
         "2582.0",
         "3906.0",
         "4040.0",
         "3908.0",
         "3580.0",
         "3914.0",
         "3868.0",
         "2912.0",
         "2798.0",
         "2964.0",
         "2738.0",
         "735.0",
         "755.5",
         "690.0",
         "978.0",
         "1004.0",
         "1090.0",
         "1117.0",
         "769.5",
         "853.0",
         "748.5",
         "672.0",
         "679.5",
         "575.0",
         "1460.0",
         "1469.0",
         "1590.0",
         "1417.0",
         "1335.0",
         "1256.0",
         "1413.0",
         "1484.0",
         "1306.0",
         "1252.0",
         "1172.0",
         "1216.0",
         "926.5",
         "1055.0",
         "770.0",
         "810.5",
         "1933.0",
         "1538.0",
         "2160.0",
         "2324.0",
         "2031.0",
         "1996.0",
         "1843.0",
         "2033.0",
         "1670.0",
         "1833.0",
         "1544.0",
         "2072.0",
         "2042.0",
         "1582.0",
         "1507.0",
         "1544.0",
         "1699.0",
         "1693.0",
         "3614.0",
         "3592.0",
         "3936.0",
         "3486.0",
         "3398.0",
         "4692.0",
         "4710.0",
         "4750.0",
         "4904.0",
         "4930.0",
         "4620.0",
         "4988.0",
         "4856.0",
         "2720.0",
         "2874.0",
         "3422.0",
         "3048.0",
         "3236.0",
         "2732.0",
         "3130.0",
         "3386.0",
         "5440.0",
         "5692.0",
         "5370.0",
         "2908.0",
         "4550.0",
         "4576.0",
         "1833.0",
         "1813.0",
         "1888.0",
         "2007.0",
         "1630.0",
         "1098.0",
         "1136.0",
         "1017.5",
         "1227.0",
         "1105.0",
         "852.5",
         "890.0",
         "1746.0",
         "3994.0",
         "4276.0",
         "1908.0",
         "2041.0",
         "1879.0",
         "3750.0",
         "4970.0",
         "5030.0",
         "4900.0",
         "5132.0",
         "5240.0",
         "5264.0",
         "5450.0",
         "4284.0",
         "4150.0",
         "4670.0",
         "5110.0",
         "2536.0",
         "3394.0",
         "3318.0",
         "3702.0",
         "3124.0",
         "3252.0",
         "3518.0",
         "3176.0",
         "2930.0",
         "3416.0",
         "3804.0",
         "3296.0",
         "3624.0",
         "3978.0",
         "4200.0",
         "4244.0",
         "4444.0",
         "5016.0",
         "4310.0",
         "4332.0",
         "3532.0",
         "2854.0",
         "2840.0",
         "2812.0",
         "3140.0",
         "1580.0",
         "773.0",
         "314.8",
         "670.0",
         "150.2",
         "30.3",
         "289.5",
         "2452.0",
         "1970.0",
         "2444.0",
         "2180.0",
         "3956.0",
         "4144.0",
         "4006.0",
         "3296.0",
         "3408.0",
         "2904.0",
         "928.0",
         "961.0",
         "4120.0",
         "5084.0",
         "3008.0",
         "3326.0",
         "2832.0",
         "5216.0",
         "3548.0",
         "3498.0",
         "3270.0",
         "3686.0",
         "3514.0",
         "4400.0",
         "2015.0",
         "1151.0",
         "1148.0",
         "1180.0",
         "1229.0",
         "1114.0",
         "1159.0",
         "1568.0",
         "2556.0",
         "2396.0",
         "2532.0",
         "1444.0",
         "3426.0",
         "3574.0",
         "4270.0",
         "4276.0",
         "1407.0",
         "1176.0",
         "1187.0",
         "1275.0",
         "3280.0",
         "3114.0",
         "3710.0",
         "3732.0",
         "3694.0",
         "3814.0",
         "1565.0",
         "1596.0",
         "1689.0",
         "1523.0",
         "1446.0",
         "1368.0",
         "1435.0",
         "1717.0",
         "463.8",
         "424.2",
         "3944.0",
         "3678.0",
         "4010.0",
         "1031.0",
         "5244.0",
         "4032.0",
         "8.02",
         "246.0",
         "134.0",
         "213.5",
         "1563.0",
         "1412.0",
         "1726.0",
         "1634.0",
         "3742.0",
         "3832.0",
         "3890.0",
         "3976.0",
         "3910.0",
         "4260.0",
         "3836.0",
         "4430.0",
         "382.0",
         "580.5",
         "1030.0",
         "364.5",
         "384.2",
         "330.0",
         "401.0",
         "2846.0",
         "2836.0",
         "2660.0",
         "3780.0",
         "350.2",
         "427.0",
         "4640.0",
         "5092.0",
         "5148.0",
         "5630.0",
         "5890.0",
         "5916.0",
         "5120.0",
         "5380.0",
         "5430.0",
         "3634.0",
         "3916.0",
         "4270.0",
         "4628.0",
         "1563.0",
         "1554.0",
         "1779.0",
         "1563.0",
         "1707.0",
         "1575.0",
         "2842.0",
         "2894.0",
         "3068.0",
         "3702.0",
         "3898.0",
         "1719.0",
         "1655.0",
         "1909.0",
         "1704.0",
         "1911.0",
         "1536.0",
         "1827.0",
         "1679.0",
         "1663.0",
         "12120.0",
         "12960.0",
         "5670.0",
         "1635.0",
         "1802.0",
         "483.0",
         "8376.0",
         "9520.0",
         "8960.0",
         "9050.0",
         "8820.0",
         "8176.0",
         "8350.0",
         "1871.0",
         "1381.0",
         "1516.0",
         "13400.0",
         "1463.0",
         "1299.0",
         "1301.0",
         "1023.5",
         "595.5",
         "614.0",
         "651.5",
         "557.0",
         "817.0",
         "2362.0",
         "3616.0",
         "2974.0",
         "1420.0",
         "843.0",
         "1086.0",
         "4804.0",
         "3294.0",
         "2094.0",
         "4136.0",
         "3994.0",
         "4390.0",
         "4336.0",
         "4252.0",
         "4612.0",
         "7132.0",
         "6196.0",
         "7188.0",
         "2716.0",
         "2848.0",
         "4524.0",
         "4136.0",
         "4034.0",
         "3106.0",
         "2846.0",
         "3532.0",
         "3814.0",
         "3556.0",
         "1480.0",
         "561.5",
         "573.0",
         "737.5",
         "324.8",
         "353.2",
         "217.4",
         "190.5",
         "224.8",
         "1357.0",
         "1133.0",
         "742.0",
         "733.0",
         "695.5",
         "545.5",
         "449.8",
         "440.0",
         "249.0",
         "813.5",
         "2254.0",
         "1822.0",
         "3904.0",
         "3860.0",
         "3810.0",
         "3708.0",
         "3526.0",
         "3422.0",
         "3244.0",
         "3558.0",
         "2948.0",
         "2696.0",
         "2688.0",
         "2192.0",
         "2572.0",
         "2524.0",
         "2370.0",
         "2035.0",
         "2196.0",
         "1707.0",
         "1552.0",
         "1393.0",
         "1376.0",
         "7220.0",
         "7236.0",
         "7050.0",
         "2280.0",
         "2100.0",
         "2080.0",
         "777.0",
         "1657.0",
         "1642.0",
         "1851.0",
         "1425.0",
         "1402.0",
         "1386.0",
         "1350.0",
         "903.0",
         "1143.0",
         "1695.0",
         "1761.0",
         "1716.0",
         "1766.0",
         "1860.0",
         "1876.0",
         "3120.0",
         "3134.0",
         "3144.0",
         "3478.0",
         "3254.0",
         "3158.0",
         "2284.0",
         "1888.0",
         "1159.0",
         "1710.0",
         "1642.0",
         "1796.0",
         "1622.0",
         "1688.0",
         "1465.0",
         "1307.0",
         "1037.0",
         "1151.0",
         "880.0",
         "1962.0",
         "1811.0",
         "3558.0",
         "3816.0",
         "3534.0",
         "3270.0",
         "3494.0",
         "6332.0",
         "6330.0",
         "6236.0",
         "6228.0",
         "6216.0",
         "6212.0",
         "6180.0",
         "3808.0",
         "3546.0",
         "745.0",
         "7980.0",
         "8012.0",
         "8230.0",
         "8310.0",
         "8290.0",
         "8180.0",
         "5276.0",
         "5670.0",
         "5100.0",
         "5548.0",
         "4236.0",
         "8390.0",
         "8376.0",
         "8760.0",
         "8164.0",
         "6896.0",
         "6908.0",
         "6884.0",
         "6988.0",
         "7944.0",
         "8036.0",
         "6170.0",
         "5570.0",
         "7068.0",
         "7060.0",
         "7160.0",
         "7024.0",
         "7012.0",
         "7756.0",
         "8150.0",
         "7828.0",
         "7190.0",
         "3604.0",
         "4006.0",
         "3618.0",
         "4024.0",
         "3864.0",
         "3498.0",
         "3520.0",
         "3672.0",
         "4104.0",
         "3376.0",
         "3636.0",
         "3574.0",
         "2832.0",
         "1803.0",
         "2290.0",
         "1889.0",
         "2826.0",
         "1897.0",
         "2822.0",
         "238.1",
         "302.8",
         "394.0",
         "546.0",
         "870.0",
         "893.0",
         "1049.0",
         "1201.0",
         "1357.0",
         "1520.0",
         "1565.0",
         "1548.0",
         "1868.0",
         "2022.0",
         "2596.0",
         "3038.0",
         "3028.0",
         "1855.0",
         "6870.0",
         "7890.0",
         "8036.0",
         "7820.0",
         "7904.0",
         "7496.0",
         "7276.0",
         "8320.0",
         "8376.0",
         "8360.0",
         "8052.0",
         "8124.0",
         "8110.0",
         "8220.0",
         "8156.0",
         "7220.0",
         "7484.0",
         "8660.0",
         "8690.0",
         "8400.0",
         "8780.0",
         "7496.0",
         "7252.0",
         "7240.0",
         "8440.0",
         "8092.0",
         "7250.0",
         "2856.0",
         "3554.0",
         "3610.0",
         "3870.0",
         "4680.0",
         "3842.0",
         "5376.0",
         "5576.0",
         "5060.0",
         "5556.0",
         "4256.0",
         "4996.0"
        ],
        [
         "2",
         "267.5",
         "285.0",
         "0.0",
         "5.52",
         "107.2",
         "354.5",
         "350.0",
         "39.38",
         "1281.0",
         "944.5",
         "1720.0",
         "2050.0",
         "5560.0",
         "5070.0",
         "5584.0",
         "5340.0",
         "5040.0",
         "4936.0",
         "4916.0",
         "4830.0",
         "4852.0",
         "4932.0",
         "2762.0",
         "2772.0",
         "2846.0",
         "2944.0",
         "2588.0",
         "2600.0",
         "2354.0",
         "2420.0",
         "2430.0",
         "2404.0",
         "2254.0",
         "2264.0",
         "2336.0",
         "2090.0",
         "2100.0",
         "1923.0",
         "1931.0",
         "1950.0",
         "555.5",
         "558.5",
         "616.5",
         "762.5",
         "639.0",
         "1456.0",
         "1427.0",
         "1376.0",
         "1299.0",
         "1132.0",
         "3010.0",
         "2992.0",
         "2788.0",
         "1413.0",
         "1259.0",
         "1578.0",
         "1226.0",
         "1269.0",
         "1420.0",
         "1094.0",
         "1313.0",
         "932.0",
         "940.0",
         "639.0",
         "820.5",
         "237.6",
         "280.5",
         "770.0",
         "817.0",
         "814.0",
         "2960.0",
         "2950.0",
         "2454.0",
         "2392.0",
         "2528.0",
         "2580.0",
         "2688.0",
         "2016.0",
         "4020.0",
         "3954.0",
         "3368.0",
         "4724.0",
         "4820.0",
         "3932.0",
         "3240.0",
         "3802.0",
         "3600.0",
         "3314.0",
         "3770.0",
         "3548.0",
         "4950.0",
         "3268.0",
         "3114.0",
         "3202.0",
         "3302.0",
         "3456.0",
         "3492.0",
         "3398.0",
         "3598.0",
         "3548.0",
         "3488.0",
         "3556.0",
         "3642.0",
         "4416.0",
         "4108.0",
         "4536.0",
         "4720.0",
         "4430.0",
         "4210.0",
         "4620.0",
         "3776.0",
         "3756.0",
         "3846.0",
         "3876.0",
         "3892.0",
         "3684.0",
         "3146.0",
         "3228.0",
         "2894.0",
         "3290.0",
         "3224.0",
         "3344.0",
         "3296.0",
         "3714.0",
         "3010.0",
         "3352.0",
         "2866.0",
         "4190.0",
         "4324.0",
         "4190.0",
         "3866.0",
         "4200.0",
         "4150.0",
         "3130.0",
         "3016.0",
         "3182.0",
         "2956.0",
         "442.5",
         "463.0",
         "397.8",
         "685.5",
         "711.5",
         "798.0",
         "825.0",
         "477.5",
         "560.5",
         "456.0",
         "379.5",
         "387.0",
         "283.0",
         "1596.0",
         "1605.0",
         "1726.0",
         "1702.0",
         "1620.0",
         "1541.0",
         "1698.0",
         "1769.0",
         "1591.0",
         "1537.0",
         "1457.0",
         "1501.0",
         "1211.0",
         "1340.0",
         "1055.0",
         "1096.0",
         "2134.0",
         "1674.0",
         "2444.0",
         "2610.0",
         "2316.0",
         "2282.0",
         "2128.0",
         "2318.0",
         "1955.0",
         "2118.0",
         "1829.0",
         "2356.0",
         "2328.0",
         "1867.0",
         "1792.0",
         "1829.0",
         "1984.0",
         "1978.0",
         "3898.0",
         "3878.0",
         "4220.0",
         "3770.0",
         "3682.0",
         "4976.0",
         "4996.0",
         "5036.0",
         "5190.0",
         "5216.0",
         "4904.0",
         "5276.0",
         "5140.0",
         "3006.0",
         "3158.0",
         "3708.0",
         "3334.0",
         "3520.0",
         "3016.0",
         "3414.0",
         "3670.0",
         "5724.0",
         "5976.0",
         "5652.0",
         "3194.0",
         "4840.0",
         "4860.0",
         "2118.0",
         "2098.0",
         "2174.0",
         "2292.0",
         "1914.0",
         "1383.0",
         "1421.0",
         "1302.0",
         "1511.0",
         "812.5",
         "1137.0",
         "1175.0",
         "1947.0",
         "4280.0",
         "4560.0",
         "2194.0",
         "2326.0",
         "2164.0",
         "4036.0",
         "5252.0",
         "5320.0",
         "5184.0",
         "5416.0",
         "5524.0",
         "5550.0",
         "5732.0",
         "4570.0",
         "4436.0",
         "4956.0",
         "5396.0",
         "2820.0",
         "3678.0",
         "3604.0",
         "3986.0",
         "3408.0",
         "3536.0",
         "3804.0",
         "3462.0",
         "3214.0",
         "3700.0",
         "4088.0",
         "3580.0",
         "3908.0",
         "4264.0",
         "4484.0",
         "4530.0",
         "4732.0",
         "5304.0",
         "4600.0",
         "4616.0",
         "3818.0",
         "3138.0",
         "3124.0",
         "3098.0",
         "3426.0",
         "1761.0",
         "1058.0",
         "599.5",
         "377.5",
         "435.0",
         "315.2",
         "574.5",
         "2736.0",
         "2256.0",
         "2728.0",
         "2464.0",
         "4240.0",
         "4428.0",
         "4292.0",
         "3580.0",
         "3692.0",
         "3190.0",
         "1213.0",
         "1246.0",
         "4410.0",
         "5370.0",
         "3294.0",
         "3610.0",
         "3116.0",
         "5504.0",
         "3834.0",
         "3782.0",
         "3554.0",
         "3970.0",
         "3800.0",
         "4690.0",
         "2300.0",
         "1287.0",
         "1265.0",
         "888.0",
         "936.5",
         "822.0",
         "866.5",
         "1704.0",
         "2842.0",
         "2682.0",
         "2816.0",
         "1729.0",
         "3710.0",
         "3858.0",
         "4556.0",
         "4560.0",
         "1114.0",
         "883.5",
         "895.0",
         "982.0",
         "3566.0",
         "3400.0",
         "3994.0",
         "4016.0",
         "3980.0",
         "4100.0",
         "1850.0",
         "1881.0",
         "1974.0",
         "1808.0",
         "1731.0",
         "1653.0",
         "1720.0",
         "2002.0",
         "748.5",
         "709.0",
         "4228.0",
         "3964.0",
         "4296.0",
         "739.0",
         "5532.0",
         "4316.0",
         "293.0",
         "531.0",
         "418.8",
         "498.5",
         "1848.0",
         "1697.0",
         "2011.0",
         "1919.0",
         "4028.0",
         "4116.0",
         "4176.0",
         "4260.0",
         "4196.0",
         "4544.0",
         "4120.0",
         "4716.0",
         "667.0",
         "865.5",
         "1315.0",
         "649.5",
         "669.0",
         "615.0",
         "686.0",
         "3132.0",
         "3122.0",
         "2944.0",
         "4064.0",
         "635.0",
         "712.0",
         "4924.0",
         "5376.0",
         "5430.0",
         "5916.0",
         "6172.0",
         "6200.0",
         "5404.0",
         "5668.0",
         "5716.0",
         "3918.0",
         "4200.0",
         "4556.0",
         "4916.0",
         "1848.0",
         "1839.0",
         "2064.0",
         "1848.0",
         "1992.0",
         "1860.0",
         "3126.0",
         "3178.0",
         "3354.0",
         "3988.0",
         "4184.0",
         "2004.0",
         "1940.0",
         "2194.0",
         "1989.0",
         "2196.0",
         "1821.0",
         "2112.0",
         "1964.0",
         "1948.0",
         "12410.0",
         "13240.0",
         "5956.0",
         "1919.0",
         "2088.0",
         "768.0",
         "8664.0",
         "9810.0",
         "9240.0",
         "9330.0",
         "9100.0",
         "8456.0",
         "8630.0",
         "2156.0",
         "1666.0",
         "1801.0",
         "13690.0",
         "1748.0",
         "1584.0",
         "1586.0",
         "1308.0",
         "303.2",
         "321.5",
         "359.0",
         "265.0",
         "525.0",
         "2648.0",
         "3902.0",
         "3190.0",
         "1127.0",
         "550.5",
         "793.5",
         "5090.0",
         "3578.0",
         "2378.0",
         "4420.0",
         "4280.0",
         "4676.0",
         "4620.0",
         "4536.0",
         "4896.0",
         "7416.0",
         "6484.0",
         "7476.0",
         "3000.0",
         "3132.0",
         "4810.0",
         "4420.0",
         "4320.0",
         "3392.0",
         "3130.0",
         "3816.0",
         "4100.0",
         "3840.0",
         "1188.0",
         "846.5",
         "858.0",
         "1022.0",
         "32.38",
         "60.88",
         "312.8",
         "304.8",
         "509.8",
         "1064.0",
         "1418.0",
         "1027.0",
         "1018.0",
         "980.5",
         "830.5",
         "734.5",
         "725.0",
         "534.0",
         "521.5",
         "2538.0",
         "2106.0",
         "4188.0",
         "4144.0",
         "4096.0",
         "3994.0",
         "3812.0",
         "3708.0",
         "3528.0",
         "3844.0",
         "3232.0",
         "2982.0",
         "2974.0",
         "2478.0",
         "2856.0",
         "2808.0",
         "2654.0",
         "2320.0",
         "2482.0",
         "1992.0",
         "1837.0",
         "1678.0",
         "1661.0",
         "7504.0",
         "7520.0",
         "7332.0",
         "2566.0",
         "2386.0",
         "2364.0",
         "484.8",
         "1942.0",
         "1927.0",
         "2136.0",
         "1710.0",
         "1687.0",
         "1670.0",
         "1635.0",
         "1188.0",
         "1428.0",
         "1980.0",
         "2046.0",
         "2001.0",
         "2052.0",
         "2144.0",
         "2160.0",
         "3404.0",
         "3418.0",
         "3430.0",
         "3762.0",
         "3538.0",
         "3444.0",
         "2568.0",
         "2174.0",
         "1444.0",
         "1994.0",
         "1927.0",
         "2080.0",
         "1907.0",
         "1973.0",
         "1750.0",
         "1592.0",
         "1322.0",
         "1436.0",
         "1165.0",
         "2248.0",
         "2096.0",
         "3844.0",
         "4100.0",
         "3820.0",
         "3554.0",
         "3780.0",
         "6620.0",
         "6612.0",
         "6520.0",
         "6510.0",
         "6500.0",
         "6496.0",
         "6468.0",
         "4094.0",
         "3830.0",
         "1030.0",
         "8264.0",
         "8296.0",
         "8520.0",
         "8590.0",
         "8570.0",
         "8460.0",
         "5564.0",
         "5960.0",
         "5384.0",
         "5830.0",
         "4520.0",
         "8680.0",
         "8664.0",
         "9040.0",
         "8450.0",
         "7180.0",
         "7190.0",
         "7170.0",
         "7270.0",
         "8230.0",
         "8320.0",
         "6452.0",
         "5852.0",
         "7356.0",
         "7344.0",
         "7444.0",
         "7308.0",
         "7296.0",
         "8044.0",
         "8440.0",
         "8110.0",
         "7476.0",
         "3888.0",
         "4292.0",
         "3904.0",
         "4308.0",
         "4148.0",
         "3782.0",
         "3806.0",
         "3958.0",
         "4388.0",
         "3662.0",
         "3920.0",
         "3860.0",
         "3118.0",
         "2088.0",
         "2574.0",
         "2174.0",
         "3110.0",
         "2182.0",
         "3106.0",
         "523.0",
         "587.5",
         "679.0",
         "831.0",
         "1155.0",
         "1178.0",
         "1334.0",
         "1486.0",
         "1642.0",
         "1804.0",
         "1850.0",
         "1833.0",
         "2152.0",
         "2306.0",
         "2882.0",
         "3324.0",
         "3312.0",
         "2140.0",
         "7156.0",
         "8176.0",
         "8320.0",
         "8104.0",
         "8188.0",
         "7780.0",
         "7560.0",
         "8610.0",
         "8664.0",
         "8640.0",
         "8340.0",
         "8410.0",
         "8390.0",
         "8504.0",
         "8440.0",
         "7508.0",
         "7770.0",
         "8940.0",
         "8970.0",
         "8690.0",
         "9070.0",
         "7784.0",
         "7536.0",
         "7524.0",
         "8720.0",
         "8376.0",
         "7532.0",
         "3142.0",
         "3838.0",
         "3894.0",
         "4156.0",
         "4964.0",
         "4130.0",
         "5660.0",
         "5860.0",
         "5344.0",
         "5844.0",
         "4544.0",
         "5284.0"
        ],
        [
         "3",
         "323.8",
         "341.0",
         "56.16",
         "0.0",
         "163.4",
         "349.0",
         "344.5",
         "33.88",
         "1275.0",
         "939.0",
         "1714.0",
         "2044.0",
         "5616.0",
         "5130.0",
         "5640.0",
         "5396.0",
         "5096.0",
         "4990.0",
         "4972.0",
         "4890.0",
         "4908.0",
         "4988.0",
         "2756.0",
         "2768.0",
         "2902.0",
         "2940.0",
         "2582.0",
         "2594.0",
         "2410.0",
         "2414.0",
         "2424.0",
         "2460.0",
         "2250.0",
         "2260.0",
         "2330.0",
         "2086.0",
         "2096.0",
         "1917.0",
         "1925.0",
         "1991.0",
         "550.0",
         "553.0",
         "611.0",
         "757.0",
         "633.5",
         "1512.0",
         "1422.0",
         "1432.0",
         "1355.0",
         "1189.0",
         "3066.0",
         "3048.0",
         "2844.0",
         "1469.0",
         "1315.0",
         "1634.0",
         "1282.0",
         "1325.0",
         "1476.0",
         "1150.0",
         "1369.0",
         "988.0",
         "996.5",
         "695.5",
         "876.5",
         "232.0",
         "275.0",
         "826.5",
         "873.0",
         "870.0",
         "3016.0",
         "3006.0",
         "2510.0",
         "2448.0",
         "2584.0",
         "2636.0",
         "2744.0",
         "2072.0",
         "4076.0",
         "4010.0",
         "3424.0",
         "4780.0",
         "4876.0",
         "3988.0",
         "3296.0",
         "3858.0",
         "3656.0",
         "3370.0",
         "3826.0",
         "3606.0",
         "5010.0",
         "3324.0",
         "3170.0",
         "3258.0",
         "3358.0",
         "3512.0",
         "3548.0",
         "3454.0",
         "3654.0",
         "3604.0",
         "3544.0",
         "3612.0",
         "3698.0",
         "4470.0",
         "4164.0",
         "4590.0",
         "4776.0",
         "4490.0",
         "4264.0",
         "4676.0",
         "3832.0",
         "3812.0",
         "3902.0",
         "3932.0",
         "3948.0",
         "3740.0",
         "3204.0",
         "3284.0",
         "2950.0",
         "3346.0",
         "3280.0",
         "3400.0",
         "3352.0",
         "3770.0",
         "3066.0",
         "3346.0",
         "2922.0",
         "4250.0",
         "4380.0",
         "4250.0",
         "3922.0",
         "4256.0",
         "4210.0",
         "3124.0",
         "3010.0",
         "3176.0",
         "2950.0",
         "437.0",
         "457.5",
         "392.2",
         "680.0",
         "706.0",
         "792.5",
         "819.5",
         "472.0",
         "555.0",
         "450.5",
         "374.0",
         "381.5",
         "277.2",
         "1590.0",
         "1600.0",
         "1720.0",
         "1758.0",
         "1676.0",
         "1597.0",
         "1754.0",
         "1825.0",
         "1647.0",
         "1593.0",
         "1514.0",
         "1557.0",
         "1268.0",
         "1396.0",
         "1111.0",
         "1152.0",
         "2128.0",
         "1668.0",
         "2500.0",
         "2666.0",
         "2372.0",
         "2338.0",
         "2184.0",
         "2374.0",
         "2011.0",
         "2174.0",
         "1885.0",
         "2412.0",
         "2384.0",
         "1923.0",
         "1848.0",
         "1885.0",
         "2041.0",
         "2034.0",
         "3954.0",
         "3934.0",
         "4280.0",
         "3826.0",
         "3740.0",
         "5030.0",
         "5052.0",
         "5092.0",
         "5250.0",
         "5270.0",
         "4960.0",
         "5332.0",
         "5196.0",
         "3062.0",
         "3214.0",
         "3764.0",
         "3390.0",
         "3576.0",
         "3072.0",
         "3470.0",
         "3726.0",
         "5780.0",
         "6030.0",
         "5708.0",
         "3250.0",
         "4896.0",
         "4916.0",
         "2174.0",
         "2154.0",
         "2230.0",
         "2348.0",
         "1971.0",
         "1439.0",
         "1477.0",
         "1359.0",
         "1568.0",
         "807.0",
         "1193.0",
         "1231.0",
         "1942.0",
         "4336.0",
         "4616.0",
         "2250.0",
         "2382.0",
         "2220.0",
         "4092.0",
         "5310.0",
         "5376.0",
         "5240.0",
         "5470.0",
         "5580.0",
         "5610.0",
         "5788.0",
         "4624.0",
         "4492.0",
         "5012.0",
         "5452.0",
         "2876.0",
         "3736.0",
         "3660.0",
         "4042.0",
         "3464.0",
         "3592.0",
         "3860.0",
         "3518.0",
         "3270.0",
         "3756.0",
         "4144.0",
         "3638.0",
         "3964.0",
         "4320.0",
         "4540.0",
         "4584.0",
         "4788.0",
         "5360.0",
         "4656.0",
         "4670.0",
         "3874.0",
         "3194.0",
         "3180.0",
         "3154.0",
         "3482.0",
         "1755.0",
         "1114.0",
         "656.0",
         "372.0",
         "491.2",
         "371.5",
         "630.5",
         "2792.0",
         "2312.0",
         "2784.0",
         "2520.0",
         "4296.0",
         "4484.0",
         "4348.0",
         "3636.0",
         "3748.0",
         "3246.0",
         "1269.0",
         "1302.0",
         "4464.0",
         "5424.0",
         "3350.0",
         "3666.0",
         "3172.0",
         "5560.0",
         "3890.0",
         "3838.0",
         "3610.0",
         "4028.0",
         "3856.0",
         "4744.0",
         "2356.0",
         "1281.0",
         "1260.0",
         "882.5",
         "931.0",
         "816.5",
         "861.0",
         "1698.0",
         "2898.0",
         "2738.0",
         "2872.0",
         "1785.0",
         "3766.0",
         "3916.0",
         "4612.0",
         "4616.0",
         "1109.0",
         "878.0",
         "889.5",
         "976.5",
         "3622.0",
         "3456.0",
         "4050.0",
         "4072.0",
         "4036.0",
         "4156.0",
         "1907.0",
         "1937.0",
         "2030.0",
         "1864.0",
         "1788.0",
         "1709.0",
         "1776.0",
         "2058.0",
         "804.5",
         "765.5",
         "4284.0",
         "4020.0",
         "4350.0",
         "733.5",
         "5588.0",
         "4372.0",
         "349.0",
         "587.0",
         "475.0",
         "554.5",
         "1904.0",
         "1753.0",
         "2066.0",
         "1975.0",
         "4084.0",
         "4172.0",
         "4230.0",
         "4316.0",
         "4252.0",
         "4600.0",
         "4176.0",
         "4772.0",
         "723.0",
         "921.5",
         "1371.0",
         "705.5",
         "725.5",
         "671.0",
         "742.0",
         "3188.0",
         "3178.0",
         "3000.0",
         "4120.0",
         "691.0",
         "768.0",
         "4980.0",
         "5430.0",
         "5490.0",
         "5972.0",
         "6228.0",
         "6256.0",
         "5460.0",
         "5724.0",
         "5772.0",
         "3974.0",
         "4260.0",
         "4612.0",
         "4972.0",
         "1904.0",
         "1895.0",
         "2120.0",
         "1904.0",
         "2048.0",
         "1916.0",
         "3182.0",
         "3234.0",
         "3410.0",
         "4044.0",
         "4240.0",
         "2060.0",
         "1996.0",
         "2250.0",
         "2046.0",
         "2252.0",
         "1877.0",
         "2168.0",
         "2020.0",
         "2004.0",
         "12460.0",
         "13300.0",
         "6012.0",
         "1976.0",
         "2144.0",
         "824.0",
         "8720.0",
         "9864.0",
         "9300.0",
         "9384.0",
         "9160.0",
         "8510.0",
         "8696.0",
         "2212.0",
         "1722.0",
         "1857.0",
         "13740.0",
         "1804.0",
         "1640.0",
         "1643.0",
         "1365.0",
         "297.8",
         "316.0",
         "353.5",
         "259.2",
         "519.5",
         "2704.0",
         "3958.0",
         "3186.0",
         "1122.0",
         "545.0",
         "788.0",
         "5144.0",
         "3634.0",
         "2436.0",
         "4476.0",
         "4336.0",
         "4732.0",
         "4676.0",
         "4590.0",
         "4950.0",
         "7470.0",
         "6540.0",
         "7532.0",
         "3056.0",
         "3190.0",
         "4864.0",
         "4476.0",
         "4376.0",
         "3448.0",
         "3186.0",
         "3874.0",
         "4156.0",
         "3896.0",
         "1183.0",
         "903.0",
         "914.0",
         "1078.0",
         "26.88",
         "55.34",
         "307.2",
         "299.2",
         "566.0",
         "1059.0",
         "1474.0",
         "1083.0",
         "1074.0",
         "1037.0",
         "886.5",
         "791.0",
         "781.0",
         "590.0",
         "516.0",
         "2594.0",
         "2162.0",
         "4244.0",
         "4200.0",
         "4150.0",
         "4050.0",
         "3868.0",
         "3764.0",
         "3584.0",
         "3900.0",
         "3288.0",
         "3038.0",
         "3030.0",
         "2534.0",
         "2912.0",
         "2864.0",
         "2710.0",
         "2376.0",
         "2538.0",
         "2048.0",
         "1893.0",
         "1734.0",
         "1718.0",
         "7560.0",
         "7576.0",
         "7388.0",
         "2622.0",
         "2442.0",
         "2420.0",
         "479.2",
         "1998.0",
         "1983.0",
         "2192.0",
         "1766.0",
         "1744.0",
         "1727.0",
         "1691.0",
         "1244.0",
         "1484.0",
         "2036.0",
         "2102.0",
         "2058.0",
         "2108.0",
         "2200.0",
         "2216.0",
         "3462.0",
         "3474.0",
         "3486.0",
         "3820.0",
         "3594.0",
         "3500.0",
         "2626.0",
         "2230.0",
         "1500.0",
         "2050.0",
         "1983.0",
         "2138.0",
         "1963.0",
         "2030.0",
         "1806.0",
         "1648.0",
         "1378.0",
         "1492.0",
         "1221.0",
         "2304.0",
         "2152.0",
         "3900.0",
         "4156.0",
         "3876.0",
         "3610.0",
         "3836.0",
         "6676.0",
         "6668.0",
         "6576.0",
         "6570.0",
         "6556.0",
         "6550.0",
         "6524.0",
         "4148.0",
         "3888.0",
         "1086.0",
         "8320.0",
         "8350.0",
         "8580.0",
         "8650.0",
         "8620.0",
         "8520.0",
         "5620.0",
         "6016.0",
         "5440.0",
         "5890.0",
         "4580.0",
         "8740.0",
         "8720.0",
         "9096.0",
         "8504.0",
         "7236.0",
         "7250.0",
         "7224.0",
         "7330.0",
         "8290.0",
         "8376.0",
         "6508.0",
         "5908.0",
         "7412.0",
         "7400.0",
         "7500.0",
         "7364.0",
         "7350.0",
         "8100.0",
         "8500.0",
         "8170.0",
         "7532.0",
         "3946.0",
         "4348.0",
         "3960.0",
         "4364.0",
         "4204.0",
         "3840.0",
         "3862.0",
         "4014.0",
         "4444.0",
         "3718.0",
         "3976.0",
         "3916.0",
         "3174.0",
         "2144.0",
         "2630.0",
         "2230.0",
         "3166.0",
         "2238.0",
         "3162.0",
         "579.0",
         "644.0",
         "735.0",
         "887.0",
         "1211.0",
         "1234.0",
         "1390.0",
         "1542.0",
         "1699.0",
         "1861.0",
         "1906.0",
         "1890.0",
         "2210.0",
         "2364.0",
         "2938.0",
         "3380.0",
         "3368.0",
         "2196.0",
         "7212.0",
         "8230.0",
         "8376.0",
         "8160.0",
         "8250.0",
         "7836.0",
         "7616.0",
         "8664.0",
         "8720.0",
         "8696.0",
         "8390.0",
         "8460.0",
         "8450.0",
         "8560.0",
         "8500.0",
         "7564.0",
         "7824.0",
         "9000.0",
         "9020.0",
         "8744.0",
         "9130.0",
         "7840.0",
         "7590.0",
         "7580.0",
         "8776.0",
         "8430.0",
         "7588.0",
         "3198.0",
         "3894.0",
         "3950.0",
         "4212.0",
         "5020.0",
         "4184.0",
         "5716.0",
         "5916.0",
         "5400.0",
         "5900.0",
         "4600.0",
         "5340.0"
        ],
        [
         "4",
         "160.4",
         "177.8",
         "532.0",
         "475.5",
         "0.0",
         "824.5",
         "820.0",
         "509.5",
         "1341.0",
         "1415.0",
         "1761.0",
         "2090.0",
         "5456.0",
         "4964.0",
         "5476.0",
         "5230.0",
         "4932.0",
         "4828.0",
         "4810.0",
         "4724.0",
         "4744.0",
         "4824.0",
         "2722.0",
         "2734.0",
         "2738.0",
         "2904.0",
         "2548.0",
         "2560.0",
         "2248.0",
         "2380.0",
         "2390.0",
         "2298.0",
         "2216.0",
         "2224.0",
         "2296.0",
         "2050.0",
         "2060.0",
         "1919.0",
         "1908.0",
         "1842.0",
         "1026.0",
         "1028.0",
         "1086.0",
         "1233.0",
         "1109.0",
         "1349.0",
         "1469.0",
         "1269.0",
         "1192.0",
         "1025.0",
         "2902.0",
         "2884.0",
         "2680.0",
         "1305.0",
         "1152.0",
         "1471.0",
         "1119.0",
         "1162.0",
         "1313.0",
         "986.5",
         "1206.0",
         "824.5",
         "833.0",
         "532.0",
         "713.5",
         "649.5",
         "692.5",
         "663.0",
         "710.0",
         "707.0",
         "2852.0",
         "2842.0",
         "2346.0",
         "2284.0",
         "2422.0",
         "2474.0",
         "2580.0",
         "1908.0",
         "3912.0",
         "3846.0",
         "3262.0",
         "4616.0",
         "4710.0",
         "3824.0",
         "3132.0",
         "3694.0",
         "3492.0",
         "3208.0",
         "3662.0",
         "3442.0",
         "4844.0",
         "3162.0",
         "3008.0",
         "3096.0",
         "3194.0",
         "3348.0",
         "3384.0",
         "3290.0",
         "3490.0",
         "3442.0",
         "3380.0",
         "3448.0",
         "3534.0",
         "4310.0",
         "4000.0",
         "4430.0",
         "4612.0",
         "4324.0",
         "4100.0",
         "4516.0",
         "3668.0",
         "3648.0",
         "3740.0",
         "3768.0",
         "3784.0",
         "3578.0",
         "3040.0",
         "3120.0",
         "2788.0",
         "3184.0",
         "3118.0",
         "3236.0",
         "3188.0",
         "3606.0",
         "2904.0",
         "3312.0",
         "2760.0",
         "4084.0",
         "4220.0",
         "4086.0",
         "3758.0",
         "4092.0",
         "4046.0",
         "3090.0",
         "2976.0",
         "3142.0",
         "2916.0",
         "912.5",
         "933.0",
         "868.0",
         "1156.0",
         "1182.0",
         "1268.0",
         "1295.0",
         "947.5",
         "1031.0",
         "926.0",
         "849.5",
         "857.0",
         "753.0",
         "1638.0",
         "1647.0",
         "1767.0",
         "1595.0",
         "1512.0",
         "1433.0",
         "1591.0",
         "1661.0",
         "1484.0",
         "1430.0",
         "1350.0",
         "1394.0",
         "1104.0",
         "1232.0",
         "948.0",
         "988.5",
         "2112.0",
         "1716.0",
         "2338.0",
         "2502.0",
         "2208.0",
         "2174.0",
         "2021.0",
         "2210.0",
         "1848.0",
         "2011.0",
         "1722.0",
         "2250.0",
         "2220.0",
         "1760.0",
         "1685.0",
         "1722.0",
         "1877.0",
         "1871.0",
         "3790.0",
         "3770.0",
         "4116.0",
         "3664.0",
         "3576.0",
         "4868.0",
         "4890.0",
         "4930.0",
         "5084.0",
         "5108.0",
         "4800.0",
         "5170.0",
         "5030.0",
         "2898.0",
         "3052.0",
         "3600.0",
         "3226.0",
         "3414.0",
         "2910.0",
         "3308.0",
         "3564.0",
         "5616.0",
         "5870.0",
         "5544.0",
         "3086.0",
         "4732.0",
         "4750.0",
         "2010.0",
         "1991.0",
         "2066.0",
         "2184.0",
         "1807.0",
         "1276.0",
         "1314.0",
         "1195.0",
         "1404.0",
         "1283.0",
         "1030.0",
         "1068.0",
         "1924.0",
         "4172.0",
         "4452.0",
         "2086.0",
         "2220.0",
         "2056.0",
         "3928.0",
         "5148.0",
         "5212.0",
         "5076.0",
         "5308.0",
         "5416.0",
         "5444.0",
         "5624.0",
         "4460.0",
         "4330.0",
         "4850.0",
         "5290.0",
         "2712.0",
         "3572.0",
         "3496.0",
         "3880.0",
         "3302.0",
         "3430.0",
         "3696.0",
         "3354.0",
         "3106.0",
         "3592.0",
         "3982.0",
         "3474.0",
         "3802.0",
         "4156.0",
         "4376.0",
         "4424.0",
         "4624.0",
         "5196.0",
         "4492.0",
         "4510.0",
         "3710.0",
         "3032.0",
         "3018.0",
         "2990.0",
         "3318.0",
         "1757.0",
         "951.0",
         "492.5",
         "847.5",
         "328.0",
         "208.0",
         "467.2",
         "2630.0",
         "2148.0",
         "2622.0",
         "2358.0",
         "4132.0",
         "4320.0",
         "4184.0",
         "3472.0",
         "3586.0",
         "3082.0",
         "1106.0",
         "1139.0",
         "4300.0",
         "5260.0",
         "3186.0",
         "3504.0",
         "3010.0",
         "5396.0",
         "3726.0",
         "3676.0",
         "3448.0",
         "3864.0",
         "3692.0",
         "4580.0",
         "2194.0",
         "1329.0",
         "1325.0",
         "1358.0",
         "1407.0",
         "1292.0",
         "1337.0",
         "1745.0",
         "2734.0",
         "2574.0",
         "2710.0",
         "1622.0",
         "3604.0",
         "3752.0",
         "4452.0",
         "4452.0",
         "1584.0",
         "1354.0",
         "1365.0",
         "1452.0",
         "3458.0",
         "3292.0",
         "3886.0",
         "3910.0",
         "3872.0",
         "3992.0",
         "1743.0",
         "1774.0",
         "1867.0",
         "1701.0",
         "1624.0",
         "1546.0",
         "1613.0",
         "1894.0",
         "641.5",
         "602.0",
         "4120.0",
         "3856.0",
         "4188.0",
         "1209.0",
         "5424.0",
         "4212.0",
         "185.8",
         "423.8",
         "311.8",
         "391.2",
         "1741.0",
         "1590.0",
         "1903.0",
         "1812.0",
         "3920.0",
         "4010.0",
         "4068.0",
         "4150.0",
         "4088.0",
         "4440.0",
         "4014.0",
         "4612.0",
         "559.5",
         "758.0",
         "1207.0",
         "542.0",
         "562.0",
         "507.8",
         "579.0",
         "3024.0",
         "3014.0",
         "2838.0",
         "3956.0",
         "528.0",
         "604.5",
         "4816.0",
         "5268.0",
         "5324.0",
         "5810.0",
         "6064.0",
         "6096.0",
         "5300.0",
         "5560.0",
         "5610.0",
         "3810.0",
         "4094.0",
         "4452.0",
         "4810.0",
         "1741.0",
         "1732.0",
         "1957.0",
         "1741.0",
         "1885.0",
         "1753.0",
         "3020.0",
         "3072.0",
         "3246.0",
         "3880.0",
         "4076.0",
         "1897.0",
         "1833.0",
         "2088.0",
         "1882.0",
         "2088.0",
         "1713.0",
         "2005.0",
         "1857.0",
         "1841.0",
         "12296.0",
         "13140.0",
         "5850.0",
         "1812.0",
         "1980.0",
         "661.0",
         "8550.0",
         "9700.0",
         "9140.0",
         "9224.0",
         "9000.0",
         "8350.0",
         "8530.0",
         "2048.0",
         "1559.0",
         "1694.0",
         "13576.0",
         "1641.0",
         "1477.0",
         "1479.0",
         "1201.0",
         "773.5",
         "791.5",
         "829.0",
         "735.0",
         "995.0",
         "2540.0",
         "3794.0",
         "3150.0",
         "1597.0",
         "1020.5",
         "1264.0",
         "4980.0",
         "3472.0",
         "2272.0",
         "4310.0",
         "4172.0",
         "4570.0",
         "4510.0",
         "4428.0",
         "4788.0",
         "7308.0",
         "6376.0",
         "7370.0",
         "2892.0",
         "3026.0",
         "4700.0",
         "4316.0",
         "4212.0",
         "3284.0",
         "3024.0",
         "3710.0",
         "3992.0",
         "3734.0",
         "1658.0",
         "739.5",
         "751.0",
         "915.0",
         "502.5",
         "531.0",
         "395.0",
         "368.2",
         "402.5",
         "1535.0",
         "1310.0",
         "919.5",
         "911.0",
         "873.5",
         "723.5",
         "627.5",
         "618.0",
         "426.8",
         "991.5",
         "2432.0",
         "1999.0",
         "4082.0",
         "4038.0",
         "3988.0",
         "3886.0",
         "3704.0",
         "3600.0",
         "3422.0",
         "3736.0",
         "3126.0",
         "2874.0",
         "2866.0",
         "2370.0",
         "2748.0",
         "2702.0",
         "2548.0",
         "2212.0",
         "2374.0",
         "1885.0",
         "1730.0",
         "1571.0",
         "1554.0",
         "7396.0",
         "7416.0",
         "7228.0",
         "2458.0",
         "2278.0",
         "2258.0",
         "955.0",
         "1834.0",
         "1820.0",
         "2029.0",
         "1603.0",
         "1580.0",
         "1563.0",
         "1528.0",
         "1081.0",
         "1321.0",
         "1873.0",
         "1939.0",
         "1894.0",
         "1944.0",
         "2037.0",
         "2054.0",
         "3298.0",
         "3312.0",
         "3322.0",
         "3656.0",
         "3432.0",
         "3336.0",
         "2462.0",
         "2066.0",
         "1337.0",
         "1887.0",
         "1820.0",
         "1974.0",
         "1799.0",
         "1866.0",
         "1642.0",
         "1485.0",
         "1215.0",
         "1329.0",
         "1058.0",
         "2140.0",
         "1988.0",
         "3736.0",
         "3994.0",
         "3712.0",
         "3448.0",
         "3672.0",
         "6510.0",
         "6504.0",
         "6412.0",
         "6410.0",
         "6390.0",
         "6388.0",
         "6360.0",
         "3986.0",
         "3724.0",
         "923.0",
         "8156.0",
         "8188.0",
         "8420.0",
         "8490.0",
         "8460.0",
         "8360.0",
         "5456.0",
         "5852.0",
         "5276.0",
         "5724.0",
         "4416.0",
         "8570.0",
         "8550.0",
         "8936.0",
         "8344.0",
         "7070.0",
         "7084.0",
         "7060.0",
         "7164.0",
         "8124.0",
         "8216.0",
         "6344.0",
         "5748.0",
         "7250.0",
         "7236.0",
         "7336.0",
         "7200.0",
         "7190.0",
         "7936.0",
         "8330.0",
         "8010.0",
         "7370.0",
         "3782.0",
         "4184.0",
         "3796.0",
         "4204.0",
         "4042.0",
         "3676.0",
         "3698.0",
         "3850.0",
         "4280.0",
         "3554.0",
         "3812.0",
         "3752.0",
         "3010.0",
         "1981.0",
         "2466.0",
         "2066.0",
         "3004.0",
         "2076.0",
         "3000.0",
         "415.8",
         "480.5",
         "571.5",
         "724.0",
         "1048.0",
         "1071.0",
         "1227.0",
         "1378.0",
         "1535.0",
         "1697.0",
         "1742.0",
         "1726.0",
         "2046.0",
         "2200.0",
         "2774.0",
         "3216.0",
         "3206.0",
         "2033.0",
         "7050.0",
         "8068.0",
         "8216.0",
         "7996.0",
         "8080.0",
         "7670.0",
         "7452.0",
         "8500.0",
         "8550.0",
         "8536.0",
         "8230.0",
         "8300.0",
         "8290.0",
         "8400.0",
         "8340.0",
         "7400.0",
         "7664.0",
         "8840.0",
         "8860.0",
         "8580.0",
         "8960.0",
         "7676.0",
         "7428.0",
         "7416.0",
         "8616.0",
         "8270.0",
         "7424.0",
         "3034.0",
         "3732.0",
         "3788.0",
         "4048.0",
         "4856.0",
         "4020.0",
         "5550.0",
         "5750.0",
         "5240.0",
         "5736.0",
         "4436.0",
         "5176.0"
        ]
       ],
       "shape": {
        "columns": 663,
        "rows": 5
       }
      },
      "text/html": [
       "<div>\n",
       "<style scoped>\n",
       "    .dataframe tbody tr th:only-of-type {\n",
       "        vertical-align: middle;\n",
       "    }\n",
       "\n",
       "    .dataframe tbody tr th {\n",
       "        vertical-align: top;\n",
       "    }\n",
       "\n",
       "    .dataframe thead th {\n",
       "        text-align: right;\n",
       "    }\n",
       "</style>\n",
       "<table border=\"1\" class=\"dataframe\">\n",
       "  <thead>\n",
       "    <tr style=\"text-align: right;\">\n",
       "      <th></th>\n",
       "      <th>0</th>\n",
       "      <th>1</th>\n",
       "      <th>2</th>\n",
       "      <th>3</th>\n",
       "      <th>4</th>\n",
       "      <th>5</th>\n",
       "      <th>6</th>\n",
       "      <th>7</th>\n",
       "      <th>8</th>\n",
       "      <th>9</th>\n",
       "      <th>...</th>\n",
       "      <th>653</th>\n",
       "      <th>654</th>\n",
       "      <th>655</th>\n",
       "      <th>656</th>\n",
       "      <th>657</th>\n",
       "      <th>658</th>\n",
       "      <th>659</th>\n",
       "      <th>660</th>\n",
       "      <th>661</th>\n",
       "      <th>662</th>\n",
       "    </tr>\n",
       "  </thead>\n",
       "  <tbody>\n",
       "    <tr>\n",
       "      <th>0</th>\n",
       "      <td>0.000</td>\n",
       "      <td>17.375</td>\n",
       "      <td>371.50000</td>\n",
       "      <td>315.250000</td>\n",
       "      <td>215.0000</td>\n",
       "      <td>664.0</td>\n",
       "      <td>659.5</td>\n",
       "      <td>349.000</td>\n",
       "      <td>1181.0</td>\n",
       "      <td>1254.0</td>\n",
       "      <td>...</td>\n",
       "      <td>3626.0</td>\n",
       "      <td>3888.0</td>\n",
       "      <td>4696.0</td>\n",
       "      <td>3860.0</td>\n",
       "      <td>5392.0</td>\n",
       "      <td>5592.0</td>\n",
       "      <td>5080.0</td>\n",
       "      <td>5576.0</td>\n",
       "      <td>4276.0</td>\n",
       "      <td>5016.0</td>\n",
       "    </tr>\n",
       "    <tr>\n",
       "      <th>1</th>\n",
       "      <td>37.750</td>\n",
       "      <td>0.000</td>\n",
       "      <td>354.00000</td>\n",
       "      <td>297.750000</td>\n",
       "      <td>197.6250</td>\n",
       "      <td>647.0</td>\n",
       "      <td>642.0</td>\n",
       "      <td>331.750</td>\n",
       "      <td>1163.0</td>\n",
       "      <td>1237.0</td>\n",
       "      <td>...</td>\n",
       "      <td>3610.0</td>\n",
       "      <td>3870.0</td>\n",
       "      <td>4680.0</td>\n",
       "      <td>3842.0</td>\n",
       "      <td>5376.0</td>\n",
       "      <td>5576.0</td>\n",
       "      <td>5060.0</td>\n",
       "      <td>5556.0</td>\n",
       "      <td>4256.0</td>\n",
       "      <td>4996.0</td>\n",
       "    </tr>\n",
       "    <tr>\n",
       "      <th>2</th>\n",
       "      <td>267.500</td>\n",
       "      <td>285.000</td>\n",
       "      <td>0.00000</td>\n",
       "      <td>5.519531</td>\n",
       "      <td>107.1875</td>\n",
       "      <td>354.5</td>\n",
       "      <td>350.0</td>\n",
       "      <td>39.375</td>\n",
       "      <td>1281.0</td>\n",
       "      <td>944.5</td>\n",
       "      <td>...</td>\n",
       "      <td>3894.0</td>\n",
       "      <td>4156.0</td>\n",
       "      <td>4964.0</td>\n",
       "      <td>4128.0</td>\n",
       "      <td>5660.0</td>\n",
       "      <td>5860.0</td>\n",
       "      <td>5344.0</td>\n",
       "      <td>5844.0</td>\n",
       "      <td>4544.0</td>\n",
       "      <td>5284.0</td>\n",
       "    </tr>\n",
       "    <tr>\n",
       "      <th>3</th>\n",
       "      <td>323.750</td>\n",
       "      <td>341.000</td>\n",
       "      <td>56.15625</td>\n",
       "      <td>0.000000</td>\n",
       "      <td>163.3750</td>\n",
       "      <td>349.0</td>\n",
       "      <td>344.5</td>\n",
       "      <td>33.875</td>\n",
       "      <td>1275.0</td>\n",
       "      <td>939.0</td>\n",
       "      <td>...</td>\n",
       "      <td>3950.0</td>\n",
       "      <td>4212.0</td>\n",
       "      <td>5020.0</td>\n",
       "      <td>4184.0</td>\n",
       "      <td>5716.0</td>\n",
       "      <td>5916.0</td>\n",
       "      <td>5400.0</td>\n",
       "      <td>5900.0</td>\n",
       "      <td>4600.0</td>\n",
       "      <td>5340.0</td>\n",
       "    </tr>\n",
       "    <tr>\n",
       "      <th>4</th>\n",
       "      <td>160.375</td>\n",
       "      <td>177.750</td>\n",
       "      <td>532.00000</td>\n",
       "      <td>475.500000</td>\n",
       "      <td>0.0000</td>\n",
       "      <td>824.5</td>\n",
       "      <td>820.0</td>\n",
       "      <td>509.500</td>\n",
       "      <td>1341.0</td>\n",
       "      <td>1415.0</td>\n",
       "      <td>...</td>\n",
       "      <td>3788.0</td>\n",
       "      <td>4048.0</td>\n",
       "      <td>4856.0</td>\n",
       "      <td>4020.0</td>\n",
       "      <td>5552.0</td>\n",
       "      <td>5752.0</td>\n",
       "      <td>5240.0</td>\n",
       "      <td>5736.0</td>\n",
       "      <td>4436.0</td>\n",
       "      <td>5176.0</td>\n",
       "    </tr>\n",
       "  </tbody>\n",
       "</table>\n",
       "<p>5 rows × 663 columns</p>\n",
       "</div>"
      ],
      "text/plain": [
       "       0        1          2           3         4      5      6        7    \\\n",
       "0    0.000   17.375  371.50000  315.250000  215.0000  664.0  659.5  349.000   \n",
       "1   37.750    0.000  354.00000  297.750000  197.6250  647.0  642.0  331.750   \n",
       "2  267.500  285.000    0.00000    5.519531  107.1875  354.5  350.0   39.375   \n",
       "3  323.750  341.000   56.15625    0.000000  163.3750  349.0  344.5   33.875   \n",
       "4  160.375  177.750  532.00000  475.500000    0.0000  824.5  820.0  509.500   \n",
       "\n",
       "      8       9    ...     653     654     655     656     657     658  \\\n",
       "0  1181.0  1254.0  ...  3626.0  3888.0  4696.0  3860.0  5392.0  5592.0   \n",
       "1  1163.0  1237.0  ...  3610.0  3870.0  4680.0  3842.0  5376.0  5576.0   \n",
       "2  1281.0   944.5  ...  3894.0  4156.0  4964.0  4128.0  5660.0  5860.0   \n",
       "3  1275.0   939.0  ...  3950.0  4212.0  5020.0  4184.0  5716.0  5916.0   \n",
       "4  1341.0  1415.0  ...  3788.0  4048.0  4856.0  4020.0  5552.0  5752.0   \n",
       "\n",
       "      659     660     661     662  \n",
       "0  5080.0  5576.0  4276.0  5016.0  \n",
       "1  5060.0  5556.0  4256.0  4996.0  \n",
       "2  5344.0  5844.0  4544.0  5284.0  \n",
       "3  5400.0  5900.0  4600.0  5340.0  \n",
       "4  5240.0  5736.0  4436.0  5176.0  \n",
       "\n",
       "[5 rows x 663 columns]"
      ]
     },
     "execution_count": 10,
     "metadata": {},
     "output_type": "execute_result"
    }
   ],
   "source": [
    "nodes_to_nodes.head()"
   ]
  },
  {
   "cell_type": "markdown",
   "metadata": {},
   "source": [
    "## Calculating OD matrix"
   ]
  },
  {
   "cell_type": "code",
   "execution_count": 11,
   "metadata": {},
   "outputs": [],
   "source": [
    "services_dfs = []\n",
    "for column in [c for c in blocks_gdf.columns if 'capacity_' in c]:\n",
    "    services_df = blocks_gdf[[column]].rename(columns={column:'capacity'})\n",
    "    services_dfs.append(services_df)"
   ]
  },
  {
   "cell_type": "code",
   "execution_count": 12,
   "metadata": {},
   "outputs": [
    {
     "name": "stderr",
     "output_type": "stream",
     "text": [
      "\u001b[32m2025-06-05 20:15:02.324\u001b[0m | \u001b[1mINFO    \u001b[0m | \u001b[36mblocksnet.analysis.network.origin_destination.core\u001b[0m:\u001b[36morigin_destination_matrix\u001b[0m:\u001b[36m88\u001b[0m - \u001b[1mValidating input data\u001b[0m\n",
      "\u001b[32m2025-06-05 20:15:02.364\u001b[0m | \u001b[1mINFO    \u001b[0m | \u001b[36mblocksnet.analysis.network.origin_destination.core\u001b[0m:\u001b[36m_calculate_diversity\u001b[0m:\u001b[36m53\u001b[0m - \u001b[1mCalculating diversity and density\u001b[0m\n",
      "\u001b[32m2025-06-05 20:15:03.092\u001b[0m | \u001b[1mINFO    \u001b[0m | \u001b[36mblocksnet.analysis.network.origin_destination.core\u001b[0m:\u001b[36m_calculate_attractiveness\u001b[0m:\u001b[36m60\u001b[0m - \u001b[1mCalculating attractiveness\u001b[0m\n",
      "\u001b[32m2025-06-05 20:15:03.103\u001b[0m | \u001b[1mINFO    \u001b[0m | \u001b[36mblocksnet.analysis.network.origin_destination.core\u001b[0m:\u001b[36m_calculate_nodes_weights\u001b[0m:\u001b[36m36\u001b[0m - \u001b[1mIdentifying nearest nodes to blocks\u001b[0m\n",
      "\u001b[32m2025-06-05 20:15:03.111\u001b[0m | \u001b[1mINFO    \u001b[0m | \u001b[36mblocksnet.analysis.network.origin_destination.core\u001b[0m:\u001b[36m_calculate_nodes_weights\u001b[0m:\u001b[36m41\u001b[0m - \u001b[1mCalculating weights\u001b[0m\n",
      "\u001b[32m2025-06-05 20:15:03.130\u001b[0m | \u001b[1mINFO    \u001b[0m | \u001b[36mblocksnet.analysis.network.origin_destination.core\u001b[0m:\u001b[36m_calculate_nodes_weights\u001b[0m:\u001b[36m47\u001b[0m - \u001b[1mDistributing\u001b[0m\n",
      "\u001b[32m2025-06-05 20:15:03.139\u001b[0m | \u001b[1mINFO    \u001b[0m | \u001b[36mblocksnet.analysis.network.origin_destination.core\u001b[0m:\u001b[36m_calculate_od_mx\u001b[0m:\u001b[36m70\u001b[0m - \u001b[1mCalculating origin destination matrix\u001b[0m\n"
     ]
    }
   ],
   "source": [
    "from blocksnet.analysis.network import origin_destination_matrix\n",
    "\n",
    "od_mx = origin_destination_matrix(blocks_gdf, nodes_gdf, blocks_to_nodes, nodes_to_nodes, services_dfs)"
   ]
  },
  {
   "cell_type": "markdown",
   "metadata": {},
   "source": [
    "## Calculating roads congestion"
   ]
  },
  {
   "cell_type": "code",
   "execution_count": 13,
   "metadata": {},
   "outputs": [
    {
     "name": "stderr",
     "output_type": "stream",
     "text": [
      "100%|██████████| 663/663 [00:51<00:00, 12.83it/s]\n"
     ]
    }
   ],
   "source": [
    "from blocksnet.analysis.network import road_congestion\n",
    "\n",
    "graph_congestion = road_congestion(od_mx, graph_drive)"
   ]
  },
  {
   "cell_type": "code",
   "execution_count": 16,
   "metadata": {},
   "outputs": [
    {
     "data": {
      "text/html": [
       "<div>\n",
       "<style scoped>\n",
       "    .dataframe tbody tr th:only-of-type {\n",
       "        vertical-align: middle;\n",
       "    }\n",
       "\n",
       "    .dataframe tbody tr th {\n",
       "        vertical-align: top;\n",
       "    }\n",
       "\n",
       "    .dataframe thead th {\n",
       "        text-align: right;\n",
       "    }\n",
       "</style>\n",
       "<table border=\"1\" class=\"dataframe\">\n",
       "  <thead>\n",
       "    <tr style=\"text-align: right;\">\n",
       "      <th></th>\n",
       "      <th>length_meter</th>\n",
       "      <th>time_min</th>\n",
       "      <th>geometry</th>\n",
       "      <th>congestion</th>\n",
       "    </tr>\n",
       "  </thead>\n",
       "  <tbody>\n",
       "    <tr>\n",
       "      <th>(0, 1)</th>\n",
       "      <td>17.379</td>\n",
       "      <td>0.017</td>\n",
       "      <td>LINESTRING (348610.46 6648540.586, 348595.032 ...</td>\n",
       "      <td>0.058759</td>\n",
       "    </tr>\n",
       "    <tr>\n",
       "      <th>(1, 339)</th>\n",
       "      <td>8.024</td>\n",
       "      <td>0.008</td>\n",
       "      <td>LINESTRING (348595.032 6648548.588, 348588.653...</td>\n",
       "      <td>0.019130</td>\n",
       "    </tr>\n",
       "    <tr>\n",
       "      <th>(1, 340)</th>\n",
       "      <td>245.966</td>\n",
       "      <td>0.246</td>\n",
       "      <td>LINESTRING (348595.032 6648548.588, 348581.331...</td>\n",
       "      <td>0.040963</td>\n",
       "    </tr>\n",
       "    <tr>\n",
       "      <th>(2, 3)</th>\n",
       "      <td>5.515</td>\n",
       "      <td>0.008</td>\n",
       "      <td>LINESTRING (348859.015 6648442.978, 348857.583...</td>\n",
       "      <td>0.000718</td>\n",
       "    </tr>\n",
       "    <tr>\n",
       "      <th>(2, 4)</th>\n",
       "      <td>107.189</td>\n",
       "      <td>0.107</td>\n",
       "      <td>LINESTRING (348859.015 6648442.978, 348847.224...</td>\n",
       "      <td>0.048565</td>\n",
       "    </tr>\n",
       "  </tbody>\n",
       "</table>\n",
       "</div>"
      ],
      "text/plain": [
       "          length_meter  time_min  \\\n",
       "(0, 1)          17.379     0.017   \n",
       "(1, 339)         8.024     0.008   \n",
       "(1, 340)       245.966     0.246   \n",
       "(2, 3)           5.515     0.008   \n",
       "(2, 4)         107.189     0.107   \n",
       "\n",
       "                                                   geometry  congestion  \n",
       "(0, 1)    LINESTRING (348610.46 6648540.586, 348595.032 ...    0.058759  \n",
       "(1, 339)  LINESTRING (348595.032 6648548.588, 348588.653...    0.019130  \n",
       "(1, 340)  LINESTRING (348595.032 6648548.588, 348581.331...    0.040963  \n",
       "(2, 3)    LINESTRING (348859.015 6648442.978, 348857.583...    0.000718  \n",
       "(2, 4)    LINESTRING (348859.015 6648442.978, 348847.224...    0.048565  "
      ]
     },
     "execution_count": 16,
     "metadata": {},
     "output_type": "execute_result"
    }
   ],
   "source": [
    "_, edges_gdf = accessibility_graph_to_gdfs(graph_congestion)\n",
    "edges_gdf.head()"
   ]
  },
  {
   "cell_type": "code",
   "execution_count": 19,
   "metadata": {},
   "outputs": [
    {
     "data": {
      "image/png": "[encoded data removed]",
      "text/plain": [
       "<Figure size 800x500 with 2 Axes>"
      ]
     },
     "metadata": {},
     "output_type": "display_data"
    }
   ],
   "source": [
    "edges_gdf.plot('congestion', legend=True, figsize=(8,5)).set_axis_off()"
   ]
  }
 ],
 "metadata": {
  "kernelspec": {
   "display_name": ".venv",
   "language": "python",
   "name": "python3"
  },
  "language_info": {
   "codemirror_mode": {
    "name": "ipython",
    "version": 3
   },
   "file_extension": ".py",
   "mimetype": "text/x-python",
   "name": "python",
   "nbconvert_exporter": "python",
   "pygments_lexer": "ipython3",
   "version": "3.10.12"
  }
 },
 "nbformat": 4,
 "nbformat_minor": 2
}
