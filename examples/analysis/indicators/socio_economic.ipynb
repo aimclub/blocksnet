{
 "cells": [
  {
   "cell_type": "markdown",
   "id": "37d70044",
   "metadata": {},
   "source": [
    "# Socio-economic indicators"
   ]
  },
  {
   "cell_type": "code",
   "execution_count": 1,
   "id": "467ec198",
   "metadata": {},
   "outputs": [],
   "source": [
    "from blocksnet.analysis.indicators.socio_economic import GeneralAggregator\n",
    "\n",
    "ga = GeneralAggregator()"
   ]
  },
  {
   "cell_type": "code",
   "execution_count": 9,
   "id": "b6e5aa06",
   "metadata": {},
   "outputs": [],
   "source": [
    "ind_cls = ga.indicator_cls\n",
    "\n",
    "ga.add(ind_cls.AREA, 1000, 100, 100)\n",
    "ga.add(ind_cls.URBANIZATION, 90, 90, 100)"
   ]
  },
  {
   "cell_type": "code",
   "execution_count": 10,
   "id": "92080d44",
   "metadata": {},
   "outputs": [
    {
     "data": {
      "application/vnd.microsoft.datawrangler.viewer.v0+json": {
       "columns": [
        {
         "name": "index",
         "rawType": "object",
         "type": "unknown"
        },
        {
         "name": "child_value_before",
         "rawType": "int64",
         "type": "integer"
        },
        {
         "name": "child_value_after",
         "rawType": "int64",
         "type": "integer"
        },
        {
         "name": "parent_value_before",
         "rawType": "int64",
         "type": "integer"
        },
        {
         "name": "parent_value_after",
         "rawType": "int64",
         "type": "integer"
        }
       ],
       "ref": "be0ce323-2c5f-4289-ab7d-81fedcfad819",
       "rows": [
        [
         "GeneralIndicator.URBANIZATION",
         "90",
         "100",
         "90",
         "91"
        ],
        [
         "GeneralIndicator.AREA",
         "100",
         "100",
         "1000",
         "1000"
        ]
       ],
       "shape": {
        "columns": 4,
        "rows": 2
       }
      },
      "text/html": [
       "<div>\n",
       "<style scoped>\n",
       "    .dataframe tbody tr th:only-of-type {\n",
       "        vertical-align: middle;\n",
       "    }\n",
       "\n",
       "    .dataframe tbody tr th {\n",
       "        vertical-align: top;\n",
       "    }\n",
       "\n",
       "    .dataframe thead th {\n",
       "        text-align: right;\n",
       "    }\n",
       "</style>\n",
       "<table border=\"1\" class=\"dataframe\">\n",
       "  <thead>\n",
       "    <tr style=\"text-align: right;\">\n",
       "      <th></th>\n",
       "      <th>child_value_before</th>\n",
       "      <th>child_value_after</th>\n",
       "      <th>parent_value_before</th>\n",
       "      <th>parent_value_after</th>\n",
       "    </tr>\n",
       "  </thead>\n",
       "  <tbody>\n",
       "    <tr>\n",
       "      <th>GeneralIndicator.URBANIZATION</th>\n",
       "      <td>90</td>\n",
       "      <td>100</td>\n",
       "      <td>90</td>\n",
       "      <td>91</td>\n",
       "    </tr>\n",
       "    <tr>\n",
       "      <th>GeneralIndicator.AREA</th>\n",
       "      <td>100</td>\n",
       "      <td>100</td>\n",
       "      <td>1000</td>\n",
       "      <td>1000</td>\n",
       "    </tr>\n",
       "  </tbody>\n",
       "</table>\n",
       "</div>"
      ],
      "text/plain": [
       "                               child_value_before  child_value_after  \\\n",
       "GeneralIndicator.URBANIZATION                  90                100   \n",
       "GeneralIndicator.AREA                         100                100   \n",
       "\n",
       "                               parent_value_before  parent_value_after  \n",
       "GeneralIndicator.URBANIZATION                   90                  91  \n",
       "GeneralIndicator.AREA                         1000                1000  "
      ]
     },
     "execution_count": 10,
     "metadata": {},
     "output_type": "execute_result"
    }
   ],
   "source": [
    "a = ga.aggregate()\n",
    "a"
   ]
  }
 ],
 "metadata": {
  "kernelspec": {
   "display_name": ".venv",
   "language": "python",
   "name": "python3"
  },
  "language_info": {
   "codemirror_mode": {
    "name": "ipython",
    "version": 3
   },
   "file_extension": ".py",
   "mimetype": "text/x-python",
   "name": "python",
   "nbconvert_exporter": "python",
   "pygments_lexer": "ipython3",
   "version": "3.10.12"
  }
 },
 "nbformat": 4,
 "nbformat_minor": 5
}
