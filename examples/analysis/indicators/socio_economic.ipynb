{
 "cells": [
  {
   "cell_type": "markdown",
   "id": "37d70044",
   "metadata": {},
   "source": [
    "# Socio-economic indicators"
   ]
  },
  {
   "cell_type": "code",
   "execution_count": 10,
   "id": "467ec198",
   "metadata": {},
   "outputs": [],
   "source": [
    "from blocksnet.analysis.indicators.socio_economic import EconomicAggregator\n",
    "\n",
    "ea = EconomicAggregator(100, 10, 10)"
   ]
  },
  {
   "cell_type": "code",
   "execution_count": 11,
   "id": "b6e5aa06",
   "metadata": {},
   "outputs": [],
   "source": [
    "ind_cls = EconomicAggregator.indicator_cls\n",
    "\n",
    "for ind in ind_cls:\n",
    "    ea.add(ind, 100, 10, 20)"
   ]
  },
  {
   "cell_type": "code",
   "execution_count": 12,
   "id": "92080d44",
   "metadata": {},
   "outputs": [
    {
     "data": {
      "application/vnd.microsoft.datawrangler.viewer.v0+json": {
       "columns": [
        {
         "name": "index",
         "rawType": "object",
         "type": "unknown"
        },
        {
         "name": "child_value_before",
         "rawType": "int64",
         "type": "integer"
        },
        {
         "name": "child_value_after",
         "rawType": "int64",
         "type": "integer"
        },
        {
         "name": "parent_value_before",
         "rawType": "int64",
         "type": "integer"
        },
        {
         "name": "parent_value_after",
         "rawType": "int64",
         "type": "integer"
        }
       ],
       "ref": "8987f87d-8e80-45b3-a13c-fee52780e159",
       "rows": [
        [
         "EconomicIndicator.FIXED_CAPITAL_INVESTMENT_PER_CAPITA",
         "10",
         "20",
         "100",
         "101"
        ],
        [
         "EconomicIndicator.GRP_PER_CAPITA",
         "10",
         "20",
         "100",
         "101"
        ],
        [
         "EconomicIndicator.BUDGET_REVENUE",
         "10",
         "20",
         "100",
         "110"
        ],
        [
         "EconomicIndicator.AVERAGE_WAGE",
         "10",
         "20",
         "100",
         "101"
        ],
        [
         "EconomicIndicator.FIXED_ASSETS_DEPRECATION",
         "10",
         "20",
         "100",
         "110"
        ],
        [
         "EconomicIndicator.ORGANIZATIONS",
         "10",
         "20",
         "100",
         "110"
        ],
        [
         "EconomicIndicator.SOLE_PROPRIETORS",
         "10",
         "20",
         "100",
         "110"
        ]
       ],
       "shape": {
        "columns": 4,
        "rows": 7
       }
      },
      "text/html": [
       "<div>\n",
       "<style scoped>\n",
       "    .dataframe tbody tr th:only-of-type {\n",
       "        vertical-align: middle;\n",
       "    }\n",
       "\n",
       "    .dataframe tbody tr th {\n",
       "        vertical-align: top;\n",
       "    }\n",
       "\n",
       "    .dataframe thead th {\n",
       "        text-align: right;\n",
       "    }\n",
       "</style>\n",
       "<table border=\"1\" class=\"dataframe\">\n",
       "  <thead>\n",
       "    <tr style=\"text-align: right;\">\n",
       "      <th></th>\n",
       "      <th>child_value_before</th>\n",
       "      <th>child_value_after</th>\n",
       "      <th>parent_value_before</th>\n",
       "      <th>parent_value_after</th>\n",
       "    </tr>\n",
       "  </thead>\n",
       "  <tbody>\n",
       "    <tr>\n",
       "      <th>EconomicIndicator.FIXED_CAPITAL_INVESTMENT_PER_CAPITA</th>\n",
       "      <td>10</td>\n",
       "      <td>20</td>\n",
       "      <td>100</td>\n",
       "      <td>101</td>\n",
       "    </tr>\n",
       "    <tr>\n",
       "      <th>EconomicIndicator.GRP_PER_CAPITA</th>\n",
       "      <td>10</td>\n",
       "      <td>20</td>\n",
       "      <td>100</td>\n",
       "      <td>101</td>\n",
       "    </tr>\n",
       "    <tr>\n",
       "      <th>EconomicIndicator.BUDGET_REVENUE</th>\n",
       "      <td>10</td>\n",
       "      <td>20</td>\n",
       "      <td>100</td>\n",
       "      <td>110</td>\n",
       "    </tr>\n",
       "    <tr>\n",
       "      <th>EconomicIndicator.AVERAGE_WAGE</th>\n",
       "      <td>10</td>\n",
       "      <td>20</td>\n",
       "      <td>100</td>\n",
       "      <td>101</td>\n",
       "    </tr>\n",
       "    <tr>\n",
       "      <th>EconomicIndicator.FIXED_ASSETS_DEPRECATION</th>\n",
       "      <td>10</td>\n",
       "      <td>20</td>\n",
       "      <td>100</td>\n",
       "      <td>110</td>\n",
       "    </tr>\n",
       "    <tr>\n",
       "      <th>EconomicIndicator.ORGANIZATIONS</th>\n",
       "      <td>10</td>\n",
       "      <td>20</td>\n",
       "      <td>100</td>\n",
       "      <td>110</td>\n",
       "    </tr>\n",
       "    <tr>\n",
       "      <th>EconomicIndicator.SOLE_PROPRIETORS</th>\n",
       "      <td>10</td>\n",
       "      <td>20</td>\n",
       "      <td>100</td>\n",
       "      <td>110</td>\n",
       "    </tr>\n",
       "  </tbody>\n",
       "</table>\n",
       "</div>"
      ],
      "text/plain": [
       "                                                    child_value_before  ...  parent_value_after\n",
       "EconomicIndicator.FIXED_CAPITAL_INVESTMENT_PER_...                  10  ...                 101\n",
       "EconomicIndicator.GRP_PER_CAPITA                                    10  ...                 101\n",
       "EconomicIndicator.BUDGET_REVENUE                                    10  ...                 110\n",
       "EconomicIndicator.AVERAGE_WAGE                                      10  ...                 101\n",
       "EconomicIndicator.FIXED_ASSETS_DEPRECATION                          10  ...                 110\n",
       "EconomicIndicator.ORGANIZATIONS                                     10  ...                 110\n",
       "EconomicIndicator.SOLE_PROPRIETORS                                  10  ...                 110\n",
       "\n",
       "[7 rows x 4 columns]"
      ]
     },
     "execution_count": 12,
     "metadata": {},
     "output_type": "execute_result"
    }
   ],
   "source": [
    "ea.aggregate()"
   ]
  }
 ],
 "metadata": {
  "kernelspec": {
   "display_name": ".venv",
   "language": "python",
   "name": "python3"
  },
  "language_info": {
   "codemirror_mode": {
    "name": "ipython",
    "version": 3
   },
   "file_extension": ".py",
   "mimetype": "text/x-python",
   "name": "python",
   "nbconvert_exporter": "python",
   "pygments_lexer": "ipython3",
   "version": "3.10.12"
  }
 },
 "nbformat": 4,
 "nbformat_minor": 5
}
