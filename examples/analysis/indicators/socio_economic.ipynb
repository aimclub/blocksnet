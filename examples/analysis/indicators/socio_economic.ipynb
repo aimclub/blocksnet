{
 "cells": [
  {
   "cell_type": "markdown",
   "id": "37d70044",
   "metadata": {},
   "source": [
    "# Socio-economic indicators"
   ]
  },
  {
   "cell_type": "code",
   "execution_count": 1,
   "id": "467ec198",
   "metadata": {},
   "outputs": [],
   "source": [
    "from blocksnet.analysis.indicators.socio_economic.social_count.aggregation import SocialCountAggregation\n",
    "from blocksnet.analysis.indicators.socio_economic.social_count.indicator import SocialCountIndicator"
   ]
  },
  {
   "cell_type": "code",
   "execution_count": null,
   "id": "803835d6",
   "metadata": {},
   "outputs": [],
   "source": [
    "agg = SocialCountAggregation()\n",
    "agg.add(SocialCountIndicator.BEACH, 100, 1, 2)"
   ]
  },
  {
   "cell_type": "code",
   "execution_count": 5,
   "id": "92080d44",
   "metadata": {},
   "outputs": [
    {
     "name": "stderr",
     "output_type": "stream",
     "text": [
      "\u001b[32m2025-08-11 00:17:46.923\u001b[0m | \u001b[33m\u001b[1mWARNING \u001b[0m | \u001b[36mblocksnet.analysis.indicators.socio_economic.base_aggregation\u001b[0m:\u001b[36mto_df\u001b[0m:\u001b[36m52\u001b[0m - \u001b[33m\u001b[1mOnly 1/39 indicators were added\u001b[0m\n"
     ]
    },
    {
     "data": {
      "application/vnd.microsoft.datawrangler.viewer.v0+json": {
       "columns": [
        {
         "name": "index",
         "rawType": "object",
         "type": "unknown"
        },
        {
         "name": "child_value_before",
         "rawType": "int64",
         "type": "integer"
        },
        {
         "name": "child_value_after",
         "rawType": "int64",
         "type": "integer"
        },
        {
         "name": "parent_value_before",
         "rawType": "int64",
         "type": "integer"
        },
        {
         "name": "parent_value_after",
         "rawType": "int64",
         "type": "integer"
        }
       ],
       "ref": "24093f4a-755a-4eaa-beea-2bb8ae979b76",
       "rows": [
        [
         "SocialCountIndicator.BEACH",
         "1",
         "2",
         "100",
         "101"
        ]
       ],
       "shape": {
        "columns": 4,
        "rows": 1
       }
      },
      "text/html": [
       "<div>\n",
       "<style scoped>\n",
       "    .dataframe tbody tr th:only-of-type {\n",
       "        vertical-align: middle;\n",
       "    }\n",
       "\n",
       "    .dataframe tbody tr th {\n",
       "        vertical-align: top;\n",
       "    }\n",
       "\n",
       "    .dataframe thead th {\n",
       "        text-align: right;\n",
       "    }\n",
       "</style>\n",
       "<table border=\"1\" class=\"dataframe\">\n",
       "  <thead>\n",
       "    <tr style=\"text-align: right;\">\n",
       "      <th></th>\n",
       "      <th>child_value_before</th>\n",
       "      <th>child_value_after</th>\n",
       "      <th>parent_value_before</th>\n",
       "      <th>parent_value_after</th>\n",
       "    </tr>\n",
       "  </thead>\n",
       "  <tbody>\n",
       "    <tr>\n",
       "      <th>SocialCountIndicator.BEACH</th>\n",
       "      <td>1</td>\n",
       "      <td>2</td>\n",
       "      <td>100</td>\n",
       "      <td>101</td>\n",
       "    </tr>\n",
       "  </tbody>\n",
       "</table>\n",
       "</div>"
      ],
      "text/plain": [
       "                            child_value_before  child_value_after  \\\n",
       "SocialCountIndicator.BEACH                   1                  2   \n",
       "\n",
       "                            parent_value_before  parent_value_after  \n",
       "SocialCountIndicator.BEACH                  100                 101  "
      ]
     },
     "execution_count": 5,
     "metadata": {},
     "output_type": "execute_result"
    }
   ],
   "source": [
    "agg.to_df()"
   ]
  }
 ],
 "metadata": {
  "kernelspec": {
   "display_name": ".venv",
   "language": "python",
   "name": "python3"
  },
  "language_info": {
   "codemirror_mode": {
    "name": "ipython",
    "version": 3
   },
   "file_extension": ".py",
   "mimetype": "text/x-python",
   "name": "python",
   "nbconvert_exporter": "python",
   "pygments_lexer": "ipython3",
   "version": "3.10.12"
  }
 },
 "nbformat": 4,
 "nbformat_minor": 5
}
