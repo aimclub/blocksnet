{
 "cells": [
  {
   "cell_type": "markdown",
   "id": "37d70044",
   "metadata": {},
   "source": [
    "# Socio-economic indicators"
   ]
  },
  {
   "cell_type": "code",
   "execution_count": 1,
   "id": "467ec198",
   "metadata": {},
   "outputs": [],
   "source": [
    "from blocksnet.analysis.indicators.socio_economic import SocioEconomicAggregator\n",
    "\n",
    "aggregator = SocioEconomicAggregator()"
   ]
  },
  {
   "cell_type": "code",
   "execution_count": 2,
   "id": "88043721",
   "metadata": {},
   "outputs": [
    {
     "name": "stdout",
     "output_type": "stream",
     "text": [
      "Количество индикаторов для агрегации: 87\n"
     ]
    }
   ],
   "source": [
    "from blocksnet.analysis.indicators.socio_economic import (\n",
    "    GeneralIndicator, \n",
    "    DemographicIndicator, \n",
    "    SettlementIndicator, \n",
    "    TransportIndicator, \n",
    "    EconomicIndicator, \n",
    "    EcologicalIndicator, \n",
    "    EngineeringIndicator, \n",
    "    SocialCountIndicator\n",
    ")\n",
    "\n",
    "count = 0\n",
    "for enum in [\n",
    "    GeneralIndicator, \n",
    "    DemographicIndicator, \n",
    "    SettlementIndicator, \n",
    "    TransportIndicator, \n",
    "    EconomicIndicator, \n",
    "    EcologicalIndicator, \n",
    "    EngineeringIndicator, \n",
    "    SocialCountIndicator\n",
    "]:\n",
    "    count += len([e for e in enum if e.meta.aggregatable])\n",
    "\n",
    "print(f\"Количество индикаторов для агрегации: {count}\")"
   ]
  },
  {
   "cell_type": "code",
   "execution_count": 5,
   "id": "cc489a59",
   "metadata": {},
   "outputs": [
    {
     "name": "stdout",
     "output_type": "stream",
     "text": [
      "Количество индикаторов для оценки: 46\n"
     ]
    }
   ],
   "source": [
    "count = 0\n",
    "for enum in [\n",
    "    EngineeringIndicator,\n",
    "    SocialCountIndicator\n",
    "]:\n",
    "    count += len(enum)\n",
    "\n",
    "print(f\"Количество индикаторов для оценки: {count}\") "
   ]
  },
  {
   "cell_type": "code",
   "execution_count": 3,
   "id": "b6e5aa06",
   "metadata": {},
   "outputs": [],
   "source": [
    "aggregator.add(GeneralIndicator.AREA, 10, 20, 100)"
   ]
  },
  {
   "cell_type": "code",
   "execution_count": 4,
   "id": "92080d44",
   "metadata": {},
   "outputs": [
    {
     "data": {
      "text/plain": [
       "{'child_value_before': 10,\n",
       " 'child_value_after': 20,\n",
       " 'parent_value_before': 100,\n",
       " 'parent_value_after': 110}"
      ]
     },
     "execution_count": 4,
     "metadata": {},
     "output_type": "execute_result"
    }
   ],
   "source": [
    "aggregator.aggregate(GeneralIndicator.AREA)"
   ]
  }
 ],
 "metadata": {
  "kernelspec": {
   "display_name": ".venv",
   "language": "python",
   "name": "python3"
  },
  "language_info": {
   "codemirror_mode": {
    "name": "ipython",
    "version": 3
   },
   "file_extension": ".py",
   "mimetype": "text/x-python",
   "name": "python",
   "nbconvert_exporter": "python",
   "pygments_lexer": "ipython3",
   "version": "3.10.12"
  }
 },
 "nbformat": 4,
 "nbformat_minor": 5
}
