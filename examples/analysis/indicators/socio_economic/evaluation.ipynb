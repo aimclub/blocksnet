{
 "cells": [
  {
   "cell_type": "markdown",
   "id": "a1836563",
   "metadata": {},
   "source": [
    "# Socio-economic indicators evaluation"
   ]
  },
  {
   "cell_type": "markdown",
   "id": "8e39339f",
   "metadata": {},
   "source": [
    "Read aggregated blocks spatial layer"
   ]
  },
  {
   "cell_type": "code",
   "execution_count": 1,
   "id": "faf5b7fc",
   "metadata": {},
   "outputs": [],
   "source": [
    "import pandas as pd\n",
    "\n",
    "blocks_gdf = pd.read_pickle('./../../../data/saint_petersburg/blocks.pickle')"
   ]
  },
  {
   "cell_type": "markdown",
   "id": "36768bb2",
   "metadata": {},
   "source": [
    "Read drive graph"
   ]
  },
  {
   "cell_type": "code",
   "execution_count": 2,
   "id": "adc9d845",
   "metadata": {},
   "outputs": [],
   "source": [
    "import pickle\n",
    "\n",
    "with open('./../../../data/saint_petersburg/graph_drive.pickle', \"rb\") as f:\n",
    "    graph = pickle.load(f)"
   ]
  },
  {
   "cell_type": "markdown",
   "id": "75f35f0f",
   "metadata": {},
   "source": [
    "Read drive accessibility matrix"
   ]
  },
  {
   "cell_type": "code",
   "execution_count": 3,
   "id": "4debc78d",
   "metadata": {},
   "outputs": [],
   "source": [
    "acc_mx = pd.read_pickle('./../../../data/saint_petersburg/accessibility_matrix_drive.pickle')"
   ]
  },
  {
   "cell_type": "markdown",
   "id": "d571f52d",
   "metadata": {},
   "source": [
    "## General indicators"
   ]
  },
  {
   "cell_type": "code",
   "execution_count": 4,
   "id": "e5b76da2",
   "metadata": {},
   "outputs": [
    {
     "data": {
      "text/plain": [
       "{Area (km2): 1392.283137517296, Urbanization: 0.3640140273948924}"
      ]
     },
     "execution_count": 4,
     "metadata": {},
     "output_type": "execute_result"
    }
   ],
   "source": [
    "from blocksnet.analysis.indicators.socio_economic import calculate_general_indicators\n",
    "\n",
    "general_indicators = calculate_general_indicators(blocks_gdf)\n",
    "general_indicators"
   ]
  },
  {
   "cell_type": "markdown",
   "id": "47fbd362",
   "metadata": {},
   "source": [
    "## Demographic indicators"
   ]
  },
  {
   "cell_type": "code",
   "execution_count": 5,
   "id": "63b25e30",
   "metadata": {},
   "outputs": [
    {
     "data": {
      "text/plain": [
       "{Population: 5477076, Density (people/km2): 3933.880869782465}"
      ]
     },
     "execution_count": 5,
     "metadata": {},
     "output_type": "execute_result"
    }
   ],
   "source": [
    "from blocksnet.analysis.indicators.socio_economic import calculate_demographic_indicators\n",
    "\n",
    "demographic_indicators = calculate_demographic_indicators(blocks_gdf)\n",
    "demographic_indicators"
   ]
  },
  {
   "cell_type": "markdown",
   "id": "35215713",
   "metadata": {},
   "source": [
    "## Settlement indicators"
   ]
  },
  {
   "cell_type": "code",
   "execution_count": 6,
   "id": "77bc40a6",
   "metadata": {},
   "outputs": [],
   "source": [
    "# not calculated within blocksnet"
   ]
  },
  {
   "cell_type": "markdown",
   "id": "20f29f99",
   "metadata": {},
   "source": [
    "## Transport indicators"
   ]
  },
  {
   "cell_type": "code",
   "execution_count": 7,
   "id": "a8bb11d3",
   "metadata": {},
   "outputs": [
    {
     "data": {
      "text/plain": [
       "{Road network density (km/km2): 8.875121375198045,\n",
       " Settlements connectivity: 0.49947916666666664,\n",
       " Road network length (km): 12356.681834107552,\n",
       " Fuel stations count: 505,\n",
       " Average fuel station accessibility (h): 0.0911865234375,\n",
       " Railway stops count: 44,\n",
       " Average railway stop accessibility (h): 0.1654052734375}"
      ]
     },
     "execution_count": 7,
     "metadata": {},
     "output_type": "execute_result"
    }
   ],
   "source": [
    "from blocksnet.analysis.indicators.socio_economic import calculate_transport_indicators\n",
    "\n",
    "transport_indicators = calculate_transport_indicators(blocks_gdf, acc_mx, graph)\n",
    "transport_indicators"
   ]
  },
  {
   "cell_type": "markdown",
   "id": "0e5ec508",
   "metadata": {},
   "source": [
    "## Economic indicators"
   ]
  },
  {
   "cell_type": "code",
   "execution_count": 8,
   "id": "73a46b08",
   "metadata": {},
   "outputs": [],
   "source": [
    "# not calculated within blocksnet"
   ]
  },
  {
   "cell_type": "markdown",
   "id": "06cf481c",
   "metadata": {},
   "source": [
    "## Ecological indicators"
   ]
  },
  {
   "cell_type": "code",
   "execution_count": 9,
   "id": "717dea7b",
   "metadata": {},
   "outputs": [],
   "source": [
    "# not calculated within blocksnet"
   ]
  },
  {
   "cell_type": "markdown",
   "id": "d014b757",
   "metadata": {},
   "source": [
    "## Engineering indicators"
   ]
  },
  {
   "cell_type": "code",
   "execution_count": 10,
   "id": "6f5b45e8",
   "metadata": {},
   "outputs": [
    {
     "data": {
      "text/plain": [
       "{Power plant: 505,\n",
       " Water intake: 1541,\n",
       " Treatment facility: 880,\n",
       " Reservoir: 14255,\n",
       " Gas distribution: 3876,\n",
       " Infrastructure object: 21057}"
      ]
     },
     "execution_count": 10,
     "metadata": {},
     "output_type": "execute_result"
    }
   ],
   "source": [
    "from blocksnet.analysis.indicators.socio_economic import calculate_engineering_indicators\n",
    "\n",
    "tmp_gdf = blocks_gdf.rename(columns={\n",
    "    'count_school': 'count_treatment_facility',\n",
    "    'count_kindergarten': 'count_water_intake',\n",
    "    'count_hairdresser': 'count_gas_distribution',\n",
    "    'count_fuel': 'count_power_plant',\n",
    "    'count_park': 'count_reservoir'\n",
    "})\n",
    "\n",
    "engineering_indicators = calculate_engineering_indicators(tmp_gdf)\n",
    "engineering_indicators"
   ]
  },
  {
   "cell_type": "markdown",
   "id": "7f66e763",
   "metadata": {},
   "source": [
    "## Social count indicators"
   ]
  },
  {
   "cell_type": "code",
   "execution_count": 11,
   "id": "d8db145a",
   "metadata": {},
   "outputs": [
    {
     "name": "stderr",
     "output_type": "stream",
     "text": [
      "\u001b[32m2025-09-29 00:58:19.677\u001b[0m | \u001b[33m\u001b[1mWARNING \u001b[0m | \u001b[36mblocksnet.analysis.indicators.socio_economic.social_count.core\u001b[0m:\u001b[36mcalculate_social_count_indicators\u001b[0m:\u001b[36m17\u001b[0m - \u001b[33m\u001b[1mcount_college is missing. The indicator is skipped\u001b[0m\n",
      "\u001b[32m2025-09-29 00:58:19.678\u001b[0m | \u001b[33m\u001b[1mWARNING \u001b[0m | \u001b[36mblocksnet.analysis.indicators.socio_economic.social_count.core\u001b[0m:\u001b[36mcalculate_social_count_indicators\u001b[0m:\u001b[36m17\u001b[0m - \u001b[33m\u001b[1mcount_extracurricular is missing. The indicator is skipped\u001b[0m\n",
      "\u001b[32m2025-09-29 00:58:19.679\u001b[0m | \u001b[33m\u001b[1mWARNING \u001b[0m | \u001b[36mblocksnet.analysis.indicators.socio_economic.social_count.core\u001b[0m:\u001b[36mcalculate_social_count_indicators\u001b[0m:\u001b[36m17\u001b[0m - \u001b[33m\u001b[1mcount_ambulance is missing. The indicator is skipped\u001b[0m\n",
      "\u001b[32m2025-09-29 00:58:19.679\u001b[0m | \u001b[33m\u001b[1mWARNING \u001b[0m | \u001b[36mblocksnet.analysis.indicators.socio_economic.social_count.core\u001b[0m:\u001b[36mcalculate_social_count_indicators\u001b[0m:\u001b[36m17\u001b[0m - \u001b[33m\u001b[1mcount_special_medical is missing. The indicator is skipped\u001b[0m\n",
      "\u001b[32m2025-09-29 00:58:19.680\u001b[0m | \u001b[33m\u001b[1mWARNING \u001b[0m | \u001b[36mblocksnet.analysis.indicators.socio_economic.social_count.core\u001b[0m:\u001b[36mcalculate_social_count_indicators\u001b[0m:\u001b[36m17\u001b[0m - \u001b[33m\u001b[1mcount_preventive_medical is missing. The indicator is skipped\u001b[0m\n",
      "\u001b[32m2025-09-29 00:58:19.680\u001b[0m | \u001b[33m\u001b[1mWARNING \u001b[0m | \u001b[36mblocksnet.analysis.indicators.socio_economic.social_count.core\u001b[0m:\u001b[36mcalculate_social_count_indicators\u001b[0m:\u001b[36m17\u001b[0m - \u001b[33m\u001b[1mcount_gym is missing. The indicator is skipped\u001b[0m\n",
      "\u001b[32m2025-09-29 00:58:19.681\u001b[0m | \u001b[33m\u001b[1mWARNING \u001b[0m | \u001b[36mblocksnet.analysis.indicators.socio_economic.social_count.core\u001b[0m:\u001b[36mcalculate_social_count_indicators\u001b[0m:\u001b[36m17\u001b[0m - \u001b[33m\u001b[1mcount_outdoor_sports is missing. The indicator is skipped\u001b[0m\n",
      "\u001b[32m2025-09-29 00:58:19.681\u001b[0m | \u001b[33m\u001b[1mWARNING \u001b[0m | \u001b[36mblocksnet.analysis.indicators.socio_economic.social_count.core\u001b[0m:\u001b[36mcalculate_social_count_indicators\u001b[0m:\u001b[36m17\u001b[0m - \u001b[33m\u001b[1mcount_stadium is missing. The indicator is skipped\u001b[0m\n",
      "\u001b[32m2025-09-29 00:58:19.682\u001b[0m | \u001b[33m\u001b[1mWARNING \u001b[0m | \u001b[36mblocksnet.analysis.indicators.socio_economic.social_count.core\u001b[0m:\u001b[36mcalculate_social_count_indicators\u001b[0m:\u001b[36m17\u001b[0m - \u001b[33m\u001b[1mcount_orphanage is missing. The indicator is skipped\u001b[0m\n",
      "\u001b[32m2025-09-29 00:58:19.683\u001b[0m | \u001b[33m\u001b[1mWARNING \u001b[0m | \u001b[36mblocksnet.analysis.indicators.socio_economic.social_count.core\u001b[0m:\u001b[36mcalculate_social_count_indicators\u001b[0m:\u001b[36m17\u001b[0m - \u001b[33m\u001b[1mcount_nursing_home is missing. The indicator is skipped\u001b[0m\n",
      "\u001b[32m2025-09-29 00:58:19.683\u001b[0m | \u001b[33m\u001b[1mWARNING \u001b[0m | \u001b[36mblocksnet.analysis.indicators.socio_economic.social_count.core\u001b[0m:\u001b[36mcalculate_social_count_indicators\u001b[0m:\u001b[36m17\u001b[0m - \u001b[33m\u001b[1mcount_social_service_center is missing. The indicator is skipped\u001b[0m\n",
      "\u001b[32m2025-09-29 00:58:19.684\u001b[0m | \u001b[33m\u001b[1mWARNING \u001b[0m | \u001b[36mblocksnet.analysis.indicators.socio_economic.social_count.core\u001b[0m:\u001b[36mcalculate_social_count_indicators\u001b[0m:\u001b[36m17\u001b[0m - \u001b[33m\u001b[1mcount_library is missing. The indicator is skipped\u001b[0m\n",
      "\u001b[32m2025-09-29 00:58:19.685\u001b[0m | \u001b[33m\u001b[1mWARNING \u001b[0m | \u001b[36mblocksnet.analysis.indicators.socio_economic.social_count.core\u001b[0m:\u001b[36mcalculate_social_count_indicators\u001b[0m:\u001b[36m17\u001b[0m - \u001b[33m\u001b[1mcount_cultural_center is missing. The indicator is skipped\u001b[0m\n",
      "\u001b[32m2025-09-29 00:58:19.685\u001b[0m | \u001b[33m\u001b[1mWARNING \u001b[0m | \u001b[36mblocksnet.analysis.indicators.socio_economic.social_count.core\u001b[0m:\u001b[36mcalculate_social_count_indicators\u001b[0m:\u001b[36m17\u001b[0m - \u001b[33m\u001b[1mcount_concert_hall is missing. The indicator is skipped\u001b[0m\n",
      "\u001b[32m2025-09-29 00:58:19.686\u001b[0m | \u001b[33m\u001b[1mWARNING \u001b[0m | \u001b[36mblocksnet.analysis.indicators.socio_economic.social_count.core\u001b[0m:\u001b[36mcalculate_social_count_indicators\u001b[0m:\u001b[36m17\u001b[0m - \u001b[33m\u001b[1mcount_ice_arena is missing. The indicator is skipped\u001b[0m\n",
      "\u001b[32m2025-09-29 00:58:19.687\u001b[0m | \u001b[33m\u001b[1mWARNING \u001b[0m | \u001b[36mblocksnet.analysis.indicators.socio_economic.social_count.core\u001b[0m:\u001b[36mcalculate_social_count_indicators\u001b[0m:\u001b[36m17\u001b[0m - \u001b[33m\u001b[1mcount_eco_trail is missing. The indicator is skipped\u001b[0m\n",
      "\u001b[32m2025-09-29 00:58:19.687\u001b[0m | \u001b[33m\u001b[1mWARNING \u001b[0m | \u001b[36mblocksnet.analysis.indicators.socio_economic.social_count.core\u001b[0m:\u001b[36mcalculate_social_count_indicators\u001b[0m:\u001b[36m17\u001b[0m - \u001b[33m\u001b[1mcount_fire_station is missing. The indicator is skipped\u001b[0m\n",
      "\u001b[32m2025-09-29 00:58:19.688\u001b[0m | \u001b[33m\u001b[1mWARNING \u001b[0m | \u001b[36mblocksnet.analysis.indicators.socio_economic.social_count.core\u001b[0m:\u001b[36mcalculate_social_count_indicators\u001b[0m:\u001b[36m17\u001b[0m - \u001b[33m\u001b[1mcount_tourist_base is missing. The indicator is skipped\u001b[0m\n",
      "\u001b[32m2025-09-29 00:58:19.688\u001b[0m | \u001b[33m\u001b[1mWARNING \u001b[0m | \u001b[36mblocksnet.analysis.indicators.socio_economic.social_count.core\u001b[0m:\u001b[36mcalculate_social_count_indicators\u001b[0m:\u001b[36m17\u001b[0m - \u001b[33m\u001b[1mcount_catering is missing. The indicator is skipped\u001b[0m\n"
     ]
    }
   ],
   "source": [
    "from blocksnet.analysis.indicators.socio_economic import calculate_social_count_indicators\n",
    "\n",
    "sc_indicators, missing_sc_indicators = calculate_social_count_indicators(blocks_gdf)"
   ]
  },
  {
   "cell_type": "code",
   "execution_count": 13,
   "id": "846eeeaf",
   "metadata": {},
   "outputs": [
    {
     "data": {
      "text/plain": [
       "{Kindergarten: 1541,\n",
       " School: 880,\n",
       " University: 226,\n",
       " Hospital: 127,\n",
       " Polyclinic: 252,\n",
       " Sanatorium: 77,\n",
       " Pharmacy: 2176,\n",
       " Swimming pool: 83,\n",
       " Post: 324,\n",
       " Bank: 995,\n",
       " Multifunctional center: 57,\n",
       " Museum: 264,\n",
       " Theatre: 112,\n",
       " Cinema: 71,\n",
       " Mall: 273,\n",
       " Park: 14255,\n",
       " Beach: 91,\n",
       " Police: 343,\n",
       " Hotel: 729,\n",
       " Hostel: 195}"
      ]
     },
     "execution_count": 13,
     "metadata": {},
     "output_type": "execute_result"
    }
   ],
   "source": [
    "sc_indicators"
   ]
  },
  {
   "cell_type": "code",
   "execution_count": 14,
   "id": "673fdd7b",
   "metadata": {},
   "outputs": [
    {
     "data": {
      "text/plain": [
       "[College,\n",
       " Extracurricular,\n",
       " Ambulance,\n",
       " Special medical,\n",
       " Preventive medical,\n",
       " Gym,\n",
       " Outdoor sports,\n",
       " Stadium,\n",
       " Orphanage,\n",
       " Nursing home,\n",
       " Social service center,\n",
       " Library,\n",
       " Cultural center,\n",
       " Concert hall,\n",
       " Ice arena,\n",
       " Eco trail,\n",
       " Fire station,\n",
       " Tourist base,\n",
       " Catering]"
      ]
     },
     "execution_count": 14,
     "metadata": {},
     "output_type": "execute_result"
    }
   ],
   "source": [
    "missing_sc_indicators"
   ]
  }
 ],
 "metadata": {
  "kernelspec": {
   "display_name": ".venv",
   "language": "python",
   "name": "python3"
  },
  "language_info": {
   "codemirror_mode": {
    "name": "ipython",
    "version": 3
   },
   "file_extension": ".py",
   "mimetype": "text/x-python",
   "name": "python",
   "nbconvert_exporter": "python",
   "pygments_lexer": "ipython3",
   "version": "3.10.12"
  }
 },
 "nbformat": 4,
 "nbformat_minor": 5
}
