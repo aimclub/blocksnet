{
 "cells": [
  {
   "cell_type": "markdown",
   "id": "a1836563",
   "metadata": {},
   "source": [
    "# Socio-economic indicators evaluation"
   ]
  },
  {
   "cell_type": "markdown",
   "id": "8e39339f",
   "metadata": {},
   "source": [
    "Read aggregated blocks spatial layer"
   ]
  },
  {
   "cell_type": "code",
   "execution_count": 1,
   "id": "faf5b7fc",
   "metadata": {},
   "outputs": [],
   "source": [
    "import pandas as pd\n",
    "\n",
    "blocks_gdf = pd.read_pickle('./../../../data/saint_petersburg/blocks.pickle')"
   ]
  },
  {
   "cell_type": "markdown",
   "id": "36768bb2",
   "metadata": {},
   "source": [
    "Read drive graph"
   ]
  },
  {
   "cell_type": "code",
   "execution_count": 2,
   "id": "adc9d845",
   "metadata": {},
   "outputs": [],
   "source": [
    "import pickle\n",
    "\n",
    "with open('./../../../data/saint_petersburg/graph_drive.pickle', \"rb\") as f:\n",
    "    graph = pickle.load(f)"
   ]
  },
  {
   "cell_type": "markdown",
   "id": "75f35f0f",
   "metadata": {},
   "source": [
    "Read drive accessibility matrix"
   ]
  },
  {
   "cell_type": "code",
   "execution_count": 3,
   "id": "4debc78d",
   "metadata": {},
   "outputs": [],
   "source": [
    "acc_mx = pd.read_pickle('./../../../data/saint_petersburg/accessibility_matrix_drive.pickle')"
   ]
  },
  {
   "cell_type": "markdown",
   "id": "d571f52d",
   "metadata": {},
   "source": [
    "## General indicators"
   ]
  },
  {
   "cell_type": "code",
   "execution_count": 4,
   "id": "e5b76da2",
   "metadata": {},
   "outputs": [
    {
     "data": {
      "text/plain": [
       "{Area (km2): 1392.283137517296, Urbanization: 0.3640140273948924}"
      ]
     },
     "execution_count": 4,
     "metadata": {},
     "output_type": "execute_result"
    }
   ],
   "source": [
    "from blocksnet.analysis.indicators.socio_economic import calculate_general_indicators\n",
    "\n",
    "general_indicators = calculate_general_indicators(blocks_gdf)\n",
    "general_indicators"
   ]
  },
  {
   "cell_type": "markdown",
   "id": "47fbd362",
   "metadata": {},
   "source": [
    "## Demographic indicators"
   ]
  },
  {
   "cell_type": "code",
   "execution_count": 5,
   "id": "63b25e30",
   "metadata": {},
   "outputs": [
    {
     "data": {
      "text/plain": [
       "{Population: 5477076, Density (people/km2): 3933.880869782465}"
      ]
     },
     "execution_count": 5,
     "metadata": {},
     "output_type": "execute_result"
    }
   ],
   "source": [
    "from blocksnet.analysis.indicators.socio_economic import calculate_demographic_indicators\n",
    "\n",
    "demographic_indicators = calculate_demographic_indicators(blocks_gdf)\n",
    "demographic_indicators"
   ]
  },
  {
   "cell_type": "markdown",
   "id": "35215713",
   "metadata": {},
   "source": [
    "## Settlement indicators"
   ]
  },
  {
   "cell_type": "code",
   "execution_count": 6,
   "id": "77bc40a6",
   "metadata": {},
   "outputs": [],
   "source": [
    "# not calculated within blocksnet"
   ]
  },
  {
   "cell_type": "markdown",
   "id": "20f29f99",
   "metadata": {},
   "source": [
    "## Transport indicators"
   ]
  },
  {
   "cell_type": "code",
   "execution_count": 7,
   "id": "a8bb11d3",
   "metadata": {},
   "outputs": [
    {
     "data": {
      "text/plain": [
       "{Road network density (km/km2): 8.875121375198045,\n",
       " Settlements connectivity: 0.49947916666666664,\n",
       " Road network length (km): 12356.681834107552,\n",
       " Fuel stations count: 505,\n",
       " Average fuel station accessibility: 0.0911865234375,\n",
       " Railway stops count: 44,\n",
       " Average railway stop accessibility: 0.1654052734375}"
      ]
     },
     "execution_count": 7,
     "metadata": {},
     "output_type": "execute_result"
    }
   ],
   "source": [
    "from blocksnet.analysis.indicators.socio_economic import calculate_transport_indicators\n",
    "\n",
    "transport_indicators = calculate_transport_indicators(blocks_gdf, acc_mx, graph)\n",
    "transport_indicators"
   ]
  },
  {
   "cell_type": "markdown",
   "id": "0e5ec508",
   "metadata": {},
   "source": [
    "## Economic indicators"
   ]
  },
  {
   "cell_type": "code",
   "execution_count": 8,
   "id": "73a46b08",
   "metadata": {},
   "outputs": [],
   "source": [
    "# not calculated within blocksnet"
   ]
  },
  {
   "cell_type": "markdown",
   "id": "06cf481c",
   "metadata": {},
   "source": [
    "## Ecological indicators"
   ]
  },
  {
   "cell_type": "code",
   "execution_count": 9,
   "id": "717dea7b",
   "metadata": {},
   "outputs": [],
   "source": [
    "# not calculated within blocksnet"
   ]
  },
  {
   "cell_type": "markdown",
   "id": "d014b757",
   "metadata": {},
   "source": [
    "## Engineering indicators"
   ]
  },
  {
   "cell_type": "code",
   "execution_count": null,
   "id": "6f5b45e8",
   "metadata": {},
   "outputs": [
    {
     "data": {
      "text/plain": [
       "{Infrastructure object: np.int64(57363)}"
      ]
     },
     "execution_count": 10,
     "metadata": {},
     "output_type": "execute_result"
    }
   ],
   "source": [
    "from blocksnet.analysis.indicators.socio_economic import calculate_engineering_indicators\n",
    "\n",
    "engineering_indicators = calculate_engineering_indicators(blocks_gdf)\n",
    "engineering_indicators"
   ]
  }
 ],
 "metadata": {
  "kernelspec": {
   "display_name": ".venv",
   "language": "python",
   "name": "python3"
  },
  "language_info": {
   "codemirror_mode": {
    "name": "ipython",
    "version": 3
   },
   "file_extension": ".py",
   "mimetype": "text/x-python",
   "name": "python",
   "nbconvert_exporter": "python",
   "pygments_lexer": "ipython3",
   "version": "3.10.12"
  }
 },
 "nbformat": 4,
 "nbformat_minor": 5
}
