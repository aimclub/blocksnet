{
 "cells": [
  {
   "cell_type": "markdown",
   "metadata": {},
   "source": [
    "# GNN"
   ]
  },
  {
   "cell_type": "markdown",
   "metadata": {},
   "source": [
    "## Installation"
   ]
  },
  {
   "cell_type": "code",
   "execution_count": 8,
   "metadata": {},
   "outputs": [
    {
     "name": "stdout",
     "output_type": "stream",
     "text": [
      "Looking in links: https://download.pytorch.org/whl/torch_stable.html\n",
      "Requirement already satisfied: torch==2.0.0+cpu in /home/vasilstar/masterplanning/.venv/lib/python3.10/site-packages (2.0.0+cpu)\n",
      "Requirement already satisfied: torchvision==0.15.0+cpu in /home/vasilstar/masterplanning/.venv/lib/python3.10/site-packages (0.15.0+cpu)\n",
      "Requirement already satisfied: sympy in /home/vasilstar/masterplanning/.venv/lib/python3.10/site-packages (from torch==2.0.0+cpu) (1.13.3)\n",
      "Requirement already satisfied: networkx in /home/vasilstar/masterplanning/.venv/lib/python3.10/site-packages (from torch==2.0.0+cpu) (3.3)\n",
      "Requirement already satisfied: filelock in /home/vasilstar/masterplanning/.venv/lib/python3.10/site-packages (from torch==2.0.0+cpu) (3.16.0)\n",
      "Requirement already satisfied: typing-extensions in /home/vasilstar/masterplanning/.venv/lib/python3.10/site-packages (from torch==2.0.0+cpu) (4.12.2)\n",
      "Requirement already satisfied: jinja2 in /home/vasilstar/masterplanning/.venv/lib/python3.10/site-packages (from torch==2.0.0+cpu) (3.1.4)\n",
      "Requirement already satisfied: numpy in /home/vasilstar/masterplanning/.venv/lib/python3.10/site-packages (from torchvision==0.15.0+cpu) (1.23.5)\n",
      "Requirement already satisfied: requests in /home/vasilstar/masterplanning/.venv/lib/python3.10/site-packages (from torchvision==0.15.0+cpu) (2.31.0)\n",
      "Requirement already satisfied: pillow!=8.3.*,>=5.3.0 in /home/vasilstar/masterplanning/.venv/lib/python3.10/site-packages (from torchvision==0.15.0+cpu) (10.4.0)\n",
      "Requirement already satisfied: MarkupSafe>=2.0 in /home/vasilstar/masterplanning/.venv/lib/python3.10/site-packages (from jinja2->torch==2.0.0+cpu) (2.1.5)\n",
      "Requirement already satisfied: charset-normalizer<4,>=2 in /home/vasilstar/masterplanning/.venv/lib/python3.10/site-packages (from requests->torchvision==0.15.0+cpu) (3.3.2)\n",
      "Requirement already satisfied: certifi>=2017.4.17 in /home/vasilstar/masterplanning/.venv/lib/python3.10/site-packages (from requests->torchvision==0.15.0+cpu) (2024.8.30)\n",
      "Requirement already satisfied: idna<4,>=2.5 in /home/vasilstar/masterplanning/.venv/lib/python3.10/site-packages (from requests->torchvision==0.15.0+cpu) (3.9)\n",
      "Requirement already satisfied: urllib3<3,>=1.21.1 in /home/vasilstar/masterplanning/.venv/lib/python3.10/site-packages (from requests->torchvision==0.15.0+cpu) (2.2.3)\n",
      "Requirement already satisfied: mpmath<1.4,>=1.1.0 in /home/vasilstar/masterplanning/.venv/lib/python3.10/site-packages (from sympy->torch==2.0.0+cpu) (1.3.0)\n"
     ]
    }
   ],
   "source": [
    "! pip install torch==2.0.0+cpu torchvision==0.15.0+cpu -f https://download.pytorch.org/whl/torch_stable.html\n"
   ]
  },
  {
   "cell_type": "code",
   "execution_count": 9,
   "metadata": {},
   "outputs": [
    {
     "name": "stdout",
     "output_type": "stream",
     "text": [
      "Looking in links: https://data.pyg.org/whl/torch-2.0.0+cpu.html\n",
      "Requirement already satisfied: pyg-lib==0.3.1 in /home/vasilstar/masterplanning/.venv/lib/python3.10/site-packages (0.3.1+pt20cpu)\n",
      "Requirement already satisfied: torch_scatter in /home/vasilstar/masterplanning/.venv/lib/python3.10/site-packages (2.1.2+pt20cpu)\n",
      "Requirement already satisfied: torch_sparse in /home/vasilstar/masterplanning/.venv/lib/python3.10/site-packages (0.6.18+pt20cpu)\n",
      "Requirement already satisfied: torch_cluster in /home/vasilstar/masterplanning/.venv/lib/python3.10/site-packages (1.6.3+pt20cpu)\n",
      "Requirement already satisfied: torch_spline_conv in /home/vasilstar/masterplanning/.venv/lib/python3.10/site-packages (1.2.2+pt20cpu)\n",
      "Requirement already satisfied: scipy in /home/vasilstar/masterplanning/.venv/lib/python3.10/site-packages (from torch_sparse) (1.14.1)\n",
      "Requirement already satisfied: numpy<2.3,>=1.23.5 in /home/vasilstar/masterplanning/.venv/lib/python3.10/site-packages (from scipy->torch_sparse) (1.23.5)\n"
     ]
    }
   ],
   "source": [
    "! pip install pyg-lib==0.3.1 torch_scatter torch_sparse torch_cluster torch_spline_conv -f https://data.pyg.org/whl/torch-2.0.0+cpu.html"
   ]
  },
  {
   "cell_type": "code",
   "execution_count": 10,
   "metadata": {},
   "outputs": [
    {
     "name": "stdout",
     "output_type": "stream",
     "text": [
      "Requirement already satisfied: torch-geometric==2.4.0 in /home/vasilstar/masterplanning/.venv/lib/python3.10/site-packages (2.4.0)\n",
      "Requirement already satisfied: tqdm in /home/vasilstar/masterplanning/.venv/lib/python3.10/site-packages (from torch-geometric==2.4.0) (4.66.5)\n",
      "Requirement already satisfied: scikit-learn in /home/vasilstar/masterplanning/.venv/lib/python3.10/site-packages (from torch-geometric==2.4.0) (1.2.2)\n",
      "Requirement already satisfied: jinja2 in /home/vasilstar/masterplanning/.venv/lib/python3.10/site-packages (from torch-geometric==2.4.0) (3.1.4)\n",
      "Requirement already satisfied: psutil>=5.8.0 in /home/vasilstar/masterplanning/.venv/lib/python3.10/site-packages (from torch-geometric==2.4.0) (6.0.0)\n",
      "Requirement already satisfied: requests in /home/vasilstar/masterplanning/.venv/lib/python3.10/site-packages (from torch-geometric==2.4.0) (2.31.0)\n",
      "Requirement already satisfied: pyparsing in /home/vasilstar/masterplanning/.venv/lib/python3.10/site-packages (from torch-geometric==2.4.0) (3.1.4)\n",
      "Requirement already satisfied: scipy in /home/vasilstar/masterplanning/.venv/lib/python3.10/site-packages (from torch-geometric==2.4.0) (1.14.1)\n",
      "Requirement already satisfied: numpy in /home/vasilstar/masterplanning/.venv/lib/python3.10/site-packages (from torch-geometric==2.4.0) (1.23.5)\n",
      "Requirement already satisfied: MarkupSafe>=2.0 in /home/vasilstar/masterplanning/.venv/lib/python3.10/site-packages (from jinja2->torch-geometric==2.4.0) (2.1.5)\n",
      "Requirement already satisfied: certifi>=2017.4.17 in /home/vasilstar/masterplanning/.venv/lib/python3.10/site-packages (from requests->torch-geometric==2.4.0) (2024.8.30)\n",
      "Requirement already satisfied: urllib3<3,>=1.21.1 in /home/vasilstar/masterplanning/.venv/lib/python3.10/site-packages (from requests->torch-geometric==2.4.0) (2.2.3)\n",
      "Requirement already satisfied: idna<4,>=2.5 in /home/vasilstar/masterplanning/.venv/lib/python3.10/site-packages (from requests->torch-geometric==2.4.0) (3.9)\n",
      "Requirement already satisfied: charset-normalizer<4,>=2 in /home/vasilstar/masterplanning/.venv/lib/python3.10/site-packages (from requests->torch-geometric==2.4.0) (3.3.2)\n",
      "Requirement already satisfied: threadpoolctl>=2.0.0 in /home/vasilstar/masterplanning/.venv/lib/python3.10/site-packages (from scikit-learn->torch-geometric==2.4.0) (3.5.0)\n",
      "Requirement already satisfied: joblib>=1.1.1 in /home/vasilstar/masterplanning/.venv/lib/python3.10/site-packages (from scikit-learn->torch-geometric==2.4.0) (1.4.2)\n"
     ]
    }
   ],
   "source": [
    "! pip install 'torch-geometric==2.4.0'"
   ]
  },
  {
   "cell_type": "markdown",
   "metadata": {},
   "source": [
    "## Data"
   ]
  },
  {
   "cell_type": "code",
   "execution_count": 11,
   "metadata": {},
   "outputs": [],
   "source": [
    "from blocksnet import ServiceType\n",
    "from blocksnet.utils.service_types import SERVICE_TYPES\n",
    "\n",
    "service_types = {st['name'] : ServiceType(**st) for st in SERVICE_TYPES}"
   ]
  },
  {
   "cell_type": "code",
   "execution_count": 12,
   "metadata": {},
   "outputs": [],
   "source": [
    "import pandas as pd\n",
    "import geopandas as gpd\n",
    "import numpy as np\n",
    "import torch\n",
    "from tqdm import tqdm\n",
    "from torch_geometric.data import Data\n",
    "\n",
    "BATCH_SIZE = 1\n",
    "MAX_ACCESSIBILITY = 60\n",
    "\n",
    "COLUMNS = ['capacity', 'demand']\n",
    "TARGET_COLUMN = 'provision'\n",
    "\n",
    "def create_data(service_type, acc_mx, gdf):\n",
    "    # Сброс индексов\n",
    "    gdf = gdf.reset_index(drop=True)\n",
    "    \n",
    "    # Копия матрицы доступности\n",
    "    acc_mx = acc_mx.copy()\n",
    "    acc_mx.index = gdf.index\n",
    "    acc_mx.columns = gdf.index\n",
    "    \n",
    "    # Нормализация данных (векторизация)\n",
    "    gdf[COLUMNS] = gdf[COLUMNS] / gdf[COLUMNS].max().max()\n",
    "\n",
    "    # Признаки узлов (X) и целевая переменная (y)\n",
    "    x = gdf[COLUMNS].values  # numpy array\n",
    "    y = gdf[TARGET_COLUMN].values  # numpy array\n",
    "\n",
    "    # Формирование списка рёбер\n",
    "    acc_df = acc_mx.stack().reset_index()\n",
    "    acc_df.columns = ['i', 'j', 'time_min']\n",
    "    acc_df = acc_df[acc_df['time_min'] <= MAX_ACCESSIBILITY]\n",
    "    acc_df['weight'] = acc_df['time_min'] / service_type.accessibility\n",
    "\n",
    "    edge_index = acc_df[['i', 'j']].to_numpy().T  # Делаем транспонированный массив (2, N)\n",
    "    edge_attr = acc_df['weight'].to_numpy()  # Веса рёбер\n",
    "\n",
    "    # Создание объекта Data\n",
    "    return Data(\n",
    "        x=torch.tensor(x, dtype=torch.float32),\n",
    "        edge_index=torch.tensor(edge_index, dtype=torch.long),\n",
    "        edge_attr=torch.tensor(edge_attr, dtype=torch.float32),\n",
    "        y=torch.tensor(y, dtype=torch.float32),\n",
    "    )\n",
    "\n",
    "acc_mx = pd.read_pickle('acc_mx.pickle')\n",
    "gdf = pd.read_parquet('provision.parquet')\n",
    "service_type = service_types['school']\n",
    "\n",
    "data = create_data(service_type, acc_mx, gdf)\n",
    "\n",
    "# datas = []\n",
    "\n",
    "# for folder in tqdm([0,1,2,3]):\n",
    "#     for service_type_name in ['school']:\n",
    "#         service_type = service_types[service_type_name]\n",
    "#         acc_mx = pd.read_pickle(f'./data/gnn/{folder}/adj_mx.pickle')\n",
    "#         try:\n",
    "#             gdf = gpd.read_parquet(f'./data/gnn/{folder}/{service_type.name}.parquet')\n",
    "#             datas.append(create_data(service_type, acc_mx, gdf))\n",
    "#         except:\n",
    "#             continue"
   ]
  },
  {
   "cell_type": "code",
   "execution_count": 13,
   "metadata": {},
   "outputs": [
    {
     "name": "stdout",
     "output_type": "stream",
     "text": [
      "Data(x=[14880, 2], edge_index=[2, 47200], edge_attr=[47200], y=[14880], n_id=[14880], e_id=[47200], num_sampled_nodes=[3], num_sampled_edges=[2], input_id=[512], batch_size=512)\n"
     ]
    }
   ],
   "source": [
    "from torch_geometric.loader import NeighborLoader\n",
    "\n",
    "# Настройки сэмплинга соседей\n",
    "train_loader = NeighborLoader(\n",
    "    data,  # Передаём один большой граф\n",
    "    num_neighbors=[10, 10],  # Количество соседей на каждом слое (2-hop GAT)\n",
    "    batch_size=512,  # Количество узлов в батче\n",
    "    shuffle=True,\n",
    "    num_workers=4  # Ускоряем загрузку\n",
    ")\n",
    "\n",
    "# Отображаем структуру батча\n",
    "batch = next(iter(train_loader))\n",
    "print(batch)  # Это уже подграф!"
   ]
  },
  {
   "cell_type": "code",
   "execution_count": 14,
   "metadata": {},
   "outputs": [],
   "source": [
    "torch.save(train_loader, 'train_loader.pth')"
   ]
  }
 ],
 "metadata": {
  "kernelspec": {
   "display_name": ".venv",
   "language": "python",
   "name": "python3"
  },
  "language_info": {
   "codemirror_mode": {
    "name": "ipython",
    "version": 3
   },
   "file_extension": ".py",
   "mimetype": "text/x-python",
   "name": "python",
   "nbconvert_exporter": "python",
   "pygments_lexer": "ipython3",
   "version": "3.10.12"
  }
 },
 "nbformat": 4,
 "nbformat_minor": 2
}
