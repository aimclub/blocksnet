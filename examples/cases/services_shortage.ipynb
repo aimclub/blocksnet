{
 "cells": [
  {
   "cell_type": "markdown",
   "metadata": {},
   "source": [
    "# Services shortage\n",
    "\n",
    "This example provides a pipeline to assess territory's shortage in **services**. \n",
    "\n",
    "P.S: It is considered that the `blocks` are already aggregated with services and the population."
   ]
  },
  {
   "cell_type": "code",
   "execution_count": 1,
   "metadata": {},
   "outputs": [],
   "source": [
    "import geopandas as gpd\n",
    "\n",
    "blocks = gpd.read_parquet('blocks.parquet')"
   ]
  },
  {
   "cell_type": "code",
   "execution_count": 2,
   "metadata": {},
   "outputs": [],
   "source": [
    "import pandas as pd\n",
    "\n",
    "acc_mx = pd.read_pickle('./../data/accessibility_matrix.pickle')"
   ]
  },
  {
   "cell_type": "code",
   "execution_count": 3,
   "metadata": {},
   "outputs": [],
   "source": [
    "block_id = 1536"
   ]
  },
  {
   "cell_type": "code",
   "execution_count": 4,
   "metadata": {},
   "outputs": [],
   "source": [
    "orientations = {\n",
    "    'Традиционные ценности': {\n",
    "        'Крепкая семья': [],\n",
    "        'Дети': ['kindergarten', 'playground', 'school'],\n",
    "        'Патриотизм': ['museum'],\n",
    "        'Историческая память и преемственность поколений': ['school', 'university', 'cemetery'],\n",
    "    },\n",
    "    'Ценности свободы': {\n",
    "        'Внешняя мобильность': ['aeroway_terminal', 'train_station', 'train_building', 'bus_station'],\n",
    "        'Локальная мобильность': ['subway_entrance', 'bus_stop', 'bus_station', 'fuel'],\n",
    "        'Досуг': ['swimming_pool', 'stadium', 'zoo', 'cafe', 'cinema'],\n",
    "        'Туризм': ['guest_house', 'hotel', 'hostel', 'museum', 'park'],\n",
    "    },\n",
    "    'Духовные ценности': {\n",
    "        'Духовность (религия)': ['religion'],\n",
    "        'Образование и наука': ['school', 'university'],\n",
    "        'Культура': ['library', 'theatre', 'museum'],\n",
    "        'Творчество': [],\n",
    "        'Забота о питомцах': ['dog_park', 'veterinary'],\n",
    "    },\n",
    "    'Материальные ценности': {\n",
    "        'Безопасность': ['police', 'lawyer'],\n",
    "        'Здоровье': ['pharmacy', 'polyclinic', 'hospital', 'pitch'],\n",
    "        'Потребление (гедонизм)': ['convenience', 'supermarket', 'market', 'bakery', 'cafe', 'mall', 'bar', 'houseware', 'post', 'multifunctional_center'],\n",
    "        'Карьера и материальный достаток': ['recruitment', 'university', 'bank'],\n",
    "        'Экология': [],\n",
    "    }\n",
    "}"
   ]
  },
  {
   "cell_type": "code",
   "execution_count": 5,
   "metadata": {},
   "outputs": [
    {
     "data": {
      "text/plain": [
       "44"
      ]
     },
     "execution_count": 5,
     "metadata": {},
     "output_type": "execute_result"
    }
   ],
   "source": [
    "from blocksnet.config import service_types_config\n",
    "\n",
    "service_types = set([st for _,values in orientations.items() for _,service_types in values.items() for st in service_types])\n",
    "assert all([st in service_types_config for st in service_types]), 'wrong naming i guess'\n",
    "len(service_types)"
   ]
  },
  {
   "cell_type": "markdown",
   "metadata": {},
   "source": [
    "## Actual code\n",
    "\n",
    "Two cases will be considered:\n",
    "\n",
    "- Assess the shortage for the selected territory as is.\n",
    "\n",
    "- The selected territory is redeveloped from the ground up."
   ]
  },
  {
   "cell_type": "code",
   "execution_count": 6,
   "metadata": {},
   "outputs": [],
   "source": [
    "from blocksnet.config import log_config\n",
    "\n",
    "log_config.set_disable_tqdm(True)\n",
    "log_config.set_logger_level('ERROR')"
   ]
  },
  {
   "cell_type": "code",
   "execution_count": 7,
   "metadata": {},
   "outputs": [],
   "source": [
    "import pandas as pd\n",
    "import geopandas as gpd\n",
    "from blocksnet.analysis.provision import competitive_provision\n",
    "from blocksnet.relations.accessibility import get_accessibility_context\n",
    "\n",
    "def assess_provision(blocks : gpd.GeoDataFrame, project_blocks : list[int], acc_mx : pd.DataFrame, service_type : str, ground_up : bool = False):\n",
    "    _, demand, accessibility = service_types_config[service_type].values()\n",
    "    provision_blocks = blocks[['population', f'capacity_{service_type}']].rename(columns={f'capacity_{service_type}': 'capacity'}).copy()\n",
    "    if ground_up:\n",
    "        provision_blocks.loc[project_blocks] = 0\n",
    "\n",
    "    provision, _ = competitive_provision(provision_blocks, acc_mx, demand, accessibility)  \n",
    "    \n",
    "    context_mx = get_accessibility_context(acc_mx, provision_blocks.loc[project_blocks], accessibility, out=False, keep=True)\n",
    "    context_provision_df = provision.loc[context_mx.index]\n",
    "    # shortage = context_provision_df['demand_left'].sum()\n",
    "\n",
    "    return context_provision_df"
   ]
  },
  {
   "cell_type": "markdown",
   "metadata": {},
   "source": [
    "Ground up"
   ]
  },
  {
   "cell_type": "code",
   "execution_count": 8,
   "metadata": {},
   "outputs": [
    {
     "name": "stderr",
     "output_type": "stream",
     "text": [
      " 18%|█▊        | 8/44 [01:53<09:10, 15.30s/it]/home/vasilstar/masterplanning/blocksnet/analysis/provision/competivive/core.py:75: RuntimeWarning: overflow encountered in scalar power\n",
      "  return demand_blocks.loc[id1, DEMAND_LEFT_COLUMN] / (distance**2)\n",
      " 20%|██        | 9/44 [04:26<34:06, 58.47s/it]/home/vasilstar/masterplanning/blocksnet/analysis/provision/competivive/core.py:75: RuntimeWarning: overflow encountered in scalar power\n",
      "  return demand_blocks.loc[id1, DEMAND_LEFT_COLUMN] / (distance**2)\n",
      " 39%|███▊      | 17/44 [07:07<06:05, 13.54s/it]/home/vasilstar/masterplanning/blocksnet/analysis/provision/competivive/core.py:75: RuntimeWarning: overflow encountered in scalar power\n",
      "  return demand_blocks.loc[id1, DEMAND_LEFT_COLUMN] / (distance**2)\n",
      " 70%|███████   | 31/44 [10:31<01:51,  8.61s/it]/home/vasilstar/masterplanning/blocksnet/analysis/provision/competivive/core.py:75: RuntimeWarning: overflow encountered in scalar power\n",
      "  return demand_blocks.loc[id1, DEMAND_LEFT_COLUMN] / (distance**2)\n",
      "100%|██████████| 44/44 [19:50<00:00, 27.06s/it] \n"
     ]
    }
   ],
   "source": [
    "from tqdm import tqdm\n",
    "\n",
    "provisions = {}\n",
    "\n",
    "for service_type in tqdm(service_types):\n",
    "    column = f'capacity_{service_type}'\n",
    "    if column in blocks.columns:\n",
    "        shortage = assess_provision(blocks, [block_id], acc_mx, service_type, True)\n",
    "        provisions[service_type] = shortage"
   ]
  },
  {
   "cell_type": "code",
   "execution_count": 21,
   "metadata": {},
   "outputs": [],
   "source": [
    "from blocksnet.analysis.provision import provision_strong_total\n",
    "\n",
    "def assess_shortage(provision_df : pd.DataFrame):\n",
    "    return provision_df['demand_left'].sum()\n",
    "\n",
    "stats = {}\n",
    "\n",
    "for st,prov in provisions.items():\n",
    "    demand_left = prov['demand_left'].sum()\n",
    "    provision_strong = provision_strong_total(prov)\n",
    "    stats[st] = {'shortage': demand_left, 'total': provision_strong}"
   ]
  },
  {
   "cell_type": "code",
   "execution_count": 25,
   "metadata": {},
   "outputs": [
    {
     "data": {
      "text/html": [
       "<div>\n",
       "<style scoped>\n",
       "    .dataframe tbody tr th:only-of-type {\n",
       "        vertical-align: middle;\n",
       "    }\n",
       "\n",
       "    .dataframe tbody tr th {\n",
       "        vertical-align: top;\n",
       "    }\n",
       "\n",
       "    .dataframe thead th {\n",
       "        text-align: right;\n",
       "    }\n",
       "</style>\n",
       "<table border=\"1\" class=\"dataframe\">\n",
       "  <thead>\n",
       "    <tr style=\"text-align: right;\">\n",
       "      <th></th>\n",
       "      <th>shortage</th>\n",
       "      <th>total</th>\n",
       "    </tr>\n",
       "  </thead>\n",
       "  <tbody>\n",
       "    <tr>\n",
       "      <th>bus_station</th>\n",
       "      <td>270638</td>\n",
       "      <td>0.001292</td>\n",
       "    </tr>\n",
       "    <tr>\n",
       "      <th>zoo</th>\n",
       "      <td>269651</td>\n",
       "      <td>0.004934</td>\n",
       "    </tr>\n",
       "    <tr>\n",
       "      <th>museum</th>\n",
       "      <td>262237</td>\n",
       "      <td>0.032293</td>\n",
       "    </tr>\n",
       "    <tr>\n",
       "      <th>train_building</th>\n",
       "      <td>261347</td>\n",
       "      <td>0.035577</td>\n",
       "    </tr>\n",
       "    <tr>\n",
       "      <th>hostel</th>\n",
       "      <td>260337</td>\n",
       "      <td>0.039304</td>\n",
       "    </tr>\n",
       "  </tbody>\n",
       "</table>\n",
       "</div>"
      ],
      "text/plain": [
       "                shortage     total\n",
       "bus_station       270638  0.001292\n",
       "zoo               269651  0.004934\n",
       "museum            262237  0.032293\n",
       "train_building    261347  0.035577\n",
       "hostel            260337  0.039304"
      ]
     },
     "execution_count": 25,
     "metadata": {},
     "output_type": "execute_result"
    }
   ],
   "source": [
    "stats_df = pd.DataFrame.from_dict(stats, orient='index')\n",
    "stats_df.sort_values('shortage', ascending=False).head()"
   ]
  },
  {
   "cell_type": "code",
   "execution_count": 62,
   "metadata": {},
   "outputs": [],
   "source": [
    "values_totals = {}\n",
    "\n",
    "for _,values in orientations.items():\n",
    "    for value,sts in values.items():\n",
    "        sts = [st for st in sts if st in stats_df.index]\n",
    "        total = stats_df.loc[sts]['total'].mean()\n",
    "        values_totals[value] = round(total,2)\n",
    "\n",
    "values_totals_df = pd.DataFrame.from_dict(values_totals, orient='index', columns=['total'])"
   ]
  },
  {
   "cell_type": "code",
   "execution_count": 61,
   "metadata": {},
   "outputs": [
    {
     "data": {
      "text/plain": [
       "<Axes: >"
      ]
     },
     "execution_count": 61,
     "metadata": {},
     "output_type": "execute_result"
    },
    {
     "data": {
      "image/png": "[encoded data removed]",
      "text/plain": [
       "<Figure size 640x480 with 1 Axes>"
      ]
     },
     "metadata": {},
     "output_type": "display_data"
    }
   ],
   "source": [
    "values_totals_df.plot.barh(y='total')"
   ]
  }
 ],
 "metadata": {
  "kernelspec": {
   "display_name": ".venv",
   "language": "python",
   "name": "python3"
  },
  "language_info": {
   "codemirror_mode": {
    "name": "ipython",
    "version": 3
   },
   "file_extension": ".py",
   "mimetype": "text/x-python",
   "name": "python",
   "nbconvert_exporter": "python",
   "pygments_lexer": "ipython3",
   "version": "3.10.12"
  }
 },
 "nbformat": 4,
 "nbformat_minor": 2
}
