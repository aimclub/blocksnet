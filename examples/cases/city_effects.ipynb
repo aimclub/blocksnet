{
 "cells": [
  {
   "cell_type": "markdown",
   "metadata": {},
   "source": [
    "# City effects"
   ]
  },
  {
   "cell_type": "markdown",
   "metadata": {},
   "source": [
    "## Input data"
   ]
  },
  {
   "cell_type": "code",
   "execution_count": 107,
   "metadata": {},
   "outputs": [
    {
     "name": "stderr",
     "output_type": "stream",
     "text": [
      "\u001b[32m2025-04-06 18:33:23.292\u001b[0m | \u001b[1mINFO    \u001b[0m | \u001b[36mblocksnet.relations.adjacency.core\u001b[0m:\u001b[36m_generate_adjacency_nodes\u001b[0m:\u001b[36m10\u001b[0m - \u001b[1mGenerating nodes\u001b[0m\n",
      "\u001b[32m2025-04-06 18:33:23.298\u001b[0m | \u001b[1mINFO    \u001b[0m | \u001b[36mblocksnet.relations.adjacency.core\u001b[0m:\u001b[36m_generate_adjacency_edges\u001b[0m:\u001b[36m15\u001b[0m - \u001b[1mGenerating edges\u001b[0m\n",
      "\u001b[32m2025-04-06 18:33:24.642\u001b[0m | \u001b[32m\u001b[1mSUCCESS \u001b[0m | \u001b[36mblocksnet.relations.adjacency.core\u001b[0m:\u001b[36mgenerate_adjacency_graph\u001b[0m:\u001b[36m34\u001b[0m - \u001b[32m\u001b[1mAdjacency graph successfully generated: 16320 nodes, 16036 edges\u001b[0m\n"
     ]
    },
    {
     "data": {
      "text/html": [
       "<div>\n",
       "<style scoped>\n",
       "    .dataframe tbody tr th:only-of-type {\n",
       "        vertical-align: middle;\n",
       "    }\n",
       "\n",
       "    .dataframe tbody tr th {\n",
       "        vertical-align: top;\n",
       "    }\n",
       "\n",
       "    .dataframe thead th {\n",
       "        text-align: right;\n",
       "    }\n",
       "</style>\n",
       "<table border=\"1\" class=\"dataframe\">\n",
       "  <thead>\n",
       "    <tr style=\"text-align: right;\">\n",
       "      <th></th>\n",
       "      <th>geometry</th>\n",
       "      <th>site_area</th>\n",
       "      <th>fsi</th>\n",
       "      <th>gsi</th>\n",
       "      <th>mxi</th>\n",
       "      <th>land_use</th>\n",
       "    </tr>\n",
       "    <tr>\n",
       "      <th>id</th>\n",
       "      <th></th>\n",
       "      <th></th>\n",
       "      <th></th>\n",
       "      <th></th>\n",
       "      <th></th>\n",
       "      <th></th>\n",
       "    </tr>\n",
       "  </thead>\n",
       "  <tbody>\n",
       "    <tr>\n",
       "      <th>0</th>\n",
       "      <td>POLYGON ((354918.622 6625258.829, 354901.464 6...</td>\n",
       "      <td>8.044667e+05</td>\n",
       "      <td>0.054497</td>\n",
       "      <td>0.017345</td>\n",
       "      <td>0.700000</td>\n",
       "      <td>None</td>\n",
       "    </tr>\n",
       "    <tr>\n",
       "      <th>1</th>\n",
       "      <td>POLYGON ((355412.142 6623378.149, 355411.7 662...</td>\n",
       "      <td>2.317313e+04</td>\n",
       "      <td>0.444238</td>\n",
       "      <td>0.217986</td>\n",
       "      <td>0.211541</td>\n",
       "      <td>transport</td>\n",
       "    </tr>\n",
       "    <tr>\n",
       "      <th>2</th>\n",
       "      <td>POLYGON ((353934.329 6625429.433, 353923.453 6...</td>\n",
       "      <td>3.630058e+05</td>\n",
       "      <td>0.003234</td>\n",
       "      <td>0.003205</td>\n",
       "      <td>0.700000</td>\n",
       "      <td>recreation</td>\n",
       "    </tr>\n",
       "    <tr>\n",
       "      <th>3</th>\n",
       "      <td>POLYGON ((355099.099 6623847.765, 355074.808 6...</td>\n",
       "      <td>1.964145e+05</td>\n",
       "      <td>0.235746</td>\n",
       "      <td>0.056437</td>\n",
       "      <td>0.660753</td>\n",
       "      <td>residential</td>\n",
       "    </tr>\n",
       "    <tr>\n",
       "      <th>4</th>\n",
       "      <td>POLYGON ((352766.168 6621954.748, 352744.412 6...</td>\n",
       "      <td>1.781752e+06</td>\n",
       "      <td>0.086291</td>\n",
       "      <td>0.025381</td>\n",
       "      <td>0.692085</td>\n",
       "      <td>recreation</td>\n",
       "    </tr>\n",
       "  </tbody>\n",
       "</table>\n",
       "</div>"
      ],
      "text/plain": [
       "                                             geometry     site_area       fsi  \\\n",
       "id                                                                              \n",
       "0   POLYGON ((354918.622 6625258.829, 354901.464 6...  8.044667e+05  0.054497   \n",
       "1   POLYGON ((355412.142 6623378.149, 355411.7 662...  2.317313e+04  0.444238   \n",
       "2   POLYGON ((353934.329 6625429.433, 353923.453 6...  3.630058e+05  0.003234   \n",
       "3   POLYGON ((355099.099 6623847.765, 355074.808 6...  1.964145e+05  0.235746   \n",
       "4   POLYGON ((352766.168 6621954.748, 352744.412 6...  1.781752e+06  0.086291   \n",
       "\n",
       "         gsi       mxi     land_use  \n",
       "id                                   \n",
       "0   0.017345  0.700000         None  \n",
       "1   0.217986  0.211541    transport  \n",
       "2   0.003205  0.700000   recreation  \n",
       "3   0.056437  0.660753  residential  \n",
       "4   0.025381  0.692085   recreation  "
      ]
     },
     "execution_count": 107,
     "metadata": {},
     "output_type": "execute_result"
    }
   ],
   "source": [
    "import geopandas as gpd\n",
    "from blocksnet.relations import generate_adjacency_graph\n",
    "\n",
    "blocks_gdf = gpd.read_parquet('./../data/blocks.parquet')[['geometry', 'site_area', 'fsi', 'gsi', 'mxi', 'land_use']]\n",
    "adjacency_graph = generate_adjacency_graph(blocks_gdf, 10)\n",
    "blocks_gdf.head()"
   ]
  },
  {
   "cell_type": "markdown",
   "metadata": {},
   "source": [
    "## Utils"
   ]
  },
  {
   "cell_type": "code",
   "execution_count": 108,
   "metadata": {},
   "outputs": [],
   "source": [
    "from blocksnet.analysis.indicators import calculate_development_indicators\n",
    "\n",
    "LIVING_DEMAND = 30\n",
    "\n",
    "def calculate_indicators(gdf):\n",
    "    indicators_df = calculate_development_indicators(gdf)\n",
    "    indicators_dict = indicators_df.sum().drop(labels=['fsi', 'gsi', 'mxi']).to_dict()\n",
    "    indicators_dict['population'] = indicators_dict['living_area'] // LIVING_DEMAND\n",
    "    return indicators_dict"
   ]
  },
  {
   "cell_type": "code",
   "execution_count": 109,
   "metadata": {},
   "outputs": [],
   "source": [
    "import matplotlib.pyplot as plt\n",
    "import numpy as np\n",
    "from enum import Enum\n",
    "\n",
    "def plot_dicts(dict_a : dict, dict_b : dict):\n",
    "    # Extract labels and values\n",
    "    labels = [key.value if isinstance(key, Enum) else key for key in dict_a.keys()]\n",
    "    values_a =  list(dict_a.values())\n",
    "    values_b =  list(dict_b.values())\n",
    "\n",
    "    x = np.arange(len(labels))  # позиции по оси X\n",
    "    width = 0.35  # ширина столбца\n",
    "\n",
    "    plt.figure(figsize=(10, 6))\n",
    "    plt.bar(x - width/2, values_a, width, label='before', color='skyblue')\n",
    "    plt.bar(x + width/2, values_b, width, label='after', color='salmon')\n",
    "\n",
    "    plt.xlabel('Key')\n",
    "    plt.ylabel('Value')\n",
    "    plt.title('Comparison')\n",
    "    plt.xticks(x, labels, rotation=45)\n",
    "    plt.legend()\n",
    "    plt.grid(axis='y', linestyle='--', alpha=0.7)\n",
    "    plt.tight_layout()\n",
    "    plt.show()"
   ]
  },
  {
   "cell_type": "markdown",
   "metadata": {},
   "source": [
    "Indicators as is"
   ]
  },
  {
   "cell_type": "code",
   "execution_count": 110,
   "metadata": {},
   "outputs": [
    {
     "data": {
      "text/plain": [
       "{'site_area': 1360561455.3268828,\n",
       " 'build_floor_area': 394869149.000342,\n",
       " 'footprint_area': 103010203.30530432,\n",
       " 'living_area': 169176178.3799815,\n",
       " 'non_living_area': 225692970.62036052,\n",
       " 'population': 5639205.0}"
      ]
     },
     "execution_count": 110,
     "metadata": {},
     "output_type": "execute_result"
    }
   ],
   "source": [
    "indicators_before = calculate_indicators(blocks_gdf)\n",
    "indicators_before"
   ]
  },
  {
   "cell_type": "markdown",
   "metadata": {},
   "source": [
    "Indicators if we clean the area"
   ]
  },
  {
   "cell_type": "code",
   "execution_count": 111,
   "metadata": {},
   "outputs": [],
   "source": [
    "from blocksnet.enums import LandUse\n",
    "\n",
    "scenario_gdf = blocks_gdf.copy()\n",
    "blocks_ids = blocks_gdf.sample(100).index\n",
    "scenario_gdf.loc[blocks_ids, 'land_use'] = LandUse.RESIDENTIAL\n",
    "scenario_gdf.loc[blocks_ids, ['fsi', 'gsi', 'mxi']] = 0"
   ]
  },
  {
   "cell_type": "code",
   "execution_count": 112,
   "metadata": {},
   "outputs": [
    {
     "data": {
      "text/plain": [
       "{'site_area': 1360561455.3268828,\n",
       " 'build_floor_area': 390688613.62180173,\n",
       " 'footprint_area': 102116510.07621402,\n",
       " 'living_area': 167284838.07234856,\n",
       " 'non_living_area': 223403775.54945317,\n",
       " 'population': 5576161.0}"
      ]
     },
     "execution_count": 112,
     "metadata": {},
     "output_type": "execute_result"
    }
   ],
   "source": [
    "indicators_clean = calculate_indicators(scenario_gdf)\n",
    "indicators_clean"
   ]
  },
  {
   "cell_type": "markdown",
   "metadata": {},
   "source": [
    "Shares comparison"
   ]
  },
  {
   "cell_type": "code",
   "execution_count": 113,
   "metadata": {},
   "outputs": [
    {
     "data": {
      "image/png": "[encoded data removed]",
      "text/plain": [
       "<Figure size 1000x600 with 1 Axes>"
      ]
     },
     "metadata": {},
     "output_type": "display_data"
    }
   ],
   "source": [
    "from blocksnet.analysis.land_use import land_use_shares\n",
    "\n",
    "shares_before = land_use_shares(blocks_gdf)\n",
    "shares_after = land_use_shares(scenario_gdf)\n",
    "plot_dicts(shares_before, shares_after)"
   ]
  },
  {
   "cell_type": "markdown",
   "metadata": {},
   "source": [
    "Calculate new indicators"
   ]
  },
  {
   "cell_type": "code",
   "execution_count": 114,
   "metadata": {},
   "outputs": [],
   "source": [
    "from blocksnet.machine_learning.regression import DensityRegressor\n",
    "\n",
    "regressor = DensityRegressor()"
   ]
  },
  {
   "cell_type": "markdown",
   "metadata": {},
   "source": [
    "Guess the parameters"
   ]
  },
  {
   "cell_type": "code",
   "execution_count": 115,
   "metadata": {},
   "outputs": [
    {
     "name": "stderr",
     "output_type": "stream",
     "text": [
      "\u001b[32m2025-04-06 18:33:24.962\u001b[0m | \u001b[33m\u001b[1mWARNING \u001b[0m | \u001b[36mblocksnet.machine_learning.regression.density.schemas\u001b[0m:\u001b[36m_before_validate\u001b[0m:\u001b[36m37\u001b[0m - \u001b[33m\u001b[1mNot valid format. Trying to one hot from land_use column\u001b[0m\n",
      "\u001b[32m2025-04-06 18:33:27.743\u001b[0m | \u001b[1mINFO    \u001b[0m | \u001b[36mblocksnet.preprocessing.feature_engineering.core\u001b[0m:\u001b[36m_calculate_usual_features\u001b[0m:\u001b[36m34\u001b[0m - \u001b[1mCalculating usual features\u001b[0m\n"
     ]
    },
    {
     "data": {
      "text/html": [
       "<div>\n",
       "<style scoped>\n",
       "    .dataframe tbody tr th:only-of-type {\n",
       "        vertical-align: middle;\n",
       "    }\n",
       "\n",
       "    .dataframe tbody tr th {\n",
       "        vertical-align: top;\n",
       "    }\n",
       "\n",
       "    .dataframe thead th {\n",
       "        text-align: right;\n",
       "    }\n",
       "</style>\n",
       "<table border=\"1\" class=\"dataframe\">\n",
       "  <thead>\n",
       "    <tr style=\"text-align: right;\">\n",
       "      <th></th>\n",
       "      <th>fsi</th>\n",
       "      <th>gsi</th>\n",
       "      <th>mxi</th>\n",
       "    </tr>\n",
       "    <tr>\n",
       "      <th>id</th>\n",
       "      <th></th>\n",
       "      <th></th>\n",
       "      <th></th>\n",
       "    </tr>\n",
       "  </thead>\n",
       "  <tbody>\n",
       "    <tr>\n",
       "      <th>0</th>\n",
       "      <td>0.124350</td>\n",
       "      <td>0.093895</td>\n",
       "      <td>0.150498</td>\n",
       "    </tr>\n",
       "    <tr>\n",
       "      <th>1</th>\n",
       "      <td>0.023492</td>\n",
       "      <td>0.023492</td>\n",
       "      <td>0.046416</td>\n",
       "    </tr>\n",
       "    <tr>\n",
       "      <th>2</th>\n",
       "      <td>0.130569</td>\n",
       "      <td>0.096453</td>\n",
       "      <td>0.153888</td>\n",
       "    </tr>\n",
       "    <tr>\n",
       "      <th>3</th>\n",
       "      <td>0.293733</td>\n",
       "      <td>0.174963</td>\n",
       "      <td>0.250265</td>\n",
       "    </tr>\n",
       "    <tr>\n",
       "      <th>4</th>\n",
       "      <td>0.081888</td>\n",
       "      <td>0.077431</td>\n",
       "      <td>0.128176</td>\n",
       "    </tr>\n",
       "  </tbody>\n",
       "</table>\n",
       "</div>"
      ],
      "text/plain": [
       "         fsi       gsi       mxi\n",
       "id                              \n",
       "0   0.124350  0.093895  0.150498\n",
       "1   0.023492  0.023492  0.046416\n",
       "2   0.130569  0.096453  0.153888\n",
       "3   0.293733  0.174963  0.250265\n",
       "4   0.081888  0.077431  0.128176"
      ]
     },
     "execution_count": 115,
     "metadata": {},
     "output_type": "execute_result"
    }
   ],
   "source": [
    "evaluate_df = regressor.evaluate(scenario_gdf, adjacency_graph)\n",
    "evaluate_df.head()"
   ]
  },
  {
   "cell_type": "code",
   "execution_count": 119,
   "metadata": {},
   "outputs": [],
   "source": [
    "scenario_gdf.loc[blocks_ids, ['fsi', 'gsi', 'mxi']] = evaluate_df\n",
    "indicators_after = calculate_indicators(scenario_gdf)"
   ]
  },
  {
   "cell_type": "markdown",
   "metadata": {},
   "source": [
    "Compare indicators"
   ]
  },
  {
   "cell_type": "code",
   "execution_count": 120,
   "metadata": {},
   "outputs": [
    {
     "data": {
      "text/plain": [
       "{'site_area': 1360561455.3268828,\n",
       " 'build_floor_area': 394869149.000342,\n",
       " 'footprint_area': 103010203.30530432,\n",
       " 'living_area': 169176178.3799815,\n",
       " 'non_living_area': 225692970.62036052,\n",
       " 'population': 5639205.0}"
      ]
     },
     "execution_count": 120,
     "metadata": {},
     "output_type": "execute_result"
    }
   ],
   "source": [
    "indicators_before"
   ]
  },
  {
   "cell_type": "code",
   "execution_count": 121,
   "metadata": {},
   "outputs": [
    {
     "data": {
      "text/plain": [
       "{'site_area': 1360561455.3268828,\n",
       " 'build_floor_area': 392305264.71414924,\n",
       " 'footprint_area': 103139616.31624463,\n",
       " 'living_area': 167605614.88891926,\n",
       " 'non_living_area': 224699649.82523,\n",
       " 'population': 5586853.0}"
      ]
     },
     "execution_count": 121,
     "metadata": {},
     "output_type": "execute_result"
    }
   ],
   "source": [
    "indicators_after"
   ]
  }
 ],
 "metadata": {
  "kernelspec": {
   "display_name": ".venv",
   "language": "python",
   "name": "python3"
  },
  "language_info": {
   "codemirror_mode": {
    "name": "ipython",
    "version": 3
   },
   "file_extension": ".py",
   "mimetype": "text/x-python",
   "name": "python",
   "nbconvert_exporter": "python",
   "pygments_lexer": "ipython3",
   "version": "3.10.12"
  }
 },
 "nbformat": 4,
 "nbformat_minor": 2
}
