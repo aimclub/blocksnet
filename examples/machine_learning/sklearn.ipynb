{
 "cells": [
  {
   "cell_type": "code",
   "execution_count": null,
   "id": "e1059cb7",
   "metadata": {},
   "outputs": [],
   "source": [
    "from sklearn.ensemble import RandomForestClassifier, HistGradientBoostingClassifier\n",
    "from xgboost import XGBClassifier\n",
    "from lightgbm import LGBMClassifier\n",
    "from blocksnet.machine_learning.strategy.sklearn.ensemble.voting.classification_strategy import (\n",
    "    SKLearnVotingClassificationStrategy\n",
    ")\n",
    "\n",
    "BASE_PARAMS = {\"random_state\": 42, \"n_jobs\": -1}\n",
    "MODEL_PARAMS = {\n",
    "    \"rf\": {\"n_estimators\": 200, \"max_depth\": 7, \"class_weight\": \"balanced\", **BASE_PARAMS},\n",
    "    \"xgb\": {\"n_estimators\": 200, \"max_depth\": 7, \"learning_rate\": 0.05,\n",
    "            \"scale_pos_weight\": 1, **BASE_PARAMS},\n",
    "    \"lgb\": {\"n_estimators\": 200, \"max_depth\": 7, \"learning_rate\": 0.05,\n",
    "            \"class_weight\": \"balanced\", **BASE_PARAMS},\n",
    "    \"cb\": {\"iterations\": 200, \"depth\": 7, \"learning_rate\": 0.05,\n",
    "           \"thread_count\": -1, \"auto_class_weights\": \"Balanced\", \"random_seed\": 42},\n",
    "    \"hgb\": {\"max_iter\": 200, \"max_depth\": 7, \"learning_rate\": 0.05, \"random_state\": 42},\n",
    "}\n",
    "estimators = [\n",
    "    (\"rf\",  RandomForestClassifier(**MODEL_PARAMS[\"rf\"])),\n",
    "    (\"xgb\", XGBClassifier(**MODEL_PARAMS[\"xgb\"])),\n",
    "    (\"lgb\", LGBMClassifier(**MODEL_PARAMS[\"lgb\"])),\n",
    "    (\"hgb\", HistGradientBoostingClassifier(**MODEL_PARAMS[\"hgb\"])),\n",
    "]\n",
    "voting_params = {\"voting\": \"soft\", \"n_jobs\": -1}\n",
    "strategy = SKLearnVotingClassificationStrategy(estimators, voting_params)\n"
   ]
  },
  {
   "cell_type": "code",
   "execution_count": 7,
   "id": "e56d6a65",
   "metadata": {},
   "outputs": [],
   "source": [
    "import pandas as pd\n",
    "import numpy as np\n",
    "from sklearn.model_selection import train_test_split\n",
    "\n",
    "# Имитация исходных данных\n",
    "df = pd.DataFrame({\n",
    "    \"floor\": [1, 2, 3, 4, 5, 6, 7, 8],\n",
    "    \"area\": [40.5, 50.0, 60.2, 55.1, 70.0, 45.0, 66.6, 52.3],\n",
    "    \"rooms\": [1, 2, 2, 3, 3, 1, 2, 2],\n",
    "    \"is_living\": [1, 1, 1, 0, 0, 1, 0, 0]\n",
    "})\n",
    "\n",
    "# Разделение признаков и целевой переменной\n",
    "X = df.drop(columns=[\"is_living\"])\n",
    "y = df[\"is_living\"]\n",
    "\n",
    "# Разделение на обучающую и тестовую выборки\n",
    "x_train_df, x_test_df, y_train_series, y_test_series = train_test_split(X, y, test_size=0.25, random_state=42)\n",
    "\n",
    "# Преобразование в numpy\n",
    "x_train = x_train_df.to_numpy()\n",
    "x_test = x_test_df.to_numpy()\n",
    "y_train = y_train_series.to_numpy()\n",
    "y_test = y_test_series.to_numpy()\n"
   ]
  },
  {
   "cell_type": "code",
   "execution_count": 8,
   "id": "8c97fd5f",
   "metadata": {},
   "outputs": [
    {
     "name": "stderr",
     "output_type": "stream",
     "text": [
      "e:\\Github\\blocksnet\\.venv\\lib\\site-packages\\sklearn\\utils\\validation.py:2749: UserWarning: X does not have valid feature names, but LGBMClassifier was fitted with feature names\n",
      "  warnings.warn(\n"
     ]
    }
   ],
   "source": [
    "score = strategy.train(x_train, y_train, x_test, y_test)"
   ]
  },
  {
   "cell_type": "code",
   "execution_count": 9,
   "id": "167a1ef3",
   "metadata": {},
   "outputs": [],
   "source": [
    "strategy.save(\"artifacts/voting_model\")"
   ]
  },
  {
   "cell_type": "code",
   "execution_count": 10,
   "id": "b4790932",
   "metadata": {},
   "outputs": [],
   "source": [
    "loaded = SKLearnVotingClassificationStrategy([], None)  # заглушки; параметры подтянутся из meta\n",
    "loaded.load(\"artifacts/voting_model\")"
   ]
  },
  {
   "cell_type": "code",
   "execution_count": 12,
   "id": "f089e927",
   "metadata": {},
   "outputs": [
    {
     "name": "stdout",
     "output_type": "stream",
     "text": [
      "predicted: [0 0]\n",
      "probabilities: [[0.56583332 0.43416667]\n",
      " [0.60083332 0.39916667]]\n"
     ]
    },
    {
     "name": "stderr",
     "output_type": "stream",
     "text": [
      "e:\\Github\\blocksnet\\.venv\\lib\\site-packages\\sklearn\\utils\\validation.py:2749: UserWarning: X does not have valid feature names, but LGBMClassifier was fitted with feature names\n",
      "  warnings.warn(\n",
      "e:\\Github\\blocksnet\\.venv\\lib\\site-packages\\sklearn\\utils\\validation.py:2749: UserWarning: X does not have valid feature names, but LGBMClassifier was fitted with feature names\n",
      "  warnings.warn(\n"
     ]
    }
   ],
   "source": [
    "y_pred  = loaded.predict(x_test)\n",
    "y_proba = loaded.predict_proba(x_test)\n",
    "\n",
    "print(f'predicted: {y_pred}')\n",
    "print(f'probabilities: {y_proba}')"
   ]
  }
 ],
 "metadata": {
  "kernelspec": {
   "display_name": ".venv",
   "language": "python",
   "name": "python3"
  },
  "language_info": {
   "codemirror_mode": {
    "name": "ipython",
    "version": 3
   },
   "file_extension": ".py",
   "mimetype": "text/x-python",
   "name": "python",
   "nbconvert_exporter": "python",
   "pygments_lexer": "ipython3",
   "version": "3.10.11"
  }
 },
 "nbformat": 4,
 "nbformat_minor": 5
}
