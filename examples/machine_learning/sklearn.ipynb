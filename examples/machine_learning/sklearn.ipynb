{
 "cells": [
  {
   "cell_type": "code",
   "execution_count": 32,
   "id": "e1059cb7",
   "metadata": {},
   "outputs": [],
   "source": [
    "from xgboost import XGBClassifier\n",
    "from catboost import CatBoostClassifier\n",
    "\n",
    "RANDOM_STATE = 42\n",
    "N_JOBS = -1\n",
    "\n",
    "models_params = {\n",
    "    'xgb': {\n",
    "    \"n_estimators\": 200,\n",
    "    \"max_depth\": 7,\n",
    "    \"learning_rate\": 0.05,\n",
    "    \"scale_pos_weight\": 1,  # Аналог class_weight для XGBoost\n",
    "    'n_jobs': N_JOBS,\n",
    "    'random_state': RANDOM_STATE\n",
    "},\n",
    "    'cb': {\n",
    "    \"iterations\": 200,  # CatBoost использует iterations вместо n_estimators\n",
    "    # \"depth\": 7,\n",
    "    # \"learning_rate\": 0.05,\n",
    "    # \"thread_count\": N_JOBS, # Аналог n_jobs для CatBoost\n",
    "    # \"auto_class_weights\": \"Balanced\",\n",
    "    # \"random_seed\": RANDOM_STATE,\n",
    "    }\n",
    "}\n",
    "\n",
    "xgb = XGBClassifier(model_params=models_params['xgb'])\n",
    "cb = CatBoostClassifier(**models_params['cb'])"
   ]
  },
  {
   "cell_type": "code",
   "execution_count": 33,
   "id": "8031a3b0",
   "metadata": {},
   "outputs": [],
   "source": [
    "models = [\n",
    "        ('xgb', xgb),\n",
    "        ('cb', cb),\n",
    "    ]\n",
    "\n",
    "model_params ={\n",
    "    'voting':'soft',\n",
    "    'n_jobs':-1\n",
    "}"
   ]
  },
  {
   "cell_type": "code",
   "execution_count": 34,
   "id": "e56d6a65",
   "metadata": {},
   "outputs": [],
   "source": [
    "import pandas as pd\n",
    "import numpy as np\n",
    "from sklearn.model_selection import train_test_split\n",
    "\n",
    "# Имитация исходных данных\n",
    "df = pd.DataFrame({\n",
    "    \"floor\": [1, 2, 3, 4, 5, 6, 7, 8],\n",
    "    \"area\": [40.5, 50.0, 60.2, 55.1, 70.0, 45.0, 66.6, 52.3],\n",
    "    \"rooms\": [1, 2, 2, 3, 3, 1, 2, 2],\n",
    "    \"is_living\": [1, 1, 1, 0, 0, 1, 0, 0]\n",
    "})\n",
    "\n",
    "# Разделение признаков и целевой переменной\n",
    "X = df.drop(columns=[\"is_living\"])\n",
    "y = df[\"is_living\"]\n",
    "\n",
    "# Разделение на обучающую и тестовую выборки\n",
    "x_train_df, x_test_df, y_train_series, y_test_series = train_test_split(X, y, test_size=0.25, random_state=42)\n",
    "\n",
    "# Преобразование в numpy\n",
    "x_train = x_train_df.to_numpy()\n",
    "x_test = x_test_df.to_numpy()\n",
    "y_train = y_train_series.to_numpy()\n",
    "y_test = y_test_series.to_numpy()\n"
   ]
  },
  {
   "cell_type": "code",
   "execution_count": 35,
   "id": "8c97fd5f",
   "metadata": {},
   "outputs": [],
   "source": [
    "from blocksnet.machine_learning.strategy.sklearn.ensemble.voting.classification_strategy import SKLearnVotingClassificationStrategy\n",
    "model = SKLearnVotingClassificationStrategy(models, model_params)"
   ]
  },
  {
   "cell_type": "code",
   "execution_count": 36,
   "id": "167a1ef3",
   "metadata": {},
   "outputs": [
    {
     "data": {
      "text/plain": [
       "0.5"
      ]
     },
     "execution_count": 36,
     "metadata": {},
     "output_type": "execute_result"
    }
   ],
   "source": [
    "# Приведение типов перед обучением\n",
    "x_train = np.asarray(x_train)\n",
    "x_test = np.asarray(x_test)\n",
    "y_train = np.asarray(y_train).ravel().astype(int)\n",
    "y_test = np.asarray(y_test).ravel().astype(int)\n",
    "\n",
    "model.train(x_train, y_train, x_test, y_test)\n"
   ]
  },
  {
   "cell_type": "code",
   "execution_count": 42,
   "id": "b4790932",
   "metadata": {},
   "outputs": [
    {
     "data": {
      "text/plain": [
       "array([[0.49348735, 0.50651263],\n",
       "       [0.63125722, 0.36874276]])"
      ]
     },
     "execution_count": 42,
     "metadata": {},
     "output_type": "execute_result"
    }
   ],
   "source": [
    "model.predict_proba(x_test)"
   ]
  },
  {
   "cell_type": "code",
   "execution_count": 43,
   "id": "f089e927",
   "metadata": {},
   "outputs": [
    {
     "data": {
      "text/plain": [
       "array([1, 0])"
      ]
     },
     "execution_count": 43,
     "metadata": {},
     "output_type": "execute_result"
    }
   ],
   "source": [
    "model.predict(x_test)"
   ]
  }
 ],
 "metadata": {
  "kernelspec": {
   "display_name": ".venv",
   "language": "python",
   "name": "python3"
  },
  "language_info": {
   "codemirror_mode": {
    "name": "ipython",
    "version": 3
   },
   "file_extension": ".py",
   "mimetype": "text/x-python",
   "name": "python",
   "nbconvert_exporter": "python",
   "pygments_lexer": "ipython3",
   "version": "3.10.11"
  }
 },
 "nbformat": 4,
 "nbformat_minor": 5
}
