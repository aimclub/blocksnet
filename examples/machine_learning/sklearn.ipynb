{
 "cells": [
  {
   "cell_type": "code",
   "execution_count": 1,
   "id": "e1059cb7",
   "metadata": {},
   "outputs": [],
   "source": [
    "from blocksnet.machine_learning.strategy.xgboost import XGBoostClassificationStrategy\n",
    "from blocksnet.machine_learning.strategy.catboost import CatBoostClassificationStrategy\n",
    "\n",
    "RANDOM_STATE = 42\n",
    "N_JOBS = -1\n",
    "\n",
    "xgb = XGBoostClassificationStrategy(model_params={\n",
    "    \"n_estimators\": 200,\n",
    "    \"max_depth\": 7,\n",
    "    \"learning_rate\": 0.05,\n",
    "    \"scale_pos_weight\": 1,  # Аналог class_weight для XGBoost\n",
    "    'n_jobs': N_JOBS,\n",
    "    'random_state': RANDOM_STATE\n",
    "})\n",
    "\n",
    "cb = CatBoostClassificationStrategy(model_params={\n",
    "    \"iterations\": 200,  # CatBoost использует iterations вместо n_estimators\n",
    "    \"depth\": 7,\n",
    "    \"learning_rate\": 0.05,\n",
    "    \"thread_count\": N_JOBS, # Аналог n_jobs для CatBoost\n",
    "    \"auto_class_weights\": \"Balanced\",\n",
    "    \"random_seed\": RANDOM_STATE,\n",
    "})"
   ]
  },
  {
   "cell_type": "code",
   "execution_count": 3,
   "id": "8c97fd5f",
   "metadata": {},
   "outputs": [
    {
     "ename": "TypeError",
     "evalue": "Can't instantiate abstract class SKLearnClassificationStrategy with abstract methods predict, predict_proba, train",
     "output_type": "error",
     "traceback": [
      "\u001b[0;31m---------------------------------------------------------------------------\u001b[0m",
      "\u001b[0;31mTypeError\u001b[0m                                 Traceback (most recent call last)",
      "Cell \u001b[0;32mIn[3], line 3\u001b[0m\n\u001b[1;32m      1\u001b[0m \u001b[38;5;28;01mfrom\u001b[39;00m \u001b[38;5;21;01mblocksnet\u001b[39;00m\u001b[38;5;21;01m.\u001b[39;00m\u001b[38;5;21;01mmachine_learning\u001b[39;00m\u001b[38;5;21;01m.\u001b[39;00m\u001b[38;5;21;01mstrategy\u001b[39;00m\u001b[38;5;21;01m.\u001b[39;00m\u001b[38;5;21;01msklearn\u001b[39;00m\u001b[38;5;21;01m.\u001b[39;00m\u001b[38;5;21;01mensemble\u001b[39;00m\u001b[38;5;21;01m.\u001b[39;00m\u001b[38;5;21;01mvoting\u001b[39;00m\u001b[38;5;21;01m.\u001b[39;00m\u001b[38;5;21;01mclassification_strategy\u001b[39;00m \u001b[38;5;28;01mimport\u001b[39;00m SKLearnClassificationStrategy\n\u001b[0;32m----> 3\u001b[0m \u001b[43mSKLearnClassificationStrategy\u001b[49m\u001b[43m(\u001b[49m\u001b[43mstrategies\u001b[49m\u001b[38;5;241;43m=\u001b[39;49m\u001b[43m[\u001b[49m\u001b[43mxgb\u001b[49m\u001b[43m,\u001b[49m\u001b[43m \u001b[49m\u001b[43mcb\u001b[49m\u001b[43m]\u001b[49m\u001b[43m)\u001b[49m\n",
      "\u001b[0;31mTypeError\u001b[0m: Can't instantiate abstract class SKLearnClassificationStrategy with abstract methods predict, predict_proba, train"
     ]
    }
   ],
   "source": [
    "from blocksnet.machine_learning.strategy.sklearn.ensemble.voting.classification_strategy import SKLearnClassificationStrategy\n",
    "\n",
    "SKLearnClassificationStrategy(strategies=[xgb, cb])"
   ]
  }
 ],
 "metadata": {
  "kernelspec": {
   "display_name": ".venv",
   "language": "python",
   "name": "python3"
  },
  "language_info": {
   "codemirror_mode": {
    "name": "ipython",
    "version": 3
   },
   "file_extension": ".py",
   "mimetype": "text/x-python",
   "name": "python",
   "nbconvert_exporter": "python",
   "pygments_lexer": "ipython3",
   "version": "3.10.12"
  }
 },
 "nbformat": 4,
 "nbformat_minor": 5
}
