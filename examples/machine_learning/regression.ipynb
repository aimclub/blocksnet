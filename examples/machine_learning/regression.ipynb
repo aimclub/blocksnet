{
 "cells": [
  {
   "cell_type": "markdown",
   "metadata": {},
   "source": [
    "# Regression"
   ]
  },
  {
   "cell_type": "code",
   "execution_count": 1,
   "metadata": {},
   "outputs": [],
   "source": [
    "import geopandas as gpd\n",
    "\n",
    "blocks_gdf = gpd.read_parquet('./../data/blocks.parquet')"
   ]
  },
  {
   "cell_type": "code",
   "execution_count": 2,
   "metadata": {},
   "outputs": [
    {
     "name": "stderr",
     "output_type": "stream",
     "text": [
      "\u001b[32m2025-04-02 15:58:34.864\u001b[0m | \u001b[1mINFO    \u001b[0m | \u001b[36mblocksnet.relations.adjacency.core\u001b[0m:\u001b[36m_generate_adjacency_nodes\u001b[0m:\u001b[36m10\u001b[0m - \u001b[1mGenerating nodes\u001b[0m\n",
      "\u001b[32m2025-04-02 15:58:34.873\u001b[0m | \u001b[1mINFO    \u001b[0m | \u001b[36mblocksnet.relations.adjacency.core\u001b[0m:\u001b[36m_generate_adjacency_edges\u001b[0m:\u001b[36m15\u001b[0m - \u001b[1mGenerating edges\u001b[0m\n",
      "\u001b[32m2025-04-02 15:58:36.612\u001b[0m | \u001b[32m\u001b[1mSUCCESS \u001b[0m | \u001b[36mblocksnet.relations.adjacency.core\u001b[0m:\u001b[36mgenerate_adjacency_graph\u001b[0m:\u001b[36m34\u001b[0m - \u001b[32m\u001b[1mAdjacency graph successfully generated: 16320 nodes, 16036 edges\u001b[0m\n"
     ]
    }
   ],
   "source": [
    "from blocksnet.relations import generate_adjacency_graph\n",
    "\n",
    "adjacency_graph = generate_adjacency_graph(blocks_gdf, 10)"
   ]
  },
  {
   "cell_type": "markdown",
   "metadata": {},
   "source": [
    "## Density"
   ]
  },
  {
   "cell_type": "code",
   "execution_count": 3,
   "metadata": {},
   "outputs": [],
   "source": [
    "from blocksnet.machine_learning.regression import DensityRegressor\n",
    "\n",
    "dr = DensityRegressor()"
   ]
  },
  {
   "cell_type": "markdown",
   "metadata": {},
   "source": [
    "### Train"
   ]
  },
  {
   "cell_type": "code",
   "execution_count": 4,
   "metadata": {},
   "outputs": [
    {
     "name": "stderr",
     "output_type": "stream",
     "text": [
      "\u001b[32m2025-04-02 15:58:39.946\u001b[0m | \u001b[33m\u001b[1mWARNING \u001b[0m | \u001b[36mblocksnet.machine_learning.regression.density.schemas\u001b[0m:\u001b[36m_before_validate\u001b[0m:\u001b[36m37\u001b[0m - \u001b[33m\u001b[1mNot valid format. Trying to one hot from land_use column\u001b[0m\n",
      "\u001b[32m2025-04-02 15:58:43.172\u001b[0m | \u001b[1mINFO    \u001b[0m | \u001b[36mblocksnet.preprocessing.feature_engineering.core\u001b[0m:\u001b[36m_calculate_usual_features\u001b[0m:\u001b[36m34\u001b[0m - \u001b[1mCalculating usual features\u001b[0m\n",
      "\u001b[32m2025-04-02 15:58:43.457\u001b[0m | \u001b[1mINFO    \u001b[0m | \u001b[36mblocksnet.machine_learning.regression.density.core\u001b[0m:\u001b[36m_features_from_geometries\u001b[0m:\u001b[36m32\u001b[0m - \u001b[1mFitting the scaler\u001b[0m\n"
     ]
    }
   ],
   "source": [
    "data = dr.get_train_data(blocks_gdf, adjacency_graph)"
   ]
  },
  {
   "cell_type": "code",
   "execution_count": 6,
   "metadata": {},
   "outputs": [
    {
     "name": "stderr",
     "output_type": "stream",
     "text": [
      "Current loss : 0.069: 100%|██████████| 1000/1000 [00:11<00:00, 89.14it/s]\n"
     ]
    }
   ],
   "source": [
    "losses = dr.train(data, epochs=1000)"
   ]
  },
  {
   "cell_type": "markdown",
   "metadata": {},
   "source": [
    "### Evaluate"
   ]
  },
  {
   "cell_type": "code",
   "execution_count": 8,
   "metadata": {},
   "outputs": [
    {
     "name": "stderr",
     "output_type": "stream",
     "text": [
      "\u001b[32m2025-04-02 16:15:54.960\u001b[0m | \u001b[33m\u001b[1mWARNING \u001b[0m | \u001b[36mblocksnet.machine_learning.regression.density.schemas\u001b[0m:\u001b[36m_before_validate\u001b[0m:\u001b[36m37\u001b[0m - \u001b[33m\u001b[1mNot valid format. Trying to one hot from land_use column\u001b[0m\n"
     ]
    },
    {
     "name": "stderr",
     "output_type": "stream",
     "text": [
      "\u001b[32m2025-04-02 16:15:57.825\u001b[0m | \u001b[1mINFO    \u001b[0m | \u001b[36mblocksnet.preprocessing.feature_engineering.core\u001b[0m:\u001b[36m_calculate_usual_features\u001b[0m:\u001b[36m34\u001b[0m - \u001b[1mCalculating usual features\u001b[0m\n"
     ]
    }
   ],
   "source": [
    "result_df = dr.evaluate(blocks_gdf, adjacency_graph)"
   ]
  },
  {
   "cell_type": "code",
   "execution_count": 9,
   "metadata": {},
   "outputs": [
    {
     "data": {
      "text/html": [
       "<div>\n",
       "<style scoped>\n",
       "    .dataframe tbody tr th:only-of-type {\n",
       "        vertical-align: middle;\n",
       "    }\n",
       "\n",
       "    .dataframe tbody tr th {\n",
       "        vertical-align: top;\n",
       "    }\n",
       "\n",
       "    .dataframe thead th {\n",
       "        text-align: right;\n",
       "    }\n",
       "</style>\n",
       "<table border=\"1\" class=\"dataframe\">\n",
       "  <thead>\n",
       "    <tr style=\"text-align: right;\">\n",
       "      <th></th>\n",
       "      <th>fsi</th>\n",
       "      <th>gsi</th>\n",
       "      <th>mxi</th>\n",
       "    </tr>\n",
       "    <tr>\n",
       "      <th>id</th>\n",
       "      <th></th>\n",
       "      <th></th>\n",
       "      <th></th>\n",
       "    </tr>\n",
       "  </thead>\n",
       "  <tbody>\n",
       "    <tr>\n",
       "      <th>0</th>\n",
       "      <td>0.098759</td>\n",
       "      <td>0.098759</td>\n",
       "      <td>0.272484</td>\n",
       "    </tr>\n",
       "    <tr>\n",
       "      <th>1</th>\n",
       "      <td>0.064455</td>\n",
       "      <td>0.064455</td>\n",
       "      <td>0.057871</td>\n",
       "    </tr>\n",
       "    <tr>\n",
       "      <th>2</th>\n",
       "      <td>0.158729</td>\n",
       "      <td>0.158729</td>\n",
       "      <td>0.216693</td>\n",
       "    </tr>\n",
       "    <tr>\n",
       "      <th>3</th>\n",
       "      <td>0.702841</td>\n",
       "      <td>0.256270</td>\n",
       "      <td>0.445032</td>\n",
       "    </tr>\n",
       "    <tr>\n",
       "      <th>4</th>\n",
       "      <td>0.062017</td>\n",
       "      <td>0.062017</td>\n",
       "      <td>0.240412</td>\n",
       "    </tr>\n",
       "    <tr>\n",
       "      <th>...</th>\n",
       "      <td>...</td>\n",
       "      <td>...</td>\n",
       "      <td>...</td>\n",
       "    </tr>\n",
       "    <tr>\n",
       "      <th>16315</th>\n",
       "      <td>0.004619</td>\n",
       "      <td>0.004619</td>\n",
       "      <td>0.076425</td>\n",
       "    </tr>\n",
       "    <tr>\n",
       "      <th>16316</th>\n",
       "      <td>0.003388</td>\n",
       "      <td>0.003388</td>\n",
       "      <td>0.019757</td>\n",
       "    </tr>\n",
       "    <tr>\n",
       "      <th>16317</th>\n",
       "      <td>0.017398</td>\n",
       "      <td>0.017398</td>\n",
       "      <td>0.080334</td>\n",
       "    </tr>\n",
       "    <tr>\n",
       "      <th>16318</th>\n",
       "      <td>0.005815</td>\n",
       "      <td>0.005815</td>\n",
       "      <td>0.019665</td>\n",
       "    </tr>\n",
       "    <tr>\n",
       "      <th>16319</th>\n",
       "      <td>0.144646</td>\n",
       "      <td>0.144646</td>\n",
       "      <td>0.300640</td>\n",
       "    </tr>\n",
       "  </tbody>\n",
       "</table>\n",
       "<p>16320 rows × 3 columns</p>\n",
       "</div>"
      ],
      "text/plain": [
       "            fsi       gsi       mxi\n",
       "id                                 \n",
       "0      0.098759  0.098759  0.272484\n",
       "1      0.064455  0.064455  0.057871\n",
       "2      0.158729  0.158729  0.216693\n",
       "3      0.702841  0.256270  0.445032\n",
       "4      0.062017  0.062017  0.240412\n",
       "...         ...       ...       ...\n",
       "16315  0.004619  0.004619  0.076425\n",
       "16316  0.003388  0.003388  0.019757\n",
       "16317  0.017398  0.017398  0.080334\n",
       "16318  0.005815  0.005815  0.019665\n",
       "16319  0.144646  0.144646  0.300640\n",
       "\n",
       "[16320 rows x 3 columns]"
      ]
     },
     "execution_count": 9,
     "metadata": {},
     "output_type": "execute_result"
    }
   ],
   "source": [
    "result_df"
   ]
  },
  {
   "cell_type": "markdown",
   "metadata": {},
   "source": [
    "## Save model and scaler"
   ]
  },
  {
   "cell_type": "code",
   "execution_count": 12,
   "metadata": {},
   "outputs": [],
   "source": [
    "dr.save_model('model.dict')"
   ]
  }
 ],
 "metadata": {
  "kernelspec": {
   "display_name": ".venv",
   "language": "python",
   "name": "python3"
  },
  "language_info": {
   "codemirror_mode": {
    "name": "ipython",
    "version": 3
   },
   "file_extension": ".py",
   "mimetype": "text/x-python",
   "name": "python",
   "nbconvert_exporter": "python",
   "pygments_lexer": "ipython3",
   "version": "3.10.12"
  }
 },
 "nbformat": 4,
 "nbformat_minor": 2
}
