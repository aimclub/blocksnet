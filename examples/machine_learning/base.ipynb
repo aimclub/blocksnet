{
 "cells": [
  {
   "cell_type": "code",
   "execution_count": 1,
   "id": "2de3a5bb",
   "metadata": {},
   "outputs": [],
   "source": [
    "import torch\n",
    "import torch.nn as nn\n",
    "import torch.nn.functional as F\n",
    "\n",
    "class FeedForwardClassifier(nn.Module):\n",
    "    def __init__(self, input_size: int, output_size: int, hidden_sizes: list[int] = [64, 64], dropout: float = 0.1):\n",
    "        super().__init__()\n",
    "        layers = []\n",
    "        in_features = input_size\n",
    "\n",
    "        for hidden in hidden_sizes:\n",
    "            layers.append(nn.Linear(in_features, hidden))\n",
    "            layers.append(nn.ReLU())\n",
    "            layers.append(nn.Dropout(dropout))\n",
    "            in_features = hidden\n",
    "\n",
    "        layers.append(nn.Linear(in_features, output_size))  # logits\n",
    "        self.net = nn.Sequential(*layers)\n",
    "\n",
    "    def forward(self, x: torch.Tensor) -> torch.Tensor:\n",
    "        return self.net(x)  # логиты — для CrossEntropyLoss"
   ]
  },
  {
   "cell_type": "code",
   "execution_count": 2,
   "id": "8aceba58",
   "metadata": {},
   "outputs": [],
   "source": [
    "from blocksnet.machine_learning.strategy.torch.tensor.supervised.classification.multiclass_strategy import TorchTensorMulticlassClassificationStrategy\n",
    "from sklearn.preprocessing import StandardScaler\n",
    "\n",
    "strategy = TorchTensorMulticlassClassificationStrategy(FeedForwardClassifier, scalers={'x': StandardScaler()})"
   ]
  },
  {
   "cell_type": "code",
   "execution_count": 3,
   "id": "6f0d09a0",
   "metadata": {},
   "outputs": [],
   "source": [
    "import pandas as pd\n",
    "\n",
    "blocks = pd.read_pickle('blocks.pickle')\n",
    "blocks = blocks[~blocks.land_use.isna()].copy()"
   ]
  },
  {
   "cell_type": "code",
   "execution_count": 4,
   "id": "d69e2b1f",
   "metadata": {},
   "outputs": [],
   "source": [
    "from blocksnet.enums import LandUse\n",
    "\n",
    "blocks['label'] = blocks['land_use'].apply(lambda lu : list(LandUse).index(lu))"
   ]
  },
  {
   "cell_type": "code",
   "execution_count": 5,
   "id": "cfa3f5cc",
   "metadata": {},
   "outputs": [],
   "source": [
    "from sklearn.model_selection import train_test_split\n",
    "\n",
    "x_train, x_test, y_train, y_test = train_test_split(blocks[['site_area']].values, blocks[['label']].values)"
   ]
  },
  {
   "cell_type": "code",
   "execution_count": 6,
   "id": "f83c66d7",
   "metadata": {},
   "outputs": [
    {
     "name": "stderr",
     "output_type": "stream",
     "text": [
      "Train loss: 1.27816 | Test loss: 1.27394: 100%|██████████| 10/10 [00:03<00:00,  2.50it/s]\n"
     ]
    },
    {
     "data": {
      "text/plain": [
       "([1.3497165902968375,\n",
       "  1.2920999238567967,\n",
       "  1.2865896895184494,\n",
       "  1.2847304327696698,\n",
       "  1.2829170537434416,\n",
       "  1.2820705191880328,\n",
       "  1.2816825739799007,\n",
       "  1.2822297786787358,\n",
       "  1.2789691398220677,\n",
       "  1.2781579760911828],\n",
       " [1.2839627265930176,\n",
       "  1.2791556119918823,\n",
       "  1.282345175743103,\n",
       "  1.2730352878570557,\n",
       "  1.2769335508346558,\n",
       "  1.2734344005584717,\n",
       "  1.2757028341293335,\n",
       "  1.2759768962860107,\n",
       "  1.2711817026138306,\n",
       "  1.2739437818527222])"
      ]
     },
     "execution_count": 6,
     "metadata": {},
     "output_type": "execute_result"
    }
   ],
   "source": [
    "strategy.train(x_train, x_test, y_train, y_test, 10)"
   ]
  },
  {
   "cell_type": "code",
   "execution_count": 7,
   "id": "fb88e1f3",
   "metadata": {},
   "outputs": [
    {
     "name": "stderr",
     "output_type": "stream",
     "text": [
      "\u001b[32m2025-07-11 06:25:14.421\u001b[0m | \u001b[33m\u001b[1mWARNING \u001b[0m | \u001b[36mblocksnet.machine_learning.strategy.torch.tensor.supervised.classification.multiclass_strategy\u001b[0m:\u001b[36mpredict\u001b[0m:\u001b[36m22\u001b[0m - \u001b[33m\u001b[1mOne should provide criterion_cls. Using CrossEntropyLoss by default.\u001b[0m\n"
     ]
    },
    {
     "data": {
      "text/plain": [
       "array([0, 0, 0, ..., 0, 0, 0], shape=(2313,))"
      ]
     },
     "execution_count": 7,
     "metadata": {},
     "output_type": "execute_result"
    }
   ],
   "source": [
    "strategy.predict(x_test)"
   ]
  },
  {
   "cell_type": "code",
   "execution_count": 8,
   "id": "1ba77239",
   "metadata": {},
   "outputs": [
    {
     "name": "stderr",
     "output_type": "stream",
     "text": [
      "\u001b[32m2025-07-11 06:25:14.433\u001b[0m | \u001b[33m\u001b[1mWARNING \u001b[0m | \u001b[36mblocksnet.machine_learning.strategy.torch.tensor.supervised.classification.multiclass_strategy\u001b[0m:\u001b[36mpredict_proba\u001b[0m:\u001b[36m28\u001b[0m - \u001b[33m\u001b[1mOne should provide criterion_cls. Using CrossEntropyLoss by default.\u001b[0m\n"
     ]
    },
    {
     "data": {
      "text/plain": [
       "array([[0.6121711 , 0.03393683, 0.1777652 , ..., 0.11729082, 0.01031452,\n",
       "        0.00617049],\n",
       "       [0.57938004, 0.03706232, 0.19173896, ..., 0.11400812, 0.01300374,\n",
       "        0.0090794 ],\n",
       "       [0.65725034, 0.02700835, 0.15168944, ..., 0.13420957, 0.00614444,\n",
       "        0.00260797],\n",
       "       ...,\n",
       "       [0.43769178, 0.0314565 , 0.25461876, ..., 0.09116086, 0.02583959,\n",
       "        0.0386055 ],\n",
       "       [0.64665407, 0.02973446, 0.15970649, ..., 0.12484921, 0.00742672,\n",
       "        0.00361911],\n",
       "       [0.41008446, 0.02322978, 0.28356695, ..., 0.08099861, 0.02569893,\n",
       "        0.04792282]], shape=(2313, 7), dtype=float32)"
      ]
     },
     "execution_count": 8,
     "metadata": {},
     "output_type": "execute_result"
    }
   ],
   "source": [
    "strategy.predict_proba(x_test)"
   ]
  }
 ],
 "metadata": {
  "kernelspec": {
   "display_name": ".venv",
   "language": "python",
   "name": "python3"
  },
  "language_info": {
   "codemirror_mode": {
    "name": "ipython",
    "version": 3
   },
   "file_extension": ".py",
   "mimetype": "text/x-python",
   "name": "python",
   "nbconvert_exporter": "python",
   "pygments_lexer": "ipython3",
   "version": "3.10.12"
  }
 },
 "nbformat": 4,
 "nbformat_minor": 5
}
