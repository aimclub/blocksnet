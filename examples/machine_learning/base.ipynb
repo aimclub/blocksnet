{
 "cells": [
  {
   "cell_type": "code",
   "execution_count": 1,
   "id": "8585f310",
   "metadata": {},
   "outputs": [],
   "source": [
    "import pandas as pd\n",
    "\n",
    "blocks = pd.read_pickle('blocks.pickle')"
   ]
  },
  {
   "cell_type": "code",
   "execution_count": 2,
   "id": "a2683a8b",
   "metadata": {},
   "outputs": [
    {
     "data": {
      "application/vnd.microsoft.datawrangler.viewer.v0+json": {
       "columns": [
        {
         "name": "index",
         "rawType": "int64",
         "type": "integer"
        },
        {
         "name": "living_area",
         "rawType": "float64",
         "type": "float"
        },
        {
         "name": "population",
         "rawType": "float64",
         "type": "float"
        }
       ],
       "ref": "0c1c29cb-6139-44d4-aa58-b82e98712710",
       "rows": [
        [
         "0",
         "0.0",
         "0.0"
        ],
        [
         "1",
         "0.0",
         "0.0"
        ],
        [
         "2",
         "4197.188632965088",
         "109.0"
        ],
        [
         "3",
         "3033.795606613159",
         "77.0"
        ],
        [
         "4",
         "20860.965881347656",
         "431.0"
        ]
       ],
       "shape": {
        "columns": 2,
        "rows": 5
       }
      },
      "text/html": [
       "<div>\n",
       "<style scoped>\n",
       "    .dataframe tbody tr th:only-of-type {\n",
       "        vertical-align: middle;\n",
       "    }\n",
       "\n",
       "    .dataframe tbody tr th {\n",
       "        vertical-align: top;\n",
       "    }\n",
       "\n",
       "    .dataframe thead th {\n",
       "        text-align: right;\n",
       "    }\n",
       "</style>\n",
       "<table border=\"1\" class=\"dataframe\">\n",
       "  <thead>\n",
       "    <tr style=\"text-align: right;\">\n",
       "      <th></th>\n",
       "      <th>living_area</th>\n",
       "      <th>population</th>\n",
       "    </tr>\n",
       "  </thead>\n",
       "  <tbody>\n",
       "    <tr>\n",
       "      <th>0</th>\n",
       "      <td>0.000000</td>\n",
       "      <td>0.0</td>\n",
       "    </tr>\n",
       "    <tr>\n",
       "      <th>1</th>\n",
       "      <td>0.000000</td>\n",
       "      <td>0.0</td>\n",
       "    </tr>\n",
       "    <tr>\n",
       "      <th>2</th>\n",
       "      <td>4197.188633</td>\n",
       "      <td>109.0</td>\n",
       "    </tr>\n",
       "    <tr>\n",
       "      <th>3</th>\n",
       "      <td>3033.795607</td>\n",
       "      <td>77.0</td>\n",
       "    </tr>\n",
       "    <tr>\n",
       "      <th>4</th>\n",
       "      <td>20860.965881</td>\n",
       "      <td>431.0</td>\n",
       "    </tr>\n",
       "  </tbody>\n",
       "</table>\n",
       "</div>"
      ],
      "text/plain": [
       "    living_area  population\n",
       "0      0.000000         0.0\n",
       "1      0.000000         0.0\n",
       "2   4197.188633       109.0\n",
       "3   3033.795607        77.0\n",
       "4  20860.965881       431.0"
      ]
     },
     "execution_count": 2,
     "metadata": {},
     "output_type": "execute_result"
    }
   ],
   "source": [
    "blocks = blocks[['living_area', 'population']]\n",
    "blocks.head()"
   ]
  },
  {
   "cell_type": "code",
   "execution_count": 3,
   "id": "9cfdf724",
   "metadata": {},
   "outputs": [],
   "source": [
    "from sklearn.model_selection import train_test_split\n",
    "\n",
    "train, test = train_test_split(blocks, test_size=0.2, random_state=42)"
   ]
  },
  {
   "cell_type": "code",
   "execution_count": null,
   "id": "43bff28c",
   "metadata": {},
   "outputs": [],
   "source": [
    "from blocksnet.machine_learning.strategy.xgboost.regression_strategy import XGBoostRegressionStrategy\n",
    "\n",
    "strategy = XGBoostRegressionStrategy()"
   ]
  },
  {
   "cell_type": "code",
   "execution_count": 5,
   "id": "0b88beb8",
   "metadata": {},
   "outputs": [
    {
     "data": {
      "text/plain": [
       "0.8339983697968631"
      ]
     },
     "execution_count": 5,
     "metadata": {},
     "output_type": "execute_result"
    }
   ],
   "source": [
    "strategy.train(train, test, ['population'])"
   ]
  },
  {
   "cell_type": "code",
   "execution_count": 10,
   "id": "76a359b0",
   "metadata": {},
   "outputs": [],
   "source": [
    "loss, df = strategy.validate(test, ['population'])"
   ]
  },
  {
   "cell_type": "code",
   "execution_count": 8,
   "id": "846fd63a",
   "metadata": {},
   "outputs": [
    {
     "data": {
      "application/vnd.microsoft.datawrangler.viewer.v0+json": {
       "columns": [
        {
         "name": "index",
         "rawType": "int64",
         "type": "integer"
        },
        {
         "name": "population",
         "rawType": "float32",
         "type": "float"
        }
       ],
       "ref": "6f65d048-0f9a-4973-bc50-edbf8d1e565f",
       "rows": [
        [
         "131",
         "81.611145"
        ],
        [
         "4607",
         "14.506462"
        ],
        [
         "2191",
         "60.20412"
        ],
        [
         "1783",
         "9.933261"
        ],
        [
         "2835",
         "443.28033"
        ],
        [
         "3495",
         "0.014629055"
        ],
        [
         "7709",
         "0.014629055"
        ],
        [
         "9357",
         "1.3749303"
        ],
        [
         "2533",
         "88.427605"
        ],
        [
         "5694",
         "0.014629055"
        ],
        [
         "7937",
         "0.014629055"
        ],
        [
         "318",
         "41.55549"
        ],
        [
         "7472",
         "587.6411"
        ],
        [
         "7611",
         "69.58638"
        ],
        [
         "8406",
         "0.014629055"
        ],
        [
         "3980",
         "1678.5239"
        ],
        [
         "3309",
         "0.014629055"
        ],
        [
         "8564",
         "0.014629055"
        ],
        [
         "1277",
         "0.014629055"
        ],
        [
         "2225",
         "18.88917"
        ],
        [
         "5235",
         "0.014629055"
        ],
        [
         "6788",
         "3.3942664"
        ],
        [
         "4087",
         "0.014629055"
        ],
        [
         "3165",
         "9.933261"
        ],
        [
         "1183",
         "0.014629055"
        ],
        [
         "2348",
         "15.516553"
        ],
        [
         "3909",
         "0.014629055"
        ],
        [
         "7397",
         "0.014629055"
        ],
        [
         "5214",
         "0.014629055"
        ],
        [
         "1740",
         "54.91377"
        ],
        [
         "6977",
         "244.8925"
        ],
        [
         "2239",
         "77.90346"
        ],
        [
         "8141",
         "37.504715"
        ],
        [
         "1561",
         "71.27791"
        ],
        [
         "2389",
         "61.87711"
        ],
        [
         "7727",
         "21.235926"
        ],
        [
         "8950",
         "16.092218"
        ],
        [
         "1626",
         "84.47309"
        ],
        [
         "970",
         "0.014629055"
        ],
        [
         "9227",
         "3.6626873"
        ],
        [
         "4922",
         "128.11162"
        ],
        [
         "2022",
         "0.014629055"
        ],
        [
         "1650",
         "115.115265"
        ],
        [
         "8882",
         "23.178661"
        ],
        [
         "1603",
         "41.711197"
        ],
        [
         "1297",
         "0.014629055"
        ],
        [
         "4115",
         "0.014629055"
        ],
        [
         "7527",
         "0.014629055"
        ],
        [
         "4936",
         "6891.1396"
        ],
        [
         "321",
         "853.10474"
        ]
       ],
       "shape": {
        "columns": 1,
        "rows": 1874
       }
      },
      "text/html": [
       "<div>\n",
       "<style scoped>\n",
       "    .dataframe tbody tr th:only-of-type {\n",
       "        vertical-align: middle;\n",
       "    }\n",
       "\n",
       "    .dataframe tbody tr th {\n",
       "        vertical-align: top;\n",
       "    }\n",
       "\n",
       "    .dataframe thead th {\n",
       "        text-align: right;\n",
       "    }\n",
       "</style>\n",
       "<table border=\"1\" class=\"dataframe\">\n",
       "  <thead>\n",
       "    <tr style=\"text-align: right;\">\n",
       "      <th></th>\n",
       "      <th>population</th>\n",
       "    </tr>\n",
       "  </thead>\n",
       "  <tbody>\n",
       "    <tr>\n",
       "      <th>131</th>\n",
       "      <td>81.611145</td>\n",
       "    </tr>\n",
       "    <tr>\n",
       "      <th>4607</th>\n",
       "      <td>14.506462</td>\n",
       "    </tr>\n",
       "    <tr>\n",
       "      <th>2191</th>\n",
       "      <td>60.204121</td>\n",
       "    </tr>\n",
       "    <tr>\n",
       "      <th>1783</th>\n",
       "      <td>9.933261</td>\n",
       "    </tr>\n",
       "    <tr>\n",
       "      <th>2835</th>\n",
       "      <td>443.280334</td>\n",
       "    </tr>\n",
       "    <tr>\n",
       "      <th>...</th>\n",
       "      <td>...</td>\n",
       "    </tr>\n",
       "    <tr>\n",
       "      <th>2142</th>\n",
       "      <td>0.014629</td>\n",
       "    </tr>\n",
       "    <tr>\n",
       "      <th>4881</th>\n",
       "      <td>0.014629</td>\n",
       "    </tr>\n",
       "    <tr>\n",
       "      <th>712</th>\n",
       "      <td>0.014629</td>\n",
       "    </tr>\n",
       "    <tr>\n",
       "      <th>8287</th>\n",
       "      <td>753.897156</td>\n",
       "    </tr>\n",
       "    <tr>\n",
       "      <th>510</th>\n",
       "      <td>24.509947</td>\n",
       "    </tr>\n",
       "  </tbody>\n",
       "</table>\n",
       "<p>1874 rows × 1 columns</p>\n",
       "</div>"
      ],
      "text/plain": [
       "      population\n",
       "131    81.611145\n",
       "4607   14.506462\n",
       "2191   60.204121\n",
       "1783    9.933261\n",
       "2835  443.280334\n",
       "...          ...\n",
       "2142    0.014629\n",
       "4881    0.014629\n",
       "712     0.014629\n",
       "8287  753.897156\n",
       "510    24.509947\n",
       "\n",
       "[1874 rows x 1 columns]"
      ]
     },
     "execution_count": 8,
     "metadata": {},
     "output_type": "execute_result"
    }
   ],
   "source": [
    "strategy.predict(test, ['population'])"
   ]
  }
 ],
 "metadata": {
  "kernelspec": {
   "display_name": ".venv",
   "language": "python",
   "name": "python3"
  },
  "language_info": {
   "codemirror_mode": {
    "name": "ipython",
    "version": 3
   },
   "file_extension": ".py",
   "mimetype": "text/x-python",
   "name": "python",
   "nbconvert_exporter": "python",
   "pygments_lexer": "ipython3",
   "version": "3.10.12"
  }
 },
 "nbformat": 4,
 "nbformat_minor": 5
}
