{
 "cells": [
  {
   "cell_type": "code",
   "execution_count": 1,
   "id": "8585f310",
   "metadata": {},
   "outputs": [],
   "source": [
    "import pandas as pd\n",
    "\n",
    "blocks = pd.read_pickle('blocks.pickle')"
   ]
  },
  {
   "cell_type": "code",
   "execution_count": 2,
   "id": "a2683a8b",
   "metadata": {},
   "outputs": [
    {
     "data": {
      "application/vnd.microsoft.datawrangler.viewer.v0+json": {
       "columns": [
        {
         "name": "index",
         "rawType": "int64",
         "type": "integer"
        },
        {
         "name": "site_area",
         "rawType": "float64",
         "type": "float"
        },
        {
         "name": "living_area",
         "rawType": "float64",
         "type": "float"
        },
        {
         "name": "population",
         "rawType": "float64",
         "type": "float"
        }
       ],
       "ref": "04ef2efa-fd4e-4c39-925a-b29946410389",
       "rows": [
        [
         "0",
         "0.03231637120885615",
         "0.0",
         "0.0"
        ],
        [
         "1",
         "137101.08824671313",
         "0.0",
         "0.0"
        ],
        [
         "2",
         "95239.08443438847",
         "4197.188632965088",
         "109.0"
        ],
        [
         "3",
         "125919.33098366519",
         "3033.795606613159",
         "77.0"
        ],
        [
         "4",
         "169860.16449357406",
         "20860.965881347656",
         "431.0"
        ]
       ],
       "shape": {
        "columns": 3,
        "rows": 5
       }
      },
      "text/html": [
       "<div>\n",
       "<style scoped>\n",
       "    .dataframe tbody tr th:only-of-type {\n",
       "        vertical-align: middle;\n",
       "    }\n",
       "\n",
       "    .dataframe tbody tr th {\n",
       "        vertical-align: top;\n",
       "    }\n",
       "\n",
       "    .dataframe thead th {\n",
       "        text-align: right;\n",
       "    }\n",
       "</style>\n",
       "<table border=\"1\" class=\"dataframe\">\n",
       "  <thead>\n",
       "    <tr style=\"text-align: right;\">\n",
       "      <th></th>\n",
       "      <th>site_area</th>\n",
       "      <th>living_area</th>\n",
       "      <th>population</th>\n",
       "    </tr>\n",
       "  </thead>\n",
       "  <tbody>\n",
       "    <tr>\n",
       "      <th>0</th>\n",
       "      <td>0.032316</td>\n",
       "      <td>0.000000</td>\n",
       "      <td>0.0</td>\n",
       "    </tr>\n",
       "    <tr>\n",
       "      <th>1</th>\n",
       "      <td>137101.088247</td>\n",
       "      <td>0.000000</td>\n",
       "      <td>0.0</td>\n",
       "    </tr>\n",
       "    <tr>\n",
       "      <th>2</th>\n",
       "      <td>95239.084434</td>\n",
       "      <td>4197.188633</td>\n",
       "      <td>109.0</td>\n",
       "    </tr>\n",
       "    <tr>\n",
       "      <th>3</th>\n",
       "      <td>125919.330984</td>\n",
       "      <td>3033.795607</td>\n",
       "      <td>77.0</td>\n",
       "    </tr>\n",
       "    <tr>\n",
       "      <th>4</th>\n",
       "      <td>169860.164494</td>\n",
       "      <td>20860.965881</td>\n",
       "      <td>431.0</td>\n",
       "    </tr>\n",
       "  </tbody>\n",
       "</table>\n",
       "</div>"
      ],
      "text/plain": [
       "       site_area   living_area  population\n",
       "0       0.032316      0.000000         0.0\n",
       "1  137101.088247      0.000000         0.0\n",
       "2   95239.084434   4197.188633       109.0\n",
       "3  125919.330984   3033.795607        77.0\n",
       "4  169860.164494  20860.965881       431.0"
      ]
     },
     "execution_count": 2,
     "metadata": {},
     "output_type": "execute_result"
    }
   ],
   "source": [
    "blocks = blocks[['site_area', 'living_area', 'population']]\n",
    "blocks.head()"
   ]
  },
  {
   "cell_type": "code",
   "execution_count": 3,
   "id": "485eaf5e",
   "metadata": {},
   "outputs": [],
   "source": [
    "import torch\n",
    "import torch.nn as nn\n",
    "\n",
    "class SimpleRegressionModel(nn.Module):\n",
    "    def __init__(self, input_size: int, output_size: int, hidden_size: int = 64):\n",
    "        super().__init__()\n",
    "        self.net = nn.Sequential(\n",
    "            nn.Linear(input_size, hidden_size),\n",
    "            nn.ReLU(),\n",
    "            nn.Linear(hidden_size, output_size)\n",
    "        )\n",
    "\n",
    "    def forward(self, x: torch.Tensor) -> torch.Tensor:\n",
    "        return self.net(x)"
   ]
  },
  {
   "cell_type": "code",
   "execution_count": 4,
   "id": "9cfdf724",
   "metadata": {},
   "outputs": [],
   "source": [
    "from sklearn.model_selection import train_test_split\n",
    "\n",
    "x_train, x_test, y_train, y_test = train_test_split(blocks[['site_area', 'living_area']], blocks[['population']], test_size=0.2, random_state=42)"
   ]
  },
  {
   "cell_type": "code",
   "execution_count": 5,
   "id": "43bff28c",
   "metadata": {},
   "outputs": [],
   "source": [
    "from blocksnet.machine_learning.strategy.torch.regression_strategy import TorchRegressionStrategy\n",
    "from sklearn.preprocessing import StandardScaler\n",
    "\n",
    "strategy = TorchRegressionStrategy(SimpleRegressionModel, scalers={'x': StandardScaler(), 'y': StandardScaler()})"
   ]
  },
  {
   "cell_type": "code",
   "execution_count": 6,
   "id": "0b88beb8",
   "metadata": {},
   "outputs": [
    {
     "name": "stderr",
     "output_type": "stream",
     "text": [
      "Train loss: 0.15186 | Test loss: 0.11901: 100%|██████████| 10/10 [00:01<00:00,  7.61it/s]\n"
     ]
    }
   ],
   "source": [
    "train_losses, test_losses = strategy.train(x_train.values, x_test.values, y_train.values, y_test.values, batch_size=128, epochs=10)"
   ]
  },
  {
   "cell_type": "code",
   "execution_count": 7,
   "id": "846fd63a",
   "metadata": {},
   "outputs": [
    {
     "data": {
      "text/plain": [
       "array([[ 85.6227  ],\n",
       "       [-79.815956],\n",
       "       [ 85.44286 ],\n",
       "       ...,\n",
       "       [ 36.730675],\n",
       "       [632.87476 ],\n",
       "       [ 50.701317]], shape=(1874, 1), dtype=float32)"
      ]
     },
     "execution_count": 7,
     "metadata": {},
     "output_type": "execute_result"
    }
   ],
   "source": [
    "strategy.predict(x_test.values)"
   ]
  },
  {
   "cell_type": "code",
   "execution_count": 8,
   "id": "f8a655c5",
   "metadata": {},
   "outputs": [],
   "source": [
    "strategy.save('./lololo')"
   ]
  },
  {
   "cell_type": "code",
   "execution_count": 9,
   "id": "e8752b3f",
   "metadata": {},
   "outputs": [],
   "source": [
    "strategy = TorchRegressionStrategy(SimpleRegressionModel)"
   ]
  },
  {
   "cell_type": "code",
   "execution_count": 10,
   "id": "79c14ab0",
   "metadata": {},
   "outputs": [
    {
     "data": {
      "text/plain": [
       "{}"
      ]
     },
     "execution_count": 10,
     "metadata": {},
     "output_type": "execute_result"
    }
   ],
   "source": [
    "strategy.model_params"
   ]
  },
  {
   "cell_type": "code",
   "execution_count": 11,
   "id": "16a5789f",
   "metadata": {},
   "outputs": [],
   "source": [
    "strategy.load('./lololo')"
   ]
  }
 ],
 "metadata": {
  "kernelspec": {
   "display_name": ".venv",
   "language": "python",
   "name": "python3"
  },
  "language_info": {
   "codemirror_mode": {
    "name": "ipython",
    "version": 3
   },
   "file_extension": ".py",
   "mimetype": "text/x-python",
   "name": "python",
   "nbconvert_exporter": "python",
   "pygments_lexer": "ipython3",
   "version": "3.10.12"
  }
 },
 "nbformat": 4,
 "nbformat_minor": 5
}
