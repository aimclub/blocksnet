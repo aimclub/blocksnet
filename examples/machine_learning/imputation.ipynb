{
 "cells": [
  {
   "cell_type": "code",
   "execution_count": 1,
   "id": "8585f310",
   "metadata": {},
   "outputs": [
    {
     "name": "stderr",
     "output_type": "stream",
     "text": [
      "/root/blocksnet/.venv/lib/python3.12/site-packages/torch_geometric/typing.py:68: UserWarning: An issue occurred while importing 'pyg-lib'. Disabling its usage. Stacktrace: libcudart.so.11.0: cannot open shared object file: No such file or directory\n",
      "  warnings.warn(f\"An issue occurred while importing 'pyg-lib'. \"\n",
      "/root/blocksnet/.venv/lib/python3.12/site-packages/torch_geometric/typing.py:124: UserWarning: An issue occurred while importing 'torch-sparse'. Disabling its usage. Stacktrace: libcudart.so.11.0: cannot open shared object file: No such file or directory\n",
      "  warnings.warn(f\"An issue occurred while importing 'torch-sparse'. \"\n"
     ]
    }
   ],
   "source": [
    "import pandas as pd\n",
    "import pandas as pd\n",
    "import numpy as np\n",
    "import torch\n",
    "import networkx as nx\n",
    "from sklearn.model_selection import train_test_split\n",
    "from sklearn.preprocessing import StandardScaler\n",
    "from blocksnet.relations import generate_adjacency_graph\n",
    "from blocksnet.enums import LandUse\n",
    "from torch_geometric.nn import GraphSAGE\n",
    "import torch.nn as nn\n",
    "\n",
    "blocks = pd.read_pickle('/root/blocksnet/blocks.pickle')"
   ]
  },
  {
   "cell_type": "code",
   "execution_count": 2,
   "id": "01b11297",
   "metadata": {},
   "outputs": [
    {
     "name": "stderr",
     "output_type": "stream",
     "text": [
      "\u001b[32m2025-07-11 14:25:36.655\u001b[0m | \u001b[1mINFO    \u001b[0m | \u001b[36mblocksnet.relations.adjacency.core\u001b[0m:\u001b[36m_generate_adjacency_nodes\u001b[0m:\u001b[36m9\u001b[0m - \u001b[1mGenerating nodes\u001b[0m\n",
      "\u001b[32m2025-07-11 14:25:36.660\u001b[0m | \u001b[1mINFO    \u001b[0m | \u001b[36mblocksnet.relations.adjacency.core\u001b[0m:\u001b[36m_generate_adjacency_edges\u001b[0m:\u001b[36m14\u001b[0m - \u001b[1mGenerating edges\u001b[0m\n",
      "\u001b[32m2025-07-11 14:25:38.230\u001b[0m | \u001b[32m\u001b[1mSUCCESS \u001b[0m | \u001b[36mblocksnet.relations.adjacency.core\u001b[0m:\u001b[36mgenerate_adjacency_graph\u001b[0m:\u001b[36m37\u001b[0m - \u001b[32m\u001b[1mAdjacency graph successfully generated: 9368 nodes, 30291 edges\u001b[0m\n"
     ]
    }
   ],
   "source": [
    "# Generate full graph\n",
    "graph = generate_adjacency_graph(blocks, 10)\n",
    "graph = nx.convert_node_labels_to_integers(graph)\n",
    "edges_list = list(graph.edges)\n",
    "edge_index = torch.tensor(edges_list, dtype=torch.long).t().contiguous()\n"
   ]
  },
  {
   "cell_type": "code",
   "execution_count": 3,
   "id": "941c7a13",
   "metadata": {},
   "outputs": [],
   "source": [
    "blocks['site_length'] = blocks.length\n",
    "blocks['x'] = blocks.centroid.x\n",
    "blocks['y'] = blocks.centroid.y"
   ]
  },
  {
   "cell_type": "code",
   "execution_count": 4,
   "id": "73b0bd91",
   "metadata": {},
   "outputs": [],
   "source": [
    "# Define columns\n",
    "TARGET_COLUMNS = ['footprint_area', 'build_floor_area', 'living_area']\n",
    "FEATURE_COLUMNS = ['site_length', 'x', 'y'] + [lu.value for lu in LandUse]"
   ]
  },
  {
   "cell_type": "code",
   "execution_count": 5,
   "id": "84a4f214",
   "metadata": {},
   "outputs": [],
   "source": [
    "# Feature engineering\n",
    "def feature_engineering(blocks: pd.DataFrame) -> pd.DataFrame:\n",
    "    blocks_df = blocks.copy()\n",
    "    blocks_df['distance_to_center'] = np.sqrt(blocks_df['x']**2 + blocks_df['y']**2)\n",
    "    blocks_df['x_normalized'] = blocks_df['x'] / (blocks_df['x'].std() + 1e-8)\n",
    "    blocks_df['y_normalized'] = blocks_df['y'] / (blocks_df['y'].std() + 1e-8)\n",
    "    blocks_df['lu_diversity'] = blocks_df[[lu.value for lu in LandUse]].sum(axis=1)\n",
    "    blocks_df['is_mixed_use'] = (blocks_df[[lu.value for lu in LandUse]].sum(axis=1) > 1).astype(int)\n",
    "    blocks_df['site_length_log'] = np.log1p(blocks_df['site_length'])\n",
    "    blocks_df['site_length_squared'] = blocks_df['site_length'] ** 2\n",
    "    blocks_df['build_density'] = blocks_df['site_area'] / (blocks_df['site_area'] + 1e-8)\n",
    "    blocks_df['living_ratio'] = blocks_df['living_area'] / (blocks_df['site_area'] + 1e-8)\n",
    "    blocks_df['footprint_ratio'] = blocks_df['site_area'] / (blocks_df['site_length'] + 1e-8)\n",
    "    feature_columns = FEATURE_COLUMNS + [\n",
    "        'distance_to_center', 'x_normalized', 'y_normalized',\n",
    "        'lu_diversity', 'is_mixed_use', 'site_length_log', 'site_length_squared',\n",
    "        'build_density', 'living_ratio', 'footprint_ratio'\n",
    "    ]\n",
    "    return blocks_df[feature_columns + TARGET_COLUMNS]\n",
    "\n",
    "# Apply feature engineering\n",
    "blocks = feature_engineering(blocks)"
   ]
  },
  {
   "cell_type": "code",
   "execution_count": 6,
   "id": "8d970599",
   "metadata": {},
   "outputs": [
    {
     "name": "stdout",
     "output_type": "stream",
     "text": [
      "Train nodes: 7494, Val nodes: 1874\n"
     ]
    }
   ],
   "source": [
    "# Split node indices\n",
    "n_nodes = len(blocks)\n",
    "node_indices = np.arange(n_nodes)\n",
    "train_indices, val_indices = train_test_split(\n",
    "    node_indices, test_size=0.2, random_state=42\n",
    ")\n",
    "print(f\"Train nodes: {len(train_indices)}, Val nodes: {len(val_indices)}\")\n"
   ]
  },
  {
   "cell_type": "code",
   "execution_count": 7,
   "id": "44bc6ed0",
   "metadata": {},
   "outputs": [],
   "source": [
    "# Define model\n",
    "class MultiScaleGNN(nn.Module):\n",
    "    def __init__(self, input_size: int, output_size: int, hidden_dim: int = 128, \n",
    "                 num_layers: int = 2, dropout: float = 0.2):\n",
    "        super().__init__()\n",
    "        self.output_size = output_size\n",
    "        self.graphsage = GraphSAGE(\n",
    "            in_channels=input_size,\n",
    "            hidden_channels=hidden_dim,\n",
    "            num_layers=num_layers,\n",
    "            out_channels=hidden_dim,\n",
    "            dropout=dropout,\n",
    "            act='relu',\n",
    "            norm=nn.LayerNorm(hidden_dim),\n",
    "        )\n",
    "        self.output_layer = nn.Sequential(\n",
    "            nn.Linear(hidden_dim, hidden_dim // 4),\n",
    "            nn.ReLU(),\n",
    "            nn.Dropout(dropout),\n",
    "            nn.Linear(hidden_dim // 4, output_size)\n",
    "        )\n",
    "    \n",
    "    def forward(self, x: torch.Tensor, edge_index: torch.Tensor):\n",
    "        features = self.graphsage(x, edge_index)\n",
    "        output = self.output_layer(features)\n",
    "        return output"
   ]
  },
  {
   "cell_type": "code",
   "execution_count": 8,
   "id": "5ad7864a",
   "metadata": {},
   "outputs": [],
   "source": [
    "# Initialize strategy\n",
    "from blocksnet.machine_learning.strategy.torch.graph.graph_imputation_strategy import TorchGraphImputationStrategy\n",
    "\n",
    "strategy = TorchGraphImputationStrategy(\n",
    "    model_cls=MultiScaleGNN,\n",
    "    scalers={'x': StandardScaler(), 'y': StandardScaler()}\n",
    ")"
   ]
  },
  {
   "cell_type": "code",
   "execution_count": 9,
   "id": "1c869fd2",
   "metadata": {},
   "outputs": [],
   "source": [
    "# Train model with single graph\n",
    "train_losses, test_losses = strategy.train(\n",
    "    x=blocks[blocks.columns.difference(TARGET_COLUMNS)].values,\n",
    "    y=blocks[TARGET_COLUMNS].values,\n",
    "    edge_index=edge_index,\n",
    "    train_indices=train_indices,\n",
    "    val_indices=val_indices,\n",
    "    batch_size=1,\n",
    "    epochs=500,\n",
    "    optimizer_params={\"lr\": 3e-4, \"weight_decay\": 1e-4},\n",
    ")"
   ]
  },
  {
   "cell_type": "code",
   "execution_count": 10,
   "id": "d7c3d7b1",
   "metadata": {},
   "outputs": [
    {
     "name": "stdout",
     "output_type": "stream",
     "text": [
      "footprint_area: R² = 0.8012\n",
      "build_floor_area: R² = 0.8832\n",
      "living_area: R² = 0.7597\n",
      "Total R²: 0.8147\n"
     ]
    }
   ],
   "source": [
    "import numpy as np\n",
    "from sklearn.metrics import r2_score\n",
    "\n",
    "# Получаем маску для валидационных узлов\n",
    "val_mask = np.zeros(len(blocks), dtype=bool)\n",
    "val_mask[val_indices] = True\n",
    "\n",
    "# Предсказания только для валидационных узлов\n",
    "predictions = strategy.predict(\n",
    "    x=blocks[blocks.columns.difference(TARGET_COLUMNS)].values,\n",
    "    edge_index=edge_index,\n",
    "    y=blocks[TARGET_COLUMNS].values,\n",
    ")\n",
    "\n",
    "# Истинные значения для валидационных узлов\n",
    "y_true = blocks[TARGET_COLUMNS].values[val_indices]\n",
    "\n",
    "# R² для каждого таргета\n",
    "for i, col in enumerate(TARGET_COLUMNS):\n",
    "    r2 = r2_score(y_true[:, i], predictions[:, i][val_indices])\n",
    "    print(f\"{col}: R² = {r2:.4f}\")\n",
    "\n",
    "# Если нужен общий R² для всех таргетов:\n",
    "r2_total = r2_score(y_true, predictions[val_indices])\n",
    "print(f\"Total R²: {r2_total:.4f}\")"
   ]
  },
  {
   "cell_type": "code",
   "execution_count": 11,
   "id": "ff83011c",
   "metadata": {},
   "outputs": [
    {
     "name": "stdout",
     "output_type": "stream",
     "text": [
      "\n",
      "=== Plotting Loss Curves ===\n"
     ]
    },
    {
     "data": {
      "image/png": "[encoded data removed]",
      "text/plain": [
       "<Figure size 800x600 with 1 Axes>"
      ]
     },
     "metadata": {},
     "output_type": "display_data"
    }
   ],
   "source": [
    "import matplotlib.pyplot as plt\n",
    "from typing import List\n",
    "\n",
    "# Функция для отображения только потерь\n",
    "def plot_losses(train_losses: List[float], test_losses: List[float], title: str):\n",
    "    \"\"\"\n",
    "    Plot training and test losses over epochs.\n",
    "    \"\"\"\n",
    "    print(\"\\n=== Plotting Loss Curves ===\")\n",
    "    \n",
    "    plt.figure(figsize=(8, 6))\n",
    "    plt.plot(train_losses, label='Train Loss', alpha=0.7, color='blue')\n",
    "    plt.plot(test_losses, label='Val Loss', alpha=0.7, color='orange')\n",
    "    plt.xlabel('Epoch')\n",
    "    plt.ylabel('Loss')\n",
    "    plt.title(title)\n",
    "    plt.legend()\n",
    "    plt.grid(True, alpha=0.3)\n",
    "    plt.tight_layout()\n",
    "    plt.show()\n",
    "\n",
    "# Вызов функции (передайте соответствующие списки)\n",
    "plot_losses(train_losses, test_losses, title='Training Loss Curves')\n"
   ]
  },
  {
   "cell_type": "code",
   "execution_count": 12,
   "id": "cdae6413",
   "metadata": {},
   "outputs": [
    {
     "name": "stderr",
     "output_type": "stream",
     "text": [
      "/root/blocksnet/blocksnet/machine_learning/strategy/torch/base_strategy.py:63: FutureWarning: You are using `torch.load` with `weights_only=False` (the current default value), which uses the default pickle module implicitly. It is possible to construct malicious pickle data which will execute arbitrary code during unpickling (See https://github.com/pytorch/pytorch/blob/main/SECURITY.md#untrusted-models for more details). In a future release, the default value for `weights_only` will be flipped to `True`. This limits the functions that could be executed during unpickling. Arbitrary objects will no longer be allowed to be loaded via this mode unless they are explicitly allowlisted by the user via `torch.serialization.add_safe_globals`. We recommend you start setting `weights_only=True` for any use case where you don't have full control of the loaded file. Please open an issue on GitHub for any issues related to this experimental feature.\n",
      "  state_dict = torch.load(model_path)\n"
     ]
    }
   ],
   "source": [
    "# Save model\n",
    "strategy.save('./graph_imputation_model')\n",
    "\n",
    "# Load model\n",
    "strategy = TorchGraphImputationStrategy(model_cls=MultiScaleGNN)\n",
    "strategy.load('./graph_imputation_model')"
   ]
  }
 ],
 "metadata": {
  "kernelspec": {
   "display_name": ".venv",
   "language": "python",
   "name": "python3"
  },
  "language_info": {
   "codemirror_mode": {
    "name": "ipython",
    "version": 3
   },
   "file_extension": ".py",
   "mimetype": "text/x-python",
   "name": "python",
   "nbconvert_exporter": "python",
   "pygments_lexer": "ipython3",
   "version": "3.12.3"
  }
 },
 "nbformat": 4,
 "nbformat_minor": 5
}
