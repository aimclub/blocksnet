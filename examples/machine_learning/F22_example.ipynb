{
 "cells": [
  {
   "cell_type": "markdown",
   "metadata": {},
   "source": [
    "# Pipeline example"
   ]
  },
  {
   "cell_type": "code",
   "execution_count": 1,
   "metadata": {},
   "outputs": [],
   "source": [
    "import pandas as pd\n",
    "import geopandas as gpd\n",
    "\n",
    "blocks = pd.read_pickle('/root/blocksnet/tests/data/blocks.pickle')\n",
    "blocks_gdf = gpd.GeoDataFrame(blocks)"
   ]
  },
  {
   "cell_type": "markdown",
   "metadata": {},
   "source": [
    "Initialize graph"
   ]
  },
  {
   "cell_type": "code",
   "execution_count": 2,
   "metadata": {},
   "outputs": [
    {
     "name": "stderr",
     "output_type": "stream",
     "text": [
      "\u001b[32m2025-05-29 16:10:47.517\u001b[0m | \u001b[1mINFO    \u001b[0m | \u001b[36mblocksnet.relations.adjacency.core\u001b[0m:\u001b[36m_generate_adjacency_nodes\u001b[0m:\u001b[36m10\u001b[0m - \u001b[1mGenerating nodes\u001b[0m\n",
      "\u001b[32m2025-05-29 16:10:47.520\u001b[0m | \u001b[1mINFO    \u001b[0m | \u001b[36mblocksnet.relations.adjacency.core\u001b[0m:\u001b[36m_generate_adjacency_edges\u001b[0m:\u001b[36m15\u001b[0m - \u001b[1mGenerating edges\u001b[0m\n",
      "\u001b[32m2025-05-29 16:10:48.014\u001b[0m | \u001b[32m\u001b[1mSUCCESS \u001b[0m | \u001b[36mblocksnet.relations.adjacency.core\u001b[0m:\u001b[36mgenerate_adjacency_graph\u001b[0m:\u001b[36m38\u001b[0m - \u001b[32m\u001b[1mAdjacency graph successfully generated: 2700 nodes, 8966 edges\u001b[0m\n"
     ]
    }
   ],
   "source": [
    "from blocksnet.relations import generate_adjacency_graph\n",
    "\n",
    "adjacency_graph = generate_adjacency_graph(blocks_gdf, 10)"
   ]
  },
  {
   "cell_type": "markdown",
   "metadata": {},
   "source": [
    "## Density"
   ]
  },
  {
   "cell_type": "code",
   "execution_count": 3,
   "metadata": {},
   "outputs": [
    {
     "name": "stderr",
     "output_type": "stream",
     "text": [
      "/root/blocksnet/.venv/lib/python3.12/site-packages/torch_geometric/typing.py:68: UserWarning: An issue occurred while importing 'pyg-lib'. Disabling its usage. Stacktrace: libcudart.so.11.0: cannot open shared object file: No such file or directory\n",
      "  warnings.warn(f\"An issue occurred while importing 'pyg-lib'. \"\n",
      "/root/blocksnet/.venv/lib/python3.12/site-packages/torch_geometric/typing.py:124: UserWarning: An issue occurred while importing 'torch-sparse'. Disabling its usage. Stacktrace: libcudart.so.11.0: cannot open shared object file: No such file or directory\n",
      "  warnings.warn(f\"An issue occurred while importing 'torch-sparse'. \"\n"
     ]
    }
   ],
   "source": [
    "from blocksnet.machine_learning.regression import DensityRegressor\n",
    "\n",
    "dr = DensityRegressor()"
   ]
  },
  {
   "cell_type": "markdown",
   "metadata": {},
   "source": [
    "### Predicting fsi, gsi, mxi"
   ]
  },
  {
   "cell_type": "code",
   "execution_count": 4,
   "metadata": {},
   "outputs": [
    {
     "name": "stderr",
     "output_type": "stream",
     "text": [
      "\u001b[32m2025-05-29 16:10:50.267\u001b[0m | \u001b[33m\u001b[1mWARNING \u001b[0m | \u001b[36mblocksnet.machine_learning.regression.density.schemas\u001b[0m:\u001b[36m_before_validate\u001b[0m:\u001b[36m33\u001b[0m - \u001b[33m\u001b[1mNot valid format. Trying to one hot from land_use column\u001b[0m\n",
      "\u001b[32m2025-05-29 16:10:50.519\u001b[0m | \u001b[1mINFO    \u001b[0m | \u001b[36mblocksnet.preprocessing.feature_engineering.core\u001b[0m:\u001b[36m_calculate_usual_features\u001b[0m:\u001b[36m35\u001b[0m - \u001b[1mCalculating usual features\u001b[0m\n"
     ]
    }
   ],
   "source": [
    "result_df = dr.evaluate(blocks_gdf, adjacency_graph)"
   ]
  },
  {
   "cell_type": "code",
   "execution_count": 5,
   "metadata": {},
   "outputs": [
    {
     "data": {
      "text/html": [
       "<div>\n",
       "<style scoped>\n",
       "    .dataframe tbody tr th:only-of-type {\n",
       "        vertical-align: middle;\n",
       "    }\n",
       "\n",
       "    .dataframe tbody tr th {\n",
       "        vertical-align: top;\n",
       "    }\n",
       "\n",
       "    .dataframe thead th {\n",
       "        text-align: right;\n",
       "    }\n",
       "</style>\n",
       "<table border=\"1\" class=\"dataframe\">\n",
       "  <thead>\n",
       "    <tr style=\"text-align: right;\">\n",
       "      <th></th>\n",
       "      <th>fsi</th>\n",
       "      <th>gsi</th>\n",
       "      <th>mxi</th>\n",
       "    </tr>\n",
       "  </thead>\n",
       "  <tbody>\n",
       "    <tr>\n",
       "      <th>0</th>\n",
       "      <td>0.047580</td>\n",
       "      <td>0.031040</td>\n",
       "      <td>0.597212</td>\n",
       "    </tr>\n",
       "    <tr>\n",
       "      <th>1</th>\n",
       "      <td>0.185372</td>\n",
       "      <td>0.087705</td>\n",
       "      <td>0.714367</td>\n",
       "    </tr>\n",
       "    <tr>\n",
       "      <th>2</th>\n",
       "      <td>0.154388</td>\n",
       "      <td>0.096295</td>\n",
       "      <td>0.062276</td>\n",
       "    </tr>\n",
       "    <tr>\n",
       "      <th>3</th>\n",
       "      <td>0.411970</td>\n",
       "      <td>0.141523</td>\n",
       "      <td>0.392915</td>\n",
       "    </tr>\n",
       "    <tr>\n",
       "      <th>4</th>\n",
       "      <td>0.079224</td>\n",
       "      <td>0.019165</td>\n",
       "      <td>0.141795</td>\n",
       "    </tr>\n",
       "    <tr>\n",
       "      <th>...</th>\n",
       "      <td>...</td>\n",
       "      <td>...</td>\n",
       "      <td>...</td>\n",
       "    </tr>\n",
       "    <tr>\n",
       "      <th>2695</th>\n",
       "      <td>0.142503</td>\n",
       "      <td>0.082639</td>\n",
       "      <td>0.212326</td>\n",
       "    </tr>\n",
       "    <tr>\n",
       "      <th>2696</th>\n",
       "      <td>0.175975</td>\n",
       "      <td>0.094356</td>\n",
       "      <td>0.193998</td>\n",
       "    </tr>\n",
       "    <tr>\n",
       "      <th>2697</th>\n",
       "      <td>0.172016</td>\n",
       "      <td>0.092913</td>\n",
       "      <td>0.197617</td>\n",
       "    </tr>\n",
       "    <tr>\n",
       "      <th>2698</th>\n",
       "      <td>0.252905</td>\n",
       "      <td>0.081366</td>\n",
       "      <td>0.597263</td>\n",
       "    </tr>\n",
       "    <tr>\n",
       "      <th>2699</th>\n",
       "      <td>0.180062</td>\n",
       "      <td>0.095903</td>\n",
       "      <td>0.189722</td>\n",
       "    </tr>\n",
       "  </tbody>\n",
       "</table>\n",
       "<p>2700 rows × 3 columns</p>\n",
       "</div>"
      ],
      "text/plain": [
       "           fsi       gsi       mxi\n",
       "0     0.047580  0.031040  0.597212\n",
       "1     0.185372  0.087705  0.714367\n",
       "2     0.154388  0.096295  0.062276\n",
       "3     0.411970  0.141523  0.392915\n",
       "4     0.079224  0.019165  0.141795\n",
       "...        ...       ...       ...\n",
       "2695  0.142503  0.082639  0.212326\n",
       "2696  0.175975  0.094356  0.193998\n",
       "2697  0.172016  0.092913  0.197617\n",
       "2698  0.252905  0.081366  0.597263\n",
       "2699  0.180062  0.095903  0.189722\n",
       "\n",
       "[2700 rows x 3 columns]"
      ]
     },
     "execution_count": 5,
     "metadata": {},
     "output_type": "execute_result"
    }
   ],
   "source": [
    "result_df"
   ]
  },
  {
   "cell_type": "code",
   "execution_count": 6,
   "metadata": {},
   "outputs": [],
   "source": [
    "blocks_gdf['site_area'] = blocks_gdf.geometry.area\n",
    "result_df = result_df.join(blocks_gdf[['site_area']])"
   ]
  },
  {
   "cell_type": "code",
   "execution_count": 7,
   "metadata": {},
   "outputs": [
    {
     "data": {
      "text/html": [
       "<div>\n",
       "<style scoped>\n",
       "    .dataframe tbody tr th:only-of-type {\n",
       "        vertical-align: middle;\n",
       "    }\n",
       "\n",
       "    .dataframe tbody tr th {\n",
       "        vertical-align: top;\n",
       "    }\n",
       "\n",
       "    .dataframe thead th {\n",
       "        text-align: right;\n",
       "    }\n",
       "</style>\n",
       "<table border=\"1\" class=\"dataframe\">\n",
       "  <thead>\n",
       "    <tr style=\"text-align: right;\">\n",
       "      <th></th>\n",
       "      <th>fsi</th>\n",
       "      <th>gsi</th>\n",
       "      <th>mxi</th>\n",
       "      <th>site_area</th>\n",
       "    </tr>\n",
       "  </thead>\n",
       "  <tbody>\n",
       "    <tr>\n",
       "      <th>0</th>\n",
       "      <td>0.047580</td>\n",
       "      <td>0.031040</td>\n",
       "      <td>0.597212</td>\n",
       "      <td>202399.732194</td>\n",
       "    </tr>\n",
       "    <tr>\n",
       "      <th>1</th>\n",
       "      <td>0.185372</td>\n",
       "      <td>0.087705</td>\n",
       "      <td>0.714367</td>\n",
       "      <td>201529.493481</td>\n",
       "    </tr>\n",
       "    <tr>\n",
       "      <th>2</th>\n",
       "      <td>0.154388</td>\n",
       "      <td>0.096295</td>\n",
       "      <td>0.062276</td>\n",
       "      <td>164663.859829</td>\n",
       "    </tr>\n",
       "    <tr>\n",
       "      <th>3</th>\n",
       "      <td>0.411970</td>\n",
       "      <td>0.141523</td>\n",
       "      <td>0.392915</td>\n",
       "      <td>161571.832511</td>\n",
       "    </tr>\n",
       "    <tr>\n",
       "      <th>4</th>\n",
       "      <td>0.079224</td>\n",
       "      <td>0.019165</td>\n",
       "      <td>0.141795</td>\n",
       "      <td>16.489152</td>\n",
       "    </tr>\n",
       "    <tr>\n",
       "      <th>...</th>\n",
       "      <td>...</td>\n",
       "      <td>...</td>\n",
       "      <td>...</td>\n",
       "      <td>...</td>\n",
       "    </tr>\n",
       "    <tr>\n",
       "      <th>2695</th>\n",
       "      <td>0.142503</td>\n",
       "      <td>0.082639</td>\n",
       "      <td>0.212326</td>\n",
       "      <td>22875.011366</td>\n",
       "    </tr>\n",
       "    <tr>\n",
       "      <th>2696</th>\n",
       "      <td>0.175975</td>\n",
       "      <td>0.094356</td>\n",
       "      <td>0.193998</td>\n",
       "      <td>1214.910251</td>\n",
       "    </tr>\n",
       "    <tr>\n",
       "      <th>2697</th>\n",
       "      <td>0.172016</td>\n",
       "      <td>0.092913</td>\n",
       "      <td>0.197617</td>\n",
       "      <td>2449.592208</td>\n",
       "    </tr>\n",
       "    <tr>\n",
       "      <th>2698</th>\n",
       "      <td>0.252905</td>\n",
       "      <td>0.081366</td>\n",
       "      <td>0.597263</td>\n",
       "      <td>5.073803</td>\n",
       "    </tr>\n",
       "    <tr>\n",
       "      <th>2699</th>\n",
       "      <td>0.180062</td>\n",
       "      <td>0.095903</td>\n",
       "      <td>0.189722</td>\n",
       "      <td>0.332125</td>\n",
       "    </tr>\n",
       "  </tbody>\n",
       "</table>\n",
       "<p>2700 rows × 4 columns</p>\n",
       "</div>"
      ],
      "text/plain": [
       "           fsi       gsi       mxi      site_area\n",
       "0     0.047580  0.031040  0.597212  202399.732194\n",
       "1     0.185372  0.087705  0.714367  201529.493481\n",
       "2     0.154388  0.096295  0.062276  164663.859829\n",
       "3     0.411970  0.141523  0.392915  161571.832511\n",
       "4     0.079224  0.019165  0.141795      16.489152\n",
       "...        ...       ...       ...            ...\n",
       "2695  0.142503  0.082639  0.212326   22875.011366\n",
       "2696  0.175975  0.094356  0.193998    1214.910251\n",
       "2697  0.172016  0.092913  0.197617    2449.592208\n",
       "2698  0.252905  0.081366  0.597263       5.073803\n",
       "2699  0.180062  0.095903  0.189722       0.332125\n",
       "\n",
       "[2700 rows x 4 columns]"
      ]
     },
     "execution_count": 7,
     "metadata": {},
     "output_type": "execute_result"
    }
   ],
   "source": [
    "result_df"
   ]
  },
  {
   "cell_type": "markdown",
   "metadata": {},
   "source": [
    "# Values below zero"
   ]
  },
  {
   "cell_type": "code",
   "execution_count": 8,
   "metadata": {},
   "outputs": [
    {
     "data": {
      "text/plain": [
       "site_area     0\n",
       "fsi          42\n",
       "gsi           7\n",
       "mxi          43\n",
       "dtype: int64"
      ]
     },
     "execution_count": 8,
     "metadata": {},
     "output_type": "execute_result"
    }
   ],
   "source": [
    "(result_df[[\n",
    "    'site_area',\n",
    "    'fsi',\n",
    "    'gsi',\n",
    "    'mxi',\n",
    "]] < 0).sum()"
   ]
  },
  {
   "cell_type": "code",
   "execution_count": 9,
   "metadata": {},
   "outputs": [],
   "source": [
    "result_df[result_df[[\n",
    "    'site_area',\n",
    "    'fsi',\n",
    "    'gsi',\n",
    "    'mxi',\n",
    "]] < 0] = 0"
   ]
  },
  {
   "cell_type": "markdown",
   "metadata": {},
   "source": [
    "# Calculating dev indicators from area, fsi, gsi, mxi"
   ]
  },
  {
   "cell_type": "code",
   "execution_count": 10,
   "metadata": {},
   "outputs": [],
   "source": [
    "from blocksnet.analysis.indicators import calculate_development_indicators \n",
    "\n",
    "blocks = calculate_development_indicators(result_df[[\n",
    "    'site_area',\n",
    "    'fsi',\n",
    "    'gsi',\n",
    "    'mxi',\n",
    "]])"
   ]
  },
  {
   "cell_type": "markdown",
   "metadata": {},
   "source": [
    "# Adding population value"
   ]
  },
  {
   "cell_type": "code",
   "execution_count": 11,
   "metadata": {},
   "outputs": [
    {
     "name": "stderr",
     "output_type": "stream",
     "text": [
      "/tmp/ipykernel_312464/2758934810.py:6: FutureWarning: Setting an item of incompatible dtype is deprecated and will raise an error in a future version of pandas. Value '[2.87560915e+02 1.33436088e+03 7.91590142e+01 ... 4.16349704e+00\n",
      " 3.83201793e-02 5.67298477e-04]' has dtype incompatible with int64, please explicitly cast to a compatible dtype first.\n",
      "  blocks.loc[mask, 'population'] = blocks.loc[mask, 'living_area'] / 20\n"
     ]
    }
   ],
   "source": [
    "blocks['population'] = blocks_gdf['population']\n",
    "blocks['buildings_count'] = blocks_gdf['objects_count']\n",
    "blocks['is_living'] = blocks_gdf['is_living']\n",
    "\n",
    "mask = blocks['population'] == 0\n",
    "blocks.loc[mask, 'population'] = blocks.loc[mask, 'living_area'] / 20"
   ]
  },
  {
   "cell_type": "code",
   "execution_count": 12,
   "metadata": {},
   "outputs": [],
   "source": [
    "blocks['land_use'] = blocks_gdf['land_use']\n",
    "blocks['land_use'] = blocks['land_use'].apply(lambda lu : lu.value if lu is not None else 'unknown')\n",
    "\n",
    "land_uses = blocks.groupby('land_use')['site_area'].sum().to_frame().T.reset_index()"
   ]
  },
  {
   "cell_type": "markdown",
   "metadata": {},
   "source": [
    "# Adding landuse info"
   ]
  },
  {
   "cell_type": "markdown",
   "metadata": {},
   "source": [
    "# Predicting social indicators"
   ]
  },
  {
   "cell_type": "code",
   "execution_count": 13,
   "metadata": {},
   "outputs": [],
   "source": [
    "mo_df = blocks.sum().to_frame().T"
   ]
  },
  {
   "cell_type": "code",
   "execution_count": 14,
   "metadata": {},
   "outputs": [],
   "source": [
    "mo_df = pd.concat([mo_df, land_uses], axis=1)"
   ]
  },
  {
   "cell_type": "code",
   "execution_count": 15,
   "metadata": {},
   "outputs": [
    {
     "data": {
      "text/html": [
       "<div>\n",
       "<style scoped>\n",
       "    .dataframe tbody tr th:only-of-type {\n",
       "        vertical-align: middle;\n",
       "    }\n",
       "\n",
       "    .dataframe tbody tr th {\n",
       "        vertical-align: top;\n",
       "    }\n",
       "\n",
       "    .dataframe thead th {\n",
       "        text-align: right;\n",
       "    }\n",
       "</style>\n",
       "<table border=\"1\" class=\"dataframe\">\n",
       "  <thead>\n",
       "    <tr style=\"text-align: right;\">\n",
       "      <th></th>\n",
       "      <th>site_area</th>\n",
       "      <th>fsi</th>\n",
       "      <th>gsi</th>\n",
       "      <th>mxi</th>\n",
       "      <th>build_floor_area</th>\n",
       "      <th>footprint_area</th>\n",
       "      <th>living_area</th>\n",
       "      <th>non_living_area</th>\n",
       "      <th>population</th>\n",
       "      <th>buildings_count</th>\n",
       "      <th>...</th>\n",
       "      <th>land_use</th>\n",
       "      <th>index</th>\n",
       "      <th>agriculture</th>\n",
       "      <th>business</th>\n",
       "      <th>industrial</th>\n",
       "      <th>recreation</th>\n",
       "      <th>residential</th>\n",
       "      <th>special</th>\n",
       "      <th>transport</th>\n",
       "      <th>unknown</th>\n",
       "    </tr>\n",
       "  </thead>\n",
       "  <tbody>\n",
       "    <tr>\n",
       "      <th>0</th>\n",
       "      <td>590964488.275079</td>\n",
       "      <td>464.037196</td>\n",
       "      <td>204.326412</td>\n",
       "      <td>910.797052</td>\n",
       "      <td>66766159.358916</td>\n",
       "      <td>23705851.222585</td>\n",
       "      <td>26838110.516335</td>\n",
       "      <td>39928048.842581</td>\n",
       "      <td>533461.62413</td>\n",
       "      <td>1768</td>\n",
       "      <td>...</td>\n",
       "      <td>agriculturebusinesstransportresidentialunknown...</td>\n",
       "      <td>site_area</td>\n",
       "      <td>799097.60226</td>\n",
       "      <td>1.295449e+06</td>\n",
       "      <td>1.410717e+06</td>\n",
       "      <td>3.049707e+06</td>\n",
       "      <td>1.170972e+07</td>\n",
       "      <td>1.526682e+06</td>\n",
       "      <td>237916.846397</td>\n",
       "      <td>5.709352e+08</td>\n",
       "    </tr>\n",
       "  </tbody>\n",
       "</table>\n",
       "<p>1 rows × 21 columns</p>\n",
       "</div>"
      ],
      "text/plain": [
       "          site_area         fsi         gsi         mxi build_floor_area  \\\n",
       "0  590964488.275079  464.037196  204.326412  910.797052  66766159.358916   \n",
       "\n",
       "    footprint_area      living_area  non_living_area    population  \\\n",
       "0  23705851.222585  26838110.516335  39928048.842581  533461.62413   \n",
       "\n",
       "  buildings_count  ...                                           land_use  \\\n",
       "0            1768  ...  agriculturebusinesstransportresidentialunknown...   \n",
       "\n",
       "       index   agriculture      business    industrial    recreation  \\\n",
       "0  site_area  799097.60226  1.295449e+06  1.410717e+06  3.049707e+06   \n",
       "\n",
       "    residential       special      transport       unknown  \n",
       "0  1.170972e+07  1.526682e+06  237916.846397  5.709352e+08  \n",
       "\n",
       "[1 rows x 21 columns]"
      ]
     },
     "execution_count": 15,
     "metadata": {},
     "output_type": "execute_result"
    }
   ],
   "source": [
    "mo_df"
   ]
  },
  {
   "cell_type": "code",
   "execution_count": 16,
   "metadata": {},
   "outputs": [],
   "source": [
    "mo_df['latitude'] = blocks_gdf.geometry.union_all().centroid.x\n",
    "mo_df['longitude'] = blocks_gdf.geometry.union_all().centroid.y"
   ]
  },
  {
   "cell_type": "code",
   "execution_count": 17,
   "metadata": {},
   "outputs": [],
   "source": [
    "from blocksnet.machine_learning.regression import SocialRegressor\n",
    "\n",
    "sr = SocialRegressor()"
   ]
  },
  {
   "cell_type": "code",
   "execution_count": 18,
   "metadata": {},
   "outputs": [],
   "source": [
    "y_pred, pi_lower, pi_upper = sr.evaluate(mo_df)"
   ]
  },
  {
   "cell_type": "code",
   "execution_count": 19,
   "metadata": {},
   "outputs": [
    {
     "data": {
      "text/html": [
       "<div>\n",
       "<style scoped>\n",
       "    .dataframe tbody tr th:only-of-type {\n",
       "        vertical-align: middle;\n",
       "    }\n",
       "\n",
       "    .dataframe tbody tr th {\n",
       "        vertical-align: top;\n",
       "    }\n",
       "\n",
       "    .dataframe thead th {\n",
       "        text-align: right;\n",
       "    }\n",
       "</style>\n",
       "<table border=\"1\" class=\"dataframe\">\n",
       "  <thead>\n",
       "    <tr style=\"text-align: right;\">\n",
       "      <th></th>\n",
       "      <th>nursing_home_count</th>\n",
       "      <th>hotel_count</th>\n",
       "      <th>theatre_count</th>\n",
       "      <th>cinema_count</th>\n",
       "      <th>secondary_vocational_education_institutions_count</th>\n",
       "      <th>university_count</th>\n",
       "      <th>stadium_count</th>\n",
       "      <th>emergency_medical_service_stations_count</th>\n",
       "      <th>kindergarten_count</th>\n",
       "      <th>hostel_count</th>\n",
       "      <th>...</th>\n",
       "      <th>post_count</th>\n",
       "      <th>swimming_pool_count</th>\n",
       "      <th>library_count</th>\n",
       "      <th>guest_house_count</th>\n",
       "      <th>fire_safety_facilities_count</th>\n",
       "      <th>restaurant_count</th>\n",
       "      <th>police_count</th>\n",
       "      <th>museum_count</th>\n",
       "      <th>bank_count</th>\n",
       "      <th>pitch_count</th>\n",
       "    </tr>\n",
       "  </thead>\n",
       "  <tbody>\n",
       "    <tr>\n",
       "      <th>0</th>\n",
       "      <td>1.724709</td>\n",
       "      <td>38.906454</td>\n",
       "      <td>5.669712</td>\n",
       "      <td>1.192193</td>\n",
       "      <td>8.415945</td>\n",
       "      <td>11.056443</td>\n",
       "      <td>10.359553</td>\n",
       "      <td>2.869026</td>\n",
       "      <td>87.163117</td>\n",
       "      <td>34.825633</td>\n",
       "      <td>...</td>\n",
       "      <td>2.820628</td>\n",
       "      <td>25.45424</td>\n",
       "      <td>1.062628</td>\n",
       "      <td>2.423518</td>\n",
       "      <td>33.45202</td>\n",
       "      <td>37.470833</td>\n",
       "      <td>8.261214</td>\n",
       "      <td>6.859682</td>\n",
       "      <td>3.886751</td>\n",
       "      <td>267.922235</td>\n",
       "    </tr>\n",
       "  </tbody>\n",
       "</table>\n",
       "<p>1 rows × 28 columns</p>\n",
       "</div>"
      ],
      "text/plain": [
       "   nursing_home_count  hotel_count  theatre_count  cinema_count  \\\n",
       "0            1.724709    38.906454       5.669712      1.192193   \n",
       "\n",
       "   secondary_vocational_education_institutions_count  university_count  \\\n",
       "0                                           8.415945         11.056443   \n",
       "\n",
       "   stadium_count  emergency_medical_service_stations_count  \\\n",
       "0      10.359553                                  2.869026   \n",
       "\n",
       "   kindergarten_count  hostel_count  ...  post_count  swimming_pool_count  \\\n",
       "0           87.163117     34.825633  ...    2.820628             25.45424   \n",
       "\n",
       "   library_count  guest_house_count  fire_safety_facilities_count  \\\n",
       "0       1.062628           2.423518                      33.45202   \n",
       "\n",
       "   restaurant_count  police_count  museum_count  bank_count  pitch_count  \n",
       "0         37.470833      8.261214      6.859682    3.886751   267.922235  \n",
       "\n",
       "[1 rows x 28 columns]"
      ]
     },
     "execution_count": 19,
     "metadata": {},
     "output_type": "execute_result"
    }
   ],
   "source": [
    "y_pred"
   ]
  }
 ],
 "metadata": {
  "kernelspec": {
   "display_name": ".venv",
   "language": "python",
   "name": "python3"
  },
  "language_info": {
   "codemirror_mode": {
    "name": "ipython",
    "version": 3
   },
   "file_extension": ".py",
   "mimetype": "text/x-python",
   "name": "python",
   "nbconvert_exporter": "python",
   "pygments_lexer": "ipython3",
   "version": "3.12.3"
  }
 },
 "nbformat": 4,
 "nbformat_minor": 2
}
