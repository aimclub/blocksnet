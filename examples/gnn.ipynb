{
 "cells": [
  {
   "cell_type": "code",
   "execution_count": 94,
   "metadata": {},
   "outputs": [
    {
     "data": {
      "text/html": [
       "<div>\n",
       "<style scoped>\n",
       "    .dataframe tbody tr th:only-of-type {\n",
       "        vertical-align: middle;\n",
       "    }\n",
       "\n",
       "    .dataframe tbody tr th {\n",
       "        vertical-align: top;\n",
       "    }\n",
       "\n",
       "    .dataframe thead th {\n",
       "        text-align: right;\n",
       "    }\n",
       "</style>\n",
       "<table border=\"1\" class=\"dataframe\">\n",
       "  <thead>\n",
       "    <tr style=\"text-align: right;\">\n",
       "      <th></th>\n",
       "      <th>geometry</th>\n",
       "      <th>name</th>\n",
       "      <th>population</th>\n",
       "    </tr>\n",
       "    <tr>\n",
       "      <th>territory_id</th>\n",
       "      <th></th>\n",
       "      <th></th>\n",
       "      <th></th>\n",
       "    </tr>\n",
       "  </thead>\n",
       "  <tbody>\n",
       "    <tr>\n",
       "      <th>3</th>\n",
       "      <td>POLYGON ((580049.515 6617067.720, 580225.344 6...</td>\n",
       "      <td>Самойловское сельское поселение</td>\n",
       "      <td>2154.0</td>\n",
       "    </tr>\n",
       "    <tr>\n",
       "      <th>4</th>\n",
       "      <td>POLYGON ((573514.444 6620389.851, 573579.919 6...</td>\n",
       "      <td>Большедворское сельское поселение</td>\n",
       "      <td>1698.0</td>\n",
       "    </tr>\n",
       "    <tr>\n",
       "      <th>5</th>\n",
       "      <td>POLYGON ((564707.328 6594903.594, 564341.814 6...</td>\n",
       "      <td>Пикалевское городское поселение</td>\n",
       "      <td>20169.0</td>\n",
       "    </tr>\n",
       "    <tr>\n",
       "      <th>6</th>\n",
       "      <td>POLYGON ((560629.509 6557332.762, 560642.857 6...</td>\n",
       "      <td>Борское сельское поселение</td>\n",
       "      <td>3393.0</td>\n",
       "    </tr>\n",
       "    <tr>\n",
       "      <th>7</th>\n",
       "      <td>POLYGON ((560659.317 6585430.874, 559919.213 6...</td>\n",
       "      <td>Бокситогорское городское поселение</td>\n",
       "      <td>15960.0</td>\n",
       "    </tr>\n",
       "  </tbody>\n",
       "</table>\n",
       "</div>"
      ],
      "text/plain": [
       "                                                       geometry  \\\n",
       "territory_id                                                      \n",
       "3             POLYGON ((580049.515 6617067.720, 580225.344 6...   \n",
       "4             POLYGON ((573514.444 6620389.851, 573579.919 6...   \n",
       "5             POLYGON ((564707.328 6594903.594, 564341.814 6...   \n",
       "6             POLYGON ((560629.509 6557332.762, 560642.857 6...   \n",
       "7             POLYGON ((560659.317 6585430.874, 559919.213 6...   \n",
       "\n",
       "                                            name  population  \n",
       "territory_id                                                  \n",
       "3                Самойловское сельское поселение      2154.0  \n",
       "4              Большедворское сельское поселение      1698.0  \n",
       "5                Пикалевское городское поселение     20169.0  \n",
       "6                     Борское сельское поселение      3393.0  \n",
       "7             Бокситогорское городское поселение     15960.0  "
      ]
     },
     "execution_count": 94,
     "metadata": {},
     "output_type": "execute_result"
    }
   ],
   "source": [
    "import geopandas as gpd\n",
    "\n",
    "territories = gpd.read_parquet('./data/gnn_data/territories.parquet')\n",
    "crs = territories.estimate_utm_crs()\n",
    "territories = territories.drop(1267).to_crs(crs)\n",
    "territories.head()"
   ]
  },
  {
   "cell_type": "code",
   "execution_count": 95,
   "metadata": {},
   "outputs": [
    {
     "data": {
      "text/html": [
       "<div>\n",
       "<style scoped>\n",
       "    .dataframe tbody tr th:only-of-type {\n",
       "        vertical-align: middle;\n",
       "    }\n",
       "\n",
       "    .dataframe tbody tr th {\n",
       "        vertical-align: top;\n",
       "    }\n",
       "\n",
       "    .dataframe thead th {\n",
       "        text-align: right;\n",
       "    }\n",
       "</style>\n",
       "<table border=\"1\" class=\"dataframe\">\n",
       "  <thead>\n",
       "    <tr style=\"text-align: right;\">\n",
       "      <th></th>\n",
       "      <th>geometry</th>\n",
       "    </tr>\n",
       "  </thead>\n",
       "  <tbody>\n",
       "    <tr>\n",
       "      <th>0</th>\n",
       "      <td>POLYGON ((570883.045 6596529.946, 570883.081 6...</td>\n",
       "    </tr>\n",
       "    <tr>\n",
       "      <th>1</th>\n",
       "      <td>POLYGON ((570987.035 6596464.499, 570987.085 6...</td>\n",
       "    </tr>\n",
       "    <tr>\n",
       "      <th>2</th>\n",
       "      <td>POLYGON ((572676.730 6596606.982, 572676.701 6...</td>\n",
       "    </tr>\n",
       "    <tr>\n",
       "      <th>3</th>\n",
       "      <td>POLYGON ((583242.895 6595451.954, 583243.013 6...</td>\n",
       "    </tr>\n",
       "    <tr>\n",
       "      <th>4</th>\n",
       "      <td>POLYGON ((582405.498 6595459.455, 582405.614 6...</td>\n",
       "    </tr>\n",
       "  </tbody>\n",
       "</table>\n",
       "</div>"
      ],
      "text/plain": [
       "                                            geometry\n",
       "0  POLYGON ((570883.045 6596529.946, 570883.081 6...\n",
       "1  POLYGON ((570987.035 6596464.499, 570987.085 6...\n",
       "2  POLYGON ((572676.730 6596606.982, 572676.701 6...\n",
       "3  POLYGON ((583242.895 6595451.954, 583243.013 6...\n",
       "4  POLYGON ((582405.498 6595459.455, 582405.614 6..."
      ]
     },
     "execution_count": 95,
     "metadata": {},
     "output_type": "execute_result"
    }
   ],
   "source": [
    "blocks = gpd.read_parquet('./data/split_gdf.parquet')[['geometry']].reset_index(drop=True).to_crs(crs)\n",
    "blocks = blocks.explode('geometry', ignore_index=True)\n",
    "blocks = blocks[blocks.geom_type == 'Polygon'].copy()\n",
    "blocks.head()"
   ]
  },
  {
   "cell_type": "code",
   "execution_count": 96,
   "metadata": {},
   "outputs": [
    {
     "data": {
      "text/html": [
       "<div>\n",
       "<style scoped>\n",
       "    .dataframe tbody tr th:only-of-type {\n",
       "        vertical-align: middle;\n",
       "    }\n",
       "\n",
       "    .dataframe tbody tr th {\n",
       "        vertical-align: top;\n",
       "    }\n",
       "\n",
       "    .dataframe thead th {\n",
       "        text-align: right;\n",
       "    }\n",
       "</style>\n",
       "<table border=\"1\" class=\"dataframe\">\n",
       "  <thead>\n",
       "    <tr style=\"text-align: right;\">\n",
       "      <th></th>\n",
       "      <th>index_left</th>\n",
       "      <th>index_right</th>\n",
       "      <th>geometry</th>\n",
       "      <th>intersection_area</th>\n",
       "      <th>share_left</th>\n",
       "      <th>share_right</th>\n",
       "    </tr>\n",
       "  </thead>\n",
       "  <tbody>\n",
       "    <tr>\n",
       "      <th>0</th>\n",
       "      <td>0</td>\n",
       "      <td>3</td>\n",
       "      <td>POLYGON ((570883.081 6596530.057, 570886.131 6...</td>\n",
       "      <td>1.373078e+06</td>\n",
       "      <td>1.0</td>\n",
       "      <td>1.433325e-03</td>\n",
       "    </tr>\n",
       "    <tr>\n",
       "      <th>1</th>\n",
       "      <td>1</td>\n",
       "      <td>3</td>\n",
       "      <td>POLYGON ((570987.085 6596464.433, 570991.354 6...</td>\n",
       "      <td>7.709275e+02</td>\n",
       "      <td>1.0</td>\n",
       "      <td>8.047535e-07</td>\n",
       "    </tr>\n",
       "    <tr>\n",
       "      <th>2</th>\n",
       "      <td>2</td>\n",
       "      <td>3</td>\n",
       "      <td>POLYGON ((572676.701 6596607.098, 572675.654 6...</td>\n",
       "      <td>6.040730e+02</td>\n",
       "      <td>1.0</td>\n",
       "      <td>6.305779e-07</td>\n",
       "    </tr>\n",
       "    <tr>\n",
       "      <th>3</th>\n",
       "      <td>3</td>\n",
       "      <td>3</td>\n",
       "      <td>POLYGON ((583243.013 6595451.957, 583366.887 6...</td>\n",
       "      <td>4.519286e+04</td>\n",
       "      <td>1.0</td>\n",
       "      <td>4.717578e-05</td>\n",
       "    </tr>\n",
       "    <tr>\n",
       "      <th>4</th>\n",
       "      <td>4</td>\n",
       "      <td>3</td>\n",
       "      <td>POLYGON ((582405.614 6595459.459, 582434.970 6...</td>\n",
       "      <td>1.982999e+02</td>\n",
       "      <td>1.0</td>\n",
       "      <td>2.070007e-07</td>\n",
       "    </tr>\n",
       "  </tbody>\n",
       "</table>\n",
       "</div>"
      ],
      "text/plain": [
       "   index_left  index_right                                           geometry  \\\n",
       "0           0            3  POLYGON ((570883.081 6596530.057, 570886.131 6...   \n",
       "1           1            3  POLYGON ((570987.085 6596464.433, 570991.354 6...   \n",
       "2           2            3  POLYGON ((572676.701 6596607.098, 572675.654 6...   \n",
       "3           3            3  POLYGON ((583243.013 6595451.957, 583366.887 6...   \n",
       "4           4            3  POLYGON ((582405.614 6595459.459, 582434.970 6...   \n",
       "\n",
       "   intersection_area  share_left   share_right  \n",
       "0       1.373078e+06         1.0  1.433325e-03  \n",
       "1       7.709275e+02         1.0  8.047535e-07  \n",
       "2       6.040730e+02         1.0  6.305779e-07  \n",
       "3       4.519286e+04         1.0  4.717578e-05  \n",
       "4       1.982999e+02         1.0  2.070007e-07  "
      ]
     },
     "execution_count": 96,
     "metadata": {},
     "output_type": "execute_result"
    }
   ],
   "source": [
    "from blocksnet.utils.spatial import sjoin_intersections\n",
    "\n",
    "sjoin = sjoin_intersections(blocks[['geometry']], territories[['geometry']])\n",
    "sjoin.head()"
   ]
  },
  {
   "cell_type": "markdown",
   "metadata": {},
   "source": [
    "## Data preparation"
   ]
  },
  {
   "cell_type": "code",
   "execution_count": 97,
   "metadata": {},
   "outputs": [],
   "source": [
    "from blocksnet.enums import LandUse\n",
    "\n",
    "rules = {\n",
    "    \"residential\": LandUse.RESIDENTIAL,\n",
    "    \"business\" : LandUse.BUSINESS,\n",
    "    \"recreation\": LandUse.RECREATION,\n",
    "    \"industrial\" : LandUse.INDUSTRIAL,\n",
    "    \"transport\" : LandUse.TRANSPORT,\n",
    "    \"special\" : LandUse.SPECIAL,\n",
    "    \"agriculture\" : LandUse.AGRICULTURE,\n",
    "}"
   ]
  },
  {
   "cell_type": "code",
   "execution_count": 100,
   "metadata": {},
   "outputs": [
    {
     "data": {
      "text/plain": [
       "0            0\n",
       "1            1\n",
       "2            2\n",
       "3            3\n",
       "4            4\n",
       "         ...  \n",
       "475        378\n",
       "916        809\n",
       "919        810\n",
       "921        811\n",
       "35400    31937\n",
       "Name: index_left, Length: 81, dtype: int64"
      ]
     },
     "execution_count": 100,
     "metadata": {},
     "output_type": "execute_result"
    }
   ],
   "source": [
    "sjoin[sjoin.index_right == 3].index_left"
   ]
  },
  {
   "cell_type": "code",
   "execution_count": 102,
   "metadata": {},
   "outputs": [
    {
     "name": "stderr",
     "output_type": "stream",
     "text": [
      " 19%|█▉        | 36/187 [00:15<00:48,  3.14it/s]"
     ]
    },
    {
     "name": "stdout",
     "output_type": "stream",
     "text": [
      "Trouble with 42\n"
     ]
    },
    {
     "name": "stderr",
     "output_type": "stream",
     "text": [
      " 41%|████      | 76/187 [00:32<00:18,  5.96it/s]"
     ]
    },
    {
     "name": "stdout",
     "output_type": "stream",
     "text": [
      "Trouble with 84\n"
     ]
    },
    {
     "name": "stderr",
     "output_type": "stream",
     "text": [
      " 70%|███████   | 131/187 [00:46<00:04, 11.82it/s]"
     ]
    },
    {
     "name": "stdout",
     "output_type": "stream",
     "text": [
      "Trouble with 143\n"
     ]
    },
    {
     "name": "stderr",
     "output_type": "stream",
     "text": [
      "100%|██████████| 187/187 [01:10<00:00,  2.65it/s]\n"
     ]
    }
   ],
   "source": [
    "from blocksnet.blocks.assignment import assign_land_use\n",
    "from blocksnet.config import log_config\n",
    "from tqdm import tqdm\n",
    "\n",
    "log_config.set_logger_level('ERROR')\n",
    "\n",
    "def one_hot_land_use(blocks_gdf : gpd.GeoDataFrame):\n",
    "    blocks_gdf = blocks_gdf.copy()\n",
    "    columns = [lu.value for lu in LandUse]\n",
    "    for column in columns:\n",
    "        blocks_gdf[column] = blocks_gdf['lu_shares'].apply(lambda s : s[column] if isinstance(s,dict) and column in s else 0.0)\n",
    "    blocks_gdf['area'] = blocks_gdf.area\n",
    "    return blocks_gdf[['geometry', 'area', *columns]]\n",
    "\n",
    "def get_territory_blocks(territory_id : int, min_share : float = 0.5) -> gpd.GeoDataFrame:\n",
    "    blocks_ids = sjoin[(sjoin['index_right'] == territory_id) & (sjoin['share_left']>=min_share)]['index_left']\n",
    "    gdf = blocks.loc[blocks_ids]\n",
    "    fz = gpd.read_parquet(f'./data/prostor/{territory_id}_functional_zones.parquet').to_crs(gdf.crs)\n",
    "    assigned = assign_land_use(gdf[['geometry']], fz, rules)\n",
    "    one_hot = one_hot_land_use(assigned)\n",
    "    return one_hot\n",
    "\n",
    "territories_blocks = {}\n",
    "\n",
    "for territory_id in tqdm(territories.index):\n",
    "    try:\n",
    "        territory_blocks = get_territory_blocks(territory_id)\n",
    "        territories_blocks[territory_id] = territory_blocks\n",
    "    except:\n",
    "        print(f'Trouble with {territory_id}')"
   ]
  },
  {
   "cell_type": "markdown",
   "metadata": {},
   "source": [
    "## Learning"
   ]
  },
  {
   "cell_type": "code",
   "execution_count": null,
   "metadata": {},
   "outputs": [
    {
     "data": {
      "text/html": [
       "<div>\n",
       "<style scoped>\n",
       "    .dataframe tbody tr th:only-of-type {\n",
       "        vertical-align: middle;\n",
       "    }\n",
       "\n",
       "    .dataframe tbody tr th {\n",
       "        vertical-align: top;\n",
       "    }\n",
       "\n",
       "    .dataframe thead th {\n",
       "        text-align: right;\n",
       "    }\n",
       "</style>\n",
       "<table border=\"1\" class=\"dataframe\">\n",
       "  <thead>\n",
       "    <tr style=\"text-align: right;\">\n",
       "      <th></th>\n",
       "      <th>geometry</th>\n",
       "      <th>area</th>\n",
       "      <th>residential</th>\n",
       "      <th>business</th>\n",
       "      <th>recreation</th>\n",
       "      <th>industrial</th>\n",
       "      <th>transport</th>\n",
       "      <th>special</th>\n",
       "      <th>agriculture</th>\n",
       "    </tr>\n",
       "  </thead>\n",
       "  <tbody>\n",
       "    <tr>\n",
       "      <th>0</th>\n",
       "      <td>POLYGON ((570883.045 6596529.946, 570883.081 6...</td>\n",
       "      <td>1.373078e+06</td>\n",
       "      <td>0.387554</td>\n",
       "      <td>0.0</td>\n",
       "      <td>0.029253</td>\n",
       "      <td>0.092349</td>\n",
       "      <td>0.0</td>\n",
       "      <td>0.0</td>\n",
       "      <td>0.0</td>\n",
       "    </tr>\n",
       "    <tr>\n",
       "      <th>1</th>\n",
       "      <td>POLYGON ((570987.035 6596464.499, 570987.085 6...</td>\n",
       "      <td>7.709275e+02</td>\n",
       "      <td>0.000000</td>\n",
       "      <td>0.0</td>\n",
       "      <td>0.000000</td>\n",
       "      <td>0.000000</td>\n",
       "      <td>0.0</td>\n",
       "      <td>0.0</td>\n",
       "      <td>0.0</td>\n",
       "    </tr>\n",
       "    <tr>\n",
       "      <th>2</th>\n",
       "      <td>POLYGON ((572676.730 6596606.982, 572676.701 6...</td>\n",
       "      <td>6.040730e+02</td>\n",
       "      <td>0.000000</td>\n",
       "      <td>0.0</td>\n",
       "      <td>0.000000</td>\n",
       "      <td>0.000000</td>\n",
       "      <td>0.0</td>\n",
       "      <td>0.0</td>\n",
       "      <td>0.0</td>\n",
       "    </tr>\n",
       "    <tr>\n",
       "      <th>3</th>\n",
       "      <td>POLYGON ((583242.895 6595451.954, 583243.013 6...</td>\n",
       "      <td>4.519286e+04</td>\n",
       "      <td>0.000000</td>\n",
       "      <td>0.0</td>\n",
       "      <td>0.000000</td>\n",
       "      <td>0.000000</td>\n",
       "      <td>0.0</td>\n",
       "      <td>0.0</td>\n",
       "      <td>0.0</td>\n",
       "    </tr>\n",
       "    <tr>\n",
       "      <th>4</th>\n",
       "      <td>POLYGON ((582405.498 6595459.455, 582405.614 6...</td>\n",
       "      <td>1.982999e+02</td>\n",
       "      <td>0.000000</td>\n",
       "      <td>0.0</td>\n",
       "      <td>0.000000</td>\n",
       "      <td>0.000000</td>\n",
       "      <td>0.0</td>\n",
       "      <td>0.0</td>\n",
       "      <td>0.0</td>\n",
       "    </tr>\n",
       "    <tr>\n",
       "      <th>...</th>\n",
       "      <td>...</td>\n",
       "      <td>...</td>\n",
       "      <td>...</td>\n",
       "      <td>...</td>\n",
       "      <td>...</td>\n",
       "      <td>...</td>\n",
       "      <td>...</td>\n",
       "      <td>...</td>\n",
       "      <td>...</td>\n",
       "    </tr>\n",
       "    <tr>\n",
       "      <th>59</th>\n",
       "      <td>POLYGON ((571304.120 6605720.084, 571304.118 6...</td>\n",
       "      <td>2.730813e+02</td>\n",
       "      <td>0.000000</td>\n",
       "      <td>0.0</td>\n",
       "      <td>1.000000</td>\n",
       "      <td>0.000000</td>\n",
       "      <td>0.0</td>\n",
       "      <td>0.0</td>\n",
       "      <td>0.0</td>\n",
       "    </tr>\n",
       "    <tr>\n",
       "      <th>60</th>\n",
       "      <td>POLYGON ((570889.202 6605877.085, 570889.276 6...</td>\n",
       "      <td>7.257186e+02</td>\n",
       "      <td>0.000000</td>\n",
       "      <td>0.0</td>\n",
       "      <td>0.999779</td>\n",
       "      <td>0.000000</td>\n",
       "      <td>0.0</td>\n",
       "      <td>0.0</td>\n",
       "      <td>0.0</td>\n",
       "    </tr>\n",
       "    <tr>\n",
       "      <th>61</th>\n",
       "      <td>POLYGON ((575243.396 6585767.008, 575243.385 6...</td>\n",
       "      <td>7.874966e+03</td>\n",
       "      <td>0.000000</td>\n",
       "      <td>0.0</td>\n",
       "      <td>0.000000</td>\n",
       "      <td>0.000000</td>\n",
       "      <td>0.0</td>\n",
       "      <td>0.0</td>\n",
       "      <td>0.0</td>\n",
       "    </tr>\n",
       "    <tr>\n",
       "      <th>62</th>\n",
       "      <td>POLYGON ((578341.885 6602161.266, 578341.942 6...</td>\n",
       "      <td>8.430962e+02</td>\n",
       "      <td>0.000000</td>\n",
       "      <td>0.0</td>\n",
       "      <td>0.000000</td>\n",
       "      <td>0.000000</td>\n",
       "      <td>0.0</td>\n",
       "      <td>0.0</td>\n",
       "      <td>0.0</td>\n",
       "    </tr>\n",
       "    <tr>\n",
       "      <th>63</th>\n",
       "      <td>POLYGON ((578612.016 6602085.015, 578612.040 6...</td>\n",
       "      <td>1.519138e+03</td>\n",
       "      <td>0.000000</td>\n",
       "      <td>0.0</td>\n",
       "      <td>0.000000</td>\n",
       "      <td>0.000000</td>\n",
       "      <td>0.0</td>\n",
       "      <td>0.0</td>\n",
       "      <td>0.0</td>\n",
       "    </tr>\n",
       "  </tbody>\n",
       "</table>\n",
       "<p>64 rows × 9 columns</p>\n",
       "</div>"
      ],
      "text/plain": [
       "                                             geometry          area  \\\n",
       "0   POLYGON ((570883.045 6596529.946, 570883.081 6...  1.373078e+06   \n",
       "1   POLYGON ((570987.035 6596464.499, 570987.085 6...  7.709275e+02   \n",
       "2   POLYGON ((572676.730 6596606.982, 572676.701 6...  6.040730e+02   \n",
       "3   POLYGON ((583242.895 6595451.954, 583243.013 6...  4.519286e+04   \n",
       "4   POLYGON ((582405.498 6595459.455, 582405.614 6...  1.982999e+02   \n",
       "..                                                ...           ...   \n",
       "59  POLYGON ((571304.120 6605720.084, 571304.118 6...  2.730813e+02   \n",
       "60  POLYGON ((570889.202 6605877.085, 570889.276 6...  7.257186e+02   \n",
       "61  POLYGON ((575243.396 6585767.008, 575243.385 6...  7.874966e+03   \n",
       "62  POLYGON ((578341.885 6602161.266, 578341.942 6...  8.430962e+02   \n",
       "63  POLYGON ((578612.016 6602085.015, 578612.040 6...  1.519138e+03   \n",
       "\n",
       "    residential  business  recreation  industrial  transport  special  \\\n",
       "0      0.387554       0.0    0.029253    0.092349        0.0      0.0   \n",
       "1      0.000000       0.0    0.000000    0.000000        0.0      0.0   \n",
       "2      0.000000       0.0    0.000000    0.000000        0.0      0.0   \n",
       "3      0.000000       0.0    0.000000    0.000000        0.0      0.0   \n",
       "4      0.000000       0.0    0.000000    0.000000        0.0      0.0   \n",
       "..          ...       ...         ...         ...        ...      ...   \n",
       "59     0.000000       0.0    1.000000    0.000000        0.0      0.0   \n",
       "60     0.000000       0.0    0.999779    0.000000        0.0      0.0   \n",
       "61     0.000000       0.0    0.000000    0.000000        0.0      0.0   \n",
       "62     0.000000       0.0    0.000000    0.000000        0.0      0.0   \n",
       "63     0.000000       0.0    0.000000    0.000000        0.0      0.0   \n",
       "\n",
       "    agriculture  \n",
       "0           0.0  \n",
       "1           0.0  \n",
       "2           0.0  \n",
       "3           0.0  \n",
       "4           0.0  \n",
       "..          ...  \n",
       "59          0.0  \n",
       "60          0.0  \n",
       "61          0.0  \n",
       "62          0.0  \n",
       "63          0.0  \n",
       "\n",
       "[64 rows x 9 columns]"
      ]
     },
     "execution_count": 181,
     "metadata": {},
     "output_type": "execute_result"
    }
   ],
   "source": [
    "territories_blocks[3]\n"
   ]
  },
  {
   "cell_type": "code",
   "execution_count": 263,
   "metadata": {},
   "outputs": [
    {
     "data": {
      "text/html": [
       "<div>\n",
       "<style scoped>\n",
       "    .dataframe tbody tr th:only-of-type {\n",
       "        vertical-align: middle;\n",
       "    }\n",
       "\n",
       "    .dataframe tbody tr th {\n",
       "        vertical-align: top;\n",
       "    }\n",
       "\n",
       "    .dataframe thead th {\n",
       "        text-align: right;\n",
       "    }\n",
       "</style>\n",
       "<table border=\"1\" class=\"dataframe\">\n",
       "  <thead>\n",
       "    <tr style=\"text-align: right;\">\n",
       "      <th></th>\n",
       "      <th>area</th>\n",
       "      <th>residential</th>\n",
       "      <th>business</th>\n",
       "      <th>recreation</th>\n",
       "      <th>industrial</th>\n",
       "      <th>transport</th>\n",
       "      <th>special</th>\n",
       "      <th>agriculture</th>\n",
       "    </tr>\n",
       "  </thead>\n",
       "  <tbody>\n",
       "    <tr>\n",
       "      <th>3</th>\n",
       "      <td>9.416984e+08</td>\n",
       "      <td>0.007960</td>\n",
       "      <td>0.0</td>\n",
       "      <td>0.031091</td>\n",
       "      <td>0.004536</td>\n",
       "      <td>0.0</td>\n",
       "      <td>0.000035</td>\n",
       "      <td>0.010508</td>\n",
       "    </tr>\n",
       "    <tr>\n",
       "      <th>4</th>\n",
       "      <td>7.278965e+08</td>\n",
       "      <td>0.008568</td>\n",
       "      <td>0.0</td>\n",
       "      <td>0.100588</td>\n",
       "      <td>0.000313</td>\n",
       "      <td>0.0</td>\n",
       "      <td>0.000097</td>\n",
       "      <td>0.004310</td>\n",
       "    </tr>\n",
       "    <tr>\n",
       "      <th>5</th>\n",
       "      <td>4.384971e+07</td>\n",
       "      <td>0.114069</td>\n",
       "      <td>0.0</td>\n",
       "      <td>0.061521</td>\n",
       "      <td>0.043203</td>\n",
       "      <td>0.0</td>\n",
       "      <td>0.004793</td>\n",
       "      <td>0.001448</td>\n",
       "    </tr>\n",
       "    <tr>\n",
       "      <th>6</th>\n",
       "      <td>6.911962e+08</td>\n",
       "      <td>0.004723</td>\n",
       "      <td>0.0</td>\n",
       "      <td>0.092466</td>\n",
       "      <td>0.016979</td>\n",
       "      <td>0.0</td>\n",
       "      <td>0.000002</td>\n",
       "      <td>0.002691</td>\n",
       "    </tr>\n",
       "    <tr>\n",
       "      <th>7</th>\n",
       "      <td>2.557476e+08</td>\n",
       "      <td>0.021850</td>\n",
       "      <td>0.0</td>\n",
       "      <td>0.050808</td>\n",
       "      <td>0.001148</td>\n",
       "      <td>0.0</td>\n",
       "      <td>0.000549</td>\n",
       "      <td>0.005088</td>\n",
       "    </tr>\n",
       "  </tbody>\n",
       "</table>\n",
       "</div>"
      ],
      "text/plain": [
       "           area  residential  business  recreation  industrial  transport  \\\n",
       "3  9.416984e+08     0.007960       0.0    0.031091    0.004536        0.0   \n",
       "4  7.278965e+08     0.008568       0.0    0.100588    0.000313        0.0   \n",
       "5  4.384971e+07     0.114069       0.0    0.061521    0.043203        0.0   \n",
       "6  6.911962e+08     0.004723       0.0    0.092466    0.016979        0.0   \n",
       "7  2.557476e+08     0.021850       0.0    0.050808    0.001148        0.0   \n",
       "\n",
       "    special  agriculture  \n",
       "3  0.000035     0.010508  \n",
       "4  0.000097     0.004310  \n",
       "5  0.004793     0.001448  \n",
       "6  0.000002     0.002691  \n",
       "7  0.000549     0.005088  "
      ]
     },
     "execution_count": 263,
     "metadata": {},
     "output_type": "execute_result"
    }
   ],
   "source": [
    "import pandas as pd\n",
    "\n",
    "series_list = {}\n",
    "for territory_id, territory_blocks in territories_blocks.items():\n",
    "    area = territory_blocks['area'].sum()\n",
    "    lus = {}\n",
    "    for lu in LandUse:\n",
    "        series = territory_blocks.apply(lambda s : s[lu.value] * s['area'], axis=1)\n",
    "        lu_area = series.sum()\n",
    "        lus[lu.value] = lu_area / area\n",
    "    series_list[territory_id] = pd.Series({'area': area, **lus})\n",
    "\n",
    "X = pd.DataFrame.from_dict(series_list, orient='index')\n",
    "X.head()"
   ]
  },
  {
   "cell_type": "code",
   "execution_count": 264,
   "metadata": {},
   "outputs": [
    {
     "data": {
      "text/html": [
       "<div>\n",
       "<style scoped>\n",
       "    .dataframe tbody tr th:only-of-type {\n",
       "        vertical-align: middle;\n",
       "    }\n",
       "\n",
       "    .dataframe tbody tr th {\n",
       "        vertical-align: top;\n",
       "    }\n",
       "\n",
       "    .dataframe thead th {\n",
       "        text-align: right;\n",
       "    }\n",
       "</style>\n",
       "<table border=\"1\" class=\"dataframe\">\n",
       "  <thead>\n",
       "    <tr style=\"text-align: right;\">\n",
       "      <th></th>\n",
       "      <th>population</th>\n",
       "    </tr>\n",
       "  </thead>\n",
       "  <tbody>\n",
       "    <tr>\n",
       "      <th>3</th>\n",
       "      <td>2154.0</td>\n",
       "    </tr>\n",
       "    <tr>\n",
       "      <th>4</th>\n",
       "      <td>1698.0</td>\n",
       "    </tr>\n",
       "    <tr>\n",
       "      <th>5</th>\n",
       "      <td>20169.0</td>\n",
       "    </tr>\n",
       "    <tr>\n",
       "      <th>6</th>\n",
       "      <td>3393.0</td>\n",
       "    </tr>\n",
       "    <tr>\n",
       "      <th>7</th>\n",
       "      <td>15960.0</td>\n",
       "    </tr>\n",
       "  </tbody>\n",
       "</table>\n",
       "</div>"
      ],
      "text/plain": [
       "   population\n",
       "3      2154.0\n",
       "4      1698.0\n",
       "5     20169.0\n",
       "6      3393.0\n",
       "7     15960.0"
      ]
     },
     "execution_count": 264,
     "metadata": {},
     "output_type": "execute_result"
    }
   ],
   "source": [
    "Y = territories.loc[X.index, ['population']]\n",
    "Y.head()"
   ]
  },
  {
   "cell_type": "code",
   "execution_count": 304,
   "metadata": {},
   "outputs": [
    {
     "data": {
      "text/html": [
       "<div>\n",
       "<style scoped>\n",
       "    .dataframe tbody tr th:only-of-type {\n",
       "        vertical-align: middle;\n",
       "    }\n",
       "\n",
       "    .dataframe tbody tr th {\n",
       "        vertical-align: top;\n",
       "    }\n",
       "\n",
       "    .dataframe thead th {\n",
       "        text-align: right;\n",
       "    }\n",
       "</style>\n",
       "<table border=\"1\" class=\"dataframe\">\n",
       "  <thead>\n",
       "    <tr style=\"text-align: right;\">\n",
       "      <th></th>\n",
       "      <th>area</th>\n",
       "      <th>residential</th>\n",
       "      <th>business</th>\n",
       "      <th>recreation</th>\n",
       "      <th>industrial</th>\n",
       "      <th>transport</th>\n",
       "      <th>special</th>\n",
       "      <th>agriculture</th>\n",
       "      <th>population</th>\n",
       "    </tr>\n",
       "  </thead>\n",
       "  <tbody>\n",
       "    <tr>\n",
       "      <th>3</th>\n",
       "      <td>9.416984e+08</td>\n",
       "      <td>0.007960</td>\n",
       "      <td>0.0</td>\n",
       "      <td>0.031091</td>\n",
       "      <td>0.004536</td>\n",
       "      <td>0.0</td>\n",
       "      <td>0.000035</td>\n",
       "      <td>0.010508</td>\n",
       "      <td>2154.0</td>\n",
       "    </tr>\n",
       "    <tr>\n",
       "      <th>4</th>\n",
       "      <td>7.278965e+08</td>\n",
       "      <td>0.008568</td>\n",
       "      <td>0.0</td>\n",
       "      <td>0.100588</td>\n",
       "      <td>0.000313</td>\n",
       "      <td>0.0</td>\n",
       "      <td>0.000097</td>\n",
       "      <td>0.004310</td>\n",
       "      <td>1698.0</td>\n",
       "    </tr>\n",
       "    <tr>\n",
       "      <th>5</th>\n",
       "      <td>4.384971e+07</td>\n",
       "      <td>0.114069</td>\n",
       "      <td>0.0</td>\n",
       "      <td>0.061521</td>\n",
       "      <td>0.043203</td>\n",
       "      <td>0.0</td>\n",
       "      <td>0.004793</td>\n",
       "      <td>0.001448</td>\n",
       "      <td>20169.0</td>\n",
       "    </tr>\n",
       "    <tr>\n",
       "      <th>6</th>\n",
       "      <td>6.911962e+08</td>\n",
       "      <td>0.004723</td>\n",
       "      <td>0.0</td>\n",
       "      <td>0.092466</td>\n",
       "      <td>0.016979</td>\n",
       "      <td>0.0</td>\n",
       "      <td>0.000002</td>\n",
       "      <td>0.002691</td>\n",
       "      <td>3393.0</td>\n",
       "    </tr>\n",
       "    <tr>\n",
       "      <th>7</th>\n",
       "      <td>2.557476e+08</td>\n",
       "      <td>0.021850</td>\n",
       "      <td>0.0</td>\n",
       "      <td>0.050808</td>\n",
       "      <td>0.001148</td>\n",
       "      <td>0.0</td>\n",
       "      <td>0.000549</td>\n",
       "      <td>0.005088</td>\n",
       "      <td>15960.0</td>\n",
       "    </tr>\n",
       "  </tbody>\n",
       "</table>\n",
       "</div>"
      ],
      "text/plain": [
       "           area  residential  business  recreation  industrial  transport  \\\n",
       "3  9.416984e+08     0.007960       0.0    0.031091    0.004536        0.0   \n",
       "4  7.278965e+08     0.008568       0.0    0.100588    0.000313        0.0   \n",
       "5  4.384971e+07     0.114069       0.0    0.061521    0.043203        0.0   \n",
       "6  6.911962e+08     0.004723       0.0    0.092466    0.016979        0.0   \n",
       "7  2.557476e+08     0.021850       0.0    0.050808    0.001148        0.0   \n",
       "\n",
       "    special  agriculture  population  \n",
       "3  0.000035     0.010508      2154.0  \n",
       "4  0.000097     0.004310      1698.0  \n",
       "5  0.004793     0.001448     20169.0  \n",
       "6  0.000002     0.002691      3393.0  \n",
       "7  0.000549     0.005088     15960.0  "
      ]
     },
     "execution_count": 304,
     "metadata": {},
     "output_type": "execute_result"
    }
   ],
   "source": [
    "XY = X.join(Y)\n",
    "XY.head()"
   ]
  },
  {
   "cell_type": "code",
   "execution_count": 317,
   "metadata": {},
   "outputs": [],
   "source": [
    "from sklearn.preprocessing import StandardScaler\n",
    "\n",
    "scaler = StandardScaler()\n",
    "X_scaled = scaler.fit_transform(XY.drop(columns=['population']))\n",
    "Y_scaled = scaler.fit_transform(XY[['population']])"
   ]
  },
  {
   "cell_type": "code",
   "execution_count": 320,
   "metadata": {},
   "outputs": [],
   "source": [
    "from sklearn.model_selection import train_test_split\n",
    "\n",
    "X_train, X_test, Y_train, Y_test = train_test_split(X_scaled, Y_scaled, test_size=0.2, random_state=42)"
   ]
  },
  {
   "cell_type": "code",
   "execution_count": 347,
   "metadata": {},
   "outputs": [
    {
     "data": {
      "text/html": [
       "<style>#sk-container-id-21 {color: black;background-color: white;}#sk-container-id-21 pre{padding: 0;}#sk-container-id-21 div.sk-toggleable {background-color: white;}#sk-container-id-21 label.sk-toggleable__label {cursor: pointer;display: block;width: 100%;margin-bottom: 0;padding: 0.3em;box-sizing: border-box;text-align: center;}#sk-container-id-21 label.sk-toggleable__label-arrow:before {content: \"▸\";float: left;margin-right: 0.25em;color: #696969;}#sk-container-id-21 label.sk-toggleable__label-arrow:hover:before {color: black;}#sk-container-id-21 div.sk-estimator:hover label.sk-toggleable__label-arrow:before {color: black;}#sk-container-id-21 div.sk-toggleable__content {max-height: 0;max-width: 0;overflow: hidden;text-align: left;background-color: #f0f8ff;}#sk-container-id-21 div.sk-toggleable__content pre {margin: 0.2em;color: black;border-radius: 0.25em;background-color: #f0f8ff;}#sk-container-id-21 input.sk-toggleable__control:checked~div.sk-toggleable__content {max-height: 200px;max-width: 100%;overflow: auto;}#sk-container-id-21 input.sk-toggleable__control:checked~label.sk-toggleable__label-arrow:before {content: \"▾\";}#sk-container-id-21 div.sk-estimator input.sk-toggleable__control:checked~label.sk-toggleable__label {background-color: #d4ebff;}#sk-container-id-21 div.sk-label input.sk-toggleable__control:checked~label.sk-toggleable__label {background-color: #d4ebff;}#sk-container-id-21 input.sk-hidden--visually {border: 0;clip: rect(1px 1px 1px 1px);clip: rect(1px, 1px, 1px, 1px);height: 1px;margin: -1px;overflow: hidden;padding: 0;position: absolute;width: 1px;}#sk-container-id-21 div.sk-estimator {font-family: monospace;background-color: #f0f8ff;border: 1px dotted black;border-radius: 0.25em;box-sizing: border-box;margin-bottom: 0.5em;}#sk-container-id-21 div.sk-estimator:hover {background-color: #d4ebff;}#sk-container-id-21 div.sk-parallel-item::after {content: \"\";width: 100%;border-bottom: 1px solid gray;flex-grow: 1;}#sk-container-id-21 div.sk-label:hover label.sk-toggleable__label {background-color: #d4ebff;}#sk-container-id-21 div.sk-serial::before {content: \"\";position: absolute;border-left: 1px solid gray;box-sizing: border-box;top: 0;bottom: 0;left: 50%;z-index: 0;}#sk-container-id-21 div.sk-serial {display: flex;flex-direction: column;align-items: center;background-color: white;padding-right: 0.2em;padding-left: 0.2em;position: relative;}#sk-container-id-21 div.sk-item {position: relative;z-index: 1;}#sk-container-id-21 div.sk-parallel {display: flex;align-items: stretch;justify-content: center;background-color: white;position: relative;}#sk-container-id-21 div.sk-item::before, #sk-container-id-21 div.sk-parallel-item::before {content: \"\";position: absolute;border-left: 1px solid gray;box-sizing: border-box;top: 0;bottom: 0;left: 50%;z-index: -1;}#sk-container-id-21 div.sk-parallel-item {display: flex;flex-direction: column;z-index: 1;position: relative;background-color: white;}#sk-container-id-21 div.sk-parallel-item:first-child::after {align-self: flex-end;width: 50%;}#sk-container-id-21 div.sk-parallel-item:last-child::after {align-self: flex-start;width: 50%;}#sk-container-id-21 div.sk-parallel-item:only-child::after {width: 0;}#sk-container-id-21 div.sk-dashed-wrapped {border: 1px dashed gray;margin: 0 0.4em 0.5em 0.4em;box-sizing: border-box;padding-bottom: 0.4em;background-color: white;}#sk-container-id-21 div.sk-label label {font-family: monospace;font-weight: bold;display: inline-block;line-height: 1.2em;}#sk-container-id-21 div.sk-label-container {text-align: center;}#sk-container-id-21 div.sk-container {/* jupyter's `normalize.less` sets `[hidden] { display: none; }` but bootstrap.min.css set `[hidden] { display: none !important; }` so we also need the `!important` here to be able to override the default hidden behavior on the sphinx rendered scikit-learn.org. See: https://github.com/scikit-learn/scikit-learn/issues/21755 */display: inline-block !important;position: relative;}#sk-container-id-21 div.sk-text-repr-fallback {display: none;}</style><div id=\"sk-container-id-21\" class=\"sk-top-container\"><div class=\"sk-text-repr-fallback\"><pre>RandomForestRegressor(random_state=42)</pre><b>In a Jupyter environment, please rerun this cell to show the HTML representation or trust the notebook. <br />On GitHub, the HTML representation is unable to render, please try loading this page with nbviewer.org.</b></div><div class=\"sk-container\" hidden><div class=\"sk-item\"><div class=\"sk-estimator sk-toggleable\"><input class=\"sk-toggleable__control sk-hidden--visually\" id=\"sk-estimator-id-21\" type=\"checkbox\" checked><label for=\"sk-estimator-id-21\" class=\"sk-toggleable__label sk-toggleable__label-arrow\">RandomForestRegressor</label><div class=\"sk-toggleable__content\"><pre>RandomForestRegressor(random_state=42)</pre></div></div></div></div></div>"
      ],
      "text/plain": [
       "RandomForestRegressor(random_state=42)"
      ]
     },
     "execution_count": 347,
     "metadata": {},
     "output_type": "execute_result"
    }
   ],
   "source": [
    "from sklearn.ensemble import RandomForestRegressor\n",
    "\n",
    "model = RandomForestRegressor(random_state=42)\n",
    "model.fit(X_train, Y_train.ravel())"
   ]
  },
  {
   "cell_type": "markdown",
   "metadata": {},
   "source": [
    "## Test"
   ]
  },
  {
   "cell_type": "code",
   "execution_count": 349,
   "metadata": {},
   "outputs": [
    {
     "data": {
      "text/plain": [
       "array([[ 2096.75],\n",
       "       [21098.11],\n",
       "       [ 6209.5 ],\n",
       "       [20276.81],\n",
       "       [21060.48],\n",
       "       [ 1531.65],\n",
       "       [21974.35],\n",
       "       [27096.65],\n",
       "       [ 3285.91],\n",
       "       [28164.86],\n",
       "       [12580.39],\n",
       "       [ 2409.28],\n",
       "       [19915.47],\n",
       "       [10957.11],\n",
       "       [10037.33],\n",
       "       [ 2186.36],\n",
       "       [13217.07],\n",
       "       [12300.15],\n",
       "       [ 5884.95],\n",
       "       [ 2570.12],\n",
       "       [10550.17],\n",
       "       [ 3740.75],\n",
       "       [17714.11],\n",
       "       [ 4051.21],\n",
       "       [ 2965.88],\n",
       "       [ 6210.72],\n",
       "       [ 8763.08],\n",
       "       [ 6402.32],\n",
       "       [ 1342.81],\n",
       "       [27164.56],\n",
       "       [ 2780.89],\n",
       "       [ 4119.83],\n",
       "       [12870.91],\n",
       "       [ 3612.01],\n",
       "       [21314.81],\n",
       "       [21948.5 ],\n",
       "       [17438.23]])"
      ]
     },
     "execution_count": 349,
     "metadata": {},
     "output_type": "execute_result"
    }
   ],
   "source": [
    "Y_pred = model.predict(X_test)\n",
    "scaler.inverse_transform(Y_pred.reshape(-1,1))"
   ]
  },
  {
   "cell_type": "code",
   "execution_count": 350,
   "metadata": {},
   "outputs": [
    {
     "name": "stdout",
     "output_type": "stream",
     "text": [
      "RMSE: 1.2343557887625838\n"
     ]
    }
   ],
   "source": [
    "from sklearn.metrics import mean_squared_error\n",
    "import numpy as np\n",
    "\n",
    "mse = mean_squared_error(Y_test, Y_pred)\n",
    "rmse = np.sqrt(mse)\n",
    "print(f\"RMSE: {rmse}\")"
   ]
  },
  {
   "cell_type": "markdown",
   "metadata": {},
   "source": [
    "### Catboost"
   ]
  },
  {
   "cell_type": "code",
   "execution_count": 372,
   "metadata": {},
   "outputs": [
    {
     "data": {
      "text/plain": [
       "<catboost.core.CatBoostRegressor at 0x7fd33396b550>"
      ]
     },
     "execution_count": 372,
     "metadata": {},
     "output_type": "execute_result"
    }
   ],
   "source": [
    "import catboost as cb\n",
    "\n",
    "model = cb.CatBoostRegressor(iterations=10_000, learning_rate=3e-4, depth=6, loss_function='RMSE', random_state=42, verbose=0)\n",
    "model.fit(X_train, Y_train)"
   ]
  },
  {
   "cell_type": "code",
   "execution_count": 373,
   "metadata": {},
   "outputs": [
    {
     "name": "stdout",
     "output_type": "stream",
     "text": [
      "RMSE: 1.2547568473635153\n"
     ]
    }
   ],
   "source": [
    "rmse = np.sqrt(mean_squared_error(y_test, predictions))\n",
    "print(f\"RMSE: {rmse}\")"
   ]
  },
  {
   "cell_type": "code",
   "execution_count": 374,
   "metadata": {},
   "outputs": [
    {
     "data": {
      "text/plain": [
       "array([-0.38824748,  0.33648091, -0.31678497,  0.38331246,  0.31746904,\n",
       "       -0.46160493,  0.25778159,  0.09111776, -0.26212448,  0.85476212,\n",
       "       -0.05135453, -0.36531381,  0.03044619,  0.0757662 , -0.14742569,\n",
       "       -0.4369942 ,  0.12758316,  0.14251729, -0.22356824, -0.31052818,\n",
       "        0.0508255 , -0.2488922 ,  0.28002604, -0.22675012, -0.36729836,\n",
       "       -0.15623823, -0.03188415, -0.07596782, -0.43270438,  0.1457493 ,\n",
       "       -0.39247102, -0.31993416,  0.18076454, -0.29477378,  0.17565201,\n",
       "        0.03083624, -0.12719537])"
      ]
     },
     "execution_count": 374,
     "metadata": {},
     "output_type": "execute_result"
    }
   ],
   "source": [
    "Y_pred = model.predict(X_test)\n",
    "Y_pred"
   ]
  },
  {
   "cell_type": "code",
   "execution_count": 375,
   "metadata": {},
   "outputs": [
    {
     "data": {
      "text/plain": [
       "array([[ 4560.],\n",
       "       [15726.],\n",
       "       [ 1525.],\n",
       "       [ 4040.],\n",
       "       [ 3916.],\n",
       "       [ 1043.],\n",
       "       [37955.],\n",
       "       [25764.],\n",
       "       [ 3006.],\n",
       "       [28128.],\n",
       "       [ 3754.],\n",
       "       [  463.],\n",
       "       [ 9767.],\n",
       "       [22949.],\n",
       "       [14260.],\n",
       "       [ 2709.],\n",
       "       [22155.],\n",
       "       [ 8053.],\n",
       "       [ 1250.],\n",
       "       [ 9935.],\n",
       "       [56597.],\n",
       "       [ 4827.],\n",
       "       [ 1788.],\n",
       "       [79548.],\n",
       "       [ 1676.],\n",
       "       [ 1260.],\n",
       "       [ 8936.],\n",
       "       [  655.],\n",
       "       [  612.],\n",
       "       [ 8528.],\n",
       "       [ 3965.],\n",
       "       [14766.],\n",
       "       [ 4849.],\n",
       "       [ 2849.],\n",
       "       [ 6410.],\n",
       "       [87440.],\n",
       "       [ 3060.]])"
      ]
     },
     "execution_count": 375,
     "metadata": {},
     "output_type": "execute_result"
    }
   ],
   "source": [
    "scaler.inverse_transform(Y_test)"
   ]
  },
  {
   "cell_type": "code",
   "execution_count": 376,
   "metadata": {},
   "outputs": [
    {
     "data": {
      "text/plain": [
       "array([[ 3923.05742908],\n",
       "       [15654.50005929],\n",
       "       [ 5079.84711866],\n",
       "       [16412.57940071],\n",
       "       [15346.74801025],\n",
       "       [ 2735.5936513 ],\n",
       "       [14380.56545264],\n",
       "       [11682.71732821],\n",
       "       [ 5964.65630135],\n",
       "       [24044.10679886],\n",
       "       [ 9376.466328  ],\n",
       "       [ 4294.29306067],\n",
       "       [10700.60450925],\n",
       "       [11434.21598866],\n",
       "       [ 7821.32747446],\n",
       "       [ 3133.9764127 ],\n",
       "       [12272.99601561],\n",
       "       [12514.74021824],\n",
       "       [ 6588.78020631],\n",
       "       [ 5181.1279998 ],\n",
       "       [11030.49168516],\n",
       "       [ 6178.85216825],\n",
       "       [14740.64448856],\n",
       "       [ 6537.2739771 ],\n",
       "       [ 4262.16837553],\n",
       "       [ 7678.67567879],\n",
       "       [ 9691.64046222],\n",
       "       [ 8978.0421379 ],\n",
       "       [ 3203.41740572],\n",
       "       [12567.05784554],\n",
       "       [ 3854.68945643],\n",
       "       [ 5028.86997986],\n",
       "       [13133.86231594],\n",
       "       [ 5436.15020117],\n",
       "       [13051.10392946],\n",
       "       [10706.91835139],\n",
       "       [ 8148.80303058]])"
      ]
     },
     "execution_count": 376,
     "metadata": {},
     "output_type": "execute_result"
    }
   ],
   "source": [
    "scaler.inverse_transform(Y_pred.reshape(-1,1))"
   ]
  }
 ],
 "metadata": {
  "kernelspec": {
   "display_name": ".venv",
   "language": "python",
   "name": "python3"
  },
  "language_info": {
   "codemirror_mode": {
    "name": "ipython",
    "version": 3
   },
   "file_extension": ".py",
   "mimetype": "text/x-python",
   "name": "python",
   "nbconvert_exporter": "python",
   "pygments_lexer": "ipython3",
   "version": "3.10.12"
  }
 },
 "nbformat": 4,
 "nbformat_minor": 2
}
