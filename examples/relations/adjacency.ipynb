{
 "cells": [
  {
   "cell_type": "code",
   "execution_count": 4,
   "metadata": {},
   "outputs": [
    {
     "data": {
      "text/html": [
       "<div>\n",
       "<style scoped>\n",
       "    .dataframe tbody tr th:only-of-type {\n",
       "        vertical-align: middle;\n",
       "    }\n",
       "\n",
       "    .dataframe tbody tr th {\n",
       "        vertical-align: top;\n",
       "    }\n",
       "\n",
       "    .dataframe thead th {\n",
       "        text-align: right;\n",
       "    }\n",
       "</style>\n",
       "<table border=\"1\" class=\"dataframe\">\n",
       "  <thead>\n",
       "    <tr style=\"text-align: right;\">\n",
       "      <th></th>\n",
       "      <th>geometry</th>\n",
       "    </tr>\n",
       "    <tr>\n",
       "      <th>id</th>\n",
       "      <th></th>\n",
       "    </tr>\n",
       "  </thead>\n",
       "  <tbody>\n",
       "    <tr>\n",
       "      <th>0</th>\n",
       "      <td>POLYGON ((354918.622 6625258.829, 354901.464 6...</td>\n",
       "    </tr>\n",
       "    <tr>\n",
       "      <th>1</th>\n",
       "      <td>POLYGON ((355412.142 6623378.149, 355411.700 6...</td>\n",
       "    </tr>\n",
       "    <tr>\n",
       "      <th>2</th>\n",
       "      <td>POLYGON ((353934.329 6625429.433, 353923.453 6...</td>\n",
       "    </tr>\n",
       "    <tr>\n",
       "      <th>3</th>\n",
       "      <td>POLYGON ((355099.099 6623847.765, 355074.808 6...</td>\n",
       "    </tr>\n",
       "    <tr>\n",
       "      <th>4</th>\n",
       "      <td>POLYGON ((352766.168 6621954.748, 352744.412 6...</td>\n",
       "    </tr>\n",
       "  </tbody>\n",
       "</table>\n",
       "</div>"
      ],
      "text/plain": [
       "                                             geometry\n",
       "id                                                   \n",
       "0   POLYGON ((354918.622 6625258.829, 354901.464 6...\n",
       "1   POLYGON ((355412.142 6623378.149, 355411.700 6...\n",
       "2   POLYGON ((353934.329 6625429.433, 353923.453 6...\n",
       "3   POLYGON ((355099.099 6623847.765, 355074.808 6...\n",
       "4   POLYGON ((352766.168 6621954.748, 352744.412 6..."
      ]
     },
     "execution_count": 4,
     "metadata": {},
     "output_type": "execute_result"
    }
   ],
   "source": [
    "import geopandas as gpd\n",
    "\n",
    "blocks_gdf = gpd.read_parquet('./../data/blocks.parquet')[['geometry']]\n",
    "blocks_gdf.head()"
   ]
  },
  {
   "cell_type": "markdown",
   "metadata": {},
   "source": [
    "## Adjacency graph"
   ]
  },
  {
   "cell_type": "code",
   "execution_count": 5,
   "metadata": {},
   "outputs": [
    {
     "data": {
      "text/html": [
       "<div>\n",
       "<style scoped>\n",
       "    .dataframe tbody tr th:only-of-type {\n",
       "        vertical-align: middle;\n",
       "    }\n",
       "\n",
       "    .dataframe tbody tr th {\n",
       "        vertical-align: top;\n",
       "    }\n",
       "\n",
       "    .dataframe thead th {\n",
       "        text-align: right;\n",
       "    }\n",
       "</style>\n",
       "<table border=\"1\" class=\"dataframe\">\n",
       "  <thead>\n",
       "    <tr style=\"text-align: right;\">\n",
       "      <th></th>\n",
       "      <th>geometry</th>\n",
       "      <th>index_right</th>\n",
       "    </tr>\n",
       "    <tr>\n",
       "      <th>id</th>\n",
       "      <th></th>\n",
       "      <th></th>\n",
       "    </tr>\n",
       "  </thead>\n",
       "  <tbody>\n",
       "    <tr>\n",
       "      <th>0</th>\n",
       "      <td>POLYGON ((354918.622 6625258.829, 354901.464 6...</td>\n",
       "      <td>3</td>\n",
       "    </tr>\n",
       "    <tr>\n",
       "      <th>0</th>\n",
       "      <td>POLYGON ((354918.622 6625258.829, 354901.464 6...</td>\n",
       "      <td>5379</td>\n",
       "    </tr>\n",
       "    <tr>\n",
       "      <th>0</th>\n",
       "      <td>POLYGON ((354918.622 6625258.829, 354901.464 6...</td>\n",
       "      <td>7524</td>\n",
       "    </tr>\n",
       "    <tr>\n",
       "      <th>0</th>\n",
       "      <td>POLYGON ((354918.622 6625258.829, 354901.464 6...</td>\n",
       "      <td>1058</td>\n",
       "    </tr>\n",
       "    <tr>\n",
       "      <th>0</th>\n",
       "      <td>POLYGON ((354918.622 6625258.829, 354901.464 6...</td>\n",
       "      <td>2</td>\n",
       "    </tr>\n",
       "    <tr>\n",
       "      <th>...</th>\n",
       "      <td>...</td>\n",
       "      <td>...</td>\n",
       "    </tr>\n",
       "    <tr>\n",
       "      <th>16317</th>\n",
       "      <td>POLYGON ((316419.909 6679189.653, 316319.749 6...</td>\n",
       "      <td>14859</td>\n",
       "    </tr>\n",
       "    <tr>\n",
       "      <th>16318</th>\n",
       "      <td>POLYGON ((315709.232 6679519.841, 315748.877 6...</td>\n",
       "      <td>15191</td>\n",
       "    </tr>\n",
       "    <tr>\n",
       "      <th>16318</th>\n",
       "      <td>POLYGON ((315709.232 6679519.841, 315748.877 6...</td>\n",
       "      <td>16317</td>\n",
       "    </tr>\n",
       "    <tr>\n",
       "      <th>16318</th>\n",
       "      <td>POLYGON ((315709.232 6679519.841, 315748.877 6...</td>\n",
       "      <td>954</td>\n",
       "    </tr>\n",
       "    <tr>\n",
       "      <th>16318</th>\n",
       "      <td>POLYGON ((315709.232 6679519.841, 315748.877 6...</td>\n",
       "      <td>14859</td>\n",
       "    </tr>\n",
       "  </tbody>\n",
       "</table>\n",
       "<p>106850 rows × 2 columns</p>\n",
       "</div>"
      ],
      "text/plain": [
       "                                                geometry  index_right\n",
       "id                                                                   \n",
       "0      POLYGON ((354918.622 6625258.829, 354901.464 6...            3\n",
       "0      POLYGON ((354918.622 6625258.829, 354901.464 6...         5379\n",
       "0      POLYGON ((354918.622 6625258.829, 354901.464 6...         7524\n",
       "0      POLYGON ((354918.622 6625258.829, 354901.464 6...         1058\n",
       "0      POLYGON ((354918.622 6625258.829, 354901.464 6...            2\n",
       "...                                                  ...          ...\n",
       "16317  POLYGON ((316419.909 6679189.653, 316319.749 6...        14859\n",
       "16318  POLYGON ((315709.232 6679519.841, 315748.877 6...        15191\n",
       "16318  POLYGON ((315709.232 6679519.841, 315748.877 6...        16317\n",
       "16318  POLYGON ((315709.232 6679519.841, 315748.877 6...          954\n",
       "16318  POLYGON ((315709.232 6679519.841, 315748.877 6...        14859\n",
       "\n",
       "[106850 rows x 2 columns]"
      ]
     },
     "execution_count": 5,
     "metadata": {},
     "output_type": "execute_result"
    }
   ],
   "source": [
    "sjoin_gdf = blocks_gdf.sjoin(blocks_gdf, predicate='intersects')\n",
    "sjoin_gdf[sjoin_gdf.index != sjoin_gdf['index_right']]"
   ]
  },
  {
   "cell_type": "code",
   "execution_count": 17,
   "metadata": {},
   "outputs": [
    {
     "name": "stderr",
     "output_type": "stream",
     "text": [
      "\u001b[32m2025-02-22 17:23:45.144\u001b[0m | \u001b[1mINFO    \u001b[0m | \u001b[36mblocksnet.relations.adjacency.core\u001b[0m:\u001b[36m_generate_adjacency_nodes\u001b[0m:\u001b[36m9\u001b[0m - \u001b[1mGenerating nodes.\u001b[0m\n",
      "\u001b[32m2025-02-22 17:23:45.152\u001b[0m | \u001b[1mINFO    \u001b[0m | \u001b[36mblocksnet.relations.adjacency.core\u001b[0m:\u001b[36m_generate_adjacency_edges\u001b[0m:\u001b[36m13\u001b[0m - \u001b[1mGenerating edges.\u001b[0m\n",
      "\u001b[32m2025-02-22 17:23:46.557\u001b[0m | \u001b[32m\u001b[1mSUCCESS \u001b[0m | \u001b[36mblocksnet.relations.adjacency.core\u001b[0m:\u001b[36mgenerate_adjacency_graph\u001b[0m:\u001b[36m31\u001b[0m - \u001b[32m\u001b[1mAdjacency graph successfully generated: 16320 nodes, 16036 edges\u001b[0m\n"
     ]
    }
   ],
   "source": [
    "from blocksnet.relations import generate_adjacency_graph\n",
    "\n",
    "graph = generate_adjacency_graph(blocks_gdf, 10)"
   ]
  },
  {
   "cell_type": "code",
   "execution_count": 23,
   "metadata": {},
   "outputs": [
    {
     "name": "stdout",
     "output_type": "stream",
     "text": [
      "1060\n",
      "1426\n",
      "1427\n",
      "1428\n",
      "4291\n"
     ]
    }
   ],
   "source": [
    "for block_id in graph.neighbors(1):\n",
    "    print(block_id)"
   ]
  }
 ],
 "metadata": {
  "kernelspec": {
   "display_name": ".venv",
   "language": "python",
   "name": "python3"
  },
  "language_info": {
   "codemirror_mode": {
    "name": "ipython",
    "version": 3
   },
   "file_extension": ".py",
   "mimetype": "text/x-python",
   "name": "python",
   "nbconvert_exporter": "python",
   "pygments_lexer": "ipython3",
   "version": "3.10.12"
  }
 },
 "nbformat": 4,
 "nbformat_minor": 2
}
