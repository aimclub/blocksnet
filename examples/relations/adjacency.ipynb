{
 "cells": [
  {
   "cell_type": "markdown",
   "metadata": {},
   "source": [
    "# Adjacency relations"
   ]
  },
  {
   "cell_type": "code",
   "execution_count": 16,
   "metadata": {},
   "outputs": [
    {
     "data": {
      "text/html": [
       "<div>\n",
       "<style scoped>\n",
       "    .dataframe tbody tr th:only-of-type {\n",
       "        vertical-align: middle;\n",
       "    }\n",
       "\n",
       "    .dataframe tbody tr th {\n",
       "        vertical-align: top;\n",
       "    }\n",
       "\n",
       "    .dataframe thead th {\n",
       "        text-align: right;\n",
       "    }\n",
       "</style>\n",
       "<table border=\"1\" class=\"dataframe\">\n",
       "  <thead>\n",
       "    <tr style=\"text-align: right;\">\n",
       "      <th></th>\n",
       "      <th>geometry</th>\n",
       "      <th>site_area</th>\n",
       "      <th>residential</th>\n",
       "      <th>business</th>\n",
       "      <th>recreation</th>\n",
       "      <th>industrial</th>\n",
       "      <th>transport</th>\n",
       "      <th>special</th>\n",
       "      <th>agriculture</th>\n",
       "      <th>land_use</th>\n",
       "      <th>...</th>\n",
       "      <th>capacity_prison</th>\n",
       "      <th>count_prison</th>\n",
       "      <th>capacity_landfill</th>\n",
       "      <th>count_landfill</th>\n",
       "      <th>capacity_plant_nursery</th>\n",
       "      <th>count_plant_nursery</th>\n",
       "      <th>capacity_greenhouse_complex</th>\n",
       "      <th>count_greenhouse_complex</th>\n",
       "      <th>capacity_warehouse</th>\n",
       "      <th>count_warehouse</th>\n",
       "    </tr>\n",
       "  </thead>\n",
       "  <tbody>\n",
       "    <tr>\n",
       "      <th>0</th>\n",
       "      <td>POLYGON ((349424.859 6631180.891, 349424.751 6...</td>\n",
       "      <td>0.032316</td>\n",
       "      <td>0.000</td>\n",
       "      <td>0.0</td>\n",
       "      <td>0.000000</td>\n",
       "      <td>0.0</td>\n",
       "      <td>1.000000</td>\n",
       "      <td>0.0</td>\n",
       "      <td>0.000000</td>\n",
       "      <td>LandUse.TRANSPORT</td>\n",
       "      <td>...</td>\n",
       "      <td>0.0</td>\n",
       "      <td>0.0</td>\n",
       "      <td>0.0</td>\n",
       "      <td>0.0</td>\n",
       "      <td>0.0</td>\n",
       "      <td>0.0</td>\n",
       "      <td>0.0</td>\n",
       "      <td>0.0</td>\n",
       "      <td>0.0</td>\n",
       "      <td>0.0</td>\n",
       "    </tr>\n",
       "    <tr>\n",
       "      <th>1</th>\n",
       "      <td>POLYGON ((352083.617 6633950.146, 352240.448 6...</td>\n",
       "      <td>137101.088247</td>\n",
       "      <td>0.099</td>\n",
       "      <td>0.0</td>\n",
       "      <td>0.079912</td>\n",
       "      <td>0.0</td>\n",
       "      <td>0.401072</td>\n",
       "      <td>0.0</td>\n",
       "      <td>0.417018</td>\n",
       "      <td>LandUse.AGRICULTURE</td>\n",
       "      <td>...</td>\n",
       "      <td>0.0</td>\n",
       "      <td>0.0</td>\n",
       "      <td>0.0</td>\n",
       "      <td>0.0</td>\n",
       "      <td>0.0</td>\n",
       "      <td>0.0</td>\n",
       "      <td>0.0</td>\n",
       "      <td>0.0</td>\n",
       "      <td>0.0</td>\n",
       "      <td>0.0</td>\n",
       "    </tr>\n",
       "    <tr>\n",
       "      <th>2</th>\n",
       "      <td>POLYGON ((346700.642 6618453.176, 346681.107 6...</td>\n",
       "      <td>95239.084434</td>\n",
       "      <td>1.000</td>\n",
       "      <td>0.0</td>\n",
       "      <td>0.000000</td>\n",
       "      <td>0.0</td>\n",
       "      <td>0.000000</td>\n",
       "      <td>0.0</td>\n",
       "      <td>0.000000</td>\n",
       "      <td>LandUse.RESIDENTIAL</td>\n",
       "      <td>...</td>\n",
       "      <td>0.0</td>\n",
       "      <td>0.0</td>\n",
       "      <td>0.0</td>\n",
       "      <td>0.0</td>\n",
       "      <td>0.0</td>\n",
       "      <td>0.0</td>\n",
       "      <td>0.0</td>\n",
       "      <td>0.0</td>\n",
       "      <td>0.0</td>\n",
       "      <td>0.0</td>\n",
       "    </tr>\n",
       "  </tbody>\n",
       "</table>\n",
       "<p>3 rows × 137 columns</p>\n",
       "</div>"
      ],
      "text/plain": [
       "                                            geometry      site_area  \\\n",
       "0  POLYGON ((349424.859 6631180.891, 349424.751 6...       0.032316   \n",
       "1  POLYGON ((352083.617 6633950.146, 352240.448 6...  137101.088247   \n",
       "2  POLYGON ((346700.642 6618453.176, 346681.107 6...   95239.084434   \n",
       "\n",
       "   residential  business  recreation  industrial  transport  special  \\\n",
       "0        0.000       0.0    0.000000         0.0   1.000000      0.0   \n",
       "1        0.099       0.0    0.079912         0.0   0.401072      0.0   \n",
       "2        1.000       0.0    0.000000         0.0   0.000000      0.0   \n",
       "\n",
       "   agriculture             land_use  ...  capacity_prison  count_prison  \\\n",
       "0     0.000000    LandUse.TRANSPORT  ...              0.0           0.0   \n",
       "1     0.417018  LandUse.AGRICULTURE  ...              0.0           0.0   \n",
       "2     0.000000  LandUse.RESIDENTIAL  ...              0.0           0.0   \n",
       "\n",
       "   capacity_landfill  count_landfill  capacity_plant_nursery  \\\n",
       "0                0.0             0.0                     0.0   \n",
       "1                0.0             0.0                     0.0   \n",
       "2                0.0             0.0                     0.0   \n",
       "\n",
       "   count_plant_nursery  capacity_greenhouse_complex  count_greenhouse_complex  \\\n",
       "0                  0.0                          0.0                       0.0   \n",
       "1                  0.0                          0.0                       0.0   \n",
       "2                  0.0                          0.0                       0.0   \n",
       "\n",
       "   capacity_warehouse  count_warehouse  \n",
       "0                 0.0              0.0  \n",
       "1                 0.0              0.0  \n",
       "2                 0.0              0.0  \n",
       "\n",
       "[3 rows x 137 columns]"
      ]
     },
     "execution_count": 16,
     "metadata": {},
     "output_type": "execute_result"
    }
   ],
   "source": [
    "import pandas as pd\n",
    "\n",
    "blocks_gdf = pd.read_pickle('./../data/saint_petersburg/blocks.pickle')\n",
    "blocks_gdf.head(3)"
   ]
  },
  {
   "cell_type": "markdown",
   "metadata": {},
   "source": [
    "## Adjacency graph\n",
    "\n",
    "Generate adjacency graph indicating relations between adjacent blocks."
   ]
  },
  {
   "cell_type": "code",
   "execution_count": 2,
   "metadata": {},
   "outputs": [
    {
     "name": "stderr",
     "output_type": "stream",
     "text": [
      "\u001b[32m2025-09-19 19:37:40.874\u001b[0m | \u001b[1mINFO    \u001b[0m | \u001b[36mblocksnet.relations.adjacency.core\u001b[0m:\u001b[36m_generate_adjacency_nodes\u001b[0m:\u001b[36m9\u001b[0m - \u001b[1mGenerating nodes\u001b[0m\n",
      "\u001b[32m2025-09-19 19:37:40.880\u001b[0m | \u001b[1mINFO    \u001b[0m | \u001b[36mblocksnet.relations.adjacency.core\u001b[0m:\u001b[36m_generate_adjacency_edges\u001b[0m:\u001b[36m14\u001b[0m - \u001b[1mGenerating edges\u001b[0m\n",
      "\u001b[32m2025-09-19 19:37:43.924\u001b[0m | \u001b[32m\u001b[1mSUCCESS \u001b[0m | \u001b[36mblocksnet.relations.adjacency.core\u001b[0m:\u001b[36mgenerate_adjacency_graph\u001b[0m:\u001b[36m37\u001b[0m - \u001b[32m\u001b[1mAdjacency graph successfully generated: 9533 nodes, 30567 edges\u001b[0m\n"
     ]
    }
   ],
   "source": [
    "from blocksnet.relations import generate_adjacency_graph\n",
    "\n",
    "adjacency_graph = generate_adjacency_graph(blocks_gdf, 10)"
   ]
  },
  {
   "cell_type": "markdown",
   "metadata": {},
   "source": [
    "Now `adjacency_graph` is a `networkx.Graph` instance and can be operated using its methods. For example, one can get `block_id=2` neighbors using `g.neighbors(2)`."
   ]
  },
  {
   "cell_type": "code",
   "execution_count": 4,
   "metadata": {},
   "outputs": [
    {
     "data": {
      "image/png": "[encoded data removed]",
      "text/plain": [
       "<Figure size 600x600 with 1 Axes>"
      ]
     },
     "metadata": {},
     "output_type": "display_data"
    }
   ],
   "source": [
    "block_id = 2\n",
    "\n",
    "neighbors = adjacency_graph.neighbors(block_id)\n",
    "block_gdf = blocks_gdf.loc[[block_id]]\n",
    "neighbors_gdf = blocks_gdf.loc[neighbors]\n",
    "\n",
    "ax = block_gdf.plot(color='red', figsize=(6,6), edgecolor='black')\n",
    "neighbors_gdf.plot(ax=ax, color='blue', edgecolor='black')\n",
    "ax.set_title(f'block_id={block_id} neighbors')\n",
    "ax.set_axis_off()"
   ]
  },
  {
   "cell_type": "markdown",
   "metadata": {},
   "source": [
    "## Adjacency context\n",
    "\n",
    "Get adjacency graph's subgraph for blocks provided."
   ]
  },
  {
   "cell_type": "code",
   "execution_count": 10,
   "metadata": {},
   "outputs": [
    {
     "data": {
      "text/plain": [
       "(9, 17)"
      ]
     },
     "execution_count": 10,
     "metadata": {},
     "output_type": "execute_result"
    }
   ],
   "source": [
    "from blocksnet.relations import get_adjacency_context\n",
    "\n",
    "context_graph = get_adjacency_context(adjacency_graph, block_gdf)\n",
    "len(context_graph.nodes), len(context_graph.edges)"
   ]
  }
 ],
 "metadata": {
  "kernelspec": {
   "display_name": ".venv",
   "language": "python",
   "name": "python3"
  },
  "language_info": {
   "codemirror_mode": {
    "name": "ipython",
    "version": 3
   },
   "file_extension": ".py",
   "mimetype": "text/x-python",
   "name": "python",
   "nbconvert_exporter": "python",
   "pygments_lexer": "ipython3",
   "version": "3.10.12"
  }
 },
 "nbformat": 4,
 "nbformat_minor": 2
}
