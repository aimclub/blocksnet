{
 "cells": [
  {
   "cell_type": "code",
   "execution_count": 1,
   "metadata": {},
   "outputs": [],
   "source": [
    "import os\n",
    "import geopandas as gpd\n",
    "\n",
    "data_path = \"./../data\""
   ]
  },
  {
   "cell_type": "code",
   "execution_count": 2,
   "metadata": {},
   "outputs": [
    {
     "data": {
      "text/plain": [
       "4326"
      ]
     },
     "execution_count": 2,
     "metadata": {},
     "output_type": "execute_result"
    }
   ],
   "source": [
    "boundaries_gdf = gpd.read_parquet(os.path.join(data_path, \"boundaries.parquet\"))\n",
    "crs = 4326\n",
    "boundaries_gdf = boundaries_gdf.to_crs(crs)\n",
    "crs"
   ]
  },
  {
   "cell_type": "markdown",
   "metadata": {},
   "source": [
    "## Processing geometries"
   ]
  },
  {
   "cell_type": "code",
   "execution_count": 3,
   "metadata": {},
   "outputs": [],
   "source": [
    "roads_gdf = gpd.read_parquet(os.path.join(data_path, \"osm/roads.parquet\")).to_crs(crs)\n",
    "railways_gdf = gpd.read_parquet(os.path.join(data_path, \"osm/railways.parquet\")).to_crs(crs)\n",
    "water_gdf = gpd.read_parquet(os.path.join(data_path, \"osm/water.parquet\")).to_crs(crs)"
   ]
  },
  {
   "cell_type": "code",
   "execution_count": 4,
   "metadata": {},
   "outputs": [
    {
     "name": "stderr",
     "output_type": "stream",
     "text": [
      "\u001b[32m2025-05-24 16:46:57.228\u001b[0m | \u001b[33m\u001b[1mWARNING \u001b[0m | \u001b[36mblocksnet.utils.validation.utils\u001b[0m:\u001b[36mensure_crs\u001b[0m:\u001b[36m10\u001b[0m - \u001b[33m\u001b[1mCRS of GeoDataFrame do not match first provided one. Reprojecting\u001b[0m\n",
      "\u001b[32m2025-05-24 16:46:57.236\u001b[0m | \u001b[33m\u001b[1mWARNING \u001b[0m | \u001b[36mblocksnet.utils.validation.utils\u001b[0m:\u001b[36mensure_crs\u001b[0m:\u001b[36m10\u001b[0m - \u001b[33m\u001b[1mCRS of GeoDataFrame do not match first provided one. Reprojecting\u001b[0m\n",
      "\u001b[32m2025-05-24 16:46:57.277\u001b[0m | \u001b[1mINFO    \u001b[0m | \u001b[36mblocksnet.blocks.cutting.preprocessing.core\u001b[0m:\u001b[36mpreprocess_urban_objects\u001b[0m:\u001b[36m40\u001b[0m - \u001b[1mChecking roads schema\u001b[0m\n",
      "\u001b[32m2025-05-24 16:46:57.666\u001b[0m | \u001b[1mINFO    \u001b[0m | \u001b[36mblocksnet.blocks.cutting.preprocessing.core\u001b[0m:\u001b[36mpreprocess_urban_objects\u001b[0m:\u001b[36m47\u001b[0m - \u001b[1mChecking railways schema\u001b[0m\n",
      "\u001b[32m2025-05-24 16:46:57.676\u001b[0m | \u001b[1mINFO    \u001b[0m | \u001b[36mblocksnet.blocks.cutting.preprocessing.core\u001b[0m:\u001b[36mpreprocess_urban_objects\u001b[0m:\u001b[36m54\u001b[0m - \u001b[1mChecking water schema\u001b[0m\n"
     ]
    }
   ],
   "source": [
    "from blocksnet.blocks.cutting import preprocess_urban_objects\n",
    "\n",
    "lines_gdf, polygons_gdf = preprocess_urban_objects(roads_gdf.to_crs(32636), railways_gdf, water_gdf)"
   ]
  },
  {
   "cell_type": "markdown",
   "metadata": {},
   "source": [
    "## Cut urban blocks"
   ]
  },
  {
   "cell_type": "code",
   "execution_count": 20,
   "metadata": {},
   "outputs": [
    {
     "name": "stderr",
     "output_type": "stream",
     "text": [
      "\u001b[32m2025-05-24 16:48:26.525\u001b[0m | \u001b[1mINFO    \u001b[0m | \u001b[36mblocksnet.blocks.cutting.processing.core\u001b[0m:\u001b[36mwrapper\u001b[0m:\u001b[36m21\u001b[0m - \u001b[1mChecking boundaries schema\u001b[0m\n",
      "\u001b[32m2025-05-24 16:48:26.617\u001b[0m | \u001b[33m\u001b[1mWARNING \u001b[0m | \u001b[36mblocksnet.utils.validation.gdf_schema\u001b[0m:\u001b[36m_warn_crs\u001b[0m:\u001b[36m34\u001b[0m - \u001b[33m\u001b[1mCurrent CRS 4326 is not projected. It might cause problems when carrying out spatial operations. Recommended: EPSG:32636\u001b[0m\n",
      "\u001b[32m2025-05-24 16:48:26.626\u001b[0m | \u001b[1mINFO    \u001b[0m | \u001b[36mblocksnet.blocks.cutting.processing.core\u001b[0m:\u001b[36mwrapper\u001b[0m:\u001b[36m25\u001b[0m - \u001b[1mChecking line objects schema\u001b[0m\n",
      "\u001b[32m2025-05-24 16:48:26.698\u001b[0m | \u001b[1mINFO    \u001b[0m | \u001b[36mblocksnet.blocks.cutting.processing.core\u001b[0m:\u001b[36mwrapper\u001b[0m:\u001b[36m31\u001b[0m - \u001b[1mChecking polygon objects schema\u001b[0m\n",
      "\u001b[32m2025-05-24 16:48:26.713\u001b[0m | \u001b[33m\u001b[1mWARNING \u001b[0m | \u001b[36mblocksnet.utils.validation.utils\u001b[0m:\u001b[36mensure_crs\u001b[0m:\u001b[36m10\u001b[0m - \u001b[33m\u001b[1mCRS of GeoDataFrame do not match first provided one. Reprojecting\u001b[0m\n",
      "\u001b[32m2025-05-24 16:48:26.966\u001b[0m | \u001b[33m\u001b[1mWARNING \u001b[0m | \u001b[36mblocksnet.utils.validation.utils\u001b[0m:\u001b[36mensure_crs\u001b[0m:\u001b[36m10\u001b[0m - \u001b[33m\u001b[1mCRS of GeoDataFrame do not match first provided one. Reprojecting\u001b[0m\n",
      "\u001b[32m2025-05-24 16:48:26.995\u001b[0m | \u001b[1mINFO    \u001b[0m | \u001b[36mblocksnet.blocks.cutting.processing.core\u001b[0m:\u001b[36m_exclude_polygons\u001b[0m:\u001b[36m45\u001b[0m - \u001b[1mExcluding polygon objects from blocks\u001b[0m\n",
      "\u001b[32m2025-05-24 16:48:28.074\u001b[0m | \u001b[1mINFO    \u001b[0m | \u001b[36mblocksnet.blocks.cutting.processing.core\u001b[0m:\u001b[36m_get_enclosures\u001b[0m:\u001b[36m51\u001b[0m - \u001b[1mSetting up enclosures\u001b[0m\n",
      "\u001b[32m2025-05-24 16:48:30.168\u001b[0m | \u001b[1mINFO    \u001b[0m | \u001b[36mblocksnet.blocks.cutting.processing.core\u001b[0m:\u001b[36m_fill_holes\u001b[0m:\u001b[36m68\u001b[0m - \u001b[1mFilling holes inside the blocks\u001b[0m\n",
      "\u001b[32m2025-05-24 16:48:31.001\u001b[0m | \u001b[1mINFO    \u001b[0m | \u001b[36mblocksnet.blocks.cutting.processing.core\u001b[0m:\u001b[36m_filter_overlapping\u001b[0m:\u001b[36m78\u001b[0m - \u001b[1mFiltering overlapping geometries\u001b[0m\n",
      "\u001b[32m2025-05-24 16:48:33.124\u001b[0m | \u001b[32m\u001b[1mSUCCESS \u001b[0m | \u001b[36mblocksnet.blocks.cutting.processing.core\u001b[0m:\u001b[36mcut_urban_blocks\u001b[0m:\u001b[36m118\u001b[0m - \u001b[32m\u001b[1mBlocks are successfully cut!\u001b[0m\n"
     ]
    }
   ],
   "source": [
    "from blocksnet.blocks.cutting import cut_urban_blocks\n",
    "    \n",
    "blocks_gdf = cut_urban_blocks(boundaries_gdf, lines_gdf, polygons_gdf)"
   ]
  }
 ],
 "metadata": {
  "kernelspec": {
   "display_name": ".venv",
   "language": "python",
   "name": "python3"
  },
  "language_info": {
   "codemirror_mode": {
    "name": "ipython",
    "version": 3
   },
   "file_extension": ".py",
   "mimetype": "text/x-python",
   "name": "python",
   "nbconvert_exporter": "python",
   "pygments_lexer": "ipython3",
   "version": "3.10.12"
  }
 },
 "nbformat": 4,
 "nbformat_minor": 2
}
