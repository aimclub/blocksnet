{
 "cells": [
  {
   "cell_type": "markdown",
   "metadata": {},
   "source": [
    "## Initial parameters"
   ]
  },
  {
   "cell_type": "code",
   "execution_count": null,
   "metadata": {},
   "outputs": [],
   "source": [
    "from blocksnet.optimization.services import (\n",
    "    TPEOptimizer,\n",
    "    WeightedObjective,\n",
    "    WeightedConstraints,\n",
    "    Facade,\n",
    "    BlockSolution,\n",
    "    GradientChooser,\n",
    "    AreaSolution,\n",
    ")\n",
    "from blocksnet.enums import LandUse\n",
    "import numpy as np\n",
    "import pandas as pd\n",
    "import geopandas as gpd\n",
    "import ast\n",
    "import csv"
   ]
  },
  {
   "cell_type": "markdown",
   "metadata": {},
   "source": [
    "#### Services"
   ]
  },
  {
   "cell_type": "code",
   "execution_count": null,
   "metadata": {},
   "outputs": [],
   "source": [
    "BASIC_SERVICES = {\n",
    "    \"kindergarten\": 0.2,\n",
    "    \"school\": 0.2,\n",
    "    \"pharmacy\": 0.2,\n",
    "    \"polyclinics\": 0.3,\n",
    "    \"convenience\": 0.2,   \n",
    "    \"cafe\": 0.15,\n",
    "    \"playground\": 0.2,\n",
    "    \"post\": 0.1,\n",
    "    \"hairdresser\": 0.1\n",
    "}\n",
    "ADVANCED_SERVICES = {\n",
    "    \"hospital\": 0.5,\n",
    "    \"supermarket\": 0.4,\n",
    "    \"restaurant\": 0.3,\n",
    "    \"park\": 0.8,\n",
    "    \"bank\": 0.3,\n",
    "    \"fuel\": 0.25,\n",
    "    \"police\": 0.2,\n",
    "    \"cinema\": 0.2,\n",
    "    \"market\": 0.2,\n",
    "    \"religion\": 0.5,\n",
    "    \"multifunctional_center\": 0.1\n",
    "}\n",
    "COMFORT_SERVICES = {\n",
    "    \"mall\": 0.3,   \n",
    "    \"swimming_pool\": 0.4,\n",
    "    \"theatre\": 0.2,\n",
    "    \"museum\": 0.2,\n",
    "    \"university\": 0.2,\n",
    "    \"sanatorium\": 0.2,\n",
    "}"
   ]
  },
  {
   "cell_type": "markdown",
   "metadata": {},
   "source": [
    "### Block id for profiling"
   ]
  },
  {
   "cell_type": "code",
   "execution_count": null,
   "metadata": {},
   "outputs": [],
   "source": [
    "PROFILING_ID = 1536 "
   ]
  },
  {
   "cell_type": "markdown",
   "metadata": {},
   "source": [
    "### City Initialization"
   ]
  },
  {
   "cell_type": "code",
   "execution_count": null,
   "metadata": {},
   "outputs": [],
   "source": [
    "blocks = gpd.read_parquet('./../../data/blocks.parquet')\n",
    "columns = [c for c in blocks.columns if 'capacity_' in c]\n",
    "blocks = blocks[['geometry', 'population', 'site_area', *columns]].copy()\n",
    "blocks.head(3)"
   ]
  },
  {
   "cell_type": "code",
   "execution_count": null,
   "metadata": {},
   "outputs": [],
   "source": [
    "accessibility_matrix = pd.read_pickle('./../../data/accessibility_matrix.pickle')\n",
    "accessibility_matrix.head()"
   ]
  },
  {
   "cell_type": "markdown",
   "metadata": {},
   "source": [
    "### Service weights"
   ]
  },
  {
   "cell_type": "code",
   "execution_count": null,
   "metadata": {},
   "outputs": [],
   "source": [
    "def get_service_weight(service_name):\n",
    "    if service_name in BASIC_SERVICES:\n",
    "        return 0.5714 * BASIC_SERVICES[service_name] / sum(BASIC_SERVICES.values())\n",
    "    elif service_name in ADVANCED_SERVICES:\n",
    "        return 0.2857 * ADVANCED_SERVICES[service_name] / sum(ADVANCED_SERVICES.values())\n",
    "    elif service_name in COMFORT_SERVICES:\n",
    "        return 0.1429 * COMFORT_SERVICES[service_name] / sum(COMFORT_SERVICES.values())\n",
    "    return 0\n",
    "\n",
    "chosen_service_types = set(BASIC_SERVICES) | set(ADVANCED_SERVICES) | set(COMFORT_SERVICES)\n",
    "service_weights = {service_type: get_service_weight(service_type) for service_type in chosen_service_types if f'capacity_{service_type}' in blocks.columns}"
   ]
  },
  {
   "cell_type": "markdown",
   "metadata": {},
   "source": [
    "### Save service to csv"
   ]
  },
  {
   "cell_type": "code",
   "execution_count": null,
   "metadata": {},
   "outputs": [],
   "source": [
    "def save_max_capacities(land_use: LandUse, facade: Facade):\n",
    "    with open(f'{land_use.name}_max_capacities.csv', 'w', newline='') as csvfile:\n",
    "        capacities = facade.get_max_capacities(PROFILING_ID)\n",
    "\n",
    "        writer = csv.writer(csvfile)\n",
    "        writer.writerow([\"Service type\", \"Capacity required\"])  # Write header row\n",
    "        \n",
    "        for service, capacity in capacities.items():\n",
    "            writer.writerow([service, capacity])"
   ]
  },
  {
   "cell_type": "code",
   "execution_count": null,
   "metadata": {},
   "outputs": [],
   "source": [
    "import os\n",
    "import shutil\n",
    "from pathlib import Path\n",
    "\n",
    "def move_csv_to_results():\n",
    "    results_dir = Path(\"./results\")\n",
    "    results_dir.mkdir(exist_ok=True)\n",
    "    \n",
    "    csv_files = [f for f in os.listdir() if f.endswith('.csv')]\n",
    "    \n",
    "    for csv_file in csv_files:\n",
    "        src = Path(csv_file)\n",
    "        dest = results_dir / csv_file\n",
    "        shutil.move(str(src), str(dest))"
   ]
  },
  {
   "cell_type": "markdown",
   "metadata": {},
   "source": [
    "## Land use provision with selected services"
   ]
  },
  {
   "cell_type": "code",
   "execution_count": null,
   "metadata": {},
   "outputs": [],
   "source": [
    "from tqdm import tqdm\n",
    "\n",
    "provision_data = {land_use: dict() for land_use in LandUse}\n",
    "\n",
    "for land_use in LandUse:\n",
    "    blocks_lu = dict()\n",
    "\n",
    "    blocks_lu[PROFILING_ID] = land_use\n",
    "\n",
    "    var_adapter = AreaSolution(blocks_lu)\n",
    "\n",
    "    facade = Facade(\n",
    "        blocks_lu=blocks_lu,\n",
    "        blocks_df=blocks,\n",
    "        accessibility_matrix=accessibility_matrix,\n",
    "        var_adapter=var_adapter,\n",
    "    )\n",
    "\n",
    "    for service_type, weight in tqdm(service_weights.items()):\n",
    "        facade.add_service_type(service_type, weight, blocks.rename(columns={f'capacity_{service_type}': 'capacity'})[['capacity']])\n",
    "\n",
    "    start_prov = facade.start_provisions\n",
    "\n",
    "    objective = WeightedObjective(num_params=facade.num_params, facade=facade, weights=service_weights, max_evals=50)\n",
    "\n",
    "    constraints = WeightedConstraints(num_params=facade.num_params, facade=facade)\n",
    "\n",
    "    tpe_optimizer = TPEOptimizer(\n",
    "        objective=objective, constraints=constraints, vars_chooser=SimpleChooser(facade, facade.num_params, 5)\n",
    "    )\n",
    "\n",
    "    best_x, best_val, perc, func_evals = tpe_optimizer.run(max_runs=1000, timeout=60000, initial_runs_num=1)\n",
    "\n",
    "    solution_df = facade.solution_to_services_df(best_x)\n",
    "    solution_df.to_csv(f'{land_use.name}_services.csv')\n",
    "\n",
    "    save_max_capacities(land_use, facade)\n",
    "\n",
    "    df = pd.read_csv('tpe_provisions.csv')\n",
    "    best_provisions = None\n",
    "    max_val = 0\n",
    "    for index, row in df.iterrows():\n",
    "        if max_val < row['best_val']:\n",
    "            max_val = row['best_val']\n",
    "            best_provisions = row['provisions']\n",
    "    best_provisions = ast.literal_eval(best_provisions)\n",
    "    for service in facade._chosen_service_types:\n",
    "        if service in best_provisions.keys():\n",
    "            opt = best_provisions[service]\n",
    "        else:\n",
    "            opt = start_prov[service]\n",
    "        start = start_prov[service]\n",
    "        provision_data[land_use][service] = (start, opt)\n",
    "\n",
    "    move_csv_to_results()\n",
    "    break"
   ]
  },
  {
   "cell_type": "markdown",
   "metadata": {},
   "source": [
    "### Save provisions data"
   ]
  },
  {
   "cell_type": "code",
   "execution_count": null,
   "metadata": {},
   "outputs": [],
   "source": [
    "with open('./results/provisions_data.csv', 'w', newline='') as csvfile:\n",
    "    writer = csv.writer(csvfile)\n",
    "    writer.writerow([\"Land use\", \"Service type\", \"Start provisions\", \"Opt. provisions\", \"Delta provisions\"])  # Write header row\n",
    "    \n",
    "    for land_use, services in provision_data.items():\n",
    "        for service_type, (start_prov, opt_prov) in services.items():\n",
    "            writer.writerow([land_use, service_type, start_prov, opt_prov, opt_prov - start_prov])"
   ]
  }
 ],
 "metadata": {
  "kernelspec": {
   "display_name": ".venv",
   "language": "python",
   "name": "python3"
  },
  "language_info": {
   "codemirror_mode": {
    "name": "ipython",
    "version": 3
   },
   "file_extension": ".py",
   "mimetype": "text/x-python",
   "name": "python",
   "nbconvert_exporter": "python",
   "pygments_lexer": "ipython3",
   "version": "3.10.12"
  }
 },
 "nbformat": 4,
 "nbformat_minor": 2
}
