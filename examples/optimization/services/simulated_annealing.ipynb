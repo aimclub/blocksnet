{
 "cells": [
  {
   "cell_type": "code",
   "execution_count": null,
   "metadata": {},
   "outputs": [],
   "source": [
    "import geopandas as gpd\n",
    "\n",
    "blocks = gpd.read_parquet('./../data/blocks.parquet')\n",
    "columns = [c for c in blocks.columns if 'capacity_' in c]\n",
    "blocks = blocks[['geometry', 'population', 'site_area', *columns]].copy()\n",
    "blocks.head(3)"
   ]
  },
  {
   "cell_type": "code",
   "execution_count": null,
   "metadata": {},
   "outputs": [],
   "source": [
    "import pandas as pd\n",
    "\n",
    "accessibility_matrix = pd.read_pickle('./../data/accessibility_matrix.pickle')\n",
    "accessibility_matrix.head()"
   ]
  },
  {
   "cell_type": "markdown",
   "metadata": {},
   "source": [
    "## Simulated annealing"
   ]
  },
  {
   "cell_type": "code",
   "execution_count": null,
   "metadata": {},
   "outputs": [],
   "source": [
    "from blocksnet.enums import LandUse\n",
    "\n",
    "blocks_lus = {\n",
    "    # 1 : LandUse.INDUSTRIAL,\n",
    "    # 2 : LandUse.RECREATION,\n",
    "    1536 : LandUse.RESIDENTIAL\n",
    "}\n",
    "\n",
    "service_types = {\n",
    "    \"kindergarten\": 0.2,\n",
    "    \"school\": 0.2,\n",
    "    \"pharmacy\": 0.2,\n",
    "    \"polyclinic\": 0.3,\n",
    "    \"convenience\": 0.2,   \n",
    "    \"cafe\": 0.15,\n",
    "    \"playground\": 0.2,\n",
    "    \"post\": 0.1,\n",
    "    \"hairdresser\": 0.1\n",
    "}"
   ]
  },
  {
   "cell_type": "code",
   "execution_count": null,
   "metadata": {},
   "outputs": [],
   "source": [
    "from blocksnet.optimization.services import ServicesOptimizer\n",
    "\n",
    "so = ServicesOptimizer(blocks[['site_area', 'population']], accessibility_matrix)\n",
    "for service_type, weight in service_types.items():\n",
    "    so.add_service_type(service_type, weight, blocks.rename(columns={f'capacity_{service_type}': 'capacity'})[['capacity']])\n",
    "\n",
    "so.service_types"
   ]
  },
  {
   "cell_type": "code",
   "execution_count": null,
   "metadata": {},
   "outputs": [],
   "source": [
    "variables_df, objective_value = so.run(blocks_lus, iterations=1000)"
   ]
  },
  {
   "cell_type": "code",
   "execution_count": null,
   "metadata": {},
   "outputs": [],
   "source": [
    "variables_df"
   ]
  }
 ],
 "metadata": {
  "kernelspec": {
   "display_name": ".venv",
   "language": "python",
   "name": "python3"
  },
  "language_info": {
   "codemirror_mode": {
    "name": "ipython",
    "version": 3
   },
   "file_extension": ".py",
   "mimetype": "text/x-python",
   "name": "python",
   "nbconvert_exporter": "python",
   "pygments_lexer": "ipython3",
   "version": "3.10.12"
  }
 },
 "nbformat": 4,
 "nbformat_minor": 2
}
