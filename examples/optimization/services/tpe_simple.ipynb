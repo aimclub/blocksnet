{
 "cells": [
  {
   "cell_type": "markdown",
   "metadata": {},
   "source": [
    "# Service optimization"
   ]
  },
  {
   "cell_type": "code",
   "execution_count": null,
   "metadata": {},
   "outputs": [],
   "source": [
    "import geopandas as gpd\n",
    "\n",
    "blocks = gpd.read_parquet('./../../data/blocks.parquet')\n",
    "columns = [c for c in blocks.columns if 'capacity_' in c]\n",
    "blocks = blocks[['geometry', 'population', 'site_area', *columns]].copy()\n",
    "blocks.head(3)"
   ]
  },
  {
   "cell_type": "code",
   "execution_count": null,
   "metadata": {},
   "outputs": [],
   "source": [
    "import pandas as pd\n",
    "\n",
    "accessibility_matrix = pd.read_pickle('./../../data/accessibility_matrix.pickle')\n",
    "accessibility_matrix.head()"
   ]
  },
  {
   "cell_type": "markdown",
   "metadata": {},
   "source": [
    "### Select ID of optimized blocks"
   ]
  },
  {
   "cell_type": "code",
   "execution_count": null,
   "metadata": {},
   "outputs": [],
   "source": [
    "from blocksnet.enums import LandUse\n",
    "blocks_lu = {\n",
    "    6954 : LandUse.BUSINESS\n",
    "}"
   ]
  },
  {
   "cell_type": "markdown",
   "metadata": {},
   "source": [
    "### Service distribution"
   ]
  },
  {
   "cell_type": "code",
   "execution_count": null,
   "metadata": {},
   "outputs": [],
   "source": [
    "basic_services = {\n",
    "    \"kindergarten\": 0.2,\n",
    "    \"school\": 0.2,\n",
    "    \"pharmacy\": 0.2,\n",
    "    \"polyclinics\": 0.3,\n",
    "    \"convenience\": 0.2,   \n",
    "    \"cafe\": 0.15,\n",
    "    \"playground\": 0.2,\n",
    "    \"post\": 0.1,\n",
    "    \"hairdresser\": 0.1\n",
    "}\n",
    "advanced_services = {\n",
    "    \"hospital\": 0.5,\n",
    "    \"supermarket\": 0.4,\n",
    "    \"restaurant\": 0.3,\n",
    "    \"park\": 0.8,\n",
    "    \"bank\": 0.3,\n",
    "    \"fuel\": 0.25,\n",
    "    \"police\": 0.2,\n",
    "    \"cinema\": 0.2,\n",
    "    \"market\": 0.2,\n",
    "    \"religion\": 0.5,\n",
    "    \"multifunctional_center\": 0.1\n",
    "}\n",
    "comfort_services = {\n",
    "    \"mall\": 0.3,   \n",
    "    \"swimming_pool\": 0.4,\n",
    "    \"theatre\": 0.2,\n",
    "    \"museum\": 0.2,\n",
    "    \"university\": 0.2,\n",
    "    \"sanatorium\": 0.2,\n",
    "}\n",
    "\n",
    "\n",
    "def get_service_weight(service_name):\n",
    "    if service_name in basic_services:\n",
    "        return 0.5714 * basic_services[service_name] / sum(basic_services.values())\n",
    "    elif service_name in advanced_services:\n",
    "        return 0.2857 * advanced_services[service_name] / sum(advanced_services.values())\n",
    "    elif service_name in comfort_services:\n",
    "        return 0.1429 * comfort_services[service_name] / sum(comfort_services.values())\n",
    "    return 0"
   ]
  },
  {
   "cell_type": "markdown",
   "metadata": {},
   "source": [
    "### Service types and weights"
   ]
  },
  {
   "cell_type": "code",
   "execution_count": null,
   "metadata": {},
   "outputs": [],
   "source": [
    "chosen_service_types = set(basic_services) | set(advanced_services) | set(comfort_services)\n",
    "service_weights = {service_type: get_service_weight(service_type) for service_type in chosen_service_types if f'capacity_{service_type}' in blocks.columns}"
   ]
  },
  {
   "cell_type": "markdown",
   "metadata": {},
   "source": [
    "### Initialize and run optimizer"
   ]
  },
  {
   "cell_type": "code",
   "execution_count": null,
   "metadata": {},
   "outputs": [],
   "source": [
    "import csv\n",
    "import numpy as np\n",
    "def save_provisions_capacity(facade, var_adapter):\n",
    "    start_prov = facade.start_provisions\n",
    "\n",
    "    max_capacities = facade.get_max_capacities(1536)\n",
    "\n",
    "    with open('./results/capacity_provisions_data.csv', 'w', newline='') as csvfile:\n",
    "        writer = csv.writer(csvfile)\n",
    "        writer.writerow([\"Service type\", \"Capacity required\", \"Total capacity of units\", \"Demand left (start)\", \"Demand left (after opt.)\", \"Opt. provisions\", \"Start provisions\"])  # Write header row\n",
    "        for st, max_cap in max_capacities.items():\n",
    "            vars = var_adapter(np.zeros(facade.num_params))\n",
    "            tot_cap = 0\n",
    "            max_cap *= 1.2\n",
    "            for var in vars:\n",
    "                if var.service_type == st:\n",
    "                    var.count = int(np.ceil(max_cap / var.capacity))\n",
    "                    tot_cap = var.total_capacity\n",
    "                    break\n",
    "            vars_df = var_adapter._variables_to_df(vars)\n",
    "\n",
    "            demand = facade._provision_adapter.get_start_provision_df(st)[\"demand_left\"].sum()\n",
    "\n",
    "            prov = facade._provision_adapter.calculate_provision(st, vars_df)\n",
    "\n",
    "            demand_opt = facade._provision_adapter.get_last_provision_df(st)[\"demand_left\"].sum()\n",
    "\n",
    "            writer.writerow([st, max_cap, tot_cap, demand, demand_opt, prov, start_prov[st]])"
   ]
  },
  {
   "cell_type": "code",
   "execution_count": null,
   "metadata": {},
   "outputs": [],
   "source": [
    "from blocksnet.optimization.services import (\n",
    "    TPEOptimizer,\n",
    "    WeightedObjective,\n",
    "    WeightedConstraints,\n",
    "    Facade,\n",
    "    BlockSolution,\n",
    "    GradientChooser,\n",
    ")\n",
    "from tqdm import tqdm\n",
    "\n",
    "var_adapter = BlockSolution(blocks_lu)\n",
    "\n",
    "facade = Facade(\n",
    "    blocks_lu=blocks_lu,\n",
    "    blocks_df=blocks,\n",
    "    accessibility_matrix=accessibility_matrix,\n",
    "    var_adapter=var_adapter,\n",
    ")\n",
    "\n",
    "for service_type, weight in tqdm(service_weights.items()):\n",
    "    facade.add_service_type(service_type, weight, blocks.rename(columns={f'capacity_{service_type}': 'capacity'})[['capacity']])\n",
    "\n",
    "objective = WeightedObjective(num_params=facade.num_params, facade=facade, weights=service_weights, max_evals=50)\n",
    "\n",
    "constraints = WeightedConstraints(num_params=facade.num_params, facade=facade)\n",
    "\n",
    "tpe_optimizer = TPEOptimizer(\n",
    "    objective=objective, constraints=constraints, vars_chooser=GradientChooser(facade, facade.num_params, 5)\n",
    ")\n",
    "\n",
    "best_x, best_val, perc, func_evals = tpe_optimizer.run(max_runs=1000, timeout=60000, initial_runs_num=1)"
   ]
  },
  {
   "cell_type": "markdown",
   "metadata": {},
   "source": [
    "Convert to services dataframe"
   ]
  },
  {
   "cell_type": "code",
   "execution_count": null,
   "metadata": {},
   "outputs": [],
   "source": [
    "solution_df = facade.solution_to_services_df(best_x)\n",
    "solution_df.to_csv(f'tpe_services.csv')\n",
    "solution_df.head(5)"
   ]
  },
  {
   "cell_type": "markdown",
   "metadata": {},
   "source": [
    "### Visualization"
   ]
  },
  {
   "cell_type": "code",
   "execution_count": null,
   "metadata": {},
   "outputs": [],
   "source": [
    "import matplotlib.pyplot as plt\n",
    "\n",
    "\n",
    "def plot_df(df):\n",
    "    df_called_obj = df.loc[df[\"called_obj\"] == True]\n",
    "\n",
    "    plt.scatter(df_called_obj[\"func_evals\"], df_called_obj[\"best_val\"], c=\"red\", s=5)\n",
    "\n",
    "    df_called_obj = pd.concat(\n",
    "        [pd.DataFrame([[-1, None, 0, 0, None, 0, False, 0]], columns=df_called_obj.columns), df_called_obj]\n",
    "    )\n",
    "    plt.plot(\n",
    "        df_called_obj[\"func_evals\"], df_called_obj[\"best_val\"], label=\"Best Value (TPE)\", color=\"blue\", linewidth=1\n",
    "    )\n",
    "    # Добавление точек с цветом в зависимости от 'called_obj'\n",
    "    # Настройка осей и заголовка\n",
    "    plt.xlabel(\"Number of objective evaluation\")\n",
    "    plt.ylabel(\"Best Value\")\n",
    "    plt.title(\"Best Value Across Trials\")\n",
    "    plt.legend()\n",
    "    plt.grid(True)\n",
    "\n",
    "    # Отображение графика\n",
    "    plt.show()"
   ]
  },
  {
   "cell_type": "code",
   "execution_count": null,
   "metadata": {},
   "outputs": [],
   "source": [
    "import pandas as pd\n",
    "\n",
    "tpe_df = pd.read_csv(\"tpe_trials.csv\")\n",
    "plot_df(tpe_df)"
   ]
  }
 ],
 "metadata": {
  "kernelspec": {
   "display_name": ".venv",
   "language": "python",
   "name": "python3"
  },
  "language_info": {
   "codemirror_mode": {
    "name": "ipython",
    "version": 3
   },
   "file_extension": ".py",
   "mimetype": "text/x-python",
   "name": "python",
   "nbconvert_exporter": "python",
   "pygments_lexer": "ipython3",
   "version": "3.12.3"
  }
 },
 "nbformat": 4,
 "nbformat_minor": 2
}
