{
 "cells": [
  {
   "cell_type": "markdown",
   "metadata": {},
   "source": [
    "# Service optimization"
   ]
  },
  {
   "cell_type": "code",
   "execution_count": 1,
   "metadata": {},
   "outputs": [
    {
     "data": {
      "text/html": [
       "<div>\n",
       "<style scoped>\n",
       "    .dataframe tbody tr th:only-of-type {\n",
       "        vertical-align: middle;\n",
       "    }\n",
       "\n",
       "    .dataframe tbody tr th {\n",
       "        vertical-align: top;\n",
       "    }\n",
       "\n",
       "    .dataframe thead th {\n",
       "        text-align: right;\n",
       "    }\n",
       "</style>\n",
       "<table border=\"1\" class=\"dataframe\">\n",
       "  <thead>\n",
       "    <tr style=\"text-align: right;\">\n",
       "      <th></th>\n",
       "      <th>geometry</th>\n",
       "      <th>population</th>\n",
       "      <th>site_area</th>\n",
       "      <th>capacity_convenience</th>\n",
       "      <th>capacity_cafe</th>\n",
       "      <th>capacity_mall</th>\n",
       "      <th>capacity_pharmacy</th>\n",
       "      <th>capacity_bank</th>\n",
       "      <th>capacity_fuel</th>\n",
       "      <th>capacity_pitch</th>\n",
       "      <th>...</th>\n",
       "      <th>capacity_bus_station</th>\n",
       "      <th>capacity_bus_stop</th>\n",
       "      <th>capacity_pier</th>\n",
       "      <th>capacity_animal_shelter</th>\n",
       "      <th>capacity_prison</th>\n",
       "      <th>capacity_landfill</th>\n",
       "      <th>capacity_plant_nursery</th>\n",
       "      <th>capacity_greenhouse_complex</th>\n",
       "      <th>capacity_warehouse</th>\n",
       "      <th>capacity_machine_building_plant</th>\n",
       "    </tr>\n",
       "    <tr>\n",
       "      <th>id</th>\n",
       "      <th></th>\n",
       "      <th></th>\n",
       "      <th></th>\n",
       "      <th></th>\n",
       "      <th></th>\n",
       "      <th></th>\n",
       "      <th></th>\n",
       "      <th></th>\n",
       "      <th></th>\n",
       "      <th></th>\n",
       "      <th></th>\n",
       "      <th></th>\n",
       "      <th></th>\n",
       "      <th></th>\n",
       "      <th></th>\n",
       "      <th></th>\n",
       "      <th></th>\n",
       "      <th></th>\n",
       "      <th></th>\n",
       "      <th></th>\n",
       "      <th></th>\n",
       "    </tr>\n",
       "  </thead>\n",
       "  <tbody>\n",
       "    <tr>\n",
       "      <th>0</th>\n",
       "      <td>POLYGON ((354918.622 6625258.829, 354901.464 6...</td>\n",
       "      <td>565.0</td>\n",
       "      <td>804466.712114</td>\n",
       "      <td>208.0</td>\n",
       "      <td>0.0</td>\n",
       "      <td>2216.0</td>\n",
       "      <td>20.0</td>\n",
       "      <td>0.0</td>\n",
       "      <td>0.0</td>\n",
       "      <td>0.0</td>\n",
       "      <td>...</td>\n",
       "      <td>0.0</td>\n",
       "      <td>0.0</td>\n",
       "      <td>0.0</td>\n",
       "      <td>0.0</td>\n",
       "      <td>0.0</td>\n",
       "      <td>0.0</td>\n",
       "      <td>0.0</td>\n",
       "      <td>0.0</td>\n",
       "      <td>0.0</td>\n",
       "      <td>0.0</td>\n",
       "    </tr>\n",
       "    <tr>\n",
       "      <th>1</th>\n",
       "      <td>POLYGON ((355412.142 6623378.149, 355411.7 662...</td>\n",
       "      <td>42.0</td>\n",
       "      <td>23173.129862</td>\n",
       "      <td>811.0</td>\n",
       "      <td>25.0</td>\n",
       "      <td>0.0</td>\n",
       "      <td>0.0</td>\n",
       "      <td>148.0</td>\n",
       "      <td>0.0</td>\n",
       "      <td>0.0</td>\n",
       "      <td>...</td>\n",
       "      <td>0.0</td>\n",
       "      <td>20.0</td>\n",
       "      <td>0.0</td>\n",
       "      <td>0.0</td>\n",
       "      <td>0.0</td>\n",
       "      <td>0.0</td>\n",
       "      <td>0.0</td>\n",
       "      <td>0.0</td>\n",
       "      <td>0.0</td>\n",
       "      <td>0.0</td>\n",
       "    </tr>\n",
       "    <tr>\n",
       "      <th>2</th>\n",
       "      <td>POLYGON ((353934.329 6625429.433, 353923.453 6...</td>\n",
       "      <td>19.0</td>\n",
       "      <td>363005.815802</td>\n",
       "      <td>0.0</td>\n",
       "      <td>0.0</td>\n",
       "      <td>0.0</td>\n",
       "      <td>0.0</td>\n",
       "      <td>0.0</td>\n",
       "      <td>501.0</td>\n",
       "      <td>0.0</td>\n",
       "      <td>...</td>\n",
       "      <td>0.0</td>\n",
       "      <td>40.0</td>\n",
       "      <td>0.0</td>\n",
       "      <td>0.0</td>\n",
       "      <td>0.0</td>\n",
       "      <td>0.0</td>\n",
       "      <td>0.0</td>\n",
       "      <td>0.0</td>\n",
       "      <td>0.0</td>\n",
       "      <td>0.0</td>\n",
       "    </tr>\n",
       "  </tbody>\n",
       "</table>\n",
       "<p>3 rows × 67 columns</p>\n",
       "</div>"
      ],
      "text/plain": [
       "                                             geometry  population  \\\n",
       "id                                                                  \n",
       "0   POLYGON ((354918.622 6625258.829, 354901.464 6...       565.0   \n",
       "1   POLYGON ((355412.142 6623378.149, 355411.7 662...        42.0   \n",
       "2   POLYGON ((353934.329 6625429.433, 353923.453 6...        19.0   \n",
       "\n",
       "        site_area  capacity_convenience  capacity_cafe  capacity_mall  \\\n",
       "id                                                                      \n",
       "0   804466.712114                 208.0            0.0         2216.0   \n",
       "1    23173.129862                 811.0           25.0            0.0   \n",
       "2   363005.815802                   0.0            0.0            0.0   \n",
       "\n",
       "    capacity_pharmacy  capacity_bank  capacity_fuel  capacity_pitch  ...  \\\n",
       "id                                                                   ...   \n",
       "0                20.0            0.0            0.0             0.0  ...   \n",
       "1                 0.0          148.0            0.0             0.0  ...   \n",
       "2                 0.0            0.0          501.0             0.0  ...   \n",
       "\n",
       "    capacity_bus_station  capacity_bus_stop  capacity_pier  \\\n",
       "id                                                           \n",
       "0                    0.0                0.0            0.0   \n",
       "1                    0.0               20.0            0.0   \n",
       "2                    0.0               40.0            0.0   \n",
       "\n",
       "    capacity_animal_shelter  capacity_prison  capacity_landfill  \\\n",
       "id                                                                \n",
       "0                       0.0              0.0                0.0   \n",
       "1                       0.0              0.0                0.0   \n",
       "2                       0.0              0.0                0.0   \n",
       "\n",
       "    capacity_plant_nursery  capacity_greenhouse_complex  capacity_warehouse  \\\n",
       "id                                                                            \n",
       "0                      0.0                          0.0                 0.0   \n",
       "1                      0.0                          0.0                 0.0   \n",
       "2                      0.0                          0.0                 0.0   \n",
       "\n",
       "    capacity_machine_building_plant  \n",
       "id                                   \n",
       "0                               0.0  \n",
       "1                               0.0  \n",
       "2                               0.0  \n",
       "\n",
       "[3 rows x 67 columns]"
      ]
     },
     "execution_count": 1,
     "metadata": {},
     "output_type": "execute_result"
    }
   ],
   "source": [
    "import geopandas as gpd\n",
    "\n",
    "blocks = gpd.read_parquet('./../../data/blocks.parquet')\n",
    "columns = [c for c in blocks.columns if 'capacity_' in c]\n",
    "blocks = blocks[['geometry', 'population', 'site_area', *columns]].copy()\n",
    "blocks.head(3)"
   ]
  },
  {
   "cell_type": "code",
   "execution_count": 2,
   "metadata": {},
   "outputs": [
    {
     "name": "stderr",
     "output_type": "stream",
     "text": [
      "/home/ivan/work/ovanes-projects/urban-planning-optimizer/general/.venv/lib/python3.12/site-packages/pandas/io/formats/format.py:1458: RuntimeWarning: overflow encountered in cast\n",
      "  has_large_values = (abs_vals > 1e6).any()\n"
     ]
    },
    {
     "data": {
      "text/html": [
       "<div>\n",
       "<style scoped>\n",
       "    .dataframe tbody tr th:only-of-type {\n",
       "        vertical-align: middle;\n",
       "    }\n",
       "\n",
       "    .dataframe tbody tr th {\n",
       "        vertical-align: top;\n",
       "    }\n",
       "\n",
       "    .dataframe thead th {\n",
       "        text-align: right;\n",
       "    }\n",
       "</style>\n",
       "<table border=\"1\" class=\"dataframe\">\n",
       "  <thead>\n",
       "    <tr style=\"text-align: right;\">\n",
       "      <th></th>\n",
       "      <th>0</th>\n",
       "      <th>1</th>\n",
       "      <th>2</th>\n",
       "      <th>3</th>\n",
       "      <th>4</th>\n",
       "      <th>5</th>\n",
       "      <th>6</th>\n",
       "      <th>7</th>\n",
       "      <th>8</th>\n",
       "      <th>9</th>\n",
       "      <th>...</th>\n",
       "      <th>16310</th>\n",
       "      <th>16311</th>\n",
       "      <th>16312</th>\n",
       "      <th>16313</th>\n",
       "      <th>16314</th>\n",
       "      <th>16315</th>\n",
       "      <th>16316</th>\n",
       "      <th>16317</th>\n",
       "      <th>16318</th>\n",
       "      <th>16319</th>\n",
       "    </tr>\n",
       "  </thead>\n",
       "  <tbody>\n",
       "    <tr>\n",
       "      <th>0</th>\n",
       "      <td>0.000000</td>\n",
       "      <td>18.718750</td>\n",
       "      <td>9.234375</td>\n",
       "      <td>17.21875</td>\n",
       "      <td>30.296875</td>\n",
       "      <td>27.390625</td>\n",
       "      <td>30.671875</td>\n",
       "      <td>23.281250</td>\n",
       "      <td>78.6875</td>\n",
       "      <td>81.2500</td>\n",
       "      <td>...</td>\n",
       "      <td>76.5625</td>\n",
       "      <td>102.5625</td>\n",
       "      <td>97.5000</td>\n",
       "      <td>132.250</td>\n",
       "      <td>130.8750</td>\n",
       "      <td>142.125</td>\n",
       "      <td>247.625</td>\n",
       "      <td>228.625</td>\n",
       "      <td>247.625</td>\n",
       "      <td>124.6250</td>\n",
       "    </tr>\n",
       "    <tr>\n",
       "      <th>1</th>\n",
       "      <td>17.859375</td>\n",
       "      <td>0.000000</td>\n",
       "      <td>19.015625</td>\n",
       "      <td>7.65625</td>\n",
       "      <td>20.281250</td>\n",
       "      <td>25.250000</td>\n",
       "      <td>25.234375</td>\n",
       "      <td>15.765625</td>\n",
       "      <td>76.8750</td>\n",
       "      <td>79.4375</td>\n",
       "      <td>...</td>\n",
       "      <td>74.6875</td>\n",
       "      <td>100.7500</td>\n",
       "      <td>95.6875</td>\n",
       "      <td>130.500</td>\n",
       "      <td>129.0000</td>\n",
       "      <td>140.250</td>\n",
       "      <td>245.875</td>\n",
       "      <td>226.875</td>\n",
       "      <td>245.875</td>\n",
       "      <td>112.5000</td>\n",
       "    </tr>\n",
       "    <tr>\n",
       "      <th>2</th>\n",
       "      <td>9.234375</td>\n",
       "      <td>20.796875</td>\n",
       "      <td>0.000000</td>\n",
       "      <td>20.21875</td>\n",
       "      <td>27.968750</td>\n",
       "      <td>25.062500</td>\n",
       "      <td>28.343750</td>\n",
       "      <td>20.953125</td>\n",
       "      <td>71.8750</td>\n",
       "      <td>74.4375</td>\n",
       "      <td>...</td>\n",
       "      <td>69.7500</td>\n",
       "      <td>95.8125</td>\n",
       "      <td>90.6875</td>\n",
       "      <td>125.500</td>\n",
       "      <td>124.0625</td>\n",
       "      <td>135.375</td>\n",
       "      <td>240.875</td>\n",
       "      <td>221.875</td>\n",
       "      <td>240.875</td>\n",
       "      <td>124.6250</td>\n",
       "    </tr>\n",
       "    <tr>\n",
       "      <th>3</th>\n",
       "      <td>15.937500</td>\n",
       "      <td>7.449219</td>\n",
       "      <td>18.421875</td>\n",
       "      <td>0.00000</td>\n",
       "      <td>21.109375</td>\n",
       "      <td>24.984375</td>\n",
       "      <td>27.781250</td>\n",
       "      <td>16.593750</td>\n",
       "      <td>76.3125</td>\n",
       "      <td>78.8125</td>\n",
       "      <td>...</td>\n",
       "      <td>74.1250</td>\n",
       "      <td>100.1875</td>\n",
       "      <td>95.0625</td>\n",
       "      <td>129.875</td>\n",
       "      <td>128.5000</td>\n",
       "      <td>139.750</td>\n",
       "      <td>245.250</td>\n",
       "      <td>226.250</td>\n",
       "      <td>245.250</td>\n",
       "      <td>113.3750</td>\n",
       "    </tr>\n",
       "    <tr>\n",
       "      <th>4</th>\n",
       "      <td>31.906250</td>\n",
       "      <td>19.765625</td>\n",
       "      <td>31.734375</td>\n",
       "      <td>21.28125</td>\n",
       "      <td>0.000000</td>\n",
       "      <td>21.781250</td>\n",
       "      <td>23.125000</td>\n",
       "      <td>15.429688</td>\n",
       "      <td>89.5625</td>\n",
       "      <td>92.1250</td>\n",
       "      <td>...</td>\n",
       "      <td>87.4375</td>\n",
       "      <td>113.5000</td>\n",
       "      <td>108.3750</td>\n",
       "      <td>143.125</td>\n",
       "      <td>141.7500</td>\n",
       "      <td>153.000</td>\n",
       "      <td>258.500</td>\n",
       "      <td>239.500</td>\n",
       "      <td>258.500</td>\n",
       "      <td>108.3125</td>\n",
       "    </tr>\n",
       "  </tbody>\n",
       "</table>\n",
       "<p>5 rows × 16320 columns</p>\n",
       "</div>"
      ],
      "text/plain": [
       "       0          1          2         3          4          5          6      \\\n",
       "0   0.000000  18.718750   9.234375  17.21875  30.296875  27.390625  30.671875   \n",
       "1  17.859375   0.000000  19.015625   7.65625  20.281250  25.250000  25.234375   \n",
       "2   9.234375  20.796875   0.000000  20.21875  27.968750  25.062500  28.343750   \n",
       "3  15.937500   7.449219  18.421875   0.00000  21.109375  24.984375  27.781250   \n",
       "4  31.906250  19.765625  31.734375  21.28125   0.000000  21.781250  23.125000   \n",
       "\n",
       "       7        8        9      ...    16310     16311     16312    16313  \\\n",
       "0  23.281250  78.6875  81.2500  ...  76.5625  102.5625   97.5000  132.250   \n",
       "1  15.765625  76.8750  79.4375  ...  74.6875  100.7500   95.6875  130.500   \n",
       "2  20.953125  71.8750  74.4375  ...  69.7500   95.8125   90.6875  125.500   \n",
       "3  16.593750  76.3125  78.8125  ...  74.1250  100.1875   95.0625  129.875   \n",
       "4  15.429688  89.5625  92.1250  ...  87.4375  113.5000  108.3750  143.125   \n",
       "\n",
       "      16314    16315    16316    16317    16318     16319  \n",
       "0  130.8750  142.125  247.625  228.625  247.625  124.6250  \n",
       "1  129.0000  140.250  245.875  226.875  245.875  112.5000  \n",
       "2  124.0625  135.375  240.875  221.875  240.875  124.6250  \n",
       "3  128.5000  139.750  245.250  226.250  245.250  113.3750  \n",
       "4  141.7500  153.000  258.500  239.500  258.500  108.3125  \n",
       "\n",
       "[5 rows x 16320 columns]"
      ]
     },
     "execution_count": 2,
     "metadata": {},
     "output_type": "execute_result"
    }
   ],
   "source": [
    "import pandas as pd\n",
    "\n",
    "accessibility_matrix = pd.read_pickle('./../../data/accessibility_matrix.pickle')\n",
    "accessibility_matrix.head()"
   ]
  },
  {
   "cell_type": "markdown",
   "metadata": {},
   "source": [
    "### Select ID of optimized blocks"
   ]
  },
  {
   "cell_type": "code",
   "execution_count": 3,
   "metadata": {},
   "outputs": [],
   "source": [
    "from blocksnet.enums import LandUse\n",
    "blocks_lu = {\n",
    "    1536 : LandUse.BUSINESS\n",
    "}"
   ]
  },
  {
   "cell_type": "markdown",
   "metadata": {},
   "source": [
    "### Service distribution"
   ]
  },
  {
   "cell_type": "code",
   "execution_count": 4,
   "metadata": {},
   "outputs": [],
   "source": [
    "basic_services = {\n",
    "    \"kindergarten\": 0.2,\n",
    "    \"school\": 0.2,\n",
    "    \"pharmacy\": 0.2,\n",
    "    \"polyclinics\": 0.3,\n",
    "    \"convenience\": 0.2,   \n",
    "    \"cafe\": 0.15,\n",
    "    \"playground\": 0.2,\n",
    "    \"post\": 0.1,\n",
    "    \"hairdresser\": 0.1\n",
    "}\n",
    "advanced_services = {\n",
    "    \"hospital\": 0.5,\n",
    "    \"supermarket\": 0.4,\n",
    "    \"restaurant\": 0.3,\n",
    "    \"park\": 0.8,\n",
    "    \"bank\": 0.3,\n",
    "    \"fuel\": 0.25,\n",
    "    \"police\": 0.2,\n",
    "    \"cinema\": 0.2,\n",
    "    \"market\": 0.2,\n",
    "    \"religion\": 0.5,\n",
    "    \"multifunctional_center\": 0.1\n",
    "}\n",
    "comfort_services = {\n",
    "    \"mall\": 0.3,   \n",
    "    \"swimming_pool\": 0.4,\n",
    "    \"theatre\": 0.2,\n",
    "    \"museum\": 0.2,\n",
    "    \"university\": 0.2,\n",
    "    \"sanatorium\": 0.2,\n",
    "}\n",
    "\n",
    "\n",
    "def get_service_weight(service_name):\n",
    "    if service_name in basic_services:\n",
    "        return 0.5714 * basic_services[service_name] / sum(basic_services.values())\n",
    "    elif service_name in advanced_services:\n",
    "        return 0.2857 * advanced_services[service_name] / sum(advanced_services.values())\n",
    "    elif service_name in comfort_services:\n",
    "        return 0.1429 * comfort_services[service_name] / sum(comfort_services.values())\n",
    "    return 0"
   ]
  },
  {
   "cell_type": "markdown",
   "metadata": {},
   "source": [
    "### Service types and weights"
   ]
  },
  {
   "cell_type": "code",
   "execution_count": 5,
   "metadata": {},
   "outputs": [],
   "source": [
    "chosen_service_types = set(basic_services) | set(advanced_services) | set(comfort_services)\n",
    "service_weights = {service_type: get_service_weight(service_type) for service_type in chosen_service_types if f'capacity_{service_type}' in blocks.columns}"
   ]
  },
  {
   "cell_type": "markdown",
   "metadata": {},
   "source": [
    "### Initialize and run optimizer"
   ]
  },
  {
   "cell_type": "code",
   "execution_count": 6,
   "metadata": {},
   "outputs": [],
   "source": [
    "import csv\n",
    "import numpy as np\n",
    "def save_provisions_capacity(facade, var_adapter):\n",
    "    start_prov = facade.start_provisions\n",
    "\n",
    "    max_capacities = facade.get_max_capacities(1536)\n",
    "\n",
    "    with open('./results/capacity_provisions_data.csv', 'w', newline='') as csvfile:\n",
    "        writer = csv.writer(csvfile)\n",
    "        writer.writerow([\"Service type\", \"Capacity required\", \"Total capacity of units\", \"Demand left (start)\", \"Demand left (after opt.)\", \"Opt. provisions\", \"Start provisions\"])  # Write header row\n",
    "        for st, max_cap in max_capacities.items():\n",
    "            vars = var_adapter(np.zeros(facade.num_params))\n",
    "            tot_cap = 0\n",
    "            max_cap *= 1.2\n",
    "            for var in vars:\n",
    "                if var.service_type == st:\n",
    "                    var.count = int(np.ceil(max_cap / var.capacity))\n",
    "                    tot_cap = var.total_capacity\n",
    "                    break\n",
    "            vars_df = var_adapter._variables_to_df(vars)\n",
    "\n",
    "            demand = facade._provision_adapter.get_start_provision_df(st)[\"demand_left\"].sum()\n",
    "\n",
    "            prov = facade._provision_adapter.calculate_provision(st, vars_df)\n",
    "\n",
    "            demand_opt = facade._provision_adapter.get_last_provision_df(st)[\"demand_left\"].sum()\n",
    "\n",
    "            writer.writerow([st, max_cap, tot_cap, demand, demand_opt, prov, start_prov[st]])"
   ]
  },
  {
   "cell_type": "code",
   "execution_count": null,
   "metadata": {},
   "outputs": [
    {
     "name": "stderr",
     "output_type": "stream",
     "text": [
      "/home/ivan/work/ovanes-projects/urban-planning-optimizer/general/.venv/lib/python3.12/site-packages/tqdm/auto.py:21: TqdmWarning: IProgress not found. Please update jupyter and ipywidgets. See https://ipywidgets.readthedocs.io/en/stable/user_install.html\n",
      "  from .autonotebook import tqdm as notebook_tqdm\n",
      "100%|██████████| 25/25 [08:01<00:00, 19.25s/it]\n",
      "[I 2025-05-14 03:13:57,555] A new study created in memory with name: no-name-f9dcc2ce-7fa4-4930-9aa3-940270186cd2\n",
      "Best trial: 0. Best value: 0.633296:   0%|          | 1/1000 [00:00<14:39,  1.14it/s, 0.88/60000 seconds]"
     ]
    },
    {
     "name": "stdout",
     "output_type": "stream",
     "text": [
      "[I 2025-05-14 03:13:58,435] Trial 0 finished with value: 0.6332961339703179 and parameters: {'x_0': 6708, 'x_3': 140, 'x_4': 2579, 'x_5': 1428, 'x_7': 4985, 'x_8': 22124, 'x_9': 22124}. Best is trial 0 with value: 0.6332961339703179.\n"
     ]
    },
    {
     "name": "stderr",
     "output_type": "stream",
     "text": [
      "Best trial: 0. Best value: 0.633296:   0%|          | 2/1000 [00:01<15:23,  1.08it/s, 1.84/60000 seconds]"
     ]
    },
    {
     "name": "stdout",
     "output_type": "stream",
     "text": [
      "[I 2025-05-14 03:13:59,392] Trial 1 finished with value: 0.6332961339703179 and parameters: {'x_0': 6400, 'x_3': 0, 'x_4': 2400, 'x_5': 0, 'x_7': 4800, 'x_8': 18000, 'x_9': 18000}. Best is trial 0 with value: 0.6332961339703179.\n"
     ]
    },
    {
     "name": "stderr",
     "output_type": "stream",
     "text": [
      "Best trial: 2. Best value: 0.643604:   0%|          | 3/1000 [00:02<16:31,  1.01it/s, 2.91/60000 seconds]"
     ]
    },
    {
     "name": "stdout",
     "output_type": "stream",
     "text": [
      "[I 2025-05-14 03:14:00,468] Trial 2 finished with value: 0.6436043207761173 and parameters: {'x_0': 18822, 'x_4': 6006, 'x_7': 12521, 'x_8': 52411, 'x_9': 41856}. Best is trial 2 with value: 0.6436043207761173.\n"
     ]
    },
    {
     "name": "stderr",
     "output_type": "stream",
     "text": [
      "Best trial: 2. Best value: 0.643604:   0%|          | 4/1000 [00:03<16:01,  1.04it/s, 3.83/60000 seconds]"
     ]
    },
    {
     "name": "stdout",
     "output_type": "stream",
     "text": [
      "[I 2025-05-14 03:14:01,388] Trial 3 finished with value: 0.6436043207761173 and parameters: {'x_0': 18700, 'x_4': 6000, 'x_7': 12000, 'x_8': 50500, 'x_9': 36000}. Best is trial 2 with value: 0.6436043207761173.\n"
     ]
    },
    {
     "name": "stderr",
     "output_type": "stream",
     "text": [
      "Best trial: 4. Best value: 0.663949:   0%|          | 5/1000 [00:04<16:05,  1.03it/s, 4.81/60000 seconds]"
     ]
    },
    {
     "name": "stdout",
     "output_type": "stream",
     "text": [
      "[I 2025-05-14 03:14:02,369] Trial 4 finished with value: 0.663949326963307 and parameters: {'x_0': 52849, 'x_4': 12023, 'x_7': 28847, 'x_8': 61316, 'x_9': 66032}. Best is trial 4 with value: 0.663949326963307.\n"
     ]
    },
    {
     "name": "stderr",
     "output_type": "stream",
     "text": [
      "Best trial: 4. Best value: 0.663949:   1%|          | 6/1000 [00:06<17:24,  1.05s/it, 6.02/60000 seconds]"
     ]
    },
    {
     "name": "stdout",
     "output_type": "stream",
     "text": [
      "[I 2025-05-14 03:14:03,573] Trial 5 finished with value: 0.663949326963307 and parameters: {'x_0': 49700, 'x_4': 12000, 'x_7': 28800, 'x_8': 50500, 'x_9': 63000}. Best is trial 4 with value: 0.663949326963307.\n"
     ]
    },
    {
     "name": "stderr",
     "output_type": "stream",
     "text": [
      "Best trial: 6. Best value: 0.667146:   1%|          | 7/1000 [00:06<16:35,  1.00s/it, 6.92/60000 seconds]"
     ]
    },
    {
     "name": "stdout",
     "output_type": "stream",
     "text": [
      "[I 2025-05-14 03:14:04,479] Trial 6 finished with value: 0.6671458191167801 and parameters: {'x_0': 67069, 'x_4': 8467, 'x_7': 34337, 'x_9': 99788}. Best is trial 6 with value: 0.6671458191167801.\n"
     ]
    },
    {
     "name": "stderr",
     "output_type": "stream",
     "text": [
      "Best trial: 6. Best value: 0.667146:   1%|          | 8/1000 [00:07<15:55,  1.04it/s, 7.80/60000 seconds]"
     ]
    },
    {
     "name": "stdout",
     "output_type": "stream",
     "text": [
      "[I 2025-05-14 03:14:05,359] Trial 7 finished with value: 0.6671458191167801 and parameters: {'x_0': 65200, 'x_4': 8400, 'x_7': 34300, 'x_9': 99000}. Best is trial 6 with value: 0.6671458191167801.\n"
     ]
    },
    {
     "name": "stderr",
     "output_type": "stream",
     "text": [
      "Best trial: 6. Best value: 0.667146:   1%|          | 9/1000 [00:08<15:12,  1.09it/s, 8.63/60000 seconds]"
     ]
    },
    {
     "name": "stdout",
     "output_type": "stream",
     "text": [
      "[I 2025-05-14 03:14:06,187] Trial 8 finished with value: 0.6613813108665557 and parameters: {'x_0': 38313, 'x_4': 15576, 'x_7': 21598, 'x_8': 145203, 'x_9': 4}. Best is trial 6 with value: 0.6671458191167801.\n"
     ]
    },
    {
     "name": "stderr",
     "output_type": "stream",
     "text": [
      "Best trial: 6. Best value: 0.667146:   1%|          | 10/1000 [00:09<13:10,  1.25it/s, 9.16/60000 seconds]"
     ]
    },
    {
     "name": "stdout",
     "output_type": "stream",
     "text": [
      "[I 2025-05-14 03:14:06,710] Trial 9 finished with value: 0.6594970714681336 and parameters: {'x_0': 37400, 'x_4': 15560, 'x_7': 21400, 'x_8': 130000, 'x_9': 0}. Best is trial 6 with value: 0.6671458191167801.\n"
     ]
    },
    {
     "name": "stderr",
     "output_type": "stream",
     "text": [
      "Best trial: 6. Best value: 0.667146:   1%|          | 11/1000 [00:10<13:53,  1.19it/s, 10.10/60000 seconds]"
     ]
    },
    {
     "name": "stdout",
     "output_type": "stream",
     "text": [
      "[I 2025-05-14 03:14:07,653] Trial 10 finished with value: 0.6561128916994519 and parameters: {'x_0': 66568, 'x_4': 45, 'x_7': 39504, 'x_9': 113436}. Best is trial 6 with value: 0.6671458191167801.\n"
     ]
    },
    {
     "name": "stderr",
     "output_type": "stream",
     "text": [
      "Best trial: 6. Best value: 0.667146:   1%|          | 12/1000 [00:10<14:00,  1.18it/s, 10.97/60000 seconds]"
     ]
    },
    {
     "name": "stdout",
     "output_type": "stream",
     "text": [
      "[I 2025-05-14 03:14:08,522] Trial 11 finished with value: 0.6561128916994519 and parameters: {'x_0': 65200, 'x_4': 0, 'x_7': 39400, 'x_9': 108000}. Best is trial 6 with value: 0.6671458191167801.\n"
     ]
    },
    {
     "name": "stderr",
     "output_type": "stream",
     "text": [
      "Best trial: 6. Best value: 0.667146:   1%|▏         | 13/1000 [00:11<13:23,  1.23it/s, 11.70/60000 seconds]"
     ]
    },
    {
     "name": "stdout",
     "output_type": "stream",
     "text": [
      "[I 2025-05-14 03:14:09,250] Trial 12 finished with value: 0.6630251093526804 and parameters: {'x_0': 54099, 'x_4': 8274, 'x_7': 30560, 'x_8': 405, 'x_9': 90373}. Best is trial 6 with value: 0.6671458191167801.\n"
     ]
    },
    {
     "name": "stderr",
     "output_type": "stream",
     "text": [
      "Best trial: 6. Best value: 0.667146:   1%|▏         | 14/1000 [00:12<14:33,  1.13it/s, 12.40/60000 seconds]"
     ]
    },
    {
     "name": "stdout",
     "output_type": "stream",
     "text": [
      "[I 2025-05-14 03:14:09,954] Trial 13 finished with value: 0.6621311750699136 and parameters: {'x_0': 52900, 'x_4': 8160, 'x_7': 30000, 'x_8': 0, 'x_9': 90000}. Best is trial 6 with value: 0.6671458191167801.\n"
     ]
    },
    {
     "name": "stderr",
     "output_type": "stream",
     "text": [
      "\n"
     ]
    }
   ],
   "source": [
    "from blocksnet.optimization.services import (\n",
    "    TPEOptimizer,\n",
    "    WeightedObjective,\n",
    "    WeightedConstraints,\n",
    "    Facade,\n",
    "    AreaSolution,\n",
    "    GradientChooser,\n",
    "    SimpleChooser,\n",
    ")\n",
    "from tqdm import tqdm\n",
    "\n",
    "var_adapter = AreaSolution(blocks_lu)\n",
    "\n",
    "facade = Facade(\n",
    "    blocks_lu=blocks_lu,\n",
    "    blocks_df=blocks,\n",
    "    accessibility_matrix=accessibility_matrix,\n",
    "    var_adapter=var_adapter,\n",
    ")\n",
    "\n",
    "for service_type, weight in tqdm(service_weights.items()):\n",
    "    facade.add_service_type(service_type, weight, blocks.rename(columns={f'capacity_{service_type}': 'capacity'})[['capacity']])\n",
    "\n",
    "objective = WeightedObjective(num_params=facade.num_params, facade=facade, weights=service_weights, max_evals=50)\n",
    "\n",
    "constraints = WeightedConstraints(num_params=facade.num_params, facade=facade)\n",
    "\n",
    "tpe_optimizer = TPEOptimizer(\n",
    "    objective=objective, constraints=constraints, vars_chooser=SimpleChooser(facade)\n",
    ")\n",
    "\n",
    "best_x, best_val, perc, func_evals = tpe_optimizer.run(max_runs=1000, timeout=60000, initial_runs_num=1)"
   ]
  },
  {
   "cell_type": "markdown",
   "metadata": {},
   "source": [
    "Convert to services dataframe"
   ]
  },
  {
   "cell_type": "code",
   "execution_count": null,
   "metadata": {},
   "outputs": [
    {
     "data": {
      "text/html": [
       "<div>\n",
       "<style scoped>\n",
       "    .dataframe tbody tr th:only-of-type {\n",
       "        vertical-align: middle;\n",
       "    }\n",
       "\n",
       "    .dataframe tbody tr th {\n",
       "        vertical-align: top;\n",
       "    }\n",
       "\n",
       "    .dataframe thead th {\n",
       "        text-align: right;\n",
       "    }\n",
       "</style>\n",
       "<table border=\"1\" class=\"dataframe\">\n",
       "  <thead>\n",
       "    <tr style=\"text-align: right;\">\n",
       "      <th></th>\n",
       "      <th>block_id</th>\n",
       "      <th>service_type</th>\n",
       "      <th>site_area</th>\n",
       "      <th>build_floor_area</th>\n",
       "      <th>capacity</th>\n",
       "      <th>count</th>\n",
       "    </tr>\n",
       "  </thead>\n",
       "  <tbody>\n",
       "    <tr>\n",
       "      <th>0</th>\n",
       "      <td>1536</td>\n",
       "      <td>swimming_pool</td>\n",
       "      <td>2000.0</td>\n",
       "      <td>1200.0</td>\n",
       "      <td>150</td>\n",
       "      <td>1</td>\n",
       "    </tr>\n",
       "    <tr>\n",
       "      <th>3</th>\n",
       "      <td>1536</td>\n",
       "      <td>swimming_pool</td>\n",
       "      <td>10000.0</td>\n",
       "      <td>5500.0</td>\n",
       "      <td>1000</td>\n",
       "      <td>4</td>\n",
       "    </tr>\n",
       "    <tr>\n",
       "      <th>20</th>\n",
       "      <td>1536</td>\n",
       "      <td>post</td>\n",
       "      <td>0.0</td>\n",
       "      <td>240.0</td>\n",
       "      <td>60</td>\n",
       "      <td>35</td>\n",
       "    </tr>\n",
       "    <tr>\n",
       "      <th>35</th>\n",
       "      <td>1536</td>\n",
       "      <td>multifunctional_center</td>\n",
       "      <td>0.0</td>\n",
       "      <td>700.0</td>\n",
       "      <td>150</td>\n",
       "      <td>1</td>\n",
       "    </tr>\n",
       "    <tr>\n",
       "      <th>37</th>\n",
       "      <td>1536</td>\n",
       "      <td>multifunctional_center</td>\n",
       "      <td>0.0</td>\n",
       "      <td>1200.0</td>\n",
       "      <td>500</td>\n",
       "      <td>28</td>\n",
       "    </tr>\n",
       "  </tbody>\n",
       "</table>\n",
       "</div>"
      ],
      "text/plain": [
       "    block_id            service_type  site_area  build_floor_area  capacity  \\\n",
       "0       1536           swimming_pool     2000.0            1200.0       150   \n",
       "3       1536           swimming_pool    10000.0            5500.0      1000   \n",
       "20      1536                    post        0.0             240.0        60   \n",
       "35      1536  multifunctional_center        0.0             700.0       150   \n",
       "37      1536  multifunctional_center        0.0            1200.0       500   \n",
       "\n",
       "    count  \n",
       "0       1  \n",
       "3       4  \n",
       "20     35  \n",
       "35      1  \n",
       "37     28  "
      ]
     },
     "execution_count": 8,
     "metadata": {},
     "output_type": "execute_result"
    }
   ],
   "source": [
    "solution_df = facade.solution_to_services_df(best_x)\n",
    "solution_df.to_csv(f'tpe_services.csv')\n",
    "solution_df.head(5)"
   ]
  },
  {
   "cell_type": "markdown",
   "metadata": {},
   "source": [
    "### Visualization"
   ]
  },
  {
   "cell_type": "code",
   "execution_count": null,
   "metadata": {},
   "outputs": [],
   "source": [
    "import matplotlib.pyplot as plt\n",
    "\n",
    "\n",
    "def plot_df(df):\n",
    "    df_called_obj = df.loc[df[\"called_obj\"] == True]\n",
    "\n",
    "    plt.scatter(df_called_obj[\"func_evals\"], df_called_obj[\"best_val\"], c=\"red\", s=5)\n",
    "\n",
    "    df_called_obj = pd.concat(\n",
    "        [pd.DataFrame([[-1, None, 0, 0, None, 0, False, 0]], columns=df_called_obj.columns), df_called_obj]\n",
    "    )\n",
    "    plt.plot(\n",
    "        df_called_obj[\"func_evals\"], df_called_obj[\"best_val\"], label=\"Best Value (TPE)\", color=\"blue\", linewidth=1\n",
    "    )\n",
    "    # Добавление точек с цветом в зависимости от 'called_obj'\n",
    "    # Настройка осей и заголовка\n",
    "    plt.xlabel(\"Number of objective evaluation\")\n",
    "    plt.ylabel(\"Best Value\")\n",
    "    plt.title(\"Best Value Across Trials\")\n",
    "    plt.legend()\n",
    "    plt.grid(True)\n",
    "\n",
    "    # Отображение графика\n",
    "    plt.show()"
   ]
  },
  {
   "cell_type": "code",
   "execution_count": null,
   "metadata": {},
   "outputs": [
    {
     "data": {
      "image/png": "[encoded data removed]",
      "text/plain": [
       "<Figure size 640x480 with 1 Axes>"
      ]
     },
     "metadata": {},
     "output_type": "display_data"
    }
   ],
   "source": [
    "import pandas as pd\n",
    "\n",
    "tpe_df = pd.read_csv(\"tpe_trials.csv\")\n",
    "plot_df(tpe_df)"
   ]
  }
 ],
 "metadata": {
  "kernelspec": {
   "display_name": ".venv",
   "language": "python",
   "name": "python3"
  },
  "language_info": {
   "codemirror_mode": {
    "name": "ipython",
    "version": 3
   },
   "file_extension": ".py",
   "mimetype": "text/x-python",
   "name": "python",
   "nbconvert_exporter": "python",
   "pygments_lexer": "ipython3",
   "version": "3.10.12"
  }
 },
 "nbformat": 4,
 "nbformat_minor": 2
}
