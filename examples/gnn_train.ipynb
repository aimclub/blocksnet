{
 "cells": [
  {
   "cell_type": "code",
   "execution_count": 6,
   "metadata": {},
   "outputs": [],
   "source": [
    "import torch\n",
    "\n",
    "train_loader = torch.load('train_loader.pth')"
   ]
  },
  {
   "cell_type": "code",
   "execution_count": 7,
   "metadata": {},
   "outputs": [],
   "source": [
    "import torch\n",
    "import torch.nn.functional as F\n",
    "from torch_geometric.nn import GATConv\n",
    "\n",
    "class GATRegressor(torch.nn.Module):\n",
    "    def __init__(self, input_dim, hidden_dim, output_dim):\n",
    "        super(GATRegressor, self).__init__()\n",
    "        # Определение слоев\n",
    "        self.gat = GATConv(input_dim, hidden_dim)\n",
    "        self.fc = torch.nn.Linear(hidden_dim, output_dim)\n",
    "\n",
    "    def forward(self, x, edge_index, edge_attr):\n",
    "        # Процесс вычислений через GAT слой с учётом весов рёбер\n",
    "        x = self.gat(x, edge_index, edge_attr=edge_attr)\n",
    "        x = F.relu(x)\n",
    "        x = self.fc(x)  # Преобразование в конечный результат\n",
    "        return x"
   ]
  },
  {
   "cell_type": "code",
   "execution_count": 8,
   "metadata": {},
   "outputs": [],
   "source": [
    "COLUMNS = ['capacity', 'demand']"
   ]
  },
  {
   "cell_type": "code",
   "execution_count": null,
   "metadata": {},
   "outputs": [
    {
     "name": "stdout",
     "output_type": "stream",
     "text": [
      "Epoch 1, Loss: 0.1354\n",
      "Epoch 2, Loss: 0.1270\n",
      "Epoch 3, Loss: 0.1203\n"
     ]
    },
    {
     "name": "stderr",
     "output_type": "stream",
     "text": [
      "Exception ignored in: <bound method IPythonKernel._clean_thread_parent_frames of <ipykernel.ipkernel.IPythonKernel object at 0x7f162c53bd60>>\n",
      "Traceback (most recent call last):\n",
      "  File \"/home/vasilstar/masterplanning/.venv/lib/python3.10/site-packages/ipykernel/ipkernel.py\", line 775, in _clean_thread_parent_frames\n",
      "    def _clean_thread_parent_frames(\n",
      "KeyboardInterrupt: \n"
     ]
    },
    {
     "name": "stdout",
     "output_type": "stream",
     "text": [
      "Epoch 4, Loss: 0.1168\n"
     ]
    }
   ],
   "source": [
    "from tqdm import tqdm\n",
    "\n",
    "device = torch.device('cpu')\n",
    "\n",
    "model = GATRegressor(input_dim=len(COLUMNS), hidden_dim=64, output_dim=1).to(device)  # output_dim=1 для регрессии\n",
    "optimizer = torch.optim.Adam(model.parameters(), lr=3e-4)\n",
    "loss_fn = torch.nn.MSELoss()  # MSE для регрессии\n",
    "\n",
    "def train(model, loader, optimizer, loss_fn, epochs=50):\n",
    "    model.train()\n",
    "    for epoch in range(epochs):\n",
    "        total_loss = 0\n",
    "        for batch in loader:\n",
    "            batch = batch.to(device)\n",
    "            \n",
    "            # Маска для NaN в y\n",
    "            mask = ~torch.isnan(batch.y)  # Пропускаем NaN значения\n",
    "\n",
    "            if mask.sum() == 0:  # Если все значения NaN, пропускаем батч\n",
    "                continue\n",
    "\n",
    "            batch.x = batch.x[mask]  # Применяем маску к x\n",
    "            batch.y = batch.y[mask]  # Применяем маску к y\n",
    "\n",
    "            # Применяем маску для рёбер\n",
    "            valid_nodes = torch.nonzero(mask).squeeze()  # Узлы, которые прошли фильтрацию\n",
    "            node_map = {old_idx.item(): new_idx for new_idx, old_idx in enumerate(valid_nodes)}  # Отображение старых индексов на новые\n",
    "\n",
    "            # Новый edge_index: фильтрация рёбер, где хотя бы один узел NaN\n",
    "            edge_mask = mask[batch.edge_index[0]] & mask[batch.edge_index[1]]\n",
    "            batch.edge_index = batch.edge_index[:, edge_mask]  # Пропускаем рёбра, где хотя бы один узел NaN\n",
    "\n",
    "            # Переиндексация рёбер: заменяем старые индексы на новые\n",
    "            # Проверяем, чтобы старые индексы были в словаре node_map\n",
    "            batch.edge_index[0] = torch.tensor([node_map.get(idx.item(), -1) for idx in batch.edge_index[0]])\n",
    "            batch.edge_index[1] = torch.tensor([node_map.get(idx.item(), -1) for idx in batch.edge_index[1]])\n",
    "\n",
    "            # Убираем рёбра, которые указывают на неверные индексы\n",
    "            valid_edges = (batch.edge_index[0] != -1) & (batch.edge_index[1] != -1)\n",
    "            batch.edge_index = batch.edge_index[:, valid_edges]\n",
    "\n",
    "            batch.edge_attr = batch.edge_attr[edge_mask] \n",
    "\n",
    "            optimizer.zero_grad()\n",
    "            out = model(batch.x, batch.edge_index, batch.edge_attr).squeeze()  # Прогоняем модель\n",
    "            loss = loss_fn(out, batch.y.float())  # MSE требует float\n",
    "\n",
    "            loss.backward()\n",
    "            optimizer.step()\n",
    "            total_loss += loss.item()\n",
    "        \n",
    "        print(f\"Epoch {epoch+1}, Loss: {total_loss / len(loader):.4f}\")\n",
    "\n",
    "train(model, train_loader, optimizer, loss_fn)"
   ]
  },
  {
   "cell_type": "code",
   "execution_count": 5,
   "metadata": {},
   "outputs": [],
   "source": [
    "torch.save(model.state_dict(), 'model.pth')"
   ]
  }
 ],
 "metadata": {
  "kernelspec": {
   "display_name": ".venv",
   "language": "python",
   "name": "python3"
  },
  "language_info": {
   "codemirror_mode": {
    "name": "ipython",
    "version": 3
   },
   "file_extension": ".py",
   "mimetype": "text/x-python",
   "name": "python",
   "nbconvert_exporter": "python",
   "pygments_lexer": "ipython3",
   "version": "3.10.12"
  }
 },
 "nbformat": 4,
 "nbformat_minor": 2
}
