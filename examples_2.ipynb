{
 "cells": [
  {
   "cell_type": "code",
   "execution_count": 2,
   "metadata": {},
   "outputs": [
    {
     "name": "stderr",
     "output_type": "stream",
     "text": [
      "/usr/local/lib/python3.8/dist-packages/geopandas/io/sql.py:154: UserWarning: pandas only supports SQLAlchemy connectable (engine/connection) or database string URI or sqlite3 DBAPI2 connection. Other DBAPI2 objects are not tested. Please consider using SQLAlchemy.\n",
      "  df = pd.read_sql(\n",
      "/usr/local/lib/python3.8/dist-packages/geopandas/io/sql.py:154: UserWarning: pandas only supports SQLAlchemy connectable (engine/connection) or database string URI or sqlite3 DBAPI2 connection. Other DBAPI2 objects are not tested. Please consider using SQLAlchemy.\n",
      "  df = pd.read_sql(\n",
      "100%|██████████| 605/605 [00:13<00:00, 45.47it/s]\n"
     ]
    },
    {
     "name": "stdout",
     "output_type": "stream",
     "text": [
      "количество кварталов c сервисом schools: 51\n",
      "количество жилых кварталов: 2110\n",
      "количество кварталов всего: 5522\n",
      "количество кварталов c ошибкой: 0\n"
     ]
    },
    {
     "name": "stderr",
     "output_type": "stream",
     "text": [
      "100%|██████████| 152800/152800 [00:25<00:00, 5917.08it/s] \n",
      "100%|██████████| 152800/152800 [00:18<00:00, 8046.80it/s] \n"
     ]
    }
   ],
   "source": [
    "import pickle\n",
    "import pandas as pd\n",
    "import psycopg2 as pg\n",
    "import geopandas as gpd\n",
    "\n",
    "from Data_getter.get_data import get_buildings, get_service\n",
    "from Data_getter.prepare_data_to_balance import DataPreparation\n",
    "from Blocks_getter.blocks_getter import BlocksModel\n",
    "from Provision_getter.provision_getter import ProvisionModel\n",
    "from Balancer.balancer import MasterPlan\n",
    "\n",
    "with open('output_data/balanced_result_block.pkl', 'rb') as f:\n",
    "    updated_block = pickle.load(f)\n",
    "\n",
    "# GROUPS = ['schools', 'kindergartens', 'recreational_areas']\n",
    "\n",
    "city_crs = 32636\n",
    "city_id = 1\n",
    "service_type = \"schools\"\n",
    "\n",
    "matrix = pd.read_pickle(\"/home/gk/jupyter/MMG_SPB.pkl\")\n",
    "engine = pg.connect(\"dbname='city_db_final' user='postgres' host='10.32.1.107' port='5432' password='postgres'\")\n",
    "buildings_gdf = get_buildings(engine=engine, city_crs=city_crs, city_id=city_id)\n",
    "service_gdf = get_service(engine=engine, city_crs=city_crs, city_id=city_id, service_type=service_type)\n",
    "# blocks_gdf = BlocksModel(city_name='Санкт-Петербург', city_admin_level=5, city_crs=city_crs).get_blocks()\n",
    "# buildings = gpd.read_parquet('/home/gk/jupyter/masterplanning/output_data/buildings.parquet')\n",
    "blocks_gdf = gpd.read_parquet('/home/gk/jupyter/masterplanning/output_data/blocks.parquet')\n",
    "services_accessabilities = {\"schools\": 30, \"kindergartens\": 30, \"recreational_areas\": 30}\n",
    "\n",
    "service_name = \"schools\"\n",
    "model = ProvisionModel(\n",
    "    SUB_GROUP=service_name,\n",
    "    blocks=blocks_gdf,\n",
    "    matrix=matrix,\n",
    "    buildings=buildings_gdf,\n",
    "    ACCS_TIME=services_accessabilities[service_name],\n",
    "    service_gdf=service_gdf\n",
    ")\n",
    "service_provision_gdf = model.run()\n",
    "blocks_with_buildings_info = DataPreparation(buildings_gdf, blocks_gdf).run()"
   ]
  },
  {
   "cell_type": "code",
   "execution_count": 9,
   "metadata": {},
   "outputs": [],
   "source": [
    "Hectare = 10000\n",
    "gdf = blocks_with_buildings_info.copy()\n",
    "school = service_provision_gdf.copy()\n",
    "gdf['current_green_area'] = 0\n",
    "gdf[\"current_building_area\"] = gdf[\"current_living_area\"] + gdf[\"current_industrial_area\"]\n",
    "gdf_ = gdf[\n",
    "    [\n",
    "        \"block_id\",\n",
    "        \"area\",\n",
    "        \"current_living_area\",\n",
    "        \"current_industrial_area\",\n",
    "        \"current_population\",\n",
    "        \"current_green_area\",\n",
    "        \"floors\",\n",
    "    ]\n",
    "]\n",
    "gdf_ = gdf_.merge(school[[\"id\", \"population_unprov_schools\"]], left_on=\"block_id\", right_on=\"id\")\n",
    "gdf_.drop(['id'], axis=1, inplace=True)\n",
    "\n",
    "gdf_['area'] = gdf_['area']/Hectare\n",
    "gdf_['current_living_area'] = gdf_['current_living_area']/Hectare\n",
    "gdf_['current_industrial_area'] = gdf_['current_industrial_area']/Hectare\n",
    "gdf_['current_green_area'] = gdf_['current_green_area']/Hectare\n",
    "\n",
    "# sample = gdf_[gdf_['current_population']!=0].sample()\n",
    "gdf_ = gdf_[gdf_['area']>10]\n"
   ]
  },
  {
   "cell_type": "code",
   "execution_count": 7,
   "metadata": {},
   "outputs": [
    {
     "data": {
      "text/html": [
       "<div>\n",
       "<style scoped>\n",
       "    .dataframe tbody tr th:only-of-type {\n",
       "        vertical-align: middle;\n",
       "    }\n",
       "\n",
       "    .dataframe tbody tr th {\n",
       "        vertical-align: top;\n",
       "    }\n",
       "\n",
       "    .dataframe thead th {\n",
       "        text-align: right;\n",
       "    }\n",
       "</style>\n",
       "<table border=\"1\" class=\"dataframe\">\n",
       "  <thead>\n",
       "    <tr style=\"text-align: right;\">\n",
       "      <th></th>\n",
       "      <th>block_id</th>\n",
       "      <th>area</th>\n",
       "      <th>current_living_area</th>\n",
       "      <th>current_industrial_area</th>\n",
       "      <th>current_population</th>\n",
       "      <th>current_green_area</th>\n",
       "      <th>floors</th>\n",
       "      <th>population_unprov_schools</th>\n",
       "    </tr>\n",
       "  </thead>\n",
       "  <tbody>\n",
       "    <tr>\n",
       "      <th>0</th>\n",
       "      <td>0</td>\n",
       "      <td>273.897213</td>\n",
       "      <td>0.000000</td>\n",
       "      <td>0.120807</td>\n",
       "      <td>0.0</td>\n",
       "      <td>0.0</td>\n",
       "      <td>0.0</td>\n",
       "      <td>0</td>\n",
       "    </tr>\n",
       "    <tr>\n",
       "      <th>1</th>\n",
       "      <td>1</td>\n",
       "      <td>279.537418</td>\n",
       "      <td>1.410618</td>\n",
       "      <td>1.662523</td>\n",
       "      <td>703.0</td>\n",
       "      <td>0.0</td>\n",
       "      <td>1.0</td>\n",
       "      <td>0</td>\n",
       "    </tr>\n",
       "    <tr>\n",
       "      <th>3</th>\n",
       "      <td>3</td>\n",
       "      <td>26.805209</td>\n",
       "      <td>0.017208</td>\n",
       "      <td>0.102946</td>\n",
       "      <td>10.0</td>\n",
       "      <td>0.0</td>\n",
       "      <td>1.5</td>\n",
       "      <td>0</td>\n",
       "    </tr>\n",
       "    <tr>\n",
       "      <th>4</th>\n",
       "      <td>4</td>\n",
       "      <td>238.060021</td>\n",
       "      <td>0.111216</td>\n",
       "      <td>7.347711</td>\n",
       "      <td>51.0</td>\n",
       "      <td>0.0</td>\n",
       "      <td>1.0</td>\n",
       "      <td>0</td>\n",
       "    </tr>\n",
       "    <tr>\n",
       "      <th>5</th>\n",
       "      <td>5</td>\n",
       "      <td>16.600908</td>\n",
       "      <td>0.274299</td>\n",
       "      <td>0.294492</td>\n",
       "      <td>84.0</td>\n",
       "      <td>0.0</td>\n",
       "      <td>1.0</td>\n",
       "      <td>0</td>\n",
       "    </tr>\n",
       "  </tbody>\n",
       "</table>\n",
       "</div>"
      ],
      "text/plain": [
       "   block_id        area  current_living_area  current_industrial_area  \\\n",
       "0         0  273.897213             0.000000                 0.120807   \n",
       "1         1  279.537418             1.410618                 1.662523   \n",
       "3         3   26.805209             0.017208                 0.102946   \n",
       "4         4  238.060021             0.111216                 7.347711   \n",
       "5         5   16.600908             0.274299                 0.294492   \n",
       "\n",
       "   current_population  current_green_area  floors  population_unprov_schools  \n",
       "0                 0.0                 0.0     0.0                          0  \n",
       "1               703.0                 0.0     1.0                          0  \n",
       "3                10.0                 0.0     1.5                          0  \n",
       "4                51.0                 0.0     1.0                          0  \n",
       "5                84.0                 0.0     1.0                          0  "
      ]
     },
     "execution_count": 7,
     "metadata": {},
     "output_type": "execute_result"
    }
   ],
   "source": [
    "gdf_.head()"
   ]
  },
  {
   "cell_type": "code",
   "execution_count": 10,
   "metadata": {},
   "outputs": [
    {
     "name": "stderr",
     "output_type": "stream",
     "text": [
      "100%|██████████| 2006/2006 [00:00<00:00, 4698.35it/s]\n"
     ]
    }
   ],
   "source": [
    "from tqdm import tqdm\n",
    "tqdm.pandas()\n",
    "\n",
    "invalid_blocks = list()\n",
    "\n",
    "for block_id in tqdm(gdf_['block_id']):\n",
    "    try:\n",
    "        sample = gdf_.loc[block_id, :]\n",
    "        sample = sample.to_dict('records')\n",
    "        block = sample[0].copy()\n",
    "        mp = MasterPlan(area=block['area'], current_living_area=block['current_living_area'],\n",
    "                        current_industrial_area=block['current_industrial_area'],\n",
    "                        current_population=block['current_population'],\n",
    "                        current_green_area=block['current_green_area'],\n",
    "                        current_unprov_schoolkids=block['population_unprov_schools'],\n",
    "                        current_unprov_kids=block['population_unprov_kindergartens'],\n",
    "                        current_unprov_green_population=block['population_unprov_recreational_areas'])\n",
    "        mp.func()\n",
    "        res = mp.optimal_values(*mp.select_optimal())\n",
    "        res['block_id'] = block['block_id']\n",
    "    except Exception:\n",
    "        invalid_blocks.append(block_id)"
   ]
  },
  {
   "cell_type": "code",
   "execution_count": 12,
   "metadata": {},
   "outputs": [
    {
     "data": {
      "text/plain": [
       "2006"
      ]
     },
     "execution_count": 12,
     "metadata": {},
     "output_type": "execute_result"
    }
   ],
   "source": [
    "len(invalid_blocks)"
   ]
  }
 ],
 "metadata": {
  "kernelspec": {
   "display_name": "Python 3",
   "language": "python",
   "name": "python3"
  },
  "language_info": {
   "codemirror_mode": {
    "name": "ipython",
    "version": 3
   },
   "file_extension": ".py",
   "mimetype": "text/x-python",
   "name": "python",
   "nbconvert_exporter": "python",
   "pygments_lexer": "ipython3",
   "version": "3.8.10"
  },
  "orig_nbformat": 4
 },
 "nbformat": 4,
 "nbformat_minor": 2
}
