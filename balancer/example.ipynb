{
 "cells": [
  {
   "cell_type": "code",
   "execution_count": 1,
   "metadata": {
    "collapsed": false,
    "pycharm": {
     "name": "#%%\n"
    }
   },
   "outputs": [
    {
     "name": "stderr",
     "output_type": "stream",
     "text": [
      "/usr/local/lib/python3.8/dist-packages/geopandas/_compat.py:112: UserWarning: The Shapely GEOS version (3.10.3-CAPI-1.16.1) is incompatible with the GEOS version PyGEOS was compiled with (3.10.1-CAPI-1.16.0). Conversions between both will be slow.\n",
      "  warnings.warn(\n"
     ]
    }
   ],
   "source": [
    "import geopandas\n",
    "import pandas as pd\n",
    "from math import ceil\n",
    "from balancer import MasterPlan"
   ]
  },
  {
   "cell_type": "code",
   "execution_count": 15,
   "metadata": {
    "collapsed": false,
    "pycharm": {
     "name": "#%%\n"
    }
   },
   "outputs": [],
   "source": [
    "Hectare = 10000"
   ]
  },
  {
   "cell_type": "code",
   "execution_count": 4,
   "metadata": {
    "collapsed": false,
    "pycharm": {
     "name": "#%%\n"
    }
   },
   "outputs": [],
   "source": [
    "school = geopandas.read_parquet('../output_data/schools.parquet')\n",
    "kindergarten = geopandas.read_parquet('../output_data/kindergartens.parquet')\n",
    "greening = geopandas.read_parquet('../output_data/recreational_areas.parquet')"
   ]
  },
  {
   "cell_type": "code",
   "execution_count": 7,
   "metadata": {
    "collapsed": false,
    "pycharm": {
     "name": "#%%\n"
    }
   },
   "outputs": [],
   "source": [
    "gdf = geopandas.read_parquet('../output_data/GLEB_BLOCKS_AND_BUILDINGS_INFO_2.parquet')"
   ]
  },
  {
   "cell_type": "code",
   "execution_count": 11,
   "metadata": {},
   "outputs": [
    {
     "data": {
      "text/html": [
       "<div>\n",
       "<style scoped>\n",
       "    .dataframe tbody tr th:only-of-type {\n",
       "        vertical-align: middle;\n",
       "    }\n",
       "\n",
       "    .dataframe tbody tr th {\n",
       "        vertical-align: top;\n",
       "    }\n",
       "\n",
       "    .dataframe thead th {\n",
       "        text-align: right;\n",
       "    }\n",
       "</style>\n",
       "<table border=\"1\" class=\"dataframe\">\n",
       "  <thead>\n",
       "    <tr style=\"text-align: right;\">\n",
       "      <th></th>\n",
       "      <th>geometry</th>\n",
       "      <th>block_id</th>\n",
       "      <th>current_population</th>\n",
       "      <th>floors</th>\n",
       "      <th>current_living_area</th>\n",
       "      <th>current_green_capacity</th>\n",
       "      <th>current_green_area</th>\n",
       "      <th>current_parking_capacity</th>\n",
       "      <th>current_industrial_area</th>\n",
       "      <th>area</th>\n",
       "      <th>current_building_area</th>\n",
       "    </tr>\n",
       "  </thead>\n",
       "  <tbody>\n",
       "    <tr>\n",
       "      <th>0</th>\n",
       "      <td>POLYGON ((316983.653 6644038.696, 316986.485 6...</td>\n",
       "      <td>0</td>\n",
       "      <td>0.0</td>\n",
       "      <td>0.0</td>\n",
       "      <td>0.0000</td>\n",
       "      <td>1091.0</td>\n",
       "      <td>219008.0</td>\n",
       "      <td>237.0</td>\n",
       "      <td>1208.0720</td>\n",
       "      <td>2.738972e+06</td>\n",
       "      <td>1208.0720</td>\n",
       "    </tr>\n",
       "    <tr>\n",
       "      <th>1</th>\n",
       "      <td>POLYGON ((315287.843 6646411.375, 315288.850 6...</td>\n",
       "      <td>1</td>\n",
       "      <td>671.0</td>\n",
       "      <td>1.0</td>\n",
       "      <td>14106.1824</td>\n",
       "      <td>452.0</td>\n",
       "      <td>13070.0</td>\n",
       "      <td>0.0</td>\n",
       "      <td>16625.2319</td>\n",
       "      <td>2.795374e+06</td>\n",
       "      <td>30731.4143</td>\n",
       "    </tr>\n",
       "  </tbody>\n",
       "</table>\n",
       "</div>"
      ],
      "text/plain": [
       "                                            geometry  block_id  \\\n",
       "0  POLYGON ((316983.653 6644038.696, 316986.485 6...         0   \n",
       "1  POLYGON ((315287.843 6646411.375, 315288.850 6...         1   \n",
       "\n",
       "   current_population  floors  current_living_area  current_green_capacity  \\\n",
       "0                 0.0     0.0               0.0000                  1091.0   \n",
       "1               671.0     1.0           14106.1824                   452.0   \n",
       "\n",
       "   current_green_area  current_parking_capacity  current_industrial_area  \\\n",
       "0            219008.0                     237.0                1208.0720   \n",
       "1             13070.0                       0.0               16625.2319   \n",
       "\n",
       "           area  current_building_area  \n",
       "0  2.738972e+06              1208.0720  \n",
       "1  2.795374e+06             30731.4143  "
      ]
     },
     "execution_count": 11,
     "metadata": {},
     "output_type": "execute_result"
    }
   ],
   "source": [
    "gdf.head(2)"
   ]
  },
  {
   "cell_type": "code",
   "execution_count": 9,
   "metadata": {
    "collapsed": false,
    "pycharm": {
     "name": "#%%\n"
    }
   },
   "outputs": [],
   "source": [
    "gdf['current_building_area'] = gdf['current_living_area'] + gdf['current_industrial_area']"
   ]
  },
  {
   "cell_type": "code",
   "execution_count": 10,
   "metadata": {
    "collapsed": false,
    "pycharm": {
     "name": "#%%\n"
    }
   },
   "outputs": [],
   "source": [
    "gdf_ = gdf[['block_id', 'area', 'current_living_area', 'current_industrial_area',\n",
    "     'current_population', 'current_green_area', 'floors']]"
   ]
  },
  {
   "cell_type": "code",
   "execution_count": 12,
   "metadata": {
    "collapsed": false,
    "pycharm": {
     "name": "#%%\n"
    }
   },
   "outputs": [],
   "source": [
    "gdf_ = gdf_.merge(school[['id', 'population_unprov_schools']], left_on='block_id', right_on='id').merge(kindergarten[['id', 'population_unprov_kindergartens']], left_on='block_id', right_on='id').merge(greening[['id', 'population_unprov_recreational_areas']], left_on='block_id', right_on='id')"
   ]
  },
  {
   "cell_type": "code",
   "execution_count": 13,
   "metadata": {
    "collapsed": false,
    "pycharm": {
     "name": "#%%\n"
    }
   },
   "outputs": [],
   "source": [
    "gdf_.drop(['id_x', 'id_y', 'id'], axis=1, inplace=True)"
   ]
  },
  {
   "cell_type": "code",
   "execution_count": 16,
   "metadata": {
    "collapsed": false,
    "pycharm": {
     "name": "#%%\n"
    }
   },
   "outputs": [],
   "source": [
    "gdf_['area'] = gdf_['area']/Hectare\n",
    "gdf_['current_living_area'] = gdf_['current_living_area']/Hectare\n",
    "gdf_['current_industrial_area'] = gdf_['current_industrial_area']/Hectare\n",
    "gdf_['current_green_area'] = gdf_['current_green_area']/Hectare"
   ]
  },
  {
   "cell_type": "code",
   "execution_count": 22,
   "metadata": {
    "collapsed": false,
    "pycharm": {
     "name": "#%%\n"
    }
   },
   "outputs": [
    {
     "data": {
      "text/plain": [
       "{'block_id': 2157,\n",
       " 'area': 269.91357042657916,\n",
       " 'current_living_area': 14.3349511,\n",
       " 'current_industrial_area': 10.115001506,\n",
       " 'current_population': 28909.0,\n",
       " 'current_green_area': 24.4459,\n",
       " 'floors': 0.0,\n",
       " 'population_unprov_schools': 0,\n",
       " 'population_unprov_kindergartens': 0,\n",
       " 'population_unprov_recreational_areas': 0}"
      ]
     },
     "execution_count": 22,
     "metadata": {},
     "output_type": "execute_result"
    }
   ],
   "source": [
    "# sample = gdf_[gdf_['current_population']!=0].sample()\n",
    "sample = gdf_[gdf_['area']>10].sample()\n",
    "sample = sample.to_dict('records')\n",
    "block = sample[0].copy()\n",
    "block"
   ]
  },
  {
   "cell_type": "code",
   "execution_count": 23,
   "metadata": {
    "collapsed": false,
    "pycharm": {
     "name": "#%%\n"
    }
   },
   "outputs": [],
   "source": [
    "\n",
    "\n",
    "mp = MasterPlan(area=block['area'], current_living_area=block['current_living_area'],\n",
    "                current_industrial_area=block['current_industrial_area'],\n",
    "                current_population=block['current_population'],\n",
    "                current_green_area=block['current_green_area'],\n",
    "                current_unprov_schoolkids=block['population_unprov_schools'],\n",
    "                current_unprov_kids=block['population_unprov_kindergartens'],\n",
    "                current_unprov_green_population=block['population_unprov_recreational_areas'])"
   ]
  },
  {
   "cell_type": "code",
   "execution_count": 24,
   "metadata": {
    "collapsed": false,
    "pycharm": {
     "name": "#%%\n"
    }
   },
   "outputs": [
    {
     "name": "stderr",
     "output_type": "stream",
     "text": [
      "/home/gk/jupyter/masterplanning/balancer/balancer.py:154: FutureWarning: The frame.append method is deprecated and will be removed from pandas in a future version. Use pandas.concat instead.\n",
      "  self.results = self.results.append(temp_result, ignore_index=True)\n",
      "/home/gk/jupyter/masterplanning/balancer/balancer.py:154: FutureWarning: The frame.append method is deprecated and will be removed from pandas in a future version. Use pandas.concat instead.\n",
      "  self.results = self.results.append(temp_result, ignore_index=True)\n",
      "/home/gk/jupyter/masterplanning/balancer/balancer.py:154: FutureWarning: The frame.append method is deprecated and will be removed from pandas in a future version. Use pandas.concat instead.\n",
      "  self.results = self.results.append(temp_result, ignore_index=True)\n",
      "/home/gk/jupyter/masterplanning/balancer/balancer.py:154: FutureWarning: The frame.append method is deprecated and will be removed from pandas in a future version. Use pandas.concat instead.\n",
      "  self.results = self.results.append(temp_result, ignore_index=True)\n",
      "/home/gk/jupyter/masterplanning/balancer/balancer.py:154: FutureWarning: The frame.append method is deprecated and will be removed from pandas in a future version. Use pandas.concat instead.\n",
      "  self.results = self.results.append(temp_result, ignore_index=True)\n"
     ]
    }
   ],
   "source": [
    "mp.func()"
   ]
  },
  {
   "cell_type": "code",
   "execution_count": 25,
   "metadata": {
    "collapsed": false,
    "pycharm": {
     "name": "#%%\n"
    }
   },
   "outputs": [
    {
     "data": {
      "text/html": [
       "<div>\n",
       "<style scoped>\n",
       "    .dataframe tbody tr th:only-of-type {\n",
       "        vertical-align: middle;\n",
       "    }\n",
       "\n",
       "    .dataframe tbody tr th {\n",
       "        vertical-align: top;\n",
       "    }\n",
       "\n",
       "    .dataframe thead th {\n",
       "        text-align: right;\n",
       "    }\n",
       "</style>\n",
       "<table border=\"1\" class=\"dataframe\">\n",
       "  <thead>\n",
       "    <tr style=\"text-align: right;\">\n",
       "      <th></th>\n",
       "      <th>fun</th>\n",
       "      <th>x</th>\n",
       "    </tr>\n",
       "  </thead>\n",
       "  <tbody>\n",
       "    <tr>\n",
       "      <th>0</th>\n",
       "      <td>240.479207</td>\n",
       "      <td>[3607.467804926194, 0.003, 0.0006]</td>\n",
       "    </tr>\n",
       "    <tr>\n",
       "      <th>1</th>\n",
       "      <td>231.497184</td>\n",
       "      <td>[4806.029667247868, 0.003, 0.0006]</td>\n",
       "    </tr>\n",
       "    <tr>\n",
       "      <th>2</th>\n",
       "      <td>180.379970</td>\n",
       "      <td>[11266.826824031874, 0.003, 0.0009]</td>\n",
       "    </tr>\n",
       "    <tr>\n",
       "      <th>3</th>\n",
       "      <td>130.922326</td>\n",
       "      <td>[20637.3125, 0.0024000000000000002, 0.0009]</td>\n",
       "    </tr>\n",
       "    <tr>\n",
       "      <th>4</th>\n",
       "      <td>-43.067800</td>\n",
       "      <td>[39359.67039896645, 0.003, 0.0007684448570410059]</td>\n",
       "    </tr>\n",
       "  </tbody>\n",
       "</table>\n",
       "</div>"
      ],
      "text/plain": [
       "          fun                                                  x\n",
       "0  240.479207                 [3607.467804926194, 0.003, 0.0006]\n",
       "1  231.497184                 [4806.029667247868, 0.003, 0.0006]\n",
       "2  180.379970                [11266.826824031874, 0.003, 0.0009]\n",
       "3  130.922326        [20637.3125, 0.0024000000000000002, 0.0009]\n",
       "4  -43.067800  [39359.67039896645, 0.003, 0.0007684448570410059]"
      ]
     },
     "execution_count": 25,
     "metadata": {},
     "output_type": "execute_result"
    }
   ],
   "source": [
    "mp.results[['fun', 'x']]"
   ]
  },
  {
   "cell_type": "code",
   "execution_count": 26,
   "metadata": {
    "collapsed": false,
    "pycharm": {
     "name": "#%%\n"
    }
   },
   "outputs": [
    {
     "data": {
      "text/plain": [
       "{'area': 269.91357042657916,\n",
       " 'population': 49547.0,\n",
       " 'b': 24.000000000000004,\n",
       " 'green_coef_G': 9.0,\n",
       " 'living_area': 63.8661511,\n",
       " 'school_area': 4.7,\n",
       " 'school_capacity': 2500,\n",
       " 'kindergarten_area': 4.4,\n",
       " 'kindergarten_capacity': 1120,\n",
       " 'green_area': 43.0201,\n",
       " 'G_min_capacity': 71700.16666666667,\n",
       " 'G_max_capacity': 35850.083333333336,\n",
       " 'green_coef_G_capacity': 47800.11111111111,\n",
       " 'op_area': 0.061914000000000004,\n",
       " 'parking1_area': 15.602328000000002,\n",
       " 'parking2_area': 15.16893,\n",
       " 'block_id': 2157}"
      ]
     },
     "execution_count": 26,
     "metadata": {},
     "output_type": "execute_result"
    }
   ],
   "source": [
    "res = mp.optimal_values(*mp.select_optimal())\n",
    "res['block_id'] = block['block_id']\n",
    "res"
   ]
  },
  {
   "cell_type": "code",
   "execution_count": 27,
   "metadata": {},
   "outputs": [],
   "source": [
    "import pickle\n",
    "\n",
    "with open('../output_data/balanced_result_block.pkl', 'wb') as f:\n",
    "    pickle.dump(res, f)"
   ]
  },
  {
   "cell_type": "code",
   "execution_count": 28,
   "metadata": {
    "collapsed": false,
    "pycharm": {
     "name": "#%%\n"
    }
   },
   "outputs": [
    {
     "data": {
      "text/plain": [
       "{'block_id': 2157,\n",
       " 'area': 269.91357042657916,\n",
       " 'current_living_area': 14.3349511,\n",
       " 'current_industrial_area': 10.115001506,\n",
       " 'current_population': 28909.0,\n",
       " 'current_green_area': 24.4459,\n",
       " 'floors': 0.0,\n",
       " 'population_unprov_schools': 0,\n",
       " 'population_unprov_kindergartens': 0,\n",
       " 'population_unprov_recreational_areas': 0}"
      ]
     },
     "execution_count": 28,
     "metadata": {},
     "output_type": "execute_result"
    }
   ],
   "source": [
    "block"
   ]
  },
  {
   "cell_type": "code",
   "execution_count": 15,
   "metadata": {
    "collapsed": false,
    "pycharm": {
     "name": "#%%\n"
    }
   },
   "outputs": [],
   "source": []
  },
  {
   "cell_type": "code",
   "execution_count": null,
   "metadata": {},
   "outputs": [],
   "source": []
  }
 ],
 "metadata": {
  "kernelspec": {
   "display_name": "Python 3",
   "language": "python",
   "name": "python3"
  },
  "language_info": {
   "codemirror_mode": {
    "name": "ipython",
    "version": 3
   },
   "file_extension": ".py",
   "mimetype": "text/x-python",
   "name": "python",
   "nbconvert_exporter": "python",
   "pygments_lexer": "ipython3",
   "version": "3.8.10"
  }
 },
 "nbformat": 4,
 "nbformat_minor": 0
}
