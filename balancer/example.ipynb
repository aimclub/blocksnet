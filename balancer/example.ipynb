{
 "cells": [
  {
   "cell_type": "code",
   "execution_count": 8,
   "outputs": [],
   "source": [
    "import geopandas\n",
    "import pandas as pd\n",
    "from math import ceil\n",
    "from balancer import MasterPlan"
   ],
   "metadata": {
    "collapsed": false,
    "pycharm": {
     "name": "#%%\n"
    }
   }
  },
  {
   "cell_type": "code",
   "execution_count": 9,
   "outputs": [],
   "source": [
    "Hectare = 10000"
   ],
   "metadata": {
    "collapsed": false,
    "pycharm": {
     "name": "#%%\n"
    }
   }
  },
  {
   "cell_type": "code",
   "execution_count": 10,
   "outputs": [],
   "source": [
    "school = geopandas.read_file('../data/school.gepjson')\n",
    "kindergarten = geopandas.read_file('../data/kindergarten.gepjson')\n",
    "greening = geopandas.read_file('../data/greening.gepjson')"
   ],
   "metadata": {
    "collapsed": false,
    "pycharm": {
     "name": "#%%\n"
    }
   }
  },
  {
   "cell_type": "code",
   "execution_count": 11,
   "outputs": [],
   "source": [
    "gdf = geopandas.read_parquet('../data/BLOCKS_AND_BUILDINGS_INFO.parquet')"
   ],
   "metadata": {
    "collapsed": false,
    "pycharm": {
     "name": "#%%\n"
    }
   }
  },
  {
   "cell_type": "code",
   "execution_count": 12,
   "outputs": [],
   "source": [
    "gdf['current_building_area'] = gdf['current_living_area'] + gdf['current_industrial_area']"
   ],
   "metadata": {
    "collapsed": false,
    "pycharm": {
     "name": "#%%\n"
    }
   }
  },
  {
   "cell_type": "code",
   "execution_count": 13,
   "outputs": [],
   "source": [
    "gdf_ = gdf[['block_id', 'area', 'current_living_area', 'current_industrial_area',\n",
    "     'current_population', 'current_green_area', 'floors']]"
   ],
   "metadata": {
    "collapsed": false,
    "pycharm": {
     "name": "#%%\n"
    }
   }
  },
  {
   "cell_type": "code",
   "execution_count": 15,
   "outputs": [],
   "source": [
    "gdf_ = gdf_.merge(school[['id', 'population_unprov_Школа']], left_on='block_id', right_on='id').merge(kindergarten[['id', 'population_unprov_Детский сад']], left_on='block_id', right_on='id').merge(greening[['id', 'population_unprov_Рекреационная зона']], left_on='block_id', right_on='id')"
   ],
   "metadata": {
    "collapsed": false,
    "pycharm": {
     "name": "#%%\n"
    }
   }
  },
  {
   "cell_type": "code",
   "execution_count": 16,
   "outputs": [],
   "source": [
    "gdf_.drop(['id_x', 'id_y', 'id'], axis=1, inplace=True)"
   ],
   "metadata": {
    "collapsed": false,
    "pycharm": {
     "name": "#%%\n"
    }
   }
  },
  {
   "cell_type": "code",
   "execution_count": 17,
   "outputs": [],
   "source": [
    "gdf_['area'] = gdf_['area']/Hectare\n",
    "gdf_['current_living_area'] = gdf_['current_living_area']/Hectare\n",
    "gdf_['current_industrial_area'] = gdf_['current_industrial_area']/Hectare\n",
    "gdf_['current_green_area'] = gdf_['current_green_area']/Hectare"
   ],
   "metadata": {
    "collapsed": false,
    "pycharm": {
     "name": "#%%\n"
    }
   }
  },
  {
   "cell_type": "code",
   "execution_count": 18,
   "outputs": [],
   "source": [
    "sample = gdf_.sample()\n",
    "sample = sample.to_dict('records')"
   ],
   "metadata": {
    "collapsed": false,
    "pycharm": {
     "name": "#%%\n"
    }
   }
  },
  {
   "cell_type": "code",
   "execution_count": 19,
   "outputs": [],
   "source": [
    "mp = MasterPlan(area=sample[0]['area'], current_living_area=sample[0]['current_living_area'],\n",
    "                current_industrial_area=sample[0]['current_industrial_area'],\n",
    "                current_population=sample[0]['current_population'],\n",
    "                current_green_area=sample[0]['current_green_area'],\n",
    "                current_unprov_schoolkids=sample[0]['population_unprov_Школа'],\n",
    "                current_unprov_kids=sample[0]['population_unprov_Детский сад'],\n",
    "                current_unprov_green_population=sample[0]['population_unprov_Рекреационная зона'])"
   ],
   "metadata": {
    "collapsed": false,
    "pycharm": {
     "name": "#%%\n"
    }
   }
  },
  {
   "cell_type": "code",
   "execution_count": 20,
   "outputs": [],
   "source": [
    "mp.func()"
   ],
   "metadata": {
    "collapsed": false,
    "pycharm": {
     "name": "#%%\n"
    }
   }
  },
  {
   "cell_type": "code",
   "execution_count": 24,
   "outputs": [
    {
     "data": {
      "text/plain": "        fun                                                  x\n0  4.065605  [612.8369543413284, 0.0029999177035257975, 0.0...\n1  4.065626  [612.8369071743484, 0.0029999007077349234, 0.0...\n2  4.065504                 [612.8369754249721, 0.003, 0.0009]\n3  4.065504                 [612.8369043216663, 0.003, 0.0009]\n4  4.065504                  [612.836944294888, 0.003, 0.0012]",
      "text/html": "<div>\n<style scoped>\n    .dataframe tbody tr th:only-of-type {\n        vertical-align: middle;\n    }\n\n    .dataframe tbody tr th {\n        vertical-align: top;\n    }\n\n    .dataframe thead th {\n        text-align: right;\n    }\n</style>\n<table border=\"1\" class=\"dataframe\">\n  <thead>\n    <tr style=\"text-align: right;\">\n      <th></th>\n      <th>fun</th>\n      <th>x</th>\n    </tr>\n  </thead>\n  <tbody>\n    <tr>\n      <th>0</th>\n      <td>4.065605</td>\n      <td>[612.8369543413284, 0.0029999177035257975, 0.0...</td>\n    </tr>\n    <tr>\n      <th>1</th>\n      <td>4.065626</td>\n      <td>[612.8369071743484, 0.0029999007077349234, 0.0...</td>\n    </tr>\n    <tr>\n      <th>2</th>\n      <td>4.065504</td>\n      <td>[612.8369754249721, 0.003, 0.0009]</td>\n    </tr>\n    <tr>\n      <th>3</th>\n      <td>4.065504</td>\n      <td>[612.8369043216663, 0.003, 0.0009]</td>\n    </tr>\n    <tr>\n      <th>4</th>\n      <td>4.065504</td>\n      <td>[612.836944294888, 0.003, 0.0012]</td>\n    </tr>\n  </tbody>\n</table>\n</div>"
     },
     "execution_count": 24,
     "metadata": {},
     "output_type": "execute_result"
    }
   ],
   "source": [
    "mp.results[['fun', 'x']]"
   ],
   "metadata": {
    "collapsed": false,
    "pycharm": {
     "name": "#%%\n"
    }
   }
  },
  {
   "cell_type": "code",
   "execution_count": 22,
   "outputs": [
    {
     "data": {
      "text/plain": "{'area': 8.65810410856975,\n 'population': 624.0,\n 'b': 30.0,\n 'green_coef': 9.0,\n 'living_area': 1.839,\n 'sc_area': 0,\n 'kg_area': 0,\n 'green_area': 0.5517,\n 'op_area': 0.0018390000000000001,\n 'parking1_area': 0.463428,\n 'parking2_area': 0.450555}"
     },
     "execution_count": 22,
     "metadata": {},
     "output_type": "execute_result"
    }
   ],
   "source": [
    "mp.optimal_values(*mp.select_optimal())"
   ],
   "metadata": {
    "collapsed": false,
    "pycharm": {
     "name": "#%%\n"
    }
   }
  },
  {
   "cell_type": "code",
   "execution_count": 23,
   "outputs": [
    {
     "data": {
      "text/plain": "{'block_id': 3087,\n 'area': 8.65810410856975,\n 'current_living_area': 0.0,\n 'current_industrial_area': 1.2519306399999999,\n 'current_population': 11.0,\n 'current_green_area': 0.0,\n 'floors': 2.0,\n 'population_unprov_Школа': 0,\n 'population_unprov_Детский сад': 0,\n 'population_unprov_Рекреационная зона': 0}"
     },
     "execution_count": 23,
     "metadata": {},
     "output_type": "execute_result"
    }
   ],
   "source": [
    "sample[0]"
   ],
   "metadata": {
    "collapsed": false,
    "pycharm": {
     "name": "#%%\n"
    }
   }
  },
  {
   "cell_type": "code",
   "execution_count": null,
   "outputs": [],
   "source": [],
   "metadata": {
    "collapsed": false,
    "pycharm": {
     "name": "#%%\n"
    }
   }
  },
  {
   "cell_type": "code",
   "execution_count": null,
   "outputs": [],
   "source": [],
   "metadata": {
    "collapsed": false,
    "pycharm": {
     "name": "#%%\n"
    }
   }
  },
  {
   "cell_type": "code",
   "execution_count": null,
   "outputs": [],
   "source": [],
   "metadata": {
    "collapsed": false,
    "pycharm": {
     "name": "#%%\n"
    }
   }
  },
  {
   "cell_type": "code",
   "execution_count": null,
   "outputs": [],
   "source": [],
   "metadata": {
    "collapsed": false,
    "pycharm": {
     "name": "#%%\n"
    }
   }
  },
  {
   "cell_type": "code",
   "execution_count": null,
   "outputs": [],
   "source": [],
   "metadata": {
    "collapsed": false,
    "pycharm": {
     "name": "#%%\n"
    }
   }
  },
  {
   "cell_type": "code",
   "execution_count": null,
   "outputs": [],
   "source": [],
   "metadata": {
    "collapsed": false,
    "pycharm": {
     "name": "#%%\n"
    }
   }
  },
  {
   "cell_type": "code",
   "execution_count": null,
   "outputs": [],
   "source": [],
   "metadata": {
    "collapsed": false,
    "pycharm": {
     "name": "#%%\n"
    }
   }
  },
  {
   "cell_type": "code",
   "execution_count": null,
   "outputs": [],
   "source": [],
   "metadata": {
    "collapsed": false,
    "pycharm": {
     "name": "#%%\n"
    }
   }
  }
 ],
 "metadata": {
  "kernelspec": {
   "display_name": "Python 3",
   "language": "python",
   "name": "python3"
  },
  "language_info": {
   "codemirror_mode": {
    "name": "ipython",
    "version": 2
   },
   "file_extension": ".py",
   "mimetype": "text/x-python",
   "name": "python",
   "nbconvert_exporter": "python",
   "pygments_lexer": "ipython2",
   "version": "2.7.6"
  }
 },
 "nbformat": 4,
 "nbformat_minor": 0
}